{
 "cells": [
  {
   "cell_type": "code",
   "execution_count": 94,
   "id": "2072450c",
   "metadata": {},
   "outputs": [],
   "source": [
    "# 라이브러리\n",
    "import random\n",
    "import datetime\n",
    "import pandas as pd\n",
    "import numpy as np\n",
    "import matplotlib.pyplot as plt\n",
    "from tqdm import tqdm\n",
    "from numpy.random import randint, rand\n",
    "import pickle"
   ]
  },
  {
   "cell_type": "code",
   "execution_count": 95,
   "id": "b0d73b27",
   "metadata": {},
   "outputs": [],
   "source": [
    "# 데이터 불러오기\n",
    "machine_info = pd.read_csv(\"./data/machine_info.csv\")\n",
    "order_info = pd.read_csv(\"./data/order_info.csv\")\n",
    "# order_info_nl = pd.read_csv(\"./data/order_info_nl.csv\", header=None)\n",
    "# order_info_nl_eng = pd.read_csv(\"./data/order_info_nl_eng.csv\")"
   ]
  },
  {
   "cell_type": "code",
   "execution_count": 96,
   "id": "afc05ba3",
   "metadata": {},
   "outputs": [],
   "source": [
    "# 전처리 (1): column name 변경\n",
    "order_info = order_info.rename(columns={\n",
    "    '영업납기': 'time',\n",
    "    '중산도면': 'item',\n",
    "    '단가': 'cost',\n",
    "    '수량': 'qty',\n",
    "    '선급': 'urgent'\n",
    "})\n",
    "\n",
    "machine_info = machine_info.rename(columns={\n",
    "    'JSDWG': 'item',\n",
    "    'MCNO': 'machine',\n",
    "    'AVG_CT': 'capacity'\n",
    "})"
   ]
  },
  {
   "cell_type": "code",
   "execution_count": 97,
   "id": "795c5882",
   "metadata": {},
   "outputs": [],
   "source": [
    "# 머신인포 dropna, 4자리 숫자 문자열로 변환\n",
    "machine_info.dropna(inplace=True)\n",
    "machine_info['machine'] = machine_info['machine'].apply(lambda x: str(int(x)).zfill(4))"
   ]
  },
  {
   "cell_type": "code",
   "execution_count": 98,
   "id": "f9ab78be",
   "metadata": {},
   "outputs": [
    {
     "data": {
      "text/plain": [
       "'item87'"
      ]
     },
     "execution_count": 98,
     "metadata": {},
     "output_type": "execute_result"
    }
   ],
   "source": [
    "# 아이템 -> item01\n",
    "unique_items = sorted(order_info['item'].unique(), reverse=True)\n",
    "\n",
    "items_mapping = {\n",
    "        item: f\"item{str(i+1).zfill(2)}\"\n",
    "        for i, item in enumerate(unique_items)\n",
    "    }\n",
    "\n",
    "def change_item_name(target):\n",
    "    result = str(target)\n",
    "    for k, v in items_mapping.items():\n",
    "        result = result.replace(k, v)\n",
    "\n",
    "    return result\n",
    "\n",
    "change_item_name('057791')"
   ]
  },
  {
   "cell_type": "code",
   "execution_count": 99,
   "id": "d42d5515",
   "metadata": {},
   "outputs": [
    {
     "data": {
      "application/vnd.microsoft.datawrangler.viewer.v0+json": {
       "columns": [
        {
         "name": "index",
         "rawType": "int64",
         "type": "integer"
        },
        {
         "name": "item",
         "rawType": "object",
         "type": "string"
        },
        {
         "name": "machine",
         "rawType": "object",
         "type": "string"
        },
        {
         "name": "capacity",
         "rawType": "float64",
         "type": "float"
        }
       ],
       "ref": "6eb5fd93-3a49-49da-a598-5ba932353c37",
       "rows": [
        [
         "897",
         "item96",
         "0408",
         "4.89"
        ],
        [
         "898",
         "item96",
         "0409",
         "5.92"
        ],
        [
         "899",
         "item96",
         "0410",
         "4.91"
        ],
        [
         "900",
         "item96",
         "0412",
         "3.5"
        ],
        [
         "901",
         "item96",
         "0416",
         "1.03"
        ]
       ],
       "shape": {
        "columns": 3,
        "rows": 5
       }
      },
      "text/html": [
       "<div>\n",
       "<style scoped>\n",
       "    .dataframe tbody tr th:only-of-type {\n",
       "        vertical-align: middle;\n",
       "    }\n",
       "\n",
       "    .dataframe tbody tr th {\n",
       "        vertical-align: top;\n",
       "    }\n",
       "\n",
       "    .dataframe thead th {\n",
       "        text-align: right;\n",
       "    }\n",
       "</style>\n",
       "<table border=\"1\" class=\"dataframe\">\n",
       "  <thead>\n",
       "    <tr style=\"text-align: right;\">\n",
       "      <th></th>\n",
       "      <th>item</th>\n",
       "      <th>machine</th>\n",
       "      <th>capacity</th>\n",
       "    </tr>\n",
       "  </thead>\n",
       "  <tbody>\n",
       "    <tr>\n",
       "      <th>897</th>\n",
       "      <td>item96</td>\n",
       "      <td>0408</td>\n",
       "      <td>4.89</td>\n",
       "    </tr>\n",
       "    <tr>\n",
       "      <th>898</th>\n",
       "      <td>item96</td>\n",
       "      <td>0409</td>\n",
       "      <td>5.92</td>\n",
       "    </tr>\n",
       "    <tr>\n",
       "      <th>899</th>\n",
       "      <td>item96</td>\n",
       "      <td>0410</td>\n",
       "      <td>4.91</td>\n",
       "    </tr>\n",
       "    <tr>\n",
       "      <th>900</th>\n",
       "      <td>item96</td>\n",
       "      <td>0412</td>\n",
       "      <td>3.50</td>\n",
       "    </tr>\n",
       "    <tr>\n",
       "      <th>901</th>\n",
       "      <td>item96</td>\n",
       "      <td>0416</td>\n",
       "      <td>1.03</td>\n",
       "    </tr>\n",
       "  </tbody>\n",
       "</table>\n",
       "</div>"
      ],
      "text/plain": [
       "       item machine  capacity\n",
       "897  item96    0408      4.89\n",
       "898  item96    0409      5.92\n",
       "899  item96    0410      4.91\n",
       "900  item96    0412      3.50\n",
       "901  item96    0416      1.03"
      ]
     },
     "execution_count": 99,
     "metadata": {},
     "output_type": "execute_result"
    }
   ],
   "source": [
    "machine_info['item'] = machine_info['item'].apply(change_item_name)\n",
    "cond = machine_info['item'].isin(items_mapping.values())\n",
    "machine_info[cond].head()"
   ]
  },
  {
   "cell_type": "code",
   "execution_count": 100,
   "id": "afffb163",
   "metadata": {},
   "outputs": [
    {
     "data": {
      "application/vnd.microsoft.datawrangler.viewer.v0+json": {
       "columns": [
        {
         "name": "index",
         "rawType": "int64",
         "type": "integer"
        },
        {
         "name": "time",
         "rawType": "object",
         "type": "string"
        },
        {
         "name": "item",
         "rawType": "object",
         "type": "string"
        },
        {
         "name": "cost",
         "rawType": "int64",
         "type": "integer"
        },
        {
         "name": "qty",
         "rawType": "int64",
         "type": "integer"
        },
        {
         "name": "urgent",
         "rawType": "object",
         "type": "unknown"
        }
       ],
       "ref": "02c9c7da-59db-43da-ae84-38cb0dd151fd",
       "rows": [
        [
         "0",
         "2021-05-13",
         "item15",
         "25870",
         "318",
         "검사품"
        ],
        [
         "1",
         "2021-05-24",
         "item16",
         "16229",
         "383",
         "검사품"
        ],
        [
         "2",
         "2021-05-30",
         "item96",
         "8333",
         "19",
         null
        ],
        [
         "3",
         "2021-06-03",
         "item91",
         "36533",
         "4",
         null
        ],
        [
         "4",
         "2021-06-18",
         "item87",
         "45500",
         "196",
         "검사품"
        ]
       ],
       "shape": {
        "columns": 5,
        "rows": 5
       }
      },
      "text/html": [
       "<div>\n",
       "<style scoped>\n",
       "    .dataframe tbody tr th:only-of-type {\n",
       "        vertical-align: middle;\n",
       "    }\n",
       "\n",
       "    .dataframe tbody tr th {\n",
       "        vertical-align: top;\n",
       "    }\n",
       "\n",
       "    .dataframe thead th {\n",
       "        text-align: right;\n",
       "    }\n",
       "</style>\n",
       "<table border=\"1\" class=\"dataframe\">\n",
       "  <thead>\n",
       "    <tr style=\"text-align: right;\">\n",
       "      <th></th>\n",
       "      <th>time</th>\n",
       "      <th>item</th>\n",
       "      <th>cost</th>\n",
       "      <th>qty</th>\n",
       "      <th>urgent</th>\n",
       "    </tr>\n",
       "  </thead>\n",
       "  <tbody>\n",
       "    <tr>\n",
       "      <th>0</th>\n",
       "      <td>2021-05-13</td>\n",
       "      <td>item15</td>\n",
       "      <td>25870</td>\n",
       "      <td>318</td>\n",
       "      <td>검사품</td>\n",
       "    </tr>\n",
       "    <tr>\n",
       "      <th>1</th>\n",
       "      <td>2021-05-24</td>\n",
       "      <td>item16</td>\n",
       "      <td>16229</td>\n",
       "      <td>383</td>\n",
       "      <td>검사품</td>\n",
       "    </tr>\n",
       "    <tr>\n",
       "      <th>2</th>\n",
       "      <td>2021-05-30</td>\n",
       "      <td>item96</td>\n",
       "      <td>8333</td>\n",
       "      <td>19</td>\n",
       "      <td>NaN</td>\n",
       "    </tr>\n",
       "    <tr>\n",
       "      <th>3</th>\n",
       "      <td>2021-06-03</td>\n",
       "      <td>item91</td>\n",
       "      <td>36533</td>\n",
       "      <td>4</td>\n",
       "      <td>NaN</td>\n",
       "    </tr>\n",
       "    <tr>\n",
       "      <th>4</th>\n",
       "      <td>2021-06-18</td>\n",
       "      <td>item87</td>\n",
       "      <td>45500</td>\n",
       "      <td>196</td>\n",
       "      <td>검사품</td>\n",
       "    </tr>\n",
       "  </tbody>\n",
       "</table>\n",
       "</div>"
      ],
      "text/plain": [
       "         time    item   cost  qty urgent\n",
       "0  2021-05-13  item15  25870  318    검사품\n",
       "1  2021-05-24  item16  16229  383    검사품\n",
       "2  2021-05-30  item96   8333   19    NaN\n",
       "3  2021-06-03  item91  36533    4    NaN\n",
       "4  2021-06-18  item87  45500  196    검사품"
      ]
     },
     "execution_count": 100,
     "metadata": {},
     "output_type": "execute_result"
    }
   ],
   "source": [
    "order_info['item'] = order_info['item'].apply(change_item_name)\n",
    "order_info.head()"
   ]
  },
  {
   "cell_type": "code",
   "execution_count": 101,
   "id": "b94c3377",
   "metadata": {},
   "outputs": [
    {
     "data": {
      "text/plain": [
       "'machine19'"
      ]
     },
     "execution_count": 101,
     "metadata": {},
     "output_type": "execute_result"
    }
   ],
   "source": [
    "# machine -> machine01\n",
    "unique_machines = sorted(machine_info['machine'].dropna().unique())\n",
    "\n",
    "machines_mapping = {\n",
    "        machine: f\"machine{str(i+1).zfill(2)}\"\n",
    "        for i, machine in enumerate(unique_machines)\n",
    "    }\n",
    "\n",
    "def change_machine_name(target):\n",
    "    result = str(target)\n",
    "    for k, v in machines_mapping.items():\n",
    "        result = result.replace(k, v)\n",
    "\n",
    "    return result\n",
    "\n",
    "change_machine_name('0421')"
   ]
  },
  {
   "cell_type": "code",
   "execution_count": 102,
   "id": "54a1ad88",
   "metadata": {},
   "outputs": [
    {
     "data": {
      "application/vnd.microsoft.datawrangler.viewer.v0+json": {
       "columns": [
        {
         "name": "index",
         "rawType": "int64",
         "type": "integer"
        },
        {
         "name": "item",
         "rawType": "object",
         "type": "string"
        },
        {
         "name": "machine",
         "rawType": "object",
         "type": "string"
        },
        {
         "name": "capacity",
         "rawType": "float64",
         "type": "float"
        }
       ],
       "ref": "bbb8d278-e44d-4a91-b420-c014bacec311",
       "rows": [
        [
         "0",
         "050060",
         "machine28",
         "1.08"
        ],
        [
         "1",
         "050093",
         "machine04",
         "7.13"
        ],
        [
         "2",
         "050093",
         "machine08",
         "4.67"
        ],
        [
         "3",
         "050093",
         "machine10",
         "4.5"
        ],
        [
         "4",
         "050093",
         "machine14",
         "3.92"
        ]
       ],
       "shape": {
        "columns": 3,
        "rows": 5
       }
      },
      "text/html": [
       "<div>\n",
       "<style scoped>\n",
       "    .dataframe tbody tr th:only-of-type {\n",
       "        vertical-align: middle;\n",
       "    }\n",
       "\n",
       "    .dataframe tbody tr th {\n",
       "        vertical-align: top;\n",
       "    }\n",
       "\n",
       "    .dataframe thead th {\n",
       "        text-align: right;\n",
       "    }\n",
       "</style>\n",
       "<table border=\"1\" class=\"dataframe\">\n",
       "  <thead>\n",
       "    <tr style=\"text-align: right;\">\n",
       "      <th></th>\n",
       "      <th>item</th>\n",
       "      <th>machine</th>\n",
       "      <th>capacity</th>\n",
       "    </tr>\n",
       "  </thead>\n",
       "  <tbody>\n",
       "    <tr>\n",
       "      <th>0</th>\n",
       "      <td>050060</td>\n",
       "      <td>machine28</td>\n",
       "      <td>1.08</td>\n",
       "    </tr>\n",
       "    <tr>\n",
       "      <th>1</th>\n",
       "      <td>050093</td>\n",
       "      <td>machine04</td>\n",
       "      <td>7.13</td>\n",
       "    </tr>\n",
       "    <tr>\n",
       "      <th>2</th>\n",
       "      <td>050093</td>\n",
       "      <td>machine08</td>\n",
       "      <td>4.67</td>\n",
       "    </tr>\n",
       "    <tr>\n",
       "      <th>3</th>\n",
       "      <td>050093</td>\n",
       "      <td>machine10</td>\n",
       "      <td>4.50</td>\n",
       "    </tr>\n",
       "    <tr>\n",
       "      <th>4</th>\n",
       "      <td>050093</td>\n",
       "      <td>machine14</td>\n",
       "      <td>3.92</td>\n",
       "    </tr>\n",
       "  </tbody>\n",
       "</table>\n",
       "</div>"
      ],
      "text/plain": [
       "     item    machine  capacity\n",
       "0  050060  machine28      1.08\n",
       "1  050093  machine04      7.13\n",
       "2  050093  machine08      4.67\n",
       "3  050093  machine10      4.50\n",
       "4  050093  machine14      3.92"
      ]
     },
     "execution_count": 102,
     "metadata": {},
     "output_type": "execute_result"
    }
   ],
   "source": [
    "machine_info['machine'] = machine_info['machine'].apply(change_machine_name)\n",
    "machine_info.head()"
   ]
  },
  {
   "cell_type": "code",
   "execution_count": 103,
   "id": "302c5181",
   "metadata": {},
   "outputs": [
    {
     "data": {
      "image/png": "[encoded data removed]",
      "text/plain": [
       "<Figure size 1000x600 with 1 Axes>"
      ]
     },
     "metadata": {},
     "output_type": "display_data"
    }
   ],
   "source": [
    "# 날짜별 주문 수 세기\n",
    "cond = order_info['time']\n",
    "order_counts = order_info['time'].value_counts().sort_index()\n",
    "\n",
    "# barplot 그리기\n",
    "plt.figure(figsize=(10, 6))\n",
    "plt.bar(order_counts.index, order_counts.values, color='orange')\n",
    "plt.xticks(rotation=45)\n",
    "plt.title('Order Count by Date')\n",
    "plt.xlabel('Date')\n",
    "plt.ylabel('Count')\n",
    "plt.tight_layout()\n",
    "plt.show()"
   ]
  },
  {
   "cell_type": "code",
   "execution_count": 104,
   "id": "ac9d44ce",
   "metadata": {},
   "outputs": [
    {
     "name": "stdout",
     "output_type": "stream",
     "text": [
      "1    19\n",
      "2    14\n",
      "3     5\n",
      "4     5\n",
      "5     6\n",
      "7     1\n",
      "8     1\n",
      "Name: count, dtype: int64\n"
     ]
    }
   ],
   "source": [
    "counts_array = order_counts.values\n",
    "# 방법 1: Pandas로 value_counts\n",
    "count_series = pd.Series(counts_array)\n",
    "print(count_series.value_counts().sort_index())"
   ]
  },
  {
   "cell_type": "code",
   "execution_count": 105,
   "id": "ecc45786",
   "metadata": {},
   "outputs": [
    {
     "name": "stdout",
     "output_type": "stream",
     "text": [
      "[1 3 3 8 1 2 2 2 2 2]\n"
     ]
    }
   ],
   "source": [
    "# 값과 해당 값의 등장 횟수 (즉, 분포)\n",
    "values = np.array([1, 2, 3, 4, 5, 6, 7, 8])\n",
    "counts = np.array([19, 14, 5, 5, 6, 1, 1, 1])\n",
    "\n",
    "# 확률 분포로 변환\n",
    "prob = counts / counts.sum()\n",
    "\n",
    "# 랜덤 샘플링 (예: 10개 뽑기)\n",
    "samples = np.random.choice(values, size=10, p=prob)\n",
    "print(samples)"
   ]
  },
  {
   "cell_type": "code",
   "execution_count": 106,
   "id": "b5b277fd",
   "metadata": {},
   "outputs": [],
   "source": [
    "# 전처리 - order\n",
    "def preprocess_order(df):\n",
    "    # 긴급 생산 요건이 있는 경우 1, 그렇지 않은 경우는 0\n",
    "    df['urgent'] = df['urgent'].fillna(0)\n",
    "\n",
    "    for i in range(len(df)):\n",
    "        if df.loc[i, 'urgent'] != 0:\n",
    "            df.loc[i, 'urgent'] = 1\n",
    "\n",
    "    df.dropna(axis=0, inplace=True)\n",
    "\n",
    "    # 같은 종류의 order 묶기\n",
    "    df = df.groupby(['time','item','cost','urgent']).sum().reset_index()\n",
    "    \n",
    "    return df\n",
    "\n",
    "# 전처리 - machine\n",
    "def preprocess_machine(df):\n",
    "    df.dropna(axis=0, inplace=True)\n",
    "\n",
    "    return df"
   ]
  },
  {
   "cell_type": "code",
   "execution_count": 107,
   "id": "b899c020",
   "metadata": {},
   "outputs": [
    {
     "data": {
      "application/vnd.microsoft.datawrangler.viewer.v0+json": {
       "columns": [
        {
         "name": "index",
         "rawType": "int64",
         "type": "integer"
        },
        {
         "name": "time",
         "rawType": "object",
         "type": "string"
        },
        {
         "name": "item",
         "rawType": "object",
         "type": "string"
        },
        {
         "name": "cost",
         "rawType": "int64",
         "type": "integer"
        },
        {
         "name": "qty",
         "rawType": "int64",
         "type": "integer"
        },
        {
         "name": "urgent",
         "rawType": "object",
         "type": "string"
        }
       ],
       "ref": "374e772f-7a72-49e9-a296-e601154182d9",
       "rows": [
        [
         "0",
         "2021-05-13",
         "item15",
         "25870",
         "318",
         "검사품"
        ],
        [
         "1",
         "2021-05-24",
         "item16",
         "16229",
         "383",
         "검사품"
        ]
       ],
       "shape": {
        "columns": 5,
        "rows": 2
       }
      },
      "text/html": [
       "<div>\n",
       "<style scoped>\n",
       "    .dataframe tbody tr th:only-of-type {\n",
       "        vertical-align: middle;\n",
       "    }\n",
       "\n",
       "    .dataframe tbody tr th {\n",
       "        vertical-align: top;\n",
       "    }\n",
       "\n",
       "    .dataframe thead th {\n",
       "        text-align: right;\n",
       "    }\n",
       "</style>\n",
       "<table border=\"1\" class=\"dataframe\">\n",
       "  <thead>\n",
       "    <tr style=\"text-align: right;\">\n",
       "      <th></th>\n",
       "      <th>time</th>\n",
       "      <th>item</th>\n",
       "      <th>cost</th>\n",
       "      <th>qty</th>\n",
       "      <th>urgent</th>\n",
       "    </tr>\n",
       "  </thead>\n",
       "  <tbody>\n",
       "    <tr>\n",
       "      <th>0</th>\n",
       "      <td>2021-05-13</td>\n",
       "      <td>item15</td>\n",
       "      <td>25870</td>\n",
       "      <td>318</td>\n",
       "      <td>검사품</td>\n",
       "    </tr>\n",
       "    <tr>\n",
       "      <th>1</th>\n",
       "      <td>2021-05-24</td>\n",
       "      <td>item16</td>\n",
       "      <td>16229</td>\n",
       "      <td>383</td>\n",
       "      <td>검사품</td>\n",
       "    </tr>\n",
       "  </tbody>\n",
       "</table>\n",
       "</div>"
      ],
      "text/plain": [
       "         time    item   cost  qty urgent\n",
       "0  2021-05-13  item15  25870  318    검사품\n",
       "1  2021-05-24  item16  16229  383    검사품"
      ]
     },
     "execution_count": 107,
     "metadata": {},
     "output_type": "execute_result"
    }
   ],
   "source": [
    "augmented_order_info = order_info.copy()\n",
    "augmented_order_info.head(2)"
   ]
  },
  {
   "cell_type": "code",
   "execution_count": 108,
   "id": "46ebc280",
   "metadata": {},
   "outputs": [
    {
     "data": {
      "application/vnd.microsoft.datawrangler.viewer.v0+json": {
       "columns": [
        {
         "name": "index",
         "rawType": "int64",
         "type": "integer"
        },
        {
         "name": "time",
         "rawType": "object",
         "type": "string"
        },
        {
         "name": "item",
         "rawType": "object",
         "type": "string"
        },
        {
         "name": "cost",
         "rawType": "int64",
         "type": "integer"
        },
        {
         "name": "qty",
         "rawType": "int64",
         "type": "integer"
        },
        {
         "name": "urgent",
         "rawType": "object",
         "type": "unknown"
        }
       ],
       "ref": "b8f46ceb-f1ec-4163-a8e2-f518da357b1a",
       "rows": [
        [
         "0",
         "2021-05-13",
         "item17",
         "24418",
         "40",
         "BV/W"
        ],
        [
         "1",
         "2021-05-24",
         "item89",
         "24418",
         "200",
         "BV/W"
        ],
        [
         "2",
         "2021-05-30",
         "item19",
         "19300",
         "2",
         "검사품"
        ],
        [
         "3",
         "2021-06-03",
         "item29",
         "6750",
         "12",
         null
        ],
        [
         "4",
         "2021-06-18",
         "item05",
         "2990",
         "500",
         null
        ]
       ],
       "shape": {
        "columns": 5,
        "rows": 5
       }
      },
      "text/html": [
       "<div>\n",
       "<style scoped>\n",
       "    .dataframe tbody tr th:only-of-type {\n",
       "        vertical-align: middle;\n",
       "    }\n",
       "\n",
       "    .dataframe tbody tr th {\n",
       "        vertical-align: top;\n",
       "    }\n",
       "\n",
       "    .dataframe thead th {\n",
       "        text-align: right;\n",
       "    }\n",
       "</style>\n",
       "<table border=\"1\" class=\"dataframe\">\n",
       "  <thead>\n",
       "    <tr style=\"text-align: right;\">\n",
       "      <th></th>\n",
       "      <th>time</th>\n",
       "      <th>item</th>\n",
       "      <th>cost</th>\n",
       "      <th>qty</th>\n",
       "      <th>urgent</th>\n",
       "    </tr>\n",
       "  </thead>\n",
       "  <tbody>\n",
       "    <tr>\n",
       "      <th>0</th>\n",
       "      <td>2021-05-13</td>\n",
       "      <td>item17</td>\n",
       "      <td>24418</td>\n",
       "      <td>40</td>\n",
       "      <td>BV/W</td>\n",
       "    </tr>\n",
       "    <tr>\n",
       "      <th>1</th>\n",
       "      <td>2021-05-24</td>\n",
       "      <td>item89</td>\n",
       "      <td>24418</td>\n",
       "      <td>200</td>\n",
       "      <td>BV/W</td>\n",
       "    </tr>\n",
       "    <tr>\n",
       "      <th>2</th>\n",
       "      <td>2021-05-30</td>\n",
       "      <td>item19</td>\n",
       "      <td>19300</td>\n",
       "      <td>2</td>\n",
       "      <td>검사품</td>\n",
       "    </tr>\n",
       "    <tr>\n",
       "      <th>3</th>\n",
       "      <td>2021-06-03</td>\n",
       "      <td>item29</td>\n",
       "      <td>6750</td>\n",
       "      <td>12</td>\n",
       "      <td>NaN</td>\n",
       "    </tr>\n",
       "    <tr>\n",
       "      <th>4</th>\n",
       "      <td>2021-06-18</td>\n",
       "      <td>item05</td>\n",
       "      <td>2990</td>\n",
       "      <td>500</td>\n",
       "      <td>NaN</td>\n",
       "    </tr>\n",
       "  </tbody>\n",
       "</table>\n",
       "</div>"
      ],
      "text/plain": [
       "         time    item   cost  qty urgent\n",
       "0  2021-05-13  item17  24418   40   BV/W\n",
       "1  2021-05-24  item89  24418  200   BV/W\n",
       "2  2021-05-30  item19  19300    2    검사품\n",
       "3  2021-06-03  item29   6750   12    NaN\n",
       "4  2021-06-18  item05   2990  500    NaN"
      ]
     },
     "execution_count": 108,
     "metadata": {},
     "output_type": "execute_result"
    }
   ],
   "source": [
    "# Augmentation Method 1 - time 제외한 나머지 shuffle\n",
    "# 가장 쉬운 augmented 방법\n",
    "# time열 고정, [['item', 'cost', 'qty', 'urgent']] 4개 열은 묶음으로 셔플.\n",
    "# 기존 데이터의 분포를 거의 완벽히 따라했지만, 창의적인 데이터는 아님.\n",
    "\n",
    "temp = augmented_order_info[['item', 'cost', 'qty', 'urgent']]\n",
    "temp = temp.sample(frac=1).reset_index(drop=True)\n",
    "augmented_order_info[['item', 'cost', 'qty', 'urgent']] = temp\n",
    "augmented_order_info.head()\n",
    "\n",
    "# 함수화\n",
    "def augmented_simple_shuffle(df):\n",
    "    df = df.copy()\n",
    "    shuffle_cols = ['item', 'cost', 'qty', 'urgent']\n",
    "    \n",
    "    # 셔플할 부분만 뽑아서 섞은 후 재할당\n",
    "    shuffled = df[shuffle_cols].sample(frac=1).reset_index(drop=True)\n",
    "    df[shuffle_cols] = shuffled\n",
    "    \n",
    "    return df\n",
    "\n",
    "augmented_df = augmented_simple_shuffle(augmented_order_info)\n",
    "augmented_df.head()"
   ]
  },
  {
   "cell_type": "code",
   "execution_count": 109,
   "id": "ef948611",
   "metadata": {},
   "outputs": [
    {
     "name": "stdout",
     "output_type": "stream",
     "text": [
      "127 ['2021-06-14', '2021-06-14', '2021-06-14', '2021-06-14', '2021-06-14', '2021-06-14', '2021-06-14', '2021-06-14', '2021-06-12', '2021-06-12', '2021-06-12', '2021-06-12', '2021-06-12', '2021-06-12', '2021-06-12', '2021-06-14', '2021-06-14', '2021-06-14', '2021-06-14', '2021-06-14', '2021-06-10', '2021-06-10', '2021-06-10', '2021-06-10', '2021-06-10', '2021-06-25', '2021-06-25', '2021-06-25', '2021-06-25', '2021-06-27', '2021-06-27', '2021-06-27', '2021-06-27', '2021-06-23', '2021-06-23', '2021-06-23', '2021-06-23', '2021-06-20', '2021-06-20', '2021-06-20', '2021-06-20', '2021-06-07', '2021-06-07', '2021-06-07', '2021-06-13', '2021-06-13', '2021-06-07', '2021-06-07', '2021-06-29', '2021-06-29', '2021-06-04', '2021-06-04', '2021-06-03', '2021-06-03', '2021-06-17', '2021-06-17', '2021-06-30', '2021-06-30', '2021-06-14', '2021-06-14', '2021-06-29', '2021-06-29', '2021-06-26', '2021-06-30', '2021-06-21', '2021-07-10', '2021-07-10', '2021-07-10', '2021-07-10', '2021-07-10', '2021-07-29', '2021-07-29', '2021-07-29', '2021-07-29', '2021-07-29', '2021-07-28', '2021-07-28', '2021-07-28', '2021-07-28', '2021-07-28', '2021-07-16', '2021-07-16', '2021-07-16', '2021-07-16', '2021-07-16', '2021-07-21', '2021-07-21', '2021-07-21', '2021-07-21', '2021-07-04', '2021-07-04', '2021-07-04', '2021-07-13', '2021-07-13', '2021-07-13', '2021-07-11', '2021-07-11', '2021-07-11', '2021-07-24', '2021-07-24', '2021-07-21', '2021-07-21', '2021-07-20', '2021-07-20', '2021-07-19', '2021-07-19', '2021-07-04', '2021-07-01', '2021-07-15', '2021-07-25', '2021-05-04', '2021-05-04', '2021-05-04', '2021-05-08', '2021-05-08', '2021-05-17', '2021-05-11', '2021-05-22', '2021-08-26', '2021-08-21', '2021-08-08', '2021-08-14', '2021-02-20', '2021-02-23', '2021-03-09', '2021-04-16', '2021-09-10']\n"
     ]
    },
    {
     "data": {
      "application/vnd.microsoft.datawrangler.viewer.v0+json": {
       "columns": [
        {
         "name": "index",
         "rawType": "int64",
         "type": "integer"
        },
        {
         "name": "time",
         "rawType": "object",
         "type": "string"
        },
        {
         "name": "item",
         "rawType": "object",
         "type": "string"
        },
        {
         "name": "cost",
         "rawType": "int64",
         "type": "integer"
        },
        {
         "name": "qty",
         "rawType": "int64",
         "type": "integer"
        },
        {
         "name": "urgent",
         "rawType": "object",
         "type": "unknown"
        }
       ],
       "ref": "cc6bc468-58ec-4981-aa62-6a3210262265",
       "rows": [
        [
         "0",
         "2021-02-02",
         "item15",
         "25870",
         "318",
         "검사품"
        ],
        [
         "1",
         "2021-02-09",
         "item16",
         "16229",
         "383",
         "검사품"
        ],
        [
         "2",
         "2021-03-29",
         "item96",
         "8333",
         "19",
         null
        ],
        [
         "3",
         "2021-04-06",
         "item91",
         "36533",
         "4",
         null
        ],
        [
         "4",
         "2021-05-06",
         "item87",
         "45500",
         "196",
         "검사품"
        ]
       ],
       "shape": {
        "columns": 5,
        "rows": 5
       }
      },
      "text/html": [
       "<div>\n",
       "<style scoped>\n",
       "    .dataframe tbody tr th:only-of-type {\n",
       "        vertical-align: middle;\n",
       "    }\n",
       "\n",
       "    .dataframe tbody tr th {\n",
       "        vertical-align: top;\n",
       "    }\n",
       "\n",
       "    .dataframe thead th {\n",
       "        text-align: right;\n",
       "    }\n",
       "</style>\n",
       "<table border=\"1\" class=\"dataframe\">\n",
       "  <thead>\n",
       "    <tr style=\"text-align: right;\">\n",
       "      <th></th>\n",
       "      <th>time</th>\n",
       "      <th>item</th>\n",
       "      <th>cost</th>\n",
       "      <th>qty</th>\n",
       "      <th>urgent</th>\n",
       "    </tr>\n",
       "  </thead>\n",
       "  <tbody>\n",
       "    <tr>\n",
       "      <th>0</th>\n",
       "      <td>2021-02-02</td>\n",
       "      <td>item15</td>\n",
       "      <td>25870</td>\n",
       "      <td>318</td>\n",
       "      <td>검사품</td>\n",
       "    </tr>\n",
       "    <tr>\n",
       "      <th>1</th>\n",
       "      <td>2021-02-09</td>\n",
       "      <td>item16</td>\n",
       "      <td>16229</td>\n",
       "      <td>383</td>\n",
       "      <td>검사품</td>\n",
       "    </tr>\n",
       "    <tr>\n",
       "      <th>2</th>\n",
       "      <td>2021-03-29</td>\n",
       "      <td>item96</td>\n",
       "      <td>8333</td>\n",
       "      <td>19</td>\n",
       "      <td>NaN</td>\n",
       "    </tr>\n",
       "    <tr>\n",
       "      <th>3</th>\n",
       "      <td>2021-04-06</td>\n",
       "      <td>item91</td>\n",
       "      <td>36533</td>\n",
       "      <td>4</td>\n",
       "      <td>NaN</td>\n",
       "    </tr>\n",
       "    <tr>\n",
       "      <th>4</th>\n",
       "      <td>2021-05-06</td>\n",
       "      <td>item87</td>\n",
       "      <td>45500</td>\n",
       "      <td>196</td>\n",
       "      <td>검사품</td>\n",
       "    </tr>\n",
       "  </tbody>\n",
       "</table>\n",
       "</div>"
      ],
      "text/plain": [
       "         time    item   cost  qty urgent\n",
       "0  2021-02-02  item15  25870  318    검사품\n",
       "1  2021-02-09  item16  16229  383    검사품\n",
       "2  2021-03-29  item96   8333   19    NaN\n",
       "3  2021-04-06  item91  36533    4    NaN\n",
       "4  2021-05-06  item87  45500  196    검사품"
      ]
     },
     "execution_count": 109,
     "metadata": {},
     "output_type": "execute_result"
    }
   ],
   "source": [
    "# Augmentation Method 2 - time random\n",
    "# 날짜의 다양성\n",
    "# 날짜를 같은 달 중 랜덤으로 바꾸기. 2021년도만 적용\n",
    "\n",
    "date_range_2021 = pd.date_range(start=\"2021-01-01\", end=\"2021-12-31\")\n",
    "temp = order_info.copy()\n",
    "temp['month'] = temp['time'].str[5:7]\n",
    "temp = temp['month'].value_counts()\n",
    "month_n_dict = temp.to_dict()\n",
    "rand_date_ls = list()\n",
    "\n",
    "for k, v in month_n_dict.items():\n",
    "    cond = order_info['time'].str[5:7] == k\n",
    "    temp_df = order_info[cond]\n",
    "    time_unique = temp_df['time'].value_counts()\n",
    "    time_unique_n_dict = time_unique.to_dict()\n",
    "\n",
    "\n",
    "    filtered_dates = list([date.strftime('%Y-%m-%d')\n",
    "                            for date in date_range_2021 if date.strftime('%m') == k])\n",
    "   \n",
    "    rand_date_unique = np.random.choice(filtered_dates, size=len(time_unique_n_dict))\n",
    "    \n",
    "    for rand_k, [existing_k, existing_v] in zip(rand_date_unique, time_unique_n_dict.items()):\n",
    "        temp_ls = [str(rand_k) for _ in range(existing_v)]\n",
    "        rand_date_ls.extend(temp_ls)\n",
    "\n",
    "print(len(rand_date_ls), rand_date_ls)\n",
    "    \n",
    "augmented_order_info_df = order_info.copy()\n",
    "augmented_order_info_df['time'] = sorted(rand_date_ls)\n",
    "augmented_order_info_df.head(10)\n",
    "\n",
    "# 함수화\n",
    "def augmented_random_time(df):\n",
    "    df = df.copy()\n",
    "    date_range_2021 = pd.date_range(start=\"2021-01-01\", end=\"2021-12-31\")\n",
    "    \n",
    "    # 월별 count\n",
    "    df['month'] = df['time'].str[5:7]\n",
    "    month_n_dict = df['month'].value_counts().to_dict()\n",
    "    rand_date_ls = []\n",
    "\n",
    "    for k, v in month_n_dict.items():\n",
    "        cond = df['time'].str[5:7] == k\n",
    "        temp_df = df[cond]\n",
    "        time_unique = temp_df['time'].value_counts()\n",
    "        time_unique_n_dict = time_unique.to_dict()\n",
    "\n",
    "        filtered_dates = [date.strftime('%Y-%m-%d')\n",
    "                          for date in date_range_2021 if date.strftime('%m') == k]\n",
    "        \n",
    "        rand_date_unique = np.random.choice(filtered_dates, size=len(time_unique_n_dict), replace=True)\n",
    "\n",
    "        for rand_k, (existing_k, existing_v) in zip(rand_date_unique, time_unique_n_dict.items()):\n",
    "            rand_date_ls.extend([str(rand_k)] * existing_v)\n",
    "\n",
    "    # 새로 생성된 time 리스트를 정렬된 순서로 할당\n",
    "    df['time'] = sorted(rand_date_ls)\n",
    "    df.drop(columns=['month'], inplace=True)\n",
    "\n",
    "    return df\n",
    "\n",
    "augmented_df = augmented_random_time(order_info)\n",
    "augmented_df.head()\n"
   ]
  },
  {
   "cell_type": "code",
   "execution_count": 110,
   "id": "57b08ed5",
   "metadata": {},
   "outputs": [
    {
     "data": {
      "application/vnd.microsoft.datawrangler.viewer.v0+json": {
       "columns": [
        {
         "name": "index",
         "rawType": "int64",
         "type": "integer"
        },
        {
         "name": "time",
         "rawType": "object",
         "type": "string"
        },
        {
         "name": "item",
         "rawType": "object",
         "type": "string"
        },
        {
         "name": "cost",
         "rawType": "int64",
         "type": "integer"
        },
        {
         "name": "qty",
         "rawType": "int64",
         "type": "integer"
        },
        {
         "name": "urgent",
         "rawType": "object",
         "type": "unknown"
        }
       ],
       "ref": "e4dff104-4b65-44d6-90d0-90eafba9c43e",
       "rows": [
        [
         "0",
         "2021-05-13",
         "item15",
         "25870",
         "318",
         "ABS/W"
        ],
        [
         "1",
         "2021-05-24",
         "item16",
         "16229",
         "383",
         "검사품"
        ],
        [
         "2",
         "2021-05-30",
         "item96",
         "8333",
         "19",
         "검사품"
        ],
        [
         "3",
         "2021-06-03",
         "item91",
         "36533",
         "4",
         null
        ],
        [
         "4",
         "2021-06-18",
         "item87",
         "45500",
         "196",
         null
        ]
       ],
       "shape": {
        "columns": 5,
        "rows": 5
       }
      },
      "text/html": [
       "<div>\n",
       "<style scoped>\n",
       "    .dataframe tbody tr th:only-of-type {\n",
       "        vertical-align: middle;\n",
       "    }\n",
       "\n",
       "    .dataframe tbody tr th {\n",
       "        vertical-align: top;\n",
       "    }\n",
       "\n",
       "    .dataframe thead th {\n",
       "        text-align: right;\n",
       "    }\n",
       "</style>\n",
       "<table border=\"1\" class=\"dataframe\">\n",
       "  <thead>\n",
       "    <tr style=\"text-align: right;\">\n",
       "      <th></th>\n",
       "      <th>time</th>\n",
       "      <th>item</th>\n",
       "      <th>cost</th>\n",
       "      <th>qty</th>\n",
       "      <th>urgent</th>\n",
       "    </tr>\n",
       "  </thead>\n",
       "  <tbody>\n",
       "    <tr>\n",
       "      <th>0</th>\n",
       "      <td>2021-05-13</td>\n",
       "      <td>item15</td>\n",
       "      <td>25870</td>\n",
       "      <td>318</td>\n",
       "      <td>ABS/W</td>\n",
       "    </tr>\n",
       "    <tr>\n",
       "      <th>1</th>\n",
       "      <td>2021-05-24</td>\n",
       "      <td>item16</td>\n",
       "      <td>16229</td>\n",
       "      <td>383</td>\n",
       "      <td>검사품</td>\n",
       "    </tr>\n",
       "    <tr>\n",
       "      <th>2</th>\n",
       "      <td>2021-05-30</td>\n",
       "      <td>item96</td>\n",
       "      <td>8333</td>\n",
       "      <td>19</td>\n",
       "      <td>검사품</td>\n",
       "    </tr>\n",
       "    <tr>\n",
       "      <th>3</th>\n",
       "      <td>2021-06-03</td>\n",
       "      <td>item91</td>\n",
       "      <td>36533</td>\n",
       "      <td>4</td>\n",
       "      <td>NaN</td>\n",
       "    </tr>\n",
       "    <tr>\n",
       "      <th>4</th>\n",
       "      <td>2021-06-18</td>\n",
       "      <td>item87</td>\n",
       "      <td>45500</td>\n",
       "      <td>196</td>\n",
       "      <td>NaN</td>\n",
       "    </tr>\n",
       "  </tbody>\n",
       "</table>\n",
       "</div>"
      ],
      "text/plain": [
       "         time    item   cost  qty urgent\n",
       "0  2021-05-13  item15  25870  318  ABS/W\n",
       "1  2021-05-24  item16  16229  383    검사품\n",
       "2  2021-05-30  item96   8333   19    검사품\n",
       "3  2021-06-03  item91  36533    4    NaN\n",
       "4  2021-06-18  item87  45500  196    NaN"
      ]
     },
     "execution_count": 110,
     "metadata": {},
     "output_type": "execute_result"
    }
   ],
   "source": [
    "# Augmentation Method 3 - urgent random\n",
    "# urgent 열 단순 셔플플\n",
    "temp = order_info['urgent'].sample(frac=1).reset_index(drop=True)\n",
    "augmented_order_info_df = order_info.copy()\n",
    "augmented_order_info_df['urgent'] = temp\n",
    "augmented_order_info_df.head(10)\n",
    "\n",
    "# 함수화\n",
    "def augmented_urgent_shuffle(df):\n",
    "    df = df.copy()\n",
    "    df['urgent'] = df['urgent'].sample(frac=1).reset_index(drop=True)\n",
    "    return df\n",
    "\n",
    "augmented_df = augmented_urgent_shuffle(order_info)\n",
    "augmented_df.head()"
   ]
  },
  {
   "cell_type": "code",
   "execution_count": 111,
   "id": "bd4acdd1",
   "metadata": {},
   "outputs": [
    {
     "data": {
      "application/vnd.microsoft.datawrangler.viewer.v0+json": {
       "columns": [
        {
         "name": "index",
         "rawType": "int64",
         "type": "integer"
        },
        {
         "name": "time",
         "rawType": "object",
         "type": "string"
        },
        {
         "name": "item",
         "rawType": "object",
         "type": "string"
        },
        {
         "name": "cost",
         "rawType": "int64",
         "type": "integer"
        },
        {
         "name": "qty",
         "rawType": "int64",
         "type": "integer"
        },
        {
         "name": "urgent",
         "rawType": "object",
         "type": "unknown"
        }
       ],
       "ref": "acbbce55-4ce2-4c31-9b9d-23ae4b362128",
       "rows": [
        [
         "0",
         "2021-05-13",
         "item15",
         "25870",
         "318",
         "검사품"
        ],
        [
         "1",
         "2021-05-24",
         "item16",
         "16229",
         "383",
         "검사품"
        ],
        [
         "2",
         "2021-05-30",
         "item96",
         "8333",
         "19",
         null
        ],
        [
         "3",
         "2021-06-03",
         "item91",
         "36533",
         "4",
         null
        ],
        [
         "4",
         "2021-06-18",
         "item87",
         "45500",
         "214",
         "검사품"
        ]
       ],
       "shape": {
        "columns": 5,
        "rows": 5
       }
      },
      "text/html": [
       "<div>\n",
       "<style scoped>\n",
       "    .dataframe tbody tr th:only-of-type {\n",
       "        vertical-align: middle;\n",
       "    }\n",
       "\n",
       "    .dataframe tbody tr th {\n",
       "        vertical-align: top;\n",
       "    }\n",
       "\n",
       "    .dataframe thead th {\n",
       "        text-align: right;\n",
       "    }\n",
       "</style>\n",
       "<table border=\"1\" class=\"dataframe\">\n",
       "  <thead>\n",
       "    <tr style=\"text-align: right;\">\n",
       "      <th></th>\n",
       "      <th>time</th>\n",
       "      <th>item</th>\n",
       "      <th>cost</th>\n",
       "      <th>qty</th>\n",
       "      <th>urgent</th>\n",
       "    </tr>\n",
       "  </thead>\n",
       "  <tbody>\n",
       "    <tr>\n",
       "      <th>0</th>\n",
       "      <td>2021-05-13</td>\n",
       "      <td>item15</td>\n",
       "      <td>25870</td>\n",
       "      <td>318</td>\n",
       "      <td>검사품</td>\n",
       "    </tr>\n",
       "    <tr>\n",
       "      <th>1</th>\n",
       "      <td>2021-05-24</td>\n",
       "      <td>item16</td>\n",
       "      <td>16229</td>\n",
       "      <td>383</td>\n",
       "      <td>검사품</td>\n",
       "    </tr>\n",
       "    <tr>\n",
       "      <th>2</th>\n",
       "      <td>2021-05-30</td>\n",
       "      <td>item96</td>\n",
       "      <td>8333</td>\n",
       "      <td>19</td>\n",
       "      <td>NaN</td>\n",
       "    </tr>\n",
       "    <tr>\n",
       "      <th>3</th>\n",
       "      <td>2021-06-03</td>\n",
       "      <td>item91</td>\n",
       "      <td>36533</td>\n",
       "      <td>4</td>\n",
       "      <td>NaN</td>\n",
       "    </tr>\n",
       "    <tr>\n",
       "      <th>4</th>\n",
       "      <td>2021-06-18</td>\n",
       "      <td>item87</td>\n",
       "      <td>45500</td>\n",
       "      <td>214</td>\n",
       "      <td>검사품</td>\n",
       "    </tr>\n",
       "  </tbody>\n",
       "</table>\n",
       "</div>"
      ],
      "text/plain": [
       "         time    item   cost  qty urgent\n",
       "0  2021-05-13  item15  25870  318    검사품\n",
       "1  2021-05-24  item16  16229  383    검사품\n",
       "2  2021-05-30  item96   8333   19    NaN\n",
       "3  2021-06-03  item91  36533    4    NaN\n",
       "4  2021-06-18  item87  45500  214    검사품"
      ]
     },
     "execution_count": 111,
     "metadata": {},
     "output_type": "execute_result"
    }
   ],
   "source": [
    "# Augmentation Method 4 - qty random\n",
    "# 아이템별 min, max 구하여 uniform 랜덤값 적용\n",
    "\n",
    "# 아이템번호 : [min_q, max_q]\n",
    "item_unique = order_info['item'].unique()\n",
    "item_qty_minmax_dict = dict() # 아이템 번호\n",
    "for item in item_unique:\n",
    "    cond = order_info['item'] == item\n",
    "    temp = order_info[cond]\n",
    "    item_min, item_max = int(temp['qty'].min()), int(temp['qty'].max())\n",
    "    item_qty_minmax_dict[item] = [item_min, item_max]\n",
    "\n",
    "augmented_order_info_df = order_info.copy()\n",
    "for idx, row in augmented_order_info_df.iterrows():\n",
    "    item_name = row['item']\n",
    "    low, high = item_qty_minmax_dict[item_name]\n",
    "    rand_int = int(np.random.uniform(low=low, high=high, size=1)[0])\n",
    "    augmented_order_info_df.loc['idx', 'qty'] = rand_int\n",
    "    augmented_order_info_df['qty'].astype('int')\n",
    "\n",
    "augmented_order_info_df.head(20)\n",
    "\n",
    "# 함수화\n",
    "def augmented_random_qty(df):\n",
    "    df = df.copy()\n",
    "    \n",
    "    # 각 아이템에 대해 qty의 min-max 계산\n",
    "    item_qty_minmax_dict = {\n",
    "        item: [int(group['qty'].min()), int(group['qty'].max())]\n",
    "        for item, group in df.groupby('item')\n",
    "    }\n",
    "\n",
    "    # 랜덤 qty로 대체\n",
    "    new_qty = []\n",
    "    for _, row in df.iterrows():\n",
    "        item_name = row['item']\n",
    "        low, high = item_qty_minmax_dict[item_name]\n",
    "        rand_int = int(np.random.uniform(low=low, high=high, size=1)[0])\n",
    "        new_qty.append(rand_int)\n",
    "\n",
    "    df['qty'] = new_qty\n",
    "    return df\n",
    "\n",
    "augmented_df = augmented_random_qty(order_info)\n",
    "augmented_df.head()\n"
   ]
  },
  {
   "cell_type": "code",
   "execution_count": 112,
   "id": "68b1c94d",
   "metadata": {},
   "outputs": [
    {
     "data": {
      "application/vnd.microsoft.datawrangler.viewer.v0+json": {
       "columns": [
        {
         "name": "index",
         "rawType": "int64",
         "type": "integer"
        },
        {
         "name": "time",
         "rawType": "object",
         "type": "string"
        },
        {
         "name": "item",
         "rawType": "object",
         "type": "string"
        },
        {
         "name": "cost",
         "rawType": "int64",
         "type": "integer"
        },
        {
         "name": "qty",
         "rawType": "int64",
         "type": "integer"
        },
        {
         "name": "urgent",
         "rawType": "object",
         "type": "unknown"
        }
       ],
       "ref": "6be96496-a641-4015-b83f-f8a6c2870ce6",
       "rows": [
        [
         "0",
         "2021-02-17",
         "item31",
         "7500",
         "16",
         "검사품"
        ],
        [
         "1",
         "2021-02-18",
         "item28",
         "17050",
         "8",
         null
        ],
        [
         "2",
         "2021-03-15",
         "item49",
         "11500",
         "42",
         null
        ],
        [
         "3",
         "2021-04-14",
         "item38",
         "7600",
         "70",
         null
        ],
        [
         "4",
         "2021-05-01",
         "item90",
         "21260",
         "10",
         null
        ]
       ],
       "shape": {
        "columns": 5,
        "rows": 5
       }
      },
      "text/html": [
       "<div>\n",
       "<style scoped>\n",
       "    .dataframe tbody tr th:only-of-type {\n",
       "        vertical-align: middle;\n",
       "    }\n",
       "\n",
       "    .dataframe tbody tr th {\n",
       "        vertical-align: top;\n",
       "    }\n",
       "\n",
       "    .dataframe thead th {\n",
       "        text-align: right;\n",
       "    }\n",
       "</style>\n",
       "<table border=\"1\" class=\"dataframe\">\n",
       "  <thead>\n",
       "    <tr style=\"text-align: right;\">\n",
       "      <th></th>\n",
       "      <th>time</th>\n",
       "      <th>item</th>\n",
       "      <th>cost</th>\n",
       "      <th>qty</th>\n",
       "      <th>urgent</th>\n",
       "    </tr>\n",
       "  </thead>\n",
       "  <tbody>\n",
       "    <tr>\n",
       "      <th>0</th>\n",
       "      <td>2021-02-17</td>\n",
       "      <td>item31</td>\n",
       "      <td>7500</td>\n",
       "      <td>16</td>\n",
       "      <td>검사품</td>\n",
       "    </tr>\n",
       "    <tr>\n",
       "      <th>1</th>\n",
       "      <td>2021-02-18</td>\n",
       "      <td>item28</td>\n",
       "      <td>17050</td>\n",
       "      <td>8</td>\n",
       "      <td>NaN</td>\n",
       "    </tr>\n",
       "    <tr>\n",
       "      <th>2</th>\n",
       "      <td>2021-03-15</td>\n",
       "      <td>item49</td>\n",
       "      <td>11500</td>\n",
       "      <td>42</td>\n",
       "      <td>NaN</td>\n",
       "    </tr>\n",
       "    <tr>\n",
       "      <th>3</th>\n",
       "      <td>2021-04-14</td>\n",
       "      <td>item38</td>\n",
       "      <td>7600</td>\n",
       "      <td>70</td>\n",
       "      <td>NaN</td>\n",
       "    </tr>\n",
       "    <tr>\n",
       "      <th>4</th>\n",
       "      <td>2021-05-01</td>\n",
       "      <td>item90</td>\n",
       "      <td>21260</td>\n",
       "      <td>10</td>\n",
       "      <td>NaN</td>\n",
       "    </tr>\n",
       "  </tbody>\n",
       "</table>\n",
       "</div>"
      ],
      "text/plain": [
       "         time    item   cost  qty urgent\n",
       "0  2021-02-17  item31   7500   16    검사품\n",
       "1  2021-02-18  item28  17050    8    NaN\n",
       "2  2021-03-15  item49  11500   42    NaN\n",
       "3  2021-04-14  item38   7600   70    NaN\n",
       "4  2021-05-01  item90  21260   10    NaN"
      ]
     },
     "execution_count": 112,
     "metadata": {},
     "output_type": "execute_result"
    }
   ],
   "source": [
    "# 최종 augmentation 함수\n",
    "def augment_df(\n",
    "    df,\n",
    "    apply_shuffle_group=True,\n",
    "    apply_random_time=True,\n",
    "    apply_shuffle_urgent=True,\n",
    "    apply_random_qty=True\n",
    "):\n",
    "    \"\"\"\n",
    "    선택한 증강 기법들을 순차적으로 호출하여 DataFrame을 증강합니다.\n",
    "    \"\"\"\n",
    "    df_aug = df.copy()\n",
    "\n",
    "    if apply_shuffle_group:\n",
    "        df_aug = augmented_simple_shuffle(df_aug)\n",
    "\n",
    "    if apply_random_time:\n",
    "        df_aug = augmented_random_time(df_aug)\n",
    "\n",
    "    if apply_shuffle_urgent:\n",
    "        df_aug = augmented_urgent_shuffle(df_aug)\n",
    "\n",
    "    if apply_random_qty:\n",
    "        df_aug = augmented_random_qty(df_aug)\n",
    "\n",
    "    df_aug = df_aug.sort_values(['time', 'item', 'qty'])\n",
    "\n",
    "    return df_aug\n",
    "\n",
    "augmented_df = augment_df(\n",
    "    order_info,\n",
    "    apply_shuffle_group=True,\n",
    "    apply_random_time=True,\n",
    "    apply_shuffle_urgent=True,\n",
    "    apply_random_qty=True\n",
    ")\n",
    "\n",
    "augmented_df.head()"
   ]
  },
  {
   "cell_type": "code",
   "execution_count": 113,
   "id": "23491b05",
   "metadata": {},
   "outputs": [],
   "source": [
    "# 기존 전처리 수행\n",
    "\n",
    "# 날짜 -> 일수(날짜 - 2021-01-01) (1~365)\n",
    "def change_time_name(target):\n",
    "    time = pd.to_datetime(target)\n",
    "    base_date = pd.to_datetime('2021-01-01')\n",
    "\n",
    "    return f'date{str((time-base_date).days+1).zfill(3)}'"
   ]
  },
  {
   "cell_type": "code",
   "execution_count": 114,
   "id": "37540f18",
   "metadata": {},
   "outputs": [],
   "source": [
    "# 슬라이딩 윈도우 함수 정의\n",
    "def create_shifted_dataset(df, window_size=5):\n",
    "    datasets = []\n",
    "    for i in range(len(df) - window_size + 1):\n",
    "        window = df.iloc[i:i+window_size].reset_index(drop=True)\n",
    "        datasets.append(window)\n",
    "    return datasets"
   ]
  },
  {
   "cell_type": "code",
   "execution_count": 115,
   "id": "d5b7c9c4",
   "metadata": {},
   "outputs": [],
   "source": [
    "def make_dataset(order_info, machine_info, window_size=5):\n",
    "    dataset = create_shifted_dataset(order_info, window_size=window_size)\n",
    "    dataset_for_ga = list()\n",
    "    dataset_for_order = list()\n",
    "\n",
    "    for data in dataset:\n",
    "        order = data.iloc[:, :5]\n",
    "        nl = data.iloc[:, 5:]\n",
    "\n",
    "        order = preprocess_order(order)\n",
    "        dataset_for_order.append(order)\n",
    "        order = pd.merge(order, machine_info, on='item', how='inner')\n",
    "\n",
    "        dataset_for_ga.append(order)\n",
    "\n",
    "    return dataset_for_ga, dataset_for_order"
   ]
  },
  {
   "cell_type": "code",
   "execution_count": 116,
   "id": "4963920c",
   "metadata": {},
   "outputs": [],
   "source": [
    "def ga_preprocess(dataset):\n",
    "    T = list(set(dataset['time']))\n",
    "    I = list(set(dataset['item']))\n",
    "    J = list(set(dataset['machine']))\n",
    "\n",
    "    # cit = 날짜 t에, item i가 미생산 될 때 발생하는 비용\n",
    "    cit = dict()\n",
    "    for i in I:\n",
    "        for t in T:\n",
    "            temp_dataset = dataset[(dataset['item'] == i) & (dataset['time'] == t)]\n",
    "            if len(temp_dataset) != 0:\n",
    "                value = list(set(temp_dataset['cost']))[0]\n",
    "                cit[i, t] = value\n",
    "            else:\n",
    "                cit[i, t] = 0\n",
    "\n",
    "    # pit = 날짜 t에, item i가 긴급 생산이 필요한 경우 1, 그렇지 않으면 0\n",
    "    pit = dict()\n",
    "    for i in I:\n",
    "        for t in T:\n",
    "            temp_dataset = dataset[(dataset['item'] == i) & (dataset['time'] == t)]\n",
    "            if len(temp_dataset) != 0:\n",
    "                value = list(set(temp_dataset['urgent']))[0]\n",
    "                pit[i, t] = value\n",
    "            else:\n",
    "                pit[i, t] = 0\n",
    "\n",
    "    # dit = 날짜 t에 item i마다 생산되어야 하는 요구량\n",
    "    dit = dict()\n",
    "    for i in I:\n",
    "        for t in T:\n",
    "            temp_dataset = dataset[(dataset['item'] == i) & (dataset['time'] == t)]\n",
    "            if len(temp_dataset) != 0:\n",
    "                value = list(set(temp_dataset['qty']))[0]\n",
    "                dit[i, t] = value\n",
    "            else:\n",
    "                dit[i, t] = 0\n",
    "\n",
    "    # mijt= 날짜 t에 NC machine j가 item i를 생산할 수 있는 능력\n",
    "    mijt = dict()\n",
    "    for i in I:\n",
    "        for j in J:\n",
    "            temp_dataset = dataset[\n",
    "                (dataset['item'] == i) &\n",
    "                (dataset['machine'] == j)\n",
    "            ]\n",
    "\n",
    "            if len(temp_dataset) != 0:\n",
    "                value = list(set(temp_dataset['capacity']))[0]\n",
    "                for t in T:\n",
    "                    mijt[i, j, t] = value\n",
    "            else:\n",
    "                for t in T:\n",
    "                    mijt[i, j, t] = 0\n",
    "\n",
    "    return T, I, J, cit, pit, dit, mijt\n",
    "\n",
    "# 머신 j가 시간 t에 아이템 i를 만들수 없을 경우 0으로 처리하기 위함함\n",
    "def decode(mijt, xijt):\n",
    "    for j in J:\n",
    "        for t in T:\n",
    "            for i in I:\n",
    "                if mijt[i, j, t] == 0:\n",
    "                    xijt[i, j, t] = 0\n",
    "    return xijt\n",
    "\n",
    "# 목적함수를 최적화하기 위한 xijt 조합을 임의로 생성하는 함수\n",
    "def generation_xijt():\n",
    "    xijt = {}\n",
    "\n",
    "    for i in I:\n",
    "        for j in J:\n",
    "            for t in T:\n",
    "                if dit[i, t] > 0:\n",
    "                    xijt[i, j, t] = random.uniform(0, 1)\n",
    "                else:\n",
    "                    xijt[i, j, t] = 0\n",
    "\n",
    "    xijt = decode(mijt, xijt)\n",
    "    return xijt\n",
    "\n",
    "def dict2list(xijt):\n",
    "    return list(xijt.values())\n",
    "\n",
    "def list2dict(bitstring, type='xijt'):\n",
    "    if type == 'xijt':\n",
    "        _keys = xijt_keys\n",
    "    elif type == 'mijt':\n",
    "        _keys = mijt_keys\n",
    "\n",
    "    xijt = {}\n",
    "    for idx, value in enumerate(bitstring):\n",
    "        xijt[_keys[idx]] = value\n",
    "\n",
    "    return xijt\n",
    "\n",
    "# 제약조건 확인\n",
    "# 기계 하루 총 생산시간은 600분\n",
    "# j기계로 600분 안에 아이템 i를 생산할 수 없다면 아이템 생산하지 않도록 하기 위함.\n",
    "def constraint_check(xijt):\n",
    "    for j in J:\n",
    "        for t in T:\n",
    "            check_value = sum(mijt[i, j, t] * round(xijt[i, j, t] * dit[i, t]) for i in I) <= 600\n",
    "\n",
    "            if check_value is False:\n",
    "                for i in I:\n",
    "                    xijt[i, j, t] = 0\n",
    "\n",
    "    return xijt\n",
    "\n",
    "# 목적 함수\n",
    "def objective(xijt):\n",
    "    uit = {}\n",
    "    xijt = constraint_check(xijt)\n",
    "\n",
    "    for i in I:\n",
    "        for t in T:\n",
    "            u = dit[i, t] - sum(round(xijt[i, j, t] * dit[i, t]) for j in J)\n",
    "            if u >= 0:\n",
    "                uit[i, t] = u\n",
    "            else:\n",
    "                uit[i, t] = abs(u) * 10_000_000\n",
    "\n",
    "    objective = sum(uit[i, t] * cit[i, t] * pit[i, t] for i in I for t in T)\n",
    "    return objective\n",
    "\n",
    "# Tournament selection\n",
    "def selection(pop, scores, n_pop):\n",
    "    # n_pop은 한 세대를 구성하는 염색체 수이며, 하이퍼파라미터 값\n",
    "    k = round(n_pop * 0.5)\n",
    "    selection_ix = randint(len(pop))\n",
    "    \n",
    "    for ix in randint(0, len(pop), k - 1):\n",
    "        if scores[ix] < scores[selection_ix]:\n",
    "            selection_ix = ix\n",
    "            \n",
    "    return pop[selection_ix]\n",
    "\n",
    "def crossover(p1, p2, r_cross):\n",
    "    p1 = dict2list(p1)\n",
    "    p2 = dict2list(p2)\n",
    "    c1, c2 = p1.copy(), p2.copy()\n",
    "\n",
    "    if rand() < r_cross:\n",
    "        base_bitstring = dict2list(mijt)\n",
    "\n",
    "        # crossover (1): 유효 인덱스 추출\n",
    "        valid_index = []\n",
    "        for i in range(len(base_bitstring)):\n",
    "            if base_bitstring[i] > 0:\n",
    "                valid_index.append(i)\n",
    "\n",
    "        n = round(r_cross * len(valid_index))\n",
    "        pt_0 = random.sample(valid_index, n)\n",
    "        pt_1 = list(set(valid_index) - set(pt_0))\n",
    "\n",
    "        # crossover (2): 교차 적용\n",
    "        for i in pt_0:\n",
    "            c1[i] = p2[i]\n",
    "            c2[i] = p1[i]\n",
    "\n",
    "        for i in pt_1:\n",
    "            c1[i] = p2[i]\n",
    "            c2[i] = p1[i]\n",
    "\n",
    "    return [c1, c2]\n",
    "\n",
    "def mutation(bitstring, r_mut):\n",
    "    for i in range(len(bitstring)):\n",
    "        if rand() < r_mut:\n",
    "            base_bitstring = dict2list(mijt)\n",
    "\n",
    "            # mutation (1): 유효 인덱스 찾기\n",
    "            valid_index = []\n",
    "            for j in range(len(base_bitstring)):\n",
    "                if base_bitstring[j] > 0:\n",
    "                    valid_index.append(j)\n",
    "\n",
    "            n = round(r_mut * len(valid_index))\n",
    "\n",
    "            # mutation (2): 무작위 인덱스에서 값 변경\n",
    "            pt_0 = random.sample(valid_index, n)\n",
    "            for idx in pt_0:\n",
    "                bitstring[idx] = random.uniform(0, 1)\n",
    "\n",
    "def genetic_algorithm(bounds, n_iter, n_pop, r_cross, r_mut):\n",
    "    # Utility\n",
    "    log = []\n",
    "    log_detail = []\n",
    "    best_gen = 0\n",
    "\n",
    "    # GA algorithm 초기화\n",
    "    pop = [generation_xijt() for _ in range(n_pop)]\n",
    "    best = decode(mijt, pop[0])\n",
    "    best_eval = objective(best)\n",
    "    print(best_eval)\n",
    "\n",
    "    for gen in tqdm(range(n_iter)):\n",
    "        # 현재 세대 해를 디코딩\n",
    "        decoded = [decode(mijt, p) for p in pop]\n",
    "\n",
    "        # 목적함수 값 계산\n",
    "        scores = [objective(d) for d in decoded]\n",
    "\n",
    "        # 가장 좋은 해 갱신\n",
    "        for i in range(n_pop):\n",
    "            if scores[i] < best_eval:\n",
    "                best, best_eval = pop[i], scores[i]\n",
    "                print(f'>best! {gen}, {scores[i]}')\n",
    "                best_gen = gen\n",
    "            else:\n",
    "                # stop rule: 개선 없이 100세대 이상일 경우 중단\n",
    "                if gen - best_gen > 200:\n",
    "                    print('stop')\n",
    "                    return [best, best_eval, log, log_detail]\n",
    "\n",
    "        # 부모 해 집합 선택\n",
    "        selected = [selection(pop, scores, n_pop) for _ in range(n_pop)]\n",
    "        log_detail.append([gen, objective(selected[0])])\n",
    "\n",
    "        # 자식 세대 생성\n",
    "        children = []\n",
    "        for i in range(0, n_pop, 2):\n",
    "            p1, p2 = selected[i], selected[i + 1]\n",
    "            for c in crossover(p1, p2, r_cross):\n",
    "                mutation(c, r_mut)\n",
    "                children.append(list2dict(c))\n",
    "\n",
    "        pop = children\n",
    "        log.append([gen, best_eval])\n",
    "\n",
    "    return [best, best_eval, log, log_detail]\n",
    "\n",
    "def set_hyper_parameters():\n",
    "    # 하이퍼파라미터 설정\n",
    "    hyper_parameters = pd.DataFrame({\n",
    "        'index':    ['index_1', 'index_2', 'index_3', 'index_4',\n",
    "                    'index_5', 'index_6', 'index_7', 'index_8'],\n",
    "        'n_iter':   [500, 500, 500, 500, 500, 500, 500, 500],\n",
    "        'n_pop':    [10, 20, 40, 20, 20, 20, 20, 20],\n",
    "        'r_cross':  [0.4, 0.4, 0.4, 0.1, 0.2, 0.3, 0.4, 0.4],\n",
    "        'r_mut':    [0.4, 0.4, 0.4, 0.4, 0.4, 0.4, 0.1, 0.6]\n",
    "    })\n",
    "\n",
    "    # 결과 기록용 열 추가\n",
    "    hyper_parameters['objective'] = np.nan\n",
    "    hyper_parameters['time'] = np.nan\n",
    "\n",
    "    return hyper_parameters\n",
    "\n",
    "def find_hyper_parameters(hyper_parameters):\n",
    "    log_list = []\n",
    "\n",
    "    for i in range(len(hyper_parameters)):\n",
    "        parameter = hyper_parameters.iloc[i]\n",
    "        index_nm = parameter['index']\n",
    "        print(f'{index_nm}')\n",
    "\n",
    "        start = datetime.datetime.now()\n",
    "\n",
    "        # 초기 해 및 키 정의\n",
    "        xijt = generation_xijt()\n",
    "        global xijt_keys, mijt_keys\n",
    "        xijt_keys = list(xijt.keys())\n",
    "        mijt_keys = list(mijt.keys())\n",
    "\n",
    "        # 하이퍼파라미터 설정\n",
    "        n_iter = parameter['n_iter']\n",
    "        n_pop = parameter['n_pop']\n",
    "        r_cross = parameter['r_cross']\n",
    "        r_mut = parameter['r_mut']\n",
    "\n",
    "        # 유전 알고리즘 실행\n",
    "        best, score, log, log_detail = genetic_algorithm(mijt, n_iter, n_pop, r_cross, r_mut)\n",
    "\n",
    "        # 실행 시간 및 결과 기록\n",
    "        elapsed_time = datetime.datetime.now() - start\n",
    "        hyper_parameters.loc[i, 'time'] = elapsed_time\n",
    "        hyper_parameters.loc[i, 'objective'] = score\n",
    "\n",
    "        log_list.append(log)\n",
    "\n",
    "    # 결과 출력\n",
    "    return hyper_parameters, log_list\n"
   ]
  },
  {
   "cell_type": "code",
   "execution_count": 117,
   "id": "29c93a8c",
   "metadata": {},
   "outputs": [],
   "source": [
    "# 유전 알고리즘\n",
    "def ga_get_gt(dataset_for_ga):\n",
    "    data_len = len(dataset_for_ga)\n",
    "    \n",
    "    for i, data in enumerate(dataset_for_ga):\n",
    "        global T, I, J, cit, pit, dit, mijt\n",
    "        T, I, J, cit, pit, dit, mijt = ga_preprocess(data)\n",
    "\n",
    "        # 입력 데이터 생성\n",
    "        xijt = generation_xijt()\n",
    "        global xijt_keys, mijt_keys\n",
    "        xijt_keys = list(xijt.keys())\n",
    "        mijt_keys = list(mijt.keys())\n",
    "\n",
    "        # 유전 알고리즘 하이퍼파라미터 설정 - index 07 적용\n",
    "        n_iter = 500       # 반복할 세대 수\n",
    "        n_pop = 20         # 세대당 염색체 수\n",
    "        r_cross = 0.4      # 교차율\n",
    "        r_mut = 0.1        # 변이율\n",
    "\n",
    "        # 유전 알고리즘 실행\n",
    "        best, score, log, log_detail = genetic_algorithm(mijt, n_iter, n_pop, r_cross, r_mut)\n",
    "\n",
    "        best_ls.append(best)\n",
    "        score_ls.append(score)\n",
    "        log_ls.append(log)\n",
    "        log_detail_ls.append(log_detail)\n",
    "\n",
    "        with open('log_n5.pkl', 'wb') as f:\n",
    "            pickle.dump([best_ls, score_ls, log_ls, log_detail_ls], f)\n",
    "        print(f'{i+1}번째 log 저장 완료. 총 {data_len}개')\n",
    "\n",
    "        # 해 솔루션 저장용 딕셔너리 초기화\n",
    "        solution_ = dict()\n",
    "\n",
    "        # xijt 디코딩\n",
    "        xijt = decode(mijt, xijt)\n",
    "\n",
    "        # best 해를 기반으로 해를 계산\n",
    "        for i in I:\n",
    "            for j in J:\n",
    "                for t in T:\n",
    "                    solution_[(i, j, t)] = round(best[i, j, t] * dit[i, t])\n",
    "\n",
    "        # 딕셔너리를 DataFrame으로 변환\n",
    "        sol = pd.DataFrame.from_dict(solution_, orient='index').reset_index()\n",
    "        sol.columns = ['(item, machine, time)', 'qty']\n",
    "\n",
    "        gt_ls.append(sol[sol['qty'] > 0])\n",
    "\n",
    "        with open('gt_n5.pkl', 'wb') as f:\n",
    "            pickle.dump(gt_ls, f)\n",
    "\n",
    "        # print('{}번째 gt 저장 완료. 총 {}개'.format(i + 1, data_len))\n",
    "\n",
    "        # print('------------------------')\n",
    "        # print()\n",
    "    # return gt_ls"
   ]
  },
  {
   "cell_type": "code",
   "execution_count": 118,
   "id": "8d1fecf8",
   "metadata": {},
   "outputs": [],
   "source": [
    "# order machine join 정보 묶기\n",
    "def combine_order_machine_join(data):\n",
    "    combined_data = list()\n",
    "    for _, row in data.iterrows():\n",
    "        combined_data.append(f\"• {row['time']} {row['item']} {row['cost']} {row['urgent']} {row['qty']} {row['machine']} {row['capacity']}\")\n",
    "\n",
    "    combined_data = \"\\n\".join(combined_data)\n",
    "        \n",
    "    return combined_data"
   ]
  },
  {
   "cell_type": "code",
   "execution_count": 119,
   "id": "a70c3fee",
   "metadata": {},
   "outputs": [],
   "source": [
    "def combine_order(data):\n",
    "    combined_data = list()\n",
    "    for _, row in data.iterrows():\n",
    "        combined_data.append(f\"• {row['time']} {row['item']} {row['cost']} {row['urgent']} {row['qty']}\")\n",
    "\n",
    "    combined_data = \"\\n\".join(combined_data)\n",
    "        \n",
    "    return combined_data"
   ]
  },
  {
   "cell_type": "code",
   "execution_count": 120,
   "id": "6078d52a",
   "metadata": {},
   "outputs": [],
   "source": [
    "def combine_machine(data):\n",
    "    combined_data = list()\n",
    "    for _, row in data.iterrows():\n",
    "        combined_data.append(f\"• {row['item']} {row['machine']} {row['capacity']}\")\n",
    "\n",
    "    combined_data = list(set(combined_data))\n",
    "    combined_data = \"\\n\".join(combined_data)\n",
    "        \n",
    "    return combined_data"
   ]
  },
  {
   "cell_type": "code",
   "execution_count": 121,
   "id": "0b0727cf",
   "metadata": {},
   "outputs": [],
   "source": [
    "# gt 정보 텍스트화\n",
    "def combine_gt(data):\n",
    "    combined_data = list()\n",
    "    for _, row in data.iterrows():\n",
    "        combined_data.append(f\"• {row['item']} {row['machine']} {row['time']} {row['qty']}\")\n",
    "\n",
    "    combined_data = \"\\n\".join(combined_data)\n",
    "        \n",
    "    return combined_data"
   ]
  },
  {
   "cell_type": "code",
   "execution_count": 122,
   "id": "d760b971",
   "metadata": {},
   "outputs": [],
   "source": [
    "def make_augmented_dataset(order_info, machine_info):\n",
    "    order_info['time'] = order_info['time'].apply(change_time_name)\n",
    "    machine_info = preprocess_machine(machine_info)\n",
    "    dataset_for_ga, dataset_for_order = make_dataset(order_info, machine_info)\n",
    "\n",
    "    # 저장된 피클 불러오기기\n",
    "    # with open('log.pkl', 'rb') as f:\n",
    "    #     loaded_data = pickle.load(f)\n",
    "\n",
    "    # best_ls, score_ls, log_ls, log_detail_ls = loaded_data\n",
    "\n",
    "    # 데이터 설정정\n",
    "    # temp = [dataset_for_ga[i] for i in range(10)]\n",
    "    global best_ls, score_ls, log_ls, log_detail_ls, gt_ls\n",
    "    best_ls, score_ls, log_ls, log_detail_ls, gt_ls = list(), list(), list(), list(), list()\n",
    "\n",
    "    ga_get_gt(dataset_for_ga)\n",
    "\n",
    "    # GT 결과값 데이테프레임화\n",
    "    for idx, gt in enumerate(gt_ls):\n",
    "        gt[['item', 'machine', 'time']] = pd.DataFrame(gt['(item, machine, time)'].tolist(), index=gt.index)\n",
    "        gt = gt.drop(columns='(item, machine, time)')\n",
    "        gt = gt[['item', 'machine', 'time', 'qty']].sort_values(['time', 'item', 'machine', 'qty'])\n",
    "        gt_ls[idx] = gt\n",
    "\n",
    "    order_machine_join = [combine_order_machine_join(data) for data in dataset_for_ga]\n",
    "    order_for_dataset = [combine_order(data) for data in dataset_for_ga]\n",
    "    machine_for_dataset = [combine_machine(data) for data in dataset_for_ga]\n",
    "    gt_for_dataset = [combine_gt(data) for data in gt_ls]\n",
    "\n",
    "    dataset = pd.DataFrame(columns=['order', 'machine', 'gt', 'objective'])\n",
    "    dataset\n",
    "\n",
    "    dataset['order'] = order_for_dataset\n",
    "    dataset['machine'] = machine_for_dataset\n",
    "    dataset['gt'] = gt_for_dataset\n",
    "    dataset['objective'] = score_ls\n",
    "    dataset.head()\n",
    "\n",
    "    dataset['order_machine'] = (\n",
    "        \"Order information\\n\" + dataset['order'] + \"\\n\\n\" +\n",
    "        \"Machine information\\n\" + dataset['machine']\n",
    "    )\n",
    "\n",
    "    dataset['order_machine_gt'] = (\n",
    "        \"Order information\\n\" + dataset['order'] + \"\\n\\n\" +\n",
    "        \"Machine information\\n\" + dataset['machine'] + \"\\n\\n\" +\n",
    "        \"Schedule result\\n\" + dataset['gt']\n",
    "    )\n",
    "\n",
    "    dataset['order_machine_join'] = order_machine_join\n",
    "\n",
    "    dataset['order_machine_join_gt'] = (\n",
    "        \"Order and machine information\\n\" + dataset['order_machine_join'] + \"\\n\\n\" +\n",
    "        \"Schedule result\\n\" + dataset['gt']\n",
    "    )\n",
    "\n",
    "    return dataset"
   ]
  },
  {
   "cell_type": "code",
   "execution_count": 123,
   "id": "65e89990",
   "metadata": {},
   "outputs": [
    {
     "name": "stderr",
     "output_type": "stream",
     "text": [
      "/tmp/ipykernel_11877/1886978764.py:4: FutureWarning: Downcasting object dtype arrays on .fillna, .ffill, .bfill is deprecated and will change in a future version. Call result.infer_objects(copy=False) instead. To opt-in to the future behavior, set `pd.set_option('future.no_silent_downcasting', True)`\n",
      "  df['urgent'] = df['urgent'].fillna(0)\n",
      "/tmp/ipykernel_11877/1886978764.py:4: FutureWarning: Downcasting object dtype arrays on .fillna, .ffill, .bfill is deprecated and will change in a future version. Call result.infer_objects(copy=False) instead. To opt-in to the future behavior, set `pd.set_option('future.no_silent_downcasting', True)`\n",
      "  df['urgent'] = df['urgent'].fillna(0)\n",
      "/tmp/ipykernel_11877/1886978764.py:4: FutureWarning: Downcasting object dtype arrays on .fillna, .ffill, .bfill is deprecated and will change in a future version. Call result.infer_objects(copy=False) instead. To opt-in to the future behavior, set `pd.set_option('future.no_silent_downcasting', True)`\n",
      "  df['urgent'] = df['urgent'].fillna(0)\n",
      "/tmp/ipykernel_11877/1886978764.py:4: FutureWarning: Downcasting object dtype arrays on .fillna, .ffill, .bfill is deprecated and will change in a future version. Call result.infer_objects(copy=False) instead. To opt-in to the future behavior, set `pd.set_option('future.no_silent_downcasting', True)`\n",
      "  df['urgent'] = df['urgent'].fillna(0)\n",
      "/tmp/ipykernel_11877/1886978764.py:4: FutureWarning: Downcasting object dtype arrays on .fillna, .ffill, .bfill is deprecated and will change in a future version. Call result.infer_objects(copy=False) instead. To opt-in to the future behavior, set `pd.set_option('future.no_silent_downcasting', True)`\n",
      "  df['urgent'] = df['urgent'].fillna(0)\n",
      "/tmp/ipykernel_11877/1886978764.py:4: FutureWarning: Downcasting object dtype arrays on .fillna, .ffill, .bfill is deprecated and will change in a future version. Call result.infer_objects(copy=False) instead. To opt-in to the future behavior, set `pd.set_option('future.no_silent_downcasting', True)`\n",
      "  df['urgent'] = df['urgent'].fillna(0)\n",
      "/tmp/ipykernel_11877/1886978764.py:4: FutureWarning: Downcasting object dtype arrays on .fillna, .ffill, .bfill is deprecated and will change in a future version. Call result.infer_objects(copy=False) instead. To opt-in to the future behavior, set `pd.set_option('future.no_silent_downcasting', True)`\n",
      "  df['urgent'] = df['urgent'].fillna(0)\n",
      "/tmp/ipykernel_11877/1886978764.py:4: FutureWarning: Downcasting object dtype arrays on .fillna, .ffill, .bfill is deprecated and will change in a future version. Call result.infer_objects(copy=False) instead. To opt-in to the future behavior, set `pd.set_option('future.no_silent_downcasting', True)`\n",
      "  df['urgent'] = df['urgent'].fillna(0)\n",
      "/tmp/ipykernel_11877/1886978764.py:4: FutureWarning: Downcasting object dtype arrays on .fillna, .ffill, .bfill is deprecated and will change in a future version. Call result.infer_objects(copy=False) instead. To opt-in to the future behavior, set `pd.set_option('future.no_silent_downcasting', True)`\n",
      "  df['urgent'] = df['urgent'].fillna(0)\n",
      "/tmp/ipykernel_11877/1886978764.py:4: FutureWarning: Downcasting object dtype arrays on .fillna, .ffill, .bfill is deprecated and will change in a future version. Call result.infer_objects(copy=False) instead. To opt-in to the future behavior, set `pd.set_option('future.no_silent_downcasting', True)`\n",
      "  df['urgent'] = df['urgent'].fillna(0)\n",
      "/tmp/ipykernel_11877/1886978764.py:4: FutureWarning: Downcasting object dtype arrays on .fillna, .ffill, .bfill is deprecated and will change in a future version. Call result.infer_objects(copy=False) instead. To opt-in to the future behavior, set `pd.set_option('future.no_silent_downcasting', True)`\n",
      "  df['urgent'] = df['urgent'].fillna(0)\n",
      "/tmp/ipykernel_11877/1886978764.py:4: FutureWarning: Downcasting object dtype arrays on .fillna, .ffill, .bfill is deprecated and will change in a future version. Call result.infer_objects(copy=False) instead. To opt-in to the future behavior, set `pd.set_option('future.no_silent_downcasting', True)`\n",
      "  df['urgent'] = df['urgent'].fillna(0)\n",
      "/tmp/ipykernel_11877/1886978764.py:4: FutureWarning: Downcasting object dtype arrays on .fillna, .ffill, .bfill is deprecated and will change in a future version. Call result.infer_objects(copy=False) instead. To opt-in to the future behavior, set `pd.set_option('future.no_silent_downcasting', True)`\n",
      "  df['urgent'] = df['urgent'].fillna(0)\n",
      "/tmp/ipykernel_11877/1886978764.py:4: FutureWarning: Downcasting object dtype arrays on .fillna, .ffill, .bfill is deprecated and will change in a future version. Call result.infer_objects(copy=False) instead. To opt-in to the future behavior, set `pd.set_option('future.no_silent_downcasting', True)`\n",
      "  df['urgent'] = df['urgent'].fillna(0)\n",
      "/tmp/ipykernel_11877/1886978764.py:4: FutureWarning: Downcasting object dtype arrays on .fillna, .ffill, .bfill is deprecated and will change in a future version. Call result.infer_objects(copy=False) instead. To opt-in to the future behavior, set `pd.set_option('future.no_silent_downcasting', True)`\n",
      "  df['urgent'] = df['urgent'].fillna(0)\n"
     ]
    },
    {
     "name": "stdout",
     "output_type": "stream",
     "text": [
      "30000\n"
     ]
    },
    {
     "name": "stderr",
     "output_type": "stream",
     "text": [
      "  1%|          | 3/500 [00:00<00:16, 29.81it/s]"
     ]
    },
    {
     "name": "stdout",
     "output_type": "stream",
     "text": [
      ">best! 0, 7500\n",
      ">best! 1, 0\n"
     ]
    },
    {
     "name": "stderr",
     "output_type": "stream",
     "text": [
      " 40%|████      | 202/500 [00:06<00:09, 30.35it/s]\n"
     ]
    },
    {
     "name": "stdout",
     "output_type": "stream",
     "text": [
      "stop\n",
      "1번째 log 저장 완료. 총 123개\n",
      "0\n"
     ]
    },
    {
     "name": "stderr",
     "output_type": "stream",
     "text": [
      " 40%|████      | 201/500 [00:08<00:12, 23.16it/s]\n"
     ]
    },
    {
     "name": "stdout",
     "output_type": "stream",
     "text": [
      "stop\n",
      "2번째 log 저장 완료. 총 123개\n",
      "0\n"
     ]
    },
    {
     "name": "stderr",
     "output_type": "stream",
     "text": [
      " 40%|████      | 201/500 [00:05<00:08, 34.14it/s]\n"
     ]
    },
    {
     "name": "stdout",
     "output_type": "stream",
     "text": [
      "stop\n",
      "3번째 log 저장 완료. 총 123개\n",
      "5845280000000\n"
     ]
    },
    {
     "name": "stderr",
     "output_type": "stream",
     "text": [
      "  1%|          | 4/500 [00:00<00:14, 33.52it/s]"
     ]
    },
    {
     "name": "stdout",
     "output_type": "stream",
     "text": [
      ">best! 0, 5114620000000\n",
      ">best! 0, 4749290000000\n",
      ">best! 0, 4018630000000\n",
      ">best! 0, 3653300000000\n",
      ">best! 0, 3287970000000\n",
      ">best! 1, 2557310000000\n"
     ]
    },
    {
     "name": "stderr",
     "output_type": "stream",
     "text": [
      "  3%|▎         | 16/500 [00:00<00:15, 31.85it/s]"
     ]
    },
    {
     "name": "stdout",
     "output_type": "stream",
     "text": [
      ">best! 10, 2191980000000\n"
     ]
    },
    {
     "name": "stderr",
     "output_type": "stream",
     "text": [
      "  5%|▍         | 24/500 [00:00<00:14, 32.21it/s]"
     ]
    },
    {
     "name": "stdout",
     "output_type": "stream",
     "text": [
      ">best! 18, 1826650000000\n",
      ">best! 22, 730660000000\n"
     ]
    },
    {
     "name": "stderr",
     "output_type": "stream",
     "text": [
      "  7%|▋         | 36/500 [00:01<00:14, 32.20it/s]"
     ]
    },
    {
     "name": "stdout",
     "output_type": "stream",
     "text": [
      ">best! 30, 365330000000\n"
     ]
    },
    {
     "name": "stderr",
     "output_type": "stream",
     "text": [
      " 46%|████▌     | 231/500 [00:07<00:08, 32.70it/s]\n"
     ]
    },
    {
     "name": "stdout",
     "output_type": "stream",
     "text": [
      "stop\n",
      "4번째 log 저장 완료. 총 123개\n",
      "6210610000000\n"
     ]
    },
    {
     "name": "stderr",
     "output_type": "stream",
     "text": [
      "  1%|          | 3/500 [00:00<00:19, 24.87it/s]"
     ]
    },
    {
     "name": "stdout",
     "output_type": "stream",
     "text": [
      ">best! 0, 5845280000000\n",
      ">best! 0, 5479950000000\n",
      ">best! 0, 5114620000000\n",
      ">best! 0, 3653300000000\n",
      ">best! 0, 3287970000000\n",
      ">best! 1, 2922640000000\n",
      ">best! 2, 2557310000000\n",
      ">best! 5, 1826650000000\n"
     ]
    },
    {
     "name": "stderr",
     "output_type": "stream",
     "text": [
      "  4%|▍         | 21/500 [00:00<00:18, 25.26it/s]"
     ]
    },
    {
     "name": "stdout",
     "output_type": "stream",
     "text": [
      ">best! 17, 1461320000000\n"
     ]
    },
    {
     "name": "stderr",
     "output_type": "stream",
     "text": [
      " 14%|█▍        | 72/500 [00:02<00:16, 25.47it/s]"
     ]
    },
    {
     "name": "stdout",
     "output_type": "stream",
     "text": [
      ">best! 68, 0\n"
     ]
    },
    {
     "name": "stderr",
     "output_type": "stream",
     "text": [
      " 54%|█████▍    | 269/500 [00:10<00:09, 25.54it/s]\n"
     ]
    },
    {
     "name": "stdout",
     "output_type": "stream",
     "text": [
      "stop\n",
      "5번째 log 저장 완료. 총 123개\n",
      "26384760000000\n"
     ]
    },
    {
     "name": "stderr",
     "output_type": "stream",
     "text": [
      "  1%|          | 4/500 [00:00<00:12, 39.20it/s]"
     ]
    },
    {
     "name": "stdout",
     "output_type": "stream",
     "text": [
      ">best! 0, 24179280000000\n",
      ">best! 0, 21256640000000\n",
      ">best! 0, 16480350000000\n",
      ">best! 0, 14288370000000\n",
      ">best! 0, 6941270000000\n",
      ">best! 1, 5845280000000\n",
      ">best! 5, 3653300366680\n"
     ]
    },
    {
     "name": "stderr",
     "output_type": "stream",
     "text": [
      "  4%|▎         | 18/500 [00:00<00:11, 42.12it/s]"
     ]
    },
    {
     "name": "stdout",
     "output_type": "stream",
     "text": [
      ">best! 12, 3653300000000\n"
     ]
    },
    {
     "name": "stderr",
     "output_type": "stream",
     "text": [
      "  6%|▌         | 28/500 [00:00<00:10, 43.86it/s]"
     ]
    },
    {
     "name": "stdout",
     "output_type": "stream",
     "text": [
      ">best! 22, 3287970000000\n"
     ]
    },
    {
     "name": "stderr",
     "output_type": "stream",
     "text": [
      " 10%|▉         | 48/500 [00:01<00:09, 45.30it/s]"
     ]
    },
    {
     "name": "stdout",
     "output_type": "stream",
     "text": [
      ">best! 43, 2557310366680\n"
     ]
    },
    {
     "name": "stderr",
     "output_type": "stream",
     "text": [
      " 19%|█▊        | 93/500 [00:02<00:08, 45.67it/s]"
     ]
    },
    {
     "name": "stdout",
     "output_type": "stream",
     "text": [
      ">best! 86, 2557310000000\n"
     ]
    },
    {
     "name": "stderr",
     "output_type": "stream",
     "text": [
      " 22%|██▏       | 108/500 [00:02<00:09, 41.89it/s]"
     ]
    },
    {
     "name": "stdout",
     "output_type": "stream",
     "text": [
      ">best! 103, 1461320000000\n"
     ]
    },
    {
     "name": "stderr",
     "output_type": "stream",
     "text": [
      " 61%|██████    | 304/500 [00:06<00:04, 45.47it/s]\n"
     ]
    },
    {
     "name": "stdout",
     "output_type": "stream",
     "text": [
      "stop\n",
      "6번째 log 저장 완료. 총 123개\n",
      "32693010000000\n"
     ]
    },
    {
     "name": "stderr",
     "output_type": "stream",
     "text": [
      "  1%|          | 6/500 [00:00<00:09, 51.03it/s]"
     ]
    },
    {
     "name": "stdout",
     "output_type": "stream",
     "text": [
      ">best! 0, 25118190000000\n",
      ">best! 0, 22383300000000\n",
      ">best! 0, 19285880000000\n",
      ">best! 0, 16107120000000\n",
      ">best! 0, 15213780000000\n",
      ">best! 2, 12165630000000\n",
      ">best! 2, 12153530000000\n",
      ">best! 2, 8612240366680\n",
      ">best! 10, 6498800000000\n"
     ]
    },
    {
     "name": "stderr",
     "output_type": "stream",
     "text": [
      "  8%|▊         | 41/500 [00:00<00:09, 50.72it/s]"
     ]
    },
    {
     "name": "stdout",
     "output_type": "stream",
     "text": [
      ">best! 32, 5644030000000\n"
     ]
    },
    {
     "name": "stderr",
     "output_type": "stream",
     "text": [
      " 15%|█▌        | 77/500 [00:01<00:08, 52.66it/s]"
     ]
    },
    {
     "name": "stdout",
     "output_type": "stream",
     "text": [
      ">best! 69, 4916170000000\n",
      ">best! 72, 2680020000000\n"
     ]
    },
    {
     "name": "stderr",
     "output_type": "stream",
     "text": [
      " 55%|█████▍    | 273/500 [00:05<00:04, 51.43it/s]\n"
     ]
    },
    {
     "name": "stdout",
     "output_type": "stream",
     "text": [
      "stop\n",
      "7번째 log 저장 완료. 총 123개\n",
      "20992620000000\n"
     ]
    },
    {
     "name": "stderr",
     "output_type": "stream",
     "text": [
      "  1%|          | 5/500 [00:00<00:10, 46.87it/s]"
     ]
    },
    {
     "name": "stdout",
     "output_type": "stream",
     "text": [
      ">best! 0, 15984410000000\n",
      ">best! 1, 14966960000000\n",
      ">best! 2, 14885620000000\n",
      ">best! 2, 13872370000000\n",
      ">best! 2, 9717530000000\n",
      ">best! 4, 8977570000000\n",
      ">best! 7, 4629380000000\n"
     ]
    },
    {
     "name": "stderr",
     "output_type": "stream",
     "text": [
      "  9%|▉         | 47/500 [00:00<00:09, 50.06it/s]\n"
     ]
    },
    {
     "ename": "KeyboardInterrupt",
     "evalue": "",
     "output_type": "error",
     "traceback": [
      "\u001b[0;31m---------------------------------------------------------------------------\u001b[0m",
      "\u001b[0;31mKeyboardInterrupt\u001b[0m                         Traceback (most recent call last)",
      "Cell \u001b[0;32mIn[123], line 1\u001b[0m\n\u001b[0;32m----> 1\u001b[0m augmented_dataset \u001b[38;5;241m=\u001b[39m \u001b[43mmake_augmented_dataset\u001b[49m\u001b[43m(\u001b[49m\u001b[43maugmented_df\u001b[49m\u001b[43m,\u001b[49m\u001b[43m \u001b[49m\u001b[43mmachine_info\u001b[49m\u001b[43m)\u001b[49m\n",
      "Cell \u001b[0;32mIn[122], line 17\u001b[0m, in \u001b[0;36mmake_augmented_dataset\u001b[0;34m(order_info, machine_info)\u001b[0m\n\u001b[1;32m     14\u001b[0m \u001b[38;5;28;01mglobal\u001b[39;00m best_ls, score_ls, log_ls, log_detail_ls, gt_ls\n\u001b[1;32m     15\u001b[0m best_ls, score_ls, log_ls, log_detail_ls, gt_ls \u001b[38;5;241m=\u001b[39m \u001b[38;5;28mlist\u001b[39m(), \u001b[38;5;28mlist\u001b[39m(), \u001b[38;5;28mlist\u001b[39m(), \u001b[38;5;28mlist\u001b[39m(), \u001b[38;5;28mlist\u001b[39m()\n\u001b[0;32m---> 17\u001b[0m \u001b[43mga_get_gt\u001b[49m\u001b[43m(\u001b[49m\u001b[43mdataset_for_ga\u001b[49m\u001b[43m)\u001b[49m\n\u001b[1;32m     19\u001b[0m \u001b[38;5;66;03m# GT 결과값 데이테프레임화\u001b[39;00m\n\u001b[1;32m     20\u001b[0m \u001b[38;5;28;01mfor\u001b[39;00m idx, gt \u001b[38;5;129;01min\u001b[39;00m \u001b[38;5;28menumerate\u001b[39m(gt_ls):\n",
      "Cell \u001b[0;32mIn[117], line 22\u001b[0m, in \u001b[0;36mga_get_gt\u001b[0;34m(dataset_for_ga)\u001b[0m\n\u001b[1;32m     19\u001b[0m r_mut \u001b[38;5;241m=\u001b[39m \u001b[38;5;241m0.1\u001b[39m        \u001b[38;5;66;03m# 변이율\u001b[39;00m\n\u001b[1;32m     21\u001b[0m \u001b[38;5;66;03m# 유전 알고리즘 실행\u001b[39;00m\n\u001b[0;32m---> 22\u001b[0m best, score, log, log_detail \u001b[38;5;241m=\u001b[39m \u001b[43mgenetic_algorithm\u001b[49m\u001b[43m(\u001b[49m\u001b[43mmijt\u001b[49m\u001b[43m,\u001b[49m\u001b[43m \u001b[49m\u001b[43mn_iter\u001b[49m\u001b[43m,\u001b[49m\u001b[43m \u001b[49m\u001b[43mn_pop\u001b[49m\u001b[43m,\u001b[49m\u001b[43m \u001b[49m\u001b[43mr_cross\u001b[49m\u001b[43m,\u001b[49m\u001b[43m \u001b[49m\u001b[43mr_mut\u001b[49m\u001b[43m)\u001b[49m\n\u001b[1;32m     24\u001b[0m best_ls\u001b[38;5;241m.\u001b[39mappend(best)\n\u001b[1;32m     25\u001b[0m score_ls\u001b[38;5;241m.\u001b[39mappend(score)\n",
      "Cell \u001b[0;32mIn[116], line 226\u001b[0m, in \u001b[0;36mgenetic_algorithm\u001b[0;34m(bounds, n_iter, n_pop, r_cross, r_mut)\u001b[0m\n\u001b[1;32m    224\u001b[0m     p1, p2 \u001b[38;5;241m=\u001b[39m selected[i], selected[i \u001b[38;5;241m+\u001b[39m \u001b[38;5;241m1\u001b[39m]\n\u001b[1;32m    225\u001b[0m     \u001b[38;5;28;01mfor\u001b[39;00m c \u001b[38;5;129;01min\u001b[39;00m crossover(p1, p2, r_cross):\n\u001b[0;32m--> 226\u001b[0m         \u001b[43mmutation\u001b[49m\u001b[43m(\u001b[49m\u001b[43mc\u001b[49m\u001b[43m,\u001b[49m\u001b[43m \u001b[49m\u001b[43mr_mut\u001b[49m\u001b[43m)\u001b[49m\n\u001b[1;32m    227\u001b[0m         children\u001b[38;5;241m.\u001b[39mappend(list2dict(c))\n\u001b[1;32m    229\u001b[0m pop \u001b[38;5;241m=\u001b[39m children\n",
      "Cell \u001b[0;32mIn[116], line 176\u001b[0m, in \u001b[0;36mmutation\u001b[0;34m(bitstring, r_mut)\u001b[0m\n\u001b[1;32m    174\u001b[0m valid_index \u001b[38;5;241m=\u001b[39m []\n\u001b[1;32m    175\u001b[0m \u001b[38;5;28;01mfor\u001b[39;00m j \u001b[38;5;129;01min\u001b[39;00m \u001b[38;5;28mrange\u001b[39m(\u001b[38;5;28mlen\u001b[39m(base_bitstring)):\n\u001b[0;32m--> 176\u001b[0m     \u001b[38;5;28;01mif\u001b[39;00m \u001b[43mbase_bitstring\u001b[49m\u001b[43m[\u001b[49m\u001b[43mj\u001b[49m\u001b[43m]\u001b[49m \u001b[38;5;241m>\u001b[39m \u001b[38;5;241m0\u001b[39m:\n\u001b[1;32m    177\u001b[0m         valid_index\u001b[38;5;241m.\u001b[39mappend(j)\n\u001b[1;32m    179\u001b[0m n \u001b[38;5;241m=\u001b[39m \u001b[38;5;28mround\u001b[39m(r_mut \u001b[38;5;241m*\u001b[39m \u001b[38;5;28mlen\u001b[39m(valid_index))\n",
      "\u001b[0;31mKeyboardInterrupt\u001b[0m: "
     ]
    }
   ],
   "source": [
    "augmented_dataset = make_augmented_dataset(augmented_df, machine_info)"
   ]
  },
  {
   "cell_type": "code",
   "execution_count": null,
   "id": "a0282759",
   "metadata": {},
   "outputs": [],
   "source": [
    "augmented_dataset.to_csv('./augmented_dataset_n5_20250601.csv')"
   ]
  }
 ],
 "metadata": {
  "kernelspec": {
   "display_name": "GAenv",
   "language": "python",
   "name": "python3"
  },
  "language_info": {
   "codemirror_mode": {
    "name": "ipython",
    "version": 3
   },
   "file_extension": ".py",
   "mimetype": "text/x-python",
   "name": "python",
   "nbconvert_exporter": "python",
   "pygments_lexer": "ipython3",
   "version": "3.9.18"
  }
 },
 "nbformat": 4,
 "nbformat_minor": 5
}
