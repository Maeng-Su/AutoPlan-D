{
 "cells": [
  {
   "cell_type": "code",
   "execution_count": 2,
   "id": "276ffc12-0f7f-4e06-929b-da5047d7997a",
   "metadata": {},
   "outputs": [
    {
     "name": "stdout",
     "output_type": "stream",
     "text": [
      "Requirement already satisfied: neo4j-graphrag in /Users/k.010k/.pyenv/versions/3.9.7/envs/aidall_3_9_7/lib/python3.9/site-packages (1.7.0)\n",
      "Requirement already satisfied: neo4j in /Users/k.010k/.pyenv/versions/3.9.7/envs/aidall_3_9_7/lib/python3.9/site-packages (5.28.1)\n",
      "Collecting sentence-transformers\n",
      "  Downloading sentence_transformers-4.1.0-py3-none-any.whl.metadata (13 kB)\n",
      "Requirement already satisfied: fsspec<2025.0.0,>=2024.9.0 in /Users/k.010k/.pyenv/versions/3.9.7/envs/aidall_3_9_7/lib/python3.9/site-packages (from neo4j-graphrag) (2024.12.0)\n",
      "Requirement already satisfied: json-repair<0.40.0,>=0.39.1 in /Users/k.010k/.pyenv/versions/3.9.7/envs/aidall_3_9_7/lib/python3.9/site-packages (from neo4j-graphrag) (0.39.1)\n",
      "Requirement already satisfied: pydantic<3.0.0,>=2.6.3 in /Users/k.010k/.pyenv/versions/3.9.7/envs/aidall_3_9_7/lib/python3.9/site-packages (from neo4j-graphrag) (2.11.5)\n",
      "Requirement already satisfied: pypdf<6.0.0,>=5.1.0 in /Users/k.010k/.pyenv/versions/3.9.7/envs/aidall_3_9_7/lib/python3.9/site-packages (from neo4j-graphrag) (5.6.0)\n",
      "Requirement already satisfied: pyyaml<7.0.0,>=6.0.2 in /Users/k.010k/.pyenv/versions/3.9.7/envs/aidall_3_9_7/lib/python3.9/site-packages (from neo4j-graphrag) (6.0.2)\n",
      "Requirement already satisfied: types-pyyaml<7.0.0.0,>=6.0.12.20240917 in /Users/k.010k/.pyenv/versions/3.9.7/envs/aidall_3_9_7/lib/python3.9/site-packages (from neo4j-graphrag) (6.0.12.20250516)\n",
      "Requirement already satisfied: pytz in /Users/k.010k/.pyenv/versions/3.9.7/envs/aidall_3_9_7/lib/python3.9/site-packages (from neo4j) (2025.2)\n",
      "Requirement already satisfied: annotated-types>=0.6.0 in /Users/k.010k/.pyenv/versions/3.9.7/envs/aidall_3_9_7/lib/python3.9/site-packages (from pydantic<3.0.0,>=2.6.3->neo4j-graphrag) (0.7.0)\n",
      "Requirement already satisfied: pydantic-core==2.33.2 in /Users/k.010k/.pyenv/versions/3.9.7/envs/aidall_3_9_7/lib/python3.9/site-packages (from pydantic<3.0.0,>=2.6.3->neo4j-graphrag) (2.33.2)\n",
      "Requirement already satisfied: typing-extensions>=4.12.2 in /Users/k.010k/.pyenv/versions/3.9.7/envs/aidall_3_9_7/lib/python3.9/site-packages (from pydantic<3.0.0,>=2.6.3->neo4j-graphrag) (4.13.2)\n",
      "Requirement already satisfied: typing-inspection>=0.4.0 in /Users/k.010k/.pyenv/versions/3.9.7/envs/aidall_3_9_7/lib/python3.9/site-packages (from pydantic<3.0.0,>=2.6.3->neo4j-graphrag) (0.4.1)\n",
      "Collecting transformers<5.0.0,>=4.41.0 (from sentence-transformers)\n",
      "  Using cached transformers-4.52.4-py3-none-any.whl.metadata (38 kB)\n",
      "Requirement already satisfied: tqdm in /Users/k.010k/.pyenv/versions/3.9.7/envs/aidall_3_9_7/lib/python3.9/site-packages (from sentence-transformers) (4.67.1)\n",
      "Collecting torch>=1.11.0 (from sentence-transformers)\n",
      "  Downloading torch-2.7.1-cp39-none-macosx_11_0_arm64.whl.metadata (29 kB)\n",
      "Collecting scikit-learn (from sentence-transformers)\n",
      "  Using cached scikit_learn-1.6.1-cp39-cp39-macosx_12_0_arm64.whl.metadata (31 kB)\n",
      "Collecting scipy (from sentence-transformers)\n",
      "  Using cached scipy-1.13.1-cp39-cp39-macosx_12_0_arm64.whl.metadata (60 kB)\n",
      "Collecting huggingface-hub>=0.20.0 (from sentence-transformers)\n",
      "  Using cached huggingface_hub-0.32.5-py3-none-any.whl.metadata (14 kB)\n",
      "Requirement already satisfied: Pillow in /Users/k.010k/.pyenv/versions/3.9.7/envs/aidall_3_9_7/lib/python3.9/site-packages (from sentence-transformers) (11.2.1)\n",
      "Collecting filelock (from transformers<5.0.0,>=4.41.0->sentence-transformers)\n",
      "  Using cached filelock-3.18.0-py3-none-any.whl.metadata (2.9 kB)\n",
      "Requirement already satisfied: numpy>=1.17 in /Users/k.010k/.pyenv/versions/3.9.7/envs/aidall_3_9_7/lib/python3.9/site-packages (from transformers<5.0.0,>=4.41.0->sentence-transformers) (2.0.2)\n",
      "Requirement already satisfied: packaging>=20.0 in /Users/k.010k/.pyenv/versions/3.9.7/envs/aidall_3_9_7/lib/python3.9/site-packages (from transformers<5.0.0,>=4.41.0->sentence-transformers) (25.0)\n",
      "Collecting regex!=2019.12.17 (from transformers<5.0.0,>=4.41.0->sentence-transformers)\n",
      "  Downloading regex-2024.11.6-cp39-cp39-macosx_11_0_arm64.whl.metadata (40 kB)\n",
      "Collecting requests (from transformers<5.0.0,>=4.41.0->sentence-transformers)\n",
      "  Using cached requests-2.32.4-py3-none-any.whl.metadata (4.9 kB)\n",
      "Collecting tokenizers<0.22,>=0.21 (from transformers<5.0.0,>=4.41.0->sentence-transformers)\n",
      "  Using cached tokenizers-0.21.1-cp39-abi3-macosx_11_0_arm64.whl.metadata (6.8 kB)\n",
      "Collecting safetensors>=0.4.3 (from transformers<5.0.0,>=4.41.0->sentence-transformers)\n",
      "  Using cached safetensors-0.5.3-cp38-abi3-macosx_11_0_arm64.whl.metadata (3.8 kB)\n",
      "Collecting hf-xet<2.0.0,>=1.1.2 (from huggingface-hub>=0.20.0->sentence-transformers)\n",
      "  Using cached hf_xet-1.1.3-cp37-abi3-macosx_11_0_arm64.whl.metadata (879 bytes)\n",
      "Collecting sympy>=1.13.3 (from torch>=1.11.0->sentence-transformers)\n",
      "  Using cached sympy-1.14.0-py3-none-any.whl.metadata (12 kB)\n",
      "Collecting networkx (from torch>=1.11.0->sentence-transformers)\n",
      "  Using cached networkx-3.2.1-py3-none-any.whl.metadata (5.2 kB)\n",
      "Requirement already satisfied: jinja2 in /Users/k.010k/.pyenv/versions/3.9.7/envs/aidall_3_9_7/lib/python3.9/site-packages (from torch>=1.11.0->sentence-transformers) (3.1.6)\n",
      "Collecting mpmath<1.4,>=1.1.0 (from sympy>=1.13.3->torch>=1.11.0->sentence-transformers)\n",
      "  Using cached mpmath-1.3.0-py3-none-any.whl.metadata (8.6 kB)\n",
      "Requirement already satisfied: MarkupSafe>=2.0 in /Users/k.010k/.pyenv/versions/3.9.7/envs/aidall_3_9_7/lib/python3.9/site-packages (from jinja2->torch>=1.11.0->sentence-transformers) (3.0.2)\n",
      "Collecting charset_normalizer<4,>=2 (from requests->transformers<5.0.0,>=4.41.0->sentence-transformers)\n",
      "  Downloading charset_normalizer-3.4.2-cp39-cp39-macosx_10_9_universal2.whl.metadata (35 kB)\n",
      "Collecting idna<4,>=2.5 (from requests->transformers<5.0.0,>=4.41.0->sentence-transformers)\n",
      "  Using cached idna-3.10-py3-none-any.whl.metadata (10 kB)\n",
      "Collecting urllib3<3,>=1.21.1 (from requests->transformers<5.0.0,>=4.41.0->sentence-transformers)\n",
      "  Using cached urllib3-2.4.0-py3-none-any.whl.metadata (6.5 kB)\n",
      "Collecting certifi>=2017.4.17 (from requests->transformers<5.0.0,>=4.41.0->sentence-transformers)\n",
      "  Using cached certifi-2025.4.26-py3-none-any.whl.metadata (2.5 kB)\n",
      "Collecting joblib>=1.2.0 (from scikit-learn->sentence-transformers)\n",
      "  Downloading joblib-1.5.1-py3-none-any.whl.metadata (5.6 kB)\n",
      "Collecting threadpoolctl>=3.1.0 (from scikit-learn->sentence-transformers)\n",
      "  Using cached threadpoolctl-3.6.0-py3-none-any.whl.metadata (13 kB)\n",
      "Downloading sentence_transformers-4.1.0-py3-none-any.whl (345 kB)\n",
      "Using cached transformers-4.52.4-py3-none-any.whl (10.5 MB)\n",
      "Using cached huggingface_hub-0.32.5-py3-none-any.whl (512 kB)\n",
      "Using cached hf_xet-1.1.3-cp37-abi3-macosx_11_0_arm64.whl (2.2 MB)\n",
      "Using cached tokenizers-0.21.1-cp39-abi3-macosx_11_0_arm64.whl (2.7 MB)\n",
      "Downloading regex-2024.11.6-cp39-cp39-macosx_11_0_arm64.whl (284 kB)\n",
      "Using cached safetensors-0.5.3-cp38-abi3-macosx_11_0_arm64.whl (418 kB)\n",
      "Downloading torch-2.7.1-cp39-none-macosx_11_0_arm64.whl (68.6 MB)\n",
      "\u001b[2K   \u001b[38;2;114;156;31m━━━━━━━━━━━━━━━━━━━━━━━━━━━━━━━━━━━━━━━━\u001b[0m \u001b[32m68.6/68.6 MB\u001b[0m \u001b[31m51.7 MB/s\u001b[0m eta \u001b[36m0:00:00\u001b[0m31m52.4 MB/s\u001b[0m eta \u001b[36m0:00:01\u001b[0m\n",
      "\u001b[?25hUsing cached sympy-1.14.0-py3-none-any.whl (6.3 MB)\n",
      "Using cached mpmath-1.3.0-py3-none-any.whl (536 kB)\n",
      "Using cached filelock-3.18.0-py3-none-any.whl (16 kB)\n",
      "Using cached networkx-3.2.1-py3-none-any.whl (1.6 MB)\n",
      "Using cached requests-2.32.4-py3-none-any.whl (64 kB)\n",
      "Downloading charset_normalizer-3.4.2-cp39-cp39-macosx_10_9_universal2.whl (201 kB)\n",
      "Using cached idna-3.10-py3-none-any.whl (70 kB)\n",
      "Using cached urllib3-2.4.0-py3-none-any.whl (128 kB)\n",
      "Using cached certifi-2025.4.26-py3-none-any.whl (159 kB)\n",
      "Using cached scikit_learn-1.6.1-cp39-cp39-macosx_12_0_arm64.whl (11.1 MB)\n",
      "Downloading joblib-1.5.1-py3-none-any.whl (307 kB)\n",
      "Using cached scipy-1.13.1-cp39-cp39-macosx_12_0_arm64.whl (30.3 MB)\n",
      "Using cached threadpoolctl-3.6.0-py3-none-any.whl (18 kB)\n",
      "Installing collected packages: mpmath, urllib3, threadpoolctl, sympy, scipy, safetensors, regex, networkx, joblib, idna, hf-xet, filelock, charset_normalizer, certifi, torch, scikit-learn, requests, huggingface-hub, tokenizers, transformers, sentence-transformers\n",
      "\u001b[2K   \u001b[38;2;114;156;31m━━━━━━━━━━━━━━━━━━━━━━━━━━━━━━━━━━━━━━━━\u001b[0m \u001b[32m21/21\u001b[0m [sentence-transformers]21\u001b[0m [sentence-transformers]\n",
      "\u001b[1A\u001b[2KSuccessfully installed certifi-2025.4.26 charset_normalizer-3.4.2 filelock-3.18.0 hf-xet-1.1.3 huggingface-hub-0.32.5 idna-3.10 joblib-1.5.1 mpmath-1.3.0 networkx-3.2.1 regex-2024.11.6 requests-2.32.4 safetensors-0.5.3 scikit-learn-1.6.1 scipy-1.13.1 sentence-transformers-4.1.0 sympy-1.14.0 threadpoolctl-3.6.0 tokenizers-0.21.1 torch-2.7.1 transformers-4.52.4 urllib3-2.4.0\n"
     ]
    }
   ],
   "source": [
    "!pip install neo4j-graphrag neo4j sentence-transformers"
   ]
  },
  {
   "cell_type": "code",
   "execution_count": 8,
   "id": "39b2fc7e-5e17-41c1-ad31-ca92c7d79328",
   "metadata": {},
   "outputs": [],
   "source": [
    "from neo4j import GraphDatabase, basic_auth\n",
    "from sentence_transformers import SentenceTransformer\n",
    "\n",
    "driver = GraphDatabase.driver(\n",
    "  \"neo4j+s://neo4j.nabee.ai.kr:7687\",\n",
    "  auth=basic_auth(\"aidall\", \"Aidall1234\"))"
   ]
  },
  {
   "cell_type": "code",
   "execution_count": 9,
   "id": "22580443-867b-4a9c-9e07-b9cca497d1f6",
   "metadata": {},
   "outputs": [
    {
     "name": "stdout",
     "output_type": "stream",
     "text": [
      "{'item': {'id': 'item05'}}\n"
     ]
    }
   ],
   "source": [
    "cypher_query = '''\n",
    "MATCH (item:Item)\n",
    "WHERE item.id = $item\n",
    "RETURN item;\n",
    "'''\n",
    "\n",
    "with driver.session(database=\"neo4j\") as session:\n",
    "  results = session.read_transaction(\n",
    "    lambda tx: tx.run(cypher_query,\n",
    "                      item=\"item05\").data())\n",
    "  for record in results:\n",
    "    print(record)"
   ]
  },
  {
   "cell_type": "code",
   "execution_count": null,
   "id": "19e4e159-6131-4687-a219-341bfb903984",
   "metadata": {},
   "outputs": [],
   "source": []
  }
 ],
 "metadata": {
  "kernelspec": {
   "display_name": "Python (aidall_3_9_7)",
   "language": "python",
   "name": "aidall_3_9_7"
  },
  "language_info": {
   "codemirror_mode": {
    "name": "ipython",
    "version": 3
   },
   "file_extension": ".py",
   "mimetype": "text/x-python",
   "name": "python",
   "nbconvert_exporter": "python",
   "pygments_lexer": "ipython3",
   "version": "3.9.7"
  }
 },
 "nbformat": 4,
 "nbformat_minor": 5
}
