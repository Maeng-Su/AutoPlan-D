{
 "cells": [
  {
   "cell_type": "code",
   "execution_count": 1,
   "id": "18db631d",
   "metadata": {},
   "outputs": [],
   "source": [
    "# !pip install pandas\t\n",
    "# !pip install numpy\n",
    "# !pip install tqdm\t\n",
    "# !pip install matplotlib"
   ]
  },
  {
   "cell_type": "code",
   "execution_count": 1,
   "id": "c99df847",
   "metadata": {},
   "outputs": [],
   "source": [
    "# 라이브러리\n",
    "import random\n",
    "import datetime\n",
    "import pandas as pd\n",
    "import numpy as np\n",
    "import matplotlib.pyplot as plt\n",
    "from tqdm import tqdm\n",
    "from numpy.random import randint, rand"
   ]
  },
  {
   "cell_type": "code",
   "execution_count": 2,
   "id": "92011789",
   "metadata": {},
   "outputs": [],
   "source": [
    "# 데이터 불러오기\n",
    "machine_info = pd.read_csv(\"./data/machine_info.csv\")\n",
    "order_info = pd.read_csv(\"./data/order_info.csv\")\n",
    "order_info_nl = pd.read_csv(\"./data/order_info_nl.csv\", header=None)"
   ]
  },
  {
   "cell_type": "code",
   "execution_count": 3,
   "id": "46be5b2a",
   "metadata": {},
   "outputs": [],
   "source": [
    "order_info_nl.columns = ['영업납기', '중산도면', '단가', '수량', '선급', '자연어주문']"
   ]
  },
  {
   "cell_type": "code",
   "execution_count": 4,
   "id": "a8a6ce63",
   "metadata": {},
   "outputs": [],
   "source": [
    "# 전처리 (1): column name 변경\n",
    "order_info = order_info.rename(columns={\n",
    "    '영업납기': 'time',\n",
    "    '중산도면': 'item',\n",
    "    '단가': 'cost',\n",
    "    '수량': 'qty',\n",
    "    '선급': 'urgent'\n",
    "})\n",
    "\n",
    "machine_info = machine_info.rename(columns={\n",
    "    'JSDWG': 'item',\n",
    "    'MCNO': 'machine',\n",
    "    'AVG_CT': 'capacity'\n",
    "})\n",
    "\n",
    "order_info_nl = order_info_nl.rename(columns={\n",
    "    '영업납기': 'time',\n",
    "    '중산도면': 'item',\n",
    "    '단가': 'cost',\n",
    "    '수량': 'qty',\n",
    "    '선급': 'urgent',\n",
    "    '자연어주문': 'nl_order'\n",
    "})"
   ]
  },
  {
   "cell_type": "code",
   "execution_count": 5,
   "id": "d02562cd",
   "metadata": {},
   "outputs": [],
   "source": [
    "# 전처리 - order\n",
    "def preprocess_order(df):\n",
    "    # 긴급 생산 요건이 있는 경우 1, 그렇지 않은 경우는 0\n",
    "    df['urgent'] = df['urgent'].fillna(0)\n",
    "\n",
    "    for i in range(len(df)):\n",
    "        if df.loc[i, 'urgent'] != 0:\n",
    "            df.loc[i, 'urgent'] = 1\n",
    "\n",
    "    # 전처리 (3): time type 부여 (문자열 → datetime)\n",
    "    df['time'] = df['time'].apply(\n",
    "        lambda x: datetime.datetime.strptime(x, '%Y-%m-%d')\n",
    "    )\n",
    "\n",
    "    df.dropna(axis=0, inplace=True)\n",
    "\n",
    "    # 같은 종류의 order 묶기\n",
    "    df = df.groupby(['time','item','cost','urgent']).sum().reset_index()\n",
    "    \n",
    "    return df\n",
    "\n",
    "# 전처리 - machine\n",
    "def preprocess_machine(df):\n",
    "    df.dropna(axis=0, inplace=True)\n",
    "\n",
    "    return df"
   ]
  },
  {
   "cell_type": "code",
   "execution_count": 7,
   "id": "3a21d937",
   "metadata": {},
   "outputs": [],
   "source": [
    "# 슬라이딩 윈도우 함수 정의\n",
    "def create_shifted_dataset(df, window_size=10):\n",
    "    datasets = []\n",
    "    for i in range(len(df) - window_size + 1):\n",
    "        window = df.iloc[i:i+window_size].reset_index(drop=True)\n",
    "        datasets.append(window)\n",
    "    return datasets"
   ]
  },
  {
   "cell_type": "code",
   "execution_count": 7,
   "id": "8597f668",
   "metadata": {},
   "outputs": [],
   "source": [
    "machine_info = preprocess_machine(machine_info)\n",
    "\n",
    "def make_dataset(order_info_nl, machine_info, window_size=10):\n",
    "    dataset = create_shifted_dataset(order_info_nl, window_size=window_size)\n",
    "    dataset_for_ga = list()\n",
    "    dataset_for_nl = list()\n",
    "\n",
    "    for data in dataset:\n",
    "        order = data.iloc[:, :5]\n",
    "        nl = data.iloc[:, 5:]\n",
    "\n",
    "        order = preprocess_order(order)\n",
    "        order = pd.merge(order, machine_info, on='item', how='inner')\n",
    "\n",
    "        dataset_for_ga.append(order)\n",
    "        dataset_for_nl.append(nl)\n",
    "\n",
    "    return dataset_for_ga, dataset_for_nl\n",
    "\n",
    "dataset_for_ga, dataset_for_nl = make_dataset(order_info_nl, machine_info)"
   ]
  },
  {
   "cell_type": "code",
   "execution_count": 8,
   "id": "049ae75a",
   "metadata": {},
   "outputs": [],
   "source": [
    "def ga_preprocess(dataset):\n",
    "    T = list(set(dataset['time']))\n",
    "    I = list(set(dataset['item']))\n",
    "    J = list(set(dataset['machine']))\n",
    "\n",
    "    # cit = 날짜 t에, item i가 미생산 될 때 발생하는 비용\n",
    "    cit = dict()\n",
    "    for i in I:\n",
    "        for t in T:\n",
    "            temp_dataset = dataset[(dataset['item'] == i) & (dataset['time'] == t)]\n",
    "            if len(temp_dataset) != 0:\n",
    "                value = list(set(temp_dataset['cost']))[0]\n",
    "                cit[i, t] = value\n",
    "            else:\n",
    "                cit[i, t] = 0\n",
    "\n",
    "    # pit = 날짜 t에, item i가 긴급 생산이 필요한 경우 1, 그렇지 않으면 0\n",
    "    pit = dict()\n",
    "    for i in I:\n",
    "        for t in T:\n",
    "            temp_dataset = dataset[(dataset['item'] == i) & (dataset['time'] == t)]\n",
    "            if len(temp_dataset) != 0:\n",
    "                value = list(set(temp_dataset['urgent']))[0]\n",
    "                pit[i, t] = value\n",
    "            else:\n",
    "                pit[i, t] = 0\n",
    "\n",
    "    # dit = 날짜 t에 item i마다 생산되어야 하는 요구량\n",
    "    dit = dict()\n",
    "    for i in I:\n",
    "        for t in T:\n",
    "            temp_dataset = dataset[(dataset['item'] == i) & (dataset['time'] == t)]\n",
    "            if len(temp_dataset) != 0:\n",
    "                value = list(set(temp_dataset['qty']))[0]\n",
    "                dit[i, t] = value\n",
    "            else:\n",
    "                dit[i, t] = 0\n",
    "\n",
    "    # mijt= 날짜 t에 NC machine j가 item i를 생산할 수 있는 능력\n",
    "    mijt = dict()\n",
    "    for i in I:\n",
    "        for j in J:\n",
    "            temp_dataset = dataset[\n",
    "                (dataset['item'] == i) &\n",
    "                (dataset['machine'] == j)\n",
    "            ]\n",
    "\n",
    "            if len(temp_dataset) != 0:\n",
    "                value = list(set(temp_dataset['capacity']))[0]\n",
    "                for t in T:\n",
    "                    mijt[i, j, t] = value\n",
    "            else:\n",
    "                for t in T:\n",
    "                    mijt[i, j, t] = 0\n",
    "\n",
    "    return T, I, J, cit, pit, dit, mijt\n",
    "\n",
    "# 머신 j가 시간 t에 아이템 i를 만들수 없을 경우 0으로 처리하기 위함함\n",
    "def decode(mijt, xijt):\n",
    "    for j in J:\n",
    "        for t in T:\n",
    "            for i in I:\n",
    "                if mijt[i, j, t] == 0:\n",
    "                    xijt[i, j, t] = 0\n",
    "    return xijt\n",
    "\n",
    "# 목적함수를 최적화하기 위한 xijt 조합을 임의로 생성하는 함수\n",
    "def generation_xijt():\n",
    "    xijt = {}\n",
    "\n",
    "    for i in I:\n",
    "        for j in J:\n",
    "            for t in T:\n",
    "                if dit[i, t] > 0:\n",
    "                    xijt[i, j, t] = random.uniform(0, 1)\n",
    "                else:\n",
    "                    xijt[i, j, t] = 0\n",
    "\n",
    "    xijt = decode(mijt, xijt)\n",
    "    return xijt\n",
    "\n",
    "def dict2list(xijt):\n",
    "    return list(xijt.values())\n",
    "\n",
    "def list2dict(bitstring, type='xijt'):\n",
    "    if type == 'xijt':\n",
    "        _keys = xijt_keys\n",
    "    elif type == 'mijt':\n",
    "        _keys = mijt_keys\n",
    "\n",
    "    xijt = {}\n",
    "    for idx, value in enumerate(bitstring):\n",
    "        xijt[_keys[idx]] = value\n",
    "\n",
    "    return xijt\n",
    "\n",
    "# 제약조건 확인\n",
    "# 기계 하루 총 생산시간은 600분\n",
    "# j기계로 600분 안에 아이템 i를 생산할 수 없다면 아이템 생산하지 않도록 하기 위함.\n",
    "def constraint_check(xijt):\n",
    "    for j in J:\n",
    "        for t in T:\n",
    "            check_value = sum(mijt[i, j, t] * round(xijt[i, j, t] * dit[i, t]) for i in I) <= 600\n",
    "\n",
    "            if check_value is False:\n",
    "                for i in I:\n",
    "                    xijt[i, j, t] = 0\n",
    "\n",
    "    return xijt\n",
    "\n",
    "# 목적 함수\n",
    "def objective(xijt):\n",
    "    uit = {}\n",
    "    xijt = constraint_check(xijt)\n",
    "\n",
    "    for i in I:\n",
    "        for t in T:\n",
    "            u = dit[i, t] - sum(round(xijt[i, j, t] * dit[i, t]) for j in J)\n",
    "            if u >= 0:\n",
    "                uit[i, t] = u\n",
    "            else:\n",
    "                uit[i, t] = abs(u) * 10_000_000\n",
    "\n",
    "    objective = sum(uit[i, t] * cit[i, t] * pit[i, t] for i in I for t in T)\n",
    "    return objective\n",
    "\n",
    "# Tournament selection\n",
    "def selection(pop, scores, n_pop):\n",
    "    # n_pop은 한 세대를 구성하는 염색체 수이며, 하이퍼파라미터 값\n",
    "    k = round(n_pop * 0.5)\n",
    "    selection_ix = randint(len(pop))\n",
    "    \n",
    "    for ix in randint(0, len(pop), k - 1):\n",
    "        if scores[ix] < scores[selection_ix]:\n",
    "            selection_ix = ix\n",
    "            \n",
    "    return pop[selection_ix]\n",
    "\n",
    "def crossover(p1, p2, r_cross):\n",
    "    p1 = dict2list(p1)\n",
    "    p2 = dict2list(p2)\n",
    "    c1, c2 = p1.copy(), p2.copy()\n",
    "\n",
    "    if rand() < r_cross:\n",
    "        base_bitstring = dict2list(mijt)\n",
    "\n",
    "        # crossover (1): 유효 인덱스 추출\n",
    "        valid_index = []\n",
    "        for i in range(len(base_bitstring)):\n",
    "            if base_bitstring[i] > 0:\n",
    "                valid_index.append(i)\n",
    "\n",
    "        n = round(r_cross * len(valid_index))\n",
    "        pt_0 = random.sample(valid_index, n)\n",
    "        pt_1 = list(set(valid_index) - set(pt_0))\n",
    "\n",
    "        # crossover (2): 교차 적용\n",
    "        for i in pt_0:\n",
    "            c1[i] = p2[i]\n",
    "            c2[i] = p1[i]\n",
    "\n",
    "        for i in pt_1:\n",
    "            c1[i] = p2[i]\n",
    "            c2[i] = p1[i]\n",
    "\n",
    "    return [c1, c2]\n",
    "\n",
    "def mutation(bitstring, r_mut):\n",
    "    for i in range(len(bitstring)):\n",
    "        if rand() < r_mut:\n",
    "            base_bitstring = dict2list(mijt)\n",
    "\n",
    "            # mutation (1): 유효 인덱스 찾기\n",
    "            valid_index = []\n",
    "            for j in range(len(base_bitstring)):\n",
    "                if base_bitstring[j] > 0:\n",
    "                    valid_index.append(j)\n",
    "\n",
    "            n = round(r_mut * len(valid_index))\n",
    "\n",
    "            # mutation (2): 무작위 인덱스에서 값 변경\n",
    "            pt_0 = random.sample(valid_index, n)\n",
    "            for idx in pt_0:\n",
    "                bitstring[idx] = random.uniform(0, 1)\n",
    "\n",
    "def genetic_algorithm(bounds, n_iter, n_pop, r_cross, r_mut):\n",
    "    # Utility\n",
    "    log = []\n",
    "    log_detail = []\n",
    "    best_gen = 0\n",
    "\n",
    "    # GA algorithm 초기화\n",
    "    pop = [generation_xijt() for _ in range(n_pop)]\n",
    "    best = decode(mijt, pop[0])\n",
    "    best_eval = objective(best)\n",
    "    print(best_eval)\n",
    "\n",
    "    for gen in tqdm(range(n_iter)):\n",
    "        # 현재 세대 해를 디코딩\n",
    "        decoded = [decode(mijt, p) for p in pop]\n",
    "\n",
    "        # 목적함수 값 계산\n",
    "        scores = [objective(d) for d in decoded]\n",
    "\n",
    "        # 가장 좋은 해 갱신\n",
    "        for i in range(n_pop):\n",
    "            if scores[i] < best_eval:\n",
    "                best, best_eval = pop[i], scores[i]\n",
    "                print(f'>best! {gen}, {scores[i]}')\n",
    "                best_gen = gen\n",
    "            else:\n",
    "                # stop rule: 개선 없이 100세대 이상일 경우 중단\n",
    "                if gen - best_gen > 100:\n",
    "                    print('stop')\n",
    "                    return [best, best_eval, log, log_detail]\n",
    "\n",
    "        # 부모 해 집합 선택\n",
    "        selected = [selection(pop, scores, n_pop) for _ in range(n_pop)]\n",
    "        log_detail.append([gen, objective(selected[0])])\n",
    "\n",
    "        # 자식 세대 생성\n",
    "        children = []\n",
    "        for i in range(0, n_pop, 2):\n",
    "            p1, p2 = selected[i], selected[i + 1]\n",
    "            for c in crossover(p1, p2, r_cross):\n",
    "                mutation(c, r_mut)\n",
    "                children.append(list2dict(c))\n",
    "\n",
    "        pop = children\n",
    "        log.append([gen, best_eval])\n",
    "\n",
    "    return [best, best_eval, log, log_detail]\n",
    "\n",
    "def set_hyper_parameters():\n",
    "    # 하이퍼파라미터 설정\n",
    "    hyper_parameters = pd.DataFrame({\n",
    "        'index':    ['index_1', 'index_2', 'index_3', 'index_4',\n",
    "                    'index_5', 'index_6', 'index_7', 'index_8'],\n",
    "        'n_iter':   [200, 200, 200, 200, 200, 200, 200, 200],\n",
    "        'n_pop':    [10, 20, 40, 20, 20, 20, 20, 20],\n",
    "        'r_cross':  [0.4, 0.4, 0.4, 0.1, 0.2, 0.3, 0.4, 0.4],\n",
    "        'r_mut':    [0.4, 0.4, 0.4, 0.4, 0.4, 0.4, 0.1, 0.6]\n",
    "    })\n",
    "\n",
    "    # 결과 기록용 열 추가\n",
    "    hyper_parameters['objective'] = np.nan\n",
    "    hyper_parameters['time'] = np.nan\n",
    "\n",
    "    return hyper_parameters\n",
    "\n",
    "def find_hyper_parameters(hyper_parameters):\n",
    "    log_list = []\n",
    "\n",
    "    for i in range(len(hyper_parameters)):\n",
    "        parameter = hyper_parameters.iloc[i]\n",
    "        index_nm = parameter['index']\n",
    "        print(f'{index_nm}')\n",
    "\n",
    "        start = datetime.datetime.now()\n",
    "\n",
    "        # 초기 해 및 키 정의\n",
    "        xijt = generation_xijt()\n",
    "        global xijt_keys, mijt_keys\n",
    "        xijt_keys = list(xijt.keys())\n",
    "        mijt_keys = list(mijt.keys())\n",
    "\n",
    "        # 하이퍼파라미터 설정\n",
    "        n_iter = parameter['n_iter']\n",
    "        n_pop = parameter['n_pop']\n",
    "        r_cross = parameter['r_cross']\n",
    "        r_mut = parameter['r_mut']\n",
    "\n",
    "        # 유전 알고리즘 실행\n",
    "        best, score, log, log_detail = genetic_algorithm(mijt, n_iter, n_pop, r_cross, r_mut)\n",
    "\n",
    "        # 실행 시간 및 결과 기록\n",
    "        elapsed_time = datetime.datetime.now() - start\n",
    "        hyper_parameters.loc[i, 'time'] = elapsed_time\n",
    "        hyper_parameters.loc[i, 'objective'] = score\n",
    "\n",
    "        log_list.append(log)\n",
    "\n",
    "    # 결과 출력\n",
    "    return hyper_parameters, log_list\n"
   ]
  },
  {
   "cell_type": "code",
   "execution_count": 16,
   "id": "448e999f",
   "metadata": {},
   "outputs": [],
   "source": [
    "# # 적합한 하이퍼 파라미터 찾는 과정\n",
    "# temp0 = [dataset_for_ga[i] for i in [0, 5, 10]]\n",
    "\n",
    "# hyper_parameters_ls, log_list_ls = list(), list()\n",
    "\n",
    "# # 유전 알고리즘\n",
    "# def ga_get_gt(dataset_for_ga):\n",
    "#     for data in dataset_for_ga:\n",
    "#         global T, I, J, cit, pit, dit, mijt\n",
    "#         T, I, J, cit, pit, dit, mijt = ga_preprocess(data)\n",
    "\n",
    "#         hyper_parameters = set_hyper_parameters()\n",
    "#         hyper_parameters, log_list = find_hyper_parameters(hyper_parameters)\n",
    "\n",
    "#         hyper_parameters_ls.append(hyper_parameters)\n",
    "#         log_list_ls.append(log_list)\n",
    "#         print(hyper_parameters)\n",
    "\n",
    "#     return hyper_parameters_ls, log_list_ls\n",
    "\n",
    "# hyper_parameters_ls, log_list_ls = ga_get_gt(temp0)"
   ]
  },
  {
   "cell_type": "code",
   "execution_count": 15,
   "id": "1749ac14",
   "metadata": {},
   "outputs": [
    {
     "name": "stdout",
     "output_type": "stream",
     "text": [
      "35558309540310\n"
     ]
    },
    {
     "name": "stderr",
     "output_type": "stream",
     "text": [
      "  0%|          | 0/200 [00:00<?, ?it/s]"
     ]
    },
    {
     "name": "stdout",
     "output_type": "stream",
     "text": [
      ">best! 0, 28244100209389\n",
      ">best! 0, 17868722929391\n"
     ]
    },
    {
     "name": "stderr",
     "output_type": "stream",
     "text": [
      "  0%|          | 1/200 [00:08<26:56,  8.12s/it]"
     ]
    },
    {
     "name": "stdout",
     "output_type": "stream",
     "text": [
      ">best! 1, 14986671860572\n",
      ">best! 1, 10375394304005\n",
      ">best! 1, 5842453039046\n",
      ">best! 1, 4611298144006\n"
     ]
    },
    {
     "name": "stderr",
     "output_type": "stream",
     "text": [
      "  1%|          | 2/200 [00:15<26:12,  7.94s/it]"
     ]
    },
    {
     "name": "stdout",
     "output_type": "stream",
     "text": [
      ">best! 2, 16902871\n",
      ">best! 2, 11168579\n"
     ]
    },
    {
     "name": "stderr",
     "output_type": "stream",
     "text": [
      " 10%|█         | 20/200 [02:45<24:19,  8.11s/it]"
     ]
    },
    {
     "name": "stdout",
     "output_type": "stream",
     "text": [
      ">best! 20, 9330539\n"
     ]
    },
    {
     "name": "stderr",
     "output_type": "stream",
     "text": [
      " 20%|█▉        | 39/200 [05:21<22:36,  8.42s/it]"
     ]
    },
    {
     "name": "stdout",
     "output_type": "stream",
     "text": [
      ">best! 39, 5202353\n"
     ]
    },
    {
     "name": "stderr",
     "output_type": "stream",
     "text": [
      " 70%|███████   | 140/200 [19:01<08:09,  8.16s/it]\n"
     ]
    },
    {
     "name": "stdout",
     "output_type": "stream",
     "text": [
      "stop\n",
      "1번째 log 저장 완료. 총 118개\n",
      "9575555\n"
     ]
    },
    {
     "name": "stderr",
     "output_type": "stream",
     "text": [
      "  1%|          | 2/200 [00:10<17:21,  5.26s/it]"
     ]
    },
    {
     "name": "stdout",
     "output_type": "stream",
     "text": [
      ">best! 2, 7862975\n"
     ]
    },
    {
     "name": "stderr",
     "output_type": "stream",
     "text": [
      "  4%|▍         | 9/200 [00:49<17:40,  5.55s/it]"
     ]
    },
    {
     "name": "stdout",
     "output_type": "stream",
     "text": [
      ">best! 9, 6606663\n"
     ]
    },
    {
     "name": "stderr",
     "output_type": "stream",
     "text": [
      " 10%|█         | 20/200 [01:49<16:31,  5.51s/it]"
     ]
    },
    {
     "name": "stdout",
     "output_type": "stream",
     "text": [
      ">best! 20, 5176140\n"
     ]
    },
    {
     "name": "stderr",
     "output_type": "stream",
     "text": [
      " 18%|█▊        | 35/200 [03:09<14:47,  5.38s/it]"
     ]
    },
    {
     "name": "stdout",
     "output_type": "stream",
     "text": [
      ">best! 35, 4994303\n"
     ]
    },
    {
     "name": "stderr",
     "output_type": "stream",
     "text": [
      " 18%|█▊        | 36/200 [03:14<14:35,  5.34s/it]"
     ]
    },
    {
     "name": "stdout",
     "output_type": "stream",
     "text": [
      ">best! 36, 1357137\n"
     ]
    },
    {
     "name": "stderr",
     "output_type": "stream",
     "text": [
      " 68%|██████▊   | 137/200 [12:30<05:45,  5.48s/it]\n"
     ]
    },
    {
     "name": "stdout",
     "output_type": "stream",
     "text": [
      "stop\n",
      "2번째 log 저장 완료. 총 118개\n",
      "15563072632000\n"
     ]
    },
    {
     "name": "stderr",
     "output_type": "stream",
     "text": [
      "  0%|          | 0/200 [00:00<?, ?it/s]"
     ]
    },
    {
     "name": "stdout",
     "output_type": "stream",
     "text": [
      ">best! 0, 4034877813000\n",
      ">best! 0, 9244589\n"
     ]
    },
    {
     "name": "stderr",
     "output_type": "stream",
     "text": [
      "  1%|          | 2/200 [00:08<14:14,  4.31s/it]"
     ]
    },
    {
     "name": "stdout",
     "output_type": "stream",
     "text": [
      ">best! 2, 7123641\n"
     ]
    },
    {
     "name": "stderr",
     "output_type": "stream",
     "text": [
      "  5%|▌         | 10/200 [00:42<13:31,  4.27s/it]"
     ]
    },
    {
     "name": "stdout",
     "output_type": "stream",
     "text": [
      ">best! 10, 6573397\n"
     ]
    },
    {
     "name": "stderr",
     "output_type": "stream",
     "text": [
      "  6%|▋         | 13/200 [00:57<14:16,  4.58s/it]"
     ]
    },
    {
     "name": "stdout",
     "output_type": "stream",
     "text": [
      ">best! 13, 5388923\n"
     ]
    },
    {
     "name": "stderr",
     "output_type": "stream",
     "text": [
      "  8%|▊         | 17/200 [01:14<13:32,  4.44s/it]"
     ]
    },
    {
     "name": "stdout",
     "output_type": "stream",
     "text": [
      ">best! 17, 4325089\n"
     ]
    },
    {
     "name": "stderr",
     "output_type": "stream",
     "text": [
      " 32%|███▎      | 65/200 [04:44<09:45,  4.34s/it]"
     ]
    },
    {
     "name": "stdout",
     "output_type": "stream",
     "text": [
      ">best! 65, 4118641\n"
     ]
    },
    {
     "name": "stderr",
     "output_type": "stream",
     "text": [
      " 70%|███████   | 140/200 [10:24<04:17,  4.28s/it]"
     ]
    },
    {
     "name": "stdout",
     "output_type": "stream",
     "text": [
      ">best! 140, 3691141\n"
     ]
    },
    {
     "name": "stderr",
     "output_type": "stream",
     "text": [
      "100%|██████████| 200/200 [14:46<00:00,  4.43s/it]\n"
     ]
    },
    {
     "name": "stdout",
     "output_type": "stream",
     "text": [
      "3번째 log 저장 완료. 총 118개\n",
      "45536398131000\n"
     ]
    },
    {
     "name": "stderr",
     "output_type": "stream",
     "text": [
      "  0%|          | 0/200 [00:00<?, ?it/s]"
     ]
    },
    {
     "name": "stdout",
     "output_type": "stream",
     "text": [
      ">best! 0, 32278965020500\n",
      ">best! 0, 31702559854000\n",
      ">best! 0, 25362046078000\n",
      ">best! 0, 6660009358140\n",
      ">best! 0, 9118102\n"
     ]
    },
    {
     "name": "stderr",
     "output_type": "stream",
     "text": [
      "  1%|          | 2/200 [00:07<11:54,  3.61s/it]"
     ]
    },
    {
     "name": "stdout",
     "output_type": "stream",
     "text": [
      ">best! 2, 7526461\n"
     ]
    },
    {
     "name": "stderr",
     "output_type": "stream",
     "text": [
      "  2%|▏         | 4/200 [00:14<11:41,  3.58s/it]"
     ]
    },
    {
     "name": "stdout",
     "output_type": "stream",
     "text": [
      ">best! 4, 3622910\n"
     ]
    },
    {
     "name": "stderr",
     "output_type": "stream",
     "text": [
      "  7%|▋         | 14/200 [00:50<10:58,  3.54s/it]"
     ]
    },
    {
     "name": "stdout",
     "output_type": "stream",
     "text": [
      ">best! 14, 2491423\n"
     ]
    },
    {
     "name": "stderr",
     "output_type": "stream",
     "text": [
      " 57%|█████▊    | 115/200 [06:49<05:02,  3.56s/it]\n"
     ]
    },
    {
     "name": "stdout",
     "output_type": "stream",
     "text": [
      "stop\n",
      "4번째 log 저장 완료. 총 118개\n",
      "62252286950500\n"
     ]
    },
    {
     "name": "stderr",
     "output_type": "stream",
     "text": [
      "  0%|          | 0/200 [00:00<?, ?it/s]"
     ]
    },
    {
     "name": "stdout",
     "output_type": "stream",
     "text": [
      ">best! 0, 28244098771000\n",
      ">best! 0, 12950008884986\n",
      ">best! 0, 12744243\n",
      ">best! 0, 7254833\n"
     ]
    },
    {
     "name": "stderr",
     "output_type": "stream",
     "text": [
      "  4%|▍         | 9/200 [00:17<06:03,  1.90s/it]"
     ]
    },
    {
     "name": "stdout",
     "output_type": "stream",
     "text": [
      ">best! 9, 4930166\n"
     ]
    },
    {
     "name": "stderr",
     "output_type": "stream",
     "text": [
      " 11%|█         | 22/200 [00:37<04:37,  1.56s/it]"
     ]
    },
    {
     "name": "stdout",
     "output_type": "stream",
     "text": [
      ">best! 22, 3963500\n",
      ">best! 22, 3843987\n"
     ]
    },
    {
     "name": "stderr",
     "output_type": "stream",
     "text": [
      " 36%|███▌      | 71/200 [01:57<03:33,  1.66s/it]"
     ]
    },
    {
     "name": "stdout",
     "output_type": "stream",
     "text": [
      ">best! 71, 2395987\n"
     ]
    },
    {
     "name": "stderr",
     "output_type": "stream",
     "text": [
      " 82%|████████▎ | 165/200 [04:30<00:59,  1.69s/it]"
     ]
    },
    {
     "name": "stdout",
     "output_type": "stream",
     "text": [
      ">best! 165, 2276782\n"
     ]
    },
    {
     "name": "stderr",
     "output_type": "stream",
     "text": [
      "100%|██████████| 200/200 [05:27<00:00,  1.64s/it]\n"
     ]
    },
    {
     "name": "stdout",
     "output_type": "stream",
     "text": [
      "5번째 log 저장 완료. 총 118개\n",
      "157936342442000\n"
     ]
    },
    {
     "name": "stderr",
     "output_type": "stream",
     "text": [
      "  0%|          | 0/200 [00:00<?, ?it/s]"
     ]
    },
    {
     "name": "stdout",
     "output_type": "stream",
     "text": [
      ">best! 0, 145255323515000\n",
      ">best! 0, 134303531942500\n",
      ">best! 0, 111247131757500\n"
     ]
    },
    {
     "name": "stderr",
     "output_type": "stream",
     "text": [
      "  1%|          | 2/200 [00:03<05:47,  1.75s/it]"
     ]
    },
    {
     "name": "stdout",
     "output_type": "stream",
     "text": [
      ">best! 2, 89919960203500\n"
     ]
    },
    {
     "name": "stderr",
     "output_type": "stream",
     "text": [
      "  8%|▊         | 15/200 [00:25<05:06,  1.66s/it]"
     ]
    },
    {
     "name": "stdout",
     "output_type": "stream",
     "text": [
      ">best! 15, 53029721794500\n"
     ]
    },
    {
     "name": "stderr",
     "output_type": "stream",
     "text": [
      " 54%|█████▎    | 107/200 [03:02<02:39,  1.72s/it]"
     ]
    },
    {
     "name": "stdout",
     "output_type": "stream",
     "text": [
      ">best! 107, 44959980536500\n"
     ]
    },
    {
     "name": "stderr",
     "output_type": "stream",
     "text": [
      "100%|██████████| 200/200 [05:44<00:00,  1.72s/it]\n"
     ]
    },
    {
     "name": "stdout",
     "output_type": "stream",
     "text": [
      "6번째 log 저장 완료. 총 118개\n",
      "141960002867500\n"
     ]
    },
    {
     "name": "stderr",
     "output_type": "stream",
     "text": [
      "  0%|          | 0/200 [00:00<?, ?it/s]"
     ]
    },
    {
     "name": "stdout",
     "output_type": "stream",
     "text": [
      ">best! 0, 108972503848000\n",
      ">best! 0, 100555001979500\n",
      ">best! 0, 82582501720500\n",
      ">best! 0, 67567500388500\n",
      ">best! 0, 48457503848000\n",
      ">best! 0, 44362501276500\n"
     ]
    },
    {
     "name": "stderr",
     "output_type": "stream",
     "text": [
      "  3%|▎         | 6/200 [00:11<05:41,  1.76s/it]"
     ]
    },
    {
     "name": "stdout",
     "output_type": "stream",
     "text": [
      ">best! 6, 37310003145000\n"
     ]
    },
    {
     "name": "stderr",
     "output_type": "stream",
     "text": [
      "  4%|▍         | 8/200 [00:14<05:32,  1.73s/it]"
     ]
    },
    {
     "name": "stdout",
     "output_type": "stream",
     "text": [
      ">best! 8, 32987500425500\n"
     ]
    },
    {
     "name": "stderr",
     "output_type": "stream",
     "text": [
      " 25%|██▌       | 50/200 [01:25<04:19,  1.73s/it]"
     ]
    },
    {
     "name": "stdout",
     "output_type": "stream",
     "text": [
      ">best! 50, 31942500000000\n"
     ]
    },
    {
     "name": "stderr",
     "output_type": "stream",
     "text": [
      " 27%|██▋       | 54/200 [01:32<03:59,  1.64s/it]"
     ]
    },
    {
     "name": "stdout",
     "output_type": "stream",
     "text": [
      ">best! 54, 30257500832500\n"
     ]
    },
    {
     "name": "stderr",
     "output_type": "stream",
     "text": [
      " 33%|███▎      | 66/200 [01:51<03:31,  1.58s/it]"
     ]
    },
    {
     "name": "stdout",
     "output_type": "stream",
     "text": [
      ">best! 66, 16380000018500\n"
     ]
    },
    {
     "name": "stderr",
     "output_type": "stream",
     "text": [
      " 50%|█████     | 101/200 [02:52<02:36,  1.58s/it]"
     ]
    },
    {
     "name": "stdout",
     "output_type": "stream",
     "text": [
      ">best! 101, 13422501554000\n"
     ]
    },
    {
     "name": "stderr",
     "output_type": "stream",
     "text": [
      "100%|██████████| 200/200 [05:33<00:00,  1.67s/it]\n"
     ]
    },
    {
     "name": "stdout",
     "output_type": "stream",
     "text": [
      "7번째 log 저장 완료. 총 118개\n",
      "142870000777000\n"
     ]
    },
    {
     "name": "stderr",
     "output_type": "stream",
     "text": [
      "  0%|          | 0/200 [00:00<?, ?it/s]"
     ]
    },
    {
     "name": "stdout",
     "output_type": "stream",
     "text": [
      ">best! 0, 105332501332000\n",
      ">best! 0, 94867502146000\n",
      ">best! 0, 44590001221000\n",
      ">best! 0, 38220003644500\n"
     ]
    },
    {
     "name": "stderr",
     "output_type": "stream",
     "text": [
      "  4%|▍         | 9/200 [00:18<06:12,  1.95s/it]"
     ]
    },
    {
     "name": "stdout",
     "output_type": "stream",
     "text": [
      ">best! 9, 18882501498500\n"
     ]
    },
    {
     "name": "stderr",
     "output_type": "stream",
     "text": [
      " 18%|█▊        | 35/200 [01:10<05:30,  2.00s/it]"
     ]
    },
    {
     "name": "stdout",
     "output_type": "stream",
     "text": [
      ">best! 35, 17972501239500\n"
     ]
    },
    {
     "name": "stderr",
     "output_type": "stream",
     "text": [
      " 68%|██████▊   | 136/200 [04:31<02:07,  2.00s/it]\n"
     ]
    },
    {
     "name": "stdout",
     "output_type": "stream",
     "text": [
      "stop\n",
      "8번째 log 저장 완료. 총 118개\n",
      "143962500000000\n"
     ]
    },
    {
     "name": "stderr",
     "output_type": "stream",
     "text": [
      "  0%|          | 0/200 [00:00<?, ?it/s]"
     ]
    },
    {
     "name": "stdout",
     "output_type": "stream",
     "text": [
      ">best! 0, 103967500037000\n",
      ">best! 0, 88042502534500\n",
      ">best! 0, 75302503848000\n",
      ">best! 0, 58922501202500\n"
     ]
    },
    {
     "name": "stderr",
     "output_type": "stream",
     "text": [
      "  0%|          | 1/200 [00:02<08:46,  2.64s/it]"
     ]
    },
    {
     "name": "stdout",
     "output_type": "stream",
     "text": [
      ">best! 1, 58467503774000\n"
     ]
    },
    {
     "name": "stderr",
     "output_type": "stream",
     "text": [
      "  2%|▏         | 4/200 [00:11<09:06,  2.79s/it]"
     ]
    },
    {
     "name": "stdout",
     "output_type": "stream",
     "text": [
      ">best! 4, 55055002035000\n"
     ]
    },
    {
     "name": "stderr",
     "output_type": "stream",
     "text": [
      "  3%|▎         | 6/200 [00:16<08:46,  2.72s/it]"
     ]
    },
    {
     "name": "stdout",
     "output_type": "stream",
     "text": [
      ">best! 6, 50277502756500\n"
     ]
    },
    {
     "name": "stderr",
     "output_type": "stream",
     "text": [
      "  7%|▋         | 14/200 [00:38<08:18,  2.68s/it]"
     ]
    },
    {
     "name": "stdout",
     "output_type": "stream",
     "text": [
      ">best! 14, 38675002849000\n"
     ]
    },
    {
     "name": "stderr",
     "output_type": "stream",
     "text": [
      " 10%|█         | 20/200 [00:54<08:44,  2.91s/it]"
     ]
    },
    {
     "name": "stdout",
     "output_type": "stream",
     "text": [
      ">best! 20, 31850002682500\n"
     ]
    },
    {
     "name": "stderr",
     "output_type": "stream",
     "text": [
      " 12%|█▏        | 24/200 [01:05<07:58,  2.72s/it]"
     ]
    },
    {
     "name": "stdout",
     "output_type": "stream",
     "text": [
      ">best! 24, 24115002867500\n"
     ]
    },
    {
     "name": "stderr",
     "output_type": "stream",
     "text": [
      " 14%|█▎        | 27/200 [01:13<07:37,  2.65s/it]"
     ]
    },
    {
     "name": "stdout",
     "output_type": "stream",
     "text": [
      ">best! 27, 16607503200500\n"
     ]
    },
    {
     "name": "stderr",
     "output_type": "stream",
     "text": [
      " 38%|███▊      | 76/200 [03:24<05:18,  2.57s/it]"
     ]
    },
    {
     "name": "stdout",
     "output_type": "stream",
     "text": [
      ">best! 76, 16380001554000\n"
     ]
    },
    {
     "name": "stderr",
     "output_type": "stream",
     "text": [
      " 88%|████████▊ | 176/200 [07:50<01:05,  2.72s/it]"
     ]
    },
    {
     "name": "stdout",
     "output_type": "stream",
     "text": [
      ">best! 176, 7052502146000\n"
     ]
    },
    {
     "name": "stderr",
     "output_type": "stream",
     "text": [
      "100%|██████████| 200/200 [08:54<00:00,  2.67s/it]\n"
     ]
    },
    {
     "name": "stdout",
     "output_type": "stream",
     "text": [
      "9번째 log 저장 완료. 총 118개\n",
      "136500000074000\n"
     ]
    },
    {
     "name": "stderr",
     "output_type": "stream",
     "text": [
      "  0%|          | 0/200 [00:00<?, ?it/s]"
     ]
    },
    {
     "name": "stdout",
     "output_type": "stream",
     "text": [
      ">best! 0, 91000002386500\n",
      ">best! 0, 67752500000000\n",
      ">best! 0, 49140002793500\n"
     ]
    },
    {
     "name": "stderr",
     "output_type": "stream",
     "text": [
      "  0%|          | 1/200 [00:02<08:55,  2.69s/it]"
     ]
    },
    {
     "name": "stdout",
     "output_type": "stream",
     "text": [
      ">best! 1, 45727502275500\n"
     ]
    },
    {
     "name": "stderr",
     "output_type": "stream",
     "text": [
      "  2%|▏         | 4/200 [00:10<08:44,  2.67s/it]"
     ]
    },
    {
     "name": "stdout",
     "output_type": "stream",
     "text": [
      ">best! 4, 32305003848000\n"
     ]
    },
    {
     "name": "stderr",
     "output_type": "stream",
     "text": [
      "  4%|▎         | 7/200 [00:18<08:29,  2.64s/it]"
     ]
    },
    {
     "name": "stdout",
     "output_type": "stream",
     "text": [
      ">best! 7, 23432502682500\n"
     ]
    },
    {
     "name": "stderr",
     "output_type": "stream",
     "text": [
      " 12%|█▎        | 25/200 [01:09<08:28,  2.90s/it]"
     ]
    },
    {
     "name": "stdout",
     "output_type": "stream",
     "text": [
      ">best! 25, 17290001628000\n"
     ]
    },
    {
     "name": "stderr",
     "output_type": "stream",
     "text": [
      " 52%|█████▎    | 105/200 [04:45<04:13,  2.67s/it]"
     ]
    },
    {
     "name": "stdout",
     "output_type": "stream",
     "text": [
      ">best! 105, 8190001702000\n"
     ]
    },
    {
     "name": "stderr",
     "output_type": "stream",
     "text": [
      "100%|██████████| 200/200 [09:02<00:00,  2.71s/it]\n"
     ]
    },
    {
     "name": "stdout",
     "output_type": "stream",
     "text": [
      "10번째 log 저장 완료. 총 118개\n",
      "131040002478390\n"
     ]
    },
    {
     "name": "stderr",
     "output_type": "stream",
     "text": [
      "  0%|          | 0/200 [00:00<?, ?it/s]"
     ]
    },
    {
     "name": "stdout",
     "output_type": "stream",
     "text": [
      ">best! 0, 88497504664450\n",
      ">best! 0, 83720007677510\n",
      ">best! 0, 62562510980760\n",
      ">best! 0, 53917502693360\n",
      ">best! 0, 53235006810000\n"
     ]
    },
    {
     "name": "stderr",
     "output_type": "stream",
     "text": [
      "  3%|▎         | 6/200 [00:26<14:13,  4.40s/it]"
     ]
    },
    {
     "name": "stdout",
     "output_type": "stream",
     "text": [
      ">best! 6, 45727506918090\n"
     ]
    },
    {
     "name": "stderr",
     "output_type": "stream",
     "text": [
      "  4%|▎         | 7/200 [00:31<14:23,  4.47s/it]"
     ]
    },
    {
     "name": "stdout",
     "output_type": "stream",
     "text": [
      ">best! 7, 26162508092160\n"
     ]
    },
    {
     "name": "stderr",
     "output_type": "stream",
     "text": [
      " 15%|█▌        | 30/200 [02:16<12:46,  4.51s/it]"
     ]
    },
    {
     "name": "stdout",
     "output_type": "stream",
     "text": [
      ">best! 30, 19110002233000\n"
     ]
    },
    {
     "name": "stderr",
     "output_type": "stream",
     "text": [
      " 66%|██████▌   | 131/200 [09:46<05:08,  4.48s/it]\n"
     ]
    },
    {
     "name": "stdout",
     "output_type": "stream",
     "text": [
      "stop\n",
      "11번째 log 저장 완료. 총 118개\n",
      "147875017124360\n"
     ]
    },
    {
     "name": "stderr",
     "output_type": "stream",
     "text": [
      "  0%|          | 0/200 [00:00<?, ?it/s]"
     ]
    },
    {
     "name": "stdout",
     "output_type": "stream",
     "text": [
      ">best! 0, 105332514440060\n",
      ">best! 0, 96137507333080\n",
      ">best! 0, 73482510128160\n",
      ">best! 0, 51642512607910\n"
     ]
    },
    {
     "name": "stderr",
     "output_type": "stream",
     "text": [
      "  2%|▎         | 5/200 [00:22<14:27,  4.45s/it]"
     ]
    },
    {
     "name": "stdout",
     "output_type": "stream",
     "text": [
      ">best! 5, 42315005643560\n"
     ]
    },
    {
     "name": "stderr",
     "output_type": "stream",
     "text": [
      "  3%|▎         | 6/200 [00:26<14:47,  4.57s/it]"
     ]
    },
    {
     "name": "stdout",
     "output_type": "stream",
     "text": [
      ">best! 6, 30030013649820\n"
     ]
    },
    {
     "name": "stderr",
     "output_type": "stream",
     "text": [
      "  6%|▌         | 11/200 [00:50<14:20,  4.56s/it]"
     ]
    },
    {
     "name": "stdout",
     "output_type": "stream",
     "text": [
      ">best! 11, 27072506820170\n"
     ]
    },
    {
     "name": "stderr",
     "output_type": "stream",
     "text": [
      " 17%|█▋        | 34/200 [02:33<12:36,  4.56s/it]"
     ]
    },
    {
     "name": "stdout",
     "output_type": "stream",
     "text": [
      ">best! 34, 20930008333640\n"
     ]
    },
    {
     "name": "stderr",
     "output_type": "stream",
     "text": [
      " 45%|████▌     | 90/200 [06:47<08:17,  4.52s/it]"
     ]
    },
    {
     "name": "stdout",
     "output_type": "stream",
     "text": [
      ">best! 90, 11602505989110\n"
     ]
    },
    {
     "name": "stderr",
     "output_type": "stream",
     "text": [
      " 96%|█████████▌| 191/200 [14:28<00:40,  4.55s/it]\n"
     ]
    },
    {
     "name": "stdout",
     "output_type": "stream",
     "text": [
      "stop\n",
      "12번째 log 저장 완료. 총 118개\n",
      "116935009181380\n"
     ]
    },
    {
     "name": "stderr",
     "output_type": "stream",
     "text": [
      "  0%|          | 0/200 [00:00<?, ?it/s]"
     ]
    },
    {
     "name": "stdout",
     "output_type": "stream",
     "text": [
      ">best! 0, 98664300000000\n",
      ">best! 0, 88952509738930\n",
      ">best! 0, 80762511363670\n",
      ">best! 0, 71207506915510\n",
      ">best! 0, 62790004361520\n"
     ]
    },
    {
     "name": "stderr",
     "output_type": "stream",
     "text": [
      "  0%|          | 1/200 [00:04<15:04,  4.54s/it]"
     ]
    },
    {
     "name": "stdout",
     "output_type": "stream",
     "text": [
      ">best! 1, 55055012237540\n"
     ]
    },
    {
     "name": "stderr",
     "output_type": "stream",
     "text": [
      "  1%|          | 2/200 [00:09<14:54,  4.52s/it]"
     ]
    },
    {
     "name": "stdout",
     "output_type": "stream",
     "text": [
      ">best! 2, 43680005828610\n"
     ]
    },
    {
     "name": "stderr",
     "output_type": "stream",
     "text": [
      "  2%|▎         | 5/200 [00:23<15:11,  4.68s/it]"
     ]
    },
    {
     "name": "stdout",
     "output_type": "stream",
     "text": [
      ">best! 5, 37765009668940\n"
     ]
    },
    {
     "name": "stderr",
     "output_type": "stream",
     "text": [
      "  4%|▎         | 7/200 [00:32<14:54,  4.63s/it]"
     ]
    },
    {
     "name": "stdout",
     "output_type": "stream",
     "text": [
      ">best! 7, 23205009513330\n"
     ]
    },
    {
     "name": "stderr",
     "output_type": "stream",
     "text": [
      " 18%|█▊        | 37/200 [02:51<12:35,  4.63s/it]"
     ]
    },
    {
     "name": "stdout",
     "output_type": "stream",
     "text": [
      ">best! 37, 19110007727880\n"
     ]
    },
    {
     "name": "stderr",
     "output_type": "stream",
     "text": [
      " 20%|██        | 41/200 [03:11<13:07,  4.95s/it]"
     ]
    },
    {
     "name": "stdout",
     "output_type": "stream",
     "text": [
      ">best! 41, 18200011706150\n"
     ]
    },
    {
     "name": "stderr",
     "output_type": "stream",
     "text": [
      " 52%|█████▎    | 105/200 [08:13<07:29,  4.73s/it]"
     ]
    },
    {
     "name": "stdout",
     "output_type": "stream",
     "text": [
      ">best! 105, 2275009838140\n"
     ]
    },
    {
     "name": "stderr",
     "output_type": "stream",
     "text": [
      "100%|██████████| 200/200 [15:39<00:00,  4.70s/it]\n"
     ]
    },
    {
     "name": "stdout",
     "output_type": "stream",
     "text": [
      "13번째 log 저장 완료. 총 118개\n",
      "141050005288730\n"
     ]
    },
    {
     "name": "stderr",
     "output_type": "stream",
     "text": [
      "  0%|          | 0/200 [00:00<?, ?it/s]"
     ]
    },
    {
     "name": "stdout",
     "output_type": "stream",
     "text": [
      ">best! 0, 124215008759400\n",
      ">best! 0, 120802508855550\n",
      ">best! 0, 113295011065020\n",
      ">best! 0, 109200012964290\n",
      ">best! 0, 99645010551300\n",
      ">best! 0, 92365004008510\n",
      ">best! 0, 54600006247200\n"
     ]
    },
    {
     "name": "stderr",
     "output_type": "stream",
     "text": [
      "  0%|          | 1/200 [00:04<14:54,  4.50s/it]"
     ]
    },
    {
     "name": "stdout",
     "output_type": "stream",
     "text": [
      ">best! 1, 51415010680750\n",
      ">best! 1, 45500010778940\n"
     ]
    },
    {
     "name": "stderr",
     "output_type": "stream",
     "text": [
      "  1%|          | 2/200 [00:09<15:52,  4.81s/it]"
     ]
    },
    {
     "name": "stdout",
     "output_type": "stream",
     "text": [
      ">best! 2, 45500008954760\n"
     ]
    },
    {
     "name": "stderr",
     "output_type": "stream",
     "text": [
      "  7%|▋         | 14/200 [01:05<14:23,  4.64s/it]"
     ]
    },
    {
     "name": "stdout",
     "output_type": "stream",
     "text": [
      ">best! 14, 43907505131080\n",
      ">best! 14, 36400002508120\n"
     ]
    },
    {
     "name": "stderr",
     "output_type": "stream",
     "text": [
      " 10%|█         | 20/200 [01:33<13:54,  4.64s/it]"
     ]
    },
    {
     "name": "stdout",
     "output_type": "stream",
     "text": [
      ">best! 20, 30485006105180\n"
     ]
    },
    {
     "name": "stderr",
     "output_type": "stream",
     "text": [
      " 16%|█▋        | 33/200 [02:36<13:22,  4.81s/it]"
     ]
    },
    {
     "name": "stdout",
     "output_type": "stream",
     "text": [
      ">best! 33, 4844160\n"
     ]
    },
    {
     "name": "stderr",
     "output_type": "stream",
     "text": [
      " 67%|██████▋   | 134/200 [10:40<05:15,  4.78s/it]\n"
     ]
    },
    {
     "name": "stdout",
     "output_type": "stream",
     "text": [
      "stop\n",
      "14번째 log 저장 완료. 총 118개\n",
      "79852508841960\n"
     ]
    },
    {
     "name": "stderr",
     "output_type": "stream",
     "text": [
      "  0%|          | 0/200 [00:00<?, ?it/s]"
     ]
    },
    {
     "name": "stdout",
     "output_type": "stream",
     "text": [
      ">best! 0, 71890004708080\n",
      ">best! 0, 59832512106050\n"
     ]
    },
    {
     "name": "stderr",
     "output_type": "stream",
     "text": [
      "  0%|          | 1/200 [00:06<21:13,  6.40s/it]"
     ]
    },
    {
     "name": "stdout",
     "output_type": "stream",
     "text": [
      ">best! 1, 43680011748960\n"
     ]
    },
    {
     "name": "stderr",
     "output_type": "stream",
     "text": [
      "  5%|▌         | 10/200 [00:54<16:43,  5.28s/it]"
     ]
    },
    {
     "name": "stdout",
     "output_type": "stream",
     "text": [
      ">best! 10, 42087507112910\n"
     ]
    },
    {
     "name": "stderr",
     "output_type": "stream",
     "text": [
      " 14%|█▍        | 29/200 [02:33<14:44,  5.17s/it]"
     ]
    },
    {
     "name": "stdout",
     "output_type": "stream",
     "text": [
      ">best! 29, 35649105571750\n"
     ]
    },
    {
     "name": "stderr",
     "output_type": "stream",
     "text": [
      " 18%|█▊        | 35/200 [03:04<14:20,  5.22s/it]"
     ]
    },
    {
     "name": "stdout",
     "output_type": "stream",
     "text": [
      ">best! 35, 27300007515870\n"
     ]
    },
    {
     "name": "stderr",
     "output_type": "stream",
     "text": [
      " 19%|█▉        | 38/200 [03:20<13:53,  5.15s/it]"
     ]
    },
    {
     "name": "stdout",
     "output_type": "stream",
     "text": [
      ">best! 38, 9327516029960\n"
     ]
    },
    {
     "name": "stderr",
     "output_type": "stream",
     "text": [
      " 70%|██████▉   | 139/200 [12:15<05:22,  5.29s/it]\n"
     ]
    },
    {
     "name": "stdout",
     "output_type": "stream",
     "text": [
      "stop\n",
      "15번째 log 저장 완료. 총 118개\n",
      "84402520935840\n"
     ]
    },
    {
     "name": "stderr",
     "output_type": "stream",
     "text": [
      "  0%|          | 0/200 [00:00<?, ?it/s]"
     ]
    },
    {
     "name": "stdout",
     "output_type": "stream",
     "text": [
      ">best! 0, 75075007065200\n",
      ">best! 0, 72572507758750\n",
      ">best! 0, 55965013121670\n"
     ]
    },
    {
     "name": "stderr",
     "output_type": "stream",
     "text": [
      "  0%|          | 1/200 [00:04<15:08,  4.57s/it]"
     ]
    },
    {
     "name": "stdout",
     "output_type": "stream",
     "text": [
      ">best! 1, 41177509648090\n"
     ]
    },
    {
     "name": "stderr",
     "output_type": "stream",
     "text": [
      "  1%|          | 2/200 [00:09<15:21,  4.65s/it]"
     ]
    },
    {
     "name": "stdout",
     "output_type": "stream",
     "text": [
      ">best! 2, 36855012513530\n"
     ]
    },
    {
     "name": "stderr",
     "output_type": "stream",
     "text": [
      "  6%|▌         | 11/200 [00:52<15:15,  4.84s/it]"
     ]
    },
    {
     "name": "stdout",
     "output_type": "stream",
     "text": [
      ">best! 11, 15242514013860\n"
     ]
    },
    {
     "name": "stderr",
     "output_type": "stream",
     "text": [
      " 38%|███▊      | 76/200 [06:00<09:38,  4.67s/it]"
     ]
    },
    {
     "name": "stdout",
     "output_type": "stream",
     "text": [
      ">best! 76, 12057511231220\n"
     ]
    },
    {
     "name": "stderr",
     "output_type": "stream",
     "text": [
      " 70%|███████   | 140/200 [11:03<04:46,  4.78s/it]"
     ]
    },
    {
     "name": "stdout",
     "output_type": "stream",
     "text": [
      ">best! 140, 18420150\n"
     ]
    },
    {
     "name": "stderr",
     "output_type": "stream",
     "text": [
      "100%|██████████| 200/200 [15:54<00:00,  4.77s/it]\n"
     ]
    },
    {
     "name": "stdout",
     "output_type": "stream",
     "text": [
      "16번째 log 저장 완료. 총 118개\n",
      "7058840\n"
     ]
    },
    {
     "name": "stderr",
     "output_type": "stream",
     "text": [
      "  1%|          | 2/200 [00:12<19:57,  6.05s/it]"
     ]
    },
    {
     "name": "stdout",
     "output_type": "stream",
     "text": [
      ">best! 2, 4790780\n"
     ]
    },
    {
     "name": "stderr",
     "output_type": "stream",
     "text": [
      "  2%|▏         | 4/200 [00:24<20:08,  6.17s/it]"
     ]
    },
    {
     "name": "stdout",
     "output_type": "stream",
     "text": [
      ">best! 4, 3296990\n"
     ]
    },
    {
     "name": "stderr",
     "output_type": "stream",
     "text": [
      "  8%|▊         | 17/200 [01:43<18:27,  6.05s/it]"
     ]
    },
    {
     "name": "stdout",
     "output_type": "stream",
     "text": [
      ">best! 17, 3060360\n"
     ]
    },
    {
     "name": "stderr",
     "output_type": "stream",
     "text": [
      " 20%|█▉        | 39/200 [03:59<16:16,  6.06s/it]"
     ]
    },
    {
     "name": "stdout",
     "output_type": "stream",
     "text": [
      ">best! 39, 2685410\n"
     ]
    },
    {
     "name": "stderr",
     "output_type": "stream",
     "text": [
      " 47%|████▋     | 94/200 [09:36<10:41,  6.05s/it]"
     ]
    },
    {
     "name": "stdout",
     "output_type": "stream",
     "text": [
      ">best! 94, 1918710\n"
     ]
    },
    {
     "name": "stderr",
     "output_type": "stream",
     "text": [
      " 98%|█████████▊| 195/200 [19:53<00:30,  6.12s/it]\n"
     ]
    },
    {
     "name": "stdout",
     "output_type": "stream",
     "text": [
      "stop\n",
      "17번째 log 저장 완료. 총 118개\n",
      "7267505800130\n"
     ]
    },
    {
     "name": "stderr",
     "output_type": "stream",
     "text": [
      "  0%|          | 0/200 [00:00<?, ?it/s]"
     ]
    },
    {
     "name": "stdout",
     "output_type": "stream",
     "text": [
      ">best! 0, 20120330\n",
      ">best! 0, 15800800\n",
      ">best! 0, 12470940\n",
      ">best! 0, 6867720\n"
     ]
    },
    {
     "name": "stderr",
     "output_type": "stream",
     "text": [
      "  0%|          | 1/200 [00:04<14:15,  4.30s/it]"
     ]
    },
    {
     "name": "stdout",
     "output_type": "stream",
     "text": [
      ">best! 1, 5633750\n",
      ">best! 1, 5133920\n"
     ]
    },
    {
     "name": "stderr",
     "output_type": "stream",
     "text": [
      "  1%|          | 2/200 [00:08<14:07,  4.28s/it]"
     ]
    },
    {
     "name": "stdout",
     "output_type": "stream",
     "text": [
      ">best! 2, 4215900\n"
     ]
    },
    {
     "name": "stderr",
     "output_type": "stream",
     "text": [
      " 10%|▉         | 19/200 [01:21<13:06,  4.35s/it]"
     ]
    },
    {
     "name": "stdout",
     "output_type": "stream",
     "text": [
      ">best! 19, 3716410\n"
     ]
    },
    {
     "name": "stderr",
     "output_type": "stream",
     "text": [
      " 26%|██▌       | 52/200 [03:46<10:44,  4.36s/it]"
     ]
    },
    {
     "name": "stdout",
     "output_type": "stream",
     "text": [
      ">best! 52, 3621920\n"
     ]
    },
    {
     "name": "stderr",
     "output_type": "stream",
     "text": [
      " 37%|███▋      | 74/200 [05:22<09:00,  4.29s/it]"
     ]
    },
    {
     "name": "stdout",
     "output_type": "stream",
     "text": [
      ">best! 74, 2324250\n"
     ]
    },
    {
     "name": "stderr",
     "output_type": "stream",
     "text": [
      " 88%|████████▊ | 175/200 [12:49<01:49,  4.40s/it]\n"
     ]
    },
    {
     "name": "stdout",
     "output_type": "stream",
     "text": [
      "stop\n",
      "18번째 log 저장 완료. 총 118개\n",
      "13277320\n"
     ]
    },
    {
     "name": "stderr",
     "output_type": "stream",
     "text": [
      "  0%|          | 0/200 [00:00<?, ?it/s]"
     ]
    },
    {
     "name": "stdout",
     "output_type": "stream",
     "text": [
      ">best! 0, 7943370\n",
      ">best! 0, 6241770\n"
     ]
    },
    {
     "name": "stderr",
     "output_type": "stream",
     "text": [
      "  0%|          | 1/200 [00:04<14:15,  4.30s/it]"
     ]
    },
    {
     "name": "stdout",
     "output_type": "stream",
     "text": [
      ">best! 1, 4902440\n"
     ]
    },
    {
     "name": "stderr",
     "output_type": "stream",
     "text": [
      "  4%|▍         | 8/200 [00:36<14:26,  4.51s/it]"
     ]
    },
    {
     "name": "stdout",
     "output_type": "stream",
     "text": [
      ">best! 8, 3596270\n"
     ]
    },
    {
     "name": "stderr",
     "output_type": "stream",
     "text": [
      " 20%|█▉        | 39/200 [02:51<11:38,  4.34s/it]"
     ]
    },
    {
     "name": "stdout",
     "output_type": "stream",
     "text": [
      ">best! 39, 3262560\n"
     ]
    },
    {
     "name": "stderr",
     "output_type": "stream",
     "text": [
      " 52%|█████▎    | 105/200 [07:35<06:49,  4.31s/it]"
     ]
    },
    {
     "name": "stdout",
     "output_type": "stream",
     "text": [
      ">best! 105, 2734490\n"
     ]
    },
    {
     "name": "stderr",
     "output_type": "stream",
     "text": [
      " 91%|█████████ | 182/200 [13:04<01:16,  4.25s/it]"
     ]
    },
    {
     "name": "stdout",
     "output_type": "stream",
     "text": [
      ">best! 182, 1796450\n"
     ]
    },
    {
     "name": "stderr",
     "output_type": "stream",
     "text": [
      "100%|██████████| 200/200 [14:20<00:00,  4.30s/it]\n"
     ]
    },
    {
     "name": "stdout",
     "output_type": "stream",
     "text": [
      "19번째 log 저장 완료. 총 118개\n",
      "18404100\n"
     ]
    },
    {
     "name": "stderr",
     "output_type": "stream",
     "text": [
      "  0%|          | 0/200 [00:00<?, ?it/s]"
     ]
    },
    {
     "name": "stdout",
     "output_type": "stream",
     "text": [
      ">best! 0, 13075490\n",
      ">best! 0, 10231630\n",
      ">best! 0, 9920280\n",
      ">best! 0, 8899700\n",
      ">best! 0, 7889570\n"
     ]
    },
    {
     "name": "stderr",
     "output_type": "stream",
     "text": [
      "  0%|          | 1/200 [00:02<09:23,  2.83s/it]"
     ]
    },
    {
     "name": "stdout",
     "output_type": "stream",
     "text": [
      ">best! 1, 3641780\n"
     ]
    },
    {
     "name": "stderr",
     "output_type": "stream",
     "text": [
      "  6%|▋         | 13/200 [00:36<08:41,  2.79s/it]"
     ]
    },
    {
     "name": "stdout",
     "output_type": "stream",
     "text": [
      ">best! 13, 1474590\n",
      ">best! 13, 1386700\n"
     ]
    },
    {
     "name": "stderr",
     "output_type": "stream",
     "text": [
      " 45%|████▌     | 90/200 [04:15<05:09,  2.81s/it]"
     ]
    },
    {
     "name": "stdout",
     "output_type": "stream",
     "text": [
      ">best! 90, 1238080\n"
     ]
    },
    {
     "name": "stderr",
     "output_type": "stream",
     "text": [
      " 96%|█████████▌| 191/200 [09:02<00:25,  2.84s/it]\n"
     ]
    },
    {
     "name": "stdout",
     "output_type": "stream",
     "text": [
      "stop\n",
      "20번째 log 저장 완료. 총 118개\n",
      "38079170026030\n"
     ]
    },
    {
     "name": "stderr",
     "output_type": "stream",
     "text": [
      "  0%|          | 0/200 [00:00<?, ?it/s]"
     ]
    },
    {
     "name": "stdout",
     "output_type": "stream",
     "text": [
      ">best! 0, 36833589174710\n",
      ">best! 0, 36102726783000\n",
      ">best! 0, 33986547481210\n",
      ">best! 0, 33452730145960\n",
      ">best! 0, 27402769115940\n"
     ]
    },
    {
     "name": "stderr",
     "output_type": "stream",
     "text": [
      "  0%|          | 1/200 [00:02<07:30,  2.26s/it]"
     ]
    },
    {
     "name": "stdout",
     "output_type": "stream",
     "text": [
      ">best! 1, 25623368445570\n"
     ]
    },
    {
     "name": "stderr",
     "output_type": "stream",
     "text": [
      "  4%|▎         | 7/200 [00:16<07:43,  2.40s/it]"
     ]
    },
    {
     "name": "stdout",
     "output_type": "stream",
     "text": [
      ">best! 7, 25267486035020\n"
     ]
    },
    {
     "name": "stderr",
     "output_type": "stream",
     "text": [
      "  4%|▍         | 9/200 [00:21<07:25,  2.33s/it]"
     ]
    },
    {
     "name": "stdout",
     "output_type": "stream",
     "text": [
      ">best! 9, 23666031472500\n"
     ]
    },
    {
     "name": "stderr",
     "output_type": "stream",
     "text": [
      "  5%|▌         | 10/200 [00:24<07:42,  2.44s/it]"
     ]
    },
    {
     "name": "stdout",
     "output_type": "stream",
     "text": [
      ">best! 10, 22776331662870\n"
     ]
    },
    {
     "name": "stderr",
     "output_type": "stream",
     "text": [
      " 12%|█▏        | 23/200 [00:54<07:01,  2.38s/it]"
     ]
    },
    {
     "name": "stdout",
     "output_type": "stream",
     "text": [
      ">best! 23, 22242511387720\n"
     ]
    },
    {
     "name": "stderr",
     "output_type": "stream",
     "text": [
      " 14%|█▍        | 28/200 [01:05<06:35,  2.30s/it]"
     ]
    },
    {
     "name": "stdout",
     "output_type": "stream",
     "text": [
      ">best! 28, 20818984019410\n"
     ]
    },
    {
     "name": "stderr",
     "output_type": "stream",
     "text": [
      " 22%|██▏       | 44/200 [01:43<06:03,  2.33s/it]"
     ]
    },
    {
     "name": "stdout",
     "output_type": "stream",
     "text": [
      ">best! 44, 19039592831800\n"
     ]
    },
    {
     "name": "stderr",
     "output_type": "stream",
     "text": [
      " 50%|████▉     | 99/200 [03:54<04:38,  2.76s/it]"
     ]
    },
    {
     "name": "stdout",
     "output_type": "stream",
     "text": [
      ">best! 99, 18861647229680\n"
     ]
    },
    {
     "name": "stderr",
     "output_type": "stream",
     "text": [
      " 50%|█████     | 100/200 [03:56<04:20,  2.61s/it]"
     ]
    },
    {
     "name": "stdout",
     "output_type": "stream",
     "text": [
      ">best! 100, 17971947095690\n"
     ]
    },
    {
     "name": "stderr",
     "output_type": "stream",
     "text": [
      " 82%|████████▏ | 163/200 [06:24<01:26,  2.35s/it]"
     ]
    },
    {
     "name": "stdout",
     "output_type": "stream",
     "text": [
      ">best! 163, 15836671646560\n"
     ]
    },
    {
     "name": "stderr",
     "output_type": "stream",
     "text": [
      "100%|██████████| 200/200 [07:50<00:00,  2.35s/it]\n"
     ]
    },
    {
     "name": "stdout",
     "output_type": "stream",
     "text": [
      "21번째 log 저장 완료. 총 118개\n",
      "100678885070520\n"
     ]
    },
    {
     "name": "stderr",
     "output_type": "stream",
     "text": [
      "  0%|          | 0/200 [00:00<?, ?it/s]"
     ]
    },
    {
     "name": "stdout",
     "output_type": "stream",
     "text": [
      ">best! 0, 97894182742220\n",
      ">best! 0, 88445900000000\n",
      ">best! 0, 85830646493370\n",
      ">best! 0, 72542301552200\n",
      ">best! 0, 71540903052660\n"
     ]
    },
    {
     "name": "stderr",
     "output_type": "stream",
     "text": [
      "  2%|▏         | 3/200 [00:05<05:39,  1.73s/it]"
     ]
    },
    {
     "name": "stdout",
     "output_type": "stream",
     "text": [
      ">best! 3, 70912263363100\n"
     ]
    },
    {
     "name": "stderr",
     "output_type": "stream",
     "text": [
      "  2%|▏         | 4/200 [00:06<05:31,  1.69s/it]"
     ]
    },
    {
     "name": "stdout",
     "output_type": "stream",
     "text": [
      ">best! 4, 60813862793960\n"
     ]
    },
    {
     "name": "stderr",
     "output_type": "stream",
     "text": [
      " 30%|██▉       | 59/200 [01:38<04:03,  1.73s/it]"
     ]
    },
    {
     "name": "stdout",
     "output_type": "stream",
     "text": [
      ">best! 59, 60481385148130\n"
     ]
    },
    {
     "name": "stderr",
     "output_type": "stream",
     "text": [
      " 39%|███▉      | 78/200 [02:12<04:20,  2.14s/it]"
     ]
    },
    {
     "name": "stdout",
     "output_type": "stream",
     "text": [
      ">best! 78, 53175425277480\n"
     ]
    },
    {
     "name": "stderr",
     "output_type": "stream",
     "text": [
      " 84%|████████▎ | 167/200 [04:38<00:54,  1.66s/it]"
     ]
    },
    {
     "name": "stdout",
     "output_type": "stream",
     "text": [
      ">best! 167, 51820761991990\n"
     ]
    },
    {
     "name": "stderr",
     "output_type": "stream",
     "text": [
      "100%|██████████| 200/200 [05:33<00:00,  1.67s/it]\n"
     ]
    },
    {
     "name": "stdout",
     "output_type": "stream",
     "text": [
      "22번째 log 저장 완료. 총 118개\n",
      "104255845174000\n"
     ]
    },
    {
     "name": "stderr",
     "output_type": "stream",
     "text": [
      "  0%|          | 0/200 [00:00<?, ?it/s]"
     ]
    },
    {
     "name": "stdout",
     "output_type": "stream",
     "text": [
      ">best! 0, 93710643078530\n",
      ">best! 0, 79502743026790\n",
      ">best! 0, 63011487243600\n"
     ]
    },
    {
     "name": "stderr",
     "output_type": "stream",
     "text": [
      " 10%|█         | 21/200 [00:59<08:35,  2.88s/it]"
     ]
    },
    {
     "name": "stdout",
     "output_type": "stream",
     "text": [
      ">best! 21, 56287060000000\n"
     ]
    },
    {
     "name": "stderr",
     "output_type": "stream",
     "text": [
      " 61%|██████    | 122/200 [05:22<03:25,  2.64s/it]\n"
     ]
    },
    {
     "name": "stdout",
     "output_type": "stream",
     "text": [
      "stop\n",
      "23번째 log 저장 완료. 총 118개\n",
      "102467364423770\n"
     ]
    },
    {
     "name": "stderr",
     "output_type": "stream",
     "text": [
      "  0%|          | 0/200 [00:00<?, ?it/s]"
     ]
    },
    {
     "name": "stdout",
     "output_type": "stream",
     "text": [
      ">best! 0, 88334786984900\n",
      ">best! 0, 87461963932240\n",
      ">best! 0, 74864605277480\n"
     ]
    },
    {
     "name": "stderr",
     "output_type": "stream",
     "text": [
      "  0%|          | 1/200 [00:02<09:35,  2.89s/it]"
     ]
    },
    {
     "name": "stdout",
     "output_type": "stream",
     "text": [
      ">best! 1, 72070825432700\n"
     ]
    },
    {
     "name": "stderr",
     "output_type": "stream",
     "text": [
      "  2%|▏         | 3/200 [00:08<09:24,  2.87s/it]"
     ]
    },
    {
     "name": "stdout",
     "output_type": "stream",
     "text": [
      ">best! 3, 69810860336310\n"
     ]
    },
    {
     "name": "stderr",
     "output_type": "stream",
     "text": [
      "  2%|▎         | 5/200 [00:13<08:51,  2.72s/it]"
     ]
    },
    {
     "name": "stdout",
     "output_type": "stream",
     "text": [
      ">best! 5, 66875522483520\n"
     ]
    },
    {
     "name": "stderr",
     "output_type": "stream",
     "text": [
      "  4%|▎         | 7/200 [00:19<08:47,  2.73s/it]"
     ]
    },
    {
     "name": "stdout",
     "output_type": "stream",
     "text": [
      ">best! 7, 62937447424690\n"
     ]
    },
    {
     "name": "stderr",
     "output_type": "stream",
     "text": [
      "  5%|▌         | 10/200 [00:27<08:42,  2.75s/it]"
     ]
    },
    {
     "name": "stdout",
     "output_type": "stream",
     "text": [
      ">best! 10, 60474862845700\n"
     ]
    },
    {
     "name": "stderr",
     "output_type": "stream",
     "text": [
      " 21%|██        | 42/200 [01:55<07:16,  2.76s/it]"
     ]
    },
    {
     "name": "stdout",
     "output_type": "stream",
     "text": [
      ">best! 42, 58650003000920\n"
     ]
    },
    {
     "name": "stderr",
     "output_type": "stream",
     "text": [
      " 31%|███       | 62/200 [02:51<06:14,  2.72s/it]"
     ]
    },
    {
     "name": "stdout",
     "output_type": "stream",
     "text": [
      ">best! 62, 58409723182010\n"
     ]
    },
    {
     "name": "stderr",
     "output_type": "stream",
     "text": [
      " 33%|███▎      | 66/200 [03:02<06:20,  2.84s/it]"
     ]
    },
    {
     "name": "stdout",
     "output_type": "stream",
     "text": [
      ">best! 66, 54982126545110\n"
     ]
    },
    {
     "name": "stderr",
     "output_type": "stream",
     "text": [
      " 84%|████████▎ | 167/200 [07:41<01:31,  2.77s/it]\n"
     ]
    },
    {
     "name": "stdout",
     "output_type": "stream",
     "text": [
      "stop\n",
      "24번째 log 저장 완료. 총 118개\n",
      "100265844941170\n"
     ]
    },
    {
     "name": "stderr",
     "output_type": "stream",
     "text": [
      "  0%|          | 0/200 [00:00<?, ?it/s]"
     ]
    },
    {
     "name": "stdout",
     "output_type": "stream",
     "text": [
      ">best! 0, 96587541603940\n",
      ">best! 0, 95701743388970\n",
      ">best! 0, 72195505587920\n"
     ]
    },
    {
     "name": "stderr",
     "output_type": "stream",
     "text": [
      "  0%|          | 1/200 [00:02<09:01,  2.72s/it]"
     ]
    },
    {
     "name": "stdout",
     "output_type": "stream",
     "text": [
      ">best! 1, 65726045743140\n"
     ]
    },
    {
     "name": "stderr",
     "output_type": "stream",
     "text": [
      "  1%|          | 2/200 [00:05<08:51,  2.69s/it]"
     ]
    },
    {
     "name": "stdout",
     "output_type": "stream",
     "text": [
      ">best! 2, 63637506312280\n"
     ]
    },
    {
     "name": "stderr",
     "output_type": "stream",
     "text": [
      " 23%|██▎       | 46/200 [02:04<07:09,  2.79s/it]"
     ]
    },
    {
     "name": "stdout",
     "output_type": "stream",
     "text": [
      ">best! 46, 63616724527250\n"
     ]
    },
    {
     "name": "stderr",
     "output_type": "stream",
     "text": [
      " 24%|██▍       | 48/200 [02:09<06:48,  2.69s/it]"
     ]
    },
    {
     "name": "stdout",
     "output_type": "stream",
     "text": [
      ">best! 48, 63102403466580\n"
     ]
    },
    {
     "name": "stderr",
     "output_type": "stream",
     "text": [
      " 44%|████▍     | 89/200 [04:00<05:10,  2.80s/it]"
     ]
    },
    {
     "name": "stdout",
     "output_type": "stream",
     "text": [
      ">best! 89, 57271940853710\n"
     ]
    },
    {
     "name": "stderr",
     "output_type": "stream",
     "text": [
      " 65%|██████▌   | 130/200 [05:50<03:05,  2.65s/it]"
     ]
    },
    {
     "name": "stdout",
     "output_type": "stream",
     "text": [
      ">best! 130, 46676101991990\n"
     ]
    },
    {
     "name": "stderr",
     "output_type": "stream",
     "text": [
      "100%|██████████| 200/200 [09:00<00:00,  2.70s/it]\n"
     ]
    },
    {
     "name": "stdout",
     "output_type": "stream",
     "text": [
      "25번째 log 저장 완료. 총 118개\n",
      "120050940000000\n"
     ]
    },
    {
     "name": "stderr",
     "output_type": "stream",
     "text": [
      "  0%|          | 0/200 [00:00<?, ?it/s]"
     ]
    },
    {
     "name": "stdout",
     "output_type": "stream",
     "text": [
      ">best! 0, 104685760000000\n",
      ">best! 0, 76623220000000\n",
      ">best! 0, 68934140000000\n"
     ]
    },
    {
     "name": "stderr",
     "output_type": "stream",
     "text": [
      "  1%|          | 2/200 [00:02<03:53,  1.18s/it]"
     ]
    },
    {
     "name": "stdout",
     "output_type": "stream",
     "text": [
      ">best! 2, 63240060000000\n"
     ]
    },
    {
     "name": "stderr",
     "output_type": "stream",
     "text": [
      " 16%|█▌        | 31/200 [00:37<03:23,  1.21s/it]"
     ]
    },
    {
     "name": "stdout",
     "output_type": "stream",
     "text": [
      ">best! 31, 62050360000000\n"
     ]
    },
    {
     "name": "stderr",
     "output_type": "stream",
     "text": [
      " 24%|██▍       | 48/200 [00:58<03:03,  1.21s/it]"
     ]
    },
    {
     "name": "stdout",
     "output_type": "stream",
     "text": [
      ">best! 48, 60950240000000\n"
     ]
    },
    {
     "name": "stderr",
     "output_type": "stream",
     "text": [
      " 45%|████▌     | 90/200 [01:49<02:25,  1.32s/it]"
     ]
    },
    {
     "name": "stdout",
     "output_type": "stream",
     "text": [
      ">best! 90, 55512040000000\n"
     ]
    },
    {
     "name": "stderr",
     "output_type": "stream",
     "text": [
      " 84%|████████▎ | 167/200 [03:25<00:41,  1.25s/it]"
     ]
    },
    {
     "name": "stdout",
     "output_type": "stream",
     "text": [
      ">best! 167, 48710040000000\n"
     ]
    },
    {
     "name": "stderr",
     "output_type": "stream",
     "text": [
      "100%|██████████| 200/200 [04:06<00:00,  1.23s/it]\n"
     ]
    },
    {
     "name": "stdout",
     "output_type": "stream",
     "text": [
      "26번째 log 저장 완료. 총 118개\n",
      "78596160000000\n"
     ]
    },
    {
     "name": "stderr",
     "output_type": "stream",
     "text": [
      "  0%|          | 0/200 [00:00<?, ?it/s]"
     ]
    },
    {
     "name": "stdout",
     "output_type": "stream",
     "text": [
      ">best! 0, 74391840000000\n"
     ]
    },
    {
     "name": "stderr",
     "output_type": "stream",
     "text": [
      "  2%|▎         | 5/200 [00:06<03:51,  1.19s/it]"
     ]
    },
    {
     "name": "stdout",
     "output_type": "stream",
     "text": [
      ">best! 5, 71482460000000\n"
     ]
    },
    {
     "name": "stderr",
     "output_type": "stream",
     "text": [
      "  3%|▎         | 6/200 [00:07<03:48,  1.18s/it]"
     ]
    },
    {
     "name": "stdout",
     "output_type": "stream",
     "text": [
      ">best! 6, 71107080000000\n"
     ]
    },
    {
     "name": "stderr",
     "output_type": "stream",
     "text": [
      "  4%|▍         | 8/200 [00:09<03:40,  1.15s/it]"
     ]
    },
    {
     "name": "stdout",
     "output_type": "stream",
     "text": [
      ">best! 8, 70344680000000\n"
     ]
    },
    {
     "name": "stderr",
     "output_type": "stream",
     "text": [
      " 10%|█         | 20/200 [00:23<03:29,  1.16s/it]"
     ]
    },
    {
     "name": "stdout",
     "output_type": "stream",
     "text": [
      ">best! 20, 59530620000000\n"
     ]
    },
    {
     "name": "stderr",
     "output_type": "stream",
     "text": [
      " 14%|█▍        | 28/200 [00:32<03:28,  1.21s/it]"
     ]
    },
    {
     "name": "stdout",
     "output_type": "stream",
     "text": [
      ">best! 28, 58644820000000\n"
     ]
    },
    {
     "name": "stderr",
     "output_type": "stream",
     "text": [
      " 16%|█▋        | 33/200 [00:38<03:30,  1.26s/it]"
     ]
    },
    {
     "name": "stdout",
     "output_type": "stream",
     "text": [
      ">best! 33, 57657680000000\n"
     ]
    },
    {
     "name": "stderr",
     "output_type": "stream",
     "text": [
      " 30%|██▉       | 59/200 [01:09<02:46,  1.18s/it]"
     ]
    },
    {
     "name": "stdout",
     "output_type": "stream",
     "text": [
      ">best! 59, 57234280000000\n"
     ]
    },
    {
     "name": "stderr",
     "output_type": "stream",
     "text": [
      " 76%|███████▋  | 153/200 [02:59<00:54,  1.17s/it]"
     ]
    },
    {
     "name": "stdout",
     "output_type": "stream",
     "text": [
      ">best! 153, 55350980000000\n"
     ]
    },
    {
     "name": "stderr",
     "output_type": "stream",
     "text": [
      " 95%|█████████▌| 190/200 [03:44<00:11,  1.15s/it]"
     ]
    },
    {
     "name": "stdout",
     "output_type": "stream",
     "text": [
      ">best! 190, 44635640000000\n"
     ]
    },
    {
     "name": "stderr",
     "output_type": "stream",
     "text": [
      "100%|██████████| 200/200 [03:56<00:00,  1.18s/it]\n"
     ]
    },
    {
     "name": "stdout",
     "output_type": "stream",
     "text": [
      "27번째 log 저장 완료. 총 118개\n",
      "96739520000000\n"
     ]
    },
    {
     "name": "stderr",
     "output_type": "stream",
     "text": [
      "  0%|          | 0/200 [00:00<?, ?it/s]"
     ]
    },
    {
     "name": "stdout",
     "output_type": "stream",
     "text": [
      ">best! 0, 92688460000000\n",
      ">best! 0, 91149340000000\n",
      ">best! 0, 88930940000000\n",
      ">best! 0, 86293040000000\n",
      ">best! 0, 82784880000000\n"
     ]
    },
    {
     "name": "stderr",
     "output_type": "stream",
     "text": [
      "  0%|          | 1/200 [00:01<04:07,  1.25s/it]"
     ]
    },
    {
     "name": "stdout",
     "output_type": "stream",
     "text": [
      ">best! 1, 76937540000000\n",
      ">best! 1, 69156260000000\n"
     ]
    },
    {
     "name": "stderr",
     "output_type": "stream",
     "text": [
      "  2%|▎         | 5/200 [00:05<03:43,  1.15s/it]"
     ]
    },
    {
     "name": "stdout",
     "output_type": "stream",
     "text": [
      ">best! 5, 68391240000000\n"
     ]
    },
    {
     "name": "stderr",
     "output_type": "stream",
     "text": [
      "  5%|▌         | 10/200 [00:11<03:48,  1.20s/it]"
     ]
    },
    {
     "name": "stdout",
     "output_type": "stream",
     "text": [
      ">best! 10, 64890880000000\n"
     ]
    },
    {
     "name": "stderr",
     "output_type": "stream",
     "text": [
      " 16%|█▌        | 32/200 [00:38<03:24,  1.22s/it]"
     ]
    },
    {
     "name": "stdout",
     "output_type": "stream",
     "text": [
      ">best! 32, 55599060000000\n"
     ]
    },
    {
     "name": "stderr",
     "output_type": "stream",
     "text": [
      " 48%|████▊     | 96/200 [01:56<02:05,  1.20s/it]"
     ]
    },
    {
     "name": "stdout",
     "output_type": "stream",
     "text": [
      ">best! 96, 52607840000000\n"
     ]
    },
    {
     "name": "stderr",
     "output_type": "stream",
     "text": [
      " 98%|█████████▊| 197/200 [04:00<00:03,  1.22s/it]\n"
     ]
    },
    {
     "name": "stdout",
     "output_type": "stream",
     "text": [
      "stop\n",
      "28번째 log 저장 완료. 총 118개\n",
      "112056620000000\n"
     ]
    },
    {
     "name": "stderr",
     "output_type": "stream",
     "text": [
      "  0%|          | 0/200 [00:00<?, ?it/s]"
     ]
    },
    {
     "name": "stdout",
     "output_type": "stream",
     "text": [
      ">best! 0, 101829640000000\n",
      ">best! 0, 85364340000000\n",
      ">best! 0, 82412120000000\n"
     ]
    },
    {
     "name": "stderr",
     "output_type": "stream",
     "text": [
      "  0%|          | 1/200 [00:01<04:19,  1.30s/it]"
     ]
    },
    {
     "name": "stdout",
     "output_type": "stream",
     "text": [
      ">best! 1, 65192220000000\n"
     ]
    },
    {
     "name": "stderr",
     "output_type": "stream",
     "text": [
      " 16%|█▌        | 31/200 [00:39<03:37,  1.29s/it]"
     ]
    },
    {
     "name": "stdout",
     "output_type": "stream",
     "text": [
      ">best! 31, 62367240000000\n"
     ]
    },
    {
     "name": "stderr",
     "output_type": "stream",
     "text": [
      " 21%|██        | 42/200 [00:54<03:25,  1.30s/it]"
     ]
    },
    {
     "name": "stdout",
     "output_type": "stream",
     "text": [
      ">best! 42, 59278640000000\n"
     ]
    },
    {
     "name": "stderr",
     "output_type": "stream",
     "text": [
      " 25%|██▌       | 50/200 [01:04<03:12,  1.28s/it]"
     ]
    },
    {
     "name": "stdout",
     "output_type": "stream",
     "text": [
      ">best! 50, 57996680000000\n"
     ]
    },
    {
     "name": "stderr",
     "output_type": "stream",
     "text": [
      " 32%|███▎      | 65/200 [01:23<02:50,  1.26s/it]"
     ]
    },
    {
     "name": "stdout",
     "output_type": "stream",
     "text": [
      ">best! 65, 48358060000000\n"
     ]
    },
    {
     "name": "stderr",
     "output_type": "stream",
     "text": [
      " 83%|████████▎ | 166/200 [03:37<00:44,  1.31s/it]\n"
     ]
    },
    {
     "name": "stdout",
     "output_type": "stream",
     "text": [
      "stop\n",
      "29번째 log 저장 완료. 총 118개\n",
      "115285500000000\n"
     ]
    },
    {
     "name": "stderr",
     "output_type": "stream",
     "text": [
      "  0%|          | 0/200 [00:00<?, ?it/s]"
     ]
    },
    {
     "name": "stdout",
     "output_type": "stream",
     "text": [
      ">best! 0, 111424080000000\n",
      ">best! 0, 101928360000000\n",
      ">best! 0, 79313100000000\n",
      ">best! 0, 76755700000000\n",
      ">best! 0, 75223100000000\n",
      ">best! 0, 72240960000000\n"
     ]
    },
    {
     "name": "stderr",
     "output_type": "stream",
     "text": [
      "  4%|▎         | 7/200 [00:05<02:29,  1.29it/s]"
     ]
    },
    {
     "name": "stdout",
     "output_type": "stream",
     "text": [
      ">best! 7, 69869300000000\n"
     ]
    },
    {
     "name": "stderr",
     "output_type": "stream",
     "text": [
      "  4%|▍         | 8/200 [00:06<02:25,  1.32it/s]"
     ]
    },
    {
     "name": "stdout",
     "output_type": "stream",
     "text": [
      ">best! 8, 66736520000000\n"
     ]
    },
    {
     "name": "stderr",
     "output_type": "stream",
     "text": [
      "  8%|▊         | 15/200 [00:11<02:23,  1.29it/s]"
     ]
    },
    {
     "name": "stdout",
     "output_type": "stream",
     "text": [
      ">best! 15, 63624520000000\n"
     ]
    },
    {
     "name": "stderr",
     "output_type": "stream",
     "text": [
      " 11%|█         | 22/200 [00:16<02:09,  1.37it/s]"
     ]
    },
    {
     "name": "stdout",
     "output_type": "stream",
     "text": [
      ">best! 22, 62717940000000\n"
     ]
    },
    {
     "name": "stderr",
     "output_type": "stream",
     "text": [
      " 16%|█▌        | 31/200 [00:23<02:03,  1.37it/s]"
     ]
    },
    {
     "name": "stdout",
     "output_type": "stream",
     "text": [
      ">best! 31, 60185220000000\n"
     ]
    },
    {
     "name": "stderr",
     "output_type": "stream",
     "text": [
      " 62%|██████▏   | 124/200 [01:31<00:52,  1.44it/s]"
     ]
    },
    {
     "name": "stdout",
     "output_type": "stream",
     "text": [
      ">best! 124, 53042940000000\n"
     ]
    },
    {
     "name": "stderr",
     "output_type": "stream",
     "text": [
      "100%|██████████| 200/200 [02:26<00:00,  1.37it/s]\n"
     ]
    },
    {
     "name": "stdout",
     "output_type": "stream",
     "text": [
      "30번째 log 저장 완료. 총 118개\n",
      "60663720000000\n"
     ]
    },
    {
     "name": "stderr",
     "output_type": "stream",
     "text": [
      "  0%|          | 0/200 [00:00<?, ?it/s]"
     ]
    },
    {
     "name": "stdout",
     "output_type": "stream",
     "text": [
      ">best! 0, 52220580000000\n",
      ">best! 0, 49870180000000\n",
      ">best! 0, 49137640000000\n"
     ]
    },
    {
     "name": "stderr",
     "output_type": "stream",
     "text": [
      "  0%|          | 1/200 [00:01<03:54,  1.18s/it]"
     ]
    },
    {
     "name": "stdout",
     "output_type": "stream",
     "text": [
      ">best! 1, 45814440000000\n",
      ">best! 1, 41766540000000\n"
     ]
    },
    {
     "name": "stderr",
     "output_type": "stream",
     "text": [
      "  2%|▏         | 3/200 [00:03<03:52,  1.18s/it]"
     ]
    },
    {
     "name": "stdout",
     "output_type": "stream",
     "text": [
      ">best! 3, 36684460000000\n"
     ]
    },
    {
     "name": "stderr",
     "output_type": "stream",
     "text": [
      "  2%|▏         | 4/200 [00:04<03:53,  1.19s/it]"
     ]
    },
    {
     "name": "stdout",
     "output_type": "stream",
     "text": [
      ">best! 4, 33903160000000\n"
     ]
    },
    {
     "name": "stderr",
     "output_type": "stream",
     "text": [
      " 52%|█████▎    | 105/200 [02:08<01:55,  1.22s/it]\n"
     ]
    },
    {
     "name": "stdout",
     "output_type": "stream",
     "text": [
      "stop\n",
      "31번째 log 저장 완료. 총 118개\n",
      "6455760000000\n"
     ]
    },
    {
     "name": "stderr",
     "output_type": "stream",
     "text": [
      "  0%|          | 0/200 [00:00<?, ?it/s]"
     ]
    },
    {
     "name": "stdout",
     "output_type": "stream",
     "text": [
      ">best! 0, 5379800000000\n",
      ">best! 0, 4303840000000\n",
      ">best! 0, 2151920000000\n"
     ]
    },
    {
     "name": "stderr",
     "output_type": "stream",
     "text": [
      "  0%|          | 1/200 [00:00<02:18,  1.44it/s]"
     ]
    },
    {
     "name": "stdout",
     "output_type": "stream",
     "text": [
      ">best! 1, 1613940000000\n"
     ]
    },
    {
     "name": "stderr",
     "output_type": "stream",
     "text": [
      "  4%|▎         | 7/200 [00:04<02:04,  1.55it/s]"
     ]
    },
    {
     "name": "stdout",
     "output_type": "stream",
     "text": [
      ">best! 7, 1075960000000\n"
     ]
    },
    {
     "name": "stderr",
     "output_type": "stream",
     "text": [
      "  8%|▊         | 15/200 [00:09<02:01,  1.52it/s]"
     ]
    },
    {
     "name": "stdout",
     "output_type": "stream",
     "text": [
      ">best! 15, 537980000000\n"
     ]
    },
    {
     "name": "stderr",
     "output_type": "stream",
     "text": [
      " 58%|█████▊    | 116/200 [01:18<00:56,  1.48it/s]\n"
     ]
    },
    {
     "name": "stdout",
     "output_type": "stream",
     "text": [
      "stop\n",
      "32번째 log 저장 완료. 총 118개\n",
      "8607680000000\n"
     ]
    },
    {
     "name": "stderr",
     "output_type": "stream",
     "text": [
      "  0%|          | 0/200 [00:00<?, ?it/s]"
     ]
    },
    {
     "name": "stdout",
     "output_type": "stream",
     "text": [
      ">best! 0, 6455760000000\n",
      ">best! 0, 4303840000000\n",
      ">best! 0, 2689900000000\n"
     ]
    },
    {
     "name": "stderr",
     "output_type": "stream",
     "text": [
      "  0%|          | 1/200 [00:00<01:25,  2.33it/s]"
     ]
    },
    {
     "name": "stdout",
     "output_type": "stream",
     "text": [
      ">best! 1, 2151920000000\n"
     ]
    },
    {
     "name": "stderr",
     "output_type": "stream",
     "text": [
      " 12%|█▎        | 25/200 [00:10<01:27,  2.01it/s]"
     ]
    },
    {
     "name": "stdout",
     "output_type": "stream",
     "text": [
      ">best! 25, 1075960000000\n"
     ]
    },
    {
     "name": "stderr",
     "output_type": "stream",
     "text": [
      " 63%|██████▎   | 126/200 [00:49<00:28,  2.55it/s]\n"
     ]
    },
    {
     "name": "stdout",
     "output_type": "stream",
     "text": [
      "stop\n",
      "33번째 log 저장 완료. 총 118개\n",
      "9683640000000\n"
     ]
    },
    {
     "name": "stderr",
     "output_type": "stream",
     "text": [
      "  0%|          | 0/200 [00:00<?, ?it/s]"
     ]
    },
    {
     "name": "stdout",
     "output_type": "stream",
     "text": [
      ">best! 0, 7531720000000\n",
      ">best! 0, 3765860000000\n",
      ">best! 0, 2151920000000\n"
     ]
    },
    {
     "name": "stderr",
     "output_type": "stream",
     "text": [
      "  4%|▍         | 9/200 [00:04<01:24,  2.25it/s]"
     ]
    },
    {
     "name": "stdout",
     "output_type": "stream",
     "text": [
      ">best! 9, 1613940000000\n"
     ]
    },
    {
     "name": "stderr",
     "output_type": "stream",
     "text": [
      "  7%|▋         | 14/200 [00:07<02:03,  1.51it/s]"
     ]
    },
    {
     "name": "stdout",
     "output_type": "stream",
     "text": [
      ">best! 14, 537980000000\n"
     ]
    },
    {
     "name": "stderr",
     "output_type": "stream",
     "text": [
      " 57%|█████▊    | 115/200 [00:55<00:40,  2.09it/s]\n"
     ]
    },
    {
     "name": "stdout",
     "output_type": "stream",
     "text": [
      "stop\n",
      "34번째 log 저장 완료. 총 118개\n",
      "8771760000000\n"
     ]
    },
    {
     "name": "stderr",
     "output_type": "stream",
     "text": [
      "  0%|          | 0/200 [00:00<?, ?it/s]"
     ]
    },
    {
     "name": "stdout",
     "output_type": "stream",
     "text": [
      ">best! 0, 8619780000000\n",
      ">best! 0, 6081860000000\n"
     ]
    },
    {
     "name": "stderr",
     "output_type": "stream",
     "text": [
      "  0%|          | 1/200 [00:00<01:51,  1.78it/s]"
     ]
    },
    {
     "name": "stdout",
     "output_type": "stream",
     "text": [
      ">best! 1, 5198900000000\n",
      ">best! 1, 4812900000000\n"
     ]
    },
    {
     "name": "stderr",
     "output_type": "stream",
     "text": [
      "  3%|▎         | 6/200 [00:03<02:03,  1.58it/s]"
     ]
    },
    {
     "name": "stdout",
     "output_type": "stream",
     "text": [
      ">best! 6, 4771880000000\n"
     ]
    },
    {
     "name": "stderr",
     "output_type": "stream",
     "text": [
      "  5%|▌         | 10/200 [00:05<01:44,  1.82it/s]"
     ]
    },
    {
     "name": "stdout",
     "output_type": "stream",
     "text": [
      ">best! 10, 4701940000000\n"
     ]
    },
    {
     "name": "stderr",
     "output_type": "stream",
     "text": [
      "  6%|▌         | 12/200 [00:06<01:42,  1.84it/s]"
     ]
    },
    {
     "name": "stdout",
     "output_type": "stream",
     "text": [
      ">best! 12, 4508940000000\n"
     ]
    },
    {
     "name": "stderr",
     "output_type": "stream",
     "text": [
      " 12%|█▏        | 23/200 [00:12<01:40,  1.77it/s]"
     ]
    },
    {
     "name": "stdout",
     "output_type": "stream",
     "text": [
      ">best! 23, 4122940000000\n"
     ]
    },
    {
     "name": "stderr",
     "output_type": "stream",
     "text": [
      " 16%|█▋        | 33/200 [00:18<01:30,  1.85it/s]"
     ]
    },
    {
     "name": "stdout",
     "output_type": "stream",
     "text": [
      ">best! 33, 2895000000000\n"
     ]
    },
    {
     "name": "stderr",
     "output_type": "stream",
     "text": [
      " 57%|█████▋    | 114/200 [01:02<00:45,  1.90it/s]"
     ]
    },
    {
     "name": "stdout",
     "output_type": "stream",
     "text": [
      ">best! 114, 2660980000000\n"
     ]
    },
    {
     "name": "stderr",
     "output_type": "stream",
     "text": [
      "100%|██████████| 200/200 [01:49<00:00,  1.82it/s]\n"
     ]
    },
    {
     "name": "stdout",
     "output_type": "stream",
     "text": [
      "35번째 log 저장 완료. 총 118개\n",
      "9046800000000\n"
     ]
    },
    {
     "name": "stderr",
     "output_type": "stream",
     "text": [
      "  0%|          | 0/200 [00:00<?, ?it/s]"
     ]
    },
    {
     "name": "stdout",
     "output_type": "stream",
     "text": [
      ">best! 0, 8122820000000\n",
      ">best! 0, 7350820000000\n"
     ]
    },
    {
     "name": "stderr",
     "output_type": "stream",
     "text": [
      "  0%|          | 1/200 [00:01<03:29,  1.05s/it]"
     ]
    },
    {
     "name": "stdout",
     "output_type": "stream",
     "text": [
      ">best! 1, 7005840000000\n"
     ]
    },
    {
     "name": "stderr",
     "output_type": "stream",
     "text": [
      "  1%|          | 2/200 [00:02<03:29,  1.06s/it]"
     ]
    },
    {
     "name": "stdout",
     "output_type": "stream",
     "text": [
      ">best! 2, 6040840000000\n"
     ]
    },
    {
     "name": "stderr",
     "output_type": "stream",
     "text": [
      "  2%|▏         | 3/200 [00:03<03:29,  1.06s/it]"
     ]
    },
    {
     "name": "stdout",
     "output_type": "stream",
     "text": [
      ">best! 3, 5543880000000\n",
      ">best! 3, 5005900000000\n"
     ]
    },
    {
     "name": "stderr",
     "output_type": "stream",
     "text": [
      "  3%|▎         | 6/200 [00:06<03:22,  1.04s/it]"
     ]
    },
    {
     "name": "stdout",
     "output_type": "stream",
     "text": [
      ">best! 6, 2123000000000\n"
     ]
    },
    {
     "name": "stderr",
     "output_type": "stream",
     "text": [
      " 54%|█████▎    | 107/200 [01:55<01:40,  1.08s/it]\n"
     ]
    },
    {
     "name": "stdout",
     "output_type": "stream",
     "text": [
      "stop\n",
      "36번째 log 저장 완료. 총 118개\n",
      "74263180000000\n"
     ]
    },
    {
     "name": "stderr",
     "output_type": "stream",
     "text": [
      "  0%|          | 0/200 [00:00<?, ?it/s]"
     ]
    },
    {
     "name": "stdout",
     "output_type": "stream",
     "text": [
      ">best! 0, 46177800000000\n",
      ">best! 0, 45480800000000\n"
     ]
    },
    {
     "name": "stderr",
     "output_type": "stream",
     "text": [
      "  1%|          | 2/200 [00:02<04:18,  1.31s/it]"
     ]
    },
    {
     "name": "stdout",
     "output_type": "stream",
     "text": [
      ">best! 2, 38794180000000\n"
     ]
    },
    {
     "name": "stderr",
     "output_type": "stream",
     "text": [
      "  2%|▏         | 3/200 [00:03<04:09,  1.27s/it]"
     ]
    },
    {
     "name": "stdout",
     "output_type": "stream",
     "text": [
      ">best! 3, 20243540000000\n"
     ]
    },
    {
     "name": "stderr",
     "output_type": "stream",
     "text": [
      "  2%|▏         | 4/200 [00:05<03:58,  1.22s/it]"
     ]
    },
    {
     "name": "stdout",
     "output_type": "stream",
     "text": [
      ">best! 4, 16290960000000\n"
     ]
    },
    {
     "name": "stderr",
     "output_type": "stream",
     "text": [
      "  6%|▋         | 13/200 [00:15<03:35,  1.15s/it]"
     ]
    },
    {
     "name": "stdout",
     "output_type": "stream",
     "text": [
      ">best! 13, 9198780488360\n"
     ]
    },
    {
     "name": "stderr",
     "output_type": "stream",
     "text": [
      " 10%|█         | 20/200 [00:23<03:33,  1.19s/it]"
     ]
    },
    {
     "name": "stdout",
     "output_type": "stream",
     "text": [
      ">best! 20, 8277920000000\n"
     ]
    },
    {
     "name": "stderr",
     "output_type": "stream",
     "text": [
      " 60%|██████    | 121/200 [02:22<01:32,  1.18s/it]\n"
     ]
    },
    {
     "name": "stdout",
     "output_type": "stream",
     "text": [
      "stop\n",
      "37번째 log 저장 완료. 총 118개\n",
      "82808720000000\n"
     ]
    },
    {
     "name": "stderr",
     "output_type": "stream",
     "text": [
      "  0%|          | 0/200 [00:00<?, ?it/s]"
     ]
    },
    {
     "name": "stdout",
     "output_type": "stream",
     "text": [
      ">best! 0, 51350520000000\n",
      ">best! 0, 42861640000000\n"
     ]
    },
    {
     "name": "stderr",
     "output_type": "stream",
     "text": [
      "  0%|          | 1/200 [00:01<03:49,  1.15s/it]"
     ]
    },
    {
     "name": "stdout",
     "output_type": "stream",
     "text": [
      ">best! 1, 33478880000000\n"
     ]
    },
    {
     "name": "stderr",
     "output_type": "stream",
     "text": [
      "  1%|          | 2/200 [00:02<03:44,  1.13s/it]"
     ]
    },
    {
     "name": "stdout",
     "output_type": "stream",
     "text": [
      ">best! 2, 32489640000000\n",
      ">best! 2, 30797580000000\n",
      ">best! 2, 25520180000000\n"
     ]
    },
    {
     "name": "stderr",
     "output_type": "stream",
     "text": [
      "  2%|▏         | 3/200 [00:03<03:54,  1.19s/it]"
     ]
    },
    {
     "name": "stdout",
     "output_type": "stream",
     "text": [
      ">best! 3, 21122580000000\n"
     ]
    },
    {
     "name": "stderr",
     "output_type": "stream",
     "text": [
      "  2%|▎         | 5/200 [00:05<03:41,  1.13s/it]"
     ]
    },
    {
     "name": "stdout",
     "output_type": "stream",
     "text": [
      ">best! 5, 7116800952302\n"
     ]
    },
    {
     "name": "stderr",
     "output_type": "stream",
     "text": [
      " 53%|█████▎    | 106/200 [02:01<01:47,  1.14s/it]\n"
     ]
    },
    {
     "name": "stdout",
     "output_type": "stream",
     "text": [
      "stop\n",
      "38번째 log 저장 완료. 총 118개\n",
      "105128341076010\n"
     ]
    },
    {
     "name": "stderr",
     "output_type": "stream",
     "text": [
      "  0%|          | 0/200 [00:00<?, ?it/s]"
     ]
    },
    {
     "name": "stdout",
     "output_type": "stream",
     "text": [
      ">best! 0, 80957641545040\n",
      ">best! 0, 35288140248310\n"
     ]
    },
    {
     "name": "stderr",
     "output_type": "stream",
     "text": [
      "  0%|          | 1/200 [00:01<06:19,  1.91s/it]"
     ]
    },
    {
     "name": "stdout",
     "output_type": "stream",
     "text": [
      ">best! 1, 25483120000000\n"
     ]
    },
    {
     "name": "stderr",
     "output_type": "stream",
     "text": [
      "  2%|▏         | 4/200 [00:07<06:19,  1.94s/it]"
     ]
    },
    {
     "name": "stdout",
     "output_type": "stream",
     "text": [
      ">best! 4, 19528480000000\n"
     ]
    },
    {
     "name": "stderr",
     "output_type": "stream",
     "text": [
      "  4%|▎         | 7/200 [00:13<06:24,  1.99s/it]"
     ]
    },
    {
     "name": "stdout",
     "output_type": "stream",
     "text": [
      ">best! 7, 8385762237302\n"
     ]
    },
    {
     "name": "stderr",
     "output_type": "stream",
     "text": [
      " 54%|█████▍    | 108/200 [03:36<03:04,  2.00s/it]\n"
     ]
    },
    {
     "name": "stdout",
     "output_type": "stream",
     "text": [
      "stop\n",
      "39번째 log 저장 완료. 총 118개\n",
      "183212405256100\n"
     ]
    },
    {
     "name": "stderr",
     "output_type": "stream",
     "text": [
      "  0%|          | 0/200 [00:00<?, ?it/s]"
     ]
    },
    {
     "name": "stdout",
     "output_type": "stream",
     "text": [
      ">best! 0, 60473681876120\n",
      ">best! 0, 43923525333810\n",
      ">best! 0, 23856622849880\n",
      ">best! 0, 18850781685502\n"
     ]
    },
    {
     "name": "stderr",
     "output_type": "stream",
     "text": [
      "  3%|▎         | 6/200 [00:07<03:49,  1.18s/it]"
     ]
    },
    {
     "name": "stdout",
     "output_type": "stream",
     "text": [
      ">best! 6, 14033562724200\n"
     ]
    },
    {
     "name": "stderr",
     "output_type": "stream",
     "text": [
      " 12%|█▎        | 25/200 [00:29<03:22,  1.16s/it]"
     ]
    },
    {
     "name": "stdout",
     "output_type": "stream",
     "text": [
      ">best! 25, 12771645615636\n"
     ]
    },
    {
     "name": "stderr",
     "output_type": "stream",
     "text": [
      " 14%|█▍        | 28/200 [00:33<03:42,  1.30s/it]"
     ]
    },
    {
     "name": "stdout",
     "output_type": "stream",
     "text": [
      ">best! 28, 11958627095218\n"
     ]
    },
    {
     "name": "stderr",
     "output_type": "stream",
     "text": [
      " 26%|██▋       | 53/200 [01:03<02:57,  1.21s/it]"
     ]
    },
    {
     "name": "stdout",
     "output_type": "stream",
     "text": [
      ">best! 53, 8964762932654\n"
     ]
    },
    {
     "name": "stderr",
     "output_type": "stream",
     "text": [
      " 38%|███▊      | 76/200 [01:30<02:25,  1.18s/it]"
     ]
    },
    {
     "name": "stdout",
     "output_type": "stream",
     "text": [
      ">best! 76, 7929825071286\n"
     ]
    },
    {
     "name": "stderr",
     "output_type": "stream",
     "text": [
      " 81%|████████  | 162/200 [03:18<00:45,  1.19s/it]"
     ]
    },
    {
     "name": "stdout",
     "output_type": "stream",
     "text": [
      ">best! 162, 6619843681920\n"
     ]
    },
    {
     "name": "stderr",
     "output_type": "stream",
     "text": [
      "100%|██████████| 200/200 [04:03<00:00,  1.22s/it]\n"
     ]
    },
    {
     "name": "stdout",
     "output_type": "stream",
     "text": [
      "40번째 log 저장 완료. 총 118개\n",
      "164683984050530\n"
     ]
    },
    {
     "name": "stderr",
     "output_type": "stream",
     "text": [
      "  0%|          | 0/200 [00:00<?, ?it/s]"
     ]
    },
    {
     "name": "stdout",
     "output_type": "stream",
     "text": [
      ">best! 0, 115268982632280\n",
      ">best! 0, 114934163361820\n",
      ">best! 0, 51435643663160\n",
      ">best! 0, 43724244659380\n",
      ">best! 0, 40187542400330\n"
     ]
    },
    {
     "name": "stderr",
     "output_type": "stream",
     "text": [
      "  0%|          | 1/200 [00:01<06:37,  2.00s/it]"
     ]
    },
    {
     "name": "stdout",
     "output_type": "stream",
     "text": [
      ">best! 1, 32389603659140\n"
     ]
    },
    {
     "name": "stderr",
     "output_type": "stream",
     "text": [
      "  1%|          | 2/200 [00:03<06:34,  1.99s/it]"
     ]
    },
    {
     "name": "stdout",
     "output_type": "stream",
     "text": [
      ">best! 2, 11929662648570\n"
     ]
    },
    {
     "name": "stderr",
     "output_type": "stream",
     "text": [
      "  4%|▍         | 8/200 [00:16<06:32,  2.04s/it]"
     ]
    },
    {
     "name": "stdout",
     "output_type": "stream",
     "text": [
      ">best! 8, 8536161131190\n"
     ]
    },
    {
     "name": "stderr",
     "output_type": "stream",
     "text": [
      "  6%|▌         | 12/200 [00:24<06:19,  2.02s/it]"
     ]
    },
    {
     "name": "stdout",
     "output_type": "stream",
     "text": [
      ">best! 12, 3292723680560\n"
     ]
    },
    {
     "name": "stderr",
     "output_type": "stream",
     "text": [
      "  7%|▋         | 14/200 [00:28<06:13,  2.01s/it]"
     ]
    },
    {
     "name": "stdout",
     "output_type": "stream",
     "text": [
      ">best! 14, 1930006689266\n"
     ]
    },
    {
     "name": "stderr",
     "output_type": "stream",
     "text": [
      " 57%|█████▊    | 115/200 [03:55<02:53,  2.05s/it]\n"
     ]
    },
    {
     "name": "stdout",
     "output_type": "stream",
     "text": [
      "stop\n",
      "41번째 log 저장 완료. 총 118개\n",
      "140214803466840\n"
     ]
    },
    {
     "name": "stderr",
     "output_type": "stream",
     "text": [
      "  0%|          | 0/200 [00:00<?, ?it/s]"
     ]
    },
    {
     "name": "stdout",
     "output_type": "stream",
     "text": [
      ">best! 0, 47438123710300\n",
      ">best! 0, 30806343034900\n"
     ]
    },
    {
     "name": "stderr",
     "output_type": "stream",
     "text": [
      "  0%|          | 1/200 [00:02<07:12,  2.17s/it]"
     ]
    },
    {
     "name": "stdout",
     "output_type": "stream",
     "text": [
      ">best! 1, 21310863753140\n",
      ">best! 1, 8318145801800\n"
     ]
    },
    {
     "name": "stderr",
     "output_type": "stream",
     "text": [
      "  3%|▎         | 6/200 [00:11<06:09,  1.91s/it]"
     ]
    },
    {
     "name": "stdout",
     "output_type": "stream",
     "text": [
      ">best! 6, 3088002485256\n"
     ]
    },
    {
     "name": "stderr",
     "output_type": "stream",
     "text": [
      "  8%|▊         | 17/200 [00:35<07:08,  2.34s/it]"
     ]
    },
    {
     "name": "stdout",
     "output_type": "stream",
     "text": [
      ">best! 17, 2509005907532\n"
     ]
    },
    {
     "name": "stderr",
     "output_type": "stream",
     "text": [
      " 26%|██▋       | 53/200 [01:44<04:45,  1.94s/it]"
     ]
    },
    {
     "name": "stdout",
     "output_type": "stream",
     "text": [
      ">best! 53, 1930006248028\n"
     ]
    },
    {
     "name": "stderr",
     "output_type": "stream",
     "text": [
      " 77%|███████▋  | 154/200 [05:03<01:30,  1.97s/it]\n"
     ]
    },
    {
     "name": "stdout",
     "output_type": "stream",
     "text": [
      "stop\n",
      "42번째 log 저장 완료. 총 118개\n",
      "149505364056490\n"
     ]
    },
    {
     "name": "stderr",
     "output_type": "stream",
     "text": [
      "  0%|          | 0/200 [00:00<?, ?it/s]"
     ]
    },
    {
     "name": "stdout",
     "output_type": "stream",
     "text": [
      ">best! 0, 76483825425800\n",
      ">best! 0, 36154665989800\n",
      ">best! 0, 26306442786590\n",
      ">best! 0, 17352801975110\n"
     ]
    },
    {
     "name": "stderr",
     "output_type": "stream",
     "text": [
      "  0%|          | 1/200 [00:01<05:00,  1.51s/it]"
     ]
    },
    {
     "name": "stdout",
     "output_type": "stream",
     "text": [
      ">best! 1, 7136704483720\n"
     ]
    },
    {
     "name": "stderr",
     "output_type": "stream",
     "text": [
      "  3%|▎         | 6/200 [00:09<05:02,  1.56s/it]"
     ]
    },
    {
     "name": "stdout",
     "output_type": "stream",
     "text": [
      ">best! 6, 4025262372740\n"
     ]
    },
    {
     "name": "stderr",
     "output_type": "stream",
     "text": [
      "  4%|▍         | 8/200 [00:12<05:10,  1.62s/it]"
     ]
    },
    {
     "name": "stdout",
     "output_type": "stream",
     "text": [
      ">best! 8, 3281004080264\n"
     ]
    },
    {
     "name": "stderr",
     "output_type": "stream",
     "text": [
      " 10%|▉         | 19/200 [00:29<04:37,  1.53s/it]"
     ]
    },
    {
     "name": "stdout",
     "output_type": "stream",
     "text": [
      ">best! 19, 3088002060990\n"
     ]
    },
    {
     "name": "stderr",
     "output_type": "stream",
     "text": [
      " 22%|██▎       | 45/200 [01:10<03:59,  1.54s/it]"
     ]
    },
    {
     "name": "stdout",
     "output_type": "stream",
     "text": [
      ">best! 45, 2895003085300\n"
     ]
    },
    {
     "name": "stderr",
     "output_type": "stream",
     "text": [
      " 43%|████▎     | 86/200 [02:14<02:55,  1.54s/it]"
     ]
    },
    {
     "name": "stdout",
     "output_type": "stream",
     "text": [
      ">best! 86, 2316003962630\n"
     ]
    },
    {
     "name": "stderr",
     "output_type": "stream",
     "text": [
      " 50%|█████     | 101/200 [02:38<02:37,  1.59s/it]"
     ]
    },
    {
     "name": "stdout",
     "output_type": "stream",
     "text": [
      ">best! 101, 1930003426406\n"
     ]
    },
    {
     "name": "stderr",
     "output_type": "stream",
     "text": [
      "100%|██████████| 200/200 [05:22<00:00,  1.61s/it]\n"
     ]
    },
    {
     "name": "stdout",
     "output_type": "stream",
     "text": [
      "43번째 log 저장 완료. 총 118개\n",
      "101146006488360\n"
     ]
    },
    {
     "name": "stderr",
     "output_type": "stream",
     "text": [
      "  0%|          | 0/200 [00:00<?, ?it/s]"
     ]
    },
    {
     "name": "stdout",
     "output_type": "stream",
     "text": [
      ">best! 0, 27718961158780\n",
      ">best! 0, 6762425026300\n"
     ]
    },
    {
     "name": "stderr",
     "output_type": "stream",
     "text": [
      "  6%|▌         | 11/200 [00:18<05:13,  1.66s/it]"
     ]
    },
    {
     "name": "stdout",
     "output_type": "stream",
     "text": [
      ">best! 11, 2316005951940\n"
     ]
    },
    {
     "name": "stderr",
     "output_type": "stream",
     "text": [
      "  8%|▊         | 16/200 [00:26<04:56,  1.61s/it]"
     ]
    },
    {
     "name": "stdout",
     "output_type": "stream",
     "text": [
      ">best! 16, 2123005351018\n"
     ]
    },
    {
     "name": "stderr",
     "output_type": "stream",
     "text": [
      " 58%|█████▊    | 117/200 [03:15<02:18,  1.67s/it]\n"
     ]
    },
    {
     "name": "stdout",
     "output_type": "stream",
     "text": [
      "stop\n",
      "44번째 log 저장 완료. 총 118개\n",
      "79525561020830\n"
     ]
    },
    {
     "name": "stderr",
     "output_type": "stream",
     "text": [
      "  0%|          | 0/200 [00:00<?, ?it/s]"
     ]
    },
    {
     "name": "stdout",
     "output_type": "stream",
     "text": [
      ">best! 0, 67882041387540\n",
      ">best! 0, 67226581020830\n",
      ">best! 0, 56649763634530\n",
      ">best! 0, 24906365477860\n"
     ]
    },
    {
     "name": "stderr",
     "output_type": "stream",
     "text": [
      "  2%|▏         | 4/200 [00:06<05:31,  1.69s/it]"
     ]
    },
    {
     "name": "stdout",
     "output_type": "stream",
     "text": [
      ">best! 4, 24173824039300\n"
     ]
    },
    {
     "name": "stderr",
     "output_type": "stream",
     "text": [
      "  2%|▎         | 5/200 [00:08<05:15,  1.62s/it]"
     ]
    },
    {
     "name": "stdout",
     "output_type": "stream",
     "text": [
      ">best! 5, 23061221462270\n",
      ">best! 5, 4465002619134\n"
     ]
    },
    {
     "name": "stderr",
     "output_type": "stream",
     "text": [
      "  5%|▌         | 10/200 [00:16<04:51,  1.54s/it]"
     ]
    },
    {
     "name": "stdout",
     "output_type": "stream",
     "text": [
      ">best! 10, 4631720\n"
     ]
    },
    {
     "name": "stderr",
     "output_type": "stream",
     "text": [
      "  8%|▊         | 17/200 [00:26<04:32,  1.49s/it]"
     ]
    },
    {
     "name": "stdout",
     "output_type": "stream",
     "text": [
      ">best! 17, 2722906\n"
     ]
    },
    {
     "name": "stderr",
     "output_type": "stream",
     "text": [
      " 59%|█████▉    | 118/200 [02:58<02:04,  1.52s/it]\n"
     ]
    },
    {
     "name": "stdout",
     "output_type": "stream",
     "text": [
      "stop\n",
      "45번째 log 저장 완료. 총 118개\n",
      "145997560413850\n"
     ]
    },
    {
     "name": "stderr",
     "output_type": "stream",
     "text": [
      "  0%|          | 0/200 [00:00<?, ?it/s]"
     ]
    },
    {
     "name": "stdout",
     "output_type": "stream",
     "text": [
      ">best! 0, 77160885919300\n",
      ">best! 0, 51033624408090\n",
      ">best! 0, 15627525285700\n"
     ]
    },
    {
     "name": "stderr",
     "output_type": "stream",
     "text": [
      "  1%|          | 2/200 [00:03<05:01,  1.52s/it]"
     ]
    },
    {
     "name": "stdout",
     "output_type": "stream",
     "text": [
      ">best! 2, 9278844016700\n"
     ]
    },
    {
     "name": "stderr",
     "output_type": "stream",
     "text": [
      "  6%|▌         | 11/200 [00:16<04:33,  1.45s/it]"
     ]
    },
    {
     "name": "stdout",
     "output_type": "stream",
     "text": [
      ">best! 11, 6837043566110\n"
     ]
    },
    {
     "name": "stderr",
     "output_type": "stream",
     "text": [
      " 10%|█         | 20/200 [00:29<04:25,  1.48s/it]"
     ]
    },
    {
     "name": "stdout",
     "output_type": "stream",
     "text": [
      ">best! 20, 3494236\n"
     ]
    },
    {
     "name": "stderr",
     "output_type": "stream",
     "text": [
      " 26%|██▋       | 53/200 [01:18<03:34,  1.46s/it]"
     ]
    },
    {
     "name": "stdout",
     "output_type": "stream",
     "text": [
      ">best! 53, 1968418\n"
     ]
    },
    {
     "name": "stderr",
     "output_type": "stream",
     "text": [
      " 77%|███████▋  | 154/200 [03:53<01:09,  1.52s/it]\n"
     ]
    },
    {
     "name": "stdout",
     "output_type": "stream",
     "text": [
      "stop\n",
      "46번째 log 저장 완료. 총 118개\n",
      "5388920\n"
     ]
    },
    {
     "name": "stderr",
     "output_type": "stream",
     "text": [
      "  0%|          | 0/200 [00:00<?, ?it/s]"
     ]
    },
    {
     "name": "stdout",
     "output_type": "stream",
     "text": [
      ">best! 0, 4000340\n",
      ">best! 0, 2128450\n",
      ">best! 0, 1028940\n"
     ]
    },
    {
     "name": "stderr",
     "output_type": "stream",
     "text": [
      "  0%|          | 1/200 [00:01<04:46,  1.44s/it]"
     ]
    },
    {
     "name": "stdout",
     "output_type": "stream",
     "text": [
      ">best! 1, 572180\n"
     ]
    },
    {
     "name": "stderr",
     "output_type": "stream",
     "text": [
      " 13%|█▎        | 26/200 [00:37<04:08,  1.43s/it]"
     ]
    },
    {
     "name": "stdout",
     "output_type": "stream",
     "text": [
      ">best! 26, 389310\n"
     ]
    },
    {
     "name": "stderr",
     "output_type": "stream",
     "text": [
      " 16%|█▋        | 33/200 [00:47<04:09,  1.49s/it]"
     ]
    },
    {
     "name": "stdout",
     "output_type": "stream",
     "text": [
      ">best! 33, 378080\n"
     ]
    },
    {
     "name": "stderr",
     "output_type": "stream",
     "text": [
      " 35%|███▌      | 70/200 [01:40<03:02,  1.41s/it]"
     ]
    },
    {
     "name": "stdout",
     "output_type": "stream",
     "text": [
      ">best! 70, 331080\n"
     ]
    },
    {
     "name": "stderr",
     "output_type": "stream",
     "text": [
      " 45%|████▌     | 90/200 [02:10<02:54,  1.58s/it]"
     ]
    },
    {
     "name": "stdout",
     "output_type": "stream",
     "text": [
      ">best! 90, 227860\n"
     ]
    },
    {
     "name": "stderr",
     "output_type": "stream",
     "text": [
      " 96%|█████████▌| 191/200 [04:41<00:13,  1.48s/it]\n"
     ]
    },
    {
     "name": "stdout",
     "output_type": "stream",
     "text": [
      "stop\n",
      "47번째 log 저장 완료. 총 118개\n",
      "51670001986480\n"
     ]
    },
    {
     "name": "stderr",
     "output_type": "stream",
     "text": [
      "  0%|          | 0/200 [00:00<?, ?it/s]"
     ]
    },
    {
     "name": "stdout",
     "output_type": "stream",
     "text": [
      ">best! 0, 14575000772520\n",
      ">best! 0, 5129800\n",
      ">best! 0, 4519640\n",
      ">best! 0, 3866270\n",
      ">best! 0, 3115920\n",
      ">best! 0, 2857650\n"
     ]
    },
    {
     "name": "stderr",
     "output_type": "stream",
     "text": [
      "  0%|          | 1/200 [00:00<02:41,  1.23it/s]"
     ]
    },
    {
     "name": "stdout",
     "output_type": "stream",
     "text": [
      ">best! 1, 2290350\n"
     ]
    },
    {
     "name": "stderr",
     "output_type": "stream",
     "text": [
      "  2%|▎         | 5/200 [00:04<02:37,  1.24it/s]"
     ]
    },
    {
     "name": "stdout",
     "output_type": "stream",
     "text": [
      ">best! 5, 2184360\n"
     ]
    },
    {
     "name": "stderr",
     "output_type": "stream",
     "text": [
      "  4%|▍         | 9/200 [00:07<02:35,  1.23it/s]"
     ]
    },
    {
     "name": "stdout",
     "output_type": "stream",
     "text": [
      ">best! 9, 1906180\n"
     ]
    },
    {
     "name": "stderr",
     "output_type": "stream",
     "text": [
      " 10%|▉         | 19/200 [00:15<02:28,  1.22it/s]"
     ]
    },
    {
     "name": "stdout",
     "output_type": "stream",
     "text": [
      ">best! 19, 1806240\n"
     ]
    },
    {
     "name": "stderr",
     "output_type": "stream",
     "text": [
      " 10%|█         | 20/200 [00:16<02:27,  1.22it/s]"
     ]
    },
    {
     "name": "stdout",
     "output_type": "stream",
     "text": [
      ">best! 20, 1578010\n"
     ]
    },
    {
     "name": "stderr",
     "output_type": "stream",
     "text": [
      " 16%|█▌        | 32/200 [00:26<02:17,  1.22it/s]"
     ]
    },
    {
     "name": "stdout",
     "output_type": "stream",
     "text": [
      ">best! 32, 1394240\n"
     ]
    },
    {
     "name": "stderr",
     "output_type": "stream",
     "text": [
      " 21%|██        | 42/200 [00:35<02:09,  1.22it/s]"
     ]
    },
    {
     "name": "stdout",
     "output_type": "stream",
     "text": [
      ">best! 42, 809570\n"
     ]
    },
    {
     "name": "stderr",
     "output_type": "stream",
     "text": [
      " 44%|████▍     | 89/200 [01:14<01:35,  1.16it/s]"
     ]
    },
    {
     "name": "stdout",
     "output_type": "stream",
     "text": [
      ">best! 89, 766300\n"
     ]
    },
    {
     "name": "stderr",
     "output_type": "stream",
     "text": [
      " 88%|████████▊ | 176/200 [02:27<00:19,  1.20it/s]"
     ]
    },
    {
     "name": "stdout",
     "output_type": "stream",
     "text": [
      ">best! 176, 639350\n"
     ]
    },
    {
     "name": "stderr",
     "output_type": "stream",
     "text": [
      "100%|██████████| 200/200 [02:48<00:00,  1.19it/s]\n"
     ]
    },
    {
     "name": "stdout",
     "output_type": "stream",
     "text": [
      "48번째 log 저장 완료. 총 118개\n",
      "42121200000000\n"
     ]
    },
    {
     "name": "stderr",
     "output_type": "stream",
     "text": [
      "  0%|          | 0/200 [00:00<?, ?it/s]"
     ]
    },
    {
     "name": "stdout",
     "output_type": "stream",
     "text": [
      ">best! 0, 21855002363140\n",
      ">best! 0, 16007601562500\n"
     ]
    },
    {
     "name": "stderr",
     "output_type": "stream",
     "text": [
      "  0%|          | 1/200 [00:01<05:28,  1.65s/it]"
     ]
    },
    {
     "name": "stdout",
     "output_type": "stream",
     "text": [
      ">best! 1, 2724160\n"
     ]
    },
    {
     "name": "stderr",
     "output_type": "stream",
     "text": [
      " 19%|█▉        | 38/200 [01:05<04:30,  1.67s/it]"
     ]
    },
    {
     "name": "stdout",
     "output_type": "stream",
     "text": [
      ">best! 38, 1007380\n"
     ]
    },
    {
     "name": "stderr",
     "output_type": "stream",
     "text": [
      " 70%|██████▉   | 139/200 [03:58<01:44,  1.71s/it]\n"
     ]
    },
    {
     "name": "stdout",
     "output_type": "stream",
     "text": [
      "stop\n",
      "49번째 log 저장 완료. 총 118개\n",
      "11866000262500\n"
     ]
    },
    {
     "name": "stderr",
     "output_type": "stream",
     "text": [
      "  0%|          | 0/200 [00:00<?, ?it/s]"
     ]
    },
    {
     "name": "stdout",
     "output_type": "stream",
     "text": [
      ">best! 0, 2991080\n",
      ">best! 0, 2162600\n"
     ]
    },
    {
     "name": "stderr",
     "output_type": "stream",
     "text": [
      "  0%|          | 1/200 [00:02<06:49,  2.06s/it]"
     ]
    },
    {
     "name": "stdout",
     "output_type": "stream",
     "text": [
      ">best! 1, 2068080\n",
      ">best! 1, 1738240\n"
     ]
    },
    {
     "name": "stderr",
     "output_type": "stream",
     "text": [
      "  2%|▎         | 5/200 [00:08<05:21,  1.65s/it]"
     ]
    },
    {
     "name": "stdout",
     "output_type": "stream",
     "text": [
      ">best! 5, 975640\n"
     ]
    },
    {
     "name": "stderr",
     "output_type": "stream",
     "text": [
      "  4%|▎         | 7/200 [00:11<05:07,  1.59s/it]"
     ]
    },
    {
     "name": "stdout",
     "output_type": "stream",
     "text": [
      ">best! 7, 775280\n"
     ]
    },
    {
     "name": "stderr",
     "output_type": "stream",
     "text": [
      "  6%|▌         | 11/200 [00:17<04:47,  1.52s/it]"
     ]
    },
    {
     "name": "stdout",
     "output_type": "stream",
     "text": [
      ">best! 11, 565880\n",
      ">best! 11, 417520\n"
     ]
    },
    {
     "name": "stderr",
     "output_type": "stream",
     "text": [
      "  8%|▊         | 15/200 [00:23<04:40,  1.52s/it]"
     ]
    },
    {
     "name": "stdout",
     "output_type": "stream",
     "text": [
      ">best! 15, 277920\n"
     ]
    },
    {
     "name": "stderr",
     "output_type": "stream",
     "text": [
      " 16%|█▋        | 33/200 [00:51<04:16,  1.54s/it]"
     ]
    },
    {
     "name": "stdout",
     "output_type": "stream",
     "text": [
      ">best! 33, 238960\n"
     ]
    },
    {
     "name": "stderr",
     "output_type": "stream",
     "text": [
      " 24%|██▍       | 49/200 [01:16<03:47,  1.51s/it]"
     ]
    },
    {
     "name": "stdout",
     "output_type": "stream",
     "text": [
      ">best! 49, 217520\n"
     ]
    },
    {
     "name": "stderr",
     "output_type": "stream",
     "text": [
      " 34%|███▎      | 67/200 [01:45<03:27,  1.56s/it]"
     ]
    },
    {
     "name": "stdout",
     "output_type": "stream",
     "text": [
      ">best! 67, 201460\n"
     ]
    },
    {
     "name": "stderr",
     "output_type": "stream",
     "text": [
      " 40%|███▉      | 79/200 [02:04<03:14,  1.61s/it]"
     ]
    },
    {
     "name": "stdout",
     "output_type": "stream",
     "text": [
      ">best! 79, 79380\n"
     ]
    },
    {
     "name": "stderr",
     "output_type": "stream",
     "text": [
      " 90%|█████████ | 180/200 [04:42<00:31,  1.57s/it]\n"
     ]
    },
    {
     "name": "stdout",
     "output_type": "stream",
     "text": [
      "stop\n",
      "50번째 log 저장 완료. 총 118개\n",
      "18008400025000\n"
     ]
    },
    {
     "name": "stderr",
     "output_type": "stream",
     "text": [
      "  0%|          | 0/200 [00:00<?, ?it/s]"
     ]
    },
    {
     "name": "stdout",
     "output_type": "stream",
     "text": [
      ">best! 0, 5375001828760\n",
      ">best! 0, 3597200\n",
      ">best! 0, 2969180\n",
      ">best! 0, 1369260\n",
      ">best! 0, 457940\n"
     ]
    },
    {
     "name": "stderr",
     "output_type": "stream",
     "text": [
      "  3%|▎         | 6/200 [00:09<05:03,  1.57s/it]"
     ]
    },
    {
     "name": "stdout",
     "output_type": "stream",
     "text": [
      ">best! 6, 166060\n"
     ]
    },
    {
     "name": "stderr",
     "output_type": "stream",
     "text": [
      " 23%|██▎       | 46/200 [01:13<04:02,  1.57s/it]"
     ]
    },
    {
     "name": "stdout",
     "output_type": "stream",
     "text": [
      ">best! 46, 51460\n"
     ]
    },
    {
     "name": "stderr",
     "output_type": "stream",
     "text": [
      " 34%|███▍      | 68/200 [01:49<03:43,  1.69s/it]"
     ]
    },
    {
     "name": "stdout",
     "output_type": "stream",
     "text": [
      ">best! 68, 27920\n"
     ]
    },
    {
     "name": "stderr",
     "output_type": "stream",
     "text": [
      " 84%|████████▍ | 169/200 [04:34<00:50,  1.62s/it]\n"
     ]
    },
    {
     "name": "stdout",
     "output_type": "stream",
     "text": [
      "stop\n",
      "51번째 log 저장 완료. 총 118개\n",
      "39646401000000\n"
     ]
    },
    {
     "name": "stderr",
     "output_type": "stream",
     "text": [
      "  0%|          | 0/200 [00:00<?, ?it/s]"
     ]
    },
    {
     "name": "stdout",
     "output_type": "stream",
     "text": [
      ">best! 0, 6282002262500\n",
      ">best! 0, 223360\n"
     ]
    },
    {
     "name": "stderr",
     "output_type": "stream",
     "text": [
      "  8%|▊         | 17/200 [00:40<07:11,  2.36s/it]"
     ]
    },
    {
     "name": "stdout",
     "output_type": "stream",
     "text": [
      ">best! 17, 133760\n"
     ]
    },
    {
     "name": "stderr",
     "output_type": "stream",
     "text": [
      " 28%|██▊       | 55/200 [02:13<05:49,  2.41s/it]"
     ]
    },
    {
     "name": "stdout",
     "output_type": "stream",
     "text": [
      ">best! 55, 124180\n"
     ]
    },
    {
     "name": "stderr",
     "output_type": "stream",
     "text": [
      " 60%|██████    | 121/200 [04:56<03:14,  2.46s/it]"
     ]
    },
    {
     "name": "stdout",
     "output_type": "stream",
     "text": [
      ">best! 121, 55840\n"
     ]
    },
    {
     "name": "stderr",
     "output_type": "stream",
     "text": [
      "100%|██████████| 200/200 [08:08<00:00,  2.44s/it]\n"
     ]
    },
    {
     "name": "stdout",
     "output_type": "stream",
     "text": [
      "52번째 log 저장 완료. 총 118개\n",
      "26524001750000\n"
     ]
    },
    {
     "name": "stderr",
     "output_type": "stream",
     "text": [
      "  0%|          | 0/200 [00:00<?, ?it/s]"
     ]
    },
    {
     "name": "stdout",
     "output_type": "stream",
     "text": [
      ">best! 0, 4625000977200\n",
      ">best! 0, 3267900\n",
      ">best! 0, 2366620\n"
     ]
    },
    {
     "name": "stderr",
     "output_type": "stream",
     "text": [
      "  1%|          | 2/200 [00:04<07:06,  2.15s/it]"
     ]
    },
    {
     "name": "stdout",
     "output_type": "stream",
     "text": [
      ">best! 2, 1398360\n"
     ]
    },
    {
     "name": "stderr",
     "output_type": "stream",
     "text": [
      "  2%|▏         | 3/200 [00:06<07:42,  2.35s/it]"
     ]
    },
    {
     "name": "stdout",
     "output_type": "stream",
     "text": [
      ">best! 3, 1193160\n",
      ">best! 3, 795900\n"
     ]
    },
    {
     "name": "stderr",
     "output_type": "stream",
     "text": [
      "  6%|▌         | 11/200 [00:25<07:05,  2.25s/it]"
     ]
    },
    {
     "name": "stdout",
     "output_type": "stream",
     "text": [
      ">best! 11, 357120\n"
     ]
    },
    {
     "name": "stderr",
     "output_type": "stream",
     "text": [
      " 16%|█▌        | 32/200 [01:13<06:28,  2.31s/it]"
     ]
    },
    {
     "name": "stdout",
     "output_type": "stream",
     "text": [
      ">best! 32, 305660\n"
     ]
    },
    {
     "name": "stderr",
     "output_type": "stream",
     "text": [
      " 30%|███       | 61/200 [02:18<05:18,  2.29s/it]"
     ]
    },
    {
     "name": "stdout",
     "output_type": "stream",
     "text": [
      ">best! 61, 283760\n"
     ]
    },
    {
     "name": "stderr",
     "output_type": "stream",
     "text": [
      " 44%|████▍     | 89/200 [03:23<04:18,  2.32s/it]"
     ]
    },
    {
     "name": "stdout",
     "output_type": "stream",
     "text": [
      ">best! 89, 208760\n"
     ]
    },
    {
     "name": "stderr",
     "output_type": "stream",
     "text": [
      " 95%|█████████▌| 190/200 [07:10<00:22,  2.26s/it]\n"
     ]
    },
    {
     "name": "stdout",
     "output_type": "stream",
     "text": [
      "stop\n",
      "53번째 log 저장 완료. 총 118개\n",
      "60865605385500\n"
     ]
    },
    {
     "name": "stderr",
     "output_type": "stream",
     "text": [
      "  0%|          | 0/200 [00:00<?, ?it/s]"
     ]
    },
    {
     "name": "stdout",
     "output_type": "stream",
     "text": [
      ">best! 0, 27501202447500\n",
      ">best! 0, 23592406773000\n",
      ">best! 0, 15914407645000\n",
      ">best! 0, 15495605914000\n",
      ">best! 0, 13401603845750\n",
      ">best! 0, 1125007166460\n",
      ">best! 0, 5286790\n"
     ]
    },
    {
     "name": "stderr",
     "output_type": "stream",
     "text": [
      "  2%|▎         | 5/200 [00:11<07:09,  2.20s/it]"
     ]
    },
    {
     "name": "stdout",
     "output_type": "stream",
     "text": [
      ">best! 5, 5142600\n"
     ]
    },
    {
     "name": "stderr",
     "output_type": "stream",
     "text": [
      "  5%|▌         | 10/200 [00:22<06:58,  2.20s/it]"
     ]
    },
    {
     "name": "stdout",
     "output_type": "stream",
     "text": [
      ">best! 10, 4819950\n",
      ">best! 10, 4647690\n"
     ]
    },
    {
     "name": "stderr",
     "output_type": "stream",
     "text": [
      " 11%|█         | 22/200 [00:49<06:39,  2.24s/it]"
     ]
    },
    {
     "name": "stdout",
     "output_type": "stream",
     "text": [
      ">best! 22, 3107700\n"
     ]
    },
    {
     "name": "stderr",
     "output_type": "stream",
     "text": [
      " 16%|█▌        | 32/200 [01:11<06:08,  2.20s/it]"
     ]
    },
    {
     "name": "stdout",
     "output_type": "stream",
     "text": [
      ">best! 32, 1921260\n"
     ]
    },
    {
     "name": "stderr",
     "output_type": "stream",
     "text": [
      " 66%|██████▋   | 133/200 [04:58<02:30,  2.24s/it]\n"
     ]
    },
    {
     "name": "stdout",
     "output_type": "stream",
     "text": [
      "stop\n",
      "54번째 log 저장 완료. 총 118개\n",
      "55557005087250\n"
     ]
    },
    {
     "name": "stderr",
     "output_type": "stream",
     "text": [
      "  0%|          | 0/200 [00:00<?, ?it/s]"
     ]
    },
    {
     "name": "stdout",
     "output_type": "stream",
     "text": [
      ">best! 0, 33145404118250\n",
      ">best! 0, 17729209452000\n",
      ">best! 0, 17009207752000\n",
      ">best! 0, 4606806784250\n",
      ">best! 0, 9070980\n",
      ">best! 0, 8258530\n"
     ]
    },
    {
     "name": "stderr",
     "output_type": "stream",
     "text": [
      "  1%|          | 2/200 [00:03<06:28,  1.96s/it]"
     ]
    },
    {
     "name": "stdout",
     "output_type": "stream",
     "text": [
      ">best! 2, 7940740\n",
      ">best! 2, 7065360\n"
     ]
    },
    {
     "name": "stderr",
     "output_type": "stream",
     "text": [
      "  2%|▏         | 4/200 [00:07<06:23,  1.96s/it]"
     ]
    },
    {
     "name": "stdout",
     "output_type": "stream",
     "text": [
      ">best! 4, 3913500\n"
     ]
    },
    {
     "name": "stderr",
     "output_type": "stream",
     "text": [
      " 10%|█         | 21/200 [00:42<05:54,  1.98s/it]"
     ]
    },
    {
     "name": "stdout",
     "output_type": "stream",
     "text": [
      ">best! 21, 3801800\n"
     ]
    },
    {
     "name": "stderr",
     "output_type": "stream",
     "text": [
      " 15%|█▌        | 30/200 [01:00<05:43,  2.02s/it]"
     ]
    },
    {
     "name": "stdout",
     "output_type": "stream",
     "text": [
      ">best! 30, 2369560\n"
     ]
    },
    {
     "name": "stderr",
     "output_type": "stream",
     "text": [
      " 40%|████      | 80/200 [02:44<04:01,  2.01s/it]"
     ]
    },
    {
     "name": "stdout",
     "output_type": "stream",
     "text": [
      ">best! 80, 1950850\n"
     ]
    },
    {
     "name": "stderr",
     "output_type": "stream",
     "text": [
      " 44%|████▎     | 87/200 [02:59<03:59,  2.12s/it]"
     ]
    },
    {
     "name": "stdout",
     "output_type": "stream",
     "text": [
      ">best! 87, 1625390\n"
     ]
    },
    {
     "name": "stderr",
     "output_type": "stream",
     "text": [
      " 94%|█████████▍| 188/200 [06:24<00:24,  2.05s/it]\n"
     ]
    },
    {
     "name": "stdout",
     "output_type": "stream",
     "text": [
      "stop\n",
      "55번째 log 저장 완료. 총 118개\n",
      "83762607752000\n"
     ]
    },
    {
     "name": "stderr",
     "output_type": "stream",
     "text": [
      "  0%|          | 0/200 [00:00<?, ?it/s]"
     ]
    },
    {
     "name": "stdout",
     "output_type": "stream",
     "text": [
      ">best! 0, 26438004360500\n",
      ">best! 0, 21975406056250\n",
      ">best! 0, 6240610\n"
     ]
    },
    {
     "name": "stderr",
     "output_type": "stream",
     "text": [
      "  4%|▎         | 7/200 [00:12<05:54,  1.84s/it]"
     ]
    },
    {
     "name": "stdout",
     "output_type": "stream",
     "text": [
      ">best! 7, 5391900\n"
     ]
    },
    {
     "name": "stderr",
     "output_type": "stream",
     "text": [
      "  6%|▌         | 12/200 [00:22<05:42,  1.82s/it]"
     ]
    },
    {
     "name": "stdout",
     "output_type": "stream",
     "text": [
      ">best! 12, 3700500\n"
     ]
    },
    {
     "name": "stderr",
     "output_type": "stream",
     "text": [
      " 56%|█████▋    | 113/200 [03:32<02:43,  1.88s/it]\n"
     ]
    },
    {
     "name": "stdout",
     "output_type": "stream",
     "text": [
      "stop\n",
      "56번째 log 저장 완료. 총 118개\n",
      "29303005329500\n"
     ]
    },
    {
     "name": "stderr",
     "output_type": "stream",
     "text": [
      "  0%|          | 0/200 [00:00<?, ?it/s]"
     ]
    },
    {
     "name": "stdout",
     "output_type": "stream",
     "text": [
      ">best! 0, 20375005836160\n",
      ">best! 0, 19833206540750\n",
      ">best! 0, 11640604360500\n",
      ">best! 0, 8554170\n"
     ]
    },
    {
     "name": "stderr",
     "output_type": "stream",
     "text": [
      "  1%|          | 2/200 [00:04<07:46,  2.36s/it]"
     ]
    },
    {
     "name": "stdout",
     "output_type": "stream",
     "text": [
      ">best! 2, 6098190\n"
     ]
    },
    {
     "name": "stderr",
     "output_type": "stream",
     "text": [
      "  5%|▌         | 10/200 [00:24<07:42,  2.43s/it]"
     ]
    },
    {
     "name": "stdout",
     "output_type": "stream",
     "text": [
      ">best! 10, 5627940\n"
     ]
    },
    {
     "name": "stderr",
     "output_type": "stream",
     "text": [
      "  8%|▊         | 15/200 [00:36<07:34,  2.46s/it]"
     ]
    },
    {
     "name": "stdout",
     "output_type": "stream",
     "text": [
      ">best! 15, 5505030\n"
     ]
    },
    {
     "name": "stderr",
     "output_type": "stream",
     "text": [
      "  9%|▉         | 18/200 [00:44<07:28,  2.46s/it]"
     ]
    },
    {
     "name": "stdout",
     "output_type": "stream",
     "text": [
      ">best! 18, 5503740\n"
     ]
    },
    {
     "name": "stderr",
     "output_type": "stream",
     "text": [
      " 12%|█▏        | 24/200 [01:02<08:39,  2.95s/it]"
     ]
    },
    {
     "name": "stdout",
     "output_type": "stream",
     "text": [
      ">best! 24, 2603860\n"
     ]
    },
    {
     "name": "stderr",
     "output_type": "stream",
     "text": [
      " 62%|██████▎   | 125/200 [05:15<03:09,  2.53s/it]\n"
     ]
    },
    {
     "name": "stdout",
     "output_type": "stream",
     "text": [
      "stop\n",
      "57번째 log 저장 완료. 총 118개\n",
      "70498004360500\n"
     ]
    },
    {
     "name": "stderr",
     "output_type": "stream",
     "text": [
      "  0%|          | 0/200 [00:00<?, ?it/s]"
     ]
    },
    {
     "name": "stdout",
     "output_type": "stream",
     "text": [
      ">best! 0, 4500100\n"
     ]
    },
    {
     "name": "stderr",
     "output_type": "stream",
     "text": [
      "  0%|          | 1/200 [00:02<06:52,  2.07s/it]"
     ]
    },
    {
     "name": "stdout",
     "output_type": "stream",
     "text": [
      ">best! 1, 1928140\n"
     ]
    },
    {
     "name": "stderr",
     "output_type": "stream",
     "text": [
      " 15%|█▌        | 30/200 [00:47<04:31,  1.59s/it]"
     ]
    },
    {
     "name": "stdout",
     "output_type": "stream",
     "text": [
      ">best! 30, 1275290\n"
     ]
    },
    {
     "name": "stderr",
     "output_type": "stream",
     "text": [
      " 63%|██████▎   | 126/200 [03:27<01:55,  1.56s/it]"
     ]
    },
    {
     "name": "stdout",
     "output_type": "stream",
     "text": [
      ">best! 126, 619170\n"
     ]
    },
    {
     "name": "stderr",
     "output_type": "stream",
     "text": [
      "100%|██████████| 200/200 [05:30<00:00,  1.65s/it]\n"
     ]
    },
    {
     "name": "stdout",
     "output_type": "stream",
     "text": [
      "58번째 log 저장 완료. 총 118개\n",
      "1453500\n"
     ]
    },
    {
     "name": "stderr",
     "output_type": "stream",
     "text": [
      "  0%|          | 0/200 [00:00<?, ?it/s]"
     ]
    },
    {
     "name": "stdout",
     "output_type": "stream",
     "text": [
      ">best! 0, 242250\n"
     ]
    },
    {
     "name": "stderr",
     "output_type": "stream",
     "text": [
      "  4%|▎         | 7/200 [00:04<01:57,  1.64it/s]"
     ]
    },
    {
     "name": "stdout",
     "output_type": "stream",
     "text": [
      ">best! 7, 0\n"
     ]
    },
    {
     "name": "stderr",
     "output_type": "stream",
     "text": [
      " 54%|█████▍    | 108/200 [01:09<00:58,  1.56it/s]\n"
     ]
    },
    {
     "name": "stdout",
     "output_type": "stream",
     "text": [
      "stop\n",
      "59번째 log 저장 완료. 총 118개\n",
      "10132022\n"
     ]
    },
    {
     "name": "stderr",
     "output_type": "stream",
     "text": [
      "  0%|          | 0/200 [00:00<?, ?it/s]"
     ]
    },
    {
     "name": "stdout",
     "output_type": "stream",
     "text": [
      ">best! 0, 6952563\n",
      ">best! 0, 5313643\n"
     ]
    },
    {
     "name": "stderr",
     "output_type": "stream",
     "text": [
      "  0%|          | 1/200 [00:00<02:58,  1.12it/s]"
     ]
    },
    {
     "name": "stdout",
     "output_type": "stream",
     "text": [
      ">best! 1, 4173575\n",
      ">best! 1, 2705723\n"
     ]
    },
    {
     "name": "stderr",
     "output_type": "stream",
     "text": [
      "  2%|▎         | 5/200 [00:04<03:08,  1.04it/s]"
     ]
    },
    {
     "name": "stdout",
     "output_type": "stream",
     "text": [
      ">best! 5, 2392291\n",
      ">best! 5, 2388703\n"
     ]
    },
    {
     "name": "stderr",
     "output_type": "stream",
     "text": [
      " 14%|█▍        | 28/200 [00:27<02:50,  1.01it/s]"
     ]
    },
    {
     "name": "stdout",
     "output_type": "stream",
     "text": [
      ">best! 28, 2306757\n"
     ]
    },
    {
     "name": "stderr",
     "output_type": "stream",
     "text": [
      " 15%|█▌        | 30/200 [00:28<02:40,  1.06it/s]"
     ]
    },
    {
     "name": "stdout",
     "output_type": "stream",
     "text": [
      ">best! 30, 1494473\n"
     ]
    },
    {
     "name": "stderr",
     "output_type": "stream",
     "text": [
      " 66%|██████▌   | 131/200 [02:04<01:05,  1.05it/s]\n"
     ]
    },
    {
     "name": "stdout",
     "output_type": "stream",
     "text": [
      "stop\n",
      "60번째 log 저장 완료. 총 118개\n",
      "11525104\n"
     ]
    },
    {
     "name": "stderr",
     "output_type": "stream",
     "text": [
      "  0%|          | 0/200 [00:00<?, ?it/s]"
     ]
    },
    {
     "name": "stdout",
     "output_type": "stream",
     "text": [
      ">best! 0, 8472152\n",
      ">best! 0, 7714615\n",
      ">best! 0, 7105691\n",
      ">best! 0, 5903122\n",
      ">best! 0, 3804818\n"
     ]
    },
    {
     "name": "stderr",
     "output_type": "stream",
     "text": [
      "  1%|          | 2/200 [00:01<02:58,  1.11it/s]"
     ]
    },
    {
     "name": "stdout",
     "output_type": "stream",
     "text": [
      ">best! 2, 1978973\n"
     ]
    },
    {
     "name": "stderr",
     "output_type": "stream",
     "text": [
      "  6%|▌         | 11/200 [00:09<02:44,  1.15it/s]"
     ]
    },
    {
     "name": "stdout",
     "output_type": "stream",
     "text": [
      ">best! 11, 1106271\n"
     ]
    },
    {
     "name": "stderr",
     "output_type": "stream",
     "text": [
      " 20%|█▉        | 39/200 [00:34<02:21,  1.13it/s]"
     ]
    },
    {
     "name": "stdout",
     "output_type": "stream",
     "text": [
      ">best! 39, 1065298\n"
     ]
    },
    {
     "name": "stderr",
     "output_type": "stream",
     "text": [
      " 36%|███▋      | 73/200 [01:03<01:47,  1.18it/s]"
     ]
    },
    {
     "name": "stdout",
     "output_type": "stream",
     "text": [
      ">best! 73, 529061\n"
     ]
    },
    {
     "name": "stderr",
     "output_type": "stream",
     "text": [
      " 87%|████████▋ | 174/200 [02:32<00:22,  1.14it/s]\n"
     ]
    },
    {
     "name": "stdout",
     "output_type": "stream",
     "text": [
      "stop\n",
      "61번째 log 저장 완료. 총 118개\n",
      "21107816\n"
     ]
    },
    {
     "name": "stderr",
     "output_type": "stream",
     "text": [
      "  0%|          | 0/200 [00:00<?, ?it/s]"
     ]
    },
    {
     "name": "stdout",
     "output_type": "stream",
     "text": [
      ">best! 0, 16153597\n"
     ]
    },
    {
     "name": "stderr",
     "output_type": "stream",
     "text": [
      " 13%|█▎        | 26/200 [00:22<02:37,  1.10it/s]"
     ]
    },
    {
     "name": "stdout",
     "output_type": "stream",
     "text": [
      ">best! 26, 15905604\n"
     ]
    },
    {
     "name": "stderr",
     "output_type": "stream",
     "text": [
      " 20%|█▉        | 39/200 [00:35<02:28,  1.08it/s]"
     ]
    },
    {
     "name": "stdout",
     "output_type": "stream",
     "text": [
      ">best! 39, 15237452\n"
     ]
    },
    {
     "name": "stderr",
     "output_type": "stream",
     "text": [
      " 24%|██▎       | 47/200 [00:43<02:28,  1.03it/s]"
     ]
    },
    {
     "name": "stdout",
     "output_type": "stream",
     "text": [
      ">best! 47, 14975126\n"
     ]
    },
    {
     "name": "stderr",
     "output_type": "stream",
     "text": [
      " 74%|███████▍  | 148/200 [02:13<00:46,  1.11it/s]\n"
     ]
    },
    {
     "name": "stdout",
     "output_type": "stream",
     "text": [
      "stop\n",
      "62번째 log 저장 완료. 총 118개\n",
      "17860025309393\n"
     ]
    },
    {
     "name": "stderr",
     "output_type": "stream",
     "text": [
      "  0%|          | 0/200 [00:00<?, ?it/s]"
     ]
    },
    {
     "name": "stdout",
     "output_type": "stream",
     "text": [
      ">best! 0, 6815025647262\n",
      ">best! 0, 27338776\n",
      ">best! 0, 23687959\n",
      ">best! 0, 22196402\n",
      ">best! 0, 21367579\n"
     ]
    },
    {
     "name": "stderr",
     "output_type": "stream",
     "text": [
      "  2%|▏         | 4/200 [00:02<01:53,  1.72it/s]"
     ]
    },
    {
     "name": "stdout",
     "output_type": "stream",
     "text": [
      ">best! 4, 19459915\n"
     ]
    },
    {
     "name": "stderr",
     "output_type": "stream",
     "text": [
      "  4%|▍         | 8/200 [00:04<01:51,  1.72it/s]"
     ]
    },
    {
     "name": "stdout",
     "output_type": "stream",
     "text": [
      ">best! 8, 19265902\n"
     ]
    },
    {
     "name": "stderr",
     "output_type": "stream",
     "text": [
      "  8%|▊         | 15/200 [00:08<01:47,  1.72it/s]"
     ]
    },
    {
     "name": "stdout",
     "output_type": "stream",
     "text": [
      ">best! 15, 18476379\n"
     ]
    },
    {
     "name": "stderr",
     "output_type": "stream",
     "text": [
      " 24%|██▍       | 49/200 [00:29<01:27,  1.73it/s]"
     ]
    },
    {
     "name": "stdout",
     "output_type": "stream",
     "text": [
      ">best! 49, 17504994\n"
     ]
    },
    {
     "name": "stderr",
     "output_type": "stream",
     "text": [
      " 65%|██████▌   | 130/200 [01:18<00:41,  1.69it/s]"
     ]
    },
    {
     "name": "stdout",
     "output_type": "stream",
     "text": [
      ">best! 130, 17473165\n"
     ]
    },
    {
     "name": "stderr",
     "output_type": "stream",
     "text": [
      "100%|██████████| 200/200 [02:02<00:00,  1.63it/s]\n"
     ]
    },
    {
     "name": "stdout",
     "output_type": "stream",
     "text": [
      "63번째 log 저장 완료. 총 118개\n",
      "125200022217574\n"
     ]
    },
    {
     "name": "stderr",
     "output_type": "stream",
     "text": [
      "  0%|          | 0/200 [00:00<?, ?it/s]"
     ]
    },
    {
     "name": "stdout",
     "output_type": "stream",
     "text": [
      ">best! 0, 96000023672142\n",
      ">best! 0, 90600026286560\n",
      ">best! 0, 60000016571960\n",
      ">best! 0, 52180021439087\n"
     ]
    },
    {
     "name": "stderr",
     "output_type": "stream",
     "text": [
      "  0%|          | 1/200 [00:01<03:52,  1.17s/it]"
     ]
    },
    {
     "name": "stdout",
     "output_type": "stream",
     "text": [
      ">best! 1, 15000024756737\n"
     ]
    },
    {
     "name": "stderr",
     "output_type": "stream",
     "text": [
      " 12%|█▏        | 23/200 [00:18<02:18,  1.28it/s]"
     ]
    },
    {
     "name": "stdout",
     "output_type": "stream",
     "text": [
      ">best! 23, 2820020362645\n"
     ]
    },
    {
     "name": "stderr",
     "output_type": "stream",
     "text": [
      " 37%|███▋      | 74/200 [01:00<01:46,  1.18it/s]"
     ]
    },
    {
     "name": "stdout",
     "output_type": "stream",
     "text": [
      ">best! 74, 1800021060153\n"
     ]
    },
    {
     "name": "stderr",
     "output_type": "stream",
     "text": [
      " 88%|████████▊ | 175/200 [02:21<00:20,  1.24it/s]\n"
     ]
    },
    {
     "name": "stdout",
     "output_type": "stream",
     "text": [
      "stop\n",
      "64번째 log 저장 완료. 총 118개\n",
      "98400021254180\n"
     ]
    },
    {
     "name": "stderr",
     "output_type": "stream",
     "text": [
      "  0%|          | 0/200 [00:00<?, ?it/s]"
     ]
    },
    {
     "name": "stdout",
     "output_type": "stream",
     "text": [
      ">best! 0, 77249756727192\n",
      ">best! 0, 49620019841140\n"
     ]
    },
    {
     "name": "stderr",
     "output_type": "stream",
     "text": [
      "  0%|          | 1/200 [00:00<02:40,  1.24it/s]"
     ]
    },
    {
     "name": "stdout",
     "output_type": "stream",
     "text": [
      ">best! 1, 46975158372192\n",
      ">best! 1, 40320023610656\n"
     ]
    },
    {
     "name": "stderr",
     "output_type": "stream",
     "text": [
      "  2%|▎         | 5/200 [00:03<02:34,  1.26it/s]"
     ]
    },
    {
     "name": "stdout",
     "output_type": "stream",
     "text": [
      ">best! 5, 35400017561481\n"
     ]
    },
    {
     "name": "stderr",
     "output_type": "stream",
     "text": [
      "  4%|▍         | 8/200 [00:06<02:32,  1.26it/s]"
     ]
    },
    {
     "name": "stdout",
     "output_type": "stream",
     "text": [
      ">best! 8, 22200023156966\n"
     ]
    },
    {
     "name": "stderr",
     "output_type": "stream",
     "text": [
      "  6%|▋         | 13/200 [00:10<02:25,  1.28it/s]"
     ]
    },
    {
     "name": "stdout",
     "output_type": "stream",
     "text": [
      ">best! 13, 10200021029357\n"
     ]
    },
    {
     "name": "stderr",
     "output_type": "stream",
     "text": [
      " 48%|████▊     | 95/200 [01:17<01:28,  1.19it/s]"
     ]
    },
    {
     "name": "stdout",
     "output_type": "stream",
     "text": [
      ">best! 95, 5400021106545\n"
     ]
    },
    {
     "name": "stderr",
     "output_type": "stream",
     "text": [
      " 98%|█████████▊| 196/200 [02:38<00:03,  1.23it/s]\n"
     ]
    },
    {
     "name": "stdout",
     "output_type": "stream",
     "text": [
      "stop\n",
      "65번째 log 저장 완료. 총 118개\n",
      "148530017423733\n"
     ]
    },
    {
     "name": "stderr",
     "output_type": "stream",
     "text": [
      "  0%|          | 0/200 [00:00<?, ?it/s]"
     ]
    },
    {
     "name": "stdout",
     "output_type": "stream",
     "text": [
      ">best! 0, 111915021971736\n",
      ">best! 0, 101038536727192\n",
      ">best! 0, 75000018887976\n",
      ">best! 0, 58200022403437\n"
     ]
    },
    {
     "name": "stderr",
     "output_type": "stream",
     "text": [
      "  0%|          | 1/200 [00:00<01:10,  2.83it/s]"
     ]
    },
    {
     "name": "stdout",
     "output_type": "stream",
     "text": [
      ">best! 1, 56120024061359\n",
      ">best! 1, 49800023400980\n"
     ]
    },
    {
     "name": "stderr",
     "output_type": "stream",
     "text": [
      "  1%|          | 2/200 [00:00<01:12,  2.74it/s]"
     ]
    },
    {
     "name": "stdout",
     "output_type": "stream",
     "text": [
      ">best! 2, 37550021275195\n",
      ">best! 2, 24600023353980\n"
     ]
    },
    {
     "name": "stderr",
     "output_type": "stream",
     "text": [
      " 14%|█▍        | 28/200 [00:10<01:04,  2.66it/s]"
     ]
    },
    {
     "name": "stdout",
     "output_type": "stream",
     "text": [
      ">best! 28, 19800020398003\n"
     ]
    },
    {
     "name": "stderr",
     "output_type": "stream",
     "text": [
      " 17%|█▋        | 34/200 [00:12<01:06,  2.50it/s]"
     ]
    },
    {
     "name": "stdout",
     "output_type": "stream",
     "text": [
      ">best! 34, 19200025086292\n"
     ]
    },
    {
     "name": "stderr",
     "output_type": "stream",
     "text": [
      " 36%|███▋      | 73/200 [00:28<00:45,  2.79it/s]"
     ]
    },
    {
     "name": "stdout",
     "output_type": "stream",
     "text": [
      ">best! 73, 18000022788209\n"
     ]
    },
    {
     "name": "stderr",
     "output_type": "stream",
     "text": [
      " 38%|███▊      | 76/200 [00:29<00:46,  2.69it/s]"
     ]
    },
    {
     "name": "stdout",
     "output_type": "stream",
     "text": [
      ">best! 76, 17400021137843\n"
     ]
    },
    {
     "name": "stderr",
     "output_type": "stream",
     "text": [
      " 43%|████▎     | 86/200 [00:33<00:42,  2.70it/s]"
     ]
    },
    {
     "name": "stdout",
     "output_type": "stream",
     "text": [
      ">best! 86, 9000018677639\n"
     ]
    },
    {
     "name": "stderr",
     "output_type": "stream",
     "text": [
      " 94%|█████████▎| 187/200 [01:10<00:04,  2.64it/s]\n"
     ]
    },
    {
     "name": "stdout",
     "output_type": "stream",
     "text": [
      "stop\n",
      "66번째 log 저장 완료. 총 118개\n",
      "98400022987708\n"
     ]
    },
    {
     "name": "stderr",
     "output_type": "stream",
     "text": [
      "  0%|          | 0/200 [00:00<?, ?it/s]"
     ]
    },
    {
     "name": "stdout",
     "output_type": "stream",
     "text": [
      ">best! 0, 31200020562450\n",
      ">best! 0, 10200026903696\n"
     ]
    },
    {
     "name": "stderr",
     "output_type": "stream",
     "text": [
      "  2%|▏         | 3/200 [00:01<01:34,  2.09it/s]"
     ]
    },
    {
     "name": "stdout",
     "output_type": "stream",
     "text": [
      ">best! 3, 10200024515155\n"
     ]
    },
    {
     "name": "stderr",
     "output_type": "stream",
     "text": [
      "  4%|▍         | 8/200 [00:03<01:31,  2.11it/s]"
     ]
    },
    {
     "name": "stdout",
     "output_type": "stream",
     "text": [
      ">best! 8, 5400021286192\n"
     ]
    },
    {
     "name": "stderr",
     "output_type": "stream",
     "text": [
      "  6%|▌         | 12/200 [00:05<01:35,  1.97it/s]"
     ]
    },
    {
     "name": "stdout",
     "output_type": "stream",
     "text": [
      ">best! 12, 21552235\n"
     ]
    },
    {
     "name": "stderr",
     "output_type": "stream",
     "text": [
      " 56%|█████▋    | 113/200 [00:53<00:41,  2.10it/s]\n"
     ]
    },
    {
     "name": "stdout",
     "output_type": "stream",
     "text": [
      "stop\n",
      "67번째 log 저장 완료. 총 118개\n",
      "74400026942792\n"
     ]
    },
    {
     "name": "stderr",
     "output_type": "stream",
     "text": [
      "  0%|          | 0/200 [00:00<?, ?it/s]"
     ]
    },
    {
     "name": "stdout",
     "output_type": "stream",
     "text": [
      ">best! 0, 67200022556355\n",
      ">best! 0, 55800024932789\n",
      ">best! 0, 6000023949437\n",
      ">best! 0, 26059600\n"
     ]
    },
    {
     "name": "stderr",
     "output_type": "stream",
     "text": [
      "  2%|▏         | 4/200 [00:02<01:39,  1.98it/s]"
     ]
    },
    {
     "name": "stdout",
     "output_type": "stream",
     "text": [
      ">best! 4, 21673976\n"
     ]
    },
    {
     "name": "stderr",
     "output_type": "stream",
     "text": [
      " 35%|███▌      | 70/200 [00:37<01:12,  1.80it/s]"
     ]
    },
    {
     "name": "stdout",
     "output_type": "stream",
     "text": [
      ">best! 70, 21409111\n"
     ]
    },
    {
     "name": "stderr",
     "output_type": "stream",
     "text": [
      " 57%|█████▋    | 114/200 [01:00<00:45,  1.88it/s]"
     ]
    },
    {
     "name": "stdout",
     "output_type": "stream",
     "text": [
      ">best! 114, 19703031\n"
     ]
    },
    {
     "name": "stderr",
     "output_type": "stream",
     "text": [
      "100%|██████████| 200/200 [01:47<00:00,  1.86it/s]\n"
     ]
    },
    {
     "name": "stdout",
     "output_type": "stream",
     "text": [
      "68번째 log 저장 완료. 총 118개\n",
      "81600027800899\n"
     ]
    },
    {
     "name": "stderr",
     "output_type": "stream",
     "text": [
      "  0%|          | 0/200 [00:00<?, ?it/s]"
     ]
    },
    {
     "name": "stdout",
     "output_type": "stream",
     "text": [
      ">best! 0, 44400025178627\n",
      ">best! 0, 31800021900787\n"
     ]
    },
    {
     "name": "stderr",
     "output_type": "stream",
     "text": [
      "  0%|          | 1/200 [00:01<03:55,  1.18s/it]"
     ]
    },
    {
     "name": "stdout",
     "output_type": "stream",
     "text": [
      ">best! 1, 16200028087710\n"
     ]
    },
    {
     "name": "stderr",
     "output_type": "stream",
     "text": [
      "  2%|▏         | 4/200 [00:04<04:07,  1.26s/it]"
     ]
    },
    {
     "name": "stdout",
     "output_type": "stream",
     "text": [
      ">best! 4, 13477858959692\n"
     ]
    },
    {
     "name": "stderr",
     "output_type": "stream",
     "text": [
      "  2%|▎         | 5/200 [00:06<04:06,  1.26s/it]"
     ]
    },
    {
     "name": "stdout",
     "output_type": "stream",
     "text": [
      ">best! 5, 27575601\n"
     ]
    },
    {
     "name": "stderr",
     "output_type": "stream",
     "text": [
      "  3%|▎         | 6/200 [00:07<03:58,  1.23s/it]"
     ]
    },
    {
     "name": "stdout",
     "output_type": "stream",
     "text": [
      ">best! 6, 25219600\n"
     ]
    },
    {
     "name": "stderr",
     "output_type": "stream",
     "text": [
      "  6%|▌         | 12/200 [00:14<03:48,  1.22s/it]"
     ]
    },
    {
     "name": "stdout",
     "output_type": "stream",
     "text": [
      ">best! 12, 22028138\n"
     ]
    },
    {
     "name": "stderr",
     "output_type": "stream",
     "text": [
      " 30%|███       | 60/200 [01:11<02:46,  1.19s/it]"
     ]
    },
    {
     "name": "stdout",
     "output_type": "stream",
     "text": [
      ">best! 60, 21919357\n"
     ]
    },
    {
     "name": "stderr",
     "output_type": "stream",
     "text": [
      " 32%|███▏      | 63/200 [01:15<02:53,  1.27s/it]"
     ]
    },
    {
     "name": "stdout",
     "output_type": "stream",
     "text": [
      ">best! 63, 21138557\n"
     ]
    },
    {
     "name": "stderr",
     "output_type": "stream",
     "text": [
      " 82%|████████▏ | 164/200 [03:18<00:43,  1.21s/it]\n"
     ]
    },
    {
     "name": "stdout",
     "output_type": "stream",
     "text": [
      "stop\n",
      "69번째 log 저장 완료. 총 118개\n",
      "90600021262692\n"
     ]
    },
    {
     "name": "stderr",
     "output_type": "stream",
     "text": [
      "  0%|          | 0/200 [00:00<?, ?it/s]"
     ]
    },
    {
     "name": "stdout",
     "output_type": "stream",
     "text": [
      ">best! 0, 52200020393192\n",
      ">best! 0, 38400021286192\n",
      ">best! 0, 15600021286192\n"
     ]
    },
    {
     "name": "stderr",
     "output_type": "stream",
     "text": [
      "  1%|          | 2/200 [00:01<02:07,  1.55it/s]"
     ]
    },
    {
     "name": "stdout",
     "output_type": "stream",
     "text": [
      ">best! 2, 12600021286192\n"
     ]
    },
    {
     "name": "stderr",
     "output_type": "stream",
     "text": [
      "  2%|▏         | 4/200 [00:02<01:52,  1.74it/s]"
     ]
    },
    {
     "name": "stdout",
     "output_type": "stream",
     "text": [
      ">best! 4, 8400020017192\n"
     ]
    },
    {
     "name": "stderr",
     "output_type": "stream",
     "text": [
      "  4%|▍         | 9/200 [00:04<01:31,  2.08it/s]"
     ]
    },
    {
     "name": "stdout",
     "output_type": "stream",
     "text": [
      ">best! 9, 21466192\n"
     ]
    },
    {
     "name": "stderr",
     "output_type": "stream",
     "text": [
      "  8%|▊         | 17/200 [00:08<01:27,  2.10it/s]"
     ]
    },
    {
     "name": "stdout",
     "output_type": "stream",
     "text": [
      ">best! 17, 19988192\n"
     ]
    },
    {
     "name": "stderr",
     "output_type": "stream",
     "text": [
      " 41%|████      | 82/200 [00:42<01:04,  1.84it/s]"
     ]
    },
    {
     "name": "stdout",
     "output_type": "stream",
     "text": [
      ">best! 82, 17233692\n"
     ]
    },
    {
     "name": "stderr",
     "output_type": "stream",
     "text": [
      " 92%|█████████▏| 183/200 [01:35<00:08,  1.92it/s]\n"
     ]
    },
    {
     "name": "stdout",
     "output_type": "stream",
     "text": [
      "stop\n",
      "70번째 log 저장 완료. 총 118개\n",
      "280446021286192\n"
     ]
    },
    {
     "name": "stderr",
     "output_type": "stream",
     "text": [
      "  0%|          | 0/200 [00:00<?, ?it/s]"
     ]
    },
    {
     "name": "stdout",
     "output_type": "stream",
     "text": [
      ">best! 0, 157760016985692\n",
      ">best! 0, 146535020064192\n",
      ">best! 0, 139026021286192\n",
      ">best! 0, 123895019288692\n"
     ]
    },
    {
     "name": "stderr",
     "output_type": "stream",
     "text": [
      "  0%|          | 1/200 [00:00<01:25,  2.34it/s]"
     ]
    },
    {
     "name": "stdout",
     "output_type": "stream",
     "text": [
      ">best! 1, 120279018912692\n"
     ]
    },
    {
     "name": "stderr",
     "output_type": "stream",
     "text": [
      "  4%|▎         | 7/200 [00:03<01:45,  1.83it/s]"
     ]
    },
    {
     "name": "stdout",
     "output_type": "stream",
     "text": [
      ">best! 7, 119257019899692\n"
     ]
    },
    {
     "name": "stderr",
     "output_type": "stream",
     "text": [
      "  4%|▍         | 8/200 [00:04<01:42,  1.87it/s]"
     ]
    },
    {
     "name": "stdout",
     "output_type": "stream",
     "text": [
      ">best! 8, 99095021286192\n"
     ]
    },
    {
     "name": "stderr",
     "output_type": "stream",
     "text": [
      " 14%|█▎        | 27/200 [00:12<01:14,  2.31it/s]"
     ]
    },
    {
     "name": "stdout",
     "output_type": "stream",
     "text": [
      ">best! 27, 83881021646192\n"
     ]
    },
    {
     "name": "stderr",
     "output_type": "stream",
     "text": [
      " 61%|██████    | 122/200 [00:55<00:36,  2.14it/s]"
     ]
    },
    {
     "name": "stdout",
     "output_type": "stream",
     "text": [
      ">best! 122, 82079021286192\n"
     ]
    },
    {
     "name": "stderr",
     "output_type": "stream",
     "text": [
      " 76%|███████▋  | 153/200 [01:09<00:21,  2.22it/s]"
     ]
    },
    {
     "name": "stdout",
     "output_type": "stream",
     "text": [
      ">best! 153, 81772021286192\n"
     ]
    },
    {
     "name": "stderr",
     "output_type": "stream",
     "text": [
      "100%|██████████| 200/200 [01:30<00:00,  2.22it/s]\n"
     ]
    },
    {
     "name": "stdout",
     "output_type": "stream",
     "text": [
      "71번째 log 저장 완료. 총 118개\n",
      "127037007280224\n"
     ]
    },
    {
     "name": "stderr",
     "output_type": "stream",
     "text": [
      "  0%|          | 0/200 [00:00<?, ?it/s]"
     ]
    },
    {
     "name": "stdout",
     "output_type": "stream",
     "text": [
      ">best! 0, 126549124559000\n",
      ">best! 0, 109925006621104\n",
      ">best! 0, 104435004738196\n",
      ">best! 0, 95769007562704\n",
      ">best! 0, 91777006395120\n",
      ">best! 0, 89086005058048\n",
      ">best! 0, 69722006800008\n"
     ]
    },
    {
     "name": "stderr",
     "output_type": "stream",
     "text": [
      "  0%|          | 1/200 [00:00<01:40,  1.98it/s]"
     ]
    },
    {
     "name": "stdout",
     "output_type": "stream",
     "text": [
      ">best! 1, 67996007157816\n"
     ]
    },
    {
     "name": "stderr",
     "output_type": "stream",
     "text": [
      "  1%|          | 2/200 [00:00<01:37,  2.03it/s]"
     ]
    },
    {
     "name": "stdout",
     "output_type": "stream",
     "text": [
      ">best! 2, 66411004992136\n"
     ]
    },
    {
     "name": "stderr",
     "output_type": "stream",
     "text": [
      "  2%|▏         | 3/200 [00:01<01:38,  1.99it/s]"
     ]
    },
    {
     "name": "stdout",
     "output_type": "stream",
     "text": [
      ">best! 3, 64934004700240\n"
     ]
    },
    {
     "name": "stderr",
     "output_type": "stream",
     "text": [
      "  2%|▏         | 4/200 [00:02<01:40,  1.95it/s]"
     ]
    },
    {
     "name": "stdout",
     "output_type": "stream",
     "text": [
      ">best! 4, 33120005557096\n"
     ]
    },
    {
     "name": "stderr",
     "output_type": "stream",
     "text": [
      "  6%|▋         | 13/200 [00:06<01:38,  1.90it/s]"
     ]
    },
    {
     "name": "stdout",
     "output_type": "stream",
     "text": [
      ">best! 13, 30222006442200\n"
     ]
    },
    {
     "name": "stderr",
     "output_type": "stream",
     "text": [
      " 14%|█▎        | 27/200 [00:14<01:29,  1.93it/s]"
     ]
    },
    {
     "name": "stdout",
     "output_type": "stream",
     "text": [
      ">best! 27, 29635002889192\n"
     ]
    },
    {
     "name": "stderr",
     "output_type": "stream",
     "text": [
      " 17%|█▋        | 34/200 [00:18<01:26,  1.91it/s]"
     ]
    },
    {
     "name": "stdout",
     "output_type": "stream",
     "text": [
      ">best! 34, 21191007496792\n"
     ]
    },
    {
     "name": "stderr",
     "output_type": "stream",
     "text": [
      " 28%|██▊       | 55/200 [00:29<01:15,  1.93it/s]"
     ]
    },
    {
     "name": "stdout",
     "output_type": "stream",
     "text": [
      ">best! 55, 16100005770920\n"
     ]
    },
    {
     "name": "stderr",
     "output_type": "stream",
     "text": [
      " 38%|███▊      | 76/200 [00:40<01:08,  1.81it/s]"
     ]
    },
    {
     "name": "stdout",
     "output_type": "stream",
     "text": [
      ">best! 76, 966007386872\n"
     ]
    },
    {
     "name": "stderr",
     "output_type": "stream",
     "text": [
      " 88%|████████▊ | 177/200 [01:34<00:12,  1.88it/s]\n"
     ]
    },
    {
     "name": "stdout",
     "output_type": "stream",
     "text": [
      "stop\n",
      "72번째 log 저장 완료. 총 118개\n",
      "135600004473020\n"
     ]
    },
    {
     "name": "stderr",
     "output_type": "stream",
     "text": [
      "  0%|          | 0/200 [00:00<?, ?it/s]"
     ]
    },
    {
     "name": "stdout",
     "output_type": "stream",
     "text": [
      ">best! 0, 104076002514072\n",
      ">best! 0, 71247502865300\n",
      ">best! 0, 61800005948970\n",
      ">best! 0, 56117500225984\n",
      ">best! 0, 48216502645896\n",
      ">best! 0, 31195002741620\n",
      ">best! 0, 30000004227024\n"
     ]
    },
    {
     "name": "stderr",
     "output_type": "stream",
     "text": [
      "  1%|          | 2/200 [00:00<01:22,  2.40it/s]"
     ]
    },
    {
     "name": "stdout",
     "output_type": "stream",
     "text": [
      ">best! 2, 17481003483920\n"
     ]
    },
    {
     "name": "stderr",
     "output_type": "stream",
     "text": [
      " 10%|▉         | 19/200 [00:08<01:28,  2.04it/s]"
     ]
    },
    {
     "name": "stdout",
     "output_type": "stream",
     "text": [
      ">best! 19, 15894002662326\n"
     ]
    },
    {
     "name": "stderr",
     "output_type": "stream",
     "text": [
      " 13%|█▎        | 26/200 [00:11<01:16,  2.28it/s]"
     ]
    },
    {
     "name": "stdout",
     "output_type": "stream",
     "text": [
      ">best! 26, 15785003854220\n"
     ]
    },
    {
     "name": "stderr",
     "output_type": "stream",
     "text": [
      " 16%|█▋        | 33/200 [00:14<01:09,  2.42it/s]"
     ]
    },
    {
     "name": "stdout",
     "output_type": "stream",
     "text": [
      ">best! 33, 8400004629508\n"
     ]
    },
    {
     "name": "stderr",
     "output_type": "stream",
     "text": [
      " 22%|██▎       | 45/200 [00:19<01:03,  2.42it/s]"
     ]
    },
    {
     "name": "stdout",
     "output_type": "stream",
     "text": [
      ">best! 45, 7200004270804\n"
     ]
    },
    {
     "name": "stderr",
     "output_type": "stream",
     "text": [
      " 28%|██▊       | 57/200 [00:24<00:59,  2.39it/s]"
     ]
    },
    {
     "name": "stdout",
     "output_type": "stream",
     "text": [
      ">best! 57, 6229470\n"
     ]
    },
    {
     "name": "stderr",
     "output_type": "stream",
     "text": [
      " 50%|█████     | 100/200 [00:43<00:45,  2.22it/s]"
     ]
    },
    {
     "name": "stdout",
     "output_type": "stream",
     "text": [
      ">best! 100, 5811826\n"
     ]
    },
    {
     "name": "stderr",
     "output_type": "stream",
     "text": [
      " 52%|█████▎    | 105/200 [00:45<00:39,  2.40it/s]"
     ]
    },
    {
     "name": "stdout",
     "output_type": "stream",
     "text": [
      ">best! 105, 4980170\n"
     ]
    },
    {
     "name": "stderr",
     "output_type": "stream",
     "text": [
      " 69%|██████▉   | 138/200 [00:59<00:25,  2.44it/s]"
     ]
    },
    {
     "name": "stdout",
     "output_type": "stream",
     "text": [
      ">best! 138, 3632364\n"
     ]
    },
    {
     "name": "stderr",
     "output_type": "stream",
     "text": [
      "100%|██████████| 200/200 [01:25<00:00,  2.33it/s]\n"
     ]
    },
    {
     "name": "stdout",
     "output_type": "stream",
     "text": [
      "73번째 log 저장 완료. 총 118개\n",
      "6118029546546\n"
     ]
    },
    {
     "name": "stderr",
     "output_type": "stream",
     "text": [
      "  0%|          | 0/200 [00:00<?, ?it/s]"
     ]
    },
    {
     "name": "stdout",
     "output_type": "stream",
     "text": [
      ">best! 0, 2898027495886\n",
      ">best! 0, 2898025586518\n",
      ">best! 0, 28598112\n",
      ">best! 0, 26741112\n"
     ]
    },
    {
     "name": "stderr",
     "output_type": "stream",
     "text": [
      "  0%|          | 1/200 [00:00<02:05,  1.59it/s]"
     ]
    },
    {
     "name": "stdout",
     "output_type": "stream",
     "text": [
      ">best! 1, 26465260\n",
      ">best! 1, 26059510\n"
     ]
    },
    {
     "name": "stderr",
     "output_type": "stream",
     "text": [
      "  2%|▏         | 3/200 [00:01<02:09,  1.52it/s]"
     ]
    },
    {
     "name": "stdout",
     "output_type": "stream",
     "text": [
      ">best! 3, 24263548\n"
     ]
    },
    {
     "name": "stderr",
     "output_type": "stream",
     "text": [
      " 20%|██        | 41/200 [00:26<01:37,  1.63it/s]"
     ]
    },
    {
     "name": "stdout",
     "output_type": "stream",
     "text": [
      ">best! 41, 22988136\n"
     ]
    },
    {
     "name": "stderr",
     "output_type": "stream",
     "text": [
      " 23%|██▎       | 46/200 [00:29<01:35,  1.61it/s]"
     ]
    },
    {
     "name": "stdout",
     "output_type": "stream",
     "text": [
      ">best! 46, 21737116\n"
     ]
    },
    {
     "name": "stderr",
     "output_type": "stream",
     "text": [
      " 74%|███████▎  | 147/200 [01:34<00:34,  1.56it/s]\n"
     ]
    },
    {
     "name": "stdout",
     "output_type": "stream",
     "text": [
      "stop\n",
      "74번째 log 저장 완료. 총 118개\n",
      "14154026099850\n"
     ]
    },
    {
     "name": "stderr",
     "output_type": "stream",
     "text": [
      "  0%|          | 0/200 [00:00<?, ?it/s]"
     ]
    },
    {
     "name": "stdout",
     "output_type": "stream",
     "text": [
      ">best! 0, 6762027805792\n",
      ">best! 0, 2415027589288\n",
      ">best! 0, 29765340\n",
      ">best! 0, 29336700\n",
      ">best! 0, 28807356\n",
      ">best! 0, 28440394\n"
     ]
    },
    {
     "name": "stderr",
     "output_type": "stream",
     "text": [
      "  1%|          | 2/200 [00:01<02:04,  1.58it/s]"
     ]
    },
    {
     "name": "stdout",
     "output_type": "stream",
     "text": [
      ">best! 2, 28350246\n",
      ">best! 2, 27528446\n"
     ]
    },
    {
     "name": "stderr",
     "output_type": "stream",
     "text": [
      "  2%|▏         | 4/200 [00:02<02:00,  1.62it/s]"
     ]
    },
    {
     "name": "stdout",
     "output_type": "stream",
     "text": [
      ">best! 4, 24304898\n"
     ]
    },
    {
     "name": "stderr",
     "output_type": "stream",
     "text": [
      " 14%|█▎        | 27/200 [00:16<01:52,  1.54it/s]"
     ]
    },
    {
     "name": "stdout",
     "output_type": "stream",
     "text": [
      ">best! 27, 22942890\n"
     ]
    },
    {
     "name": "stderr",
     "output_type": "stream",
     "text": [
      " 17%|█▋        | 34/200 [00:21<02:00,  1.38it/s]"
     ]
    },
    {
     "name": "stdout",
     "output_type": "stream",
     "text": [
      ">best! 34, 22387802\n"
     ]
    },
    {
     "name": "stderr",
     "output_type": "stream",
     "text": [
      " 26%|██▌       | 52/200 [00:33<01:30,  1.64it/s]"
     ]
    },
    {
     "name": "stdout",
     "output_type": "stream",
     "text": [
      ">best! 52, 21606094\n"
     ]
    },
    {
     "name": "stderr",
     "output_type": "stream",
     "text": [
      " 40%|███▉      | 79/200 [00:50<01:20,  1.51it/s]"
     ]
    },
    {
     "name": "stdout",
     "output_type": "stream",
     "text": [
      ">best! 79, 21456878\n"
     ]
    },
    {
     "name": "stderr",
     "output_type": "stream",
     "text": [
      " 90%|█████████ | 180/200 [01:54<00:12,  1.57it/s]\n"
     ]
    },
    {
     "name": "stdout",
     "output_type": "stream",
     "text": [
      "stop\n",
      "75번째 log 저장 완료. 총 118개\n",
      "18998027693260\n"
     ]
    },
    {
     "name": "stderr",
     "output_type": "stream",
     "text": [
      "  0%|          | 0/200 [00:00<?, ?it/s]"
     ]
    },
    {
     "name": "stdout",
     "output_type": "stream",
     "text": [
      ">best! 0, 11830028177168\n",
      ">best! 0, 966027358372\n",
      ">best! 0, 31275972\n",
      ">best! 0, 27829106\n"
     ]
    },
    {
     "name": "stderr",
     "output_type": "stream",
     "text": [
      "  0%|          | 1/200 [00:00<02:07,  1.56it/s]"
     ]
    },
    {
     "name": "stdout",
     "output_type": "stream",
     "text": [
      ">best! 1, 27498962\n"
     ]
    },
    {
     "name": "stderr",
     "output_type": "stream",
     "text": [
      "  2%|▏         | 3/200 [00:01<02:01,  1.62it/s]"
     ]
    },
    {
     "name": "stdout",
     "output_type": "stream",
     "text": [
      ">best! 3, 27425674\n",
      ">best! 3, 26798380\n"
     ]
    },
    {
     "name": "stderr",
     "output_type": "stream",
     "text": [
      "  2%|▏         | 4/200 [00:02<02:02,  1.60it/s]"
     ]
    },
    {
     "name": "stdout",
     "output_type": "stream",
     "text": [
      ">best! 4, 26299710\n"
     ]
    },
    {
     "name": "stderr",
     "output_type": "stream",
     "text": [
      "  3%|▎         | 6/200 [00:03<02:10,  1.49it/s]"
     ]
    },
    {
     "name": "stdout",
     "output_type": "stream",
     "text": [
      ">best! 6, 26025286\n"
     ]
    },
    {
     "name": "stderr",
     "output_type": "stream",
     "text": [
      "  4%|▎         | 7/200 [00:04<02:20,  1.37it/s]"
     ]
    },
    {
     "name": "stdout",
     "output_type": "stream",
     "text": [
      ">best! 7, 25567920\n"
     ]
    },
    {
     "name": "stderr",
     "output_type": "stream",
     "text": [
      "  4%|▍         | 9/200 [00:05<02:08,  1.49it/s]"
     ]
    },
    {
     "name": "stdout",
     "output_type": "stream",
     "text": [
      ">best! 9, 23230546\n"
     ]
    },
    {
     "name": "stderr",
     "output_type": "stream",
     "text": [
      " 10%|▉         | 19/200 [00:12<02:01,  1.50it/s]"
     ]
    },
    {
     "name": "stdout",
     "output_type": "stream",
     "text": [
      ">best! 19, 21719210\n"
     ]
    },
    {
     "name": "stderr",
     "output_type": "stream",
     "text": [
      " 60%|██████    | 120/200 [01:15<00:50,  1.58it/s]\n"
     ]
    },
    {
     "name": "stdout",
     "output_type": "stream",
     "text": [
      "stop\n",
      "76번째 log 저장 완료. 총 118개\n",
      "41163533318984\n"
     ]
    },
    {
     "name": "stderr",
     "output_type": "stream",
     "text": [
      "  0%|          | 0/200 [00:00<?, ?it/s]"
     ]
    },
    {
     "name": "stdout",
     "output_type": "stream",
     "text": [
      ">best! 0, 39714531731986\n",
      ">best! 0, 12740030206451\n",
      ">best! 0, 7472531913956\n",
      ">best! 0, 4186030967361\n",
      ">best! 0, 30098207\n",
      ">best! 0, 25615824\n"
     ]
    },
    {
     "name": "stderr",
     "output_type": "stream",
     "text": [
      "  4%|▍         | 9/200 [00:09<03:20,  1.05s/it]"
     ]
    },
    {
     "name": "stdout",
     "output_type": "stream",
     "text": [
      ">best! 9, 24807977\n"
     ]
    },
    {
     "name": "stderr",
     "output_type": "stream",
     "text": [
      " 55%|█████▌    | 110/200 [01:56<01:34,  1.06s/it]\n"
     ]
    },
    {
     "name": "stdout",
     "output_type": "stream",
     "text": [
      "stop\n",
      "77번째 log 저장 완료. 총 118개\n",
      "42094526762959\n"
     ]
    },
    {
     "name": "stderr",
     "output_type": "stream",
     "text": [
      "  0%|          | 0/200 [00:00<?, ?it/s]"
     ]
    },
    {
     "name": "stdout",
     "output_type": "stream",
     "text": [
      ">best! 0, 29760531496586\n",
      ">best! 0, 9016028009609\n",
      ">best! 0, 7200675865208\n",
      ">best! 0, 5173029695256\n",
      ">best! 0, 2898030415411\n"
     ]
    },
    {
     "name": "stderr",
     "output_type": "stream",
     "text": [
      "  0%|          | 1/200 [00:00<01:52,  1.76it/s]"
     ]
    },
    {
     "name": "stdout",
     "output_type": "stream",
     "text": [
      ">best! 1, 33166784\n",
      ">best! 1, 32710877\n",
      ">best! 1, 31276988\n"
     ]
    },
    {
     "name": "stderr",
     "output_type": "stream",
     "text": [
      "  2%|▏         | 4/200 [00:02<01:45,  1.86it/s]"
     ]
    },
    {
     "name": "stdout",
     "output_type": "stream",
     "text": [
      ">best! 4, 30683432\n",
      ">best! 4, 29581559\n"
     ]
    },
    {
     "name": "stderr",
     "output_type": "stream",
     "text": [
      "  4%|▍         | 8/200 [00:04<01:52,  1.71it/s]"
     ]
    },
    {
     "name": "stdout",
     "output_type": "stream",
     "text": [
      ">best! 8, 28725365\n"
     ]
    },
    {
     "name": "stderr",
     "output_type": "stream",
     "text": [
      "  6%|▌         | 12/200 [00:06<01:42,  1.83it/s]"
     ]
    },
    {
     "name": "stdout",
     "output_type": "stream",
     "text": [
      ">best! 12, 27854298\n"
     ]
    },
    {
     "name": "stderr",
     "output_type": "stream",
     "text": [
      " 14%|█▍        | 29/200 [00:15<01:32,  1.85it/s]"
     ]
    },
    {
     "name": "stdout",
     "output_type": "stream",
     "text": [
      ">best! 29, 27201411\n"
     ]
    },
    {
     "name": "stderr",
     "output_type": "stream",
     "text": [
      " 40%|███▉      | 79/200 [00:43<01:04,  1.87it/s]"
     ]
    },
    {
     "name": "stdout",
     "output_type": "stream",
     "text": [
      ">best! 79, 25897085\n"
     ]
    },
    {
     "name": "stderr",
     "output_type": "stream",
     "text": [
      " 59%|█████▉    | 118/200 [01:03<00:44,  1.83it/s]"
     ]
    },
    {
     "name": "stdout",
     "output_type": "stream",
     "text": [
      ">best! 118, 25018744\n"
     ]
    },
    {
     "name": "stderr",
     "output_type": "stream",
     "text": [
      "100%|██████████| 200/200 [01:52<00:00,  1.78it/s]\n"
     ]
    },
    {
     "name": "stdout",
     "output_type": "stream",
     "text": [
      "78번째 log 저장 완료. 총 118개\n",
      "25000534085768\n"
     ]
    },
    {
     "name": "stderr",
     "output_type": "stream",
     "text": [
      "  0%|          | 0/200 [00:00<?, ?it/s]"
     ]
    },
    {
     "name": "stdout",
     "output_type": "stream",
     "text": [
      ">best! 0, 7259029736206\n",
      ">best! 0, 6142532348586\n",
      ">best! 0, 3752031716220\n",
      ">best! 0, 455028530256\n"
     ]
    },
    {
     "name": "stderr",
     "output_type": "stream",
     "text": [
      "  0%|          | 1/200 [00:01<03:44,  1.13s/it]"
     ]
    },
    {
     "name": "stdout",
     "output_type": "stream",
     "text": [
      ">best! 1, 32548952\n"
     ]
    },
    {
     "name": "stderr",
     "output_type": "stream",
     "text": [
      "  4%|▍         | 9/200 [00:12<04:00,  1.26s/it]"
     ]
    },
    {
     "name": "stdout",
     "output_type": "stream",
     "text": [
      ">best! 9, 31116381\n",
      ">best! 9, 30630331\n"
     ]
    },
    {
     "name": "stderr",
     "output_type": "stream",
     "text": [
      "  6%|▌         | 11/200 [00:15<03:56,  1.25s/it]"
     ]
    },
    {
     "name": "stdout",
     "output_type": "stream",
     "text": [
      ">best! 11, 30308737\n",
      ">best! 11, 29106198\n"
     ]
    },
    {
     "name": "stderr",
     "output_type": "stream",
     "text": [
      " 12%|█▎        | 25/200 [00:33<03:43,  1.28s/it]"
     ]
    },
    {
     "name": "stdout",
     "output_type": "stream",
     "text": [
      ">best! 25, 28433691\n"
     ]
    },
    {
     "name": "stderr",
     "output_type": "stream",
     "text": [
      " 17%|█▋        | 34/200 [00:46<03:34,  1.29s/it]"
     ]
    },
    {
     "name": "stdout",
     "output_type": "stream",
     "text": [
      ">best! 34, 26388277\n"
     ]
    },
    {
     "name": "stderr",
     "output_type": "stream",
     "text": [
      " 44%|████▍     | 89/200 [01:50<02:12,  1.20s/it]"
     ]
    },
    {
     "name": "stdout",
     "output_type": "stream",
     "text": [
      ">best! 89, 25868503\n"
     ]
    },
    {
     "name": "stderr",
     "output_type": "stream",
     "text": [
      " 54%|█████▍    | 108/200 [02:11<01:42,  1.12s/it]"
     ]
    },
    {
     "name": "stdout",
     "output_type": "stream",
     "text": [
      ">best! 108, 25682337\n"
     ]
    },
    {
     "name": "stderr",
     "output_type": "stream",
     "text": [
      " 69%|██████▉   | 138/200 [02:46<01:09,  1.12s/it]"
     ]
    },
    {
     "name": "stdout",
     "output_type": "stream",
     "text": [
      ">best! 138, 24462512\n"
     ]
    },
    {
     "name": "stderr",
     "output_type": "stream",
     "text": [
      " 92%|█████████▏| 183/200 [03:38<00:19,  1.12s/it]"
     ]
    },
    {
     "name": "stdout",
     "output_type": "stream",
     "text": [
      ">best! 183, 24352976\n"
     ]
    },
    {
     "name": "stderr",
     "output_type": "stream",
     "text": [
      "100%|██████████| 200/200 [03:57<00:00,  1.19s/it]\n"
     ]
    },
    {
     "name": "stdout",
     "output_type": "stream",
     "text": [
      "79번째 log 저장 완료. 총 118개\n",
      "43547033303218\n"
     ]
    },
    {
     "name": "stderr",
     "output_type": "stream",
     "text": [
      "  0%|          | 0/200 [00:00<?, ?it/s]"
     ]
    },
    {
     "name": "stdout",
     "output_type": "stream",
     "text": [
      ">best! 0, 4507060240642\n",
      ">best! 0, 32981856\n"
     ]
    },
    {
     "name": "stderr",
     "output_type": "stream",
     "text": [
      "  0%|          | 1/200 [00:01<04:09,  1.26s/it]"
     ]
    },
    {
     "name": "stdout",
     "output_type": "stream",
     "text": [
      ">best! 1, 31294380\n"
     ]
    },
    {
     "name": "stderr",
     "output_type": "stream",
     "text": [
      "  2%|▎         | 5/200 [00:05<03:28,  1.07s/it]"
     ]
    },
    {
     "name": "stdout",
     "output_type": "stream",
     "text": [
      ">best! 5, 28694698\n"
     ]
    },
    {
     "name": "stderr",
     "output_type": "stream",
     "text": [
      "  4%|▍         | 8/200 [00:09<03:57,  1.24s/it]"
     ]
    },
    {
     "name": "stdout",
     "output_type": "stream",
     "text": [
      ">best! 8, 28557970\n"
     ]
    },
    {
     "name": "stderr",
     "output_type": "stream",
     "text": [
      "  6%|▌         | 12/200 [00:13<03:29,  1.11s/it]"
     ]
    },
    {
     "name": "stdout",
     "output_type": "stream",
     "text": [
      ">best! 12, 28335036\n"
     ]
    },
    {
     "name": "stderr",
     "output_type": "stream",
     "text": [
      "  8%|▊         | 16/200 [00:17<03:17,  1.07s/it]"
     ]
    },
    {
     "name": "stdout",
     "output_type": "stream",
     "text": [
      ">best! 16, 27965519\n"
     ]
    },
    {
     "name": "stderr",
     "output_type": "stream",
     "text": [
      " 20%|█▉        | 39/200 [00:43<02:58,  1.11s/it]"
     ]
    },
    {
     "name": "stdout",
     "output_type": "stream",
     "text": [
      ">best! 39, 27934209\n"
     ]
    },
    {
     "name": "stderr",
     "output_type": "stream",
     "text": [
      " 21%|██        | 42/200 [00:46<02:53,  1.10s/it]"
     ]
    },
    {
     "name": "stdout",
     "output_type": "stream",
     "text": [
      ">best! 42, 27845179\n"
     ]
    },
    {
     "name": "stderr",
     "output_type": "stream",
     "text": [
      " 26%|██▋       | 53/200 [00:58<02:35,  1.06s/it]"
     ]
    },
    {
     "name": "stdout",
     "output_type": "stream",
     "text": [
      ">best! 53, 26400511\n"
     ]
    },
    {
     "name": "stderr",
     "output_type": "stream",
     "text": [
      " 77%|███████▋  | 154/200 [02:46<00:49,  1.08s/it]\n"
     ]
    },
    {
     "name": "stdout",
     "output_type": "stream",
     "text": [
      "stop\n",
      "80번째 log 저장 완료. 총 118개\n",
      "24366546865665\n"
     ]
    },
    {
     "name": "stderr",
     "output_type": "stream",
     "text": [
      "  0%|          | 0/200 [00:00<?, ?it/s]"
     ]
    },
    {
     "name": "stdout",
     "output_type": "stream",
     "text": [
      ">best! 0, 4322532711543\n",
      ">best! 0, 32089525\n",
      ">best! 0, 28590931\n"
     ]
    },
    {
     "name": "stderr",
     "output_type": "stream",
     "text": [
      "  2%|▎         | 5/200 [00:04<03:06,  1.05it/s]"
     ]
    },
    {
     "name": "stdout",
     "output_type": "stream",
     "text": [
      ">best! 5, 27746690\n"
     ]
    },
    {
     "name": "stderr",
     "output_type": "stream",
     "text": [
      "  6%|▌         | 12/200 [00:11<03:02,  1.03it/s]"
     ]
    },
    {
     "name": "stdout",
     "output_type": "stream",
     "text": [
      ">best! 12, 27689363\n"
     ]
    },
    {
     "name": "stderr",
     "output_type": "stream",
     "text": [
      " 12%|█▏        | 24/200 [00:23<02:49,  1.04it/s]"
     ]
    },
    {
     "name": "stdout",
     "output_type": "stream",
     "text": [
      ">best! 24, 27573011\n"
     ]
    },
    {
     "name": "stderr",
     "output_type": "stream",
     "text": [
      " 20%|██        | 40/200 [00:38<02:27,  1.08it/s]"
     ]
    },
    {
     "name": "stdout",
     "output_type": "stream",
     "text": [
      ">best! 40, 24433189\n"
     ]
    },
    {
     "name": "stderr",
     "output_type": "stream",
     "text": [
      " 23%|██▎       | 46/200 [00:44<02:22,  1.08it/s]"
     ]
    },
    {
     "name": "stdout",
     "output_type": "stream",
     "text": [
      ">best! 46, 24367239\n"
     ]
    },
    {
     "name": "stderr",
     "output_type": "stream",
     "text": [
      " 60%|█████▉    | 119/200 [01:53<01:15,  1.07it/s]"
     ]
    },
    {
     "name": "stdout",
     "output_type": "stream",
     "text": [
      ">best! 119, 23933906\n"
     ]
    },
    {
     "name": "stderr",
     "output_type": "stream",
     "text": [
      "100%|██████████| 200/200 [03:11<00:00,  1.04it/s]\n"
     ]
    },
    {
     "name": "stdout",
     "output_type": "stream",
     "text": [
      "81번째 log 저장 완료. 총 118개\n",
      "108290029078207\n"
     ]
    },
    {
     "name": "stderr",
     "output_type": "stream",
     "text": [
      "  0%|          | 0/200 [00:00<?, ?it/s]"
     ]
    },
    {
     "name": "stdout",
     "output_type": "stream",
     "text": [
      ">best! 0, 75757529897667\n",
      ">best! 0, 54192595021880\n",
      ">best! 0, 50505027685125\n"
     ]
    },
    {
     "name": "stderr",
     "output_type": "stream",
     "text": [
      "  2%|▏         | 3/200 [00:02<03:04,  1.07it/s]"
     ]
    },
    {
     "name": "stdout",
     "output_type": "stream",
     "text": [
      ">best! 3, 38769015021880\n"
     ]
    },
    {
     "name": "stderr",
     "output_type": "stream",
     "text": [
      "  2%|▎         | 5/200 [00:04<02:33,  1.27it/s]"
     ]
    },
    {
     "name": "stdout",
     "output_type": "stream",
     "text": [
      ">best! 5, 33403001172360\n"
     ]
    },
    {
     "name": "stderr",
     "output_type": "stream",
     "text": [
      " 11%|█         | 22/200 [00:16<02:11,  1.36it/s]"
     ]
    },
    {
     "name": "stdout",
     "output_type": "stream",
     "text": [
      ">best! 22, 32305027562206\n"
     ]
    },
    {
     "name": "stderr",
     "output_type": "stream",
     "text": [
      " 14%|█▎        | 27/200 [00:20<02:06,  1.37it/s]"
     ]
    },
    {
     "name": "stdout",
     "output_type": "stream",
     "text": [
      ">best! 27, 17745028873342\n"
     ]
    },
    {
     "name": "stderr",
     "output_type": "stream",
     "text": [
      " 41%|████      | 82/200 [01:01<01:31,  1.29it/s]"
     ]
    },
    {
     "name": "stdout",
     "output_type": "stream",
     "text": [
      ">best! 82, 1365027070530\n"
     ]
    },
    {
     "name": "stderr",
     "output_type": "stream",
     "text": [
      " 92%|█████████▏| 183/200 [02:16<00:12,  1.34it/s]\n"
     ]
    },
    {
     "name": "stdout",
     "output_type": "stream",
     "text": [
      "stop\n",
      "82번째 log 저장 완료. 총 118개\n",
      "31587532274101\n"
     ]
    },
    {
     "name": "stderr",
     "output_type": "stream",
     "text": [
      "  0%|          | 0/200 [00:00<?, ?it/s]"
     ]
    },
    {
     "name": "stdout",
     "output_type": "stream",
     "text": [
      ">best! 0, 30555845021880\n",
      ">best! 0, 3277865853130\n",
      ">best! 0, 25679723\n",
      ">best! 0, 25386809\n"
     ]
    },
    {
     "name": "stderr",
     "output_type": "stream",
     "text": [
      "  0%|          | 1/200 [00:00<01:23,  2.37it/s]"
     ]
    },
    {
     "name": "stdout",
     "output_type": "stream",
     "text": [
      ">best! 1, 24793519\n",
      ">best! 1, 23299544\n"
     ]
    },
    {
     "name": "stderr",
     "output_type": "stream",
     "text": [
      "  2%|▏         | 3/200 [00:01<01:21,  2.41it/s]"
     ]
    },
    {
     "name": "stdout",
     "output_type": "stream",
     "text": [
      ">best! 3, 22762179\n"
     ]
    },
    {
     "name": "stderr",
     "output_type": "stream",
     "text": [
      " 20%|██        | 40/200 [00:17<01:11,  2.22it/s]"
     ]
    },
    {
     "name": "stdout",
     "output_type": "stream",
     "text": [
      ">best! 40, 22242374\n"
     ]
    },
    {
     "name": "stderr",
     "output_type": "stream",
     "text": [
      " 22%|██▏       | 43/200 [00:18<01:15,  2.08it/s]"
     ]
    },
    {
     "name": "stdout",
     "output_type": "stream",
     "text": [
      ">best! 43, 19489943\n"
     ]
    },
    {
     "name": "stderr",
     "output_type": "stream",
     "text": [
      " 72%|███████▏  | 144/200 [01:02<00:24,  2.30it/s]\n"
     ]
    },
    {
     "name": "stdout",
     "output_type": "stream",
     "text": [
      "stop\n",
      "83번째 log 저장 완료. 총 118개\n",
      "82688500245838\n"
     ]
    },
    {
     "name": "stderr",
     "output_type": "stream",
     "text": [
      "  0%|          | 0/200 [00:00<?, ?it/s]"
     ]
    },
    {
     "name": "stdout",
     "output_type": "stream",
     "text": [
      ">best! 0, 37579157580005\n",
      ">best! 0, 7261657692605\n",
      ">best! 0, 7189178\n"
     ]
    },
    {
     "name": "stderr",
     "output_type": "stream",
     "text": [
      "  2%|▏         | 3/200 [00:02<02:30,  1.31it/s]"
     ]
    },
    {
     "name": "stdout",
     "output_type": "stream",
     "text": [
      ">best! 3, 6951562\n",
      ">best! 3, 3885190\n"
     ]
    },
    {
     "name": "stderr",
     "output_type": "stream",
     "text": [
      "  3%|▎         | 6/200 [00:04<02:32,  1.27it/s]"
     ]
    },
    {
     "name": "stdout",
     "output_type": "stream",
     "text": [
      ">best! 6, 1908883\n"
     ]
    },
    {
     "name": "stderr",
     "output_type": "stream",
     "text": [
      "  4%|▎         | 7/200 [00:05<02:29,  1.29it/s]"
     ]
    },
    {
     "name": "stdout",
     "output_type": "stream",
     "text": [
      ">best! 7, 1361541\n"
     ]
    },
    {
     "name": "stderr",
     "output_type": "stream",
     "text": [
      " 12%|█▏        | 23/200 [00:17<02:28,  1.20it/s]"
     ]
    },
    {
     "name": "stdout",
     "output_type": "stream",
     "text": [
      ">best! 23, 1042801\n"
     ]
    },
    {
     "name": "stderr",
     "output_type": "stream",
     "text": [
      " 15%|█▌        | 30/200 [00:23<02:09,  1.31it/s]"
     ]
    },
    {
     "name": "stdout",
     "output_type": "stream",
     "text": [
      ">best! 30, 882013\n"
     ]
    },
    {
     "name": "stderr",
     "output_type": "stream",
     "text": [
      " 52%|█████▏    | 103/200 [01:18<01:14,  1.30it/s]"
     ]
    },
    {
     "name": "stdout",
     "output_type": "stream",
     "text": [
      ">best! 103, 822751\n"
     ]
    },
    {
     "name": "stderr",
     "output_type": "stream",
     "text": [
      " 74%|███████▍  | 148/200 [01:53<00:41,  1.26it/s]"
     ]
    },
    {
     "name": "stdout",
     "output_type": "stream",
     "text": [
      ">best! 148, 635854\n"
     ]
    },
    {
     "name": "stderr",
     "output_type": "stream",
     "text": [
      " 75%|███████▌  | 150/200 [01:55<00:39,  1.27it/s]"
     ]
    },
    {
     "name": "stdout",
     "output_type": "stream",
     "text": [
      ">best! 150, 579017\n"
     ]
    },
    {
     "name": "stderr",
     "output_type": "stream",
     "text": [
      "100%|██████████| 200/200 [02:32<00:00,  1.31it/s]\n"
     ]
    },
    {
     "name": "stdout",
     "output_type": "stream",
     "text": [
      "84번째 log 저장 완료. 총 118개\n",
      "237206000778487\n"
     ]
    },
    {
     "name": "stderr",
     "output_type": "stream",
     "text": [
      "  0%|          | 0/200 [00:00<?, ?it/s]"
     ]
    },
    {
     "name": "stdout",
     "output_type": "stream",
     "text": [
      ">best! 0, 228036752212542\n",
      ">best! 0, 148437509343548\n",
      ">best! 0, 95681709172349\n"
     ]
    },
    {
     "name": "stderr",
     "output_type": "stream",
     "text": [
      "  7%|▋         | 14/200 [00:22<04:51,  1.57s/it]"
     ]
    },
    {
     "name": "stdout",
     "output_type": "stream",
     "text": [
      ">best! 14, 94800003181681\n",
      ">best! 14, 82800003855605\n"
     ]
    },
    {
     "name": "stderr",
     "output_type": "stream",
     "text": [
      " 18%|█▊        | 37/200 [01:01<05:07,  1.88s/it]"
     ]
    },
    {
     "name": "stdout",
     "output_type": "stream",
     "text": [
      ">best! 37, 71400010495127\n"
     ]
    },
    {
     "name": "stderr",
     "output_type": "stream",
     "text": [
      " 68%|██████▊   | 137/200 [03:56<01:43,  1.64s/it]"
     ]
    },
    {
     "name": "stdout",
     "output_type": "stream",
     "text": [
      ">best! 137, 66462506334191\n"
     ]
    },
    {
     "name": "stderr",
     "output_type": "stream",
     "text": [
      " 82%|████████▎ | 165/200 [04:42<00:59,  1.70s/it]"
     ]
    },
    {
     "name": "stdout",
     "output_type": "stream",
     "text": [
      ">best! 165, 51975250163892\n"
     ]
    },
    {
     "name": "stderr",
     "output_type": "stream",
     "text": [
      " 84%|████████▍ | 168/200 [04:47<00:54,  1.71s/it]"
     ]
    },
    {
     "name": "stdout",
     "output_type": "stream",
     "text": [
      ">best! 168, 31800007300323\n"
     ]
    },
    {
     "name": "stderr",
     "output_type": "stream",
     "text": [
      "100%|██████████| 200/200 [05:39<00:00,  1.70s/it]\n"
     ]
    },
    {
     "name": "stdout",
     "output_type": "stream",
     "text": [
      "85번째 log 저장 완료. 총 118개\n",
      "205841262313250\n"
     ]
    },
    {
     "name": "stderr",
     "output_type": "stream",
     "text": [
      "  0%|          | 0/200 [00:00<?, ?it/s]"
     ]
    },
    {
     "name": "stdout",
     "output_type": "stream",
     "text": [
      ">best! 0, 151402503780985\n",
      ">best! 0, 137104205108948\n"
     ]
    },
    {
     "name": "stderr",
     "output_type": "stream",
     "text": [
      "  0%|          | 1/200 [00:02<08:27,  2.55s/it]"
     ]
    },
    {
     "name": "stdout",
     "output_type": "stream",
     "text": [
      ">best! 1, 123000009240993\n",
      ">best! 1, 119505153453522\n"
     ]
    },
    {
     "name": "stderr",
     "output_type": "stream",
     "text": [
      "  1%|          | 2/200 [00:05<08:35,  2.60s/it]"
     ]
    },
    {
     "name": "stdout",
     "output_type": "stream",
     "text": [
      ">best! 2, 118912511854663\n",
      ">best! 2, 114690011412106\n"
     ]
    },
    {
     "name": "stderr",
     "output_type": "stream",
     "text": [
      "  2%|▏         | 3/200 [00:07<08:20,  2.54s/it]"
     ]
    },
    {
     "name": "stdout",
     "output_type": "stream",
     "text": [
      ">best! 3, 94902759001179\n"
     ]
    },
    {
     "name": "stderr",
     "output_type": "stream",
     "text": [
      "  3%|▎         | 6/200 [00:15<08:38,  2.67s/it]"
     ]
    },
    {
     "name": "stdout",
     "output_type": "stream",
     "text": [
      ">best! 6, 94822058583828\n"
     ]
    },
    {
     "name": "stderr",
     "output_type": "stream",
     "text": [
      "  7%|▋         | 14/200 [00:35<07:38,  2.47s/it]"
     ]
    },
    {
     "name": "stdout",
     "output_type": "stream",
     "text": [
      ">best! 14, 91200006502091\n"
     ]
    },
    {
     "name": "stderr",
     "output_type": "stream",
     "text": [
      " 25%|██▌       | 50/200 [02:07<06:19,  2.53s/it]"
     ]
    },
    {
     "name": "stdout",
     "output_type": "stream",
     "text": [
      ">best! 50, 85800008921453\n"
     ]
    },
    {
     "name": "stderr",
     "output_type": "stream",
     "text": [
      " 26%|██▌       | 52/200 [02:12<06:17,  2.55s/it]"
     ]
    },
    {
     "name": "stdout",
     "output_type": "stream",
     "text": [
      ">best! 52, 78552505694501\n"
     ]
    },
    {
     "name": "stderr",
     "output_type": "stream",
     "text": [
      " 54%|█████▎    | 107/200 [04:33<04:00,  2.58s/it]"
     ]
    },
    {
     "name": "stdout",
     "output_type": "stream",
     "text": [
      ">best! 107, 73662504002049\n"
     ]
    },
    {
     "name": "stderr",
     "output_type": "stream",
     "text": [
      "100%|██████████| 200/200 [08:35<00:00,  2.58s/it]\n"
     ]
    },
    {
     "name": "stdout",
     "output_type": "stream",
     "text": [
      "86번째 log 저장 완료. 총 118개\n",
      "355497591211250\n"
     ]
    },
    {
     "name": "stderr",
     "output_type": "stream",
     "text": [
      "  0%|          | 0/200 [00:00<?, ?it/s]"
     ]
    },
    {
     "name": "stdout",
     "output_type": "stream",
     "text": [
      ">best! 0, 260071646051375\n",
      ">best! 0, 229593451163750\n"
     ]
    },
    {
     "name": "stderr",
     "output_type": "stream",
     "text": [
      "  0%|          | 1/200 [00:04<13:16,  4.00s/it]"
     ]
    },
    {
     "name": "stdout",
     "output_type": "stream",
     "text": [
      ">best! 1, 219569362144575\n",
      ">best! 1, 190547123838675\n"
     ]
    },
    {
     "name": "stderr",
     "output_type": "stream",
     "text": [
      "  4%|▍         | 9/200 [00:35<12:46,  4.01s/it]"
     ]
    },
    {
     "name": "stdout",
     "output_type": "stream",
     "text": [
      ">best! 9, 185786023697815\n"
     ]
    },
    {
     "name": "stderr",
     "output_type": "stream",
     "text": [
      " 27%|██▋       | 54/200 [03:33<09:30,  3.90s/it]"
     ]
    },
    {
     "name": "stdout",
     "output_type": "stream",
     "text": [
      ">best! 54, 184106330997500\n"
     ]
    },
    {
     "name": "stderr",
     "output_type": "stream",
     "text": [
      " 30%|██▉       | 59/200 [03:53<09:25,  4.01s/it]"
     ]
    },
    {
     "name": "stdout",
     "output_type": "stream",
     "text": [
      ">best! 59, 165458762528840\n"
     ]
    },
    {
     "name": "stderr",
     "output_type": "stream",
     "text": [
      " 62%|██████▏   | 124/200 [08:17<05:08,  4.07s/it]"
     ]
    },
    {
     "name": "stdout",
     "output_type": "stream",
     "text": [
      ">best! 124, 164155921189050\n"
     ]
    },
    {
     "name": "stderr",
     "output_type": "stream",
     "text": [
      "100%|██████████| 200/200 [13:18<00:00,  3.99s/it]\n"
     ]
    },
    {
     "name": "stdout",
     "output_type": "stream",
     "text": [
      "87번째 log 저장 완료. 총 118개\n",
      "333726133766750\n"
     ]
    },
    {
     "name": "stderr",
     "output_type": "stream",
     "text": [
      "  0%|          | 0/200 [00:00<?, ?it/s]"
     ]
    },
    {
     "name": "stdout",
     "output_type": "stream",
     "text": [
      ">best! 0, 326992520166250\n",
      ">best! 0, 315980303657680\n"
     ]
    },
    {
     "name": "stderr",
     "output_type": "stream",
     "text": [
      "  0%|          | 1/200 [00:03<10:37,  3.20s/it]"
     ]
    },
    {
     "name": "stdout",
     "output_type": "stream",
     "text": [
      ">best! 1, 301176252812000\n",
      ">best! 1, 298261062310915\n"
     ]
    },
    {
     "name": "stderr",
     "output_type": "stream",
     "text": [
      "  1%|          | 2/200 [00:06<10:32,  3.19s/it]"
     ]
    },
    {
     "name": "stdout",
     "output_type": "stream",
     "text": [
      ">best! 2, 233082443633750\n"
     ]
    },
    {
     "name": "stderr",
     "output_type": "stream",
     "text": [
      " 20%|██        | 41/200 [02:07<08:04,  3.05s/it]"
     ]
    },
    {
     "name": "stdout",
     "output_type": "stream",
     "text": [
      ">best! 41, 228771063890245\n"
     ]
    },
    {
     "name": "stderr",
     "output_type": "stream",
     "text": [
      " 22%|██▏       | 43/200 [02:14<08:23,  3.20s/it]"
     ]
    },
    {
     "name": "stdout",
     "output_type": "stream",
     "text": [
      ">best! 43, 204338381863450\n"
     ]
    },
    {
     "name": "stderr",
     "output_type": "stream",
     "text": [
      " 64%|██████▍   | 129/200 [06:44<03:43,  3.14s/it]"
     ]
    },
    {
     "name": "stdout",
     "output_type": "stream",
     "text": [
      ">best! 129, 200034080498750\n"
     ]
    },
    {
     "name": "stderr",
     "output_type": "stream",
     "text": [
      "100%|██████████| 200/200 [10:27<00:00,  3.14s/it]\n"
     ]
    },
    {
     "name": "stdout",
     "output_type": "stream",
     "text": [
      "88번째 log 저장 완료. 총 118개\n",
      "344607182327500\n"
     ]
    },
    {
     "name": "stderr",
     "output_type": "stream",
     "text": [
      "  0%|          | 0/200 [00:00<?, ?it/s]"
     ]
    },
    {
     "name": "stdout",
     "output_type": "stream",
     "text": [
      ">best! 0, 239203080166250\n",
      ">best! 0, 237983143481750\n",
      ">best! 0, 223493821496340\n"
     ]
    },
    {
     "name": "stderr",
     "output_type": "stream",
     "text": [
      "  0%|          | 1/200 [00:02<08:28,  2.56s/it]"
     ]
    },
    {
     "name": "stdout",
     "output_type": "stream",
     "text": [
      ">best! 1, 201015511710000\n",
      ">best! 1, 200776713149250\n",
      ">best! 1, 175390230997500\n"
     ]
    },
    {
     "name": "stderr",
     "output_type": "stream",
     "text": [
      "  2%|▏         | 3/200 [00:07<08:22,  2.55s/it]"
     ]
    },
    {
     "name": "stdout",
     "output_type": "stream",
     "text": [
      ">best! 3, 169109093325000\n"
     ]
    },
    {
     "name": "stderr",
     "output_type": "stream",
     "text": [
      "  4%|▍         | 9/200 [00:23<08:20,  2.62s/it]"
     ]
    },
    {
     "name": "stdout",
     "output_type": "stream",
     "text": [
      ">best! 9, 165312682873750\n"
     ]
    },
    {
     "name": "stderr",
     "output_type": "stream",
     "text": [
      "  8%|▊         | 16/200 [00:42<08:04,  2.63s/it]"
     ]
    },
    {
     "name": "stdout",
     "output_type": "stream",
     "text": [
      ">best! 16, 157263980000000\n"
     ]
    },
    {
     "name": "stderr",
     "output_type": "stream",
     "text": [
      " 18%|█▊        | 37/200 [01:37<07:05,  2.61s/it]"
     ]
    },
    {
     "name": "stdout",
     "output_type": "stream",
     "text": [
      ">best! 37, 110285744378072\n"
     ]
    },
    {
     "name": "stderr",
     "output_type": "stream",
     "text": [
      " 69%|██████▉   | 138/200 [06:08<02:45,  2.67s/it]\n"
     ]
    },
    {
     "name": "stdout",
     "output_type": "stream",
     "text": [
      "stop\n",
      "89번째 log 저장 완료. 총 118개\n",
      "439031581828750\n"
     ]
    },
    {
     "name": "stderr",
     "output_type": "stream",
     "text": [
      "  0%|          | 0/200 [00:00<?, ?it/s]"
     ]
    },
    {
     "name": "stdout",
     "output_type": "stream",
     "text": [
      ">best! 0, 228098820669676\n",
      ">best! 0, 174237506233938\n"
     ]
    },
    {
     "name": "stderr",
     "output_type": "stream",
     "text": [
      "  0%|          | 1/200 [00:02<07:57,  2.40s/it]"
     ]
    },
    {
     "name": "stdout",
     "output_type": "stream",
     "text": [
      ">best! 1, 170189121383512\n"
     ]
    },
    {
     "name": "stderr",
     "output_type": "stream",
     "text": [
      "  1%|          | 2/200 [00:04<07:21,  2.23s/it]"
     ]
    },
    {
     "name": "stdout",
     "output_type": "stream",
     "text": [
      ">best! 2, 169192343407606\n",
      ">best! 2, 168373905295840\n"
     ]
    },
    {
     "name": "stderr",
     "output_type": "stream",
     "text": [
      "  2%|▏         | 3/200 [00:06<07:13,  2.20s/it]"
     ]
    },
    {
     "name": "stdout",
     "output_type": "stream",
     "text": [
      ">best! 3, 162637330726750\n"
     ]
    },
    {
     "name": "stderr",
     "output_type": "stream",
     "text": [
      "  4%|▎         | 7/200 [00:15<07:08,  2.22s/it]"
     ]
    },
    {
     "name": "stdout",
     "output_type": "stream",
     "text": [
      ">best! 7, 156934460665000\n",
      ">best! 7, 140596121709415\n"
     ]
    },
    {
     "name": "stderr",
     "output_type": "stream",
     "text": [
      " 10%|█         | 20/200 [00:44<06:51,  2.29s/it]"
     ]
    },
    {
     "name": "stdout",
     "output_type": "stream",
     "text": [
      ">best! 20, 112567661980750\n"
     ]
    },
    {
     "name": "stderr",
     "output_type": "stream",
     "text": [
      " 60%|██████    | 121/200 [04:33<02:58,  2.26s/it]\n"
     ]
    },
    {
     "name": "stdout",
     "output_type": "stream",
     "text": [
      "stop\n",
      "90번째 log 저장 완료. 총 118개\n",
      "316995519839741\n"
     ]
    },
    {
     "name": "stderr",
     "output_type": "stream",
     "text": [
      "  0%|          | 0/200 [00:00<?, ?it/s]"
     ]
    },
    {
     "name": "stdout",
     "output_type": "stream",
     "text": [
      ">best! 0, 292847334588976\n",
      ">best! 0, 256534709319735\n",
      ">best! 0, 208150551114819\n",
      ">best! 0, 177120594187371\n",
      ">best! 0, 168881805214615\n",
      ">best! 0, 152015531728139\n"
     ]
    },
    {
     "name": "stderr",
     "output_type": "stream",
     "text": [
      "  6%|▋         | 13/200 [00:32<07:53,  2.53s/it]"
     ]
    },
    {
     "name": "stdout",
     "output_type": "stream",
     "text": [
      ">best! 13, 132588255952124\n"
     ]
    },
    {
     "name": "stderr",
     "output_type": "stream",
     "text": [
      "  8%|▊         | 15/200 [00:36<07:27,  2.42s/it]"
     ]
    },
    {
     "name": "stdout",
     "output_type": "stream",
     "text": [
      ">best! 15, 118144139102073\n"
     ]
    },
    {
     "name": "stderr",
     "output_type": "stream",
     "text": [
      " 16%|█▌        | 32/200 [01:18<06:46,  2.42s/it]"
     ]
    },
    {
     "name": "stdout",
     "output_type": "stream",
     "text": [
      ">best! 32, 106036767919563\n"
     ]
    },
    {
     "name": "stderr",
     "output_type": "stream",
     "text": [
      " 27%|██▋       | 54/200 [02:11<05:50,  2.40s/it]"
     ]
    },
    {
     "name": "stdout",
     "output_type": "stream",
     "text": [
      ">best! 54, 94549315579643\n"
     ]
    },
    {
     "name": "stderr",
     "output_type": "stream",
     "text": [
      " 78%|███████▊  | 155/200 [06:15<01:48,  2.42s/it]\n"
     ]
    },
    {
     "name": "stdout",
     "output_type": "stream",
     "text": [
      "stop\n",
      "91번째 log 저장 완료. 총 118개\n",
      "250751698481411\n"
     ]
    },
    {
     "name": "stderr",
     "output_type": "stream",
     "text": [
      "  0%|          | 0/200 [00:00<?, ?it/s]"
     ]
    },
    {
     "name": "stdout",
     "output_type": "stream",
     "text": [
      ">best! 0, 203131364412203\n",
      ">best! 0, 187640623350762\n"
     ]
    },
    {
     "name": "stderr",
     "output_type": "stream",
     "text": [
      "  1%|          | 2/200 [00:05<08:28,  2.57s/it]"
     ]
    },
    {
     "name": "stdout",
     "output_type": "stream",
     "text": [
      ">best! 2, 146189629564198\n"
     ]
    },
    {
     "name": "stderr",
     "output_type": "stream",
     "text": [
      "  4%|▍         | 8/200 [00:20<08:10,  2.56s/it]"
     ]
    },
    {
     "name": "stdout",
     "output_type": "stream",
     "text": [
      ">best! 8, 124989314315558\n"
     ]
    },
    {
     "name": "stderr",
     "output_type": "stream",
     "text": [
      " 12%|█▏        | 24/200 [01:00<07:21,  2.51s/it]"
     ]
    },
    {
     "name": "stdout",
     "output_type": "stream",
     "text": [
      ">best! 24, 113543119118937\n"
     ]
    },
    {
     "name": "stderr",
     "output_type": "stream",
     "text": [
      " 37%|███▋      | 74/200 [03:08<05:47,  2.76s/it]"
     ]
    },
    {
     "name": "stdout",
     "output_type": "stream",
     "text": [
      ">best! 74, 95601844882650\n"
     ]
    },
    {
     "name": "stderr",
     "output_type": "stream",
     "text": [
      " 88%|████████▊ | 175/200 [07:31<01:04,  2.58s/it]\n"
     ]
    },
    {
     "name": "stdout",
     "output_type": "stream",
     "text": [
      "stop\n",
      "92번째 log 저장 완료. 총 118개\n",
      "383766678934992\n"
     ]
    },
    {
     "name": "stderr",
     "output_type": "stream",
     "text": [
      "  0%|          | 0/200 [00:00<?, ?it/s]"
     ]
    },
    {
     "name": "stdout",
     "output_type": "stream",
     "text": [
      ">best! 0, 303177410000000\n",
      ">best! 0, 261588653072975\n",
      ">best! 0, 206765996064004\n",
      ">best! 0, 191833588869613\n",
      ">best! 0, 109643969280744\n"
     ]
    },
    {
     "name": "stderr",
     "output_type": "stream",
     "text": [
      " 18%|█▊        | 36/200 [01:37<07:10,  2.63s/it]"
     ]
    },
    {
     "name": "stdout",
     "output_type": "stream",
     "text": [
      ">best! 36, 85800014062846\n"
     ]
    },
    {
     "name": "stderr",
     "output_type": "stream",
     "text": [
      " 68%|██████▊   | 137/200 [06:01<02:46,  2.64s/it]\n"
     ]
    },
    {
     "name": "stdout",
     "output_type": "stream",
     "text": [
      "stop\n",
      "93번째 log 저장 완료. 총 118개\n",
      "203843422704218\n"
     ]
    },
    {
     "name": "stderr",
     "output_type": "stream",
     "text": [
      "  0%|          | 0/200 [00:00<?, ?it/s]"
     ]
    },
    {
     "name": "stdout",
     "output_type": "stream",
     "text": [
      ">best! 0, 177891565379732\n",
      ">best! 0, 149315207595862\n",
      ">best! 0, 138415286956151\n"
     ]
    },
    {
     "name": "stderr",
     "output_type": "stream",
     "text": [
      "  1%|          | 2/200 [00:02<04:43,  1.43s/it]"
     ]
    },
    {
     "name": "stdout",
     "output_type": "stream",
     "text": [
      ">best! 2, 132248654974574\n",
      ">best! 2, 129735763236867\n"
     ]
    },
    {
     "name": "stderr",
     "output_type": "stream",
     "text": [
      "  2%|▏         | 4/200 [00:05<04:38,  1.42s/it]"
     ]
    },
    {
     "name": "stdout",
     "output_type": "stream",
     "text": [
      ">best! 4, 121200009688060\n"
     ]
    },
    {
     "name": "stderr",
     "output_type": "stream",
     "text": [
      "  2%|▎         | 5/200 [00:07<04:59,  1.53s/it]"
     ]
    },
    {
     "name": "stdout",
     "output_type": "stream",
     "text": [
      ">best! 5, 95191521931936\n"
     ]
    },
    {
     "name": "stderr",
     "output_type": "stream",
     "text": [
      "  6%|▌         | 11/200 [00:16<04:27,  1.42s/it]"
     ]
    },
    {
     "name": "stdout",
     "output_type": "stream",
     "text": [
      ">best! 11, 88200010761752\n"
     ]
    },
    {
     "name": "stderr",
     "output_type": "stream",
     "text": [
      " 50%|█████     | 100/200 [02:29<02:25,  1.46s/it]"
     ]
    },
    {
     "name": "stdout",
     "output_type": "stream",
     "text": [
      ">best! 100, 79580870390990\n"
     ]
    },
    {
     "name": "stderr",
     "output_type": "stream",
     "text": [
      "100%|██████████| 200/200 [04:57<00:00,  1.49s/it]\n"
     ]
    },
    {
     "name": "stdout",
     "output_type": "stream",
     "text": [
      "94번째 log 저장 완료. 총 118개\n",
      "68069126719572\n"
     ]
    },
    {
     "name": "stderr",
     "output_type": "stream",
     "text": [
      "  0%|          | 0/200 [00:00<?, ?it/s]"
     ]
    },
    {
     "name": "stdout",
     "output_type": "stream",
     "text": [
      ">best! 0, 58594187991240\n",
      ">best! 0, 56854668522384\n",
      ">best! 0, 46181627498059\n",
      ">best! 0, 24135962745191\n",
      ">best! 0, 18216123717779\n"
     ]
    },
    {
     "name": "stderr",
     "output_type": "stream",
     "text": [
      "  0%|          | 1/200 [00:01<04:14,  1.28s/it]"
     ]
    },
    {
     "name": "stdout",
     "output_type": "stream",
     "text": [
      ">best! 1, 2135285966840\n"
     ]
    },
    {
     "name": "stderr",
     "output_type": "stream",
     "text": [
      "  2%|▎         | 5/200 [00:06<03:57,  1.22s/it]"
     ]
    },
    {
     "name": "stdout",
     "output_type": "stream",
     "text": [
      ">best! 5, 9773472\n"
     ]
    },
    {
     "name": "stderr",
     "output_type": "stream",
     "text": [
      "  8%|▊         | 16/200 [00:19<03:50,  1.25s/it]"
     ]
    },
    {
     "name": "stdout",
     "output_type": "stream",
     "text": [
      ">best! 16, 9654354\n",
      ">best! 16, 6530057\n",
      ">best! 16, 6145750\n"
     ]
    },
    {
     "name": "stderr",
     "output_type": "stream",
     "text": [
      " 44%|████▍     | 88/200 [01:49<02:18,  1.23s/it]"
     ]
    },
    {
     "name": "stdout",
     "output_type": "stream",
     "text": [
      ">best! 88, 5754455\n"
     ]
    },
    {
     "name": "stderr",
     "output_type": "stream",
     "text": [
      " 59%|█████▉    | 118/200 [02:27<01:41,  1.24s/it]"
     ]
    },
    {
     "name": "stdout",
     "output_type": "stream",
     "text": [
      ">best! 118, 3736973\n"
     ]
    },
    {
     "name": "stderr",
     "output_type": "stream",
     "text": [
      " 71%|███████   | 142/200 [02:57<01:16,  1.32s/it]"
     ]
    },
    {
     "name": "stdout",
     "output_type": "stream",
     "text": [
      ">best! 142, 3700095\n"
     ]
    },
    {
     "name": "stderr",
     "output_type": "stream",
     "text": [
      "100%|██████████| 200/200 [04:09<00:00,  1.25s/it]\n"
     ]
    },
    {
     "name": "stdout",
     "output_type": "stream",
     "text": [
      "95번째 log 저장 완료. 총 118개\n",
      "16656223072975\n"
     ]
    },
    {
     "name": "stderr",
     "output_type": "stream",
     "text": [
      "  0%|          | 0/200 [00:00<?, ?it/s]"
     ]
    },
    {
     "name": "stdout",
     "output_type": "stream",
     "text": [
      ">best! 0, 14057266266784\n"
     ]
    },
    {
     "name": "stderr",
     "output_type": "stream",
     "text": [
      "  0%|          | 1/200 [00:00<02:24,  1.37it/s]"
     ]
    },
    {
     "name": "stdout",
     "output_type": "stream",
     "text": [
      ">best! 1, 11942763687570\n",
      ">best! 1, 9964643505465\n",
      ">best! 1, 9786708663491\n"
     ]
    },
    {
     "name": "stderr",
     "output_type": "stream",
     "text": [
      "  1%|          | 2/200 [00:01<02:22,  1.39it/s]"
     ]
    },
    {
     "name": "stdout",
     "output_type": "stream",
     "text": [
      ">best! 2, 9816879\n"
     ]
    },
    {
     "name": "stderr",
     "output_type": "stream",
     "text": [
      "  3%|▎         | 6/200 [00:04<02:49,  1.15it/s]"
     ]
    },
    {
     "name": "stdout",
     "output_type": "stream",
     "text": [
      ">best! 6, 6122229\n"
     ]
    },
    {
     "name": "stderr",
     "output_type": "stream",
     "text": [
      "  6%|▌         | 12/200 [00:09<02:20,  1.34it/s]"
     ]
    },
    {
     "name": "stdout",
     "output_type": "stream",
     "text": [
      ">best! 12, 5888788\n"
     ]
    },
    {
     "name": "stderr",
     "output_type": "stream",
     "text": [
      " 13%|█▎        | 26/200 [00:19<02:05,  1.39it/s]"
     ]
    },
    {
     "name": "stdout",
     "output_type": "stream",
     "text": [
      ">best! 26, 5302370\n"
     ]
    },
    {
     "name": "stderr",
     "output_type": "stream",
     "text": [
      " 16%|█▌        | 31/200 [00:23<02:23,  1.18it/s]"
     ]
    },
    {
     "name": "stdout",
     "output_type": "stream",
     "text": [
      ">best! 31, 4715067\n"
     ]
    },
    {
     "name": "stderr",
     "output_type": "stream",
     "text": [
      " 17%|█▋        | 34/200 [00:25<02:06,  1.31it/s]"
     ]
    },
    {
     "name": "stdout",
     "output_type": "stream",
     "text": [
      ">best! 34, 1521367\n"
     ]
    },
    {
     "name": "stderr",
     "output_type": "stream",
     "text": [
      " 68%|██████▊   | 135/200 [01:39<00:47,  1.36it/s]\n"
     ]
    },
    {
     "name": "stdout",
     "output_type": "stream",
     "text": [
      "stop\n",
      "96번째 log 저장 완료. 총 118개\n",
      "59431967619320\n"
     ]
    },
    {
     "name": "stderr",
     "output_type": "stream",
     "text": [
      "  0%|          | 0/200 [00:00<?, ?it/s]"
     ]
    },
    {
     "name": "stdout",
     "output_type": "stream",
     "text": [
      ">best! 0, 57649946555680\n",
      ">best! 0, 48043809010744\n",
      ">best! 0, 33960528194600\n"
     ]
    },
    {
     "name": "stderr",
     "output_type": "stream",
     "text": [
      "  0%|          | 1/200 [00:00<03:16,  1.01it/s]"
     ]
    },
    {
     "name": "stdout",
     "output_type": "stream",
     "text": [
      ">best! 1, 29192521761839\n"
     ]
    },
    {
     "name": "stderr",
     "output_type": "stream",
     "text": [
      "  2%|▏         | 3/200 [00:02<03:09,  1.04it/s]"
     ]
    },
    {
     "name": "stdout",
     "output_type": "stream",
     "text": [
      ">best! 3, 28324886596185\n",
      ">best! 3, 17616065858310\n"
     ]
    },
    {
     "name": "stderr",
     "output_type": "stream",
     "text": [
      "  2%|▏         | 4/200 [00:04<03:28,  1.06s/it]"
     ]
    },
    {
     "name": "stdout",
     "output_type": "stream",
     "text": [
      ">best! 4, 9704865203571\n"
     ]
    },
    {
     "name": "stderr",
     "output_type": "stream",
     "text": [
      " 10%|█         | 20/200 [00:17<02:30,  1.19it/s]"
     ]
    },
    {
     "name": "stdout",
     "output_type": "stream",
     "text": [
      ">best! 20, 2797683359786\n",
      ">best! 20, 10038250\n"
     ]
    },
    {
     "name": "stderr",
     "output_type": "stream",
     "text": [
      " 22%|██▎       | 45/200 [00:39<02:09,  1.20it/s]"
     ]
    },
    {
     "name": "stdout",
     "output_type": "stream",
     "text": [
      ">best! 45, 8746653\n"
     ]
    },
    {
     "name": "stderr",
     "output_type": "stream",
     "text": [
      " 49%|████▉     | 98/200 [01:26<01:31,  1.12it/s]"
     ]
    },
    {
     "name": "stdout",
     "output_type": "stream",
     "text": [
      ">best! 98, 1738164\n"
     ]
    },
    {
     "name": "stderr",
     "output_type": "stream",
     "text": [
      "100%|█████████▉| 199/200 [02:54<00:00,  1.14it/s]\n"
     ]
    },
    {
     "name": "stdout",
     "output_type": "stream",
     "text": [
      "stop\n",
      "97번째 log 저장 완료. 총 118개\n",
      "97287631413668\n"
     ]
    },
    {
     "name": "stderr",
     "output_type": "stream",
     "text": [
      "  0%|          | 0/200 [00:00<?, ?it/s]"
     ]
    },
    {
     "name": "stdout",
     "output_type": "stream",
     "text": [
      ">best! 0, 62840086251070\n"
     ]
    },
    {
     "name": "stderr",
     "output_type": "stream",
     "text": [
      "  0%|          | 1/200 [00:01<04:13,  1.27s/it]"
     ]
    },
    {
     "name": "stdout",
     "output_type": "stream",
     "text": [
      ">best! 1, 48391911618533\n"
     ]
    },
    {
     "name": "stderr",
     "output_type": "stream",
     "text": [
      "  1%|          | 2/200 [00:02<03:42,  1.12s/it]"
     ]
    },
    {
     "name": "stdout",
     "output_type": "stream",
     "text": [
      ">best! 2, 44610990758100\n"
     ]
    },
    {
     "name": "stderr",
     "output_type": "stream",
     "text": [
      "  2%|▏         | 4/200 [00:04<03:24,  1.04s/it]"
     ]
    },
    {
     "name": "stdout",
     "output_type": "stream",
     "text": [
      ">best! 4, 20969649621342\n"
     ]
    },
    {
     "name": "stderr",
     "output_type": "stream",
     "text": [
      " 19%|█▉        | 38/200 [00:41<02:47,  1.04s/it]"
     ]
    },
    {
     "name": "stdout",
     "output_type": "stream",
     "text": [
      ">best! 38, 15871730558336\n"
     ]
    },
    {
     "name": "stderr",
     "output_type": "stream",
     "text": [
      " 70%|██████▉   | 139/200 [02:29<01:05,  1.08s/it]\n"
     ]
    },
    {
     "name": "stdout",
     "output_type": "stream",
     "text": [
      "stop\n",
      "98번째 log 저장 완료. 총 118개\n",
      "106586091126857\n"
     ]
    },
    {
     "name": "stderr",
     "output_type": "stream",
     "text": [
      "  0%|          | 0/200 [00:00<?, ?it/s]"
     ]
    },
    {
     "name": "stdout",
     "output_type": "stream",
     "text": [
      ">best! 0, 102137590020586\n",
      ">best! 0, 80428905636475\n"
     ]
    },
    {
     "name": "stderr",
     "output_type": "stream",
     "text": [
      "  0%|          | 1/200 [00:01<03:31,  1.06s/it]"
     ]
    },
    {
     "name": "stdout",
     "output_type": "stream",
     "text": [
      ">best! 1, 76692169059177\n",
      ">best! 1, 66371650020586\n"
     ]
    },
    {
     "name": "stderr",
     "output_type": "stream",
     "text": [
      "  6%|▌         | 11/200 [00:11<03:08,  1.01it/s]"
     ]
    },
    {
     "name": "stdout",
     "output_type": "stream",
     "text": [
      ">best! 11, 63702546876151\n"
     ]
    },
    {
     "name": "stderr",
     "output_type": "stream",
     "text": [
      " 10%|█         | 21/200 [00:21<02:59,  1.00s/it]"
     ]
    },
    {
     "name": "stdout",
     "output_type": "stream",
     "text": [
      ">best! 21, 60499628463612\n"
     ]
    },
    {
     "name": "stderr",
     "output_type": "stream",
     "text": [
      " 20%|█▉        | 39/200 [00:39<02:39,  1.01it/s]"
     ]
    },
    {
     "name": "stdout",
     "output_type": "stream",
     "text": [
      ">best! 39, 54449670758100\n"
     ]
    },
    {
     "name": "stderr",
     "output_type": "stream",
     "text": [
      " 34%|███▎      | 67/200 [01:07<02:14,  1.01s/it]"
     ]
    },
    {
     "name": "stdout",
     "output_type": "stream",
     "text": [
      ">best! 67, 54271727193449\n"
     ]
    },
    {
     "name": "stderr",
     "output_type": "stream",
     "text": [
      " 44%|████▎     | 87/200 [01:27<01:50,  1.02it/s]"
     ]
    },
    {
     "name": "stdout",
     "output_type": "stream",
     "text": [
      ">best! 87, 48755583947067\n"
     ]
    },
    {
     "name": "stderr",
     "output_type": "stream",
     "text": [
      " 68%|██████▊   | 136/200 [02:18<01:03,  1.01it/s]"
     ]
    },
    {
     "name": "stdout",
     "output_type": "stream",
     "text": [
      ">best! 136, 44662967573663\n"
     ]
    },
    {
     "name": "stderr",
     "output_type": "stream",
     "text": [
      "100%|██████████| 200/200 [03:23<00:00,  1.02s/it]\n"
     ]
    },
    {
     "name": "stdout",
     "output_type": "stream",
     "text": [
      "99번째 log 저장 완료. 총 118개\n",
      "28832369\n"
     ]
    },
    {
     "name": "stderr",
     "output_type": "stream",
     "text": [
      "  0%|          | 0/200 [00:00<?, ?it/s]"
     ]
    },
    {
     "name": "stdout",
     "output_type": "stream",
     "text": [
      ">best! 0, 27911337\n",
      ">best! 0, 27400256\n",
      ">best! 0, 27032999\n",
      ">best! 0, 25660812\n"
     ]
    },
    {
     "name": "stderr",
     "output_type": "stream",
     "text": [
      "  0%|          | 1/200 [00:01<04:58,  1.50s/it]"
     ]
    },
    {
     "name": "stdout",
     "output_type": "stream",
     "text": [
      ">best! 1, 22445292\n"
     ]
    },
    {
     "name": "stderr",
     "output_type": "stream",
     "text": [
      "  2%|▏         | 4/200 [00:05<04:47,  1.47s/it]"
     ]
    },
    {
     "name": "stdout",
     "output_type": "stream",
     "text": [
      ">best! 4, 20242486\n"
     ]
    },
    {
     "name": "stderr",
     "output_type": "stream",
     "text": [
      " 18%|█▊        | 36/200 [00:52<03:57,  1.45s/it]"
     ]
    },
    {
     "name": "stdout",
     "output_type": "stream",
     "text": [
      ">best! 36, 19811409\n"
     ]
    },
    {
     "name": "stderr",
     "output_type": "stream",
     "text": [
      " 18%|█▊        | 37/200 [00:53<03:56,  1.45s/it]"
     ]
    },
    {
     "name": "stdout",
     "output_type": "stream",
     "text": [
      ">best! 37, 18738317\n"
     ]
    },
    {
     "name": "stderr",
     "output_type": "stream",
     "text": [
      " 69%|██████▉   | 138/200 [03:18<01:29,  1.44s/it]\n"
     ]
    },
    {
     "name": "stdout",
     "output_type": "stream",
     "text": [
      "stop\n",
      "100번째 log 저장 완료. 총 118개\n",
      "25333480\n"
     ]
    },
    {
     "name": "stderr",
     "output_type": "stream",
     "text": [
      "  0%|          | 0/200 [00:00<?, ?it/s]"
     ]
    },
    {
     "name": "stdout",
     "output_type": "stream",
     "text": [
      ">best! 0, 25084200\n",
      ">best! 0, 24076870\n",
      ">best! 0, 22463710\n",
      ">best! 0, 21840510\n",
      ">best! 0, 21715870\n"
     ]
    },
    {
     "name": "stderr",
     "output_type": "stream",
     "text": [
      "  0%|          | 1/200 [00:00<02:15,  1.47it/s]"
     ]
    },
    {
     "name": "stdout",
     "output_type": "stream",
     "text": [
      ">best! 1, 21483960\n"
     ]
    },
    {
     "name": "stderr",
     "output_type": "stream",
     "text": [
      "  1%|          | 2/200 [00:01<02:00,  1.65it/s]"
     ]
    },
    {
     "name": "stdout",
     "output_type": "stream",
     "text": [
      ">best! 2, 21452800\n",
      ">best! 2, 21203520\n"
     ]
    },
    {
     "name": "stderr",
     "output_type": "stream",
     "text": [
      "  2%|▎         | 5/200 [00:02<01:53,  1.72it/s]"
     ]
    },
    {
     "name": "stdout",
     "output_type": "stream",
     "text": [
      ">best! 5, 20088920\n",
      ">best! 5, 19064220\n"
     ]
    },
    {
     "name": "stderr",
     "output_type": "stream",
     "text": [
      "  5%|▌         | 10/200 [00:05<01:46,  1.78it/s]"
     ]
    },
    {
     "name": "stdout",
     "output_type": "stream",
     "text": [
      ">best! 10, 18970740\n"
     ]
    },
    {
     "name": "stderr",
     "output_type": "stream",
     "text": [
      " 16%|█▋        | 33/200 [00:19<01:34,  1.77it/s]"
     ]
    },
    {
     "name": "stdout",
     "output_type": "stream",
     "text": [
      ">best! 33, 17946040\n"
     ]
    },
    {
     "name": "stderr",
     "output_type": "stream",
     "text": [
      " 44%|████▍     | 88/200 [00:51<01:01,  1.82it/s]"
     ]
    },
    {
     "name": "stdout",
     "output_type": "stream",
     "text": [
      ">best! 88, 17866350\n"
     ]
    },
    {
     "name": "stderr",
     "output_type": "stream",
     "text": [
      " 94%|█████████▍| 189/200 [01:54<00:06,  1.65it/s]\n"
     ]
    },
    {
     "name": "stdout",
     "output_type": "stream",
     "text": [
      "stop\n",
      "101번째 log 저장 완료. 총 118개\n",
      "25302320\n"
     ]
    },
    {
     "name": "stderr",
     "output_type": "stream",
     "text": [
      "  0%|          | 0/200 [00:00<?, ?it/s]"
     ]
    },
    {
     "name": "stdout",
     "output_type": "stream",
     "text": [
      ">best! 0, 25146520\n",
      ">best! 0, 24603010\n",
      ">best! 0, 21840510\n",
      ">best! 0, 21684710\n"
     ]
    },
    {
     "name": "stderr",
     "output_type": "stream",
     "text": [
      "  0%|          | 1/200 [00:00<02:14,  1.48it/s]"
     ]
    },
    {
     "name": "stdout",
     "output_type": "stream",
     "text": [
      ">best! 1, 21515120\n"
     ]
    },
    {
     "name": "stderr",
     "output_type": "stream",
     "text": [
      "  1%|          | 2/200 [00:01<02:10,  1.51it/s]"
     ]
    },
    {
     "name": "stdout",
     "output_type": "stream",
     "text": [
      ">best! 2, 20241140\n",
      ">best! 2, 19652680\n"
     ]
    },
    {
     "name": "stderr",
     "output_type": "stream",
     "text": [
      "  2%|▎         | 5/200 [00:03<02:10,  1.50it/s]"
     ]
    },
    {
     "name": "stdout",
     "output_type": "stream",
     "text": [
      ">best! 5, 19140330\n"
     ]
    },
    {
     "name": "stderr",
     "output_type": "stream",
     "text": [
      "  8%|▊         | 17/200 [00:11<02:01,  1.51it/s]"
     ]
    },
    {
     "name": "stdout",
     "output_type": "stream",
     "text": [
      ">best! 17, 18690300\n"
     ]
    },
    {
     "name": "stderr",
     "output_type": "stream",
     "text": [
      " 21%|██        | 42/200 [00:29<01:45,  1.49it/s]"
     ]
    },
    {
     "name": "stdout",
     "output_type": "stream",
     "text": [
      ">best! 42, 18039520\n"
     ]
    },
    {
     "name": "stderr",
     "output_type": "stream",
     "text": [
      " 64%|██████▍   | 128/200 [01:26<00:47,  1.52it/s]"
     ]
    },
    {
     "name": "stdout",
     "output_type": "stream",
     "text": [
      ">best! 128, 17572120\n"
     ]
    },
    {
     "name": "stderr",
     "output_type": "stream",
     "text": [
      "100%|██████████| 200/200 [02:15<00:00,  1.47it/s]\n"
     ]
    },
    {
     "name": "stdout",
     "output_type": "stream",
     "text": [
      "102번째 log 저장 완료. 총 118개\n",
      "43055065146520\n"
     ]
    },
    {
     "name": "stderr",
     "output_type": "stream",
     "text": [
      "  0%|          | 0/200 [00:00<?, ?it/s]"
     ]
    },
    {
     "name": "stdout",
     "output_type": "stream",
     "text": [
      ">best! 0, 23261301082460\n",
      ">best! 0, 18204505458120\n"
     ]
    },
    {
     "name": "stderr",
     "output_type": "stream",
     "text": [
      "  2%|▎         | 5/200 [00:03<02:21,  1.38it/s]"
     ]
    },
    {
     "name": "stdout",
     "output_type": "stream",
     "text": [
      ">best! 5, 18060025832040\n",
      ">best! 5, 16037305208840\n"
     ]
    },
    {
     "name": "stderr",
     "output_type": "stream",
     "text": [
      "  4%|▍         | 8/200 [00:05<02:24,  1.33it/s]"
     ]
    },
    {
     "name": "stdout",
     "output_type": "stream",
     "text": [
      ">best! 8, 10691545863200\n"
     ]
    },
    {
     "name": "stderr",
     "output_type": "stream",
     "text": [
      "  4%|▍         | 9/200 [00:06<02:26,  1.30it/s]"
     ]
    },
    {
     "name": "stdout",
     "output_type": "stream",
     "text": [
      ">best! 9, 8379865240000\n"
     ]
    },
    {
     "name": "stderr",
     "output_type": "stream",
     "text": [
      " 14%|█▍        | 28/200 [00:20<02:05,  1.38it/s]"
     ]
    },
    {
     "name": "stdout",
     "output_type": "stream",
     "text": [
      ">best! 28, 7512985426960\n"
     ]
    },
    {
     "name": "stderr",
     "output_type": "stream",
     "text": [
      " 36%|███▋      | 73/200 [00:54<01:36,  1.31it/s]"
     ]
    },
    {
     "name": "stdout",
     "output_type": "stream",
     "text": [
      ">best! 73, 5056825613920\n"
     ]
    },
    {
     "name": "stderr",
     "output_type": "stream",
     "text": [
      " 87%|████████▋ | 174/200 [02:10<00:19,  1.33it/s]\n"
     ]
    },
    {
     "name": "stdout",
     "output_type": "stream",
     "text": [
      "stop\n",
      "103번째 log 저장 완료. 총 118개\n",
      "36264505177680\n"
     ]
    },
    {
     "name": "stderr",
     "output_type": "stream",
     "text": [
      "  0%|          | 0/200 [00:00<?, ?it/s]"
     ]
    },
    {
     "name": "stdout",
     "output_type": "stream",
     "text": [
      ">best! 0, 20805145863200\n",
      ">best! 0, 19504822989850\n"
     ]
    },
    {
     "name": "stderr",
     "output_type": "stream",
     "text": [
      "  0%|          | 1/200 [00:00<02:45,  1.20it/s]"
     ]
    },
    {
     "name": "stdout",
     "output_type": "stream",
     "text": [
      ">best! 1, 15892825800880\n"
     ]
    },
    {
     "name": "stderr",
     "output_type": "stream",
     "text": [
      "  1%|          | 2/200 [00:01<02:50,  1.16it/s]"
     ]
    },
    {
     "name": "stdout",
     "output_type": "stream",
     "text": [
      ">best! 2, 14448024294990\n"
     ]
    },
    {
     "name": "stderr",
     "output_type": "stream",
     "text": [
      "  4%|▎         | 7/200 [00:06<02:44,  1.17it/s]"
     ]
    },
    {
     "name": "stdout",
     "output_type": "stream",
     "text": [
      ">best! 7, 13292185364640\n"
     ]
    },
    {
     "name": "stderr",
     "output_type": "stream",
     "text": [
      "  4%|▍         | 8/200 [00:06<02:43,  1.17it/s]"
     ]
    },
    {
     "name": "stdout",
     "output_type": "stream",
     "text": [
      ">best! 8, 7512985707400\n"
     ]
    },
    {
     "name": "stderr",
     "output_type": "stream",
     "text": [
      " 26%|██▌       | 52/200 [00:45<02:09,  1.14it/s]"
     ]
    },
    {
     "name": "stdout",
     "output_type": "stream",
     "text": [
      ">best! 52, 7079545240000\n"
     ]
    },
    {
     "name": "stderr",
     "output_type": "stream",
     "text": [
      " 52%|█████▏    | 104/200 [01:30<01:20,  1.19it/s]"
     ]
    },
    {
     "name": "stdout",
     "output_type": "stream",
     "text": [
      ">best! 104, 6357145676240\n"
     ]
    },
    {
     "name": "stderr",
     "output_type": "stream",
     "text": [
      "100%|██████████| 200/200 [02:54<00:00,  1.15it/s]\n"
     ]
    },
    {
     "name": "stdout",
     "output_type": "stream",
     "text": [
      "104번째 log 저장 완료. 총 118개\n",
      "55664522446340\n"
     ]
    },
    {
     "name": "stderr",
     "output_type": "stream",
     "text": [
      "  0%|          | 0/200 [00:00<?, ?it/s]"
     ]
    },
    {
     "name": "stdout",
     "output_type": "stream",
     "text": [
      ">best! 0, 27982465676240\n"
     ]
    },
    {
     "name": "stderr",
     "output_type": "stream",
     "text": [
      "  2%|▏         | 3/200 [00:03<04:19,  1.32s/it]"
     ]
    },
    {
     "name": "stdout",
     "output_type": "stream",
     "text": [
      ">best! 3, 25901141965150\n"
     ]
    },
    {
     "name": "stderr",
     "output_type": "stream",
     "text": [
      "  4%|▍         | 8/200 [00:10<04:11,  1.31s/it]"
     ]
    },
    {
     "name": "stdout",
     "output_type": "stream",
     "text": [
      ">best! 8, 25139545451350\n"
     ]
    },
    {
     "name": "stderr",
     "output_type": "stream",
     "text": [
      "  4%|▍         | 9/200 [00:11<04:08,  1.30s/it]"
     ]
    },
    {
     "name": "stdout",
     "output_type": "stream",
     "text": [
      ">best! 9, 23405782292690\n"
     ]
    },
    {
     "name": "stderr",
     "output_type": "stream",
     "text": [
      "  5%|▌         | 10/200 [00:13<04:13,  1.33s/it]"
     ]
    },
    {
     "name": "stdout",
     "output_type": "stream",
     "text": [
      ">best! 10, 17626585693380\n"
     ]
    },
    {
     "name": "stderr",
     "output_type": "stream",
     "text": [
      "  6%|▌         | 12/200 [00:15<04:09,  1.33s/it]"
     ]
    },
    {
     "name": "stdout",
     "output_type": "stream",
     "text": [
      ">best! 12, 9246746910060\n"
     ]
    },
    {
     "name": "stderr",
     "output_type": "stream",
     "text": [
      " 56%|█████▋    | 113/200 [02:30<01:56,  1.34s/it]\n"
     ]
    },
    {
     "name": "stdout",
     "output_type": "stream",
     "text": [
      "stop\n",
      "105번째 log 저장 완료. 총 118개\n",
      "87872943827590\n"
     ]
    },
    {
     "name": "stderr",
     "output_type": "stream",
     "text": [
      "  0%|          | 0/200 [00:00<?, ?it/s]"
     ]
    },
    {
     "name": "stdout",
     "output_type": "stream",
     "text": [
      ">best! 0, 81163725489280\n",
      ">best! 0, 71679165333480\n",
      ">best! 0, 42750545520440\n",
      ">best! 0, 32606325769720\n"
     ]
    },
    {
     "name": "stderr",
     "output_type": "stream",
     "text": [
      "  0%|          | 1/200 [00:01<04:01,  1.21s/it]"
     ]
    },
    {
     "name": "stdout",
     "output_type": "stream",
     "text": [
      ">best! 1, 22527485489280\n"
     ]
    },
    {
     "name": "stderr",
     "output_type": "stream",
     "text": [
      "  3%|▎         | 6/200 [00:07<04:12,  1.30s/it]"
     ]
    },
    {
     "name": "stdout",
     "output_type": "stream",
     "text": [
      ">best! 6, 19430765520440\n"
     ]
    },
    {
     "name": "stderr",
     "output_type": "stream",
     "text": [
      "  4%|▍         | 9/200 [00:11<04:13,  1.33s/it]"
     ]
    },
    {
     "name": "stdout",
     "output_type": "stream",
     "text": [
      ">best! 9, 18637945170190\n"
     ]
    },
    {
     "name": "stderr",
     "output_type": "stream",
     "text": [
      " 10%|▉         | 19/200 [00:24<03:49,  1.27s/it]"
     ]
    },
    {
     "name": "stdout",
     "output_type": "stream",
     "text": [
      ">best! 19, 11558424143500\n"
     ]
    },
    {
     "name": "stderr",
     "output_type": "stream",
     "text": [
      " 60%|██████    | 120/200 [02:36<01:44,  1.30s/it]\n"
     ]
    },
    {
     "name": "stdout",
     "output_type": "stream",
     "text": [
      "stop\n",
      "106번째 log 저장 완료. 총 118개\n",
      "130409663207970\n"
     ]
    },
    {
     "name": "stderr",
     "output_type": "stream",
     "text": [
      "  0%|          | 0/200 [00:00<?, ?it/s]"
     ]
    },
    {
     "name": "stdout",
     "output_type": "stream",
     "text": [
      ">best! 0, 64091545115360\n",
      ">best! 0, 49213745333480\n",
      ">best! 0, 38479185302320\n",
      ">best! 0, 32796986216730\n",
      ">best! 0, 28435305520440\n"
     ]
    },
    {
     "name": "stderr",
     "output_type": "stream",
     "text": [
      "  2%|▏         | 4/200 [00:08<06:58,  2.14s/it]"
     ]
    },
    {
     "name": "stdout",
     "output_type": "stream",
     "text": [
      ">best! 4, 23839225395800\n"
     ]
    },
    {
     "name": "stderr",
     "output_type": "stream",
     "text": [
      "  2%|▎         | 5/200 [00:10<06:53,  2.12s/it]"
     ]
    },
    {
     "name": "stdout",
     "output_type": "stream",
     "text": [
      ">best! 5, 12569783905930\n"
     ]
    },
    {
     "name": "stderr",
     "output_type": "stream",
     "text": [
      " 27%|██▋       | 54/200 [01:54<05:06,  2.10s/it]"
     ]
    },
    {
     "name": "stdout",
     "output_type": "stream",
     "text": [
      ">best! 54, 12136345318340\n"
     ]
    },
    {
     "name": "stderr",
     "output_type": "stream",
     "text": [
      " 78%|███████▊  | 155/200 [05:28<01:35,  2.12s/it]\n"
     ]
    },
    {
     "name": "stdout",
     "output_type": "stream",
     "text": [
      "stop\n",
      "107번째 log 저장 완료. 총 118개\n",
      "66582840000000\n"
     ]
    },
    {
     "name": "stderr",
     "output_type": "stream",
     "text": [
      "  0%|          | 0/200 [00:00<?, ?it/s]"
     ]
    },
    {
     "name": "stdout",
     "output_type": "stream",
     "text": [
      ">best! 0, 64091220218120\n",
      ">best! 0, 62287140093480\n",
      ">best! 0, 45812180779000\n",
      ">best! 0, 32746340405080\n"
     ]
    },
    {
     "name": "stderr",
     "output_type": "stream",
     "text": [
      "  0%|          | 1/200 [00:02<08:40,  2.61s/it]"
     ]
    },
    {
     "name": "stdout",
     "output_type": "stream",
     "text": [
      ">best! 1, 19215841169260\n"
     ]
    },
    {
     "name": "stderr",
     "output_type": "stream",
     "text": [
      "  2%|▏         | 3/200 [00:06<07:20,  2.23s/it]"
     ]
    },
    {
     "name": "stdout",
     "output_type": "stream",
     "text": [
      ">best! 3, 16759681303870\n"
     ]
    },
    {
     "name": "stderr",
     "output_type": "stream",
     "text": [
      " 14%|█▎        | 27/200 [00:57<05:57,  2.07s/it]"
     ]
    },
    {
     "name": "stdout",
     "output_type": "stream",
     "text": [
      ">best! 27, 15892801045580\n"
     ]
    },
    {
     "name": "stderr",
     "output_type": "stream",
     "text": [
      " 40%|███▉      | 79/200 [02:49<04:16,  2.12s/it]"
     ]
    },
    {
     "name": "stdout",
     "output_type": "stream",
     "text": [
      ">best! 79, 10691521029240\n"
     ]
    },
    {
     "name": "stderr",
     "output_type": "stream",
     "text": [
      " 90%|█████████ | 180/200 [06:25<00:42,  2.14s/it]\n"
     ]
    },
    {
     "name": "stdout",
     "output_type": "stream",
     "text": [
      "stop\n",
      "108번째 log 저장 완료. 총 118개\n",
      "60670580747840\n"
     ]
    },
    {
     "name": "stderr",
     "output_type": "stream",
     "text": [
      "  0%|          | 0/200 [00:00<?, ?it/s]"
     ]
    },
    {
     "name": "stdout",
     "output_type": "stream",
     "text": [
      ">best! 0, 60362120747840\n",
      ">best! 0, 51978340498560\n",
      ">best! 0, 34530720694610\n",
      ">best! 0, 28236540623200\n"
     ]
    },
    {
     "name": "stderr",
     "output_type": "stream",
     "text": [
      "  2%|▏         | 3/200 [00:03<03:56,  1.20s/it]"
     ]
    },
    {
     "name": "stdout",
     "output_type": "stream",
     "text": [
      ">best! 3, 26522080280440\n"
     ]
    },
    {
     "name": "stderr",
     "output_type": "stream",
     "text": [
      "  2%|▏         | 4/200 [00:04<03:51,  1.18s/it]"
     ]
    },
    {
     "name": "stdout",
     "output_type": "stream",
     "text": [
      ">best! 4, 20227200311920\n"
     ]
    },
    {
     "name": "stderr",
     "output_type": "stream",
     "text": [
      "  4%|▍         | 9/200 [00:10<03:46,  1.19s/it]"
     ]
    },
    {
     "name": "stdout",
     "output_type": "stream",
     "text": [
      ">best! 9, 19793760827380\n"
     ]
    },
    {
     "name": "stderr",
     "output_type": "stream",
     "text": [
      " 10%|▉         | 19/200 [00:22<03:30,  1.16s/it]"
     ]
    },
    {
     "name": "stdout",
     "output_type": "stream",
     "text": [
      ">best! 19, 14592481161610\n"
     ]
    },
    {
     "name": "stderr",
     "output_type": "stream",
     "text": [
      " 21%|██        | 42/200 [00:49<03:01,  1.15s/it]"
     ]
    },
    {
     "name": "stdout",
     "output_type": "stream",
     "text": [
      ">best! 42, 13870081584950\n"
     ]
    },
    {
     "name": "stderr",
     "output_type": "stream",
     "text": [
      " 72%|███████▏  | 143/200 [02:49<01:07,  1.18s/it]\n"
     ]
    },
    {
     "name": "stdout",
     "output_type": "stream",
     "text": [
      "stop\n",
      "109번째 log 저장 완료. 총 118개\n",
      "69335740000000\n"
     ]
    },
    {
     "name": "stderr",
     "output_type": "stream",
     "text": [
      "  0%|          | 0/200 [00:00<?, ?it/s]"
     ]
    },
    {
     "name": "stdout",
     "output_type": "stream",
     "text": [
      ">best! 0, 61182620000000\n",
      ">best! 0, 56488540000000\n",
      ">best! 0, 50814720000000\n",
      ">best! 0, 44066400898150\n",
      ">best! 0, 19989160000000\n"
     ]
    },
    {
     "name": "stderr",
     "output_type": "stream",
     "text": [
      "  6%|▌         | 11/200 [00:22<06:24,  2.04s/it]"
     ]
    },
    {
     "name": "stdout",
     "output_type": "stream",
     "text": [
      ">best! 11, 17626560695090\n"
     ]
    },
    {
     "name": "stderr",
     "output_type": "stream",
     "text": [
      " 15%|█▌        | 30/200 [01:00<06:01,  2.13s/it]"
     ]
    },
    {
     "name": "stdout",
     "output_type": "stream",
     "text": [
      ">best! 30, 16037280242110\n"
     ]
    },
    {
     "name": "stderr",
     "output_type": "stream",
     "text": [
      " 28%|██▊       | 57/200 [01:54<04:50,  2.03s/it]"
     ]
    },
    {
     "name": "stdout",
     "output_type": "stream",
     "text": [
      ">best! 57, 12280800882530\n"
     ]
    },
    {
     "name": "stderr",
     "output_type": "stream",
     "text": [
      " 42%|████▎     | 85/200 [02:51<03:46,  1.97s/it]"
     ]
    },
    {
     "name": "stdout",
     "output_type": "stream",
     "text": [
      ">best! 85, 10308900000000\n"
     ]
    },
    {
     "name": "stderr",
     "output_type": "stream",
     "text": [
      " 93%|█████████▎| 186/200 [06:16<00:28,  2.02s/it]\n"
     ]
    },
    {
     "name": "stdout",
     "output_type": "stream",
     "text": [
      "stop\n",
      "110번째 log 저장 완료. 총 118개\n",
      "84469160000000\n"
     ]
    },
    {
     "name": "stderr",
     "output_type": "stream",
     "text": [
      "  0%|          | 0/200 [00:00<?, ?it/s]"
     ]
    },
    {
     "name": "stdout",
     "output_type": "stream",
     "text": [
      ">best! 0, 55425440023430\n",
      ">best! 0, 54225600281160\n"
     ]
    },
    {
     "name": "stderr",
     "output_type": "stream",
     "text": [
      "  4%|▍         | 9/200 [00:20<07:08,  2.24s/it]"
     ]
    },
    {
     "name": "stdout",
     "output_type": "stream",
     "text": [
      ">best! 9, 50543100000000\n"
     ]
    },
    {
     "name": "stderr",
     "output_type": "stream",
     "text": [
      "  8%|▊         | 17/200 [00:39<07:15,  2.38s/it]"
     ]
    },
    {
     "name": "stdout",
     "output_type": "stream",
     "text": [
      ">best! 17, 49263040124960\n"
     ]
    },
    {
     "name": "stderr",
     "output_type": "stream",
     "text": [
      " 10%|█         | 20/200 [00:45<06:50,  2.28s/it]"
     ]
    },
    {
     "name": "stdout",
     "output_type": "stream",
     "text": [
      ">best! 20, 44639680015620\n"
     ]
    },
    {
     "name": "stderr",
     "output_type": "stream",
     "text": [
      " 17%|█▋        | 34/200 [01:17<06:11,  2.24s/it]"
     ]
    },
    {
     "name": "stdout",
     "output_type": "stream",
     "text": [
      ">best! 34, 42531360593560\n"
     ]
    },
    {
     "name": "stderr",
     "output_type": "stream",
     "text": [
      " 64%|██████▍   | 129/200 [04:57<02:54,  2.46s/it]"
     ]
    },
    {
     "name": "stdout",
     "output_type": "stream",
     "text": [
      ">best! 129, 35579840179630\n"
     ]
    },
    {
     "name": "stderr",
     "output_type": "stream",
     "text": [
      " 78%|███████▊  | 155/200 [05:58<01:42,  2.29s/it]"
     ]
    },
    {
     "name": "stdout",
     "output_type": "stream",
     "text": [
      ">best! 155, 34635202647590\n"
     ]
    },
    {
     "name": "stderr",
     "output_type": "stream",
     "text": [
      "100%|██████████| 200/200 [07:41<00:00,  2.31s/it]\n"
     ]
    },
    {
     "name": "stdout",
     "output_type": "stream",
     "text": [
      "111번째 log 저장 완료. 총 118개\n",
      "164636720000000\n"
     ]
    },
    {
     "name": "stderr",
     "output_type": "stream",
     "text": [
      "  0%|          | 0/200 [00:00<?, ?it/s]"
     ]
    },
    {
     "name": "stdout",
     "output_type": "stream",
     "text": [
      ">best! 0, 138943380000000\n",
      ">best! 0, 126727140000000\n",
      ">best! 0, 118033280015620\n",
      ">best! 0, 103611600000000\n",
      ">best! 0, 85318720905960\n",
      ">best! 0, 76791480000000\n"
     ]
    },
    {
     "name": "stderr",
     "output_type": "stream",
     "text": [
      "  2%|▏         | 3/200 [00:08<08:52,  2.71s/it]"
     ]
    },
    {
     "name": "stdout",
     "output_type": "stream",
     "text": [
      ">best! 3, 75051180000000\n"
     ]
    },
    {
     "name": "stderr",
     "output_type": "stream",
     "text": [
      "  2%|▏         | 4/200 [00:10<08:47,  2.69s/it]"
     ]
    },
    {
     "name": "stdout",
     "output_type": "stream",
     "text": [
      ">best! 4, 68140480109340\n"
     ]
    },
    {
     "name": "stderr",
     "output_type": "stream",
     "text": [
      "  6%|▋         | 13/200 [00:35<08:18,  2.67s/it]"
     ]
    },
    {
     "name": "stdout",
     "output_type": "stream",
     "text": [
      ">best! 13, 63368700000000\n"
     ]
    },
    {
     "name": "stderr",
     "output_type": "stream",
     "text": [
      " 28%|██▊       | 55/200 [02:31<06:45,  2.80s/it]"
     ]
    },
    {
     "name": "stdout",
     "output_type": "stream",
     "text": [
      ">best! 55, 52180961507330\n"
     ]
    },
    {
     "name": "stderr",
     "output_type": "stream",
     "text": [
      " 78%|███████▊  | 156/200 [07:08<02:00,  2.75s/it]\n"
     ]
    },
    {
     "name": "stdout",
     "output_type": "stream",
     "text": [
      "stop\n",
      "112번째 log 저장 완료. 총 118개\n",
      "162615880000000\n"
     ]
    },
    {
     "name": "stderr",
     "output_type": "stream",
     "text": [
      "  0%|          | 0/200 [00:00<?, ?it/s]"
     ]
    },
    {
     "name": "stdout",
     "output_type": "stream",
     "text": [
      ">best! 0, 149460740000000\n",
      ">best! 0, 148546350000000\n",
      ">best! 0, 145337020000000\n",
      ">best! 0, 139807480000000\n",
      ">best! 0, 99762590000000\n"
     ]
    },
    {
     "name": "stderr",
     "output_type": "stream",
     "text": [
      "  0%|          | 1/200 [00:02<08:57,  2.70s/it]"
     ]
    },
    {
     "name": "stdout",
     "output_type": "stream",
     "text": [
      ">best! 1, 71146260000000\n"
     ]
    },
    {
     "name": "stderr",
     "output_type": "stream",
     "text": [
      " 51%|█████     | 102/200 [03:57<03:48,  2.33s/it]\n"
     ]
    },
    {
     "name": "stdout",
     "output_type": "stream",
     "text": [
      "stop\n",
      "113번째 log 저장 완료. 총 118개\n",
      "169892900000000\n"
     ]
    },
    {
     "name": "stderr",
     "output_type": "stream",
     "text": [
      "  0%|          | 0/200 [00:00<?, ?it/s]"
     ]
    },
    {
     "name": "stdout",
     "output_type": "stream",
     "text": [
      ">best! 0, 129275750000000\n",
      ">best! 0, 125058830000000\n",
      ">best! 0, 123275280000000\n"
     ]
    },
    {
     "name": "stderr",
     "output_type": "stream",
     "text": [
      "  2%|▏         | 3/200 [00:07<08:18,  2.53s/it]"
     ]
    },
    {
     "name": "stdout",
     "output_type": "stream",
     "text": [
      ">best! 3, 116384580000000\n"
     ]
    },
    {
     "name": "stderr",
     "output_type": "stream",
     "text": [
      "  4%|▎         | 7/200 [00:17<08:08,  2.53s/it]"
     ]
    },
    {
     "name": "stdout",
     "output_type": "stream",
     "text": [
      ">best! 7, 102789610000000\n",
      ">best! 7, 100699170000000\n"
     ]
    },
    {
     "name": "stderr",
     "output_type": "stream",
     "text": [
      "  4%|▍         | 8/200 [00:20<08:29,  2.65s/it]"
     ]
    },
    {
     "name": "stdout",
     "output_type": "stream",
     "text": [
      ">best! 8, 85653350000000\n"
     ]
    },
    {
     "name": "stderr",
     "output_type": "stream",
     "text": [
      " 55%|█████▍    | 109/200 [04:49<04:02,  2.66s/it]\n"
     ]
    },
    {
     "name": "stdout",
     "output_type": "stream",
     "text": [
      "stop\n",
      "114번째 log 저장 완료. 총 118개\n",
      "110076696056250\n"
     ]
    },
    {
     "name": "stderr",
     "output_type": "stream",
     "text": [
      "  0%|          | 0/200 [00:00<?, ?it/s]"
     ]
    },
    {
     "name": "stdout",
     "output_type": "stream",
     "text": [
      ">best! 0, 94263796783000\n"
     ]
    },
    {
     "name": "stderr",
     "output_type": "stream",
     "text": [
      "  0%|          | 1/200 [00:02<08:26,  2.55s/it]"
     ]
    },
    {
     "name": "stdout",
     "output_type": "stream",
     "text": [
      ">best! 1, 93579383876000\n",
      ">best! 1, 84283573149250\n"
     ]
    },
    {
     "name": "stderr",
     "output_type": "stream",
     "text": [
      "  2%|▏         | 4/200 [00:10<08:24,  2.58s/it]"
     ]
    },
    {
     "name": "stdout",
     "output_type": "stream",
     "text": [
      ">best! 4, 75554976783000\n",
      ">best! 4, 75071316298500\n"
     ]
    },
    {
     "name": "stderr",
     "output_type": "stream",
     "text": [
      "  9%|▉         | 18/200 [00:47<07:54,  2.61s/it]"
     ]
    },
    {
     "name": "stdout",
     "output_type": "stream",
     "text": [
      ">best! 18, 68677226783000\n"
     ]
    },
    {
     "name": "stderr",
     "output_type": "stream",
     "text": [
      " 22%|██▏       | 44/200 [01:57<07:14,  2.79s/it]"
     ]
    },
    {
     "name": "stdout",
     "output_type": "stream",
     "text": [
      ">best! 44, 63641746298500\n"
     ]
    },
    {
     "name": "stderr",
     "output_type": "stream",
     "text": [
      " 72%|███████▎  | 145/200 [06:30<02:27,  2.69s/it]\n"
     ]
    },
    {
     "name": "stdout",
     "output_type": "stream",
     "text": [
      "stop\n",
      "115번째 log 저장 완료. 총 118개\n",
      "105096916298500\n"
     ]
    },
    {
     "name": "stderr",
     "output_type": "stream",
     "text": [
      "  0%|          | 0/200 [00:00<?, ?it/s]"
     ]
    },
    {
     "name": "stdout",
     "output_type": "stream",
     "text": [
      ">best! 0, 86541966783000\n"
     ]
    },
    {
     "name": "stderr",
     "output_type": "stream",
     "text": [
      "  1%|          | 2/200 [00:06<10:21,  3.14s/it]"
     ]
    },
    {
     "name": "stdout",
     "output_type": "stream",
     "text": [
      ">best! 2, 84326043876000\n",
      ">best! 2, 83585936783000\n"
     ]
    },
    {
     "name": "stderr",
     "output_type": "stream",
     "text": [
      "  2%|▎         | 5/200 [00:16<10:58,  3.37s/it]"
     ]
    },
    {
     "name": "stdout",
     "output_type": "stream",
     "text": [
      ">best! 5, 83442273876000\n"
     ]
    },
    {
     "name": "stderr",
     "output_type": "stream",
     "text": [
      "  3%|▎         | 6/200 [00:19<10:39,  3.30s/it]"
     ]
    },
    {
     "name": "stdout",
     "output_type": "stream",
     "text": [
      ">best! 6, 79319805087250\n"
     ]
    },
    {
     "name": "stderr",
     "output_type": "stream",
     "text": [
      "  5%|▌         | 10/200 [00:32<10:05,  3.18s/it]"
     ]
    },
    {
     "name": "stdout",
     "output_type": "stream",
     "text": [
      ">best! 10, 77735616783000\n"
     ]
    },
    {
     "name": "stderr",
     "output_type": "stream",
     "text": [
      "  6%|▋         | 13/200 [00:41<09:43,  3.12s/it]"
     ]
    },
    {
     "name": "stdout",
     "output_type": "stream",
     "text": [
      ">best! 13, 70976692664750\n"
     ]
    },
    {
     "name": "stderr",
     "output_type": "stream",
     "text": [
      " 57%|█████▋    | 114/200 [06:13<04:41,  3.28s/it]\n"
     ]
    },
    {
     "name": "stdout",
     "output_type": "stream",
     "text": [
      "stop\n",
      "116번째 log 저장 완료. 총 118개\n",
      "171896315814000\n"
     ]
    },
    {
     "name": "stderr",
     "output_type": "stream",
     "text": [
      "  0%|          | 0/200 [00:00<?, ?it/s]"
     ]
    },
    {
     "name": "stdout",
     "output_type": "stream",
     "text": [
      ">best! 0, 165764426783000\n",
      ">best! 0, 142566845087250\n",
      ">best! 0, 137344125571750\n",
      ">best! 0, 135133113633750\n"
     ]
    },
    {
     "name": "stderr",
     "output_type": "stream",
     "text": [
      "  0%|          | 1/200 [00:05<18:11,  5.49s/it]"
     ]
    },
    {
     "name": "stdout",
     "output_type": "stream",
     "text": [
      ">best! 1, 120418181453500\n"
     ]
    },
    {
     "name": "stderr",
     "output_type": "stream",
     "text": [
      "  1%|          | 2/200 [00:11<18:12,  5.52s/it]"
     ]
    },
    {
     "name": "stdout",
     "output_type": "stream",
     "text": [
      ">best! 2, 90207885329500\n"
     ]
    },
    {
     "name": "stderr",
     "output_type": "stream",
     "text": [
      " 52%|█████▏    | 103/200 [09:45<09:11,  5.68s/it]\n"
     ]
    },
    {
     "name": "stdout",
     "output_type": "stream",
     "text": [
      "stop\n",
      "117번째 log 저장 완료. 총 118개\n",
      "154806424845000\n"
     ]
    },
    {
     "name": "stderr",
     "output_type": "stream",
     "text": [
      "  0%|          | 0/200 [00:00<?, ?it/s]"
     ]
    },
    {
     "name": "stdout",
     "output_type": "stream",
     "text": [
      ">best! 0, 144509870969000\n",
      ">best! 0, 116027856298500\n"
     ]
    },
    {
     "name": "stderr",
     "output_type": "stream",
     "text": [
      "  4%|▍         | 9/200 [00:54<19:07,  6.01s/it]"
     ]
    },
    {
     "name": "stdout",
     "output_type": "stream",
     "text": [
      ">best! 9, 115972362664750\n"
     ]
    },
    {
     "name": "stderr",
     "output_type": "stream",
     "text": [
      "  5%|▌         | 10/200 [01:00<18:38,  5.89s/it]"
     ]
    },
    {
     "name": "stdout",
     "output_type": "stream",
     "text": [
      ">best! 10, 94454294360500\n"
     ]
    },
    {
     "name": "stderr",
     "output_type": "stream",
     "text": [
      " 46%|████▌     | 91/200 [08:55<10:49,  5.96s/it]"
     ]
    },
    {
     "name": "stdout",
     "output_type": "stream",
     "text": [
      ">best! 91, 76794754774290\n"
     ]
    },
    {
     "name": "stderr",
     "output_type": "stream",
     "text": [
      " 96%|█████████▌| 192/200 [18:45<00:46,  5.86s/it]"
     ]
    },
    {
     "name": "stdout",
     "output_type": "stream",
     "text": [
      "stop\n",
      "118번째 log 저장 완료. 총 118개\n"
     ]
    },
    {
     "name": "stderr",
     "output_type": "stream",
     "text": [
      "\n"
     ]
    }
   ],
   "source": [
    "import pickle\n",
    "\n",
    "# 저장된 피클 불러오기기\n",
    "# with open('log.pkl', 'rb') as f:\n",
    "#     loaded_data = pickle.load(f)\n",
    "\n",
    "# best_ls, score_ls, log_ls, log_detail_ls = loaded_data\n",
    "\n",
    "# 데이터 설정정\n",
    "# temp = [dataset_for_ga[i] for i in range(10)]\n",
    "\n",
    "best_ls, score_ls, log_ls, log_detail_ls, gt_ls = list(), list(), list(), list(), list()\n",
    "\n",
    "# 유전 알고리즘\n",
    "def ga_get_gt(dataset_for_ga):\n",
    "    data_len = len(dataset_for_ga)\n",
    "    \n",
    "    for i, data in enumerate(dataset_for_ga):\n",
    "        global T, I, J, cit, pit, dit, mijt\n",
    "        T, I, J, cit, pit, dit, mijt = ga_preprocess(data)\n",
    "\n",
    "        # 입력 데이터 생성\n",
    "        xijt = generation_xijt()\n",
    "        global xijt_keys, mijt_keys\n",
    "        xijt_keys = list(xijt.keys())\n",
    "        mijt_keys = list(mijt.keys())\n",
    "\n",
    "        # 유전 알고리즘 하이퍼파라미터 설정 - index 03 적용\n",
    "        n_iter = 200       # 반복할 세대 수\n",
    "        n_pop = 40         # 세대당 염색체 수\n",
    "        r_cross = 0.4      # 교차율\n",
    "        r_mut = 0.4        # 변이율\n",
    "\n",
    "        # 유전 알고리즘 실행\n",
    "        best, score, log, log_detail = genetic_algorithm(mijt, n_iter, n_pop, r_cross, r_mut)\n",
    "\n",
    "        best_ls.append(best)\n",
    "        score_ls.append(score)\n",
    "        log_ls.append(log)\n",
    "        log_detail_ls.append(log_detail)\n",
    "\n",
    "        with open('log.pkl', 'wb') as f:\n",
    "            pickle.dump([best_ls, score_ls, log_ls, log_detail_ls], f)\n",
    "        print(f'{i+1}번째 log 저장 완료. 총 {data_len}개')\n",
    "\n",
    "        # 해 솔루션 저장용 딕셔너리 초기화\n",
    "        solution_ = dict()\n",
    "\n",
    "        # xijt 디코딩\n",
    "        xijt = decode(mijt, xijt)\n",
    "\n",
    "        # best 해를 기반으로 해를 계산\n",
    "        for i in I:\n",
    "            for j in J:\n",
    "                for t in T:\n",
    "                    solution_[(i, j, t)] = round(best[i, j, t] * dit[i, t])\n",
    "\n",
    "        # 딕셔너리를 DataFrame으로 변환\n",
    "        sol = pd.DataFrame.from_dict(solution_, orient='index').reset_index()\n",
    "        sol.columns = ['(item, machine, time)', 'qty']\n",
    "\n",
    "        gt_ls.append(sol[sol['qty'] > 0])\n",
    "\n",
    "        with open('gt.pkl', 'wb') as f:\n",
    "            pickle.dump(gt_ls, f)\n",
    "\n",
    "        # print('{}번째 gt 저장 완료. 총 {}개'.format(i + 1, data_len))\n",
    "\n",
    "        # print('------------------------')\n",
    "        # print()\n",
    "\n",
    "ga_get_gt(dataset_for_ga)"
   ]
  },
  {
   "cell_type": "code",
   "execution_count": 10,
   "id": "bc038455",
   "metadata": {},
   "outputs": [],
   "source": [
    "def combine_input(data):\n",
    "    combined_input = '\\n'.join(f'• {text}' for text in data['nl_order'])\n",
    "\n",
    "    return combined_input\n",
    "\n",
    "# combine_input(dataset_for_nl[117])"
   ]
  },
  {
   "cell_type": "code",
   "execution_count": 57,
   "id": "ed9e4330",
   "metadata": {},
   "outputs": [
    {
     "name": "stdout",
     "output_type": "stream",
     "text": [
      "[\n",
      "  {\n",
      "    \"item\": \"069478\",\n",
      "    \"machine\": \"0408\",\n",
      "    \"capacity\": 5.0\n",
      "  },\n",
      "  {\n",
      "    \"item\": \"061218\",\n",
      "    \"machine\": \"0404\",\n",
      "    \"capacity\": 4.67\n",
      "  },\n",
      "  {\n",
      "    \"item\": \"061218\",\n",
      "    \"machine\": \"0408\",\n",
      "    \"capacity\": 5.67\n",
      "  },\n",
      "  {\n",
      "    \"item\": \"061218\",\n",
      "    \"machine\": \"0409\",\n",
      "    \"capacity\": 5.67\n",
      "  },\n",
      "  {\n",
      "    \"item\": \"061218\",\n",
      "    \"machine\": \"0410\",\n",
      "    \"capacity\": 5.74\n",
      "  },\n",
      "  {\n",
      "    \"item\": \"061218\",\n",
      "    \"machine\": \"0416\",\n",
      "    \"capacity\": 5.22\n",
      "  },\n",
      "  {\n",
      "    \"item\": \"061218\",\n",
      "    \"machine\": \"0424\",\n",
      "    \"capacity\": 4.59\n",
      "  },\n",
      "  {\n",
      "    \"item\": \"061218\",\n",
      "    \"machine\": \"0425\",\n",
      "    \"capacity\": 4.37\n",
      "  },\n",
      "  {\n",
      "    \"item\": \"061218\",\n",
      "    \"machine\": \"0426\",\n",
      "    \"capacity\": 5.86\n",
      "  },\n",
      "  {\n",
      "    \"item\": \"061218\",\n",
      "    \"machine\": \"0433\",\n",
      "    \"capacity\": 4.6\n",
      "  },\n",
      "  {\n",
      "    \"item\": \"061218\",\n",
      "    \"machine\": \"0434\",\n",
      "    \"capacity\": 4.67\n",
      "  },\n",
      "  {\n",
      "    \"item\": \"058797\",\n",
      "    \"machine\": \"0404\",\n",
      "    \"capacity\": 17.5\n",
      "  },\n",
      "  {\n",
      "    \"item\": \"058797\",\n",
      "    \"machine\": \"0405\",\n",
      "    \"capacity\": 15.89\n",
      "  },\n",
      "  {\n",
      "    \"item\": \"058797\",\n",
      "    \"machine\": \"0407\",\n",
      "    \"capacity\": 7.0\n",
      "  },\n",
      "  {\n",
      "    \"item\": \"058797\",\n",
      "    \"machine\": \"0410\",\n",
      "    \"capacity\": 13.5\n",
      "  },\n",
      "  {\n",
      "    \"item\": \"058797\",\n",
      "    \"machine\": \"0416\",\n",
      "    \"capacity\": 12.67\n",
      "  },\n",
      "  {\n",
      "    \"item\": \"058797\",\n",
      "    \"machine\": \"0422\",\n",
      "    \"capacity\": 17.27\n",
      "  },\n",
      "  {\n",
      "    \"item\": \"058797\",\n",
      "    \"machine\": \"0424\",\n",
      "    \"capacity\": 15.38\n",
      "  },\n",
      "  {\n",
      "    \"item\": \"058797\",\n",
      "    \"machine\": \"0433\",\n",
      "    \"capacity\": 15.0\n",
      "  },\n",
      "  {\n",
      "    \"item\": \"058797\",\n",
      "    \"machine\": \"0437\",\n",
      "    \"capacity\": 14.4\n",
      "  },\n",
      "  {\n",
      "    \"item\": \"058797\",\n",
      "    \"machine\": \"0438\",\n",
      "    \"capacity\": 12.74\n",
      "  },\n",
      "  {\n",
      "    \"item\": \"K03887\",\n",
      "    \"machine\": \"0404\",\n",
      "    \"capacity\": 10.21\n",
      "  },\n",
      "  {\n",
      "    \"item\": \"K03887\",\n",
      "    \"machine\": \"0407\",\n",
      "    \"capacity\": 8.82\n",
      "  },\n",
      "  {\n",
      "    \"item\": \"K03887\",\n",
      "    \"machine\": \"0408\",\n",
      "    \"capacity\": 8.72\n",
      "  },\n",
      "  {\n",
      "    \"item\": \"K03887\",\n",
      "    \"machine\": \"0409\",\n",
      "    \"capacity\": 9.51\n",
      "  },\n",
      "  {\n",
      "    \"item\": \"K03887\",\n",
      "    \"machine\": \"0410\",\n",
      "    \"capacity\": 10.3\n",
      "  },\n",
      "  {\n",
      "    \"item\": \"K03887\",\n",
      "    \"machine\": \"0412\",\n",
      "    \"capacity\": 8.12\n",
      "  },\n",
      "  {\n",
      "    \"item\": \"K03887\",\n",
      "    \"machine\": \"0416\",\n",
      "    \"capacity\": 9.31\n",
      "  },\n",
      "  {\n",
      "    \"item\": \"K03887\",\n",
      "    \"machine\": \"0420\",\n",
      "    \"capacity\": 13.0\n",
      "  },\n",
      "  {\n",
      "    \"item\": \"K03887\",\n",
      "    \"machine\": \"0422\",\n",
      "    \"capacity\": 9.12\n",
      "  },\n",
      "  {\n",
      "    \"item\": \"K03887\",\n",
      "    \"machine\": \"0424\",\n",
      "    \"capacity\": 9.72\n",
      "  },\n",
      "  {\n",
      "    \"item\": \"K03887\",\n",
      "    \"machine\": \"0425\",\n",
      "    \"capacity\": 8.95\n",
      "  },\n",
      "  {\n",
      "    \"item\": \"K03887\",\n",
      "    \"machine\": \"0426\",\n",
      "    \"capacity\": 12.42\n",
      "  },\n",
      "  {\n",
      "    \"item\": \"K03887\",\n",
      "    \"machine\": \"0433\",\n",
      "    \"capacity\": 10.46\n",
      "  },\n",
      "  {\n",
      "    \"item\": \"K03887\",\n",
      "    \"machine\": \"0435\",\n",
      "    \"capacity\": 10.55\n",
      "  },\n",
      "  {\n",
      "    \"item\": \"K03887\",\n",
      "    \"machine\": \"0436\",\n",
      "    \"capacity\": 8.88\n",
      "  },\n",
      "  {\n",
      "    \"item\": \"K03887\",\n",
      "    \"machine\": \"0439\",\n",
      "    \"capacity\": 10.17\n",
      "  },\n",
      "  {\n",
      "    \"item\": \"K03887\",\n",
      "    \"machine\": \"0440\",\n",
      "    \"capacity\": 8.56\n",
      "  },\n",
      "  {\n",
      "    \"item\": \"Z00807\",\n",
      "    \"machine\": \"0409\",\n",
      "    \"capacity\": 3.86\n",
      "  },\n",
      "  {\n",
      "    \"item\": \"Z00807\",\n",
      "    \"machine\": \"0416\",\n",
      "    \"capacity\": 0.82\n",
      "  },\n",
      "  {\n",
      "    \"item\": \"069559\",\n",
      "    \"machine\": \"0405\",\n",
      "    \"capacity\": 49.0\n",
      "  },\n",
      "  {\n",
      "    \"item\": \"069559\",\n",
      "    \"machine\": \"0421\",\n",
      "    \"capacity\": 42.0\n",
      "  },\n",
      "  {\n",
      "    \"item\": \"069559\",\n",
      "    \"machine\": \"0422\",\n",
      "    \"capacity\": 49.0\n",
      "  },\n",
      "  {\n",
      "    \"item\": \"K00614\",\n",
      "    \"machine\": \"0434\",\n",
      "    \"capacity\": 13.71\n",
      "  },\n",
      "  {\n",
      "    \"item\": \"K00614\",\n",
      "    \"machine\": \"0435\",\n",
      "    \"capacity\": 4.01\n",
      "  },\n",
      "  {\n",
      "    \"item\": \"K04037\",\n",
      "    \"machine\": \"0401\",\n",
      "    \"capacity\": 1.17\n",
      "  },\n",
      "  {\n",
      "    \"item\": \"K04037\",\n",
      "    \"machine\": \"0407\",\n",
      "    \"capacity\": 2.82\n",
      "  },\n",
      "  {\n",
      "    \"item\": \"K04037\",\n",
      "    \"machine\": \"0408\",\n",
      "    \"capacity\": 3.25\n",
      "  },\n",
      "  {\n",
      "    \"item\": \"K04037\",\n",
      "    \"machine\": \"0409\",\n",
      "    \"capacity\": 3.89\n",
      "  },\n",
      "  {\n",
      "    \"item\": \"K04037\",\n",
      "    \"machine\": \"0410\",\n",
      "    \"capacity\": 1.55\n",
      "  },\n",
      "  {\n",
      "    \"item\": \"K04037\",\n",
      "    \"machine\": \"0416\",\n",
      "    \"capacity\": 2.83\n",
      "  },\n",
      "  {\n",
      "    \"item\": \"K04037\",\n",
      "    \"machine\": \"0424\",\n",
      "    \"capacity\": 4.13\n",
      "  },\n",
      "  {\n",
      "    \"item\": \"K04037\",\n",
      "    \"machine\": \"0425\",\n",
      "    \"capacity\": 4.88\n",
      "  },\n",
      "  {\n",
      "    \"item\": \"K04037\",\n",
      "    \"machine\": \"0426\",\n",
      "    \"capacity\": 2.2\n",
      "  },\n",
      "  {\n",
      "    \"item\": \"K04037\",\n",
      "    \"machine\": \"0428\",\n",
      "    \"capacity\": 3.0\n",
      "  },\n",
      "  {\n",
      "    \"item\": \"K04037\",\n",
      "    \"machine\": \"0429\",\n",
      "    \"capacity\": 3.38\n",
      "  },\n",
      "  {\n",
      "    \"item\": \"K04037\",\n",
      "    \"machine\": \"0433\",\n",
      "    \"capacity\": 1.61\n",
      "  },\n",
      "  {\n",
      "    \"item\": \"K04037\",\n",
      "    \"machine\": \"0434\",\n",
      "    \"capacity\": 3.25\n",
      "  },\n",
      "  {\n",
      "    \"item\": \"K04037\",\n",
      "    \"machine\": \"0435\",\n",
      "    \"capacity\": 4.62\n",
      "  },\n",
      "  {\n",
      "    \"item\": \"K04037\",\n",
      "    \"machine\": \"0436\",\n",
      "    \"capacity\": 2.86\n",
      "  },\n",
      "  {\n",
      "    \"item\": \"K04037\",\n",
      "    \"machine\": \"0439\",\n",
      "    \"capacity\": 2.97\n",
      "  },\n",
      "  {\n",
      "    \"item\": \"K04037\",\n",
      "    \"machine\": \"0440\",\n",
      "    \"capacity\": 3.18\n",
      "  }\n",
      "]\n"
     ]
    }
   ],
   "source": [
    "import json\n",
    "\n",
    "def combine_condition(data):\n",
    "    data = data[['item', 'machine', 'capacity']].drop_duplicates()\n",
    "    data['machine'] = data['machine'].apply(lambda x: str(int(x)).zfill(4))\n",
    "\n",
    "    condition_json = data.to_dict(orient='records')  # list of dicts\n",
    "    return json.dumps(condition_json, ensure_ascii=False, indent=2)  # 보기 좋게 출력\n",
    "\n",
    "print(combine_condition(dataset_for_ga[117]))"
   ]
  },
  {
   "cell_type": "code",
   "execution_count": 58,
   "id": "e3179276",
   "metadata": {},
   "outputs": [
    {
     "name": "stdout",
     "output_type": "stream",
     "text": [
      "[\n",
      "  {\n",
      "    \"item\": \"069478\",\n",
      "    \"machine\": \"0408\",\n",
      "    \"time\": \"2021-07-16\",\n",
      "    \"qty\": 6\n",
      "  },\n",
      "  {\n",
      "    \"item\": \"K04037\",\n",
      "    \"machine\": \"0401\",\n",
      "    \"time\": \"2021-08-31\",\n",
      "    \"qty\": 19\n",
      "  },\n",
      "  {\n",
      "    \"item\": \"K04037\",\n",
      "    \"machine\": \"0409\",\n",
      "    \"time\": \"2021-08-31\",\n",
      "    \"qty\": 7\n",
      "  },\n",
      "  {\n",
      "    \"item\": \"K04037\",\n",
      "    \"machine\": \"0424\",\n",
      "    \"time\": \"2021-08-31\",\n",
      "    \"qty\": 19\n",
      "  },\n",
      "  {\n",
      "    \"item\": \"K04037\",\n",
      "    \"machine\": \"0425\",\n",
      "    \"time\": \"2021-08-31\",\n",
      "    \"qty\": 7\n",
      "  },\n",
      "  {\n",
      "    \"item\": \"K04037\",\n",
      "    \"machine\": \"0426\",\n",
      "    \"time\": \"2021-08-31\",\n",
      "    \"qty\": 74\n",
      "  },\n",
      "  {\n",
      "    \"item\": \"K04037\",\n",
      "    \"machine\": \"0428\",\n",
      "    \"time\": \"2021-08-31\",\n",
      "    \"qty\": 190\n",
      "  },\n",
      "  {\n",
      "    \"item\": \"058797\",\n",
      "    \"machine\": \"0404\",\n",
      "    \"time\": \"2021-07-23\",\n",
      "    \"qty\": 7\n",
      "  },\n",
      "  {\n",
      "    \"item\": \"058797\",\n",
      "    \"machine\": \"0404\",\n",
      "    \"time\": \"2021-07-26\",\n",
      "    \"qty\": 4\n",
      "  },\n",
      "  {\n",
      "    \"item\": \"058797\",\n",
      "    \"machine\": \"0405\",\n",
      "    \"time\": \"2021-07-23\",\n",
      "    \"qty\": 10\n",
      "  },\n",
      "  {\n",
      "    \"item\": \"058797\",\n",
      "    \"machine\": \"0405\",\n",
      "    \"time\": \"2021-07-26\",\n",
      "    \"qty\": 15\n",
      "  },\n",
      "  {\n",
      "    \"item\": \"058797\",\n",
      "    \"machine\": \"0407\",\n",
      "    \"time\": \"2021-07-23\",\n",
      "    \"qty\": 10\n",
      "  },\n",
      "  {\n",
      "    \"item\": \"058797\",\n",
      "    \"machine\": \"0407\",\n",
      "    \"time\": \"2021-07-26\",\n",
      "    \"qty\": 2\n",
      "  },\n",
      "  {\n",
      "    \"item\": \"058797\",\n",
      "    \"machine\": \"0410\",\n",
      "    \"time\": \"2021-07-23\",\n",
      "    \"qty\": 15\n",
      "  },\n",
      "  {\n",
      "    \"item\": \"058797\",\n",
      "    \"machine\": \"0410\",\n",
      "    \"time\": \"2021-07-26\",\n",
      "    \"qty\": 6\n",
      "  },\n",
      "  {\n",
      "    \"item\": \"058797\",\n",
      "    \"machine\": \"0416\",\n",
      "    \"time\": \"2021-07-23\",\n",
      "    \"qty\": 6\n",
      "  },\n",
      "  {\n",
      "    \"item\": \"058797\",\n",
      "    \"machine\": \"0416\",\n",
      "    \"time\": \"2021-07-26\",\n",
      "    \"qty\": 24\n",
      "  },\n",
      "  {\n",
      "    \"item\": \"058797\",\n",
      "    \"machine\": \"0422\",\n",
      "    \"time\": \"2021-07-23\",\n",
      "    \"qty\": 12\n",
      "  },\n",
      "  {\n",
      "    \"item\": \"058797\",\n",
      "    \"machine\": \"0422\",\n",
      "    \"time\": \"2021-07-26\",\n",
      "    \"qty\": 19\n",
      "  },\n",
      "  {\n",
      "    \"item\": \"058797\",\n",
      "    \"machine\": \"0424\",\n",
      "    \"time\": \"2021-07-23\",\n",
      "    \"qty\": 8\n",
      "  },\n",
      "  {\n",
      "    \"item\": \"058797\",\n",
      "    \"machine\": \"0433\",\n",
      "    \"time\": \"2021-07-23\",\n",
      "    \"qty\": 8\n",
      "  },\n",
      "  {\n",
      "    \"item\": \"058797\",\n",
      "    \"machine\": \"0433\",\n",
      "    \"time\": \"2021-07-26\",\n",
      "    \"qty\": 5\n",
      "  },\n",
      "  {\n",
      "    \"item\": \"058797\",\n",
      "    \"machine\": \"0437\",\n",
      "    \"time\": \"2021-07-23\",\n",
      "    \"qty\": 5\n",
      "  },\n",
      "  {\n",
      "    \"item\": \"058797\",\n",
      "    \"machine\": \"0437\",\n",
      "    \"time\": \"2021-07-26\",\n",
      "    \"qty\": 1\n",
      "  },\n",
      "  {\n",
      "    \"item\": \"058797\",\n",
      "    \"machine\": \"0438\",\n",
      "    \"time\": \"2021-07-23\",\n",
      "    \"qty\": 3\n",
      "  },\n",
      "  {\n",
      "    \"item\": \"058797\",\n",
      "    \"machine\": \"0438\",\n",
      "    \"time\": \"2021-07-26\",\n",
      "    \"qty\": 6\n",
      "  },\n",
      "  {\n",
      "    \"item\": \"K03887\",\n",
      "    \"machine\": \"0404\",\n",
      "    \"time\": \"2021-07-26\",\n",
      "    \"qty\": 2\n",
      "  },\n",
      "  {\n",
      "    \"item\": \"K03887\",\n",
      "    \"machine\": \"0407\",\n",
      "    \"time\": \"2021-07-26\",\n",
      "    \"qty\": 4\n",
      "  },\n",
      "  {\n",
      "    \"item\": \"K03887\",\n",
      "    \"machine\": \"0408\",\n",
      "    \"time\": \"2021-07-26\",\n",
      "    \"qty\": 9\n",
      "  },\n",
      "  {\n",
      "    \"item\": \"K03887\",\n",
      "    \"machine\": \"0409\",\n",
      "    \"time\": \"2021-07-26\",\n",
      "    \"qty\": 4\n",
      "  },\n",
      "  {\n",
      "    \"item\": \"K03887\",\n",
      "    \"machine\": \"0410\",\n",
      "    \"time\": \"2021-07-26\",\n",
      "    \"qty\": 6\n",
      "  },\n",
      "  {\n",
      "    \"item\": \"K03887\",\n",
      "    \"machine\": \"0412\",\n",
      "    \"time\": \"2021-07-26\",\n",
      "    \"qty\": 13\n",
      "  },\n",
      "  {\n",
      "    \"item\": \"K03887\",\n",
      "    \"machine\": \"0416\",\n",
      "    \"time\": \"2021-07-26\",\n",
      "    \"qty\": 11\n",
      "  },\n",
      "  {\n",
      "    \"item\": \"K03887\",\n",
      "    \"machine\": \"0420\",\n",
      "    \"time\": \"2021-07-26\",\n",
      "    \"qty\": 8\n",
      "  },\n",
      "  {\n",
      "    \"item\": \"K03887\",\n",
      "    \"machine\": \"0422\",\n",
      "    \"time\": \"2021-07-26\",\n",
      "    \"qty\": 24\n",
      "  },\n",
      "  {\n",
      "    \"item\": \"K03887\",\n",
      "    \"machine\": \"0425\",\n",
      "    \"time\": \"2021-07-26\",\n",
      "    \"qty\": 12\n",
      "  },\n",
      "  {\n",
      "    \"item\": \"K03887\",\n",
      "    \"machine\": \"0426\",\n",
      "    \"time\": \"2021-07-26\",\n",
      "    \"qty\": 5\n",
      "  },\n",
      "  {\n",
      "    \"item\": \"K03887\",\n",
      "    \"machine\": \"0433\",\n",
      "    \"time\": \"2021-07-26\",\n",
      "    \"qty\": 31\n",
      "  },\n",
      "  {\n",
      "    \"item\": \"K03887\",\n",
      "    \"machine\": \"0435\",\n",
      "    \"time\": \"2021-07-26\",\n",
      "    \"qty\": 8\n",
      "  },\n",
      "  {\n",
      "    \"item\": \"K03887\",\n",
      "    \"machine\": \"0436\",\n",
      "    \"time\": \"2021-07-26\",\n",
      "    \"qty\": 37\n",
      "  },\n",
      "  {\n",
      "    \"item\": \"K03887\",\n",
      "    \"machine\": \"0439\",\n",
      "    \"time\": \"2021-07-26\",\n",
      "    \"qty\": 26\n",
      "  },\n",
      "  {\n",
      "    \"item\": \"K03887\",\n",
      "    \"machine\": \"0440\",\n",
      "    \"time\": \"2021-07-26\",\n",
      "    \"qty\": 15\n",
      "  },\n",
      "  {\n",
      "    \"item\": \"069559\",\n",
      "    \"machine\": \"0421\",\n",
      "    \"time\": \"2021-08-18\",\n",
      "    \"qty\": 11\n",
      "  },\n",
      "  {\n",
      "    \"item\": \"Z00807\",\n",
      "    \"machine\": \"0416\",\n",
      "    \"time\": \"2021-09-15\",\n",
      "    \"qty\": 175\n",
      "  },\n",
      "  {\n",
      "    \"item\": \"Z00807\",\n",
      "    \"machine\": \"0416\",\n",
      "    \"time\": \"2021-08-15\",\n",
      "    \"qty\": 261\n",
      "  },\n",
      "  {\n",
      "    \"item\": \"K00614\",\n",
      "    \"machine\": \"0434\",\n",
      "    \"time\": \"2021-08-19\",\n",
      "    \"qty\": 8\n",
      "  },\n",
      "  {\n",
      "    \"item\": \"K00614\",\n",
      "    \"machine\": \"0435\",\n",
      "    \"time\": \"2021-08-19\",\n",
      "    \"qty\": 10\n",
      "  },\n",
      "  {\n",
      "    \"item\": \"061218\",\n",
      "    \"machine\": \"0404\",\n",
      "    \"time\": \"2021-07-21\",\n",
      "    \"qty\": 6\n",
      "  },\n",
      "  {\n",
      "    \"item\": \"061218\",\n",
      "    \"machine\": \"0408\",\n",
      "    \"time\": \"2021-07-21\",\n",
      "    \"qty\": 13\n",
      "  },\n",
      "  {\n",
      "    \"item\": \"061218\",\n",
      "    \"machine\": \"0409\",\n",
      "    \"time\": \"2021-07-21\",\n",
      "    \"qty\": 18\n",
      "  },\n",
      "  {\n",
      "    \"item\": \"061218\",\n",
      "    \"machine\": \"0410\",\n",
      "    \"time\": \"2021-07-21\",\n",
      "    \"qty\": 14\n",
      "  },\n",
      "  {\n",
      "    \"item\": \"061218\",\n",
      "    \"machine\": \"0416\",\n",
      "    \"time\": \"2021-07-21\",\n",
      "    \"qty\": 3\n",
      "  },\n",
      "  {\n",
      "    \"item\": \"061218\",\n",
      "    \"machine\": \"0424\",\n",
      "    \"time\": \"2021-07-21\",\n",
      "    \"qty\": 6\n",
      "  },\n",
      "  {\n",
      "    \"item\": \"061218\",\n",
      "    \"machine\": \"0425\",\n",
      "    \"time\": \"2021-07-21\",\n",
      "    \"qty\": 6\n",
      "  },\n",
      "  {\n",
      "    \"item\": \"061218\",\n",
      "    \"machine\": \"0426\",\n",
      "    \"time\": \"2021-07-21\",\n",
      "    \"qty\": 8\n",
      "  },\n",
      "  {\n",
      "    \"item\": \"061218\",\n",
      "    \"machine\": \"0433\",\n",
      "    \"time\": \"2021-07-21\",\n",
      "    \"qty\": 7\n",
      "  },\n",
      "  {\n",
      "    \"item\": \"061218\",\n",
      "    \"machine\": \"0434\",\n",
      "    \"time\": \"2021-07-21\",\n",
      "    \"qty\": 17\n",
      "  }\n",
      "]\n"
     ]
    }
   ],
   "source": [
    "def combine_output(data):\n",
    "    data[['item', 'machine', 'time']] = pd.DataFrame(data['(item, machine, time)'].tolist(), index=data.index)\n",
    "\n",
    "    data = data.drop(columns='(item, machine, time)')\n",
    "    data = data[['item', 'machine', 'time', 'qty']]\n",
    "    data['machine'] = data['machine'].apply(lambda x: str(int(x)).zfill(4))\n",
    "\n",
    "    data['time'] = pd.to_datetime(data['time'])  # 보장\n",
    "    data['time'] = data['time'].dt.strftime('%Y-%m-%d')  # 또는 원하는 포맷\n",
    "\n",
    "    condition_json = data.to_dict(orient='records')  # list of dicts\n",
    "    return json.dumps(condition_json, ensure_ascii=False, indent=2)  # 보기 좋게 출력\n",
    "\n",
    "print(combine_output(gt_ls[117]))"
   ]
  },
  {
   "cell_type": "code",
   "execution_count": 59,
   "id": "1b39a42b",
   "metadata": {},
   "outputs": [],
   "source": [
    "dataset = list()\n",
    "\n",
    "for idx, gt in enumerate(gt_ls):\n",
    "    input = dataset_for_nl[idx]\n",
    "    input = combine_input(input)\n",
    "\n",
    "    condition = dataset_for_ga[idx]\n",
    "    condition = combine_condition(condition)\n",
    "\n",
    "    output = combine_output(gt)\n",
    "\n",
    "    temp_dict = dict()\n",
    "    temp_dict['input'] = input\n",
    "    temp_dict['condition'] = condition\n",
    "    temp_dict['output'] = output\n",
    "\n",
    "    dataset.append(temp_dict)"
   ]
  },
  {
   "cell_type": "code",
   "execution_count": 60,
   "id": "76b3606d",
   "metadata": {},
   "outputs": [
    {
     "data": {
      "text/plain": [
       "{'input': '• K04033 맞지? 318개 하는거? 21년 5월 13일까지 하면 되구 단가가 25,870원이야. 아 그리구 검사품\\n• 헐 방금 K04031 도면 왔는데 21년 5월 24일까지래. 383개 해야되구 16,229원, 검사품 이래\\n• 저기 051718 도면 19개 해야돼. 21년 5월 30일까지구 8,333원. 그리구 특별한 거 없음\\n• 어우 빨리 봐봐. 056984 4개 21년 6월 3일까지 해야되는데 어떡하지? 단가는 36,533원이구 특별한 거 없음래\\n• 057791 맞지? 196개 하는거? 21년 6월 18일까지 하면 되구 단가가 45,500원이야. 아 그리구 검사품\\n• 이것좀 봐봐. K03948 85개 해달라는데 21년 6월 18일까지래. 57,641원, 검사품\\n• 이것좀 봐봐. S00341 500개 해달라는데 21년 2월 10일까지래. 2,990원, 특별한 거 없음\\n• 잠깐만 이거 확인좀, 052996 도면 2개 맞아? 21년 2월 18일까지구 20,000원에 하는거? 특별한 거 없음도 있네\\n• 야 이거 급한거 같은데, 21년 3월 10일까지 S00341 500개 해야돼. 단가는 2,990원이구 특별한 거 없음래\\n• 저기 S00341 도면 500개 해야돼. 21년 4월 10일까지구 2,990원. 그리구 특별한 거 없음',\n",
       " 'condition': '[\\n  {\\n    \"item\": \"S00341\",\\n    \"machine\": \"0410\",\\n    \"capacity\": 4.6\\n  },\\n  {\\n    \"item\": \"052996\",\\n    \"machine\": \"0410\",\\n    \"capacity\": 25.0\\n  },\\n  {\\n    \"item\": \"052996\",\\n    \"machine\": \"0421\",\\n    \"capacity\": 200.0\\n  },\\n  {\\n    \"item\": \"K04033\",\\n    \"machine\": \"0404\",\\n    \"capacity\": 12.84\\n  },\\n  {\\n    \"item\": \"K04033\",\\n    \"machine\": \"0405\",\\n    \"capacity\": 10.42\\n  },\\n  {\\n    \"item\": \"K04033\",\\n    \"machine\": \"0407\",\\n    \"capacity\": 8.69\\n  },\\n  {\\n    \"item\": \"K04033\",\\n    \"machine\": \"0408\",\\n    \"capacity\": 9.12\\n  },\\n  {\\n    \"item\": \"K04033\",\\n    \"machine\": \"0409\",\\n    \"capacity\": 10.33\\n  },\\n  {\\n    \"item\": \"K04033\",\\n    \"machine\": \"0410\",\\n    \"capacity\": 8.99\\n  },\\n  {\\n    \"item\": \"K04033\",\\n    \"machine\": \"0412\",\\n    \"capacity\": 12.32\\n  },\\n  {\\n    \"item\": \"K04033\",\\n    \"machine\": \"0416\",\\n    \"capacity\": 11.23\\n  },\\n  {\\n    \"item\": \"K04033\",\\n    \"machine\": \"0422\",\\n    \"capacity\": 4.0\\n  },\\n  {\\n    \"item\": \"K04033\",\\n    \"machine\": \"0424\",\\n    \"capacity\": 9.87\\n  },\\n  {\\n    \"item\": \"K04033\",\\n    \"machine\": \"0426\",\\n    \"capacity\": 11.77\\n  },\\n  {\\n    \"item\": \"K04033\",\\n    \"machine\": \"0433\",\\n    \"capacity\": 9.54\\n  },\\n  {\\n    \"item\": \"K04033\",\\n    \"machine\": \"0434\",\\n    \"capacity\": 13.05\\n  },\\n  {\\n    \"item\": \"K04033\",\\n    \"machine\": \"0435\",\\n    \"capacity\": 9.0\\n  },\\n  {\\n    \"item\": \"K04033\",\\n    \"machine\": \"0436\",\\n    \"capacity\": 9.0\\n  },\\n  {\\n    \"item\": \"K04033\",\\n    \"machine\": \"0438\",\\n    \"capacity\": 4.4\\n  },\\n  {\\n    \"item\": \"K04033\",\\n    \"machine\": \"0439\",\\n    \"capacity\": 12.47\\n  },\\n  {\\n    \"item\": \"K04033\",\\n    \"machine\": \"0440\",\\n    \"capacity\": 9.4\\n  },\\n  {\\n    \"item\": \"K04031\",\\n    \"machine\": \"0407\",\\n    \"capacity\": 4.85\\n  },\\n  {\\n    \"item\": \"K04031\",\\n    \"machine\": \"0408\",\\n    \"capacity\": 3.83\\n  },\\n  {\\n    \"item\": \"K04031\",\\n    \"machine\": \"0409\",\\n    \"capacity\": 5.37\\n  },\\n  {\\n    \"item\": \"K04031\",\\n    \"machine\": \"0410\",\\n    \"capacity\": 3.09\\n  },\\n  {\\n    \"item\": \"K04031\",\\n    \"machine\": \"0416\",\\n    \"capacity\": 2.73\\n  },\\n  {\\n    \"item\": \"K04031\",\\n    \"machine\": \"0424\",\\n    \"capacity\": 3.94\\n  },\\n  {\\n    \"item\": \"K04031\",\\n    \"machine\": \"0425\",\\n    \"capacity\": 5.47\\n  },\\n  {\\n    \"item\": \"K04031\",\\n    \"machine\": \"0426\",\\n    \"capacity\": 6.25\\n  },\\n  {\\n    \"item\": \"K04031\",\\n    \"machine\": \"0433\",\\n    \"capacity\": 3.37\\n  },\\n  {\\n    \"item\": \"K04031\",\\n    \"machine\": \"0434\",\\n    \"capacity\": 3.86\\n  },\\n  {\\n    \"item\": \"K04031\",\\n    \"machine\": \"0435\",\\n    \"capacity\": 3.8\\n  },\\n  {\\n    \"item\": \"K04031\",\\n    \"machine\": \"0436\",\\n    \"capacity\": 4.53\\n  },\\n  {\\n    \"item\": \"K04031\",\\n    \"machine\": \"0440\",\\n    \"capacity\": 3.85\\n  },\\n  {\\n    \"item\": \"051718\",\\n    \"machine\": \"0408\",\\n    \"capacity\": 4.89\\n  },\\n  {\\n    \"item\": \"051718\",\\n    \"machine\": \"0409\",\\n    \"capacity\": 5.92\\n  },\\n  {\\n    \"item\": \"051718\",\\n    \"machine\": \"0410\",\\n    \"capacity\": 4.91\\n  },\\n  {\\n    \"item\": \"051718\",\\n    \"machine\": \"0412\",\\n    \"capacity\": 3.5\\n  },\\n  {\\n    \"item\": \"051718\",\\n    \"machine\": \"0416\",\\n    \"capacity\": 1.03\\n  },\\n  {\\n    \"item\": \"051718\",\\n    \"machine\": \"0424\",\\n    \"capacity\": 4.6\\n  },\\n  {\\n    \"item\": \"051718\",\\n    \"machine\": \"0425\",\\n    \"capacity\": 4.54\\n  },\\n  {\\n    \"item\": \"051718\",\\n    \"machine\": \"0426\",\\n    \"capacity\": 3.83\\n  },\\n  {\\n    \"item\": \"051718\",\\n    \"machine\": \"0433\",\\n    \"capacity\": 4.64\\n  },\\n  {\\n    \"item\": \"051718\",\\n    \"machine\": \"0434\",\\n    \"capacity\": 7.12\\n  },\\n  {\\n    \"item\": \"051718\",\\n    \"machine\": \"0435\",\\n    \"capacity\": 1.32\\n  },\\n  {\\n    \"item\": \"051718\",\\n    \"machine\": \"0439\",\\n    \"capacity\": 3.0\\n  },\\n  {\\n    \"item\": \"051718\",\\n    \"machine\": \"0440\",\\n    \"capacity\": 1.83\\n  },\\n  {\\n    \"item\": \"056984\",\\n    \"machine\": \"0408\",\\n    \"capacity\": 4.42\\n  },\\n  {\\n    \"item\": \"056984\",\\n    \"machine\": \"0409\",\\n    \"capacity\": 4.03\\n  },\\n  {\\n    \"item\": \"056984\",\\n    \"machine\": \"0410\",\\n    \"capacity\": 5.32\\n  },\\n  {\\n    \"item\": \"056984\",\\n    \"machine\": \"0416\",\\n    \"capacity\": 4.0\\n  },\\n  {\\n    \"item\": \"056984\",\\n    \"machine\": \"0424\",\\n    \"capacity\": 4.8\\n  },\\n  {\\n    \"item\": \"056984\",\\n    \"machine\": \"0433\",\\n    \"capacity\": 4.33\\n  },\\n  {\\n    \"item\": \"056984\",\\n    \"machine\": \"0434\",\\n    \"capacity\": 5.32\\n  },\\n  {\\n    \"item\": \"056984\",\\n    \"machine\": \"0439\",\\n    \"capacity\": 5.25\\n  },\\n  {\\n    \"item\": \"056984\",\\n    \"machine\": \"0440\",\\n    \"capacity\": 4.5\\n  },\\n  {\\n    \"item\": \"057791\",\\n    \"machine\": \"0401\",\\n    \"capacity\": 5.88\\n  },\\n  {\\n    \"item\": \"057791\",\\n    \"machine\": \"0403\",\\n    \"capacity\": 6.5\\n  },\\n  {\\n    \"item\": \"057791\",\\n    \"machine\": \"0405\",\\n    \"capacity\": 11.64\\n  },\\n  {\\n    \"item\": \"057791\",\\n    \"machine\": \"0419\",\\n    \"capacity\": 12.0\\n  },\\n  {\\n    \"item\": \"057791\",\\n    \"machine\": \"0420\",\\n    \"capacity\": 11.82\\n  },\\n  {\\n    \"item\": \"057791\",\\n    \"machine\": \"0421\",\\n    \"capacity\": 10.0\\n  },\\n  {\\n    \"item\": \"057791\",\\n    \"machine\": \"0422\",\\n    \"capacity\": 11.37\\n  },\\n  {\\n    \"item\": \"057791\",\\n    \"machine\": \"0424\",\\n    \"capacity\": 7.85\\n  },\\n  {\\n    \"item\": \"057791\",\\n    \"machine\": \"0437\",\\n    \"capacity\": 5.49\\n  },\\n  {\\n    \"item\": \"057791\",\\n    \"machine\": \"0438\",\\n    \"capacity\": 6.9\\n  },\\n  {\\n    \"item\": \"K03948\",\\n    \"machine\": \"0401\",\\n    \"capacity\": 5.54\\n  },\\n  {\\n    \"item\": \"K03948\",\\n    \"machine\": \"0402\",\\n    \"capacity\": 10.0\\n  },\\n  {\\n    \"item\": \"K03948\",\\n    \"machine\": \"0403\",\\n    \"capacity\": 6.97\\n  },\\n  {\\n    \"item\": \"K03948\",\\n    \"machine\": \"0405\",\\n    \"capacity\": 7.92\\n  },\\n  {\\n    \"item\": \"K03948\",\\n    \"machine\": \"0406\",\\n    \"capacity\": 6.5\\n  },\\n  {\\n    \"item\": \"K03948\",\\n    \"machine\": \"0416\",\\n    \"capacity\": 8.65\\n  },\\n  {\\n    \"item\": \"K03948\",\\n    \"machine\": \"0418\",\\n    \"capacity\": 6.0\\n  },\\n  {\\n    \"item\": \"K03948\",\\n    \"machine\": \"0419\",\\n    \"capacity\": 7.27\\n  },\\n  {\\n    \"item\": \"K03948\",\\n    \"machine\": \"0420\",\\n    \"capacity\": 12.16\\n  },\\n  {\\n    \"item\": \"K03948\",\\n    \"machine\": \"0421\",\\n    \"capacity\": 4.4\\n  },\\n  {\\n    \"item\": \"K03948\",\\n    \"machine\": \"0422\",\\n    \"capacity\": 6.89\\n  },\\n  {\\n    \"item\": \"K03948\",\\n    \"machine\": \"0437\",\\n    \"capacity\": 6.09\\n  },\\n  {\\n    \"item\": \"K03948\",\\n    \"machine\": \"0438\",\\n    \"capacity\": 5.18\\n  }\\n]',\n",
       " 'output': '[\\n  {\\n    \"item\": \"K04033\",\\n    \"machine\": \"0405\",\\n    \"time\": \"2021-05-13\",\\n    \"qty\": 14\\n  },\\n  {\\n    \"item\": \"K04033\",\\n    \"machine\": \"0409\",\\n    \"time\": \"2021-05-13\",\\n    \"qty\": 42\\n  },\\n  {\\n    \"item\": \"K04033\",\\n    \"machine\": \"0422\",\\n    \"time\": \"2021-05-13\",\\n    \"qty\": 4\\n  },\\n  {\\n    \"item\": \"K04033\",\\n    \"machine\": \"0424\",\\n    \"time\": \"2021-05-13\",\\n    \"qty\": 55\\n  },\\n  {\\n    \"item\": \"K04033\",\\n    \"machine\": \"0433\",\\n    \"time\": \"2021-05-13\",\\n    \"qty\": 49\\n  },\\n  {\\n    \"item\": \"K04033\",\\n    \"machine\": \"0435\",\\n    \"time\": \"2021-05-13\",\\n    \"qty\": 33\\n  },\\n  {\\n    \"item\": \"K04033\",\\n    \"machine\": \"0436\",\\n    \"time\": \"2021-05-13\",\\n    \"qty\": 26\\n  },\\n  {\\n    \"item\": \"056984\",\\n    \"machine\": \"0408\",\\n    \"time\": \"2021-06-03\",\\n    \"qty\": 3\\n  },\\n  {\\n    \"item\": \"056984\",\\n    \"machine\": \"0409\",\\n    \"time\": \"2021-06-03\",\\n    \"qty\": 1\\n  },\\n  {\\n    \"item\": \"056984\",\\n    \"machine\": \"0410\",\\n    \"time\": \"2021-06-03\",\\n    \"qty\": 3\\n  },\\n  {\\n    \"item\": \"056984\",\\n    \"machine\": \"0424\",\\n    \"time\": \"2021-06-03\",\\n    \"qty\": 4\\n  },\\n  {\\n    \"item\": \"056984\",\\n    \"machine\": \"0434\",\\n    \"time\": \"2021-06-03\",\\n    \"qty\": 3\\n  },\\n  {\\n    \"item\": \"056984\",\\n    \"machine\": \"0439\",\\n    \"time\": \"2021-06-03\",\\n    \"qty\": 2\\n  },\\n  {\\n    \"item\": \"056984\",\\n    \"machine\": \"0440\",\\n    \"time\": \"2021-06-03\",\\n    \"qty\": 1\\n  },\\n  {\\n    \"item\": \"057791\",\\n    \"machine\": \"0421\",\\n    \"time\": \"2021-06-18\",\\n    \"qty\": 26\\n  },\\n  {\\n    \"item\": \"057791\",\\n    \"machine\": \"0437\",\\n    \"time\": \"2021-06-18\",\\n    \"qty\": 72\\n  },\\n  {\\n    \"item\": \"057791\",\\n    \"machine\": \"0438\",\\n    \"time\": \"2021-06-18\",\\n    \"qty\": 83\\n  },\\n  {\\n    \"item\": \"K04031\",\\n    \"machine\": \"0407\",\\n    \"time\": \"2021-05-24\",\\n    \"qty\": 115\\n  },\\n  {\\n    \"item\": \"K04031\",\\n    \"machine\": \"0410\",\\n    \"time\": \"2021-05-24\",\\n    \"qty\": 89\\n  },\\n  {\\n    \"item\": \"K04031\",\\n    \"machine\": \"0416\",\\n    \"time\": \"2021-05-24\",\\n    \"qty\": 35\\n  },\\n  {\\n    \"item\": \"K04031\",\\n    \"machine\": \"0424\",\\n    \"time\": \"2021-05-24\",\\n    \"qty\": 50\\n  },\\n  {\\n    \"item\": \"K04031\",\\n    \"machine\": \"0425\",\\n    \"time\": \"2021-05-24\",\\n    \"qty\": 6\\n  },\\n  {\\n    \"item\": \"K03948\",\\n    \"machine\": \"0406\",\\n    \"time\": \"2021-06-18\",\\n    \"qty\": 39\\n  },\\n  {\\n    \"item\": \"K03948\",\\n    \"machine\": \"0416\",\\n    \"time\": \"2021-06-18\",\\n    \"qty\": 2\\n  },\\n  {\\n    \"item\": \"K03948\",\\n    \"machine\": \"0418\",\\n    \"time\": \"2021-06-18\",\\n    \"qty\": 16\\n  },\\n  {\\n    \"item\": \"K03948\",\\n    \"machine\": \"0421\",\\n    \"time\": \"2021-06-18\",\\n    \"qty\": 2\\n  },\\n  {\\n    \"item\": \"K03948\",\\n    \"machine\": \"0437\",\\n    \"time\": \"2021-06-18\",\\n    \"qty\": 12\\n  },\\n  {\\n    \"item\": \"K03948\",\\n    \"machine\": \"0438\",\\n    \"time\": \"2021-06-18\",\\n    \"qty\": 3\\n  },\\n  {\\n    \"item\": \"052996\",\\n    \"machine\": \"0410\",\\n    \"time\": \"2021-02-18\",\\n    \"qty\": 1\\n  },\\n  {\\n    \"item\": \"052996\",\\n    \"machine\": \"0421\",\\n    \"time\": \"2021-02-18\",\\n    \"qty\": 2\\n  },\\n  {\\n    \"item\": \"051718\",\\n    \"machine\": \"0408\",\\n    \"time\": \"2021-05-30\",\\n    \"qty\": 7\\n  },\\n  {\\n    \"item\": \"051718\",\\n    \"machine\": \"0409\",\\n    \"time\": \"2021-05-30\",\\n    \"qty\": 14\\n  },\\n  {\\n    \"item\": \"051718\",\\n    \"machine\": \"0410\",\\n    \"time\": \"2021-05-30\",\\n    \"qty\": 19\\n  },\\n  {\\n    \"item\": \"051718\",\\n    \"machine\": \"0412\",\\n    \"time\": \"2021-05-30\",\\n    \"qty\": 3\\n  },\\n  {\\n    \"item\": \"051718\",\\n    \"machine\": \"0416\",\\n    \"time\": \"2021-05-30\",\\n    \"qty\": 15\\n  },\\n  {\\n    \"item\": \"051718\",\\n    \"machine\": \"0424\",\\n    \"time\": \"2021-05-30\",\\n    \"qty\": 11\\n  },\\n  {\\n    \"item\": \"051718\",\\n    \"machine\": \"0425\",\\n    \"time\": \"2021-05-30\",\\n    \"qty\": 15\\n  },\\n  {\\n    \"item\": \"051718\",\\n    \"machine\": \"0426\",\\n    \"time\": \"2021-05-30\",\\n    \"qty\": 15\\n  },\\n  {\\n    \"item\": \"051718\",\\n    \"machine\": \"0433\",\\n    \"time\": \"2021-05-30\",\\n    \"qty\": 4\\n  },\\n  {\\n    \"item\": \"051718\",\\n    \"machine\": \"0434\",\\n    \"time\": \"2021-05-30\",\\n    \"qty\": 5\\n  },\\n  {\\n    \"item\": \"051718\",\\n    \"machine\": \"0435\",\\n    \"time\": \"2021-05-30\",\\n    \"qty\": 8\\n  },\\n  {\\n    \"item\": \"051718\",\\n    \"machine\": \"0439\",\\n    \"time\": \"2021-05-30\",\\n    \"qty\": 19\\n  },\\n  {\\n    \"item\": \"051718\",\\n    \"machine\": \"0440\",\\n    \"time\": \"2021-05-30\",\\n    \"qty\": 11\\n  }\\n]'}"
      ]
     },
     "execution_count": 60,
     "metadata": {},
     "output_type": "execute_result"
    }
   ],
   "source": [
    "temp = dataset[0]\n",
    "temp"
   ]
  },
  {
   "cell_type": "code",
   "execution_count": 61,
   "id": "3ed5ddd6",
   "metadata": {},
   "outputs": [
    {
     "name": "stdout",
     "output_type": "stream",
     "text": [
      "• K04033 맞지? 318개 하는거? 21년 5월 13일까지 하면 되구 단가가 25,870원이야. 아 그리구 검사품\n",
      "• 헐 방금 K04031 도면 왔는데 21년 5월 24일까지래. 383개 해야되구 16,229원, 검사품 이래\n",
      "• 저기 051718 도면 19개 해야돼. 21년 5월 30일까지구 8,333원. 그리구 특별한 거 없음\n",
      "• 어우 빨리 봐봐. 056984 4개 21년 6월 3일까지 해야되는데 어떡하지? 단가는 36,533원이구 특별한 거 없음래\n",
      "• 057791 맞지? 196개 하는거? 21년 6월 18일까지 하면 되구 단가가 45,500원이야. 아 그리구 검사품\n",
      "• 이것좀 봐봐. K03948 85개 해달라는데 21년 6월 18일까지래. 57,641원, 검사품\n",
      "• 이것좀 봐봐. S00341 500개 해달라는데 21년 2월 10일까지래. 2,990원, 특별한 거 없음\n",
      "• 잠깐만 이거 확인좀, 052996 도면 2개 맞아? 21년 2월 18일까지구 20,000원에 하는거? 특별한 거 없음도 있네\n",
      "• 야 이거 급한거 같은데, 21년 3월 10일까지 S00341 500개 해야돼. 단가는 2,990원이구 특별한 거 없음래\n",
      "• 저기 S00341 도면 500개 해야돼. 21년 4월 10일까지구 2,990원. 그리구 특별한 거 없음\n"
     ]
    }
   ],
   "source": [
    "print(temp['input'])"
   ]
  },
  {
   "cell_type": "code",
   "execution_count": 62,
   "id": "0580211f",
   "metadata": {},
   "outputs": [
    {
     "name": "stdout",
     "output_type": "stream",
     "text": [
      "[\n",
      "  {\n",
      "    \"item\": \"S00341\",\n",
      "    \"machine\": \"0410\",\n",
      "    \"capacity\": 4.6\n",
      "  },\n",
      "  {\n",
      "    \"item\": \"052996\",\n",
      "    \"machine\": \"0410\",\n",
      "    \"capacity\": 25.0\n",
      "  },\n",
      "  {\n",
      "    \"item\": \"052996\",\n",
      "    \"machine\": \"0421\",\n",
      "    \"capacity\": 200.0\n",
      "  },\n",
      "  {\n",
      "    \"item\": \"K04033\",\n",
      "    \"machine\": \"0404\",\n",
      "    \"capacity\": 12.84\n",
      "  },\n",
      "  {\n",
      "    \"item\": \"K04033\",\n",
      "    \"machine\": \"0405\",\n",
      "    \"capacity\": 10.42\n",
      "  },\n",
      "  {\n",
      "    \"item\": \"K04033\",\n",
      "    \"machine\": \"0407\",\n",
      "    \"capacity\": 8.69\n",
      "  },\n",
      "  {\n",
      "    \"item\": \"K04033\",\n",
      "    \"machine\": \"0408\",\n",
      "    \"capacity\": 9.12\n",
      "  },\n",
      "  {\n",
      "    \"item\": \"K04033\",\n",
      "    \"machine\": \"0409\",\n",
      "    \"capacity\": 10.33\n",
      "  },\n",
      "  {\n",
      "    \"item\": \"K04033\",\n",
      "    \"machine\": \"0410\",\n",
      "    \"capacity\": 8.99\n",
      "  },\n",
      "  {\n",
      "    \"item\": \"K04033\",\n",
      "    \"machine\": \"0412\",\n",
      "    \"capacity\": 12.32\n",
      "  },\n",
      "  {\n",
      "    \"item\": \"K04033\",\n",
      "    \"machine\": \"0416\",\n",
      "    \"capacity\": 11.23\n",
      "  },\n",
      "  {\n",
      "    \"item\": \"K04033\",\n",
      "    \"machine\": \"0422\",\n",
      "    \"capacity\": 4.0\n",
      "  },\n",
      "  {\n",
      "    \"item\": \"K04033\",\n",
      "    \"machine\": \"0424\",\n",
      "    \"capacity\": 9.87\n",
      "  },\n",
      "  {\n",
      "    \"item\": \"K04033\",\n",
      "    \"machine\": \"0426\",\n",
      "    \"capacity\": 11.77\n",
      "  },\n",
      "  {\n",
      "    \"item\": \"K04033\",\n",
      "    \"machine\": \"0433\",\n",
      "    \"capacity\": 9.54\n",
      "  },\n",
      "  {\n",
      "    \"item\": \"K04033\",\n",
      "    \"machine\": \"0434\",\n",
      "    \"capacity\": 13.05\n",
      "  },\n",
      "  {\n",
      "    \"item\": \"K04033\",\n",
      "    \"machine\": \"0435\",\n",
      "    \"capacity\": 9.0\n",
      "  },\n",
      "  {\n",
      "    \"item\": \"K04033\",\n",
      "    \"machine\": \"0436\",\n",
      "    \"capacity\": 9.0\n",
      "  },\n",
      "  {\n",
      "    \"item\": \"K04033\",\n",
      "    \"machine\": \"0438\",\n",
      "    \"capacity\": 4.4\n",
      "  },\n",
      "  {\n",
      "    \"item\": \"K04033\",\n",
      "    \"machine\": \"0439\",\n",
      "    \"capacity\": 12.47\n",
      "  },\n",
      "  {\n",
      "    \"item\": \"K04033\",\n",
      "    \"machine\": \"0440\",\n",
      "    \"capacity\": 9.4\n",
      "  },\n",
      "  {\n",
      "    \"item\": \"K04031\",\n",
      "    \"machine\": \"0407\",\n",
      "    \"capacity\": 4.85\n",
      "  },\n",
      "  {\n",
      "    \"item\": \"K04031\",\n",
      "    \"machine\": \"0408\",\n",
      "    \"capacity\": 3.83\n",
      "  },\n",
      "  {\n",
      "    \"item\": \"K04031\",\n",
      "    \"machine\": \"0409\",\n",
      "    \"capacity\": 5.37\n",
      "  },\n",
      "  {\n",
      "    \"item\": \"K04031\",\n",
      "    \"machine\": \"0410\",\n",
      "    \"capacity\": 3.09\n",
      "  },\n",
      "  {\n",
      "    \"item\": \"K04031\",\n",
      "    \"machine\": \"0416\",\n",
      "    \"capacity\": 2.73\n",
      "  },\n",
      "  {\n",
      "    \"item\": \"K04031\",\n",
      "    \"machine\": \"0424\",\n",
      "    \"capacity\": 3.94\n",
      "  },\n",
      "  {\n",
      "    \"item\": \"K04031\",\n",
      "    \"machine\": \"0425\",\n",
      "    \"capacity\": 5.47\n",
      "  },\n",
      "  {\n",
      "    \"item\": \"K04031\",\n",
      "    \"machine\": \"0426\",\n",
      "    \"capacity\": 6.25\n",
      "  },\n",
      "  {\n",
      "    \"item\": \"K04031\",\n",
      "    \"machine\": \"0433\",\n",
      "    \"capacity\": 3.37\n",
      "  },\n",
      "  {\n",
      "    \"item\": \"K04031\",\n",
      "    \"machine\": \"0434\",\n",
      "    \"capacity\": 3.86\n",
      "  },\n",
      "  {\n",
      "    \"item\": \"K04031\",\n",
      "    \"machine\": \"0435\",\n",
      "    \"capacity\": 3.8\n",
      "  },\n",
      "  {\n",
      "    \"item\": \"K04031\",\n",
      "    \"machine\": \"0436\",\n",
      "    \"capacity\": 4.53\n",
      "  },\n",
      "  {\n",
      "    \"item\": \"K04031\",\n",
      "    \"machine\": \"0440\",\n",
      "    \"capacity\": 3.85\n",
      "  },\n",
      "  {\n",
      "    \"item\": \"051718\",\n",
      "    \"machine\": \"0408\",\n",
      "    \"capacity\": 4.89\n",
      "  },\n",
      "  {\n",
      "    \"item\": \"051718\",\n",
      "    \"machine\": \"0409\",\n",
      "    \"capacity\": 5.92\n",
      "  },\n",
      "  {\n",
      "    \"item\": \"051718\",\n",
      "    \"machine\": \"0410\",\n",
      "    \"capacity\": 4.91\n",
      "  },\n",
      "  {\n",
      "    \"item\": \"051718\",\n",
      "    \"machine\": \"0412\",\n",
      "    \"capacity\": 3.5\n",
      "  },\n",
      "  {\n",
      "    \"item\": \"051718\",\n",
      "    \"machine\": \"0416\",\n",
      "    \"capacity\": 1.03\n",
      "  },\n",
      "  {\n",
      "    \"item\": \"051718\",\n",
      "    \"machine\": \"0424\",\n",
      "    \"capacity\": 4.6\n",
      "  },\n",
      "  {\n",
      "    \"item\": \"051718\",\n",
      "    \"machine\": \"0425\",\n",
      "    \"capacity\": 4.54\n",
      "  },\n",
      "  {\n",
      "    \"item\": \"051718\",\n",
      "    \"machine\": \"0426\",\n",
      "    \"capacity\": 3.83\n",
      "  },\n",
      "  {\n",
      "    \"item\": \"051718\",\n",
      "    \"machine\": \"0433\",\n",
      "    \"capacity\": 4.64\n",
      "  },\n",
      "  {\n",
      "    \"item\": \"051718\",\n",
      "    \"machine\": \"0434\",\n",
      "    \"capacity\": 7.12\n",
      "  },\n",
      "  {\n",
      "    \"item\": \"051718\",\n",
      "    \"machine\": \"0435\",\n",
      "    \"capacity\": 1.32\n",
      "  },\n",
      "  {\n",
      "    \"item\": \"051718\",\n",
      "    \"machine\": \"0439\",\n",
      "    \"capacity\": 3.0\n",
      "  },\n",
      "  {\n",
      "    \"item\": \"051718\",\n",
      "    \"machine\": \"0440\",\n",
      "    \"capacity\": 1.83\n",
      "  },\n",
      "  {\n",
      "    \"item\": \"056984\",\n",
      "    \"machine\": \"0408\",\n",
      "    \"capacity\": 4.42\n",
      "  },\n",
      "  {\n",
      "    \"item\": \"056984\",\n",
      "    \"machine\": \"0409\",\n",
      "    \"capacity\": 4.03\n",
      "  },\n",
      "  {\n",
      "    \"item\": \"056984\",\n",
      "    \"machine\": \"0410\",\n",
      "    \"capacity\": 5.32\n",
      "  },\n",
      "  {\n",
      "    \"item\": \"056984\",\n",
      "    \"machine\": \"0416\",\n",
      "    \"capacity\": 4.0\n",
      "  },\n",
      "  {\n",
      "    \"item\": \"056984\",\n",
      "    \"machine\": \"0424\",\n",
      "    \"capacity\": 4.8\n",
      "  },\n",
      "  {\n",
      "    \"item\": \"056984\",\n",
      "    \"machine\": \"0433\",\n",
      "    \"capacity\": 4.33\n",
      "  },\n",
      "  {\n",
      "    \"item\": \"056984\",\n",
      "    \"machine\": \"0434\",\n",
      "    \"capacity\": 5.32\n",
      "  },\n",
      "  {\n",
      "    \"item\": \"056984\",\n",
      "    \"machine\": \"0439\",\n",
      "    \"capacity\": 5.25\n",
      "  },\n",
      "  {\n",
      "    \"item\": \"056984\",\n",
      "    \"machine\": \"0440\",\n",
      "    \"capacity\": 4.5\n",
      "  },\n",
      "  {\n",
      "    \"item\": \"057791\",\n",
      "    \"machine\": \"0401\",\n",
      "    \"capacity\": 5.88\n",
      "  },\n",
      "  {\n",
      "    \"item\": \"057791\",\n",
      "    \"machine\": \"0403\",\n",
      "    \"capacity\": 6.5\n",
      "  },\n",
      "  {\n",
      "    \"item\": \"057791\",\n",
      "    \"machine\": \"0405\",\n",
      "    \"capacity\": 11.64\n",
      "  },\n",
      "  {\n",
      "    \"item\": \"057791\",\n",
      "    \"machine\": \"0419\",\n",
      "    \"capacity\": 12.0\n",
      "  },\n",
      "  {\n",
      "    \"item\": \"057791\",\n",
      "    \"machine\": \"0420\",\n",
      "    \"capacity\": 11.82\n",
      "  },\n",
      "  {\n",
      "    \"item\": \"057791\",\n",
      "    \"machine\": \"0421\",\n",
      "    \"capacity\": 10.0\n",
      "  },\n",
      "  {\n",
      "    \"item\": \"057791\",\n",
      "    \"machine\": \"0422\",\n",
      "    \"capacity\": 11.37\n",
      "  },\n",
      "  {\n",
      "    \"item\": \"057791\",\n",
      "    \"machine\": \"0424\",\n",
      "    \"capacity\": 7.85\n",
      "  },\n",
      "  {\n",
      "    \"item\": \"057791\",\n",
      "    \"machine\": \"0437\",\n",
      "    \"capacity\": 5.49\n",
      "  },\n",
      "  {\n",
      "    \"item\": \"057791\",\n",
      "    \"machine\": \"0438\",\n",
      "    \"capacity\": 6.9\n",
      "  },\n",
      "  {\n",
      "    \"item\": \"K03948\",\n",
      "    \"machine\": \"0401\",\n",
      "    \"capacity\": 5.54\n",
      "  },\n",
      "  {\n",
      "    \"item\": \"K03948\",\n",
      "    \"machine\": \"0402\",\n",
      "    \"capacity\": 10.0\n",
      "  },\n",
      "  {\n",
      "    \"item\": \"K03948\",\n",
      "    \"machine\": \"0403\",\n",
      "    \"capacity\": 6.97\n",
      "  },\n",
      "  {\n",
      "    \"item\": \"K03948\",\n",
      "    \"machine\": \"0405\",\n",
      "    \"capacity\": 7.92\n",
      "  },\n",
      "  {\n",
      "    \"item\": \"K03948\",\n",
      "    \"machine\": \"0406\",\n",
      "    \"capacity\": 6.5\n",
      "  },\n",
      "  {\n",
      "    \"item\": \"K03948\",\n",
      "    \"machine\": \"0416\",\n",
      "    \"capacity\": 8.65\n",
      "  },\n",
      "  {\n",
      "    \"item\": \"K03948\",\n",
      "    \"machine\": \"0418\",\n",
      "    \"capacity\": 6.0\n",
      "  },\n",
      "  {\n",
      "    \"item\": \"K03948\",\n",
      "    \"machine\": \"0419\",\n",
      "    \"capacity\": 7.27\n",
      "  },\n",
      "  {\n",
      "    \"item\": \"K03948\",\n",
      "    \"machine\": \"0420\",\n",
      "    \"capacity\": 12.16\n",
      "  },\n",
      "  {\n",
      "    \"item\": \"K03948\",\n",
      "    \"machine\": \"0421\",\n",
      "    \"capacity\": 4.4\n",
      "  },\n",
      "  {\n",
      "    \"item\": \"K03948\",\n",
      "    \"machine\": \"0422\",\n",
      "    \"capacity\": 6.89\n",
      "  },\n",
      "  {\n",
      "    \"item\": \"K03948\",\n",
      "    \"machine\": \"0437\",\n",
      "    \"capacity\": 6.09\n",
      "  },\n",
      "  {\n",
      "    \"item\": \"K03948\",\n",
      "    \"machine\": \"0438\",\n",
      "    \"capacity\": 5.18\n",
      "  }\n",
      "]\n"
     ]
    }
   ],
   "source": [
    "print(temp['condition'])"
   ]
  },
  {
   "cell_type": "code",
   "execution_count": 63,
   "id": "23445c12",
   "metadata": {},
   "outputs": [
    {
     "name": "stdout",
     "output_type": "stream",
     "text": [
      "[\n",
      "  {\n",
      "    \"item\": \"K04033\",\n",
      "    \"machine\": \"0405\",\n",
      "    \"time\": \"2021-05-13\",\n",
      "    \"qty\": 14\n",
      "  },\n",
      "  {\n",
      "    \"item\": \"K04033\",\n",
      "    \"machine\": \"0409\",\n",
      "    \"time\": \"2021-05-13\",\n",
      "    \"qty\": 42\n",
      "  },\n",
      "  {\n",
      "    \"item\": \"K04033\",\n",
      "    \"machine\": \"0422\",\n",
      "    \"time\": \"2021-05-13\",\n",
      "    \"qty\": 4\n",
      "  },\n",
      "  {\n",
      "    \"item\": \"K04033\",\n",
      "    \"machine\": \"0424\",\n",
      "    \"time\": \"2021-05-13\",\n",
      "    \"qty\": 55\n",
      "  },\n",
      "  {\n",
      "    \"item\": \"K04033\",\n",
      "    \"machine\": \"0433\",\n",
      "    \"time\": \"2021-05-13\",\n",
      "    \"qty\": 49\n",
      "  },\n",
      "  {\n",
      "    \"item\": \"K04033\",\n",
      "    \"machine\": \"0435\",\n",
      "    \"time\": \"2021-05-13\",\n",
      "    \"qty\": 33\n",
      "  },\n",
      "  {\n",
      "    \"item\": \"K04033\",\n",
      "    \"machine\": \"0436\",\n",
      "    \"time\": \"2021-05-13\",\n",
      "    \"qty\": 26\n",
      "  },\n",
      "  {\n",
      "    \"item\": \"056984\",\n",
      "    \"machine\": \"0408\",\n",
      "    \"time\": \"2021-06-03\",\n",
      "    \"qty\": 3\n",
      "  },\n",
      "  {\n",
      "    \"item\": \"056984\",\n",
      "    \"machine\": \"0409\",\n",
      "    \"time\": \"2021-06-03\",\n",
      "    \"qty\": 1\n",
      "  },\n",
      "  {\n",
      "    \"item\": \"056984\",\n",
      "    \"machine\": \"0410\",\n",
      "    \"time\": \"2021-06-03\",\n",
      "    \"qty\": 3\n",
      "  },\n",
      "  {\n",
      "    \"item\": \"056984\",\n",
      "    \"machine\": \"0424\",\n",
      "    \"time\": \"2021-06-03\",\n",
      "    \"qty\": 4\n",
      "  },\n",
      "  {\n",
      "    \"item\": \"056984\",\n",
      "    \"machine\": \"0434\",\n",
      "    \"time\": \"2021-06-03\",\n",
      "    \"qty\": 3\n",
      "  },\n",
      "  {\n",
      "    \"item\": \"056984\",\n",
      "    \"machine\": \"0439\",\n",
      "    \"time\": \"2021-06-03\",\n",
      "    \"qty\": 2\n",
      "  },\n",
      "  {\n",
      "    \"item\": \"056984\",\n",
      "    \"machine\": \"0440\",\n",
      "    \"time\": \"2021-06-03\",\n",
      "    \"qty\": 1\n",
      "  },\n",
      "  {\n",
      "    \"item\": \"057791\",\n",
      "    \"machine\": \"0421\",\n",
      "    \"time\": \"2021-06-18\",\n",
      "    \"qty\": 26\n",
      "  },\n",
      "  {\n",
      "    \"item\": \"057791\",\n",
      "    \"machine\": \"0437\",\n",
      "    \"time\": \"2021-06-18\",\n",
      "    \"qty\": 72\n",
      "  },\n",
      "  {\n",
      "    \"item\": \"057791\",\n",
      "    \"machine\": \"0438\",\n",
      "    \"time\": \"2021-06-18\",\n",
      "    \"qty\": 83\n",
      "  },\n",
      "  {\n",
      "    \"item\": \"K04031\",\n",
      "    \"machine\": \"0407\",\n",
      "    \"time\": \"2021-05-24\",\n",
      "    \"qty\": 115\n",
      "  },\n",
      "  {\n",
      "    \"item\": \"K04031\",\n",
      "    \"machine\": \"0410\",\n",
      "    \"time\": \"2021-05-24\",\n",
      "    \"qty\": 89\n",
      "  },\n",
      "  {\n",
      "    \"item\": \"K04031\",\n",
      "    \"machine\": \"0416\",\n",
      "    \"time\": \"2021-05-24\",\n",
      "    \"qty\": 35\n",
      "  },\n",
      "  {\n",
      "    \"item\": \"K04031\",\n",
      "    \"machine\": \"0424\",\n",
      "    \"time\": \"2021-05-24\",\n",
      "    \"qty\": 50\n",
      "  },\n",
      "  {\n",
      "    \"item\": \"K04031\",\n",
      "    \"machine\": \"0425\",\n",
      "    \"time\": \"2021-05-24\",\n",
      "    \"qty\": 6\n",
      "  },\n",
      "  {\n",
      "    \"item\": \"K03948\",\n",
      "    \"machine\": \"0406\",\n",
      "    \"time\": \"2021-06-18\",\n",
      "    \"qty\": 39\n",
      "  },\n",
      "  {\n",
      "    \"item\": \"K03948\",\n",
      "    \"machine\": \"0416\",\n",
      "    \"time\": \"2021-06-18\",\n",
      "    \"qty\": 2\n",
      "  },\n",
      "  {\n",
      "    \"item\": \"K03948\",\n",
      "    \"machine\": \"0418\",\n",
      "    \"time\": \"2021-06-18\",\n",
      "    \"qty\": 16\n",
      "  },\n",
      "  {\n",
      "    \"item\": \"K03948\",\n",
      "    \"machine\": \"0421\",\n",
      "    \"time\": \"2021-06-18\",\n",
      "    \"qty\": 2\n",
      "  },\n",
      "  {\n",
      "    \"item\": \"K03948\",\n",
      "    \"machine\": \"0437\",\n",
      "    \"time\": \"2021-06-18\",\n",
      "    \"qty\": 12\n",
      "  },\n",
      "  {\n",
      "    \"item\": \"K03948\",\n",
      "    \"machine\": \"0438\",\n",
      "    \"time\": \"2021-06-18\",\n",
      "    \"qty\": 3\n",
      "  },\n",
      "  {\n",
      "    \"item\": \"052996\",\n",
      "    \"machine\": \"0410\",\n",
      "    \"time\": \"2021-02-18\",\n",
      "    \"qty\": 1\n",
      "  },\n",
      "  {\n",
      "    \"item\": \"052996\",\n",
      "    \"machine\": \"0421\",\n",
      "    \"time\": \"2021-02-18\",\n",
      "    \"qty\": 2\n",
      "  },\n",
      "  {\n",
      "    \"item\": \"051718\",\n",
      "    \"machine\": \"0408\",\n",
      "    \"time\": \"2021-05-30\",\n",
      "    \"qty\": 7\n",
      "  },\n",
      "  {\n",
      "    \"item\": \"051718\",\n",
      "    \"machine\": \"0409\",\n",
      "    \"time\": \"2021-05-30\",\n",
      "    \"qty\": 14\n",
      "  },\n",
      "  {\n",
      "    \"item\": \"051718\",\n",
      "    \"machine\": \"0410\",\n",
      "    \"time\": \"2021-05-30\",\n",
      "    \"qty\": 19\n",
      "  },\n",
      "  {\n",
      "    \"item\": \"051718\",\n",
      "    \"machine\": \"0412\",\n",
      "    \"time\": \"2021-05-30\",\n",
      "    \"qty\": 3\n",
      "  },\n",
      "  {\n",
      "    \"item\": \"051718\",\n",
      "    \"machine\": \"0416\",\n",
      "    \"time\": \"2021-05-30\",\n",
      "    \"qty\": 15\n",
      "  },\n",
      "  {\n",
      "    \"item\": \"051718\",\n",
      "    \"machine\": \"0424\",\n",
      "    \"time\": \"2021-05-30\",\n",
      "    \"qty\": 11\n",
      "  },\n",
      "  {\n",
      "    \"item\": \"051718\",\n",
      "    \"machine\": \"0425\",\n",
      "    \"time\": \"2021-05-30\",\n",
      "    \"qty\": 15\n",
      "  },\n",
      "  {\n",
      "    \"item\": \"051718\",\n",
      "    \"machine\": \"0426\",\n",
      "    \"time\": \"2021-05-30\",\n",
      "    \"qty\": 15\n",
      "  },\n",
      "  {\n",
      "    \"item\": \"051718\",\n",
      "    \"machine\": \"0433\",\n",
      "    \"time\": \"2021-05-30\",\n",
      "    \"qty\": 4\n",
      "  },\n",
      "  {\n",
      "    \"item\": \"051718\",\n",
      "    \"machine\": \"0434\",\n",
      "    \"time\": \"2021-05-30\",\n",
      "    \"qty\": 5\n",
      "  },\n",
      "  {\n",
      "    \"item\": \"051718\",\n",
      "    \"machine\": \"0435\",\n",
      "    \"time\": \"2021-05-30\",\n",
      "    \"qty\": 8\n",
      "  },\n",
      "  {\n",
      "    \"item\": \"051718\",\n",
      "    \"machine\": \"0439\",\n",
      "    \"time\": \"2021-05-30\",\n",
      "    \"qty\": 19\n",
      "  },\n",
      "  {\n",
      "    \"item\": \"051718\",\n",
      "    \"machine\": \"0440\",\n",
      "    \"time\": \"2021-05-30\",\n",
      "    \"qty\": 11\n",
      "  }\n",
      "]\n"
     ]
    }
   ],
   "source": [
    "print(temp['output'])"
   ]
  },
  {
   "cell_type": "code",
   "execution_count": 64,
   "id": "73099356",
   "metadata": {},
   "outputs": [
    {
     "data": {
      "text/html": [
       "<div>\n",
       "<style scoped>\n",
       "    .dataframe tbody tr th:only-of-type {\n",
       "        vertical-align: middle;\n",
       "    }\n",
       "\n",
       "    .dataframe tbody tr th {\n",
       "        vertical-align: top;\n",
       "    }\n",
       "\n",
       "    .dataframe thead th {\n",
       "        text-align: right;\n",
       "    }\n",
       "</style>\n",
       "<table border=\"1\" class=\"dataframe\">\n",
       "  <thead>\n",
       "    <tr style=\"text-align: right;\">\n",
       "      <th></th>\n",
       "      <th>input</th>\n",
       "      <th>condition</th>\n",
       "      <th>output</th>\n",
       "    </tr>\n",
       "  </thead>\n",
       "  <tbody>\n",
       "    <tr>\n",
       "      <th>0</th>\n",
       "      <td>• K04033 맞지? 318개 하는거? 21년 5월 13일까지 하면 되구 단가가 ...</td>\n",
       "      <td>[\\n  {\\n    \"item\": \"S00341\",\\n    \"machine\": ...</td>\n",
       "      <td>[\\n  {\\n    \"item\": \"K04033\",\\n    \"machine\": ...</td>\n",
       "    </tr>\n",
       "    <tr>\n",
       "      <th>1</th>\n",
       "      <td>• 헐 방금 K04031 도면 왔는데 21년 5월 24일까지래. 383개 해야되구 ...</td>\n",
       "      <td>[\\n  {\\n    \"item\": \"S00341\",\\n    \"machine\": ...</td>\n",
       "      <td>[\\n  {\\n    \"item\": \"056984\",\\n    \"machine\": ...</td>\n",
       "    </tr>\n",
       "    <tr>\n",
       "      <th>2</th>\n",
       "      <td>• 저기 051718 도면 19개 해야돼. 21년 5월 30일까지구 8,333원. ...</td>\n",
       "      <td>[\\n  {\\n    \"item\": \"S00341\",\\n    \"machine\": ...</td>\n",
       "      <td>[\\n  {\\n    \"item\": \"056984\",\\n    \"machine\": ...</td>\n",
       "    </tr>\n",
       "    <tr>\n",
       "      <th>3</th>\n",
       "      <td>• 어우 빨리 봐봐. 056984 4개 21년 6월 3일까지 해야되는데 어떡하지? ...</td>\n",
       "      <td>[\\n  {\\n    \"item\": \"S00341\",\\n    \"machine\": ...</td>\n",
       "      <td>[\\n  {\\n    \"item\": \"057791\",\\n    \"machine\": ...</td>\n",
       "    </tr>\n",
       "    <tr>\n",
       "      <th>4</th>\n",
       "      <td>• 057791 맞지? 196개 하는거? 21년 6월 18일까지 하면 되구 단가가 ...</td>\n",
       "      <td>[\\n  {\\n    \"item\": \"S00341\",\\n    \"machine\": ...</td>\n",
       "      <td>[\\n  {\\n    \"item\": \"057791\",\\n    \"machine\": ...</td>\n",
       "    </tr>\n",
       "  </tbody>\n",
       "</table>\n",
       "</div>"
      ],
      "text/plain": [
       "                                               input  \\\n",
       "0  • K04033 맞지? 318개 하는거? 21년 5월 13일까지 하면 되구 단가가 ...   \n",
       "1  • 헐 방금 K04031 도면 왔는데 21년 5월 24일까지래. 383개 해야되구 ...   \n",
       "2  • 저기 051718 도면 19개 해야돼. 21년 5월 30일까지구 8,333원. ...   \n",
       "3  • 어우 빨리 봐봐. 056984 4개 21년 6월 3일까지 해야되는데 어떡하지? ...   \n",
       "4  • 057791 맞지? 196개 하는거? 21년 6월 18일까지 하면 되구 단가가 ...   \n",
       "\n",
       "                                           condition  \\\n",
       "0  [\\n  {\\n    \"item\": \"S00341\",\\n    \"machine\": ...   \n",
       "1  [\\n  {\\n    \"item\": \"S00341\",\\n    \"machine\": ...   \n",
       "2  [\\n  {\\n    \"item\": \"S00341\",\\n    \"machine\": ...   \n",
       "3  [\\n  {\\n    \"item\": \"S00341\",\\n    \"machine\": ...   \n",
       "4  [\\n  {\\n    \"item\": \"S00341\",\\n    \"machine\": ...   \n",
       "\n",
       "                                              output  \n",
       "0  [\\n  {\\n    \"item\": \"K04033\",\\n    \"machine\": ...  \n",
       "1  [\\n  {\\n    \"item\": \"056984\",\\n    \"machine\": ...  \n",
       "2  [\\n  {\\n    \"item\": \"056984\",\\n    \"machine\": ...  \n",
       "3  [\\n  {\\n    \"item\": \"057791\",\\n    \"machine\": ...  \n",
       "4  [\\n  {\\n    \"item\": \"057791\",\\n    \"machine\": ...  "
      ]
     },
     "execution_count": 64,
     "metadata": {},
     "output_type": "execute_result"
    }
   ],
   "source": [
    "import pandas as pd\n",
    "\n",
    "df = pd.DataFrame(dataset)  # 각 dict가 행(row)이 되고 key는 열(column)\n",
    "\n",
    "df.head()"
   ]
  },
  {
   "cell_type": "code",
   "execution_count": 65,
   "id": "df027d01",
   "metadata": {},
   "outputs": [],
   "source": [
    "df.to_csv('./dataset_118.csv', index=False)"
   ]
  },
  {
   "cell_type": "code",
   "execution_count": 12,
   "id": "ede034fb",
   "metadata": {},
   "outputs": [],
   "source": [
    "# 데이터 형식 수정 2025-05-22"
   ]
  },
  {
   "cell_type": "code",
   "execution_count": 25,
   "id": "92386dbf",
   "metadata": {},
   "outputs": [
    {
     "data": {
      "text/html": [
       "<div>\n",
       "<style scoped>\n",
       "    .dataframe tbody tr th:only-of-type {\n",
       "        vertical-align: middle;\n",
       "    }\n",
       "\n",
       "    .dataframe tbody tr th {\n",
       "        vertical-align: top;\n",
       "    }\n",
       "\n",
       "    .dataframe thead th {\n",
       "        text-align: right;\n",
       "    }\n",
       "</style>\n",
       "<table border=\"1\" class=\"dataframe\">\n",
       "  <thead>\n",
       "    <tr style=\"text-align: right;\">\n",
       "      <th></th>\n",
       "      <th>input</th>\n",
       "      <th>condition</th>\n",
       "      <th>output</th>\n",
       "    </tr>\n",
       "  </thead>\n",
       "  <tbody>\n",
       "    <tr>\n",
       "      <th>0</th>\n",
       "      <td>• K04033 맞지? 318개 하는거? 21년 5월 13일까지 하면 되구 단가가 ...</td>\n",
       "      <td>[\\n  {\\n    \"item\": \"S00341\",\\n    \"machine\": ...</td>\n",
       "      <td>[\\n  {\\n    \"item\": \"K04033\",\\n    \"machine\": ...</td>\n",
       "    </tr>\n",
       "    <tr>\n",
       "      <th>1</th>\n",
       "      <td>• 헐 방금 K04031 도면 왔는데 21년 5월 24일까지래. 383개 해야되구 ...</td>\n",
       "      <td>[\\n  {\\n    \"item\": \"S00341\",\\n    \"machine\": ...</td>\n",
       "      <td>[\\n  {\\n    \"item\": \"056984\",\\n    \"machine\": ...</td>\n",
       "    </tr>\n",
       "    <tr>\n",
       "      <th>2</th>\n",
       "      <td>• 저기 051718 도면 19개 해야돼. 21년 5월 30일까지구 8,333원. ...</td>\n",
       "      <td>[\\n  {\\n    \"item\": \"S00341\",\\n    \"machine\": ...</td>\n",
       "      <td>[\\n  {\\n    \"item\": \"056984\",\\n    \"machine\": ...</td>\n",
       "    </tr>\n",
       "    <tr>\n",
       "      <th>3</th>\n",
       "      <td>• 어우 빨리 봐봐. 056984 4개 21년 6월 3일까지 해야되는데 어떡하지? ...</td>\n",
       "      <td>[\\n  {\\n    \"item\": \"S00341\",\\n    \"machine\": ...</td>\n",
       "      <td>[\\n  {\\n    \"item\": \"057791\",\\n    \"machine\": ...</td>\n",
       "    </tr>\n",
       "    <tr>\n",
       "      <th>4</th>\n",
       "      <td>• 057791 맞지? 196개 하는거? 21년 6월 18일까지 하면 되구 단가가 ...</td>\n",
       "      <td>[\\n  {\\n    \"item\": \"S00341\",\\n    \"machine\": ...</td>\n",
       "      <td>[\\n  {\\n    \"item\": \"057791\",\\n    \"machine\": ...</td>\n",
       "    </tr>\n",
       "  </tbody>\n",
       "</table>\n",
       "</div>"
      ],
      "text/plain": [
       "                                               input  \\\n",
       "0  • K04033 맞지? 318개 하는거? 21년 5월 13일까지 하면 되구 단가가 ...   \n",
       "1  • 헐 방금 K04031 도면 왔는데 21년 5월 24일까지래. 383개 해야되구 ...   \n",
       "2  • 저기 051718 도면 19개 해야돼. 21년 5월 30일까지구 8,333원. ...   \n",
       "3  • 어우 빨리 봐봐. 056984 4개 21년 6월 3일까지 해야되는데 어떡하지? ...   \n",
       "4  • 057791 맞지? 196개 하는거? 21년 6월 18일까지 하면 되구 단가가 ...   \n",
       "\n",
       "                                           condition  \\\n",
       "0  [\\n  {\\n    \"item\": \"S00341\",\\n    \"machine\": ...   \n",
       "1  [\\n  {\\n    \"item\": \"S00341\",\\n    \"machine\": ...   \n",
       "2  [\\n  {\\n    \"item\": \"S00341\",\\n    \"machine\": ...   \n",
       "3  [\\n  {\\n    \"item\": \"S00341\",\\n    \"machine\": ...   \n",
       "4  [\\n  {\\n    \"item\": \"S00341\",\\n    \"machine\": ...   \n",
       "\n",
       "                                              output  \n",
       "0  [\\n  {\\n    \"item\": \"K04033\",\\n    \"machine\": ...  \n",
       "1  [\\n  {\\n    \"item\": \"056984\",\\n    \"machine\": ...  \n",
       "2  [\\n  {\\n    \"item\": \"056984\",\\n    \"machine\": ...  \n",
       "3  [\\n  {\\n    \"item\": \"057791\",\\n    \"machine\": ...  \n",
       "4  [\\n  {\\n    \"item\": \"057791\",\\n    \"machine\": ...  "
      ]
     },
     "execution_count": 25,
     "metadata": {},
     "output_type": "execute_result"
    }
   ],
   "source": [
    "dataset = pd.read_csv(\"./dataset_118.csv\")\n",
    "dataset.head()"
   ]
  },
  {
   "cell_type": "code",
   "execution_count": 26,
   "id": "f9282255",
   "metadata": {},
   "outputs": [
    {
     "data": {
      "text/html": [
       "<div>\n",
       "<style scoped>\n",
       "    .dataframe tbody tr th:only-of-type {\n",
       "        vertical-align: middle;\n",
       "    }\n",
       "\n",
       "    .dataframe tbody tr th {\n",
       "        vertical-align: top;\n",
       "    }\n",
       "\n",
       "    .dataframe thead th {\n",
       "        text-align: right;\n",
       "    }\n",
       "</style>\n",
       "<table border=\"1\" class=\"dataframe\">\n",
       "  <thead>\n",
       "    <tr style=\"text-align: right;\">\n",
       "      <th></th>\n",
       "      <th>nl_order</th>\n",
       "    </tr>\n",
       "  </thead>\n",
       "  <tbody>\n",
       "    <tr>\n",
       "      <th>0</th>\n",
       "      <td>K04033, right? 318? You can do it by May 13th,...</td>\n",
       "    </tr>\n",
       "    <tr>\n",
       "      <th>1</th>\n",
       "      <td>Oh, I just got the K04031 drawing, and it says...</td>\n",
       "    </tr>\n",
       "    <tr>\n",
       "      <th>2</th>\n",
       "      <td>There, I need to do 19 drawings for 051718. It...</td>\n",
       "    </tr>\n",
       "    <tr>\n",
       "      <th>3</th>\n",
       "      <td>Hey, look quickly. 056984 4 I have to do it by...</td>\n",
       "    </tr>\n",
       "    <tr>\n",
       "      <th>4</th>\n",
       "      <td>057791, right? Doing 196? You can do it until ...</td>\n",
       "    </tr>\n",
       "  </tbody>\n",
       "</table>\n",
       "</div>"
      ],
      "text/plain": [
       "                                            nl_order\n",
       "0  K04033, right? 318? You can do it by May 13th,...\n",
       "1  Oh, I just got the K04031 drawing, and it says...\n",
       "2  There, I need to do 19 drawings for 051718. It...\n",
       "3  Hey, look quickly. 056984 4 I have to do it by...\n",
       "4  057791, right? Doing 196? You can do it until ..."
      ]
     },
     "execution_count": 26,
     "metadata": {},
     "output_type": "execute_result"
    }
   ],
   "source": [
    "order_info_nl_eng = pd.read_csv(\"./data/order_info_nl_eng.csv\")\n",
    "order_info_nl_eng.columns = ['nl_order']\n",
    "order_info_nl_eng.head()"
   ]
  },
  {
   "cell_type": "code",
   "execution_count": 27,
   "id": "e33c5537",
   "metadata": {},
   "outputs": [
    {
     "data": {
      "text/html": [
       "<div>\n",
       "<style scoped>\n",
       "    .dataframe tbody tr th:only-of-type {\n",
       "        vertical-align: middle;\n",
       "    }\n",
       "\n",
       "    .dataframe tbody tr th {\n",
       "        vertical-align: top;\n",
       "    }\n",
       "\n",
       "    .dataframe thead th {\n",
       "        text-align: right;\n",
       "    }\n",
       "</style>\n",
       "<table border=\"1\" class=\"dataframe\">\n",
       "  <thead>\n",
       "    <tr style=\"text-align: right;\">\n",
       "      <th></th>\n",
       "      <th>nl_order</th>\n",
       "    </tr>\n",
       "  </thead>\n",
       "  <tbody>\n",
       "    <tr>\n",
       "      <th>0</th>\n",
       "      <td>K04033, right? 318? You can do it by May 13th,...</td>\n",
       "    </tr>\n",
       "    <tr>\n",
       "      <th>1</th>\n",
       "      <td>Oh, I just got the K04031 drawing, and it says...</td>\n",
       "    </tr>\n",
       "    <tr>\n",
       "      <th>2</th>\n",
       "      <td>There, I need to do 19 drawings for 051718. It...</td>\n",
       "    </tr>\n",
       "    <tr>\n",
       "      <th>3</th>\n",
       "      <td>Hey, look quickly. 056984 4 I have to do it by...</td>\n",
       "    </tr>\n",
       "    <tr>\n",
       "      <th>4</th>\n",
       "      <td>057791, right? Doing 196? You can do it until ...</td>\n",
       "    </tr>\n",
       "    <tr>\n",
       "      <th>5</th>\n",
       "      <td>Look at this. They want 85 K03948s, but they s...</td>\n",
       "    </tr>\n",
       "    <tr>\n",
       "      <th>6</th>\n",
       "      <td>Check this out. S00341 500 units, until Februa...</td>\n",
       "    </tr>\n",
       "    <tr>\n",
       "      <th>7</th>\n",
       "      <td>Wait, check this. Are these 2 drawings for 052...</td>\n",
       "    </tr>\n",
       "    <tr>\n",
       "      <th>8</th>\n",
       "      <td>Hey, this seems urgent. I need to get 500 S003...</td>\n",
       "    </tr>\n",
       "    <tr>\n",
       "      <th>9</th>\n",
       "      <td>There, I need to do 500 S00341 drawings. It's ...</td>\n",
       "    </tr>\n",
       "  </tbody>\n",
       "</table>\n",
       "</div>"
      ],
      "text/plain": [
       "                                            nl_order\n",
       "0  K04033, right? 318? You can do it by May 13th,...\n",
       "1  Oh, I just got the K04031 drawing, and it says...\n",
       "2  There, I need to do 19 drawings for 051718. It...\n",
       "3  Hey, look quickly. 056984 4 I have to do it by...\n",
       "4  057791, right? Doing 196? You can do it until ...\n",
       "5  Look at this. They want 85 K03948s, but they s...\n",
       "6  Check this out. S00341 500 units, until Februa...\n",
       "7  Wait, check this. Are these 2 drawings for 052...\n",
       "8  Hey, this seems urgent. I need to get 500 S003...\n",
       "9  There, I need to do 500 S00341 drawings. It's ..."
      ]
     },
     "execution_count": 27,
     "metadata": {},
     "output_type": "execute_result"
    }
   ],
   "source": [
    "inputs = create_shifted_dataset(order_info_nl_eng, window_size=10)\n",
    "input\n",
    "inputs[0]"
   ]
  },
  {
   "cell_type": "code",
   "execution_count": 28,
   "id": "8aeeb0b8",
   "metadata": {},
   "outputs": [
    {
     "data": {
      "text/plain": [
       "[\"• K04033, right? 318? You can do it by May 13th, 2021, and the unit price is 25,870 won. Oh, and the inspection product.\\n• Oh, I just got the K04031 drawing, and it says it's due on May 24th, 2021. I need to do 383 of them, and it costs 16,229 won, and it's an inspection item.\\n• There, I need to do 19 drawings for 051718. It's until May 30th, 2021. It's 8,333 won. And nothing special.\\n• Hey, look quickly. 056984 4 I have to do it by June 3rd, 2021. What should I do? The unit price is 36,533 won and there's nothing special about it.\\n• 057791, right? Doing 196? You can do it until June 18th, 2021, and the unit price is 45,500 won. Oh, and the inspection product\\n• Look at this. They want 85 K03948s, but they say it's due by June 18, 2021. 57,641 won, inspection item.\\n• Check this out. S00341 500 units, until February 10th, 2021. 2,990 won, nothing special.\\n• Wait, check this. Are these 2 drawings for 052996? It's until February 18th, 2021, and it's 20,000 won? There's nothing special about it.\\n• Hey, this seems urgent. I need to get 500 S00341s by March 10th, 2021. The unit price is 2,990 won and there's nothing special about it.\\n• There, I need to do 500 S00341 drawings. It's until April 10th, 2021. It's 2,990 won. And nothing special.\",\n",
       " \"• Oh, I just got the K04031 drawing, and it says it's due on May 24th, 2021. I need to do 383 of them, and it costs 16,229 won, and it's an inspection item.\\n• There, I need to do 19 drawings for 051718. It's until May 30th, 2021. It's 8,333 won. And nothing special.\\n• Hey, look quickly. 056984 4 I have to do it by June 3rd, 2021. What should I do? The unit price is 36,533 won and there's nothing special about it.\\n• 057791, right? Doing 196? You can do it until June 18th, 2021, and the unit price is 45,500 won. Oh, and the inspection product\\n• Look at this. They want 85 K03948s, but they say it's due by June 18, 2021. 57,641 won, inspection item.\\n• Check this out. S00341 500 units, until February 10th, 2021. 2,990 won, nothing special.\\n• Wait, check this. Are these 2 drawings for 052996? It's until February 18th, 2021, and it's 20,000 won? There's nothing special about it.\\n• Hey, this seems urgent. I need to get 500 S00341s by March 10th, 2021. The unit price is 2,990 won and there's nothing special about it.\\n• There, I need to do 500 S00341 drawings. It's until April 10th, 2021. It's 2,990 won. And nothing special.\\n• S00341 You know? I have to do 398 of them, and it's until May 10th, 2021. It's 2,990 won, nothing special.\",\n",
       " \"• There, I need to do 19 drawings for 051718. It's until May 30th, 2021. It's 8,333 won. And nothing special.\\n• Hey, look quickly. 056984 4 I have to do it by June 3rd, 2021. What should I do? The unit price is 36,533 won and there's nothing special about it.\\n• 057791, right? Doing 196? You can do it until June 18th, 2021, and the unit price is 45,500 won. Oh, and the inspection product\\n• Look at this. They want 85 K03948s, but they say it's due by June 18, 2021. 57,641 won, inspection item.\\n• Check this out. S00341 500 units, until February 10th, 2021. 2,990 won, nothing special.\\n• Wait, check this. Are these 2 drawings for 052996? It's until February 18th, 2021, and it's 20,000 won? There's nothing special about it.\\n• Hey, this seems urgent. I need to get 500 S00341s by March 10th, 2021. The unit price is 2,990 won and there's nothing special about it.\\n• There, I need to do 500 S00341 drawings. It's until April 10th, 2021. It's 2,990 won. And nothing special.\\n• S00341 You know? I have to do 398 of them, and it's until May 10th, 2021. It's 2,990 won, nothing special.\\n• 066157 came. 208 need to be done and it's due on May 13th, 2021. Unit price 18,500 won. Oh, right, inspection items.\",\n",
       " \"• Hey, look quickly. 056984 4 I have to do it by June 3rd, 2021. What should I do? The unit price is 36,533 won and there's nothing special about it.\\n• 057791, right? Doing 196? You can do it until June 18th, 2021, and the unit price is 45,500 won. Oh, and the inspection product\\n• Look at this. They want 85 K03948s, but they say it's due by June 18, 2021. 57,641 won, inspection item.\\n• Check this out. S00341 500 units, until February 10th, 2021. 2,990 won, nothing special.\\n• Wait, check this. Are these 2 drawings for 052996? It's until February 18th, 2021, and it's 20,000 won? There's nothing special about it.\\n• Hey, this seems urgent. I need to get 500 S00341s by March 10th, 2021. The unit price is 2,990 won and there's nothing special about it.\\n• There, I need to do 500 S00341 drawings. It's until April 10th, 2021. It's 2,990 won. And nothing special.\\n• S00341 You know? I have to do 398 of them, and it's until May 10th, 2021. It's 2,990 won, nothing special.\\n• 066157 came. 208 need to be done and it's due on May 13th, 2021. Unit price 18,500 won. Oh, right, inspection items.\\n• Look at this. They want 15 K04101s, but they say it's until May 30th, 2021. 15,640 won, nothing special.\",\n",
       " \"• 057791, right? Doing 196? You can do it until June 18th, 2021, and the unit price is 45,500 won. Oh, and the inspection product\\n• Look at this. They want 85 K03948s, but they say it's due by June 18, 2021. 57,641 won, inspection item.\\n• Check this out. S00341 500 units, until February 10th, 2021. 2,990 won, nothing special.\\n• Wait, check this. Are these 2 drawings for 052996? It's until February 18th, 2021, and it's 20,000 won? There's nothing special about it.\\n• Hey, this seems urgent. I need to get 500 S00341s by March 10th, 2021. The unit price is 2,990 won and there's nothing special about it.\\n• There, I need to do 500 S00341 drawings. It's until April 10th, 2021. It's 2,990 won. And nothing special.\\n• S00341 You know? I have to do 398 of them, and it's until May 10th, 2021. It's 2,990 won, nothing special.\\n• 066157 came. 208 need to be done and it's due on May 13th, 2021. Unit price 18,500 won. Oh, right, inspection items.\\n• Look at this. They want 15 K04101s, but they say it's until May 30th, 2021. 15,640 won, nothing special.\\n• There's 052996 that came yesterday. I have to do two of those, and it's until May 30th, 2021. It's 20,000 won, and there's nothing special about it.\",\n",
       " \"• Look at this. They want 85 K03948s, but they say it's due by June 18, 2021. 57,641 won, inspection item.\\n• Check this out. S00341 500 units, until February 10th, 2021. 2,990 won, nothing special.\\n• Wait, check this. Are these 2 drawings for 052996? It's until February 18th, 2021, and it's 20,000 won? There's nothing special about it.\\n• Hey, this seems urgent. I need to get 500 S00341s by March 10th, 2021. The unit price is 2,990 won and there's nothing special about it.\\n• There, I need to do 500 S00341 drawings. It's until April 10th, 2021. It's 2,990 won. And nothing special.\\n• S00341 You know? I have to do 398 of them, and it's until May 10th, 2021. It's 2,990 won, nothing special.\\n• 066157 came. 208 need to be done and it's due on May 13th, 2021. Unit price 18,500 won. Oh, right, inspection items.\\n• Look at this. They want 15 K04101s, but they say it's until May 30th, 2021. 15,640 won, nothing special.\\n• There's 052996 that came yesterday. I have to do two of those, and it's until May 30th, 2021. It's 20,000 won, and there's nothing special about it.\\n• I want 150 of these S00271. They have to be done by May 31st, 2021, and the unit price is 4,000 won. Oh, and there's nothing special about it.\",\n",
       " \"• Check this out. S00341 500 units, until February 10th, 2021. 2,990 won, nothing special.\\n• Wait, check this. Are these 2 drawings for 052996? It's until February 18th, 2021, and it's 20,000 won? There's nothing special about it.\\n• Hey, this seems urgent. I need to get 500 S00341s by March 10th, 2021. The unit price is 2,990 won and there's nothing special about it.\\n• There, I need to do 500 S00341 drawings. It's until April 10th, 2021. It's 2,990 won. And nothing special.\\n• S00341 You know? I have to do 398 of them, and it's until May 10th, 2021. It's 2,990 won, nothing special.\\n• 066157 came. 208 need to be done and it's due on May 13th, 2021. Unit price 18,500 won. Oh, right, inspection items.\\n• Look at this. They want 15 K04101s, but they say it's until May 30th, 2021. 15,640 won, nothing special.\\n• There's 052996 that came yesterday. I have to do two of those, and it's until May 30th, 2021. It's 20,000 won, and there's nothing special about it.\\n• I want 150 of these S00271. They have to be done by May 31st, 2021, and the unit price is 4,000 won. Oh, and there's nothing special about it.\\n• I just got an urgent call for 057386. I have to do 144 of them by June 1, 2021. 22,750 won, DNVGL/W.\",\n",
       " \"• Wait, check this. Are these 2 drawings for 052996? It's until February 18th, 2021, and it's 20,000 won? There's nothing special about it.\\n• Hey, this seems urgent. I need to get 500 S00341s by March 10th, 2021. The unit price is 2,990 won and there's nothing special about it.\\n• There, I need to do 500 S00341 drawings. It's until April 10th, 2021. It's 2,990 won. And nothing special.\\n• S00341 You know? I have to do 398 of them, and it's until May 10th, 2021. It's 2,990 won, nothing special.\\n• 066157 came. 208 need to be done and it's due on May 13th, 2021. Unit price 18,500 won. Oh, right, inspection items.\\n• Look at this. They want 15 K04101s, but they say it's until May 30th, 2021. 15,640 won, nothing special.\\n• There's 052996 that came yesterday. I have to do two of those, and it's until May 30th, 2021. It's 20,000 won, and there's nothing special about it.\\n• I want 150 of these S00271. They have to be done by May 31st, 2021, and the unit price is 4,000 won. Oh, and there's nothing special about it.\\n• I just got an urgent call for 057386. I have to do 144 of them by June 1, 2021. 22,750 won, DNVGL/W.\\n• Please check this, 064421 2 is until June 1st, 2021? The unit price is 366,680 won and there is nothing special.\",\n",
       " \"• Hey, this seems urgent. I need to get 500 S00341s by March 10th, 2021. The unit price is 2,990 won and there's nothing special about it.\\n• There, I need to do 500 S00341 drawings. It's until April 10th, 2021. It's 2,990 won. And nothing special.\\n• S00341 You know? I have to do 398 of them, and it's until May 10th, 2021. It's 2,990 won, nothing special.\\n• 066157 came. 208 need to be done and it's due on May 13th, 2021. Unit price 18,500 won. Oh, right, inspection items.\\n• Look at this. They want 15 K04101s, but they say it's until May 30th, 2021. 15,640 won, nothing special.\\n• There's 052996 that came yesterday. I have to do two of those, and it's until May 30th, 2021. It's 20,000 won, and there's nothing special about it.\\n• I want 150 of these S00271. They have to be done by May 31st, 2021, and the unit price is 4,000 won. Oh, and there's nothing special about it.\\n• I just got an urgent call for 057386. I have to do 144 of them by June 1, 2021. 22,750 won, DNVGL/W.\\n• Please check this, 064421 2 is until June 1st, 2021? The unit price is 366,680 won and there is nothing special.\\n• There's 062138 that came yesterday. I have to do 20 of those, and it's until June 2, 2021. It's 18,563 won, and there's nothing special about it.\",\n",
       " \"• There, I need to do 500 S00341 drawings. It's until April 10th, 2021. It's 2,990 won. And nothing special.\\n• S00341 You know? I have to do 398 of them, and it's until May 10th, 2021. It's 2,990 won, nothing special.\\n• 066157 came. 208 need to be done and it's due on May 13th, 2021. Unit price 18,500 won. Oh, right, inspection items.\\n• Look at this. They want 15 K04101s, but they say it's until May 30th, 2021. 15,640 won, nothing special.\\n• There's 052996 that came yesterday. I have to do two of those, and it's until May 30th, 2021. It's 20,000 won, and there's nothing special about it.\\n• I want 150 of these S00271. They have to be done by May 31st, 2021, and the unit price is 4,000 won. Oh, and there's nothing special about it.\\n• I just got an urgent call for 057386. I have to do 144 of them by June 1, 2021. 22,750 won, DNVGL/W.\\n• Please check this, 064421 2 is until June 1st, 2021? The unit price is 366,680 won and there is nothing special.\\n• There's 062138 that came yesterday. I have to do 20 of those, and it's until June 2, 2021. It's 18,563 won, and there's nothing special about it.\\n• Is this 056984 4? It has to be done by June 2, 2021 and costs 14,835 won. There are no special conditions.\",\n",
       " \"• S00341 You know? I have to do 398 of them, and it's until May 10th, 2021. It's 2,990 won, nothing special.\\n• 066157 came. 208 need to be done and it's due on May 13th, 2021. Unit price 18,500 won. Oh, right, inspection items.\\n• Look at this. They want 15 K04101s, but they say it's until May 30th, 2021. 15,640 won, nothing special.\\n• There's 052996 that came yesterday. I have to do two of those, and it's until May 30th, 2021. It's 20,000 won, and there's nothing special about it.\\n• I want 150 of these S00271. They have to be done by May 31st, 2021, and the unit price is 4,000 won. Oh, and there's nothing special about it.\\n• I just got an urgent call for 057386. I have to do 144 of them by June 1, 2021. 22,750 won, DNVGL/W.\\n• Please check this, 064421 2 is until June 1st, 2021? The unit price is 366,680 won and there is nothing special.\\n• There's 062138 that came yesterday. I have to do 20 of those, and it's until June 2, 2021. It's 18,563 won, and there's nothing special about it.\\n• Is this 056984 4? It has to be done by June 2, 2021 and costs 14,835 won. There are no special conditions.\\n• 057791 came. I need to do 216 and it's due by June 3, 2021. Unit price 42,810 won. Oh, right, inspection items.\",\n",
       " \"• 066157 came. 208 need to be done and it's due on May 13th, 2021. Unit price 18,500 won. Oh, right, inspection items.\\n• Look at this. They want 15 K04101s, but they say it's until May 30th, 2021. 15,640 won, nothing special.\\n• There's 052996 that came yesterday. I have to do two of those, and it's until May 30th, 2021. It's 20,000 won, and there's nothing special about it.\\n• I want 150 of these S00271. They have to be done by May 31st, 2021, and the unit price is 4,000 won. Oh, and there's nothing special about it.\\n• I just got an urgent call for 057386. I have to do 144 of them by June 1, 2021. 22,750 won, DNVGL/W.\\n• Please check this, 064421 2 is until June 1st, 2021? The unit price is 366,680 won and there is nothing special.\\n• There's 062138 that came yesterday. I have to do 20 of those, and it's until June 2, 2021. It's 18,563 won, and there's nothing special about it.\\n• Is this 056984 4? It has to be done by June 2, 2021 and costs 14,835 won. There are no special conditions.\\n• 057791 came. I need to do 216 and it's due by June 3, 2021. Unit price 42,810 won. Oh, right, inspection items.\\n• Wait, check this. Is this drawing 069559 28? It's until June 4th, 2021, and costs 242,250 won? There are also inspection items.\",\n",
       " \"• Look at this. They want 15 K04101s, but they say it's until May 30th, 2021. 15,640 won, nothing special.\\n• There's 052996 that came yesterday. I have to do two of those, and it's until May 30th, 2021. It's 20,000 won, and there's nothing special about it.\\n• I want 150 of these S00271. They have to be done by May 31st, 2021, and the unit price is 4,000 won. Oh, and there's nothing special about it.\\n• I just got an urgent call for 057386. I have to do 144 of them by June 1, 2021. 22,750 won, DNVGL/W.\\n• Please check this, 064421 2 is until June 1st, 2021? The unit price is 366,680 won and there is nothing special.\\n• There's 062138 that came yesterday. I have to do 20 of those, and it's until June 2, 2021. It's 18,563 won, and there's nothing special about it.\\n• Is this 056984 4? It has to be done by June 2, 2021 and costs 14,835 won. There are no special conditions.\\n• 057791 came. I need to do 216 and it's due by June 3, 2021. Unit price 42,810 won. Oh, right, inspection items.\\n• Wait, check this. Is this drawing 069559 28? It's until June 4th, 2021, and costs 242,250 won? There are also inspection items.\\n• There, I need to do 64 drawings for 058039. It's until June 5th, 2021. It's 23,740 won. And nothing special.\",\n",
       " \"• There's 052996 that came yesterday. I have to do two of those, and it's until May 30th, 2021. It's 20,000 won, and there's nothing special about it.\\n• I want 150 of these S00271. They have to be done by May 31st, 2021, and the unit price is 4,000 won. Oh, and there's nothing special about it.\\n• I just got an urgent call for 057386. I have to do 144 of them by June 1, 2021. 22,750 won, DNVGL/W.\\n• Please check this, 064421 2 is until June 1st, 2021? The unit price is 366,680 won and there is nothing special.\\n• There's 062138 that came yesterday. I have to do 20 of those, and it's until June 2, 2021. It's 18,563 won, and there's nothing special about it.\\n• Is this 056984 4? It has to be done by June 2, 2021 and costs 14,835 won. There are no special conditions.\\n• 057791 came. I need to do 216 and it's due by June 3, 2021. Unit price 42,810 won. Oh, right, inspection items.\\n• Wait, check this. Is this drawing 069559 28? It's until June 4th, 2021, and costs 242,250 won? There are also inspection items.\\n• There, I need to do 64 drawings for 058039. It's until June 5th, 2021. It's 23,740 won. And nothing special.\\n• Oh, I need to do 48 drawings for 061088, but it's due by June 5th, 2021. The unit price is 11,500 won, and there's nothing special about it.\",\n",
       " \"• I want 150 of these S00271. They have to be done by May 31st, 2021, and the unit price is 4,000 won. Oh, and there's nothing special about it.\\n• I just got an urgent call for 057386. I have to do 144 of them by June 1, 2021. 22,750 won, DNVGL/W.\\n• Please check this, 064421 2 is until June 1st, 2021? The unit price is 366,680 won and there is nothing special.\\n• There's 062138 that came yesterday. I have to do 20 of those, and it's until June 2, 2021. It's 18,563 won, and there's nothing special about it.\\n• Is this 056984 4? It has to be done by June 2, 2021 and costs 14,835 won. There are no special conditions.\\n• 057791 came. I need to do 216 and it's due by June 3, 2021. Unit price 42,810 won. Oh, right, inspection items.\\n• Wait, check this. Is this drawing 069559 28? It's until June 4th, 2021, and costs 242,250 won? There are also inspection items.\\n• There, I need to do 64 drawings for 058039. It's until June 5th, 2021. It's 23,740 won. And nothing special.\\n• Oh, I need to do 48 drawings for 061088, but it's due by June 5th, 2021. The unit price is 11,500 won, and there's nothing special about it.\\n• 059046, right? Doing 5? You can do it until June 9, 2021, and the unit price is 7,752 won. Oh, and there's nothing special about it.\",\n",
       " \"• I just got an urgent call for 057386. I have to do 144 of them by June 1, 2021. 22,750 won, DNVGL/W.\\n• Please check this, 064421 2 is until June 1st, 2021? The unit price is 366,680 won and there is nothing special.\\n• There's 062138 that came yesterday. I have to do 20 of those, and it's until June 2, 2021. It's 18,563 won, and there's nothing special about it.\\n• Is this 056984 4? It has to be done by June 2, 2021 and costs 14,835 won. There are no special conditions.\\n• 057791 came. I need to do 216 and it's due by June 3, 2021. Unit price 42,810 won. Oh, right, inspection items.\\n• Wait, check this. Is this drawing 069559 28? It's until June 4th, 2021, and costs 242,250 won? There are also inspection items.\\n• There, I need to do 64 drawings for 058039. It's until June 5th, 2021. It's 23,740 won. And nothing special.\\n• Oh, I need to do 48 drawings for 061088, but it's due by June 5th, 2021. The unit price is 11,500 won, and there's nothing special about it.\\n• 059046, right? Doing 5? You can do it until June 9, 2021, and the unit price is 7,752 won. Oh, and there's nothing special about it.\\n• Oh, I need to do 318 K04033 drawings, but it's due by June 9th, 2021. The unit price is 25,870 won and it's an inspection item.\",\n",
       " \"• Please check this, 064421 2 is until June 1st, 2021? The unit price is 366,680 won and there is nothing special.\\n• There's 062138 that came yesterday. I have to do 20 of those, and it's until June 2, 2021. It's 18,563 won, and there's nothing special about it.\\n• Is this 056984 4? It has to be done by June 2, 2021 and costs 14,835 won. There are no special conditions.\\n• 057791 came. I need to do 216 and it's due by June 3, 2021. Unit price 42,810 won. Oh, right, inspection items.\\n• Wait, check this. Is this drawing 069559 28? It's until June 4th, 2021, and costs 242,250 won? There are also inspection items.\\n• There, I need to do 64 drawings for 058039. It's until June 5th, 2021. It's 23,740 won. And nothing special.\\n• Oh, I need to do 48 drawings for 061088, but it's due by June 5th, 2021. The unit price is 11,500 won, and there's nothing special about it.\\n• 059046, right? Doing 5? You can do it until June 9, 2021, and the unit price is 7,752 won. Oh, and there's nothing special about it.\\n• Oh, I need to do 318 K04033 drawings, but it's due by June 9th, 2021. The unit price is 25,870 won and it's an inspection item.\\n• Hey, look at this, is that 178 S00033? It's 5,050 won until June 10, 2021. And nothing special.\",\n",
       " \"• There's 062138 that came yesterday. I have to do 20 of those, and it's until June 2, 2021. It's 18,563 won, and there's nothing special about it.\\n• Is this 056984 4? It has to be done by June 2, 2021 and costs 14,835 won. There are no special conditions.\\n• 057791 came. I need to do 216 and it's due by June 3, 2021. Unit price 42,810 won. Oh, right, inspection items.\\n• Wait, check this. Is this drawing 069559 28? It's until June 4th, 2021, and costs 242,250 won? There are also inspection items.\\n• There, I need to do 64 drawings for 058039. It's until June 5th, 2021. It's 23,740 won. And nothing special.\\n• Oh, I need to do 48 drawings for 061088, but it's due by June 5th, 2021. The unit price is 11,500 won, and there's nothing special about it.\\n• 059046, right? Doing 5? You can do it until June 9, 2021, and the unit price is 7,752 won. Oh, and there's nothing special about it.\\n• Oh, I need to do 318 K04033 drawings, but it's due by June 9th, 2021. The unit price is 25,870 won and it's an inspection item.\\n• Hey, look at this, is that 178 S00033? It's 5,050 won until June 10, 2021. And nothing special.\\n• I just got the 064056 drawing. I need 24 of them. They have until June 10th, 2021. It costs 8,134 won. Nothing special.\",\n",
       " \"• Is this 056984 4? It has to be done by June 2, 2021 and costs 14,835 won. There are no special conditions.\\n• 057791 came. I need to do 216 and it's due by June 3, 2021. Unit price 42,810 won. Oh, right, inspection items.\\n• Wait, check this. Is this drawing 069559 28? It's until June 4th, 2021, and costs 242,250 won? There are also inspection items.\\n• There, I need to do 64 drawings for 058039. It's until June 5th, 2021. It's 23,740 won. And nothing special.\\n• Oh, I need to do 48 drawings for 061088, but it's due by June 5th, 2021. The unit price is 11,500 won, and there's nothing special about it.\\n• 059046, right? Doing 5? You can do it until June 9, 2021, and the unit price is 7,752 won. Oh, and there's nothing special about it.\\n• Oh, I need to do 318 K04033 drawings, but it's due by June 9th, 2021. The unit price is 25,870 won and it's an inspection item.\\n• Hey, look at this, is that 178 S00033? It's 5,050 won until June 10, 2021. And nothing special.\\n• I just got the 064056 drawing. I need 24 of them. They have until June 10th, 2021. It costs 8,134 won. Nothing special.\\n• Hey, look at this, is it 069769 42? It's until June 10th, 2021, 64,130 won. And nothing special.\",\n",
       " \"• 057791 came. I need to do 216 and it's due by June 3, 2021. Unit price 42,810 won. Oh, right, inspection items.\\n• Wait, check this. Is this drawing 069559 28? It's until June 4th, 2021, and costs 242,250 won? There are also inspection items.\\n• There, I need to do 64 drawings for 058039. It's until June 5th, 2021. It's 23,740 won. And nothing special.\\n• Oh, I need to do 48 drawings for 061088, but it's due by June 5th, 2021. The unit price is 11,500 won, and there's nothing special about it.\\n• 059046, right? Doing 5? You can do it until June 9, 2021, and the unit price is 7,752 won. Oh, and there's nothing special about it.\\n• Oh, I need to do 318 K04033 drawings, but it's due by June 9th, 2021. The unit price is 25,870 won and it's an inspection item.\\n• Hey, look at this, is that 178 S00033? It's 5,050 won until June 10, 2021. And nothing special.\\n• I just got the 064056 drawing. I need 24 of them. They have until June 10th, 2021. It costs 8,134 won. Nothing special.\\n• Hey, look at this, is it 069769 42? It's until June 10th, 2021, 64,130 won. And nothing special.\\n• Hey, look at this, is it 069770 42? It's until June 10th, 2021, 64,130 won. And nothing special.\",\n",
       " \"• Wait, check this. Is this drawing 069559 28? It's until June 4th, 2021, and costs 242,250 won? There are also inspection items.\\n• There, I need to do 64 drawings for 058039. It's until June 5th, 2021. It's 23,740 won. And nothing special.\\n• Oh, I need to do 48 drawings for 061088, but it's due by June 5th, 2021. The unit price is 11,500 won, and there's nothing special about it.\\n• 059046, right? Doing 5? You can do it until June 9, 2021, and the unit price is 7,752 won. Oh, and there's nothing special about it.\\n• Oh, I need to do 318 K04033 drawings, but it's due by June 9th, 2021. The unit price is 25,870 won and it's an inspection item.\\n• Hey, look at this, is that 178 S00033? It's 5,050 won until June 10, 2021. And nothing special.\\n• I just got the 064056 drawing. I need 24 of them. They have until June 10th, 2021. It costs 8,134 won. Nothing special.\\n• Hey, look at this, is it 069769 42? It's until June 10th, 2021, 64,130 won. And nothing special.\\n• Hey, look at this, is it 069770 42? It's until June 10th, 2021, 64,130 won. And nothing special.\\n• There are 40 K04003 drawings that need to be done. It's until June 11, 2021. It's 17,794 won. And BV/W\",\n",
       " \"• There, I need to do 64 drawings for 058039. It's until June 5th, 2021. It's 23,740 won. And nothing special.\\n• Oh, I need to do 48 drawings for 061088, but it's due by June 5th, 2021. The unit price is 11,500 won, and there's nothing special about it.\\n• 059046, right? Doing 5? You can do it until June 9, 2021, and the unit price is 7,752 won. Oh, and there's nothing special about it.\\n• Oh, I need to do 318 K04033 drawings, but it's due by June 9th, 2021. The unit price is 25,870 won and it's an inspection item.\\n• Hey, look at this, is that 178 S00033? It's 5,050 won until June 10, 2021. And nothing special.\\n• I just got the 064056 drawing. I need 24 of them. They have until June 10th, 2021. It costs 8,134 won. Nothing special.\\n• Hey, look at this, is it 069769 42? It's until June 10th, 2021, 64,130 won. And nothing special.\\n• Hey, look at this, is it 069770 42? It's until June 10th, 2021, 64,130 won. And nothing special.\\n• There are 40 K04003 drawings that need to be done. It's until June 11, 2021. It's 17,794 won. And BV/W\\n• Wait, check this, is this the 40 K04005 drawing? It's until June 11, 2021, and it's 24,418 won? There's also BV/W.\",\n",
       " \"• Oh, I need to do 48 drawings for 061088, but it's due by June 5th, 2021. The unit price is 11,500 won, and there's nothing special about it.\\n• 059046, right? Doing 5? You can do it until June 9, 2021, and the unit price is 7,752 won. Oh, and there's nothing special about it.\\n• Oh, I need to do 318 K04033 drawings, but it's due by June 9th, 2021. The unit price is 25,870 won and it's an inspection item.\\n• Hey, look at this, is that 178 S00033? It's 5,050 won until June 10, 2021. And nothing special.\\n• I just got the 064056 drawing. I need 24 of them. They have until June 10th, 2021. It costs 8,134 won. Nothing special.\\n• Hey, look at this, is it 069769 42? It's until June 10th, 2021, 64,130 won. And nothing special.\\n• Hey, look at this, is it 069770 42? It's until June 10th, 2021, 64,130 won. And nothing special.\\n• There are 40 K04003 drawings that need to be done. It's until June 11, 2021. It's 17,794 won. And BV/W\\n• Wait, check this, is this the 40 K04005 drawing? It's until June 11, 2021, and it's 24,418 won? There's also BV/W.\\n• Hey, look at this, is that 188 S00034? It's until June 14th, 2021, 3,452 won. And nothing special.\",\n",
       " \"• 059046, right? Doing 5? You can do it until June 9, 2021, and the unit price is 7,752 won. Oh, and there's nothing special about it.\\n• Oh, I need to do 318 K04033 drawings, but it's due by June 9th, 2021. The unit price is 25,870 won and it's an inspection item.\\n• Hey, look at this, is that 178 S00033? It's 5,050 won until June 10, 2021. And nothing special.\\n• I just got the 064056 drawing. I need 24 of them. They have until June 10th, 2021. It costs 8,134 won. Nothing special.\\n• Hey, look at this, is it 069769 42? It's until June 10th, 2021, 64,130 won. And nothing special.\\n• Hey, look at this, is it 069770 42? It's until June 10th, 2021, 64,130 won. And nothing special.\\n• There are 40 K04003 drawings that need to be done. It's until June 11, 2021. It's 17,794 won. And BV/W\\n• Wait, check this, is this the 40 K04005 drawing? It's until June 11, 2021, and it's 24,418 won? There's also BV/W.\\n• Hey, look at this, is that 188 S00034? It's until June 14th, 2021, 3,452 won. And nothing special.\\n• want 30 of these K03115. They have to be done by June 15th, 2021, and the unit price is 26,719 won. Oh, and there's nothing special about it.\",\n",
       " \"• Oh, I need to do 318 K04033 drawings, but it's due by June 9th, 2021. The unit price is 25,870 won and it's an inspection item.\\n• Hey, look at this, is that 178 S00033? It's 5,050 won until June 10, 2021. And nothing special.\\n• I just got the 064056 drawing. I need 24 of them. They have until June 10th, 2021. It costs 8,134 won. Nothing special.\\n• Hey, look at this, is it 069769 42? It's until June 10th, 2021, 64,130 won. And nothing special.\\n• Hey, look at this, is it 069770 42? It's until June 10th, 2021, 64,130 won. And nothing special.\\n• There are 40 K04003 drawings that need to be done. It's until June 11, 2021. It's 17,794 won. And BV/W\\n• Wait, check this, is this the 40 K04005 drawing? It's until June 11, 2021, and it's 24,418 won? There's also BV/W.\\n• Hey, look at this, is that 188 S00034? It's until June 14th, 2021, 3,452 won. And nothing special.\\n• want 30 of these K03115. They have to be done by June 15th, 2021, and the unit price is 26,719 won. Oh, and there's nothing special about it.\\n• Just got 063342. 72. You have until June 15th, 2021. 24,360 won. Nothing special.\",\n",
       " \"• Hey, look at this, is that 178 S00033? It's 5,050 won until June 10, 2021. And nothing special.\\n• I just got the 064056 drawing. I need 24 of them. They have until June 10th, 2021. It costs 8,134 won. Nothing special.\\n• Hey, look at this, is it 069769 42? It's until June 10th, 2021, 64,130 won. And nothing special.\\n• Hey, look at this, is it 069770 42? It's until June 10th, 2021, 64,130 won. And nothing special.\\n• There are 40 K04003 drawings that need to be done. It's until June 11, 2021. It's 17,794 won. And BV/W\\n• Wait, check this, is this the 40 K04005 drawing? It's until June 11, 2021, and it's 24,418 won? There's also BV/W.\\n• Hey, look at this, is that 188 S00034? It's until June 14th, 2021, 3,452 won. And nothing special.\\n• want 30 of these K03115. They have to be done by June 15th, 2021, and the unit price is 26,719 won. Oh, and there's nothing special about it.\\n• Just got 063342. 72. You have until June 15th, 2021. 24,360 won. Nothing special.\\n• This is a bit urgent, but the K03115 drawing 28 is due on June 15, 2021. It costs 26,719 won, and there are no special conditions.\",\n",
       " \"• I just got the 064056 drawing. I need 24 of them. They have until June 10th, 2021. It costs 8,134 won. Nothing special.\\n• Hey, look at this, is it 069769 42? It's until June 10th, 2021, 64,130 won. And nothing special.\\n• Hey, look at this, is it 069770 42? It's until June 10th, 2021, 64,130 won. And nothing special.\\n• There are 40 K04003 drawings that need to be done. It's until June 11, 2021. It's 17,794 won. And BV/W\\n• Wait, check this, is this the 40 K04005 drawing? It's until June 11, 2021, and it's 24,418 won? There's also BV/W.\\n• Hey, look at this, is that 188 S00034? It's until June 14th, 2021, 3,452 won. And nothing special.\\n• want 30 of these K03115. They have to be done by June 15th, 2021, and the unit price is 26,719 won. Oh, and there's nothing special about it.\\n• Just got 063342. 72. You have until June 15th, 2021. 24,360 won. Nothing special.\\n• This is a bit urgent, but the K03115 drawing 28 is due on June 15, 2021. It costs 26,719 won, and there are no special conditions.\\n• Just got 063414. 72. You have until June 15th, 2021. 20,475 won. Nothing special.\",\n",
       " \"• Hey, look at this, is it 069769 42? It's until June 10th, 2021, 64,130 won. And nothing special.\\n• Hey, look at this, is it 069770 42? It's until June 10th, 2021, 64,130 won. And nothing special.\\n• There are 40 K04003 drawings that need to be done. It's until June 11, 2021. It's 17,794 won. And BV/W\\n• Wait, check this, is this the 40 K04005 drawing? It's until June 11, 2021, and it's 24,418 won? There's also BV/W.\\n• Hey, look at this, is that 188 S00034? It's until June 14th, 2021, 3,452 won. And nothing special.\\n• want 30 of these K03115. They have to be done by June 15th, 2021, and the unit price is 26,719 won. Oh, and there's nothing special about it.\\n• Just got 063342. 72. You have until June 15th, 2021. 24,360 won. Nothing special.\\n• This is a bit urgent, but the K03115 drawing 28 is due on June 15, 2021. It costs 26,719 won, and there are no special conditions.\\n• Just got 063414. 72. You have until June 15th, 2021. 20,475 won. Nothing special.\\n• There's 062872 that came yesterday. I have to do 20 of those, and it's until June 15th, 2021. It's 86,940 won, and there's nothing special about it.\",\n",
       " \"• Hey, look at this, is it 069770 42? It's until June 10th, 2021, 64,130 won. And nothing special.\\n• There are 40 K04003 drawings that need to be done. It's until June 11, 2021. It's 17,794 won. And BV/W\\n• Wait, check this, is this the 40 K04005 drawing? It's until June 11, 2021, and it's 24,418 won? There's also BV/W.\\n• Hey, look at this, is that 188 S00034? It's until June 14th, 2021, 3,452 won. And nothing special.\\n• want 30 of these K03115. They have to be done by June 15th, 2021, and the unit price is 26,719 won. Oh, and there's nothing special about it.\\n• Just got 063342. 72. You have until June 15th, 2021. 24,360 won. Nothing special.\\n• This is a bit urgent, but the K03115 drawing 28 is due on June 15, 2021. It costs 26,719 won, and there are no special conditions.\\n• Just got 063414. 72. You have until June 15th, 2021. 20,475 won. Nothing special.\\n• There's 062872 that came yesterday. I have to do 20 of those, and it's until June 15th, 2021. It's 86,940 won, and there's nothing special about it.\\n• Is this 059083 24? It has to be done by June 15th, 2021 and it costs 8,226 won. There are no special conditions.\",\n",
       " \"• There are 40 K04003 drawings that need to be done. It's until June 11, 2021. It's 17,794 won. And BV/W\\n• Wait, check this, is this the 40 K04005 drawing? It's until June 11, 2021, and it's 24,418 won? There's also BV/W.\\n• Hey, look at this, is that 188 S00034? It's until June 14th, 2021, 3,452 won. And nothing special.\\n• want 30 of these K03115. They have to be done by June 15th, 2021, and the unit price is 26,719 won. Oh, and there's nothing special about it.\\n• Just got 063342. 72. You have until June 15th, 2021. 24,360 won. Nothing special.\\n• This is a bit urgent, but the K03115 drawing 28 is due on June 15, 2021. It costs 26,719 won, and there are no special conditions.\\n• Just got 063414. 72. You have until June 15th, 2021. 20,475 won. Nothing special.\\n• There's 062872 that came yesterday. I have to do 20 of those, and it's until June 15th, 2021. It's 86,940 won, and there's nothing special about it.\\n• Is this 059083 24? It has to be done by June 15th, 2021 and it costs 8,226 won. There are no special conditions.\\n• Please check this, Z00807 300 pieces until June 15th, 2021? Unit price is 10,450 won, nothing special.\",\n",
       " \"• Wait, check this, is this the 40 K04005 drawing? It's until June 11, 2021, and it's 24,418 won? There's also BV/W.\\n• Hey, look at this, is that 188 S00034? It's until June 14th, 2021, 3,452 won. And nothing special.\\n• want 30 of these K03115. They have to be done by June 15th, 2021, and the unit price is 26,719 won. Oh, and there's nothing special about it.\\n• Just got 063342. 72. You have until June 15th, 2021. 24,360 won. Nothing special.\\n• This is a bit urgent, but the K03115 drawing 28 is due on June 15, 2021. It costs 26,719 won, and there are no special conditions.\\n• Just got 063414. 72. You have until June 15th, 2021. 20,475 won. Nothing special.\\n• There's 062872 that came yesterday. I have to do 20 of those, and it's until June 15th, 2021. It's 86,940 won, and there's nothing special about it.\\n• Is this 059083 24? It has to be done by June 15th, 2021 and it costs 8,226 won. There are no special conditions.\\n• Please check this, Z00807 300 pieces until June 15th, 2021? Unit price is 10,450 won, nothing special.\\n• Check this out. They want 5 K01682s, but they say it's due on June 17, 2021. 53,798 won, LR\",\n",
       " \"• Hey, look at this, is that 188 S00034? It's until June 14th, 2021, 3,452 won. And nothing special.\\n• want 30 of these K03115. They have to be done by June 15th, 2021, and the unit price is 26,719 won. Oh, and there's nothing special about it.\\n• Just got 063342. 72. You have until June 15th, 2021. 24,360 won. Nothing special.\\n• This is a bit urgent, but the K03115 drawing 28 is due on June 15, 2021. It costs 26,719 won, and there are no special conditions.\\n• Just got 063414. 72. You have until June 15th, 2021. 20,475 won. Nothing special.\\n• There's 062872 that came yesterday. I have to do 20 of those, and it's until June 15th, 2021. It's 86,940 won, and there's nothing special about it.\\n• Is this 059083 24? It has to be done by June 15th, 2021 and it costs 8,226 won. There are no special conditions.\\n• Please check this, Z00807 300 pieces until June 15th, 2021? Unit price is 10,450 won, nothing special.\\n• Check this out. They want 5 K01682s, but they say it's due on June 17, 2021. 53,798 won, LR\\n• Oh, I just got the 053695 drawing, and it says it's due on June 17th, 2021. I need to do 6 of them, and it's 33,984 won, nothing special.\",\n",
       " \"• want 30 of these K03115. They have to be done by June 15th, 2021, and the unit price is 26,719 won. Oh, and there's nothing special about it.\\n• Just got 063342. 72. You have until June 15th, 2021. 24,360 won. Nothing special.\\n• This is a bit urgent, but the K03115 drawing 28 is due on June 15, 2021. It costs 26,719 won, and there are no special conditions.\\n• Just got 063414. 72. You have until June 15th, 2021. 20,475 won. Nothing special.\\n• There's 062872 that came yesterday. I have to do 20 of those, and it's until June 15th, 2021. It's 86,940 won, and there's nothing special about it.\\n• Is this 059083 24? It has to be done by June 15th, 2021 and it costs 8,226 won. There are no special conditions.\\n• Please check this, Z00807 300 pieces until June 15th, 2021? Unit price is 10,450 won, nothing special.\\n• Check this out. They want 5 K01682s, but they say it's due on June 17, 2021. 53,798 won, LR\\n• Oh, I just got the 053695 drawing, and it says it's due on June 17th, 2021. I need to do 6 of them, and it's 33,984 won, nothing special.\\n• Just got K01937. 6 for 21 years until June 17th. 72,993 won. Nothing special.\",\n",
       " \"• Just got 063342. 72. You have until June 15th, 2021. 24,360 won. Nothing special.\\n• This is a bit urgent, but the K03115 drawing 28 is due on June 15, 2021. It costs 26,719 won, and there are no special conditions.\\n• Just got 063414. 72. You have until June 15th, 2021. 20,475 won. Nothing special.\\n• There's 062872 that came yesterday. I have to do 20 of those, and it's until June 15th, 2021. It's 86,940 won, and there's nothing special about it.\\n• Is this 059083 24? It has to be done by June 15th, 2021 and it costs 8,226 won. There are no special conditions.\\n• Please check this, Z00807 300 pieces until June 15th, 2021? Unit price is 10,450 won, nothing special.\\n• Check this out. They want 5 K01682s, but they say it's due on June 17, 2021. 53,798 won, LR\\n• Oh, I just got the 053695 drawing, and it says it's due on June 17th, 2021. I need to do 6 of them, and it's 33,984 won, nothing special.\\n• Just got K01937. 6 for 21 years until June 17th. 72,993 won. Nothing special.\\n• Just got 060711. You have until June 17th, 2021 for 24. It's 29,900 won and nothing special.\",\n",
       " \"• This is a bit urgent, but the K03115 drawing 28 is due on June 15, 2021. It costs 26,719 won, and there are no special conditions.\\n• Just got 063414. 72. You have until June 15th, 2021. 20,475 won. Nothing special.\\n• There's 062872 that came yesterday. I have to do 20 of those, and it's until June 15th, 2021. It's 86,940 won, and there's nothing special about it.\\n• Is this 059083 24? It has to be done by June 15th, 2021 and it costs 8,226 won. There are no special conditions.\\n• Please check this, Z00807 300 pieces until June 15th, 2021? Unit price is 10,450 won, nothing special.\\n• Check this out. They want 5 K01682s, but they say it's due on June 17, 2021. 53,798 won, LR\\n• Oh, I just got the 053695 drawing, and it says it's due on June 17th, 2021. I need to do 6 of them, and it's 33,984 won, nothing special.\\n• Just got K01937. 6 for 21 years until June 17th. 72,993 won. Nothing special.\\n• Just got 060711. You have until June 17th, 2021 for 24. It's 29,900 won and nothing special.\\n• I just got K03961 urgent. I need to do 2 of them, and it's due on June 17th, 2021. 19,300 won, inspection item.\",\n",
       " \"• Just got 063414. 72. You have until June 15th, 2021. 20,475 won. Nothing special.\\n• There's 062872 that came yesterday. I have to do 20 of those, and it's until June 15th, 2021. It's 86,940 won, and there's nothing special about it.\\n• Is this 059083 24? It has to be done by June 15th, 2021 and it costs 8,226 won. There are no special conditions.\\n• Please check this, Z00807 300 pieces until June 15th, 2021? Unit price is 10,450 won, nothing special.\\n• Check this out. They want 5 K01682s, but they say it's due on June 17, 2021. 53,798 won, LR\\n• Oh, I just got the 053695 drawing, and it says it's due on June 17th, 2021. I need to do 6 of them, and it's 33,984 won, nothing special.\\n• Just got K01937. 6 for 21 years until June 17th. 72,993 won. Nothing special.\\n• Just got 060711. You have until June 17th, 2021 for 24. It's 29,900 won and nothing special.\\n• I just got K03961 urgent. I need to do 2 of them, and it's due on June 17th, 2021. 19,300 won, inspection item.\\n• Z01343 is here. I need to do 8 and it's due by June 18th, 2021. Unit price 16,231 won. Oh, nothing special.\",\n",
       " \"• There's 062872 that came yesterday. I have to do 20 of those, and it's until June 15th, 2021. It's 86,940 won, and there's nothing special about it.\\n• Is this 059083 24? It has to be done by June 15th, 2021 and it costs 8,226 won. There are no special conditions.\\n• Please check this, Z00807 300 pieces until June 15th, 2021? Unit price is 10,450 won, nothing special.\\n• Check this out. They want 5 K01682s, but they say it's due on June 17, 2021. 53,798 won, LR\\n• Oh, I just got the 053695 drawing, and it says it's due on June 17th, 2021. I need to do 6 of them, and it's 33,984 won, nothing special.\\n• Just got K01937. 6 for 21 years until June 17th. 72,993 won. Nothing special.\\n• Just got 060711. You have until June 17th, 2021 for 24. It's 29,900 won and nothing special.\\n• I just got K03961 urgent. I need to do 2 of them, and it's due on June 17th, 2021. 19,300 won, inspection item.\\n• Z01343 is here. I need to do 8 and it's due by June 18th, 2021. Unit price 16,231 won. Oh, nothing special.\\n• I just got an urgent call for 057386. I need to do 200 of them, and it's due on June 18, 2021. 24,418 won, BV/W.\",\n",
       " \"• Is this 059083 24? It has to be done by June 15th, 2021 and it costs 8,226 won. There are no special conditions.\\n• Please check this, Z00807 300 pieces until June 15th, 2021? Unit price is 10,450 won, nothing special.\\n• Check this out. They want 5 K01682s, but they say it's due on June 17, 2021. 53,798 won, LR\\n• Oh, I just got the 053695 drawing, and it says it's due on June 17th, 2021. I need to do 6 of them, and it's 33,984 won, nothing special.\\n• Just got K01937. 6 for 21 years until June 17th. 72,993 won. Nothing special.\\n• Just got 060711. You have until June 17th, 2021 for 24. It's 29,900 won and nothing special.\\n• I just got K03961 urgent. I need to do 2 of them, and it's due on June 17th, 2021. 19,300 won, inspection item.\\n• Z01343 is here. I need to do 8 and it's due by June 18th, 2021. Unit price 16,231 won. Oh, nothing special.\\n• I just got an urgent call for 057386. I need to do 200 of them, and it's due on June 18, 2021. 24,418 won, BV/W.\\n• This is 063865 47 please. It has to be done by June 18th 2021 and the unit price is 20,054 won. Oh and there's nothing special about it.\",\n",
       " \"• Please check this, Z00807 300 pieces until June 15th, 2021? Unit price is 10,450 won, nothing special.\\n• Check this out. They want 5 K01682s, but they say it's due on June 17, 2021. 53,798 won, LR\\n• Oh, I just got the 053695 drawing, and it says it's due on June 17th, 2021. I need to do 6 of them, and it's 33,984 won, nothing special.\\n• Just got K01937. 6 for 21 years until June 17th. 72,993 won. Nothing special.\\n• Just got 060711. You have until June 17th, 2021 for 24. It's 29,900 won and nothing special.\\n• I just got K03961 urgent. I need to do 2 of them, and it's due on June 17th, 2021. 19,300 won, inspection item.\\n• Z01343 is here. I need to do 8 and it's due by June 18th, 2021. Unit price 16,231 won. Oh, nothing special.\\n• I just got an urgent call for 057386. I need to do 200 of them, and it's due on June 18, 2021. 24,418 won, BV/W.\\n• This is 063865 47 please. It has to be done by June 18th 2021 and the unit price is 20,054 won. Oh and there's nothing special about it.\\n• Hey, look at this, is 062716 120? Until June 21, 2021, 27,590 won. And the inspection product.\",\n",
       " \"• Check this out. They want 5 K01682s, but they say it's due on June 17, 2021. 53,798 won, LR\\n• Oh, I just got the 053695 drawing, and it says it's due on June 17th, 2021. I need to do 6 of them, and it's 33,984 won, nothing special.\\n• Just got K01937. 6 for 21 years until June 17th. 72,993 won. Nothing special.\\n• Just got 060711. You have until June 17th, 2021 for 24. It's 29,900 won and nothing special.\\n• I just got K03961 urgent. I need to do 2 of them, and it's due on June 17th, 2021. 19,300 won, inspection item.\\n• Z01343 is here. I need to do 8 and it's due by June 18th, 2021. Unit price 16,231 won. Oh, nothing special.\\n• I just got an urgent call for 057386. I need to do 200 of them, and it's due on June 18, 2021. 24,418 won, BV/W.\\n• This is 063865 47 please. It has to be done by June 18th 2021 and the unit price is 20,054 won. Oh and there's nothing special about it.\\n• Hey, look at this, is 062716 120? Until June 21, 2021, 27,590 won. And the inspection product.\\n• Please check this, 062953 160 pieces, until June 21st, 2021? Unit price is 23,500 won and inspection item\",\n",
       " \"• Oh, I just got the 053695 drawing, and it says it's due on June 17th, 2021. I need to do 6 of them, and it's 33,984 won, nothing special.\\n• Just got K01937. 6 for 21 years until June 17th. 72,993 won. Nothing special.\\n• Just got 060711. You have until June 17th, 2021 for 24. It's 29,900 won and nothing special.\\n• I just got K03961 urgent. I need to do 2 of them, and it's due on June 17th, 2021. 19,300 won, inspection item.\\n• Z01343 is here. I need to do 8 and it's due by June 18th, 2021. Unit price 16,231 won. Oh, nothing special.\\n• I just got an urgent call for 057386. I need to do 200 of them, and it's due on June 18, 2021. 24,418 won, BV/W.\\n• This is 063865 47 please. It has to be done by June 18th 2021 and the unit price is 20,054 won. Oh and there's nothing special about it.\\n• Hey, look at this, is 062716 120? Until June 21, 2021, 27,590 won. And the inspection product.\\n• Please check this, 062953 160 pieces, until June 21st, 2021? Unit price is 23,500 won and inspection item\\n• Oh, I just got the 061864 drawing, and it says it's due on June 22, 2021. I need to do 42 of them, and it costs 37,650 won. Nothing special.\",\n",
       " \"• Just got K01937. 6 for 21 years until June 17th. 72,993 won. Nothing special.\\n• Just got 060711. You have until June 17th, 2021 for 24. It's 29,900 won and nothing special.\\n• I just got K03961 urgent. I need to do 2 of them, and it's due on June 17th, 2021. 19,300 won, inspection item.\\n• Z01343 is here. I need to do 8 and it's due by June 18th, 2021. Unit price 16,231 won. Oh, nothing special.\\n• I just got an urgent call for 057386. I need to do 200 of them, and it's due on June 18, 2021. 24,418 won, BV/W.\\n• This is 063865 47 please. It has to be done by June 18th 2021 and the unit price is 20,054 won. Oh and there's nothing special about it.\\n• Hey, look at this, is 062716 120? Until June 21, 2021, 27,590 won. And the inspection product.\\n• Please check this, 062953 160 pieces, until June 21st, 2021? Unit price is 23,500 won and inspection item\\n• Oh, I just got the 061864 drawing, and it says it's due on June 22, 2021. I need to do 42 of them, and it costs 37,650 won. Nothing special.\\n• Wait, check this, is this the 56 S00371 drawings? It's until June 22, 2021, and it's 32,450 won? There's also nothing special.\",\n",
       " \"• Just got 060711. You have until June 17th, 2021 for 24. It's 29,900 won and nothing special.\\n• I just got K03961 urgent. I need to do 2 of them, and it's due on June 17th, 2021. 19,300 won, inspection item.\\n• Z01343 is here. I need to do 8 and it's due by June 18th, 2021. Unit price 16,231 won. Oh, nothing special.\\n• I just got an urgent call for 057386. I need to do 200 of them, and it's due on June 18, 2021. 24,418 won, BV/W.\\n• This is 063865 47 please. It has to be done by June 18th 2021 and the unit price is 20,054 won. Oh and there's nothing special about it.\\n• Hey, look at this, is 062716 120? Until June 21, 2021, 27,590 won. And the inspection product.\\n• Please check this, 062953 160 pieces, until June 21st, 2021? Unit price is 23,500 won and inspection item\\n• Oh, I just got the 061864 drawing, and it says it's due on June 22, 2021. I need to do 42 of them, and it costs 37,650 won. Nothing special.\\n• Wait, check this, is this the 56 S00371 drawings? It's until June 22, 2021, and it's 32,450 won? There's also nothing special.\\n• Wait, check this, is this the 16 K05273 drawings? It's until June 22, 2021, and it's 9,546 won? There's also nothing special.\",\n",
       " \"• I just got K03961 urgent. I need to do 2 of them, and it's due on June 17th, 2021. 19,300 won, inspection item.\\n• Z01343 is here. I need to do 8 and it's due by June 18th, 2021. Unit price 16,231 won. Oh, nothing special.\\n• I just got an urgent call for 057386. I need to do 200 of them, and it's due on June 18, 2021. 24,418 won, BV/W.\\n• This is 063865 47 please. It has to be done by June 18th 2021 and the unit price is 20,054 won. Oh and there's nothing special about it.\\n• Hey, look at this, is 062716 120? Until June 21, 2021, 27,590 won. And the inspection product.\\n• Please check this, 062953 160 pieces, until June 21st, 2021? Unit price is 23,500 won and inspection item\\n• Oh, I just got the 061864 drawing, and it says it's due on June 22, 2021. I need to do 42 of them, and it costs 37,650 won. Nothing special.\\n• Wait, check this, is this the 56 S00371 drawings? It's until June 22, 2021, and it's 32,450 won? There's also nothing special.\\n• Wait, check this, is this the 16 K05273 drawings? It's until June 22, 2021, and it's 9,546 won? There's also nothing special.\\n• Just got K01618. 8 pieces. You can do it by June 22, 2021. 17,050 won. Nothing special.\",\n",
       " \"• Z01343 is here. I need to do 8 and it's due by June 18th, 2021. Unit price 16,231 won. Oh, nothing special.\\n• I just got an urgent call for 057386. I need to do 200 of them, and it's due on June 18, 2021. 24,418 won, BV/W.\\n• This is 063865 47 please. It has to be done by June 18th 2021 and the unit price is 20,054 won. Oh and there's nothing special about it.\\n• Hey, look at this, is 062716 120? Until June 21, 2021, 27,590 won. And the inspection product.\\n• Please check this, 062953 160 pieces, until June 21st, 2021? Unit price is 23,500 won and inspection item\\n• Oh, I just got the 061864 drawing, and it says it's due on June 22, 2021. I need to do 42 of them, and it costs 37,650 won. Nothing special.\\n• Wait, check this, is this the 56 S00371 drawings? It's until June 22, 2021, and it's 32,450 won? There's also nothing special.\\n• Wait, check this, is this the 16 K05273 drawings? It's until June 22, 2021, and it's 9,546 won? There's also nothing special.\\n• Just got K01618. 8 pieces. You can do it by June 22, 2021. 17,050 won. Nothing special.\\n• Just got K01866. 25 pieces. You have until June 23, 2021. 25,840 won. Nothing special.\",\n",
       " \"• I just got an urgent call for 057386. I need to do 200 of them, and it's due on June 18, 2021. 24,418 won, BV/W.\\n• This is 063865 47 please. It has to be done by June 18th 2021 and the unit price is 20,054 won. Oh and there's nothing special about it.\\n• Hey, look at this, is 062716 120? Until June 21, 2021, 27,590 won. And the inspection product.\\n• Please check this, 062953 160 pieces, until June 21st, 2021? Unit price is 23,500 won and inspection item\\n• Oh, I just got the 061864 drawing, and it says it's due on June 22, 2021. I need to do 42 of them, and it costs 37,650 won. Nothing special.\\n• Wait, check this, is this the 56 S00371 drawings? It's until June 22, 2021, and it's 32,450 won? There's also nothing special.\\n• Wait, check this, is this the 16 K05273 drawings? It's until June 22, 2021, and it's 9,546 won? There's also nothing special.\\n• Just got K01618. 8 pieces. You can do it by June 22, 2021. 17,050 won. Nothing special.\\n• Just got K01866. 25 pieces. You have until June 23, 2021. 25,840 won. Nothing special.\\n• Hey, this seems urgent. I need to get 138 S00036s by June 23rd, 2021. The unit price is 4,845 won and there's nothing special about it.\",\n",
       " \"• This is 063865 47 please. It has to be done by June 18th 2021 and the unit price is 20,054 won. Oh and there's nothing special about it.\\n• Hey, look at this, is 062716 120? Until June 21, 2021, 27,590 won. And the inspection product.\\n• Please check this, 062953 160 pieces, until June 21st, 2021? Unit price is 23,500 won and inspection item\\n• Oh, I just got the 061864 drawing, and it says it's due on June 22, 2021. I need to do 42 of them, and it costs 37,650 won. Nothing special.\\n• Wait, check this, is this the 56 S00371 drawings? It's until June 22, 2021, and it's 32,450 won? There's also nothing special.\\n• Wait, check this, is this the 16 K05273 drawings? It's until June 22, 2021, and it's 9,546 won? There's also nothing special.\\n• Just got K01618. 8 pieces. You can do it by June 22, 2021. 17,050 won. Nothing special.\\n• Just got K01866. 25 pieces. You have until June 23, 2021. 25,840 won. Nothing special.\\n• Hey, this seems urgent. I need to get 138 S00036s by June 23rd, 2021. The unit price is 4,845 won and there's nothing special about it.\\n• Hey, look quickly. S00045 52 pieces must be completed by June 23, 2021. What should I do? The unit price is 6,295 won and there's nothing special about it.\",\n",
       " \"• Hey, look at this, is 062716 120? Until June 21, 2021, 27,590 won. And the inspection product.\\n• Please check this, 062953 160 pieces, until June 21st, 2021? Unit price is 23,500 won and inspection item\\n• Oh, I just got the 061864 drawing, and it says it's due on June 22, 2021. I need to do 42 of them, and it costs 37,650 won. Nothing special.\\n• Wait, check this, is this the 56 S00371 drawings? It's until June 22, 2021, and it's 32,450 won? There's also nothing special.\\n• Wait, check this, is this the 16 K05273 drawings? It's until June 22, 2021, and it's 9,546 won? There's also nothing special.\\n• Just got K01618. 8 pieces. You can do it by June 22, 2021. 17,050 won. Nothing special.\\n• Just got K01866. 25 pieces. You have until June 23, 2021. 25,840 won. Nothing special.\\n• Hey, this seems urgent. I need to get 138 S00036s by June 23rd, 2021. The unit price is 4,845 won and there's nothing special about it.\\n• Hey, look quickly. S00045 52 pieces must be completed by June 23, 2021. What should I do? The unit price is 6,295 won and there's nothing special about it.\\n• There, I need to do 240 drawings for 061102. It's until June 23, 2021. It costs 12,500 won. And the inspection items.\",\n",
       " \"• Please check this, 062953 160 pieces, until June 21st, 2021? Unit price is 23,500 won and inspection item\\n• Oh, I just got the 061864 drawing, and it says it's due on June 22, 2021. I need to do 42 of them, and it costs 37,650 won. Nothing special.\\n• Wait, check this, is this the 56 S00371 drawings? It's until June 22, 2021, and it's 32,450 won? There's also nothing special.\\n• Wait, check this, is this the 16 K05273 drawings? It's until June 22, 2021, and it's 9,546 won? There's also nothing special.\\n• Just got K01618. 8 pieces. You can do it by June 22, 2021. 17,050 won. Nothing special.\\n• Just got K01866. 25 pieces. You have until June 23, 2021. 25,840 won. Nothing special.\\n• Hey, this seems urgent. I need to get 138 S00036s by June 23rd, 2021. The unit price is 4,845 won and there's nothing special about it.\\n• Hey, look quickly. S00045 52 pieces must be completed by June 23, 2021. What should I do? The unit price is 6,295 won and there's nothing special about it.\\n• There, I need to do 240 drawings for 061102. It's until June 23, 2021. It costs 12,500 won. And the inspection items.\\n• Z00140 is here. I need to order 400 and it's due by June 24th, 2021. Unit price is 13,960 won. Oh, right, it's an inspection item.\",\n",
       " \"• Oh, I just got the 061864 drawing, and it says it's due on June 22, 2021. I need to do 42 of them, and it costs 37,650 won. Nothing special.\\n• Wait, check this, is this the 56 S00371 drawings? It's until June 22, 2021, and it's 32,450 won? There's also nothing special.\\n• Wait, check this, is this the 16 K05273 drawings? It's until June 22, 2021, and it's 9,546 won? There's also nothing special.\\n• Just got K01618. 8 pieces. You can do it by June 22, 2021. 17,050 won. Nothing special.\\n• Just got K01866. 25 pieces. You have until June 23, 2021. 25,840 won. Nothing special.\\n• Hey, this seems urgent. I need to get 138 S00036s by June 23rd, 2021. The unit price is 4,845 won and there's nothing special about it.\\n• Hey, look quickly. S00045 52 pieces must be completed by June 23, 2021. What should I do? The unit price is 6,295 won and there's nothing special about it.\\n• There, I need to do 240 drawings for 061102. It's until June 23, 2021. It costs 12,500 won. And the inspection items.\\n• Z00140 is here. I need to order 400 and it's due by June 24th, 2021. Unit price is 13,960 won. Oh, right, it's an inspection item.\\n• Oh, I just got the 069400 drawing, and it says it's due on June 25th, 2021. I need to do 70 of them, and it's 7,600 won, nothing special.\",\n",
       " \"• Wait, check this, is this the 56 S00371 drawings? It's until June 22, 2021, and it's 32,450 won? There's also nothing special.\\n• Wait, check this, is this the 16 K05273 drawings? It's until June 22, 2021, and it's 9,546 won? There's also nothing special.\\n• Just got K01618. 8 pieces. You can do it by June 22, 2021. 17,050 won. Nothing special.\\n• Just got K01866. 25 pieces. You have until June 23, 2021. 25,840 won. Nothing special.\\n• Hey, this seems urgent. I need to get 138 S00036s by June 23rd, 2021. The unit price is 4,845 won and there's nothing special about it.\\n• Hey, look quickly. S00045 52 pieces must be completed by June 23, 2021. What should I do? The unit price is 6,295 won and there's nothing special about it.\\n• There, I need to do 240 drawings for 061102. It's until June 23, 2021. It costs 12,500 won. And the inspection items.\\n• Z00140 is here. I need to order 400 and it's due by June 24th, 2021. Unit price is 13,960 won. Oh, right, it's an inspection item.\\n• Oh, I just got the 069400 drawing, and it says it's due on June 25th, 2021. I need to do 70 of them, and it's 7,600 won, nothing special.\\n• Hey, look at this, is this 066038 20? It's until June 25th, 2021, 42,940 won. And nothing special.\",\n",
       " \"• Wait, check this, is this the 16 K05273 drawings? It's until June 22, 2021, and it's 9,546 won? There's also nothing special.\\n• Just got K01618. 8 pieces. You can do it by June 22, 2021. 17,050 won. Nothing special.\\n• Just got K01866. 25 pieces. You have until June 23, 2021. 25,840 won. Nothing special.\\n• Hey, this seems urgent. I need to get 138 S00036s by June 23rd, 2021. The unit price is 4,845 won and there's nothing special about it.\\n• Hey, look quickly. S00045 52 pieces must be completed by June 23, 2021. What should I do? The unit price is 6,295 won and there's nothing special about it.\\n• There, I need to do 240 drawings for 061102. It's until June 23, 2021. It costs 12,500 won. And the inspection items.\\n• Z00140 is here. I need to order 400 and it's due by June 24th, 2021. Unit price is 13,960 won. Oh, right, it's an inspection item.\\n• Oh, I just got the 069400 drawing, and it says it's due on June 25th, 2021. I need to do 70 of them, and it's 7,600 won, nothing special.\\n• Hey, look at this, is this 066038 20? It's until June 25th, 2021, 42,940 won. And nothing special.\\n• This is 066074 44 please. It has to be done by June 26th 2021 and the unit price is 8,835 won. Oh and there's nothing special about it.\",\n",
       " \"• Just got K01618. 8 pieces. You can do it by June 22, 2021. 17,050 won. Nothing special.\\n• Just got K01866. 25 pieces. You have until June 23, 2021. 25,840 won. Nothing special.\\n• Hey, this seems urgent. I need to get 138 S00036s by June 23rd, 2021. The unit price is 4,845 won and there's nothing special about it.\\n• Hey, look quickly. S00045 52 pieces must be completed by June 23, 2021. What should I do? The unit price is 6,295 won and there's nothing special about it.\\n• There, I need to do 240 drawings for 061102. It's until June 23, 2021. It costs 12,500 won. And the inspection items.\\n• Z00140 is here. I need to order 400 and it's due by June 24th, 2021. Unit price is 13,960 won. Oh, right, it's an inspection item.\\n• Oh, I just got the 069400 drawing, and it says it's due on June 25th, 2021. I need to do 70 of them, and it's 7,600 won, nothing special.\\n• Hey, look at this, is this 066038 20? It's until June 25th, 2021, 42,940 won. And nothing special.\\n• This is 066074 44 please. It has to be done by June 26th 2021 and the unit price is 8,835 won. Oh and there's nothing special about it.\\n• There, I need to do 40 drawings of 069494. It's until June 26, 2021. It's 27,039 won. And nothing special.\",\n",
       " \"• Just got K01866. 25 pieces. You have until June 23, 2021. 25,840 won. Nothing special.\\n• Hey, this seems urgent. I need to get 138 S00036s by June 23rd, 2021. The unit price is 4,845 won and there's nothing special about it.\\n• Hey, look quickly. S00045 52 pieces must be completed by June 23, 2021. What should I do? The unit price is 6,295 won and there's nothing special about it.\\n• There, I need to do 240 drawings for 061102. It's until June 23, 2021. It costs 12,500 won. And the inspection items.\\n• Z00140 is here. I need to order 400 and it's due by June 24th, 2021. Unit price is 13,960 won. Oh, right, it's an inspection item.\\n• Oh, I just got the 069400 drawing, and it says it's due on June 25th, 2021. I need to do 70 of them, and it's 7,600 won, nothing special.\\n• Hey, look at this, is this 066038 20? It's until June 25th, 2021, 42,940 won. And nothing special.\\n• This is 066074 44 please. It has to be done by June 26th 2021 and the unit price is 8,835 won. Oh and there's nothing special about it.\\n• There, I need to do 40 drawings of 069494. It's until June 26, 2021. It's 27,039 won. And nothing special.\\n• Hey, this seems urgent. I need to do 069559 32 by June 28th, 2021. The unit price is 242,250 won and it's an inspection item.\",\n",
       " \"• Hey, this seems urgent. I need to get 138 S00036s by June 23rd, 2021. The unit price is 4,845 won and there's nothing special about it.\\n• Hey, look quickly. S00045 52 pieces must be completed by June 23, 2021. What should I do? The unit price is 6,295 won and there's nothing special about it.\\n• There, I need to do 240 drawings for 061102. It's until June 23, 2021. It costs 12,500 won. And the inspection items.\\n• Z00140 is here. I need to order 400 and it's due by June 24th, 2021. Unit price is 13,960 won. Oh, right, it's an inspection item.\\n• Oh, I just got the 069400 drawing, and it says it's due on June 25th, 2021. I need to do 70 of them, and it's 7,600 won, nothing special.\\n• Hey, look at this, is this 066038 20? It's until June 25th, 2021, 42,940 won. And nothing special.\\n• This is 066074 44 please. It has to be done by June 26th 2021 and the unit price is 8,835 won. Oh and there's nothing special about it.\\n• There, I need to do 40 drawings of 069494. It's until June 26, 2021. It's 27,039 won. And nothing special.\\n• Hey, this seems urgent. I need to do 069559 32 by June 28th, 2021. The unit price is 242,250 won and it's an inspection item.\\n• There are 16 K00563 drawings that need to be done. It's until June 28th, 2021. It's 95,000 won. And nothing special.\",\n",
       " \"• Hey, look quickly. S00045 52 pieces must be completed by June 23, 2021. What should I do? The unit price is 6,295 won and there's nothing special about it.\\n• There, I need to do 240 drawings for 061102. It's until June 23, 2021. It costs 12,500 won. And the inspection items.\\n• Z00140 is here. I need to order 400 and it's due by June 24th, 2021. Unit price is 13,960 won. Oh, right, it's an inspection item.\\n• Oh, I just got the 069400 drawing, and it says it's due on June 25th, 2021. I need to do 70 of them, and it's 7,600 won, nothing special.\\n• Hey, look at this, is this 066038 20? It's until June 25th, 2021, 42,940 won. And nothing special.\\n• This is 066074 44 please. It has to be done by June 26th 2021 and the unit price is 8,835 won. Oh and there's nothing special about it.\\n• There, I need to do 40 drawings of 069494. It's until June 26, 2021. It's 27,039 won. And nothing special.\\n• Hey, this seems urgent. I need to do 069559 32 by June 28th, 2021. The unit price is 242,250 won and it's an inspection item.\\n• There are 16 K00563 drawings that need to be done. It's until June 28th, 2021. It's 95,000 won. And nothing special.\\n• K00562, right? Doing 16? You can do it until June 28th, 2021, and the unit price is 7,500 won. Oh, and there's nothing special about it.\",\n",
       " \"• There, I need to do 240 drawings for 061102. It's until June 23, 2021. It costs 12,500 won. And the inspection items.\\n• Z00140 is here. I need to order 400 and it's due by June 24th, 2021. Unit price is 13,960 won. Oh, right, it's an inspection item.\\n• Oh, I just got the 069400 drawing, and it says it's due on June 25th, 2021. I need to do 70 of them, and it's 7,600 won, nothing special.\\n• Hey, look at this, is this 066038 20? It's until June 25th, 2021, 42,940 won. And nothing special.\\n• This is 066074 44 please. It has to be done by June 26th 2021 and the unit price is 8,835 won. Oh and there's nothing special about it.\\n• There, I need to do 40 drawings of 069494. It's until June 26, 2021. It's 27,039 won. And nothing special.\\n• Hey, this seems urgent. I need to do 069559 32 by June 28th, 2021. The unit price is 242,250 won and it's an inspection item.\\n• There are 16 K00563 drawings that need to be done. It's until June 28th, 2021. It's 95,000 won. And nothing special.\\n• K00562, right? Doing 16? You can do it until June 28th, 2021, and the unit price is 7,500 won. Oh, and there's nothing special about it.\\n• 061609 came. I have to do 33 and it's until June 29th, 2021. Unit price 11,900 won. Oh, nothing special.\",\n",
       " \"• Z00140 is here. I need to order 400 and it's due by June 24th, 2021. Unit price is 13,960 won. Oh, right, it's an inspection item.\\n• Oh, I just got the 069400 drawing, and it says it's due on June 25th, 2021. I need to do 70 of them, and it's 7,600 won, nothing special.\\n• Hey, look at this, is this 066038 20? It's until June 25th, 2021, 42,940 won. And nothing special.\\n• This is 066074 44 please. It has to be done by June 26th 2021 and the unit price is 8,835 won. Oh and there's nothing special about it.\\n• There, I need to do 40 drawings of 069494. It's until June 26, 2021. It's 27,039 won. And nothing special.\\n• Hey, this seems urgent. I need to do 069559 32 by June 28th, 2021. The unit price is 242,250 won and it's an inspection item.\\n• There are 16 K00563 drawings that need to be done. It's until June 28th, 2021. It's 95,000 won. And nothing special.\\n• K00562, right? Doing 16? You can do it until June 28th, 2021, and the unit price is 7,500 won. Oh, and there's nothing special about it.\\n• 061609 came. I have to do 33 and it's until June 29th, 2021. Unit price 11,900 won. Oh, nothing special.\\n• Just got 058045. 64. You have until June 29th, 2021. 246,800 won. Nothing special.\",\n",
       " \"• Oh, I just got the 069400 drawing, and it says it's due on June 25th, 2021. I need to do 70 of them, and it's 7,600 won, nothing special.\\n• Hey, look at this, is this 066038 20? It's until June 25th, 2021, 42,940 won. And nothing special.\\n• This is 066074 44 please. It has to be done by June 26th 2021 and the unit price is 8,835 won. Oh and there's nothing special about it.\\n• There, I need to do 40 drawings of 069494. It's until June 26, 2021. It's 27,039 won. And nothing special.\\n• Hey, this seems urgent. I need to do 069559 32 by June 28th, 2021. The unit price is 242,250 won and it's an inspection item.\\n• There are 16 K00563 drawings that need to be done. It's until June 28th, 2021. It's 95,000 won. And nothing special.\\n• K00562, right? Doing 16? You can do it until June 28th, 2021, and the unit price is 7,500 won. Oh, and there's nothing special about it.\\n• 061609 came. I have to do 33 and it's until June 29th, 2021. Unit price 11,900 won. Oh, nothing special.\\n• Just got 058045. 64. You have until June 29th, 2021. 246,800 won. Nothing special.\\n• This is 067921, 12 please. It has to be done by June 29th, 2021, and the unit price is 39,200 won. Oh, and there's nothing special about it.\",\n",
       " \"• Hey, look at this, is this 066038 20? It's until June 25th, 2021, 42,940 won. And nothing special.\\n• This is 066074 44 please. It has to be done by June 26th 2021 and the unit price is 8,835 won. Oh and there's nothing special about it.\\n• There, I need to do 40 drawings of 069494. It's until June 26, 2021. It's 27,039 won. And nothing special.\\n• Hey, this seems urgent. I need to do 069559 32 by June 28th, 2021. The unit price is 242,250 won and it's an inspection item.\\n• There are 16 K00563 drawings that need to be done. It's until June 28th, 2021. It's 95,000 won. And nothing special.\\n• K00562, right? Doing 16? You can do it until June 28th, 2021, and the unit price is 7,500 won. Oh, and there's nothing special about it.\\n• 061609 came. I have to do 33 and it's until June 29th, 2021. Unit price 11,900 won. Oh, nothing special.\\n• Just got 058045. 64. You have until June 29th, 2021. 246,800 won. Nothing special.\\n• This is 067921, 12 please. It has to be done by June 29th, 2021, and the unit price is 39,200 won. Oh, and there's nothing special about it.\\n• Oh, I just got the 057791 drawing, and it says it's due on June 29th, 2021. I need to do 200 of them, and it costs 40,973 won, and it's an inspection item.\",\n",
       " \"• This is 066074 44 please. It has to be done by June 26th 2021 and the unit price is 8,835 won. Oh and there's nothing special about it.\\n• There, I need to do 40 drawings of 069494. It's until June 26, 2021. It's 27,039 won. And nothing special.\\n• Hey, this seems urgent. I need to do 069559 32 by June 28th, 2021. The unit price is 242,250 won and it's an inspection item.\\n• There are 16 K00563 drawings that need to be done. It's until June 28th, 2021. It's 95,000 won. And nothing special.\\n• K00562, right? Doing 16? You can do it until June 28th, 2021, and the unit price is 7,500 won. Oh, and there's nothing special about it.\\n• 061609 came. I have to do 33 and it's until June 29th, 2021. Unit price 11,900 won. Oh, nothing special.\\n• Just got 058045. 64. You have until June 29th, 2021. 246,800 won. Nothing special.\\n• This is 067921, 12 please. It has to be done by June 29th, 2021, and the unit price is 39,200 won. Oh, and there's nothing special about it.\\n• Oh, I just got the 057791 drawing, and it says it's due on June 29th, 2021. I need to do 200 of them, and it costs 40,973 won, and it's an inspection item.\\n• Hey, this seems urgent. I have to do 063473 72 by June 30th, 2021. The unit price is 26,140 won and there's nothing special about it.\",\n",
       " \"• There, I need to do 40 drawings of 069494. It's until June 26, 2021. It's 27,039 won. And nothing special.\\n• Hey, this seems urgent. I need to do 069559 32 by June 28th, 2021. The unit price is 242,250 won and it's an inspection item.\\n• There are 16 K00563 drawings that need to be done. It's until June 28th, 2021. It's 95,000 won. And nothing special.\\n• K00562, right? Doing 16? You can do it until June 28th, 2021, and the unit price is 7,500 won. Oh, and there's nothing special about it.\\n• 061609 came. I have to do 33 and it's until June 29th, 2021. Unit price 11,900 won. Oh, nothing special.\\n• Just got 058045. 64. You have until June 29th, 2021. 246,800 won. Nothing special.\\n• This is 067921, 12 please. It has to be done by June 29th, 2021, and the unit price is 39,200 won. Oh, and there's nothing special about it.\\n• Oh, I just got the 057791 drawing, and it says it's due on June 29th, 2021. I need to do 200 of them, and it costs 40,973 won, and it's an inspection item.\\n• Hey, this seems urgent. I have to do 063473 72 by June 30th, 2021. The unit price is 26,140 won and there's nothing special about it.\\n• Oh, I need to do 716 drawings for 067820, but it's due by June 30th, 2021. The unit price is 23,362 won and it's an inspection item.\",\n",
       " \"• Hey, this seems urgent. I need to do 069559 32 by June 28th, 2021. The unit price is 242,250 won and it's an inspection item.\\n• There are 16 K00563 drawings that need to be done. It's until June 28th, 2021. It's 95,000 won. And nothing special.\\n• K00562, right? Doing 16? You can do it until June 28th, 2021, and the unit price is 7,500 won. Oh, and there's nothing special about it.\\n• 061609 came. I have to do 33 and it's until June 29th, 2021. Unit price 11,900 won. Oh, nothing special.\\n• Just got 058045. 64. You have until June 29th, 2021. 246,800 won. Nothing special.\\n• This is 067921, 12 please. It has to be done by June 29th, 2021, and the unit price is 39,200 won. Oh, and there's nothing special about it.\\n• Oh, I just got the 057791 drawing, and it says it's due on June 29th, 2021. I need to do 200 of them, and it costs 40,973 won, and it's an inspection item.\\n• Hey, this seems urgent. I have to do 063473 72 by June 30th, 2021. The unit price is 26,140 won and there's nothing special about it.\\n• Oh, I need to do 716 drawings for 067820, but it's due by June 30th, 2021. The unit price is 23,362 won and it's an inspection item.\\n• 062953 came. I have to do 194 and it's until June 30th, 2021. Unit price 23,500 won. Oh, right, inspection items.\",\n",
       " \"• There are 16 K00563 drawings that need to be done. It's until June 28th, 2021. It's 95,000 won. And nothing special.\\n• K00562, right? Doing 16? You can do it until June 28th, 2021, and the unit price is 7,500 won. Oh, and there's nothing special about it.\\n• 061609 came. I have to do 33 and it's until June 29th, 2021. Unit price 11,900 won. Oh, nothing special.\\n• Just got 058045. 64. You have until June 29th, 2021. 246,800 won. Nothing special.\\n• This is 067921, 12 please. It has to be done by June 29th, 2021, and the unit price is 39,200 won. Oh, and there's nothing special about it.\\n• Oh, I just got the 057791 drawing, and it says it's due on June 29th, 2021. I need to do 200 of them, and it costs 40,973 won, and it's an inspection item.\\n• Hey, this seems urgent. I have to do 063473 72 by June 30th, 2021. The unit price is 26,140 won and there's nothing special about it.\\n• Oh, I need to do 716 drawings for 067820, but it's due by June 30th, 2021. The unit price is 23,362 won and it's an inspection item.\\n• 062953 came. I have to do 194 and it's until June 30th, 2021. Unit price 23,500 won. Oh, right, inspection items.\\n• Hey, this seems urgent. I need to order 66 K03894s by June 30th, 2021. The unit price is 60,000 won and it's ABS-W.\",\n",
       " \"• K00562, right? Doing 16? You can do it until June 28th, 2021, and the unit price is 7,500 won. Oh, and there's nothing special about it.\\n• 061609 came. I have to do 33 and it's until June 29th, 2021. Unit price 11,900 won. Oh, nothing special.\\n• Just got 058045. 64. You have until June 29th, 2021. 246,800 won. Nothing special.\\n• This is 067921, 12 please. It has to be done by June 29th, 2021, and the unit price is 39,200 won. Oh, and there's nothing special about it.\\n• Oh, I just got the 057791 drawing, and it says it's due on June 29th, 2021. I need to do 200 of them, and it costs 40,973 won, and it's an inspection item.\\n• Hey, this seems urgent. I have to do 063473 72 by June 30th, 2021. The unit price is 26,140 won and there's nothing special about it.\\n• Oh, I need to do 716 drawings for 067820, but it's due by June 30th, 2021. The unit price is 23,362 won and it's an inspection item.\\n• 062953 came. I have to do 194 and it's until June 30th, 2021. Unit price 23,500 won. Oh, right, inspection items.\\n• Hey, this seems urgent. I need to order 66 K03894s by June 30th, 2021. The unit price is 60,000 won and it's ABS-W.\\n• just got the 065848 drawing. I need 18 of them. They have until June 30th, 2021. It costs 44,732 won. Nothing special.\",\n",
       " \"• 061609 came. I have to do 33 and it's until June 29th, 2021. Unit price 11,900 won. Oh, nothing special.\\n• Just got 058045. 64. You have until June 29th, 2021. 246,800 won. Nothing special.\\n• This is 067921, 12 please. It has to be done by June 29th, 2021, and the unit price is 39,200 won. Oh, and there's nothing special about it.\\n• Oh, I just got the 057791 drawing, and it says it's due on June 29th, 2021. I need to do 200 of them, and it costs 40,973 won, and it's an inspection item.\\n• Hey, this seems urgent. I have to do 063473 72 by June 30th, 2021. The unit price is 26,140 won and there's nothing special about it.\\n• Oh, I need to do 716 drawings for 067820, but it's due by June 30th, 2021. The unit price is 23,362 won and it's an inspection item.\\n• 062953 came. I have to do 194 and it's until June 30th, 2021. Unit price 23,500 won. Oh, right, inspection items.\\n• Hey, this seems urgent. I need to order 66 K03894s by June 30th, 2021. The unit price is 60,000 won and it's ABS-W.\\n• just got the 065848 drawing. I need 18 of them. They have until June 30th, 2021. It costs 44,732 won. Nothing special.\\n• There's 062732 that came yesterday. I have to do two of those, and it's until June 30th, 2021. It's 32,000 won, and there's nothing special about it.\",\n",
       " \"• Just got 058045. 64. You have until June 29th, 2021. 246,800 won. Nothing special.\\n• This is 067921, 12 please. It has to be done by June 29th, 2021, and the unit price is 39,200 won. Oh, and there's nothing special about it.\\n• Oh, I just got the 057791 drawing, and it says it's due on June 29th, 2021. I need to do 200 of them, and it costs 40,973 won, and it's an inspection item.\\n• Hey, this seems urgent. I have to do 063473 72 by June 30th, 2021. The unit price is 26,140 won and there's nothing special about it.\\n• Oh, I need to do 716 drawings for 067820, but it's due by June 30th, 2021. The unit price is 23,362 won and it's an inspection item.\\n• 062953 came. I have to do 194 and it's until June 30th, 2021. Unit price 23,500 won. Oh, right, inspection items.\\n• Hey, this seems urgent. I need to order 66 K03894s by June 30th, 2021. The unit price is 60,000 won and it's ABS-W.\\n• just got the 065848 drawing. I need 18 of them. They have until June 30th, 2021. It costs 44,732 won. Nothing special.\\n• There's 062732 that came yesterday. I have to do two of those, and it's until June 30th, 2021. It's 32,000 won, and there's nothing special about it.\\n• There's 057387 that came yesterday. I have to do 400 of them, but it's until June 30th, 2021. It's 21,160 won, nothing special.\",\n",
       " \"• This is 067921, 12 please. It has to be done by June 29th, 2021, and the unit price is 39,200 won. Oh, and there's nothing special about it.\\n• Oh, I just got the 057791 drawing, and it says it's due on June 29th, 2021. I need to do 200 of them, and it costs 40,973 won, and it's an inspection item.\\n• Hey, this seems urgent. I have to do 063473 72 by June 30th, 2021. The unit price is 26,140 won and there's nothing special about it.\\n• Oh, I need to do 716 drawings for 067820, but it's due by June 30th, 2021. The unit price is 23,362 won and it's an inspection item.\\n• 062953 came. I have to do 194 and it's until June 30th, 2021. Unit price 23,500 won. Oh, right, inspection items.\\n• Hey, this seems urgent. I need to order 66 K03894s by June 30th, 2021. The unit price is 60,000 won and it's ABS-W.\\n• just got the 065848 drawing. I need 18 of them. They have until June 30th, 2021. It costs 44,732 won. Nothing special.\\n• There's 062732 that came yesterday. I have to do two of those, and it's until June 30th, 2021. It's 32,000 won, and there's nothing special about it.\\n• There's 057387 that came yesterday. I have to do 400 of them, but it's until June 30th, 2021. It's 21,160 won, nothing special.\\n• Check this out. It says 057386 400, but it's due on June 30th, 2021. 28,520 won, nothing special.\",\n",
       " \"• Oh, I just got the 057791 drawing, and it says it's due on June 29th, 2021. I need to do 200 of them, and it costs 40,973 won, and it's an inspection item.\\n• Hey, this seems urgent. I have to do 063473 72 by June 30th, 2021. The unit price is 26,140 won and there's nothing special about it.\\n• Oh, I need to do 716 drawings for 067820, but it's due by June 30th, 2021. The unit price is 23,362 won and it's an inspection item.\\n• 062953 came. I have to do 194 and it's until June 30th, 2021. Unit price 23,500 won. Oh, right, inspection items.\\n• Hey, this seems urgent. I need to order 66 K03894s by June 30th, 2021. The unit price is 60,000 won and it's ABS-W.\\n• just got the 065848 drawing. I need 18 of them. They have until June 30th, 2021. It costs 44,732 won. Nothing special.\\n• There's 062732 that came yesterday. I have to do two of those, and it's until June 30th, 2021. It's 32,000 won, and there's nothing special about it.\\n• There's 057387 that came yesterday. I have to do 400 of them, but it's until June 30th, 2021. It's 21,160 won, nothing special.\\n• Check this out. It says 057386 400, but it's due on June 30th, 2021. 28,520 won, nothing special.\\n• 056587 You know? I have to do 20 of those, and it's until July 1st, 2021. It's 12,740 won, nothing special.\",\n",
       " \"• Hey, this seems urgent. I have to do 063473 72 by June 30th, 2021. The unit price is 26,140 won and there's nothing special about it.\\n• Oh, I need to do 716 drawings for 067820, but it's due by June 30th, 2021. The unit price is 23,362 won and it's an inspection item.\\n• 062953 came. I have to do 194 and it's until June 30th, 2021. Unit price 23,500 won. Oh, right, inspection items.\\n• Hey, this seems urgent. I need to order 66 K03894s by June 30th, 2021. The unit price is 60,000 won and it's ABS-W.\\n• just got the 065848 drawing. I need 18 of them. They have until June 30th, 2021. It costs 44,732 won. Nothing special.\\n• There's 062732 that came yesterday. I have to do two of those, and it's until June 30th, 2021. It's 32,000 won, and there's nothing special about it.\\n• There's 057387 that came yesterday. I have to do 400 of them, but it's until June 30th, 2021. It's 21,160 won, nothing special.\\n• Check this out. It says 057386 400, but it's due on June 30th, 2021. 28,520 won, nothing special.\\n• 056587 You know? I have to do 20 of those, and it's until July 1st, 2021. It's 12,740 won, nothing special.\\n• Oh, I just got the 057045 drawing, and it says it's due on July 1, 2021. I need to do 10 of them, and it costs 21,260 won. Nothing special.\",\n",
       " \"• Oh, I need to do 716 drawings for 067820, but it's due by June 30th, 2021. The unit price is 23,362 won and it's an inspection item.\\n• 062953 came. I have to do 194 and it's until June 30th, 2021. Unit price 23,500 won. Oh, right, inspection items.\\n• Hey, this seems urgent. I need to order 66 K03894s by June 30th, 2021. The unit price is 60,000 won and it's ABS-W.\\n• just got the 065848 drawing. I need 18 of them. They have until June 30th, 2021. It costs 44,732 won. Nothing special.\\n• There's 062732 that came yesterday. I have to do two of those, and it's until June 30th, 2021. It's 32,000 won, and there's nothing special about it.\\n• There's 057387 that came yesterday. I have to do 400 of them, but it's until June 30th, 2021. It's 21,160 won, nothing special.\\n• Check this out. It says 057386 400, but it's due on June 30th, 2021. 28,520 won, nothing special.\\n• 056587 You know? I have to do 20 of those, and it's until July 1st, 2021. It's 12,740 won, nothing special.\\n• Oh, I just got the 057045 drawing, and it says it's due on July 1, 2021. I need to do 10 of them, and it costs 21,260 won. Nothing special.\\n• I just got an urgent call for 057387. I need to do 144 of them by July 1, 2021. 16,100 won, ABS/W.\",\n",
       " \"• 062953 came. I have to do 194 and it's until June 30th, 2021. Unit price 23,500 won. Oh, right, inspection items.\\n• Hey, this seems urgent. I need to order 66 K03894s by June 30th, 2021. The unit price is 60,000 won and it's ABS-W.\\n• just got the 065848 drawing. I need 18 of them. They have until June 30th, 2021. It costs 44,732 won. Nothing special.\\n• There's 062732 that came yesterday. I have to do two of those, and it's until June 30th, 2021. It's 32,000 won, and there's nothing special about it.\\n• There's 057387 that came yesterday. I have to do 400 of them, but it's until June 30th, 2021. It's 21,160 won, nothing special.\\n• Check this out. It says 057386 400, but it's due on June 30th, 2021. 28,520 won, nothing special.\\n• 056587 You know? I have to do 20 of those, and it's until July 1st, 2021. It's 12,740 won, nothing special.\\n• Oh, I just got the 057045 drawing, and it says it's due on July 1, 2021. I need to do 10 of them, and it costs 21,260 won. Nothing special.\\n• I just got an urgent call for 057387. I need to do 144 of them by July 1, 2021. 16,100 won, ABS/W.\\n• There's K04046 that came yesterday. I need to do 370 of them, but it's until July 1, 2021. It's 9,416 won. It's an inspection product.\",\n",
       " \"• Hey, this seems urgent. I need to order 66 K03894s by June 30th, 2021. The unit price is 60,000 won and it's ABS-W.\\n• just got the 065848 drawing. I need 18 of them. They have until June 30th, 2021. It costs 44,732 won. Nothing special.\\n• There's 062732 that came yesterday. I have to do two of those, and it's until June 30th, 2021. It's 32,000 won, and there's nothing special about it.\\n• There's 057387 that came yesterday. I have to do 400 of them, but it's until June 30th, 2021. It's 21,160 won, nothing special.\\n• Check this out. It says 057386 400, but it's due on June 30th, 2021. 28,520 won, nothing special.\\n• 056587 You know? I have to do 20 of those, and it's until July 1st, 2021. It's 12,740 won, nothing special.\\n• Oh, I just got the 057045 drawing, and it says it's due on July 1, 2021. I need to do 10 of them, and it costs 21,260 won. Nothing special.\\n• I just got an urgent call for 057387. I need to do 144 of them by July 1, 2021. 16,100 won, ABS/W.\\n• There's K04046 that came yesterday. I need to do 370 of them, but it's until July 1, 2021. It's 9,416 won. It's an inspection product.\\n• Oh, I just got the 057386 drawing, and it says it's due on July 1, 2021. I need to do 144 of them, and it costs 22,750 won, ABS/W.\",\n",
       " \"• just got the 065848 drawing. I need 18 of them. They have until June 30th, 2021. It costs 44,732 won. Nothing special.\\n• There's 062732 that came yesterday. I have to do two of those, and it's until June 30th, 2021. It's 32,000 won, and there's nothing special about it.\\n• There's 057387 that came yesterday. I have to do 400 of them, but it's until June 30th, 2021. It's 21,160 won, nothing special.\\n• Check this out. It says 057386 400, but it's due on June 30th, 2021. 28,520 won, nothing special.\\n• 056587 You know? I have to do 20 of those, and it's until July 1st, 2021. It's 12,740 won, nothing special.\\n• Oh, I just got the 057045 drawing, and it says it's due on July 1, 2021. I need to do 10 of them, and it costs 21,260 won. Nothing special.\\n• I just got an urgent call for 057387. I need to do 144 of them by July 1, 2021. 16,100 won, ABS/W.\\n• There's K04046 that came yesterday. I need to do 370 of them, but it's until July 1, 2021. It's 9,416 won. It's an inspection product.\\n• Oh, I just got the 057386 drawing, and it says it's due on July 1, 2021. I need to do 144 of them, and it costs 22,750 won, ABS/W.\\n• This is a bit urgent, 069159 drawing 52 pieces, due on July 2nd, 2021. It costs 481,190 won and there is also an AB/W condition.\",\n",
       " \"• There's 062732 that came yesterday. I have to do two of those, and it's until June 30th, 2021. It's 32,000 won, and there's nothing special about it.\\n• There's 057387 that came yesterday. I have to do 400 of them, but it's until June 30th, 2021. It's 21,160 won, nothing special.\\n• Check this out. It says 057386 400, but it's due on June 30th, 2021. 28,520 won, nothing special.\\n• 056587 You know? I have to do 20 of those, and it's until July 1st, 2021. It's 12,740 won, nothing special.\\n• Oh, I just got the 057045 drawing, and it says it's due on July 1, 2021. I need to do 10 of them, and it costs 21,260 won. Nothing special.\\n• I just got an urgent call for 057387. I need to do 144 of them by July 1, 2021. 16,100 won, ABS/W.\\n• There's K04046 that came yesterday. I need to do 370 of them, but it's until July 1, 2021. It's 9,416 won. It's an inspection product.\\n• Oh, I just got the 057386 drawing, and it says it's due on July 1, 2021. I need to do 144 of them, and it costs 22,750 won, ABS/W.\\n• This is a bit urgent, 069159 drawing 52 pieces, due on July 2nd, 2021. It costs 481,190 won and there is also an AB/W condition.\\n• There, I need to do 42 drawings for 066736. It's until July 2, 2021. It's 11,500 won. And nothing special.\",\n",
       " \"• There's 057387 that came yesterday. I have to do 400 of them, but it's until June 30th, 2021. It's 21,160 won, nothing special.\\n• Check this out. It says 057386 400, but it's due on June 30th, 2021. 28,520 won, nothing special.\\n• 056587 You know? I have to do 20 of those, and it's until July 1st, 2021. It's 12,740 won, nothing special.\\n• Oh, I just got the 057045 drawing, and it says it's due on July 1, 2021. I need to do 10 of them, and it costs 21,260 won. Nothing special.\\n• I just got an urgent call for 057387. I need to do 144 of them by July 1, 2021. 16,100 won, ABS/W.\\n• There's K04046 that came yesterday. I need to do 370 of them, but it's until July 1, 2021. It's 9,416 won. It's an inspection product.\\n• Oh, I just got the 057386 drawing, and it says it's due on July 1, 2021. I need to do 144 of them, and it costs 22,750 won, ABS/W.\\n• This is a bit urgent, 069159 drawing 52 pieces, due on July 2nd, 2021. It costs 481,190 won and there is also an AB/W condition.\\n• There, I need to do 42 drawings for 066736. It's until July 2, 2021. It's 11,500 won. And nothing special.\\n• Hey, this is urgent. 069196 80 pieces, please do it by July 2, 2021. 10,220 won, nothing special.\",\n",
       " \"• Check this out. It says 057386 400, but it's due on June 30th, 2021. 28,520 won, nothing special.\\n• 056587 You know? I have to do 20 of those, and it's until July 1st, 2021. It's 12,740 won, nothing special.\\n• Oh, I just got the 057045 drawing, and it says it's due on July 1, 2021. I need to do 10 of them, and it costs 21,260 won. Nothing special.\\n• I just got an urgent call for 057387. I need to do 144 of them by July 1, 2021. 16,100 won, ABS/W.\\n• There's K04046 that came yesterday. I need to do 370 of them, but it's until July 1, 2021. It's 9,416 won. It's an inspection product.\\n• Oh, I just got the 057386 drawing, and it says it's due on July 1, 2021. I need to do 144 of them, and it costs 22,750 won, ABS/W.\\n• This is a bit urgent, 069159 drawing 52 pieces, due on July 2nd, 2021. It costs 481,190 won and there is also an AB/W condition.\\n• There, I need to do 42 drawings for 066736. It's until July 2, 2021. It's 11,500 won. And nothing special.\\n• Hey, this is urgent. 069196 80 pieces, please do it by July 2, 2021. 10,220 won, nothing special.\\n• Hey, look at this, is this 057791 204? It's until July 2, 2021, 40,973 won. And the inspection item.\",\n",
       " \"• 056587 You know? I have to do 20 of those, and it's until July 1st, 2021. It's 12,740 won, nothing special.\\n• Oh, I just got the 057045 drawing, and it says it's due on July 1, 2021. I need to do 10 of them, and it costs 21,260 won. Nothing special.\\n• I just got an urgent call for 057387. I need to do 144 of them by July 1, 2021. 16,100 won, ABS/W.\\n• There's K04046 that came yesterday. I need to do 370 of them, but it's until July 1, 2021. It's 9,416 won. It's an inspection product.\\n• Oh, I just got the 057386 drawing, and it says it's due on July 1, 2021. I need to do 144 of them, and it costs 22,750 won, ABS/W.\\n• This is a bit urgent, 069159 drawing 52 pieces, due on July 2nd, 2021. It costs 481,190 won and there is also an AB/W condition.\\n• There, I need to do 42 drawings for 066736. It's until July 2, 2021. It's 11,500 won. And nothing special.\\n• Hey, this is urgent. 069196 80 pieces, please do it by July 2, 2021. 10,220 won, nothing special.\\n• Hey, look at this, is this 057791 204? It's until July 2, 2021, 40,973 won. And the inspection item.\\n• This is a bit urgent, 068898 drawing 128 pieces until July 2, 2021. It's 9,170 won, no special conditions.\",\n",
       " \"• Oh, I just got the 057045 drawing, and it says it's due on July 1, 2021. I need to do 10 of them, and it costs 21,260 won. Nothing special.\\n• I just got an urgent call for 057387. I need to do 144 of them by July 1, 2021. 16,100 won, ABS/W.\\n• There's K04046 that came yesterday. I need to do 370 of them, but it's until July 1, 2021. It's 9,416 won. It's an inspection product.\\n• Oh, I just got the 057386 drawing, and it says it's due on July 1, 2021. I need to do 144 of them, and it costs 22,750 won, ABS/W.\\n• This is a bit urgent, 069159 drawing 52 pieces, due on July 2nd, 2021. It costs 481,190 won and there is also an AB/W condition.\\n• There, I need to do 42 drawings for 066736. It's until July 2, 2021. It's 11,500 won. And nothing special.\\n• Hey, this is urgent. 069196 80 pieces, please do it by July 2, 2021. 10,220 won, nothing special.\\n• Hey, look at this, is this 057791 204? It's until July 2, 2021, 40,973 won. And the inspection item.\\n• This is a bit urgent, 068898 drawing 128 pieces until July 2, 2021. It's 9,170 won, no special conditions.\\n• Hey, this seems urgent. I have to do 067447 66 by July 5th, 2021. The unit price is 8,000 won and there's nothing special about it.\",\n",
       " \"• I just got an urgent call for 057387. I need to do 144 of them by July 1, 2021. 16,100 won, ABS/W.\\n• There's K04046 that came yesterday. I need to do 370 of them, but it's until July 1, 2021. It's 9,416 won. It's an inspection product.\\n• Oh, I just got the 057386 drawing, and it says it's due on July 1, 2021. I need to do 144 of them, and it costs 22,750 won, ABS/W.\\n• This is a bit urgent, 069159 drawing 52 pieces, due on July 2nd, 2021. It costs 481,190 won and there is also an AB/W condition.\\n• There, I need to do 42 drawings for 066736. It's until July 2, 2021. It's 11,500 won. And nothing special.\\n• Hey, this is urgent. 069196 80 pieces, please do it by July 2, 2021. 10,220 won, nothing special.\\n• Hey, look at this, is this 057791 204? It's until July 2, 2021, 40,973 won. And the inspection item.\\n• This is a bit urgent, 068898 drawing 128 pieces until July 2, 2021. It's 9,170 won, no special conditions.\\n• Hey, this seems urgent. I have to do 067447 66 by July 5th, 2021. The unit price is 8,000 won and there's nothing special about it.\\n• I just got the 066496 drawing. I need 5 of them. They have to do it by July 5th, 2021. It'll cost 266,000 won. Nothing special.\",\n",
       " \"• There's K04046 that came yesterday. I need to do 370 of them, but it's until July 1, 2021. It's 9,416 won. It's an inspection product.\\n• Oh, I just got the 057386 drawing, and it says it's due on July 1, 2021. I need to do 144 of them, and it costs 22,750 won, ABS/W.\\n• This is a bit urgent, 069159 drawing 52 pieces, due on July 2nd, 2021. It costs 481,190 won and there is also an AB/W condition.\\n• There, I need to do 42 drawings for 066736. It's until July 2, 2021. It's 11,500 won. And nothing special.\\n• Hey, this is urgent. 069196 80 pieces, please do it by July 2, 2021. 10,220 won, nothing special.\\n• Hey, look at this, is this 057791 204? It's until July 2, 2021, 40,973 won. And the inspection item.\\n• This is a bit urgent, 068898 drawing 128 pieces until July 2, 2021. It's 9,170 won, no special conditions.\\n• Hey, this seems urgent. I have to do 067447 66 by July 5th, 2021. The unit price is 8,000 won and there's nothing special about it.\\n• I just got the 066496 drawing. I need 5 of them. They have to do it by July 5th, 2021. It'll cost 266,000 won. Nothing special.\\n• 066796 You know? I have to do 240 of them, and it's until July 5th, 2021. It's 11,000 won, nothing special.\",\n",
       " \"• Oh, I just got the 057386 drawing, and it says it's due on July 1, 2021. I need to do 144 of them, and it costs 22,750 won, ABS/W.\\n• This is a bit urgent, 069159 drawing 52 pieces, due on July 2nd, 2021. It costs 481,190 won and there is also an AB/W condition.\\n• There, I need to do 42 drawings for 066736. It's until July 2, 2021. It's 11,500 won. And nothing special.\\n• Hey, this is urgent. 069196 80 pieces, please do it by July 2, 2021. 10,220 won, nothing special.\\n• Hey, look at this, is this 057791 204? It's until July 2, 2021, 40,973 won. And the inspection item.\\n• This is a bit urgent, 068898 drawing 128 pieces until July 2, 2021. It's 9,170 won, no special conditions.\\n• Hey, this seems urgent. I have to do 067447 66 by July 5th, 2021. The unit price is 8,000 won and there's nothing special about it.\\n• I just got the 066496 drawing. I need 5 of them. They have to do it by July 5th, 2021. It'll cost 266,000 won. Nothing special.\\n• 066796 You know? I have to do 240 of them, and it's until July 5th, 2021. It's 11,000 won, nothing special.\\n• 064192 came. I have to do 20 and it's due by July 5th, 2021. Unit price 17,684 won. Oh, nothing special.\",\n",
       " \"• This is a bit urgent, 069159 drawing 52 pieces, due on July 2nd, 2021. It costs 481,190 won and there is also an AB/W condition.\\n• There, I need to do 42 drawings for 066736. It's until July 2, 2021. It's 11,500 won. And nothing special.\\n• Hey, this is urgent. 069196 80 pieces, please do it by July 2, 2021. 10,220 won, nothing special.\\n• Hey, look at this, is this 057791 204? It's until July 2, 2021, 40,973 won. And the inspection item.\\n• This is a bit urgent, 068898 drawing 128 pieces until July 2, 2021. It's 9,170 won, no special conditions.\\n• Hey, this seems urgent. I have to do 067447 66 by July 5th, 2021. The unit price is 8,000 won and there's nothing special about it.\\n• I just got the 066496 drawing. I need 5 of them. They have to do it by July 5th, 2021. It'll cost 266,000 won. Nothing special.\\n• 066796 You know? I have to do 240 of them, and it's until July 5th, 2021. It's 11,000 won, nothing special.\\n• 064192 came. I have to do 20 and it's due by July 5th, 2021. Unit price 17,684 won. Oh, nothing special.\\n• I just got an urgent 059988. I need to do 24 of them, but it's due by July 6th, 2021. 166,250 won, inspection item.\",\n",
       " \"• There, I need to do 42 drawings for 066736. It's until July 2, 2021. It's 11,500 won. And nothing special.\\n• Hey, this is urgent. 069196 80 pieces, please do it by July 2, 2021. 10,220 won, nothing special.\\n• Hey, look at this, is this 057791 204? It's until July 2, 2021, 40,973 won. And the inspection item.\\n• This is a bit urgent, 068898 drawing 128 pieces until July 2, 2021. It's 9,170 won, no special conditions.\\n• Hey, this seems urgent. I have to do 067447 66 by July 5th, 2021. The unit price is 8,000 won and there's nothing special about it.\\n• I just got the 066496 drawing. I need 5 of them. They have to do it by July 5th, 2021. It'll cost 266,000 won. Nothing special.\\n• 066796 You know? I have to do 240 of them, and it's until July 5th, 2021. It's 11,000 won, nothing special.\\n• 064192 came. I have to do 20 and it's due by July 5th, 2021. Unit price 17,684 won. Oh, nothing special.\\n• I just got an urgent 059988. I need to do 24 of them, but it's due by July 6th, 2021. 166,250 won, inspection item.\\n• K03899 urgent case has arrived. 396 need to be done by July 6th, 2021. 22,005 won, inspection item.\",\n",
       " \"• Hey, this is urgent. 069196 80 pieces, please do it by July 2, 2021. 10,220 won, nothing special.\\n• Hey, look at this, is this 057791 204? It's until July 2, 2021, 40,973 won. And the inspection item.\\n• This is a bit urgent, 068898 drawing 128 pieces until July 2, 2021. It's 9,170 won, no special conditions.\\n• Hey, this seems urgent. I have to do 067447 66 by July 5th, 2021. The unit price is 8,000 won and there's nothing special about it.\\n• I just got the 066496 drawing. I need 5 of them. They have to do it by July 5th, 2021. It'll cost 266,000 won. Nothing special.\\n• 066796 You know? I have to do 240 of them, and it's until July 5th, 2021. It's 11,000 won, nothing special.\\n• 064192 came. I have to do 20 and it's due by July 5th, 2021. Unit price 17,684 won. Oh, nothing special.\\n• I just got an urgent 059988. I need to do 24 of them, but it's due by July 6th, 2021. 166,250 won, inspection item.\\n• K03899 urgent case has arrived. 396 need to be done by July 6th, 2021. 22,005 won, inspection item.\\n• Oh, I just got the K03894 drawing, and it says it's due on July 7th, 2021. I need to do 46 of them, and it costs 60,000 won, starting with DNGL-W.\",\n",
       " \"• Hey, look at this, is this 057791 204? It's until July 2, 2021, 40,973 won. And the inspection item.\\n• This is a bit urgent, 068898 drawing 128 pieces until July 2, 2021. It's 9,170 won, no special conditions.\\n• Hey, this seems urgent. I have to do 067447 66 by July 5th, 2021. The unit price is 8,000 won and there's nothing special about it.\\n• I just got the 066496 drawing. I need 5 of them. They have to do it by July 5th, 2021. It'll cost 266,000 won. Nothing special.\\n• 066796 You know? I have to do 240 of them, and it's until July 5th, 2021. It's 11,000 won, nothing special.\\n• 064192 came. I have to do 20 and it's due by July 5th, 2021. Unit price 17,684 won. Oh, nothing special.\\n• I just got an urgent 059988. I need to do 24 of them, but it's due by July 6th, 2021. 166,250 won, inspection item.\\n• K03899 urgent case has arrived. 396 need to be done by July 6th, 2021. 22,005 won, inspection item.\\n• Oh, I just got the K03894 drawing, and it says it's due on July 7th, 2021. I need to do 46 of them, and it costs 60,000 won, starting with DNGL-W.\\n• Just got 069559. 15. You have until July 8th, 2021. 242,250 won and inspection items.\",\n",
       " \"• This is a bit urgent, 068898 drawing 128 pieces until July 2, 2021. It's 9,170 won, no special conditions.\\n• Hey, this seems urgent. I have to do 067447 66 by July 5th, 2021. The unit price is 8,000 won and there's nothing special about it.\\n• I just got the 066496 drawing. I need 5 of them. They have to do it by July 5th, 2021. It'll cost 266,000 won. Nothing special.\\n• 066796 You know? I have to do 240 of them, and it's until July 5th, 2021. It's 11,000 won, nothing special.\\n• 064192 came. I have to do 20 and it's due by July 5th, 2021. Unit price 17,684 won. Oh, nothing special.\\n• I just got an urgent 059988. I need to do 24 of them, but it's due by July 6th, 2021. 166,250 won, inspection item.\\n• K03899 urgent case has arrived. 396 need to be done by July 6th, 2021. 22,005 won, inspection item.\\n• Oh, I just got the K03894 drawing, and it says it's due on July 7th, 2021. I need to do 46 of them, and it costs 60,000 won, starting with DNGL-W.\\n• Just got 069559. 15. You have until July 8th, 2021. 242,250 won and inspection items.\\n• Wait, check this, is this drawing 057386 84? It's until July 9th, 2021, and it's 24,418 won? There's also LR/W.\",\n",
       " \"• Hey, this seems urgent. I have to do 067447 66 by July 5th, 2021. The unit price is 8,000 won and there's nothing special about it.\\n• I just got the 066496 drawing. I need 5 of them. They have to do it by July 5th, 2021. It'll cost 266,000 won. Nothing special.\\n• 066796 You know? I have to do 240 of them, and it's until July 5th, 2021. It's 11,000 won, nothing special.\\n• 064192 came. I have to do 20 and it's due by July 5th, 2021. Unit price 17,684 won. Oh, nothing special.\\n• I just got an urgent 059988. I need to do 24 of them, but it's due by July 6th, 2021. 166,250 won, inspection item.\\n• K03899 urgent case has arrived. 396 need to be done by July 6th, 2021. 22,005 won, inspection item.\\n• Oh, I just got the K03894 drawing, and it says it's due on July 7th, 2021. I need to do 46 of them, and it costs 60,000 won, starting with DNGL-W.\\n• Just got 069559. 15. You have until July 8th, 2021. 242,250 won and inspection items.\\n• Wait, check this, is this drawing 057386 84? It's until July 9th, 2021, and it's 24,418 won? There's also LR/W.\\n• 057387 is here. I need to do 84 and it's due by July 9th, 2021. Unit price 17,794 won. Oh, right, LR/W\",\n",
       " \"• I just got the 066496 drawing. I need 5 of them. They have to do it by July 5th, 2021. It'll cost 266,000 won. Nothing special.\\n• 066796 You know? I have to do 240 of them, and it's until July 5th, 2021. It's 11,000 won, nothing special.\\n• 064192 came. I have to do 20 and it's due by July 5th, 2021. Unit price 17,684 won. Oh, nothing special.\\n• I just got an urgent 059988. I need to do 24 of them, but it's due by July 6th, 2021. 166,250 won, inspection item.\\n• K03899 urgent case has arrived. 396 need to be done by July 6th, 2021. 22,005 won, inspection item.\\n• Oh, I just got the K03894 drawing, and it says it's due on July 7th, 2021. I need to do 46 of them, and it costs 60,000 won, starting with DNGL-W.\\n• Just got 069559. 15. You have until July 8th, 2021. 242,250 won and inspection items.\\n• Wait, check this, is this drawing 057386 84? It's until July 9th, 2021, and it's 24,418 won? There's also LR/W.\\n• 057387 is here. I need to do 84 and it's due by July 9th, 2021. Unit price 17,794 won. Oh, right, LR/W\\n• This is 057386 116 please. It has to be done by July 9th 2021 and the unit price is 24,418 won. Oh and BV/W\",\n",
       " \"• 066796 You know? I have to do 240 of them, and it's until July 5th, 2021. It's 11,000 won, nothing special.\\n• 064192 came. I have to do 20 and it's due by July 5th, 2021. Unit price 17,684 won. Oh, nothing special.\\n• I just got an urgent 059988. I need to do 24 of them, but it's due by July 6th, 2021. 166,250 won, inspection item.\\n• K03899 urgent case has arrived. 396 need to be done by July 6th, 2021. 22,005 won, inspection item.\\n• Oh, I just got the K03894 drawing, and it says it's due on July 7th, 2021. I need to do 46 of them, and it costs 60,000 won, starting with DNGL-W.\\n• Just got 069559. 15. You have until July 8th, 2021. 242,250 won and inspection items.\\n• Wait, check this, is this drawing 057386 84? It's until July 9th, 2021, and it's 24,418 won? There's also LR/W.\\n• 057387 is here. I need to do 84 and it's due by July 9th, 2021. Unit price 17,794 won. Oh, right, LR/W\\n• This is 057386 116 please. It has to be done by July 9th 2021 and the unit price is 24,418 won. Oh and BV/W\\n• Hey, this seems urgent. I need to do 057387 116 by July 9th, 2021. The unit price is 17,794 won and BV/W.\",\n",
       " \"• 064192 came. I have to do 20 and it's due by July 5th, 2021. Unit price 17,684 won. Oh, nothing special.\\n• I just got an urgent 059988. I need to do 24 of them, but it's due by July 6th, 2021. 166,250 won, inspection item.\\n• K03899 urgent case has arrived. 396 need to be done by July 6th, 2021. 22,005 won, inspection item.\\n• Oh, I just got the K03894 drawing, and it says it's due on July 7th, 2021. I need to do 46 of them, and it costs 60,000 won, starting with DNGL-W.\\n• Just got 069559. 15. You have until July 8th, 2021. 242,250 won and inspection items.\\n• Wait, check this, is this drawing 057386 84? It's until July 9th, 2021, and it's 24,418 won? There's also LR/W.\\n• 057387 is here. I need to do 84 and it's due by July 9th, 2021. Unit price 17,794 won. Oh, right, LR/W\\n• This is 057386 116 please. It has to be done by July 9th 2021 and the unit price is 24,418 won. Oh and BV/W\\n• Hey, this seems urgent. I need to do 057387 116 by July 9th, 2021. The unit price is 17,794 won and BV/W.\\n• Is this 057791 208? It has to be done by July 9th, 2021 and costs 40,973 won. There are also conditions for inspection items.\",\n",
       " \"• I just got an urgent 059988. I need to do 24 of them, but it's due by July 6th, 2021. 166,250 won, inspection item.\\n• K03899 urgent case has arrived. 396 need to be done by July 6th, 2021. 22,005 won, inspection item.\\n• Oh, I just got the K03894 drawing, and it says it's due on July 7th, 2021. I need to do 46 of them, and it costs 60,000 won, starting with DNGL-W.\\n• Just got 069559. 15. You have until July 8th, 2021. 242,250 won and inspection items.\\n• Wait, check this, is this drawing 057386 84? It's until July 9th, 2021, and it's 24,418 won? There's also LR/W.\\n• 057387 is here. I need to do 84 and it's due by July 9th, 2021. Unit price 17,794 won. Oh, right, LR/W\\n• This is 057386 116 please. It has to be done by July 9th 2021 and the unit price is 24,418 won. Oh and BV/W\\n• Hey, this seems urgent. I need to do 057387 116 by July 9th, 2021. The unit price is 17,794 won and BV/W.\\n• Is this 057791 208? It has to be done by July 9th, 2021 and costs 40,973 won. There are also conditions for inspection items.\\n• There, I need to do 210 S00033 drawings. It's until July 10th, 2021. It's 5,303 won. And nothing special.\",\n",
       " \"• K03899 urgent case has arrived. 396 need to be done by July 6th, 2021. 22,005 won, inspection item.\\n• Oh, I just got the K03894 drawing, and it says it's due on July 7th, 2021. I need to do 46 of them, and it costs 60,000 won, starting with DNGL-W.\\n• Just got 069559. 15. You have until July 8th, 2021. 242,250 won and inspection items.\\n• Wait, check this, is this drawing 057386 84? It's until July 9th, 2021, and it's 24,418 won? There's also LR/W.\\n• 057387 is here. I need to do 84 and it's due by July 9th, 2021. Unit price 17,794 won. Oh, right, LR/W\\n• This is 057386 116 please. It has to be done by July 9th 2021 and the unit price is 24,418 won. Oh and BV/W\\n• Hey, this seems urgent. I need to do 057387 116 by July 9th, 2021. The unit price is 17,794 won and BV/W.\\n• Is this 057791 208? It has to be done by July 9th, 2021 and costs 40,973 won. There are also conditions for inspection items.\\n• There, I need to do 210 S00033 drawings. It's until July 10th, 2021. It's 5,303 won. And nothing special.\\n• Hey, this is urgent. 067667 44, please do it by July 10th, 2021. It's 21,360 won and there's nothing special about it.\",\n",
       " \"• Oh, I just got the K03894 drawing, and it says it's due on July 7th, 2021. I need to do 46 of them, and it costs 60,000 won, starting with DNGL-W.\\n• Just got 069559. 15. You have until July 8th, 2021. 242,250 won and inspection items.\\n• Wait, check this, is this drawing 057386 84? It's until July 9th, 2021, and it's 24,418 won? There's also LR/W.\\n• 057387 is here. I need to do 84 and it's due by July 9th, 2021. Unit price 17,794 won. Oh, right, LR/W\\n• This is 057386 116 please. It has to be done by July 9th 2021 and the unit price is 24,418 won. Oh and BV/W\\n• Hey, this seems urgent. I need to do 057387 116 by July 9th, 2021. The unit price is 17,794 won and BV/W.\\n• Is this 057791 208? It has to be done by July 9th, 2021 and costs 40,973 won. There are also conditions for inspection items.\\n• There, I need to do 210 S00033 drawings. It's until July 10th, 2021. It's 5,303 won. And nothing special.\\n• Hey, this is urgent. 067667 44, please do it by July 10th, 2021. It's 21,360 won and there's nothing special about it.\\n• Hey, look at this, is it 068678 8? It's until July 10th, 2021, 11,602 won. And nothing special.\",\n",
       " \"• Just got 069559. 15. You have until July 8th, 2021. 242,250 won and inspection items.\\n• Wait, check this, is this drawing 057386 84? It's until July 9th, 2021, and it's 24,418 won? There's also LR/W.\\n• 057387 is here. I need to do 84 and it's due by July 9th, 2021. Unit price 17,794 won. Oh, right, LR/W\\n• This is 057386 116 please. It has to be done by July 9th 2021 and the unit price is 24,418 won. Oh and BV/W\\n• Hey, this seems urgent. I need to do 057387 116 by July 9th, 2021. The unit price is 17,794 won and BV/W.\\n• Is this 057791 208? It has to be done by July 9th, 2021 and costs 40,973 won. There are also conditions for inspection items.\\n• There, I need to do 210 S00033 drawings. It's until July 10th, 2021. It's 5,303 won. And nothing special.\\n• Hey, this is urgent. 067667 44, please do it by July 10th, 2021. It's 21,360 won and there's nothing special about it.\\n• Hey, look at this, is it 068678 8? It's until July 10th, 2021, 11,602 won. And nothing special.\\n• Hey, this seems urgent. I have to do 065961 48 by July 12th, 2021. The unit price is 12,400 won and there's nothing special about it.\",\n",
       " \"• Wait, check this, is this drawing 057386 84? It's until July 9th, 2021, and it's 24,418 won? There's also LR/W.\\n• 057387 is here. I need to do 84 and it's due by July 9th, 2021. Unit price 17,794 won. Oh, right, LR/W\\n• This is 057386 116 please. It has to be done by July 9th 2021 and the unit price is 24,418 won. Oh and BV/W\\n• Hey, this seems urgent. I need to do 057387 116 by July 9th, 2021. The unit price is 17,794 won and BV/W.\\n• Is this 057791 208? It has to be done by July 9th, 2021 and costs 40,973 won. There are also conditions for inspection items.\\n• There, I need to do 210 S00033 drawings. It's until July 10th, 2021. It's 5,303 won. And nothing special.\\n• Hey, this is urgent. 067667 44, please do it by July 10th, 2021. It's 21,360 won and there's nothing special about it.\\n• Hey, look at this, is it 068678 8? It's until July 10th, 2021, 11,602 won. And nothing special.\\n• Hey, this seems urgent. I have to do 065961 48 by July 12th, 2021. The unit price is 12,400 won and there's nothing special about it.\\n• Hey, this seems urgent. I need to do 056264 48 by July 12th, 2021. The unit price is 13,030 won and there's nothing special about it.\",\n",
       " \"• 057387 is here. I need to do 84 and it's due by July 9th, 2021. Unit price 17,794 won. Oh, right, LR/W\\n• This is 057386 116 please. It has to be done by July 9th 2021 and the unit price is 24,418 won. Oh and BV/W\\n• Hey, this seems urgent. I need to do 057387 116 by July 9th, 2021. The unit price is 17,794 won and BV/W.\\n• Is this 057791 208? It has to be done by July 9th, 2021 and costs 40,973 won. There are also conditions for inspection items.\\n• There, I need to do 210 S00033 drawings. It's until July 10th, 2021. It's 5,303 won. And nothing special.\\n• Hey, this is urgent. 067667 44, please do it by July 10th, 2021. It's 21,360 won and there's nothing special about it.\\n• Hey, look at this, is it 068678 8? It's until July 10th, 2021, 11,602 won. And nothing special.\\n• Hey, this seems urgent. I have to do 065961 48 by July 12th, 2021. The unit price is 12,400 won and there's nothing special about it.\\n• Hey, this seems urgent. I need to do 056264 48 by July 12th, 2021. The unit price is 13,030 won and there's nothing special about it.\\n• This is 070230 90 please. It has to be done by July 12th, 2021 and the unit price is 17,436 won. Oh and there's nothing special about it.\",\n",
       " \"• This is 057386 116 please. It has to be done by July 9th 2021 and the unit price is 24,418 won. Oh and BV/W\\n• Hey, this seems urgent. I need to do 057387 116 by July 9th, 2021. The unit price is 17,794 won and BV/W.\\n• Is this 057791 208? It has to be done by July 9th, 2021 and costs 40,973 won. There are also conditions for inspection items.\\n• There, I need to do 210 S00033 drawings. It's until July 10th, 2021. It's 5,303 won. And nothing special.\\n• Hey, this is urgent. 067667 44, please do it by July 10th, 2021. It's 21,360 won and there's nothing special about it.\\n• Hey, look at this, is it 068678 8? It's until July 10th, 2021, 11,602 won. And nothing special.\\n• Hey, this seems urgent. I have to do 065961 48 by July 12th, 2021. The unit price is 12,400 won and there's nothing special about it.\\n• Hey, this seems urgent. I need to do 056264 48 by July 12th, 2021. The unit price is 13,030 won and there's nothing special about it.\\n• This is 070230 90 please. It has to be done by July 12th, 2021 and the unit price is 17,436 won. Oh and there's nothing special about it.\\n• Wait, check this, is this drawing 069159 52? It's until July 12th, 2021, and costs 481,190 won? There's also AB/W.\",\n",
       " \"• Hey, this seems urgent. I need to do 057387 116 by July 9th, 2021. The unit price is 17,794 won and BV/W.\\n• Is this 057791 208? It has to be done by July 9th, 2021 and costs 40,973 won. There are also conditions for inspection items.\\n• There, I need to do 210 S00033 drawings. It's until July 10th, 2021. It's 5,303 won. And nothing special.\\n• Hey, this is urgent. 067667 44, please do it by July 10th, 2021. It's 21,360 won and there's nothing special about it.\\n• Hey, look at this, is it 068678 8? It's until July 10th, 2021, 11,602 won. And nothing special.\\n• Hey, this seems urgent. I have to do 065961 48 by July 12th, 2021. The unit price is 12,400 won and there's nothing special about it.\\n• Hey, this seems urgent. I need to do 056264 48 by July 12th, 2021. The unit price is 13,030 won and there's nothing special about it.\\n• This is 070230 90 please. It has to be done by July 12th, 2021 and the unit price is 17,436 won. Oh and there's nothing special about it.\\n• Wait, check this, is this drawing 069159 52? It's until July 12th, 2021, and costs 481,190 won? There's also AB/W.\\n• 063082 You know? I have to do 40 of those, and it's until July 12th, 2021. It's 17,836 won, and there's nothing special about it.\",\n",
       " \"• Is this 057791 208? It has to be done by July 9th, 2021 and costs 40,973 won. There are also conditions for inspection items.\\n• There, I need to do 210 S00033 drawings. It's until July 10th, 2021. It's 5,303 won. And nothing special.\\n• Hey, this is urgent. 067667 44, please do it by July 10th, 2021. It's 21,360 won and there's nothing special about it.\\n• Hey, look at this, is it 068678 8? It's until July 10th, 2021, 11,602 won. And nothing special.\\n• Hey, this seems urgent. I have to do 065961 48 by July 12th, 2021. The unit price is 12,400 won and there's nothing special about it.\\n• Hey, this seems urgent. I need to do 056264 48 by July 12th, 2021. The unit price is 13,030 won and there's nothing special about it.\\n• This is 070230 90 please. It has to be done by July 12th, 2021 and the unit price is 17,436 won. Oh and there's nothing special about it.\\n• Wait, check this, is this drawing 069159 52? It's until July 12th, 2021, and costs 481,190 won? There's also AB/W.\\n• 063082 You know? I have to do 40 of those, and it's until July 12th, 2021. It's 17,836 won, and there's nothing special about it.\\n•  This is 069163 28 please. It has to be done by July 13th 2021 and the unit price is 31,160 won. Oh and AB/W\",\n",
       " \"• There, I need to do 210 S00033 drawings. It's until July 10th, 2021. It's 5,303 won. And nothing special.\\n• Hey, this is urgent. 067667 44, please do it by July 10th, 2021. It's 21,360 won and there's nothing special about it.\\n• Hey, look at this, is it 068678 8? It's until July 10th, 2021, 11,602 won. And nothing special.\\n• Hey, this seems urgent. I have to do 065961 48 by July 12th, 2021. The unit price is 12,400 won and there's nothing special about it.\\n• Hey, this seems urgent. I need to do 056264 48 by July 12th, 2021. The unit price is 13,030 won and there's nothing special about it.\\n• This is 070230 90 please. It has to be done by July 12th, 2021 and the unit price is 17,436 won. Oh and there's nothing special about it.\\n• Wait, check this, is this drawing 069159 52? It's until July 12th, 2021, and costs 481,190 won? There's also AB/W.\\n• 063082 You know? I have to do 40 of those, and it's until July 12th, 2021. It's 17,836 won, and there's nothing special about it.\\n•  This is 069163 28 please. It has to be done by July 13th 2021 and the unit price is 31,160 won. Oh and AB/W\\n• I just got the 062432 drawing. I need 4 of them. They have until July 13th, 2021. It costs 44,803 won. Nothing special.\",\n",
       " \"• Hey, this is urgent. 067667 44, please do it by July 10th, 2021. It's 21,360 won and there's nothing special about it.\\n• Hey, look at this, is it 068678 8? It's until July 10th, 2021, 11,602 won. And nothing special.\\n• Hey, this seems urgent. I have to do 065961 48 by July 12th, 2021. The unit price is 12,400 won and there's nothing special about it.\\n• Hey, this seems urgent. I need to do 056264 48 by July 12th, 2021. The unit price is 13,030 won and there's nothing special about it.\\n• This is 070230 90 please. It has to be done by July 12th, 2021 and the unit price is 17,436 won. Oh and there's nothing special about it.\\n• Wait, check this, is this drawing 069159 52? It's until July 12th, 2021, and costs 481,190 won? There's also AB/W.\\n• 063082 You know? I have to do 40 of those, and it's until July 12th, 2021. It's 17,836 won, and there's nothing special about it.\\n•  This is 069163 28 please. It has to be done by July 13th 2021 and the unit price is 31,160 won. Oh and AB/W\\n• I just got the 062432 drawing. I need 4 of them. They have until July 13th, 2021. It costs 44,803 won. Nothing special.\\n• Hey, look at this, is it 059991 48? It's until July 14th, 2021, 36,575 won. And nothing special.\",\n",
       " \"• Hey, look at this, is it 068678 8? It's until July 10th, 2021, 11,602 won. And nothing special.\\n• Hey, this seems urgent. I have to do 065961 48 by July 12th, 2021. The unit price is 12,400 won and there's nothing special about it.\\n• Hey, this seems urgent. I need to do 056264 48 by July 12th, 2021. The unit price is 13,030 won and there's nothing special about it.\\n• This is 070230 90 please. It has to be done by July 12th, 2021 and the unit price is 17,436 won. Oh and there's nothing special about it.\\n• Wait, check this, is this drawing 069159 52? It's until July 12th, 2021, and costs 481,190 won? There's also AB/W.\\n• 063082 You know? I have to do 40 of those, and it's until July 12th, 2021. It's 17,836 won, and there's nothing special about it.\\n•  This is 069163 28 please. It has to be done by July 13th 2021 and the unit price is 31,160 won. Oh and AB/W\\n• I just got the 062432 drawing. I need 4 of them. They have until July 13th, 2021. It costs 44,803 won. Nothing special.\\n• Hey, look at this, is it 059991 48? It's until July 14th, 2021, 36,575 won. And nothing special.\\n• There, I need to do 72 drawings of 061606. It's until July 14, 2021. It's 14,448 won. And the inspection items.\",\n",
       " \"• Hey, this seems urgent. I have to do 065961 48 by July 12th, 2021. The unit price is 12,400 won and there's nothing special about it.\\n• Hey, this seems urgent. I need to do 056264 48 by July 12th, 2021. The unit price is 13,030 won and there's nothing special about it.\\n• This is 070230 90 please. It has to be done by July 12th, 2021 and the unit price is 17,436 won. Oh and there's nothing special about it.\\n• Wait, check this, is this drawing 069159 52? It's until July 12th, 2021, and costs 481,190 won? There's also AB/W.\\n• 063082 You know? I have to do 40 of those, and it's until July 12th, 2021. It's 17,836 won, and there's nothing special about it.\\n•  This is 069163 28 please. It has to be done by July 13th 2021 and the unit price is 31,160 won. Oh and AB/W\\n• I just got the 062432 drawing. I need 4 of them. They have until July 13th, 2021. It costs 44,803 won. Nothing special.\\n• Hey, look at this, is it 059991 48? It's until July 14th, 2021, 36,575 won. And nothing special.\\n• There, I need to do 72 drawings of 061606. It's until July 14, 2021. It's 14,448 won. And the inspection items.\\n• 062330 came. I have to do 40 and it's until July 15th, 2021. Unit price 13,099 won. Oh, nothing special.\",\n",
       " \"• Hey, this seems urgent. I need to do 056264 48 by July 12th, 2021. The unit price is 13,030 won and there's nothing special about it.\\n• This is 070230 90 please. It has to be done by July 12th, 2021 and the unit price is 17,436 won. Oh and there's nothing special about it.\\n• Wait, check this, is this drawing 069159 52? It's until July 12th, 2021, and costs 481,190 won? There's also AB/W.\\n• 063082 You know? I have to do 40 of those, and it's until July 12th, 2021. It's 17,836 won, and there's nothing special about it.\\n•  This is 069163 28 please. It has to be done by July 13th 2021 and the unit price is 31,160 won. Oh and AB/W\\n• I just got the 062432 drawing. I need 4 of them. They have until July 13th, 2021. It costs 44,803 won. Nothing special.\\n• Hey, look at this, is it 059991 48? It's until July 14th, 2021, 36,575 won. And nothing special.\\n• There, I need to do 72 drawings of 061606. It's until July 14, 2021. It's 14,448 won. And the inspection items.\\n• 062330 came. I have to do 40 and it's until July 15th, 2021. Unit price 13,099 won. Oh, nothing special.\\n• This is a bit urgent, but the K04037 drawing 430 is due on July 15th, 2021. It costs 7,810 won and there is a condition for inspection.\",\n",
       " \"• This is 070230 90 please. It has to be done by July 12th, 2021 and the unit price is 17,436 won. Oh and there's nothing special about it.\\n• Wait, check this, is this drawing 069159 52? It's until July 12th, 2021, and costs 481,190 won? There's also AB/W.\\n• 063082 You know? I have to do 40 of those, and it's until July 12th, 2021. It's 17,836 won, and there's nothing special about it.\\n•  This is 069163 28 please. It has to be done by July 13th 2021 and the unit price is 31,160 won. Oh and AB/W\\n• I just got the 062432 drawing. I need 4 of them. They have until July 13th, 2021. It costs 44,803 won. Nothing special.\\n• Hey, look at this, is it 059991 48? It's until July 14th, 2021, 36,575 won. And nothing special.\\n• There, I need to do 72 drawings of 061606. It's until July 14, 2021. It's 14,448 won. And the inspection items.\\n• 062330 came. I have to do 40 and it's until July 15th, 2021. Unit price 13,099 won. Oh, nothing special.\\n• This is a bit urgent, but the K04037 drawing 430 is due on July 15th, 2021. It costs 7,810 won and there is a condition for inspection.\\n• Please check this, Z00807 300 pieces until July 15th, 2021? Unit price is 10,450 won, nothing special\",\n",
       " \"• Wait, check this, is this drawing 069159 52? It's until July 12th, 2021, and costs 481,190 won? There's also AB/W.\\n• 063082 You know? I have to do 40 of those, and it's until July 12th, 2021. It's 17,836 won, and there's nothing special about it.\\n•  This is 069163 28 please. It has to be done by July 13th 2021 and the unit price is 31,160 won. Oh and AB/W\\n• I just got the 062432 drawing. I need 4 of them. They have until July 13th, 2021. It costs 44,803 won. Nothing special.\\n• Hey, look at this, is it 059991 48? It's until July 14th, 2021, 36,575 won. And nothing special.\\n• There, I need to do 72 drawings of 061606. It's until July 14, 2021. It's 14,448 won. And the inspection items.\\n• 062330 came. I have to do 40 and it's until July 15th, 2021. Unit price 13,099 won. Oh, nothing special.\\n• This is a bit urgent, but the K04037 drawing 430 is due on July 15th, 2021. It costs 7,810 won and there is a condition for inspection.\\n• Please check this, Z00807 300 pieces until July 15th, 2021? Unit price is 10,450 won, nothing special\\n• Oh, I need to do 8 drawings for 064757, but it's due by July 16th, 2021. The unit price is 20,343 won, and there's nothing special about it.\",\n",
       " \"• 063082 You know? I have to do 40 of those, and it's until July 12th, 2021. It's 17,836 won, and there's nothing special about it.\\n•  This is 069163 28 please. It has to be done by July 13th 2021 and the unit price is 31,160 won. Oh and AB/W\\n• I just got the 062432 drawing. I need 4 of them. They have until July 13th, 2021. It costs 44,803 won. Nothing special.\\n• Hey, look at this, is it 059991 48? It's until July 14th, 2021, 36,575 won. And nothing special.\\n• There, I need to do 72 drawings of 061606. It's until July 14, 2021. It's 14,448 won. And the inspection items.\\n• 062330 came. I have to do 40 and it's until July 15th, 2021. Unit price 13,099 won. Oh, nothing special.\\n• This is a bit urgent, but the K04037 drawing 430 is due on July 15th, 2021. It costs 7,810 won and there is a condition for inspection.\\n• Please check this, Z00807 300 pieces until July 15th, 2021? Unit price is 10,450 won, nothing special\\n• Oh, I need to do 8 drawings for 064757, but it's due by July 16th, 2021. The unit price is 20,343 won, and there's nothing special about it.\\n• Oh, I need to do 12 drawings for 062185, but it's due by July 16th, 2021. The unit price is 47,900 won, and there's nothing special about it.\",\n",
       " \"•  This is 069163 28 please. It has to be done by July 13th 2021 and the unit price is 31,160 won. Oh and AB/W\\n• I just got the 062432 drawing. I need 4 of them. They have until July 13th, 2021. It costs 44,803 won. Nothing special.\\n• Hey, look at this, is it 059991 48? It's until July 14th, 2021, 36,575 won. And nothing special.\\n• There, I need to do 72 drawings of 061606. It's until July 14, 2021. It's 14,448 won. And the inspection items.\\n• 062330 came. I have to do 40 and it's until July 15th, 2021. Unit price 13,099 won. Oh, nothing special.\\n• This is a bit urgent, but the K04037 drawing 430 is due on July 15th, 2021. It costs 7,810 won and there is a condition for inspection.\\n• Please check this, Z00807 300 pieces until July 15th, 2021? Unit price is 10,450 won, nothing special\\n• Oh, I need to do 8 drawings for 064757, but it's due by July 16th, 2021. The unit price is 20,343 won, and there's nothing special about it.\\n• Oh, I need to do 12 drawings for 062185, but it's due by July 16th, 2021. The unit price is 47,900 won, and there's nothing special about it.\\n• This is a bit urgent, 069478 drawing 24 pieces, until July 16th, 2021. It's 19,200 won, no special conditions.\",\n",
       " \"• I just got the 062432 drawing. I need 4 of them. They have until July 13th, 2021. It costs 44,803 won. Nothing special.\\n• Hey, look at this, is it 059991 48? It's until July 14th, 2021, 36,575 won. And nothing special.\\n• There, I need to do 72 drawings of 061606. It's until July 14, 2021. It's 14,448 won. And the inspection items.\\n• 062330 came. I have to do 40 and it's until July 15th, 2021. Unit price 13,099 won. Oh, nothing special.\\n• This is a bit urgent, but the K04037 drawing 430 is due on July 15th, 2021. It costs 7,810 won and there is a condition for inspection.\\n• Please check this, Z00807 300 pieces until July 15th, 2021? Unit price is 10,450 won, nothing special\\n• Oh, I need to do 8 drawings for 064757, but it's due by July 16th, 2021. The unit price is 20,343 won, and there's nothing special about it.\\n• Oh, I need to do 12 drawings for 062185, but it's due by July 16th, 2021. The unit price is 47,900 won, and there's nothing special about it.\\n• This is a bit urgent, 069478 drawing 24 pieces, until July 16th, 2021. It's 19,200 won, no special conditions.\\n• 061218 right? Doing 20? You can do it until July 21st, 2021, and the unit price is 35,100 won. Oh, and there's nothing special about it.\",\n",
       " \"• Hey, look at this, is it 059991 48? It's until July 14th, 2021, 36,575 won. And nothing special.\\n• There, I need to do 72 drawings of 061606. It's until July 14, 2021. It's 14,448 won. And the inspection items.\\n• 062330 came. I have to do 40 and it's until July 15th, 2021. Unit price 13,099 won. Oh, nothing special.\\n• This is a bit urgent, but the K04037 drawing 430 is due on July 15th, 2021. It costs 7,810 won and there is a condition for inspection.\\n• Please check this, Z00807 300 pieces until July 15th, 2021? Unit price is 10,450 won, nothing special\\n• Oh, I need to do 8 drawings for 064757, but it's due by July 16th, 2021. The unit price is 20,343 won, and there's nothing special about it.\\n• Oh, I need to do 12 drawings for 062185, but it's due by July 16th, 2021. The unit price is 47,900 won, and there's nothing special about it.\\n• This is a bit urgent, 069478 drawing 24 pieces, until July 16th, 2021. It's 19,200 won, no special conditions.\\n• 061218 right? Doing 20? You can do it until July 21st, 2021, and the unit price is 35,100 won. Oh, and there's nothing special about it.\\n• Oh, I just got the 058797 drawing, and it's due on July 23, 2021. I need to do 24 of them, and it's 34,000 won, DG/W.\",\n",
       " \"• There, I need to do 72 drawings of 061606. It's until July 14, 2021. It's 14,448 won. And the inspection items.\\n• 062330 came. I have to do 40 and it's until July 15th, 2021. Unit price 13,099 won. Oh, nothing special.\\n• This is a bit urgent, but the K04037 drawing 430 is due on July 15th, 2021. It costs 7,810 won and there is a condition for inspection.\\n• Please check this, Z00807 300 pieces until July 15th, 2021? Unit price is 10,450 won, nothing special\\n• Oh, I need to do 8 drawings for 064757, but it's due by July 16th, 2021. The unit price is 20,343 won, and there's nothing special about it.\\n• Oh, I need to do 12 drawings for 062185, but it's due by July 16th, 2021. The unit price is 47,900 won, and there's nothing special about it.\\n• This is a bit urgent, 069478 drawing 24 pieces, until July 16th, 2021. It's 19,200 won, no special conditions.\\n• 061218 right? Doing 20? You can do it until July 21st, 2021, and the unit price is 35,100 won. Oh, and there's nothing special about it.\\n• Oh, I just got the 058797 drawing, and it's due on July 23, 2021. I need to do 24 of them, and it's 34,000 won, DG/W.\\n• There are 24 drawings for 058797. It's due by July 26, 2021. It costs 34,000 won. And ABS/W.\",\n",
       " \"• 062330 came. I have to do 40 and it's until July 15th, 2021. Unit price 13,099 won. Oh, nothing special.\\n• This is a bit urgent, but the K04037 drawing 430 is due on July 15th, 2021. It costs 7,810 won and there is a condition for inspection.\\n• Please check this, Z00807 300 pieces until July 15th, 2021? Unit price is 10,450 won, nothing special\\n• Oh, I need to do 8 drawings for 064757, but it's due by July 16th, 2021. The unit price is 20,343 won, and there's nothing special about it.\\n• Oh, I need to do 12 drawings for 062185, but it's due by July 16th, 2021. The unit price is 47,900 won, and there's nothing special about it.\\n• This is a bit urgent, 069478 drawing 24 pieces, until July 16th, 2021. It's 19,200 won, no special conditions.\\n• 061218 right? Doing 20? You can do it until July 21st, 2021, and the unit price is 35,100 won. Oh, and there's nothing special about it.\\n• Oh, I just got the 058797 drawing, and it's due on July 23, 2021. I need to do 24 of them, and it's 34,000 won, DG/W.\\n• There are 24 drawings for 058797. It's due by July 26, 2021. It costs 34,000 won. And ABS/W.\\n• I want 40 of these K03887. They have to be done by July 26, 2021, and the unit price is 20,957 won. Oh, and the inspection items.\",\n",
       " \"• This is a bit urgent, but the K04037 drawing 430 is due on July 15th, 2021. It costs 7,810 won and there is a condition for inspection.\\n• Please check this, Z00807 300 pieces until July 15th, 2021? Unit price is 10,450 won, nothing special\\n• Oh, I need to do 8 drawings for 064757, but it's due by July 16th, 2021. The unit price is 20,343 won, and there's nothing special about it.\\n• Oh, I need to do 12 drawings for 062185, but it's due by July 16th, 2021. The unit price is 47,900 won, and there's nothing special about it.\\n• This is a bit urgent, 069478 drawing 24 pieces, until July 16th, 2021. It's 19,200 won, no special conditions.\\n• 061218 right? Doing 20? You can do it until July 21st, 2021, and the unit price is 35,100 won. Oh, and there's nothing special about it.\\n• Oh, I just got the 058797 drawing, and it's due on July 23, 2021. I need to do 24 of them, and it's 34,000 won, DG/W.\\n• There are 24 drawings for 058797. It's due by July 26, 2021. It costs 34,000 won. And ABS/W.\\n• I want 40 of these K03887. They have to be done by July 26, 2021, and the unit price is 20,957 won. Oh, and the inspection items.\\n• Hey, look at this, is this 300 Z00807? It's until August 15th, 2021, 10,450 won. And nothing special.\",\n",
       " \"• Please check this, Z00807 300 pieces until July 15th, 2021? Unit price is 10,450 won, nothing special\\n• Oh, I need to do 8 drawings for 064757, but it's due by July 16th, 2021. The unit price is 20,343 won, and there's nothing special about it.\\n• Oh, I need to do 12 drawings for 062185, but it's due by July 16th, 2021. The unit price is 47,900 won, and there's nothing special about it.\\n• This is a bit urgent, 069478 drawing 24 pieces, until July 16th, 2021. It's 19,200 won, no special conditions.\\n• 061218 right? Doing 20? You can do it until July 21st, 2021, and the unit price is 35,100 won. Oh, and there's nothing special about it.\\n• Oh, I just got the 058797 drawing, and it's due on July 23, 2021. I need to do 24 of them, and it's 34,000 won, DG/W.\\n• There are 24 drawings for 058797. It's due by July 26, 2021. It costs 34,000 won. And ABS/W.\\n• I want 40 of these K03887. They have to be done by July 26, 2021, and the unit price is 20,957 won. Oh, and the inspection items.\\n• Hey, look at this, is this 300 Z00807? It's until August 15th, 2021, 10,450 won. And nothing special.\\n• Please check this, 069559 28 is until August 18th, 2021? The unit price is 242,250 won and it is an inspection item.\",\n",
       " \"• Oh, I need to do 8 drawings for 064757, but it's due by July 16th, 2021. The unit price is 20,343 won, and there's nothing special about it.\\n• Oh, I need to do 12 drawings for 062185, but it's due by July 16th, 2021. The unit price is 47,900 won, and there's nothing special about it.\\n• This is a bit urgent, 069478 drawing 24 pieces, until July 16th, 2021. It's 19,200 won, no special conditions.\\n• 061218 right? Doing 20? You can do it until July 21st, 2021, and the unit price is 35,100 won. Oh, and there's nothing special about it.\\n• Oh, I just got the 058797 drawing, and it's due on July 23, 2021. I need to do 24 of them, and it's 34,000 won, DG/W.\\n• There are 24 drawings for 058797. It's due by July 26, 2021. It costs 34,000 won. And ABS/W.\\n• I want 40 of these K03887. They have to be done by July 26, 2021, and the unit price is 20,957 won. Oh, and the inspection items.\\n• Hey, look at this, is this 300 Z00807? It's until August 15th, 2021, 10,450 won. And nothing special.\\n• Please check this, 069559 28 is until August 18th, 2021? The unit price is 242,250 won and it is an inspection item.\\n• I just got an urgent K00614. I need to do 12 of them, and it's due on August 19th, 2021. 6,750 won, nothing special.\",\n",
       " \"• Oh, I need to do 12 drawings for 062185, but it's due by July 16th, 2021. The unit price is 47,900 won, and there's nothing special about it.\\n• This is a bit urgent, 069478 drawing 24 pieces, until July 16th, 2021. It's 19,200 won, no special conditions.\\n• 061218 right? Doing 20? You can do it until July 21st, 2021, and the unit price is 35,100 won. Oh, and there's nothing special about it.\\n• Oh, I just got the 058797 drawing, and it's due on July 23, 2021. I need to do 24 of them, and it's 34,000 won, DG/W.\\n• There are 24 drawings for 058797. It's due by July 26, 2021. It costs 34,000 won. And ABS/W.\\n• I want 40 of these K03887. They have to be done by July 26, 2021, and the unit price is 20,957 won. Oh, and the inspection items.\\n• Hey, look at this, is this 300 Z00807? It's until August 15th, 2021, 10,450 won. And nothing special.\\n• Please check this, 069559 28 is until August 18th, 2021? The unit price is 242,250 won and it is an inspection item.\\n• I just got an urgent K00614. I need to do 12 of them, and it's due on August 19th, 2021. 6,750 won, nothing special.\\n• K04037 urgent case came in now. 400 need to be done by August 31st 2021. 7,810 won, inspection item.\",\n",
       " \"• This is a bit urgent, 069478 drawing 24 pieces, until July 16th, 2021. It's 19,200 won, no special conditions.\\n• 061218 right? Doing 20? You can do it until July 21st, 2021, and the unit price is 35,100 won. Oh, and there's nothing special about it.\\n• Oh, I just got the 058797 drawing, and it's due on July 23, 2021. I need to do 24 of them, and it's 34,000 won, DG/W.\\n• There are 24 drawings for 058797. It's due by July 26, 2021. It costs 34,000 won. And ABS/W.\\n• I want 40 of these K03887. They have to be done by July 26, 2021, and the unit price is 20,957 won. Oh, and the inspection items.\\n• Hey, look at this, is this 300 Z00807? It's until August 15th, 2021, 10,450 won. And nothing special.\\n• Please check this, 069559 28 is until August 18th, 2021? The unit price is 242,250 won and it is an inspection item.\\n• I just got an urgent K00614. I need to do 12 of them, and it's due on August 19th, 2021. 6,750 won, nothing special.\\n• K04037 urgent case came in now. 400 need to be done by August 31st 2021. 7,810 won, inspection item.\\n• Oh, I need to do 325 Z00807 drawings, but it's due by September 15th, 2021. The unit price is 10,450 won, and there's nothing special about it.\"]"
      ]
     },
     "execution_count": 28,
     "metadata": {},
     "output_type": "execute_result"
    }
   ],
   "source": [
    "input_ls = list()\n",
    "for input in inputs:\n",
    "    input = combine_input(input)\n",
    "    input_ls.append(input)\n",
    "\n",
    "input_ls"
   ]
  },
  {
   "cell_type": "code",
   "execution_count": 29,
   "id": "e10f5ad7",
   "metadata": {},
   "outputs": [
    {
     "data": {
      "text/html": [
       "<div>\n",
       "<style scoped>\n",
       "    .dataframe tbody tr th:only-of-type {\n",
       "        vertical-align: middle;\n",
       "    }\n",
       "\n",
       "    .dataframe tbody tr th {\n",
       "        vertical-align: top;\n",
       "    }\n",
       "\n",
       "    .dataframe thead th {\n",
       "        text-align: right;\n",
       "    }\n",
       "</style>\n",
       "<table border=\"1\" class=\"dataframe\">\n",
       "  <thead>\n",
       "    <tr style=\"text-align: right;\">\n",
       "      <th></th>\n",
       "      <th>input</th>\n",
       "      <th>condition</th>\n",
       "      <th>output</th>\n",
       "    </tr>\n",
       "  </thead>\n",
       "  <tbody>\n",
       "    <tr>\n",
       "      <th>0</th>\n",
       "      <td>• K04033, right? 318? You can do it by May 13t...</td>\n",
       "      <td>[\\n  {\\n    \"item\": \"S00341\",\\n    \"machine\": ...</td>\n",
       "      <td>[\\n  {\\n    \"item\": \"K04033\",\\n    \"machine\": ...</td>\n",
       "    </tr>\n",
       "    <tr>\n",
       "      <th>1</th>\n",
       "      <td>• Oh, I just got the K04031 drawing, and it sa...</td>\n",
       "      <td>[\\n  {\\n    \"item\": \"S00341\",\\n    \"machine\": ...</td>\n",
       "      <td>[\\n  {\\n    \"item\": \"056984\",\\n    \"machine\": ...</td>\n",
       "    </tr>\n",
       "    <tr>\n",
       "      <th>2</th>\n",
       "      <td>• There, I need to do 19 drawings for 051718. ...</td>\n",
       "      <td>[\\n  {\\n    \"item\": \"S00341\",\\n    \"machine\": ...</td>\n",
       "      <td>[\\n  {\\n    \"item\": \"056984\",\\n    \"machine\": ...</td>\n",
       "    </tr>\n",
       "    <tr>\n",
       "      <th>3</th>\n",
       "      <td>• Hey, look quickly. 056984 4 I have to do it ...</td>\n",
       "      <td>[\\n  {\\n    \"item\": \"S00341\",\\n    \"machine\": ...</td>\n",
       "      <td>[\\n  {\\n    \"item\": \"057791\",\\n    \"machine\": ...</td>\n",
       "    </tr>\n",
       "    <tr>\n",
       "      <th>4</th>\n",
       "      <td>• 057791, right? Doing 196? You can do it unti...</td>\n",
       "      <td>[\\n  {\\n    \"item\": \"S00341\",\\n    \"machine\": ...</td>\n",
       "      <td>[\\n  {\\n    \"item\": \"057791\",\\n    \"machine\": ...</td>\n",
       "    </tr>\n",
       "  </tbody>\n",
       "</table>\n",
       "</div>"
      ],
      "text/plain": [
       "                                               input  \\\n",
       "0  • K04033, right? 318? You can do it by May 13t...   \n",
       "1  • Oh, I just got the K04031 drawing, and it sa...   \n",
       "2  • There, I need to do 19 drawings for 051718. ...   \n",
       "3  • Hey, look quickly. 056984 4 I have to do it ...   \n",
       "4  • 057791, right? Doing 196? You can do it unti...   \n",
       "\n",
       "                                           condition  \\\n",
       "0  [\\n  {\\n    \"item\": \"S00341\",\\n    \"machine\": ...   \n",
       "1  [\\n  {\\n    \"item\": \"S00341\",\\n    \"machine\": ...   \n",
       "2  [\\n  {\\n    \"item\": \"S00341\",\\n    \"machine\": ...   \n",
       "3  [\\n  {\\n    \"item\": \"S00341\",\\n    \"machine\": ...   \n",
       "4  [\\n  {\\n    \"item\": \"S00341\",\\n    \"machine\": ...   \n",
       "\n",
       "                                              output  \n",
       "0  [\\n  {\\n    \"item\": \"K04033\",\\n    \"machine\": ...  \n",
       "1  [\\n  {\\n    \"item\": \"056984\",\\n    \"machine\": ...  \n",
       "2  [\\n  {\\n    \"item\": \"056984\",\\n    \"machine\": ...  \n",
       "3  [\\n  {\\n    \"item\": \"057791\",\\n    \"machine\": ...  \n",
       "4  [\\n  {\\n    \"item\": \"057791\",\\n    \"machine\": ...  "
      ]
     },
     "execution_count": 29,
     "metadata": {},
     "output_type": "execute_result"
    }
   ],
   "source": [
    "dataset[['input']] = np.array(input_ls).reshape(-1, 1)\n",
    "dataset.head()"
   ]
  },
  {
   "cell_type": "code",
   "execution_count": 30,
   "id": "569bd0c1",
   "metadata": {},
   "outputs": [],
   "source": [
    "import json\n",
    "\n",
    "def parse_condition(json_text):\n",
    "    \"\"\"\n",
    "    JSON 형식의 텍스트를 list of dicts 형태로 파싱\n",
    "    \"\"\"\n",
    "    return json.loads(json_text)\n"
   ]
  },
  {
   "cell_type": "code",
   "execution_count": 31,
   "id": "c9c56ede",
   "metadata": {},
   "outputs": [
    {
     "data": {
      "text/html": [
       "<div>\n",
       "<style scoped>\n",
       "    .dataframe tbody tr th:only-of-type {\n",
       "        vertical-align: middle;\n",
       "    }\n",
       "\n",
       "    .dataframe tbody tr th {\n",
       "        vertical-align: top;\n",
       "    }\n",
       "\n",
       "    .dataframe thead th {\n",
       "        text-align: right;\n",
       "    }\n",
       "</style>\n",
       "<table border=\"1\" class=\"dataframe\">\n",
       "  <thead>\n",
       "    <tr style=\"text-align: right;\">\n",
       "      <th></th>\n",
       "      <th>input</th>\n",
       "      <th>condition</th>\n",
       "      <th>output</th>\n",
       "    </tr>\n",
       "  </thead>\n",
       "  <tbody>\n",
       "    <tr>\n",
       "      <th>0</th>\n",
       "      <td>• K04033, right? 318? You can do it by May 13t...</td>\n",
       "      <td>• item: S00341, machine: 0410, capacity: 4.6\\n...</td>\n",
       "      <td>[\\n  {\\n    \"item\": \"K04033\",\\n    \"machine\": ...</td>\n",
       "    </tr>\n",
       "    <tr>\n",
       "      <th>1</th>\n",
       "      <td>• Oh, I just got the K04031 drawing, and it sa...</td>\n",
       "      <td>• item: S00341, machine: 0410, capacity: 4.6\\n...</td>\n",
       "      <td>[\\n  {\\n    \"item\": \"056984\",\\n    \"machine\": ...</td>\n",
       "    </tr>\n",
       "    <tr>\n",
       "      <th>2</th>\n",
       "      <td>• There, I need to do 19 drawings for 051718. ...</td>\n",
       "      <td>• item: S00341, machine: 0410, capacity: 4.6\\n...</td>\n",
       "      <td>[\\n  {\\n    \"item\": \"056984\",\\n    \"machine\": ...</td>\n",
       "    </tr>\n",
       "    <tr>\n",
       "      <th>3</th>\n",
       "      <td>• Hey, look quickly. 056984 4 I have to do it ...</td>\n",
       "      <td>• item: S00341, machine: 0410, capacity: 4.6\\n...</td>\n",
       "      <td>[\\n  {\\n    \"item\": \"057791\",\\n    \"machine\": ...</td>\n",
       "    </tr>\n",
       "    <tr>\n",
       "      <th>4</th>\n",
       "      <td>• 057791, right? Doing 196? You can do it unti...</td>\n",
       "      <td>• item: S00341, machine: 0410, capacity: 4.6\\n...</td>\n",
       "      <td>[\\n  {\\n    \"item\": \"057791\",\\n    \"machine\": ...</td>\n",
       "    </tr>\n",
       "  </tbody>\n",
       "</table>\n",
       "</div>"
      ],
      "text/plain": [
       "                                               input  \\\n",
       "0  • K04033, right? 318? You can do it by May 13t...   \n",
       "1  • Oh, I just got the K04031 drawing, and it sa...   \n",
       "2  • There, I need to do 19 drawings for 051718. ...   \n",
       "3  • Hey, look quickly. 056984 4 I have to do it ...   \n",
       "4  • 057791, right? Doing 196? You can do it unti...   \n",
       "\n",
       "                                           condition  \\\n",
       "0  • item: S00341, machine: 0410, capacity: 4.6\\n...   \n",
       "1  • item: S00341, machine: 0410, capacity: 4.6\\n...   \n",
       "2  • item: S00341, machine: 0410, capacity: 4.6\\n...   \n",
       "3  • item: S00341, machine: 0410, capacity: 4.6\\n...   \n",
       "4  • item: S00341, machine: 0410, capacity: 4.6\\n...   \n",
       "\n",
       "                                              output  \n",
       "0  [\\n  {\\n    \"item\": \"K04033\",\\n    \"machine\": ...  \n",
       "1  [\\n  {\\n    \"item\": \"056984\",\\n    \"machine\": ...  \n",
       "2  [\\n  {\\n    \"item\": \"056984\",\\n    \"machine\": ...  \n",
       "3  [\\n  {\\n    \"item\": \"057791\",\\n    \"machine\": ...  \n",
       "4  [\\n  {\\n    \"item\": \"057791\",\\n    \"machine\": ...  "
      ]
     },
     "execution_count": 31,
     "metadata": {},
     "output_type": "execute_result"
    }
   ],
   "source": [
    "for idx in range(len(dataset)):\n",
    "    temp = parse_condition(dataset[['condition']].iloc[idx, :].condition)\n",
    "    temp = \"\\n\".join(\n",
    "        f\"• item: {d['item']}, machine: {d['machine']}, capacity: {d['capacity']}\"\n",
    "        for d in temp)\n",
    "\n",
    "    dataset.iloc[idx, 1] = temp\n",
    "\n",
    "dataset.head()"
   ]
  },
  {
   "cell_type": "code",
   "execution_count": 32,
   "id": "311f2f4a",
   "metadata": {},
   "outputs": [
    {
     "data": {
      "text/plain": [
       "condition    • item: S00341, machine: 0410, capacity: 4.6\\n...\n",
       "Name: 0, dtype: object"
      ]
     },
     "execution_count": 32,
     "metadata": {},
     "output_type": "execute_result"
    }
   ],
   "source": [
    "dataset[['condition']].iloc[0, :]"
   ]
  },
  {
   "cell_type": "code",
   "execution_count": 33,
   "id": "5bc2743f",
   "metadata": {},
   "outputs": [
    {
     "name": "stdout",
     "output_type": "stream",
     "text": [
      "• item: S00341, machine: 0410, capacity: 4.6\n",
      "• item: 052996, machine: 0410, capacity: 25.0\n",
      "• item: 052996, machine: 0421, capacity: 200.0\n",
      "• item: K04033, machine: 0404, capacity: 12.84\n",
      "• item: K04033, machine: 0405, capacity: 10.42\n",
      "• item: K04033, machine: 0407, capacity: 8.69\n",
      "• item: K04033, machine: 0408, capacity: 9.12\n",
      "• item: K04033, machine: 0409, capacity: 10.33\n",
      "• item: K04033, machine: 0410, capacity: 8.99\n",
      "• item: K04033, machine: 0412, capacity: 12.32\n",
      "• item: K04033, machine: 0416, capacity: 11.23\n",
      "• item: K04033, machine: 0422, capacity: 4.0\n",
      "• item: K04033, machine: 0424, capacity: 9.87\n",
      "• item: K04033, machine: 0426, capacity: 11.77\n",
      "• item: K04033, machine: 0433, capacity: 9.54\n",
      "• item: K04033, machine: 0434, capacity: 13.05\n",
      "• item: K04033, machine: 0435, capacity: 9.0\n",
      "• item: K04033, machine: 0436, capacity: 9.0\n",
      "• item: K04033, machine: 0438, capacity: 4.4\n",
      "• item: K04033, machine: 0439, capacity: 12.47\n",
      "• item: K04033, machine: 0440, capacity: 9.4\n",
      "• item: K04031, machine: 0407, capacity: 4.85\n",
      "• item: K04031, machine: 0408, capacity: 3.83\n",
      "• item: K04031, machine: 0409, capacity: 5.37\n",
      "• item: K04031, machine: 0410, capacity: 3.09\n",
      "• item: K04031, machine: 0416, capacity: 2.73\n",
      "• item: K04031, machine: 0424, capacity: 3.94\n",
      "• item: K04031, machine: 0425, capacity: 5.47\n",
      "• item: K04031, machine: 0426, capacity: 6.25\n",
      "• item: K04031, machine: 0433, capacity: 3.37\n",
      "• item: K04031, machine: 0434, capacity: 3.86\n",
      "• item: K04031, machine: 0435, capacity: 3.8\n",
      "• item: K04031, machine: 0436, capacity: 4.53\n",
      "• item: K04031, machine: 0440, capacity: 3.85\n",
      "• item: 051718, machine: 0408, capacity: 4.89\n",
      "• item: 051718, machine: 0409, capacity: 5.92\n",
      "• item: 051718, machine: 0410, capacity: 4.91\n",
      "• item: 051718, machine: 0412, capacity: 3.5\n",
      "• item: 051718, machine: 0416, capacity: 1.03\n",
      "• item: 051718, machine: 0424, capacity: 4.6\n",
      "• item: 051718, machine: 0425, capacity: 4.54\n",
      "• item: 051718, machine: 0426, capacity: 3.83\n",
      "• item: 051718, machine: 0433, capacity: 4.64\n",
      "• item: 051718, machine: 0434, capacity: 7.12\n",
      "• item: 051718, machine: 0435, capacity: 1.32\n",
      "• item: 051718, machine: 0439, capacity: 3.0\n",
      "• item: 051718, machine: 0440, capacity: 1.83\n",
      "• item: 056984, machine: 0408, capacity: 4.42\n",
      "• item: 056984, machine: 0409, capacity: 4.03\n",
      "• item: 056984, machine: 0410, capacity: 5.32\n",
      "• item: 056984, machine: 0416, capacity: 4.0\n",
      "• item: 056984, machine: 0424, capacity: 4.8\n",
      "• item: 056984, machine: 0433, capacity: 4.33\n",
      "• item: 056984, machine: 0434, capacity: 5.32\n",
      "• item: 056984, machine: 0439, capacity: 5.25\n",
      "• item: 056984, machine: 0440, capacity: 4.5\n",
      "• item: 057791, machine: 0401, capacity: 5.88\n",
      "• item: 057791, machine: 0403, capacity: 6.5\n",
      "• item: 057791, machine: 0405, capacity: 11.64\n",
      "• item: 057791, machine: 0419, capacity: 12.0\n",
      "• item: 057791, machine: 0420, capacity: 11.82\n",
      "• item: 057791, machine: 0421, capacity: 10.0\n",
      "• item: 057791, machine: 0422, capacity: 11.37\n",
      "• item: 057791, machine: 0424, capacity: 7.85\n",
      "• item: 057791, machine: 0437, capacity: 5.49\n",
      "• item: 057791, machine: 0438, capacity: 6.9\n",
      "• item: K03948, machine: 0401, capacity: 5.54\n",
      "• item: K03948, machine: 0402, capacity: 10.0\n",
      "• item: K03948, machine: 0403, capacity: 6.97\n",
      "• item: K03948, machine: 0405, capacity: 7.92\n",
      "• item: K03948, machine: 0406, capacity: 6.5\n",
      "• item: K03948, machine: 0416, capacity: 8.65\n",
      "• item: K03948, machine: 0418, capacity: 6.0\n",
      "• item: K03948, machine: 0419, capacity: 7.27\n",
      "• item: K03948, machine: 0420, capacity: 12.16\n",
      "• item: K03948, machine: 0421, capacity: 4.4\n",
      "• item: K03948, machine: 0422, capacity: 6.89\n",
      "• item: K03948, machine: 0437, capacity: 6.09\n",
      "• item: K03948, machine: 0438, capacity: 5.18\n"
     ]
    }
   ],
   "source": [
    "print(dataset[['condition']].iloc[0, :].condition)"
   ]
  },
  {
   "cell_type": "code",
   "execution_count": 34,
   "id": "59dab1db",
   "metadata": {},
   "outputs": [
    {
     "data": {
      "text/plain": [
       "[{'item': 'K04033', 'machine': '0405', 'time': '2021-05-13', 'qty': 14},\n",
       " {'item': 'K04033', 'machine': '0409', 'time': '2021-05-13', 'qty': 42},\n",
       " {'item': 'K04033', 'machine': '0422', 'time': '2021-05-13', 'qty': 4},\n",
       " {'item': 'K04033', 'machine': '0424', 'time': '2021-05-13', 'qty': 55},\n",
       " {'item': 'K04033', 'machine': '0433', 'time': '2021-05-13', 'qty': 49},\n",
       " {'item': 'K04033', 'machine': '0435', 'time': '2021-05-13', 'qty': 33},\n",
       " {'item': 'K04033', 'machine': '0436', 'time': '2021-05-13', 'qty': 26},\n",
       " {'item': '056984', 'machine': '0408', 'time': '2021-06-03', 'qty': 3},\n",
       " {'item': '056984', 'machine': '0409', 'time': '2021-06-03', 'qty': 1},\n",
       " {'item': '056984', 'machine': '0410', 'time': '2021-06-03', 'qty': 3},\n",
       " {'item': '056984', 'machine': '0424', 'time': '2021-06-03', 'qty': 4},\n",
       " {'item': '056984', 'machine': '0434', 'time': '2021-06-03', 'qty': 3},\n",
       " {'item': '056984', 'machine': '0439', 'time': '2021-06-03', 'qty': 2},\n",
       " {'item': '056984', 'machine': '0440', 'time': '2021-06-03', 'qty': 1},\n",
       " {'item': '057791', 'machine': '0421', 'time': '2021-06-18', 'qty': 26},\n",
       " {'item': '057791', 'machine': '0437', 'time': '2021-06-18', 'qty': 72},\n",
       " {'item': '057791', 'machine': '0438', 'time': '2021-06-18', 'qty': 83},\n",
       " {'item': 'K04031', 'machine': '0407', 'time': '2021-05-24', 'qty': 115},\n",
       " {'item': 'K04031', 'machine': '0410', 'time': '2021-05-24', 'qty': 89},\n",
       " {'item': 'K04031', 'machine': '0416', 'time': '2021-05-24', 'qty': 35},\n",
       " {'item': 'K04031', 'machine': '0424', 'time': '2021-05-24', 'qty': 50},\n",
       " {'item': 'K04031', 'machine': '0425', 'time': '2021-05-24', 'qty': 6},\n",
       " {'item': 'K03948', 'machine': '0406', 'time': '2021-06-18', 'qty': 39},\n",
       " {'item': 'K03948', 'machine': '0416', 'time': '2021-06-18', 'qty': 2},\n",
       " {'item': 'K03948', 'machine': '0418', 'time': '2021-06-18', 'qty': 16},\n",
       " {'item': 'K03948', 'machine': '0421', 'time': '2021-06-18', 'qty': 2},\n",
       " {'item': 'K03948', 'machine': '0437', 'time': '2021-06-18', 'qty': 12},\n",
       " {'item': 'K03948', 'machine': '0438', 'time': '2021-06-18', 'qty': 3},\n",
       " {'item': '052996', 'machine': '0410', 'time': '2021-02-18', 'qty': 1},\n",
       " {'item': '052996', 'machine': '0421', 'time': '2021-02-18', 'qty': 2},\n",
       " {'item': '051718', 'machine': '0408', 'time': '2021-05-30', 'qty': 7},\n",
       " {'item': '051718', 'machine': '0409', 'time': '2021-05-30', 'qty': 14},\n",
       " {'item': '051718', 'machine': '0410', 'time': '2021-05-30', 'qty': 19},\n",
       " {'item': '051718', 'machine': '0412', 'time': '2021-05-30', 'qty': 3},\n",
       " {'item': '051718', 'machine': '0416', 'time': '2021-05-30', 'qty': 15},\n",
       " {'item': '051718', 'machine': '0424', 'time': '2021-05-30', 'qty': 11},\n",
       " {'item': '051718', 'machine': '0425', 'time': '2021-05-30', 'qty': 15},\n",
       " {'item': '051718', 'machine': '0426', 'time': '2021-05-30', 'qty': 15},\n",
       " {'item': '051718', 'machine': '0433', 'time': '2021-05-30', 'qty': 4},\n",
       " {'item': '051718', 'machine': '0434', 'time': '2021-05-30', 'qty': 5},\n",
       " {'item': '051718', 'machine': '0435', 'time': '2021-05-30', 'qty': 8},\n",
       " {'item': '051718', 'machine': '0439', 'time': '2021-05-30', 'qty': 19},\n",
       " {'item': '051718', 'machine': '0440', 'time': '2021-05-30', 'qty': 11}]"
      ]
     },
     "execution_count": 34,
     "metadata": {},
     "output_type": "execute_result"
    }
   ],
   "source": [
    "parse_condition(dataset[['output']].iloc[0, :].output)"
   ]
  },
  {
   "cell_type": "code",
   "execution_count": 35,
   "id": "08aeba27",
   "metadata": {},
   "outputs": [
    {
     "data": {
      "text/html": [
       "<div>\n",
       "<style scoped>\n",
       "    .dataframe tbody tr th:only-of-type {\n",
       "        vertical-align: middle;\n",
       "    }\n",
       "\n",
       "    .dataframe tbody tr th {\n",
       "        vertical-align: top;\n",
       "    }\n",
       "\n",
       "    .dataframe thead th {\n",
       "        text-align: right;\n",
       "    }\n",
       "</style>\n",
       "<table border=\"1\" class=\"dataframe\">\n",
       "  <thead>\n",
       "    <tr style=\"text-align: right;\">\n",
       "      <th></th>\n",
       "      <th>input</th>\n",
       "      <th>condition</th>\n",
       "      <th>output</th>\n",
       "    </tr>\n",
       "  </thead>\n",
       "  <tbody>\n",
       "    <tr>\n",
       "      <th>0</th>\n",
       "      <td>• K04033, right? 318? You can do it by May 13t...</td>\n",
       "      <td>• item: S00341, machine: 0410, capacity: 4.6\\n...</td>\n",
       "      <td>• item: K04033, machine: 0405, time: 2021-05-1...</td>\n",
       "    </tr>\n",
       "    <tr>\n",
       "      <th>1</th>\n",
       "      <td>• Oh, I just got the K04031 drawing, and it sa...</td>\n",
       "      <td>• item: S00341, machine: 0410, capacity: 4.6\\n...</td>\n",
       "      <td>• item: 056984, machine: 0408, time: 2021-06-0...</td>\n",
       "    </tr>\n",
       "    <tr>\n",
       "      <th>2</th>\n",
       "      <td>• There, I need to do 19 drawings for 051718. ...</td>\n",
       "      <td>• item: S00341, machine: 0410, capacity: 4.6\\n...</td>\n",
       "      <td>• item: 056984, machine: 0408, time: 2021-06-0...</td>\n",
       "    </tr>\n",
       "    <tr>\n",
       "      <th>3</th>\n",
       "      <td>• Hey, look quickly. 056984 4 I have to do it ...</td>\n",
       "      <td>• item: S00341, machine: 0410, capacity: 4.6\\n...</td>\n",
       "      <td>• item: 057791, machine: 0424, time: 2021-06-1...</td>\n",
       "    </tr>\n",
       "    <tr>\n",
       "      <th>4</th>\n",
       "      <td>• 057791, right? Doing 196? You can do it unti...</td>\n",
       "      <td>• item: S00341, machine: 0410, capacity: 4.6\\n...</td>\n",
       "      <td>• item: 057791, machine: 0403, time: 2021-06-1...</td>\n",
       "    </tr>\n",
       "  </tbody>\n",
       "</table>\n",
       "</div>"
      ],
      "text/plain": [
       "                                               input  \\\n",
       "0  • K04033, right? 318? You can do it by May 13t...   \n",
       "1  • Oh, I just got the K04031 drawing, and it sa...   \n",
       "2  • There, I need to do 19 drawings for 051718. ...   \n",
       "3  • Hey, look quickly. 056984 4 I have to do it ...   \n",
       "4  • 057791, right? Doing 196? You can do it unti...   \n",
       "\n",
       "                                           condition  \\\n",
       "0  • item: S00341, machine: 0410, capacity: 4.6\\n...   \n",
       "1  • item: S00341, machine: 0410, capacity: 4.6\\n...   \n",
       "2  • item: S00341, machine: 0410, capacity: 4.6\\n...   \n",
       "3  • item: S00341, machine: 0410, capacity: 4.6\\n...   \n",
       "4  • item: S00341, machine: 0410, capacity: 4.6\\n...   \n",
       "\n",
       "                                              output  \n",
       "0  • item: K04033, machine: 0405, time: 2021-05-1...  \n",
       "1  • item: 056984, machine: 0408, time: 2021-06-0...  \n",
       "2  • item: 056984, machine: 0408, time: 2021-06-0...  \n",
       "3  • item: 057791, machine: 0424, time: 2021-06-1...  \n",
       "4  • item: 057791, machine: 0403, time: 2021-06-1...  "
      ]
     },
     "execution_count": 35,
     "metadata": {},
     "output_type": "execute_result"
    }
   ],
   "source": [
    "for idx in range(len(dataset)):\n",
    "    temp = parse_condition(dataset[['output']].iloc[idx, :].output)\n",
    "    temp = \"\\n\".join(\n",
    "        f\"• item: {d['item']}, machine: {d['machine']}, time: {d['time']}, quantity: {d['qty']}\"\n",
    "        for d in temp)\n",
    "\n",
    "    dataset.iloc[idx, 2] = temp\n",
    "\n",
    "dataset.head()"
   ]
  },
  {
   "cell_type": "code",
   "execution_count": 20,
   "id": "c2785876",
   "metadata": {},
   "outputs": [
    {
     "name": "stdout",
     "output_type": "stream",
     "text": [
      "• item: K04033, machine: 0405, time: 2021-05-13, quantity: 14\n",
      "• item: K04033, machine: 0409, time: 2021-05-13, quantity: 42\n",
      "• item: K04033, machine: 0422, time: 2021-05-13, quantity: 4\n",
      "• item: K04033, machine: 0424, time: 2021-05-13, quantity: 55\n",
      "• item: K04033, machine: 0433, time: 2021-05-13, quantity: 49\n",
      "• item: K04033, machine: 0435, time: 2021-05-13, quantity: 33\n",
      "• item: K04033, machine: 0436, time: 2021-05-13, quantity: 26\n",
      "• item: 056984, machine: 0408, time: 2021-06-03, quantity: 3\n",
      "• item: 056984, machine: 0409, time: 2021-06-03, quantity: 1\n",
      "• item: 056984, machine: 0410, time: 2021-06-03, quantity: 3\n",
      "• item: 056984, machine: 0424, time: 2021-06-03, quantity: 4\n",
      "• item: 056984, machine: 0434, time: 2021-06-03, quantity: 3\n",
      "• item: 056984, machine: 0439, time: 2021-06-03, quantity: 2\n",
      "• item: 056984, machine: 0440, time: 2021-06-03, quantity: 1\n",
      "• item: 057791, machine: 0421, time: 2021-06-18, quantity: 26\n",
      "• item: 057791, machine: 0437, time: 2021-06-18, quantity: 72\n",
      "• item: 057791, machine: 0438, time: 2021-06-18, quantity: 83\n",
      "• item: K04031, machine: 0407, time: 2021-05-24, quantity: 115\n",
      "• item: K04031, machine: 0410, time: 2021-05-24, quantity: 89\n",
      "• item: K04031, machine: 0416, time: 2021-05-24, quantity: 35\n",
      "• item: K04031, machine: 0424, time: 2021-05-24, quantity: 50\n",
      "• item: K04031, machine: 0425, time: 2021-05-24, quantity: 6\n",
      "• item: K03948, machine: 0406, time: 2021-06-18, quantity: 39\n",
      "• item: K03948, machine: 0416, time: 2021-06-18, quantity: 2\n",
      "• item: K03948, machine: 0418, time: 2021-06-18, quantity: 16\n",
      "• item: K03948, machine: 0421, time: 2021-06-18, quantity: 2\n",
      "• item: K03948, machine: 0437, time: 2021-06-18, quantity: 12\n",
      "• item: K03948, machine: 0438, time: 2021-06-18, quantity: 3\n",
      "• item: 052996, machine: 0410, time: 2021-02-18, quantity: 1\n",
      "• item: 052996, machine: 0421, time: 2021-02-18, quantity: 2\n",
      "• item: 051718, machine: 0408, time: 2021-05-30, quantity: 7\n",
      "• item: 051718, machine: 0409, time: 2021-05-30, quantity: 14\n",
      "• item: 051718, machine: 0410, time: 2021-05-30, quantity: 19\n",
      "• item: 051718, machine: 0412, time: 2021-05-30, quantity: 3\n",
      "• item: 051718, machine: 0416, time: 2021-05-30, quantity: 15\n",
      "• item: 051718, machine: 0424, time: 2021-05-30, quantity: 11\n",
      "• item: 051718, machine: 0425, time: 2021-05-30, quantity: 15\n",
      "• item: 051718, machine: 0426, time: 2021-05-30, quantity: 15\n",
      "• item: 051718, machine: 0433, time: 2021-05-30, quantity: 4\n",
      "• item: 051718, machine: 0434, time: 2021-05-30, quantity: 5\n",
      "• item: 051718, machine: 0435, time: 2021-05-30, quantity: 8\n",
      "• item: 051718, machine: 0439, time: 2021-05-30, quantity: 19\n",
      "• item: 051718, machine: 0440, time: 2021-05-30, quantity: 11\n"
     ]
    }
   ],
   "source": [
    "print(dataset[['output']].iloc[0, :].output)"
   ]
  },
  {
   "cell_type": "code",
   "execution_count": 21,
   "id": "81dd01dd",
   "metadata": {},
   "outputs": [],
   "source": [
    "dataset['conditioning'] = (\n",
    "    \"Order information\\n\" + dataset['input'] + \"\\n\\n\" +\n",
    "    \"machine information\\n\" + dataset['condition']\n",
    ")"
   ]
  },
  {
   "cell_type": "code",
   "execution_count": 22,
   "id": "78721867",
   "metadata": {},
   "outputs": [
    {
     "name": "stdout",
     "output_type": "stream",
     "text": [
      "Order information\n",
      "• K04033, right? 318? You can do it by May 13th, 2021, and the unit price is 25,870 won. Oh, and the inspection product.\n",
      "• Oh, I just got the K04031 drawing, and it says it's due on May 24th, 2021. I need to do 383 of them, and it costs 16,229 won, and it's an inspection item.\n",
      "• There, I need to do 19 drawings for 051718. It's until May 30th, 2021. It's 8,333 won. And nothing special.\n",
      "• Hey, look quickly. 056984 4 I have to do it by June 3rd, 2021. What should I do? The unit price is 36,533 won and there's nothing special about it.\n",
      "• 057791, right? Doing 196? You can do it until June 18th, 2021, and the unit price is 45,500 won. Oh, and the inspection product\n",
      "• Look at this. They want 85 K03948s, but they say it's due by June 18, 2021. 57,641 won, inspection item.\n",
      "• Check this out. S00341 500 units, until February 10th, 2021. 2,990 won, nothing special.\n",
      "• Wait, check this. Are these 2 drawings for 052996? It's until February 18th, 2021, and it's 20,000 won? There's nothing special about it.\n",
      "• Hey, this seems urgent. I need to get 500 S00341s by March 10th, 2021. The unit price is 2,990 won and there's nothing special about it.\n",
      "• There, I need to do 500 S00341 drawings. It's until April 10th, 2021. It's 2,990 won. And nothing special.\n",
      "\n",
      "machine information\n",
      "• item: S00341, machine: 0410, capacity: 4.6\n",
      "• item: 052996, machine: 0410, capacity: 25.0\n",
      "• item: 052996, machine: 0421, capacity: 200.0\n",
      "• item: K04033, machine: 0404, capacity: 12.84\n",
      "• item: K04033, machine: 0405, capacity: 10.42\n",
      "• item: K04033, machine: 0407, capacity: 8.69\n",
      "• item: K04033, machine: 0408, capacity: 9.12\n",
      "• item: K04033, machine: 0409, capacity: 10.33\n",
      "• item: K04033, machine: 0410, capacity: 8.99\n",
      "• item: K04033, machine: 0412, capacity: 12.32\n",
      "• item: K04033, machine: 0416, capacity: 11.23\n",
      "• item: K04033, machine: 0422, capacity: 4.0\n",
      "• item: K04033, machine: 0424, capacity: 9.87\n",
      "• item: K04033, machine: 0426, capacity: 11.77\n",
      "• item: K04033, machine: 0433, capacity: 9.54\n",
      "• item: K04033, machine: 0434, capacity: 13.05\n",
      "• item: K04033, machine: 0435, capacity: 9.0\n",
      "• item: K04033, machine: 0436, capacity: 9.0\n",
      "• item: K04033, machine: 0438, capacity: 4.4\n",
      "• item: K04033, machine: 0439, capacity: 12.47\n",
      "• item: K04033, machine: 0440, capacity: 9.4\n",
      "• item: K04031, machine: 0407, capacity: 4.85\n",
      "• item: K04031, machine: 0408, capacity: 3.83\n",
      "• item: K04031, machine: 0409, capacity: 5.37\n",
      "• item: K04031, machine: 0410, capacity: 3.09\n",
      "• item: K04031, machine: 0416, capacity: 2.73\n",
      "• item: K04031, machine: 0424, capacity: 3.94\n",
      "• item: K04031, machine: 0425, capacity: 5.47\n",
      "• item: K04031, machine: 0426, capacity: 6.25\n",
      "• item: K04031, machine: 0433, capacity: 3.37\n",
      "• item: K04031, machine: 0434, capacity: 3.86\n",
      "• item: K04031, machine: 0435, capacity: 3.8\n",
      "• item: K04031, machine: 0436, capacity: 4.53\n",
      "• item: K04031, machine: 0440, capacity: 3.85\n",
      "• item: 051718, machine: 0408, capacity: 4.89\n",
      "• item: 051718, machine: 0409, capacity: 5.92\n",
      "• item: 051718, machine: 0410, capacity: 4.91\n",
      "• item: 051718, machine: 0412, capacity: 3.5\n",
      "• item: 051718, machine: 0416, capacity: 1.03\n",
      "• item: 051718, machine: 0424, capacity: 4.6\n",
      "• item: 051718, machine: 0425, capacity: 4.54\n",
      "• item: 051718, machine: 0426, capacity: 3.83\n",
      "• item: 051718, machine: 0433, capacity: 4.64\n",
      "• item: 051718, machine: 0434, capacity: 7.12\n",
      "• item: 051718, machine: 0435, capacity: 1.32\n",
      "• item: 051718, machine: 0439, capacity: 3.0\n",
      "• item: 051718, machine: 0440, capacity: 1.83\n",
      "• item: 056984, machine: 0408, capacity: 4.42\n",
      "• item: 056984, machine: 0409, capacity: 4.03\n",
      "• item: 056984, machine: 0410, capacity: 5.32\n",
      "• item: 056984, machine: 0416, capacity: 4.0\n",
      "• item: 056984, machine: 0424, capacity: 4.8\n",
      "• item: 056984, machine: 0433, capacity: 4.33\n",
      "• item: 056984, machine: 0434, capacity: 5.32\n",
      "• item: 056984, machine: 0439, capacity: 5.25\n",
      "• item: 056984, machine: 0440, capacity: 4.5\n",
      "• item: 057791, machine: 0401, capacity: 5.88\n",
      "• item: 057791, machine: 0403, capacity: 6.5\n",
      "• item: 057791, machine: 0405, capacity: 11.64\n",
      "• item: 057791, machine: 0419, capacity: 12.0\n",
      "• item: 057791, machine: 0420, capacity: 11.82\n",
      "• item: 057791, machine: 0421, capacity: 10.0\n",
      "• item: 057791, machine: 0422, capacity: 11.37\n",
      "• item: 057791, machine: 0424, capacity: 7.85\n",
      "• item: 057791, machine: 0437, capacity: 5.49\n",
      "• item: 057791, machine: 0438, capacity: 6.9\n",
      "• item: K03948, machine: 0401, capacity: 5.54\n",
      "• item: K03948, machine: 0402, capacity: 10.0\n",
      "• item: K03948, machine: 0403, capacity: 6.97\n",
      "• item: K03948, machine: 0405, capacity: 7.92\n",
      "• item: K03948, machine: 0406, capacity: 6.5\n",
      "• item: K03948, machine: 0416, capacity: 8.65\n",
      "• item: K03948, machine: 0418, capacity: 6.0\n",
      "• item: K03948, machine: 0419, capacity: 7.27\n",
      "• item: K03948, machine: 0420, capacity: 12.16\n",
      "• item: K03948, machine: 0421, capacity: 4.4\n",
      "• item: K03948, machine: 0422, capacity: 6.89\n",
      "• item: K03948, machine: 0437, capacity: 6.09\n",
      "• item: K03948, machine: 0438, capacity: 5.18\n"
     ]
    }
   ],
   "source": [
    "print(dataset['conditioning'][0])"
   ]
  },
  {
   "cell_type": "code",
   "execution_count": 23,
   "id": "cd65321d",
   "metadata": {},
   "outputs": [
    {
     "data": {
      "text/html": [
       "<div>\n",
       "<style scoped>\n",
       "    .dataframe tbody tr th:only-of-type {\n",
       "        vertical-align: middle;\n",
       "    }\n",
       "\n",
       "    .dataframe tbody tr th {\n",
       "        vertical-align: top;\n",
       "    }\n",
       "\n",
       "    .dataframe thead th {\n",
       "        text-align: right;\n",
       "    }\n",
       "</style>\n",
       "<table border=\"1\" class=\"dataframe\">\n",
       "  <thead>\n",
       "    <tr style=\"text-align: right;\">\n",
       "      <th></th>\n",
       "      <th>input</th>\n",
       "      <th>condition</th>\n",
       "      <th>output</th>\n",
       "      <th>conditioning</th>\n",
       "    </tr>\n",
       "  </thead>\n",
       "  <tbody>\n",
       "    <tr>\n",
       "      <th>0</th>\n",
       "      <td>• K04033, right? 318? You can do it by May 13t...</td>\n",
       "      <td>• item: S00341, machine: 0410, capacity: 4.6\\n...</td>\n",
       "      <td>• item: K04033, machine: 0405, time: 2021-05-1...</td>\n",
       "      <td>Order information\\n• K04033, right? 318? You c...</td>\n",
       "    </tr>\n",
       "    <tr>\n",
       "      <th>1</th>\n",
       "      <td>• Oh, I just got the K04031 drawing, and it sa...</td>\n",
       "      <td>• item: S00341, machine: 0410, capacity: 4.6\\n...</td>\n",
       "      <td>• item: 056984, machine: 0408, time: 2021-06-0...</td>\n",
       "      <td>Order information\\n• Oh, I just got the K04031...</td>\n",
       "    </tr>\n",
       "    <tr>\n",
       "      <th>2</th>\n",
       "      <td>• There, I need to do 19 drawings for 051718. ...</td>\n",
       "      <td>• item: S00341, machine: 0410, capacity: 4.6\\n...</td>\n",
       "      <td>• item: 056984, machine: 0408, time: 2021-06-0...</td>\n",
       "      <td>Order information\\n• There, I need to do 19 dr...</td>\n",
       "    </tr>\n",
       "    <tr>\n",
       "      <th>3</th>\n",
       "      <td>• Hey, look quickly. 056984 4 I have to do it ...</td>\n",
       "      <td>• item: S00341, machine: 0410, capacity: 4.6\\n...</td>\n",
       "      <td>• item: 057791, machine: 0424, time: 2021-06-1...</td>\n",
       "      <td>Order information\\n• Hey, look quickly. 056984...</td>\n",
       "    </tr>\n",
       "    <tr>\n",
       "      <th>4</th>\n",
       "      <td>• 057791, right? Doing 196? You can do it unti...</td>\n",
       "      <td>• item: S00341, machine: 0410, capacity: 4.6\\n...</td>\n",
       "      <td>• item: 057791, machine: 0403, time: 2021-06-1...</td>\n",
       "      <td>Order information\\n• 057791, right? Doing 196?...</td>\n",
       "    </tr>\n",
       "  </tbody>\n",
       "</table>\n",
       "</div>"
      ],
      "text/plain": [
       "                                               input  \\\n",
       "0  • K04033, right? 318? You can do it by May 13t...   \n",
       "1  • Oh, I just got the K04031 drawing, and it sa...   \n",
       "2  • There, I need to do 19 drawings for 051718. ...   \n",
       "3  • Hey, look quickly. 056984 4 I have to do it ...   \n",
       "4  • 057791, right? Doing 196? You can do it unti...   \n",
       "\n",
       "                                           condition  \\\n",
       "0  • item: S00341, machine: 0410, capacity: 4.6\\n...   \n",
       "1  • item: S00341, machine: 0410, capacity: 4.6\\n...   \n",
       "2  • item: S00341, machine: 0410, capacity: 4.6\\n...   \n",
       "3  • item: S00341, machine: 0410, capacity: 4.6\\n...   \n",
       "4  • item: S00341, machine: 0410, capacity: 4.6\\n...   \n",
       "\n",
       "                                              output  \\\n",
       "0  • item: K04033, machine: 0405, time: 2021-05-1...   \n",
       "1  • item: 056984, machine: 0408, time: 2021-06-0...   \n",
       "2  • item: 056984, machine: 0408, time: 2021-06-0...   \n",
       "3  • item: 057791, machine: 0424, time: 2021-06-1...   \n",
       "4  • item: 057791, machine: 0403, time: 2021-06-1...   \n",
       "\n",
       "                                        conditioning  \n",
       "0  Order information\\n• K04033, right? 318? You c...  \n",
       "1  Order information\\n• Oh, I just got the K04031...  \n",
       "2  Order information\\n• There, I need to do 19 dr...  \n",
       "3  Order information\\n• Hey, look quickly. 056984...  \n",
       "4  Order information\\n• 057791, right? Doing 196?...  "
      ]
     },
     "execution_count": 23,
     "metadata": {},
     "output_type": "execute_result"
    }
   ],
   "source": [
    "dataset.head()"
   ]
  },
  {
   "cell_type": "code",
   "execution_count": 24,
   "id": "1fe3952e",
   "metadata": {},
   "outputs": [],
   "source": [
    "dataset = dataset.drop(['input', 'condition'], axis=1)[['conditioning', 'output']]"
   ]
  },
  {
   "cell_type": "code",
   "execution_count": 76,
   "id": "5eb98b9f",
   "metadata": {},
   "outputs": [],
   "source": [
    "dataset.to_csv('./dataset_118_eng.csv', index=False)"
   ]
  },
  {
   "cell_type": "code",
   "execution_count": 38,
   "id": "c7c91942",
   "metadata": {},
   "outputs": [
    {
     "data": {
      "text/html": [
       "<div>\n",
       "<style scoped>\n",
       "    .dataframe tbody tr th:only-of-type {\n",
       "        vertical-align: middle;\n",
       "    }\n",
       "\n",
       "    .dataframe tbody tr th {\n",
       "        vertical-align: top;\n",
       "    }\n",
       "\n",
       "    .dataframe thead th {\n",
       "        text-align: right;\n",
       "    }\n",
       "</style>\n",
       "<table border=\"1\" class=\"dataframe\">\n",
       "  <thead>\n",
       "    <tr style=\"text-align: right;\">\n",
       "      <th></th>\n",
       "      <th>input</th>\n",
       "      <th>condition</th>\n",
       "      <th>output</th>\n",
       "    </tr>\n",
       "  </thead>\n",
       "  <tbody>\n",
       "    <tr>\n",
       "      <th>0</th>\n",
       "      <td>• K04033, right? 318? You can do it by May 13t...</td>\n",
       "      <td>• item: S00341, machine: 0410, capacity: 4.6\\n...</td>\n",
       "      <td>• item: K04033, machine: 0405, time: 2021-05-1...</td>\n",
       "    </tr>\n",
       "    <tr>\n",
       "      <th>1</th>\n",
       "      <td>• Oh, I just got the K04031 drawing, and it sa...</td>\n",
       "      <td>• item: S00341, machine: 0410, capacity: 4.6\\n...</td>\n",
       "      <td>• item: 056984, machine: 0408, time: 2021-06-0...</td>\n",
       "    </tr>\n",
       "    <tr>\n",
       "      <th>2</th>\n",
       "      <td>• There, I need to do 19 drawings for 051718. ...</td>\n",
       "      <td>• item: S00341, machine: 0410, capacity: 4.6\\n...</td>\n",
       "      <td>• item: 056984, machine: 0408, time: 2021-06-0...</td>\n",
       "    </tr>\n",
       "    <tr>\n",
       "      <th>3</th>\n",
       "      <td>• Hey, look quickly. 056984 4 I have to do it ...</td>\n",
       "      <td>• item: S00341, machine: 0410, capacity: 4.6\\n...</td>\n",
       "      <td>• item: 057791, machine: 0424, time: 2021-06-1...</td>\n",
       "    </tr>\n",
       "    <tr>\n",
       "      <th>4</th>\n",
       "      <td>• 057791, right? Doing 196? You can do it unti...</td>\n",
       "      <td>• item: S00341, machine: 0410, capacity: 4.6\\n...</td>\n",
       "      <td>• item: 057791, machine: 0403, time: 2021-06-1...</td>\n",
       "    </tr>\n",
       "  </tbody>\n",
       "</table>\n",
       "</div>"
      ],
      "text/plain": [
       "                                               input  \\\n",
       "0  • K04033, right? 318? You can do it by May 13t...   \n",
       "1  • Oh, I just got the K04031 drawing, and it sa...   \n",
       "2  • There, I need to do 19 drawings for 051718. ...   \n",
       "3  • Hey, look quickly. 056984 4 I have to do it ...   \n",
       "4  • 057791, right? Doing 196? You can do it unti...   \n",
       "\n",
       "                                           condition  \\\n",
       "0  • item: S00341, machine: 0410, capacity: 4.6\\n...   \n",
       "1  • item: S00341, machine: 0410, capacity: 4.6\\n...   \n",
       "2  • item: S00341, machine: 0410, capacity: 4.6\\n...   \n",
       "3  • item: S00341, machine: 0410, capacity: 4.6\\n...   \n",
       "4  • item: S00341, machine: 0410, capacity: 4.6\\n...   \n",
       "\n",
       "                                              output  \n",
       "0  • item: K04033, machine: 0405, time: 2021-05-1...  \n",
       "1  • item: 056984, machine: 0408, time: 2021-06-0...  \n",
       "2  • item: 056984, machine: 0408, time: 2021-06-0...  \n",
       "3  • item: 057791, machine: 0424, time: 2021-06-1...  \n",
       "4  • item: 057791, machine: 0403, time: 2021-06-1...  "
      ]
     },
     "execution_count": 38,
     "metadata": {},
     "output_type": "execute_result"
    }
   ],
   "source": [
    "# 상선님 요청 데이터\n",
    "\n",
    "dataset.to_csv('./dataset_118_eng_for상선.csv', index=False)\n",
    "dataset.head()"
   ]
  },
  {
   "cell_type": "code",
   "execution_count": null,
   "id": "ba13bc65",
   "metadata": {},
   "outputs": [],
   "source": []
  }
 ],
 "metadata": {
  "kernelspec": {
   "display_name": "GAenv",
   "language": "python",
   "name": "python3"
  },
  "language_info": {
   "codemirror_mode": {
    "name": "ipython",
    "version": 3
   },
   "file_extension": ".py",
   "mimetype": "text/x-python",
   "name": "python",
   "nbconvert_exporter": "python",
   "pygments_lexer": "ipython3",
   "version": "3.9.18"
  }
 },
 "nbformat": 4,
 "nbformat_minor": 5
}
