{
 "cells": [
  {
   "cell_type": "code",
   "execution_count": 1,
   "id": "18db631d",
   "metadata": {},
   "outputs": [],
   "source": [
    "# !pip install pandas\t\n",
    "# !pip install numpy\n",
    "# !pip install tqdm\t\n",
    "# !pip install matplotlib"
   ]
  },
  {
   "cell_type": "code",
   "execution_count": 2,
   "id": "c99df847",
   "metadata": {},
   "outputs": [],
   "source": [
    "# 라이브러리\n",
    "import random\n",
    "import datetime\n",
    "import pandas as pd\n",
    "import numpy as np\n",
    "import matplotlib.pyplot as plt\n",
    "from tqdm import tqdm\n",
    "from numpy.random import randint, rand"
   ]
  },
  {
   "cell_type": "code",
   "execution_count": 3,
   "id": "92011789",
   "metadata": {},
   "outputs": [],
   "source": [
    "# 데이터 불러오기\n",
    "machine_info = pd.read_csv(\"./data/machine_info.csv\")\n",
    "order_info = pd.read_csv(\"./data/order_info.csv\")"
   ]
  },
  {
   "cell_type": "code",
   "execution_count": 4,
   "id": "a8a6ce63",
   "metadata": {},
   "outputs": [],
   "source": [
    "# 전처리 (1): column name 변경\n",
    "order_info = order_info.rename(columns={\n",
    "    '영업납기': 'time',\n",
    "    '중산도면': 'item',\n",
    "    '단가': 'cost',\n",
    "    '수량': 'qty',\n",
    "    '선급': 'urgent'\n",
    "})\n",
    "\n",
    "machine_info = machine_info.rename(columns={\n",
    "    'JSDWG': 'item',\n",
    "    'MCNO': 'machine',\n",
    "    'AVG_CT': 'capacity'\n",
    "})"
   ]
  },
  {
   "cell_type": "code",
   "execution_count": 5,
   "id": "084e1266",
   "metadata": {},
   "outputs": [],
   "source": [
    "# 긴급 생산 요건이 있는 경우 1, 그렇지 않은 경우는 0\n",
    "\n",
    "# 전처리 (2): 분석을 위한 데이터 처리\n",
    "order_info['urgent'] = order_info['urgent'].fillna(0)\n",
    "\n",
    "for i in range(len(order_info)):\n",
    "    if order_info.loc[i, 'urgent'] != 0:\n",
    "        order_info.loc[i, 'urgent'] = 1\n",
    "\n",
    "# 전처리 (3): time type 부여 (문자열 → datetime)\n",
    "order_info['time'] = order_info['time'].apply(\n",
    "    lambda x: datetime.datetime.strptime(x, '%Y-%m-%d')\n",
    ")\n"
   ]
  },
  {
   "cell_type": "code",
   "execution_count": 6,
   "id": "119e4963",
   "metadata": {},
   "outputs": [
    {
     "name": "stdout",
     "output_type": "stream",
     "text": [
      "(127, 5)\n"
     ]
    },
    {
     "data": {
      "text/html": [
       "<div>\n",
       "<style scoped>\n",
       "    .dataframe tbody tr th:only-of-type {\n",
       "        vertical-align: middle;\n",
       "    }\n",
       "\n",
       "    .dataframe tbody tr th {\n",
       "        vertical-align: top;\n",
       "    }\n",
       "\n",
       "    .dataframe thead th {\n",
       "        text-align: right;\n",
       "    }\n",
       "</style>\n",
       "<table border=\"1\" class=\"dataframe\">\n",
       "  <thead>\n",
       "    <tr style=\"text-align: right;\">\n",
       "      <th></th>\n",
       "      <th>time</th>\n",
       "      <th>item</th>\n",
       "      <th>cost</th>\n",
       "      <th>qty</th>\n",
       "      <th>urgent</th>\n",
       "    </tr>\n",
       "  </thead>\n",
       "  <tbody>\n",
       "    <tr>\n",
       "      <th>0</th>\n",
       "      <td>2021-05-13</td>\n",
       "      <td>K04033</td>\n",
       "      <td>25870</td>\n",
       "      <td>318</td>\n",
       "      <td>1</td>\n",
       "    </tr>\n",
       "    <tr>\n",
       "      <th>1</th>\n",
       "      <td>2021-05-24</td>\n",
       "      <td>K04031</td>\n",
       "      <td>16229</td>\n",
       "      <td>383</td>\n",
       "      <td>1</td>\n",
       "    </tr>\n",
       "    <tr>\n",
       "      <th>2</th>\n",
       "      <td>2021-05-30</td>\n",
       "      <td>051718</td>\n",
       "      <td>8333</td>\n",
       "      <td>19</td>\n",
       "      <td>0</td>\n",
       "    </tr>\n",
       "    <tr>\n",
       "      <th>3</th>\n",
       "      <td>2021-06-03</td>\n",
       "      <td>056984</td>\n",
       "      <td>36533</td>\n",
       "      <td>4</td>\n",
       "      <td>0</td>\n",
       "    </tr>\n",
       "    <tr>\n",
       "      <th>4</th>\n",
       "      <td>2021-06-18</td>\n",
       "      <td>057791</td>\n",
       "      <td>45500</td>\n",
       "      <td>196</td>\n",
       "      <td>1</td>\n",
       "    </tr>\n",
       "  </tbody>\n",
       "</table>\n",
       "</div>"
      ],
      "text/plain": [
       "        time    item   cost  qty urgent\n",
       "0 2021-05-13  K04033  25870  318      1\n",
       "1 2021-05-24  K04031  16229  383      1\n",
       "2 2021-05-30  051718   8333   19      0\n",
       "3 2021-06-03  056984  36533    4      0\n",
       "4 2021-06-18  057791  45500  196      1"
      ]
     },
     "execution_count": 6,
     "metadata": {},
     "output_type": "execute_result"
    }
   ],
   "source": [
    "print(order_info.shape)\n",
    "order_info.head()"
   ]
  },
  {
   "cell_type": "code",
   "execution_count": 7,
   "id": "bacfb0c2",
   "metadata": {},
   "outputs": [
    {
     "name": "stdout",
     "output_type": "stream",
     "text": [
      "(21151, 3)\n"
     ]
    },
    {
     "data": {
      "text/html": [
       "<div>\n",
       "<style scoped>\n",
       "    .dataframe tbody tr th:only-of-type {\n",
       "        vertical-align: middle;\n",
       "    }\n",
       "\n",
       "    .dataframe tbody tr th {\n",
       "        vertical-align: top;\n",
       "    }\n",
       "\n",
       "    .dataframe thead th {\n",
       "        text-align: right;\n",
       "    }\n",
       "</style>\n",
       "<table border=\"1\" class=\"dataframe\">\n",
       "  <thead>\n",
       "    <tr style=\"text-align: right;\">\n",
       "      <th></th>\n",
       "      <th>item</th>\n",
       "      <th>machine</th>\n",
       "      <th>capacity</th>\n",
       "    </tr>\n",
       "  </thead>\n",
       "  <tbody>\n",
       "    <tr>\n",
       "      <th>0</th>\n",
       "      <td>050060</td>\n",
       "      <td>433.0</td>\n",
       "      <td>1.08</td>\n",
       "    </tr>\n",
       "    <tr>\n",
       "      <th>1</th>\n",
       "      <td>050093</td>\n",
       "      <td>404.0</td>\n",
       "      <td>7.13</td>\n",
       "    </tr>\n",
       "    <tr>\n",
       "      <th>2</th>\n",
       "      <td>050093</td>\n",
       "      <td>408.0</td>\n",
       "      <td>4.67</td>\n",
       "    </tr>\n",
       "    <tr>\n",
       "      <th>3</th>\n",
       "      <td>050093</td>\n",
       "      <td>410.0</td>\n",
       "      <td>4.50</td>\n",
       "    </tr>\n",
       "    <tr>\n",
       "      <th>4</th>\n",
       "      <td>050093</td>\n",
       "      <td>416.0</td>\n",
       "      <td>3.92</td>\n",
       "    </tr>\n",
       "  </tbody>\n",
       "</table>\n",
       "</div>"
      ],
      "text/plain": [
       "     item  machine  capacity\n",
       "0  050060    433.0      1.08\n",
       "1  050093    404.0      7.13\n",
       "2  050093    408.0      4.67\n",
       "3  050093    410.0      4.50\n",
       "4  050093    416.0      3.92"
      ]
     },
     "execution_count": 7,
     "metadata": {},
     "output_type": "execute_result"
    }
   ],
   "source": [
    "print(machine_info.shape)\n",
    "machine_info.head()"
   ]
  },
  {
   "cell_type": "code",
   "execution_count": 8,
   "id": "e7adc229",
   "metadata": {},
   "outputs": [
    {
     "data": {
      "text/plain": [
       "time        item    cost    qty  urgent\n",
       "2021-02-10  S00341  2990    500  0         1\n",
       "2021-02-18  052996  20000   2    0         1\n",
       "2021-03-10  S00341  2990    500  0         1\n",
       "2021-04-10  S00341  2990    500  0         1\n",
       "2021-05-10  S00341  2990    398  0         1\n",
       "                                          ..\n",
       "2021-08-15  Z00807  10450   300  0         1\n",
       "2021-08-18  069559  242250  28   1         1\n",
       "2021-08-19  K00614  6750    12   0         1\n",
       "2021-08-31  K04037  7810    400  1         1\n",
       "2021-09-15  Z00807  10450   325  0         1\n",
       "Name: count, Length: 127, dtype: int64"
      ]
     },
     "execution_count": 8,
     "metadata": {},
     "output_type": "execute_result"
    }
   ],
   "source": [
    " order_info.value_counts()"
   ]
  },
  {
   "cell_type": "code",
   "execution_count": 9,
   "id": "6200334b",
   "metadata": {},
   "outputs": [
    {
     "data": {
      "text/plain": [
       "item    machine  capacity\n",
       "Z01415  409.0    9.50        1\n",
       "050060  433.0    1.08        1\n",
       "050093  404.0    7.13        1\n",
       "        408.0    4.67        1\n",
       "        410.0    4.50        1\n",
       "                            ..\n",
       "050178  416.0    3.60        1\n",
       "        424.0    4.50        1\n",
       "        425.0    2.80        1\n",
       "        433.0    3.83        1\n",
       "        435.0    3.42        1\n",
       "Name: count, Length: 21149, dtype: int64"
      ]
     },
     "execution_count": 9,
     "metadata": {},
     "output_type": "execute_result"
    }
   ],
   "source": [
    "machine_info.value_counts()"
   ]
  },
  {
   "cell_type": "code",
   "execution_count": 10,
   "id": "7079e318",
   "metadata": {},
   "outputs": [
    {
     "data": {
      "text/html": [
       "<div>\n",
       "<style scoped>\n",
       "    .dataframe tbody tr th:only-of-type {\n",
       "        vertical-align: middle;\n",
       "    }\n",
       "\n",
       "    .dataframe tbody tr th {\n",
       "        vertical-align: top;\n",
       "    }\n",
       "\n",
       "    .dataframe thead th {\n",
       "        text-align: right;\n",
       "    }\n",
       "</style>\n",
       "<table border=\"1\" class=\"dataframe\">\n",
       "  <thead>\n",
       "    <tr style=\"text-align: right;\">\n",
       "      <th></th>\n",
       "      <th>time</th>\n",
       "      <th>cost</th>\n",
       "      <th>qty</th>\n",
       "    </tr>\n",
       "  </thead>\n",
       "  <tbody>\n",
       "    <tr>\n",
       "      <th>count</th>\n",
       "      <td>127</td>\n",
       "      <td>127.000000</td>\n",
       "      <td>127.000000</td>\n",
       "    </tr>\n",
       "    <tr>\n",
       "      <th>mean</th>\n",
       "      <td>2021-06-23 14:55:44.881889792</td>\n",
       "      <td>45204.133858</td>\n",
       "      <td>114.110236</td>\n",
       "    </tr>\n",
       "    <tr>\n",
       "      <th>min</th>\n",
       "      <td>2021-02-10 00:00:00</td>\n",
       "      <td>2990.000000</td>\n",
       "      <td>2.000000</td>\n",
       "    </tr>\n",
       "    <tr>\n",
       "      <th>25%</th>\n",
       "      <td>2021-06-15 00:00:00</td>\n",
       "      <td>11551.000000</td>\n",
       "      <td>20.000000</td>\n",
       "    </tr>\n",
       "    <tr>\n",
       "      <th>50%</th>\n",
       "      <td>2021-06-28 00:00:00</td>\n",
       "      <td>21160.000000</td>\n",
       "      <td>48.000000</td>\n",
       "    </tr>\n",
       "    <tr>\n",
       "      <th>75%</th>\n",
       "      <td>2021-07-08 12:00:00</td>\n",
       "      <td>35816.500000</td>\n",
       "      <td>169.000000</td>\n",
       "    </tr>\n",
       "    <tr>\n",
       "      <th>max</th>\n",
       "      <td>2021-09-15 00:00:00</td>\n",
       "      <td>481190.000000</td>\n",
       "      <td>716.000000</td>\n",
       "    </tr>\n",
       "    <tr>\n",
       "      <th>std</th>\n",
       "      <td>NaN</td>\n",
       "      <td>81277.077503</td>\n",
       "      <td>140.706450</td>\n",
       "    </tr>\n",
       "  </tbody>\n",
       "</table>\n",
       "</div>"
      ],
      "text/plain": [
       "                                time           cost         qty\n",
       "count                            127     127.000000  127.000000\n",
       "mean   2021-06-23 14:55:44.881889792   45204.133858  114.110236\n",
       "min              2021-02-10 00:00:00    2990.000000    2.000000\n",
       "25%              2021-06-15 00:00:00   11551.000000   20.000000\n",
       "50%              2021-06-28 00:00:00   21160.000000   48.000000\n",
       "75%              2021-07-08 12:00:00   35816.500000  169.000000\n",
       "max              2021-09-15 00:00:00  481190.000000  716.000000\n",
       "std                              NaN   81277.077503  140.706450"
      ]
     },
     "execution_count": 10,
     "metadata": {},
     "output_type": "execute_result"
    }
   ],
   "source": [
    "order_info.describe()"
   ]
  },
  {
   "cell_type": "code",
   "execution_count": 11,
   "id": "aff22619",
   "metadata": {},
   "outputs": [
    {
     "data": {
      "text/html": [
       "<div>\n",
       "<style scoped>\n",
       "    .dataframe tbody tr th:only-of-type {\n",
       "        vertical-align: middle;\n",
       "    }\n",
       "\n",
       "    .dataframe tbody tr th {\n",
       "        vertical-align: top;\n",
       "    }\n",
       "\n",
       "    .dataframe thead th {\n",
       "        text-align: right;\n",
       "    }\n",
       "</style>\n",
       "<table border=\"1\" class=\"dataframe\">\n",
       "  <thead>\n",
       "    <tr style=\"text-align: right;\">\n",
       "      <th></th>\n",
       "      <th>machine</th>\n",
       "      <th>capacity</th>\n",
       "    </tr>\n",
       "  </thead>\n",
       "  <tbody>\n",
       "    <tr>\n",
       "      <th>count</th>\n",
       "      <td>21149.000000</td>\n",
       "      <td>21151.000000</td>\n",
       "    </tr>\n",
       "    <tr>\n",
       "      <th>mean</th>\n",
       "      <td>420.686132</td>\n",
       "      <td>10.441903</td>\n",
       "    </tr>\n",
       "    <tr>\n",
       "      <th>std</th>\n",
       "      <td>12.071250</td>\n",
       "      <td>18.304675</td>\n",
       "    </tr>\n",
       "    <tr>\n",
       "      <th>min</th>\n",
       "      <td>401.000000</td>\n",
       "      <td>0.050000</td>\n",
       "    </tr>\n",
       "    <tr>\n",
       "      <th>25%</th>\n",
       "      <td>409.000000</td>\n",
       "      <td>3.200000</td>\n",
       "    </tr>\n",
       "    <tr>\n",
       "      <th>50%</th>\n",
       "      <td>424.000000</td>\n",
       "      <td>5.500000</td>\n",
       "    </tr>\n",
       "    <tr>\n",
       "      <th>75%</th>\n",
       "      <td>433.000000</td>\n",
       "      <td>10.500000</td>\n",
       "    </tr>\n",
       "    <tr>\n",
       "      <th>max</th>\n",
       "      <td>442.000000</td>\n",
       "      <td>930.000000</td>\n",
       "    </tr>\n",
       "  </tbody>\n",
       "</table>\n",
       "</div>"
      ],
      "text/plain": [
       "            machine      capacity\n",
       "count  21149.000000  21151.000000\n",
       "mean     420.686132     10.441903\n",
       "std       12.071250     18.304675\n",
       "min      401.000000      0.050000\n",
       "25%      409.000000      3.200000\n",
       "50%      424.000000      5.500000\n",
       "75%      433.000000     10.500000\n",
       "max      442.000000    930.000000"
      ]
     },
     "execution_count": 11,
     "metadata": {},
     "output_type": "execute_result"
    }
   ],
   "source": [
    "machine_info.describe()"
   ]
  },
  {
   "cell_type": "code",
   "execution_count": 12,
   "id": "7dfe32b8",
   "metadata": {},
   "outputs": [
    {
     "name": "stdout",
     "output_type": "stream",
     "text": [
      "2021-01-01 ~ 2021-02-01 생산 주문 건 수: 0\n",
      "2021-02-01 ~ 2021-03-01 생산 주문 건 수: 2\n",
      "2021-03-01 ~ 2021-04-01 생산 주문 건 수: 1\n",
      "2021-04-01 ~ 2021-05-01 생산 주문 건 수: 1\n",
      "2021-05-01 ~ 2021-06-01 생산 주문 건 수: 8\n",
      "2021-06-01 ~ 2021-07-01 생산 주문 건 수: 63\n",
      "2021-07-01 ~ 2021-08-01 생산 주문 건 수: 40\n",
      "2021-08-01 ~ 2021-09-01 생산 주문 건 수: 4\n"
     ]
    }
   ],
   "source": [
    "date_start = [\n",
    "    '2021-01-01',\n",
    "    '2021-02-01',\n",
    "    '2021-03-01',\n",
    "    '2021-04-01',\n",
    "    '2021-05-01',\n",
    "    '2021-06-01',\n",
    "    '2021-07-01',\n",
    "    '2021-08-01',\n",
    "    '2021-09-01',\n",
    "]\n",
    "\n",
    "for i in range(len(date_start) - 1):\n",
    "    check_df = order_info[\n",
    "        (order_info['time'] > date_start[i]) &\n",
    "        (order_info['time'] < date_start[i + 1])\n",
    "    ]\n",
    "    print(f'{date_start[i]} ~ {date_start[i + 1]} 생산 주문 건 수: {len(check_df)}')\n"
   ]
  },
  {
   "cell_type": "code",
   "execution_count": 13,
   "id": "47d98f2d",
   "metadata": {},
   "outputs": [
    {
     "name": "stdout",
     "output_type": "stream",
     "text": [
      "machine_info: NaN 값 제거 (21151 row --> 21149 row, 0.009% 삭제)\n",
      "order_info: NaN 값 제거 (127 row --> 127 row, 0.0% 삭제)\n"
     ]
    }
   ],
   "source": [
    "# 데이터 정제 (전처리)\n",
    "# NaN 값 처리\n",
    "n_before_preprocess = len(machine_info)\n",
    "machine_info.dropna(axis=0, inplace=True)\n",
    "n_after_preprocess = len(machine_info)\n",
    "print(\n",
    "    f'machine_info: NaN 값 제거 '\n",
    "    f'({n_before_preprocess} row --> {n_after_preprocess} row, '\n",
    "    f'{round(((n_before_preprocess - n_after_preprocess) / n_before_preprocess * 100), 3)}% 삭제)'\n",
    ")\n",
    "\n",
    "n_before_preprocess = len(order_info)\n",
    "order_info = order_info[['time', 'item', 'cost', 'qty', 'urgent']]\n",
    "order_info.dropna(axis=0, inplace=True)\n",
    "n_after_preprocess = len(order_info)\n",
    "print(\n",
    "    f'order_info: NaN 값 제거 '\n",
    "    f'({n_before_preprocess} row --> {n_after_preprocess} row, '\n",
    "    f'{round(((n_before_preprocess - n_after_preprocess) / n_before_preprocess * 100), 3)}% 삭제)'\n",
    ")\n"
   ]
  },
  {
   "cell_type": "code",
   "execution_count": 14,
   "id": "4ec16452",
   "metadata": {},
   "outputs": [
    {
     "data": {
      "text/plain": [
       "item    machine\n",
       "Z01415  409.0      1\n",
       "050060  433.0      1\n",
       "050093  404.0      1\n",
       "        408.0      1\n",
       "        410.0      1\n",
       "Name: count, dtype: int64"
      ]
     },
     "execution_count": 14,
     "metadata": {},
     "output_type": "execute_result"
    }
   ],
   "source": [
    "# unique 처리\n",
    "machine_info[['item','machine']].value_counts().head()"
   ]
  },
  {
   "cell_type": "code",
   "execution_count": 15,
   "id": "a0ee6f16",
   "metadata": {},
   "outputs": [
    {
     "data": {
      "text/plain": [
       "time        item    cost   urgent\n",
       "2021-06-15  K03115  26719  0         2\n",
       "2021-07-09  057386  24418  1         2\n",
       "            057387  17794  1         2\n",
       "2021-02-10  S00341  2990   0         1\n",
       "2021-05-10  S00341  2990   0         1\n",
       "Name: count, dtype: int64"
      ]
     },
     "execution_count": 15,
     "metadata": {},
     "output_type": "execute_result"
    }
   ],
   "source": [
    "order_info[['time','item','cost','urgent']].value_counts().head()"
   ]
  },
  {
   "cell_type": "code",
   "execution_count": 16,
   "id": "d4b20b06",
   "metadata": {},
   "outputs": [
    {
     "data": {
      "text/html": [
       "<div>\n",
       "<style scoped>\n",
       "    .dataframe tbody tr th:only-of-type {\n",
       "        vertical-align: middle;\n",
       "    }\n",
       "\n",
       "    .dataframe tbody tr th {\n",
       "        vertical-align: top;\n",
       "    }\n",
       "\n",
       "    .dataframe thead th {\n",
       "        text-align: right;\n",
       "    }\n",
       "</style>\n",
       "<table border=\"1\" class=\"dataframe\">\n",
       "  <thead>\n",
       "    <tr style=\"text-align: right;\">\n",
       "      <th></th>\n",
       "      <th>time</th>\n",
       "      <th>item</th>\n",
       "      <th>cost</th>\n",
       "      <th>qty</th>\n",
       "      <th>urgent</th>\n",
       "    </tr>\n",
       "  </thead>\n",
       "  <tbody>\n",
       "    <tr>\n",
       "      <th>32</th>\n",
       "      <td>2021-06-15</td>\n",
       "      <td>K03115</td>\n",
       "      <td>26719</td>\n",
       "      <td>30</td>\n",
       "      <td>0</td>\n",
       "    </tr>\n",
       "    <tr>\n",
       "      <th>34</th>\n",
       "      <td>2021-06-15</td>\n",
       "      <td>K03115</td>\n",
       "      <td>26719</td>\n",
       "      <td>28</td>\n",
       "      <td>0</td>\n",
       "    </tr>\n",
       "  </tbody>\n",
       "</table>\n",
       "</div>"
      ],
      "text/plain": [
       "         time    item   cost  qty urgent\n",
       "32 2021-06-15  K03115  26719   30      0\n",
       "34 2021-06-15  K03115  26719   28      0"
      ]
     },
     "execution_count": 16,
     "metadata": {},
     "output_type": "execute_result"
    }
   ],
   "source": [
    "order_info[(order_info['time']=='2021-06-15')&(order_info['item']=='K03115')]"
   ]
  },
  {
   "cell_type": "code",
   "execution_count": 17,
   "id": "e4436c69",
   "metadata": {},
   "outputs": [],
   "source": [
    "order_info\t=order_info.groupby(['time','item','cost','urgent']).sum().reset_index()"
   ]
  },
  {
   "cell_type": "code",
   "execution_count": 18,
   "id": "fc452d95",
   "metadata": {},
   "outputs": [
    {
     "data": {
      "text/html": [
       "<div>\n",
       "<style scoped>\n",
       "    .dataframe tbody tr th:only-of-type {\n",
       "        vertical-align: middle;\n",
       "    }\n",
       "\n",
       "    .dataframe tbody tr th {\n",
       "        vertical-align: top;\n",
       "    }\n",
       "\n",
       "    .dataframe thead th {\n",
       "        text-align: right;\n",
       "    }\n",
       "</style>\n",
       "<table border=\"1\" class=\"dataframe\">\n",
       "  <thead>\n",
       "    <tr style=\"text-align: right;\">\n",
       "      <th></th>\n",
       "      <th>time</th>\n",
       "      <th>item</th>\n",
       "      <th>cost</th>\n",
       "      <th>urgent</th>\n",
       "      <th>qty</th>\n",
       "    </tr>\n",
       "  </thead>\n",
       "  <tbody>\n",
       "    <tr>\n",
       "      <th>34</th>\n",
       "      <td>2021-06-15</td>\n",
       "      <td>K03115</td>\n",
       "      <td>26719</td>\n",
       "      <td>0</td>\n",
       "      <td>58</td>\n",
       "    </tr>\n",
       "  </tbody>\n",
       "</table>\n",
       "</div>"
      ],
      "text/plain": [
       "         time    item   cost  urgent  qty\n",
       "34 2021-06-15  K03115  26719       0   58"
      ]
     },
     "execution_count": 18,
     "metadata": {},
     "output_type": "execute_result"
    }
   ],
   "source": [
    "order_info[(order_info['time']=='2021-06-15')&(order_info['item']=='K03115')]"
   ]
  },
  {
   "cell_type": "code",
   "execution_count": 19,
   "id": "dbcdaf01",
   "metadata": {},
   "outputs": [
    {
     "data": {
      "text/html": [
       "<div>\n",
       "<style scoped>\n",
       "    .dataframe tbody tr th:only-of-type {\n",
       "        vertical-align: middle;\n",
       "    }\n",
       "\n",
       "    .dataframe tbody tr th {\n",
       "        vertical-align: top;\n",
       "    }\n",
       "\n",
       "    .dataframe thead th {\n",
       "        text-align: right;\n",
       "    }\n",
       "</style>\n",
       "<table border=\"1\" class=\"dataframe\">\n",
       "  <thead>\n",
       "    <tr style=\"text-align: right;\">\n",
       "      <th></th>\n",
       "      <th>time</th>\n",
       "      <th>item</th>\n",
       "      <th>cost</th>\n",
       "      <th>urgent</th>\n",
       "      <th>qty</th>\n",
       "    </tr>\n",
       "  </thead>\n",
       "  <tbody>\n",
       "    <tr>\n",
       "      <th>0</th>\n",
       "      <td>2021-02-10</td>\n",
       "      <td>S00341</td>\n",
       "      <td>2990</td>\n",
       "      <td>0</td>\n",
       "      <td>500</td>\n",
       "    </tr>\n",
       "    <tr>\n",
       "      <th>1</th>\n",
       "      <td>2021-02-18</td>\n",
       "      <td>052996</td>\n",
       "      <td>20000</td>\n",
       "      <td>0</td>\n",
       "      <td>2</td>\n",
       "    </tr>\n",
       "    <tr>\n",
       "      <th>2</th>\n",
       "      <td>2021-03-10</td>\n",
       "      <td>S00341</td>\n",
       "      <td>2990</td>\n",
       "      <td>0</td>\n",
       "      <td>500</td>\n",
       "    </tr>\n",
       "    <tr>\n",
       "      <th>3</th>\n",
       "      <td>2021-04-10</td>\n",
       "      <td>S00341</td>\n",
       "      <td>2990</td>\n",
       "      <td>0</td>\n",
       "      <td>500</td>\n",
       "    </tr>\n",
       "    <tr>\n",
       "      <th>4</th>\n",
       "      <td>2021-05-10</td>\n",
       "      <td>S00341</td>\n",
       "      <td>2990</td>\n",
       "      <td>0</td>\n",
       "      <td>398</td>\n",
       "    </tr>\n",
       "    <tr>\n",
       "      <th>5</th>\n",
       "      <td>2021-05-13</td>\n",
       "      <td>066157</td>\n",
       "      <td>18500</td>\n",
       "      <td>1</td>\n",
       "      <td>208</td>\n",
       "    </tr>\n",
       "    <tr>\n",
       "      <th>6</th>\n",
       "      <td>2021-05-13</td>\n",
       "      <td>K04033</td>\n",
       "      <td>25870</td>\n",
       "      <td>1</td>\n",
       "      <td>318</td>\n",
       "    </tr>\n",
       "    <tr>\n",
       "      <th>7</th>\n",
       "      <td>2021-05-24</td>\n",
       "      <td>K04031</td>\n",
       "      <td>16229</td>\n",
       "      <td>1</td>\n",
       "      <td>383</td>\n",
       "    </tr>\n",
       "    <tr>\n",
       "      <th>8</th>\n",
       "      <td>2021-05-30</td>\n",
       "      <td>051718</td>\n",
       "      <td>8333</td>\n",
       "      <td>0</td>\n",
       "      <td>19</td>\n",
       "    </tr>\n",
       "    <tr>\n",
       "      <th>9</th>\n",
       "      <td>2021-05-30</td>\n",
       "      <td>052996</td>\n",
       "      <td>20000</td>\n",
       "      <td>0</td>\n",
       "      <td>2</td>\n",
       "    </tr>\n",
       "    <tr>\n",
       "      <th>10</th>\n",
       "      <td>2021-05-30</td>\n",
       "      <td>K04101</td>\n",
       "      <td>15640</td>\n",
       "      <td>0</td>\n",
       "      <td>15</td>\n",
       "    </tr>\n",
       "    <tr>\n",
       "      <th>11</th>\n",
       "      <td>2021-05-31</td>\n",
       "      <td>S00271</td>\n",
       "      <td>4000</td>\n",
       "      <td>0</td>\n",
       "      <td>150</td>\n",
       "    </tr>\n",
       "  </tbody>\n",
       "</table>\n",
       "</div>"
      ],
      "text/plain": [
       "         time    item   cost  urgent  qty\n",
       "0  2021-02-10  S00341   2990       0  500\n",
       "1  2021-02-18  052996  20000       0    2\n",
       "2  2021-03-10  S00341   2990       0  500\n",
       "3  2021-04-10  S00341   2990       0  500\n",
       "4  2021-05-10  S00341   2990       0  398\n",
       "5  2021-05-13  066157  18500       1  208\n",
       "6  2021-05-13  K04033  25870       1  318\n",
       "7  2021-05-24  K04031  16229       1  383\n",
       "8  2021-05-30  051718   8333       0   19\n",
       "9  2021-05-30  052996  20000       0    2\n",
       "10 2021-05-30  K04101  15640       0   15\n",
       "11 2021-05-31  S00271   4000       0  150"
      ]
     },
     "execution_count": 19,
     "metadata": {},
     "output_type": "execute_result"
    }
   ],
   "source": [
    "# 1월~6월 주문 고려\n",
    "filtered_order_info = order_info[\n",
    "    (order_info['time'] > '2021-01-01') &\n",
    "    (order_info['time'] < '2021-06-01')\n",
    "]\n",
    "\n",
    "filtered_order_info"
   ]
  },
  {
   "cell_type": "code",
   "execution_count": 20,
   "id": "6573f7d1",
   "metadata": {},
   "outputs": [],
   "source": [
    "dataset\t=pd.merge(filtered_order_info,machine_info,on='item',how='inner')\n",
    "dataset.to_csv('dataset.csv',index=False)"
   ]
  },
  {
   "cell_type": "code",
   "execution_count": 35,
   "id": "0cc46408",
   "metadata": {},
   "outputs": [
    {
     "data": {
      "text/html": [
       "<div>\n",
       "<style scoped>\n",
       "    .dataframe tbody tr th:only-of-type {\n",
       "        vertical-align: middle;\n",
       "    }\n",
       "\n",
       "    .dataframe tbody tr th {\n",
       "        vertical-align: top;\n",
       "    }\n",
       "\n",
       "    .dataframe thead th {\n",
       "        text-align: right;\n",
       "    }\n",
       "</style>\n",
       "<table border=\"1\" class=\"dataframe\">\n",
       "  <thead>\n",
       "    <tr style=\"text-align: right;\">\n",
       "      <th></th>\n",
       "      <th>time</th>\n",
       "      <th>item</th>\n",
       "      <th>cost</th>\n",
       "      <th>urgent</th>\n",
       "      <th>qty</th>\n",
       "      <th>machine</th>\n",
       "      <th>capacity</th>\n",
       "    </tr>\n",
       "  </thead>\n",
       "  <tbody>\n",
       "    <tr>\n",
       "      <th>0</th>\n",
       "      <td>2021-02-10</td>\n",
       "      <td>S00341</td>\n",
       "      <td>2990</td>\n",
       "      <td>0</td>\n",
       "      <td>500</td>\n",
       "      <td>410.0</td>\n",
       "      <td>4.6</td>\n",
       "    </tr>\n",
       "    <tr>\n",
       "      <th>1</th>\n",
       "      <td>2021-02-18</td>\n",
       "      <td>052996</td>\n",
       "      <td>20000</td>\n",
       "      <td>0</td>\n",
       "      <td>2</td>\n",
       "      <td>410.0</td>\n",
       "      <td>25.0</td>\n",
       "    </tr>\n",
       "    <tr>\n",
       "      <th>2</th>\n",
       "      <td>2021-02-18</td>\n",
       "      <td>052996</td>\n",
       "      <td>20000</td>\n",
       "      <td>0</td>\n",
       "      <td>2</td>\n",
       "      <td>421.0</td>\n",
       "      <td>200.0</td>\n",
       "    </tr>\n",
       "    <tr>\n",
       "      <th>3</th>\n",
       "      <td>2021-03-10</td>\n",
       "      <td>S00341</td>\n",
       "      <td>2990</td>\n",
       "      <td>0</td>\n",
       "      <td>500</td>\n",
       "      <td>410.0</td>\n",
       "      <td>4.6</td>\n",
       "    </tr>\n",
       "    <tr>\n",
       "      <th>4</th>\n",
       "      <td>2021-04-10</td>\n",
       "      <td>S00341</td>\n",
       "      <td>2990</td>\n",
       "      <td>0</td>\n",
       "      <td>500</td>\n",
       "      <td>410.0</td>\n",
       "      <td>4.6</td>\n",
       "    </tr>\n",
       "  </tbody>\n",
       "</table>\n",
       "</div>"
      ],
      "text/plain": [
       "         time    item   cost  urgent  qty  machine  capacity\n",
       "0  2021-02-10  S00341   2990       0  500    410.0       4.6\n",
       "1  2021-02-18  052996  20000       0    2    410.0      25.0\n",
       "2  2021-02-18  052996  20000       0    2    421.0     200.0\n",
       "3  2021-03-10  S00341   2990       0  500    410.0       4.6\n",
       "4  2021-04-10  S00341   2990       0  500    410.0       4.6"
      ]
     },
     "execution_count": 35,
     "metadata": {},
     "output_type": "execute_result"
    }
   ],
   "source": [
    "dataset.head()"
   ]
  },
  {
   "cell_type": "code",
   "execution_count": 21,
   "id": "b7618bfc",
   "metadata": {},
   "outputs": [],
   "source": [
    "# 데이터셋 로드\n",
    "dataset = pd.read_csv('dataset.csv')\n",
    "\n",
    "# 변수 정보 추출\n",
    "T = list(set(dataset['time']))\n",
    "I = list(set(dataset['item']))\n",
    "J = list(set(dataset['machine']))\n"
   ]
  },
  {
   "cell_type": "code",
   "execution_count": 22,
   "id": "6c4622b2",
   "metadata": {},
   "outputs": [],
   "source": [
    "# cit = 날짜 t에, item i가 미생산 될 때 발생하는 비용\n",
    "cit = dict()\n",
    "for i in I:\n",
    "    for t in T:\n",
    "        temp_dataset = dataset[(dataset['item'] == i) & (dataset['time'] == t)]\n",
    "        if len(temp_dataset) != 0:\n",
    "            value = list(set(temp_dataset['cost']))[0]\n",
    "            cit[i, t] = value\n",
    "        else:\n",
    "            cit[i, t] = 0\n",
    "\n",
    "# pit = 날짜 t에, item i가 긴급 생산이 필요한 경우 1, 그렇지 않으면 0\n",
    "pit = dict()\n",
    "for i in I:\n",
    "    for t in T:\n",
    "        temp_dataset = dataset[(dataset['item'] == i) & (dataset['time'] == t)]\n",
    "        if len(temp_dataset) != 0:\n",
    "            value = list(set(temp_dataset['urgent']))[0]\n",
    "            pit[i, t] = value\n",
    "        else:\n",
    "            pit[i, t] = 0\n",
    "\n",
    "# dit = 날짜 t에 item i마다 생산되어야 하는 요구량\n",
    "dit = dict()\n",
    "for i in I:\n",
    "    for t in T:\n",
    "        temp_dataset = dataset[(dataset['item'] == i) & (dataset['time'] == t)]\n",
    "        if len(temp_dataset) != 0:\n",
    "            value = list(set(temp_dataset['qty']))[0]\n",
    "            dit[i, t] = value\n",
    "        else:\n",
    "            dit[i, t] = 0\n",
    "\n",
    "# mijt= 날짜 t에 NC machine j가 item i를 생산할 수 있는 능력\n",
    "mijt = dict()\n",
    "for i in I:\n",
    "    for j in J:\n",
    "        temp_dataset = dataset[\n",
    "            (dataset['item'] == i) &\n",
    "            (dataset['machine'] == j)\n",
    "        ]\n",
    "\n",
    "        if len(temp_dataset) != 0:\n",
    "            value = list(set(temp_dataset['capacity']))[0]\n",
    "            for t in T:\n",
    "                mijt[i, j, t] = value\n",
    "        else:\n",
    "            for t in T:\n",
    "                mijt[i, j, t] = 0"
   ]
  },
  {
   "cell_type": "code",
   "execution_count": 36,
   "id": "f3ec9138",
   "metadata": {},
   "outputs": [
    {
     "name": "stdout",
     "output_type": "stream",
     "text": [
      "{('K04033', '2021-05-10'): 0, ('K04033', '2021-05-31'): 0, ('K04033', '2021-02-10'): 0, ('K04033', '2021-05-30'): 0, ('K04033', '2021-02-18'): 0, ('K04033', '2021-05-13'): 25870, ('K04033', '2021-05-24'): 0, ('K04033', '2021-03-10'): 0, ('K04033', '2021-04-10'): 0, ('066157', '2021-05-10'): 0, ('066157', '2021-05-31'): 0, ('066157', '2021-02-10'): 0, ('066157', '2021-05-30'): 0, ('066157', '2021-02-18'): 0, ('066157', '2021-05-13'): 18500, ('066157', '2021-05-24'): 0, ('066157', '2021-03-10'): 0, ('066157', '2021-04-10'): 0, ('052996', '2021-05-10'): 0, ('052996', '2021-05-31'): 0, ('052996', '2021-02-10'): 0, ('052996', '2021-05-30'): 20000, ('052996', '2021-02-18'): 20000, ('052996', '2021-05-13'): 0, ('052996', '2021-05-24'): 0, ('052996', '2021-03-10'): 0, ('052996', '2021-04-10'): 0, ('S00271', '2021-05-10'): 0, ('S00271', '2021-05-31'): 4000, ('S00271', '2021-02-10'): 0, ('S00271', '2021-05-30'): 0, ('S00271', '2021-02-18'): 0, ('S00271', '2021-05-13'): 0, ('S00271', '2021-05-24'): 0, ('S00271', '2021-03-10'): 0, ('S00271', '2021-04-10'): 0, ('051718', '2021-05-10'): 0, ('051718', '2021-05-31'): 0, ('051718', '2021-02-10'): 0, ('051718', '2021-05-30'): 8333, ('051718', '2021-02-18'): 0, ('051718', '2021-05-13'): 0, ('051718', '2021-05-24'): 0, ('051718', '2021-03-10'): 0, ('051718', '2021-04-10'): 0, ('K04031', '2021-05-10'): 0, ('K04031', '2021-05-31'): 0, ('K04031', '2021-02-10'): 0, ('K04031', '2021-05-30'): 0, ('K04031', '2021-02-18'): 0, ('K04031', '2021-05-13'): 0, ('K04031', '2021-05-24'): 16229, ('K04031', '2021-03-10'): 0, ('K04031', '2021-04-10'): 0, ('S00341', '2021-05-10'): 2990, ('S00341', '2021-05-31'): 0, ('S00341', '2021-02-10'): 2990, ('S00341', '2021-05-30'): 0, ('S00341', '2021-02-18'): 0, ('S00341', '2021-05-13'): 0, ('S00341', '2021-05-24'): 0, ('S00341', '2021-03-10'): 2990, ('S00341', '2021-04-10'): 2990, ('K04101', '2021-05-10'): 0, ('K04101', '2021-05-31'): 0, ('K04101', '2021-02-10'): 0, ('K04101', '2021-05-30'): 15640, ('K04101', '2021-02-18'): 0, ('K04101', '2021-05-13'): 0, ('K04101', '2021-05-24'): 0, ('K04101', '2021-03-10'): 0, ('K04101', '2021-04-10'): 0}\n"
     ]
    }
   ],
   "source": [
    "print(cit)"
   ]
  },
  {
   "cell_type": "code",
   "execution_count": 37,
   "id": "a9296b00",
   "metadata": {},
   "outputs": [
    {
     "name": "stdout",
     "output_type": "stream",
     "text": [
      "{('K04033', '2021-05-10'): 0, ('K04033', '2021-05-31'): 0, ('K04033', '2021-02-10'): 0, ('K04033', '2021-05-30'): 0, ('K04033', '2021-02-18'): 0, ('K04033', '2021-05-13'): 1, ('K04033', '2021-05-24'): 0, ('K04033', '2021-03-10'): 0, ('K04033', '2021-04-10'): 0, ('066157', '2021-05-10'): 0, ('066157', '2021-05-31'): 0, ('066157', '2021-02-10'): 0, ('066157', '2021-05-30'): 0, ('066157', '2021-02-18'): 0, ('066157', '2021-05-13'): 1, ('066157', '2021-05-24'): 0, ('066157', '2021-03-10'): 0, ('066157', '2021-04-10'): 0, ('052996', '2021-05-10'): 0, ('052996', '2021-05-31'): 0, ('052996', '2021-02-10'): 0, ('052996', '2021-05-30'): 0, ('052996', '2021-02-18'): 0, ('052996', '2021-05-13'): 0, ('052996', '2021-05-24'): 0, ('052996', '2021-03-10'): 0, ('052996', '2021-04-10'): 0, ('S00271', '2021-05-10'): 0, ('S00271', '2021-05-31'): 0, ('S00271', '2021-02-10'): 0, ('S00271', '2021-05-30'): 0, ('S00271', '2021-02-18'): 0, ('S00271', '2021-05-13'): 0, ('S00271', '2021-05-24'): 0, ('S00271', '2021-03-10'): 0, ('S00271', '2021-04-10'): 0, ('051718', '2021-05-10'): 0, ('051718', '2021-05-31'): 0, ('051718', '2021-02-10'): 0, ('051718', '2021-05-30'): 0, ('051718', '2021-02-18'): 0, ('051718', '2021-05-13'): 0, ('051718', '2021-05-24'): 0, ('051718', '2021-03-10'): 0, ('051718', '2021-04-10'): 0, ('K04031', '2021-05-10'): 0, ('K04031', '2021-05-31'): 0, ('K04031', '2021-02-10'): 0, ('K04031', '2021-05-30'): 0, ('K04031', '2021-02-18'): 0, ('K04031', '2021-05-13'): 0, ('K04031', '2021-05-24'): 1, ('K04031', '2021-03-10'): 0, ('K04031', '2021-04-10'): 0, ('S00341', '2021-05-10'): 0, ('S00341', '2021-05-31'): 0, ('S00341', '2021-02-10'): 0, ('S00341', '2021-05-30'): 0, ('S00341', '2021-02-18'): 0, ('S00341', '2021-05-13'): 0, ('S00341', '2021-05-24'): 0, ('S00341', '2021-03-10'): 0, ('S00341', '2021-04-10'): 0, ('K04101', '2021-05-10'): 0, ('K04101', '2021-05-31'): 0, ('K04101', '2021-02-10'): 0, ('K04101', '2021-05-30'): 0, ('K04101', '2021-02-18'): 0, ('K04101', '2021-05-13'): 0, ('K04101', '2021-05-24'): 0, ('K04101', '2021-03-10'): 0, ('K04101', '2021-04-10'): 0}\n"
     ]
    }
   ],
   "source": [
    "print(pit)"
   ]
  },
  {
   "cell_type": "code",
   "execution_count": 38,
   "id": "9192d8ad",
   "metadata": {},
   "outputs": [
    {
     "name": "stdout",
     "output_type": "stream",
     "text": [
      "{('K04033', '2021-05-10'): 0, ('K04033', '2021-05-31'): 0, ('K04033', '2021-02-10'): 0, ('K04033', '2021-05-30'): 0, ('K04033', '2021-02-18'): 0, ('K04033', '2021-05-13'): 318, ('K04033', '2021-05-24'): 0, ('K04033', '2021-03-10'): 0, ('K04033', '2021-04-10'): 0, ('066157', '2021-05-10'): 0, ('066157', '2021-05-31'): 0, ('066157', '2021-02-10'): 0, ('066157', '2021-05-30'): 0, ('066157', '2021-02-18'): 0, ('066157', '2021-05-13'): 208, ('066157', '2021-05-24'): 0, ('066157', '2021-03-10'): 0, ('066157', '2021-04-10'): 0, ('052996', '2021-05-10'): 0, ('052996', '2021-05-31'): 0, ('052996', '2021-02-10'): 0, ('052996', '2021-05-30'): 2, ('052996', '2021-02-18'): 2, ('052996', '2021-05-13'): 0, ('052996', '2021-05-24'): 0, ('052996', '2021-03-10'): 0, ('052996', '2021-04-10'): 0, ('S00271', '2021-05-10'): 0, ('S00271', '2021-05-31'): 150, ('S00271', '2021-02-10'): 0, ('S00271', '2021-05-30'): 0, ('S00271', '2021-02-18'): 0, ('S00271', '2021-05-13'): 0, ('S00271', '2021-05-24'): 0, ('S00271', '2021-03-10'): 0, ('S00271', '2021-04-10'): 0, ('051718', '2021-05-10'): 0, ('051718', '2021-05-31'): 0, ('051718', '2021-02-10'): 0, ('051718', '2021-05-30'): 19, ('051718', '2021-02-18'): 0, ('051718', '2021-05-13'): 0, ('051718', '2021-05-24'): 0, ('051718', '2021-03-10'): 0, ('051718', '2021-04-10'): 0, ('K04031', '2021-05-10'): 0, ('K04031', '2021-05-31'): 0, ('K04031', '2021-02-10'): 0, ('K04031', '2021-05-30'): 0, ('K04031', '2021-02-18'): 0, ('K04031', '2021-05-13'): 0, ('K04031', '2021-05-24'): 383, ('K04031', '2021-03-10'): 0, ('K04031', '2021-04-10'): 0, ('S00341', '2021-05-10'): 398, ('S00341', '2021-05-31'): 0, ('S00341', '2021-02-10'): 500, ('S00341', '2021-05-30'): 0, ('S00341', '2021-02-18'): 0, ('S00341', '2021-05-13'): 0, ('S00341', '2021-05-24'): 0, ('S00341', '2021-03-10'): 500, ('S00341', '2021-04-10'): 500, ('K04101', '2021-05-10'): 0, ('K04101', '2021-05-31'): 0, ('K04101', '2021-02-10'): 0, ('K04101', '2021-05-30'): 15, ('K04101', '2021-02-18'): 0, ('K04101', '2021-05-13'): 0, ('K04101', '2021-05-24'): 0, ('K04101', '2021-03-10'): 0, ('K04101', '2021-04-10'): 0}\n"
     ]
    }
   ],
   "source": [
    "print(dit)"
   ]
  },
  {
   "cell_type": "code",
   "execution_count": 39,
   "id": "0ac15546",
   "metadata": {},
   "outputs": [
    {
     "name": "stdout",
     "output_type": "stream",
     "text": [
      "{('K04033', 404.0, '2021-05-10'): 12.84, ('K04033', 404.0, '2021-05-31'): 12.84, ('K04033', 404.0, '2021-02-10'): 12.84, ('K04033', 404.0, '2021-05-30'): 12.84, ('K04033', 404.0, '2021-02-18'): 12.84, ('K04033', 404.0, '2021-05-13'): 12.84, ('K04033', 404.0, '2021-05-24'): 12.84, ('K04033', 404.0, '2021-03-10'): 12.84, ('K04033', 404.0, '2021-04-10'): 12.84, ('K04033', 405.0, '2021-05-10'): 10.42, ('K04033', 405.0, '2021-05-31'): 10.42, ('K04033', 405.0, '2021-02-10'): 10.42, ('K04033', 405.0, '2021-05-30'): 10.42, ('K04033', 405.0, '2021-02-18'): 10.42, ('K04033', 405.0, '2021-05-13'): 10.42, ('K04033', 405.0, '2021-05-24'): 10.42, ('K04033', 405.0, '2021-03-10'): 10.42, ('K04033', 405.0, '2021-04-10'): 10.42, ('K04033', 407.0, '2021-05-10'): 8.69, ('K04033', 407.0, '2021-05-31'): 8.69, ('K04033', 407.0, '2021-02-10'): 8.69, ('K04033', 407.0, '2021-05-30'): 8.69, ('K04033', 407.0, '2021-02-18'): 8.69, ('K04033', 407.0, '2021-05-13'): 8.69, ('K04033', 407.0, '2021-05-24'): 8.69, ('K04033', 407.0, '2021-03-10'): 8.69, ('K04033', 407.0, '2021-04-10'): 8.69, ('K04033', 408.0, '2021-05-10'): 9.12, ('K04033', 408.0, '2021-05-31'): 9.12, ('K04033', 408.0, '2021-02-10'): 9.12, ('K04033', 408.0, '2021-05-30'): 9.12, ('K04033', 408.0, '2021-02-18'): 9.12, ('K04033', 408.0, '2021-05-13'): 9.12, ('K04033', 408.0, '2021-05-24'): 9.12, ('K04033', 408.0, '2021-03-10'): 9.12, ('K04033', 408.0, '2021-04-10'): 9.12, ('K04033', 409.0, '2021-05-10'): 10.33, ('K04033', 409.0, '2021-05-31'): 10.33, ('K04033', 409.0, '2021-02-10'): 10.33, ('K04033', 409.0, '2021-05-30'): 10.33, ('K04033', 409.0, '2021-02-18'): 10.33, ('K04033', 409.0, '2021-05-13'): 10.33, ('K04033', 409.0, '2021-05-24'): 10.33, ('K04033', 409.0, '2021-03-10'): 10.33, ('K04033', 409.0, '2021-04-10'): 10.33, ('K04033', 410.0, '2021-05-10'): 8.99, ('K04033', 410.0, '2021-05-31'): 8.99, ('K04033', 410.0, '2021-02-10'): 8.99, ('K04033', 410.0, '2021-05-30'): 8.99, ('K04033', 410.0, '2021-02-18'): 8.99, ('K04033', 410.0, '2021-05-13'): 8.99, ('K04033', 410.0, '2021-05-24'): 8.99, ('K04033', 410.0, '2021-03-10'): 8.99, ('K04033', 410.0, '2021-04-10'): 8.99, ('K04033', 412.0, '2021-05-10'): 12.32, ('K04033', 412.0, '2021-05-31'): 12.32, ('K04033', 412.0, '2021-02-10'): 12.32, ('K04033', 412.0, '2021-05-30'): 12.32, ('K04033', 412.0, '2021-02-18'): 12.32, ('K04033', 412.0, '2021-05-13'): 12.32, ('K04033', 412.0, '2021-05-24'): 12.32, ('K04033', 412.0, '2021-03-10'): 12.32, ('K04033', 412.0, '2021-04-10'): 12.32, ('K04033', 416.0, '2021-05-10'): 11.23, ('K04033', 416.0, '2021-05-31'): 11.23, ('K04033', 416.0, '2021-02-10'): 11.23, ('K04033', 416.0, '2021-05-30'): 11.23, ('K04033', 416.0, '2021-02-18'): 11.23, ('K04033', 416.0, '2021-05-13'): 11.23, ('K04033', 416.0, '2021-05-24'): 11.23, ('K04033', 416.0, '2021-03-10'): 11.23, ('K04033', 416.0, '2021-04-10'): 11.23, ('K04033', 421.0, '2021-05-10'): 0, ('K04033', 421.0, '2021-05-31'): 0, ('K04033', 421.0, '2021-02-10'): 0, ('K04033', 421.0, '2021-05-30'): 0, ('K04033', 421.0, '2021-02-18'): 0, ('K04033', 421.0, '2021-05-13'): 0, ('K04033', 421.0, '2021-05-24'): 0, ('K04033', 421.0, '2021-03-10'): 0, ('K04033', 421.0, '2021-04-10'): 0, ('K04033', 422.0, '2021-05-10'): 4.0, ('K04033', 422.0, '2021-05-31'): 4.0, ('K04033', 422.0, '2021-02-10'): 4.0, ('K04033', 422.0, '2021-05-30'): 4.0, ('K04033', 422.0, '2021-02-18'): 4.0, ('K04033', 422.0, '2021-05-13'): 4.0, ('K04033', 422.0, '2021-05-24'): 4.0, ('K04033', 422.0, '2021-03-10'): 4.0, ('K04033', 422.0, '2021-04-10'): 4.0, ('K04033', 424.0, '2021-05-10'): 9.87, ('K04033', 424.0, '2021-05-31'): 9.87, ('K04033', 424.0, '2021-02-10'): 9.87, ('K04033', 424.0, '2021-05-30'): 9.87, ('K04033', 424.0, '2021-02-18'): 9.87, ('K04033', 424.0, '2021-05-13'): 9.87, ('K04033', 424.0, '2021-05-24'): 9.87, ('K04033', 424.0, '2021-03-10'): 9.87, ('K04033', 424.0, '2021-04-10'): 9.87, ('K04033', 425.0, '2021-05-10'): 0, ('K04033', 425.0, '2021-05-31'): 0, ('K04033', 425.0, '2021-02-10'): 0, ('K04033', 425.0, '2021-05-30'): 0, ('K04033', 425.0, '2021-02-18'): 0, ('K04033', 425.0, '2021-05-13'): 0, ('K04033', 425.0, '2021-05-24'): 0, ('K04033', 425.0, '2021-03-10'): 0, ('K04033', 425.0, '2021-04-10'): 0, ('K04033', 426.0, '2021-05-10'): 11.77, ('K04033', 426.0, '2021-05-31'): 11.77, ('K04033', 426.0, '2021-02-10'): 11.77, ('K04033', 426.0, '2021-05-30'): 11.77, ('K04033', 426.0, '2021-02-18'): 11.77, ('K04033', 426.0, '2021-05-13'): 11.77, ('K04033', 426.0, '2021-05-24'): 11.77, ('K04033', 426.0, '2021-03-10'): 11.77, ('K04033', 426.0, '2021-04-10'): 11.77, ('K04033', 433.0, '2021-05-10'): 9.54, ('K04033', 433.0, '2021-05-31'): 9.54, ('K04033', 433.0, '2021-02-10'): 9.54, ('K04033', 433.0, '2021-05-30'): 9.54, ('K04033', 433.0, '2021-02-18'): 9.54, ('K04033', 433.0, '2021-05-13'): 9.54, ('K04033', 433.0, '2021-05-24'): 9.54, ('K04033', 433.0, '2021-03-10'): 9.54, ('K04033', 433.0, '2021-04-10'): 9.54, ('K04033', 434.0, '2021-05-10'): 13.05, ('K04033', 434.0, '2021-05-31'): 13.05, ('K04033', 434.0, '2021-02-10'): 13.05, ('K04033', 434.0, '2021-05-30'): 13.05, ('K04033', 434.0, '2021-02-18'): 13.05, ('K04033', 434.0, '2021-05-13'): 13.05, ('K04033', 434.0, '2021-05-24'): 13.05, ('K04033', 434.0, '2021-03-10'): 13.05, ('K04033', 434.0, '2021-04-10'): 13.05, ('K04033', 435.0, '2021-05-10'): 9.0, ('K04033', 435.0, '2021-05-31'): 9.0, ('K04033', 435.0, '2021-02-10'): 9.0, ('K04033', 435.0, '2021-05-30'): 9.0, ('K04033', 435.0, '2021-02-18'): 9.0, ('K04033', 435.0, '2021-05-13'): 9.0, ('K04033', 435.0, '2021-05-24'): 9.0, ('K04033', 435.0, '2021-03-10'): 9.0, ('K04033', 435.0, '2021-04-10'): 9.0, ('K04033', 436.0, '2021-05-10'): 9.0, ('K04033', 436.0, '2021-05-31'): 9.0, ('K04033', 436.0, '2021-02-10'): 9.0, ('K04033', 436.0, '2021-05-30'): 9.0, ('K04033', 436.0, '2021-02-18'): 9.0, ('K04033', 436.0, '2021-05-13'): 9.0, ('K04033', 436.0, '2021-05-24'): 9.0, ('K04033', 436.0, '2021-03-10'): 9.0, ('K04033', 436.0, '2021-04-10'): 9.0, ('K04033', 438.0, '2021-05-10'): 4.4, ('K04033', 438.0, '2021-05-31'): 4.4, ('K04033', 438.0, '2021-02-10'): 4.4, ('K04033', 438.0, '2021-05-30'): 4.4, ('K04033', 438.0, '2021-02-18'): 4.4, ('K04033', 438.0, '2021-05-13'): 4.4, ('K04033', 438.0, '2021-05-24'): 4.4, ('K04033', 438.0, '2021-03-10'): 4.4, ('K04033', 438.0, '2021-04-10'): 4.4, ('K04033', 439.0, '2021-05-10'): 12.47, ('K04033', 439.0, '2021-05-31'): 12.47, ('K04033', 439.0, '2021-02-10'): 12.47, ('K04033', 439.0, '2021-05-30'): 12.47, ('K04033', 439.0, '2021-02-18'): 12.47, ('K04033', 439.0, '2021-05-13'): 12.47, ('K04033', 439.0, '2021-05-24'): 12.47, ('K04033', 439.0, '2021-03-10'): 12.47, ('K04033', 439.0, '2021-04-10'): 12.47, ('K04033', 440.0, '2021-05-10'): 9.4, ('K04033', 440.0, '2021-05-31'): 9.4, ('K04033', 440.0, '2021-02-10'): 9.4, ('K04033', 440.0, '2021-05-30'): 9.4, ('K04033', 440.0, '2021-02-18'): 9.4, ('K04033', 440.0, '2021-05-13'): 9.4, ('K04033', 440.0, '2021-05-24'): 9.4, ('K04033', 440.0, '2021-03-10'): 9.4, ('K04033', 440.0, '2021-04-10'): 9.4, ('066157', 404.0, '2021-05-10'): 0, ('066157', 404.0, '2021-05-31'): 0, ('066157', 404.0, '2021-02-10'): 0, ('066157', 404.0, '2021-05-30'): 0, ('066157', 404.0, '2021-02-18'): 0, ('066157', 404.0, '2021-05-13'): 0, ('066157', 404.0, '2021-05-24'): 0, ('066157', 404.0, '2021-03-10'): 0, ('066157', 404.0, '2021-04-10'): 0, ('066157', 405.0, '2021-05-10'): 0, ('066157', 405.0, '2021-05-31'): 0, ('066157', 405.0, '2021-02-10'): 0, ('066157', 405.0, '2021-05-30'): 0, ('066157', 405.0, '2021-02-18'): 0, ('066157', 405.0, '2021-05-13'): 0, ('066157', 405.0, '2021-05-24'): 0, ('066157', 405.0, '2021-03-10'): 0, ('066157', 405.0, '2021-04-10'): 0, ('066157', 407.0, '2021-05-10'): 0, ('066157', 407.0, '2021-05-31'): 0, ('066157', 407.0, '2021-02-10'): 0, ('066157', 407.0, '2021-05-30'): 0, ('066157', 407.0, '2021-02-18'): 0, ('066157', 407.0, '2021-05-13'): 0, ('066157', 407.0, '2021-05-24'): 0, ('066157', 407.0, '2021-03-10'): 0, ('066157', 407.0, '2021-04-10'): 0, ('066157', 408.0, '2021-05-10'): 4.59, ('066157', 408.0, '2021-05-31'): 4.59, ('066157', 408.0, '2021-02-10'): 4.59, ('066157', 408.0, '2021-05-30'): 4.59, ('066157', 408.0, '2021-02-18'): 4.59, ('066157', 408.0, '2021-05-13'): 4.59, ('066157', 408.0, '2021-05-24'): 4.59, ('066157', 408.0, '2021-03-10'): 4.59, ('066157', 408.0, '2021-04-10'): 4.59, ('066157', 409.0, '2021-05-10'): 6.02, ('066157', 409.0, '2021-05-31'): 6.02, ('066157', 409.0, '2021-02-10'): 6.02, ('066157', 409.0, '2021-05-30'): 6.02, ('066157', 409.0, '2021-02-18'): 6.02, ('066157', 409.0, '2021-05-13'): 6.02, ('066157', 409.0, '2021-05-24'): 6.02, ('066157', 409.0, '2021-03-10'): 6.02, ('066157', 409.0, '2021-04-10'): 6.02, ('066157', 410.0, '2021-05-10'): 0, ('066157', 410.0, '2021-05-31'): 0, ('066157', 410.0, '2021-02-10'): 0, ('066157', 410.0, '2021-05-30'): 0, ('066157', 410.0, '2021-02-18'): 0, ('066157', 410.0, '2021-05-13'): 0, ('066157', 410.0, '2021-05-24'): 0, ('066157', 410.0, '2021-03-10'): 0, ('066157', 410.0, '2021-04-10'): 0, ('066157', 412.0, '2021-05-10'): 0, ('066157', 412.0, '2021-05-31'): 0, ('066157', 412.0, '2021-02-10'): 0, ('066157', 412.0, '2021-05-30'): 0, ('066157', 412.0, '2021-02-18'): 0, ('066157', 412.0, '2021-05-13'): 0, ('066157', 412.0, '2021-05-24'): 0, ('066157', 412.0, '2021-03-10'): 0, ('066157', 412.0, '2021-04-10'): 0, ('066157', 416.0, '2021-05-10'): 0, ('066157', 416.0, '2021-05-31'): 0, ('066157', 416.0, '2021-02-10'): 0, ('066157', 416.0, '2021-05-30'): 0, ('066157', 416.0, '2021-02-18'): 0, ('066157', 416.0, '2021-05-13'): 0, ('066157', 416.0, '2021-05-24'): 0, ('066157', 416.0, '2021-03-10'): 0, ('066157', 416.0, '2021-04-10'): 0, ('066157', 421.0, '2021-05-10'): 0, ('066157', 421.0, '2021-05-31'): 0, ('066157', 421.0, '2021-02-10'): 0, ('066157', 421.0, '2021-05-30'): 0, ('066157', 421.0, '2021-02-18'): 0, ('066157', 421.0, '2021-05-13'): 0, ('066157', 421.0, '2021-05-24'): 0, ('066157', 421.0, '2021-03-10'): 0, ('066157', 421.0, '2021-04-10'): 0, ('066157', 422.0, '2021-05-10'): 0, ('066157', 422.0, '2021-05-31'): 0, ('066157', 422.0, '2021-02-10'): 0, ('066157', 422.0, '2021-05-30'): 0, ('066157', 422.0, '2021-02-18'): 0, ('066157', 422.0, '2021-05-13'): 0, ('066157', 422.0, '2021-05-24'): 0, ('066157', 422.0, '2021-03-10'): 0, ('066157', 422.0, '2021-04-10'): 0, ('066157', 424.0, '2021-05-10'): 0, ('066157', 424.0, '2021-05-31'): 0, ('066157', 424.0, '2021-02-10'): 0, ('066157', 424.0, '2021-05-30'): 0, ('066157', 424.0, '2021-02-18'): 0, ('066157', 424.0, '2021-05-13'): 0, ('066157', 424.0, '2021-05-24'): 0, ('066157', 424.0, '2021-03-10'): 0, ('066157', 424.0, '2021-04-10'): 0, ('066157', 425.0, '2021-05-10'): 0, ('066157', 425.0, '2021-05-31'): 0, ('066157', 425.0, '2021-02-10'): 0, ('066157', 425.0, '2021-05-30'): 0, ('066157', 425.0, '2021-02-18'): 0, ('066157', 425.0, '2021-05-13'): 0, ('066157', 425.0, '2021-05-24'): 0, ('066157', 425.0, '2021-03-10'): 0, ('066157', 425.0, '2021-04-10'): 0, ('066157', 426.0, '2021-05-10'): 0, ('066157', 426.0, '2021-05-31'): 0, ('066157', 426.0, '2021-02-10'): 0, ('066157', 426.0, '2021-05-30'): 0, ('066157', 426.0, '2021-02-18'): 0, ('066157', 426.0, '2021-05-13'): 0, ('066157', 426.0, '2021-05-24'): 0, ('066157', 426.0, '2021-03-10'): 0, ('066157', 426.0, '2021-04-10'): 0, ('066157', 433.0, '2021-05-10'): 0, ('066157', 433.0, '2021-05-31'): 0, ('066157', 433.0, '2021-02-10'): 0, ('066157', 433.0, '2021-05-30'): 0, ('066157', 433.0, '2021-02-18'): 0, ('066157', 433.0, '2021-05-13'): 0, ('066157', 433.0, '2021-05-24'): 0, ('066157', 433.0, '2021-03-10'): 0, ('066157', 433.0, '2021-04-10'): 0, ('066157', 434.0, '2021-05-10'): 4.17, ('066157', 434.0, '2021-05-31'): 4.17, ('066157', 434.0, '2021-02-10'): 4.17, ('066157', 434.0, '2021-05-30'): 4.17, ('066157', 434.0, '2021-02-18'): 4.17, ('066157', 434.0, '2021-05-13'): 4.17, ('066157', 434.0, '2021-05-24'): 4.17, ('066157', 434.0, '2021-03-10'): 4.17, ('066157', 434.0, '2021-04-10'): 4.17, ('066157', 435.0, '2021-05-10'): 0, ('066157', 435.0, '2021-05-31'): 0, ('066157', 435.0, '2021-02-10'): 0, ('066157', 435.0, '2021-05-30'): 0, ('066157', 435.0, '2021-02-18'): 0, ('066157', 435.0, '2021-05-13'): 0, ('066157', 435.0, '2021-05-24'): 0, ('066157', 435.0, '2021-03-10'): 0, ('066157', 435.0, '2021-04-10'): 0, ('066157', 436.0, '2021-05-10'): 0, ('066157', 436.0, '2021-05-31'): 0, ('066157', 436.0, '2021-02-10'): 0, ('066157', 436.0, '2021-05-30'): 0, ('066157', 436.0, '2021-02-18'): 0, ('066157', 436.0, '2021-05-13'): 0, ('066157', 436.0, '2021-05-24'): 0, ('066157', 436.0, '2021-03-10'): 0, ('066157', 436.0, '2021-04-10'): 0, ('066157', 438.0, '2021-05-10'): 0, ('066157', 438.0, '2021-05-31'): 0, ('066157', 438.0, '2021-02-10'): 0, ('066157', 438.0, '2021-05-30'): 0, ('066157', 438.0, '2021-02-18'): 0, ('066157', 438.0, '2021-05-13'): 0, ('066157', 438.0, '2021-05-24'): 0, ('066157', 438.0, '2021-03-10'): 0, ('066157', 438.0, '2021-04-10'): 0, ('066157', 439.0, '2021-05-10'): 0, ('066157', 439.0, '2021-05-31'): 0, ('066157', 439.0, '2021-02-10'): 0, ('066157', 439.0, '2021-05-30'): 0, ('066157', 439.0, '2021-02-18'): 0, ('066157', 439.0, '2021-05-13'): 0, ('066157', 439.0, '2021-05-24'): 0, ('066157', 439.0, '2021-03-10'): 0, ('066157', 439.0, '2021-04-10'): 0, ('066157', 440.0, '2021-05-10'): 0, ('066157', 440.0, '2021-05-31'): 0, ('066157', 440.0, '2021-02-10'): 0, ('066157', 440.0, '2021-05-30'): 0, ('066157', 440.0, '2021-02-18'): 0, ('066157', 440.0, '2021-05-13'): 0, ('066157', 440.0, '2021-05-24'): 0, ('066157', 440.0, '2021-03-10'): 0, ('066157', 440.0, '2021-04-10'): 0, ('052996', 404.0, '2021-05-10'): 0, ('052996', 404.0, '2021-05-31'): 0, ('052996', 404.0, '2021-02-10'): 0, ('052996', 404.0, '2021-05-30'): 0, ('052996', 404.0, '2021-02-18'): 0, ('052996', 404.0, '2021-05-13'): 0, ('052996', 404.0, '2021-05-24'): 0, ('052996', 404.0, '2021-03-10'): 0, ('052996', 404.0, '2021-04-10'): 0, ('052996', 405.0, '2021-05-10'): 0, ('052996', 405.0, '2021-05-31'): 0, ('052996', 405.0, '2021-02-10'): 0, ('052996', 405.0, '2021-05-30'): 0, ('052996', 405.0, '2021-02-18'): 0, ('052996', 405.0, '2021-05-13'): 0, ('052996', 405.0, '2021-05-24'): 0, ('052996', 405.0, '2021-03-10'): 0, ('052996', 405.0, '2021-04-10'): 0, ('052996', 407.0, '2021-05-10'): 0, ('052996', 407.0, '2021-05-31'): 0, ('052996', 407.0, '2021-02-10'): 0, ('052996', 407.0, '2021-05-30'): 0, ('052996', 407.0, '2021-02-18'): 0, ('052996', 407.0, '2021-05-13'): 0, ('052996', 407.0, '2021-05-24'): 0, ('052996', 407.0, '2021-03-10'): 0, ('052996', 407.0, '2021-04-10'): 0, ('052996', 408.0, '2021-05-10'): 0, ('052996', 408.0, '2021-05-31'): 0, ('052996', 408.0, '2021-02-10'): 0, ('052996', 408.0, '2021-05-30'): 0, ('052996', 408.0, '2021-02-18'): 0, ('052996', 408.0, '2021-05-13'): 0, ('052996', 408.0, '2021-05-24'): 0, ('052996', 408.0, '2021-03-10'): 0, ('052996', 408.0, '2021-04-10'): 0, ('052996', 409.0, '2021-05-10'): 0, ('052996', 409.0, '2021-05-31'): 0, ('052996', 409.0, '2021-02-10'): 0, ('052996', 409.0, '2021-05-30'): 0, ('052996', 409.0, '2021-02-18'): 0, ('052996', 409.0, '2021-05-13'): 0, ('052996', 409.0, '2021-05-24'): 0, ('052996', 409.0, '2021-03-10'): 0, ('052996', 409.0, '2021-04-10'): 0, ('052996', 410.0, '2021-05-10'): 25.0, ('052996', 410.0, '2021-05-31'): 25.0, ('052996', 410.0, '2021-02-10'): 25.0, ('052996', 410.0, '2021-05-30'): 25.0, ('052996', 410.0, '2021-02-18'): 25.0, ('052996', 410.0, '2021-05-13'): 25.0, ('052996', 410.0, '2021-05-24'): 25.0, ('052996', 410.0, '2021-03-10'): 25.0, ('052996', 410.0, '2021-04-10'): 25.0, ('052996', 412.0, '2021-05-10'): 0, ('052996', 412.0, '2021-05-31'): 0, ('052996', 412.0, '2021-02-10'): 0, ('052996', 412.0, '2021-05-30'): 0, ('052996', 412.0, '2021-02-18'): 0, ('052996', 412.0, '2021-05-13'): 0, ('052996', 412.0, '2021-05-24'): 0, ('052996', 412.0, '2021-03-10'): 0, ('052996', 412.0, '2021-04-10'): 0, ('052996', 416.0, '2021-05-10'): 0, ('052996', 416.0, '2021-05-31'): 0, ('052996', 416.0, '2021-02-10'): 0, ('052996', 416.0, '2021-05-30'): 0, ('052996', 416.0, '2021-02-18'): 0, ('052996', 416.0, '2021-05-13'): 0, ('052996', 416.0, '2021-05-24'): 0, ('052996', 416.0, '2021-03-10'): 0, ('052996', 416.0, '2021-04-10'): 0, ('052996', 421.0, '2021-05-10'): 200.0, ('052996', 421.0, '2021-05-31'): 200.0, ('052996', 421.0, '2021-02-10'): 200.0, ('052996', 421.0, '2021-05-30'): 200.0, ('052996', 421.0, '2021-02-18'): 200.0, ('052996', 421.0, '2021-05-13'): 200.0, ('052996', 421.0, '2021-05-24'): 200.0, ('052996', 421.0, '2021-03-10'): 200.0, ('052996', 421.0, '2021-04-10'): 200.0, ('052996', 422.0, '2021-05-10'): 0, ('052996', 422.0, '2021-05-31'): 0, ('052996', 422.0, '2021-02-10'): 0, ('052996', 422.0, '2021-05-30'): 0, ('052996', 422.0, '2021-02-18'): 0, ('052996', 422.0, '2021-05-13'): 0, ('052996', 422.0, '2021-05-24'): 0, ('052996', 422.0, '2021-03-10'): 0, ('052996', 422.0, '2021-04-10'): 0, ('052996', 424.0, '2021-05-10'): 0, ('052996', 424.0, '2021-05-31'): 0, ('052996', 424.0, '2021-02-10'): 0, ('052996', 424.0, '2021-05-30'): 0, ('052996', 424.0, '2021-02-18'): 0, ('052996', 424.0, '2021-05-13'): 0, ('052996', 424.0, '2021-05-24'): 0, ('052996', 424.0, '2021-03-10'): 0, ('052996', 424.0, '2021-04-10'): 0, ('052996', 425.0, '2021-05-10'): 0, ('052996', 425.0, '2021-05-31'): 0, ('052996', 425.0, '2021-02-10'): 0, ('052996', 425.0, '2021-05-30'): 0, ('052996', 425.0, '2021-02-18'): 0, ('052996', 425.0, '2021-05-13'): 0, ('052996', 425.0, '2021-05-24'): 0, ('052996', 425.0, '2021-03-10'): 0, ('052996', 425.0, '2021-04-10'): 0, ('052996', 426.0, '2021-05-10'): 0, ('052996', 426.0, '2021-05-31'): 0, ('052996', 426.0, '2021-02-10'): 0, ('052996', 426.0, '2021-05-30'): 0, ('052996', 426.0, '2021-02-18'): 0, ('052996', 426.0, '2021-05-13'): 0, ('052996', 426.0, '2021-05-24'): 0, ('052996', 426.0, '2021-03-10'): 0, ('052996', 426.0, '2021-04-10'): 0, ('052996', 433.0, '2021-05-10'): 0, ('052996', 433.0, '2021-05-31'): 0, ('052996', 433.0, '2021-02-10'): 0, ('052996', 433.0, '2021-05-30'): 0, ('052996', 433.0, '2021-02-18'): 0, ('052996', 433.0, '2021-05-13'): 0, ('052996', 433.0, '2021-05-24'): 0, ('052996', 433.0, '2021-03-10'): 0, ('052996', 433.0, '2021-04-10'): 0, ('052996', 434.0, '2021-05-10'): 0, ('052996', 434.0, '2021-05-31'): 0, ('052996', 434.0, '2021-02-10'): 0, ('052996', 434.0, '2021-05-30'): 0, ('052996', 434.0, '2021-02-18'): 0, ('052996', 434.0, '2021-05-13'): 0, ('052996', 434.0, '2021-05-24'): 0, ('052996', 434.0, '2021-03-10'): 0, ('052996', 434.0, '2021-04-10'): 0, ('052996', 435.0, '2021-05-10'): 0, ('052996', 435.0, '2021-05-31'): 0, ('052996', 435.0, '2021-02-10'): 0, ('052996', 435.0, '2021-05-30'): 0, ('052996', 435.0, '2021-02-18'): 0, ('052996', 435.0, '2021-05-13'): 0, ('052996', 435.0, '2021-05-24'): 0, ('052996', 435.0, '2021-03-10'): 0, ('052996', 435.0, '2021-04-10'): 0, ('052996', 436.0, '2021-05-10'): 0, ('052996', 436.0, '2021-05-31'): 0, ('052996', 436.0, '2021-02-10'): 0, ('052996', 436.0, '2021-05-30'): 0, ('052996', 436.0, '2021-02-18'): 0, ('052996', 436.0, '2021-05-13'): 0, ('052996', 436.0, '2021-05-24'): 0, ('052996', 436.0, '2021-03-10'): 0, ('052996', 436.0, '2021-04-10'): 0, ('052996', 438.0, '2021-05-10'): 0, ('052996', 438.0, '2021-05-31'): 0, ('052996', 438.0, '2021-02-10'): 0, ('052996', 438.0, '2021-05-30'): 0, ('052996', 438.0, '2021-02-18'): 0, ('052996', 438.0, '2021-05-13'): 0, ('052996', 438.0, '2021-05-24'): 0, ('052996', 438.0, '2021-03-10'): 0, ('052996', 438.0, '2021-04-10'): 0, ('052996', 439.0, '2021-05-10'): 0, ('052996', 439.0, '2021-05-31'): 0, ('052996', 439.0, '2021-02-10'): 0, ('052996', 439.0, '2021-05-30'): 0, ('052996', 439.0, '2021-02-18'): 0, ('052996', 439.0, '2021-05-13'): 0, ('052996', 439.0, '2021-05-24'): 0, ('052996', 439.0, '2021-03-10'): 0, ('052996', 439.0, '2021-04-10'): 0, ('052996', 440.0, '2021-05-10'): 0, ('052996', 440.0, '2021-05-31'): 0, ('052996', 440.0, '2021-02-10'): 0, ('052996', 440.0, '2021-05-30'): 0, ('052996', 440.0, '2021-02-18'): 0, ('052996', 440.0, '2021-05-13'): 0, ('052996', 440.0, '2021-05-24'): 0, ('052996', 440.0, '2021-03-10'): 0, ('052996', 440.0, '2021-04-10'): 0, ('S00271', 404.0, '2021-05-10'): 0, ('S00271', 404.0, '2021-05-31'): 0, ('S00271', 404.0, '2021-02-10'): 0, ('S00271', 404.0, '2021-05-30'): 0, ('S00271', 404.0, '2021-02-18'): 0, ('S00271', 404.0, '2021-05-13'): 0, ('S00271', 404.0, '2021-05-24'): 0, ('S00271', 404.0, '2021-03-10'): 0, ('S00271', 404.0, '2021-04-10'): 0, ('S00271', 405.0, '2021-05-10'): 0, ('S00271', 405.0, '2021-05-31'): 0, ('S00271', 405.0, '2021-02-10'): 0, ('S00271', 405.0, '2021-05-30'): 0, ('S00271', 405.0, '2021-02-18'): 0, ('S00271', 405.0, '2021-05-13'): 0, ('S00271', 405.0, '2021-05-24'): 0, ('S00271', 405.0, '2021-03-10'): 0, ('S00271', 405.0, '2021-04-10'): 0, ('S00271', 407.0, '2021-05-10'): 0, ('S00271', 407.0, '2021-05-31'): 0, ('S00271', 407.0, '2021-02-10'): 0, ('S00271', 407.0, '2021-05-30'): 0, ('S00271', 407.0, '2021-02-18'): 0, ('S00271', 407.0, '2021-05-13'): 0, ('S00271', 407.0, '2021-05-24'): 0, ('S00271', 407.0, '2021-03-10'): 0, ('S00271', 407.0, '2021-04-10'): 0, ('S00271', 408.0, '2021-05-10'): 0, ('S00271', 408.0, '2021-05-31'): 0, ('S00271', 408.0, '2021-02-10'): 0, ('S00271', 408.0, '2021-05-30'): 0, ('S00271', 408.0, '2021-02-18'): 0, ('S00271', 408.0, '2021-05-13'): 0, ('S00271', 408.0, '2021-05-24'): 0, ('S00271', 408.0, '2021-03-10'): 0, ('S00271', 408.0, '2021-04-10'): 0, ('S00271', 409.0, '2021-05-10'): 0, ('S00271', 409.0, '2021-05-31'): 0, ('S00271', 409.0, '2021-02-10'): 0, ('S00271', 409.0, '2021-05-30'): 0, ('S00271', 409.0, '2021-02-18'): 0, ('S00271', 409.0, '2021-05-13'): 0, ('S00271', 409.0, '2021-05-24'): 0, ('S00271', 409.0, '2021-03-10'): 0, ('S00271', 409.0, '2021-04-10'): 0, ('S00271', 410.0, '2021-05-10'): 0, ('S00271', 410.0, '2021-05-31'): 0, ('S00271', 410.0, '2021-02-10'): 0, ('S00271', 410.0, '2021-05-30'): 0, ('S00271', 410.0, '2021-02-18'): 0, ('S00271', 410.0, '2021-05-13'): 0, ('S00271', 410.0, '2021-05-24'): 0, ('S00271', 410.0, '2021-03-10'): 0, ('S00271', 410.0, '2021-04-10'): 0, ('S00271', 412.0, '2021-05-10'): 0, ('S00271', 412.0, '2021-05-31'): 0, ('S00271', 412.0, '2021-02-10'): 0, ('S00271', 412.0, '2021-05-30'): 0, ('S00271', 412.0, '2021-02-18'): 0, ('S00271', 412.0, '2021-05-13'): 0, ('S00271', 412.0, '2021-05-24'): 0, ('S00271', 412.0, '2021-03-10'): 0, ('S00271', 412.0, '2021-04-10'): 0, ('S00271', 416.0, '2021-05-10'): 0, ('S00271', 416.0, '2021-05-31'): 0, ('S00271', 416.0, '2021-02-10'): 0, ('S00271', 416.0, '2021-05-30'): 0, ('S00271', 416.0, '2021-02-18'): 0, ('S00271', 416.0, '2021-05-13'): 0, ('S00271', 416.0, '2021-05-24'): 0, ('S00271', 416.0, '2021-03-10'): 0, ('S00271', 416.0, '2021-04-10'): 0, ('S00271', 421.0, '2021-05-10'): 0, ('S00271', 421.0, '2021-05-31'): 0, ('S00271', 421.0, '2021-02-10'): 0, ('S00271', 421.0, '2021-05-30'): 0, ('S00271', 421.0, '2021-02-18'): 0, ('S00271', 421.0, '2021-05-13'): 0, ('S00271', 421.0, '2021-05-24'): 0, ('S00271', 421.0, '2021-03-10'): 0, ('S00271', 421.0, '2021-04-10'): 0, ('S00271', 422.0, '2021-05-10'): 0, ('S00271', 422.0, '2021-05-31'): 0, ('S00271', 422.0, '2021-02-10'): 0, ('S00271', 422.0, '2021-05-30'): 0, ('S00271', 422.0, '2021-02-18'): 0, ('S00271', 422.0, '2021-05-13'): 0, ('S00271', 422.0, '2021-05-24'): 0, ('S00271', 422.0, '2021-03-10'): 0, ('S00271', 422.0, '2021-04-10'): 0, ('S00271', 424.0, '2021-05-10'): 0, ('S00271', 424.0, '2021-05-31'): 0, ('S00271', 424.0, '2021-02-10'): 0, ('S00271', 424.0, '2021-05-30'): 0, ('S00271', 424.0, '2021-02-18'): 0, ('S00271', 424.0, '2021-05-13'): 0, ('S00271', 424.0, '2021-05-24'): 0, ('S00271', 424.0, '2021-03-10'): 0, ('S00271', 424.0, '2021-04-10'): 0, ('S00271', 425.0, '2021-05-10'): 1.32, ('S00271', 425.0, '2021-05-31'): 1.32, ('S00271', 425.0, '2021-02-10'): 1.32, ('S00271', 425.0, '2021-05-30'): 1.32, ('S00271', 425.0, '2021-02-18'): 1.32, ('S00271', 425.0, '2021-05-13'): 1.32, ('S00271', 425.0, '2021-05-24'): 1.32, ('S00271', 425.0, '2021-03-10'): 1.32, ('S00271', 425.0, '2021-04-10'): 1.32, ('S00271', 426.0, '2021-05-10'): 0, ('S00271', 426.0, '2021-05-31'): 0, ('S00271', 426.0, '2021-02-10'): 0, ('S00271', 426.0, '2021-05-30'): 0, ('S00271', 426.0, '2021-02-18'): 0, ('S00271', 426.0, '2021-05-13'): 0, ('S00271', 426.0, '2021-05-24'): 0, ('S00271', 426.0, '2021-03-10'): 0, ('S00271', 426.0, '2021-04-10'): 0, ('S00271', 433.0, '2021-05-10'): 0, ('S00271', 433.0, '2021-05-31'): 0, ('S00271', 433.0, '2021-02-10'): 0, ('S00271', 433.0, '2021-05-30'): 0, ('S00271', 433.0, '2021-02-18'): 0, ('S00271', 433.0, '2021-05-13'): 0, ('S00271', 433.0, '2021-05-24'): 0, ('S00271', 433.0, '2021-03-10'): 0, ('S00271', 433.0, '2021-04-10'): 0, ('S00271', 434.0, '2021-05-10'): 0, ('S00271', 434.0, '2021-05-31'): 0, ('S00271', 434.0, '2021-02-10'): 0, ('S00271', 434.0, '2021-05-30'): 0, ('S00271', 434.0, '2021-02-18'): 0, ('S00271', 434.0, '2021-05-13'): 0, ('S00271', 434.0, '2021-05-24'): 0, ('S00271', 434.0, '2021-03-10'): 0, ('S00271', 434.0, '2021-04-10'): 0, ('S00271', 435.0, '2021-05-10'): 0, ('S00271', 435.0, '2021-05-31'): 0, ('S00271', 435.0, '2021-02-10'): 0, ('S00271', 435.0, '2021-05-30'): 0, ('S00271', 435.0, '2021-02-18'): 0, ('S00271', 435.0, '2021-05-13'): 0, ('S00271', 435.0, '2021-05-24'): 0, ('S00271', 435.0, '2021-03-10'): 0, ('S00271', 435.0, '2021-04-10'): 0, ('S00271', 436.0, '2021-05-10'): 0, ('S00271', 436.0, '2021-05-31'): 0, ('S00271', 436.0, '2021-02-10'): 0, ('S00271', 436.0, '2021-05-30'): 0, ('S00271', 436.0, '2021-02-18'): 0, ('S00271', 436.0, '2021-05-13'): 0, ('S00271', 436.0, '2021-05-24'): 0, ('S00271', 436.0, '2021-03-10'): 0, ('S00271', 436.0, '2021-04-10'): 0, ('S00271', 438.0, '2021-05-10'): 0, ('S00271', 438.0, '2021-05-31'): 0, ('S00271', 438.0, '2021-02-10'): 0, ('S00271', 438.0, '2021-05-30'): 0, ('S00271', 438.0, '2021-02-18'): 0, ('S00271', 438.0, '2021-05-13'): 0, ('S00271', 438.0, '2021-05-24'): 0, ('S00271', 438.0, '2021-03-10'): 0, ('S00271', 438.0, '2021-04-10'): 0, ('S00271', 439.0, '2021-05-10'): 0, ('S00271', 439.0, '2021-05-31'): 0, ('S00271', 439.0, '2021-02-10'): 0, ('S00271', 439.0, '2021-05-30'): 0, ('S00271', 439.0, '2021-02-18'): 0, ('S00271', 439.0, '2021-05-13'): 0, ('S00271', 439.0, '2021-05-24'): 0, ('S00271', 439.0, '2021-03-10'): 0, ('S00271', 439.0, '2021-04-10'): 0, ('S00271', 440.0, '2021-05-10'): 0, ('S00271', 440.0, '2021-05-31'): 0, ('S00271', 440.0, '2021-02-10'): 0, ('S00271', 440.0, '2021-05-30'): 0, ('S00271', 440.0, '2021-02-18'): 0, ('S00271', 440.0, '2021-05-13'): 0, ('S00271', 440.0, '2021-05-24'): 0, ('S00271', 440.0, '2021-03-10'): 0, ('S00271', 440.0, '2021-04-10'): 0, ('051718', 404.0, '2021-05-10'): 0, ('051718', 404.0, '2021-05-31'): 0, ('051718', 404.0, '2021-02-10'): 0, ('051718', 404.0, '2021-05-30'): 0, ('051718', 404.0, '2021-02-18'): 0, ('051718', 404.0, '2021-05-13'): 0, ('051718', 404.0, '2021-05-24'): 0, ('051718', 404.0, '2021-03-10'): 0, ('051718', 404.0, '2021-04-10'): 0, ('051718', 405.0, '2021-05-10'): 0, ('051718', 405.0, '2021-05-31'): 0, ('051718', 405.0, '2021-02-10'): 0, ('051718', 405.0, '2021-05-30'): 0, ('051718', 405.0, '2021-02-18'): 0, ('051718', 405.0, '2021-05-13'): 0, ('051718', 405.0, '2021-05-24'): 0, ('051718', 405.0, '2021-03-10'): 0, ('051718', 405.0, '2021-04-10'): 0, ('051718', 407.0, '2021-05-10'): 0, ('051718', 407.0, '2021-05-31'): 0, ('051718', 407.0, '2021-02-10'): 0, ('051718', 407.0, '2021-05-30'): 0, ('051718', 407.0, '2021-02-18'): 0, ('051718', 407.0, '2021-05-13'): 0, ('051718', 407.0, '2021-05-24'): 0, ('051718', 407.0, '2021-03-10'): 0, ('051718', 407.0, '2021-04-10'): 0, ('051718', 408.0, '2021-05-10'): 4.89, ('051718', 408.0, '2021-05-31'): 4.89, ('051718', 408.0, '2021-02-10'): 4.89, ('051718', 408.0, '2021-05-30'): 4.89, ('051718', 408.0, '2021-02-18'): 4.89, ('051718', 408.0, '2021-05-13'): 4.89, ('051718', 408.0, '2021-05-24'): 4.89, ('051718', 408.0, '2021-03-10'): 4.89, ('051718', 408.0, '2021-04-10'): 4.89, ('051718', 409.0, '2021-05-10'): 5.92, ('051718', 409.0, '2021-05-31'): 5.92, ('051718', 409.0, '2021-02-10'): 5.92, ('051718', 409.0, '2021-05-30'): 5.92, ('051718', 409.0, '2021-02-18'): 5.92, ('051718', 409.0, '2021-05-13'): 5.92, ('051718', 409.0, '2021-05-24'): 5.92, ('051718', 409.0, '2021-03-10'): 5.92, ('051718', 409.0, '2021-04-10'): 5.92, ('051718', 410.0, '2021-05-10'): 4.91, ('051718', 410.0, '2021-05-31'): 4.91, ('051718', 410.0, '2021-02-10'): 4.91, ('051718', 410.0, '2021-05-30'): 4.91, ('051718', 410.0, '2021-02-18'): 4.91, ('051718', 410.0, '2021-05-13'): 4.91, ('051718', 410.0, '2021-05-24'): 4.91, ('051718', 410.0, '2021-03-10'): 4.91, ('051718', 410.0, '2021-04-10'): 4.91, ('051718', 412.0, '2021-05-10'): 3.5, ('051718', 412.0, '2021-05-31'): 3.5, ('051718', 412.0, '2021-02-10'): 3.5, ('051718', 412.0, '2021-05-30'): 3.5, ('051718', 412.0, '2021-02-18'): 3.5, ('051718', 412.0, '2021-05-13'): 3.5, ('051718', 412.0, '2021-05-24'): 3.5, ('051718', 412.0, '2021-03-10'): 3.5, ('051718', 412.0, '2021-04-10'): 3.5, ('051718', 416.0, '2021-05-10'): 1.03, ('051718', 416.0, '2021-05-31'): 1.03, ('051718', 416.0, '2021-02-10'): 1.03, ('051718', 416.0, '2021-05-30'): 1.03, ('051718', 416.0, '2021-02-18'): 1.03, ('051718', 416.0, '2021-05-13'): 1.03, ('051718', 416.0, '2021-05-24'): 1.03, ('051718', 416.0, '2021-03-10'): 1.03, ('051718', 416.0, '2021-04-10'): 1.03, ('051718', 421.0, '2021-05-10'): 0, ('051718', 421.0, '2021-05-31'): 0, ('051718', 421.0, '2021-02-10'): 0, ('051718', 421.0, '2021-05-30'): 0, ('051718', 421.0, '2021-02-18'): 0, ('051718', 421.0, '2021-05-13'): 0, ('051718', 421.0, '2021-05-24'): 0, ('051718', 421.0, '2021-03-10'): 0, ('051718', 421.0, '2021-04-10'): 0, ('051718', 422.0, '2021-05-10'): 0, ('051718', 422.0, '2021-05-31'): 0, ('051718', 422.0, '2021-02-10'): 0, ('051718', 422.0, '2021-05-30'): 0, ('051718', 422.0, '2021-02-18'): 0, ('051718', 422.0, '2021-05-13'): 0, ('051718', 422.0, '2021-05-24'): 0, ('051718', 422.0, '2021-03-10'): 0, ('051718', 422.0, '2021-04-10'): 0, ('051718', 424.0, '2021-05-10'): 4.6, ('051718', 424.0, '2021-05-31'): 4.6, ('051718', 424.0, '2021-02-10'): 4.6, ('051718', 424.0, '2021-05-30'): 4.6, ('051718', 424.0, '2021-02-18'): 4.6, ('051718', 424.0, '2021-05-13'): 4.6, ('051718', 424.0, '2021-05-24'): 4.6, ('051718', 424.0, '2021-03-10'): 4.6, ('051718', 424.0, '2021-04-10'): 4.6, ('051718', 425.0, '2021-05-10'): 4.54, ('051718', 425.0, '2021-05-31'): 4.54, ('051718', 425.0, '2021-02-10'): 4.54, ('051718', 425.0, '2021-05-30'): 4.54, ('051718', 425.0, '2021-02-18'): 4.54, ('051718', 425.0, '2021-05-13'): 4.54, ('051718', 425.0, '2021-05-24'): 4.54, ('051718', 425.0, '2021-03-10'): 4.54, ('051718', 425.0, '2021-04-10'): 4.54, ('051718', 426.0, '2021-05-10'): 3.83, ('051718', 426.0, '2021-05-31'): 3.83, ('051718', 426.0, '2021-02-10'): 3.83, ('051718', 426.0, '2021-05-30'): 3.83, ('051718', 426.0, '2021-02-18'): 3.83, ('051718', 426.0, '2021-05-13'): 3.83, ('051718', 426.0, '2021-05-24'): 3.83, ('051718', 426.0, '2021-03-10'): 3.83, ('051718', 426.0, '2021-04-10'): 3.83, ('051718', 433.0, '2021-05-10'): 4.64, ('051718', 433.0, '2021-05-31'): 4.64, ('051718', 433.0, '2021-02-10'): 4.64, ('051718', 433.0, '2021-05-30'): 4.64, ('051718', 433.0, '2021-02-18'): 4.64, ('051718', 433.0, '2021-05-13'): 4.64, ('051718', 433.0, '2021-05-24'): 4.64, ('051718', 433.0, '2021-03-10'): 4.64, ('051718', 433.0, '2021-04-10'): 4.64, ('051718', 434.0, '2021-05-10'): 7.12, ('051718', 434.0, '2021-05-31'): 7.12, ('051718', 434.0, '2021-02-10'): 7.12, ('051718', 434.0, '2021-05-30'): 7.12, ('051718', 434.0, '2021-02-18'): 7.12, ('051718', 434.0, '2021-05-13'): 7.12, ('051718', 434.0, '2021-05-24'): 7.12, ('051718', 434.0, '2021-03-10'): 7.12, ('051718', 434.0, '2021-04-10'): 7.12, ('051718', 435.0, '2021-05-10'): 1.32, ('051718', 435.0, '2021-05-31'): 1.32, ('051718', 435.0, '2021-02-10'): 1.32, ('051718', 435.0, '2021-05-30'): 1.32, ('051718', 435.0, '2021-02-18'): 1.32, ('051718', 435.0, '2021-05-13'): 1.32, ('051718', 435.0, '2021-05-24'): 1.32, ('051718', 435.0, '2021-03-10'): 1.32, ('051718', 435.0, '2021-04-10'): 1.32, ('051718', 436.0, '2021-05-10'): 0, ('051718', 436.0, '2021-05-31'): 0, ('051718', 436.0, '2021-02-10'): 0, ('051718', 436.0, '2021-05-30'): 0, ('051718', 436.0, '2021-02-18'): 0, ('051718', 436.0, '2021-05-13'): 0, ('051718', 436.0, '2021-05-24'): 0, ('051718', 436.0, '2021-03-10'): 0, ('051718', 436.0, '2021-04-10'): 0, ('051718', 438.0, '2021-05-10'): 0, ('051718', 438.0, '2021-05-31'): 0, ('051718', 438.0, '2021-02-10'): 0, ('051718', 438.0, '2021-05-30'): 0, ('051718', 438.0, '2021-02-18'): 0, ('051718', 438.0, '2021-05-13'): 0, ('051718', 438.0, '2021-05-24'): 0, ('051718', 438.0, '2021-03-10'): 0, ('051718', 438.0, '2021-04-10'): 0, ('051718', 439.0, '2021-05-10'): 3.0, ('051718', 439.0, '2021-05-31'): 3.0, ('051718', 439.0, '2021-02-10'): 3.0, ('051718', 439.0, '2021-05-30'): 3.0, ('051718', 439.0, '2021-02-18'): 3.0, ('051718', 439.0, '2021-05-13'): 3.0, ('051718', 439.0, '2021-05-24'): 3.0, ('051718', 439.0, '2021-03-10'): 3.0, ('051718', 439.0, '2021-04-10'): 3.0, ('051718', 440.0, '2021-05-10'): 1.83, ('051718', 440.0, '2021-05-31'): 1.83, ('051718', 440.0, '2021-02-10'): 1.83, ('051718', 440.0, '2021-05-30'): 1.83, ('051718', 440.0, '2021-02-18'): 1.83, ('051718', 440.0, '2021-05-13'): 1.83, ('051718', 440.0, '2021-05-24'): 1.83, ('051718', 440.0, '2021-03-10'): 1.83, ('051718', 440.0, '2021-04-10'): 1.83, ('K04031', 404.0, '2021-05-10'): 0, ('K04031', 404.0, '2021-05-31'): 0, ('K04031', 404.0, '2021-02-10'): 0, ('K04031', 404.0, '2021-05-30'): 0, ('K04031', 404.0, '2021-02-18'): 0, ('K04031', 404.0, '2021-05-13'): 0, ('K04031', 404.0, '2021-05-24'): 0, ('K04031', 404.0, '2021-03-10'): 0, ('K04031', 404.0, '2021-04-10'): 0, ('K04031', 405.0, '2021-05-10'): 0, ('K04031', 405.0, '2021-05-31'): 0, ('K04031', 405.0, '2021-02-10'): 0, ('K04031', 405.0, '2021-05-30'): 0, ('K04031', 405.0, '2021-02-18'): 0, ('K04031', 405.0, '2021-05-13'): 0, ('K04031', 405.0, '2021-05-24'): 0, ('K04031', 405.0, '2021-03-10'): 0, ('K04031', 405.0, '2021-04-10'): 0, ('K04031', 407.0, '2021-05-10'): 4.85, ('K04031', 407.0, '2021-05-31'): 4.85, ('K04031', 407.0, '2021-02-10'): 4.85, ('K04031', 407.0, '2021-05-30'): 4.85, ('K04031', 407.0, '2021-02-18'): 4.85, ('K04031', 407.0, '2021-05-13'): 4.85, ('K04031', 407.0, '2021-05-24'): 4.85, ('K04031', 407.0, '2021-03-10'): 4.85, ('K04031', 407.0, '2021-04-10'): 4.85, ('K04031', 408.0, '2021-05-10'): 3.83, ('K04031', 408.0, '2021-05-31'): 3.83, ('K04031', 408.0, '2021-02-10'): 3.83, ('K04031', 408.0, '2021-05-30'): 3.83, ('K04031', 408.0, '2021-02-18'): 3.83, ('K04031', 408.0, '2021-05-13'): 3.83, ('K04031', 408.0, '2021-05-24'): 3.83, ('K04031', 408.0, '2021-03-10'): 3.83, ('K04031', 408.0, '2021-04-10'): 3.83, ('K04031', 409.0, '2021-05-10'): 5.37, ('K04031', 409.0, '2021-05-31'): 5.37, ('K04031', 409.0, '2021-02-10'): 5.37, ('K04031', 409.0, '2021-05-30'): 5.37, ('K04031', 409.0, '2021-02-18'): 5.37, ('K04031', 409.0, '2021-05-13'): 5.37, ('K04031', 409.0, '2021-05-24'): 5.37, ('K04031', 409.0, '2021-03-10'): 5.37, ('K04031', 409.0, '2021-04-10'): 5.37, ('K04031', 410.0, '2021-05-10'): 3.09, ('K04031', 410.0, '2021-05-31'): 3.09, ('K04031', 410.0, '2021-02-10'): 3.09, ('K04031', 410.0, '2021-05-30'): 3.09, ('K04031', 410.0, '2021-02-18'): 3.09, ('K04031', 410.0, '2021-05-13'): 3.09, ('K04031', 410.0, '2021-05-24'): 3.09, ('K04031', 410.0, '2021-03-10'): 3.09, ('K04031', 410.0, '2021-04-10'): 3.09, ('K04031', 412.0, '2021-05-10'): 0, ('K04031', 412.0, '2021-05-31'): 0, ('K04031', 412.0, '2021-02-10'): 0, ('K04031', 412.0, '2021-05-30'): 0, ('K04031', 412.0, '2021-02-18'): 0, ('K04031', 412.0, '2021-05-13'): 0, ('K04031', 412.0, '2021-05-24'): 0, ('K04031', 412.0, '2021-03-10'): 0, ('K04031', 412.0, '2021-04-10'): 0, ('K04031', 416.0, '2021-05-10'): 2.73, ('K04031', 416.0, '2021-05-31'): 2.73, ('K04031', 416.0, '2021-02-10'): 2.73, ('K04031', 416.0, '2021-05-30'): 2.73, ('K04031', 416.0, '2021-02-18'): 2.73, ('K04031', 416.0, '2021-05-13'): 2.73, ('K04031', 416.0, '2021-05-24'): 2.73, ('K04031', 416.0, '2021-03-10'): 2.73, ('K04031', 416.0, '2021-04-10'): 2.73, ('K04031', 421.0, '2021-05-10'): 0, ('K04031', 421.0, '2021-05-31'): 0, ('K04031', 421.0, '2021-02-10'): 0, ('K04031', 421.0, '2021-05-30'): 0, ('K04031', 421.0, '2021-02-18'): 0, ('K04031', 421.0, '2021-05-13'): 0, ('K04031', 421.0, '2021-05-24'): 0, ('K04031', 421.0, '2021-03-10'): 0, ('K04031', 421.0, '2021-04-10'): 0, ('K04031', 422.0, '2021-05-10'): 0, ('K04031', 422.0, '2021-05-31'): 0, ('K04031', 422.0, '2021-02-10'): 0, ('K04031', 422.0, '2021-05-30'): 0, ('K04031', 422.0, '2021-02-18'): 0, ('K04031', 422.0, '2021-05-13'): 0, ('K04031', 422.0, '2021-05-24'): 0, ('K04031', 422.0, '2021-03-10'): 0, ('K04031', 422.0, '2021-04-10'): 0, ('K04031', 424.0, '2021-05-10'): 3.94, ('K04031', 424.0, '2021-05-31'): 3.94, ('K04031', 424.0, '2021-02-10'): 3.94, ('K04031', 424.0, '2021-05-30'): 3.94, ('K04031', 424.0, '2021-02-18'): 3.94, ('K04031', 424.0, '2021-05-13'): 3.94, ('K04031', 424.0, '2021-05-24'): 3.94, ('K04031', 424.0, '2021-03-10'): 3.94, ('K04031', 424.0, '2021-04-10'): 3.94, ('K04031', 425.0, '2021-05-10'): 5.47, ('K04031', 425.0, '2021-05-31'): 5.47, ('K04031', 425.0, '2021-02-10'): 5.47, ('K04031', 425.0, '2021-05-30'): 5.47, ('K04031', 425.0, '2021-02-18'): 5.47, ('K04031', 425.0, '2021-05-13'): 5.47, ('K04031', 425.0, '2021-05-24'): 5.47, ('K04031', 425.0, '2021-03-10'): 5.47, ('K04031', 425.0, '2021-04-10'): 5.47, ('K04031', 426.0, '2021-05-10'): 6.25, ('K04031', 426.0, '2021-05-31'): 6.25, ('K04031', 426.0, '2021-02-10'): 6.25, ('K04031', 426.0, '2021-05-30'): 6.25, ('K04031', 426.0, '2021-02-18'): 6.25, ('K04031', 426.0, '2021-05-13'): 6.25, ('K04031', 426.0, '2021-05-24'): 6.25, ('K04031', 426.0, '2021-03-10'): 6.25, ('K04031', 426.0, '2021-04-10'): 6.25, ('K04031', 433.0, '2021-05-10'): 3.37, ('K04031', 433.0, '2021-05-31'): 3.37, ('K04031', 433.0, '2021-02-10'): 3.37, ('K04031', 433.0, '2021-05-30'): 3.37, ('K04031', 433.0, '2021-02-18'): 3.37, ('K04031', 433.0, '2021-05-13'): 3.37, ('K04031', 433.0, '2021-05-24'): 3.37, ('K04031', 433.0, '2021-03-10'): 3.37, ('K04031', 433.0, '2021-04-10'): 3.37, ('K04031', 434.0, '2021-05-10'): 3.86, ('K04031', 434.0, '2021-05-31'): 3.86, ('K04031', 434.0, '2021-02-10'): 3.86, ('K04031', 434.0, '2021-05-30'): 3.86, ('K04031', 434.0, '2021-02-18'): 3.86, ('K04031', 434.0, '2021-05-13'): 3.86, ('K04031', 434.0, '2021-05-24'): 3.86, ('K04031', 434.0, '2021-03-10'): 3.86, ('K04031', 434.0, '2021-04-10'): 3.86, ('K04031', 435.0, '2021-05-10'): 3.8, ('K04031', 435.0, '2021-05-31'): 3.8, ('K04031', 435.0, '2021-02-10'): 3.8, ('K04031', 435.0, '2021-05-30'): 3.8, ('K04031', 435.0, '2021-02-18'): 3.8, ('K04031', 435.0, '2021-05-13'): 3.8, ('K04031', 435.0, '2021-05-24'): 3.8, ('K04031', 435.0, '2021-03-10'): 3.8, ('K04031', 435.0, '2021-04-10'): 3.8, ('K04031', 436.0, '2021-05-10'): 4.53, ('K04031', 436.0, '2021-05-31'): 4.53, ('K04031', 436.0, '2021-02-10'): 4.53, ('K04031', 436.0, '2021-05-30'): 4.53, ('K04031', 436.0, '2021-02-18'): 4.53, ('K04031', 436.0, '2021-05-13'): 4.53, ('K04031', 436.0, '2021-05-24'): 4.53, ('K04031', 436.0, '2021-03-10'): 4.53, ('K04031', 436.0, '2021-04-10'): 4.53, ('K04031', 438.0, '2021-05-10'): 0, ('K04031', 438.0, '2021-05-31'): 0, ('K04031', 438.0, '2021-02-10'): 0, ('K04031', 438.0, '2021-05-30'): 0, ('K04031', 438.0, '2021-02-18'): 0, ('K04031', 438.0, '2021-05-13'): 0, ('K04031', 438.0, '2021-05-24'): 0, ('K04031', 438.0, '2021-03-10'): 0, ('K04031', 438.0, '2021-04-10'): 0, ('K04031', 439.0, '2021-05-10'): 0, ('K04031', 439.0, '2021-05-31'): 0, ('K04031', 439.0, '2021-02-10'): 0, ('K04031', 439.0, '2021-05-30'): 0, ('K04031', 439.0, '2021-02-18'): 0, ('K04031', 439.0, '2021-05-13'): 0, ('K04031', 439.0, '2021-05-24'): 0, ('K04031', 439.0, '2021-03-10'): 0, ('K04031', 439.0, '2021-04-10'): 0, ('K04031', 440.0, '2021-05-10'): 3.85, ('K04031', 440.0, '2021-05-31'): 3.85, ('K04031', 440.0, '2021-02-10'): 3.85, ('K04031', 440.0, '2021-05-30'): 3.85, ('K04031', 440.0, '2021-02-18'): 3.85, ('K04031', 440.0, '2021-05-13'): 3.85, ('K04031', 440.0, '2021-05-24'): 3.85, ('K04031', 440.0, '2021-03-10'): 3.85, ('K04031', 440.0, '2021-04-10'): 3.85, ('S00341', 404.0, '2021-05-10'): 0, ('S00341', 404.0, '2021-05-31'): 0, ('S00341', 404.0, '2021-02-10'): 0, ('S00341', 404.0, '2021-05-30'): 0, ('S00341', 404.0, '2021-02-18'): 0, ('S00341', 404.0, '2021-05-13'): 0, ('S00341', 404.0, '2021-05-24'): 0, ('S00341', 404.0, '2021-03-10'): 0, ('S00341', 404.0, '2021-04-10'): 0, ('S00341', 405.0, '2021-05-10'): 0, ('S00341', 405.0, '2021-05-31'): 0, ('S00341', 405.0, '2021-02-10'): 0, ('S00341', 405.0, '2021-05-30'): 0, ('S00341', 405.0, '2021-02-18'): 0, ('S00341', 405.0, '2021-05-13'): 0, ('S00341', 405.0, '2021-05-24'): 0, ('S00341', 405.0, '2021-03-10'): 0, ('S00341', 405.0, '2021-04-10'): 0, ('S00341', 407.0, '2021-05-10'): 0, ('S00341', 407.0, '2021-05-31'): 0, ('S00341', 407.0, '2021-02-10'): 0, ('S00341', 407.0, '2021-05-30'): 0, ('S00341', 407.0, '2021-02-18'): 0, ('S00341', 407.0, '2021-05-13'): 0, ('S00341', 407.0, '2021-05-24'): 0, ('S00341', 407.0, '2021-03-10'): 0, ('S00341', 407.0, '2021-04-10'): 0, ('S00341', 408.0, '2021-05-10'): 0, ('S00341', 408.0, '2021-05-31'): 0, ('S00341', 408.0, '2021-02-10'): 0, ('S00341', 408.0, '2021-05-30'): 0, ('S00341', 408.0, '2021-02-18'): 0, ('S00341', 408.0, '2021-05-13'): 0, ('S00341', 408.0, '2021-05-24'): 0, ('S00341', 408.0, '2021-03-10'): 0, ('S00341', 408.0, '2021-04-10'): 0, ('S00341', 409.0, '2021-05-10'): 0, ('S00341', 409.0, '2021-05-31'): 0, ('S00341', 409.0, '2021-02-10'): 0, ('S00341', 409.0, '2021-05-30'): 0, ('S00341', 409.0, '2021-02-18'): 0, ('S00341', 409.0, '2021-05-13'): 0, ('S00341', 409.0, '2021-05-24'): 0, ('S00341', 409.0, '2021-03-10'): 0, ('S00341', 409.0, '2021-04-10'): 0, ('S00341', 410.0, '2021-05-10'): 4.6, ('S00341', 410.0, '2021-05-31'): 4.6, ('S00341', 410.0, '2021-02-10'): 4.6, ('S00341', 410.0, '2021-05-30'): 4.6, ('S00341', 410.0, '2021-02-18'): 4.6, ('S00341', 410.0, '2021-05-13'): 4.6, ('S00341', 410.0, '2021-05-24'): 4.6, ('S00341', 410.0, '2021-03-10'): 4.6, ('S00341', 410.0, '2021-04-10'): 4.6, ('S00341', 412.0, '2021-05-10'): 0, ('S00341', 412.0, '2021-05-31'): 0, ('S00341', 412.0, '2021-02-10'): 0, ('S00341', 412.0, '2021-05-30'): 0, ('S00341', 412.0, '2021-02-18'): 0, ('S00341', 412.0, '2021-05-13'): 0, ('S00341', 412.0, '2021-05-24'): 0, ('S00341', 412.0, '2021-03-10'): 0, ('S00341', 412.0, '2021-04-10'): 0, ('S00341', 416.0, '2021-05-10'): 0, ('S00341', 416.0, '2021-05-31'): 0, ('S00341', 416.0, '2021-02-10'): 0, ('S00341', 416.0, '2021-05-30'): 0, ('S00341', 416.0, '2021-02-18'): 0, ('S00341', 416.0, '2021-05-13'): 0, ('S00341', 416.0, '2021-05-24'): 0, ('S00341', 416.0, '2021-03-10'): 0, ('S00341', 416.0, '2021-04-10'): 0, ('S00341', 421.0, '2021-05-10'): 0, ('S00341', 421.0, '2021-05-31'): 0, ('S00341', 421.0, '2021-02-10'): 0, ('S00341', 421.0, '2021-05-30'): 0, ('S00341', 421.0, '2021-02-18'): 0, ('S00341', 421.0, '2021-05-13'): 0, ('S00341', 421.0, '2021-05-24'): 0, ('S00341', 421.0, '2021-03-10'): 0, ('S00341', 421.0, '2021-04-10'): 0, ('S00341', 422.0, '2021-05-10'): 0, ('S00341', 422.0, '2021-05-31'): 0, ('S00341', 422.0, '2021-02-10'): 0, ('S00341', 422.0, '2021-05-30'): 0, ('S00341', 422.0, '2021-02-18'): 0, ('S00341', 422.0, '2021-05-13'): 0, ('S00341', 422.0, '2021-05-24'): 0, ('S00341', 422.0, '2021-03-10'): 0, ('S00341', 422.0, '2021-04-10'): 0, ('S00341', 424.0, '2021-05-10'): 0, ('S00341', 424.0, '2021-05-31'): 0, ('S00341', 424.0, '2021-02-10'): 0, ('S00341', 424.0, '2021-05-30'): 0, ('S00341', 424.0, '2021-02-18'): 0, ('S00341', 424.0, '2021-05-13'): 0, ('S00341', 424.0, '2021-05-24'): 0, ('S00341', 424.0, '2021-03-10'): 0, ('S00341', 424.0, '2021-04-10'): 0, ('S00341', 425.0, '2021-05-10'): 0, ('S00341', 425.0, '2021-05-31'): 0, ('S00341', 425.0, '2021-02-10'): 0, ('S00341', 425.0, '2021-05-30'): 0, ('S00341', 425.0, '2021-02-18'): 0, ('S00341', 425.0, '2021-05-13'): 0, ('S00341', 425.0, '2021-05-24'): 0, ('S00341', 425.0, '2021-03-10'): 0, ('S00341', 425.0, '2021-04-10'): 0, ('S00341', 426.0, '2021-05-10'): 0, ('S00341', 426.0, '2021-05-31'): 0, ('S00341', 426.0, '2021-02-10'): 0, ('S00341', 426.0, '2021-05-30'): 0, ('S00341', 426.0, '2021-02-18'): 0, ('S00341', 426.0, '2021-05-13'): 0, ('S00341', 426.0, '2021-05-24'): 0, ('S00341', 426.0, '2021-03-10'): 0, ('S00341', 426.0, '2021-04-10'): 0, ('S00341', 433.0, '2021-05-10'): 0, ('S00341', 433.0, '2021-05-31'): 0, ('S00341', 433.0, '2021-02-10'): 0, ('S00341', 433.0, '2021-05-30'): 0, ('S00341', 433.0, '2021-02-18'): 0, ('S00341', 433.0, '2021-05-13'): 0, ('S00341', 433.0, '2021-05-24'): 0, ('S00341', 433.0, '2021-03-10'): 0, ('S00341', 433.0, '2021-04-10'): 0, ('S00341', 434.0, '2021-05-10'): 0, ('S00341', 434.0, '2021-05-31'): 0, ('S00341', 434.0, '2021-02-10'): 0, ('S00341', 434.0, '2021-05-30'): 0, ('S00341', 434.0, '2021-02-18'): 0, ('S00341', 434.0, '2021-05-13'): 0, ('S00341', 434.0, '2021-05-24'): 0, ('S00341', 434.0, '2021-03-10'): 0, ('S00341', 434.0, '2021-04-10'): 0, ('S00341', 435.0, '2021-05-10'): 0, ('S00341', 435.0, '2021-05-31'): 0, ('S00341', 435.0, '2021-02-10'): 0, ('S00341', 435.0, '2021-05-30'): 0, ('S00341', 435.0, '2021-02-18'): 0, ('S00341', 435.0, '2021-05-13'): 0, ('S00341', 435.0, '2021-05-24'): 0, ('S00341', 435.0, '2021-03-10'): 0, ('S00341', 435.0, '2021-04-10'): 0, ('S00341', 436.0, '2021-05-10'): 0, ('S00341', 436.0, '2021-05-31'): 0, ('S00341', 436.0, '2021-02-10'): 0, ('S00341', 436.0, '2021-05-30'): 0, ('S00341', 436.0, '2021-02-18'): 0, ('S00341', 436.0, '2021-05-13'): 0, ('S00341', 436.0, '2021-05-24'): 0, ('S00341', 436.0, '2021-03-10'): 0, ('S00341', 436.0, '2021-04-10'): 0, ('S00341', 438.0, '2021-05-10'): 0, ('S00341', 438.0, '2021-05-31'): 0, ('S00341', 438.0, '2021-02-10'): 0, ('S00341', 438.0, '2021-05-30'): 0, ('S00341', 438.0, '2021-02-18'): 0, ('S00341', 438.0, '2021-05-13'): 0, ('S00341', 438.0, '2021-05-24'): 0, ('S00341', 438.0, '2021-03-10'): 0, ('S00341', 438.0, '2021-04-10'): 0, ('S00341', 439.0, '2021-05-10'): 0, ('S00341', 439.0, '2021-05-31'): 0, ('S00341', 439.0, '2021-02-10'): 0, ('S00341', 439.0, '2021-05-30'): 0, ('S00341', 439.0, '2021-02-18'): 0, ('S00341', 439.0, '2021-05-13'): 0, ('S00341', 439.0, '2021-05-24'): 0, ('S00341', 439.0, '2021-03-10'): 0, ('S00341', 439.0, '2021-04-10'): 0, ('S00341', 440.0, '2021-05-10'): 0, ('S00341', 440.0, '2021-05-31'): 0, ('S00341', 440.0, '2021-02-10'): 0, ('S00341', 440.0, '2021-05-30'): 0, ('S00341', 440.0, '2021-02-18'): 0, ('S00341', 440.0, '2021-05-13'): 0, ('S00341', 440.0, '2021-05-24'): 0, ('S00341', 440.0, '2021-03-10'): 0, ('S00341', 440.0, '2021-04-10'): 0, ('K04101', 404.0, '2021-05-10'): 0, ('K04101', 404.0, '2021-05-31'): 0, ('K04101', 404.0, '2021-02-10'): 0, ('K04101', 404.0, '2021-05-30'): 0, ('K04101', 404.0, '2021-02-18'): 0, ('K04101', 404.0, '2021-05-13'): 0, ('K04101', 404.0, '2021-05-24'): 0, ('K04101', 404.0, '2021-03-10'): 0, ('K04101', 404.0, '2021-04-10'): 0, ('K04101', 405.0, '2021-05-10'): 0, ('K04101', 405.0, '2021-05-31'): 0, ('K04101', 405.0, '2021-02-10'): 0, ('K04101', 405.0, '2021-05-30'): 0, ('K04101', 405.0, '2021-02-18'): 0, ('K04101', 405.0, '2021-05-13'): 0, ('K04101', 405.0, '2021-05-24'): 0, ('K04101', 405.0, '2021-03-10'): 0, ('K04101', 405.0, '2021-04-10'): 0, ('K04101', 407.0, '2021-05-10'): 0, ('K04101', 407.0, '2021-05-31'): 0, ('K04101', 407.0, '2021-02-10'): 0, ('K04101', 407.0, '2021-05-30'): 0, ('K04101', 407.0, '2021-02-18'): 0, ('K04101', 407.0, '2021-05-13'): 0, ('K04101', 407.0, '2021-05-24'): 0, ('K04101', 407.0, '2021-03-10'): 0, ('K04101', 407.0, '2021-04-10'): 0, ('K04101', 408.0, '2021-05-10'): 8.17, ('K04101', 408.0, '2021-05-31'): 8.17, ('K04101', 408.0, '2021-02-10'): 8.17, ('K04101', 408.0, '2021-05-30'): 8.17, ('K04101', 408.0, '2021-02-18'): 8.17, ('K04101', 408.0, '2021-05-13'): 8.17, ('K04101', 408.0, '2021-05-24'): 8.17, ('K04101', 408.0, '2021-03-10'): 8.17, ('K04101', 408.0, '2021-04-10'): 8.17, ('K04101', 409.0, '2021-05-10'): 10.62, ('K04101', 409.0, '2021-05-31'): 10.62, ('K04101', 409.0, '2021-02-10'): 10.62, ('K04101', 409.0, '2021-05-30'): 10.62, ('K04101', 409.0, '2021-02-18'): 10.62, ('K04101', 409.0, '2021-05-13'): 10.62, ('K04101', 409.0, '2021-05-24'): 10.62, ('K04101', 409.0, '2021-03-10'): 10.62, ('K04101', 409.0, '2021-04-10'): 10.62, ('K04101', 410.0, '2021-05-10'): 0, ('K04101', 410.0, '2021-05-31'): 0, ('K04101', 410.0, '2021-02-10'): 0, ('K04101', 410.0, '2021-05-30'): 0, ('K04101', 410.0, '2021-02-18'): 0, ('K04101', 410.0, '2021-05-13'): 0, ('K04101', 410.0, '2021-05-24'): 0, ('K04101', 410.0, '2021-03-10'): 0, ('K04101', 410.0, '2021-04-10'): 0, ('K04101', 412.0, '2021-05-10'): 0, ('K04101', 412.0, '2021-05-31'): 0, ('K04101', 412.0, '2021-02-10'): 0, ('K04101', 412.0, '2021-05-30'): 0, ('K04101', 412.0, '2021-02-18'): 0, ('K04101', 412.0, '2021-05-13'): 0, ('K04101', 412.0, '2021-05-24'): 0, ('K04101', 412.0, '2021-03-10'): 0, ('K04101', 412.0, '2021-04-10'): 0, ('K04101', 416.0, '2021-05-10'): 8.22, ('K04101', 416.0, '2021-05-31'): 8.22, ('K04101', 416.0, '2021-02-10'): 8.22, ('K04101', 416.0, '2021-05-30'): 8.22, ('K04101', 416.0, '2021-02-18'): 8.22, ('K04101', 416.0, '2021-05-13'): 8.22, ('K04101', 416.0, '2021-05-24'): 8.22, ('K04101', 416.0, '2021-03-10'): 8.22, ('K04101', 416.0, '2021-04-10'): 8.22, ('K04101', 421.0, '2021-05-10'): 0, ('K04101', 421.0, '2021-05-31'): 0, ('K04101', 421.0, '2021-02-10'): 0, ('K04101', 421.0, '2021-05-30'): 0, ('K04101', 421.0, '2021-02-18'): 0, ('K04101', 421.0, '2021-05-13'): 0, ('K04101', 421.0, '2021-05-24'): 0, ('K04101', 421.0, '2021-03-10'): 0, ('K04101', 421.0, '2021-04-10'): 0, ('K04101', 422.0, '2021-05-10'): 0, ('K04101', 422.0, '2021-05-31'): 0, ('K04101', 422.0, '2021-02-10'): 0, ('K04101', 422.0, '2021-05-30'): 0, ('K04101', 422.0, '2021-02-18'): 0, ('K04101', 422.0, '2021-05-13'): 0, ('K04101', 422.0, '2021-05-24'): 0, ('K04101', 422.0, '2021-03-10'): 0, ('K04101', 422.0, '2021-04-10'): 0, ('K04101', 424.0, '2021-05-10'): 9.32, ('K04101', 424.0, '2021-05-31'): 9.32, ('K04101', 424.0, '2021-02-10'): 9.32, ('K04101', 424.0, '2021-05-30'): 9.32, ('K04101', 424.0, '2021-02-18'): 9.32, ('K04101', 424.0, '2021-05-13'): 9.32, ('K04101', 424.0, '2021-05-24'): 9.32, ('K04101', 424.0, '2021-03-10'): 9.32, ('K04101', 424.0, '2021-04-10'): 9.32, ('K04101', 425.0, '2021-05-10'): 12.5, ('K04101', 425.0, '2021-05-31'): 12.5, ('K04101', 425.0, '2021-02-10'): 12.5, ('K04101', 425.0, '2021-05-30'): 12.5, ('K04101', 425.0, '2021-02-18'): 12.5, ('K04101', 425.0, '2021-05-13'): 12.5, ('K04101', 425.0, '2021-05-24'): 12.5, ('K04101', 425.0, '2021-03-10'): 12.5, ('K04101', 425.0, '2021-04-10'): 12.5, ('K04101', 426.0, '2021-05-10'): 11.21, ('K04101', 426.0, '2021-05-31'): 11.21, ('K04101', 426.0, '2021-02-10'): 11.21, ('K04101', 426.0, '2021-05-30'): 11.21, ('K04101', 426.0, '2021-02-18'): 11.21, ('K04101', 426.0, '2021-05-13'): 11.21, ('K04101', 426.0, '2021-05-24'): 11.21, ('K04101', 426.0, '2021-03-10'): 11.21, ('K04101', 426.0, '2021-04-10'): 11.21, ('K04101', 433.0, '2021-05-10'): 0, ('K04101', 433.0, '2021-05-31'): 0, ('K04101', 433.0, '2021-02-10'): 0, ('K04101', 433.0, '2021-05-30'): 0, ('K04101', 433.0, '2021-02-18'): 0, ('K04101', 433.0, '2021-05-13'): 0, ('K04101', 433.0, '2021-05-24'): 0, ('K04101', 433.0, '2021-03-10'): 0, ('K04101', 433.0, '2021-04-10'): 0, ('K04101', 434.0, '2021-05-10'): 0, ('K04101', 434.0, '2021-05-31'): 0, ('K04101', 434.0, '2021-02-10'): 0, ('K04101', 434.0, '2021-05-30'): 0, ('K04101', 434.0, '2021-02-18'): 0, ('K04101', 434.0, '2021-05-13'): 0, ('K04101', 434.0, '2021-05-24'): 0, ('K04101', 434.0, '2021-03-10'): 0, ('K04101', 434.0, '2021-04-10'): 0, ('K04101', 435.0, '2021-05-10'): 0, ('K04101', 435.0, '2021-05-31'): 0, ('K04101', 435.0, '2021-02-10'): 0, ('K04101', 435.0, '2021-05-30'): 0, ('K04101', 435.0, '2021-02-18'): 0, ('K04101', 435.0, '2021-05-13'): 0, ('K04101', 435.0, '2021-05-24'): 0, ('K04101', 435.0, '2021-03-10'): 0, ('K04101', 435.0, '2021-04-10'): 0, ('K04101', 436.0, '2021-05-10'): 0, ('K04101', 436.0, '2021-05-31'): 0, ('K04101', 436.0, '2021-02-10'): 0, ('K04101', 436.0, '2021-05-30'): 0, ('K04101', 436.0, '2021-02-18'): 0, ('K04101', 436.0, '2021-05-13'): 0, ('K04101', 436.0, '2021-05-24'): 0, ('K04101', 436.0, '2021-03-10'): 0, ('K04101', 436.0, '2021-04-10'): 0, ('K04101', 438.0, '2021-05-10'): 0, ('K04101', 438.0, '2021-05-31'): 0, ('K04101', 438.0, '2021-02-10'): 0, ('K04101', 438.0, '2021-05-30'): 0, ('K04101', 438.0, '2021-02-18'): 0, ('K04101', 438.0, '2021-05-13'): 0, ('K04101', 438.0, '2021-05-24'): 0, ('K04101', 438.0, '2021-03-10'): 0, ('K04101', 438.0, '2021-04-10'): 0, ('K04101', 439.0, '2021-05-10'): 0, ('K04101', 439.0, '2021-05-31'): 0, ('K04101', 439.0, '2021-02-10'): 0, ('K04101', 439.0, '2021-05-30'): 0, ('K04101', 439.0, '2021-02-18'): 0, ('K04101', 439.0, '2021-05-13'): 0, ('K04101', 439.0, '2021-05-24'): 0, ('K04101', 439.0, '2021-03-10'): 0, ('K04101', 439.0, '2021-04-10'): 0, ('K04101', 440.0, '2021-05-10'): 0, ('K04101', 440.0, '2021-05-31'): 0, ('K04101', 440.0, '2021-02-10'): 0, ('K04101', 440.0, '2021-05-30'): 0, ('K04101', 440.0, '2021-02-18'): 0, ('K04101', 440.0, '2021-05-13'): 0, ('K04101', 440.0, '2021-05-24'): 0, ('K04101', 440.0, '2021-03-10'): 0, ('K04101', 440.0, '2021-04-10'): 0}\n"
     ]
    }
   ],
   "source": [
    "print(mijt)"
   ]
  },
  {
   "cell_type": "code",
   "execution_count": null,
   "id": "f2772a48",
   "metadata": {},
   "outputs": [],
   "source": [
    "# 머신 j가 시간 t에 아이템 i를 만들수 없을 경우 0으로 처리하기 위함함\n",
    "def decode(mijt, xijt):\n",
    "    for j in J:\n",
    "        for t in T:\n",
    "            for i in I:\n",
    "                if mijt[i, j, t] == 0:\n",
    "                    xijt[i, j, t] = 0\n",
    "    return xijt\n",
    "\n",
    "# 목적함수를 최적화하기 위한 xijt 조합을 임의로 생성하는 함수\n",
    "def generation_xijt():\n",
    "    xijt = {}\n",
    "\n",
    "    for i in I:\n",
    "        for j in J:\n",
    "            for t in T:\n",
    "                if dit[i, t] > 0:\n",
    "                    xijt[i, j, t] = random.uniform(0, 1)\n",
    "                else:\n",
    "                    xijt[i, j, t] = 0\n",
    "\n",
    "    xijt = decode(mijt, xijt)\n",
    "    return xijt\n"
   ]
  },
  {
   "cell_type": "code",
   "execution_count": 24,
   "id": "62c86024",
   "metadata": {},
   "outputs": [],
   "source": [
    "def dict2list(xijt):\n",
    "    return list(xijt.values())\n",
    "\n",
    "def list2dict(bitstring, type='xijt'):\n",
    "    if type == 'xijt':\n",
    "        _keys = xijt_keys\n",
    "    elif type == 'mijt':\n",
    "        _keys = mijt_keys\n",
    "\n",
    "    xijt = {}\n",
    "    for idx, value in enumerate(bitstring):\n",
    "        xijt[_keys[idx]] = value\n",
    "\n",
    "    return xijt\n"
   ]
  },
  {
   "cell_type": "code",
   "execution_count": null,
   "id": "8c685e19",
   "metadata": {},
   "outputs": [],
   "source": [
    "# 제약조건 확인\n",
    "# 기계 하루 총 생산시간은 600분\n",
    "# j기계로 600분 안에 아이템 i를 생산할 수 없다면 아이템 생산하지 않도록 하기 위함.\n",
    "def constraint_check(xijt):\n",
    "    for j in J:\n",
    "        for t in T:\n",
    "            check_value = sum(mijt[i, j, t] * round(xijt[i, j, t] * dit[i, t]) for i in I) <= 600\n",
    "\n",
    "            if check_value is False:\n",
    "                for i in I:\n",
    "                    xijt[i, j, t] = 0\n",
    "\n",
    "    return xijt\n"
   ]
  },
  {
   "cell_type": "code",
   "execution_count": null,
   "id": "d4b5456a",
   "metadata": {},
   "outputs": [],
   "source": [
    "# 목적 함수\n",
    "def objective(xijt):\n",
    "    uit = {}\n",
    "    xijt = constraint_check(xijt)\n",
    "\n",
    "    for i in I:\n",
    "        for t in T:\n",
    "            u = dit[i, t] - sum(round(xijt[i, j, t] * dit[i, t]) for j in J)\n",
    "            if u >= 0:\n",
    "                uit[i, t] = u\n",
    "            else:\n",
    "                uit[i, t] = abs(u) * 10_000_000\n",
    "\n",
    "    objective = sum(uit[i, t] * cit[i, t] * pit[i, t] for i in I for t in T)\n",
    "    return objective\n"
   ]
  },
  {
   "cell_type": "code",
   "execution_count": 28,
   "id": "61e5e46a",
   "metadata": {},
   "outputs": [],
   "source": [
    "# Tournament selection\n",
    "def selection(pop, scores):\n",
    "    # n_pop은 한 세대를 구성하는 염색체 수이며, 하이퍼파라미터 값\n",
    "    k = round(n_pop * 0.5)\n",
    "    selection_ix = randint(len(pop))\n",
    "    \n",
    "    for ix in randint(0, len(pop), k - 1):\n",
    "        if scores[ix] < scores[selection_ix]:\n",
    "            selection_ix = ix\n",
    "            \n",
    "    return pop[selection_ix]\n"
   ]
  },
  {
   "cell_type": "code",
   "execution_count": 29,
   "id": "12806cb2",
   "metadata": {},
   "outputs": [],
   "source": [
    "def crossover(p1, p2, r_cross):\n",
    "    p1 = dict2list(p1)\n",
    "    p2 = dict2list(p2)\n",
    "    c1, c2 = p1.copy(), p2.copy()\n",
    "\n",
    "    if rand() < r_cross:\n",
    "        base_bitstring = dict2list(mijt)\n",
    "\n",
    "        # crossover (1): 유효 인덱스 추출\n",
    "        valid_index = []\n",
    "        for i in range(len(base_bitstring)):\n",
    "            if base_bitstring[i] > 0:\n",
    "                valid_index.append(i)\n",
    "\n",
    "        n = round(r_cross * len(valid_index))\n",
    "        pt_0 = random.sample(valid_index, n)\n",
    "        pt_1 = list(set(valid_index) - set(pt_0))\n",
    "\n",
    "        # crossover (2): 교차 적용\n",
    "        for i in pt_0:\n",
    "            c1[i] = p2[i]\n",
    "            c2[i] = p1[i]\n",
    "\n",
    "        for i in pt_1:\n",
    "            c1[i] = p2[i]\n",
    "            c2[i] = p1[i]\n",
    "\n",
    "    return [c1, c2]\n"
   ]
  },
  {
   "cell_type": "code",
   "execution_count": 30,
   "id": "0f9a2df4",
   "metadata": {},
   "outputs": [],
   "source": [
    "def mutation(bitstring, r_mut):\n",
    "    for i in range(len(bitstring)):\n",
    "        if rand() < r_mut:\n",
    "            base_bitstring = dict2list(mijt)\n",
    "\n",
    "            # mutation (1): 유효 인덱스 찾기\n",
    "            valid_index = []\n",
    "            for j in range(len(base_bitstring)):\n",
    "                if base_bitstring[j] > 0:\n",
    "                    valid_index.append(j)\n",
    "\n",
    "            n = round(r_mut * len(valid_index))\n",
    "\n",
    "            # mutation (2): 무작위 인덱스에서 값 변경\n",
    "            pt_0 = random.sample(valid_index, n)\n",
    "            for idx in pt_0:\n",
    "                bitstring[idx] = random.uniform(0, 1)\n"
   ]
  },
  {
   "cell_type": "code",
   "execution_count": 31,
   "id": "8cbb9dd5",
   "metadata": {},
   "outputs": [],
   "source": [
    "def genetic_algorithm(bounds, n_iter, n_pop, r_cross, r_mut):\n",
    "    # Utility\n",
    "    log = []\n",
    "    log_detail = []\n",
    "    best_gen = 0\n",
    "\n",
    "    # GA algorithm 초기화\n",
    "    pop = [generation_xijt() for _ in range(n_pop)]\n",
    "    best = decode(mijt, pop[0])\n",
    "    best_eval = objective(best)\n",
    "    print(best_eval)\n",
    "\n",
    "    for gen in tqdm(range(n_iter)):\n",
    "        # 현재 세대 해를 디코딩\n",
    "        decoded = [decode(mijt, p) for p in pop]\n",
    "\n",
    "        # 목적함수 값 계산\n",
    "        scores = [objective(d) for d in decoded]\n",
    "\n",
    "        # 가장 좋은 해 갱신\n",
    "        for i in range(n_pop):\n",
    "            if scores[i] < best_eval:\n",
    "                best, best_eval = pop[i], scores[i]\n",
    "                print(f'>best! {gen}, {scores[i]}')\n",
    "                best_gen = gen\n",
    "            else:\n",
    "                # stop rule: 개선 없이 100세대 이상일 경우 중단\n",
    "                if gen - best_gen > 100:\n",
    "                    print('stop')\n",
    "                    return [best, best_eval, log, log_detail]\n",
    "\n",
    "        # 부모 해 집합 선택\n",
    "        selected = [selection(pop, scores) for _ in range(n_pop)]\n",
    "        log_detail.append([gen, objective(selected[0])])\n",
    "\n",
    "        # 자식 세대 생성\n",
    "        children = []\n",
    "        for i in range(0, n_pop, 2):\n",
    "            p1, p2 = selected[i], selected[i + 1]\n",
    "            for c in crossover(p1, p2, r_cross):\n",
    "                mutation(c, r_mut)\n",
    "                children.append(list2dict(c))\n",
    "\n",
    "        pop = children\n",
    "        log.append([gen, best_eval])\n",
    "\n",
    "    return [best, best_eval, log, log_detail]\n"
   ]
  },
  {
   "cell_type": "code",
   "execution_count": 32,
   "id": "85cfc3a8",
   "metadata": {},
   "outputs": [
    {
     "data": {
      "text/html": [
       "<div>\n",
       "<style scoped>\n",
       "    .dataframe tbody tr th:only-of-type {\n",
       "        vertical-align: middle;\n",
       "    }\n",
       "\n",
       "    .dataframe tbody tr th {\n",
       "        vertical-align: top;\n",
       "    }\n",
       "\n",
       "    .dataframe thead th {\n",
       "        text-align: right;\n",
       "    }\n",
       "</style>\n",
       "<table border=\"1\" class=\"dataframe\">\n",
       "  <thead>\n",
       "    <tr style=\"text-align: right;\">\n",
       "      <th></th>\n",
       "      <th>index</th>\n",
       "      <th>n_iter</th>\n",
       "      <th>n_pop</th>\n",
       "      <th>r_cross</th>\n",
       "      <th>r_mut</th>\n",
       "      <th>objective</th>\n",
       "      <th>time</th>\n",
       "    </tr>\n",
       "  </thead>\n",
       "  <tbody>\n",
       "    <tr>\n",
       "      <th>0</th>\n",
       "      <td>index_1</td>\n",
       "      <td>200</td>\n",
       "      <td>10</td>\n",
       "      <td>0.4</td>\n",
       "      <td>0.4</td>\n",
       "      <td>NaN</td>\n",
       "      <td>NaN</td>\n",
       "    </tr>\n",
       "    <tr>\n",
       "      <th>1</th>\n",
       "      <td>index_2</td>\n",
       "      <td>200</td>\n",
       "      <td>20</td>\n",
       "      <td>0.4</td>\n",
       "      <td>0.4</td>\n",
       "      <td>NaN</td>\n",
       "      <td>NaN</td>\n",
       "    </tr>\n",
       "    <tr>\n",
       "      <th>2</th>\n",
       "      <td>index_3</td>\n",
       "      <td>200</td>\n",
       "      <td>40</td>\n",
       "      <td>0.4</td>\n",
       "      <td>0.4</td>\n",
       "      <td>NaN</td>\n",
       "      <td>NaN</td>\n",
       "    </tr>\n",
       "    <tr>\n",
       "      <th>3</th>\n",
       "      <td>index_4</td>\n",
       "      <td>200</td>\n",
       "      <td>20</td>\n",
       "      <td>0.1</td>\n",
       "      <td>0.4</td>\n",
       "      <td>NaN</td>\n",
       "      <td>NaN</td>\n",
       "    </tr>\n",
       "    <tr>\n",
       "      <th>4</th>\n",
       "      <td>index_5</td>\n",
       "      <td>200</td>\n",
       "      <td>20</td>\n",
       "      <td>0.2</td>\n",
       "      <td>0.4</td>\n",
       "      <td>NaN</td>\n",
       "      <td>NaN</td>\n",
       "    </tr>\n",
       "    <tr>\n",
       "      <th>5</th>\n",
       "      <td>index_6</td>\n",
       "      <td>200</td>\n",
       "      <td>20</td>\n",
       "      <td>0.3</td>\n",
       "      <td>0.4</td>\n",
       "      <td>NaN</td>\n",
       "      <td>NaN</td>\n",
       "    </tr>\n",
       "    <tr>\n",
       "      <th>6</th>\n",
       "      <td>index_7</td>\n",
       "      <td>200</td>\n",
       "      <td>20</td>\n",
       "      <td>0.4</td>\n",
       "      <td>0.1</td>\n",
       "      <td>NaN</td>\n",
       "      <td>NaN</td>\n",
       "    </tr>\n",
       "    <tr>\n",
       "      <th>7</th>\n",
       "      <td>index_8</td>\n",
       "      <td>200</td>\n",
       "      <td>20</td>\n",
       "      <td>0.4</td>\n",
       "      <td>0.6</td>\n",
       "      <td>NaN</td>\n",
       "      <td>NaN</td>\n",
       "    </tr>\n",
       "  </tbody>\n",
       "</table>\n",
       "</div>"
      ],
      "text/plain": [
       "     index  n_iter  n_pop  r_cross  r_mut  objective  time\n",
       "0  index_1     200     10      0.4    0.4        NaN   NaN\n",
       "1  index_2     200     20      0.4    0.4        NaN   NaN\n",
       "2  index_3     200     40      0.4    0.4        NaN   NaN\n",
       "3  index_4     200     20      0.1    0.4        NaN   NaN\n",
       "4  index_5     200     20      0.2    0.4        NaN   NaN\n",
       "5  index_6     200     20      0.3    0.4        NaN   NaN\n",
       "6  index_7     200     20      0.4    0.1        NaN   NaN\n",
       "7  index_8     200     20      0.4    0.6        NaN   NaN"
      ]
     },
     "execution_count": 32,
     "metadata": {},
     "output_type": "execute_result"
    }
   ],
   "source": [
    "# 하이퍼파라미터 설정\n",
    "hyper_parameters = pd.DataFrame({\n",
    "    'index':    ['index_1', 'index_2', 'index_3', 'index_4',\n",
    "                 'index_5', 'index_6', 'index_7', 'index_8'],\n",
    "    'n_iter':   [200, 200, 200, 200, 200, 200, 200, 200],\n",
    "    'n_pop':    [10, 20, 40, 20, 20, 20, 20, 20],\n",
    "    'r_cross':  [0.4, 0.4, 0.4, 0.1, 0.2, 0.3, 0.4, 0.4],\n",
    "    'r_mut':    [0.4, 0.4, 0.4, 0.4, 0.4, 0.4, 0.1, 0.6]\n",
    "})\n",
    "\n",
    "# 결과 기록용 열 추가\n",
    "hyper_parameters['objective'] = np.nan\n",
    "hyper_parameters['time'] = np.nan\n",
    "\n",
    "# 출력\n",
    "hyper_parameters\n"
   ]
  },
  {
   "cell_type": "code",
   "execution_count": 33,
   "id": "076b0407",
   "metadata": {},
   "outputs": [
    {
     "name": "stdout",
     "output_type": "stream",
     "text": [
      "index_1\n",
      "14443819720490\n"
     ]
    },
    {
     "name": "stderr",
     "output_type": "stream",
     "text": [
      "  0%|          | 0/200 [00:00<?, ?it/s]"
     ]
    },
    {
     "name": "stdout",
     "output_type": "stream",
     "text": [
      ">best! 0, 13632370600070\n",
      ">best! 0, 7379120\n"
     ]
    },
    {
     "name": "stderr",
     "output_type": "stream",
     "text": [
      "  0%|          | 1/200 [00:01<05:11,  1.57s/it]"
     ]
    },
    {
     "name": "stdout",
     "output_type": "stream",
     "text": [
      ">best! 1, 6936653\n"
     ]
    },
    {
     "name": "stderr",
     "output_type": "stream",
     "text": [
      "  2%|▏         | 4/200 [00:05<04:47,  1.47s/it]"
     ]
    },
    {
     "name": "stdout",
     "output_type": "stream",
     "text": [
      ">best! 4, 6357711\n"
     ]
    },
    {
     "name": "stderr",
     "output_type": "stream",
     "text": [
      "  5%|▌         | 10/200 [00:14<04:34,  1.44s/it]"
     ]
    },
    {
     "name": "stdout",
     "output_type": "stream",
     "text": [
      ">best! 10, 4919896\n"
     ]
    },
    {
     "name": "stderr",
     "output_type": "stream",
     "text": [
      "  8%|▊         | 16/200 [00:23<04:46,  1.56s/it]"
     ]
    },
    {
     "name": "stdout",
     "output_type": "stream",
     "text": [
      ">best! 16, 4865928\n",
      ">best! 16, 4326836\n"
     ]
    },
    {
     "name": "stderr",
     "output_type": "stream",
     "text": [
      " 32%|███▎      | 65/200 [01:27<02:51,  1.27s/it]"
     ]
    },
    {
     "name": "stdout",
     "output_type": "stream",
     "text": [
      ">best! 65, 3932198\n"
     ]
    },
    {
     "name": "stderr",
     "output_type": "stream",
     "text": [
      " 52%|█████▏    | 104/200 [02:12<01:49,  1.14s/it]"
     ]
    },
    {
     "name": "stdout",
     "output_type": "stream",
     "text": [
      ">best! 104, 3299191\n"
     ]
    },
    {
     "name": "stderr",
     "output_type": "stream",
     "text": [
      "100%|██████████| 200/200 [04:12<00:00,  1.26s/it]\n",
      "/tmp/ipykernel_4374/802720307.py:26: FutureWarning: Setting an item of incompatible dtype is deprecated and will raise an error in a future version of pandas. Value '0:04:12.584590' has dtype incompatible with float64, please explicitly cast to a compatible dtype first.\n",
      "  hyper_parameters.loc[i, 'time'] = elapsed_time\n"
     ]
    },
    {
     "name": "stdout",
     "output_type": "stream",
     "text": [
      "index_2\n",
      "62481657030010\n"
     ]
    },
    {
     "name": "stderr",
     "output_type": "stream",
     "text": [
      "  0%|          | 0/200 [00:00<?, ?it/s]"
     ]
    },
    {
     "name": "stdout",
     "output_type": "stream",
     "text": [
      ">best! 0, 12357783\n",
      ">best! 0, 7494866\n",
      ">best! 0, 4492167\n"
     ]
    },
    {
     "name": "stderr",
     "output_type": "stream",
     "text": [
      " 12%|█▏        | 23/200 [01:02<06:42,  2.27s/it]"
     ]
    },
    {
     "name": "stdout",
     "output_type": "stream",
     "text": [
      ">best! 23, 4198782\n"
     ]
    },
    {
     "name": "stderr",
     "output_type": "stream",
     "text": [
      " 18%|█▊        | 37/200 [01:32<05:59,  2.20s/it]"
     ]
    },
    {
     "name": "stdout",
     "output_type": "stream",
     "text": [
      ">best! 37, 3609213\n"
     ]
    },
    {
     "name": "stderr",
     "output_type": "stream",
     "text": [
      " 69%|██████▉   | 138/200 [04:51<02:11,  2.11s/it]\n"
     ]
    },
    {
     "name": "stdout",
     "output_type": "stream",
     "text": [
      "stop\n",
      "index_3\n",
      "41221668530470\n"
     ]
    },
    {
     "name": "stderr",
     "output_type": "stream",
     "text": [
      "  0%|          | 0/200 [00:00<?, ?it/s]"
     ]
    },
    {
     "name": "stdout",
     "output_type": "stream",
     "text": [
      ">best! 0, 7198930\n",
      ">best! 0, 6779344\n",
      ">best! 0, 6556380\n",
      ">best! 0, 5791827\n"
     ]
    },
    {
     "name": "stderr",
     "output_type": "stream",
     "text": [
      "  0%|          | 1/200 [00:04<13:48,  4.16s/it]"
     ]
    },
    {
     "name": "stdout",
     "output_type": "stream",
     "text": [
      ">best! 1, 5126235\n"
     ]
    },
    {
     "name": "stderr",
     "output_type": "stream",
     "text": [
      "  2%|▏         | 3/200 [00:12<13:22,  4.07s/it]"
     ]
    },
    {
     "name": "stdout",
     "output_type": "stream",
     "text": [
      ">best! 3, 4941128\n"
     ]
    },
    {
     "name": "stderr",
     "output_type": "stream",
     "text": [
      "  6%|▌         | 12/200 [00:48<12:36,  4.02s/it]"
     ]
    },
    {
     "name": "stdout",
     "output_type": "stream",
     "text": [
      ">best! 12, 4823347\n"
     ]
    },
    {
     "name": "stderr",
     "output_type": "stream",
     "text": [
      "  8%|▊         | 17/200 [01:07<11:41,  3.83s/it]"
     ]
    },
    {
     "name": "stdout",
     "output_type": "stream",
     "text": [
      ">best! 17, 4640811\n"
     ]
    },
    {
     "name": "stderr",
     "output_type": "stream",
     "text": [
      " 10%|█         | 21/200 [01:25<12:56,  4.34s/it]"
     ]
    },
    {
     "name": "stdout",
     "output_type": "stream",
     "text": [
      ">best! 21, 4407445\n"
     ]
    },
    {
     "name": "stderr",
     "output_type": "stream",
     "text": [
      " 47%|████▋     | 94/200 [06:12<06:50,  3.87s/it]"
     ]
    },
    {
     "name": "stdout",
     "output_type": "stream",
     "text": [
      ">best! 94, 4360740\n"
     ]
    },
    {
     "name": "stderr",
     "output_type": "stream",
     "text": [
      " 58%|█████▊    | 117/200 [07:41<05:20,  3.86s/it]"
     ]
    },
    {
     "name": "stdout",
     "output_type": "stream",
     "text": [
      ">best! 117, 4173222\n"
     ]
    },
    {
     "name": "stderr",
     "output_type": "stream",
     "text": [
      " 66%|██████▌   | 131/200 [08:37<04:48,  4.18s/it]"
     ]
    },
    {
     "name": "stdout",
     "output_type": "stream",
     "text": [
      ">best! 131, 4136105\n"
     ]
    },
    {
     "name": "stderr",
     "output_type": "stream",
     "text": [
      " 71%|███████   | 142/200 [09:21<03:48,  3.94s/it]"
     ]
    },
    {
     "name": "stdout",
     "output_type": "stream",
     "text": [
      ">best! 142, 3397540\n"
     ]
    },
    {
     "name": "stderr",
     "output_type": "stream",
     "text": [
      "100%|██████████| 200/200 [13:11<00:00,  3.96s/it]\n"
     ]
    },
    {
     "name": "stdout",
     "output_type": "stream",
     "text": [
      "index_4\n",
      "7777347\n"
     ]
    },
    {
     "name": "stderr",
     "output_type": "stream",
     "text": [
      "  1%|          | 2/200 [00:03<06:17,  1.91s/it]"
     ]
    },
    {
     "name": "stdout",
     "output_type": "stream",
     "text": [
      ">best! 2, 7387412\n",
      ">best! 2, 6178485\n"
     ]
    },
    {
     "name": "stderr",
     "output_type": "stream",
     "text": [
      "  5%|▌         | 10/200 [00:19<06:03,  1.91s/it]"
     ]
    },
    {
     "name": "stdout",
     "output_type": "stream",
     "text": [
      ">best! 10, 3596391\n"
     ]
    },
    {
     "name": "stderr",
     "output_type": "stream",
     "text": [
      " 30%|███       | 61/200 [02:00<04:57,  2.14s/it]"
     ]
    },
    {
     "name": "stdout",
     "output_type": "stream",
     "text": [
      ">best! 61, 3124850\n"
     ]
    },
    {
     "name": "stderr",
     "output_type": "stream",
     "text": [
      " 81%|████████  | 162/200 [05:17<01:14,  1.96s/it]\n"
     ]
    },
    {
     "name": "stdout",
     "output_type": "stream",
     "text": [
      "stop\n",
      "index_5\n",
      "10175866\n"
     ]
    },
    {
     "name": "stderr",
     "output_type": "stream",
     "text": [
      "  0%|          | 0/200 [00:00<?, ?it/s]"
     ]
    },
    {
     "name": "stdout",
     "output_type": "stream",
     "text": [
      ">best! 0, 8417188\n",
      ">best! 0, 8383283\n",
      ">best! 0, 7158235\n"
     ]
    },
    {
     "name": "stderr",
     "output_type": "stream",
     "text": [
      "  0%|          | 1/200 [00:01<06:25,  1.94s/it]"
     ]
    },
    {
     "name": "stdout",
     "output_type": "stream",
     "text": [
      ">best! 1, 6049360\n"
     ]
    },
    {
     "name": "stderr",
     "output_type": "stream",
     "text": [
      "  2%|▏         | 3/200 [00:05<06:17,  1.92s/it]"
     ]
    },
    {
     "name": "stdout",
     "output_type": "stream",
     "text": [
      ">best! 3, 4989815\n"
     ]
    },
    {
     "name": "stderr",
     "output_type": "stream",
     "text": [
      "  8%|▊         | 17/200 [00:33<05:51,  1.92s/it]"
     ]
    },
    {
     "name": "stdout",
     "output_type": "stream",
     "text": [
      ">best! 17, 4061612\n"
     ]
    },
    {
     "name": "stderr",
     "output_type": "stream",
     "text": [
      " 44%|████▍     | 88/200 [02:53<03:45,  2.02s/it]"
     ]
    },
    {
     "name": "stdout",
     "output_type": "stream",
     "text": [
      ">best! 88, 3967709\n"
     ]
    },
    {
     "name": "stderr",
     "output_type": "stream",
     "text": [
      " 94%|█████████▍| 189/200 [06:22<00:22,  2.03s/it]\n"
     ]
    },
    {
     "name": "stdout",
     "output_type": "stream",
     "text": [
      "stop\n",
      "index_6\n",
      "7442323\n"
     ]
    },
    {
     "name": "stderr",
     "output_type": "stream",
     "text": [
      "  0%|          | 0/200 [00:00<?, ?it/s]"
     ]
    },
    {
     "name": "stdout",
     "output_type": "stream",
     "text": [
      ">best! 0, 6705590\n"
     ]
    },
    {
     "name": "stderr",
     "output_type": "stream",
     "text": [
      "  0%|          | 1/200 [00:01<06:22,  1.92s/it]"
     ]
    },
    {
     "name": "stdout",
     "output_type": "stream",
     "text": [
      ">best! 1, 5780537\n"
     ]
    },
    {
     "name": "stderr",
     "output_type": "stream",
     "text": [
      "  2%|▏         | 3/200 [00:05<06:10,  1.88s/it]"
     ]
    },
    {
     "name": "stdout",
     "output_type": "stream",
     "text": [
      ">best! 3, 5547139\n"
     ]
    },
    {
     "name": "stderr",
     "output_type": "stream",
     "text": [
      "  2%|▏         | 4/200 [00:07<06:07,  1.87s/it]"
     ]
    },
    {
     "name": "stdout",
     "output_type": "stream",
     "text": [
      ">best! 4, 5470429\n"
     ]
    },
    {
     "name": "stderr",
     "output_type": "stream",
     "text": [
      "  2%|▎         | 5/200 [00:09<06:05,  1.88s/it]"
     ]
    },
    {
     "name": "stdout",
     "output_type": "stream",
     "text": [
      ">best! 5, 5259120\n"
     ]
    },
    {
     "name": "stderr",
     "output_type": "stream",
     "text": [
      "  8%|▊         | 15/200 [00:28<05:52,  1.90s/it]"
     ]
    },
    {
     "name": "stdout",
     "output_type": "stream",
     "text": [
      ">best! 15, 4263355\n"
     ]
    },
    {
     "name": "stderr",
     "output_type": "stream",
     "text": [
      " 16%|█▌        | 31/200 [00:58<05:24,  1.92s/it]"
     ]
    },
    {
     "name": "stdout",
     "output_type": "stream",
     "text": [
      ">best! 31, 3788493\n"
     ]
    },
    {
     "name": "stderr",
     "output_type": "stream",
     "text": [
      " 66%|██████▌   | 132/200 [04:15<02:11,  1.94s/it]\n"
     ]
    },
    {
     "name": "stdout",
     "output_type": "stream",
     "text": [
      "stop\n",
      "index_7\n",
      "13846834\n"
     ]
    },
    {
     "name": "stderr",
     "output_type": "stream",
     "text": [
      "  0%|          | 0/200 [00:00<?, ?it/s]"
     ]
    },
    {
     "name": "stdout",
     "output_type": "stream",
     "text": [
      ">best! 0, 10457383\n",
      ">best! 0, 9065705\n",
      ">best! 0, 5068528\n"
     ]
    },
    {
     "name": "stderr",
     "output_type": "stream",
     "text": [
      "  3%|▎         | 6/200 [00:01<01:00,  3.23it/s]"
     ]
    },
    {
     "name": "stdout",
     "output_type": "stream",
     "text": [
      ">best! 6, 4841665\n"
     ]
    },
    {
     "name": "stderr",
     "output_type": "stream",
     "text": [
      " 16%|█▋        | 33/200 [00:10<00:51,  3.26it/s]"
     ]
    },
    {
     "name": "stdout",
     "output_type": "stream",
     "text": [
      ">best! 33, 4317441\n"
     ]
    },
    {
     "name": "stderr",
     "output_type": "stream",
     "text": [
      " 23%|██▎       | 46/200 [00:14<00:46,  3.28it/s]"
     ]
    },
    {
     "name": "stdout",
     "output_type": "stream",
     "text": [
      ">best! 46, 3646749\n"
     ]
    },
    {
     "name": "stderr",
     "output_type": "stream",
     "text": [
      " 42%|████▎     | 85/200 [00:26<00:34,  3.31it/s]"
     ]
    },
    {
     "name": "stdout",
     "output_type": "stream",
     "text": [
      ">best! 85, 2635848\n"
     ]
    },
    {
     "name": "stderr",
     "output_type": "stream",
     "text": [
      " 93%|█████████▎| 186/200 [00:58<00:04,  3.16it/s]\n"
     ]
    },
    {
     "name": "stdout",
     "output_type": "stream",
     "text": [
      "stop\n",
      "index_8\n",
      "45928080651810\n"
     ]
    },
    {
     "name": "stderr",
     "output_type": "stream",
     "text": [
      "  0%|          | 0/200 [00:00<?, ?it/s]"
     ]
    },
    {
     "name": "stdout",
     "output_type": "stream",
     "text": [
      ">best! 0, 7911357\n",
      ">best! 0, 5860396\n",
      ">best! 0, 5054249\n"
     ]
    },
    {
     "name": "stderr",
     "output_type": "stream",
     "text": [
      "  2%|▏         | 3/200 [00:10<11:55,  3.63s/it]"
     ]
    },
    {
     "name": "stdout",
     "output_type": "stream",
     "text": [
      ">best! 3, 4893887\n"
     ]
    },
    {
     "name": "stderr",
     "output_type": "stream",
     "text": [
      "  5%|▌         | 10/200 [00:36<11:20,  3.58s/it]"
     ]
    },
    {
     "name": "stdout",
     "output_type": "stream",
     "text": [
      ">best! 10, 4727440\n"
     ]
    },
    {
     "name": "stderr",
     "output_type": "stream",
     "text": [
      " 10%|█         | 21/200 [01:15<10:28,  3.51s/it]"
     ]
    },
    {
     "name": "stdout",
     "output_type": "stream",
     "text": [
      ">best! 21, 4269375\n"
     ]
    },
    {
     "name": "stderr",
     "output_type": "stream",
     "text": [
      " 19%|█▉        | 38/200 [02:19<10:00,  3.71s/it]"
     ]
    },
    {
     "name": "stdout",
     "output_type": "stream",
     "text": [
      ">best! 38, 4142693\n"
     ]
    },
    {
     "name": "stderr",
     "output_type": "stream",
     "text": [
      " 23%|██▎       | 46/200 [02:49<09:09,  3.57s/it]"
     ]
    },
    {
     "name": "stdout",
     "output_type": "stream",
     "text": [
      ">best! 46, 3563119\n"
     ]
    },
    {
     "name": "stderr",
     "output_type": "stream",
     "text": [
      " 74%|███████▎  | 147/200 [08:50<03:11,  3.61s/it]"
     ]
    },
    {
     "name": "stdout",
     "output_type": "stream",
     "text": [
      "stop\n"
     ]
    },
    {
     "name": "stderr",
     "output_type": "stream",
     "text": [
      "\n"
     ]
    },
    {
     "data": {
      "text/html": [
       "<div>\n",
       "<style scoped>\n",
       "    .dataframe tbody tr th:only-of-type {\n",
       "        vertical-align: middle;\n",
       "    }\n",
       "\n",
       "    .dataframe tbody tr th {\n",
       "        vertical-align: top;\n",
       "    }\n",
       "\n",
       "    .dataframe thead th {\n",
       "        text-align: right;\n",
       "    }\n",
       "</style>\n",
       "<table border=\"1\" class=\"dataframe\">\n",
       "  <thead>\n",
       "    <tr style=\"text-align: right;\">\n",
       "      <th></th>\n",
       "      <th>index</th>\n",
       "      <th>n_iter</th>\n",
       "      <th>n_pop</th>\n",
       "      <th>r_cross</th>\n",
       "      <th>r_mut</th>\n",
       "      <th>objective</th>\n",
       "      <th>time</th>\n",
       "    </tr>\n",
       "  </thead>\n",
       "  <tbody>\n",
       "    <tr>\n",
       "      <th>0</th>\n",
       "      <td>index_1</td>\n",
       "      <td>200</td>\n",
       "      <td>10</td>\n",
       "      <td>0.4</td>\n",
       "      <td>0.4</td>\n",
       "      <td>3299191.0</td>\n",
       "      <td>0:04:12.584590</td>\n",
       "    </tr>\n",
       "    <tr>\n",
       "      <th>1</th>\n",
       "      <td>index_2</td>\n",
       "      <td>200</td>\n",
       "      <td>20</td>\n",
       "      <td>0.4</td>\n",
       "      <td>0.4</td>\n",
       "      <td>3609213.0</td>\n",
       "      <td>0:04:51.781417</td>\n",
       "    </tr>\n",
       "    <tr>\n",
       "      <th>2</th>\n",
       "      <td>index_3</td>\n",
       "      <td>200</td>\n",
       "      <td>40</td>\n",
       "      <td>0.4</td>\n",
       "      <td>0.4</td>\n",
       "      <td>3397540.0</td>\n",
       "      <td>0:13:11.443023</td>\n",
       "    </tr>\n",
       "    <tr>\n",
       "      <th>3</th>\n",
       "      <td>index_4</td>\n",
       "      <td>200</td>\n",
       "      <td>20</td>\n",
       "      <td>0.1</td>\n",
       "      <td>0.4</td>\n",
       "      <td>3124850.0</td>\n",
       "      <td>0:05:17.151025</td>\n",
       "    </tr>\n",
       "    <tr>\n",
       "      <th>4</th>\n",
       "      <td>index_5</td>\n",
       "      <td>200</td>\n",
       "      <td>20</td>\n",
       "      <td>0.2</td>\n",
       "      <td>0.4</td>\n",
       "      <td>3967709.0</td>\n",
       "      <td>0:06:22.958151</td>\n",
       "    </tr>\n",
       "    <tr>\n",
       "      <th>5</th>\n",
       "      <td>index_6</td>\n",
       "      <td>200</td>\n",
       "      <td>20</td>\n",
       "      <td>0.3</td>\n",
       "      <td>0.4</td>\n",
       "      <td>3788493.0</td>\n",
       "      <td>0:04:16.002734</td>\n",
       "    </tr>\n",
       "    <tr>\n",
       "      <th>6</th>\n",
       "      <td>index_7</td>\n",
       "      <td>200</td>\n",
       "      <td>20</td>\n",
       "      <td>0.4</td>\n",
       "      <td>0.1</td>\n",
       "      <td>2635848.0</td>\n",
       "      <td>0:00:58.812051</td>\n",
       "    </tr>\n",
       "    <tr>\n",
       "      <th>7</th>\n",
       "      <td>index_8</td>\n",
       "      <td>200</td>\n",
       "      <td>20</td>\n",
       "      <td>0.4</td>\n",
       "      <td>0.6</td>\n",
       "      <td>3563119.0</td>\n",
       "      <td>0:08:50.340408</td>\n",
       "    </tr>\n",
       "  </tbody>\n",
       "</table>\n",
       "</div>"
      ],
      "text/plain": [
       "     index  n_iter  n_pop  r_cross  r_mut  objective            time\n",
       "0  index_1     200     10      0.4    0.4  3299191.0  0:04:12.584590\n",
       "1  index_2     200     20      0.4    0.4  3609213.0  0:04:51.781417\n",
       "2  index_3     200     40      0.4    0.4  3397540.0  0:13:11.443023\n",
       "3  index_4     200     20      0.1    0.4  3124850.0  0:05:17.151025\n",
       "4  index_5     200     20      0.2    0.4  3967709.0  0:06:22.958151\n",
       "5  index_6     200     20      0.3    0.4  3788493.0  0:04:16.002734\n",
       "6  index_7     200     20      0.4    0.1  2635848.0  0:00:58.812051\n",
       "7  index_8     200     20      0.4    0.6  3563119.0  0:08:50.340408"
      ]
     },
     "execution_count": 33,
     "metadata": {},
     "output_type": "execute_result"
    }
   ],
   "source": [
    "log_list = []\n",
    "\n",
    "for i in range(len(hyper_parameters)):\n",
    "    parameter = hyper_parameters.iloc[i]\n",
    "    index_nm = parameter['index']\n",
    "    print(f'{index_nm}')\n",
    "\n",
    "    start = datetime.datetime.now()\n",
    "\n",
    "    # 초기 해 및 키 정의\n",
    "    xijt = generation_xijt()\n",
    "    xijt_keys = list(xijt.keys())\n",
    "    mijt_keys = list(mijt.keys())\n",
    "\n",
    "    # 하이퍼파라미터 설정\n",
    "    n_iter = parameter['n_iter']\n",
    "    n_pop = parameter['n_pop']\n",
    "    r_cross = parameter['r_cross']\n",
    "    r_mut = parameter['r_mut']\n",
    "\n",
    "    # 유전 알고리즘 실행\n",
    "    best, score, log, log_detail = genetic_algorithm(mijt, n_iter, n_pop, r_cross, r_mut)\n",
    "\n",
    "    # 실행 시간 및 결과 기록\n",
    "    elapsed_time = datetime.datetime.now() - start\n",
    "    hyper_parameters.loc[i, 'time'] = elapsed_time\n",
    "    hyper_parameters.loc[i, 'objective'] = score\n",
    "\n",
    "    log_list.append(log)\n",
    "\n",
    "# 결과 출력\n",
    "hyper_parameters\n"
   ]
  },
  {
   "cell_type": "code",
   "execution_count": 34,
   "id": "83ca10c4",
   "metadata": {},
   "outputs": [
    {
     "data": {
      "text/html": [
       "<div>\n",
       "<style scoped>\n",
       "    .dataframe tbody tr th:only-of-type {\n",
       "        vertical-align: middle;\n",
       "    }\n",
       "\n",
       "    .dataframe tbody tr th {\n",
       "        vertical-align: top;\n",
       "    }\n",
       "\n",
       "    .dataframe thead th {\n",
       "        text-align: right;\n",
       "    }\n",
       "</style>\n",
       "<table border=\"1\" class=\"dataframe\">\n",
       "  <thead>\n",
       "    <tr style=\"text-align: right;\">\n",
       "      <th></th>\n",
       "      <th>index</th>\n",
       "      <th>n_iter</th>\n",
       "      <th>n_pop</th>\n",
       "      <th>r_cross</th>\n",
       "      <th>r_mut</th>\n",
       "      <th>objective</th>\n",
       "      <th>time</th>\n",
       "    </tr>\n",
       "  </thead>\n",
       "  <tbody>\n",
       "    <tr>\n",
       "      <th>0</th>\n",
       "      <td>index_1</td>\n",
       "      <td>200</td>\n",
       "      <td>10</td>\n",
       "      <td>0.4</td>\n",
       "      <td>0.4</td>\n",
       "      <td>3299191.0</td>\n",
       "      <td>0:04:12.584590</td>\n",
       "    </tr>\n",
       "    <tr>\n",
       "      <th>1</th>\n",
       "      <td>index_2</td>\n",
       "      <td>200</td>\n",
       "      <td>20</td>\n",
       "      <td>0.4</td>\n",
       "      <td>0.4</td>\n",
       "      <td>3609213.0</td>\n",
       "      <td>0:04:51.781417</td>\n",
       "    </tr>\n",
       "    <tr>\n",
       "      <th>2</th>\n",
       "      <td>index_3</td>\n",
       "      <td>200</td>\n",
       "      <td>40</td>\n",
       "      <td>0.4</td>\n",
       "      <td>0.4</td>\n",
       "      <td>3397540.0</td>\n",
       "      <td>0:13:11.443023</td>\n",
       "    </tr>\n",
       "    <tr>\n",
       "      <th>3</th>\n",
       "      <td>index_4</td>\n",
       "      <td>200</td>\n",
       "      <td>20</td>\n",
       "      <td>0.1</td>\n",
       "      <td>0.4</td>\n",
       "      <td>3124850.0</td>\n",
       "      <td>0:05:17.151025</td>\n",
       "    </tr>\n",
       "    <tr>\n",
       "      <th>4</th>\n",
       "      <td>index_5</td>\n",
       "      <td>200</td>\n",
       "      <td>20</td>\n",
       "      <td>0.2</td>\n",
       "      <td>0.4</td>\n",
       "      <td>3967709.0</td>\n",
       "      <td>0:06:22.958151</td>\n",
       "    </tr>\n",
       "    <tr>\n",
       "      <th>5</th>\n",
       "      <td>index_6</td>\n",
       "      <td>200</td>\n",
       "      <td>20</td>\n",
       "      <td>0.3</td>\n",
       "      <td>0.4</td>\n",
       "      <td>3788493.0</td>\n",
       "      <td>0:04:16.002734</td>\n",
       "    </tr>\n",
       "    <tr>\n",
       "      <th>6</th>\n",
       "      <td>index_7</td>\n",
       "      <td>200</td>\n",
       "      <td>20</td>\n",
       "      <td>0.4</td>\n",
       "      <td>0.1</td>\n",
       "      <td>2635848.0</td>\n",
       "      <td>0:00:58.812051</td>\n",
       "    </tr>\n",
       "    <tr>\n",
       "      <th>7</th>\n",
       "      <td>index_8</td>\n",
       "      <td>200</td>\n",
       "      <td>20</td>\n",
       "      <td>0.4</td>\n",
       "      <td>0.6</td>\n",
       "      <td>3563119.0</td>\n",
       "      <td>0:08:50.340408</td>\n",
       "    </tr>\n",
       "  </tbody>\n",
       "</table>\n",
       "</div>"
      ],
      "text/plain": [
       "     index  n_iter  n_pop  r_cross  r_mut  objective            time\n",
       "0  index_1     200     10      0.4    0.4  3299191.0  0:04:12.584590\n",
       "1  index_2     200     20      0.4    0.4  3609213.0  0:04:51.781417\n",
       "2  index_3     200     40      0.4    0.4  3397540.0  0:13:11.443023\n",
       "3  index_4     200     20      0.1    0.4  3124850.0  0:05:17.151025\n",
       "4  index_5     200     20      0.2    0.4  3967709.0  0:06:22.958151\n",
       "5  index_6     200     20      0.3    0.4  3788493.0  0:04:16.002734\n",
       "6  index_7     200     20      0.4    0.1  2635848.0  0:00:58.812051\n",
       "7  index_8     200     20      0.4    0.6  3563119.0  0:08:50.340408"
      ]
     },
     "execution_count": 34,
     "metadata": {},
     "output_type": "execute_result"
    }
   ],
   "source": [
    "hyper_parameters"
   ]
  },
  {
   "cell_type": "code",
   "execution_count": 40,
   "id": "3ed5ddd6",
   "metadata": {},
   "outputs": [
    {
     "data": {
      "image/png": "[encoded data removed]",
      "text/plain": [
       "<Figure size 640x480 with 1 Axes>"
      ]
     },
     "metadata": {},
     "output_type": "display_data"
    },
    {
     "data": {
      "image/png": "[encoded data removed]",
      "text/plain": [
       "<Figure size 640x480 with 1 Axes>"
      ]
     },
     "metadata": {},
     "output_type": "display_data"
    },
    {
     "data": {
      "image/png": "[encoded data removed]",
      "text/plain": [
       "<Figure size 640x480 with 1 Axes>"
      ]
     },
     "metadata": {},
     "output_type": "display_data"
    },
    {
     "data": {
      "image/png": "[encoded data removed]",
      "text/plain": [
       "<Figure size 640x480 with 1 Axes>"
      ]
     },
     "metadata": {},
     "output_type": "display_data"
    },
    {
     "data": {
      "image/png": "[encoded data removed]",
      "text/plain": [
       "<Figure size 640x480 with 1 Axes>"
      ]
     },
     "metadata": {},
     "output_type": "display_data"
    },
    {
     "data": {
      "image/png": "[encoded data removed]",
      "text/plain": [
       "<Figure size 640x480 with 1 Axes>"
      ]
     },
     "metadata": {},
     "output_type": "display_data"
    },
    {
     "data": {
      "image/png": "[encoded data removed]",
      "text/plain": [
       "<Figure size 640x480 with 1 Axes>"
      ]
     },
     "metadata": {},
     "output_type": "display_data"
    },
    {
     "data": {
      "image/png": "[encoded data removed]",
      "text/plain": [
       "<Figure size 640x480 with 1 Axes>"
      ]
     },
     "metadata": {},
     "output_type": "display_data"
    }
   ],
   "source": [
    "for i in range(len(log_list)):\n",
    "    df = pd.DataFrame(log_list[i])\n",
    "    plt.plot(list(df[1]))\n",
    "    plt.title(f'index_{i + 1}')\n",
    "    plt.show()\n"
   ]
  },
  {
   "cell_type": "code",
   "execution_count": 41,
   "id": "0580211f",
   "metadata": {},
   "outputs": [
    {
     "name": "stdout",
     "output_type": "stream",
     "text": [
      "12394097\n"
     ]
    },
    {
     "name": "stderr",
     "output_type": "stream",
     "text": [
      "  0%|          | 0/200 [00:00<?, ?it/s]"
     ]
    },
    {
     "name": "stdout",
     "output_type": "stream",
     "text": [
      ">best! 0, 10080259\n",
      ">best! 0, 8549912\n",
      ">best! 0, 7132204\n"
     ]
    },
    {
     "name": "stderr",
     "output_type": "stream",
     "text": [
      "  2%|▎         | 5/200 [00:13<08:58,  2.76s/it]"
     ]
    },
    {
     "name": "stdout",
     "output_type": "stream",
     "text": [
      ">best! 5, 5416193\n"
     ]
    },
    {
     "name": "stderr",
     "output_type": "stream",
     "text": [
      "  6%|▌         | 12/200 [00:29<07:00,  2.24s/it]"
     ]
    },
    {
     "name": "stdout",
     "output_type": "stream",
     "text": [
      ">best! 12, 5066803\n"
     ]
    },
    {
     "name": "stderr",
     "output_type": "stream",
     "text": [
      " 34%|███▎      | 67/200 [02:25<04:12,  1.90s/it]"
     ]
    },
    {
     "name": "stdout",
     "output_type": "stream",
     "text": [
      ">best! 67, 3710305\n"
     ]
    },
    {
     "name": "stderr",
     "output_type": "stream",
     "text": [
      " 84%|████████▍ | 168/200 [05:43<01:05,  2.05s/it]\n"
     ]
    },
    {
     "name": "stdout",
     "output_type": "stream",
     "text": [
      "stop\n",
      "Done!\n"
     ]
    },
    {
     "data": {
      "image/png": "[encoded data removed]",
      "text/plain": [
       "<Figure size 640x480 with 1 Axes>"
      ]
     },
     "metadata": {},
     "output_type": "display_data"
    }
   ],
   "source": [
    "# 입력 데이터 생성\n",
    "xijt = generation_xijt()\n",
    "xijt_keys = list(xijt.keys())\n",
    "mijt_keys = list(mijt.keys())\n",
    "\n",
    "# 유전 알고리즘 하이퍼파라미터 설정\n",
    "n_iter = 200       # 반복할 세대 수\n",
    "n_pop = 20         # 세대당 염색체 수\n",
    "r_cross = 0.3      # 교차율\n",
    "r_mut = 0.4        # 변이율\n",
    "\n",
    "# 유전 알고리즘 실행\n",
    "best, score, log, log_detail = genetic_algorithm(mijt, n_iter, n_pop, r_cross, r_mut)\n",
    "\n",
    "# 결과 출력 및 시각화\n",
    "print('Done!')\n",
    "df_log = pd.DataFrame(log)\n",
    "plt.plot(list(df_log[1]))\n",
    "plt.title('Result (x axis: generation, y axis: penalty)')\n",
    "plt.xlabel('Generation')\n",
    "plt.ylabel('Penalty')\n",
    "plt.grid(True)\n",
    "plt.show()\n"
   ]
  },
  {
   "cell_type": "code",
   "execution_count": 42,
   "id": "23445c12",
   "metadata": {},
   "outputs": [
    {
     "name": "stdout",
     "output_type": "stream",
     "text": [
      "                (item, machine, time)  qty\n",
      "5     ('K04033', 404.0, '2021-05-13')    3\n",
      "14    ('K04033', 405.0, '2021-05-13')    2\n",
      "59    ('K04033', 412.0, '2021-05-13')   14\n",
      "68    ('K04033', 416.0, '2021-05-13')    8\n",
      "86    ('K04033', 422.0, '2021-05-13')   99\n",
      "95    ('K04033', 424.0, '2021-05-13')   20\n",
      "122   ('K04033', 433.0, '2021-05-13')   23\n",
      "131   ('K04033', 434.0, '2021-05-13')    7\n",
      "158   ('K04033', 438.0, '2021-05-13')  124\n",
      "311   ('066157', 434.0, '2021-05-13')   37\n",
      "435   ('052996', 421.0, '2021-05-30')    1\n",
      "640   ('S00271', 425.0, '2021-05-31')   83\n",
      "750   ('051718', 408.0, '2021-05-30')    2\n",
      "759   ('051718', 409.0, '2021-05-30')    7\n",
      "768   ('051718', 410.0, '2021-05-30')    7\n",
      "777   ('051718', 412.0, '2021-05-30')    3\n",
      "786   ('051718', 416.0, '2021-05-30')    8\n",
      "813   ('051718', 424.0, '2021-05-30')   12\n",
      "822   ('051718', 425.0, '2021-05-30')    7\n",
      "831   ('051718', 426.0, '2021-05-30')    9\n",
      "840   ('051718', 433.0, '2021-05-30')    9\n",
      "849   ('051718', 434.0, '2021-05-30')   12\n",
      "858   ('051718', 435.0, '2021-05-30')    3\n",
      "885   ('051718', 439.0, '2021-05-30')    5\n",
      "894   ('051718', 440.0, '2021-05-30')   17\n",
      "924   ('K04031', 407.0, '2021-05-24')  113\n",
      "933   ('K04031', 408.0, '2021-05-24')  107\n",
      "996   ('K04031', 424.0, '2021-05-24')   72\n",
      "1023  ('K04031', 433.0, '2021-05-24')    9\n",
      "1032  ('K04031', 434.0, '2021-05-24')   51\n",
      "1077  ('K04031', 440.0, '2021-05-24')   26\n",
      "1290  ('K04101', 408.0, '2021-05-30')    7\n",
      "1299  ('K04101', 409.0, '2021-05-30')   13\n",
      "1326  ('K04101', 416.0, '2021-05-30')    3\n",
      "1353  ('K04101', 424.0, '2021-05-30')    8\n",
      "1362  ('K04101', 425.0, '2021-05-30')    3\n",
      "1371  ('K04101', 426.0, '2021-05-30')    6\n"
     ]
    }
   ],
   "source": [
    "# 해 솔루션 저장용 딕셔너리 초기화\n",
    "solution_ = dict()\n",
    "\n",
    "# xijt 디코딩\n",
    "xijt = decode(mijt, xijt)\n",
    "\n",
    "# best 해를 기반으로 해를 계산\n",
    "for i in I:\n",
    "    for j in J:\n",
    "        for t in T:\n",
    "            solution_[(i, j, t)] = round(best[i, j, t] * dit[i, t])\n",
    "\n",
    "# 딕셔너리를 DataFrame으로 변환\n",
    "sol = pd.DataFrame.from_dict(solution_, orient='index').reset_index()\n",
    "sol.columns = ['(item, machine, time)', 'qty']\n",
    "\n",
    "# CSV로 저장 후 다시 불러오기\n",
    "sol.to_csv('GA_solution.csv', index=False)\n",
    "sol = pd.read_csv('GA_solution.csv')\n",
    "\n",
    "# 수량이 0보다 큰 해만 출력\n",
    "print(sol[sol['qty'] > 0])\n"
   ]
  },
  {
   "cell_type": "code",
   "execution_count": 44,
   "id": "cf5e85ca",
   "metadata": {},
   "outputs": [
    {
     "name": "stdout",
     "output_type": "stream",
     "text": [
      "37\n"
     ]
    },
    {
     "data": {
      "text/html": [
       "<div>\n",
       "<style scoped>\n",
       "    .dataframe tbody tr th:only-of-type {\n",
       "        vertical-align: middle;\n",
       "    }\n",
       "\n",
       "    .dataframe tbody tr th {\n",
       "        vertical-align: top;\n",
       "    }\n",
       "\n",
       "    .dataframe thead th {\n",
       "        text-align: right;\n",
       "    }\n",
       "</style>\n",
       "<table border=\"1\" class=\"dataframe\">\n",
       "  <thead>\n",
       "    <tr style=\"text-align: right;\">\n",
       "      <th></th>\n",
       "      <th>(item, machine, time)</th>\n",
       "      <th>qty</th>\n",
       "    </tr>\n",
       "  </thead>\n",
       "  <tbody>\n",
       "    <tr>\n",
       "      <th>5</th>\n",
       "      <td>('K04033', 404.0, '2021-05-13')</td>\n",
       "      <td>3</td>\n",
       "    </tr>\n",
       "    <tr>\n",
       "      <th>14</th>\n",
       "      <td>('K04033', 405.0, '2021-05-13')</td>\n",
       "      <td>2</td>\n",
       "    </tr>\n",
       "    <tr>\n",
       "      <th>59</th>\n",
       "      <td>('K04033', 412.0, '2021-05-13')</td>\n",
       "      <td>14</td>\n",
       "    </tr>\n",
       "    <tr>\n",
       "      <th>68</th>\n",
       "      <td>('K04033', 416.0, '2021-05-13')</td>\n",
       "      <td>8</td>\n",
       "    </tr>\n",
       "    <tr>\n",
       "      <th>86</th>\n",
       "      <td>('K04033', 422.0, '2021-05-13')</td>\n",
       "      <td>99</td>\n",
       "    </tr>\n",
       "    <tr>\n",
       "      <th>95</th>\n",
       "      <td>('K04033', 424.0, '2021-05-13')</td>\n",
       "      <td>20</td>\n",
       "    </tr>\n",
       "    <tr>\n",
       "      <th>122</th>\n",
       "      <td>('K04033', 433.0, '2021-05-13')</td>\n",
       "      <td>23</td>\n",
       "    </tr>\n",
       "    <tr>\n",
       "      <th>131</th>\n",
       "      <td>('K04033', 434.0, '2021-05-13')</td>\n",
       "      <td>7</td>\n",
       "    </tr>\n",
       "    <tr>\n",
       "      <th>158</th>\n",
       "      <td>('K04033', 438.0, '2021-05-13')</td>\n",
       "      <td>124</td>\n",
       "    </tr>\n",
       "    <tr>\n",
       "      <th>311</th>\n",
       "      <td>('066157', 434.0, '2021-05-13')</td>\n",
       "      <td>37</td>\n",
       "    </tr>\n",
       "    <tr>\n",
       "      <th>435</th>\n",
       "      <td>('052996', 421.0, '2021-05-30')</td>\n",
       "      <td>1</td>\n",
       "    </tr>\n",
       "    <tr>\n",
       "      <th>640</th>\n",
       "      <td>('S00271', 425.0, '2021-05-31')</td>\n",
       "      <td>83</td>\n",
       "    </tr>\n",
       "    <tr>\n",
       "      <th>750</th>\n",
       "      <td>('051718', 408.0, '2021-05-30')</td>\n",
       "      <td>2</td>\n",
       "    </tr>\n",
       "    <tr>\n",
       "      <th>759</th>\n",
       "      <td>('051718', 409.0, '2021-05-30')</td>\n",
       "      <td>7</td>\n",
       "    </tr>\n",
       "    <tr>\n",
       "      <th>768</th>\n",
       "      <td>('051718', 410.0, '2021-05-30')</td>\n",
       "      <td>7</td>\n",
       "    </tr>\n",
       "    <tr>\n",
       "      <th>777</th>\n",
       "      <td>('051718', 412.0, '2021-05-30')</td>\n",
       "      <td>3</td>\n",
       "    </tr>\n",
       "    <tr>\n",
       "      <th>786</th>\n",
       "      <td>('051718', 416.0, '2021-05-30')</td>\n",
       "      <td>8</td>\n",
       "    </tr>\n",
       "    <tr>\n",
       "      <th>813</th>\n",
       "      <td>('051718', 424.0, '2021-05-30')</td>\n",
       "      <td>12</td>\n",
       "    </tr>\n",
       "    <tr>\n",
       "      <th>822</th>\n",
       "      <td>('051718', 425.0, '2021-05-30')</td>\n",
       "      <td>7</td>\n",
       "    </tr>\n",
       "    <tr>\n",
       "      <th>831</th>\n",
       "      <td>('051718', 426.0, '2021-05-30')</td>\n",
       "      <td>9</td>\n",
       "    </tr>\n",
       "    <tr>\n",
       "      <th>840</th>\n",
       "      <td>('051718', 433.0, '2021-05-30')</td>\n",
       "      <td>9</td>\n",
       "    </tr>\n",
       "    <tr>\n",
       "      <th>849</th>\n",
       "      <td>('051718', 434.0, '2021-05-30')</td>\n",
       "      <td>12</td>\n",
       "    </tr>\n",
       "    <tr>\n",
       "      <th>858</th>\n",
       "      <td>('051718', 435.0, '2021-05-30')</td>\n",
       "      <td>3</td>\n",
       "    </tr>\n",
       "    <tr>\n",
       "      <th>885</th>\n",
       "      <td>('051718', 439.0, '2021-05-30')</td>\n",
       "      <td>5</td>\n",
       "    </tr>\n",
       "    <tr>\n",
       "      <th>894</th>\n",
       "      <td>('051718', 440.0, '2021-05-30')</td>\n",
       "      <td>17</td>\n",
       "    </tr>\n",
       "    <tr>\n",
       "      <th>924</th>\n",
       "      <td>('K04031', 407.0, '2021-05-24')</td>\n",
       "      <td>113</td>\n",
       "    </tr>\n",
       "    <tr>\n",
       "      <th>933</th>\n",
       "      <td>('K04031', 408.0, '2021-05-24')</td>\n",
       "      <td>107</td>\n",
       "    </tr>\n",
       "    <tr>\n",
       "      <th>996</th>\n",
       "      <td>('K04031', 424.0, '2021-05-24')</td>\n",
       "      <td>72</td>\n",
       "    </tr>\n",
       "    <tr>\n",
       "      <th>1023</th>\n",
       "      <td>('K04031', 433.0, '2021-05-24')</td>\n",
       "      <td>9</td>\n",
       "    </tr>\n",
       "    <tr>\n",
       "      <th>1032</th>\n",
       "      <td>('K04031', 434.0, '2021-05-24')</td>\n",
       "      <td>51</td>\n",
       "    </tr>\n",
       "    <tr>\n",
       "      <th>1077</th>\n",
       "      <td>('K04031', 440.0, '2021-05-24')</td>\n",
       "      <td>26</td>\n",
       "    </tr>\n",
       "    <tr>\n",
       "      <th>1290</th>\n",
       "      <td>('K04101', 408.0, '2021-05-30')</td>\n",
       "      <td>7</td>\n",
       "    </tr>\n",
       "    <tr>\n",
       "      <th>1299</th>\n",
       "      <td>('K04101', 409.0, '2021-05-30')</td>\n",
       "      <td>13</td>\n",
       "    </tr>\n",
       "    <tr>\n",
       "      <th>1326</th>\n",
       "      <td>('K04101', 416.0, '2021-05-30')</td>\n",
       "      <td>3</td>\n",
       "    </tr>\n",
       "    <tr>\n",
       "      <th>1353</th>\n",
       "      <td>('K04101', 424.0, '2021-05-30')</td>\n",
       "      <td>8</td>\n",
       "    </tr>\n",
       "    <tr>\n",
       "      <th>1362</th>\n",
       "      <td>('K04101', 425.0, '2021-05-30')</td>\n",
       "      <td>3</td>\n",
       "    </tr>\n",
       "    <tr>\n",
       "      <th>1371</th>\n",
       "      <td>('K04101', 426.0, '2021-05-30')</td>\n",
       "      <td>6</td>\n",
       "    </tr>\n",
       "  </tbody>\n",
       "</table>\n",
       "</div>"
      ],
      "text/plain": [
       "                (item, machine, time)  qty\n",
       "5     ('K04033', 404.0, '2021-05-13')    3\n",
       "14    ('K04033', 405.0, '2021-05-13')    2\n",
       "59    ('K04033', 412.0, '2021-05-13')   14\n",
       "68    ('K04033', 416.0, '2021-05-13')    8\n",
       "86    ('K04033', 422.0, '2021-05-13')   99\n",
       "95    ('K04033', 424.0, '2021-05-13')   20\n",
       "122   ('K04033', 433.0, '2021-05-13')   23\n",
       "131   ('K04033', 434.0, '2021-05-13')    7\n",
       "158   ('K04033', 438.0, '2021-05-13')  124\n",
       "311   ('066157', 434.0, '2021-05-13')   37\n",
       "435   ('052996', 421.0, '2021-05-30')    1\n",
       "640   ('S00271', 425.0, '2021-05-31')   83\n",
       "750   ('051718', 408.0, '2021-05-30')    2\n",
       "759   ('051718', 409.0, '2021-05-30')    7\n",
       "768   ('051718', 410.0, '2021-05-30')    7\n",
       "777   ('051718', 412.0, '2021-05-30')    3\n",
       "786   ('051718', 416.0, '2021-05-30')    8\n",
       "813   ('051718', 424.0, '2021-05-30')   12\n",
       "822   ('051718', 425.0, '2021-05-30')    7\n",
       "831   ('051718', 426.0, '2021-05-30')    9\n",
       "840   ('051718', 433.0, '2021-05-30')    9\n",
       "849   ('051718', 434.0, '2021-05-30')   12\n",
       "858   ('051718', 435.0, '2021-05-30')    3\n",
       "885   ('051718', 439.0, '2021-05-30')    5\n",
       "894   ('051718', 440.0, '2021-05-30')   17\n",
       "924   ('K04031', 407.0, '2021-05-24')  113\n",
       "933   ('K04031', 408.0, '2021-05-24')  107\n",
       "996   ('K04031', 424.0, '2021-05-24')   72\n",
       "1023  ('K04031', 433.0, '2021-05-24')    9\n",
       "1032  ('K04031', 434.0, '2021-05-24')   51\n",
       "1077  ('K04031', 440.0, '2021-05-24')   26\n",
       "1290  ('K04101', 408.0, '2021-05-30')    7\n",
       "1299  ('K04101', 409.0, '2021-05-30')   13\n",
       "1326  ('K04101', 416.0, '2021-05-30')    3\n",
       "1353  ('K04101', 424.0, '2021-05-30')    8\n",
       "1362  ('K04101', 425.0, '2021-05-30')    3\n",
       "1371  ('K04101', 426.0, '2021-05-30')    6"
      ]
     },
     "execution_count": 44,
     "metadata": {},
     "output_type": "execute_result"
    }
   ],
   "source": [
    "print(len(sol[sol['qty'] > 0]))\n",
    "sol[sol['qty'] > 0]"
   ]
  },
  {
   "cell_type": "code",
   "execution_count": null,
   "id": "73099356",
   "metadata": {},
   "outputs": [],
   "source": []
  }
 ],
 "metadata": {
  "kernelspec": {
   "display_name": "Python 3 (ipykernel)",
   "language": "python",
   "name": "python3"
  },
  "language_info": {
   "codemirror_mode": {
    "name": "ipython",
    "version": 3
   },
   "file_extension": ".py",
   "mimetype": "text/x-python",
   "name": "python",
   "nbconvert_exporter": "python",
   "pygments_lexer": "ipython3",
   "version": "3.13.0"
  }
 },
 "nbformat": 4,
 "nbformat_minor": 5
}
