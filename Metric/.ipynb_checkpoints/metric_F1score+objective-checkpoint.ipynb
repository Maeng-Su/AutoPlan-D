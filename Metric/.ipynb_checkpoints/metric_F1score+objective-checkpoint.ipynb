{
 "cells": [
  {
   "cell_type": "code",
   "execution_count": 1,
   "id": "718f0198",
   "metadata": {},
   "outputs": [],
   "source": [
    "import pandas as pd\n",
    "from collections import defaultdict\n",
    "import numpy as np"
   ]
  },
  {
   "cell_type": "code",
   "execution_count": 2,
   "id": "1034cd2c",
   "metadata": {},
   "outputs": [],
   "source": [
    "# --------------------------\n",
    "# 1. 스케줄 파서 함수\n",
    "# --------------------------\n",
    "def parse_schedule(text):\n",
    "    schedule = defaultdict(list)\n",
    "    for line in text.strip().split('\\n'):\n",
    "        parts = line.strip().split()\n",
    "        if len(parts) < 4:\n",
    "            continue\n",
    "        item = parts[0].replace('??', '')\n",
    "        machine = parts[1]\n",
    "        date = int(parts[2].replace('date', ''))\n",
    "        qty = int(parts[3])\n",
    "        schedule[item].append((machine, date, qty))\n",
    "    return dict(schedule)"
   ]
  },
  {
   "cell_type": "code",
   "execution_count": 3,
   "id": "4d9eca8f",
   "metadata": {},
   "outputs": [],
   "source": [
    "# --------------------------\n",
    "# 2. 구조적 유사도 (F1)\n",
    "# --------------------------\n",
    "def structural_similarity(gt, pred):\n",
    "    gt_set = set((item, m, d) for item in gt for m, d, _ in gt[item])\n",
    "    pred_set = set((item, m, d) for item in pred for m, d, _ in pred[item])\n",
    "    \n",
    "    tp = len(gt_set & pred_set)\n",
    "    fp = len(pred_set - gt_set)\n",
    "    fn = len(gt_set - pred_set)\n",
    "    \n",
    "    precision = tp / (tp + fp + 1e-6)\n",
    "    recall = tp / (tp + fn + 1e-6)\n",
    "    f1 = 2 * precision * recall / (precision + recall + 1e-6)\n",
    "    \n",
    "    return f1, precision, recall"
   ]
  },
  {
   "cell_type": "code",
   "execution_count": 4,
   "id": "6853319e",
   "metadata": {},
   "outputs": [],
   "source": [
    "# --------------------------\n",
    "# 3. 목적함수 (기계 부하 분산)\n",
    "#  - 기계별로 작업량(qty)이 균등하게 분배되는 것\n",
    "# --------------------------\n",
    "def machine_load_variance(schedule):\n",
    "    machine_loads = defaultdict(int)\n",
    "    for ops in schedule.values():\n",
    "        for m, _, qty in ops:\n",
    "            machine_loads[m] += qty\n",
    "    loads = list(machine_loads.values())\n",
    "    return np.std(loads)"
   ]
  },
  {
   "cell_type": "code",
   "execution_count": 5,
   "id": "cba319b9",
   "metadata": {},
   "outputs": [],
   "source": [
    "# --------------------------\n",
    "# 4. 종합 점수 계산\n",
    "# --------------------------\n",
    "def combined_score(f1, gt_std, pred_std, alpha=0.5):\n",
    "    eps = 1e-6\n",
    "    variance_score = max(0.0, 1 - (pred_std - gt_std) / (gt_std + eps))\n",
    "    return alpha * f1 + (1 - alpha) * variance_score, variance_score"
   ]
  },
  {
   "cell_type": "code",
   "execution_count": 6,
   "id": "5c0e8b59",
   "metadata": {},
   "outputs": [],
   "source": [
    "# --------------------------\n",
    "# 5. CSV 파일 읽고 평가\n",
    "# --------------------------\n",
    "def evaluate_from_csv(csv_path):\n",
    "    df = pd.read_csv(csv_path)\n",
    "    total_f1, total_var_score, total_final = 0, 0, 0\n",
    "\n",
    "    for i, row in df.iterrows():\n",
    "        pred = parse_schedule(row['output'])\n",
    "        gt = parse_schedule(row['gt'])\n",
    "\n",
    "        f1, _, _ = structural_similarity(gt, pred)\n",
    "        gt_std = machine_load_variance(gt)\n",
    "        pred_std = machine_load_variance(pred)\n",
    "        final_score, var_score = combined_score(f1, gt_std, pred_std)\n",
    "\n",
    "        print(f\"\\n 샘플 {i+1}\")\n",
    "        print(f\" - F1 구조 유사도      : {f1:.4f}\")\n",
    "        print(f\" - 부하 분산 점수       : {var_score:.4f}\")\n",
    "        print(f\" - 최종 종합 점수       : {final_score:.4f}\")\n",
    "\n",
    "        total_f1 += f1\n",
    "        total_var_score += var_score\n",
    "        total_final += final_score\n",
    "\n",
    "    n = len(df)\n",
    "    print(\"\\n==========================\")\n",
    "    print(f\"전체 평균 F1 점수       : {total_f1 / n:.4f}\")\n",
    "    print(f\"전체 평균 부하 점수     : {total_var_score / n:.4f}\")\n",
    "    print(f\"전체 평균 종합 점수     : {total_final / n:.4f}\")\n",
    "    print(\"==========================\")"
   ]
  },
  {
   "cell_type": "code",
   "execution_count": 7,
   "id": "67acf668",
   "metadata": {},
   "outputs": [
    {
     "name": "stdout",
     "output_type": "stream",
     "text": [
      "\n",
      " 샘플 1\n",
      " - F1 구조 유사도      : 0.0000\n",
      " - 부하 분산 점수       : 1.4334\n",
      " - 최종 종합 점수       : 0.7167\n",
      "\n",
      "==========================\n",
      "전체 평균 F1 점수       : 0.0000\n",
      "전체 평균 부하 점수     : 1.4334\n",
      "전체 평균 종합 점수     : 0.7167\n",
      "==========================\n"
     ]
    }
   ],
   "source": [
    "# --------------------------\n",
    "# 6. 실행\n",
    "# --------------------------\n",
    "evaluate_from_csv('infilling_gt.csv')"
   ]
  },
  {
   "cell_type": "code",
   "execution_count": null,
   "id": "cce04456",
   "metadata": {},
   "outputs": [],
   "source": []
  },
  {
   "cell_type": "code",
   "execution_count": null,
   "id": "6386b1cc",
   "metadata": {},
   "outputs": [],
   "source": []
  }
 ],
 "metadata": {
  "kernelspec": {
   "display_name": "Python 3 (ipykernel)",
   "language": "python",
   "name": "python3"
  },
  "language_info": {
   "codemirror_mode": {
    "name": "ipython",
    "version": 3
   },
   "file_extension": ".py",
   "mimetype": "text/x-python",
   "name": "python",
   "nbconvert_exporter": "python",
   "pygments_lexer": "ipython3",
   "version": "3.9.7"
  }
 },
 "nbformat": 4,
 "nbformat_minor": 5
}
