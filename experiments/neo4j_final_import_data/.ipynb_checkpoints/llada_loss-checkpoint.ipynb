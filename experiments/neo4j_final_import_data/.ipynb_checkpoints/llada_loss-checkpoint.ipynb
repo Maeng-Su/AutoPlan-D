{
 "cells": [
  {
   "cell_type": "code",
   "execution_count": 1,
   "id": "d30c33ae-53ab-4069-9cfa-b7e72e25b366",
   "metadata": {},
   "outputs": [
    {
     "name": "stdout",
     "output_type": "stream",
     "text": [
      "Collecting transformers\n",
      "  Using cached transformers-4.52.4-py3-none-any.whl.metadata (38 kB)\n",
      "Collecting peft\n",
      "  Using cached peft-0.15.2-py3-none-any.whl.metadata (13 kB)\n",
      "Collecting datasets\n",
      "  Using cached datasets-3.6.0-py3-none-any.whl.metadata (19 kB)\n",
      "Collecting matplotlib\n",
      "  Using cached matplotlib-3.10.3-cp310-cp310-manylinux_2_17_x86_64.manylinux2014_x86_64.whl.metadata (11 kB)\n",
      "Collecting accelerate\n",
      "  Using cached accelerate-1.8.0-py3-none-any.whl.metadata (19 kB)\n",
      "Collecting bitsandbytes\n",
      "  Using cached bitsandbytes-0.46.0-py3-none-manylinux_2_24_x86_64.whl.metadata (10 kB)\n",
      "Requirement already satisfied: filelock in /usr/local/lib/python3.10/dist-packages (from transformers) (3.9.0)\n",
      "Collecting huggingface-hub<1.0,>=0.30.0 (from transformers)\n",
      "  Using cached huggingface_hub-0.33.0-py3-none-any.whl.metadata (14 kB)\n",
      "Requirement already satisfied: numpy>=1.17 in /usr/local/lib/python3.10/dist-packages (from transformers) (1.24.1)\n",
      "Requirement already satisfied: packaging>=20.0 in /usr/local/lib/python3.10/dist-packages (from transformers) (23.2)\n",
      "Requirement already satisfied: pyyaml>=5.1 in /usr/local/lib/python3.10/dist-packages (from transformers) (6.0.1)\n",
      "Collecting regex!=2019.12.17 (from transformers)\n",
      "  Using cached regex-2024.11.6-cp310-cp310-manylinux_2_17_x86_64.manylinux2014_x86_64.whl.metadata (40 kB)\n",
      "Requirement already satisfied: requests in /usr/local/lib/python3.10/dist-packages (from transformers) (2.31.0)\n",
      "Collecting tokenizers<0.22,>=0.21 (from transformers)\n",
      "  Using cached tokenizers-0.21.1-cp39-abi3-manylinux_2_17_x86_64.manylinux2014_x86_64.whl.metadata (6.8 kB)\n",
      "Collecting safetensors>=0.4.3 (from transformers)\n",
      "  Using cached safetensors-0.5.3-cp38-abi3-manylinux_2_17_x86_64.manylinux2014_x86_64.whl.metadata (3.8 kB)\n",
      "Collecting tqdm>=4.27 (from transformers)\n",
      "  Using cached tqdm-4.67.1-py3-none-any.whl.metadata (57 kB)\n",
      "Requirement already satisfied: psutil in /usr/local/lib/python3.10/dist-packages (from peft) (5.9.6)\n",
      "Requirement already satisfied: torch>=1.13.0 in /usr/local/lib/python3.10/dist-packages (from peft) (2.1.0+cu118)\n",
      "Collecting pyarrow>=15.0.0 (from datasets)\n",
      "  Using cached pyarrow-20.0.0-cp310-cp310-manylinux_2_28_x86_64.whl.metadata (3.3 kB)\n",
      "Collecting dill<0.3.9,>=0.3.0 (from datasets)\n",
      "  Using cached dill-0.3.8-py3-none-any.whl.metadata (10 kB)\n",
      "Collecting pandas (from datasets)\n",
      "  Using cached pandas-2.3.0-cp310-cp310-manylinux_2_17_x86_64.manylinux2014_x86_64.whl.metadata (91 kB)\n",
      "Collecting requests (from transformers)\n",
      "  Using cached requests-2.32.4-py3-none-any.whl.metadata (4.9 kB)\n",
      "Collecting xxhash (from datasets)\n",
      "  Using cached xxhash-3.5.0-cp310-cp310-manylinux_2_17_x86_64.manylinux2014_x86_64.whl.metadata (12 kB)\n",
      "Collecting multiprocess<0.70.17 (from datasets)\n",
      "  Using cached multiprocess-0.70.16-py310-none-any.whl.metadata (7.2 kB)\n",
      "Requirement already satisfied: fsspec<=2025.3.0,>=2023.1.0 in /usr/local/lib/python3.10/dist-packages (from fsspec[http]<=2025.3.0,>=2023.1.0->datasets) (2023.4.0)\n",
      "Collecting contourpy>=1.0.1 (from matplotlib)\n",
      "  Using cached contourpy-1.3.2-cp310-cp310-manylinux_2_17_x86_64.manylinux2014_x86_64.whl.metadata (5.5 kB)\n",
      "Collecting cycler>=0.10 (from matplotlib)\n",
      "  Using cached cycler-0.12.1-py3-none-any.whl.metadata (3.8 kB)\n",
      "Collecting fonttools>=4.22.0 (from matplotlib)\n",
      "  Using cached fonttools-4.58.4-cp310-cp310-manylinux2014_x86_64.manylinux_2_17_x86_64.whl.metadata (106 kB)\n",
      "Collecting kiwisolver>=1.3.1 (from matplotlib)\n",
      "  Using cached kiwisolver-1.4.8-cp310-cp310-manylinux_2_12_x86_64.manylinux2010_x86_64.whl.metadata (6.2 kB)\n",
      "Requirement already satisfied: pillow>=8 in /usr/local/lib/python3.10/dist-packages (from matplotlib) (9.3.0)\n",
      "Requirement already satisfied: pyparsing>=2.3.1 in /usr/lib/python3/dist-packages (from matplotlib) (2.4.7)\n",
      "Requirement already satisfied: python-dateutil>=2.7 in /usr/local/lib/python3.10/dist-packages (from matplotlib) (2.8.2)\n",
      "Collecting torch>=1.13.0 (from peft)\n",
      "  Using cached torch-2.7.1-cp310-cp310-manylinux_2_28_x86_64.whl.metadata (29 kB)\n",
      "Collecting aiohttp!=4.0.0a0,!=4.0.0a1 (from fsspec[http]<=2025.3.0,>=2023.1.0->datasets)\n",
      "  Using cached aiohttp-3.12.13-cp310-cp310-manylinux_2_17_x86_64.manylinux2014_x86_64.whl.metadata (7.6 kB)\n",
      "INFO: pip is looking at multiple versions of huggingface-hub to determine which version is compatible with other requirements. This could take a while.\n",
      "Collecting huggingface-hub<1.0,>=0.30.0 (from transformers)\n",
      "  Using cached huggingface_hub-0.32.6-py3-none-any.whl.metadata (14 kB)\n",
      "  Using cached huggingface_hub-0.32.5-py3-none-any.whl.metadata (14 kB)\n",
      "  Using cached huggingface_hub-0.32.4-py3-none-any.whl.metadata (14 kB)\n",
      "  Using cached huggingface_hub-0.32.3-py3-none-any.whl.metadata (14 kB)\n",
      "  Using cached huggingface_hub-0.32.2-py3-none-any.whl.metadata (14 kB)\n",
      "  Using cached huggingface_hub-0.32.1-py3-none-any.whl.metadata (14 kB)\n",
      "  Using cached huggingface_hub-0.32.0-py3-none-any.whl.metadata (14 kB)\n",
      "INFO: pip is still looking at multiple versions of huggingface-hub to determine which version is compatible with other requirements. This could take a while.\n",
      "  Using cached huggingface_hub-0.31.4-py3-none-any.whl.metadata (13 kB)\n",
      "  Using cached huggingface_hub-0.31.2-py3-none-any.whl.metadata (13 kB)\n",
      "  Using cached huggingface_hub-0.31.1-py3-none-any.whl.metadata (13 kB)\n",
      "  Using cached huggingface_hub-0.31.0-py3-none-any.whl.metadata (13 kB)\n",
      "  Using cached huggingface_hub-0.30.2-py3-none-any.whl.metadata (13 kB)\n",
      "INFO: This is taking longer than usual. You might need to provide the dependency resolver with stricter constraints to reduce runtime. See https://pip.pypa.io/warnings/backtracking for guidance. If you want to abort this run, press Ctrl + C.\n",
      "  Using cached huggingface_hub-0.30.1-py3-none-any.whl.metadata (13 kB)\n",
      "  Using cached huggingface_hub-0.30.0-py3-none-any.whl.metadata (13 kB)\n",
      "Collecting fsspec[http]<=2025.3.0,>=2023.1.0 (from datasets)\n",
      "  Using cached fsspec-2025.3.0-py3-none-any.whl.metadata (11 kB)\n",
      "Requirement already satisfied: typing-extensions>=3.7.4.3 in /usr/local/lib/python3.10/dist-packages (from huggingface-hub<1.0,>=0.30.0->transformers) (4.4.0)\n",
      "Collecting hf-xet<2.0.0,>=1.1.2 (from huggingface-hub<1.0,>=0.30.0->transformers)\n",
      "  Using cached hf_xet-1.1.4-cp37-abi3-manylinux_2_17_x86_64.manylinux2014_x86_64.whl.metadata (879 bytes)\n",
      "Requirement already satisfied: six>=1.5 in /usr/lib/python3/dist-packages (from python-dateutil>=2.7->matplotlib) (1.16.0)\n",
      "Requirement already satisfied: charset_normalizer<4,>=2 in /usr/local/lib/python3.10/dist-packages (from requests->transformers) (2.1.1)\n",
      "Requirement already satisfied: idna<4,>=2.5 in /usr/local/lib/python3.10/dist-packages (from requests->transformers) (3.4)\n",
      "Requirement already satisfied: urllib3<3,>=1.21.1 in /usr/local/lib/python3.10/dist-packages (from requests->transformers) (1.26.13)\n",
      "Requirement already satisfied: certifi>=2017.4.17 in /usr/local/lib/python3.10/dist-packages (from requests->transformers) (2022.12.7)\n",
      "Collecting typing-extensions>=3.7.4.3 (from huggingface-hub<1.0,>=0.30.0->transformers)\n",
      "  Using cached typing_extensions-4.14.0-py3-none-any.whl.metadata (3.0 kB)\n",
      "Collecting sympy>=1.13.3 (from torch>=1.13.0->peft)\n",
      "  Using cached sympy-1.14.0-py3-none-any.whl.metadata (12 kB)\n",
      "Requirement already satisfied: networkx in /usr/local/lib/python3.10/dist-packages (from torch>=1.13.0->peft) (3.0)\n",
      "Requirement already satisfied: jinja2 in /usr/local/lib/python3.10/dist-packages (from torch>=1.13.0->peft) (3.1.2)\n",
      "Collecting nvidia-cuda-nvrtc-cu12==12.6.77 (from torch>=1.13.0->peft)\n",
      "  Using cached nvidia_cuda_nvrtc_cu12-12.6.77-py3-none-manylinux2014_x86_64.whl.metadata (1.5 kB)\n",
      "Collecting nvidia-cuda-runtime-cu12==12.6.77 (from torch>=1.13.0->peft)\n",
      "  Using cached nvidia_cuda_runtime_cu12-12.6.77-py3-none-manylinux2014_x86_64.manylinux_2_17_x86_64.whl.metadata (1.5 kB)\n",
      "Collecting nvidia-cuda-cupti-cu12==12.6.80 (from torch>=1.13.0->peft)\n",
      "  Using cached nvidia_cuda_cupti_cu12-12.6.80-py3-none-manylinux2014_x86_64.manylinux_2_17_x86_64.whl.metadata (1.6 kB)\n",
      "Collecting nvidia-cudnn-cu12==9.5.1.17 (from torch>=1.13.0->peft)\n",
      "  Using cached nvidia_cudnn_cu12-9.5.1.17-py3-none-manylinux_2_28_x86_64.whl.metadata (1.6 kB)\n",
      "Collecting nvidia-cublas-cu12==12.6.4.1 (from torch>=1.13.0->peft)\n",
      "  Using cached nvidia_cublas_cu12-12.6.4.1-py3-none-manylinux2014_x86_64.manylinux_2_17_x86_64.whl.metadata (1.5 kB)\n",
      "Collecting nvidia-cufft-cu12==11.3.0.4 (from torch>=1.13.0->peft)\n",
      "  Using cached nvidia_cufft_cu12-11.3.0.4-py3-none-manylinux2014_x86_64.manylinux_2_17_x86_64.whl.metadata (1.5 kB)\n",
      "Collecting nvidia-curand-cu12==10.3.7.77 (from torch>=1.13.0->peft)\n",
      "  Using cached nvidia_curand_cu12-10.3.7.77-py3-none-manylinux2014_x86_64.manylinux_2_17_x86_64.whl.metadata (1.5 kB)\n",
      "Collecting nvidia-cusolver-cu12==11.7.1.2 (from torch>=1.13.0->peft)\n",
      "  Using cached nvidia_cusolver_cu12-11.7.1.2-py3-none-manylinux2014_x86_64.manylinux_2_17_x86_64.whl.metadata (1.6 kB)\n",
      "Collecting nvidia-cusparse-cu12==12.5.4.2 (from torch>=1.13.0->peft)\n",
      "  Using cached nvidia_cusparse_cu12-12.5.4.2-py3-none-manylinux2014_x86_64.manylinux_2_17_x86_64.whl.metadata (1.6 kB)\n",
      "Collecting nvidia-cusparselt-cu12==0.6.3 (from torch>=1.13.0->peft)\n",
      "  Using cached nvidia_cusparselt_cu12-0.6.3-py3-none-manylinux2014_x86_64.whl.metadata (6.8 kB)\n",
      "Collecting nvidia-nccl-cu12==2.26.2 (from torch>=1.13.0->peft)\n",
      "  Using cached nvidia_nccl_cu12-2.26.2-py3-none-manylinux2014_x86_64.manylinux_2_17_x86_64.whl.metadata (2.0 kB)\n",
      "Collecting nvidia-nvtx-cu12==12.6.77 (from torch>=1.13.0->peft)\n",
      "  Using cached nvidia_nvtx_cu12-12.6.77-py3-none-manylinux2014_x86_64.manylinux_2_17_x86_64.whl.metadata (1.6 kB)\n",
      "Collecting nvidia-nvjitlink-cu12==12.6.85 (from torch>=1.13.0->peft)\n",
      "  Using cached nvidia_nvjitlink_cu12-12.6.85-py3-none-manylinux2010_x86_64.manylinux_2_12_x86_64.whl.metadata (1.5 kB)\n",
      "Collecting nvidia-cufile-cu12==1.11.1.6 (from torch>=1.13.0->peft)\n",
      "  Using cached nvidia_cufile_cu12-1.11.1.6-py3-none-manylinux2014_x86_64.manylinux_2_17_x86_64.whl.metadata (1.5 kB)\n",
      "Collecting triton==3.3.1 (from torch>=1.13.0->peft)\n",
      "  Using cached triton-3.3.1-cp310-cp310-manylinux_2_27_x86_64.manylinux_2_28_x86_64.whl.metadata (1.5 kB)\n",
      "Requirement already satisfied: setuptools>=40.8.0 in /usr/local/lib/python3.10/dist-packages (from triton==3.3.1->torch>=1.13.0->peft) (68.2.2)\n",
      "Collecting pytz>=2020.1 (from pandas->datasets)\n",
      "  Using cached pytz-2025.2-py2.py3-none-any.whl.metadata (22 kB)\n",
      "Collecting tzdata>=2022.7 (from pandas->datasets)\n",
      "  Using cached tzdata-2025.2-py2.py3-none-any.whl.metadata (1.4 kB)\n",
      "Collecting aiohappyeyeballs>=2.5.0 (from aiohttp!=4.0.0a0,!=4.0.0a1->fsspec[http]<=2025.3.0,>=2023.1.0->datasets)\n",
      "  Using cached aiohappyeyeballs-2.6.1-py3-none-any.whl.metadata (5.9 kB)\n",
      "Collecting aiosignal>=1.1.2 (from aiohttp!=4.0.0a0,!=4.0.0a1->fsspec[http]<=2025.3.0,>=2023.1.0->datasets)\n",
      "  Using cached aiosignal-1.3.2-py2.py3-none-any.whl.metadata (3.8 kB)\n",
      "Collecting async-timeout<6.0,>=4.0 (from aiohttp!=4.0.0a0,!=4.0.0a1->fsspec[http]<=2025.3.0,>=2023.1.0->datasets)\n",
      "  Using cached async_timeout-5.0.1-py3-none-any.whl.metadata (5.1 kB)\n",
      "Requirement already satisfied: attrs>=17.3.0 in /usr/local/lib/python3.10/dist-packages (from aiohttp!=4.0.0a0,!=4.0.0a1->fsspec[http]<=2025.3.0,>=2023.1.0->datasets) (23.1.0)\n",
      "Collecting frozenlist>=1.1.1 (from aiohttp!=4.0.0a0,!=4.0.0a1->fsspec[http]<=2025.3.0,>=2023.1.0->datasets)\n",
      "  Using cached frozenlist-1.7.0-cp310-cp310-manylinux_2_5_x86_64.manylinux1_x86_64.manylinux_2_17_x86_64.manylinux2014_x86_64.whl.metadata (18 kB)\n",
      "Collecting multidict<7.0,>=4.5 (from aiohttp!=4.0.0a0,!=4.0.0a1->fsspec[http]<=2025.3.0,>=2023.1.0->datasets)\n",
      "  Using cached multidict-6.5.0-cp310-cp310-manylinux_2_17_x86_64.manylinux2014_x86_64.whl.metadata (5.3 kB)\n",
      "Collecting propcache>=0.2.0 (from aiohttp!=4.0.0a0,!=4.0.0a1->fsspec[http]<=2025.3.0,>=2023.1.0->datasets)\n",
      "  Using cached propcache-0.3.2-cp310-cp310-manylinux_2_17_x86_64.manylinux2014_x86_64.whl.metadata (12 kB)\n",
      "Collecting yarl<2.0,>=1.17.0 (from aiohttp!=4.0.0a0,!=4.0.0a1->fsspec[http]<=2025.3.0,>=2023.1.0->datasets)\n",
      "  Using cached yarl-1.20.1-cp310-cp310-manylinux_2_17_x86_64.manylinux2014_x86_64.whl.metadata (73 kB)\n",
      "Requirement already satisfied: mpmath<1.4,>=1.1.0 in /usr/local/lib/python3.10/dist-packages (from sympy>=1.13.3->torch>=1.13.0->peft) (1.3.0)\n",
      "Requirement already satisfied: MarkupSafe>=2.0 in /usr/local/lib/python3.10/dist-packages (from jinja2->torch>=1.13.0->peft) (2.1.2)\n",
      "Using cached transformers-4.52.4-py3-none-any.whl (10.5 MB)\n",
      "Using cached peft-0.15.2-py3-none-any.whl (411 kB)\n",
      "Using cached datasets-3.6.0-py3-none-any.whl (491 kB)\n",
      "Using cached matplotlib-3.10.3-cp310-cp310-manylinux_2_17_x86_64.manylinux2014_x86_64.whl (8.6 MB)\n",
      "Using cached accelerate-1.8.0-py3-none-any.whl (365 kB)\n",
      "Using cached bitsandbytes-0.46.0-py3-none-manylinux_2_24_x86_64.whl (67.0 MB)\n",
      "Using cached contourpy-1.3.2-cp310-cp310-manylinux_2_17_x86_64.manylinux2014_x86_64.whl (325 kB)\n",
      "Using cached cycler-0.12.1-py3-none-any.whl (8.3 kB)\n",
      "Using cached dill-0.3.8-py3-none-any.whl (116 kB)\n",
      "Using cached fonttools-4.58.4-cp310-cp310-manylinux2014_x86_64.manylinux_2_17_x86_64.whl (4.8 MB)\n",
      "Using cached fsspec-2025.3.0-py3-none-any.whl (193 kB)\n",
      "Using cached huggingface_hub-0.33.0-py3-none-any.whl (514 kB)\n",
      "Using cached kiwisolver-1.4.8-cp310-cp310-manylinux_2_12_x86_64.manylinux2010_x86_64.whl (1.6 MB)\n",
      "Using cached multiprocess-0.70.16-py310-none-any.whl (134 kB)\n",
      "Using cached pyarrow-20.0.0-cp310-cp310-manylinux_2_28_x86_64.whl (42.3 MB)\n",
      "Using cached regex-2024.11.6-cp310-cp310-manylinux_2_17_x86_64.manylinux2014_x86_64.whl (781 kB)\n",
      "Using cached requests-2.32.4-py3-none-any.whl (64 kB)\n",
      "Using cached safetensors-0.5.3-cp38-abi3-manylinux_2_17_x86_64.manylinux2014_x86_64.whl (471 kB)\n",
      "Using cached tokenizers-0.21.1-cp39-abi3-manylinux_2_17_x86_64.manylinux2014_x86_64.whl (3.0 MB)\n",
      "Using cached torch-2.7.1-cp310-cp310-manylinux_2_28_x86_64.whl (821.2 MB)\n",
      "Using cached nvidia_cublas_cu12-12.6.4.1-py3-none-manylinux2014_x86_64.manylinux_2_17_x86_64.whl (393.1 MB)\n",
      "Using cached nvidia_cuda_cupti_cu12-12.6.80-py3-none-manylinux2014_x86_64.manylinux_2_17_x86_64.whl (8.9 MB)\n",
      "Using cached nvidia_cuda_nvrtc_cu12-12.6.77-py3-none-manylinux2014_x86_64.whl (23.7 MB)\n",
      "Using cached nvidia_cuda_runtime_cu12-12.6.77-py3-none-manylinux2014_x86_64.manylinux_2_17_x86_64.whl (897 kB)\n",
      "Using cached nvidia_cudnn_cu12-9.5.1.17-py3-none-manylinux_2_28_x86_64.whl (571.0 MB)\n",
      "Using cached nvidia_cufft_cu12-11.3.0.4-py3-none-manylinux2014_x86_64.manylinux_2_17_x86_64.whl (200.2 MB)\n",
      "Using cached nvidia_cufile_cu12-1.11.1.6-py3-none-manylinux2014_x86_64.manylinux_2_17_x86_64.whl (1.1 MB)\n",
      "Using cached nvidia_curand_cu12-10.3.7.77-py3-none-manylinux2014_x86_64.manylinux_2_17_x86_64.whl (56.3 MB)\n",
      "Using cached nvidia_cusolver_cu12-11.7.1.2-py3-none-manylinux2014_x86_64.manylinux_2_17_x86_64.whl (158.2 MB)\n",
      "Using cached nvidia_cusparse_cu12-12.5.4.2-py3-none-manylinux2014_x86_64.manylinux_2_17_x86_64.whl (216.6 MB)\n",
      "Using cached nvidia_cusparselt_cu12-0.6.3-py3-none-manylinux2014_x86_64.whl (156.8 MB)\n",
      "Using cached nvidia_nccl_cu12-2.26.2-py3-none-manylinux2014_x86_64.manylinux_2_17_x86_64.whl (201.3 MB)\n",
      "Using cached nvidia_nvjitlink_cu12-12.6.85-py3-none-manylinux2010_x86_64.manylinux_2_12_x86_64.whl (19.7 MB)\n",
      "Using cached nvidia_nvtx_cu12-12.6.77-py3-none-manylinux2014_x86_64.manylinux_2_17_x86_64.whl (89 kB)\n",
      "Using cached triton-3.3.1-cp310-cp310-manylinux_2_27_x86_64.manylinux_2_28_x86_64.whl (155.6 MB)\n",
      "Using cached tqdm-4.67.1-py3-none-any.whl (78 kB)\n",
      "Using cached pandas-2.3.0-cp310-cp310-manylinux_2_17_x86_64.manylinux2014_x86_64.whl (12.3 MB)\n",
      "Using cached xxhash-3.5.0-cp310-cp310-manylinux_2_17_x86_64.manylinux2014_x86_64.whl (194 kB)\n",
      "Using cached aiohttp-3.12.13-cp310-cp310-manylinux_2_17_x86_64.manylinux2014_x86_64.whl (1.6 MB)\n",
      "Using cached hf_xet-1.1.4-cp37-abi3-manylinux_2_17_x86_64.manylinux2014_x86_64.whl (3.1 MB)\n",
      "Using cached pytz-2025.2-py2.py3-none-any.whl (509 kB)\n",
      "Using cached sympy-1.14.0-py3-none-any.whl (6.3 MB)\n",
      "Using cached typing_extensions-4.14.0-py3-none-any.whl (43 kB)\n",
      "Using cached tzdata-2025.2-py2.py3-none-any.whl (347 kB)\n",
      "Using cached aiohappyeyeballs-2.6.1-py3-none-any.whl (15 kB)\n",
      "Using cached aiosignal-1.3.2-py2.py3-none-any.whl (7.6 kB)\n",
      "Using cached async_timeout-5.0.1-py3-none-any.whl (6.2 kB)\n",
      "Using cached frozenlist-1.7.0-cp310-cp310-manylinux_2_5_x86_64.manylinux1_x86_64.manylinux_2_17_x86_64.manylinux2014_x86_64.whl (222 kB)\n",
      "Using cached multidict-6.5.0-cp310-cp310-manylinux_2_17_x86_64.manylinux2014_x86_64.whl (226 kB)\n",
      "Using cached propcache-0.3.2-cp310-cp310-manylinux_2_17_x86_64.manylinux2014_x86_64.whl (198 kB)\n",
      "Using cached yarl-1.20.1-cp310-cp310-manylinux_2_17_x86_64.manylinux2014_x86_64.whl (326 kB)\n",
      "Installing collected packages: pytz, nvidia-cusparselt-cu12, xxhash, tzdata, typing-extensions, triton, tqdm, sympy, safetensors, requests, regex, pyarrow, propcache, nvidia-nvtx-cu12, nvidia-nvjitlink-cu12, nvidia-nccl-cu12, nvidia-curand-cu12, nvidia-cufile-cu12, nvidia-cuda-runtime-cu12, nvidia-cuda-nvrtc-cu12, nvidia-cuda-cupti-cu12, nvidia-cublas-cu12, kiwisolver, hf-xet, fsspec, frozenlist, fonttools, dill, cycler, contourpy, async-timeout, aiohappyeyeballs, pandas, nvidia-cusparse-cu12, nvidia-cufft-cu12, nvidia-cudnn-cu12, multiprocess, multidict, matplotlib, huggingface-hub, aiosignal, yarl, tokenizers, nvidia-cusolver-cu12, transformers, torch, aiohttp, bitsandbytes, accelerate, peft, datasets\n",
      "  Attempting uninstall: typing-extensions\n",
      "    Found existing installation: typing_extensions 4.4.0\n",
      "    Uninstalling typing_extensions-4.4.0:\n",
      "      Successfully uninstalled typing_extensions-4.4.0\n",
      "  Attempting uninstall: triton\n",
      "    Found existing installation: triton 2.1.0\n",
      "    Uninstalling triton-2.1.0:\n",
      "      Successfully uninstalled triton-2.1.0\n",
      "  Attempting uninstall: sympy\n",
      "    Found existing installation: sympy 1.12\n",
      "    Uninstalling sympy-1.12:\n",
      "      Successfully uninstalled sympy-1.12\n",
      "  Attempting uninstall: requests\n",
      "    Found existing installation: requests 2.31.0\n",
      "    Uninstalling requests-2.31.0:\n",
      "      Successfully uninstalled requests-2.31.0\n",
      "  Attempting uninstall: fsspec\n",
      "    Found existing installation: fsspec 2023.4.0\n",
      "    Uninstalling fsspec-2023.4.0:\n",
      "      Successfully uninstalled fsspec-2023.4.0\n",
      "  Attempting uninstall: torch\n",
      "    Found existing installation: torch 2.1.0+cu118\n",
      "    Uninstalling torch-2.1.0+cu118:\n",
      "      Successfully uninstalled torch-2.1.0+cu118\n",
      "\u001b[31mERROR: pip's dependency resolver does not currently take into account all the packages that are installed. This behaviour is the source of the following dependency conflicts.\n",
      "torchaudio 2.1.0+cu118 requires torch==2.1.0, but you have torch 2.7.1 which is incompatible.\n",
      "torchvision 0.16.0+cu118 requires torch==2.1.0, but you have torch 2.7.1 which is incompatible.\u001b[0m\u001b[31m\n",
      "\u001b[0mSuccessfully installed accelerate-1.8.0 aiohappyeyeballs-2.6.1 aiohttp-3.12.13 aiosignal-1.3.2 async-timeout-5.0.1 bitsandbytes-0.46.0 contourpy-1.3.2 cycler-0.12.1 datasets-3.6.0 dill-0.3.8 fonttools-4.58.4 frozenlist-1.7.0 fsspec-2025.3.0 hf-xet-1.1.4 huggingface-hub-0.33.0 kiwisolver-1.4.8 matplotlib-3.10.3 multidict-6.5.0 multiprocess-0.70.16 nvidia-cublas-cu12-12.6.4.1 nvidia-cuda-cupti-cu12-12.6.80 nvidia-cuda-nvrtc-cu12-12.6.77 nvidia-cuda-runtime-cu12-12.6.77 nvidia-cudnn-cu12-9.5.1.17 nvidia-cufft-cu12-11.3.0.4 nvidia-cufile-cu12-1.11.1.6 nvidia-curand-cu12-10.3.7.77 nvidia-cusolver-cu12-11.7.1.2 nvidia-cusparse-cu12-12.5.4.2 nvidia-cusparselt-cu12-0.6.3 nvidia-nccl-cu12-2.26.2 nvidia-nvjitlink-cu12-12.6.85 nvidia-nvtx-cu12-12.6.77 pandas-2.3.0 peft-0.15.2 propcache-0.3.2 pyarrow-20.0.0 pytz-2025.2 regex-2024.11.6 requests-2.32.4 safetensors-0.5.3 sympy-1.14.0 tokenizers-0.21.1 torch-2.7.1 tqdm-4.67.1 transformers-4.52.4 triton-3.3.1 typing-extensions-4.14.0 tzdata-2025.2 xxhash-3.5.0 yarl-1.20.1\n",
      "\u001b[33mWARNING: Running pip as the 'root' user can result in broken permissions and conflicting behaviour with the system package manager. It is recommended to use a virtual environment instead: https://pip.pypa.io/warnings/venv\u001b[0m\u001b[33m\n",
      "\u001b[0m\n",
      "\u001b[1m[\u001b[0m\u001b[34;49mnotice\u001b[0m\u001b[1;39;49m]\u001b[0m\u001b[39;49m A new release of pip is available: \u001b[0m\u001b[31;49m23.3.1\u001b[0m\u001b[39;49m -> \u001b[0m\u001b[32;49m25.1.1\u001b[0m\n",
      "\u001b[1m[\u001b[0m\u001b[34;49mnotice\u001b[0m\u001b[1;39;49m]\u001b[0m\u001b[39;49m To update, run: \u001b[0m\u001b[32;49mpython -m pip install --upgrade pip\u001b[0m\n"
     ]
    }
   ],
   "source": [
    "!pip install transformers peft datasets matplotlib accelerate bitsandbytes"
   ]
  },
  {
   "cell_type": "code",
   "execution_count": 5,
   "id": "1f7e2225-a81b-4c5d-a1f2-08b62230f714",
   "metadata": {},
   "outputs": [
    {
     "name": "stdout",
     "output_type": "stream",
     "text": [
      "Initial working directory: /workspace/Score-Entropy-Discrete-Diffusion\n",
      "Current working directory: /workspace/Score-Entropy-Discrete-Diffusion\n",
      "Using device: cuda\n",
      "LLaDA 토크나이저 로드 완료. PAD token ID: 126081\n"
     ]
    }
   ],
   "source": [
    "# 셀 1: 초기 설정, 라이브러리 및 함수 정의\n",
    "\n",
    "import torch\n",
    "import torch.optim as optim\n",
    "from torch.utils.data import Dataset, DataLoader\n",
    "import pandas as pd\n",
    "import numpy as np\n",
    "import re\n",
    "from tqdm.auto import tqdm\n",
    "import os\n",
    "import json\n",
    "import sys\n",
    "import matplotlib.pyplot as plt\n",
    "\n",
    "# --- 필수 라이브러리 설치 (필요시 주석 해제) ---\n",
    "# !pip install transformers==4.40.1 accelerate bitsandbytes peft datasets\n",
    "\n",
    "from transformers import AutoTokenizer, AutoModel, BitsAndBytesConfig\n",
    "from peft import LoraConfig, get_peft_model, prepare_model_for_kbit_training, PeftModel\n",
    "import bitsandbytes.optim as bnb_optim # 8-bit 옵티마이저용\n",
    "\n",
    "# --- 경로 설정 ---\n",
    "print(f\"Initial working directory: {os.getcwd()}\")\n",
    "repo_path = '/workspace/Score-Entropy-Discrete-Diffusion' \n",
    "# 만약 LLaDA 레포지토리 코드를 참고하거나 사용한다면 해당 경로로 설정\n",
    "# generate.py 등을 사용하기 위해 경로 추가\n",
    "if os.path.exists(repo_path) and os.getcwd() != repo_path: os.chdir(repo_path)\n",
    "if os.getcwd() not in sys.path: sys.path.append(os.getcwd())\n",
    "# from generate import generate # 추론 시 필요\n",
    "\n",
    "print(f\"Current working directory: {os.getcwd()}\")\n",
    "\n",
    "# --- 기본 설정 ---\n",
    "DEVICE = torch.device('cuda' if torch.cuda.is_available() else 'cpu')\n",
    "print(f\"Using device: {DEVICE}\")\n",
    "\n",
    "MODEL_SAVE_DIR = 'finetuned_llada_len1024_r4_v1' # 실험 버전 구분\n",
    "# <<<<<<<<<<<<<<<<<<<< 핵심 수정 1 >>>>>>>>>>>>>>>>>\n",
    "MAX_SEQ_LENGTH = 1024 # 시퀀스 길이를 1024로 줄임\n",
    "# <<<<<<<<<<<<<<<<<<<<<<<<<<<<<<<<<<<<<<<<<<<\n",
    "BEST_MODEL_FILENAME = \"best_model_adapter\"\n",
    "\n",
    "# 하이퍼파라미터\n",
    "LEARNING_RATE = 2e-5\n",
    "NUM_EPOCHS = 20\n",
    "BATCH_SIZE = 1 # 메모리 제약으로 1 유지\n",
    "ACCUMULATION_STEPS = 16 # 실질 배치 크기 16\n",
    "\n",
    "SAVE_MODEL_CONDITIONALLY = True\n",
    "LOG_EVERY_N_STEPS = 10\n",
    "\n",
    "# --- 토크나이저 및 전역 변수 로드 ---\n",
    "try:\n",
    "    tokenizer = AutoTokenizer.from_pretrained('GSAI-ML/LLaDA-8B-Base', trust_remote_code=True)\n",
    "    if tokenizer.pad_token is None: tokenizer.pad_token = tokenizer.eos_token\n",
    "    print(f\"LLaDA 토크나이저 로드 완료. PAD token ID: {tokenizer.pad_token_id}\")\n",
    "    SEP_TOKEN_STR = tokenizer.eos_token\n",
    "    SEP_TOKEN_ID = tokenizer.eos_token_id\n",
    "    MASK_TOKEN_ID = 126336\n",
    "except Exception as e: print(f\"토크나이저 로드 중 오류: {e}.\"); raise\n",
    "\n",
    "# --- 헤더 및 데이터 파싱/로드 함수 (이전과 동일) ---\n",
    "HEADER_ORDER = \"order_date order_item order_cost order_urgent order_quantity\"\n",
    "HEADER_MACHINE = \"machine_item machine_id machine_capacity\"\n",
    "HEADER_GT = \"gt_item gt_machine gt_date gt_quantity\"\n",
    "\n",
    "def parse_and_format_data_coded_style(column_text, header_string):\n",
    "    if pd.isna(column_text): return header_string\n",
    "    lines = str(column_text).strip().split('\\n')\n",
    "    processed_lines = [header_string]\n",
    "    for line in lines:\n",
    "        line_content = line.strip()\n",
    "        if line_content.startswith('• '): line_content = line_content[2:]\n",
    "        processed_lines.append(line_content)\n",
    "    return \"\\n\".join(processed_lines)\n",
    "\n",
    "def load_and_preprocess_llada_data(file_path, tokenizer_obj, max_len, sep_token_str, is_train=False): # is_train 기본값을 False로 설정\n",
    "    print(f\"\\n'{file_path}' 데이터 로딩 및 전처리 시작...\")\n",
    "    try:\n",
    "        df = pd.read_csv(file_path)\n",
    "    except FileNotFoundError:\n",
    "        print(f\"오류: 파일을 찾을 수 없습니다 - {file_path}\"); return pd.DataFrame()\n",
    "\n",
    "    df['order_proc'] = df['order'].apply(lambda x: parse_and_format_data_coded_style(x, HEADER_ORDER))\n",
    "    df['machine_proc'] = df['machine'].apply(lambda x: parse_and_format_data_coded_style(x, HEADER_MACHINE))\n",
    "    df['gt_proc'] = df['gt'].apply(lambda x: parse_and_format_data_coded_style(x, HEADER_GT))\n",
    "\n",
    "    df['conditioning_text'] = df['order_proc'] + \"\\n\\n\" + df['machine_proc']\n",
    "    df['output_text'] = df['gt_proc']\n",
    "    \n",
    "    df['combined_text_with_sep'] = df['conditioning_text'] + sep_token_str + df['output_text']\n",
    "    \n",
    "    # 길이 필터링 전에 토큰 길이 계산\n",
    "    token_lengths = df['combined_text_with_sep'].apply(\n",
    "        lambda x: len(tokenizer_obj.encode(x, add_special_tokens=False))\n",
    "    )\n",
    "    \n",
    "    original_len = len(df)\n",
    "    \n",
    "    # is_train=True일 때만 길이 필터링 수행\n",
    "    if is_train:\n",
    "        df = df[token_lengths <= max_len].copy()\n",
    "        print(f\"토큰 길이 > {max_len} 인 샘플 {original_len - len(df)}개 제외. 남은 샘플 수: {len(df)}\")\n",
    "    \n",
    "    if df.empty:\n",
    "        print(f\"Warning: 필터링 후 '{file_path}'에 남은 데이터가 없습니다.\")\n",
    "        return pd.DataFrame()\n",
    "\n",
    "    print(f\"'{file_path}' 전처리 완료. 최종 샘플 수: {len(df)}\")\n",
    "    return df[['conditioning_text', 'output_text']]\n",
    "\n",
    "# --- Dataset 클래스 (이전과 동일) ---\n",
    "class LLADADataset(Dataset):\n",
    "    def __init__(self, dataframe, tokenizer_obj, max_total_seq_len, sep_token_id_val, bos_token_id_val=None, eos_token_id_val=None):\n",
    "        self.tokenizer = tokenizer_obj; self.data = dataframe\n",
    "        self.max_total_len = max_total_seq_len; self.sep_token_id = sep_token_id_val\n",
    "        self.use_bos = bos_token_id_val is not None; self.use_eos = eos_token_id_val is not None\n",
    "        self.bos_token_id = bos_token_id_val; self.eos_token_id = eos_token_id_val\n",
    "    def __len__(self): return len(self.data)\n",
    "    def __getitem__(self, index):\n",
    "        row = self.data.iloc[index]; conditioning_text = str(row['conditioning_text']); output_text = str(row['output_text'])\n",
    "        cond_tokens = self.tokenizer.encode(conditioning_text, add_special_tokens=False)\n",
    "        out_tokens = self.tokenizer.encode(output_text, add_special_tokens=False)\n",
    "        num_special_tokens = 1 + (1 if self.use_bos else 0) + (1 if self.use_eos else 0)\n",
    "        available_len_for_content = self.max_total_len - num_special_tokens\n",
    "        if len(cond_tokens) > available_len_for_content:\n",
    "            cond_tokens_final = cond_tokens[:available_len_for_content]; out_tokens_final = []\n",
    "        else: cond_tokens_final = cond_tokens\n",
    "        remaining_len_for_out = available_len_for_content - len(cond_tokens_final)\n",
    "        out_tokens_final = out_tokens[:remaining_len_for_out]\n",
    "        input_ids_list = []\n",
    "        if self.use_bos: input_ids_list.append(self.bos_token_id)\n",
    "        input_ids_list.extend(cond_tokens_final); input_ids_list.append(self.sep_token_id); input_ids_list.extend(out_tokens_final)\n",
    "        if self.use_eos: input_ids_list.append(self.eos_token_id)\n",
    "        prompt_actual_len = len(cond_tokens_final) + 1 + (1 if self.use_bos else 0)\n",
    "        answer_actual_len = len(out_tokens_final)\n",
    "        num_padding = self.max_total_len - len(input_ids_list)\n",
    "        attention_mask = [1] * len(input_ids_list) + [0] * num_padding\n",
    "        input_ids_padded = input_ids_list + [self.tokenizer.pad_token_id] * num_padding\n",
    "        return {'input_ids': torch.tensor(input_ids_padded, dtype=torch.long),\n",
    "                'attention_mask': torch.tensor(attention_mask, dtype=torch.long),\n",
    "                'prompt_len': prompt_actual_len,\n",
    "                'answer_len': answer_actual_len}"
   ]
  },
  {
   "cell_type": "code",
   "execution_count": 6,
   "id": "e7846c2b-f8eb-4fc3-a180-25c19972b206",
   "metadata": {},
   "outputs": [
    {
     "name": "stdout",
     "output_type": "stream",
     "text": [
      "\n",
      "'sampledata/train.csv' 데이터 로딩 및 전처리 (길이 필터링 적용)...\n",
      "토큰 길이 > 1024 인 샘플 1438개 제외. 남은 샘플 수: 239\n",
      "\n",
      "'sampledata/val.csv' 데이터 로딩 및 전처리 (길이 필터링 적용)...\n",
      "토큰 길이 > 1024 인 샘플 114개 제외. 남은 샘플 수: 9\n",
      "\n",
      "학습 데이터로더: 239 배치, 검증 데이터로더: 9 배치\n"
     ]
    },
    {
     "data": {
      "application/vnd.jupyter.widget-view+json": {
       "model_id": "178d622e09924e91b217d40de621945d",
       "version_major": 2,
       "version_minor": 0
      },
      "text/plain": [
       "Loading checkpoint shards:   0%|          | 0/6 [00:00<?, ?it/s]"
      ]
     },
     "metadata": {},
     "output_type": "display_data"
    },
    {
     "name": "stdout",
     "output_type": "stream",
     "text": [
      "LLaDA 모델 (4-bit 양자화) 로드 완료.\n",
      "PEFT (LoRA) 적용 완료. 학습 가능한 파라미터:\n",
      "trainable params: 2,097,152 || all params: 8,017,678,336 || trainable%: 0.0262\n",
      "옵티마이저 설정 완료 (8-bit AdamW).\n"
     ]
    }
   ],
   "source": [
    "# 셀 2: 데이터 로더 생성, 모델 로드, 학습 및 검증 루프 실행\n",
    "\n",
    "# --- 데이터 로더 생성 ---\n",
    "df_train_processed = load_and_preprocess_llada_data('sampledata/train.csv', tokenizer, MAX_SEQ_LENGTH, SEP_TOKEN_STR)\n",
    "df_val_processed = load_and_preprocess_llada_data('sampledata/val.csv', tokenizer, MAX_SEQ_LENGTH, SEP_TOKEN_STR)\n",
    "if df_train_processed.empty or df_val_processed.empty: raise ValueError(\"학습/검증 데이터 부족\")\n",
    "\n",
    "train_dataset = LLADADataset(df_train_processed, tokenizer, MAX_SEQ_LENGTH, SEP_TOKEN_ID, tokenizer.bos_token_id, tokenizer.eos_token_id)\n",
    "val_dataset = LLADADataset(df_val_processed, tokenizer, MAX_SEQ_LENGTH, SEP_TOKEN_ID, tokenizer.bos_token_id, tokenizer.eos_token_id)\n",
    "train_dataloader = DataLoader(train_dataset, batch_size=BATCH_SIZE, shuffle=True, num_workers=0)\n",
    "val_dataloader = DataLoader(val_dataset, batch_size=BATCH_SIZE, shuffle=False, num_workers=0)\n",
    "print(f\"\\n학습 데이터로더: {len(train_dataloader)} 배치, 검증 데이터로더: {len(val_dataloader)} 배치\")\n",
    "\n",
    "# --- 모델 로드 (양자화 및 LoRA 적용) ---\n",
    "quantization_config = BitsAndBytesConfig(load_in_4bit=True, bnb_4bit_use_double_quant=True, bnb_4bit_quant_type=\"nf4\", bnb_4bit_compute_dtype=torch.bfloat16)\n",
    "try:\n",
    "    model_id = \"GSAI-ML/LLaDA-8B-Base\"\n",
    "    score_model = AutoModel.from_pretrained(model_id, trust_remote_code=True, quantization_config=quantization_config)\n",
    "    print(\"LLaDA 모델 (4-bit 양자화) 로드 완료.\")\n",
    "    score_model = prepare_model_for_kbit_training(score_model, use_gradient_checkpointing=False)\n",
    "    \n",
    "    # <<<<<<<<<<<<<<<<<<<< 핵심 수정 2 >>>>>>>>>>>>>>>>>\n",
    "    lora_config = LoraConfig(\n",
    "        r=4, # rank를 4로 줄임\n",
    "        lora_alpha=16, # r의 2~4배\n",
    "        target_modules=[\"q_proj\", \"v_proj\"],\n",
    "        lora_dropout=0.05,\n",
    "        bias=\"none\",\n",
    "        task_type=\"CAUSAL_LM\"\n",
    "    )\n",
    "    # <<<<<<<<<<<<<<<<<<<<<<<<<<<<<<<<<<<<<<<<<<<\n",
    "    \n",
    "    score_model = get_peft_model(score_model, lora_config)\n",
    "    print(\"PEFT (LoRA) 적용 완료. 학습 가능한 파라미터:\"); score_model.print_trainable_parameters()\n",
    "except Exception as e: print(f\"LLaDA 모델 로드 중 오류: {e}.\"); raise\n",
    "\n",
    "# --- 옵티마이저 설정 (8-bit AdamW) ---\n",
    "optimizer = bnb_optim.AdamW8bit(score_model.parameters(), lr=LEARNING_RATE)\n",
    "print(\"옵티마이저 설정 완료 (8-bit AdamW).\")"
   ]
  },
  {
   "cell_type": "code",
   "execution_count": null,
   "id": "78c4c9a8-f45d-4480-a7ea-999e8a34dbba",
   "metadata": {},
   "outputs": [
    {
     "name": "stdout",
     "output_type": "stream",
     "text": [
      "\n",
      "--- LLaDA 파인튜닝 및 검증 루프 시작 ---\n"
     ]
    },
    {
     "data": {
      "application/vnd.jupyter.widget-view+json": {
       "model_id": "",
       "version_major": 2,
       "version_minor": 0
      },
      "text/plain": [
       "Training:   0%|          | 0/239 [00:00<?, ?it/s]"
      ]
     },
     "metadata": {},
     "output_type": "display_data"
    },
    {
     "name": "stdout",
     "output_type": "stream",
     "text": [
      "Epoch 1/20 - Avg Train Loss: 4.9618\n"
     ]
    },
    {
     "data": {
      "application/vnd.jupyter.widget-view+json": {
       "model_id": "",
       "version_major": 2,
       "version_minor": 0
      },
      "text/plain": [
       "Validating:   0%|          | 0/9 [00:00<?, ?it/s]"
      ]
     },
     "metadata": {},
     "output_type": "display_data"
    },
    {
     "name": "stdout",
     "output_type": "stream",
     "text": [
      "Epoch 1/20 - Avg Validation Loss: 2.2256\n",
      "Validation loss 개선! Best 모델(어댑터) 저장: finetuned_llada_len1024_r4_v1/best_model_adapter (Val Loss: 2.2256)\n"
     ]
    },
    {
     "data": {
      "application/vnd.jupyter.widget-view+json": {
       "model_id": "",
       "version_major": 2,
       "version_minor": 0
      },
      "text/plain": [
       "Training:   0%|          | 0/239 [00:00<?, ?it/s]"
      ]
     },
     "metadata": {},
     "output_type": "display_data"
    },
    {
     "name": "stdout",
     "output_type": "stream",
     "text": [
      "Epoch 2/20 - Avg Train Loss: 3.6163\n"
     ]
    },
    {
     "data": {
      "application/vnd.jupyter.widget-view+json": {
       "model_id": "",
       "version_major": 2,
       "version_minor": 0
      },
      "text/plain": [
       "Validating:   0%|          | 0/9 [00:00<?, ?it/s]"
      ]
     },
     "metadata": {},
     "output_type": "display_data"
    },
    {
     "name": "stdout",
     "output_type": "stream",
     "text": [
      "Epoch 2/20 - Avg Validation Loss: 0.8861\n",
      "Validation loss 개선! Best 모델(어댑터) 저장: finetuned_llada_len1024_r4_v1/best_model_adapter (Val Loss: 0.8861)\n"
     ]
    },
    {
     "data": {
      "application/vnd.jupyter.widget-view+json": {
       "model_id": "",
       "version_major": 2,
       "version_minor": 0
      },
      "text/plain": [
       "Training:   0%|          | 0/239 [00:00<?, ?it/s]"
      ]
     },
     "metadata": {},
     "output_type": "display_data"
    },
    {
     "name": "stdout",
     "output_type": "stream",
     "text": [
      "Epoch 3/20 - Avg Train Loss: 1.3310\n"
     ]
    },
    {
     "data": {
      "application/vnd.jupyter.widget-view+json": {
       "model_id": "",
       "version_major": 2,
       "version_minor": 0
      },
      "text/plain": [
       "Validating:   0%|          | 0/9 [00:00<?, ?it/s]"
      ]
     },
     "metadata": {},
     "output_type": "display_data"
    },
    {
     "name": "stdout",
     "output_type": "stream",
     "text": [
      "Epoch 3/20 - Avg Validation Loss: 1.0896\n"
     ]
    },
    {
     "data": {
      "application/vnd.jupyter.widget-view+json": {
       "model_id": "",
       "version_major": 2,
       "version_minor": 0
      },
      "text/plain": [
       "Training:   0%|          | 0/239 [00:00<?, ?it/s]"
      ]
     },
     "metadata": {},
     "output_type": "display_data"
    },
    {
     "name": "stdout",
     "output_type": "stream",
     "text": [
      "Epoch 4/20 - Avg Train Loss: 0.9627\n"
     ]
    },
    {
     "data": {
      "application/vnd.jupyter.widget-view+json": {
       "model_id": "",
       "version_major": 2,
       "version_minor": 0
      },
      "text/plain": [
       "Validating:   0%|          | 0/9 [00:00<?, ?it/s]"
      ]
     },
     "metadata": {},
     "output_type": "display_data"
    },
    {
     "name": "stdout",
     "output_type": "stream",
     "text": [
      "Epoch 4/20 - Avg Validation Loss: 0.6692\n",
      "Validation loss 개선! Best 모델(어댑터) 저장: finetuned_llada_len1024_r4_v1/best_model_adapter (Val Loss: 0.6692)\n"
     ]
    },
    {
     "data": {
      "application/vnd.jupyter.widget-view+json": {
       "model_id": "",
       "version_major": 2,
       "version_minor": 0
      },
      "text/plain": [
       "Training:   0%|          | 0/239 [00:00<?, ?it/s]"
      ]
     },
     "metadata": {},
     "output_type": "display_data"
    },
    {
     "name": "stdout",
     "output_type": "stream",
     "text": [
      "Epoch 5/20 - Avg Train Loss: 0.9569\n"
     ]
    },
    {
     "data": {
      "application/vnd.jupyter.widget-view+json": {
       "model_id": "",
       "version_major": 2,
       "version_minor": 0
      },
      "text/plain": [
       "Validating:   0%|          | 0/9 [00:00<?, ?it/s]"
      ]
     },
     "metadata": {},
     "output_type": "display_data"
    },
    {
     "name": "stdout",
     "output_type": "stream",
     "text": [
      "Epoch 5/20 - Avg Validation Loss: 1.2207\n"
     ]
    },
    {
     "data": {
      "application/vnd.jupyter.widget-view+json": {
       "model_id": "",
       "version_major": 2,
       "version_minor": 0
      },
      "text/plain": [
       "Training:   0%|          | 0/239 [00:00<?, ?it/s]"
      ]
     },
     "metadata": {},
     "output_type": "display_data"
    },
    {
     "name": "stdout",
     "output_type": "stream",
     "text": [
      "Epoch 6/20 - Avg Train Loss: 1.0453\n"
     ]
    },
    {
     "data": {
      "application/vnd.jupyter.widget-view+json": {
       "model_id": "",
       "version_major": 2,
       "version_minor": 0
      },
      "text/plain": [
       "Validating:   0%|          | 0/9 [00:00<?, ?it/s]"
      ]
     },
     "metadata": {},
     "output_type": "display_data"
    },
    {
     "name": "stdout",
     "output_type": "stream",
     "text": [
      "Epoch 6/20 - Avg Validation Loss: 1.6853\n"
     ]
    },
    {
     "data": {
      "application/vnd.jupyter.widget-view+json": {
       "model_id": "",
       "version_major": 2,
       "version_minor": 0
      },
      "text/plain": [
       "Training:   0%|          | 0/239 [00:00<?, ?it/s]"
      ]
     },
     "metadata": {},
     "output_type": "display_data"
    },
    {
     "name": "stdout",
     "output_type": "stream",
     "text": [
      "Epoch 7/20 - Avg Train Loss: 1.0317\n"
     ]
    },
    {
     "data": {
      "application/vnd.jupyter.widget-view+json": {
       "model_id": "",
       "version_major": 2,
       "version_minor": 0
      },
      "text/plain": [
       "Validating:   0%|          | 0/9 [00:00<?, ?it/s]"
      ]
     },
     "metadata": {},
     "output_type": "display_data"
    },
    {
     "name": "stdout",
     "output_type": "stream",
     "text": [
      "Epoch 7/20 - Avg Validation Loss: 0.6207\n",
      "Validation loss 개선! Best 모델(어댑터) 저장: finetuned_llada_len1024_r4_v1/best_model_adapter (Val Loss: 0.6207)\n"
     ]
    },
    {
     "data": {
      "application/vnd.jupyter.widget-view+json": {
       "model_id": "",
       "version_major": 2,
       "version_minor": 0
      },
      "text/plain": [
       "Training:   0%|          | 0/239 [00:00<?, ?it/s]"
      ]
     },
     "metadata": {},
     "output_type": "display_data"
    },
    {
     "name": "stdout",
     "output_type": "stream",
     "text": [
      "Epoch 8/20 - Avg Train Loss: 0.8272\n"
     ]
    },
    {
     "data": {
      "application/vnd.jupyter.widget-view+json": {
       "model_id": "",
       "version_major": 2,
       "version_minor": 0
      },
      "text/plain": [
       "Validating:   0%|          | 0/9 [00:00<?, ?it/s]"
      ]
     },
     "metadata": {},
     "output_type": "display_data"
    },
    {
     "name": "stdout",
     "output_type": "stream",
     "text": [
      "Epoch 8/20 - Avg Validation Loss: 0.6676\n"
     ]
    },
    {
     "data": {
      "application/vnd.jupyter.widget-view+json": {
       "model_id": "",
       "version_major": 2,
       "version_minor": 0
      },
      "text/plain": [
       "Training:   0%|          | 0/239 [00:00<?, ?it/s]"
      ]
     },
     "metadata": {},
     "output_type": "display_data"
    },
    {
     "name": "stdout",
     "output_type": "stream",
     "text": [
      "Epoch 9/20 - Avg Train Loss: 0.9149\n"
     ]
    },
    {
     "data": {
      "application/vnd.jupyter.widget-view+json": {
       "model_id": "",
       "version_major": 2,
       "version_minor": 0
      },
      "text/plain": [
       "Validating:   0%|          | 0/9 [00:00<?, ?it/s]"
      ]
     },
     "metadata": {},
     "output_type": "display_data"
    },
    {
     "name": "stdout",
     "output_type": "stream",
     "text": [
      "Epoch 9/20 - Avg Validation Loss: 0.3005\n",
      "Validation loss 개선! Best 모델(어댑터) 저장: finetuned_llada_len1024_r4_v1/best_model_adapter (Val Loss: 0.3005)\n"
     ]
    },
    {
     "data": {
      "application/vnd.jupyter.widget-view+json": {
       "model_id": "",
       "version_major": 2,
       "version_minor": 0
      },
      "text/plain": [
       "Training:   0%|          | 0/239 [00:00<?, ?it/s]"
      ]
     },
     "metadata": {},
     "output_type": "display_data"
    },
    {
     "name": "stdout",
     "output_type": "stream",
     "text": [
      "Epoch 10/20 - Avg Train Loss: 0.7600\n"
     ]
    },
    {
     "data": {
      "application/vnd.jupyter.widget-view+json": {
       "model_id": "",
       "version_major": 2,
       "version_minor": 0
      },
      "text/plain": [
       "Validating:   0%|          | 0/9 [00:00<?, ?it/s]"
      ]
     },
     "metadata": {},
     "output_type": "display_data"
    },
    {
     "name": "stdout",
     "output_type": "stream",
     "text": [
      "Epoch 10/20 - Avg Validation Loss: 0.3878\n"
     ]
    },
    {
     "data": {
      "application/vnd.jupyter.widget-view+json": {
       "model_id": "",
       "version_major": 2,
       "version_minor": 0
      },
      "text/plain": [
       "Training:   0%|          | 0/239 [00:00<?, ?it/s]"
      ]
     },
     "metadata": {},
     "output_type": "display_data"
    },
    {
     "name": "stdout",
     "output_type": "stream",
     "text": [
      "Epoch 11/20 - Avg Train Loss: 0.7124\n"
     ]
    },
    {
     "data": {
      "application/vnd.jupyter.widget-view+json": {
       "model_id": "",
       "version_major": 2,
       "version_minor": 0
      },
      "text/plain": [
       "Validating:   0%|          | 0/9 [00:00<?, ?it/s]"
      ]
     },
     "metadata": {},
     "output_type": "display_data"
    },
    {
     "name": "stdout",
     "output_type": "stream",
     "text": [
      "Epoch 11/20 - Avg Validation Loss: 1.5053\n"
     ]
    },
    {
     "data": {
      "application/vnd.jupyter.widget-view+json": {
       "model_id": "",
       "version_major": 2,
       "version_minor": 0
      },
      "text/plain": [
       "Training:   0%|          | 0/239 [00:00<?, ?it/s]"
      ]
     },
     "metadata": {},
     "output_type": "display_data"
    },
    {
     "name": "stdout",
     "output_type": "stream",
     "text": [
      "Epoch 12/20 - Avg Train Loss: 0.9445\n"
     ]
    },
    {
     "data": {
      "application/vnd.jupyter.widget-view+json": {
       "model_id": "",
       "version_major": 2,
       "version_minor": 0
      },
      "text/plain": [
       "Validating:   0%|          | 0/9 [00:00<?, ?it/s]"
      ]
     },
     "metadata": {},
     "output_type": "display_data"
    },
    {
     "name": "stdout",
     "output_type": "stream",
     "text": [
      "Epoch 12/20 - Avg Validation Loss: 0.5264\n"
     ]
    },
    {
     "data": {
      "application/vnd.jupyter.widget-view+json": {
       "model_id": "",
       "version_major": 2,
       "version_minor": 0
      },
      "text/plain": [
       "Training:   0%|          | 0/239 [00:00<?, ?it/s]"
      ]
     },
     "metadata": {},
     "output_type": "display_data"
    },
    {
     "name": "stdout",
     "output_type": "stream",
     "text": [
      "Epoch 13/20 - Avg Train Loss: 1.5536\n"
     ]
    },
    {
     "data": {
      "application/vnd.jupyter.widget-view+json": {
       "model_id": "0a004d19c4b249d7bed2943f78f6ac9a",
       "version_major": 2,
       "version_minor": 0
      },
      "text/plain": [
       "Validating:   0%|          | 0/9 [00:00<?, ?it/s]"
      ]
     },
     "metadata": {},
     "output_type": "display_data"
    },
    {
     "name": "stdout",
     "output_type": "stream",
     "text": [
      "Epoch 13/20 - Avg Validation Loss: 0.7452\n"
     ]
    },
    {
     "data": {
      "application/vnd.jupyter.widget-view+json": {
       "model_id": "f9c26740c3a7451ca546683df82fb795",
       "version_major": 2,
       "version_minor": 0
      },
      "text/plain": [
       "Training:   0%|          | 0/239 [00:00<?, ?it/s]"
      ]
     },
     "metadata": {},
     "output_type": "display_data"
    }
   ],
   "source": [
    "# --- 학습/검증 함수 정의 ---\n",
    "def forward_process_llada(input_ids, prompt_len_batch, mask_token_id, device, eps=1e-3):\n",
    "    b, l = input_ids.shape; t = torch.rand(b, device=device)\n",
    "    p_mask_ratio = (1 - eps) * t + eps; p_mask_per_token = p_mask_ratio[:, None].repeat(1, l)\n",
    "    masked_indices_all = torch.rand((b, l), device=device) < p_mask_per_token\n",
    "    token_positions = torch.arange(l, device=device).expand(b, l)\n",
    "    prompt_mask = token_positions < prompt_len_batch.unsqueeze(1)\n",
    "    final_masked_indices = masked_indices_all & (~prompt_mask)\n",
    "    noisy_batch = torch.where(final_masked_indices, mask_token_id, input_ids)\n",
    "    return noisy_batch, final_masked_indices, p_mask_per_token\n",
    "\n",
    "def train_epoch_fn_llada(model, dataloader, optim, device_obj, accum_steps):\n",
    "    model.train(); total_loss_epoch = 0.0\n",
    "    progress_bar_train = tqdm(dataloader, desc=f\"Training\", leave=False)\n",
    "    for batch_idx, batch in enumerate(progress_bar_train):\n",
    "        input_ids = batch['input_ids'].to(device_obj); prompt_len = batch['prompt_len'].to(device_obj)\n",
    "        noisy_batch, masked_indices, p_mask = forward_process_llada(input_ids, prompt_len, MASK_TOKEN_ID, device_obj)\n",
    "        if masked_indices.sum() == 0: continue\n",
    "        outputs = model(input_ids=noisy_batch); logits = outputs.logits\n",
    "        loss = F.cross_entropy(logits[masked_indices], input_ids[masked_indices], reduction='none')\n",
    "        final_batch_loss = (loss / p_mask[masked_indices]).mean()\n",
    "        loss_val_unscaled = final_batch_loss.item()\n",
    "        final_batch_loss_scaled = final_batch_loss / accum_steps\n",
    "        final_batch_loss_scaled.backward()\n",
    "        total_loss_epoch += loss_val_unscaled\n",
    "        if (batch_idx + 1) % accum_steps == 0 or (batch_idx + 1) == len(dataloader):\n",
    "            torch.nn.utils.clip_grad_norm_(model.parameters(), 1.0); optim.step(); optim.zero_grad()\n",
    "            progress_bar_train.set_postfix(loss=f\"{loss_val_unscaled:.4f}\")\n",
    "    return total_loss_epoch / len(dataloader) if len(dataloader) > 0 else 0.0\n",
    "\n",
    "def validate_epoch_fn_llada(model, dataloader, device_obj):\n",
    "    model.eval(); total_val_loss = 0.0\n",
    "    progress_bar_val = tqdm(dataloader, desc=\"Validating\", leave=False)\n",
    "    with torch.no_grad():\n",
    "        for batch in progress_bar_val:\n",
    "            input_ids = batch['input_ids'].to(device_obj); prompt_len = batch['prompt_len'].to(device_obj)\n",
    "            noisy_batch, masked_indices, p_mask = forward_process_llada(input_ids, prompt_len, MASK_TOKEN_ID, device_obj)\n",
    "            if masked_indices.sum() == 0: continue\n",
    "            outputs = model(input_ids=noisy_batch); logits = outputs.logits\n",
    "            loss = F.cross_entropy(logits[masked_indices], input_ids[masked_indices], reduction='none')\n",
    "            final_batch_loss_val = (loss / p_mask[masked_indices]).mean()\n",
    "            total_val_loss += final_batch_loss_val.item()\n",
    "    return total_val_loss / len(dataloader) if len(dataloader) > 0 else 0.0\n",
    "\n",
    "# --- 메인 학습 제어 ---\n",
    "os.makedirs(MODEL_SAVE_DIR, exist_ok=True); best_validation_loss = float('inf')\n",
    "train_losses_per_epoch = []; val_losses_per_epoch = []\n",
    "print(\"\\n--- LLaDA 파인튜닝 및 검증 루프 시작 ---\")\n",
    "for epoch in range(NUM_EPOCHS):\n",
    "    avg_train_loss = train_epoch_fn_llada(score_model, train_dataloader, optimizer, DEVICE, ACCUMULATION_STEPS)\n",
    "    train_losses_per_epoch.append(avg_train_loss)\n",
    "    print(f\"Epoch {epoch+1}/{NUM_EPOCHS} - Avg Train Loss: {avg_train_loss:.4f}\")\n",
    "    avg_val_loss = validate_epoch_fn_llada(score_model, val_dataloader, DEVICE)\n",
    "    val_losses_per_epoch.append(avg_val_loss)\n",
    "    print(f\"Epoch {epoch+1}/{NUM_EPOCHS} - Avg Validation Loss: {avg_val_loss:.4f}\")\n",
    "    if SAVE_MODEL_CONDITIONALLY and avg_val_loss < best_validation_loss:\n",
    "        best_validation_loss = avg_val_loss\n",
    "        score_model.save_pretrained(os.path.join(MODEL_SAVE_DIR, BEST_MODEL_FILENAME))\n",
    "        print(f\"Validation loss 개선! Best 모델(어댑터) 저장: {MODEL_SAVE_DIR}/{BEST_MODEL_FILENAME} (Val Loss: {best_validation_loss:.4f})\")\n",
    "print(\"\\n--- 파인튜닝 및 검증 루프 종료 ---\")\n",
    "tokenizer.save_pretrained(MODEL_SAVE_DIR); print(f\"토크나이저 저장 완료: {MODEL_SAVE_DIR}\")\n",
    "\n",
    "# --- 학습 Loss 그래프 ---\n",
    "plt.figure(figsize=(10, 6))\n",
    "epochs_range = range(1, len(train_losses_per_epoch) + 1)\n",
    "plt.plot(epochs_range, train_losses_per_epoch, label='Avg Train Loss', marker='o')\n",
    "plt.plot(epochs_range, val_losses_per_epoch, label='Avg Validation Loss', marker='x')\n",
    "plt.xlabel('Epoch'); plt.ylabel('Average Loss'); plt.title('Training and Validation Loss (LLaDA)')\n",
    "plt.xticks(epochs_range); plt.legend(); plt.grid(True)\n",
    "plt.savefig(os.path.join(MODEL_SAVE_DIR, \"llada_loss_plot.png\")); plt.show()"
   ]
  },
  {
   "cell_type": "code",
   "execution_count": 18,
   "id": "6dc06227-853d-4588-8240-015ca3aa2011",
   "metadata": {},
   "outputs": [
    {
     "name": "stdout",
     "output_type": "stream",
     "text": [
      "토크나이저 저장 완료: finetuned_llada_len1024_r4_v1\n"
     ]
    },
    {
     "data": {
      "image/png": "[encoded data removed]",
      "text/plain": [
       "<Figure size 1000x600 with 1 Axes>"
      ]
     },
     "metadata": {},
     "output_type": "display_data"
    }
   ],
   "source": [
    "tokenizer.save_pretrained(MODEL_SAVE_DIR); print(f\"토크나이저 저장 완료: {MODEL_SAVE_DIR}\")\n",
    "# --- 학습 Loss 그래프 ---\n",
    "plt.figure(figsize=(10, 6))\n",
    "epochs_range = range(1, len(train_losses_per_epoch) + 1)\n",
    "plt.plot(epochs_range, train_losses_per_epoch, label='Avg Train Loss', marker='o')\n",
    "plt.plot(epochs_range, val_losses_per_epoch, label='Avg Validation Loss', marker='x')\n",
    "plt.xlabel('Epoch'); plt.ylabel('Average Loss'); plt.title('Training and Validation Loss (LLaDA)')\n",
    "plt.xticks(epochs_range); plt.legend(); plt.grid(True)\n",
    "plt.savefig(os.path.join(MODEL_SAVE_DIR, \"llada_loss_plot.png\")); plt.show()"
   ]
  },
  {
   "cell_type": "code",
   "execution_count": 19,
   "id": "a2aee0f4-a854-43c7-8c97-f92060d6d1f8",
   "metadata": {},
   "outputs": [
    {
     "name": "stdout",
     "output_type": "stream",
     "text": [
      "\n",
      "--- 추론 모델 로드 ---\n"
     ]
    },
    {
     "data": {
      "application/vnd.jupyter.widget-view+json": {
       "model_id": "bf55b8e464564337a87a5057a6e06939",
       "version_major": 2,
       "version_minor": 0
      },
      "text/plain": [
       "Loading checkpoint shards:   0%|          | 0/6 [00:00<?, ?it/s]"
      ]
     },
     "metadata": {},
     "output_type": "display_data"
    },
    {
     "name": "stderr",
     "output_type": "stream",
     "text": [
      "/usr/local/lib/python3.10/dist-packages/peft/tuners/lora/bnb.py:351: UserWarning: Merge lora module to 4-bit linear may get different generations due to rounding errors.\n",
      "  warnings.warn(\n"
     ]
    },
    {
     "name": "stdout",
     "output_type": "stream",
     "text": [
      "Best 어댑터 (finetuned_llada_len1024_r4_v1/best_model_adapter) 결합 완료.\n",
      "\n",
      "'sampledata/val.csv' 데이터 로딩 및 전처리 시작...\n",
      "토큰 길이 > 1024 인 샘플 114개 제외. 남은 샘플 수: 9\n",
      "'sampledata/val.csv' 전처리 완료. 최종 샘플 수: 9\n",
      "추론 Prefix 토큰 길이: 568, 생성할 최대 Order 길이: 448 (조정됨)\n",
      "\n",
      "추론 시작...\n",
      "\n",
      "--- 생성된 생산 계획 (Order 부분) ---\n",
      "#\n",
      "----------------------------------------------------------------------\n"
     ]
    }
   ],
   "source": [
    "# 셀 3: 추론 코드 (수정됨)\n",
    "\n",
    "# LLaDA 레포지토리의 generate.py가 현재 작업 경로에 있다고 가정\n",
    "try:\n",
    "    from generate import generate\n",
    "except ImportError:\n",
    "    print(\"오류: generate.py를 찾을 수 없습니다. LLaDA 레포지토리의 파일을 현재 작업 디렉토리에 위치시켜주세요.\"); raise\n",
    "\n",
    "# --- 설정값 ---\n",
    "SAVED_ADAPTER_DIR = os.path.join(MODEL_SAVE_DIR, BEST_MODEL_FILENAME)\n",
    "DATA_FILE_PATH_INFER = 'sampledata/val.csv' # 또는 'sampledata/test.csv'\n",
    "DEVICE_INFER = DEVICE\n",
    "MAX_SEQ_LENGTH_INFER = MAX_SEQ_LENGTH\n",
    "\n",
    "# --- Base 모델 및 LoRA 어댑터 결합 ---\n",
    "print(\"\\n--- 추론 모델 로드 ---\")\n",
    "try:\n",
    "    base_model_for_inference = AutoModel.from_pretrained(\n",
    "        \"GSAI-ML/LLaDA-8B-Base\", trust_remote_code=True,\n",
    "        quantization_config=BitsAndBytesConfig(load_in_4bit=True, bnb_4bit_quant_type=\"nf4\", bnb_4bit_compute_dtype=torch.bfloat16),\n",
    "        device_map={\"\":0}\n",
    "    )\n",
    "    inference_model = PeftModel.from_pretrained(base_model_for_inference, SAVED_ADAPTER_DIR)\n",
    "    inference_model = inference_model.merge_and_unload()\n",
    "    inference_model.eval()\n",
    "    print(f\"Best 어댑터 ({SAVED_ADAPTER_DIR}) 결합 완료.\")\n",
    "except Exception as e: print(f\"추론 모델 로드 중 오류: {e}\"); raise\n",
    "\n",
    "# --- Infilling 추론 실행 ---\n",
    "try:\n",
    "    # <<<<<<<<<<<<<<<< 핵심 수정: 추론용 데이터도 동일하게 전처리 및 필터링 >>>>>>>>>>>>>\n",
    "    df_infer_source_filtered = load_and_preprocess_llada_data(DATA_FILE_PATH_INFER, tokenizer, MAX_SEQ_LENGTH, SEP_TOKEN_STR, is_train=True)\n",
    "    # is_train=True를 사용하여 val/test 셋에서도 긴 샘플을 필터링합니다.\n",
    "    # <<<<<<<<<<<<<<<<<<<<<<<<<<<<<<<<<<<<<<<<<<<<<<<<<<<<<<<<<<<<<<<<<<<<<<<<<<<<\n",
    "\n",
    "    if not df_infer_source_filtered.empty:\n",
    "        # 필터링된 데이터에서 추론할 샘플 선택 (예: 첫 번째 샘플)\n",
    "        example_conditioning_text_infer = str(df_infer_source_filtered.iloc[0]['conditioning_text'])\n",
    "        prefix_text_infer = example_conditioning_text_infer + SEP_TOKEN_STR\n",
    "        \n",
    "        prompt_ids = tokenizer(prefix_text_infer, return_tensors=\"pt\", add_special_tokens=False).input_ids.to(DEVICE_INFER)\n",
    "\n",
    "        num_prefix_tokens = prompt_ids.shape[1]\n",
    "        \n",
    "        # <<<<<<<<<<<<<<<<<<<< 핵심 수정 >>>>>>>>>>>>>>>>>\n",
    "        # 1. 생성할 기본 길이를 계산\n",
    "        raw_gen_length = MAX_SEQ_LENGTH_INFER - num_prefix_tokens\n",
    "        \n",
    "        # 2. block_length를 정의 (하드코딩된 32 대신 변수로)\n",
    "        block_length_infer = 32\n",
    "        \n",
    "        # 3. gen_length를 block_length의 배수가 되도록 내림(버림) 처리\n",
    "        gen_length = (raw_gen_length // block_length_infer) * block_length_infer\n",
    "        # <<<<<<<<<<<<<<<<<<<<<<<<<<<<<<<<<<<<<<<<<<<\n",
    "\n",
    "        if gen_length > 0:\n",
    "            print(f\"추론 Prefix 토큰 길이: {num_prefix_tokens}, 생성할 최대 Order 길이: {gen_length} (조정됨)\")\n",
    "            print(\"\\n추론 시작...\")\n",
    "            \n",
    "            generated_ids = generate(\n",
    "                inference_model, \n",
    "                prompt_ids,\n",
    "                steps=min(gen_length // 2, 256), \n",
    "                gen_length=gen_length, # 조정된 gen_length 사용\n",
    "                block_length=block_length_infer, # 변수 사용\n",
    "                temperature=0.0, \n",
    "                cfg_scale=0.0,\n",
    "                remasking='low_confidence',\n",
    "                mask_id=MASK_TOKEN_ID\n",
    "            )\n",
    "            # <<<<<<<<<<<<<<<<<<<<<<<<<<<<<<<<<<<<<<<<<<<\n",
    "\n",
    "            print(\"\\n--- 생성된 생산 계획 (Order 부분) ---\")\n",
    "            # 디코딩은 generate 함수 호출 후에 수행하므로 이 부분은 문제 없음\n",
    "            order_part_text = tokenizer.decode(generated_ids[0, num_prefix_tokens:], skip_special_tokens=True)\n",
    "            print(order_part_text.strip())\n",
    "            print(\"-\" * 70)\n",
    "        else:\n",
    "            print(f\"오류: Prefix 길이({num_prefix_tokens})가 너무 길어 생성할 공간이 없습니다. (필터링 후에도 발생 시 데이터 확인 필요)\")\n",
    "    else:\n",
    "        print(f\"'{DATA_FILE_PATH_INFER}' 파일에서 1024 토큰 이하의 샘플을 찾을 수 없습니다.\")\n",
    "except Exception as e_inf: print(f\"추론 중 오류 발생: {e_inf}\"); import traceback; traceback.print_exc()"
   ]
  },
  {
   "cell_type": "code",
   "execution_count": 12,
   "id": "00d389b3-2318-47d3-a9b6-555a899a530c",
   "metadata": {},
   "outputs": [],
   "source": []
  }
 ],
 "metadata": {
  "kernelspec": {
   "display_name": "Python 3 (ipykernel)",
   "language": "python",
   "name": "python3"
  },
  "language_info": {
   "codemirror_mode": {
    "name": "ipython",
    "version": 3
   },
   "file_extension": ".py",
   "mimetype": "text/x-python",
   "name": "python",
   "nbconvert_exporter": "python",
   "pygments_lexer": "ipython3",
   "version": "3.10.12"
  }
 },
 "nbformat": 4,
 "nbformat_minor": 5
}
