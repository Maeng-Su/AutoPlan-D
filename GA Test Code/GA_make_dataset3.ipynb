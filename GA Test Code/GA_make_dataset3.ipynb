{
 "cells": [
  {
   "cell_type": "code",
   "execution_count": 1,
   "id": "18db631d",
   "metadata": {},
   "outputs": [],
   "source": [
    "# !pip install pandas\t\n",
    "# !pip install numpy\n",
    "# !pip install tqdm\t\n",
    "# !pip install matplotlib"
   ]
  },
  {
   "cell_type": "code",
   "execution_count": 1,
   "id": "c99df847",
   "metadata": {},
   "outputs": [],
   "source": [
    "# 라이브러리\n",
    "import random\n",
    "import datetime\n",
    "import pandas as pd\n",
    "import numpy as np\n",
    "import matplotlib.pyplot as plt\n",
    "from tqdm import tqdm\n",
    "from numpy.random import randint, rand"
   ]
  },
  {
   "cell_type": "code",
   "execution_count": 112,
   "id": "92011789",
   "metadata": {},
   "outputs": [],
   "source": [
    "# 데이터 불러오기\n",
    "machine_info = pd.read_csv(\"./data/machine_info.csv\")\n",
    "order_info = pd.read_csv(\"./data/order_info.csv\")\n",
    "order_info_nl = pd.read_csv(\"./data/order_info_nl.csv\", header=None)\n",
    "order_info_nl_eng = pd.read_csv(\"./data/order_info_nl_eng.csv\")"
   ]
  },
  {
   "cell_type": "code",
   "execution_count": 113,
   "id": "46be5b2a",
   "metadata": {},
   "outputs": [],
   "source": [
    "order_info_nl.columns = ['영업납기', '중산도면', '단가', '수량', '선급', '자연어주문']"
   ]
  },
  {
   "cell_type": "code",
   "execution_count": 114,
   "id": "a8a6ce63",
   "metadata": {},
   "outputs": [],
   "source": [
    "# 전처리 (1): column name 변경\n",
    "order_info = order_info.rename(columns={\n",
    "    '영업납기': 'time',\n",
    "    '중산도면': 'item',\n",
    "    '단가': 'cost',\n",
    "    '수량': 'qty',\n",
    "    '선급': 'urgent'\n",
    "})\n",
    "\n",
    "machine_info = machine_info.rename(columns={\n",
    "    'JSDWG': 'item',\n",
    "    'MCNO': 'machine',\n",
    "    'AVG_CT': 'capacity'\n",
    "})\n",
    "\n",
    "order_info_nl = order_info_nl.rename(columns={\n",
    "    '영업납기': 'time',\n",
    "    '중산도면': 'item',\n",
    "    '단가': 'cost',\n",
    "    '수량': 'qty',\n",
    "    '선급': 'urgent',\n",
    "    '자연어주문': 'nl_order'\n",
    "})\n",
    "\n",
    "order_info_nl_eng.columns = ['nl_order']"
   ]
  },
  {
   "cell_type": "code",
   "execution_count": 115,
   "id": "dc21eb80",
   "metadata": {},
   "outputs": [],
   "source": [
    "# 머신인포 dropna, 4자리 숫자 문자열로 변환\n",
    "machine_info.dropna(inplace=True)\n",
    "machine_info['machine'] = machine_info['machine'].apply(lambda x: str(int(x)).zfill(4))"
   ]
  },
  {
   "cell_type": "code",
   "execution_count": 116,
   "id": "7fe49952",
   "metadata": {},
   "outputs": [],
   "source": [
    "# 아이템 -> item01\n",
    "# qty -> 그대로\n",
    "# 날짜 -> 일수(날짜 - 2021-01-01) date001(1~365) / 자연어는 수정X\n",
    "# 선급 -> 일단 자연어 그대로\n",
    "# cost -> 일단 그대로\n",
    "# machine -> machine01\n",
    "# capacity -> 일단 그대로"
   ]
  },
  {
   "cell_type": "code",
   "execution_count": 117,
   "id": "632988a1",
   "metadata": {},
   "outputs": [
    {
     "data": {
      "text/plain": [
       "'item87'"
      ]
     },
     "execution_count": 117,
     "metadata": {},
     "output_type": "execute_result"
    }
   ],
   "source": [
    "# 아이템 -> item01\n",
    "unique_items = sorted(order_info['item'].unique(), reverse=True)\n",
    "\n",
    "items_mapping = {\n",
    "        item: f\"item{str(i+1).zfill(2)}\"\n",
    "        for i, item in enumerate(unique_items)\n",
    "    }\n",
    "\n",
    "def change_item_name(target):\n",
    "    result = str(target)\n",
    "    for k, v in items_mapping.items():\n",
    "        result = result.replace(k, v)\n",
    "\n",
    "    return result\n",
    "\n",
    "change_item_name('057791')"
   ]
  },
  {
   "cell_type": "code",
   "execution_count": 118,
   "id": "b70cf953",
   "metadata": {},
   "outputs": [
    {
     "data": {
      "text/plain": [
       "897      item96\n",
       "898      item96\n",
       "899      item96\n",
       "900      item96\n",
       "901      item96\n",
       "          ...  \n",
       "21133    item01\n",
       "21134    item01\n",
       "21135    item01\n",
       "21136    item01\n",
       "21137    item01\n",
       "Name: item, Length: 688, dtype: object"
      ]
     },
     "execution_count": 118,
     "metadata": {},
     "output_type": "execute_result"
    }
   ],
   "source": [
    "cond = machine_info['item'].isin(unique_items)\n",
    "machine_info['item'][cond]\n",
    "machine_info['item'][cond].apply(change_item_name)"
   ]
  },
  {
   "cell_type": "code",
   "execution_count": 119,
   "id": "5ccd8d06",
   "metadata": {},
   "outputs": [
    {
     "data": {
      "text/html": [
       "<div>\n",
       "<style scoped>\n",
       "    .dataframe tbody tr th:only-of-type {\n",
       "        vertical-align: middle;\n",
       "    }\n",
       "\n",
       "    .dataframe tbody tr th {\n",
       "        vertical-align: top;\n",
       "    }\n",
       "\n",
       "    .dataframe thead th {\n",
       "        text-align: right;\n",
       "    }\n",
       "</style>\n",
       "<table border=\"1\" class=\"dataframe\">\n",
       "  <thead>\n",
       "    <tr style=\"text-align: right;\">\n",
       "      <th></th>\n",
       "      <th>item</th>\n",
       "      <th>machine</th>\n",
       "      <th>capacity</th>\n",
       "    </tr>\n",
       "  </thead>\n",
       "  <tbody>\n",
       "    <tr>\n",
       "      <th>897</th>\n",
       "      <td>item96</td>\n",
       "      <td>0408</td>\n",
       "      <td>4.89</td>\n",
       "    </tr>\n",
       "    <tr>\n",
       "      <th>898</th>\n",
       "      <td>item96</td>\n",
       "      <td>0409</td>\n",
       "      <td>5.92</td>\n",
       "    </tr>\n",
       "    <tr>\n",
       "      <th>899</th>\n",
       "      <td>item96</td>\n",
       "      <td>0410</td>\n",
       "      <td>4.91</td>\n",
       "    </tr>\n",
       "    <tr>\n",
       "      <th>900</th>\n",
       "      <td>item96</td>\n",
       "      <td>0412</td>\n",
       "      <td>3.50</td>\n",
       "    </tr>\n",
       "    <tr>\n",
       "      <th>901</th>\n",
       "      <td>item96</td>\n",
       "      <td>0416</td>\n",
       "      <td>1.03</td>\n",
       "    </tr>\n",
       "  </tbody>\n",
       "</table>\n",
       "</div>"
      ],
      "text/plain": [
       "       item machine  capacity\n",
       "897  item96    0408      4.89\n",
       "898  item96    0409      5.92\n",
       "899  item96    0410      4.91\n",
       "900  item96    0412      3.50\n",
       "901  item96    0416      1.03"
      ]
     },
     "execution_count": 119,
     "metadata": {},
     "output_type": "execute_result"
    }
   ],
   "source": [
    "machine_info['item'] = machine_info['item'].apply(change_item_name)\n",
    "cond = machine_info['item'].isin(items_mapping.values())\n",
    "machine_info[cond].head()"
   ]
  },
  {
   "cell_type": "code",
   "execution_count": 120,
   "id": "e3650860",
   "metadata": {},
   "outputs": [
    {
     "data": {
      "text/html": [
       "<div>\n",
       "<style scoped>\n",
       "    .dataframe tbody tr th:only-of-type {\n",
       "        vertical-align: middle;\n",
       "    }\n",
       "\n",
       "    .dataframe tbody tr th {\n",
       "        vertical-align: top;\n",
       "    }\n",
       "\n",
       "    .dataframe thead th {\n",
       "        text-align: right;\n",
       "    }\n",
       "</style>\n",
       "<table border=\"1\" class=\"dataframe\">\n",
       "  <thead>\n",
       "    <tr style=\"text-align: right;\">\n",
       "      <th></th>\n",
       "      <th>time</th>\n",
       "      <th>item</th>\n",
       "      <th>cost</th>\n",
       "      <th>qty</th>\n",
       "      <th>urgent</th>\n",
       "    </tr>\n",
       "  </thead>\n",
       "  <tbody>\n",
       "    <tr>\n",
       "      <th>0</th>\n",
       "      <td>2021-05-13</td>\n",
       "      <td>item15</td>\n",
       "      <td>25870</td>\n",
       "      <td>318</td>\n",
       "      <td>검사품</td>\n",
       "    </tr>\n",
       "    <tr>\n",
       "      <th>1</th>\n",
       "      <td>2021-05-24</td>\n",
       "      <td>item16</td>\n",
       "      <td>16229</td>\n",
       "      <td>383</td>\n",
       "      <td>검사품</td>\n",
       "    </tr>\n",
       "    <tr>\n",
       "      <th>2</th>\n",
       "      <td>2021-05-30</td>\n",
       "      <td>item96</td>\n",
       "      <td>8333</td>\n",
       "      <td>19</td>\n",
       "      <td>NaN</td>\n",
       "    </tr>\n",
       "    <tr>\n",
       "      <th>3</th>\n",
       "      <td>2021-06-03</td>\n",
       "      <td>item91</td>\n",
       "      <td>36533</td>\n",
       "      <td>4</td>\n",
       "      <td>NaN</td>\n",
       "    </tr>\n",
       "    <tr>\n",
       "      <th>4</th>\n",
       "      <td>2021-06-18</td>\n",
       "      <td>item87</td>\n",
       "      <td>45500</td>\n",
       "      <td>196</td>\n",
       "      <td>검사품</td>\n",
       "    </tr>\n",
       "  </tbody>\n",
       "</table>\n",
       "</div>"
      ],
      "text/plain": [
       "         time    item   cost  qty urgent\n",
       "0  2021-05-13  item15  25870  318    검사품\n",
       "1  2021-05-24  item16  16229  383    검사품\n",
       "2  2021-05-30  item96   8333   19    NaN\n",
       "3  2021-06-03  item91  36533    4    NaN\n",
       "4  2021-06-18  item87  45500  196    검사품"
      ]
     },
     "execution_count": 120,
     "metadata": {},
     "output_type": "execute_result"
    }
   ],
   "source": [
    "order_info['item'] = order_info['item'].apply(change_item_name)\n",
    "order_info.head()"
   ]
  },
  {
   "cell_type": "code",
   "execution_count": 121,
   "id": "203b831e",
   "metadata": {},
   "outputs": [
    {
     "data": {
      "text/html": [
       "<div>\n",
       "<style scoped>\n",
       "    .dataframe tbody tr th:only-of-type {\n",
       "        vertical-align: middle;\n",
       "    }\n",
       "\n",
       "    .dataframe tbody tr th {\n",
       "        vertical-align: top;\n",
       "    }\n",
       "\n",
       "    .dataframe thead th {\n",
       "        text-align: right;\n",
       "    }\n",
       "</style>\n",
       "<table border=\"1\" class=\"dataframe\">\n",
       "  <thead>\n",
       "    <tr style=\"text-align: right;\">\n",
       "      <th></th>\n",
       "      <th>time</th>\n",
       "      <th>item</th>\n",
       "      <th>cost</th>\n",
       "      <th>qty</th>\n",
       "      <th>urgent</th>\n",
       "      <th>nl_order</th>\n",
       "    </tr>\n",
       "  </thead>\n",
       "  <tbody>\n",
       "    <tr>\n",
       "      <th>0</th>\n",
       "      <td>2021-05-13</td>\n",
       "      <td>item15</td>\n",
       "      <td>25870</td>\n",
       "      <td>318</td>\n",
       "      <td>검사품</td>\n",
       "      <td>K04033 맞지? 318개 하는거? 21년 5월 13일까지 하면 되구 단가가 25...</td>\n",
       "    </tr>\n",
       "    <tr>\n",
       "      <th>1</th>\n",
       "      <td>2021-05-24</td>\n",
       "      <td>item16</td>\n",
       "      <td>16229</td>\n",
       "      <td>383</td>\n",
       "      <td>검사품</td>\n",
       "      <td>헐 방금 K04031 도면 왔는데 21년 5월 24일까지래. 383개 해야되구 16...</td>\n",
       "    </tr>\n",
       "    <tr>\n",
       "      <th>2</th>\n",
       "      <td>2021-05-30</td>\n",
       "      <td>item96</td>\n",
       "      <td>8333</td>\n",
       "      <td>19</td>\n",
       "      <td>NaN</td>\n",
       "      <td>저기 051718 도면 19개 해야돼. 21년 5월 30일까지구 8,333원. 그리...</td>\n",
       "    </tr>\n",
       "    <tr>\n",
       "      <th>3</th>\n",
       "      <td>2021-06-03</td>\n",
       "      <td>item91</td>\n",
       "      <td>36533</td>\n",
       "      <td>4</td>\n",
       "      <td>NaN</td>\n",
       "      <td>어우 빨리 봐봐. 056984 4개 21년 6월 3일까지 해야되는데 어떡하지? 단가...</td>\n",
       "    </tr>\n",
       "    <tr>\n",
       "      <th>4</th>\n",
       "      <td>2021-06-18</td>\n",
       "      <td>item87</td>\n",
       "      <td>45500</td>\n",
       "      <td>196</td>\n",
       "      <td>검사품</td>\n",
       "      <td>057791 맞지? 196개 하는거? 21년 6월 18일까지 하면 되구 단가가 45...</td>\n",
       "    </tr>\n",
       "  </tbody>\n",
       "</table>\n",
       "</div>"
      ],
      "text/plain": [
       "         time    item   cost  qty urgent  \\\n",
       "0  2021-05-13  item15  25870  318    검사품   \n",
       "1  2021-05-24  item16  16229  383    검사품   \n",
       "2  2021-05-30  item96   8333   19    NaN   \n",
       "3  2021-06-03  item91  36533    4    NaN   \n",
       "4  2021-06-18  item87  45500  196    검사품   \n",
       "\n",
       "                                            nl_order  \n",
       "0  K04033 맞지? 318개 하는거? 21년 5월 13일까지 하면 되구 단가가 25...  \n",
       "1  헐 방금 K04031 도면 왔는데 21년 5월 24일까지래. 383개 해야되구 16...  \n",
       "2  저기 051718 도면 19개 해야돼. 21년 5월 30일까지구 8,333원. 그리...  \n",
       "3  어우 빨리 봐봐. 056984 4개 21년 6월 3일까지 해야되는데 어떡하지? 단가...  \n",
       "4  057791 맞지? 196개 하는거? 21년 6월 18일까지 하면 되구 단가가 45...  "
      ]
     },
     "execution_count": 121,
     "metadata": {},
     "output_type": "execute_result"
    }
   ],
   "source": [
    "order_info_nl['item'] = order_info_nl['item'].apply(change_item_name)\n",
    "order_info_nl.head()"
   ]
  },
  {
   "cell_type": "code",
   "execution_count": 122,
   "id": "b0e62f8b",
   "metadata": {},
   "outputs": [
    {
     "data": {
      "text/html": [
       "<div>\n",
       "<style scoped>\n",
       "    .dataframe tbody tr th:only-of-type {\n",
       "        vertical-align: middle;\n",
       "    }\n",
       "\n",
       "    .dataframe tbody tr th {\n",
       "        vertical-align: top;\n",
       "    }\n",
       "\n",
       "    .dataframe thead th {\n",
       "        text-align: right;\n",
       "    }\n",
       "</style>\n",
       "<table border=\"1\" class=\"dataframe\">\n",
       "  <thead>\n",
       "    <tr style=\"text-align: right;\">\n",
       "      <th></th>\n",
       "      <th>time</th>\n",
       "      <th>item</th>\n",
       "      <th>cost</th>\n",
       "      <th>qty</th>\n",
       "      <th>urgent</th>\n",
       "      <th>nl_order</th>\n",
       "    </tr>\n",
       "  </thead>\n",
       "  <tbody>\n",
       "    <tr>\n",
       "      <th>0</th>\n",
       "      <td>2021-05-13</td>\n",
       "      <td>item15</td>\n",
       "      <td>25870</td>\n",
       "      <td>318</td>\n",
       "      <td>검사품</td>\n",
       "      <td>item15 맞지? 318개 하는거? 21년 5월 13일까지 하면 되구 단가가 25...</td>\n",
       "    </tr>\n",
       "    <tr>\n",
       "      <th>1</th>\n",
       "      <td>2021-05-24</td>\n",
       "      <td>item16</td>\n",
       "      <td>16229</td>\n",
       "      <td>383</td>\n",
       "      <td>검사품</td>\n",
       "      <td>헐 방금 item16 도면 왔는데 21년 5월 24일까지래. 383개 해야되구 16...</td>\n",
       "    </tr>\n",
       "    <tr>\n",
       "      <th>2</th>\n",
       "      <td>2021-05-30</td>\n",
       "      <td>item96</td>\n",
       "      <td>8333</td>\n",
       "      <td>19</td>\n",
       "      <td>NaN</td>\n",
       "      <td>저기 item96 도면 19개 해야돼. 21년 5월 30일까지구 8,333원. 그리...</td>\n",
       "    </tr>\n",
       "    <tr>\n",
       "      <th>3</th>\n",
       "      <td>2021-06-03</td>\n",
       "      <td>item91</td>\n",
       "      <td>36533</td>\n",
       "      <td>4</td>\n",
       "      <td>NaN</td>\n",
       "      <td>어우 빨리 봐봐. item91 4개 21년 6월 3일까지 해야되는데 어떡하지? 단가...</td>\n",
       "    </tr>\n",
       "    <tr>\n",
       "      <th>4</th>\n",
       "      <td>2021-06-18</td>\n",
       "      <td>item87</td>\n",
       "      <td>45500</td>\n",
       "      <td>196</td>\n",
       "      <td>검사품</td>\n",
       "      <td>item87 맞지? 196개 하는거? 21년 6월 18일까지 하면 되구 단가가 45...</td>\n",
       "    </tr>\n",
       "  </tbody>\n",
       "</table>\n",
       "</div>"
      ],
      "text/plain": [
       "         time    item   cost  qty urgent  \\\n",
       "0  2021-05-13  item15  25870  318    검사품   \n",
       "1  2021-05-24  item16  16229  383    검사품   \n",
       "2  2021-05-30  item96   8333   19    NaN   \n",
       "3  2021-06-03  item91  36533    4    NaN   \n",
       "4  2021-06-18  item87  45500  196    검사품   \n",
       "\n",
       "                                            nl_order  \n",
       "0  item15 맞지? 318개 하는거? 21년 5월 13일까지 하면 되구 단가가 25...  \n",
       "1  헐 방금 item16 도면 왔는데 21년 5월 24일까지래. 383개 해야되구 16...  \n",
       "2  저기 item96 도면 19개 해야돼. 21년 5월 30일까지구 8,333원. 그리...  \n",
       "3  어우 빨리 봐봐. item91 4개 21년 6월 3일까지 해야되는데 어떡하지? 단가...  \n",
       "4  item87 맞지? 196개 하는거? 21년 6월 18일까지 하면 되구 단가가 45...  "
      ]
     },
     "execution_count": 122,
     "metadata": {},
     "output_type": "execute_result"
    }
   ],
   "source": [
    "order_info_nl['nl_order'] = order_info_nl['nl_order'].apply(change_item_name)\n",
    "order_info_nl.head()"
   ]
  },
  {
   "cell_type": "code",
   "execution_count": 123,
   "id": "8dbe7c89",
   "metadata": {},
   "outputs": [
    {
     "data": {
      "text/html": [
       "<div>\n",
       "<style scoped>\n",
       "    .dataframe tbody tr th:only-of-type {\n",
       "        vertical-align: middle;\n",
       "    }\n",
       "\n",
       "    .dataframe tbody tr th {\n",
       "        vertical-align: top;\n",
       "    }\n",
       "\n",
       "    .dataframe thead th {\n",
       "        text-align: right;\n",
       "    }\n",
       "</style>\n",
       "<table border=\"1\" class=\"dataframe\">\n",
       "  <thead>\n",
       "    <tr style=\"text-align: right;\">\n",
       "      <th></th>\n",
       "      <th>nl_order</th>\n",
       "    </tr>\n",
       "  </thead>\n",
       "  <tbody>\n",
       "    <tr>\n",
       "      <th>0</th>\n",
       "      <td>item15, right? 318? You can do it by May 13th,...</td>\n",
       "    </tr>\n",
       "    <tr>\n",
       "      <th>1</th>\n",
       "      <td>Oh, I just got the item16 drawing, and it says...</td>\n",
       "    </tr>\n",
       "    <tr>\n",
       "      <th>2</th>\n",
       "      <td>There, I need to do 19 drawings for item96. It...</td>\n",
       "    </tr>\n",
       "    <tr>\n",
       "      <th>3</th>\n",
       "      <td>Hey, look quickly. item91 4 I have to do it by...</td>\n",
       "    </tr>\n",
       "    <tr>\n",
       "      <th>4</th>\n",
       "      <td>item87, right? Doing 196? You can do it until ...</td>\n",
       "    </tr>\n",
       "  </tbody>\n",
       "</table>\n",
       "</div>"
      ],
      "text/plain": [
       "                                            nl_order\n",
       "0  item15, right? 318? You can do it by May 13th,...\n",
       "1  Oh, I just got the item16 drawing, and it says...\n",
       "2  There, I need to do 19 drawings for item96. It...\n",
       "3  Hey, look quickly. item91 4 I have to do it by...\n",
       "4  item87, right? Doing 196? You can do it until ..."
      ]
     },
     "execution_count": 123,
     "metadata": {},
     "output_type": "execute_result"
    }
   ],
   "source": [
    "order_info_nl_eng['nl_order'] = order_info_nl_eng['nl_order'].apply(change_item_name)\n",
    "order_info_nl_eng.head()"
   ]
  },
  {
   "cell_type": "code",
   "execution_count": 124,
   "id": "8e9b554d",
   "metadata": {},
   "outputs": [
    {
     "data": {
      "text/plain": [
       "'date001'"
      ]
     },
     "execution_count": 124,
     "metadata": {},
     "output_type": "execute_result"
    }
   ],
   "source": [
    "# 날짜 -> 일수(날짜 - 2021-01-01) (1~365)\n",
    "def change_time_name(target):\n",
    "    time = pd.to_datetime(target)\n",
    "    base_date = pd.to_datetime('2021-01-01')\n",
    "\n",
    "    return f'date{str((time-base_date).days+1).zfill(3)}'\n",
    "\n",
    "change_time_name('2021-01-01')"
   ]
  },
  {
   "cell_type": "code",
   "execution_count": 125,
   "id": "667335f3",
   "metadata": {},
   "outputs": [
    {
     "data": {
      "text/html": [
       "<div>\n",
       "<style scoped>\n",
       "    .dataframe tbody tr th:only-of-type {\n",
       "        vertical-align: middle;\n",
       "    }\n",
       "\n",
       "    .dataframe tbody tr th {\n",
       "        vertical-align: top;\n",
       "    }\n",
       "\n",
       "    .dataframe thead th {\n",
       "        text-align: right;\n",
       "    }\n",
       "</style>\n",
       "<table border=\"1\" class=\"dataframe\">\n",
       "  <thead>\n",
       "    <tr style=\"text-align: right;\">\n",
       "      <th></th>\n",
       "      <th>time</th>\n",
       "      <th>item</th>\n",
       "      <th>cost</th>\n",
       "      <th>qty</th>\n",
       "      <th>urgent</th>\n",
       "    </tr>\n",
       "  </thead>\n",
       "  <tbody>\n",
       "    <tr>\n",
       "      <th>0</th>\n",
       "      <td>date133</td>\n",
       "      <td>item15</td>\n",
       "      <td>25870</td>\n",
       "      <td>318</td>\n",
       "      <td>검사품</td>\n",
       "    </tr>\n",
       "    <tr>\n",
       "      <th>1</th>\n",
       "      <td>date144</td>\n",
       "      <td>item16</td>\n",
       "      <td>16229</td>\n",
       "      <td>383</td>\n",
       "      <td>검사품</td>\n",
       "    </tr>\n",
       "    <tr>\n",
       "      <th>2</th>\n",
       "      <td>date150</td>\n",
       "      <td>item96</td>\n",
       "      <td>8333</td>\n",
       "      <td>19</td>\n",
       "      <td>NaN</td>\n",
       "    </tr>\n",
       "    <tr>\n",
       "      <th>3</th>\n",
       "      <td>date154</td>\n",
       "      <td>item91</td>\n",
       "      <td>36533</td>\n",
       "      <td>4</td>\n",
       "      <td>NaN</td>\n",
       "    </tr>\n",
       "    <tr>\n",
       "      <th>4</th>\n",
       "      <td>date169</td>\n",
       "      <td>item87</td>\n",
       "      <td>45500</td>\n",
       "      <td>196</td>\n",
       "      <td>검사품</td>\n",
       "    </tr>\n",
       "  </tbody>\n",
       "</table>\n",
       "</div>"
      ],
      "text/plain": [
       "      time    item   cost  qty urgent\n",
       "0  date133  item15  25870  318    검사품\n",
       "1  date144  item16  16229  383    검사품\n",
       "2  date150  item96   8333   19    NaN\n",
       "3  date154  item91  36533    4    NaN\n",
       "4  date169  item87  45500  196    검사품"
      ]
     },
     "execution_count": 125,
     "metadata": {},
     "output_type": "execute_result"
    }
   ],
   "source": [
    "order_info['time'] = order_info['time'].apply(change_time_name)\n",
    "order_info.head()"
   ]
  },
  {
   "cell_type": "code",
   "execution_count": 126,
   "id": "a27c502e",
   "metadata": {},
   "outputs": [
    {
     "data": {
      "text/html": [
       "<div>\n",
       "<style scoped>\n",
       "    .dataframe tbody tr th:only-of-type {\n",
       "        vertical-align: middle;\n",
       "    }\n",
       "\n",
       "    .dataframe tbody tr th {\n",
       "        vertical-align: top;\n",
       "    }\n",
       "\n",
       "    .dataframe thead th {\n",
       "        text-align: right;\n",
       "    }\n",
       "</style>\n",
       "<table border=\"1\" class=\"dataframe\">\n",
       "  <thead>\n",
       "    <tr style=\"text-align: right;\">\n",
       "      <th></th>\n",
       "      <th>time</th>\n",
       "      <th>item</th>\n",
       "      <th>cost</th>\n",
       "      <th>qty</th>\n",
       "      <th>urgent</th>\n",
       "      <th>nl_order</th>\n",
       "    </tr>\n",
       "  </thead>\n",
       "  <tbody>\n",
       "    <tr>\n",
       "      <th>0</th>\n",
       "      <td>date133</td>\n",
       "      <td>item15</td>\n",
       "      <td>25870</td>\n",
       "      <td>318</td>\n",
       "      <td>검사품</td>\n",
       "      <td>item15 맞지? 318개 하는거? 21년 5월 13일까지 하면 되구 단가가 25...</td>\n",
       "    </tr>\n",
       "    <tr>\n",
       "      <th>1</th>\n",
       "      <td>date144</td>\n",
       "      <td>item16</td>\n",
       "      <td>16229</td>\n",
       "      <td>383</td>\n",
       "      <td>검사품</td>\n",
       "      <td>헐 방금 item16 도면 왔는데 21년 5월 24일까지래. 383개 해야되구 16...</td>\n",
       "    </tr>\n",
       "    <tr>\n",
       "      <th>2</th>\n",
       "      <td>date150</td>\n",
       "      <td>item96</td>\n",
       "      <td>8333</td>\n",
       "      <td>19</td>\n",
       "      <td>NaN</td>\n",
       "      <td>저기 item96 도면 19개 해야돼. 21년 5월 30일까지구 8,333원. 그리...</td>\n",
       "    </tr>\n",
       "    <tr>\n",
       "      <th>3</th>\n",
       "      <td>date154</td>\n",
       "      <td>item91</td>\n",
       "      <td>36533</td>\n",
       "      <td>4</td>\n",
       "      <td>NaN</td>\n",
       "      <td>어우 빨리 봐봐. item91 4개 21년 6월 3일까지 해야되는데 어떡하지? 단가...</td>\n",
       "    </tr>\n",
       "    <tr>\n",
       "      <th>4</th>\n",
       "      <td>date169</td>\n",
       "      <td>item87</td>\n",
       "      <td>45500</td>\n",
       "      <td>196</td>\n",
       "      <td>검사품</td>\n",
       "      <td>item87 맞지? 196개 하는거? 21년 6월 18일까지 하면 되구 단가가 45...</td>\n",
       "    </tr>\n",
       "  </tbody>\n",
       "</table>\n",
       "</div>"
      ],
      "text/plain": [
       "      time    item   cost  qty urgent  \\\n",
       "0  date133  item15  25870  318    검사품   \n",
       "1  date144  item16  16229  383    검사품   \n",
       "2  date150  item96   8333   19    NaN   \n",
       "3  date154  item91  36533    4    NaN   \n",
       "4  date169  item87  45500  196    검사품   \n",
       "\n",
       "                                            nl_order  \n",
       "0  item15 맞지? 318개 하는거? 21년 5월 13일까지 하면 되구 단가가 25...  \n",
       "1  헐 방금 item16 도면 왔는데 21년 5월 24일까지래. 383개 해야되구 16...  \n",
       "2  저기 item96 도면 19개 해야돼. 21년 5월 30일까지구 8,333원. 그리...  \n",
       "3  어우 빨리 봐봐. item91 4개 21년 6월 3일까지 해야되는데 어떡하지? 단가...  \n",
       "4  item87 맞지? 196개 하는거? 21년 6월 18일까지 하면 되구 단가가 45...  "
      ]
     },
     "execution_count": 126,
     "metadata": {},
     "output_type": "execute_result"
    }
   ],
   "source": [
    "order_info_nl['time'] = order_info_nl['time'].apply(change_time_name)\n",
    "order_info_nl.head()"
   ]
  },
  {
   "cell_type": "code",
   "execution_count": 127,
   "id": "644c40a1",
   "metadata": {},
   "outputs": [
    {
     "data": {
      "text/plain": [
       "'machine19'"
      ]
     },
     "execution_count": 127,
     "metadata": {},
     "output_type": "execute_result"
    }
   ],
   "source": [
    "# machine -> machine01\n",
    "unique_machines = sorted(machine_info['machine'].dropna().unique())\n",
    "\n",
    "machines_mapping = {\n",
    "        machine: f\"machine{str(i+1).zfill(2)}\"\n",
    "        for i, machine in enumerate(unique_machines)\n",
    "    }\n",
    "\n",
    "def change_machine_name(target):\n",
    "    result = str(target)\n",
    "    for k, v in machines_mapping.items():\n",
    "        result = result.replace(k, v)\n",
    "\n",
    "    return result\n",
    "\n",
    "change_machine_name('0421')"
   ]
  },
  {
   "cell_type": "code",
   "execution_count": 128,
   "id": "1189d74b",
   "metadata": {},
   "outputs": [
    {
     "data": {
      "text/html": [
       "<div>\n",
       "<style scoped>\n",
       "    .dataframe tbody tr th:only-of-type {\n",
       "        vertical-align: middle;\n",
       "    }\n",
       "\n",
       "    .dataframe tbody tr th {\n",
       "        vertical-align: top;\n",
       "    }\n",
       "\n",
       "    .dataframe thead th {\n",
       "        text-align: right;\n",
       "    }\n",
       "</style>\n",
       "<table border=\"1\" class=\"dataframe\">\n",
       "  <thead>\n",
       "    <tr style=\"text-align: right;\">\n",
       "      <th></th>\n",
       "      <th>item</th>\n",
       "      <th>machine</th>\n",
       "      <th>capacity</th>\n",
       "    </tr>\n",
       "  </thead>\n",
       "  <tbody>\n",
       "    <tr>\n",
       "      <th>0</th>\n",
       "      <td>050060</td>\n",
       "      <td>machine28</td>\n",
       "      <td>1.08</td>\n",
       "    </tr>\n",
       "    <tr>\n",
       "      <th>1</th>\n",
       "      <td>050093</td>\n",
       "      <td>machine04</td>\n",
       "      <td>7.13</td>\n",
       "    </tr>\n",
       "    <tr>\n",
       "      <th>2</th>\n",
       "      <td>050093</td>\n",
       "      <td>machine08</td>\n",
       "      <td>4.67</td>\n",
       "    </tr>\n",
       "    <tr>\n",
       "      <th>3</th>\n",
       "      <td>050093</td>\n",
       "      <td>machine10</td>\n",
       "      <td>4.50</td>\n",
       "    </tr>\n",
       "    <tr>\n",
       "      <th>4</th>\n",
       "      <td>050093</td>\n",
       "      <td>machine14</td>\n",
       "      <td>3.92</td>\n",
       "    </tr>\n",
       "  </tbody>\n",
       "</table>\n",
       "</div>"
      ],
      "text/plain": [
       "     item    machine  capacity\n",
       "0  050060  machine28      1.08\n",
       "1  050093  machine04      7.13\n",
       "2  050093  machine08      4.67\n",
       "3  050093  machine10      4.50\n",
       "4  050093  machine14      3.92"
      ]
     },
     "execution_count": 128,
     "metadata": {},
     "output_type": "execute_result"
    }
   ],
   "source": [
    "machine_info['machine'] = machine_info['machine'].apply(change_machine_name)\n",
    "machine_info.head()"
   ]
  },
  {
   "cell_type": "code",
   "execution_count": 129,
   "id": "d02562cd",
   "metadata": {},
   "outputs": [],
   "source": [
    "# 전처리 - order\n",
    "def preprocess_order(df):\n",
    "    # 긴급 생산 요건이 있는 경우 1, 그렇지 않은 경우는 0\n",
    "    df['urgent'] = df['urgent'].fillna(0)\n",
    "\n",
    "    for i in range(len(df)):\n",
    "        if df.loc[i, 'urgent'] != 0:\n",
    "            df.loc[i, 'urgent'] = 1\n",
    "\n",
    "    df.dropna(axis=0, inplace=True)\n",
    "\n",
    "    # 같은 종류의 order 묶기\n",
    "    df = df.groupby(['time','item','cost','urgent']).sum().reset_index()\n",
    "    \n",
    "    return df\n",
    "\n",
    "# 전처리 - machine\n",
    "def preprocess_machine(df):\n",
    "    df.dropna(axis=0, inplace=True)\n",
    "\n",
    "    return df"
   ]
  },
  {
   "cell_type": "code",
   "execution_count": 130,
   "id": "3a21d937",
   "metadata": {},
   "outputs": [],
   "source": [
    "# 슬라이딩 윈도우 함수 정의\n",
    "def create_shifted_dataset(df, window_size=5):\n",
    "    datasets = []\n",
    "    for i in range(len(df) - window_size + 1):\n",
    "        window = df.iloc[i:i+window_size].reset_index(drop=True)\n",
    "        datasets.append(window)\n",
    "    return datasets"
   ]
  },
  {
   "cell_type": "code",
   "execution_count": 131,
   "id": "8597f668",
   "metadata": {},
   "outputs": [
    {
     "name": "stderr",
     "output_type": "stream",
     "text": [
      "/tmp/ipykernel_3697/1886978764.py:4: FutureWarning: Downcasting object dtype arrays on .fillna, .ffill, .bfill is deprecated and will change in a future version. Call result.infer_objects(copy=False) instead. To opt-in to the future behavior, set `pd.set_option('future.no_silent_downcasting', True)`\n",
      "  df['urgent'] = df['urgent'].fillna(0)\n",
      "/tmp/ipykernel_3697/1886978764.py:4: FutureWarning: Downcasting object dtype arrays on .fillna, .ffill, .bfill is deprecated and will change in a future version. Call result.infer_objects(copy=False) instead. To opt-in to the future behavior, set `pd.set_option('future.no_silent_downcasting', True)`\n",
      "  df['urgent'] = df['urgent'].fillna(0)\n",
      "/tmp/ipykernel_3697/1886978764.py:4: FutureWarning: Downcasting object dtype arrays on .fillna, .ffill, .bfill is deprecated and will change in a future version. Call result.infer_objects(copy=False) instead. To opt-in to the future behavior, set `pd.set_option('future.no_silent_downcasting', True)`\n",
      "  df['urgent'] = df['urgent'].fillna(0)\n",
      "/tmp/ipykernel_3697/1886978764.py:4: FutureWarning: Downcasting object dtype arrays on .fillna, .ffill, .bfill is deprecated and will change in a future version. Call result.infer_objects(copy=False) instead. To opt-in to the future behavior, set `pd.set_option('future.no_silent_downcasting', True)`\n",
      "  df['urgent'] = df['urgent'].fillna(0)\n",
      "/tmp/ipykernel_3697/1886978764.py:4: FutureWarning: Downcasting object dtype arrays on .fillna, .ffill, .bfill is deprecated and will change in a future version. Call result.infer_objects(copy=False) instead. To opt-in to the future behavior, set `pd.set_option('future.no_silent_downcasting', True)`\n",
      "  df['urgent'] = df['urgent'].fillna(0)\n",
      "/tmp/ipykernel_3697/1886978764.py:4: FutureWarning: Downcasting object dtype arrays on .fillna, .ffill, .bfill is deprecated and will change in a future version. Call result.infer_objects(copy=False) instead. To opt-in to the future behavior, set `pd.set_option('future.no_silent_downcasting', True)`\n",
      "  df['urgent'] = df['urgent'].fillna(0)\n",
      "/tmp/ipykernel_3697/1886978764.py:4: FutureWarning: Downcasting object dtype arrays on .fillna, .ffill, .bfill is deprecated and will change in a future version. Call result.infer_objects(copy=False) instead. To opt-in to the future behavior, set `pd.set_option('future.no_silent_downcasting', True)`\n",
      "  df['urgent'] = df['urgent'].fillna(0)\n",
      "/tmp/ipykernel_3697/1886978764.py:4: FutureWarning: Downcasting object dtype arrays on .fillna, .ffill, .bfill is deprecated and will change in a future version. Call result.infer_objects(copy=False) instead. To opt-in to the future behavior, set `pd.set_option('future.no_silent_downcasting', True)`\n",
      "  df['urgent'] = df['urgent'].fillna(0)\n",
      "/tmp/ipykernel_3697/1886978764.py:4: FutureWarning: Downcasting object dtype arrays on .fillna, .ffill, .bfill is deprecated and will change in a future version. Call result.infer_objects(copy=False) instead. To opt-in to the future behavior, set `pd.set_option('future.no_silent_downcasting', True)`\n",
      "  df['urgent'] = df['urgent'].fillna(0)\n",
      "/tmp/ipykernel_3697/1886978764.py:4: FutureWarning: Downcasting object dtype arrays on .fillna, .ffill, .bfill is deprecated and will change in a future version. Call result.infer_objects(copy=False) instead. To opt-in to the future behavior, set `pd.set_option('future.no_silent_downcasting', True)`\n",
      "  df['urgent'] = df['urgent'].fillna(0)\n",
      "/tmp/ipykernel_3697/1886978764.py:4: FutureWarning: Downcasting object dtype arrays on .fillna, .ffill, .bfill is deprecated and will change in a future version. Call result.infer_objects(copy=False) instead. To opt-in to the future behavior, set `pd.set_option('future.no_silent_downcasting', True)`\n",
      "  df['urgent'] = df['urgent'].fillna(0)\n",
      "/tmp/ipykernel_3697/1886978764.py:4: FutureWarning: Downcasting object dtype arrays on .fillna, .ffill, .bfill is deprecated and will change in a future version. Call result.infer_objects(copy=False) instead. To opt-in to the future behavior, set `pd.set_option('future.no_silent_downcasting', True)`\n",
      "  df['urgent'] = df['urgent'].fillna(0)\n",
      "/tmp/ipykernel_3697/1886978764.py:4: FutureWarning: Downcasting object dtype arrays on .fillna, .ffill, .bfill is deprecated and will change in a future version. Call result.infer_objects(copy=False) instead. To opt-in to the future behavior, set `pd.set_option('future.no_silent_downcasting', True)`\n",
      "  df['urgent'] = df['urgent'].fillna(0)\n",
      "/tmp/ipykernel_3697/1886978764.py:4: FutureWarning: Downcasting object dtype arrays on .fillna, .ffill, .bfill is deprecated and will change in a future version. Call result.infer_objects(copy=False) instead. To opt-in to the future behavior, set `pd.set_option('future.no_silent_downcasting', True)`\n",
      "  df['urgent'] = df['urgent'].fillna(0)\n",
      "/tmp/ipykernel_3697/1886978764.py:4: FutureWarning: Downcasting object dtype arrays on .fillna, .ffill, .bfill is deprecated and will change in a future version. Call result.infer_objects(copy=False) instead. To opt-in to the future behavior, set `pd.set_option('future.no_silent_downcasting', True)`\n",
      "  df['urgent'] = df['urgent'].fillna(0)\n"
     ]
    }
   ],
   "source": [
    "machine_info = preprocess_machine(machine_info)\n",
    "\n",
    "def make_dataset(order_info_nl, machine_info, window_size=5):\n",
    "    dataset = create_shifted_dataset(order_info_nl, window_size=window_size)\n",
    "    dataset_for_ga = list()\n",
    "    dataset_for_nl = list()\n",
    "\n",
    "    for data in dataset:\n",
    "        order = data.iloc[:, :5]\n",
    "        nl = data.iloc[:, 5:]\n",
    "\n",
    "        order = preprocess_order(order)\n",
    "        order = pd.merge(order, machine_info, on='item', how='inner')\n",
    "\n",
    "        dataset_for_ga.append(order)\n",
    "        dataset_for_nl.append(nl)\n",
    "\n",
    "    return dataset_for_ga, dataset_for_nl\n",
    "\n",
    "raw_order_info_nl_eng = order_info_nl_eng.copy()\n",
    "order_info_nl_eng = pd.concat([order_info, order_info_nl_eng], axis=1)\n",
    "dataset_for_ga, dataset_for_nl = make_dataset(order_info_nl_eng, machine_info)"
   ]
  },
  {
   "cell_type": "code",
   "execution_count": 66,
   "id": "049ae75a",
   "metadata": {},
   "outputs": [],
   "source": [
    "def ga_preprocess(dataset):\n",
    "    T = list(set(dataset['time']))\n",
    "    I = list(set(dataset['item']))\n",
    "    J = list(set(dataset['machine']))\n",
    "\n",
    "    # cit = 날짜 t에, item i가 미생산 될 때 발생하는 비용\n",
    "    cit = dict()\n",
    "    for i in I:\n",
    "        for t in T:\n",
    "            temp_dataset = dataset[(dataset['item'] == i) & (dataset['time'] == t)]\n",
    "            if len(temp_dataset) != 0:\n",
    "                value = list(set(temp_dataset['cost']))[0]\n",
    "                cit[i, t] = value\n",
    "            else:\n",
    "                cit[i, t] = 0\n",
    "\n",
    "    # pit = 날짜 t에, item i가 긴급 생산이 필요한 경우 1, 그렇지 않으면 0\n",
    "    pit = dict()\n",
    "    for i in I:\n",
    "        for t in T:\n",
    "            temp_dataset = dataset[(dataset['item'] == i) & (dataset['time'] == t)]\n",
    "            if len(temp_dataset) != 0:\n",
    "                value = list(set(temp_dataset['urgent']))[0]\n",
    "                pit[i, t] = value\n",
    "            else:\n",
    "                pit[i, t] = 0\n",
    "\n",
    "    # dit = 날짜 t에 item i마다 생산되어야 하는 요구량\n",
    "    dit = dict()\n",
    "    for i in I:\n",
    "        for t in T:\n",
    "            temp_dataset = dataset[(dataset['item'] == i) & (dataset['time'] == t)]\n",
    "            if len(temp_dataset) != 0:\n",
    "                value = list(set(temp_dataset['qty']))[0]\n",
    "                dit[i, t] = value\n",
    "            else:\n",
    "                dit[i, t] = 0\n",
    "\n",
    "    # mijt= 날짜 t에 NC machine j가 item i를 생산할 수 있는 능력\n",
    "    mijt = dict()\n",
    "    for i in I:\n",
    "        for j in J:\n",
    "            temp_dataset = dataset[\n",
    "                (dataset['item'] == i) &\n",
    "                (dataset['machine'] == j)\n",
    "            ]\n",
    "\n",
    "            if len(temp_dataset) != 0:\n",
    "                value = list(set(temp_dataset['capacity']))[0]\n",
    "                for t in T:\n",
    "                    mijt[i, j, t] = value\n",
    "            else:\n",
    "                for t in T:\n",
    "                    mijt[i, j, t] = 0\n",
    "\n",
    "    return T, I, J, cit, pit, dit, mijt\n",
    "\n",
    "# 머신 j가 시간 t에 아이템 i를 만들수 없을 경우 0으로 처리하기 위함함\n",
    "def decode(mijt, xijt):\n",
    "    for j in J:\n",
    "        for t in T:\n",
    "            for i in I:\n",
    "                if mijt[i, j, t] == 0:\n",
    "                    xijt[i, j, t] = 0\n",
    "    return xijt\n",
    "\n",
    "# 목적함수를 최적화하기 위한 xijt 조합을 임의로 생성하는 함수\n",
    "def generation_xijt():\n",
    "    xijt = {}\n",
    "\n",
    "    for i in I:\n",
    "        for j in J:\n",
    "            for t in T:\n",
    "                if dit[i, t] > 0:\n",
    "                    xijt[i, j, t] = random.uniform(0, 1)\n",
    "                else:\n",
    "                    xijt[i, j, t] = 0\n",
    "\n",
    "    xijt = decode(mijt, xijt)\n",
    "    return xijt\n",
    "\n",
    "def dict2list(xijt):\n",
    "    return list(xijt.values())\n",
    "\n",
    "def list2dict(bitstring, type='xijt'):\n",
    "    if type == 'xijt':\n",
    "        _keys = xijt_keys\n",
    "    elif type == 'mijt':\n",
    "        _keys = mijt_keys\n",
    "\n",
    "    xijt = {}\n",
    "    for idx, value in enumerate(bitstring):\n",
    "        xijt[_keys[idx]] = value\n",
    "\n",
    "    return xijt\n",
    "\n",
    "# 제약조건 확인\n",
    "# 기계 하루 총 생산시간은 600분\n",
    "# j기계로 600분 안에 아이템 i를 생산할 수 없다면 아이템 생산하지 않도록 하기 위함.\n",
    "def constraint_check(xijt):\n",
    "    for j in J:\n",
    "        for t in T:\n",
    "            check_value = sum(mijt[i, j, t] * round(xijt[i, j, t] * dit[i, t]) for i in I) <= 600\n",
    "\n",
    "            if check_value is False:\n",
    "                for i in I:\n",
    "                    xijt[i, j, t] = 0\n",
    "\n",
    "    return xijt\n",
    "\n",
    "# 목적 함수\n",
    "def objective(xijt):\n",
    "    uit = {}\n",
    "    xijt = constraint_check(xijt)\n",
    "\n",
    "    for i in I:\n",
    "        for t in T:\n",
    "            u = dit[i, t] - sum(round(xijt[i, j, t] * dit[i, t]) for j in J)\n",
    "            if u >= 0:\n",
    "                uit[i, t] = u\n",
    "            else:\n",
    "                uit[i, t] = abs(u) * 10_000_000\n",
    "\n",
    "    objective = sum(uit[i, t] * cit[i, t] * pit[i, t] for i in I for t in T)\n",
    "    return objective\n",
    "\n",
    "# Tournament selection\n",
    "def selection(pop, scores, n_pop):\n",
    "    # n_pop은 한 세대를 구성하는 염색체 수이며, 하이퍼파라미터 값\n",
    "    k = round(n_pop * 0.5)\n",
    "    selection_ix = randint(len(pop))\n",
    "    \n",
    "    for ix in randint(0, len(pop), k - 1):\n",
    "        if scores[ix] < scores[selection_ix]:\n",
    "            selection_ix = ix\n",
    "            \n",
    "    return pop[selection_ix]\n",
    "\n",
    "def crossover(p1, p2, r_cross):\n",
    "    p1 = dict2list(p1)\n",
    "    p2 = dict2list(p2)\n",
    "    c1, c2 = p1.copy(), p2.copy()\n",
    "\n",
    "    if rand() < r_cross:\n",
    "        base_bitstring = dict2list(mijt)\n",
    "\n",
    "        # crossover (1): 유효 인덱스 추출\n",
    "        valid_index = []\n",
    "        for i in range(len(base_bitstring)):\n",
    "            if base_bitstring[i] > 0:\n",
    "                valid_index.append(i)\n",
    "\n",
    "        n = round(r_cross * len(valid_index))\n",
    "        pt_0 = random.sample(valid_index, n)\n",
    "        pt_1 = list(set(valid_index) - set(pt_0))\n",
    "\n",
    "        # crossover (2): 교차 적용\n",
    "        for i in pt_0:\n",
    "            c1[i] = p2[i]\n",
    "            c2[i] = p1[i]\n",
    "\n",
    "        for i in pt_1:\n",
    "            c1[i] = p2[i]\n",
    "            c2[i] = p1[i]\n",
    "\n",
    "    return [c1, c2]\n",
    "\n",
    "def mutation(bitstring, r_mut):\n",
    "    for i in range(len(bitstring)):\n",
    "        if rand() < r_mut:\n",
    "            base_bitstring = dict2list(mijt)\n",
    "\n",
    "            # mutation (1): 유효 인덱스 찾기\n",
    "            valid_index = []\n",
    "            for j in range(len(base_bitstring)):\n",
    "                if base_bitstring[j] > 0:\n",
    "                    valid_index.append(j)\n",
    "\n",
    "            n = round(r_mut * len(valid_index))\n",
    "\n",
    "            # mutation (2): 무작위 인덱스에서 값 변경\n",
    "            pt_0 = random.sample(valid_index, n)\n",
    "            for idx in pt_0:\n",
    "                bitstring[idx] = random.uniform(0, 1)\n",
    "\n",
    "def genetic_algorithm(bounds, n_iter, n_pop, r_cross, r_mut):\n",
    "    # Utility\n",
    "    log = []\n",
    "    log_detail = []\n",
    "    best_gen = 0\n",
    "\n",
    "    # GA algorithm 초기화\n",
    "    pop = [generation_xijt() for _ in range(n_pop)]\n",
    "    best = decode(mijt, pop[0])\n",
    "    best_eval = objective(best)\n",
    "    print(best_eval)\n",
    "\n",
    "    for gen in tqdm(range(n_iter)):\n",
    "        # 현재 세대 해를 디코딩\n",
    "        decoded = [decode(mijt, p) for p in pop]\n",
    "\n",
    "        # 목적함수 값 계산\n",
    "        scores = [objective(d) for d in decoded]\n",
    "\n",
    "        # 가장 좋은 해 갱신\n",
    "        for i in range(n_pop):\n",
    "            if scores[i] < best_eval:\n",
    "                best, best_eval = pop[i], scores[i]\n",
    "                print(f'>best! {gen}, {scores[i]}')\n",
    "                best_gen = gen\n",
    "            else:\n",
    "                # stop rule: 개선 없이 100세대 이상일 경우 중단\n",
    "                if gen - best_gen > 100:\n",
    "                    print('stop')\n",
    "                    return [best, best_eval, log, log_detail]\n",
    "\n",
    "        # 부모 해 집합 선택\n",
    "        selected = [selection(pop, scores, n_pop) for _ in range(n_pop)]\n",
    "        log_detail.append([gen, objective(selected[0])])\n",
    "\n",
    "        # 자식 세대 생성\n",
    "        children = []\n",
    "        for i in range(0, n_pop, 2):\n",
    "            p1, p2 = selected[i], selected[i + 1]\n",
    "            for c in crossover(p1, p2, r_cross):\n",
    "                mutation(c, r_mut)\n",
    "                children.append(list2dict(c))\n",
    "\n",
    "        pop = children\n",
    "        log.append([gen, best_eval])\n",
    "\n",
    "    return [best, best_eval, log, log_detail]\n",
    "\n",
    "def set_hyper_parameters():\n",
    "    # 하이퍼파라미터 설정\n",
    "    hyper_parameters = pd.DataFrame({\n",
    "        'index':    ['index_1', 'index_2', 'index_3', 'index_4',\n",
    "                    'index_5', 'index_6', 'index_7', 'index_8'],\n",
    "        'n_iter':   [200, 200, 200, 200, 200, 200, 200, 200],\n",
    "        'n_pop':    [10, 20, 40, 20, 20, 20, 20, 20],\n",
    "        'r_cross':  [0.4, 0.4, 0.4, 0.1, 0.2, 0.3, 0.4, 0.4],\n",
    "        'r_mut':    [0.4, 0.4, 0.4, 0.4, 0.4, 0.4, 0.1, 0.6]\n",
    "    })\n",
    "\n",
    "    # 결과 기록용 열 추가\n",
    "    hyper_parameters['objective'] = np.nan\n",
    "    hyper_parameters['time'] = np.nan\n",
    "\n",
    "    return hyper_parameters\n",
    "\n",
    "def find_hyper_parameters(hyper_parameters):\n",
    "    log_list = []\n",
    "\n",
    "    for i in range(len(hyper_parameters)):\n",
    "        parameter = hyper_parameters.iloc[i]\n",
    "        index_nm = parameter['index']\n",
    "        print(f'{index_nm}')\n",
    "\n",
    "        start = datetime.datetime.now()\n",
    "\n",
    "        # 초기 해 및 키 정의\n",
    "        xijt = generation_xijt()\n",
    "        global xijt_keys, mijt_keys\n",
    "        xijt_keys = list(xijt.keys())\n",
    "        mijt_keys = list(mijt.keys())\n",
    "\n",
    "        # 하이퍼파라미터 설정\n",
    "        n_iter = parameter['n_iter']\n",
    "        n_pop = parameter['n_pop']\n",
    "        r_cross = parameter['r_cross']\n",
    "        r_mut = parameter['r_mut']\n",
    "\n",
    "        # 유전 알고리즘 실행\n",
    "        best, score, log, log_detail = genetic_algorithm(mijt, n_iter, n_pop, r_cross, r_mut)\n",
    "\n",
    "        # 실행 시간 및 결과 기록\n",
    "        elapsed_time = datetime.datetime.now() - start\n",
    "        hyper_parameters.loc[i, 'time'] = elapsed_time\n",
    "        hyper_parameters.loc[i, 'objective'] = score\n",
    "\n",
    "        log_list.append(log)\n",
    "\n",
    "    # 결과 출력\n",
    "    return hyper_parameters, log_list\n"
   ]
  },
  {
   "cell_type": "code",
   "execution_count": 67,
   "id": "448e999f",
   "metadata": {},
   "outputs": [
    {
     "name": "stdout",
     "output_type": "stream",
     "text": [
      "index_1\n",
      "18663361416470\n"
     ]
    },
    {
     "name": "stderr",
     "output_type": "stream",
     "text": [
      "  0%|          | 0/200 [00:00<?, ?it/s]"
     ]
    },
    {
     "name": "stdout",
     "output_type": "stream",
     "text": [
      ">best! 0, 15116630\n",
      ">best! 0, 8715424\n"
     ]
    },
    {
     "name": "stderr",
     "output_type": "stream",
     "text": [
      "  0%|          | 1/200 [00:00<01:36,  2.07it/s]"
     ]
    },
    {
     "name": "stdout",
     "output_type": "stream",
     "text": [
      ">best! 1, 7029324\n"
     ]
    },
    {
     "name": "stderr",
     "output_type": "stream",
     "text": [
      "  2%|▏         | 4/200 [00:02<01:49,  1.78it/s]"
     ]
    },
    {
     "name": "stdout",
     "output_type": "stream",
     "text": [
      ">best! 4, 3009244\n"
     ]
    },
    {
     "name": "stderr",
     "output_type": "stream",
     "text": [
      " 47%|████▋     | 94/200 [00:39<00:37,  2.80it/s]"
     ]
    },
    {
     "name": "stdout",
     "output_type": "stream",
     "text": [
      ">best! 94, 2636328\n"
     ]
    },
    {
     "name": "stderr",
     "output_type": "stream",
     "text": [
      " 81%|████████  | 162/200 [01:09<00:16,  2.32it/s]"
     ]
    },
    {
     "name": "stdout",
     "output_type": "stream",
     "text": [
      ">best! 162, 2062634\n"
     ]
    },
    {
     "name": "stderr",
     "output_type": "stream",
     "text": [
      " 88%|████████▊ | 177/200 [01:16<00:10,  2.22it/s]"
     ]
    },
    {
     "name": "stdout",
     "output_type": "stream",
     "text": [
      ">best! 177, 1364361\n"
     ]
    },
    {
     "name": "stderr",
     "output_type": "stream",
     "text": [
      "100%|██████████| 200/200 [01:24<00:00,  2.36it/s]\n",
      "/tmp/ipykernel_3697/2547579054.py:278: FutureWarning: Setting an item of incompatible dtype is deprecated and will raise an error in a future version of pandas. Value '0:01:24.932725' has dtype incompatible with float64, please explicitly cast to a compatible dtype first.\n",
      "  hyper_parameters.loc[i, 'time'] = elapsed_time\n"
     ]
    },
    {
     "name": "stdout",
     "output_type": "stream",
     "text": [
      "index_2\n",
      "6740515\n"
     ]
    },
    {
     "name": "stderr",
     "output_type": "stream",
     "text": [
      "  0%|          | 1/200 [00:00<02:19,  1.42it/s]"
     ]
    },
    {
     "name": "stdout",
     "output_type": "stream",
     "text": [
      ">best! 1, 5116980\n",
      ">best! 1, 2643130\n"
     ]
    },
    {
     "name": "stderr",
     "output_type": "stream",
     "text": [
      " 15%|█▌        | 30/200 [00:23<02:02,  1.39it/s]"
     ]
    },
    {
     "name": "stdout",
     "output_type": "stream",
     "text": [
      ">best! 30, 1403568\n"
     ]
    },
    {
     "name": "stderr",
     "output_type": "stream",
     "text": [
      " 66%|██████▌   | 131/200 [01:43<00:54,  1.26it/s]\n"
     ]
    },
    {
     "name": "stdout",
     "output_type": "stream",
     "text": [
      "stop\n",
      "index_3\n",
      "9899698282560\n"
     ]
    },
    {
     "name": "stderr",
     "output_type": "stream",
     "text": [
      "  0%|          | 0/200 [00:00<?, ?it/s]"
     ]
    },
    {
     "name": "stdout",
     "output_type": "stream",
     "text": [
      ">best! 0, 11999408\n",
      ">best! 0, 9561210\n",
      ">best! 0, 4015549\n"
     ]
    },
    {
     "name": "stderr",
     "output_type": "stream",
     "text": [
      "  0%|          | 1/200 [00:01<05:09,  1.56s/it]"
     ]
    },
    {
     "name": "stdout",
     "output_type": "stream",
     "text": [
      ">best! 1, 3144382\n"
     ]
    },
    {
     "name": "stderr",
     "output_type": "stream",
     "text": [
      "  5%|▌         | 10/200 [00:14<04:28,  1.41s/it]"
     ]
    },
    {
     "name": "stdout",
     "output_type": "stream",
     "text": [
      ">best! 10, 1136724\n"
     ]
    },
    {
     "name": "stderr",
     "output_type": "stream",
     "text": [
      " 13%|█▎        | 26/200 [00:39<04:31,  1.56s/it]"
     ]
    },
    {
     "name": "stdout",
     "output_type": "stream",
     "text": [
      ">best! 26, 947440\n"
     ]
    },
    {
     "name": "stderr",
     "output_type": "stream",
     "text": [
      " 64%|██████▎   | 127/200 [03:16<01:53,  1.55s/it]\n"
     ]
    },
    {
     "name": "stdout",
     "output_type": "stream",
     "text": [
      "stop\n",
      "index_4\n",
      "74065515174000\n"
     ]
    },
    {
     "name": "stderr",
     "output_type": "stream",
     "text": [
      "  0%|          | 0/200 [00:00<?, ?it/s]"
     ]
    },
    {
     "name": "stdout",
     "output_type": "stream",
     "text": [
      ">best! 0, 9094585\n",
      ">best! 0, 6706941\n"
     ]
    },
    {
     "name": "stderr",
     "output_type": "stream",
     "text": [
      "  2%|▎         | 5/200 [00:03<02:48,  1.16it/s]"
     ]
    },
    {
     "name": "stdout",
     "output_type": "stream",
     "text": [
      ">best! 5, 4913637\n",
      ">best! 5, 4073206\n"
     ]
    },
    {
     "name": "stderr",
     "output_type": "stream",
     "text": [
      "  6%|▌         | 11/200 [00:08<02:45,  1.14it/s]"
     ]
    },
    {
     "name": "stdout",
     "output_type": "stream",
     "text": [
      ">best! 11, 2607456\n"
     ]
    },
    {
     "name": "stderr",
     "output_type": "stream",
     "text": [
      " 16%|█▋        | 33/200 [00:26<01:56,  1.43it/s]"
     ]
    },
    {
     "name": "stdout",
     "output_type": "stream",
     "text": [
      ">best! 33, 1639182\n"
     ]
    },
    {
     "name": "stderr",
     "output_type": "stream",
     "text": [
      " 67%|██████▋   | 134/200 [02:00<00:59,  1.11it/s]\n"
     ]
    },
    {
     "name": "stdout",
     "output_type": "stream",
     "text": [
      "stop\n",
      "index_5\n",
      "27589311647480\n"
     ]
    },
    {
     "name": "stderr",
     "output_type": "stream",
     "text": [
      "  0%|          | 0/200 [00:00<?, ?it/s]"
     ]
    },
    {
     "name": "stdout",
     "output_type": "stream",
     "text": [
      ">best! 0, 1136043686660\n",
      ">best! 0, 4837609\n"
     ]
    },
    {
     "name": "stderr",
     "output_type": "stream",
     "text": [
      "  2%|▏         | 4/200 [00:03<02:55,  1.12it/s]"
     ]
    },
    {
     "name": "stdout",
     "output_type": "stream",
     "text": [
      ">best! 4, 4095224\n"
     ]
    },
    {
     "name": "stderr",
     "output_type": "stream",
     "text": [
      "  4%|▍         | 8/200 [00:07<03:04,  1.04it/s]"
     ]
    },
    {
     "name": "stdout",
     "output_type": "stream",
     "text": [
      ">best! 8, 3762367\n"
     ]
    },
    {
     "name": "stderr",
     "output_type": "stream",
     "text": [
      " 10%|█         | 21/200 [00:21<03:48,  1.27s/it]"
     ]
    },
    {
     "name": "stdout",
     "output_type": "stream",
     "text": [
      ">best! 21, 3551979\n"
     ]
    },
    {
     "name": "stderr",
     "output_type": "stream",
     "text": [
      " 14%|█▍        | 29/200 [00:29<02:51,  1.00s/it]"
     ]
    },
    {
     "name": "stdout",
     "output_type": "stream",
     "text": [
      ">best! 29, 3496010\n"
     ]
    },
    {
     "name": "stderr",
     "output_type": "stream",
     "text": [
      " 18%|█▊        | 36/200 [00:36<02:33,  1.07it/s]"
     ]
    },
    {
     "name": "stdout",
     "output_type": "stream",
     "text": [
      ">best! 36, 2881477\n"
     ]
    },
    {
     "name": "stderr",
     "output_type": "stream",
     "text": [
      " 25%|██▌       | 50/200 [00:48<02:27,  1.01it/s]"
     ]
    },
    {
     "name": "stdout",
     "output_type": "stream",
     "text": [
      ">best! 50, 2604164\n"
     ]
    },
    {
     "name": "stderr",
     "output_type": "stream",
     "text": [
      " 32%|███▎      | 65/200 [01:02<01:59,  1.13it/s]"
     ]
    },
    {
     "name": "stdout",
     "output_type": "stream",
     "text": [
      ">best! 65, 1563554\n"
     ]
    },
    {
     "name": "stderr",
     "output_type": "stream",
     "text": [
      " 83%|████████▎ | 166/200 [02:30<00:30,  1.10it/s]\n"
     ]
    },
    {
     "name": "stdout",
     "output_type": "stream",
     "text": [
      "stop\n",
      "index_6\n",
      "2730004009367\n"
     ]
    },
    {
     "name": "stderr",
     "output_type": "stream",
     "text": [
      "  0%|          | 0/200 [00:00<?, ?it/s]"
     ]
    },
    {
     "name": "stdout",
     "output_type": "stream",
     "text": [
      ">best! 0, 14201430\n",
      ">best! 0, 8625633\n",
      ">best! 0, 7558482\n",
      ">best! 0, 5676988\n"
     ]
    },
    {
     "name": "stderr",
     "output_type": "stream",
     "text": [
      "  0%|          | 1/200 [00:00<02:56,  1.12it/s]"
     ]
    },
    {
     "name": "stdout",
     "output_type": "stream",
     "text": [
      ">best! 1, 4023047\n"
     ]
    },
    {
     "name": "stderr",
     "output_type": "stream",
     "text": [
      "  6%|▋         | 13/200 [00:12<03:15,  1.05s/it]"
     ]
    },
    {
     "name": "stdout",
     "output_type": "stream",
     "text": [
      ">best! 13, 1579328\n"
     ]
    },
    {
     "name": "stderr",
     "output_type": "stream",
     "text": [
      " 34%|███▍      | 68/200 [01:03<01:49,  1.21it/s]"
     ]
    },
    {
     "name": "stdout",
     "output_type": "stream",
     "text": [
      ">best! 68, 1361011\n"
     ]
    },
    {
     "name": "stderr",
     "output_type": "stream",
     "text": [
      " 84%|████████▍ | 169/200 [02:36<00:28,  1.08it/s]\n"
     ]
    },
    {
     "name": "stdout",
     "output_type": "stream",
     "text": [
      "stop\n",
      "index_7\n",
      "9285683\n"
     ]
    },
    {
     "name": "stderr",
     "output_type": "stream",
     "text": [
      "  0%|          | 1/200 [00:00<00:22,  8.86it/s]"
     ]
    },
    {
     "name": "stdout",
     "output_type": "stream",
     "text": [
      ">best! 1, 8966086\n",
      ">best! 1, 3197622\n"
     ]
    },
    {
     "name": "stderr",
     "output_type": "stream",
     "text": [
      "  2%|▎         | 5/200 [00:00<00:21,  8.92it/s]"
     ]
    },
    {
     "name": "stdout",
     "output_type": "stream",
     "text": [
      ">best! 4, 3156990\n"
     ]
    },
    {
     "name": "stderr",
     "output_type": "stream",
     "text": [
      "  4%|▍         | 8/200 [00:00<00:20,  9.18it/s]"
     ]
    },
    {
     "name": "stdout",
     "output_type": "stream",
     "text": [
      ">best! 6, 2188234\n"
     ]
    },
    {
     "name": "stderr",
     "output_type": "stream",
     "text": [
      "  8%|▊         | 15/200 [00:01<00:22,  8.27it/s]"
     ]
    },
    {
     "name": "stdout",
     "output_type": "stream",
     "text": [
      ">best! 14, 1506510\n"
     ]
    },
    {
     "name": "stderr",
     "output_type": "stream",
     "text": [
      " 57%|█████▊    | 115/200 [00:15<00:11,  7.29it/s]\n"
     ]
    },
    {
     "name": "stdout",
     "output_type": "stream",
     "text": [
      "stop\n",
      "index_8\n",
      "10873436789640\n"
     ]
    },
    {
     "name": "stderr",
     "output_type": "stream",
     "text": [
      "  0%|          | 0/200 [00:00<?, ?it/s]"
     ]
    },
    {
     "name": "stdout",
     "output_type": "stream",
     "text": [
      ">best! 0, 8190007935662\n",
      ">best! 0, 11794976\n"
     ]
    },
    {
     "name": "stderr",
     "output_type": "stream",
     "text": [
      "  0%|          | 1/200 [00:01<06:04,  1.83s/it]"
     ]
    },
    {
     "name": "stdout",
     "output_type": "stream",
     "text": [
      ">best! 1, 6326734\n",
      ">best! 1, 3226357\n",
      ">best! 1, 2221096\n"
     ]
    },
    {
     "name": "stderr",
     "output_type": "stream",
     "text": [
      "  2%|▏         | 4/200 [00:09<08:39,  2.65s/it]"
     ]
    },
    {
     "name": "stdout",
     "output_type": "stream",
     "text": [
      ">best! 4, 1869200\n"
     ]
    },
    {
     "name": "stderr",
     "output_type": "stream",
     "text": [
      " 16%|█▌        | 31/200 [00:53<04:24,  1.56s/it]"
     ]
    },
    {
     "name": "stdout",
     "output_type": "stream",
     "text": [
      ">best! 31, 1545904\n"
     ]
    },
    {
     "name": "stderr",
     "output_type": "stream",
     "text": [
      " 44%|████▎     | 87/200 [02:10<02:44,  1.45s/it]"
     ]
    },
    {
     "name": "stdout",
     "output_type": "stream",
     "text": [
      ">best! 87, 1104240\n"
     ]
    },
    {
     "name": "stderr",
     "output_type": "stream",
     "text": [
      " 60%|█████▉    | 119/200 [02:57<02:33,  1.90s/it]"
     ]
    },
    {
     "name": "stdout",
     "output_type": "stream",
     "text": [
      ">best! 119, 1065249\n"
     ]
    },
    {
     "name": "stderr",
     "output_type": "stream",
     "text": [
      "100%|██████████| 200/200 [04:56<00:00,  1.48s/it]\n"
     ]
    },
    {
     "name": "stdout",
     "output_type": "stream",
     "text": [
      "index_1\n",
      "186756846142500\n"
     ]
    },
    {
     "name": "stderr",
     "output_type": "stream",
     "text": [
      "  0%|          | 1/200 [00:00<00:38,  5.22it/s]"
     ]
    },
    {
     "name": "stdout",
     "output_type": "stream",
     "text": [
      ">best! 0, 98566117280000\n",
      ">best! 0, 35161018918000\n",
      ">best! 0, 26514864095000\n",
      ">best! 0, 10951794868500\n",
      ">best! 1, 8032282\n"
     ]
    },
    {
     "name": "stderr",
     "output_type": "stream",
     "text": [
      "  1%|          | 2/200 [00:00<00:40,  4.94it/s]"
     ]
    },
    {
     "name": "stdout",
     "output_type": "stream",
     "text": [
      ">best! 2, 4892782\n"
     ]
    },
    {
     "name": "stderr",
     "output_type": "stream",
     "text": [
      " 29%|██▉       | 58/200 [00:11<00:29,  4.82it/s]"
     ]
    },
    {
     "name": "stdout",
     "output_type": "stream",
     "text": [
      ">best! 57, 4553064\n"
     ]
    },
    {
     "name": "stderr",
     "output_type": "stream",
     "text": [
      " 46%|████▌     | 92/200 [00:19<00:26,  4.06it/s]"
     ]
    },
    {
     "name": "stdout",
     "output_type": "stream",
     "text": [
      ">best! 91, 3949423\n"
     ]
    },
    {
     "name": "stderr",
     "output_type": "stream",
     "text": [
      " 55%|█████▍    | 109/200 [00:22<00:15,  5.69it/s]"
     ]
    },
    {
     "name": "stdout",
     "output_type": "stream",
     "text": [
      ">best! 108, 3245820\n"
     ]
    },
    {
     "name": "stderr",
     "output_type": "stream",
     "text": [
      "100%|██████████| 200/200 [00:41<00:00,  4.78it/s]\n",
      "/tmp/ipykernel_3697/2547579054.py:278: FutureWarning: Setting an item of incompatible dtype is deprecated and will raise an error in a future version of pandas. Value '0:00:41.857755' has dtype incompatible with float64, please explicitly cast to a compatible dtype first.\n",
      "  hyper_parameters.loc[i, 'time'] = elapsed_time\n"
     ]
    },
    {
     "name": "stdout",
     "output_type": "stream",
     "text": [
      "index_2\n",
      "42654347735000\n"
     ]
    },
    {
     "name": "stderr",
     "output_type": "stream",
     "text": [
      "  0%|          | 0/200 [00:00<?, ?it/s]"
     ]
    },
    {
     "name": "stdout",
     "output_type": "stream",
     "text": [
      ">best! 0, 25938458918000\n",
      ">best! 0, 21327175778500\n",
      ">best! 0, 19021538918000\n"
     ]
    },
    {
     "name": "stderr",
     "output_type": "stream",
     "text": [
      "  0%|          | 1/200 [00:00<01:08,  2.90it/s]"
     ]
    },
    {
     "name": "stdout",
     "output_type": "stream",
     "text": [
      ">best! 1, 8529833\n"
     ]
    },
    {
     "name": "stderr",
     "output_type": "stream",
     "text": [
      "  2%|▎         | 5/200 [00:02<01:22,  2.37it/s]"
     ]
    },
    {
     "name": "stdout",
     "output_type": "stream",
     "text": [
      ">best! 5, 4516641\n"
     ]
    },
    {
     "name": "stderr",
     "output_type": "stream",
     "text": [
      "  6%|▋         | 13/200 [00:05<01:12,  2.57it/s]"
     ]
    },
    {
     "name": "stdout",
     "output_type": "stream",
     "text": [
      ">best! 13, 4292320\n"
     ]
    },
    {
     "name": "stderr",
     "output_type": "stream",
     "text": [
      " 18%|█▊        | 37/200 [00:15<01:03,  2.58it/s]"
     ]
    },
    {
     "name": "stdout",
     "output_type": "stream",
     "text": [
      ">best! 37, 1553128\n"
     ]
    },
    {
     "name": "stderr",
     "output_type": "stream",
     "text": [
      " 69%|██████▉   | 138/200 [00:55<00:24,  2.49it/s]\n"
     ]
    },
    {
     "name": "stdout",
     "output_type": "stream",
     "text": [
      "stop\n",
      "index_3\n",
      "44383576734000\n"
     ]
    },
    {
     "name": "stderr",
     "output_type": "stream",
     "text": [
      "  0%|          | 0/200 [00:00<?, ?it/s]"
     ]
    },
    {
     "name": "stdout",
     "output_type": "stream",
     "text": [
      ">best! 0, 40925118508500\n",
      ">best! 0, 36890243139500\n",
      ">best! 0, 1152826506500\n",
      ">best! 0, 8842435\n"
     ]
    },
    {
     "name": "stderr",
     "output_type": "stream",
     "text": [
      "  0%|          | 1/200 [00:00<02:27,  1.35it/s]"
     ]
    },
    {
     "name": "stdout",
     "output_type": "stream",
     "text": [
      ">best! 1, 1789705\n"
     ]
    },
    {
     "name": "stderr",
     "output_type": "stream",
     "text": [
      " 42%|████▏     | 83/200 [01:06<01:39,  1.18it/s]"
     ]
    },
    {
     "name": "stdout",
     "output_type": "stream",
     "text": [
      ">best! 83, 752282\n"
     ]
    },
    {
     "name": "stderr",
     "output_type": "stream",
     "text": [
      " 92%|█████████▏| 184/200 [02:28<00:12,  1.24it/s]\n"
     ]
    },
    {
     "name": "stdout",
     "output_type": "stream",
     "text": [
      "stop\n",
      "index_4\n",
      "60523050591500\n"
     ]
    },
    {
     "name": "stderr",
     "output_type": "stream",
     "text": [
      "  0%|          | 0/200 [00:00<?, ?it/s]"
     ]
    },
    {
     "name": "stdout",
     "output_type": "stream",
     "text": [
      ">best! 0, 55335365915000\n",
      ">best! 0, 19597948918000\n",
      ">best! 0, 10375386142500\n",
      ">best! 0, 4034878918000\n"
     ]
    },
    {
     "name": "stderr",
     "output_type": "stream",
     "text": [
      "  1%|          | 2/200 [00:00<01:20,  2.45it/s]"
     ]
    },
    {
     "name": "stdout",
     "output_type": "stream",
     "text": [
      ">best! 2, 9033282\n"
     ]
    },
    {
     "name": "stderr",
     "output_type": "stream",
     "text": [
      "  2%|▏         | 3/200 [00:01<01:22,  2.40it/s]"
     ]
    },
    {
     "name": "stdout",
     "output_type": "stream",
     "text": [
      ">best! 3, 6979769\n"
     ]
    },
    {
     "name": "stderr",
     "output_type": "stream",
     "text": [
      "  4%|▍         | 9/200 [00:03<01:13,  2.58it/s]"
     ]
    },
    {
     "name": "stdout",
     "output_type": "stream",
     "text": [
      ">best! 9, 5635987\n",
      ">best! 9, 5081025\n"
     ]
    },
    {
     "name": "stderr",
     "output_type": "stream",
     "text": [
      " 12%|█▎        | 25/200 [00:09<01:13,  2.39it/s]"
     ]
    },
    {
     "name": "stdout",
     "output_type": "stream",
     "text": [
      ">best! 25, 4179987\n"
     ]
    },
    {
     "name": "stderr",
     "output_type": "stream",
     "text": [
      " 14%|█▍        | 29/200 [00:11<01:04,  2.65it/s]"
     ]
    },
    {
     "name": "stdout",
     "output_type": "stream",
     "text": [
      ">best! 29, 3688679\n"
     ]
    },
    {
     "name": "stderr",
     "output_type": "stream",
     "text": [
      " 65%|██████▌   | 130/200 [00:56<00:30,  2.31it/s]\n"
     ]
    },
    {
     "name": "stdout",
     "output_type": "stream",
     "text": [
      "stop\n",
      "index_5\n",
      "68016387052500\n"
     ]
    },
    {
     "name": "stderr",
     "output_type": "stream",
     "text": [
      "  0%|          | 0/200 [00:00<?, ?it/s]"
     ]
    },
    {
     "name": "stdout",
     "output_type": "stream",
     "text": [
      ">best! 0, 34008198690500\n",
      ">best! 0, 8262846\n",
      ">best! 0, 5872679\n"
     ]
    },
    {
     "name": "stderr",
     "output_type": "stream",
     "text": [
      " 11%|█         | 22/200 [00:10<01:23,  2.12it/s]"
     ]
    },
    {
     "name": "stdout",
     "output_type": "stream",
     "text": [
      ">best! 22, 5827064\n"
     ]
    },
    {
     "name": "stderr",
     "output_type": "stream",
     "text": [
      " 16%|█▌        | 31/200 [00:15<01:36,  1.76it/s]"
     ]
    },
    {
     "name": "stdout",
     "output_type": "stream",
     "text": [
      ">best! 31, 5793705\n"
     ]
    },
    {
     "name": "stderr",
     "output_type": "stream",
     "text": [
      " 19%|█▉        | 38/200 [00:19<01:08,  2.38it/s]"
     ]
    },
    {
     "name": "stdout",
     "output_type": "stream",
     "text": [
      ">best! 38, 5508564\n"
     ]
    },
    {
     "name": "stderr",
     "output_type": "stream",
     "text": [
      " 24%|██▎       | 47/200 [00:22<01:07,  2.25it/s]"
     ]
    },
    {
     "name": "stdout",
     "output_type": "stream",
     "text": [
      ">best! 47, 4732115\n"
     ]
    },
    {
     "name": "stderr",
     "output_type": "stream",
     "text": [
      " 26%|██▌       | 51/200 [00:25<01:14,  1.99it/s]"
     ]
    },
    {
     "name": "stdout",
     "output_type": "stream",
     "text": [
      ">best! 51, 3961564\n"
     ]
    },
    {
     "name": "stderr",
     "output_type": "stream",
     "text": [
      " 26%|██▌       | 52/200 [00:25<01:10,  2.09it/s]"
     ]
    },
    {
     "name": "stdout",
     "output_type": "stream",
     "text": [
      ">best! 52, 3333641\n"
     ]
    },
    {
     "name": "stderr",
     "output_type": "stream",
     "text": [
      " 54%|█████▍    | 108/200 [00:48<00:36,  2.50it/s]"
     ]
    },
    {
     "name": "stdout",
     "output_type": "stream",
     "text": [
      ">best! 108, 3142794\n"
     ]
    },
    {
     "name": "stderr",
     "output_type": "stream",
     "text": [
      " 63%|██████▎   | 126/200 [00:55<00:32,  2.30it/s]"
     ]
    },
    {
     "name": "stdout",
     "output_type": "stream",
     "text": [
      ">best! 126, 2948538\n"
     ]
    },
    {
     "name": "stderr",
     "output_type": "stream",
     "text": [
      "100%|██████████| 200/200 [01:25<00:00,  2.35it/s]\n"
     ]
    },
    {
     "name": "stdout",
     "output_type": "stream",
     "text": [
      "index_6\n",
      "39195888918000\n"
     ]
    },
    {
     "name": "stderr",
     "output_type": "stream",
     "text": [
      "  0%|          | 0/200 [00:00<?, ?it/s]"
     ]
    },
    {
     "name": "stdout",
     "output_type": "stream",
     "text": [
      ">best! 0, 36890248053500\n",
      ">best! 0, 21903588918000\n",
      ">best! 0, 10951795642000\n",
      ">best! 0, 7707769\n"
     ]
    },
    {
     "name": "stderr",
     "output_type": "stream",
     "text": [
      "  4%|▎         | 7/200 [00:03<01:22,  2.35it/s]"
     ]
    },
    {
     "name": "stdout",
     "output_type": "stream",
     "text": [
      ">best! 7, 5596500\n"
     ]
    },
    {
     "name": "stderr",
     "output_type": "stream",
     "text": [
      " 15%|█▌        | 30/200 [00:11<01:02,  2.73it/s]"
     ]
    },
    {
     "name": "stdout",
     "output_type": "stream",
     "text": [
      ">best! 30, 5153641\n"
     ]
    },
    {
     "name": "stderr",
     "output_type": "stream",
     "text": [
      " 26%|██▋       | 53/200 [00:20<00:54,  2.70it/s]"
     ]
    },
    {
     "name": "stdout",
     "output_type": "stream",
     "text": [
      ">best! 53, 3737128\n"
     ]
    },
    {
     "name": "stderr",
     "output_type": "stream",
     "text": [
      " 30%|███       | 61/200 [00:23<00:54,  2.57it/s]"
     ]
    },
    {
     "name": "stdout",
     "output_type": "stream",
     "text": [
      ">best! 61, 3418628\n"
     ]
    },
    {
     "name": "stderr",
     "output_type": "stream",
     "text": [
      " 44%|████▎     | 87/200 [00:35<00:44,  2.54it/s]"
     ]
    },
    {
     "name": "stdout",
     "output_type": "stream",
     "text": [
      ">best! 87, 3406832\n"
     ]
    },
    {
     "name": "stderr",
     "output_type": "stream",
     "text": [
      " 55%|█████▍    | 109/200 [00:43<00:33,  2.72it/s]"
     ]
    },
    {
     "name": "stdout",
     "output_type": "stream",
     "text": [
      ">best! 109, 2918128\n"
     ]
    },
    {
     "name": "stderr",
     "output_type": "stream",
     "text": [
      " 68%|██████▊   | 137/200 [00:53<00:22,  2.81it/s]"
     ]
    },
    {
     "name": "stdout",
     "output_type": "stream",
     "text": [
      ">best! 137, 2799782\n"
     ]
    },
    {
     "name": "stderr",
     "output_type": "stream",
     "text": [
      " 80%|███████▉  | 159/200 [01:02<00:18,  2.24it/s]"
     ]
    },
    {
     "name": "stdout",
     "output_type": "stream",
     "text": [
      ">best! 159, 391346\n"
     ]
    },
    {
     "name": "stderr",
     "output_type": "stream",
     "text": [
      "100%|██████████| 200/200 [01:18<00:00,  2.54it/s]\n"
     ]
    },
    {
     "name": "stdout",
     "output_type": "stream",
     "text": [
      "index_7\n",
      "65710746324500\n"
     ]
    },
    {
     "name": "stderr",
     "output_type": "stream",
     "text": [
      "  1%|          | 2/200 [00:00<00:16, 12.26it/s]"
     ]
    },
    {
     "name": "stdout",
     "output_type": "stream",
     "text": [
      ">best! 0, 13833843503500\n",
      ">best! 0, 7580346\n"
     ]
    },
    {
     "name": "stderr",
     "output_type": "stream",
     "text": [
      "  3%|▎         | 6/200 [00:00<00:13, 14.54it/s]"
     ]
    },
    {
     "name": "stdout",
     "output_type": "stream",
     "text": [
      ">best! 4, 4246705\n"
     ]
    },
    {
     "name": "stderr",
     "output_type": "stream",
     "text": [
      " 10%|█         | 20/200 [00:01<00:12, 13.97it/s]"
     ]
    },
    {
     "name": "stdout",
     "output_type": "stream",
     "text": [
      ">best! 17, 3348846\n"
     ]
    },
    {
     "name": "stderr",
     "output_type": "stream",
     "text": [
      " 40%|████      | 80/200 [00:05<00:08, 14.20it/s]"
     ]
    },
    {
     "name": "stdout",
     "output_type": "stream",
     "text": [
      ">best! 78, 3276000\n"
     ]
    },
    {
     "name": "stderr",
     "output_type": "stream",
     "text": [
      " 87%|████████▋ | 174/200 [00:12<00:02, 12.39it/s]"
     ]
    },
    {
     "name": "stdout",
     "output_type": "stream",
     "text": [
      ">best! 173, 2918243\n"
     ]
    },
    {
     "name": "stderr",
     "output_type": "stream",
     "text": [
      "100%|██████████| 200/200 [00:15<00:00, 13.06it/s]\n"
     ]
    },
    {
     "name": "stdout",
     "output_type": "stream",
     "text": [
      "index_8\n",
      "66287153321500\n"
     ]
    },
    {
     "name": "stderr",
     "output_type": "stream",
     "text": [
      "  0%|          | 0/200 [00:00<?, ?it/s]"
     ]
    },
    {
     "name": "stdout",
     "output_type": "stream",
     "text": [
      ">best! 0, 23632813003000\n",
      ">best! 0, 1729236643000\n"
     ]
    },
    {
     "name": "stderr",
     "output_type": "stream",
     "text": [
      "  0%|          | 1/200 [00:00<02:54,  1.14it/s]"
     ]
    },
    {
     "name": "stdout",
     "output_type": "stream",
     "text": [
      ">best! 1, 8532782\n"
     ]
    },
    {
     "name": "stderr",
     "output_type": "stream",
     "text": [
      "  3%|▎         | 6/200 [00:04<02:23,  1.35it/s]"
     ]
    },
    {
     "name": "stdout",
     "output_type": "stream",
     "text": [
      ">best! 6, 7161769\n"
     ]
    },
    {
     "name": "stderr",
     "output_type": "stream",
     "text": [
      "  6%|▌         | 11/200 [00:08<02:05,  1.50it/s]"
     ]
    },
    {
     "name": "stdout",
     "output_type": "stream",
     "text": [
      ">best! 11, 6812974\n"
     ]
    },
    {
     "name": "stderr",
     "output_type": "stream",
     "text": [
      "  8%|▊         | 17/200 [00:12<02:10,  1.40it/s]"
     ]
    },
    {
     "name": "stdout",
     "output_type": "stream",
     "text": [
      ">best! 17, 6433769\n"
     ]
    },
    {
     "name": "stderr",
     "output_type": "stream",
     "text": [
      " 10%|█         | 20/200 [00:14<02:07,  1.41it/s]"
     ]
    },
    {
     "name": "stdout",
     "output_type": "stream",
     "text": [
      ">best! 20, 5711782\n"
     ]
    },
    {
     "name": "stderr",
     "output_type": "stream",
     "text": [
      " 11%|█         | 22/200 [00:15<02:09,  1.38it/s]"
     ]
    },
    {
     "name": "stdout",
     "output_type": "stream",
     "text": [
      ">best! 22, 5663333\n",
      ">best! 22, 4440846\n"
     ]
    },
    {
     "name": "stderr",
     "output_type": "stream",
     "text": [
      " 16%|█▌        | 32/200 [00:23<02:04,  1.35it/s]"
     ]
    },
    {
     "name": "stdout",
     "output_type": "stream",
     "text": [
      ">best! 32, 3943410\n"
     ]
    },
    {
     "name": "stderr",
     "output_type": "stream",
     "text": [
      " 28%|██▊       | 57/200 [00:42<01:45,  1.36it/s]"
     ]
    },
    {
     "name": "stdout",
     "output_type": "stream",
     "text": [
      ">best! 57, 3849346\n"
     ]
    },
    {
     "name": "stderr",
     "output_type": "stream",
     "text": [
      " 32%|███▏      | 64/200 [00:47<01:39,  1.37it/s]"
     ]
    },
    {
     "name": "stdout",
     "output_type": "stream",
     "text": [
      ">best! 64, 2869564\n"
     ]
    },
    {
     "name": "stderr",
     "output_type": "stream",
     "text": [
      " 46%|████▋     | 93/200 [01:07<01:12,  1.48it/s]"
     ]
    },
    {
     "name": "stdout",
     "output_type": "stream",
     "text": [
      ">best! 93, 2029346\n"
     ]
    },
    {
     "name": "stderr",
     "output_type": "stream",
     "text": [
      " 97%|█████████▋| 194/200 [02:17<00:04,  1.41it/s]\n"
     ]
    },
    {
     "name": "stdout",
     "output_type": "stream",
     "text": [
      "stop\n",
      "index_1\n",
      "111000\n"
     ]
    },
    {
     "name": "stderr",
     "output_type": "stream",
     "text": [
      "  6%|▋         | 13/200 [00:00<00:04, 38.41it/s]"
     ]
    },
    {
     "name": "stdout",
     "output_type": "stream",
     "text": [
      ">best! 8, 18500\n"
     ]
    },
    {
     "name": "stderr",
     "output_type": "stream",
     "text": [
      " 22%|██▏       | 44/200 [00:01<00:04, 36.97it/s]"
     ]
    },
    {
     "name": "stdout",
     "output_type": "stream",
     "text": [
      ">best! 37, 0\n"
     ]
    },
    {
     "name": "stderr",
     "output_type": "stream",
     "text": [
      " 69%|██████▉   | 138/200 [00:03<00:01, 37.61it/s]\n",
      "/tmp/ipykernel_3697/2547579054.py:278: FutureWarning: Setting an item of incompatible dtype is deprecated and will raise an error in a future version of pandas. Value '0:00:03.675816' has dtype incompatible with float64, please explicitly cast to a compatible dtype first.\n",
      "  hyper_parameters.loc[i, 'time'] = elapsed_time\n"
     ]
    },
    {
     "name": "stdout",
     "output_type": "stream",
     "text": [
      "stop\n",
      "index_2\n",
      "3848000\n"
     ]
    },
    {
     "name": "stderr",
     "output_type": "stream",
     "text": [
      "  2%|▏         | 3/200 [00:00<00:09, 21.27it/s]"
     ]
    },
    {
     "name": "stdout",
     "output_type": "stream",
     "text": [
      ">best! 0, 1147000\n",
      ">best! 0, 203500\n",
      ">best! 3, 129500\n",
      ">best! 4, 55500\n"
     ]
    },
    {
     "name": "stderr",
     "output_type": "stream",
     "text": [
      "  6%|▌         | 11/200 [00:00<00:09, 19.66it/s]"
     ]
    },
    {
     "name": "stdout",
     "output_type": "stream",
     "text": [
      ">best! 7, 18500\n"
     ]
    },
    {
     "name": "stderr",
     "output_type": "stream",
     "text": [
      " 16%|█▋        | 33/200 [00:01<00:08, 20.38it/s]"
     ]
    },
    {
     "name": "stdout",
     "output_type": "stream",
     "text": [
      ">best! 32, 0\n"
     ]
    },
    {
     "name": "stderr",
     "output_type": "stream",
     "text": [
      " 66%|██████▋   | 133/200 [00:07<00:03, 18.96it/s]\n"
     ]
    },
    {
     "name": "stdout",
     "output_type": "stream",
     "text": [
      "stop\n",
      "index_3\n",
      "1942500\n"
     ]
    },
    {
     "name": "stderr",
     "output_type": "stream",
     "text": [
      "  0%|          | 1/200 [00:00<00:25,  7.79it/s]"
     ]
    },
    {
     "name": "stdout",
     "output_type": "stream",
     "text": [
      ">best! 0, 795500\n",
      ">best! 0, 666000\n",
      ">best! 0, 0\n"
     ]
    },
    {
     "name": "stderr",
     "output_type": "stream",
     "text": [
      " 50%|█████     | 101/200 [00:10<00:10,  9.39it/s]\n"
     ]
    },
    {
     "name": "stdout",
     "output_type": "stream",
     "text": [
      "stop\n",
      "index_4\n",
      "3626000\n"
     ]
    },
    {
     "name": "stderr",
     "output_type": "stream",
     "text": [
      "  1%|          | 2/200 [00:00<00:11, 16.77it/s]"
     ]
    },
    {
     "name": "stdout",
     "output_type": "stream",
     "text": [
      ">best! 0, 2793500\n",
      ">best! 0, 555000\n",
      ">best! 0, 92500\n",
      ">best! 1, 74000\n",
      ">best! 3, 0\n"
     ]
    },
    {
     "name": "stderr",
     "output_type": "stream",
     "text": [
      " 52%|█████▏    | 104/200 [00:05<00:05, 17.55it/s]\n"
     ]
    },
    {
     "name": "stdout",
     "output_type": "stream",
     "text": [
      "stop\n",
      "index_5\n",
      "185000000000\n"
     ]
    },
    {
     "name": "stderr",
     "output_type": "stream",
     "text": [
      "  1%|          | 2/200 [00:00<00:11, 17.80it/s]"
     ]
    },
    {
     "name": "stdout",
     "output_type": "stream",
     "text": [
      ">best! 0, 3589000\n",
      ">best! 0, 2220000\n",
      ">best! 0, 1535500\n",
      ">best! 0, 92500\n",
      ">best! 2, 74000\n"
     ]
    },
    {
     "name": "stderr",
     "output_type": "stream",
     "text": [
      "  4%|▍         | 9/200 [00:00<00:09, 19.23it/s]"
     ]
    },
    {
     "name": "stdout",
     "output_type": "stream",
     "text": [
      ">best! 6, 37000\n"
     ]
    },
    {
     "name": "stderr",
     "output_type": "stream",
     "text": [
      "  9%|▉         | 18/200 [00:00<00:10, 17.74it/s]"
     ]
    },
    {
     "name": "stdout",
     "output_type": "stream",
     "text": [
      ">best! 16, 0\n"
     ]
    },
    {
     "name": "stderr",
     "output_type": "stream",
     "text": [
      " 58%|█████▊    | 117/200 [00:06<00:04, 18.71it/s]\n"
     ]
    },
    {
     "name": "stdout",
     "output_type": "stream",
     "text": [
      "stop\n",
      "index_6\n",
      "740000000000\n"
     ]
    },
    {
     "name": "stderr",
     "output_type": "stream",
     "text": [
      "  1%|          | 2/200 [00:00<00:12, 15.59it/s]"
     ]
    },
    {
     "name": "stdout",
     "output_type": "stream",
     "text": [
      ">best! 0, 2812000\n",
      ">best! 0, 555000\n",
      ">best! 0, 444000\n",
      ">best! 2, 240500\n",
      ">best! 2, 0\n"
     ]
    },
    {
     "name": "stderr",
     "output_type": "stream",
     "text": [
      " 52%|█████▏    | 103/200 [00:05<00:05, 19.01it/s]\n"
     ]
    },
    {
     "name": "stdout",
     "output_type": "stream",
     "text": [
      "stop\n",
      "index_7\n",
      "2220000000000\n"
     ]
    },
    {
     "name": "stderr",
     "output_type": "stream",
     "text": [
      "  2%|▎         | 5/200 [00:00<00:04, 47.59it/s]"
     ]
    },
    {
     "name": "stdout",
     "output_type": "stream",
     "text": [
      ">best! 0, 0\n"
     ]
    },
    {
     "name": "stderr",
     "output_type": "stream",
     "text": [
      " 50%|█████     | 101/200 [00:01<00:01, 58.23it/s]\n"
     ]
    },
    {
     "name": "stdout",
     "output_type": "stream",
     "text": [
      "stop\n",
      "index_8\n",
      "2035000\n"
     ]
    },
    {
     "name": "stderr",
     "output_type": "stream",
     "text": [
      "  0%|          | 1/200 [00:00<00:21,  9.19it/s]"
     ]
    },
    {
     "name": "stdout",
     "output_type": "stream",
     "text": [
      ">best! 0, 1776000\n",
      ">best! 0, 832500\n",
      ">best! 0, 37000\n"
     ]
    },
    {
     "name": "stderr",
     "output_type": "stream",
     "text": [
      "  4%|▎         | 7/200 [00:00<00:25,  7.46it/s]"
     ]
    },
    {
     "name": "stdout",
     "output_type": "stream",
     "text": [
      ">best! 6, 0\n"
     ]
    },
    {
     "name": "stderr",
     "output_type": "stream",
     "text": [
      " 54%|█████▎    | 107/200 [00:10<00:08, 10.60it/s]\n"
     ]
    },
    {
     "name": "stdout",
     "output_type": "stream",
     "text": [
      "stop\n",
      "index_1\n",
      "9690002638740\n"
     ]
    },
    {
     "name": "stderr",
     "output_type": "stream",
     "text": [
      "  0%|          | 0/200 [00:00<?, ?it/s]"
     ]
    },
    {
     "name": "stdout",
     "output_type": "stream",
     "text": [
      ">best! 0, 11084450\n",
      ">best! 0, 9920300\n",
      ">best! 0, 6091260\n",
      ">best! 0, 4089990\n"
     ]
    },
    {
     "name": "stderr",
     "output_type": "stream",
     "text": [
      "  1%|          | 2/200 [00:00<00:18, 10.55it/s]"
     ]
    },
    {
     "name": "stdout",
     "output_type": "stream",
     "text": [
      ">best! 2, 3755930\n"
     ]
    },
    {
     "name": "stderr",
     "output_type": "stream",
     "text": [
      "  3%|▎         | 6/200 [00:00<00:20,  9.52it/s]"
     ]
    },
    {
     "name": "stdout",
     "output_type": "stream",
     "text": [
      ">best! 4, 2744610\n",
      ">best! 5, 2107280\n"
     ]
    },
    {
     "name": "stderr",
     "output_type": "stream",
     "text": [
      "  5%|▌         | 10/200 [00:01<00:20,  9.37it/s]"
     ]
    },
    {
     "name": "stdout",
     "output_type": "stream",
     "text": [
      ">best! 9, 1182990\n"
     ]
    },
    {
     "name": "stderr",
     "output_type": "stream",
     "text": [
      " 24%|██▍       | 49/200 [00:04<00:15,  9.59it/s]"
     ]
    },
    {
     "name": "stdout",
     "output_type": "stream",
     "text": [
      ">best! 47, 856100\n"
     ]
    },
    {
     "name": "stderr",
     "output_type": "stream",
     "text": [
      " 74%|███████▍  | 148/200 [00:13<00:04, 10.70it/s]\n",
      "/tmp/ipykernel_3697/2547579054.py:278: FutureWarning: Setting an item of incompatible dtype is deprecated and will raise an error in a future version of pandas. Value '0:00:13.837310' has dtype incompatible with float64, please explicitly cast to a compatible dtype first.\n",
      "  hyper_parameters.loc[i, 'time'] = elapsed_time\n"
     ]
    },
    {
     "name": "stdout",
     "output_type": "stream",
     "text": [
      "stop\n",
      "index_2\n",
      "11695910\n"
     ]
    },
    {
     "name": "stderr",
     "output_type": "stream",
     "text": [
      "  0%|          | 0/200 [00:00<?, ?it/s]"
     ]
    },
    {
     "name": "stdout",
     "output_type": "stream",
     "text": [
      ">best! 0, 11615910\n",
      ">best! 0, 7996360\n",
      ">best! 0, 6244370\n",
      ">best! 0, 3473750\n",
      ">best! 0, 1907350\n"
     ]
    },
    {
     "name": "stderr",
     "output_type": "stream",
     "text": [
      " 15%|█▌        | 30/200 [00:05<00:29,  5.74it/s]"
     ]
    },
    {
     "name": "stdout",
     "output_type": "stream",
     "text": [
      ">best! 30, 1538140\n"
     ]
    },
    {
     "name": "stderr",
     "output_type": "stream",
     "text": [
      " 22%|██▏       | 43/200 [00:07<00:31,  5.01it/s]"
     ]
    },
    {
     "name": "stdout",
     "output_type": "stream",
     "text": [
      ">best! 42, 526820\n"
     ]
    },
    {
     "name": "stderr",
     "output_type": "stream",
     "text": [
      " 72%|███████▏  | 143/200 [00:27<00:10,  5.22it/s]\n"
     ]
    },
    {
     "name": "stdout",
     "output_type": "stream",
     "text": [
      "stop\n",
      "index_3\n",
      "9141810\n"
     ]
    },
    {
     "name": "stderr",
     "output_type": "stream",
     "text": [
      "  0%|          | 0/200 [00:00<?, ?it/s]"
     ]
    },
    {
     "name": "stdout",
     "output_type": "stream",
     "text": [
      ">best! 0, 8153970\n",
      ">best! 0, 6622860\n",
      ">best! 0, 3344400\n"
     ]
    },
    {
     "name": "stderr",
     "output_type": "stream",
     "text": [
      "  1%|          | 2/200 [00:00<01:31,  2.17it/s]"
     ]
    },
    {
     "name": "stdout",
     "output_type": "stream",
     "text": [
      ">best! 2, 3003310\n"
     ]
    },
    {
     "name": "stderr",
     "output_type": "stream",
     "text": [
      "  2%|▏         | 3/200 [00:01<01:24,  2.33it/s]"
     ]
    },
    {
     "name": "stdout",
     "output_type": "stream",
     "text": [
      ">best! 3, 2504750\n"
     ]
    },
    {
     "name": "stderr",
     "output_type": "stream",
     "text": [
      "  4%|▎         | 7/200 [00:02<01:21,  2.37it/s]"
     ]
    },
    {
     "name": "stdout",
     "output_type": "stream",
     "text": [
      ">best! 7, 969000\n"
     ]
    },
    {
     "name": "stderr",
     "output_type": "stream",
     "text": [
      " 18%|█▊        | 35/200 [00:13<01:19,  2.07it/s]"
     ]
    },
    {
     "name": "stdout",
     "output_type": "stream",
     "text": [
      ">best! 35, 733780\n"
     ]
    },
    {
     "name": "stderr",
     "output_type": "stream",
     "text": [
      " 68%|██████▊   | 136/200 [00:53<00:25,  2.52it/s]\n"
     ]
    },
    {
     "name": "stdout",
     "output_type": "stream",
     "text": [
      "stop\n",
      "index_4\n",
      "11768740\n"
     ]
    },
    {
     "name": "stderr",
     "output_type": "stream",
     "text": [
      "  0%|          | 0/200 [00:00<?, ?it/s]"
     ]
    },
    {
     "name": "stdout",
     "output_type": "stream",
     "text": [
      ">best! 0, 9480370\n",
      ">best! 0, 6815760\n"
     ]
    },
    {
     "name": "stderr",
     "output_type": "stream",
     "text": [
      "  0%|          | 1/200 [00:00<01:04,  3.06it/s]"
     ]
    },
    {
     "name": "stdout",
     "output_type": "stream",
     "text": [
      ">best! 1, 3781800\n",
      ">best! 1, 3128020\n"
     ]
    },
    {
     "name": "stderr",
     "output_type": "stream",
     "text": [
      "  2%|▎         | 5/200 [00:01<00:47,  4.13it/s]"
     ]
    },
    {
     "name": "stdout",
     "output_type": "stream",
     "text": [
      ">best! 4, 2373010\n"
     ]
    },
    {
     "name": "stderr",
     "output_type": "stream",
     "text": [
      " 12%|█▏        | 23/200 [00:04<00:33,  5.21it/s]"
     ]
    },
    {
     "name": "stdout",
     "output_type": "stream",
     "text": [
      ">best! 22, 2071990\n"
     ]
    },
    {
     "name": "stderr",
     "output_type": "stream",
     "text": [
      " 22%|██▏       | 43/200 [00:08<00:26,  5.98it/s]"
     ]
    },
    {
     "name": "stdout",
     "output_type": "stream",
     "text": [
      ">best! 42, 1961480\n",
      ">best! 42, 1366470\n"
     ]
    },
    {
     "name": "stderr",
     "output_type": "stream",
     "text": [
      " 30%|██▉       | 59/200 [00:11<00:29,  4.72it/s]"
     ]
    },
    {
     "name": "stdout",
     "output_type": "stream",
     "text": [
      ">best! 59, 562110\n"
     ]
    },
    {
     "name": "stderr",
     "output_type": "stream",
     "text": [
      " 80%|████████  | 160/200 [00:34<00:08,  4.61it/s]\n"
     ]
    },
    {
     "name": "stdout",
     "output_type": "stream",
     "text": [
      "stop\n",
      "index_5\n",
      "10536400\n"
     ]
    },
    {
     "name": "stderr",
     "output_type": "stream",
     "text": [
      "  0%|          | 1/200 [00:00<00:31,  6.23it/s]"
     ]
    },
    {
     "name": "stdout",
     "output_type": "stream",
     "text": [
      ">best! 0, 6846270\n",
      ">best! 0, 6618220\n",
      ">best! 1, 4776670\n"
     ]
    },
    {
     "name": "stderr",
     "output_type": "stream",
     "text": [
      "  3%|▎         | 6/200 [00:00<00:31,  6.11it/s]"
     ]
    },
    {
     "name": "stdout",
     "output_type": "stream",
     "text": [
      ">best! 5, 4724930\n",
      ">best! 6, 3614770\n"
     ]
    },
    {
     "name": "stderr",
     "output_type": "stream",
     "text": [
      "  6%|▌         | 12/200 [00:01<00:31,  6.00it/s]"
     ]
    },
    {
     "name": "stdout",
     "output_type": "stream",
     "text": [
      ">best! 11, 3062220\n"
     ]
    },
    {
     "name": "stderr",
     "output_type": "stream",
     "text": [
      "  8%|▊         | 16/200 [00:02<00:29,  6.24it/s]"
     ]
    },
    {
     "name": "stdout",
     "output_type": "stream",
     "text": [
      ">best! 15, 2850480\n"
     ]
    },
    {
     "name": "stderr",
     "output_type": "stream",
     "text": [
      " 22%|██▏       | 44/200 [00:07<00:27,  5.77it/s]"
     ]
    },
    {
     "name": "stdout",
     "output_type": "stream",
     "text": [
      ">best! 43, 2558880\n"
     ]
    },
    {
     "name": "stderr",
     "output_type": "stream",
     "text": [
      " 30%|██▉       | 59/200 [00:10<00:31,  4.42it/s]"
     ]
    },
    {
     "name": "stdout",
     "output_type": "stream",
     "text": [
      ">best! 59, 2417720\n"
     ]
    },
    {
     "name": "stderr",
     "output_type": "stream",
     "text": [
      " 36%|███▌      | 71/200 [00:12<00:24,  5.17it/s]"
     ]
    },
    {
     "name": "stdout",
     "output_type": "stream",
     "text": [
      ">best! 71, 1227700\n",
      ">best! 71, 595010\n"
     ]
    },
    {
     "name": "stderr",
     "output_type": "stream",
     "text": [
      " 82%|████████▏ | 164/200 [00:30<00:06,  5.79it/s]"
     ]
    },
    {
     "name": "stdout",
     "output_type": "stream",
     "text": [
      ">best! 163, 449210\n"
     ]
    },
    {
     "name": "stderr",
     "output_type": "stream",
     "text": [
      "100%|██████████| 200/200 [00:36<00:00,  5.46it/s]\n"
     ]
    },
    {
     "name": "stdout",
     "output_type": "stream",
     "text": [
      "index_6\n",
      "10696400\n"
     ]
    },
    {
     "name": "stderr",
     "output_type": "stream",
     "text": [
      "  0%|          | 1/200 [00:00<00:34,  5.69it/s]"
     ]
    },
    {
     "name": "stdout",
     "output_type": "stream",
     "text": [
      ">best! 0, 5197760\n",
      ">best! 0, 4372170\n"
     ]
    },
    {
     "name": "stderr",
     "output_type": "stream",
     "text": [
      "  2%|▏         | 3/200 [00:00<00:32,  6.10it/s]"
     ]
    },
    {
     "name": "stdout",
     "output_type": "stream",
     "text": [
      ">best! 2, 4256880\n",
      ">best! 2, 4115860\n",
      ">best! 3, 4009990\n",
      ">best! 3, 3939410\n"
     ]
    },
    {
     "name": "stderr",
     "output_type": "stream",
     "text": [
      "  4%|▍         | 9/200 [00:01<00:30,  6.16it/s]"
     ]
    },
    {
     "name": "stdout",
     "output_type": "stream",
     "text": [
      ">best! 8, 3033960\n"
     ]
    },
    {
     "name": "stderr",
     "output_type": "stream",
     "text": [
      "  7%|▋         | 14/200 [00:02<00:31,  5.83it/s]"
     ]
    },
    {
     "name": "stdout",
     "output_type": "stream",
     "text": [
      ">best! 13, 691460\n"
     ]
    },
    {
     "name": "stderr",
     "output_type": "stream",
     "text": [
      " 57%|█████▋    | 114/200 [00:19<00:14,  5.78it/s]\n"
     ]
    },
    {
     "name": "stdout",
     "output_type": "stream",
     "text": [
      "stop\n",
      "index_7\n",
      "5527040\n"
     ]
    },
    {
     "name": "stderr",
     "output_type": "stream",
     "text": [
      "  1%|          | 2/200 [00:00<00:12, 16.17it/s]"
     ]
    },
    {
     "name": "stdout",
     "output_type": "stream",
     "text": [
      ">best! 0, 2041480\n"
     ]
    },
    {
     "name": "stderr",
     "output_type": "stream",
     "text": [
      " 20%|█▉        | 39/200 [00:01<00:06, 26.28it/s]"
     ]
    },
    {
     "name": "stdout",
     "output_type": "stream",
     "text": [
      ">best! 34, 1839160\n"
     ]
    },
    {
     "name": "stderr",
     "output_type": "stream",
     "text": [
      " 22%|██▎       | 45/200 [00:01<00:07, 19.47it/s]"
     ]
    },
    {
     "name": "stdout",
     "output_type": "stream",
     "text": [
      ">best! 43, 1479370\n"
     ]
    },
    {
     "name": "stderr",
     "output_type": "stream",
     "text": [
      " 60%|█████▉    | 119/200 [00:04<00:02, 28.98it/s]"
     ]
    },
    {
     "name": "stdout",
     "output_type": "stream",
     "text": [
      ">best! 116, 1166540\n",
      ">best! 117, 1105380\n"
     ]
    },
    {
     "name": "stderr",
     "output_type": "stream",
     "text": [
      "100%|██████████| 200/200 [00:07<00:00, 27.35it/s]\n"
     ]
    },
    {
     "name": "stdout",
     "output_type": "stream",
     "text": [
      "index_8\n",
      "8730000\n"
     ]
    },
    {
     "name": "stderr",
     "output_type": "stream",
     "text": [
      "  0%|          | 0/200 [00:00<?, ?it/s]"
     ]
    },
    {
     "name": "stdout",
     "output_type": "stream",
     "text": [
      ">best! 0, 7554180\n",
      ">best! 0, 6514740\n",
      ">best! 0, 5597480\n",
      ">best! 0, 4729710\n"
     ]
    },
    {
     "name": "stderr",
     "output_type": "stream",
     "text": [
      "  4%|▎         | 7/200 [00:02<00:58,  3.31it/s]"
     ]
    },
    {
     "name": "stdout",
     "output_type": "stream",
     "text": [
      ">best! 7, 4186440\n",
      ">best! 7, 3892310\n"
     ]
    },
    {
     "name": "stderr",
     "output_type": "stream",
     "text": [
      "  4%|▍         | 8/200 [00:02<01:00,  3.18it/s]"
     ]
    },
    {
     "name": "stdout",
     "output_type": "stream",
     "text": [
      ">best! 8, 3490200\n",
      ">best! 8, 3254980\n"
     ]
    },
    {
     "name": "stderr",
     "output_type": "stream",
     "text": [
      "  6%|▋         | 13/200 [00:04<00:56,  3.31it/s]"
     ]
    },
    {
     "name": "stdout",
     "output_type": "stream",
     "text": [
      ">best! 13, 2866930\n"
     ]
    },
    {
     "name": "stderr",
     "output_type": "stream",
     "text": [
      "  8%|▊         | 16/200 [00:04<00:54,  3.39it/s]"
     ]
    },
    {
     "name": "stdout",
     "output_type": "stream",
     "text": [
      ">best! 16, 2201340\n"
     ]
    },
    {
     "name": "stderr",
     "output_type": "stream",
     "text": [
      " 10%|█         | 20/200 [00:06<00:51,  3.50it/s]"
     ]
    },
    {
     "name": "stdout",
     "output_type": "stream",
     "text": [
      ">best! 20, 1453500\n"
     ]
    },
    {
     "name": "stderr",
     "output_type": "stream",
     "text": [
      " 60%|██████    | 121/200 [00:37<00:24,  3.20it/s]\n"
     ]
    },
    {
     "name": "stdout",
     "output_type": "stream",
     "text": [
      "stop\n",
      "index_1\n",
      "68126220000000\n"
     ]
    },
    {
     "name": "stderr",
     "output_type": "stream",
     "text": [
      "  1%|          | 2/200 [00:00<00:10, 18.99it/s]"
     ]
    },
    {
     "name": "stdout",
     "output_type": "stream",
     "text": [
      ">best! 0, 48591820000000\n",
      ">best! 0, 41998960000000\n",
      ">best! 1, 36382820000000\n"
     ]
    },
    {
     "name": "stderr",
     "output_type": "stream",
     "text": [
      "  4%|▍         | 8/200 [00:00<00:16, 11.73it/s]"
     ]
    },
    {
     "name": "stdout",
     "output_type": "stream",
     "text": [
      ">best! 7, 29057420000000\n"
     ]
    },
    {
     "name": "stderr",
     "output_type": "stream",
     "text": [
      " 14%|█▍        | 28/200 [00:02<00:18,  9.44it/s]"
     ]
    },
    {
     "name": "stdout",
     "output_type": "stream",
     "text": [
      ">best! 26, 25638900000000\n",
      ">best! 28, 22464560000000\n"
     ]
    },
    {
     "name": "stderr",
     "output_type": "stream",
     "text": [
      " 64%|██████▍   | 129/200 [00:14<00:07,  9.17it/s]\n",
      "/tmp/ipykernel_3697/2547579054.py:278: FutureWarning: Setting an item of incompatible dtype is deprecated and will raise an error in a future version of pandas. Value '0:00:14.068886' has dtype incompatible with float64, please explicitly cast to a compatible dtype first.\n",
      "  hyper_parameters.loc[i, 'time'] = elapsed_time\n"
     ]
    },
    {
     "name": "stdout",
     "output_type": "stream",
     "text": [
      "stop\n",
      "index_2\n",
      "49812720000000\n"
     ]
    },
    {
     "name": "stderr",
     "output_type": "stream",
     "text": [
      "  0%|          | 1/200 [00:00<00:34,  5.83it/s]"
     ]
    },
    {
     "name": "stdout",
     "output_type": "stream",
     "text": [
      ">best! 0, 41998960000000\n",
      ">best! 1, 41022240000000\n",
      ">best! 1, 38336260000000\n"
     ]
    },
    {
     "name": "stderr",
     "output_type": "stream",
     "text": [
      "  4%|▍         | 8/200 [00:01<00:39,  4.87it/s]"
     ]
    },
    {
     "name": "stdout",
     "output_type": "stream",
     "text": [
      ">best! 8, 36871180000000\n"
     ]
    },
    {
     "name": "stderr",
     "output_type": "stream",
     "text": [
      " 10%|█         | 21/200 [00:04<00:47,  3.78it/s]"
     ]
    },
    {
     "name": "stdout",
     "output_type": "stream",
     "text": [
      ">best! 21, 29545780000000\n"
     ]
    },
    {
     "name": "stderr",
     "output_type": "stream",
     "text": [
      " 18%|█▊        | 35/200 [00:08<00:35,  4.63it/s]"
     ]
    },
    {
     "name": "stdout",
     "output_type": "stream",
     "text": [
      ">best! 34, 24418000000000\n"
     ]
    },
    {
     "name": "stderr",
     "output_type": "stream",
     "text": [
      " 68%|██████▊   | 135/200 [00:21<00:10,  6.40it/s]\n"
     ]
    },
    {
     "name": "stdout",
     "output_type": "stream",
     "text": [
      "stop\n",
      "index_3\n",
      "60312460000000\n"
     ]
    },
    {
     "name": "stderr",
     "output_type": "stream",
     "text": [
      "  0%|          | 0/200 [00:00<?, ?it/s]"
     ]
    },
    {
     "name": "stdout",
     "output_type": "stream",
     "text": [
      ">best! 0, 54696320000000\n",
      ">best! 0, 49080180000000\n",
      ">best! 0, 41022240000000\n",
      ">best! 0, 38336260000000\n"
     ]
    },
    {
     "name": "stderr",
     "output_type": "stream",
     "text": [
      "  2%|▏         | 4/200 [00:00<00:45,  4.33it/s]"
     ]
    },
    {
     "name": "stdout",
     "output_type": "stream",
     "text": [
      ">best! 3, 37847900000000\n",
      ">best! 4, 32720120000000\n"
     ]
    },
    {
     "name": "stderr",
     "output_type": "stream",
     "text": [
      "  2%|▎         | 5/200 [00:01<00:44,  4.37it/s]"
     ]
    },
    {
     "name": "stdout",
     "output_type": "stream",
     "text": [
      ">best! 5, 29789960000000\n"
     ]
    },
    {
     "name": "stderr",
     "output_type": "stream",
     "text": [
      "  4%|▎         | 7/200 [00:01<00:47,  4.08it/s]"
     ]
    },
    {
     "name": "stdout",
     "output_type": "stream",
     "text": [
      ">best! 7, 29301600000000\n"
     ]
    },
    {
     "name": "stderr",
     "output_type": "stream",
     "text": [
      "  4%|▍         | 8/200 [00:01<00:47,  4.03it/s]"
     ]
    },
    {
     "name": "stdout",
     "output_type": "stream",
     "text": [
      ">best! 8, 27836520000000\n"
     ]
    },
    {
     "name": "stderr",
     "output_type": "stream",
     "text": [
      "  8%|▊         | 16/200 [00:04<00:46,  3.99it/s]"
     ]
    },
    {
     "name": "stdout",
     "output_type": "stream",
     "text": [
      ">best! 16, 24906360000000\n"
     ]
    },
    {
     "name": "stderr",
     "output_type": "stream",
     "text": [
      " 58%|█████▊    | 117/200 [00:40<00:28,  2.92it/s]\n"
     ]
    },
    {
     "name": "stdout",
     "output_type": "stream",
     "text": [
      "stop\n",
      "index_4\n",
      "64463520000000\n"
     ]
    },
    {
     "name": "stderr",
     "output_type": "stream",
     "text": [
      "  0%|          | 0/200 [00:00<?, ?it/s]"
     ]
    },
    {
     "name": "stdout",
     "output_type": "stream",
     "text": [
      ">best! 0, 59579920000000\n",
      ">best! 0, 53475420000000\n",
      ">best! 0, 45173300000000\n"
     ]
    },
    {
     "name": "stderr",
     "output_type": "stream",
     "text": [
      "  0%|          | 1/200 [00:00<00:55,  3.58it/s]"
     ]
    },
    {
     "name": "stdout",
     "output_type": "stream",
     "text": [
      ">best! 1, 43708220000000\n",
      ">best! 1, 36871180000000\n",
      ">best! 1, 31743400000000\n"
     ]
    },
    {
     "name": "stderr",
     "output_type": "stream",
     "text": [
      " 16%|█▋        | 33/200 [00:05<00:29,  5.70it/s]"
     ]
    },
    {
     "name": "stdout",
     "output_type": "stream",
     "text": [
      ">best! 32, 31499220000000\n"
     ]
    },
    {
     "name": "stderr",
     "output_type": "stream",
     "text": [
      " 20%|█▉        | 39/200 [00:06<00:23,  6.94it/s]"
     ]
    },
    {
     "name": "stdout",
     "output_type": "stream",
     "text": [
      ">best! 38, 30766680000000\n"
     ]
    },
    {
     "name": "stderr",
     "output_type": "stream",
     "text": [
      " 28%|██▊       | 57/200 [00:09<00:20,  6.99it/s]"
     ]
    },
    {
     "name": "stdout",
     "output_type": "stream",
     "text": [
      ">best! 56, 30034140000000\n"
     ]
    },
    {
     "name": "stderr",
     "output_type": "stream",
     "text": [
      " 34%|███▍      | 68/200 [00:11<00:32,  4.03it/s]"
     ]
    },
    {
     "name": "stdout",
     "output_type": "stream",
     "text": [
      ">best! 68, 28080700000000\n"
     ]
    },
    {
     "name": "stderr",
     "output_type": "stream",
     "text": [
      " 36%|███▌      | 72/200 [00:12<00:29,  4.38it/s]"
     ]
    },
    {
     "name": "stdout",
     "output_type": "stream",
     "text": [
      ">best! 71, 17825140000000\n"
     ]
    },
    {
     "name": "stderr",
     "output_type": "stream",
     "text": [
      " 86%|████████▌ | 172/200 [00:26<00:04,  6.54it/s]\n"
     ]
    },
    {
     "name": "stdout",
     "output_type": "stream",
     "text": [
      "stop\n",
      "index_5\n",
      "59824100000000\n"
     ]
    },
    {
     "name": "stderr",
     "output_type": "stream",
     "text": [
      "  0%|          | 1/200 [00:00<00:27,  7.31it/s]"
     ]
    },
    {
     "name": "stdout",
     "output_type": "stream",
     "text": [
      ">best! 0, 52498700000000\n",
      ">best! 0, 45905840000000\n",
      ">best! 0, 43464040000000\n",
      ">best! 1, 37847900000000\n"
     ]
    },
    {
     "name": "stderr",
     "output_type": "stream",
     "text": [
      "  4%|▍         | 9/200 [00:01<00:20,  9.37it/s]"
     ]
    },
    {
     "name": "stdout",
     "output_type": "stream",
     "text": [
      ">best! 7, 35161920000000\n"
     ]
    },
    {
     "name": "stderr",
     "output_type": "stream",
     "text": [
      "  6%|▌         | 12/200 [00:01<00:20,  9.40it/s]"
     ]
    },
    {
     "name": "stdout",
     "output_type": "stream",
     "text": [
      ">best! 10, 31010860000000\n"
     ]
    },
    {
     "name": "stderr",
     "output_type": "stream",
     "text": [
      " 26%|██▌       | 51/200 [00:05<00:15,  9.47it/s]"
     ]
    },
    {
     "name": "stdout",
     "output_type": "stream",
     "text": [
      ">best! 50, 26615620000000\n"
     ]
    },
    {
     "name": "stderr",
     "output_type": "stream",
     "text": [
      " 29%|██▉       | 58/200 [00:06<00:15,  9.01it/s]"
     ]
    },
    {
     "name": "stdout",
     "output_type": "stream",
     "text": [
      ">best! 57, 23685460000000\n"
     ]
    },
    {
     "name": "stderr",
     "output_type": "stream",
     "text": [
      " 79%|███████▉  | 158/200 [00:18<00:04,  8.67it/s]\n"
     ]
    },
    {
     "name": "stdout",
     "output_type": "stream",
     "text": [
      "stop\n",
      "index_6\n",
      "58603200000000\n"
     ]
    },
    {
     "name": "stderr",
     "output_type": "stream",
     "text": [
      "  0%|          | 1/200 [00:00<00:23,  8.44it/s]"
     ]
    },
    {
     "name": "stdout",
     "output_type": "stream",
     "text": [
      ">best! 0, 52987060000000\n",
      ">best! 0, 37847900000000\n",
      ">best! 1, 31743400000000\n"
     ]
    },
    {
     "name": "stderr",
     "output_type": "stream",
     "text": [
      "  2%|▏         | 3/200 [00:00<00:23,  8.26it/s]"
     ]
    },
    {
     "name": "stdout",
     "output_type": "stream",
     "text": [
      ">best! 2, 27836520000000\n"
     ]
    },
    {
     "name": "stderr",
     "output_type": "stream",
     "text": [
      " 28%|██▊       | 55/200 [00:06<00:15,  9.14it/s]"
     ]
    },
    {
     "name": "stdout",
     "output_type": "stream",
     "text": [
      ">best! 54, 25638900000000\n"
     ]
    },
    {
     "name": "stderr",
     "output_type": "stream",
     "text": [
      " 28%|██▊       | 57/200 [00:06<00:16,  8.87it/s]"
     ]
    },
    {
     "name": "stdout",
     "output_type": "stream",
     "text": [
      ">best! 56, 22708740000000\n"
     ]
    },
    {
     "name": "stderr",
     "output_type": "stream",
     "text": [
      " 78%|███████▊  | 157/200 [00:17<00:04,  8.83it/s]\n"
     ]
    },
    {
     "name": "stdout",
     "output_type": "stream",
     "text": [
      "stop\n",
      "index_7\n",
      "40533880000000\n"
     ]
    },
    {
     "name": "stderr",
     "output_type": "stream",
     "text": [
      "  2%|▎         | 5/200 [00:00<00:04, 46.15it/s]"
     ]
    },
    {
     "name": "stdout",
     "output_type": "stream",
     "text": [
      ">best! 2, 37115360000000\n",
      ">best! 5, 34917740000000\n",
      ">best! 5, 34673560000000\n"
     ]
    },
    {
     "name": "stderr",
     "output_type": "stream",
     "text": [
      "  5%|▌         | 10/200 [00:00<00:04, 39.97it/s]"
     ]
    },
    {
     "name": "stdout",
     "output_type": "stream",
     "text": [
      ">best! 10, 33208480000000"
     ]
    },
    {
     "name": "stderr",
     "output_type": "stream",
     "text": [
      "  8%|▊         | 15/200 [00:00<00:04, 42.06it/s]"
     ]
    },
    {
     "name": "stdout",
     "output_type": "stream",
     "text": [
      "\n",
      ">best! 13, 25394720000000\n"
     ]
    },
    {
     "name": "stderr",
     "output_type": "stream",
     "text": [
      " 57%|█████▋    | 114/200 [00:02<00:02, 38.69it/s]\n"
     ]
    },
    {
     "name": "stdout",
     "output_type": "stream",
     "text": [
      "stop\n",
      "index_8\n",
      "63730980000000\n"
     ]
    },
    {
     "name": "stderr",
     "output_type": "stream",
     "text": [
      "  0%|          | 0/200 [00:00<?, ?it/s]"
     ]
    },
    {
     "name": "stdout",
     "output_type": "stream",
     "text": [
      ">best! 0, 59091560000000\n",
      ">best! 0, 55917220000000\n",
      ">best! 0, 55673040000000\n",
      ">best! 0, 48591820000000\n",
      ">best! 0, 46882560000000\n"
     ]
    },
    {
     "name": "stderr",
     "output_type": "stream",
     "text": [
      "  1%|          | 2/200 [00:00<00:41,  4.82it/s]"
     ]
    },
    {
     "name": "stdout",
     "output_type": "stream",
     "text": [
      ">best! 1, 41266420000000\n"
     ]
    },
    {
     "name": "stderr",
     "output_type": "stream",
     "text": [
      "  2%|▏         | 3/200 [00:00<00:40,  4.83it/s]"
     ]
    },
    {
     "name": "stdout",
     "output_type": "stream",
     "text": [
      ">best! 3, 40778060000000\n"
     ]
    },
    {
     "name": "stderr",
     "output_type": "stream",
     "text": [
      "  2%|▏         | 4/200 [00:00<00:42,  4.66it/s]"
     ]
    },
    {
     "name": "stdout",
     "output_type": "stream",
     "text": [
      ">best! 4, 39557160000000\n"
     ]
    },
    {
     "name": "stderr",
     "output_type": "stream",
     "text": [
      "  3%|▎         | 6/200 [00:01<00:41,  4.69it/s]"
     ]
    },
    {
     "name": "stdout",
     "output_type": "stream",
     "text": [
      ">best! 6, 38336260000000\n"
     ]
    },
    {
     "name": "stderr",
     "output_type": "stream",
     "text": [
      "  5%|▌         | 10/200 [00:02<00:37,  5.00it/s]"
     ]
    },
    {
     "name": "stdout",
     "output_type": "stream",
     "text": [
      ">best! 9, 38092080000000\n",
      ">best! 10, 37847900000000\n"
     ]
    },
    {
     "name": "stderr",
     "output_type": "stream",
     "text": [
      "  6%|▌         | 11/200 [00:02<00:38,  4.95it/s]"
     ]
    },
    {
     "name": "stdout",
     "output_type": "stream",
     "text": [
      ">best! 11, 37603720000000\n"
     ]
    },
    {
     "name": "stderr",
     "output_type": "stream",
     "text": [
      "  6%|▋         | 13/200 [00:02<00:39,  4.79it/s]"
     ]
    },
    {
     "name": "stdout",
     "output_type": "stream",
     "text": [
      ">best! 12, 37115360000000\n"
     ]
    },
    {
     "name": "stderr",
     "output_type": "stream",
     "text": [
      "  8%|▊         | 17/200 [00:03<00:40,  4.56it/s]"
     ]
    },
    {
     "name": "stdout",
     "output_type": "stream",
     "text": [
      ">best! 17, 35894460000000\n"
     ]
    },
    {
     "name": "stderr",
     "output_type": "stream",
     "text": [
      " 10%|▉         | 19/200 [00:04<00:44,  4.03it/s]"
     ]
    },
    {
     "name": "stdout",
     "output_type": "stream",
     "text": [
      ">best! 19, 35161920000000\n"
     ]
    },
    {
     "name": "stderr",
     "output_type": "stream",
     "text": [
      " 10%|█         | 21/200 [00:04<00:42,  4.24it/s]"
     ]
    },
    {
     "name": "stdout",
     "output_type": "stream",
     "text": [
      ">best! 21, 34673560000000\n"
     ]
    },
    {
     "name": "stderr",
     "output_type": "stream",
     "text": [
      " 12%|█▏        | 23/200 [00:05<00:40,  4.40it/s]"
     ]
    },
    {
     "name": "stdout",
     "output_type": "stream",
     "text": [
      ">best! 22, 32475940000000\n"
     ]
    },
    {
     "name": "stderr",
     "output_type": "stream",
     "text": [
      " 14%|█▎        | 27/200 [00:05<00:38,  4.54it/s]"
     ]
    },
    {
     "name": "stdout",
     "output_type": "stream",
     "text": [
      ">best! 27, 26615620000000\n"
     ]
    },
    {
     "name": "stderr",
     "output_type": "stream",
     "text": [
      " 54%|█████▍    | 108/200 [00:24<00:23,  3.86it/s]"
     ]
    },
    {
     "name": "stdout",
     "output_type": "stream",
     "text": [
      ">best! 108, 24662180000000\n"
     ]
    },
    {
     "name": "stderr",
     "output_type": "stream",
     "text": [
      " 55%|█████▌    | 110/200 [00:24<00:22,  4.06it/s]"
     ]
    },
    {
     "name": "stdout",
     "output_type": "stream",
     "text": [
      ">best! 109, 20266940000000\n"
     ]
    },
    {
     "name": "stderr",
     "output_type": "stream",
     "text": [
      "100%|██████████| 200/200 [00:44<00:00,  4.52it/s]\n"
     ]
    },
    {
     "name": "stdout",
     "output_type": "stream",
     "text": [
      "index_1\n",
      "3088000000000\n"
     ]
    },
    {
     "name": "stderr",
     "output_type": "stream",
     "text": [
      "  1%|          | 2/200 [00:00<00:10, 19.65it/s]"
     ]
    },
    {
     "name": "stdout",
     "output_type": "stream",
     "text": [
      ">best! 0, 2316000000000\n",
      ">best! 0, 2123000000000\n",
      ">best! 0, 1930000000000\n"
     ]
    },
    {
     "name": "stderr",
     "output_type": "stream",
     "text": [
      "  4%|▍         | 8/200 [00:00<00:10, 17.64it/s]"
     ]
    },
    {
     "name": "stdout",
     "output_type": "stream",
     "text": [
      ">best! 5, 1351000000000\n",
      ">best! 6, 1158000000000\n"
     ]
    },
    {
     "name": "stderr",
     "output_type": "stream",
     "text": [
      " 54%|█████▎    | 107/200 [00:05<00:05, 17.98it/s]\n",
      "/tmp/ipykernel_3697/2547579054.py:278: FutureWarning: Setting an item of incompatible dtype is deprecated and will raise an error in a future version of pandas. Value '0:00:05.957653' has dtype incompatible with float64, please explicitly cast to a compatible dtype first.\n",
      "  hyper_parameters.loc[i, 'time'] = elapsed_time\n"
     ]
    },
    {
     "name": "stdout",
     "output_type": "stream",
     "text": [
      "stop\n",
      "index_2\n",
      "2702000000000\n"
     ]
    },
    {
     "name": "stderr",
     "output_type": "stream",
     "text": [
      "  0%|          | 1/200 [00:00<00:35,  5.68it/s]"
     ]
    },
    {
     "name": "stdout",
     "output_type": "stream",
     "text": [
      ">best! 0, 2123000000000\n",
      ">best! 0, 1544000000000\n"
     ]
    },
    {
     "name": "stderr",
     "output_type": "stream",
     "text": [
      "  2%|▏         | 4/200 [00:00<00:34,  5.60it/s]"
     ]
    },
    {
     "name": "stdout",
     "output_type": "stream",
     "text": [
      ">best! 3, 965000000000\n"
     ]
    },
    {
     "name": "stderr",
     "output_type": "stream",
     "text": [
      " 33%|███▎      | 66/200 [00:07<00:14,  9.09it/s]"
     ]
    },
    {
     "name": "stdout",
     "output_type": "stream",
     "text": [
      ">best! 65, 772000000000\n"
     ]
    },
    {
     "name": "stderr",
     "output_type": "stream",
     "text": [
      " 83%|████████▎ | 166/200 [00:18<00:03,  8.84it/s]\n"
     ]
    },
    {
     "name": "stdout",
     "output_type": "stream",
     "text": [
      "stop\n",
      "index_3\n",
      "2316000000000\n"
     ]
    },
    {
     "name": "stderr",
     "output_type": "stream",
     "text": [
      "  0%|          | 0/200 [00:00<?, ?it/s]"
     ]
    },
    {
     "name": "stdout",
     "output_type": "stream",
     "text": [
      ">best! 0, 1930000000000\n",
      ">best! 0, 1737000000000\n"
     ]
    },
    {
     "name": "stderr",
     "output_type": "stream",
     "text": [
      "  1%|          | 2/200 [00:00<00:41,  4.82it/s]"
     ]
    },
    {
     "name": "stdout",
     "output_type": "stream",
     "text": [
      ">best! 2, 1544000000000\n"
     ]
    },
    {
     "name": "stderr",
     "output_type": "stream",
     "text": [
      "  2%|▎         | 5/200 [00:01<00:40,  4.76it/s]"
     ]
    },
    {
     "name": "stdout",
     "output_type": "stream",
     "text": [
      ">best! 4, 1351000000000\n"
     ]
    },
    {
     "name": "stderr",
     "output_type": "stream",
     "text": [
      " 10%|█         | 21/200 [00:04<00:38,  4.70it/s]"
     ]
    },
    {
     "name": "stdout",
     "output_type": "stream",
     "text": [
      ">best! 21, 1158000000000\n"
     ]
    },
    {
     "name": "stderr",
     "output_type": "stream",
     "text": [
      " 34%|███▍      | 69/200 [00:14<00:26,  4.92it/s]"
     ]
    },
    {
     "name": "stdout",
     "output_type": "stream",
     "text": [
      ">best! 68, 965000000000\n"
     ]
    },
    {
     "name": "stderr",
     "output_type": "stream",
     "text": [
      " 84%|████████▍ | 169/200 [00:36<00:06,  4.62it/s]\n"
     ]
    },
    {
     "name": "stdout",
     "output_type": "stream",
     "text": [
      "stop\n",
      "index_4\n",
      "2123000000000\n"
     ]
    },
    {
     "name": "stderr",
     "output_type": "stream",
     "text": [
      "  1%|          | 2/200 [00:00<00:18, 10.75it/s]"
     ]
    },
    {
     "name": "stdout",
     "output_type": "stream",
     "text": [
      ">best! 0, 1930000000000\n",
      ">best! 1, 1544000000000\n",
      ">best! 1, 1351000000000\n"
     ]
    },
    {
     "name": "stderr",
     "output_type": "stream",
     "text": [
      "  8%|▊         | 16/200 [00:01<00:17, 10.44it/s]"
     ]
    },
    {
     "name": "stdout",
     "output_type": "stream",
     "text": [
      ">best! 15, 1158000000000\n"
     ]
    },
    {
     "name": "stderr",
     "output_type": "stream",
     "text": [
      " 58%|█████▊    | 116/200 [00:12<00:09,  8.98it/s]\n"
     ]
    },
    {
     "name": "stdout",
     "output_type": "stream",
     "text": [
      "stop\n",
      "index_5\n",
      "2123000000000\n"
     ]
    },
    {
     "name": "stderr",
     "output_type": "stream",
     "text": [
      "  0%|          | 1/200 [00:00<00:23,  8.33it/s]"
     ]
    },
    {
     "name": "stdout",
     "output_type": "stream",
     "text": [
      ">best! 0, 1737000000000\n"
     ]
    },
    {
     "name": "stderr",
     "output_type": "stream",
     "text": [
      "  3%|▎         | 6/200 [00:00<00:21,  9.21it/s]"
     ]
    },
    {
     "name": "stdout",
     "output_type": "stream",
     "text": [
      ">best! 5, 1351000000000\n",
      ">best! 6, 1158000000000\n"
     ]
    },
    {
     "name": "stderr",
     "output_type": "stream",
     "text": [
      "  8%|▊         | 15/200 [00:01<00:20,  9.10it/s]"
     ]
    },
    {
     "name": "stdout",
     "output_type": "stream",
     "text": [
      ">best! 13, 965000000000\n"
     ]
    },
    {
     "name": "stderr",
     "output_type": "stream",
     "text": [
      " 57%|█████▋    | 114/200 [00:12<00:09,  9.24it/s]\n"
     ]
    },
    {
     "name": "stdout",
     "output_type": "stream",
     "text": [
      "stop\n",
      "index_6\n",
      "2316000000000\n"
     ]
    },
    {
     "name": "stderr",
     "output_type": "stream",
     "text": [
      "  0%|          | 0/200 [00:00<?, ?it/s]"
     ]
    },
    {
     "name": "stdout",
     "output_type": "stream",
     "text": [
      ">best! 0, 1930000000000\n",
      ">best! 1, 1351000000000\n"
     ]
    },
    {
     "name": "stderr",
     "output_type": "stream",
     "text": [
      " 28%|██▊       | 56/200 [00:06<00:14,  9.63it/s]"
     ]
    },
    {
     "name": "stdout",
     "output_type": "stream",
     "text": [
      ">best! 55, 1158000000000\n"
     ]
    },
    {
     "name": "stderr",
     "output_type": "stream",
     "text": [
      " 50%|█████     | 101/200 [00:11<00:11,  8.84it/s]"
     ]
    },
    {
     "name": "stdout",
     "output_type": "stream",
     "text": [
      ">best! 100, 772000000000\n"
     ]
    },
    {
     "name": "stderr",
     "output_type": "stream",
     "text": [
      "100%|██████████| 200/200 [00:21<00:00,  9.30it/s]\n"
     ]
    },
    {
     "name": "stdout",
     "output_type": "stream",
     "text": [
      "index_7\n",
      "3281000000000\n"
     ]
    },
    {
     "name": "stderr",
     "output_type": "stream",
     "text": [
      "  2%|▏         | 4/200 [00:00<00:05, 34.82it/s]"
     ]
    },
    {
     "name": "stdout",
     "output_type": "stream",
     "text": [
      ">best! 0, 2895000000000\n",
      ">best! 0, 2123000000000\n",
      ">best! 1, 1351000000000\n"
     ]
    },
    {
     "name": "stderr",
     "output_type": "stream",
     "text": [
      " 10%|▉         | 19/200 [00:00<00:05, 34.63it/s]"
     ]
    },
    {
     "name": "stdout",
     "output_type": "stream",
     "text": [
      ">best! 14, 965000000000\n"
     ]
    },
    {
     "name": "stderr",
     "output_type": "stream",
     "text": [
      " 57%|█████▊    | 115/200 [00:02<00:02, 40.29it/s]\n"
     ]
    },
    {
     "name": "stdout",
     "output_type": "stream",
     "text": [
      "stop\n",
      "index_8\n",
      "2123000000000\n"
     ]
    },
    {
     "name": "stderr",
     "output_type": "stream",
     "text": [
      "  0%|          | 0/200 [00:00<?, ?it/s]"
     ]
    },
    {
     "name": "stdout",
     "output_type": "stream",
     "text": [
      ">best! 0, 1930000000000\n"
     ]
    },
    {
     "name": "stderr",
     "output_type": "stream",
     "text": [
      "  0%|          | 1/200 [00:00<00:43,  4.59it/s]"
     ]
    },
    {
     "name": "stdout",
     "output_type": "stream",
     "text": [
      ">best! 1, 1737000000000\n"
     ]
    },
    {
     "name": "stderr",
     "output_type": "stream",
     "text": [
      "  2%|▏         | 3/200 [00:00<00:40,  4.87it/s]"
     ]
    },
    {
     "name": "stdout",
     "output_type": "stream",
     "text": [
      ">best! 2, 1544000000000\n"
     ]
    },
    {
     "name": "stderr",
     "output_type": "stream",
     "text": [
      "  9%|▉         | 18/200 [00:03<00:34,  5.34it/s]"
     ]
    },
    {
     "name": "stdout",
     "output_type": "stream",
     "text": [
      ">best! 17, 1351000000000\n"
     ]
    },
    {
     "name": "stderr",
     "output_type": "stream",
     "text": [
      " 20%|█▉        | 39/200 [00:07<00:31,  5.13it/s]"
     ]
    },
    {
     "name": "stdout",
     "output_type": "stream",
     "text": [
      ">best! 38, 965000000000\n"
     ]
    },
    {
     "name": "stderr",
     "output_type": "stream",
     "text": [
      " 70%|██████▉   | 139/200 [00:27<00:11,  5.11it/s]\n"
     ]
    },
    {
     "name": "stdout",
     "output_type": "stream",
     "text": [
      "stop\n",
      "index_1\n",
      "0\n"
     ]
    },
    {
     "name": "stderr",
     "output_type": "stream",
     "text": [
      " 50%|█████     | 101/200 [00:04<00:03, 25.07it/s]\n",
      "/tmp/ipykernel_3697/2547579054.py:278: FutureWarning: Setting an item of incompatible dtype is deprecated and will raise an error in a future version of pandas. Value '0:00:04.032422' has dtype incompatible with float64, please explicitly cast to a compatible dtype first.\n",
      "  hyper_parameters.loc[i, 'time'] = elapsed_time\n"
     ]
    },
    {
     "name": "stdout",
     "output_type": "stream",
     "text": [
      "stop\n",
      "index_2\n",
      "0\n"
     ]
    },
    {
     "name": "stderr",
     "output_type": "stream",
     "text": [
      " 50%|█████     | 101/200 [00:07<00:07, 12.68it/s]\n"
     ]
    },
    {
     "name": "stdout",
     "output_type": "stream",
     "text": [
      "stop\n",
      "index_3\n",
      "0\n"
     ]
    },
    {
     "name": "stderr",
     "output_type": "stream",
     "text": [
      " 50%|█████     | 101/200 [00:16<00:16,  6.12it/s]\n"
     ]
    },
    {
     "name": "stdout",
     "output_type": "stream",
     "text": [
      "stop\n",
      "index_4\n",
      "0\n"
     ]
    },
    {
     "name": "stderr",
     "output_type": "stream",
     "text": [
      " 50%|█████     | 101/200 [00:08<00:07, 12.56it/s]\n"
     ]
    },
    {
     "name": "stdout",
     "output_type": "stream",
     "text": [
      "stop\n",
      "index_5\n",
      "0\n"
     ]
    },
    {
     "name": "stderr",
     "output_type": "stream",
     "text": [
      " 50%|█████     | 101/200 [00:08<00:07, 12.56it/s]\n"
     ]
    },
    {
     "name": "stdout",
     "output_type": "stream",
     "text": [
      "stop\n",
      "index_6\n",
      "0\n"
     ]
    },
    {
     "name": "stderr",
     "output_type": "stream",
     "text": [
      " 50%|█████     | 101/200 [00:08<00:08, 12.13it/s]\n"
     ]
    },
    {
     "name": "stdout",
     "output_type": "stream",
     "text": [
      "stop\n",
      "index_7\n",
      "0\n"
     ]
    },
    {
     "name": "stderr",
     "output_type": "stream",
     "text": [
      " 50%|█████     | 101/200 [00:01<00:01, 57.19it/s]\n"
     ]
    },
    {
     "name": "stdout",
     "output_type": "stream",
     "text": [
      "stop\n",
      "index_8\n",
      "0\n"
     ]
    },
    {
     "name": "stderr",
     "output_type": "stream",
     "text": [
      " 50%|█████     | 101/200 [00:14<00:14,  6.78it/s]\n"
     ]
    },
    {
     "name": "stdout",
     "output_type": "stream",
     "text": [
      "stop\n",
      "index_1\n",
      "7752000\n"
     ]
    },
    {
     "name": "stderr",
     "output_type": "stream",
     "text": [
      "  0%|          | 0/200 [00:00<?, ?it/s]"
     ]
    },
    {
     "name": "stdout",
     "output_type": "stream",
     "text": [
      ">best! 0, 6298500\n",
      ">best! 0, 6056250\n",
      ">best! 0, 1695750\n"
     ]
    },
    {
     "name": "stderr",
     "output_type": "stream",
     "text": [
      "  2%|▎         | 5/200 [00:00<00:04, 42.65it/s]"
     ]
    },
    {
     "name": "stdout",
     "output_type": "stream",
     "text": [
      ">best! 5, 1453500\n"
     ]
    },
    {
     "name": "stderr",
     "output_type": "stream",
     "text": [
      "  6%|▌         | 12/200 [00:00<00:03, 56.12it/s]"
     ]
    },
    {
     "name": "stdout",
     "output_type": "stream",
     "text": [
      ">best! 18, 1211250\n"
     ]
    },
    {
     "name": "stderr",
     "output_type": "stream",
     "text": [
      " 15%|█▌        | 30/200 [00:00<00:02, 72.86it/s]"
     ]
    },
    {
     "name": "stdout",
     "output_type": "stream",
     "text": [
      ">best! 23, 726750\n"
     ]
    },
    {
     "name": "stderr",
     "output_type": "stream",
     "text": [
      " 23%|██▎       | 46/200 [00:00<00:02, 61.62it/s]"
     ]
    },
    {
     "name": "stdout",
     "output_type": "stream",
     "text": [
      ">best! 40, 242250\n"
     ]
    },
    {
     "name": "stderr",
     "output_type": "stream",
     "text": [
      " 42%|████▏     | 83/200 [00:01<00:01, 80.80it/s]"
     ]
    },
    {
     "name": "stdout",
     "output_type": "stream",
     "text": [
      ">best! 68, 0\n"
     ]
    },
    {
     "name": "stderr",
     "output_type": "stream",
     "text": [
      " 84%|████████▍ | 169/200 [00:02<00:00, 80.62it/s]\n",
      "/tmp/ipykernel_3697/2547579054.py:278: FutureWarning: Setting an item of incompatible dtype is deprecated and will raise an error in a future version of pandas. Value '0:00:02.101349' has dtype incompatible with float64, please explicitly cast to a compatible dtype first.\n",
      "  hyper_parameters.loc[i, 'time'] = elapsed_time\n"
     ]
    },
    {
     "name": "stdout",
     "output_type": "stream",
     "text": [
      "stop\n",
      "index_2\n",
      "5329500\n"
     ]
    },
    {
     "name": "stderr",
     "output_type": "stream",
     "text": [
      "  2%|▏         | 4/200 [00:00<00:05, 38.71it/s]"
     ]
    },
    {
     "name": "stdout",
     "output_type": "stream",
     "text": [
      ">best! 0, 5087250\n",
      ">best! 0, 3149250\n",
      ">best! 2, 2907000\n",
      ">best! 2, 2422500\n",
      ">best! 2, 1938000\n"
     ]
    },
    {
     "name": "stderr",
     "output_type": "stream",
     "text": [
      " 10%|▉         | 19/200 [00:00<00:04, 43.86it/s]"
     ]
    },
    {
     "name": "stdout",
     "output_type": "stream",
     "text": [
      ">best! 10, 1453500\n",
      ">best! 13, 1211250\n",
      ">best! 18, 484500\n"
     ]
    },
    {
     "name": "stderr",
     "output_type": "stream",
     "text": [
      " 40%|████      | 80/200 [00:01<00:02, 40.45it/s]"
     ]
    },
    {
     "name": "stdout",
     "output_type": "stream",
     "text": [
      ">best! 75, 0\n"
     ]
    },
    {
     "name": "stderr",
     "output_type": "stream",
     "text": [
      " 88%|████████▊ | 176/200 [00:04<00:00, 39.10it/s]\n"
     ]
    },
    {
     "name": "stdout",
     "output_type": "stream",
     "text": [
      "stop\n",
      "index_3\n",
      "7752000\n"
     ]
    },
    {
     "name": "stderr",
     "output_type": "stream",
     "text": [
      "  2%|▏         | 3/200 [00:00<00:09, 21.72it/s]"
     ]
    },
    {
     "name": "stdout",
     "output_type": "stream",
     "text": [
      ">best! 0, 6540750\n",
      ">best! 0, 6056250\n",
      ">best! 0, 5571750\n",
      ">best! 0, 3149250\n",
      ">best! 0, 2907000\n",
      ">best! 1, 2422500\n",
      ">best! 2, 1453500\n"
     ]
    },
    {
     "name": "stderr",
     "output_type": "stream",
     "text": [
      "  4%|▍         | 9/200 [00:00<00:09, 20.18it/s]"
     ]
    },
    {
     "name": "stdout",
     "output_type": "stream",
     "text": [
      ">best! 7, 1211250\n"
     ]
    },
    {
     "name": "stderr",
     "output_type": "stream",
     "text": [
      " 12%|█▏        | 23/200 [00:01<00:10, 16.30it/s]"
     ]
    },
    {
     "name": "stdout",
     "output_type": "stream",
     "text": [
      ">best! 20, 484500\n"
     ]
    },
    {
     "name": "stderr",
     "output_type": "stream",
     "text": [
      " 18%|█▊        | 35/200 [00:01<00:09, 18.28it/s]"
     ]
    },
    {
     "name": "stdout",
     "output_type": "stream",
     "text": [
      ">best! 32, 242250\n"
     ]
    },
    {
     "name": "stderr",
     "output_type": "stream",
     "text": [
      " 20%|██        | 41/200 [00:02<00:08, 19.53it/s]"
     ]
    },
    {
     "name": "stdout",
     "output_type": "stream",
     "text": [
      ">best! 38, 0\n"
     ]
    },
    {
     "name": "stderr",
     "output_type": "stream",
     "text": [
      " 70%|██████▉   | 139/200 [00:07<00:03, 17.42it/s]\n"
     ]
    },
    {
     "name": "stdout",
     "output_type": "stream",
     "text": [
      "stop\n",
      "index_4\n",
      "3633750\n"
     ]
    },
    {
     "name": "stderr",
     "output_type": "stream",
     "text": [
      "  2%|▏         | 4/200 [00:00<00:05, 34.42it/s]"
     ]
    },
    {
     "name": "stdout",
     "output_type": "stream",
     "text": [
      ">best! 1, 2180250\n",
      ">best! 2, 1695750\n",
      ">best! 4, 1453500\n"
     ]
    },
    {
     "name": "stderr",
     "output_type": "stream",
     "text": [
      "  8%|▊         | 16/200 [00:00<00:05, 32.86it/s]"
     ]
    },
    {
     "name": "stdout",
     "output_type": "stream",
     "text": [
      ">best! 12, 969000\n"
     ]
    },
    {
     "name": "stderr",
     "output_type": "stream",
     "text": [
      " 18%|█▊        | 35/200 [00:00<00:04, 38.57it/s]"
     ]
    },
    {
     "name": "stdout",
     "output_type": "stream",
     "text": [
      ">best! 28, 242250\n"
     ]
    },
    {
     "name": "stderr",
     "output_type": "stream",
     "text": [
      " 56%|█████▋    | 113/200 [00:02<00:02, 42.58it/s]"
     ]
    },
    {
     "name": "stdout",
     "output_type": "stream",
     "text": [
      ">best! 104, 0\n"
     ]
    },
    {
     "name": "stderr",
     "output_type": "stream",
     "text": [
      "100%|██████████| 200/200 [00:05<00:00, 39.75it/s]\n"
     ]
    },
    {
     "name": "stdout",
     "output_type": "stream",
     "text": [
      "index_5\n",
      "3391500\n"
     ]
    },
    {
     "name": "stderr",
     "output_type": "stream",
     "text": [
      "  2%|▏         | 4/200 [00:00<00:05, 36.74it/s]"
     ]
    },
    {
     "name": "stdout",
     "output_type": "stream",
     "text": [
      ">best! 0, 726750\n",
      ">best! 7, 0\n"
     ]
    },
    {
     "name": "stderr",
     "output_type": "stream",
     "text": [
      " 54%|█████▍    | 108/200 [00:02<00:02, 39.72it/s]\n"
     ]
    },
    {
     "name": "stdout",
     "output_type": "stream",
     "text": [
      "stop\n",
      "index_6\n",
      "2422500\n"
     ]
    },
    {
     "name": "stderr",
     "output_type": "stream",
     "text": [
      "  2%|▏         | 4/200 [00:00<00:04, 39.24it/s]"
     ]
    },
    {
     "name": "stdout",
     "output_type": "stream",
     "text": [
      ">best! 0, 1938000\n",
      ">best! 2, 484500\n"
     ]
    },
    {
     "name": "stderr",
     "output_type": "stream",
     "text": [
      " 24%|██▍       | 48/200 [00:01<00:04, 34.20it/s]"
     ]
    },
    {
     "name": "stdout",
     "output_type": "stream",
     "text": [
      ">best! 45, 242250\n"
     ]
    },
    {
     "name": "stderr",
     "output_type": "stream",
     "text": [
      " 54%|█████▎    | 107/200 [00:02<00:02, 44.13it/s]"
     ]
    },
    {
     "name": "stdout",
     "output_type": "stream",
     "text": [
      ">best! 101, 0\n"
     ]
    },
    {
     "name": "stderr",
     "output_type": "stream",
     "text": [
      "100%|██████████| 200/200 [00:04<00:00, 40.41it/s]\n"
     ]
    },
    {
     "name": "stdout",
     "output_type": "stream",
     "text": [
      "index_7\n",
      "6298500\n"
     ]
    },
    {
     "name": "stderr",
     "output_type": "stream",
     "text": [
      "  7%|▋         | 14/200 [00:00<00:01, 136.05it/s]"
     ]
    },
    {
     "name": "stdout",
     "output_type": "stream",
     "text": [
      ">best! 0, 5087250\n",
      ">best! 0, 4360500\n",
      ">best! 0, 1938000\n",
      ">best! 0, 484500\n"
     ]
    },
    {
     "name": "stderr",
     "output_type": "stream",
     "text": [
      " 28%|██▊       | 56/200 [00:00<00:01, 131.87it/s]"
     ]
    },
    {
     "name": "stdout",
     "output_type": "stream",
     "text": [
      ">best! 34, 0\n"
     ]
    },
    {
     "name": "stderr",
     "output_type": "stream",
     "text": [
      " 68%|██████▊   | 135/200 [00:01<00:00, 128.97it/s]\n"
     ]
    },
    {
     "name": "stdout",
     "output_type": "stream",
     "text": [
      "stop\n",
      "index_8\n",
      "7752000\n"
     ]
    },
    {
     "name": "stderr",
     "output_type": "stream",
     "text": [
      "  2%|▏         | 3/200 [00:00<00:06, 28.16it/s]"
     ]
    },
    {
     "name": "stdout",
     "output_type": "stream",
     "text": [
      ">best! 0, 5087250\n",
      ">best! 0, 3149250\n",
      ">best! 0, 2664750\n",
      ">best! 2, 1211250\n"
     ]
    },
    {
     "name": "stderr",
     "output_type": "stream",
     "text": [
      "  8%|▊         | 16/200 [00:00<00:07, 25.97it/s]"
     ]
    },
    {
     "name": "stdout",
     "output_type": "stream",
     "text": [
      ">best! 11, 726750\n",
      ">best! 15, 0\n"
     ]
    },
    {
     "name": "stderr",
     "output_type": "stream",
     "text": [
      " 58%|█████▊    | 116/200 [00:04<00:03, 27.02it/s]\n"
     ]
    },
    {
     "name": "stdout",
     "output_type": "stream",
     "text": [
      "stop\n",
      "index_1\n",
      "99335016727192\n"
     ]
    },
    {
     "name": "stderr",
     "output_type": "stream",
     "text": [
      "  6%|▌         | 11/200 [00:00<00:01, 95.86it/s]"
     ]
    },
    {
     "name": "stdout",
     "output_type": "stream",
     "text": [
      ">best! 0, 79455016727192\n",
      ">best! 1, 77400016330038\n",
      ">best! 2, 73935016727192\n",
      ">best! 3, 49800018231192\n",
      ">best! 7, 12455018767192\n"
     ]
    },
    {
     "name": "stderr",
     "output_type": "stream",
     "text": [
      " 43%|████▎     | 86/200 [00:00<00:01, 94.19it/s] "
     ]
    },
    {
     "name": "stdout",
     "output_type": "stream",
     "text": [
      ">best! 65, 18439692\n"
     ]
    },
    {
     "name": "stderr",
     "output_type": "stream",
     "text": [
      " 83%|████████▎ | 166/200 [00:01<00:00, 95.04it/s]\n",
      "/tmp/ipykernel_3697/2547579054.py:278: FutureWarning: Setting an item of incompatible dtype is deprecated and will raise an error in a future version of pandas. Value '0:00:01.751368' has dtype incompatible with float64, please explicitly cast to a compatible dtype first.\n",
      "  hyper_parameters.loc[i, 'time'] = elapsed_time\n"
     ]
    },
    {
     "name": "stdout",
     "output_type": "stream",
     "text": [
      "stop\n",
      "index_2\n",
      "104870016727192\n"
     ]
    },
    {
     "name": "stderr",
     "output_type": "stream",
     "text": [
      "  3%|▎         | 6/200 [00:00<00:03, 52.16it/s]"
     ]
    },
    {
     "name": "stdout",
     "output_type": "stream",
     "text": [
      ">best! 0, 63805016727192\n",
      ">best! 0, 55800017526192\n",
      ">best! 0, 44400018818692\n",
      ">best! 0, 38400016985692\n",
      ">best! 3, 4800019946692\n"
     ]
    },
    {
     "name": "stderr",
     "output_type": "stream",
     "text": [
      " 52%|█████▏    | 104/200 [00:02<00:02, 39.34it/s]\n"
     ]
    },
    {
     "name": "stdout",
     "output_type": "stream",
     "text": [
      "stop\n",
      "index_3\n",
      "164850016727192\n"
     ]
    },
    {
     "name": "stderr",
     "output_type": "stream",
     "text": [
      "  2%|▏         | 3/200 [00:00<00:08, 23.32it/s]"
     ]
    },
    {
     "name": "stdout",
     "output_type": "stream",
     "text": [
      ">best! 0, 90600017737692\n",
      ">best! 0, 90190016727192\n",
      ">best! 0, 61160016727192\n",
      ">best! 0, 54205014134010\n",
      ">best! 1, 45430015909522\n",
      ">best! 1, 6000018301692\n"
     ]
    },
    {
     "name": "stderr",
     "output_type": "stream",
     "text": [
      " 51%|█████     | 102/200 [00:04<00:04, 20.85it/s]\n"
     ]
    },
    {
     "name": "stdout",
     "output_type": "stream",
     "text": [
      "stop\n",
      "index_4\n",
      "104015016727192\n"
     ]
    },
    {
     "name": "stderr",
     "output_type": "stream",
     "text": [
      "  1%|          | 2/200 [00:00<00:09, 19.83it/s]"
     ]
    },
    {
     "name": "stdout",
     "output_type": "stream",
     "text": [
      ">best! 0, 93600018654192\n",
      ">best! 0, 90675016727192\n",
      ">best! 0, 86585016516934\n",
      ">best! 0, 53460016727192\n",
      ">best! 0, 49800018066692\n",
      ">best! 0, 43180016727192\n",
      ">best! 3, 28200017549692\n"
     ]
    },
    {
     "name": "stderr",
     "output_type": "stream",
     "text": [
      " 10%|▉         | 19/200 [00:00<00:08, 22.38it/s]"
     ]
    },
    {
     "name": "stdout",
     "output_type": "stream",
     "text": [
      ">best! 16, 3000017385192\n"
     ]
    },
    {
     "name": "stderr",
     "output_type": "stream",
     "text": [
      " 58%|█████▊    | 117/200 [00:04<00:03, 25.67it/s]\n"
     ]
    },
    {
     "name": "stdout",
     "output_type": "stream",
     "text": [
      "stop\n",
      "index_5\n",
      "157155015675902\n"
     ]
    },
    {
     "name": "stderr",
     "output_type": "stream",
     "text": [
      "  2%|▏         | 4/200 [00:00<00:05, 37.86it/s]"
     ]
    },
    {
     "name": "stdout",
     "output_type": "stream",
     "text": [
      ">best! 0, 76880016727192\n",
      ">best! 0, 54530016727192\n",
      ">best! 0, 40200017596692\n",
      ">best! 6, 35400017244192\n"
     ]
    },
    {
     "name": "stderr",
     "output_type": "stream",
     "text": [
      "  4%|▍         | 9/200 [00:00<00:04, 42.26it/s]"
     ]
    },
    {
     "name": "stdout",
     "output_type": "stream",
     "text": [
      ">best! 9, 33400016727192\n"
     ]
    },
    {
     "name": "stderr",
     "output_type": "stream",
     "text": [
      " 12%|█▏        | 24/200 [00:00<00:04, 37.62it/s]"
     ]
    },
    {
     "name": "stdout",
     "output_type": "stream",
     "text": [
      ">best! 20, 18600016774192\n"
     ]
    },
    {
     "name": "stderr",
     "output_type": "stream",
     "text": [
      " 36%|███▌      | 71/200 [00:02<00:03, 32.43it/s]"
     ]
    },
    {
     "name": "stdout",
     "output_type": "stream",
     "text": [
      ">best! 64, 10340016727192\n"
     ]
    },
    {
     "name": "stderr",
     "output_type": "stream",
     "text": [
      " 82%|████████▎ | 165/200 [00:05<00:01, 30.64it/s]\n"
     ]
    },
    {
     "name": "stdout",
     "output_type": "stream",
     "text": [
      "stop\n",
      "index_6\n",
      "201445016727192\n"
     ]
    },
    {
     "name": "stderr",
     "output_type": "stream",
     "text": [
      "  2%|▎         | 5/200 [00:00<00:04, 44.02it/s]"
     ]
    },
    {
     "name": "stdout",
     "output_type": "stream",
     "text": [
      ">best! 0, 108025016727192\n",
      ">best! 0, 103440016727192\n",
      ">best! 0, 93600018748192\n",
      ">best! 0, 88240015489006\n",
      ">best! 0, 58800017996192\n",
      ">best! 2, 34800016962192\n",
      ">best! 6, 27000018677692\n"
     ]
    },
    {
     "name": "stderr",
     "output_type": "stream",
     "text": [
      "  8%|▊         | 15/200 [00:00<00:04, 42.50it/s]"
     ]
    },
    {
     "name": "stdout",
     "output_type": "stream",
     "text": [
      ">best! 10, 6000018630692\n"
     ]
    },
    {
     "name": "stderr",
     "output_type": "stream",
     "text": [
      " 56%|█████▌    | 111/200 [00:02<00:02, 38.42it/s]\n"
     ]
    },
    {
     "name": "stdout",
     "output_type": "stream",
     "text": [
      "stop\n",
      "index_7\n",
      "134100016727192\n"
     ]
    },
    {
     "name": "stderr",
     "output_type": "stream",
     "text": [
      "  5%|▌         | 10/200 [00:00<00:02, 92.30it/s]"
     ]
    },
    {
     "name": "stdout",
     "output_type": "stream",
     "text": [
      ">best! 0, 104365016680468\n",
      ">best! 1, 91345016727192\n",
      ">best! 1, 63600018889192\n",
      ">best! 2, 62510016727192\n",
      ">best! 2, 59255016727192\n",
      ">best! 2, 36425016156418\n",
      ">best! 4, 33080016727192\n",
      ">best! 5, 30710016727192\n",
      ">best! 7, 28880016727192\n",
      ">best! 17, 12600018231192\n"
     ]
    },
    {
     "name": "stderr",
     "output_type": "stream",
     "text": [
      " 22%|██▎       | 45/200 [00:00<00:01, 110.84it/s]"
     ]
    },
    {
     "name": "stdout",
     "output_type": "stream",
     "text": [
      ">best! 30, 7800019241692\n"
     ]
    },
    {
     "name": "stderr",
     "output_type": "stream",
     "text": [
      " 72%|███████▏  | 144/200 [00:01<00:00, 115.46it/s]"
     ]
    },
    {
     "name": "stdout",
     "output_type": "stream",
     "text": [
      ">best! 123, 6600018090192\n"
     ]
    },
    {
     "name": "stderr",
     "output_type": "stream",
     "text": [
      "100%|██████████| 200/200 [00:01<00:00, 106.44it/s]\n"
     ]
    },
    {
     "name": "stdout",
     "output_type": "stream",
     "text": [
      "index_8\n",
      "96735016727192\n"
     ]
    },
    {
     "name": "stderr",
     "output_type": "stream",
     "text": [
      "  1%|          | 2/200 [00:00<00:12, 16.05it/s]"
     ]
    },
    {
     "name": "stdout",
     "output_type": "stream",
     "text": [
      ">best! 0, 77710016727192\n",
      ">best! 0, 62330016727192\n",
      ">best! 0, 57265014811508\n"
     ]
    },
    {
     "name": "stderr",
     "output_type": "stream",
     "text": [
      "  4%|▎         | 7/200 [00:00<00:11, 16.62it/s]"
     ]
    },
    {
     "name": "stdout",
     "output_type": "stream",
     "text": [
      ">best! 4, 47400017808192\n",
      ">best! 4, 40800017996192\n",
      ">best! 5, 36035016727192\n",
      ">best! 8, 31200017878692\n"
     ]
    },
    {
     "name": "stderr",
     "output_type": "stream",
     "text": [
      "  8%|▊         | 16/200 [00:00<00:08, 22.68it/s]"
     ]
    },
    {
     "name": "stdout",
     "output_type": "stream",
     "text": [
      ">best! 11, 27000017408692\n"
     ]
    },
    {
     "name": "stderr",
     "output_type": "stream",
     "text": [
      " 16%|█▌        | 32/200 [00:01<00:05, 28.42it/s]"
     ]
    },
    {
     "name": "stdout",
     "output_type": "stream",
     "text": [
      ">best! 27, 26635016727192\n"
     ]
    },
    {
     "name": "stderr",
     "output_type": "stream",
     "text": [
      " 20%|██        | 41/200 [00:01<00:05, 27.80it/s]"
     ]
    },
    {
     "name": "stdout",
     "output_type": "stream",
     "text": [
      ">best! 35, 19200018983192\n"
     ]
    },
    {
     "name": "stderr",
     "output_type": "stream",
     "text": [
      " 62%|██████▏   | 123/200 [00:06<00:03, 23.39it/s]"
     ]
    },
    {
     "name": "stdout",
     "output_type": "stream",
     "text": [
      ">best! 118, 4800017502692\n"
     ]
    },
    {
     "name": "stderr",
     "output_type": "stream",
     "text": [
      "100%|██████████| 200/200 [00:11<00:00, 17.98it/s]\n"
     ]
    },
    {
     "name": "stdout",
     "output_type": "stream",
     "text": [
      "index_1\n",
      "0\n"
     ]
    },
    {
     "name": "stderr",
     "output_type": "stream",
     "text": [
      " 50%|█████     | 101/200 [00:02<00:02, 38.47it/s]\n",
      "/tmp/ipykernel_3697/2547579054.py:278: FutureWarning: Setting an item of incompatible dtype is deprecated and will raise an error in a future version of pandas. Value '0:00:02.631944' has dtype incompatible with float64, please explicitly cast to a compatible dtype first.\n",
      "  hyper_parameters.loc[i, 'time'] = elapsed_time\n"
     ]
    },
    {
     "name": "stdout",
     "output_type": "stream",
     "text": [
      "stop\n",
      "index_2\n",
      "0\n"
     ]
    },
    {
     "name": "stderr",
     "output_type": "stream",
     "text": [
      " 50%|█████     | 101/200 [00:05<00:05, 19.79it/s]\n"
     ]
    },
    {
     "name": "stdout",
     "output_type": "stream",
     "text": [
      "stop\n",
      "index_3\n",
      "0\n"
     ]
    },
    {
     "name": "stderr",
     "output_type": "stream",
     "text": [
      " 50%|█████     | 101/200 [00:12<00:12,  7.96it/s]\n"
     ]
    },
    {
     "name": "stdout",
     "output_type": "stream",
     "text": [
      "stop\n",
      "index_4\n",
      "0\n"
     ]
    },
    {
     "name": "stderr",
     "output_type": "stream",
     "text": [
      " 50%|█████     | 101/200 [00:06<00:06, 15.16it/s]\n"
     ]
    },
    {
     "name": "stdout",
     "output_type": "stream",
     "text": [
      "stop\n",
      "index_5\n",
      "0\n"
     ]
    },
    {
     "name": "stderr",
     "output_type": "stream",
     "text": [
      " 50%|█████     | 101/200 [00:06<00:06, 16.13it/s]\n"
     ]
    },
    {
     "name": "stdout",
     "output_type": "stream",
     "text": [
      "stop\n",
      "index_6\n",
      "0\n"
     ]
    },
    {
     "name": "stderr",
     "output_type": "stream",
     "text": [
      " 50%|█████     | 101/200 [00:06<00:06, 14.55it/s]\n"
     ]
    },
    {
     "name": "stdout",
     "output_type": "stream",
     "text": [
      "stop\n",
      "index_7\n",
      "0\n"
     ]
    },
    {
     "name": "stderr",
     "output_type": "stream",
     "text": [
      " 50%|█████     | 101/200 [00:01<00:01, 51.83it/s]\n"
     ]
    },
    {
     "name": "stdout",
     "output_type": "stream",
     "text": [
      "stop\n",
      "index_8\n",
      "0\n"
     ]
    },
    {
     "name": "stderr",
     "output_type": "stream",
     "text": [
      " 50%|█████     | 101/200 [00:10<00:09, 10.05it/s]\n"
     ]
    },
    {
     "name": "stdout",
     "output_type": "stream",
     "text": [
      "stop\n",
      "index_1\n",
      "96569300000000\n"
     ]
    },
    {
     "name": "stderr",
     "output_type": "stream",
     "text": [
      "  2%|▏         | 4/200 [00:00<00:05, 34.15it/s]"
     ]
    },
    {
     "name": "stdout",
     "output_type": "stream",
     "text": [
      ">best! 0, 78688740000000\n",
      ">best! 0, 59534440000000\n",
      ">best! 0, 56929460000000\n",
      ">best! 2, 47175240000000\n",
      ">best! 3, 45530900000000\n",
      ">best! 4, 39575900000000\n",
      ">best! 4, 38431681483900\n",
      ">best! 4, 35636240000000\n"
     ]
    },
    {
     "name": "stderr",
     "output_type": "stream",
     "text": [
      "  6%|▌         | 12/200 [00:00<00:06, 28.32it/s]"
     ]
    },
    {
     "name": "stdout",
     "output_type": "stream",
     "text": [
      ">best! 6, 25861920804430\n"
     ]
    },
    {
     "name": "stderr",
     "output_type": "stream",
     "text": [
      " 10%|█         | 20/200 [00:00<00:06, 29.02it/s]"
     ]
    },
    {
     "name": "stdout",
     "output_type": "stream",
     "text": [
      ">best! 15, 25151240000000\n"
     ]
    },
    {
     "name": "stderr",
     "output_type": "stream",
     "text": [
      " 44%|████▍     | 89/200 [00:03<00:04, 22.25it/s]"
     ]
    },
    {
     "name": "stdout",
     "output_type": "stream",
     "text": [
      ">best! 84, 21527520632610\n",
      ">best! 87, 20574860000000\n"
     ]
    },
    {
     "name": "stderr",
     "output_type": "stream",
     "text": [
      " 70%|███████   | 141/200 [00:05<00:01, 32.50it/s]"
     ]
    },
    {
     "name": "stdout",
     "output_type": "stream",
     "text": [
      ">best! 137, 19477620000000\n"
     ]
    },
    {
     "name": "stderr",
     "output_type": "stream",
     "text": [
      " 80%|███████▉  | 159/200 [00:06<00:01, 29.97it/s]"
     ]
    },
    {
     "name": "stdout",
     "output_type": "stream",
     "text": [
      ">best! 154, 18521020000000\n"
     ]
    },
    {
     "name": "stderr",
     "output_type": "stream",
     "text": [
      "100%|██████████| 200/200 [00:08<00:00, 24.44it/s]\n",
      "/tmp/ipykernel_3697/2547579054.py:278: FutureWarning: Setting an item of incompatible dtype is deprecated and will raise an error in a future version of pandas. Value '0:00:08.188677' has dtype incompatible with float64, please explicitly cast to a compatible dtype first.\n",
      "  hyper_parameters.loc[i, 'time'] = elapsed_time\n"
     ]
    },
    {
     "name": "stdout",
     "output_type": "stream",
     "text": [
      "index_2\n",
      "50377240000000\n"
     ]
    },
    {
     "name": "stderr",
     "output_type": "stream",
     "text": [
      "  1%|          | 2/200 [00:00<00:17, 11.58it/s]"
     ]
    },
    {
     "name": "stdout",
     "output_type": "stream",
     "text": [
      ">best! 0, 42169060000000\n",
      ">best! 1, 22827840359260\n"
     ]
    },
    {
     "name": "stderr",
     "output_type": "stream",
     "text": [
      "  4%|▍         | 8/200 [00:00<00:17, 11.04it/s]"
     ]
    },
    {
     "name": "stdout",
     "output_type": "stream",
     "text": [
      ">best! 6, 21960961030920\n"
     ]
    },
    {
     "name": "stderr",
     "output_type": "stream",
     "text": [
      "  7%|▋         | 14/200 [00:01<00:19,  9.32it/s]"
     ]
    },
    {
     "name": "stdout",
     "output_type": "stream",
     "text": [
      ">best! 13, 5923681421420\n"
     ]
    },
    {
     "name": "stderr",
     "output_type": "stream",
     "text": [
      " 57%|█████▋    | 114/200 [00:09<00:07, 11.85it/s]\n"
     ]
    },
    {
     "name": "stdout",
     "output_type": "stream",
     "text": [
      "stop\n",
      "index_3\n",
      "56964920000000\n"
     ]
    },
    {
     "name": "stderr",
     "output_type": "stream",
     "text": [
      "  0%|          | 1/200 [00:00<00:27,  7.25it/s]"
     ]
    },
    {
     "name": "stdout",
     "output_type": "stream",
     "text": [
      ">best! 0, 42438620000000\n",
      ">best! 0, 41083740000000\n",
      ">best! 0, 34530721897830\n",
      ">best! 1, 29907360562320\n"
     ]
    },
    {
     "name": "stderr",
     "output_type": "stream",
     "text": [
      "  2%|▏         | 3/200 [00:00<00:25,  7.71it/s]"
     ]
    },
    {
     "name": "stdout",
     "output_type": "stream",
     "text": [
      ">best! 2, 28701000000000\n",
      ">best! 3, 26439840109340\n"
     ]
    },
    {
     "name": "stderr",
     "output_type": "stream",
     "text": [
      "  2%|▎         | 5/200 [00:00<00:26,  7.30it/s]"
     ]
    },
    {
     "name": "stdout",
     "output_type": "stream",
     "text": [
      ">best! 4, 20660640234300\n"
     ]
    },
    {
     "name": "stderr",
     "output_type": "stream",
     "text": [
      " 28%|██▊       | 56/200 [00:08<00:20,  6.88it/s]"
     ]
    },
    {
     "name": "stdout",
     "output_type": "stream",
     "text": [
      ">best! 55, 6583640000000\n"
     ]
    },
    {
     "name": "stderr",
     "output_type": "stream",
     "text": [
      " 78%|███████▊  | 156/200 [00:26<00:07,  5.87it/s]\n"
     ]
    },
    {
     "name": "stdout",
     "output_type": "stream",
     "text": [
      "stop\n",
      "index_4\n",
      "69910020000000\n"
     ]
    },
    {
     "name": "stderr",
     "output_type": "stream",
     "text": [
      "  1%|          | 2/200 [00:00<00:13, 14.16it/s]"
     ]
    },
    {
     "name": "stdout",
     "output_type": "stream",
     "text": [
      ">best! 0, 46195000000000\n",
      ">best! 0, 40529060000000\n",
      ">best! 0, 37037900000000\n",
      ">best! 1, 34675200421740\n"
     ]
    },
    {
     "name": "stderr",
     "output_type": "stream",
     "text": [
      "  3%|▎         | 6/200 [00:00<00:17, 11.40it/s]"
     ]
    },
    {
     "name": "stdout",
     "output_type": "stream",
     "text": [
      ">best! 4, 34003820000000\n",
      ">best! 4, 32074560734140\n"
     ]
    },
    {
     "name": "stderr",
     "output_type": "stream",
     "text": [
      "  5%|▌         | 10/200 [00:00<00:17, 10.82it/s]"
     ]
    },
    {
     "name": "stdout",
     "output_type": "stream",
     "text": [
      ">best! 9, 29618400773190\n",
      ">best! 10, 22972321835350\n"
     ]
    },
    {
     "name": "stderr",
     "output_type": "stream",
     "text": [
      "  9%|▉         | 18/200 [00:01<00:13, 13.99it/s]"
     ]
    },
    {
     "name": "stdout",
     "output_type": "stream",
     "text": [
      ">best! 16, 12585420000000\n"
     ]
    },
    {
     "name": "stderr",
     "output_type": "stream",
     "text": [
      " 49%|████▉     | 98/200 [00:06<00:07, 12.76it/s]"
     ]
    },
    {
     "name": "stdout",
     "output_type": "stream",
     "text": [
      ">best! 97, 11531120000000\n"
     ]
    },
    {
     "name": "stderr",
     "output_type": "stream",
     "text": [
      " 99%|█████████▉| 198/200 [00:14<00:00, 13.55it/s]\n"
     ]
    },
    {
     "name": "stdout",
     "output_type": "stream",
     "text": [
      "stop\n",
      "index_5\n",
      "68785500000000\n"
     ]
    },
    {
     "name": "stderr",
     "output_type": "stream",
     "text": [
      "  1%|          | 2/200 [00:00<00:12, 15.46it/s]"
     ]
    },
    {
     "name": "stdout",
     "output_type": "stream",
     "text": [
      ">best! 0, 61858540000000\n",
      ">best! 0, 35964200000000\n"
     ]
    },
    {
     "name": "stderr",
     "output_type": "stream",
     "text": [
      "  3%|▎         | 6/200 [00:00<00:13, 14.47it/s]"
     ]
    },
    {
     "name": "stdout",
     "output_type": "stream",
     "text": [
      ">best! 3, 24850560382690\n"
     ]
    },
    {
     "name": "stderr",
     "output_type": "stream",
     "text": [
      " 11%|█         | 22/200 [00:01<00:10, 16.29it/s]"
     ]
    },
    {
     "name": "stdout",
     "output_type": "stream",
     "text": [
      ">best! 19, 23116802210230\n"
     ]
    },
    {
     "name": "stderr",
     "output_type": "stream",
     "text": [
      " 19%|█▉        | 38/200 [00:02<00:11, 14.01it/s]"
     ]
    },
    {
     "name": "stdout",
     "output_type": "stream",
     "text": [
      ">best! 36, 18969920000000\n"
     ]
    },
    {
     "name": "stderr",
     "output_type": "stream",
     "text": [
      " 32%|███▏      | 64/200 [00:04<00:11, 12.22it/s]"
     ]
    },
    {
     "name": "stdout",
     "output_type": "stream",
     "text": [
      ">best! 63, 10258081835350\n"
     ]
    },
    {
     "name": "stderr",
     "output_type": "stream",
     "text": [
      " 82%|████████▏ | 164/200 [00:11<00:02, 13.96it/s]\n"
     ]
    },
    {
     "name": "stdout",
     "output_type": "stream",
     "text": [
      "stop\n",
      "index_6\n",
      "35675540000000\n"
     ]
    },
    {
     "name": "stderr",
     "output_type": "stream",
     "text": [
      "  2%|▏         | 4/200 [00:00<00:21,  9.17it/s]"
     ]
    },
    {
     "name": "stdout",
     "output_type": "stream",
     "text": [
      ">best! 2, 34679640000000\n",
      ">best! 3, 22249920921580\n"
     ]
    },
    {
     "name": "stderr",
     "output_type": "stream",
     "text": [
      " 15%|█▌        | 30/200 [00:02<00:13, 12.91it/s]"
     ]
    },
    {
     "name": "stdout",
     "output_type": "stream",
     "text": [
      ">best! 28, 16037280320210\n"
     ]
    },
    {
     "name": "stderr",
     "output_type": "stream",
     "text": [
      " 64%|██████▍   | 129/200 [00:09<00:05, 13.48it/s]\n"
     ]
    },
    {
     "name": "stdout",
     "output_type": "stream",
     "text": [
      "stop\n",
      "index_7\n",
      "53735240000000\n"
     ]
    },
    {
     "name": "stderr",
     "output_type": "stream",
     "text": [
      "  4%|▍         | 8/200 [00:00<00:02, 73.08it/s]"
     ]
    },
    {
     "name": "stdout",
     "output_type": "stream",
     "text": [
      ">best! 0, 45800960000000\n",
      ">best! 0, 44281500000000\n",
      ">best! 0, 43477460000000\n",
      ">best! 0, 34894540000000\n",
      ">best! 1, 33230400296780\n",
      ">best! 1, 31641120429550\n",
      ">best! 3, 23694721632290\n",
      ">best! 4, 20660640195250\n",
      ">best! 5, 19360322108700\n"
     ]
    },
    {
     "name": "stderr",
     "output_type": "stream",
     "text": [
      " 26%|██▌       | 51/200 [00:00<00:02, 63.05it/s]"
     ]
    },
    {
     "name": "stdout",
     "output_type": "stream",
     "text": [
      ">best! 38, 15314880984060\n"
     ]
    },
    {
     "name": "stderr",
     "output_type": "stream",
     "text": [
      " 38%|███▊      | 77/200 [00:01<00:02, 55.49it/s]"
     ]
    },
    {
     "name": "stdout",
     "output_type": "stream",
     "text": [
      ">best! 69, 15115740000000\n"
     ]
    },
    {
     "name": "stderr",
     "output_type": "stream",
     "text": [
      " 65%|██████▌   | 130/200 [00:02<00:01, 41.13it/s]"
     ]
    },
    {
     "name": "stdout",
     "output_type": "stream",
     "text": [
      ">best! 124, 14811220000000\n"
     ]
    },
    {
     "name": "stderr",
     "output_type": "stream",
     "text": [
      " 78%|███████▊  | 156/200 [00:03<00:00, 53.81it/s]"
     ]
    },
    {
     "name": "stdout",
     "output_type": "stream",
     "text": [
      ">best! 147, 12425280718520\n"
     ]
    },
    {
     "name": "stderr",
     "output_type": "stream",
     "text": [
      " 92%|█████████▏| 183/200 [00:03<00:00, 57.71it/s]"
     ]
    },
    {
     "name": "stdout",
     "output_type": "stream",
     "text": [
      ">best! 170, 11702881249600\n"
     ]
    },
    {
     "name": "stderr",
     "output_type": "stream",
     "text": [
      "100%|██████████| 200/200 [00:03<00:00, 52.42it/s]\n"
     ]
    },
    {
     "name": "stdout",
     "output_type": "stream",
     "text": [
      "index_8\n",
      "30493260000000\n"
     ]
    },
    {
     "name": "stderr",
     "output_type": "stream",
     "text": [
      "  4%|▎         | 7/200 [00:01<00:33,  5.84it/s]"
     ]
    },
    {
     "name": "stdout",
     "output_type": "stream",
     "text": [
      ">best! 6, 28587840000000\n"
     ]
    },
    {
     "name": "stderr",
     "output_type": "stream",
     "text": [
      "  5%|▌         | 10/200 [00:01<00:24,  7.81it/s]"
     ]
    },
    {
     "name": "stdout",
     "output_type": "stream",
     "text": [
      ">best! 8, 13870080078100\n"
     ]
    },
    {
     "name": "stderr",
     "output_type": "stream",
     "text": [
      " 55%|█████▍    | 109/200 [00:13<00:10,  8.29it/s]"
     ]
    },
    {
     "name": "stdout",
     "output_type": "stream",
     "text": [
      "stop\n"
     ]
    },
    {
     "name": "stderr",
     "output_type": "stream",
     "text": [
      "\n"
     ]
    }
   ],
   "source": [
    "import pickle\n",
    "\n",
    "# 적합한 하이퍼 파라미터 찾는 과정\n",
    "temp0 = [dataset_for_ga[i] for i in [0, 2, 10, 20, 30, 40, 50, 60, 70, 100, 110]]\n",
    "\n",
    "hyper_parameters_ls, log_list_ls = list(), list()\n",
    "\n",
    "# 유전 알고리즘\n",
    "def ga_get_gt(dataset_for_ga):\n",
    "    for data in dataset_for_ga:\n",
    "        global T, I, J, cit, pit, dit, mijt\n",
    "        T, I, J, cit, pit, dit, mijt = ga_preprocess(data)\n",
    "\n",
    "        hyper_parameters = set_hyper_parameters()\n",
    "        hyper_parameters, log_list = find_hyper_parameters(hyper_parameters)\n",
    "\n",
    "        hyper_parameters_ls.append(hyper_parameters)\n",
    "        log_list_ls.append(log_list)\n",
    "        with open('hyper_parameters_ls_n5.pkl', 'wb') as f:\n",
    "            pickle.dump(hyper_parameters_ls, f)\n",
    "\n",
    "    return hyper_parameters_ls, log_list_ls\n",
    "\n",
    "hyper_parameters_ls, log_list_ls = ga_get_gt(temp0)"
   ]
  },
  {
   "cell_type": "code",
   "execution_count": 74,
   "id": "7207753c",
   "metadata": {},
   "outputs": [
    {
     "data": {
      "text/html": [
       "<div>\n",
       "<style scoped>\n",
       "    .dataframe tbody tr th:only-of-type {\n",
       "        vertical-align: middle;\n",
       "    }\n",
       "\n",
       "    .dataframe tbody tr th {\n",
       "        vertical-align: top;\n",
       "    }\n",
       "\n",
       "    .dataframe thead th {\n",
       "        text-align: right;\n",
       "    }\n",
       "</style>\n",
       "<table border=\"1\" class=\"dataframe\">\n",
       "  <thead>\n",
       "    <tr style=\"text-align: right;\">\n",
       "      <th></th>\n",
       "      <th>index</th>\n",
       "      <th>n_iter</th>\n",
       "      <th>n_pop</th>\n",
       "      <th>r_cross</th>\n",
       "      <th>r_mut</th>\n",
       "      <th>0</th>\n",
       "      <th>2</th>\n",
       "      <th>10</th>\n",
       "      <th>20</th>\n",
       "      <th>30</th>\n",
       "      <th>40</th>\n",
       "      <th>50</th>\n",
       "      <th>60</th>\n",
       "      <th>70</th>\n",
       "      <th>100</th>\n",
       "      <th>110</th>\n",
       "    </tr>\n",
       "  </thead>\n",
       "  <tbody>\n",
       "    <tr>\n",
       "      <th>0</th>\n",
       "      <td>index_1</td>\n",
       "      <td>200</td>\n",
       "      <td>10</td>\n",
       "      <td>0.4</td>\n",
       "      <td>0.4</td>\n",
       "      <td>1364361.0</td>\n",
       "      <td>3245820.0</td>\n",
       "      <td>0.0</td>\n",
       "      <td>856100.0</td>\n",
       "      <td>2.246456e+13</td>\n",
       "      <td>1.158000e+12</td>\n",
       "      <td>0.0</td>\n",
       "      <td>0.0</td>\n",
       "      <td>1.843969e+07</td>\n",
       "      <td>0.0</td>\n",
       "      <td>1.852102e+13</td>\n",
       "    </tr>\n",
       "    <tr>\n",
       "      <th>1</th>\n",
       "      <td>index_2</td>\n",
       "      <td>200</td>\n",
       "      <td>20</td>\n",
       "      <td>0.4</td>\n",
       "      <td>0.4</td>\n",
       "      <td>1403568.0</td>\n",
       "      <td>1553128.0</td>\n",
       "      <td>0.0</td>\n",
       "      <td>526820.0</td>\n",
       "      <td>2.441800e+13</td>\n",
       "      <td>7.720000e+11</td>\n",
       "      <td>0.0</td>\n",
       "      <td>0.0</td>\n",
       "      <td>4.800020e+12</td>\n",
       "      <td>0.0</td>\n",
       "      <td>5.923681e+12</td>\n",
       "    </tr>\n",
       "    <tr>\n",
       "      <th>2</th>\n",
       "      <td>index_3</td>\n",
       "      <td>200</td>\n",
       "      <td>40</td>\n",
       "      <td>0.4</td>\n",
       "      <td>0.4</td>\n",
       "      <td>947440.0</td>\n",
       "      <td>752282.0</td>\n",
       "      <td>0.0</td>\n",
       "      <td>733780.0</td>\n",
       "      <td>2.490636e+13</td>\n",
       "      <td>9.650000e+11</td>\n",
       "      <td>0.0</td>\n",
       "      <td>0.0</td>\n",
       "      <td>6.000018e+12</td>\n",
       "      <td>0.0</td>\n",
       "      <td>6.583640e+12</td>\n",
       "    </tr>\n",
       "    <tr>\n",
       "      <th>3</th>\n",
       "      <td>index_4</td>\n",
       "      <td>200</td>\n",
       "      <td>20</td>\n",
       "      <td>0.1</td>\n",
       "      <td>0.4</td>\n",
       "      <td>1639182.0</td>\n",
       "      <td>3688679.0</td>\n",
       "      <td>0.0</td>\n",
       "      <td>562110.0</td>\n",
       "      <td>1.782514e+13</td>\n",
       "      <td>1.158000e+12</td>\n",
       "      <td>0.0</td>\n",
       "      <td>0.0</td>\n",
       "      <td>3.000017e+12</td>\n",
       "      <td>0.0</td>\n",
       "      <td>1.153112e+13</td>\n",
       "    </tr>\n",
       "    <tr>\n",
       "      <th>4</th>\n",
       "      <td>index_5</td>\n",
       "      <td>200</td>\n",
       "      <td>20</td>\n",
       "      <td>0.2</td>\n",
       "      <td>0.4</td>\n",
       "      <td>1563554.0</td>\n",
       "      <td>2948538.0</td>\n",
       "      <td>0.0</td>\n",
       "      <td>449210.0</td>\n",
       "      <td>2.368546e+13</td>\n",
       "      <td>9.650000e+11</td>\n",
       "      <td>0.0</td>\n",
       "      <td>0.0</td>\n",
       "      <td>1.034002e+13</td>\n",
       "      <td>0.0</td>\n",
       "      <td>1.025808e+13</td>\n",
       "    </tr>\n",
       "    <tr>\n",
       "      <th>5</th>\n",
       "      <td>index_6</td>\n",
       "      <td>200</td>\n",
       "      <td>20</td>\n",
       "      <td>0.3</td>\n",
       "      <td>0.4</td>\n",
       "      <td>1361011.0</td>\n",
       "      <td>391346.0</td>\n",
       "      <td>0.0</td>\n",
       "      <td>691460.0</td>\n",
       "      <td>2.270874e+13</td>\n",
       "      <td>7.720000e+11</td>\n",
       "      <td>0.0</td>\n",
       "      <td>0.0</td>\n",
       "      <td>6.000019e+12</td>\n",
       "      <td>0.0</td>\n",
       "      <td>1.603728e+13</td>\n",
       "    </tr>\n",
       "    <tr>\n",
       "      <th>6</th>\n",
       "      <td>index_7</td>\n",
       "      <td>200</td>\n",
       "      <td>20</td>\n",
       "      <td>0.4</td>\n",
       "      <td>0.1</td>\n",
       "      <td>1506510.0</td>\n",
       "      <td>2918243.0</td>\n",
       "      <td>0.0</td>\n",
       "      <td>1105380.0</td>\n",
       "      <td>2.539472e+13</td>\n",
       "      <td>9.650000e+11</td>\n",
       "      <td>0.0</td>\n",
       "      <td>0.0</td>\n",
       "      <td>6.600018e+12</td>\n",
       "      <td>0.0</td>\n",
       "      <td>1.170288e+13</td>\n",
       "    </tr>\n",
       "    <tr>\n",
       "      <th>7</th>\n",
       "      <td>index_8</td>\n",
       "      <td>200</td>\n",
       "      <td>20</td>\n",
       "      <td>0.4</td>\n",
       "      <td>0.6</td>\n",
       "      <td>1065249.0</td>\n",
       "      <td>2029346.0</td>\n",
       "      <td>0.0</td>\n",
       "      <td>1453500.0</td>\n",
       "      <td>2.026694e+13</td>\n",
       "      <td>9.650000e+11</td>\n",
       "      <td>0.0</td>\n",
       "      <td>0.0</td>\n",
       "      <td>4.800018e+12</td>\n",
       "      <td>0.0</td>\n",
       "      <td>1.387008e+13</td>\n",
       "    </tr>\n",
       "  </tbody>\n",
       "</table>\n",
       "</div>"
      ],
      "text/plain": [
       "     index  n_iter  n_pop  r_cross  r_mut          0          2   10  \\\n",
       "0  index_1     200     10      0.4    0.4  1364361.0  3245820.0  0.0   \n",
       "1  index_2     200     20      0.4    0.4  1403568.0  1553128.0  0.0   \n",
       "2  index_3     200     40      0.4    0.4   947440.0   752282.0  0.0   \n",
       "3  index_4     200     20      0.1    0.4  1639182.0  3688679.0  0.0   \n",
       "4  index_5     200     20      0.2    0.4  1563554.0  2948538.0  0.0   \n",
       "5  index_6     200     20      0.3    0.4  1361011.0   391346.0  0.0   \n",
       "6  index_7     200     20      0.4    0.1  1506510.0  2918243.0  0.0   \n",
       "7  index_8     200     20      0.4    0.6  1065249.0  2029346.0  0.0   \n",
       "\n",
       "          20            30            40   50   60            70  100  \\\n",
       "0   856100.0  2.246456e+13  1.158000e+12  0.0  0.0  1.843969e+07  0.0   \n",
       "1   526820.0  2.441800e+13  7.720000e+11  0.0  0.0  4.800020e+12  0.0   \n",
       "2   733780.0  2.490636e+13  9.650000e+11  0.0  0.0  6.000018e+12  0.0   \n",
       "3   562110.0  1.782514e+13  1.158000e+12  0.0  0.0  3.000017e+12  0.0   \n",
       "4   449210.0  2.368546e+13  9.650000e+11  0.0  0.0  1.034002e+13  0.0   \n",
       "5   691460.0  2.270874e+13  7.720000e+11  0.0  0.0  6.000019e+12  0.0   \n",
       "6  1105380.0  2.539472e+13  9.650000e+11  0.0  0.0  6.600018e+12  0.0   \n",
       "7  1453500.0  2.026694e+13  9.650000e+11  0.0  0.0  4.800018e+12  0.0   \n",
       "\n",
       "            110  \n",
       "0  1.852102e+13  \n",
       "1  5.923681e+12  \n",
       "2  6.583640e+12  \n",
       "3  1.153112e+13  \n",
       "4  1.025808e+13  \n",
       "5  1.603728e+13  \n",
       "6  1.170288e+13  \n",
       "7  1.387008e+13  "
      ]
     },
     "execution_count": 74,
     "metadata": {},
     "output_type": "execute_result"
    }
   ],
   "source": [
    "hyper_parameters_df = hyper_parameters_ls[0][['index', 'n_iter', 'n_pop', 'r_cross', 'r_mut']]\n",
    "\n",
    "for hyper_parameters in hyper_parameters_ls:\n",
    "    temp = hyper_parameters[['objective']]\n",
    "    hyper_parameters_df = pd.concat([hyper_parameters_df, temp], axis=1)\n",
    "\n",
    "hyper_parameters_df.columns = ['index', 'n_iter', 'n_pop', 'r_cross', 'r_mut', '0', '2', '10', '20', '30', '40', '50', '60', '70', '100', '110']\n",
    "\n",
    "hyper_parameters_df"
   ]
  },
  {
   "cell_type": "code",
   "execution_count": 75,
   "id": "1749ac14",
   "metadata": {},
   "outputs": [
    {
     "name": "stdout",
     "output_type": "stream",
     "text": [
      "37396795096390\n"
     ]
    },
    {
     "name": "stderr",
     "output_type": "stream",
     "text": [
      "  0%|          | 0/200 [00:00<?, ?it/s]"
     ]
    },
    {
     "name": "stdout",
     "output_type": "stream",
     "text": [
      ">best! 0, 8815293\n",
      ">best! 0, 8293524\n",
      ">best! 0, 4492672\n"
     ]
    },
    {
     "name": "stderr",
     "output_type": "stream",
     "text": [
      "  1%|          | 2/200 [00:01<02:14,  1.48it/s]"
     ]
    },
    {
     "name": "stdout",
     "output_type": "stream",
     "text": [
      ">best! 2, 4229313\n"
     ]
    },
    {
     "name": "stderr",
     "output_type": "stream",
     "text": [
      "  7%|▋         | 14/200 [00:10<02:15,  1.38it/s]"
     ]
    },
    {
     "name": "stdout",
     "output_type": "stream",
     "text": [
      ">best! 14, 3659933\n"
     ]
    },
    {
     "name": "stderr",
     "output_type": "stream",
     "text": [
      "  8%|▊         | 15/200 [00:10<02:12,  1.40it/s]"
     ]
    },
    {
     "name": "stdout",
     "output_type": "stream",
     "text": [
      ">best! 15, 3526564\n"
     ]
    },
    {
     "name": "stderr",
     "output_type": "stream",
     "text": [
      "  8%|▊         | 17/200 [00:12<02:18,  1.32it/s]\n"
     ]
    },
    {
     "ename": "KeyboardInterrupt",
     "evalue": "",
     "output_type": "error",
     "traceback": [
      "\u001b[0;31m---------------------------------------------------------------------------\u001b[0m",
      "\u001b[0;31mKeyboardInterrupt\u001b[0m                         Traceback (most recent call last)",
      "Cell \u001b[0;32mIn[75], line 73\u001b[0m\n\u001b[1;32m     65\u001b[0m             pickle\u001b[38;5;241m.\u001b[39mdump(gt_ls, f)\n\u001b[1;32m     67\u001b[0m         \u001b[38;5;66;03m# print('{}번째 gt 저장 완료. 총 {}개'.format(i + 1, data_len))\u001b[39;00m\n\u001b[1;32m     68\u001b[0m \n\u001b[1;32m     69\u001b[0m         \u001b[38;5;66;03m# print('------------------------')\u001b[39;00m\n\u001b[1;32m     70\u001b[0m         \u001b[38;5;66;03m# print()\u001b[39;00m\n\u001b[1;32m     71\u001b[0m     \u001b[38;5;66;03m# return gt_ls\u001b[39;00m\n\u001b[0;32m---> 73\u001b[0m \u001b[43mga_get_gt\u001b[49m\u001b[43m(\u001b[49m\u001b[43mdataset_for_ga\u001b[49m\u001b[43m)\u001b[49m\n",
      "Cell \u001b[0;32mIn[75], line 35\u001b[0m, in \u001b[0;36mga_get_gt\u001b[0;34m(dataset_for_ga)\u001b[0m\n\u001b[1;32m     32\u001b[0m r_mut \u001b[38;5;241m=\u001b[39m \u001b[38;5;241m0.4\u001b[39m        \u001b[38;5;66;03m# 변이율\u001b[39;00m\n\u001b[1;32m     34\u001b[0m \u001b[38;5;66;03m# 유전 알고리즘 실행\u001b[39;00m\n\u001b[0;32m---> 35\u001b[0m best, score, log, log_detail \u001b[38;5;241m=\u001b[39m \u001b[43mgenetic_algorithm\u001b[49m\u001b[43m(\u001b[49m\u001b[43mmijt\u001b[49m\u001b[43m,\u001b[49m\u001b[43m \u001b[49m\u001b[43mn_iter\u001b[49m\u001b[43m,\u001b[49m\u001b[43m \u001b[49m\u001b[43mn_pop\u001b[49m\u001b[43m,\u001b[49m\u001b[43m \u001b[49m\u001b[43mr_cross\u001b[49m\u001b[43m,\u001b[49m\u001b[43m \u001b[49m\u001b[43mr_mut\u001b[49m\u001b[43m)\u001b[49m\n\u001b[1;32m     37\u001b[0m best_ls\u001b[38;5;241m.\u001b[39mappend(best)\n\u001b[1;32m     38\u001b[0m score_ls\u001b[38;5;241m.\u001b[39mappend(score)\n",
      "Cell \u001b[0;32mIn[66], line 226\u001b[0m, in \u001b[0;36mgenetic_algorithm\u001b[0;34m(bounds, n_iter, n_pop, r_cross, r_mut)\u001b[0m\n\u001b[1;32m    224\u001b[0m     p1, p2 \u001b[38;5;241m=\u001b[39m selected[i], selected[i \u001b[38;5;241m+\u001b[39m \u001b[38;5;241m1\u001b[39m]\n\u001b[1;32m    225\u001b[0m     \u001b[38;5;28;01mfor\u001b[39;00m c \u001b[38;5;129;01min\u001b[39;00m crossover(p1, p2, r_cross):\n\u001b[0;32m--> 226\u001b[0m         \u001b[43mmutation\u001b[49m\u001b[43m(\u001b[49m\u001b[43mc\u001b[49m\u001b[43m,\u001b[49m\u001b[43m \u001b[49m\u001b[43mr_mut\u001b[49m\u001b[43m)\u001b[49m\n\u001b[1;32m    227\u001b[0m         children\u001b[38;5;241m.\u001b[39mappend(list2dict(c))\n\u001b[1;32m    229\u001b[0m pop \u001b[38;5;241m=\u001b[39m children\n",
      "Cell \u001b[0;32mIn[66], line 182\u001b[0m, in \u001b[0;36mmutation\u001b[0;34m(bitstring, r_mut)\u001b[0m\n\u001b[1;32m    179\u001b[0m n \u001b[38;5;241m=\u001b[39m \u001b[38;5;28mround\u001b[39m(r_mut \u001b[38;5;241m*\u001b[39m \u001b[38;5;28mlen\u001b[39m(valid_index))\n\u001b[1;32m    181\u001b[0m \u001b[38;5;66;03m# mutation (2): 무작위 인덱스에서 값 변경\u001b[39;00m\n\u001b[0;32m--> 182\u001b[0m pt_0 \u001b[38;5;241m=\u001b[39m \u001b[43mrandom\u001b[49m\u001b[38;5;241;43m.\u001b[39;49m\u001b[43msample\u001b[49m\u001b[43m(\u001b[49m\u001b[43mvalid_index\u001b[49m\u001b[43m,\u001b[49m\u001b[43m \u001b[49m\u001b[43mn\u001b[49m\u001b[43m)\u001b[49m\n\u001b[1;32m    183\u001b[0m \u001b[38;5;28;01mfor\u001b[39;00m idx \u001b[38;5;129;01min\u001b[39;00m pt_0:\n\u001b[1;32m    184\u001b[0m     bitstring[idx] \u001b[38;5;241m=\u001b[39m random\u001b[38;5;241m.\u001b[39muniform(\u001b[38;5;241m0\u001b[39m, \u001b[38;5;241m1\u001b[39m)\n",
      "File \u001b[0;32m~/anaconda3/envs/GAenv/lib/python3.9/random.py:459\u001b[0m, in \u001b[0;36mRandom.sample\u001b[0;34m(self, population, k, counts)\u001b[0m\n\u001b[1;32m    457\u001b[0m pool \u001b[38;5;241m=\u001b[39m \u001b[38;5;28mlist\u001b[39m(population)\n\u001b[1;32m    458\u001b[0m \u001b[38;5;28;01mfor\u001b[39;00m i \u001b[38;5;129;01min\u001b[39;00m \u001b[38;5;28mrange\u001b[39m(k):\n\u001b[0;32m--> 459\u001b[0m     j \u001b[38;5;241m=\u001b[39m \u001b[43mrandbelow\u001b[49m\u001b[43m(\u001b[49m\u001b[43mn\u001b[49m\u001b[43m \u001b[49m\u001b[38;5;241;43m-\u001b[39;49m\u001b[43m \u001b[49m\u001b[43mi\u001b[49m\u001b[43m)\u001b[49m\n\u001b[1;32m    460\u001b[0m     result[i] \u001b[38;5;241m=\u001b[39m pool[j]\n\u001b[1;32m    461\u001b[0m     pool[j] \u001b[38;5;241m=\u001b[39m pool[n \u001b[38;5;241m-\u001b[39m i \u001b[38;5;241m-\u001b[39m \u001b[38;5;241m1\u001b[39m]  \u001b[38;5;66;03m# move non-selected item into vacancy\u001b[39;00m\n",
      "File \u001b[0;32m~/anaconda3/envs/GAenv/lib/python3.9/random.py:246\u001b[0m, in \u001b[0;36mRandom._randbelow_with_getrandbits\u001b[0;34m(self, n)\u001b[0m\n\u001b[1;32m    244\u001b[0m r \u001b[38;5;241m=\u001b[39m getrandbits(k)  \u001b[38;5;66;03m# 0 <= r < 2**k\u001b[39;00m\n\u001b[1;32m    245\u001b[0m \u001b[38;5;28;01mwhile\u001b[39;00m r \u001b[38;5;241m>\u001b[39m\u001b[38;5;241m=\u001b[39m n:\n\u001b[0;32m--> 246\u001b[0m     r \u001b[38;5;241m=\u001b[39m getrandbits(k)\n\u001b[1;32m    247\u001b[0m \u001b[38;5;28;01mreturn\u001b[39;00m r\n",
      "\u001b[0;31mKeyboardInterrupt\u001b[0m: "
     ]
    }
   ],
   "source": [
    "import pickle\n",
    "\n",
    "# 저장된 피클 불러오기기\n",
    "# with open('log.pkl', 'rb') as f:\n",
    "#     loaded_data = pickle.load(f)\n",
    "\n",
    "# best_ls, score_ls, log_ls, log_detail_ls = loaded_data\n",
    "\n",
    "# 데이터 설정정\n",
    "# temp = [dataset_for_ga[i] for i in range(10)]\n",
    "\n",
    "best_ls, score_ls, log_ls, log_detail_ls, gt_ls = list(), list(), list(), list(), list()\n",
    "\n",
    "# 유전 알고리즘\n",
    "def ga_get_gt(dataset_for_ga):\n",
    "    data_len = len(dataset_for_ga)\n",
    "    \n",
    "    for i, data in enumerate(dataset_for_ga):\n",
    "        global T, I, J, cit, pit, dit, mijt\n",
    "        T, I, J, cit, pit, dit, mijt = ga_preprocess(data)\n",
    "\n",
    "        # 입력 데이터 생성\n",
    "        xijt = generation_xijt()\n",
    "        global xijt_keys, mijt_keys\n",
    "        xijt_keys = list(xijt.keys())\n",
    "        mijt_keys = list(mijt.keys())\n",
    "\n",
    "        # 유전 알고리즘 하이퍼파라미터 설정 - index 03 적용\n",
    "        n_iter = 200       # 반복할 세대 수\n",
    "        n_pop = 20         # 세대당 염색체 수\n",
    "        r_cross = 0.2      # 교차율\n",
    "        r_mut = 0.4        # 변이율\n",
    "\n",
    "        # 유전 알고리즘 실행\n",
    "        best, score, log, log_detail = genetic_algorithm(mijt, n_iter, n_pop, r_cross, r_mut)\n",
    "\n",
    "        best_ls.append(best)\n",
    "        score_ls.append(score)\n",
    "        log_ls.append(log)\n",
    "        log_detail_ls.append(log_detail)\n",
    "\n",
    "        with open('log5.pkl', 'wb') as f:\n",
    "            pickle.dump([best_ls, score_ls, log_ls, log_detail_ls], f)\n",
    "        print(f'{i+1}번째 log 저장 완료. 총 {data_len}개')\n",
    "\n",
    "        # 해 솔루션 저장용 딕셔너리 초기화\n",
    "        solution_ = dict()\n",
    "\n",
    "        # xijt 디코딩\n",
    "        xijt = decode(mijt, xijt)\n",
    "\n",
    "        # best 해를 기반으로 해를 계산\n",
    "        for i in I:\n",
    "            for j in J:\n",
    "                for t in T:\n",
    "                    solution_[(i, j, t)] = round(best[i, j, t] * dit[i, t])\n",
    "\n",
    "        # 딕셔너리를 DataFrame으로 변환\n",
    "        sol = pd.DataFrame.from_dict(solution_, orient='index').reset_index()\n",
    "        sol.columns = ['(item, machine, time)', 'qty']\n",
    "\n",
    "        gt_ls.append(sol[sol['qty'] > 0])\n",
    "\n",
    "        with open('gt5.pkl', 'wb') as f:\n",
    "            pickle.dump(gt_ls, f)\n",
    "\n",
    "        # print('{}번째 gt 저장 완료. 총 {}개'.format(i + 1, data_len))\n",
    "\n",
    "        # print('------------------------')\n",
    "        # print()\n",
    "    # return gt_ls\n",
    "\n",
    "ga_get_gt(dataset_for_ga)"
   ]
  },
  {
   "cell_type": "code",
   "execution_count": 157,
   "id": "bd94e9fd",
   "metadata": {},
   "outputs": [
    {
     "data": {
      "text/html": [
       "<div>\n",
       "<style scoped>\n",
       "    .dataframe tbody tr th:only-of-type {\n",
       "        vertical-align: middle;\n",
       "    }\n",
       "\n",
       "    .dataframe tbody tr th {\n",
       "        vertical-align: top;\n",
       "    }\n",
       "\n",
       "    .dataframe thead th {\n",
       "        text-align: right;\n",
       "    }\n",
       "</style>\n",
       "<table border=\"1\" class=\"dataframe\">\n",
       "  <thead>\n",
       "    <tr style=\"text-align: right;\">\n",
       "      <th></th>\n",
       "      <th>(item, machine, time)</th>\n",
       "      <th>qty</th>\n",
       "    </tr>\n",
       "  </thead>\n",
       "  <tbody>\n",
       "    <tr>\n",
       "      <th>3</th>\n",
       "      <td>(057791, 401.0, 2021-06-18 00:00:00)</td>\n",
       "      <td>17</td>\n",
       "    </tr>\n",
       "    <tr>\n",
       "      <th>8</th>\n",
       "      <td>(057791, 403.0, 2021-06-18 00:00:00)</td>\n",
       "      <td>63</td>\n",
       "    </tr>\n",
       "    <tr>\n",
       "      <th>58</th>\n",
       "      <td>(057791, 420.0, 2021-06-18 00:00:00)</td>\n",
       "      <td>21</td>\n",
       "    </tr>\n",
       "    <tr>\n",
       "      <th>68</th>\n",
       "      <td>(057791, 422.0, 2021-06-18 00:00:00)</td>\n",
       "      <td>26</td>\n",
       "    </tr>\n",
       "    <tr>\n",
       "      <th>113</th>\n",
       "      <td>(057791, 438.0, 2021-06-18 00:00:00)</td>\n",
       "      <td>41</td>\n",
       "    </tr>\n",
       "    <tr>\n",
       "      <th>150</th>\n",
       "      <td>(051718, 408.0, 2021-05-30 00:00:00)</td>\n",
       "      <td>13</td>\n",
       "    </tr>\n",
       "    <tr>\n",
       "      <th>155</th>\n",
       "      <td>(051718, 409.0, 2021-05-30 00:00:00)</td>\n",
       "      <td>13</td>\n",
       "    </tr>\n",
       "    <tr>\n",
       "      <th>160</th>\n",
       "      <td>(051718, 410.0, 2021-05-30 00:00:00)</td>\n",
       "      <td>14</td>\n",
       "    </tr>\n",
       "    <tr>\n",
       "      <th>165</th>\n",
       "      <td>(051718, 412.0, 2021-05-30 00:00:00)</td>\n",
       "      <td>17</td>\n",
       "    </tr>\n",
       "    <tr>\n",
       "      <th>170</th>\n",
       "      <td>(051718, 416.0, 2021-05-30 00:00:00)</td>\n",
       "      <td>5</td>\n",
       "    </tr>\n",
       "    <tr>\n",
       "      <th>195</th>\n",
       "      <td>(051718, 424.0, 2021-05-30 00:00:00)</td>\n",
       "      <td>9</td>\n",
       "    </tr>\n",
       "    <tr>\n",
       "      <th>200</th>\n",
       "      <td>(051718, 425.0, 2021-05-30 00:00:00)</td>\n",
       "      <td>15</td>\n",
       "    </tr>\n",
       "    <tr>\n",
       "      <th>205</th>\n",
       "      <td>(051718, 426.0, 2021-05-30 00:00:00)</td>\n",
       "      <td>12</td>\n",
       "    </tr>\n",
       "    <tr>\n",
       "      <th>210</th>\n",
       "      <td>(051718, 433.0, 2021-05-30 00:00:00)</td>\n",
       "      <td>14</td>\n",
       "    </tr>\n",
       "    <tr>\n",
       "      <th>215</th>\n",
       "      <td>(051718, 434.0, 2021-05-30 00:00:00)</td>\n",
       "      <td>5</td>\n",
       "    </tr>\n",
       "    <tr>\n",
       "      <th>220</th>\n",
       "      <td>(051718, 435.0, 2021-05-30 00:00:00)</td>\n",
       "      <td>15</td>\n",
       "    </tr>\n",
       "    <tr>\n",
       "      <th>240</th>\n",
       "      <td>(051718, 439.0, 2021-05-30 00:00:00)</td>\n",
       "      <td>13</td>\n",
       "    </tr>\n",
       "    <tr>\n",
       "      <th>245</th>\n",
       "      <td>(051718, 440.0, 2021-05-30 00:00:00)</td>\n",
       "      <td>8</td>\n",
       "    </tr>\n",
       "    <tr>\n",
       "      <th>284</th>\n",
       "      <td>(056984, 409.0, 2021-06-03 00:00:00)</td>\n",
       "      <td>4</td>\n",
       "    </tr>\n",
       "    <tr>\n",
       "      <th>289</th>\n",
       "      <td>(056984, 410.0, 2021-06-03 00:00:00)</td>\n",
       "      <td>3</td>\n",
       "    </tr>\n",
       "    <tr>\n",
       "      <th>299</th>\n",
       "      <td>(056984, 416.0, 2021-06-03 00:00:00)</td>\n",
       "      <td>1</td>\n",
       "    </tr>\n",
       "    <tr>\n",
       "      <th>324</th>\n",
       "      <td>(056984, 424.0, 2021-06-03 00:00:00)</td>\n",
       "      <td>2</td>\n",
       "    </tr>\n",
       "    <tr>\n",
       "      <th>339</th>\n",
       "      <td>(056984, 433.0, 2021-06-03 00:00:00)</td>\n",
       "      <td>1</td>\n",
       "    </tr>\n",
       "    <tr>\n",
       "      <th>344</th>\n",
       "      <td>(056984, 434.0, 2021-06-03 00:00:00)</td>\n",
       "      <td>1</td>\n",
       "    </tr>\n",
       "    <tr>\n",
       "      <th>369</th>\n",
       "      <td>(056984, 439.0, 2021-06-03 00:00:00)</td>\n",
       "      <td>1</td>\n",
       "    </tr>\n",
       "    <tr>\n",
       "      <th>374</th>\n",
       "      <td>(056984, 440.0, 2021-06-03 00:00:00)</td>\n",
       "      <td>2</td>\n",
       "    </tr>\n",
       "    <tr>\n",
       "      <th>421</th>\n",
       "      <td>(K04031, 416.0, 2021-05-24 00:00:00)</td>\n",
       "      <td>35</td>\n",
       "    </tr>\n",
       "    <tr>\n",
       "      <th>451</th>\n",
       "      <td>(K04031, 425.0, 2021-05-24 00:00:00)</td>\n",
       "      <td>85</td>\n",
       "    </tr>\n",
       "    <tr>\n",
       "      <th>461</th>\n",
       "      <td>(K04031, 433.0, 2021-05-24 00:00:00)</td>\n",
       "      <td>160</td>\n",
       "    </tr>\n",
       "    <tr>\n",
       "      <th>471</th>\n",
       "      <td>(K04031, 435.0, 2021-05-24 00:00:00)</td>\n",
       "      <td>47</td>\n",
       "    </tr>\n",
       "    <tr>\n",
       "      <th>476</th>\n",
       "      <td>(K04031, 436.0, 2021-05-24 00:00:00)</td>\n",
       "      <td>21</td>\n",
       "    </tr>\n",
       "    <tr>\n",
       "      <th>496</th>\n",
       "      <td>(K04031, 440.0, 2021-05-24 00:00:00)</td>\n",
       "      <td>31</td>\n",
       "    </tr>\n",
       "    <tr>\n",
       "      <th>537</th>\n",
       "      <td>(K04033, 410.0, 2021-05-13 00:00:00)</td>\n",
       "      <td>55</td>\n",
       "    </tr>\n",
       "    <tr>\n",
       "      <th>542</th>\n",
       "      <td>(K04033, 412.0, 2021-05-13 00:00:00)</td>\n",
       "      <td>27</td>\n",
       "    </tr>\n",
       "    <tr>\n",
       "      <th>567</th>\n",
       "      <td>(K04033, 422.0, 2021-05-13 00:00:00)</td>\n",
       "      <td>79</td>\n",
       "    </tr>\n",
       "    <tr>\n",
       "      <th>587</th>\n",
       "      <td>(K04033, 433.0, 2021-05-13 00:00:00)</td>\n",
       "      <td>39</td>\n",
       "    </tr>\n",
       "    <tr>\n",
       "      <th>602</th>\n",
       "      <td>(K04033, 436.0, 2021-05-13 00:00:00)</td>\n",
       "      <td>31</td>\n",
       "    </tr>\n",
       "    <tr>\n",
       "      <th>612</th>\n",
       "      <td>(K04033, 438.0, 2021-05-13 00:00:00)</td>\n",
       "      <td>59</td>\n",
       "    </tr>\n",
       "    <tr>\n",
       "      <th>617</th>\n",
       "      <td>(K04033, 439.0, 2021-05-13 00:00:00)</td>\n",
       "      <td>26</td>\n",
       "    </tr>\n",
       "  </tbody>\n",
       "</table>\n",
       "</div>"
      ],
      "text/plain": [
       "                    (item, machine, time)  qty\n",
       "3    (057791, 401.0, 2021-06-18 00:00:00)   17\n",
       "8    (057791, 403.0, 2021-06-18 00:00:00)   63\n",
       "58   (057791, 420.0, 2021-06-18 00:00:00)   21\n",
       "68   (057791, 422.0, 2021-06-18 00:00:00)   26\n",
       "113  (057791, 438.0, 2021-06-18 00:00:00)   41\n",
       "150  (051718, 408.0, 2021-05-30 00:00:00)   13\n",
       "155  (051718, 409.0, 2021-05-30 00:00:00)   13\n",
       "160  (051718, 410.0, 2021-05-30 00:00:00)   14\n",
       "165  (051718, 412.0, 2021-05-30 00:00:00)   17\n",
       "170  (051718, 416.0, 2021-05-30 00:00:00)    5\n",
       "195  (051718, 424.0, 2021-05-30 00:00:00)    9\n",
       "200  (051718, 425.0, 2021-05-30 00:00:00)   15\n",
       "205  (051718, 426.0, 2021-05-30 00:00:00)   12\n",
       "210  (051718, 433.0, 2021-05-30 00:00:00)   14\n",
       "215  (051718, 434.0, 2021-05-30 00:00:00)    5\n",
       "220  (051718, 435.0, 2021-05-30 00:00:00)   15\n",
       "240  (051718, 439.0, 2021-05-30 00:00:00)   13\n",
       "245  (051718, 440.0, 2021-05-30 00:00:00)    8\n",
       "284  (056984, 409.0, 2021-06-03 00:00:00)    4\n",
       "289  (056984, 410.0, 2021-06-03 00:00:00)    3\n",
       "299  (056984, 416.0, 2021-06-03 00:00:00)    1\n",
       "324  (056984, 424.0, 2021-06-03 00:00:00)    2\n",
       "339  (056984, 433.0, 2021-06-03 00:00:00)    1\n",
       "344  (056984, 434.0, 2021-06-03 00:00:00)    1\n",
       "369  (056984, 439.0, 2021-06-03 00:00:00)    1\n",
       "374  (056984, 440.0, 2021-06-03 00:00:00)    2\n",
       "421  (K04031, 416.0, 2021-05-24 00:00:00)   35\n",
       "451  (K04031, 425.0, 2021-05-24 00:00:00)   85\n",
       "461  (K04031, 433.0, 2021-05-24 00:00:00)  160\n",
       "471  (K04031, 435.0, 2021-05-24 00:00:00)   47\n",
       "476  (K04031, 436.0, 2021-05-24 00:00:00)   21\n",
       "496  (K04031, 440.0, 2021-05-24 00:00:00)   31\n",
       "537  (K04033, 410.0, 2021-05-13 00:00:00)   55\n",
       "542  (K04033, 412.0, 2021-05-13 00:00:00)   27\n",
       "567  (K04033, 422.0, 2021-05-13 00:00:00)   79\n",
       "587  (K04033, 433.0, 2021-05-13 00:00:00)   39\n",
       "602  (K04033, 436.0, 2021-05-13 00:00:00)   31\n",
       "612  (K04033, 438.0, 2021-05-13 00:00:00)   59\n",
       "617  (K04033, 439.0, 2021-05-13 00:00:00)   26"
      ]
     },
     "execution_count": 157,
     "metadata": {},
     "output_type": "execute_result"
    }
   ],
   "source": [
    "with open('gt5.pkl', 'rb') as f:\n",
    "    gt_ls = pickle.load(f)\n",
    "\n",
    "gt_ls[0]"
   ]
  },
  {
   "cell_type": "code",
   "execution_count": 158,
   "id": "11a00556",
   "metadata": {},
   "outputs": [
    {
     "data": {
      "text/html": [
       "<div>\n",
       "<style scoped>\n",
       "    .dataframe tbody tr th:only-of-type {\n",
       "        vertical-align: middle;\n",
       "    }\n",
       "\n",
       "    .dataframe tbody tr th {\n",
       "        vertical-align: top;\n",
       "    }\n",
       "\n",
       "    .dataframe thead th {\n",
       "        text-align: right;\n",
       "    }\n",
       "</style>\n",
       "<table border=\"1\" class=\"dataframe\">\n",
       "  <thead>\n",
       "    <tr style=\"text-align: right;\">\n",
       "      <th></th>\n",
       "      <th>item</th>\n",
       "      <th>machine</th>\n",
       "      <th>time</th>\n",
       "      <th>qty</th>\n",
       "    </tr>\n",
       "  </thead>\n",
       "  <tbody>\n",
       "    <tr>\n",
       "      <th>3</th>\n",
       "      <td>057791</td>\n",
       "      <td>0401</td>\n",
       "      <td>2021-06-18</td>\n",
       "      <td>17</td>\n",
       "    </tr>\n",
       "    <tr>\n",
       "      <th>8</th>\n",
       "      <td>057791</td>\n",
       "      <td>0403</td>\n",
       "      <td>2021-06-18</td>\n",
       "      <td>63</td>\n",
       "    </tr>\n",
       "    <tr>\n",
       "      <th>58</th>\n",
       "      <td>057791</td>\n",
       "      <td>0420</td>\n",
       "      <td>2021-06-18</td>\n",
       "      <td>21</td>\n",
       "    </tr>\n",
       "    <tr>\n",
       "      <th>68</th>\n",
       "      <td>057791</td>\n",
       "      <td>0422</td>\n",
       "      <td>2021-06-18</td>\n",
       "      <td>26</td>\n",
       "    </tr>\n",
       "    <tr>\n",
       "      <th>113</th>\n",
       "      <td>057791</td>\n",
       "      <td>0438</td>\n",
       "      <td>2021-06-18</td>\n",
       "      <td>41</td>\n",
       "    </tr>\n",
       "    <tr>\n",
       "      <th>150</th>\n",
       "      <td>051718</td>\n",
       "      <td>0408</td>\n",
       "      <td>2021-05-30</td>\n",
       "      <td>13</td>\n",
       "    </tr>\n",
       "    <tr>\n",
       "      <th>155</th>\n",
       "      <td>051718</td>\n",
       "      <td>0409</td>\n",
       "      <td>2021-05-30</td>\n",
       "      <td>13</td>\n",
       "    </tr>\n",
       "    <tr>\n",
       "      <th>160</th>\n",
       "      <td>051718</td>\n",
       "      <td>0410</td>\n",
       "      <td>2021-05-30</td>\n",
       "      <td>14</td>\n",
       "    </tr>\n",
       "    <tr>\n",
       "      <th>165</th>\n",
       "      <td>051718</td>\n",
       "      <td>0412</td>\n",
       "      <td>2021-05-30</td>\n",
       "      <td>17</td>\n",
       "    </tr>\n",
       "    <tr>\n",
       "      <th>170</th>\n",
       "      <td>051718</td>\n",
       "      <td>0416</td>\n",
       "      <td>2021-05-30</td>\n",
       "      <td>5</td>\n",
       "    </tr>\n",
       "    <tr>\n",
       "      <th>195</th>\n",
       "      <td>051718</td>\n",
       "      <td>0424</td>\n",
       "      <td>2021-05-30</td>\n",
       "      <td>9</td>\n",
       "    </tr>\n",
       "    <tr>\n",
       "      <th>200</th>\n",
       "      <td>051718</td>\n",
       "      <td>0425</td>\n",
       "      <td>2021-05-30</td>\n",
       "      <td>15</td>\n",
       "    </tr>\n",
       "    <tr>\n",
       "      <th>205</th>\n",
       "      <td>051718</td>\n",
       "      <td>0426</td>\n",
       "      <td>2021-05-30</td>\n",
       "      <td>12</td>\n",
       "    </tr>\n",
       "    <tr>\n",
       "      <th>210</th>\n",
       "      <td>051718</td>\n",
       "      <td>0433</td>\n",
       "      <td>2021-05-30</td>\n",
       "      <td>14</td>\n",
       "    </tr>\n",
       "    <tr>\n",
       "      <th>215</th>\n",
       "      <td>051718</td>\n",
       "      <td>0434</td>\n",
       "      <td>2021-05-30</td>\n",
       "      <td>5</td>\n",
       "    </tr>\n",
       "    <tr>\n",
       "      <th>220</th>\n",
       "      <td>051718</td>\n",
       "      <td>0435</td>\n",
       "      <td>2021-05-30</td>\n",
       "      <td>15</td>\n",
       "    </tr>\n",
       "    <tr>\n",
       "      <th>240</th>\n",
       "      <td>051718</td>\n",
       "      <td>0439</td>\n",
       "      <td>2021-05-30</td>\n",
       "      <td>13</td>\n",
       "    </tr>\n",
       "    <tr>\n",
       "      <th>245</th>\n",
       "      <td>051718</td>\n",
       "      <td>0440</td>\n",
       "      <td>2021-05-30</td>\n",
       "      <td>8</td>\n",
       "    </tr>\n",
       "    <tr>\n",
       "      <th>284</th>\n",
       "      <td>056984</td>\n",
       "      <td>0409</td>\n",
       "      <td>2021-06-03</td>\n",
       "      <td>4</td>\n",
       "    </tr>\n",
       "    <tr>\n",
       "      <th>289</th>\n",
       "      <td>056984</td>\n",
       "      <td>0410</td>\n",
       "      <td>2021-06-03</td>\n",
       "      <td>3</td>\n",
       "    </tr>\n",
       "    <tr>\n",
       "      <th>299</th>\n",
       "      <td>056984</td>\n",
       "      <td>0416</td>\n",
       "      <td>2021-06-03</td>\n",
       "      <td>1</td>\n",
       "    </tr>\n",
       "    <tr>\n",
       "      <th>324</th>\n",
       "      <td>056984</td>\n",
       "      <td>0424</td>\n",
       "      <td>2021-06-03</td>\n",
       "      <td>2</td>\n",
       "    </tr>\n",
       "    <tr>\n",
       "      <th>339</th>\n",
       "      <td>056984</td>\n",
       "      <td>0433</td>\n",
       "      <td>2021-06-03</td>\n",
       "      <td>1</td>\n",
       "    </tr>\n",
       "    <tr>\n",
       "      <th>344</th>\n",
       "      <td>056984</td>\n",
       "      <td>0434</td>\n",
       "      <td>2021-06-03</td>\n",
       "      <td>1</td>\n",
       "    </tr>\n",
       "    <tr>\n",
       "      <th>369</th>\n",
       "      <td>056984</td>\n",
       "      <td>0439</td>\n",
       "      <td>2021-06-03</td>\n",
       "      <td>1</td>\n",
       "    </tr>\n",
       "    <tr>\n",
       "      <th>374</th>\n",
       "      <td>056984</td>\n",
       "      <td>0440</td>\n",
       "      <td>2021-06-03</td>\n",
       "      <td>2</td>\n",
       "    </tr>\n",
       "    <tr>\n",
       "      <th>421</th>\n",
       "      <td>K04031</td>\n",
       "      <td>0416</td>\n",
       "      <td>2021-05-24</td>\n",
       "      <td>35</td>\n",
       "    </tr>\n",
       "    <tr>\n",
       "      <th>451</th>\n",
       "      <td>K04031</td>\n",
       "      <td>0425</td>\n",
       "      <td>2021-05-24</td>\n",
       "      <td>85</td>\n",
       "    </tr>\n",
       "    <tr>\n",
       "      <th>461</th>\n",
       "      <td>K04031</td>\n",
       "      <td>0433</td>\n",
       "      <td>2021-05-24</td>\n",
       "      <td>160</td>\n",
       "    </tr>\n",
       "    <tr>\n",
       "      <th>471</th>\n",
       "      <td>K04031</td>\n",
       "      <td>0435</td>\n",
       "      <td>2021-05-24</td>\n",
       "      <td>47</td>\n",
       "    </tr>\n",
       "    <tr>\n",
       "      <th>476</th>\n",
       "      <td>K04031</td>\n",
       "      <td>0436</td>\n",
       "      <td>2021-05-24</td>\n",
       "      <td>21</td>\n",
       "    </tr>\n",
       "    <tr>\n",
       "      <th>496</th>\n",
       "      <td>K04031</td>\n",
       "      <td>0440</td>\n",
       "      <td>2021-05-24</td>\n",
       "      <td>31</td>\n",
       "    </tr>\n",
       "    <tr>\n",
       "      <th>537</th>\n",
       "      <td>K04033</td>\n",
       "      <td>0410</td>\n",
       "      <td>2021-05-13</td>\n",
       "      <td>55</td>\n",
       "    </tr>\n",
       "    <tr>\n",
       "      <th>542</th>\n",
       "      <td>K04033</td>\n",
       "      <td>0412</td>\n",
       "      <td>2021-05-13</td>\n",
       "      <td>27</td>\n",
       "    </tr>\n",
       "    <tr>\n",
       "      <th>567</th>\n",
       "      <td>K04033</td>\n",
       "      <td>0422</td>\n",
       "      <td>2021-05-13</td>\n",
       "      <td>79</td>\n",
       "    </tr>\n",
       "    <tr>\n",
       "      <th>587</th>\n",
       "      <td>K04033</td>\n",
       "      <td>0433</td>\n",
       "      <td>2021-05-13</td>\n",
       "      <td>39</td>\n",
       "    </tr>\n",
       "    <tr>\n",
       "      <th>602</th>\n",
       "      <td>K04033</td>\n",
       "      <td>0436</td>\n",
       "      <td>2021-05-13</td>\n",
       "      <td>31</td>\n",
       "    </tr>\n",
       "    <tr>\n",
       "      <th>612</th>\n",
       "      <td>K04033</td>\n",
       "      <td>0438</td>\n",
       "      <td>2021-05-13</td>\n",
       "      <td>59</td>\n",
       "    </tr>\n",
       "    <tr>\n",
       "      <th>617</th>\n",
       "      <td>K04033</td>\n",
       "      <td>0439</td>\n",
       "      <td>2021-05-13</td>\n",
       "      <td>26</td>\n",
       "    </tr>\n",
       "  </tbody>\n",
       "</table>\n",
       "</div>"
      ],
      "text/plain": [
       "       item machine       time  qty\n",
       "3    057791    0401 2021-06-18   17\n",
       "8    057791    0403 2021-06-18   63\n",
       "58   057791    0420 2021-06-18   21\n",
       "68   057791    0422 2021-06-18   26\n",
       "113  057791    0438 2021-06-18   41\n",
       "150  051718    0408 2021-05-30   13\n",
       "155  051718    0409 2021-05-30   13\n",
       "160  051718    0410 2021-05-30   14\n",
       "165  051718    0412 2021-05-30   17\n",
       "170  051718    0416 2021-05-30    5\n",
       "195  051718    0424 2021-05-30    9\n",
       "200  051718    0425 2021-05-30   15\n",
       "205  051718    0426 2021-05-30   12\n",
       "210  051718    0433 2021-05-30   14\n",
       "215  051718    0434 2021-05-30    5\n",
       "220  051718    0435 2021-05-30   15\n",
       "240  051718    0439 2021-05-30   13\n",
       "245  051718    0440 2021-05-30    8\n",
       "284  056984    0409 2021-06-03    4\n",
       "289  056984    0410 2021-06-03    3\n",
       "299  056984    0416 2021-06-03    1\n",
       "324  056984    0424 2021-06-03    2\n",
       "339  056984    0433 2021-06-03    1\n",
       "344  056984    0434 2021-06-03    1\n",
       "369  056984    0439 2021-06-03    1\n",
       "374  056984    0440 2021-06-03    2\n",
       "421  K04031    0416 2021-05-24   35\n",
       "451  K04031    0425 2021-05-24   85\n",
       "461  K04031    0433 2021-05-24  160\n",
       "471  K04031    0435 2021-05-24   47\n",
       "476  K04031    0436 2021-05-24   21\n",
       "496  K04031    0440 2021-05-24   31\n",
       "537  K04033    0410 2021-05-13   55\n",
       "542  K04033    0412 2021-05-13   27\n",
       "567  K04033    0422 2021-05-13   79\n",
       "587  K04033    0433 2021-05-13   39\n",
       "602  K04033    0436 2021-05-13   31\n",
       "612  K04033    0438 2021-05-13   59\n",
       "617  K04033    0439 2021-05-13   26"
      ]
     },
     "execution_count": 158,
     "metadata": {},
     "output_type": "execute_result"
    }
   ],
   "source": [
    "# GT 결과값 데이테프레임화\n",
    "for idx, gt in enumerate(gt_ls):\n",
    "    gt[['item', 'machine', 'time']] = pd.DataFrame(gt['(item, machine, time)'].tolist(), index=gt.index)\n",
    "    gt = gt.drop(columns='(item, machine, time)')\n",
    "    gt = gt[['item', 'machine', 'time', 'qty']]\n",
    "    gt['machine'] = gt['machine'].apply(lambda x: str(int(x)).zfill(4))\n",
    "    gt_ls[idx] = gt\n",
    "\n",
    "gt_ls[0]"
   ]
  },
  {
   "cell_type": "code",
   "execution_count": 159,
   "id": "a522808e",
   "metadata": {},
   "outputs": [
    {
     "data": {
      "text/html": [
       "<div>\n",
       "<style scoped>\n",
       "    .dataframe tbody tr th:only-of-type {\n",
       "        vertical-align: middle;\n",
       "    }\n",
       "\n",
       "    .dataframe tbody tr th {\n",
       "        vertical-align: top;\n",
       "    }\n",
       "\n",
       "    .dataframe thead th {\n",
       "        text-align: right;\n",
       "    }\n",
       "</style>\n",
       "<table border=\"1\" class=\"dataframe\">\n",
       "  <thead>\n",
       "    <tr style=\"text-align: right;\">\n",
       "      <th></th>\n",
       "      <th>item</th>\n",
       "      <th>machine</th>\n",
       "      <th>time</th>\n",
       "      <th>qty</th>\n",
       "    </tr>\n",
       "  </thead>\n",
       "  <tbody>\n",
       "    <tr>\n",
       "      <th>3</th>\n",
       "      <td>item87</td>\n",
       "      <td>machine01</td>\n",
       "      <td>date169</td>\n",
       "      <td>17</td>\n",
       "    </tr>\n",
       "    <tr>\n",
       "      <th>8</th>\n",
       "      <td>item87</td>\n",
       "      <td>machine03</td>\n",
       "      <td>date169</td>\n",
       "      <td>63</td>\n",
       "    </tr>\n",
       "    <tr>\n",
       "      <th>58</th>\n",
       "      <td>item87</td>\n",
       "      <td>machine18</td>\n",
       "      <td>date169</td>\n",
       "      <td>21</td>\n",
       "    </tr>\n",
       "    <tr>\n",
       "      <th>68</th>\n",
       "      <td>item87</td>\n",
       "      <td>machine20</td>\n",
       "      <td>date169</td>\n",
       "      <td>26</td>\n",
       "    </tr>\n",
       "    <tr>\n",
       "      <th>113</th>\n",
       "      <td>item87</td>\n",
       "      <td>machine33</td>\n",
       "      <td>date169</td>\n",
       "      <td>41</td>\n",
       "    </tr>\n",
       "    <tr>\n",
       "      <th>150</th>\n",
       "      <td>item96</td>\n",
       "      <td>machine08</td>\n",
       "      <td>date150</td>\n",
       "      <td>13</td>\n",
       "    </tr>\n",
       "    <tr>\n",
       "      <th>155</th>\n",
       "      <td>item96</td>\n",
       "      <td>machine09</td>\n",
       "      <td>date150</td>\n",
       "      <td>13</td>\n",
       "    </tr>\n",
       "    <tr>\n",
       "      <th>160</th>\n",
       "      <td>item96</td>\n",
       "      <td>machine10</td>\n",
       "      <td>date150</td>\n",
       "      <td>14</td>\n",
       "    </tr>\n",
       "    <tr>\n",
       "      <th>165</th>\n",
       "      <td>item96</td>\n",
       "      <td>machine12</td>\n",
       "      <td>date150</td>\n",
       "      <td>17</td>\n",
       "    </tr>\n",
       "    <tr>\n",
       "      <th>170</th>\n",
       "      <td>item96</td>\n",
       "      <td>machine14</td>\n",
       "      <td>date150</td>\n",
       "      <td>5</td>\n",
       "    </tr>\n",
       "    <tr>\n",
       "      <th>195</th>\n",
       "      <td>item96</td>\n",
       "      <td>machine21</td>\n",
       "      <td>date150</td>\n",
       "      <td>9</td>\n",
       "    </tr>\n",
       "    <tr>\n",
       "      <th>200</th>\n",
       "      <td>item96</td>\n",
       "      <td>machine22</td>\n",
       "      <td>date150</td>\n",
       "      <td>15</td>\n",
       "    </tr>\n",
       "    <tr>\n",
       "      <th>205</th>\n",
       "      <td>item96</td>\n",
       "      <td>machine23</td>\n",
       "      <td>date150</td>\n",
       "      <td>12</td>\n",
       "    </tr>\n",
       "    <tr>\n",
       "      <th>210</th>\n",
       "      <td>item96</td>\n",
       "      <td>machine28</td>\n",
       "      <td>date150</td>\n",
       "      <td>14</td>\n",
       "    </tr>\n",
       "    <tr>\n",
       "      <th>215</th>\n",
       "      <td>item96</td>\n",
       "      <td>machine29</td>\n",
       "      <td>date150</td>\n",
       "      <td>5</td>\n",
       "    </tr>\n",
       "    <tr>\n",
       "      <th>220</th>\n",
       "      <td>item96</td>\n",
       "      <td>machine30</td>\n",
       "      <td>date150</td>\n",
       "      <td>15</td>\n",
       "    </tr>\n",
       "    <tr>\n",
       "      <th>240</th>\n",
       "      <td>item96</td>\n",
       "      <td>machine34</td>\n",
       "      <td>date150</td>\n",
       "      <td>13</td>\n",
       "    </tr>\n",
       "    <tr>\n",
       "      <th>245</th>\n",
       "      <td>item96</td>\n",
       "      <td>machine35</td>\n",
       "      <td>date150</td>\n",
       "      <td>8</td>\n",
       "    </tr>\n",
       "    <tr>\n",
       "      <th>284</th>\n",
       "      <td>item91</td>\n",
       "      <td>machine09</td>\n",
       "      <td>date154</td>\n",
       "      <td>4</td>\n",
       "    </tr>\n",
       "    <tr>\n",
       "      <th>289</th>\n",
       "      <td>item91</td>\n",
       "      <td>machine10</td>\n",
       "      <td>date154</td>\n",
       "      <td>3</td>\n",
       "    </tr>\n",
       "    <tr>\n",
       "      <th>299</th>\n",
       "      <td>item91</td>\n",
       "      <td>machine14</td>\n",
       "      <td>date154</td>\n",
       "      <td>1</td>\n",
       "    </tr>\n",
       "    <tr>\n",
       "      <th>324</th>\n",
       "      <td>item91</td>\n",
       "      <td>machine21</td>\n",
       "      <td>date154</td>\n",
       "      <td>2</td>\n",
       "    </tr>\n",
       "    <tr>\n",
       "      <th>339</th>\n",
       "      <td>item91</td>\n",
       "      <td>machine28</td>\n",
       "      <td>date154</td>\n",
       "      <td>1</td>\n",
       "    </tr>\n",
       "    <tr>\n",
       "      <th>344</th>\n",
       "      <td>item91</td>\n",
       "      <td>machine29</td>\n",
       "      <td>date154</td>\n",
       "      <td>1</td>\n",
       "    </tr>\n",
       "    <tr>\n",
       "      <th>369</th>\n",
       "      <td>item91</td>\n",
       "      <td>machine34</td>\n",
       "      <td>date154</td>\n",
       "      <td>1</td>\n",
       "    </tr>\n",
       "    <tr>\n",
       "      <th>374</th>\n",
       "      <td>item91</td>\n",
       "      <td>machine35</td>\n",
       "      <td>date154</td>\n",
       "      <td>2</td>\n",
       "    </tr>\n",
       "    <tr>\n",
       "      <th>421</th>\n",
       "      <td>item16</td>\n",
       "      <td>machine14</td>\n",
       "      <td>date144</td>\n",
       "      <td>35</td>\n",
       "    </tr>\n",
       "    <tr>\n",
       "      <th>451</th>\n",
       "      <td>item16</td>\n",
       "      <td>machine22</td>\n",
       "      <td>date144</td>\n",
       "      <td>85</td>\n",
       "    </tr>\n",
       "    <tr>\n",
       "      <th>461</th>\n",
       "      <td>item16</td>\n",
       "      <td>machine28</td>\n",
       "      <td>date144</td>\n",
       "      <td>160</td>\n",
       "    </tr>\n",
       "    <tr>\n",
       "      <th>471</th>\n",
       "      <td>item16</td>\n",
       "      <td>machine30</td>\n",
       "      <td>date144</td>\n",
       "      <td>47</td>\n",
       "    </tr>\n",
       "    <tr>\n",
       "      <th>476</th>\n",
       "      <td>item16</td>\n",
       "      <td>machine31</td>\n",
       "      <td>date144</td>\n",
       "      <td>21</td>\n",
       "    </tr>\n",
       "    <tr>\n",
       "      <th>496</th>\n",
       "      <td>item16</td>\n",
       "      <td>machine35</td>\n",
       "      <td>date144</td>\n",
       "      <td>31</td>\n",
       "    </tr>\n",
       "    <tr>\n",
       "      <th>537</th>\n",
       "      <td>item15</td>\n",
       "      <td>machine10</td>\n",
       "      <td>date133</td>\n",
       "      <td>55</td>\n",
       "    </tr>\n",
       "    <tr>\n",
       "      <th>542</th>\n",
       "      <td>item15</td>\n",
       "      <td>machine12</td>\n",
       "      <td>date133</td>\n",
       "      <td>27</td>\n",
       "    </tr>\n",
       "    <tr>\n",
       "      <th>567</th>\n",
       "      <td>item15</td>\n",
       "      <td>machine20</td>\n",
       "      <td>date133</td>\n",
       "      <td>79</td>\n",
       "    </tr>\n",
       "    <tr>\n",
       "      <th>587</th>\n",
       "      <td>item15</td>\n",
       "      <td>machine28</td>\n",
       "      <td>date133</td>\n",
       "      <td>39</td>\n",
       "    </tr>\n",
       "    <tr>\n",
       "      <th>602</th>\n",
       "      <td>item15</td>\n",
       "      <td>machine31</td>\n",
       "      <td>date133</td>\n",
       "      <td>31</td>\n",
       "    </tr>\n",
       "    <tr>\n",
       "      <th>612</th>\n",
       "      <td>item15</td>\n",
       "      <td>machine33</td>\n",
       "      <td>date133</td>\n",
       "      <td>59</td>\n",
       "    </tr>\n",
       "    <tr>\n",
       "      <th>617</th>\n",
       "      <td>item15</td>\n",
       "      <td>machine34</td>\n",
       "      <td>date133</td>\n",
       "      <td>26</td>\n",
       "    </tr>\n",
       "  </tbody>\n",
       "</table>\n",
       "</div>"
      ],
      "text/plain": [
       "       item    machine     time  qty\n",
       "3    item87  machine01  date169   17\n",
       "8    item87  machine03  date169   63\n",
       "58   item87  machine18  date169   21\n",
       "68   item87  machine20  date169   26\n",
       "113  item87  machine33  date169   41\n",
       "150  item96  machine08  date150   13\n",
       "155  item96  machine09  date150   13\n",
       "160  item96  machine10  date150   14\n",
       "165  item96  machine12  date150   17\n",
       "170  item96  machine14  date150    5\n",
       "195  item96  machine21  date150    9\n",
       "200  item96  machine22  date150   15\n",
       "205  item96  machine23  date150   12\n",
       "210  item96  machine28  date150   14\n",
       "215  item96  machine29  date150    5\n",
       "220  item96  machine30  date150   15\n",
       "240  item96  machine34  date150   13\n",
       "245  item96  machine35  date150    8\n",
       "284  item91  machine09  date154    4\n",
       "289  item91  machine10  date154    3\n",
       "299  item91  machine14  date154    1\n",
       "324  item91  machine21  date154    2\n",
       "339  item91  machine28  date154    1\n",
       "344  item91  machine29  date154    1\n",
       "369  item91  machine34  date154    1\n",
       "374  item91  machine35  date154    2\n",
       "421  item16  machine14  date144   35\n",
       "451  item16  machine22  date144   85\n",
       "461  item16  machine28  date144  160\n",
       "471  item16  machine30  date144   47\n",
       "476  item16  machine31  date144   21\n",
       "496  item16  machine35  date144   31\n",
       "537  item15  machine10  date133   55\n",
       "542  item15  machine12  date133   27\n",
       "567  item15  machine20  date133   79\n",
       "587  item15  machine28  date133   39\n",
       "602  item15  machine31  date133   31\n",
       "612  item15  machine33  date133   59\n",
       "617  item15  machine34  date133   26"
      ]
     },
     "execution_count": 159,
     "metadata": {},
     "output_type": "execute_result"
    }
   ],
   "source": [
    "# gt 전처리\n",
    "for idx, gt in enumerate(gt_ls):\n",
    "    gt['machine'] =   gt['machine'].apply(lambda x: str(int(x)).zfill(4))\n",
    "    gt['item'] =  gt['item'].apply(change_item_name)\n",
    "    gt['time'] =  gt['time'].apply(change_time_name)\n",
    "    gt['machine'] = gt['machine'].apply(change_machine_name)\n",
    "    gt_ls[idx] = gt\n",
    "\n",
    "gt_ls[0]"
   ]
  },
  {
   "cell_type": "code",
   "execution_count": 160,
   "id": "0bd21cb7",
   "metadata": {},
   "outputs": [
    {
     "data": {
      "text/plain": [
       "\"• item15, right? 318? You can do it by May 13th, 2021, and the unit price is 25,870 won. Oh, and the inspection product.\\n• Oh, I just got the item16 drawing, and it says it's due on May 24th, 2021. I need to do 383 of them, and it costs 16,229 won, and it's an inspection item.\\n• There, I need to do 19 drawings for item96. It's until May 30th, 2021. It's 8,333 won. And nothing special.\\n• Hey, look quickly. item91 4 I have to do it by June 3rd, 2021. What should I do? The unit price is 36,533 won and there's nothing special about it.\\n• item87, right? Doing 196? You can do it until June 18th, 2021, and the unit price is 45,500 won. Oh, and the inspection product\""
      ]
     },
     "execution_count": 160,
     "metadata": {},
     "output_type": "execute_result"
    }
   ],
   "source": [
    "# order 정보 묶기\n",
    "def combine_order(data):\n",
    "    combined_data = '\\n'.join(f'• {text}' for text in data['nl_order'])\n",
    "\n",
    "    return combined_data\n",
    "\n",
    "combine_order(dataset_for_nl[0])"
   ]
  },
  {
   "cell_type": "code",
   "execution_count": 161,
   "id": "e101e701",
   "metadata": {},
   "outputs": [
    {
     "data": {
      "text/plain": [
       "\"• item15, right? 318? You can do it by May 13th, 2021, and the unit price is 25,870 won. Oh, and the inspection product.\\n• Oh, I just got the item16 drawing, and it says it's due on May 24th, 2021. I need to do 383 of them, and it costs 16,229 won, and it's an inspection item.\\n• There, I need to do 19 drawings for item96. It's until May 30th, 2021. It's 8,333 won. And nothing special.\\n• Hey, look quickly. item91 4 I have to do it by June 3rd, 2021. What should I do? The unit price is 36,533 won and there's nothing special about it.\\n• item87, right? Doing 196? You can do it until June 18th, 2021, and the unit price is 45,500 won. Oh, and the inspection product\""
      ]
     },
     "execution_count": 161,
     "metadata": {},
     "output_type": "execute_result"
    }
   ],
   "source": [
    "order_for_dataset = [combine_order(data) for data in dataset_for_nl]\n",
    "order_for_dataset[0]"
   ]
  },
  {
   "cell_type": "code",
   "execution_count": 162,
   "id": "dd69b154",
   "metadata": {},
   "outputs": [
    {
     "name": "stdout",
     "output_type": "stream",
     "text": [
      "• item15 machine04 12.84\n",
      "• item15 machine05 10.42\n",
      "• item15 machine07 8.69\n",
      "• item15 machine08 9.12\n",
      "• item15 machine09 10.33\n",
      "• item15 machine10 8.99\n",
      "• item15 machine12 12.32\n",
      "• item15 machine14 11.23\n",
      "• item15 machine20 4.0\n",
      "• item15 machine21 9.87\n",
      "• item15 machine23 11.77\n",
      "• item15 machine28 9.54\n",
      "• item15 machine29 13.05\n",
      "• item15 machine30 9.0\n",
      "• item15 machine31 9.0\n",
      "• item15 machine33 4.4\n",
      "• item15 machine34 12.47\n",
      "• item15 machine35 9.4\n",
      "• item16 machine07 4.85\n",
      "• item16 machine08 3.83\n",
      "• item16 machine09 5.37\n",
      "• item16 machine10 3.09\n",
      "• item16 machine14 2.73\n",
      "• item16 machine21 3.94\n",
      "• item16 machine22 5.47\n",
      "• item16 machine23 6.25\n",
      "• item16 machine28 3.37\n",
      "• item16 machine29 3.86\n",
      "• item16 machine30 3.8\n",
      "• item16 machine31 4.53\n",
      "• item16 machine35 3.85\n",
      "• item96 machine08 4.89\n",
      "• item96 machine09 5.92\n",
      "• item96 machine10 4.91\n",
      "• item96 machine12 3.5\n",
      "• item96 machine14 1.03\n",
      "• item96 machine21 4.6\n",
      "• item96 machine22 4.54\n",
      "• item96 machine23 3.83\n",
      "• item96 machine28 4.64\n",
      "• item96 machine29 7.12\n",
      "• item96 machine30 1.32\n",
      "• item96 machine34 3.0\n",
      "• item96 machine35 1.83\n",
      "• item91 machine08 4.42\n",
      "• item91 machine09 4.03\n",
      "• item91 machine10 5.32\n",
      "• item91 machine14 4.0\n",
      "• item91 machine21 4.8\n",
      "• item91 machine28 4.33\n",
      "• item91 machine29 5.32\n",
      "• item91 machine34 5.25\n",
      "• item91 machine35 4.5\n",
      "• item87 machine01 5.88\n",
      "• item87 machine03 6.5\n",
      "• item87 machine05 11.64\n",
      "• item87 machine17 12.0\n",
      "• item87 machine18 11.82\n",
      "• item87 machine19 10.0\n",
      "• item87 machine20 11.37\n",
      "• item87 machine21 7.85\n",
      "• item87 machine32 5.49\n",
      "• item87 machine33 6.9\n"
     ]
    }
   ],
   "source": [
    "def combine_machine(data):\n",
    "    combined_data = list()\n",
    "    for _, row in data.iterrows():\n",
    "        combined_data.append(f\"• {row['item']} {row['machine']} {row['capacity']}\")\n",
    "\n",
    "    combined_data = \"\\n\".join(combined_data)\n",
    "        \n",
    "    return combined_data\n",
    "\n",
    "print(combine_machine(dataset_for_ga[0]))"
   ]
  },
  {
   "cell_type": "code",
   "execution_count": 163,
   "id": "a8595e43",
   "metadata": {},
   "outputs": [
    {
     "data": {
      "text/plain": [
       "'• item15 machine04 12.84\\n• item15 machine05 10.42\\n• item15 machine07 8.69\\n• item15 machine08 9.12\\n• item15 machine09 10.33\\n• item15 machine10 8.99\\n• item15 machine12 12.32\\n• item15 machine14 11.23\\n• item15 machine20 4.0\\n• item15 machine21 9.87\\n• item15 machine23 11.77\\n• item15 machine28 9.54\\n• item15 machine29 13.05\\n• item15 machine30 9.0\\n• item15 machine31 9.0\\n• item15 machine33 4.4\\n• item15 machine34 12.47\\n• item15 machine35 9.4\\n• item16 machine07 4.85\\n• item16 machine08 3.83\\n• item16 machine09 5.37\\n• item16 machine10 3.09\\n• item16 machine14 2.73\\n• item16 machine21 3.94\\n• item16 machine22 5.47\\n• item16 machine23 6.25\\n• item16 machine28 3.37\\n• item16 machine29 3.86\\n• item16 machine30 3.8\\n• item16 machine31 4.53\\n• item16 machine35 3.85\\n• item96 machine08 4.89\\n• item96 machine09 5.92\\n• item96 machine10 4.91\\n• item96 machine12 3.5\\n• item96 machine14 1.03\\n• item96 machine21 4.6\\n• item96 machine22 4.54\\n• item96 machine23 3.83\\n• item96 machine28 4.64\\n• item96 machine29 7.12\\n• item96 machine30 1.32\\n• item96 machine34 3.0\\n• item96 machine35 1.83\\n• item91 machine08 4.42\\n• item91 machine09 4.03\\n• item91 machine10 5.32\\n• item91 machine14 4.0\\n• item91 machine21 4.8\\n• item91 machine28 4.33\\n• item91 machine29 5.32\\n• item91 machine34 5.25\\n• item91 machine35 4.5\\n• item87 machine01 5.88\\n• item87 machine03 6.5\\n• item87 machine05 11.64\\n• item87 machine17 12.0\\n• item87 machine18 11.82\\n• item87 machine19 10.0\\n• item87 machine20 11.37\\n• item87 machine21 7.85\\n• item87 machine32 5.49\\n• item87 machine33 6.9'"
      ]
     },
     "execution_count": 163,
     "metadata": {},
     "output_type": "execute_result"
    }
   ],
   "source": [
    "machine_for_dataset = [combine_machine(data) for data in dataset_for_ga]\n",
    "machine_for_dataset[0]"
   ]
  },
  {
   "cell_type": "code",
   "execution_count": 164,
   "id": "1f6f4ed4",
   "metadata": {},
   "outputs": [
    {
     "name": "stdout",
     "output_type": "stream",
     "text": [
      "• item87 machine01 date169 17\n",
      "• item87 machine03 date169 63\n",
      "• item87 machine18 date169 21\n",
      "• item87 machine20 date169 26\n",
      "• item87 machine33 date169 41\n",
      "• item96 machine08 date150 13\n",
      "• item96 machine09 date150 13\n",
      "• item96 machine10 date150 14\n",
      "• item96 machine12 date150 17\n",
      "• item96 machine14 date150 5\n",
      "• item96 machine21 date150 9\n",
      "• item96 machine22 date150 15\n",
      "• item96 machine23 date150 12\n",
      "• item96 machine28 date150 14\n",
      "• item96 machine29 date150 5\n",
      "• item96 machine30 date150 15\n",
      "• item96 machine34 date150 13\n",
      "• item96 machine35 date150 8\n",
      "• item91 machine09 date154 4\n",
      "• item91 machine10 date154 3\n",
      "• item91 machine14 date154 1\n",
      "• item91 machine21 date154 2\n",
      "• item91 machine28 date154 1\n",
      "• item91 machine29 date154 1\n",
      "• item91 machine34 date154 1\n",
      "• item91 machine35 date154 2\n",
      "• item16 machine14 date144 35\n",
      "• item16 machine22 date144 85\n",
      "• item16 machine28 date144 160\n",
      "• item16 machine30 date144 47\n",
      "• item16 machine31 date144 21\n",
      "• item16 machine35 date144 31\n",
      "• item15 machine10 date133 55\n",
      "• item15 machine12 date133 27\n",
      "• item15 machine20 date133 79\n",
      "• item15 machine28 date133 39\n",
      "• item15 machine31 date133 31\n",
      "• item15 machine33 date133 59\n",
      "• item15 machine34 date133 26\n"
     ]
    }
   ],
   "source": [
    "# gt 정보 텍스트화\n",
    "def combine_gt(data):\n",
    "    combined_data = list()\n",
    "    for _, row in data.iterrows():\n",
    "        combined_data.append(f\"• {row['item']} {row['machine']} {row['time']} {row['qty']}\")\n",
    "\n",
    "    combined_data = \"\\n\".join(combined_data)\n",
    "        \n",
    "    return combined_data\n",
    "\n",
    "print(combine_gt(gt_ls[0]))"
   ]
  },
  {
   "cell_type": "code",
   "execution_count": 165,
   "id": "bc038455",
   "metadata": {},
   "outputs": [
    {
     "data": {
      "text/plain": [
       "'• item87 machine01 date169 17\\n• item87 machine03 date169 63\\n• item87 machine18 date169 21\\n• item87 machine20 date169 26\\n• item87 machine33 date169 41\\n• item96 machine08 date150 13\\n• item96 machine09 date150 13\\n• item96 machine10 date150 14\\n• item96 machine12 date150 17\\n• item96 machine14 date150 5\\n• item96 machine21 date150 9\\n• item96 machine22 date150 15\\n• item96 machine23 date150 12\\n• item96 machine28 date150 14\\n• item96 machine29 date150 5\\n• item96 machine30 date150 15\\n• item96 machine34 date150 13\\n• item96 machine35 date150 8\\n• item91 machine09 date154 4\\n• item91 machine10 date154 3\\n• item91 machine14 date154 1\\n• item91 machine21 date154 2\\n• item91 machine28 date154 1\\n• item91 machine29 date154 1\\n• item91 machine34 date154 1\\n• item91 machine35 date154 2\\n• item16 machine14 date144 35\\n• item16 machine22 date144 85\\n• item16 machine28 date144 160\\n• item16 machine30 date144 47\\n• item16 machine31 date144 21\\n• item16 machine35 date144 31\\n• item15 machine10 date133 55\\n• item15 machine12 date133 27\\n• item15 machine20 date133 79\\n• item15 machine28 date133 39\\n• item15 machine31 date133 31\\n• item15 machine33 date133 59\\n• item15 machine34 date133 26'"
      ]
     },
     "execution_count": 165,
     "metadata": {},
     "output_type": "execute_result"
    }
   ],
   "source": [
    "gt_for_dataset = [combine_gt(data) for data in gt_ls]\n",
    "gt_for_dataset[0]"
   ]
  },
  {
   "cell_type": "code",
   "execution_count": 166,
   "id": "e2c2927a",
   "metadata": {},
   "outputs": [
    {
     "data": {
      "text/html": [
       "<div>\n",
       "<style scoped>\n",
       "    .dataframe tbody tr th:only-of-type {\n",
       "        vertical-align: middle;\n",
       "    }\n",
       "\n",
       "    .dataframe tbody tr th {\n",
       "        vertical-align: top;\n",
       "    }\n",
       "\n",
       "    .dataframe thead th {\n",
       "        text-align: right;\n",
       "    }\n",
       "</style>\n",
       "<table border=\"1\" class=\"dataframe\">\n",
       "  <thead>\n",
       "    <tr style=\"text-align: right;\">\n",
       "      <th></th>\n",
       "      <th>order</th>\n",
       "      <th>machine</th>\n",
       "      <th>gt</th>\n",
       "    </tr>\n",
       "  </thead>\n",
       "  <tbody>\n",
       "  </tbody>\n",
       "</table>\n",
       "</div>"
      ],
      "text/plain": [
       "Empty DataFrame\n",
       "Columns: [order, machine, gt]\n",
       "Index: []"
      ]
     },
     "execution_count": 166,
     "metadata": {},
     "output_type": "execute_result"
    }
   ],
   "source": [
    "dataset = pd.DataFrame(columns=['order', 'machine', 'gt'])\n",
    "dataset"
   ]
  },
  {
   "cell_type": "code",
   "execution_count": 167,
   "id": "2a575a1d",
   "metadata": {},
   "outputs": [
    {
     "data": {
      "text/html": [
       "<div>\n",
       "<style scoped>\n",
       "    .dataframe tbody tr th:only-of-type {\n",
       "        vertical-align: middle;\n",
       "    }\n",
       "\n",
       "    .dataframe tbody tr th {\n",
       "        vertical-align: top;\n",
       "    }\n",
       "\n",
       "    .dataframe thead th {\n",
       "        text-align: right;\n",
       "    }\n",
       "</style>\n",
       "<table border=\"1\" class=\"dataframe\">\n",
       "  <thead>\n",
       "    <tr style=\"text-align: right;\">\n",
       "      <th></th>\n",
       "      <th>order</th>\n",
       "      <th>machine</th>\n",
       "      <th>gt</th>\n",
       "    </tr>\n",
       "  </thead>\n",
       "  <tbody>\n",
       "    <tr>\n",
       "      <th>0</th>\n",
       "      <td>• item15, right? 318? You can do it by May 13t...</td>\n",
       "      <td>• item15 machine04 12.84\\n• item15 machine05 1...</td>\n",
       "      <td>• item87 machine01 date169 17\\n• item87 machin...</td>\n",
       "    </tr>\n",
       "    <tr>\n",
       "      <th>1</th>\n",
       "      <td>• Oh, I just got the item16 drawing, and it sa...</td>\n",
       "      <td>• item16 machine07 4.85\\n• item16 machine08 3....</td>\n",
       "      <td>• item87 machine03 date169 53\\n• item87 machin...</td>\n",
       "    </tr>\n",
       "    <tr>\n",
       "      <th>2</th>\n",
       "      <td>• There, I need to do 19 drawings for item96. ...</td>\n",
       "      <td>• item05 machine10 4.6\\n• item96 machine08 4.8...</td>\n",
       "      <td>• item87 machine01 date169 71\\n• item87 machin...</td>\n",
       "    </tr>\n",
       "    <tr>\n",
       "      <th>3</th>\n",
       "      <td>• Hey, look quickly. item91 4 I have to do it ...</td>\n",
       "      <td>• item05 machine10 4.6\\n• item95 machine10 25....</td>\n",
       "      <td>• item87 machine21 date169 72\\n• item87 machin...</td>\n",
       "    </tr>\n",
       "    <tr>\n",
       "      <th>4</th>\n",
       "      <td>• item87, right? Doing 196? You can do it unti...</td>\n",
       "      <td>• item05 machine10 4.6\\n• item95 machine10 25....</td>\n",
       "      <td>• item20 machine14 date169 9\\n• item20 machine...</td>\n",
       "    </tr>\n",
       "  </tbody>\n",
       "</table>\n",
       "</div>"
      ],
      "text/plain": [
       "                                               order  \\\n",
       "0  • item15, right? 318? You can do it by May 13t...   \n",
       "1  • Oh, I just got the item16 drawing, and it sa...   \n",
       "2  • There, I need to do 19 drawings for item96. ...   \n",
       "3  • Hey, look quickly. item91 4 I have to do it ...   \n",
       "4  • item87, right? Doing 196? You can do it unti...   \n",
       "\n",
       "                                             machine  \\\n",
       "0  • item15 machine04 12.84\\n• item15 machine05 1...   \n",
       "1  • item16 machine07 4.85\\n• item16 machine08 3....   \n",
       "2  • item05 machine10 4.6\\n• item96 machine08 4.8...   \n",
       "3  • item05 machine10 4.6\\n• item95 machine10 25....   \n",
       "4  • item05 machine10 4.6\\n• item95 machine10 25....   \n",
       "\n",
       "                                                  gt  \n",
       "0  • item87 machine01 date169 17\\n• item87 machin...  \n",
       "1  • item87 machine03 date169 53\\n• item87 machin...  \n",
       "2  • item87 machine01 date169 71\\n• item87 machin...  \n",
       "3  • item87 machine21 date169 72\\n• item87 machin...  \n",
       "4  • item20 machine14 date169 9\\n• item20 machine...  "
      ]
     },
     "execution_count": 167,
     "metadata": {},
     "output_type": "execute_result"
    }
   ],
   "source": [
    "dataset['order'] = order_for_dataset\n",
    "dataset['machine'] = machine_for_dataset\n",
    "dataset['gt'] = gt_for_dataset\n",
    "dataset.head()"
   ]
  },
  {
   "cell_type": "code",
   "execution_count": 168,
   "id": "b0bec50d",
   "metadata": {},
   "outputs": [
    {
     "data": {
      "text/html": [
       "<div>\n",
       "<style scoped>\n",
       "    .dataframe tbody tr th:only-of-type {\n",
       "        vertical-align: middle;\n",
       "    }\n",
       "\n",
       "    .dataframe tbody tr th {\n",
       "        vertical-align: top;\n",
       "    }\n",
       "\n",
       "    .dataframe thead th {\n",
       "        text-align: right;\n",
       "    }\n",
       "</style>\n",
       "<table border=\"1\" class=\"dataframe\">\n",
       "  <thead>\n",
       "    <tr style=\"text-align: right;\">\n",
       "      <th></th>\n",
       "      <th>order</th>\n",
       "      <th>machine</th>\n",
       "      <th>gt</th>\n",
       "      <th>order_machine</th>\n",
       "      <th>order_machine_gt</th>\n",
       "    </tr>\n",
       "  </thead>\n",
       "  <tbody>\n",
       "    <tr>\n",
       "      <th>0</th>\n",
       "      <td>• item15, right? 318? You can do it by May 13t...</td>\n",
       "      <td>• item15 machine04 12.84\\n• item15 machine05 1...</td>\n",
       "      <td>• item87 machine01 date169 17\\n• item87 machin...</td>\n",
       "      <td>Order information\\n• item15, right? 318? You c...</td>\n",
       "      <td>Order information\\n• item15, right? 318? You c...</td>\n",
       "    </tr>\n",
       "    <tr>\n",
       "      <th>1</th>\n",
       "      <td>• Oh, I just got the item16 drawing, and it sa...</td>\n",
       "      <td>• item16 machine07 4.85\\n• item16 machine08 3....</td>\n",
       "      <td>• item87 machine03 date169 53\\n• item87 machin...</td>\n",
       "      <td>Order information\\n• Oh, I just got the item16...</td>\n",
       "      <td>Order information\\n• Oh, I just got the item16...</td>\n",
       "    </tr>\n",
       "    <tr>\n",
       "      <th>2</th>\n",
       "      <td>• There, I need to do 19 drawings for item96. ...</td>\n",
       "      <td>• item05 machine10 4.6\\n• item96 machine08 4.8...</td>\n",
       "      <td>• item87 machine01 date169 71\\n• item87 machin...</td>\n",
       "      <td>Order information\\n• There, I need to do 19 dr...</td>\n",
       "      <td>Order information\\n• There, I need to do 19 dr...</td>\n",
       "    </tr>\n",
       "    <tr>\n",
       "      <th>3</th>\n",
       "      <td>• Hey, look quickly. item91 4 I have to do it ...</td>\n",
       "      <td>• item05 machine10 4.6\\n• item95 machine10 25....</td>\n",
       "      <td>• item87 machine21 date169 72\\n• item87 machin...</td>\n",
       "      <td>Order information\\n• Hey, look quickly. item91...</td>\n",
       "      <td>Order information\\n• Hey, look quickly. item91...</td>\n",
       "    </tr>\n",
       "    <tr>\n",
       "      <th>4</th>\n",
       "      <td>• item87, right? Doing 196? You can do it unti...</td>\n",
       "      <td>• item05 machine10 4.6\\n• item95 machine10 25....</td>\n",
       "      <td>• item20 machine14 date169 9\\n• item20 machine...</td>\n",
       "      <td>Order information\\n• item87, right? Doing 196?...</td>\n",
       "      <td>Order information\\n• item87, right? Doing 196?...</td>\n",
       "    </tr>\n",
       "  </tbody>\n",
       "</table>\n",
       "</div>"
      ],
      "text/plain": [
       "                                               order  \\\n",
       "0  • item15, right? 318? You can do it by May 13t...   \n",
       "1  • Oh, I just got the item16 drawing, and it sa...   \n",
       "2  • There, I need to do 19 drawings for item96. ...   \n",
       "3  • Hey, look quickly. item91 4 I have to do it ...   \n",
       "4  • item87, right? Doing 196? You can do it unti...   \n",
       "\n",
       "                                             machine  \\\n",
       "0  • item15 machine04 12.84\\n• item15 machine05 1...   \n",
       "1  • item16 machine07 4.85\\n• item16 machine08 3....   \n",
       "2  • item05 machine10 4.6\\n• item96 machine08 4.8...   \n",
       "3  • item05 machine10 4.6\\n• item95 machine10 25....   \n",
       "4  • item05 machine10 4.6\\n• item95 machine10 25....   \n",
       "\n",
       "                                                  gt  \\\n",
       "0  • item87 machine01 date169 17\\n• item87 machin...   \n",
       "1  • item87 machine03 date169 53\\n• item87 machin...   \n",
       "2  • item87 machine01 date169 71\\n• item87 machin...   \n",
       "3  • item87 machine21 date169 72\\n• item87 machin...   \n",
       "4  • item20 machine14 date169 9\\n• item20 machine...   \n",
       "\n",
       "                                       order_machine  \\\n",
       "0  Order information\\n• item15, right? 318? You c...   \n",
       "1  Order information\\n• Oh, I just got the item16...   \n",
       "2  Order information\\n• There, I need to do 19 dr...   \n",
       "3  Order information\\n• Hey, look quickly. item91...   \n",
       "4  Order information\\n• item87, right? Doing 196?...   \n",
       "\n",
       "                                    order_machine_gt  \n",
       "0  Order information\\n• item15, right? 318? You c...  \n",
       "1  Order information\\n• Oh, I just got the item16...  \n",
       "2  Order information\\n• There, I need to do 19 dr...  \n",
       "3  Order information\\n• Hey, look quickly. item91...  \n",
       "4  Order information\\n• item87, right? Doing 196?...  "
      ]
     },
     "execution_count": 168,
     "metadata": {},
     "output_type": "execute_result"
    }
   ],
   "source": [
    "dataset['order_machine'] = (\n",
    "    \"Order information\\n\" + dataset['order'] + \"\\n\\n\" +\n",
    "    \"Machine information\\n\" + dataset['machine']\n",
    ")\n",
    "\n",
    "dataset['order_machine_gt'] = (\n",
    "    \"Order information\\n\" + dataset['order'] + \"\\n\\n\" +\n",
    "    \"Machine information\\n\" + dataset['machine'] + \"\\n\\n\" +\n",
    "    \"Schedule result\\n\" + dataset['gt']\n",
    ")\n",
    "\n",
    "dataset.head()"
   ]
  },
  {
   "cell_type": "code",
   "execution_count": 169,
   "id": "6b285726",
   "metadata": {},
   "outputs": [
    {
     "name": "stdout",
     "output_type": "stream",
     "text": [
      "Order information\n",
      "• item15, right? 318? You can do it by May 13th, 2021, and the unit price is 25,870 won. Oh, and the inspection product.\n",
      "• Oh, I just got the item16 drawing, and it says it's due on May 24th, 2021. I need to do 383 of them, and it costs 16,229 won, and it's an inspection item.\n",
      "• There, I need to do 19 drawings for item96. It's until May 30th, 2021. It's 8,333 won. And nothing special.\n",
      "• Hey, look quickly. item91 4 I have to do it by June 3rd, 2021. What should I do? The unit price is 36,533 won and there's nothing special about it.\n",
      "• item87, right? Doing 196? You can do it until June 18th, 2021, and the unit price is 45,500 won. Oh, and the inspection product\n",
      "\n",
      "Machine information\n",
      "• item15 machine04 12.84\n",
      "• item15 machine05 10.42\n",
      "• item15 machine07 8.69\n",
      "• item15 machine08 9.12\n",
      "• item15 machine09 10.33\n",
      "• item15 machine10 8.99\n",
      "• item15 machine12 12.32\n",
      "• item15 machine14 11.23\n",
      "• item15 machine20 4.0\n",
      "• item15 machine21 9.87\n",
      "• item15 machine23 11.77\n",
      "• item15 machine28 9.54\n",
      "• item15 machine29 13.05\n",
      "• item15 machine30 9.0\n",
      "• item15 machine31 9.0\n",
      "• item15 machine33 4.4\n",
      "• item15 machine34 12.47\n",
      "• item15 machine35 9.4\n",
      "• item16 machine07 4.85\n",
      "• item16 machine08 3.83\n",
      "• item16 machine09 5.37\n",
      "• item16 machine10 3.09\n",
      "• item16 machine14 2.73\n",
      "• item16 machine21 3.94\n",
      "• item16 machine22 5.47\n",
      "• item16 machine23 6.25\n",
      "• item16 machine28 3.37\n",
      "• item16 machine29 3.86\n",
      "• item16 machine30 3.8\n",
      "• item16 machine31 4.53\n",
      "• item16 machine35 3.85\n",
      "• item96 machine08 4.89\n",
      "• item96 machine09 5.92\n",
      "• item96 machine10 4.91\n",
      "• item96 machine12 3.5\n",
      "• item96 machine14 1.03\n",
      "• item96 machine21 4.6\n",
      "• item96 machine22 4.54\n",
      "• item96 machine23 3.83\n",
      "• item96 machine28 4.64\n",
      "• item96 machine29 7.12\n",
      "• item96 machine30 1.32\n",
      "• item96 machine34 3.0\n",
      "• item96 machine35 1.83\n",
      "• item91 machine08 4.42\n",
      "• item91 machine09 4.03\n",
      "• item91 machine10 5.32\n",
      "• item91 machine14 4.0\n",
      "• item91 machine21 4.8\n",
      "• item91 machine28 4.33\n",
      "• item91 machine29 5.32\n",
      "• item91 machine34 5.25\n",
      "• item91 machine35 4.5\n",
      "• item87 machine01 5.88\n",
      "• item87 machine03 6.5\n",
      "• item87 machine05 11.64\n",
      "• item87 machine17 12.0\n",
      "• item87 machine18 11.82\n",
      "• item87 machine19 10.0\n",
      "• item87 machine20 11.37\n",
      "• item87 machine21 7.85\n",
      "• item87 machine32 5.49\n",
      "• item87 machine33 6.9\n",
      "\n",
      "Schedule result\n",
      "• item87 machine01 date169 17\n",
      "• item87 machine03 date169 63\n",
      "• item87 machine18 date169 21\n",
      "• item87 machine20 date169 26\n",
      "• item87 machine33 date169 41\n",
      "• item96 machine08 date150 13\n",
      "• item96 machine09 date150 13\n",
      "• item96 machine10 date150 14\n",
      "• item96 machine12 date150 17\n",
      "• item96 machine14 date150 5\n",
      "• item96 machine21 date150 9\n",
      "• item96 machine22 date150 15\n",
      "• item96 machine23 date150 12\n",
      "• item96 machine28 date150 14\n",
      "• item96 machine29 date150 5\n",
      "• item96 machine30 date150 15\n",
      "• item96 machine34 date150 13\n",
      "• item96 machine35 date150 8\n",
      "• item91 machine09 date154 4\n",
      "• item91 machine10 date154 3\n",
      "• item91 machine14 date154 1\n",
      "• item91 machine21 date154 2\n",
      "• item91 machine28 date154 1\n",
      "• item91 machine29 date154 1\n",
      "• item91 machine34 date154 1\n",
      "• item91 machine35 date154 2\n",
      "• item16 machine14 date144 35\n",
      "• item16 machine22 date144 85\n",
      "• item16 machine28 date144 160\n",
      "• item16 machine30 date144 47\n",
      "• item16 machine31 date144 21\n",
      "• item16 machine35 date144 31\n",
      "• item15 machine10 date133 55\n",
      "• item15 machine12 date133 27\n",
      "• item15 machine20 date133 79\n",
      "• item15 machine28 date133 39\n",
      "• item15 machine31 date133 31\n",
      "• item15 machine33 date133 59\n",
      "• item15 machine34 date133 26\n"
     ]
    }
   ],
   "source": [
    "print(dataset.iloc[0, 4])"
   ]
  },
  {
   "cell_type": "code",
   "execution_count": 170,
   "id": "ef858ad0",
   "metadata": {},
   "outputs": [],
   "source": [
    "dataset.to_csv('./dataset_n5_20250526.csv')"
   ]
  },
  {
   "cell_type": "code",
   "execution_count": null,
   "id": "2dafae24",
   "metadata": {},
   "outputs": [],
   "source": []
  }
 ],
 "metadata": {
  "kernelspec": {
   "display_name": "GAenv",
   "language": "python",
   "name": "python3"
  },
  "language_info": {
   "codemirror_mode": {
    "name": "ipython",
    "version": 3
   },
   "file_extension": ".py",
   "mimetype": "text/x-python",
   "name": "python",
   "nbconvert_exporter": "python",
   "pygments_lexer": "ipython3",
   "version": "3.9.18"
  }
 },
 "nbformat": 4,
 "nbformat_minor": 5
}
