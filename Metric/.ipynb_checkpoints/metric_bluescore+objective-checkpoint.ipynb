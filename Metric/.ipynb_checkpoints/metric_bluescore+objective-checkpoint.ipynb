{
 "cells": [
  {
   "cell_type": "code",
   "execution_count": 1,
   "id": "efc0e2c6",
   "metadata": {},
   "outputs": [],
   "source": [
    "import pandas as pd\n",
    "from collections import defaultdict\n",
    "import numpy as np\n",
    "from nltk.translate.bleu_score import sentence_bleu, SmoothingFunction"
   ]
  },
  {
   "cell_type": "code",
   "execution_count": 2,
   "id": "4f144c8a",
   "metadata": {},
   "outputs": [],
   "source": [
    "# -----------------------------------------------------\n",
    "#  1. 스케줄 문자열 → 토큰 시퀀스로 파싱\n",
    "# -----------------------------------------------------\n",
    "def parse_to_sequence(text):\n",
    "    lines = text.strip().split('\\n')\n",
    "    tokens = []\n",
    "    for line in lines:\n",
    "        parts = line.strip().split()\n",
    "        if len(parts) < 4:\n",
    "            continue\n",
    "        item = parts[0].replace('??', '')\n",
    "        machine = parts[1]\n",
    "        date = parts[2]\n",
    "        tokens.append(f\"{item}_{machine}_{date}\")\n",
    "    return tokens\n"
   ]
  },
  {
   "cell_type": "code",
   "execution_count": 3,
   "id": "791540d2",
   "metadata": {},
   "outputs": [],
   "source": [
    "# -----------------------------------------------------\n",
    "#  2. BLEU-4 점수 계산 (구조적 유사도)\n",
    "# -----------------------------------------------------\n",
    "def compute_bleu_score(reference, hypothesis):\n",
    "    smoothie = SmoothingFunction().method4\n",
    "    return sentence_bleu(\n",
    "        [reference], hypothesis, weights=(0.25, 0.25, 0.25, 0.25), smoothing_function=smoothie\n",
    "    )"
   ]
  },
  {
   "cell_type": "code",
   "execution_count": 4,
   "id": "09ecc4e2",
   "metadata": {},
   "outputs": [],
   "source": [
    "# -----------------------------------------------------\n",
    "#  3. 목적함수: 기계별 부하 분산(표준편차)\n",
    "# -----------------------------------------------------\n",
    "def machine_load_variance(text):\n",
    "    machine_loads = defaultdict(int)\n",
    "    for line in text.strip().split('\\n'):\n",
    "        parts = line.strip().split()\n",
    "        if len(parts) < 4:\n",
    "            continue\n",
    "        machine = parts[1]\n",
    "        qty = int(parts[3])\n",
    "        machine_loads[machine] += qty\n",
    "    return np.std(list(machine_loads.values()))"
   ]
  },
  {
   "cell_type": "code",
   "execution_count": 5,
   "id": "01b6814c",
   "metadata": {},
   "outputs": [],
   "source": [
    "# -----------------------------------------------------\n",
    "#  4. 점수 결합: BLEU + 부하 분산 점수\n",
    "# -----------------------------------------------------\n",
    "def combined_score(bleu, gt_std, pred_std, alpha=0.5):\n",
    "    eps = 1e-6\n",
    "    variance_score = max(0.0, 1 - (pred_std - gt_std) / (gt_std + eps))\n",
    "    return alpha * bleu + (1 - alpha) * variance_score, variance_score"
   ]
  },
  {
   "cell_type": "code",
   "execution_count": 6,
   "id": "0011c189",
   "metadata": {},
   "outputs": [],
   "source": [
    "# -----------------------------------------------------\n",
    "#  5. 전체 샘플에 대해 평가 실행\n",
    "# -----------------------------------------------------\n",
    "def evaluate_from_csv(csv_path, alpha=0.5):\n",
    "    df = pd.read_csv(csv_path)\n",
    "    total_bleu, total_var_score, total_final = 0, 0, 0\n",
    "\n",
    "    for i, row in df.iterrows():\n",
    "        gt_seq = parse_to_sequence(row['gt'])\n",
    "        pred_seq = parse_to_sequence(row['output'])\n",
    "\n",
    "        bleu = compute_bleu_score(gt_seq, pred_seq)\n",
    "        gt_std = machine_load_variance(row['gt'])\n",
    "        pred_std = machine_load_variance(row['output'])\n",
    "        final_score, var_score = combined_score(bleu, gt_std, pred_std, alpha)\n",
    "\n",
    "        print(f\"\\n 샘플 {i+1}\")\n",
    "        print(f\" - BLEU-4 구조 유사도    : {bleu:.4f}\")\n",
    "        print(f\" - 부하 분산 점수        : {var_score:.4f}\")\n",
    "        print(f\" - 최종 종합 점수        : {final_score:.4f}\")\n",
    "\n",
    "        total_bleu += bleu\n",
    "        total_var_score += var_score\n",
    "        total_final += final_score\n",
    "\n",
    "    n = len(df)\n",
    "    print(\"\\n==========================\")\n",
    "    print(f\" 전체 평균 BLEU-4 점수   : {total_bleu / n:.4f}\")\n",
    "    print(f\" 전체 평균 부하 점수     : {total_var_score / n:.4f}\")\n",
    "    print(f\" 전체 평균 종합 점수     : {total_final / n:.4f}\")\n",
    "    print(\"==========================\")"
   ]
  },
  {
   "cell_type": "code",
   "execution_count": 7,
   "id": "0c510bba",
   "metadata": {},
   "outputs": [
    {
     "name": "stdout",
     "output_type": "stream",
     "text": [
      "\n",
      " 샘플 1\n",
      " - BLEU-4 구조 유사도    : 0.0000\n",
      " - 부하 분산 점수        : 1.4334\n",
      " - 최종 종합 점수        : 0.7167\n",
      "\n",
      "==========================\n",
      " 전체 평균 BLEU-4 점수   : 0.0000\n",
      " 전체 평균 부하 점수     : 1.4334\n",
      " 전체 평균 종합 점수     : 0.7167\n",
      "==========================\n"
     ]
    }
   ],
   "source": [
    "# -----------------------------------------------------\n",
    "#  실행 예시\n",
    "# -----------------------------------------------------\n",
    "if __name__ == \"__main__\":\n",
    "    evaluate_from_csv(\"infilling_gt.csv\", alpha=0.5)\n"
   ]
  }
 ],
 "metadata": {
  "kernelspec": {
   "display_name": "Python 3 (ipykernel)",
   "language": "python",
   "name": "python3"
  },
  "language_info": {
   "codemirror_mode": {
    "name": "ipython",
    "version": 3
   },
   "file_extension": ".py",
   "mimetype": "text/x-python",
   "name": "python",
   "nbconvert_exporter": "python",
   "pygments_lexer": "ipython3",
   "version": "3.9.7"
  }
 },
 "nbformat": 4,
 "nbformat_minor": 5
}
