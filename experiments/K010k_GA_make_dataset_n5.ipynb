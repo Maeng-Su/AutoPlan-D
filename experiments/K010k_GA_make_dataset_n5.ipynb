{
 "cells": [
  {
   "cell_type": "code",
   "execution_count": 1,
   "id": "18db631d",
   "metadata": {},
   "outputs": [],
   "source": [
    "# !pip install pandas\t\n",
    "# !pip install numpy\n",
    "# !pip install tqdm\t\n",
    "# !pip install matplotlib"
   ]
  },
  {
   "cell_type": "code",
   "execution_count": 136,
   "id": "c99df847",
   "metadata": {},
   "outputs": [
    {
     "name": "stdout",
     "output_type": "stream",
     "text": [
      "The autoreload extension is already loaded. To reload it, use:\n",
      "  %reload_ext autoreload\n"
     ]
    }
   ],
   "source": [
    "# 라이브러리\n",
    "%load_ext autoreload\n",
    "%autoreload 2\n",
    "    \n",
    "import random\n",
    "import datetime\n",
    "import pandas as pd\n",
    "import numpy as np\n",
    "import matplotlib.pyplot as plt\n",
    "from tqdm import tqdm\n",
    "from numpy.random import randint, rand\n",
    "\n",
    "import ga_util\n",
    "from ga_core import GeneticAlgorithm\n",
    "\n",
    "\n",
    "SEED_VALUE = 20250604"
   ]
  },
  {
   "cell_type": "code",
   "execution_count": 137,
   "id": "92011789",
   "metadata": {},
   "outputs": [],
   "source": [
    "# 데이터 불러오기\n",
    "machine_info = pd.read_csv(\"./data/machine_info.csv\")\n",
    "order_info = pd.read_csv(\"./data/order_info.csv\")\n",
    "order_info_nl = pd.read_csv(\"./data/order_info_nl.csv\", header=None)\n",
    "order_info_nl_eng = pd.read_csv(\"./data/order_info_nl_eng.csv\")"
   ]
  },
  {
   "cell_type": "code",
   "execution_count": 138,
   "id": "46be5b2a",
   "metadata": {},
   "outputs": [],
   "source": [
    "order_info_nl.columns = ['영업납기', '중산도면', '단가', '수량', '선급', '자연어주문']"
   ]
  },
  {
   "cell_type": "code",
   "execution_count": 139,
   "id": "a8a6ce63",
   "metadata": {},
   "outputs": [],
   "source": [
    "# 전처리 (1): column name 변경\n",
    "order_info = order_info.rename(columns={\n",
    "    '영업납기': 'time',\n",
    "    '중산도면': 'item',\n",
    "    '단가': 'cost',\n",
    "    '수량': 'qty',\n",
    "    '선급': 'urgent'\n",
    "})\n",
    "\n",
    "machine_info = machine_info.rename(columns={\n",
    "    'JSDWG': 'item',\n",
    "    'MCNO': 'machine',\n",
    "    'AVG_CT': 'capacity'\n",
    "})\n",
    "\n",
    "order_info_nl = order_info_nl.rename(columns={\n",
    "    '영업납기': 'time',\n",
    "    '중산도면': 'item',\n",
    "    '단가': 'cost',\n",
    "    '수량': 'qty',\n",
    "    '선급': 'urgent',\n",
    "    '자연어주문': 'nl_order'\n",
    "})\n",
    "\n",
    "order_info_nl_eng.columns = ['nl_order']"
   ]
  },
  {
   "cell_type": "code",
   "execution_count": 140,
   "id": "dc21eb80",
   "metadata": {},
   "outputs": [],
   "source": [
    "# 머신인포 dropna, 4자리 숫자 문자열로 변환\n",
    "machine_info.dropna(inplace=True)\n",
    "machine_info['machine'] = machine_info['machine'].apply(lambda x: str(int(x)).zfill(4))"
   ]
  },
  {
   "cell_type": "code",
   "execution_count": 141,
   "id": "7fe49952",
   "metadata": {},
   "outputs": [],
   "source": [
    "# 아이템 -> item01\n",
    "# qty -> 그대로\n",
    "# 날짜 -> 일수(날짜 - 2021-01-01) date001(1~365) / 자연어는 수정X\n",
    "# 선급 -> 일단 자연어 그대로\n",
    "# cost -> 일단 그대로\n",
    "# machine -> machine01\n",
    "# capacity -> 일단 그대로"
   ]
  },
  {
   "cell_type": "code",
   "execution_count": 142,
   "id": "632988a1",
   "metadata": {},
   "outputs": [
    {
     "data": {
      "text/plain": [
       "'item87'"
      ]
     },
     "execution_count": 142,
     "metadata": {},
     "output_type": "execute_result"
    }
   ],
   "source": [
    "# 아이템 -> item01\n",
    "unique_items = sorted(order_info['item'].unique(), reverse=True)\n",
    "\n",
    "items_mapping = {\n",
    "        item: f\"item{str(i+1).zfill(2)}\"\n",
    "        for i, item in enumerate(unique_items)\n",
    "    }\n",
    "\n",
    "def change_item_name(target):\n",
    "    result = str(target)\n",
    "    for k, v in items_mapping.items():\n",
    "        result = result.replace(k, v)\n",
    "\n",
    "    return result\n",
    "\n",
    "change_item_name('057791')"
   ]
  },
  {
   "cell_type": "code",
   "execution_count": 143,
   "id": "5ccd8d06",
   "metadata": {},
   "outputs": [
    {
     "data": {
      "text/html": [
       "<div>\n",
       "<style scoped>\n",
       "    .dataframe tbody tr th:only-of-type {\n",
       "        vertical-align: middle;\n",
       "    }\n",
       "\n",
       "    .dataframe tbody tr th {\n",
       "        vertical-align: top;\n",
       "    }\n",
       "\n",
       "    .dataframe thead th {\n",
       "        text-align: right;\n",
       "    }\n",
       "</style>\n",
       "<table border=\"1\" class=\"dataframe\">\n",
       "  <thead>\n",
       "    <tr style=\"text-align: right;\">\n",
       "      <th></th>\n",
       "      <th>item</th>\n",
       "      <th>machine</th>\n",
       "      <th>capacity</th>\n",
       "    </tr>\n",
       "  </thead>\n",
       "  <tbody>\n",
       "    <tr>\n",
       "      <th>897</th>\n",
       "      <td>item96</td>\n",
       "      <td>0408</td>\n",
       "      <td>4.89</td>\n",
       "    </tr>\n",
       "    <tr>\n",
       "      <th>898</th>\n",
       "      <td>item96</td>\n",
       "      <td>0409</td>\n",
       "      <td>5.92</td>\n",
       "    </tr>\n",
       "    <tr>\n",
       "      <th>899</th>\n",
       "      <td>item96</td>\n",
       "      <td>0410</td>\n",
       "      <td>4.91</td>\n",
       "    </tr>\n",
       "    <tr>\n",
       "      <th>900</th>\n",
       "      <td>item96</td>\n",
       "      <td>0412</td>\n",
       "      <td>3.50</td>\n",
       "    </tr>\n",
       "    <tr>\n",
       "      <th>901</th>\n",
       "      <td>item96</td>\n",
       "      <td>0416</td>\n",
       "      <td>1.03</td>\n",
       "    </tr>\n",
       "  </tbody>\n",
       "</table>\n",
       "</div>"
      ],
      "text/plain": [
       "       item machine  capacity\n",
       "897  item96    0408      4.89\n",
       "898  item96    0409      5.92\n",
       "899  item96    0410      4.91\n",
       "900  item96    0412      3.50\n",
       "901  item96    0416      1.03"
      ]
     },
     "execution_count": 143,
     "metadata": {},
     "output_type": "execute_result"
    }
   ],
   "source": [
    "machine_info['item'] = machine_info['item'].apply(change_item_name)\n",
    "cond = machine_info['item'].isin(items_mapping.values())\n",
    "machine_info[cond].head()"
   ]
  },
  {
   "cell_type": "code",
   "execution_count": 144,
   "id": "e3650860",
   "metadata": {},
   "outputs": [
    {
     "data": {
      "text/html": [
       "<div>\n",
       "<style scoped>\n",
       "    .dataframe tbody tr th:only-of-type {\n",
       "        vertical-align: middle;\n",
       "    }\n",
       "\n",
       "    .dataframe tbody tr th {\n",
       "        vertical-align: top;\n",
       "    }\n",
       "\n",
       "    .dataframe thead th {\n",
       "        text-align: right;\n",
       "    }\n",
       "</style>\n",
       "<table border=\"1\" class=\"dataframe\">\n",
       "  <thead>\n",
       "    <tr style=\"text-align: right;\">\n",
       "      <th></th>\n",
       "      <th>time</th>\n",
       "      <th>item</th>\n",
       "      <th>cost</th>\n",
       "      <th>qty</th>\n",
       "      <th>urgent</th>\n",
       "    </tr>\n",
       "  </thead>\n",
       "  <tbody>\n",
       "    <tr>\n",
       "      <th>0</th>\n",
       "      <td>2021-05-13</td>\n",
       "      <td>item15</td>\n",
       "      <td>25870</td>\n",
       "      <td>318</td>\n",
       "      <td>검사품</td>\n",
       "    </tr>\n",
       "    <tr>\n",
       "      <th>1</th>\n",
       "      <td>2021-05-24</td>\n",
       "      <td>item16</td>\n",
       "      <td>16229</td>\n",
       "      <td>383</td>\n",
       "      <td>검사품</td>\n",
       "    </tr>\n",
       "    <tr>\n",
       "      <th>2</th>\n",
       "      <td>2021-05-30</td>\n",
       "      <td>item96</td>\n",
       "      <td>8333</td>\n",
       "      <td>19</td>\n",
       "      <td>NaN</td>\n",
       "    </tr>\n",
       "    <tr>\n",
       "      <th>3</th>\n",
       "      <td>2021-06-03</td>\n",
       "      <td>item91</td>\n",
       "      <td>36533</td>\n",
       "      <td>4</td>\n",
       "      <td>NaN</td>\n",
       "    </tr>\n",
       "    <tr>\n",
       "      <th>4</th>\n",
       "      <td>2021-06-18</td>\n",
       "      <td>item87</td>\n",
       "      <td>45500</td>\n",
       "      <td>196</td>\n",
       "      <td>검사품</td>\n",
       "    </tr>\n",
       "  </tbody>\n",
       "</table>\n",
       "</div>"
      ],
      "text/plain": [
       "         time    item   cost  qty urgent\n",
       "0  2021-05-13  item15  25870  318    검사품\n",
       "1  2021-05-24  item16  16229  383    검사품\n",
       "2  2021-05-30  item96   8333   19    NaN\n",
       "3  2021-06-03  item91  36533    4    NaN\n",
       "4  2021-06-18  item87  45500  196    검사품"
      ]
     },
     "execution_count": 144,
     "metadata": {},
     "output_type": "execute_result"
    }
   ],
   "source": [
    "order_info['item'] = order_info['item'].apply(change_item_name)\n",
    "order_info.head()"
   ]
  },
  {
   "cell_type": "code",
   "execution_count": 145,
   "id": "203b831e",
   "metadata": {},
   "outputs": [
    {
     "data": {
      "text/html": [
       "<div>\n",
       "<style scoped>\n",
       "    .dataframe tbody tr th:only-of-type {\n",
       "        vertical-align: middle;\n",
       "    }\n",
       "\n",
       "    .dataframe tbody tr th {\n",
       "        vertical-align: top;\n",
       "    }\n",
       "\n",
       "    .dataframe thead th {\n",
       "        text-align: right;\n",
       "    }\n",
       "</style>\n",
       "<table border=\"1\" class=\"dataframe\">\n",
       "  <thead>\n",
       "    <tr style=\"text-align: right;\">\n",
       "      <th></th>\n",
       "      <th>time</th>\n",
       "      <th>item</th>\n",
       "      <th>cost</th>\n",
       "      <th>qty</th>\n",
       "      <th>urgent</th>\n",
       "      <th>nl_order</th>\n",
       "    </tr>\n",
       "  </thead>\n",
       "  <tbody>\n",
       "    <tr>\n",
       "      <th>0</th>\n",
       "      <td>2021-05-13</td>\n",
       "      <td>item15</td>\n",
       "      <td>25870</td>\n",
       "      <td>318</td>\n",
       "      <td>검사품</td>\n",
       "      <td>item15 맞지? 318개 하는거? 21년 5월 13일까지 하면 되구 단가가 25...</td>\n",
       "    </tr>\n",
       "    <tr>\n",
       "      <th>1</th>\n",
       "      <td>2021-05-24</td>\n",
       "      <td>item16</td>\n",
       "      <td>16229</td>\n",
       "      <td>383</td>\n",
       "      <td>검사품</td>\n",
       "      <td>헐 방금 item16 도면 왔는데 21년 5월 24일까지래. 383개 해야되구 16...</td>\n",
       "    </tr>\n",
       "    <tr>\n",
       "      <th>2</th>\n",
       "      <td>2021-05-30</td>\n",
       "      <td>item96</td>\n",
       "      <td>8333</td>\n",
       "      <td>19</td>\n",
       "      <td>NaN</td>\n",
       "      <td>저기 item96 도면 19개 해야돼. 21년 5월 30일까지구 8,333원. 그리...</td>\n",
       "    </tr>\n",
       "    <tr>\n",
       "      <th>3</th>\n",
       "      <td>2021-06-03</td>\n",
       "      <td>item91</td>\n",
       "      <td>36533</td>\n",
       "      <td>4</td>\n",
       "      <td>NaN</td>\n",
       "      <td>어우 빨리 봐봐. item91 4개 21년 6월 3일까지 해야되는데 어떡하지? 단가...</td>\n",
       "    </tr>\n",
       "    <tr>\n",
       "      <th>4</th>\n",
       "      <td>2021-06-18</td>\n",
       "      <td>item87</td>\n",
       "      <td>45500</td>\n",
       "      <td>196</td>\n",
       "      <td>검사품</td>\n",
       "      <td>item87 맞지? 196개 하는거? 21년 6월 18일까지 하면 되구 단가가 45...</td>\n",
       "    </tr>\n",
       "  </tbody>\n",
       "</table>\n",
       "</div>"
      ],
      "text/plain": [
       "         time    item   cost  qty urgent  \\\n",
       "0  2021-05-13  item15  25870  318    검사품   \n",
       "1  2021-05-24  item16  16229  383    검사품   \n",
       "2  2021-05-30  item96   8333   19    NaN   \n",
       "3  2021-06-03  item91  36533    4    NaN   \n",
       "4  2021-06-18  item87  45500  196    검사품   \n",
       "\n",
       "                                            nl_order  \n",
       "0  item15 맞지? 318개 하는거? 21년 5월 13일까지 하면 되구 단가가 25...  \n",
       "1  헐 방금 item16 도면 왔는데 21년 5월 24일까지래. 383개 해야되구 16...  \n",
       "2  저기 item96 도면 19개 해야돼. 21년 5월 30일까지구 8,333원. 그리...  \n",
       "3  어우 빨리 봐봐. item91 4개 21년 6월 3일까지 해야되는데 어떡하지? 단가...  \n",
       "4  item87 맞지? 196개 하는거? 21년 6월 18일까지 하면 되구 단가가 45...  "
      ]
     },
     "execution_count": 145,
     "metadata": {},
     "output_type": "execute_result"
    }
   ],
   "source": [
    "order_info_nl['item'] = order_info_nl['item'].apply(change_item_name)\n",
    "order_info_nl['nl_order'] = order_info_nl['nl_order'].apply(change_item_name)\n",
    "order_info_nl.head()"
   ]
  },
  {
   "cell_type": "code",
   "execution_count": 146,
   "id": "8dbe7c89",
   "metadata": {},
   "outputs": [
    {
     "data": {
      "text/html": [
       "<div>\n",
       "<style scoped>\n",
       "    .dataframe tbody tr th:only-of-type {\n",
       "        vertical-align: middle;\n",
       "    }\n",
       "\n",
       "    .dataframe tbody tr th {\n",
       "        vertical-align: top;\n",
       "    }\n",
       "\n",
       "    .dataframe thead th {\n",
       "        text-align: right;\n",
       "    }\n",
       "</style>\n",
       "<table border=\"1\" class=\"dataframe\">\n",
       "  <thead>\n",
       "    <tr style=\"text-align: right;\">\n",
       "      <th></th>\n",
       "      <th>nl_order</th>\n",
       "    </tr>\n",
       "  </thead>\n",
       "  <tbody>\n",
       "    <tr>\n",
       "      <th>0</th>\n",
       "      <td>item15, right? 318? You can do it by May 13th,...</td>\n",
       "    </tr>\n",
       "    <tr>\n",
       "      <th>1</th>\n",
       "      <td>Oh, I just got the item16 drawing, and it says...</td>\n",
       "    </tr>\n",
       "    <tr>\n",
       "      <th>2</th>\n",
       "      <td>There, I need to do 19 drawings for item96. It...</td>\n",
       "    </tr>\n",
       "    <tr>\n",
       "      <th>3</th>\n",
       "      <td>Hey, look quickly. item91 4 I have to do it by...</td>\n",
       "    </tr>\n",
       "    <tr>\n",
       "      <th>4</th>\n",
       "      <td>item87, right? Doing 196? You can do it until ...</td>\n",
       "    </tr>\n",
       "  </tbody>\n",
       "</table>\n",
       "</div>"
      ],
      "text/plain": [
       "                                            nl_order\n",
       "0  item15, right? 318? You can do it by May 13th,...\n",
       "1  Oh, I just got the item16 drawing, and it says...\n",
       "2  There, I need to do 19 drawings for item96. It...\n",
       "3  Hey, look quickly. item91 4 I have to do it by...\n",
       "4  item87, right? Doing 196? You can do it until ..."
      ]
     },
     "execution_count": 146,
     "metadata": {},
     "output_type": "execute_result"
    }
   ],
   "source": [
    "order_info_nl_eng['nl_order'] = order_info_nl_eng['nl_order'].apply(change_item_name)\n",
    "order_info_nl_eng.head()"
   ]
  },
  {
   "cell_type": "code",
   "execution_count": 147,
   "id": "8e9b554d",
   "metadata": {},
   "outputs": [
    {
     "data": {
      "text/plain": [
       "('date001', 'date365')"
      ]
     },
     "execution_count": 147,
     "metadata": {},
     "output_type": "execute_result"
    }
   ],
   "source": [
    "# 날짜 -> 일수(날짜 - 2021-01-01) (1~365)\n",
    "def change_time_name(target):\n",
    "    time = pd.to_datetime(target)\n",
    "    base_date = pd.to_datetime('2021-01-01')\n",
    "\n",
    "    return f'date{str((time-base_date).days+1).zfill(3)}'\n",
    "\n",
    "change_time_name('2021-01-01'), change_time_name('2021-12-31')"
   ]
  },
  {
   "cell_type": "code",
   "execution_count": 148,
   "id": "667335f3",
   "metadata": {},
   "outputs": [
    {
     "data": {
      "text/html": [
       "<div>\n",
       "<style scoped>\n",
       "    .dataframe tbody tr th:only-of-type {\n",
       "        vertical-align: middle;\n",
       "    }\n",
       "\n",
       "    .dataframe tbody tr th {\n",
       "        vertical-align: top;\n",
       "    }\n",
       "\n",
       "    .dataframe thead th {\n",
       "        text-align: right;\n",
       "    }\n",
       "</style>\n",
       "<table border=\"1\" class=\"dataframe\">\n",
       "  <thead>\n",
       "    <tr style=\"text-align: right;\">\n",
       "      <th></th>\n",
       "      <th>time</th>\n",
       "      <th>item</th>\n",
       "      <th>cost</th>\n",
       "      <th>qty</th>\n",
       "      <th>urgent</th>\n",
       "    </tr>\n",
       "  </thead>\n",
       "  <tbody>\n",
       "    <tr>\n",
       "      <th>0</th>\n",
       "      <td>date133</td>\n",
       "      <td>item15</td>\n",
       "      <td>25870</td>\n",
       "      <td>318</td>\n",
       "      <td>검사품</td>\n",
       "    </tr>\n",
       "    <tr>\n",
       "      <th>1</th>\n",
       "      <td>date144</td>\n",
       "      <td>item16</td>\n",
       "      <td>16229</td>\n",
       "      <td>383</td>\n",
       "      <td>검사품</td>\n",
       "    </tr>\n",
       "    <tr>\n",
       "      <th>2</th>\n",
       "      <td>date150</td>\n",
       "      <td>item96</td>\n",
       "      <td>8333</td>\n",
       "      <td>19</td>\n",
       "      <td>NaN</td>\n",
       "    </tr>\n",
       "    <tr>\n",
       "      <th>3</th>\n",
       "      <td>date154</td>\n",
       "      <td>item91</td>\n",
       "      <td>36533</td>\n",
       "      <td>4</td>\n",
       "      <td>NaN</td>\n",
       "    </tr>\n",
       "    <tr>\n",
       "      <th>4</th>\n",
       "      <td>date169</td>\n",
       "      <td>item87</td>\n",
       "      <td>45500</td>\n",
       "      <td>196</td>\n",
       "      <td>검사품</td>\n",
       "    </tr>\n",
       "  </tbody>\n",
       "</table>\n",
       "</div>"
      ],
      "text/plain": [
       "      time    item   cost  qty urgent\n",
       "0  date133  item15  25870  318    검사품\n",
       "1  date144  item16  16229  383    검사품\n",
       "2  date150  item96   8333   19    NaN\n",
       "3  date154  item91  36533    4    NaN\n",
       "4  date169  item87  45500  196    검사품"
      ]
     },
     "execution_count": 148,
     "metadata": {},
     "output_type": "execute_result"
    }
   ],
   "source": [
    "order_info['time'] = order_info['time'].apply(change_time_name)\n",
    "order_info.head()"
   ]
  },
  {
   "cell_type": "code",
   "execution_count": 149,
   "id": "a27c502e",
   "metadata": {},
   "outputs": [
    {
     "data": {
      "text/html": [
       "<div>\n",
       "<style scoped>\n",
       "    .dataframe tbody tr th:only-of-type {\n",
       "        vertical-align: middle;\n",
       "    }\n",
       "\n",
       "    .dataframe tbody tr th {\n",
       "        vertical-align: top;\n",
       "    }\n",
       "\n",
       "    .dataframe thead th {\n",
       "        text-align: right;\n",
       "    }\n",
       "</style>\n",
       "<table border=\"1\" class=\"dataframe\">\n",
       "  <thead>\n",
       "    <tr style=\"text-align: right;\">\n",
       "      <th></th>\n",
       "      <th>time</th>\n",
       "      <th>item</th>\n",
       "      <th>cost</th>\n",
       "      <th>qty</th>\n",
       "      <th>urgent</th>\n",
       "      <th>nl_order</th>\n",
       "    </tr>\n",
       "  </thead>\n",
       "  <tbody>\n",
       "    <tr>\n",
       "      <th>0</th>\n",
       "      <td>date133</td>\n",
       "      <td>item15</td>\n",
       "      <td>25870</td>\n",
       "      <td>318</td>\n",
       "      <td>검사품</td>\n",
       "      <td>item15 맞지? 318개 하는거? 21년 5월 13일까지 하면 되구 단가가 25...</td>\n",
       "    </tr>\n",
       "    <tr>\n",
       "      <th>1</th>\n",
       "      <td>date144</td>\n",
       "      <td>item16</td>\n",
       "      <td>16229</td>\n",
       "      <td>383</td>\n",
       "      <td>검사품</td>\n",
       "      <td>헐 방금 item16 도면 왔는데 21년 5월 24일까지래. 383개 해야되구 16...</td>\n",
       "    </tr>\n",
       "    <tr>\n",
       "      <th>2</th>\n",
       "      <td>date150</td>\n",
       "      <td>item96</td>\n",
       "      <td>8333</td>\n",
       "      <td>19</td>\n",
       "      <td>NaN</td>\n",
       "      <td>저기 item96 도면 19개 해야돼. 21년 5월 30일까지구 8,333원. 그리...</td>\n",
       "    </tr>\n",
       "    <tr>\n",
       "      <th>3</th>\n",
       "      <td>date154</td>\n",
       "      <td>item91</td>\n",
       "      <td>36533</td>\n",
       "      <td>4</td>\n",
       "      <td>NaN</td>\n",
       "      <td>어우 빨리 봐봐. item91 4개 21년 6월 3일까지 해야되는데 어떡하지? 단가...</td>\n",
       "    </tr>\n",
       "    <tr>\n",
       "      <th>4</th>\n",
       "      <td>date169</td>\n",
       "      <td>item87</td>\n",
       "      <td>45500</td>\n",
       "      <td>196</td>\n",
       "      <td>검사품</td>\n",
       "      <td>item87 맞지? 196개 하는거? 21년 6월 18일까지 하면 되구 단가가 45...</td>\n",
       "    </tr>\n",
       "  </tbody>\n",
       "</table>\n",
       "</div>"
      ],
      "text/plain": [
       "      time    item   cost  qty urgent  \\\n",
       "0  date133  item15  25870  318    검사품   \n",
       "1  date144  item16  16229  383    검사품   \n",
       "2  date150  item96   8333   19    NaN   \n",
       "3  date154  item91  36533    4    NaN   \n",
       "4  date169  item87  45500  196    검사품   \n",
       "\n",
       "                                            nl_order  \n",
       "0  item15 맞지? 318개 하는거? 21년 5월 13일까지 하면 되구 단가가 25...  \n",
       "1  헐 방금 item16 도면 왔는데 21년 5월 24일까지래. 383개 해야되구 16...  \n",
       "2  저기 item96 도면 19개 해야돼. 21년 5월 30일까지구 8,333원. 그리...  \n",
       "3  어우 빨리 봐봐. item91 4개 21년 6월 3일까지 해야되는데 어떡하지? 단가...  \n",
       "4  item87 맞지? 196개 하는거? 21년 6월 18일까지 하면 되구 단가가 45...  "
      ]
     },
     "execution_count": 149,
     "metadata": {},
     "output_type": "execute_result"
    }
   ],
   "source": [
    "order_info_nl['time'] = order_info_nl['time'].apply(change_time_name)\n",
    "order_info_nl.head()"
   ]
  },
  {
   "cell_type": "code",
   "execution_count": 150,
   "id": "644c40a1",
   "metadata": {},
   "outputs": [
    {
     "data": {
      "text/plain": [
       "'machine19'"
      ]
     },
     "execution_count": 150,
     "metadata": {},
     "output_type": "execute_result"
    }
   ],
   "source": [
    "# machine -> machine01\n",
    "unique_machines = sorted(machine_info['machine'].dropna().unique())\n",
    "\n",
    "machines_mapping = {\n",
    "        machine: f\"machine{str(i+1).zfill(2)}\"\n",
    "        for i, machine in enumerate(unique_machines)\n",
    "    }\n",
    "\n",
    "def change_machine_name(target):\n",
    "    result = str(target)\n",
    "    for k, v in machines_mapping.items():\n",
    "        result = result.replace(k, v)\n",
    "\n",
    "    return result\n",
    "\n",
    "change_machine_name('0421')"
   ]
  },
  {
   "cell_type": "code",
   "execution_count": 151,
   "id": "1189d74b",
   "metadata": {},
   "outputs": [
    {
     "data": {
      "text/html": [
       "<div>\n",
       "<style scoped>\n",
       "    .dataframe tbody tr th:only-of-type {\n",
       "        vertical-align: middle;\n",
       "    }\n",
       "\n",
       "    .dataframe tbody tr th {\n",
       "        vertical-align: top;\n",
       "    }\n",
       "\n",
       "    .dataframe thead th {\n",
       "        text-align: right;\n",
       "    }\n",
       "</style>\n",
       "<table border=\"1\" class=\"dataframe\">\n",
       "  <thead>\n",
       "    <tr style=\"text-align: right;\">\n",
       "      <th></th>\n",
       "      <th>item</th>\n",
       "      <th>machine</th>\n",
       "      <th>capacity</th>\n",
       "    </tr>\n",
       "  </thead>\n",
       "  <tbody>\n",
       "    <tr>\n",
       "      <th>0</th>\n",
       "      <td>050060</td>\n",
       "      <td>machine28</td>\n",
       "      <td>1.08</td>\n",
       "    </tr>\n",
       "    <tr>\n",
       "      <th>1</th>\n",
       "      <td>050093</td>\n",
       "      <td>machine04</td>\n",
       "      <td>7.13</td>\n",
       "    </tr>\n",
       "    <tr>\n",
       "      <th>2</th>\n",
       "      <td>050093</td>\n",
       "      <td>machine08</td>\n",
       "      <td>4.67</td>\n",
       "    </tr>\n",
       "    <tr>\n",
       "      <th>3</th>\n",
       "      <td>050093</td>\n",
       "      <td>machine10</td>\n",
       "      <td>4.50</td>\n",
       "    </tr>\n",
       "    <tr>\n",
       "      <th>4</th>\n",
       "      <td>050093</td>\n",
       "      <td>machine14</td>\n",
       "      <td>3.92</td>\n",
       "    </tr>\n",
       "  </tbody>\n",
       "</table>\n",
       "</div>"
      ],
      "text/plain": [
       "     item    machine  capacity\n",
       "0  050060  machine28      1.08\n",
       "1  050093  machine04      7.13\n",
       "2  050093  machine08      4.67\n",
       "3  050093  machine10      4.50\n",
       "4  050093  machine14      3.92"
      ]
     },
     "execution_count": 151,
     "metadata": {},
     "output_type": "execute_result"
    }
   ],
   "source": [
    "machine_info['machine'] = machine_info['machine'].apply(change_machine_name)\n",
    "machine_info.head()"
   ]
  },
  {
   "cell_type": "code",
   "execution_count": 152,
   "id": "d02562cd",
   "metadata": {},
   "outputs": [],
   "source": [
    "# 전처리 - order\n",
    "def preprocess_order(df):\n",
    "    # 긴급 생산 요건이 있는 경우 1, 그렇지 않은 경우는 0\n",
    "    df['urgent'] = df['urgent'].fillna(0)\n",
    "\n",
    "    for i in range(len(df)):\n",
    "        if df.loc[i, 'urgent'] != 0:\n",
    "            df.loc[i, 'urgent'] = 1\n",
    "\n",
    "    df.dropna(axis=0, inplace=True)\n",
    "\n",
    "    # 같은 종류의 order 묶기\n",
    "    df = df.groupby(['time','item','cost','urgent']).sum().reset_index()\n",
    "    \n",
    "    return df\n",
    "\n",
    "# 전처리 - machine\n",
    "def preprocess_machine(df):\n",
    "    df.dropna(axis=0, inplace=True)\n",
    "\n",
    "    return df"
   ]
  },
  {
   "cell_type": "code",
   "execution_count": 153,
   "id": "3a21d937",
   "metadata": {},
   "outputs": [],
   "source": [
    "# 슬라이딩 윈도우 함수 정의\n",
    "def create_shifted_dataset(df, window_size=5):\n",
    "    datasets = []\n",
    "    for i in range(len(df) - window_size + 1):\n",
    "        window = df.iloc[i:i+window_size].reset_index(drop=True)\n",
    "        datasets.append(window)\n",
    "    return datasets"
   ]
  },
  {
   "cell_type": "code",
   "execution_count": 154,
   "id": "8597f668",
   "metadata": {},
   "outputs": [],
   "source": [
    "machine_info = preprocess_machine(machine_info)\n",
    "\n",
    "def make_dataset(order_info_nl, machine_info, window_size=5):\n",
    "    dataset = create_shifted_dataset(order_info_nl, window_size=window_size)\n",
    "    dataset_for_ga = list()\n",
    "    dataset_for_nl = list()\n",
    "    dataset_for_order = list()\n",
    "\n",
    "    for data in dataset:\n",
    "        order = data.iloc[:, :5]\n",
    "        nl = data.iloc[:, 5:]\n",
    "\n",
    "        order = preprocess_order(order)\n",
    "        dataset_for_order.append(order)\n",
    "        order = pd.merge(order, machine_info, on='item', how='inner')\n",
    "\n",
    "        dataset_for_ga.append(order)\n",
    "        dataset_for_nl.append(nl)\n",
    "\n",
    "    return dataset_for_ga, dataset_for_nl, dataset_for_order\n",
    "\n",
    "# raw_order_info_nl_eng = order_info_nl_eng.copy()\n",
    "order_info_nl_eng = pd.concat([order_info, order_info_nl_eng], axis=1)\n",
    "dataset_for_ga, dataset_for_nl, dataset_for_order = make_dataset(order_info_nl_eng, machine_info)"
   ]
  },
  {
   "cell_type": "code",
   "execution_count": 168,
   "id": "4be830e2-d7ab-4350-9672-d1f92027f595",
   "metadata": {},
   "outputs": [
    {
     "name": "stdout",
     "output_type": "stream",
     "text": [
      "dataset_for_ga의 타입: <class 'list'>\n",
      "dataset_for_ga의 길이: 123\n",
      "\n",
      "첫 번째 요소의 타입: <class 'pandas.core.frame.DataFrame'>\n",
      "\n",
      "두 번째 요소의 타입: <class 'pandas.core.frame.DataFrame'>\n"
     ]
    }
   ],
   "source": [
    "# 노트북 셀 (make_dataset 함수가 실행된 직후)\n",
    "\n",
    "# dataset_for_ga 변수가 생성되었는지 확인\n",
    "if 'dataset_for_ga' in globals():\n",
    "    print(f\"dataset_for_ga의 타입: {type(dataset_for_ga)}\")\n",
    "    if isinstance(dataset_for_ga, list) and dataset_for_ga: # 리스트이고 비어있지 않다면\n",
    "        print(f\"dataset_for_ga의 길이: {len(dataset_for_ga)}\")\n",
    "        \n",
    "        print(f\"\\n첫 번째 요소의 타입: {type(dataset_for_ga[0])}\")\n",
    "        # print(\"첫 번째 요소 미리보기:\\n\", dataset_for_ga[0].head() if isinstance(dataset_for_ga[0], pd.DataFrame) else dataset_for_ga[0])\n",
    "        \n",
    "        if len(dataset_for_ga) > 1:\n",
    "            print(f\"\\n두 번째 요소의 타입: {type(dataset_for_ga[1])}\")\n",
    "            # print(\"두 번째 요소 미리보기:\\n\", dataset_for_ga[1].head() if isinstance(dataset_for_ga[1], pd.DataFrame) else dataset_for_ga[1])\n",
    "    elif not dataset_for_ga:\n",
    "        print(\"dataset_for_ga가 비어있습니다.\")\n",
    "    else:\n",
    "        print(\"dataset_for_ga가 리스트 타입이 아닙니다.\")\n",
    "else:\n",
    "    print(\"오류: dataset_for_ga 변수가 정의되지 않았습니다. 이전 셀들을 실행해주세요.\")"
   ]
  },
  {
   "cell_type": "markdown",
   "id": "f0802d6f-32d5-4c71-a537-3132c85a9440",
   "metadata": {},
   "source": [
    "### 1단계: 데이터 전처리 결과 비교 (preprocess_ga_inputs vs 오리지널 ga_preprocess)"
   ]
  },
  {
   "cell_type": "code",
   "execution_count": 172,
   "id": "fea08402-5614-40e1-9675-258f44ae0f74",
   "metadata": {},
   "outputs": [],
   "source": [
    "def original_ga_preprocess(dataset):\n",
    "    T = list(set(dataset['time']))\n",
    "    I = list(set(dataset['item']))\n",
    "    J = list(set(dataset['machine']))\n",
    "\n",
    "    # cit = 날짜 t에, item i가 미생산 될 때 발생하는 비용\n",
    "    cit = dict()\n",
    "    for i in I:\n",
    "        for t in T:\n",
    "            temp_dataset = dataset[(dataset['item'] == i) & (dataset['time'] == t)]\n",
    "            if len(temp_dataset) != 0:\n",
    "                value = list(set(temp_dataset['cost']))[0]\n",
    "                cit[i, t] = value\n",
    "            else:\n",
    "                cit[i, t] = 0\n",
    "\n",
    "    # pit = 날짜 t에, item i가 긴급 생산이 필요한 경우 1, 그렇지 않으면 0\n",
    "    pit = dict()\n",
    "    for i in I:\n",
    "        for t in T:\n",
    "            temp_dataset = dataset[(dataset['item'] == i) & (dataset['time'] == t)]\n",
    "            if len(temp_dataset) != 0:\n",
    "                value = list(set(temp_dataset['urgent']))[0]\n",
    "                pit[i, t] = value\n",
    "            else:\n",
    "                pit[i, t] = 0\n",
    "\n",
    "    # dit = 날짜 t에 item i마다 생산되어야 하는 요구량\n",
    "    dit = dict()\n",
    "    for i in I:\n",
    "        for t in T:\n",
    "            temp_dataset = dataset[(dataset['item'] == i) & (dataset['time'] == t)]\n",
    "            if len(temp_dataset) != 0:\n",
    "                value = list(set(temp_dataset['qty']))[0]\n",
    "                dit[i, t] = value\n",
    "            else:\n",
    "                dit[i, t] = 0\n",
    "\n",
    "    # mijt= 날짜 t에 NC machine j가 item i를 생산할 수 있는 능력\n",
    "    mijt = dict()\n",
    "    for i in I:\n",
    "        for j in J:\n",
    "            temp_dataset = dataset[\n",
    "                (dataset['item'] == i) &\n",
    "                (dataset['machine'] == j)\n",
    "            ]\n",
    "\n",
    "            if len(temp_dataset) != 0:\n",
    "                value = list(set(temp_dataset['capacity']))[0]\n",
    "                for t in T:\n",
    "                    mijt[i, j, t] = value\n",
    "            else:\n",
    "                for t in T:\n",
    "                    mijt[i, j, t] = 0\n",
    "\n",
    "    return T, I, J, cit, pit, dit, mijt\n",
    "\n",
    "# 머신 j가 시간 t에 아이템 i를 만들수 없을 경우 0으로 처리하기 위함함\n",
    "def original_decode(mijt, xijt):\n",
    "    for j in J:\n",
    "        for t in T:\n",
    "            for i in I:\n",
    "                if mijt[i, j, t] == 0:\n",
    "                    xijt[i, j, t] = 0\n",
    "    return xijt\n",
    "\n",
    "# 목적함수를 최적화하기 위한 xijt 조합을 임의로 생성하는 함수\n",
    "def original_generation_xijt():\n",
    "    xijt = {}\n",
    "\n",
    "    for i in I:\n",
    "        for j in J:\n",
    "            for t in T:\n",
    "                if dit[i, t] > 0:\n",
    "                    xijt[i, j, t] = random.uniform(0, 1)\n",
    "                else:\n",
    "                    xijt[i, j, t] = 0\n",
    "\n",
    "    xijt = original_decode(mijt, xijt)\n",
    "    print(f\"  [original_generation_xijt] 세대 0: 초기 모집단 생성됨 (크기: {len(xijt)})\")\n",
    "    return xijt\n",
    "\n",
    "def original_dict2list(xijt):\n",
    "    return list(xijt.values())\n",
    "\n",
    "def original_list2dict(bitstring, type='xijt'):\n",
    "    if type == 'xijt':\n",
    "        _keys = xijt_keys\n",
    "    elif type == 'mijt':\n",
    "        _keys = mijt_keys\n",
    "\n",
    "    xijt = {}\n",
    "    for idx, value in enumerate(bitstring):\n",
    "        xijt[_keys[idx]] = value\n",
    "\n",
    "    return xijt\n",
    "\n",
    "# 제약조건 확인\n",
    "# 기계 하루 총 생산시간은 600분\n",
    "# j기계로 600분 안에 아이템 i를 생산할 수 없다면 아이템 생산하지 않도록 하기 위함.\n",
    "def original_constraint_check(xijt):\n",
    "    for j in J:\n",
    "        for t in T:\n",
    "            check_value = sum(mijt[i, j, t] * round(xijt[i, j, t] * dit[i, t]) for i in I) <= 600\n",
    "\n",
    "            if check_value is False:\n",
    "                for i in I:\n",
    "                    xijt[i, j, t] = 0\n",
    "\n",
    "    return xijt\n",
    "\n",
    "# 목적 함수\n",
    "def original_objective(xijt):\n",
    "    uit = {}\n",
    "    xijt = original_constraint_check(xijt)\n",
    "\n",
    "    for i in I:\n",
    "        for t in T:\n",
    "            u = dit[i, t] - sum(round(xijt[i, j, t] * dit[i, t]) for j in J)\n",
    "            if u >= 0:\n",
    "                uit[i, t] = u\n",
    "            else:\n",
    "                uit[i, t] = abs(u) * 10_000_000\n",
    "\n",
    "    objective = sum(uit[i, t] * cit[i, t] * pit[i, t] for i in I for t in T)\n",
    "    return objective\n",
    "\n",
    "# Tournament selection\n",
    "def original_selection(pop, scores, n_pop):\n",
    "    # n_pop은 한 세대를 구성하는 염색체 수이며, 하이퍼파라미터 값\n",
    "    k = round(n_pop * 0.5)\n",
    "    selection_ix = randint(len(pop))\n",
    "    \n",
    "    for ix in randint(0, len(pop), k - 1):\n",
    "        if scores[ix] < scores[selection_ix]:\n",
    "            selection_ix = ix\n",
    "            \n",
    "    return pop[selection_ix]\n",
    "\n",
    "def original_crossover(p1, p2, r_cross):\n",
    "    p1 = dict2list(p1)\n",
    "    p2 = dict2list(p2)\n",
    "    c1, c2 = p1.copy(), p2.copy()\n",
    "\n",
    "    if rand() < r_cross:\n",
    "        base_bitstring = original_dict2list(mijt)\n",
    "\n",
    "        # crossover (1): 유효 인덱스 추출\n",
    "        valid_index = []\n",
    "        for i in range(len(base_bitstring)):\n",
    "            if base_bitstring[i] > 0:\n",
    "                valid_index.append(i)\n",
    "\n",
    "        n = round(r_cross * len(valid_index))\n",
    "        pt_0 = random.sample(valid_index, n)\n",
    "        pt_1 = list(set(valid_index) - set(pt_0))\n",
    "\n",
    "        # crossover (2): 교차 적용\n",
    "        for i in pt_0:\n",
    "            c1[i] = p2[i]\n",
    "            c2[i] = p1[i]\n",
    "\n",
    "        for i in pt_1:\n",
    "            c1[i] = p2[i]\n",
    "            c2[i] = p1[i]\n",
    "\n",
    "    return [c1, c2]\n",
    "\n",
    "def original_mutation(bitstring, r_mut):\n",
    "    for i in range(len(bitstring)):\n",
    "        if rand() < r_mut:\n",
    "            base_bitstring = original_dict2list(mijt)\n",
    "\n",
    "            # mutation (1): 유효 인덱스 찾기\n",
    "            valid_index = []\n",
    "            for j in range(len(base_bitstring)):\n",
    "                if base_bitstring[j] > 0:\n",
    "                    valid_index.append(j)\n",
    "\n",
    "            n = round(r_mut * len(valid_index))\n",
    "\n",
    "            # mutation (2): 무작위 인덱스에서 값 변경\n",
    "            pt_0 = random.sample(valid_index, n)\n",
    "            for idx in pt_0:\n",
    "                bitstring[idx] = random.uniform(0, 1)\n",
    "\n",
    "def original_genetic_algorithm(bounds, n_iter, n_pop, r_cross, r_mut):\n",
    "    print(f\"  start [original_genetic_algorithm]\")\n",
    "    # Utility\n",
    "    log = []\n",
    "    log_detail = []\n",
    "    best_gen = 0\n",
    "\n",
    "    # GA algorithm 초기화\n",
    "    pop = [original_generation_xijt() for _ in range(n_pop)]\n",
    "    best = original_decode(mijt, pop[0])\n",
    "    best_eval = original_objective(best)\n",
    "    print(best_eval)\n",
    "\n",
    "    for gen in tqdm(range(n_iter)):\n",
    "        # 현재 세대 해를 디코딩\n",
    "        decoded = [original_decode(mijt, p) for p in pop]\n",
    "\n",
    "        # 목적함수 값 계산\n",
    "        scores = [original_objective(d) for d in decoded]\n",
    "\n",
    "        # 가장 좋은 해 갱신\n",
    "        for i in range(n_pop):\n",
    "            if scores[i] < best_eval:\n",
    "                best, best_eval = pop[i], scores[i]\n",
    "                print(f'>best! {gen}, {scores[i]}')\n",
    "                best_gen = gen\n",
    "            else:\n",
    "                # stop rule: 개선 없이 100세대 이상일 경우 중단\n",
    "                if gen - best_gen > 200:\n",
    "                    print('stop')\n",
    "                    return [best, best_eval, log, log_detail]\n",
    "\n",
    "        # 부모 해 집합 선택\n",
    "        selected = [original_selection(pop, scores, n_pop) for _ in range(n_pop)]\n",
    "        log_detail.append([gen, original_objective(selected[0])])\n",
    "\n",
    "        # 자식 세대 생성\n",
    "        children = []\n",
    "        for i in range(0, n_pop, 2):\n",
    "            p1, p2 = selected[i], selected[i + 1]\n",
    "            for c in original_crossover(p1, p2, r_cross):\n",
    "                original_mutation(c, r_mut)\n",
    "                children.append(list2dict(c))\n",
    "\n",
    "        pop = children\n",
    "        log.append([gen, best_eval])\n",
    "    print(f\"  end [original_genetic_algorithm]\")\n",
    "    return [best, best_eval, log, log_detail]\n",
    "\n",
    "def original_set_hyper_parameters():\n",
    "    # 하이퍼파라미터 설정\n",
    "    hyper_parameters = pd.DataFrame({\n",
    "        'index':    ['index_1', 'index_2', 'index_3', 'index_4',\n",
    "                    'index_5', 'index_6', 'index_7', 'index_8'],\n",
    "        'n_iter':   [500, 500, 500, 500, 500, 500, 500, 500],\n",
    "        'n_pop':    [10, 20, 40, 20, 20, 20, 20, 20],\n",
    "        'r_cross':  [0.4, 0.4, 0.4, 0.1, 0.2, 0.3, 0.4, 0.4],\n",
    "        'r_mut':    [0.4, 0.4, 0.4, 0.4, 0.4, 0.4, 0.1, 0.6]\n",
    "    })\n",
    "\n",
    "    # 결과 기록용 열 추가\n",
    "    hyper_parameters['objective'] = np.nan\n",
    "    hyper_parameters['time'] = np.nan\n",
    "\n",
    "    return hyper_parameters\n",
    "\n",
    "def original_find_hyper_parameters(hyper_parameters):\n",
    "    log_list = []\n",
    "\n",
    "    for i in range(len(hyper_parameters)):\n",
    "        parameter = hyper_parameters.iloc[i]\n",
    "        index_nm = parameter['index']\n",
    "        print(f'{index_nm}')\n",
    "\n",
    "        start = datetime.datetime.now()\n",
    "\n",
    "        # 초기 해 및 키 정의\n",
    "        xijt = original_generation_xijt()\n",
    "        global xijt_keys, mijt_keys\n",
    "        xijt_keys = list(xijt.keys())\n",
    "        mijt_keys = list(mijt.keys())\n",
    "\n",
    "        # 하이퍼파라미터 설정\n",
    "        n_iter = parameter['n_iter']\n",
    "        n_pop = parameter['n_pop']\n",
    "        r_cross = parameter['r_cross']\n",
    "        r_mut = parameter['r_mut']\n",
    "\n",
    "        # 유전 알고리즘 실행\n",
    "        best, score, log, log_detail = original_genetic_algorithm(mijt, n_iter, n_pop, r_cross, r_mut)\n",
    "\n",
    "        # 실행 시간 및 결과 기록\n",
    "        elapsed_time = datetime.datetime.now() - start\n",
    "        hyper_parameters.loc[i, 'time'] = elapsed_time\n",
    "        hyper_parameters.loc[i, 'objective'] = score\n",
    "\n",
    "        log_list.append(log)\n",
    "\n",
    "    # 결과 출력\n",
    "    return hyper_parameters, log_list\n"
   ]
  },
  {
   "cell_type": "code",
   "execution_count": 173,
   "id": "9f88c348-7f2f-4a68-9c10-11f70f3e37cc",
   "metadata": {},
   "outputs": [
    {
     "name": "stdout",
     "output_type": "stream",
     "text": [
      "테스트용 데이터 샘플 2개 준비 완료 (temp0_test_samples).\n",
      "사용할 고정 하이퍼파라미터: {'n_iter': 500, 'n_pop': 20, 'r_cross': 0.4, 'r_mut': 0.1}\n"
     ]
    }
   ],
   "source": [
    "# 노트북 셀 (dataset_for_ga가 생성된 이후)\n",
    "\n",
    "if 'dataset_for_ga' in globals() and dataset_for_ga:\n",
    "    rng = np.random.RandomState(seed=20250526) # 시드 고정 (결과 비교를 위해)\n",
    "    # TODO: random_ls를 만들 때 dataset_for_ga의 실제 길이로 size를 제한해야 할 수 있음\n",
    "    #       (만약 dataset_for_ga 길이가 10보다 작다면 에러 발생 가능)\n",
    "    #       여기서는 dataset_for_ga 길이가 충분히 크다고 가정.\n",
    "    #       또는, 테스트를 위해 실제 샘플 개수를 줄여도 좋음 (예: size=1 또는 2)\n",
    "    num_samples_to_test = min(2, len(dataset_for_ga)) # 실제 샘플 수 제한\n",
    "    random_ls = rng.choice(a=len(dataset_for_ga), size=num_samples_to_test, replace=False)\n",
    "    temp0_test_samples = [dataset_for_ga[i] for i in random_ls]\n",
    "    print(f\"테스트용 데이터 샘플 {len(temp0_test_samples)}개 준비 완료 (temp0_test_samples).\")\n",
    "else:\n",
    "    print(\"오류: dataset_for_ga가 준비되지 않았습니다. 이전 셀들을 실행해주세요.\")\n",
    "    temp0_test_samples = []\n",
    "\n",
    "# 사용할 고정 하이퍼파라미터 (네가 지정한 값)\n",
    "ga_fixed_hyperparams = {\n",
    "    'n_iter': 500,\n",
    "    'n_pop': 20,\n",
    "    'r_cross': 0.4,\n",
    "    'r_mut': 0.1,\n",
    "    # GeneticAlgorithm 클래스 __init__에 추가했던 다른 파라미터들의 기본값을 사용하려면 명시 안 해도 됨\n",
    "    # 만약 다른 값을 쓰고 싶다면 여기에 추가:\n",
    "    # 'max_machine_work_time': 600,\n",
    "    # 'overproduction_penalty_factor': 10000000,\n",
    "    # 'gene_swap_prob': 0.5 \n",
    "}\n",
    "print(f\"사용할 고정 하이퍼파라미터: {ga_fixed_hyperparams}\")"
   ]
  },
  {
   "cell_type": "code",
   "execution_count": 174,
   "id": "f53b8a86-6e09-49b9-8324-23cbf1f5bb0d",
   "metadata": {},
   "outputs": [
    {
     "name": "stdout",
     "output_type": "stream",
     "text": [
      "--- 오리지널 ga_preprocess 실행 ---\n",
      "\n",
      "--- 리팩토링된 preprocess_ga_inputs_dense 실행 ---\n",
      "\n",
      "--- 데이터 비교 ---\n",
      "T 동일 여부 (정렬 후 비교): True\n",
      "I 동일 여부 (정렬 후 비교): True\n",
      "J 동일 여부 (정렬 후 비교): True\n",
      "cit 딕셔너리 동일 여부: True\n",
      "pit 딕셔너리 동일 여부: True\n",
      "dit 딕셔너리 동일 여부: True\n",
      "mijt 딕셔너리 동일 여부: True\n"
     ]
    }
   ],
   "source": [
    "# 노트북 셀 (오리지널 ga_preprocess 함수가 original_ga_preprocess 라는 이름으로 정의되어 있다고 가정)\n",
    "# ga_util 모듈도 임포트 되어 있어야 함\n",
    "\n",
    "if 'temp0_test_samples' in globals() and temp0_test_samples:\n",
    "    sample_to_compare = temp0_test_samples[0].copy() # 비교할 샘플 데이터\n",
    "\n",
    "    print(\"--- 오리지널 ga_preprocess 실행 ---\")\n",
    "    # TODO: 아래 original_ga_preprocess는 실제 네 오리지널 함수 이름으로 바꿔야 해!\n",
    "    T_o, I_o, J_o, cit_o, pit_o, dit_o, mijt_o = original_ga_preprocess(sample_to_compare) \n",
    "\n",
    "    print(\"\\n--- 리팩토링된 preprocess_ga_inputs_dense 실행 ---\")\n",
    "    T_r, I_r, J_r, cit_r, pit_r, dit_r, mijt_r = ga_util.preprocess_ga_inputs_dense(sample_to_compare)\n",
    "\n",
    "    print(\"\\n--- 데이터 비교 ---\")\n",
    "    print(f\"T 동일 여부 (정렬 후 비교): {sorted(T_o) == sorted(T_r)}\")\n",
    "    print(f\"I 동일 여부 (정렬 후 비교): {sorted(I_o) == sorted(I_r)}\")\n",
    "    print(f\"J 동일 여부 (정렬 후 비교): {sorted(J_o) == sorted(J_r)}\")\n",
    "    print(f\"cit 딕셔너리 동일 여부: {cit_o == cit_r}\")\n",
    "    print(f\"pit 딕셔너리 동일 여부: {pit_o == pit_r}\")\n",
    "    print(f\"dit 딕셔너리 동일 여부: {dit_o == dit_r}\")\n",
    "    print(f\"mijt 딕셔너리 동일 여부: {mijt_o == mijt_r}\")\n",
    "\n",
    "    # 만약 딕셔너리가 다르다면, 어떤 키에서 다른지 좀 더 자세히 볼 수 있어\n",
    "    if not cit_o == cit_r:\n",
    "        print(\"cit 딕셔너리 차이 발생!\")\n",
    "        # (더 자세한 비교 로직 추가 가능)\n",
    "else:\n",
    "    print(\"temp0_test_samples가 준비되지 않아 전처리 결과 비교를 할 수 없습니다.\")"
   ]
  },
  {
   "cell_type": "markdown",
   "id": "06807b06-e0ba-479e-a559-46ab56c32a0e",
   "metadata": {},
   "source": [
    "### 2단계: 전처리 결과가 동일\n",
    "---\n",
    "1. 동일한 입력 해(염색체) 준비:\n",
    "\n",
    "테스트를 위해 똑같은 xijt 딕셔너리 하나를 만들어야 해. 이 xijt는 (품목, 기계, 시간)을 키로 하고 생산 비율을 값으로 가지는 딕셔너리여야 하지.\n",
    "예를 들어, 리팩토링된 GeneticAlgorithm 클래스의 _generate_initial_solution() 메소드를 한 번 호출해서 얻은 해를 사용할 수도 있고, 아니면 아주 간단한 테스트용 xijt를 직접 만들어도 돼.\n",
    "\n",
    "2. 두 버전의 목적 함수로 각각 점수 계산:\n",
    "\n",
    "* 오리지널 로직:\n",
    "위에서 비교했던, 동일한 전처리 데이터 (T, I, J, cit, pit, dit, mijt)를 오리지널 GA 로직이 참조할 수 있도록 준비해줘 (필요하다면 다시 global 선언 등으로).\n",
    "오리지널 constraint_check(sample_xijt.copy()) 함수를 호출해서 제약조건이 반영된 해를 얻어.\n",
    "그 결과를 오리지널 objective(constrained_xijt_orig) 함수에 넣어서 점수를 계산해.\n",
    "\n",
    "* 리팩토링된 로직:\n",
    "GeneticAlgorithm 클래스의 인스턴스(ga_instance)를 동일한 전처리 데이터와 하이퍼파라미터로 만들어.\n",
    "ga_instance._calculate_objective_value(sample_xijt.copy()) 메소드를 호출해서 점수를 계산해. (이 메소드 내부에서 self._check_constraints가 이미 호출되니까 따로 부를 필요 없어.)\n",
    "\n",
    "\n",
    "3. 두 점수 비교:\n",
    "\n",
    "이렇게 얻은 두 점수(score_orig와 score_refac)가 정확히 같은지 비교해 봐.\n"
   ]
  },
  {
   "cell_type": "code",
   "execution_count": 175,
   "id": "a645140c-df89-49da-8612-c9f984550a53",
   "metadata": {},
   "outputs": [],
   "source": [
    "T_r, I_r, J_r, cit_r, pit_r, dit_r, mijt_r = ga_util.preprocess_ga_inputs_dense(temp0_test_samples[0].copy())\n",
    "\n",
    "ga_instance = GeneticAlgorithm(\n",
    "    # 데이터 관련 인자들 전달\n",
    "    T_set=T_r, \n",
    "    I_set=I_r, \n",
    "    J_set=J_r,\n",
    "    cit_data=cit_r, \n",
    "    pit_data=pit_r, \n",
    "    dit_data=dit_r, \n",
    "    mijt_data=mijt_r,\n",
    "    \n",
    "    # 필수 GA 하이퍼파라미터 전달\n",
    "    n_pop=ga_fixed_hyperparams['n_pop'], \n",
    "    n_iter=ga_fixed_hyperparams['n_iter'],\n",
    "    r_cross=ga_fixed_hyperparams['r_cross'],\n",
    "    r_mut=ga_fixed_hyperparams['r_mut'],\n",
    "    \n",
    "    # 선택적 하이퍼파라미터 (ga_fixed_hyperparams에 없으면 __init__의 기본값 사용)\n",
    "    # .get()을 사용하면 hyperparams_dict에 해당 키가 없어도 에러 없이 기본값을 넘겨줄 수 있음\n",
    "    # 또는, __init__의 기본값을 사용하고 싶다면 이 줄들을 아예 생략해도 됨!\n",
    "    # max_machine_work_time=hyperparams_dict.get('max_machine_work_time', 600), \n",
    "    # overproduction_penalty_factor=hyperparams_dict.get('overproduction_penalty_factor', 10000000),\n",
    "    # gene_swap_prob=hyperparams_dict.get('gene_swap_prob', 0.5),\n",
    "    \n",
    "    xijt_keys_list=None # __init__에서 자동 생성하도록 None 전달\n",
    ")"
   ]
  },
  {
   "cell_type": "code",
   "execution_count": 176,
   "id": "76f5d47a-d4c8-4c5a-94c3-6e7e05b545c2",
   "metadata": {},
   "outputs": [
    {
     "name": "stdout",
     "output_type": "stream",
     "text": [
      "--- 테스트용 샘플 염색체 (xijt) 생성 완료 (상위 5개) ---\n",
      "  ('item24', 'machine04', 'date166'): 0.14686506607637084\n",
      "  ('item24', 'machine05', 'date166'): 0.8905122851631584\n",
      "  ('item24', 'machine07', 'date166'): 0.04506988906981335\n",
      "  ('item24', 'machine08', 'date166'): 0.6286137720948962\n",
      "  ('item24', 'machine09', 'date166'): 0.5414420817009696\n",
      "\n",
      "--- 오리지널 objective 함수로 점수 계산 ---\n",
      "  오리지널 로직 점수: 0\n",
      "\n",
      "--- 리팩토링된 _calculate_objective_value 메소드로 점수 계산 ---\n",
      "  리팩토링된 로직 점수: 0.0\n",
      "\n",
      "  목적 함수 점수 차이: 0.0\n",
      "  목적 함수 계산 결과 일치! (또는 매우 유사)\n"
     ]
    }
   ],
   "source": [
    "# 노트북 셀\n",
    "\n",
    "# TODO: 이 셀을 실행하기 전에, \n",
    "#       1. sample_input_df (예: temp0_test_samples[0])가 준비되어 있어야 함.\n",
    "#       2. T_o, I_o, J_o, cit_o, pit_o, dit_o, mijt_o (오리지널 전처리 결과)가 준비되어 있어야 함.\n",
    "#       3. original_constraint_check, original_objective 함수가 정의되어 있어야 함.\n",
    "#       4. ga_instance (리팩토링된 GeneticAlgorithm 클래스 인스턴스)가 생성되어 있어야 함.\n",
    "#          (ga_instance는 T_r, I_r, J_r, cit_r 등을 사용해서 만들어졌겠지. 이 값들은 T_o, I_o 등과 동일해야 함)\n",
    "\n",
    "# 0. 랜덤 시드 고정 (만약 objective 함수 내부에 랜덤 요소가 있다면, 지금은 없어 보이지만)\n",
    "# random.seed(42) \n",
    "# np.random.seed(42)\n",
    "\n",
    "# 1. 테스트용 동일한 해(염색체 xijt) 생성 또는 선택\n",
    "#    예시: 리팩토링된 GA의 초기해 생성기 사용 (또는 오리지널 generation_xijt 사용)\n",
    "#    (ga_instance가 이미 생성되어 있고, 그 안의 T,I,J,dit,mijt 등을 사용한다고 가정)\n",
    "if 'ga_instance' in globals():\n",
    "    sample_chromosome_xijt = ga_instance._generate_initial_solution() # .copy()는 여기서 필요 없을 수도 있음\n",
    "    print(\"--- 테스트용 샘플 염색체 (xijt) 생성 완료 (상위 5개) ---\")\n",
    "    for k_count, (k_key, k_val) in enumerate(sample_chromosome_xijt.items()):\n",
    "        if k_count < 5: print(f\"  {k_key}: {k_val}\")\n",
    "        else: break\n",
    "else:\n",
    "    print(\"ga_instance가 정의되지 않아 샘플 염색체를 생성할 수 없습니다.\")\n",
    "    sample_chromosome_xijt = None\n",
    "\n",
    "if sample_chromosome_xijt:\n",
    "    # --- 오리지널 로직으로 점수 계산 ---\n",
    "    print(\"\\n--- 오리지널 objective 함수로 점수 계산 ---\")\n",
    "    # 전역 변수 설정 (오리지널 함수들이 참조할 수 있도록)\n",
    "    # 이 값들은 T_o, I_o, ... 등 이전 단계에서 확인한 \"동일한 전처리 결과\"여야 함.\n",
    "    T, I, J, cit, pit, dit, mijt = T_o, I_o, J_o, cit_o, pit_o, dit_o, mijt_o\n",
    "    # xijt_keys, mijt_keys도 오리지널 방식대로 설정 필요 (만약 constraint_check나 objective가 사용한다면)\n",
    "    # xijt_keys = list(sample_chromosome_xijt.keys()) # 간단한 예시\n",
    "    # mijt_keys = list(mijt.keys()) # 간단한 예시\n",
    "\n",
    "    constrained_xijt_orig = original_constraint_check(sample_chromosome_xijt.copy()) # 오리지널 함수\n",
    "    score_orig = original_objective(constrained_xijt_orig) # 오리지널 함수\n",
    "    print(f\"  오리지널 로직 점수: {score_orig}\")\n",
    "\n",
    "    # --- 리팩토링된 로직으로 점수 계산 ---\n",
    "    print(\"\\n--- 리팩토링된 _calculate_objective_value 메소드로 점수 계산 ---\")\n",
    "    # ga_instance는 이미 T_r, I_r, ... 등 (T_o, I_o와 동일한) 전처리 데이터로 초기화되었어야 함\n",
    "    score_refac = ga_instance._calculate_objective_value(sample_chromosome_xijt.copy())\n",
    "    print(f\"  리팩토링된 로직 점수: {score_refac}\")\n",
    "\n",
    "    # --- 점수 비교 ---\n",
    "    score_diff_objective = abs(score_refac - score_orig)\n",
    "    print(f\"\\n  목적 함수 점수 차이: {score_diff_objective}\")\n",
    "    if score_diff_objective > 1e-6: # 아주 작은 차이는 부동소수점 연산 때문일 수 있음\n",
    "        print(\"  WARNING: 목적 함수 계산 결과에 차이가 있습니다!\")\n",
    "    else:\n",
    "        print(\"  목적 함수 계산 결과 일치! (또는 매우 유사)\")"
   ]
  },
  {
   "cell_type": "markdown",
   "id": "7edf8c52-92d3-4a71-b820-977471415b31",
   "metadata": {},
   "source": [
    "# 노트북 셀\n",
    "\n",
    "if 'sample_input_df' in globals() and sample_input_df is not None:\n",
    "    print(\"\\\\n--- [Dense 방식] ga_util.preprocess_ga_inputs_dense 함수 실행 ---\")\n",
    "    T_dense, I_dense, J_dense, cit_dense, pit_dense, dit_dense, mijt_dense = \\\n",
    "        ga_util.preprocess_ga_inputs_dense(sample_input_df.copy())\n",
    "\n",
    "    print(\"\\\\n--- 반환된 값 확인 ---\")\n",
    "    print(f\"T_dense (시간 집합 크기): {len(T_dense)}, 예시: {T_dense[:5] if T_dense else '없음'}\")\n",
    "    print(f\"I_dense (품목 집합 크기): {len(I_dense)}, 예시: {I_dense[:5] if I_dense else '없음'}\")\n",
    "    print(f\"J_dense (기계 집합 크기): {len(J_dense)}, 예시: {J_dense[:5] if J_dense else '없음'}\")\n",
    "\n",
    "    # cit_dense 딕셔너리 내용 일부 출력\n",
    "    print(f\"\\\\ncit_dense (비용 딕셔너리 크기): {len(cit_dense)}\")\n",
    "    print(\"  cit_dense 예시 (첫 5개 항목):\")\n",
    "    if cit_dense: # 딕셔너리가 비어있지 않은 경우에만 출력\n",
    "        for count, (key, value) in enumerate(cit_dense.items()):\n",
    "            if count < 5: # 처음 5개 항목만 출력\n",
    "                print(f\"    {key}: {value}\")\n",
    "            else:\n",
    "                break # 5개 다 봤으면 루프 중단\n",
    "    else:\n",
    "        print(\"    (비어 있음)\")\n",
    "\n",
    "    # pit_dense 딕셔너리 내용 일부 출력\n",
    "    print(f\"\\\\npit_dense (긴급여부 딕셔너리 크기): {len(pit_dense)}\")\n",
    "    print(\"  pit_dense 예시 (첫 5개 항목):\")\n",
    "    if pit_dense:\n",
    "        for count, (key, value) in enumerate(pit_dense.items()):\n",
    "            if count < 5:\n",
    "                print(f\"    {key}: {value}\")\n",
    "            else:\n",
    "                break\n",
    "    else:\n",
    "        print(\"    (비어 있음)\")\n",
    "\n",
    "    # dit_dense 딕셔너리 내용 일부 출력\n",
    "    print(f\"\\\\ndit_dense (요구량 딕셔너리 크기): {len(dit_dense)}\")\n",
    "    print(\"  dit_dense 예시 (첫 5개 항목):\")\n",
    "    if dit_dense:\n",
    "        for count, (key, value) in enumerate(dit_dense.items()):\n",
    "            if count < 5:\n",
    "                print(f\"    {key}: {value}\")\n",
    "            else:\n",
    "                break\n",
    "    else:\n",
    "        print(\"    (비어 있음)\")\n",
    "    \n",
    "    # mijt_dense 딕셔너리 내용 일부 출력\n",
    "    print(f\"\\\\nmijt_dense (생산능력 딕셔너리 크기): {len(mijt_dense)}\")\n",
    "    print(\"  mijt_dense 예시 (첫 5개 항목):\")\n",
    "    if mijt_dense:\n",
    "        for count, (key, value) in enumerate(mijt_dense.items()):\n",
    "            if count < 5:\n",
    "                print(f\"    {key}: {value}\")\n",
    "            else:\n",
    "                break\n",
    "    else:\n",
    "        print(\"    (비어 있음)\")\n",
    "        \n",
    "    print(\"\\\\n--- [Sparse 방식] ga_util.preprocess_ga_inputs_sparse 함수 실행 ---\")\n",
    "    T_sparse, I_sparse, J_sparse, cit_sparse, pit_sparse, dit_sparse, mijt_sparse = \\\n",
    "        ga_util.preprocess_ga_inputs_sparse(sample_input_df.copy())\n",
    "\n",
    "    print(\"\\\\n--- 반환된 값 확인 ---\")\n",
    "    print(f\"T_dense (시간 집합 크기): {len(T_sparse)}, 예시: {T_sparse[:5] if T_sparse else '없음'}\")\n",
    "    print(f\"I_sparse (품목 집합 크기): {len(I_sparse)}, 예시: {I_sparse[:5] if I_sparse else '없음'}\")\n",
    "    print(f\"J_sparse (기계 집합 크기): {len(J_sparse)}, 예시: {J_sparse[:5] if J_sparse else '없음'}\")\n",
    "\n",
    "    # cit_sparse 딕셔너리 내용 일부 출력\n",
    "    print(f\"\\\\ncit_sparse (비용 딕셔너리 크기): {len(cit_sparse)}\")\n",
    "    print(\"  cit_sparse 예시 (첫 5개 항목):\")\n",
    "    if cit_sparse: # 딕셔너리가 비어있지 않은 경우에만 출력\n",
    "        for count, (key, value) in enumerate(cit_sparse.items()):\n",
    "            if count < 5: # 처음 5개 항목만 출력\n",
    "                print(f\"    {key}: {value}\")\n",
    "            else:\n",
    "                break # 5개 다 봤으면 루프 중단\n",
    "    else:\n",
    "        print(\"    (비어 있음)\")\n",
    "\n",
    "    # pit_sparse 딕셔너리 내용 일부 출력\n",
    "    print(f\"\\\\npit_sparse (긴급여부 딕셔너리 크기): {len(pit_sparse)}\")\n",
    "    print(\"  pit_sparse 예시 (첫 5개 항목):\")\n",
    "    if pit_sparse:\n",
    "        for count, (key, value) in enumerate(pit_sparse.items()):\n",
    "            if count < 5:\n",
    "                print(f\"    {key}: {value}\")\n",
    "            else:\n",
    "                break\n",
    "    else:\n",
    "        print(\"    (비어 있음)\")\n",
    "\n",
    "    # dit_sparse 딕셔너리 내용 일부 출력\n",
    "    print(f\"\\\\ndit_sparse (요구량 딕셔너리 크기): {len(dit_sparse)}\")\n",
    "    print(\"  dit_sparse 예시 (첫 5개 항목):\")\n",
    "    if dit_sparse:\n",
    "        for count, (key, value) in enumerate(dit_sparse.items()):\n",
    "            if count < 5:\n",
    "                print(f\"    {key}: {value}\")\n",
    "            else:\n",
    "                break\n",
    "    else:\n",
    "        print(\"    (비어 있음)\")\n",
    "    \n",
    "    # mijt_sparse 딕셔너리 내용 일부 출력\n",
    "    print(f\"\\\\nmijt_sparse (생산능력 딕셔너리 크기): {len(mijt_sparse)}\")\n",
    "    print(\"  mijt_sparsemijt_sparse 예시 (첫 5개 항목):\")\n",
    "    if mijt_sparse:\n",
    "        for count, (key, value) in enumerate(mijt_sparse.items()):\n",
    "            if count < 5:\n",
    "                print(f\"    {key}: {value}\")\n",
    "            else:\n",
    "                break\n",
    "    else:\n",
    "        print(\"    (비어 있음)\")\n",
    "        \n",
    "else:\n",
    "    print(\"sample_input_df가 준비되지 않아 테스트를 실행할 수 없습니다.\")"
   ]
  },
  {
   "cell_type": "code",
   "execution_count": 190,
   "id": "c9b96a6b-779c-4187-a7c0-b5eb31806239",
   "metadata": {},
   "outputs": [],
   "source": [
    "\n",
    "def run_refactored_ga_on_samples(sample_list, hyperparams_dict):\n",
    "    \"\"\"리팩토링된 GeneticAlgorithm 클래스를 사용하여 여러 샘플에 대해 GA를 실행합니다.\"\"\"\n",
    "    all_best_solutions_refactored = []\n",
    "    all_best_scores_refactored = []\n",
    "    all_logs_refactored = []\n",
    "    all_gt_dataframes_refactored = [] # 최종 생산 계획 DataFrame 저장용\n",
    "\n",
    "    print(f\"\\\\n--- 리팩토링된 GeneticAlgorithm 클래스 실행 시작 (총 {len(sample_list)}개 샘플) ---\")\n",
    "    for i, data_sample_df in enumerate(sample_list):\n",
    "        print(f\"샘플 {i+1}/{len(sample_list)} 처리 중...\")\n",
    "        \n",
    "        # 1. 데이터 전처리 (ga_util 사용)\n",
    "        #    TODO: preprocess_ga_inputs_dense 또는 _sparse 중 네가 주로 테스트하려는 함수 사용\n",
    "        T_set, I_set, J_set, cit_data, pit_data, dit_data, mijt_data = \\\n",
    "            ga_util.preprocess_ga_inputs_dense(data_sample_df.copy()) # 원본 보호\n",
    "\n",
    "        # 2. GeneticAlgorithm 인스턴스 생성\n",
    "        ga_instance = GeneticAlgorithm(\n",
    "            T_set=T_set, I_set=I_set, J_set=J_set,\n",
    "            cit_data=cit_data, pit_data=pit_data, dit_data=dit_data, mijt_data=mijt_data,\n",
    "            n_pop=hyperparams_dict['n_pop'], \n",
    "            n_iter=hyperparams_dict['n_iter'],\n",
    "            r_cross=hyperparams_dict['r_cross'],\n",
    "            r_mut=hyperparams_dict['r_mut'],\n",
    "            # __init__에 추가했던 다른 하이퍼파라미터들도 여기서 전달\n",
    "            # 예: max_machine_work_time=ga_hyperparams.get('max_machine_work_time', 600),\n",
    "            #     overproduction_penalty_factor=ga_hyperparams.get('overproduction_penalty_factor', 10000000),\n",
    "            #     gene_swap_prob=ga_hyperparams.get('gene_swap_prob', 0.5)\n",
    "            # xijt_keys_list=None # __init__에서 자동 생성하도록 None 전달 (또는 필요시 특정 키 리스트 전달)\n",
    "        )\n",
    "        \n",
    "        # 3. GA 실행\n",
    "        best_solution_dict, best_score, log, _ = ga_instance.solve() # log_detail은 일단 안 받음\n",
    "        \n",
    "        all_best_solutions_refactored.append(best_solution_dict)\n",
    "        all_best_scores_refactored.append(best_score)\n",
    "        all_logs_refactored.append(log)\n",
    "        \n",
    "        # 4. best_solution_dict (생산 비율 딕셔너리)를 GT DataFrame (실제 생산량)으로 변환\n",
    "        if best_solution_dict:\n",
    "            processed_gt_rows = []\n",
    "            # dit_data는 현재 샘플에 대한 전처리 결과 사용\n",
    "            for (item_k, machine_k, time_k), ratio_val in best_solution_dict.items():\n",
    "                demand_for_item_time = dit_data.get((item_k, time_k), 0) \n",
    "                actual_qty = round(ratio_val * demand_for_item_time)\n",
    "                if actual_qty > 0:\n",
    "                   processed_gt_rows.append({'item': item_k, 'machine': machine_k, 'time': time_k, 'qty': actual_qty})\n",
    "            \n",
    "            if processed_gt_rows:\n",
    "                gt_df = pd.DataFrame(processed_gt_rows)\n",
    "                gt_df = gt_df[['item', 'machine', 'time', 'qty']].sort_values(\n",
    "                    by=['time', 'item', 'machine', 'qty']\n",
    "                ).reset_index(drop=True)\n",
    "                all_gt_dataframes_refactored.append(gt_df)\n",
    "            else:\n",
    "                all_gt_dataframes_refactored.append(pd.DataFrame(columns=['item', 'machine', 'time', 'qty']))\n",
    "        else:\n",
    "            all_gt_dataframes_refactored.append(pd.DataFrame(columns=['item', 'machine', 'time', 'qty']))\n",
    "        print(f\"  샘플 {i+1} 완료. Best Score: {best_score}\")\n",
    "\n",
    "    print(\"--- 리팩토링된 GeneticAlgorithm 클래스 실행 완료 ---\")\n",
    "    return all_best_scores_refactored, all_gt_dataframes_refactored, all_logs_refactored\n",
    "\n",
    "\n",
    "\n",
    "# 사용할 하이퍼파라미터 정의 (원래 노트북의 ga_get_gt 함수에서 사용하던 고정값 또는 set_hyper_parameters 사용)\n",
    "# 여기서는 예시로 고정값 사용\n",
    "ga_fixed_hyperparams = {\n",
    "    'n_iter': 500,\n",
    "    'n_pop': 20,\n",
    "    'r_cross': 0.4,\n",
    "    'r_mut': 0.1,\n",
    "    # GeneticAlgorithm 클래스 __init__에 추가한 다른 파라미터들도 필요하면 여기에 추가\n",
    "    # 'max_machine_work_time': 600,\n",
    "    # 'overproduction_penalty_factor': 10000000,\n",
    "    # 'gene_swap_prob': 0.5\n",
    "}\n",
    "\n",
    "ga_fixed_hyperparams_debug = {\n",
    "    'n_iter': 20,  # 예: 2세대 또는 3세대만 반복\n",
    "    'n_pop': 4,   # 예: 4~6개 정도의 작은 모집단 크기\n",
    "    'r_cross': 0.4, # 원래 값 사용 (또는 테스트 위해 1.0으로 고정해서 항상 교차 발생시켜 볼 수도 있음)\n",
    "    'r_mut': 0.1,   # 원래 값 사용 (또는 테스트 위해 0.0으로 고정해서 변이 영향 배제해 볼 수도 있음)\n",
    "    # __init__에 추가했던 다른 하이퍼파라미터들도 동일하게 설정\n",
    "    'max_machine_work_time': 600,\n",
    "    'overproduction_penalty_factor': 10000000,\n",
    "    'gene_swap_prob': 0.5 # 우리가 교차 연산자에 추가했던 확률\n",
    "}\n",
    "\n",
    "# # 리팩토링된 GA 실행 (테스트 시에만 주석 해제)\n",
    "# if temp0_test_samples:\n",
    "#     refactored_scores, refactored_gts, refactored_logs = \\\n",
    "#         run_refactored_ga_on_samples(temp0_test_samples, ga_fixed_hyperparams)\n",
    "# else:\n",
    "#     print(\"temp0_test_samples가 비어있어 리팩토링된 GA를 실행할 수 없습니다.\")"
   ]
  },
  {
   "cell_type": "code",
   "execution_count": 183,
   "id": "63b8ec0a-0581-4392-ac43-b1977a5b13fc",
   "metadata": {},
   "outputs": [
    {
     "name": "stdout",
     "output_type": "stream",
     "text": [
      "\n",
      "--- 오리지널 GA 로직 실행 시작 (총 2개 샘플) ---\n",
      "  샘플 1/2 처리 중...\n",
      "  [original_generation_xijt] 세대 0: 초기 모집단 생성됨 (크기: 72)\n",
      "  start [original_genetic_algorithm]\n",
      "  [original_generation_xijt] 세대 0: 초기 모집단 생성됨 (크기: 72)\n",
      "  [original_generation_xijt] 세대 0: 초기 모집단 생성됨 (크기: 72)\n",
      "  [original_generation_xijt] 세대 0: 초기 모집단 생성됨 (크기: 72)\n",
      "  [original_generation_xijt] 세대 0: 초기 모집단 생성됨 (크기: 72)\n",
      "0\n"
     ]
    },
    {
     "name": "stderr",
     "output_type": "stream",
     "text": [
      "100%|███████████████████████████████████████████████████████████████████████████████| 2/2 [00:00<00:00, 1299.55it/s]\n"
     ]
    },
    {
     "name": "stdout",
     "output_type": "stream",
     "text": [
      "  end [original_genetic_algorithm]\n",
      "  샘플 1 완료. Best Score: 0\n",
      "  샘플 2/2 처리 중...\n",
      "  [original_generation_xijt] 세대 0: 초기 모집단 생성됨 (크기: 320)\n",
      "  start [original_genetic_algorithm]\n",
      "  [original_generation_xijt] 세대 0: 초기 모집단 생성됨 (크기: 320)\n",
      "  [original_generation_xijt] 세대 0: 초기 모집단 생성됨 (크기: 320)\n",
      "  [original_generation_xijt] 세대 0: 초기 모집단 생성됨 (크기: 320)\n",
      "  [original_generation_xijt] 세대 0: 초기 모집단 생성됨 (크기: 320)\n",
      "50522400000000\n"
     ]
    },
    {
     "name": "stderr",
     "output_type": "stream",
     "text": [
      "100%|████████████████████████████████████████████████████████████████████████████████| 2/2 [00:00<00:00, 273.25it/s]"
     ]
    },
    {
     "name": "stdout",
     "output_type": "stream",
     "text": [
      ">best! 0, 30625002163800\n",
      ">best! 1, 13680801000000\n",
      "  end [original_genetic_algorithm]\n",
      "  샘플 2 완료. Best Score: 13680801000000\n",
      "--- 오리지널 GA 로직 실행 완료 ---\n"
     ]
    },
    {
     "name": "stderr",
     "output_type": "stream",
     "text": [
      "\n"
     ]
    }
   ],
   "source": [
    "# 노트북 셀\n",
    "\n",
    "# TODO: 이 함수를 실행하기 전에, \"오리지널 버전\"의 모든 GA 함수들이 \n",
    "#       (ga_preprocess, generation_xijt, decode, constraint_check, objective, \n",
    "#        selection, crossover, mutation, dict2list, list2dict, genetic_algorithm)\n",
    "#       현재 노트북에 정의되어 있어야 합니다! (필요시 original_ 접두사 붙여서)\n",
    "\n",
    "# 오리지널 GA 함수들이 사용할 전역 변수들을 임시로 선언 (함수 내에서 global로 다시 설정됨)\n",
    "T, I, J, cit, pit, dit, mijt = None, None, None, None, None, None, None\n",
    "xijt_keys, mijt_keys = None, None\n",
    "\n",
    "def run_original_ga_on_samples(sample_list, hyperparams_dict):\n",
    "    \"\"\"오리지널 GA 로직을 사용하여 여러 샘플에 대해 GA를 실행합니다.\"\"\"\n",
    "    global T, I, J, cit, pit, dit, mijt, xijt_keys, mijt_keys # 전역 변수 사용 명시\n",
    "\n",
    "    all_best_scores_original = []\n",
    "    all_gt_dataframes_original = []\n",
    "    all_logs_original = []\n",
    "\n",
    "    print(f\"\\n--- 오리지널 GA 로직 실행 시작 (총 {len(sample_list)}개 샘플) ---\")\n",
    "    for i, data_sample_df in enumerate(sample_list):\n",
    "        print(f\"  샘플 {i+1}/{len(sample_list)} 처리 중...\")\n",
    "\n",
    "        # 1. 오리지널 데이터 전처리 \n",
    "        #    (만약 오리지널 함수 이름을 바꿨다면, 예: original_ga_preprocess 로 호출)\n",
    "        T, I, J, cit, pit, dit, mijt = original_ga_preprocess(data_sample_df.copy()) # 원본 노트북의 ga_preprocess\n",
    "\n",
    "        # 2. 오리지널 키 초기화\n",
    "        #    (original_generation_xijt는 내부적으로 전역 dit 등을 사용)\n",
    "        temp_xijt_for_keys = original_generation_xijt() # 원본 노트북의 generation_xijt\n",
    "        xijt_keys = list(temp_xijt_for_keys.keys())\n",
    "        mijt_keys = list(mijt.keys()) \n",
    "\n",
    "        # 3. 오리지널 GA 실행\n",
    "        #    (original_genetic_algorithm은 내부적으로 전역 mijt, xijt_keys 등을 사용)\n",
    "        best_solution_dict_orig, best_score_orig, log_orig, _ = \\\n",
    "            original_genetic_algorithm( # 원본 노트북의 genetic_algorithm\n",
    "                mijt, # 이 mijt는 위에서 설정된 전역 mijt를 사용 (또는 인자로 안 넘겨도 내부에서 global 참조)\n",
    "                hyperparams_dict['n_iter'],\n",
    "                hyperparams_dict['n_pop'],\n",
    "                hyperparams_dict['r_cross'],\n",
    "                hyperparams_dict['r_mut']\n",
    "            )\n",
    "        \n",
    "        all_best_scores_original.append(best_score_orig)\n",
    "        all_logs_original.append(log_orig)\n",
    "\n",
    "        # 4. best_solution_dict_orig (생산 비율 딕셔너리)를 GT DataFrame으로 변환\n",
    "        if best_solution_dict_orig:\n",
    "            processed_gt_rows = []\n",
    "            for (item_k, machine_k, time_k), ratio_val in best_solution_dict_orig.items():\n",
    "                demand_for_item_time = dit.get((item_k, time_k), 0) # 전역 dit 사용\n",
    "                actual_qty = round(ratio_val * demand_for_item_time)\n",
    "                if actual_qty > 0:\n",
    "                   processed_gt_rows.append({'item': item_k, 'machine': machine_k, 'time': time_k, 'qty': actual_qty})\n",
    "            \n",
    "            if processed_gt_rows:\n",
    "                gt_df = pd.DataFrame(processed_gt_rows)\n",
    "                gt_df = gt_df[['item', 'machine', 'time', 'qty']].sort_values(\n",
    "                    by=['time', 'item', 'machine', 'qty']\n",
    "                ).reset_index(drop=True)\n",
    "                all_gt_dataframes_original.append(gt_df)\n",
    "            else:\n",
    "                all_gt_dataframes_original.append(pd.DataFrame(columns=['item', 'machine', 'time', 'qty']))\n",
    "        else:\n",
    "            all_gt_dataframes_original.append(pd.DataFrame(columns=['item', 'machine', 'time', 'qty']))\n",
    "        print(f\"  샘플 {i+1} 완료. Best Score: {best_score_orig}\")\n",
    "\n",
    "    print(\"--- 오리지널 GA 로직 실행 완료 ---\")\n",
    "    return all_best_scores_original, all_gt_dataframes_original, all_logs_original\n",
    "\n",
    "# # 오리지널 GA 실행 (테스트 시에만 주석 해제, 오리지널 함수들이 정의된 후에 실행!)\n",
    "if temp0_test_samples:\n",
    "    original_scores, original_gts, original_logs = \\\n",
    "        run_original_ga_on_samples(temp0_test_samples, ga_fixed_hyperparams_debug)\n",
    "    pass # 실제 실행 전 오리지널 함수 정의 필수\n",
    "else:\n",
    "    print(\"temp0_test_samples가 비어있어 오리지널 GA를 실행할 수 없습니다.\")"
   ]
  },
  {
   "cell_type": "code",
   "execution_count": 191,
   "id": "a0c4437e-6ab3-488b-a0e3-20e8cb98253a",
   "metadata": {},
   "outputs": [
    {
     "name": "stdout",
     "output_type": "stream",
     "text": [
      "\n",
      ">>> 오리지널 GA 실행 시작...\n",
      "\n",
      "--- 오리지널 GA 로직 실행 시작 (총 1개 샘플) ---\n",
      "  샘플 1/1 처리 중...\n",
      "  [original_generation_xijt] 세대 0: 초기 모집단 생성됨 (크기: 320)\n",
      "  start [original_genetic_algorithm]\n",
      "  [original_generation_xijt] 세대 0: 초기 모집단 생성됨 (크기: 320)\n",
      "  [original_generation_xijt] 세대 0: 초기 모집단 생성됨 (크기: 320)\n",
      "  [original_generation_xijt] 세대 0: 초기 모집단 생성됨 (크기: 320)\n",
      "  [original_generation_xijt] 세대 0: 초기 모집단 생성됨 (크기: 320)\n",
      "62280400000000\n"
     ]
    },
    {
     "name": "stderr",
     "output_type": "stream",
     "text": [
      "100%|██████████████████████████████████████████████████████████████████████████████| 20/20 [00:00<00:00, 293.87it/s]"
     ]
    },
    {
     "name": "stdout",
     "output_type": "stream",
     "text": [
      ">best! 0, 2469360\n",
      "  end [original_genetic_algorithm]\n",
      "  샘플 1 완료. Best Score: 2469360\n",
      "--- 오리지널 GA 로직 실행 완료 ---\n",
      "\n",
      ">>> 리팩토링된 GA 클래스 실행 시작...\n",
      "\\n--- 리팩토링된 GeneticAlgorithm 클래스 실행 시작 (총 1개 샘플) ---\n",
      "샘플 1/1 처리 중...\n",
      "  [solve] 세대 0: 초기 모집단 생성됨 (크기: 4)\n",
      "  [solve] 세대 0: 단일 염색체 크기: 320)\n",
      "\n",
      "  [solve] --- 세대 1 시작 ---\n",
      "    [solve] 세대 1: 점수 계산 완료 - Scores: [73162200000000.0, 103143200000000.0, 79328800000000.0, 38423400000000.0]\n",
      "    [solve] 세대 1: 선택 연산 후 모집단 크기: 4\n",
      "    [solve] 세대 1: 자식 세대 생성 완료 (자식 수: 4)\n",
      "    [solve] 세대 1: 다음 세대 모집단 구성 완료 (크기: 4)\n",
      "  [solve] --- 세대 1 종료 (Best Score: 38423400000000.0) ---\n",
      "\n",
      "  [solve] --- 세대 2 시작 ---\n",
      "    [solve] 세대 2: 점수 계산 완료 - Scores: [66607400000000.0, 8079400000000.0, 8871400000000.0, 2819000.0]\n",
      "    [solve] 세대 2: 선택 연산 후 모집단 크기: 4\n",
      "    [solve] 세대 2: 자식 세대 생성 완료 (자식 수: 4)\n",
      "    [solve] 세대 2: 다음 세대 모집단 구성 완료 (크기: 4)\n",
      "  [solve] --- 세대 2 종료 (Best Score: 2819000.0) ---\n",
      "\n",
      "  [solve] --- 세대 3 시작 ---\n",
      "    [solve] 세대 3: 점수 계산 완료 - Scores: [49394400000000.0, 22638800000000.0, 85500800000000.0, 40810600000000.0]\n",
      "    [solve] 세대 3: 선택 연산 후 모집단 크기: 4\n",
      "    [solve] 세대 3: 자식 세대 생성 완료 (자식 수: 4)\n",
      "    [solve] 세대 3: 다음 세대 모집단 구성 완료 (크기: 4)\n",
      "  [solve] --- 세대 3 종료 (Best Score: 2819000.0) ---\n",
      "\n",
      "  [solve] --- 세대 4 시작 ---\n",
      "    [solve] 세대 4: 점수 계산 완료 - Scores: [88082800000000.0, 74659800000000.0, 86252200000000.0, 82601000000000.0]\n",
      "    [solve] 세대 4: 선택 연산 후 모집단 크기: 4\n",
      "    [solve] 세대 4: 자식 세대 생성 완료 (자식 수: 4)\n",
      "    [solve] 세대 4: 다음 세대 모집단 구성 완료 (크기: 4)\n",
      "  [solve] --- 세대 4 종료 (Best Score: 2819000.0) ---\n",
      "\n",
      "  [solve] --- 세대 5 시작 ---\n",
      "    [solve] 세대 5: 점수 계산 완료 - Scores: [33078800000000.0, 23173600550000.0, 31968400975000.0, 67372400000000.0]\n",
      "    [solve] 세대 5: 선택 연산 후 모집단 크기: 4\n",
      "    [solve] 세대 5: 자식 세대 생성 완료 (자식 수: 4)\n",
      "    [solve] 세대 5: 다음 세대 모집단 구성 완료 (크기: 4)\n",
      "  [solve] --- 세대 5 종료 (Best Score: 2819000.0) ---\n",
      "\n",
      "  [solve] --- 세대 6 시작 ---\n",
      "    [solve] 세대 6: 점수 계산 완료 - Scores: [72183000000000.0, 62288800000000.0, 73719600000000.0, 88277800000000.0]\n",
      "    [solve] 세대 6: 선택 연산 후 모집단 크기: 4\n",
      "    [solve] 세대 6: 자식 세대 생성 완료 (자식 수: 4)\n",
      "    [solve] 세대 6: 다음 세대 모집단 구성 완료 (크기: 4)\n",
      "  [solve] --- 세대 6 종료 (Best Score: 2819000.0) ---\n",
      "\n",
      "  [solve] --- 세대 7 시작 ---\n",
      "    [solve] 세대 7: 점수 계산 완료 - Scores: [52778400000000.0, 6840401412500.0, 17500002526760.0, 25875002415080.0]\n",
      "    [solve] 세대 7: 선택 연산 후 모집단 크기: 4\n",
      "    [solve] 세대 7: 자식 세대 생성 완료 (자식 수: 4)\n",
      "    [solve] 세대 7: 다음 세대 모집단 구성 완료 (크기: 4)\n",
      "  [solve] --- 세대 7 종료 (Best Score: 2819000.0) ---\n",
      "\n",
      "  [solve] --- 세대 8 시작 ---\n",
      "    [solve] 세대 8: 점수 계산 완료 - Scores: [76367000000000.0, 23781200000000.0, 39660800000000.0, 71894000050000.0]\n",
      "    [solve] 세대 8: 선택 연산 후 모집단 크기: 4\n",
      "    [solve] 세대 8: 자식 세대 생성 완료 (자식 수: 4)\n",
      "    [solve] 세대 8: 다음 세대 모집단 구성 완료 (크기: 4)\n",
      "  [solve] --- 세대 8 종료 (Best Score: 2819000.0) ---\n",
      "\n",
      "  [solve] --- 세대 9 시작 ---\n",
      "    [solve] 세대 9: 점수 계산 완료 - Scores: [26765600000000.0, 59258800000000.0, 92706000000000.0, 61833600000000.0]\n",
      "    [solve] 세대 9: 선택 연산 후 모집단 크기: 4\n",
      "    [solve] 세대 9: 자식 세대 생성 완료 (자식 수: 4)\n",
      "    [solve] 세대 9: 다음 세대 모집단 구성 완료 (크기: 4)\n",
      "  [solve] --- 세대 9 종료 (Best Score: 2819000.0) ---\n",
      "\n",
      "  [solve] --- 세대 10 시작 ---\n",
      "    [solve] 세대 10: 점수 계산 완료 - Scores: [31379600000000.0, 69216800000000.0, 30712000012500.0, 1224280.0]\n",
      "    [solve] 세대 10: 선택 연산 후 모집단 크기: 4\n",
      "    [solve] 세대 10: 자식 세대 생성 완료 (자식 수: 4)\n",
      "    [solve] 세대 10: 다음 세대 모집단 구성 완료 (크기: 4)\n",
      "  [solve] --- 세대 10 종료 (Best Score: 1224280.0) ---\n",
      "\n",
      "  [solve] --- 세대 11 시작 ---\n",
      "    [solve] 세대 11: 점수 계산 완료 - Scores: [35754800000000.0, 1878940.0, 60596400000000.0, 98921000000000.0]\n",
      "    [solve] 세대 11: 선택 연산 후 모집단 크기: 4\n",
      "    [solve] 세대 11: 자식 세대 생성 완료 (자식 수: 4)\n",
      "    [solve] 세대 11: 다음 세대 모집단 구성 완료 (크기: 4)\n",
      "  [solve] --- 세대 11 종료 (Best Score: 1224280.0) ---\n",
      "\n",
      "  [solve] --- 세대 12 시작 ---\n",
      "    [solve] 세대 12: 점수 계산 완료 - Scores: [73962800000000.0, 6421600062500.0, 87383800000000.0, 103484400000000.0]\n",
      "    [solve] 세대 12: 선택 연산 후 모집단 크기: 4\n",
      "    [solve] 세대 12: 자식 세대 생성 완료 (자식 수: 4)\n",
      "    [solve] 세대 12: 다음 세대 모집단 구성 완료 (크기: 4)\n",
      "  [solve] --- 세대 12 종료 (Best Score: 1224280.0) ---\n",
      "\n",
      "  [solve] --- 세대 13 시작 ---\n",
      "    [solve] 세대 13: 점수 계산 완료 - Scores: [12125000432760.0, 65241200000000.0, 8500000251280.0, 33733600000000.0]\n",
      "    [solve] 세대 13: 선택 연산 후 모집단 크기: 4\n",
      "    [solve] 세대 13: 자식 세대 생성 완료 (자식 수: 4)\n",
      "    [solve] 세대 13: 다음 세대 모집단 구성 완료 (크기: 4)\n",
      "  [solve] --- 세대 13 종료 (Best Score: 1224280.0) ---\n",
      "\n",
      "  [solve] --- 세대 14 시작 ---\n",
      "    [solve] 세대 14: 점수 계산 완료 - Scores: [87737000000000.0, 94050800000000.0, 56232000000000.0, 38250000027920.0]\n",
      "    [solve] 세대 14: 선택 연산 후 모집단 크기: 4\n",
      "    [solve] 세대 14: 자식 세대 생성 완료 (자식 수: 4)\n",
      "    [solve] 세대 14: 다음 세대 모집단 구성 완료 (크기: 4)\n",
      "  [solve] --- 세대 14 종료 (Best Score: 1224280.0) ---\n",
      "\n",
      "  [solve] --- 세대 15 시작 ---\n",
      "    [solve] 세대 15: 점수 계산 완료 - Scores: [62054000000000.0, 1804380.0, 53178200000000.0, 250000907400.0]\n",
      "    [solve] 세대 15: 선택 연산 후 모집단 크기: 4\n",
      "    [solve] 세대 15: 자식 세대 생성 완료 (자식 수: 4)\n",
      "    [solve] 세대 15: 다음 세대 모집단 구성 완료 (크기: 4)\n",
      "  [solve] --- 세대 15 종료 (Best Score: 1224280.0) ---\n",
      "\n",
      "  [solve] --- 세대 16 시작 ---\n",
      "    [solve] 세대 16: 점수 계산 완료 - Scores: [76143600000000.0, 904200000000.0, 73410000000000.0, 96856600000000.0]\n",
      "    [solve] 세대 16: 선택 연산 후 모집단 크기: 4\n",
      "    [solve] 세대 16: 자식 세대 생성 완료 (자식 수: 4)\n",
      "    [solve] 세대 16: 다음 세대 모집단 구성 완료 (크기: 4)\n",
      "  [solve] --- 세대 16 종료 (Best Score: 1224280.0) ---\n",
      "\n",
      "  [solve] --- 세대 17 시작 ---\n",
      "    [solve] 세대 17: 점수 계산 완료 - Scores: [547720.0, 83098400000000.0, 59533000000000.0, 65946800000000.0]\n",
      "    [solve] 세대 17: 선택 연산 후 모집단 크기: 4\n",
      "    [solve] 세대 17: 자식 세대 생성 완료 (자식 수: 4)\n",
      "    [solve] 세대 17: 다음 세대 모집단 구성 완료 (크기: 4)\n",
      "  [solve] --- 세대 17 종료 (Best Score: 547720.0) ---\n",
      "\n",
      "  [solve] --- 세대 18 시작 ---\n",
      "    [solve] 세대 18: 점수 계산 완료 - Scores: [74262600000000.0, 94829000000000.0, 69094400000000.0, 88513200000000.0]\n",
      "    [solve] 세대 18: 선택 연산 후 모집단 크기: 4\n",
      "    [solve] 세대 18: 자식 세대 생성 완료 (자식 수: 4)\n",
      "    [solve] 세대 18: 다음 세대 모집단 구성 완료 (크기: 4)\n",
      "  [solve] --- 세대 18 종료 (Best Score: 547720.0) ---\n",
      "\n",
      "  [solve] --- 세대 19 시작 ---\n",
      "    [solve] 세대 19: 점수 계산 완료 - Scores: [33962800000000.0, 20125000698000.0, 52921800000000.0, 45302400000000.0]\n",
      "    [solve] 세대 19: 선택 연산 후 모집단 크기: 4\n",
      "    [solve] 세대 19: 자식 세대 생성 완료 (자식 수: 4)\n",
      "    [solve] 세대 19: 다음 세대 모집단 구성 완료 (크기: 4)\n",
      "  [solve] --- 세대 19 종료 (Best Score: 547720.0) ---\n",
      "\n",
      "  [solve] --- 세대 20 시작 ---\n",
      "    [solve] 세대 20: 점수 계산 완료 - Scores: [48860600000000.0, 40273000000000.0, 86691601525000.0, 48146200000000.0]\n",
      "    [solve] 세대 20: 선택 연산 후 모집단 크기: 4\n",
      "    [solve] 세대 20: 자식 세대 생성 완료 (자식 수: 4)\n",
      "    [solve] 세대 20: 다음 세대 모집단 구성 완료 (크기: 4)\n",
      "  [solve] --- 세대 20 종료 (Best Score: 547720.0) ---\n",
      "  샘플 1 완료. Best Score: 547720.0\n",
      "--- 리팩토링된 GeneticAlgorithm 클래스 실행 완료 ---\n",
      "\n",
      "\n",
      "=== 최종 결과 비교 (랜덤 시드 적용 후) ===\n",
      "\n",
      "--- 샘플 1 결과 비교 ---\n",
      "  리팩토링된 Best Score: 547720.0\n",
      "  오리지널 Best Score  : 2469360\n",
      "  점수 차이: 1921640.0\n",
      "  WARNING: 점수 차이가 있습니다!\n",
      "\n",
      "  리팩토링된 GT DataFrame (상위 3개):\n",
      "     item    machine     time  qty\n",
      "0  item77  machine08  date174  134\n",
      "1  item77  machine09  date174  191\n",
      "2  item77  machine10  date174   17\n",
      "  오리지널 GT DataFrame (상위 3개):\n",
      "     item    machine     time  qty\n",
      "0  item77  machine08  date174   14\n",
      "1  item77  machine10  date174   26\n",
      "2  item77  machine22  date174  118\n",
      "\n",
      "  >> WARNING: GT DataFrame 내용 불일치! <<\n"
     ]
    },
    {
     "name": "stderr",
     "output_type": "stream",
     "text": [
      "\n"
     ]
    }
   ],
   "source": [
    "# 노트북 셀\n",
    "\n",
    "# --- 리팩토링된 GA 실행 ---\n",
    "if 'temp0_test_samples' in globals() and temp0_test_samples:\n",
    "    # --- 1. 오리지널 GA 로직 실행 ---\n",
    "    print(\"\\n>>> 오리지널 GA 실행 시작...\")\n",
    "    random.seed(SEED_VALUE)\n",
    "    np.random.seed(SEED_VALUE) # 만약 오리지널 코드에서 np.random을 사용했다면\n",
    "\n",
    "    # TODO: 아래 original_ga_functions_loaded 플래그는 네가 실제로 오리지널 GA 함수들을 \n",
    "    #       현재 노트북 세션에 로드했는지 확인하는 용도의 가상 플래그야. 실제로는 다른 방식으로 확인해야 해.\n",
    "    original_ga_functions_loaded = True # True라고 가정. 실제로는 함수 정의 여부 확인 필요.\n",
    "\n",
    "    if original_ga_functions_loaded:\n",
    "        # 이전 답변에서 정의했던 run_original_ga_on_samples 함수 호출\n",
    "        original_scores, original_gts, original_logs = \\\n",
    "            run_original_ga_on_samples(temp0_test_samples[1:2], ga_fixed_hyperparams_debug)\n",
    "    else:\n",
    "        print(\"오리지널 GA 함수들이 로드되지 않아 실행할 수 없습니다.\")\n",
    "        original_scores, original_gts, original_logs = [None]*len(temp0_test_samples), [None]*len(temp0_test_samples), [None]*len(temp0_test_samples)\n",
    "\n",
    "    # --- 2. 리팩토링된 GeneticAlgorithm 클래스 실행 ---\n",
    "    print(\"\\n>>> 리팩토링된 GA 클래스 실행 시작...\")\n",
    "    random.seed(SEED_VALUE) # 오리지널 실행과 동일한 시드 값으로 다시 설정!\n",
    "    np.random.seed(SEED_VALUE) # 오리지널 실행과 동일한 시드 값으로 다시 설정!\n",
    "\n",
    "    # 이전 답변에서 정의했던 run_refactored_ga_on_samples 함수 호출\n",
    "    refactored_scores, refactored_gts, refactored_logs = \\\n",
    "        run_refactored_ga_on_samples(temp0_test_samples[1:2], ga_fixed_hyperparams_debug)\n",
    "\n",
    "    # --- 3. 결과 비교 ---\n",
    "    print(\"\\n\\n=== 최종 결과 비교 (랜덤 시드 적용 후) ===\")\n",
    "    num_samples_compared = len(refactored_scores)\n",
    "    for i in range(num_samples_compared):\n",
    "        print(f\"\\n--- 샘플 {i+1} 결과 비교 ---\")\n",
    "        \n",
    "        orig_score = original_scores[i] if original_scores and i < len(original_scores) else \"N/A\"\n",
    "        refac_score = refactored_scores[i] if refactored_scores and i < len(refactored_scores) else \"N/A\"\n",
    "        \n",
    "        print(f\"  리팩토링된 Best Score: {refac_score}\")\n",
    "        print(f\"  오리지널 Best Score  : {orig_score}\")\n",
    "\n",
    "        if orig_score != \"N/A\" and refac_score != \"N/A\":\n",
    "            score_diff = abs(refac_score - orig_score)\n",
    "            print(f\"  점수 차이: {score_diff}\")\n",
    "            if score_diff > 1e-6: # 아주 작은 부동소수점 차이는 허용\n",
    "                 print(\"  WARNING: 점수 차이가 있습니다!\")\n",
    "            else:\n",
    "                 print(\"  점수 일치! (또는 매우 유사)\")\n",
    "        else:\n",
    "            print(\"  점수 비교 불가 (데이터 없음)\")\n",
    "\n",
    "        # GT DataFrame 비교 로직 (이전과 동일)\n",
    "        print(\"\\n  리팩토링된 GT DataFrame (상위 3개):\")\n",
    "        if i < len(refactored_gts) and refactored_gts[i] is not None and not refactored_gts[i].empty:\n",
    "            print(refactored_gts[i].head(3))\n",
    "        else:\n",
    "            print(\"    (데이터 없음)\")\n",
    "\n",
    "        print(\"  오리지널 GT DataFrame (상위 3개):\")\n",
    "        if i < len(original_gts) and original_gts[i] is not None and not original_gts[i].empty:\n",
    "            print(original_gts[i].head(3))\n",
    "        else:\n",
    "            print(\"    (데이터 없음)\")\n",
    "            \n",
    "        if i < len(refactored_gts) and i < len(original_gts) and \\\n",
    "           refactored_gts[i] is not None and original_gts[i] is not None:\n",
    "            if refactored_gts[i].equals(original_gts[i]):\n",
    "                print(\"\\n  >> GT DataFrame 내용 완전 일치! <<\")\n",
    "            else:\n",
    "                print(\"\\n  >> WARNING: GT DataFrame 내용 불일치! <<\")\n",
    "else:\n",
    "    print(\"temp0_test_samples가 준비되지 않아 비교 테스트를 실행할 수 없습니다.\")"
   ]
  },
  {
   "cell_type": "markdown",
   "id": "d99c4a75-6a91-48c8-bebc-05a82fbbc953",
   "metadata": {},
   "source": [
    "### _check_constraints 함수/메소드 결과 비교"
   ]
  },
  {
   "cell_type": "code",
   "execution_count": 163,
   "id": "5d1783f7-8c40-484d-85dc-60f3e4a63d80",
   "metadata": {},
   "outputs": [
    {
     "name": "stdout",
     "output_type": "stream",
     "text": [
      "--- 디버깅용 데이터 샘플 준비 완료 ---\n",
      "\n",
      "--- 공통 데이터 전처리 중 (ga_util.preprocess_ga_inputs_dense 사용) ---\n",
      "공통 전처리 데이터 생성 완료.\n",
      "\n",
      "--- 테스트용 샘플 염색체 생성 중 ---\n",
      "\n",
      "--- 오리지널 constraint_check 함수 실행 ---\n",
      "\n",
      "--- 리팩토링된 _check_constraints 메소드 실행 ---\n",
      "\n",
      "--- _check_constraints 결과 비교 ---\n",
      "  >> _check_constraints 결과 일치! <<\n"
     ]
    }
   ],
   "source": [
    "# 노트북 셀\n",
    "\n",
    "# --- 테스트할 데이터 샘플 선택 (예: 샘플 2가 문제였으니, 인덱스 1 사용) ---\n",
    "if 'temp0_test_samples' in globals() and len(temp0_test_samples) > 1:\n",
    "    data_sample_for_debug = temp0_test_samples[1].copy() # 샘플 2 (인덱스 1) 사용\n",
    "    print(\"--- 디버깅용 데이터 샘플 준비 완료 ---\")\n",
    "else:\n",
    "    print(\"오류: 디버깅용 테스트 샘플을 준비할 수 없습니다. temp0_test_samples를 확인해주세요.\")\n",
    "    data_sample_for_debug = None\n",
    "\n",
    "if data_sample_for_debug is not None:\n",
    "    # --- 1. 두 방식 모두에 사용할 동일한 전처리 데이터 생성 ---\n",
    "    print(\"\\n--- 공통 데이터 전처리 중 (ga_util.preprocess_ga_inputs_dense 사용) ---\")\n",
    "    # T_common, I_common, ... 변수명으로 저장해서 양쪽 모두에서 사용\n",
    "    T_common, I_common, J_common, cit_common, pit_common, dit_common, mijt_common = \\\n",
    "        ga_util.preprocess_ga_inputs_dense(data_sample_for_debug)\n",
    "    print(\"공통 전처리 데이터 생성 완료.\")\n",
    "\n",
    "    # --- 2. 테스트에 사용할 동일한 샘플 염색체(xijt) 생성 ---\n",
    "    #     (리팩토링된 GA 클래스의 _generate_initial_solution을 사용하여 하나 생성)\n",
    "    #     이때 GA 인스턴스는 위에서 만든 공통 전처리 데이터로 초기화해야 함.\n",
    "    print(\"\\n--- 테스트용 샘플 염색체 생성 중 ---\")\n",
    "    temp_ga_instance_for_chromosome_generation = GeneticAlgorithm(\n",
    "        T_set=T_common, I_set=I_common, J_set=J_common,\n",
    "        cit_data=cit_common, pit_data=pit_common, dit_data=dit_common, mijt_data=mijt_common,\n",
    "        n_pop=ga_fixed_hyperparams['n_pop'], \n",
    "        n_iter=ga_fixed_hyperparams['n_iter'],\n",
    "        r_cross=ga_fixed_hyperparams['r_cross'],\n",
    "        r_mut=ga_fixed_hyperparams['r_mut']\n",
    "        # max_machine_work_time 등 __init__의 다른 기본값 사용\n",
    "    )\n",
    "    sample_xijt_for_test = temp_ga_instance_for_chromosome_generation._generate_initial_solution()\n",
    "    # print(\"생성된 샘플 염색체 (일부):\", list(sample_xijt_for_test.items())[:3])\n",
    "\n",
    "\n",
    "    # --- 3. 오리지널 constraint_check 함수 실행 ---\n",
    "    print(\"\\n--- 오리지널 constraint_check 함수 실행 ---\")\n",
    "    # 오리지널 함수가 사용할 전역 변수들을 공통 전처리 데이터로 설정\n",
    "    # (주의: 실제 오리지널 함수가 이 변수들을 어떻게 참조했는지에 따라 정확히 맞춰야 함)\n",
    "    # TODO: 아래 original_constraint_check 및 전역 변수 설정 부분은 \n",
    "    #       네 오리지널 코드의 실제 함수 이름과 작동 방식에 맞게 수정해야 해!\n",
    "    T, I, J, dit, mijt = T_common, I_common, J_common, dit_common, mijt_common \n",
    "    # xijt_keys, mijt_keys 등 오리지널 constraint_check가 필요로 했던 다른 전역변수도 여기서 설정 필요할 수 있음\n",
    "\n",
    "    # 오리지널 constraint_check 함수 호출 (이름을 original_constraint_check로 바꿨다고 가정)\n",
    "    try:\n",
    "        constrained_xijt_orig = original_constraint_check(sample_xijt_for_test.copy())\n",
    "        # print(\"오리지널 constraint_check 결과 (일부):\", list(constrained_xijt_orig.items())[:3])\n",
    "        # print(\"TODO: 'original_constraint_check' 함수를 실제 이름으로 바꾸고 주석 해제하여 실행하세요.\")\n",
    "        # constrained_xijt_orig = None # 임시\n",
    "    except NameError as e:\n",
    "        print(f\"오류: 오리지널 함수(예: original_constraint_check)가 정의되지 않았습니다. {e}\")\n",
    "        constrained_xijt_orig = None\n",
    "\n",
    "\n",
    "    # --- 4. 리팩토링된 _check_constraints 메소드 실행 ---\n",
    "    print(\"\\n--- 리팩토링된 _check_constraints 메소드 실행 ---\")\n",
    "    # ga_instance는 위에서 temp_ga_instance_for_chromosome_generation 와 동일한 설정으로 만들어도 되고,\n",
    "    # 아니면 run_refactored_ga_on_samples에서 사용하던 방식으로 새로 만들어도 됨.\n",
    "    # 여기서는 이미 만들어둔 temp_ga_instance_for_chromosome_generation를 재활용.\n",
    "    # (max_machine_work_time은 __init__ 기본값 600 사용)\n",
    "    ga_instance_refactored = temp_ga_instance_for_chromosome_generation \n",
    "    constrained_xijt_refac = ga_instance_refactored._check_constraints(sample_xijt_for_test.copy())\n",
    "    # print(\"리팩토링된 _check_constraints 결과 (일부):\", list(constrained_xijt_refac.items())[:3])\n",
    "\n",
    "\n",
    "    # --- 5. 결과 비교 ---\n",
    "    print(\"\\n--- _check_constraints 결과 비교 ---\")\n",
    "    if constrained_xijt_orig is not None and constrained_xijt_refac is not None:\n",
    "        if constrained_xijt_orig == constrained_xijt_refac:\n",
    "            print(\"  >> _check_constraints 결과 일치! <<\")\n",
    "        else:\n",
    "            print(\"  >> WARNING: _check_constraints 결과 불일치! <<\")\n",
    "            # 어떤 부분이 다른지 자세히 보려면:\n",
    "            # for key in constrained_xijt_orig:\n",
    "            #     if constrained_xijt_orig.get(key) != constrained_xijt_refac.get(key):\n",
    "            #         print(f\"    키 {key} 에서 값 불일치: 오리지널={constrained_xijt_orig.get(key)}, 리팩토링={constrained_xijt_refac.get(key)}\")\n",
    "            # for key in constrained_xijt_refac:\n",
    "            #     if key not in constrained_xijt_orig:\n",
    "            #         print(f\"    키 {key} 가 오리지널에는 없음 (리팩토링 값: {constrained_xijt_refac.get(key)})\")\n",
    "            # (더 정교한 비교 로직 추가 가능)\n",
    "            print(f\"  오리지널 결과 크기: {len(constrained_xijt_orig)}, 리팩토링 결과 크기: {len(constrained_xijt_refac)}\")\n",
    "    else:\n",
    "        print(\"  결과 중 하나가 None이어서 비교할 수 없습니다.\")\n",
    "\n",
    "else:\n",
    "    print(\"디버깅용 데이터 샘플이 준비되지 않아 테스트를 진행할 수 없습니다.\")"
   ]
  },
  {
   "cell_type": "code",
   "execution_count": 45,
   "id": "69918310",
   "metadata": {},
   "outputs": [
    {
     "data": {
      "text/plain": [
       "array([ 68,   6,  77,  91,  29,  10,  58, 109,   0, 111])"
      ]
     },
     "execution_count": 45,
     "metadata": {},
     "output_type": "execute_result"
    }
   ],
   "source": [
    "rng = np.random.RandomState(seed=20250526)\n",
    "random_ls = rng.choice(a=len(dataset_for_ga), size=(10, ))\n",
    "random_ls"
   ]
  },
  {
   "cell_type": "code",
   "execution_count": 46,
   "id": "448e999f",
   "metadata": {},
   "outputs": [
    {
     "name": "stdout",
     "output_type": "stream",
     "text": [
      "index_1\n",
      "98438936727192\n"
     ]
    },
    {
     "name": "stderr",
     "output_type": "stream",
     "text": [
      "  1%|          | 3/500 [00:00<00:21, 23.55it/s]"
     ]
    },
    {
     "name": "stdout",
     "output_type": "stream",
     "text": [
      ">best! 0, 82356236727192\n",
      ">best! 2, 69300018570977\n",
      ">best! 4, 69280017466854\n"
     ]
    },
    {
     "name": "stderr",
     "output_type": "stream",
     "text": [
      "  2%|▏         | 9/500 [00:00<00:19, 25.09it/s]"
     ]
    },
    {
     "name": "stdout",
     "output_type": "stream",
     "text": [
      ">best! 5, 62745019513356\n",
      ">best! 6, 58025024348170\n",
      ">best! 8, 52200016897111\n"
     ]
    },
    {
     "name": "stderr",
     "output_type": "stream",
     "text": [
      "  4%|▎         | 18/500 [00:00<00:23, 20.31it/s]"
     ]
    },
    {
     "name": "stdout",
     "output_type": "stream",
     "text": [
      ">best! 16, 37700019718221\n"
     ]
    },
    {
     "name": "stderr",
     "output_type": "stream",
     "text": [
      "  6%|▌         | 28/500 [00:01<00:27, 17.39it/s]"
     ]
    },
    {
     "name": "stdout",
     "output_type": "stream",
     "text": [
      ">best! 26, 26050017792490\n"
     ]
    },
    {
     "name": "stderr",
     "output_type": "stream",
     "text": [
      " 11%|█         | 55/500 [00:02<00:19, 22.52it/s]"
     ]
    },
    {
     "name": "stdout",
     "output_type": "stream",
     "text": [
      ">best! 51, 4775019062653\n"
     ]
    },
    {
     "name": "stderr",
     "output_type": "stream",
     "text": [
      " 18%|█▊        | 90/500 [00:04<00:19, 21.57it/s]"
     ]
    },
    {
     "name": "stdout",
     "output_type": "stream",
     "text": [
      ">best! 87, 23040750\n"
     ]
    },
    {
     "name": "stderr",
     "output_type": "stream",
     "text": [
      " 58%|█████▊    | 288/500 [00:13<00:09, 22.10it/s]\n",
      "/tmp/ipykernel_257810/669356985.py:278: FutureWarning: Setting an item of incompatible dtype is deprecated and will raise an error in a future version of pandas. Value '0:00:13.042914' has dtype incompatible with float64, please explicitly cast to a compatible dtype first.\n",
      "  hyper_parameters.loc[i, 'time'] = elapsed_time\n"
     ]
    },
    {
     "name": "stdout",
     "output_type": "stream",
     "text": [
      "stop\n",
      "index_2\n",
      "100135023774548\n"
     ]
    },
    {
     "name": "stderr",
     "output_type": "stream",
     "text": [
      "  0%|          | 2/500 [00:00<00:35, 13.90it/s]"
     ]
    },
    {
     "name": "stdout",
     "output_type": "stream",
     "text": [
      ">best! 0, 65400021581810\n",
      ">best! 2, 65195020250870\n"
     ]
    },
    {
     "name": "stderr",
     "output_type": "stream",
     "text": [
      "  2%|▏         | 8/500 [00:00<00:33, 14.58it/s]"
     ]
    },
    {
     "name": "stdout",
     "output_type": "stream",
     "text": [
      ">best! 5, 62325024675954\n",
      ">best! 7, 60600026766291\n",
      ">best! 7, 28800018140787\n"
     ]
    },
    {
     "name": "stderr",
     "output_type": "stream",
     "text": [
      "  4%|▍         | 20/500 [00:01<00:58,  8.19it/s]"
     ]
    },
    {
     "name": "stdout",
     "output_type": "stream",
     "text": [
      ">best! 19, 25638936727192\n"
     ]
    },
    {
     "name": "stderr",
     "output_type": "stream",
     "text": [
      "  6%|▌         | 30/500 [00:02<00:39, 11.90it/s]"
     ]
    },
    {
     "name": "stdout",
     "output_type": "stream",
     "text": [
      ">best! 27, 20620019226545\n",
      ">best! 27, 16200022736451\n"
     ]
    },
    {
     "name": "stderr",
     "output_type": "stream",
     "text": [
      " 34%|███▍      | 171/500 [00:16<00:20, 16.34it/s]"
     ]
    },
    {
     "name": "stdout",
     "output_type": "stream",
     "text": [
      ">best! 168, 3760016252269\n"
     ]
    },
    {
     "name": "stderr",
     "output_type": "stream",
     "text": [
      " 74%|███████▍  | 369/500 [00:29<00:10, 12.50it/s]\n"
     ]
    },
    {
     "name": "stdout",
     "output_type": "stream",
     "text": [
      "stop\n",
      "index_3\n",
      "163475166727192\n"
     ]
    },
    {
     "name": "stderr",
     "output_type": "stream",
     "text": [
      "  0%|          | 0/500 [00:00<?, ?it/s]"
     ]
    },
    {
     "name": "stdout",
     "output_type": "stream",
     "text": [
      ">best! 0, 143665020660600\n",
      ">best! 0, 89135020701573\n",
      ">best! 0, 49200020766099\n"
     ]
    },
    {
     "name": "stderr",
     "output_type": "stream",
     "text": [
      "  0%|          | 1/500 [00:00<01:53,  4.38it/s]"
     ]
    },
    {
     "name": "stdout",
     "output_type": "stream",
     "text": [
      ">best! 1, 48600020470829\n"
     ]
    },
    {
     "name": "stderr",
     "output_type": "stream",
     "text": [
      "  1%|          | 6/500 [00:01<01:15,  6.51it/s]"
     ]
    },
    {
     "name": "stdout",
     "output_type": "stream",
     "text": [
      ">best! 5, 43200022282655\n"
     ]
    },
    {
     "name": "stderr",
     "output_type": "stream",
     "text": [
      "  2%|▏         | 9/500 [00:01<01:12,  6.77it/s]"
     ]
    },
    {
     "name": "stdout",
     "output_type": "stream",
     "text": [
      ">best! 8, 40800019258504\n",
      ">best! 9, 39000021796398\n"
     ]
    },
    {
     "name": "stderr",
     "output_type": "stream",
     "text": [
      "  2%|▏         | 11/500 [00:01<01:10,  6.93it/s]"
     ]
    },
    {
     "name": "stdout",
     "output_type": "stream",
     "text": [
      ">best! 10, 35400015565566\n"
     ]
    },
    {
     "name": "stderr",
     "output_type": "stream",
     "text": [
      "  3%|▎         | 16/500 [00:02<01:24,  5.73it/s]"
     ]
    },
    {
     "name": "stdout",
     "output_type": "stream",
     "text": [
      ">best! 15, 34609747526192\n"
     ]
    },
    {
     "name": "stderr",
     "output_type": "stream",
     "text": [
      "  4%|▍         | 21/500 [00:03<01:39,  4.79it/s]"
     ]
    },
    {
     "name": "stdout",
     "output_type": "stream",
     "text": [
      ">best! 20, 29400021631951\n"
     ]
    },
    {
     "name": "stderr",
     "output_type": "stream",
     "text": [
      "  4%|▍         | 22/500 [00:03<01:31,  5.23it/s]"
     ]
    },
    {
     "name": "stdout",
     "output_type": "stream",
     "text": [
      ">best! 21, 27600021098694\n"
     ]
    },
    {
     "name": "stderr",
     "output_type": "stream",
     "text": [
      "  9%|▉         | 45/500 [00:08<01:23,  5.47it/s]"
     ]
    },
    {
     "name": "stdout",
     "output_type": "stream",
     "text": [
      ">best! 45, 4200021277627\n"
     ]
    },
    {
     "name": "stderr",
     "output_type": "stream",
     "text": [
      " 49%|████▉     | 246/500 [00:44<00:45,  5.59it/s]\n"
     ]
    },
    {
     "name": "stdout",
     "output_type": "stream",
     "text": [
      "stop\n",
      "index_4\n",
      "121830020250870\n"
     ]
    },
    {
     "name": "stderr",
     "output_type": "stream",
     "text": [
      "  0%|          | 2/500 [00:00<00:29, 16.60it/s]"
     ]
    },
    {
     "name": "stdout",
     "output_type": "stream",
     "text": [
      ">best! 0, 110875024921792\n",
      ">best! 0, 64829209570692\n",
      ">best! 0, 42315019390437\n"
     ]
    },
    {
     "name": "stderr",
     "output_type": "stream",
     "text": [
      "  1%|          | 6/500 [00:00<00:28, 17.13it/s]"
     ]
    },
    {
     "name": "stdout",
     "output_type": "stream",
     "text": [
      ">best! 4, 34200023646210\n"
     ]
    },
    {
     "name": "stderr",
     "output_type": "stream",
     "text": [
      "  3%|▎         | 14/500 [00:00<00:27, 17.55it/s]"
     ]
    },
    {
     "name": "stdout",
     "output_type": "stream",
     "text": [
      ">best! 12, 31010018284166\n"
     ]
    },
    {
     "name": "stderr",
     "output_type": "stream",
     "text": [
      " 11%|█         | 54/500 [00:03<00:25, 17.56it/s]"
     ]
    },
    {
     "name": "stdout",
     "output_type": "stream",
     "text": [
      ">best! 51, 28800020960073\n"
     ]
    },
    {
     "name": "stderr",
     "output_type": "stream",
     "text": [
      " 13%|█▎        | 66/500 [00:04<00:24, 17.72it/s]"
     ]
    },
    {
     "name": "stdout",
     "output_type": "stream",
     "text": [
      ">best! 64, 27575019923086\n",
      ">best! 64, 25800019601329\n"
     ]
    },
    {
     "name": "stderr",
     "output_type": "stream",
     "text": [
      " 16%|█▌        | 80/500 [00:05<00:27, 15.05it/s]"
     ]
    },
    {
     "name": "stdout",
     "output_type": "stream",
     "text": [
      ">best! 77, 24511380111192\n"
     ]
    },
    {
     "name": "stderr",
     "output_type": "stream",
     "text": [
      " 17%|█▋        | 86/500 [00:05<00:32, 12.94it/s]"
     ]
    },
    {
     "name": "stdout",
     "output_type": "stream",
     "text": [
      ">best! 86, 21030017423733\n"
     ]
    },
    {
     "name": "stderr",
     "output_type": "stream",
     "text": [
      " 30%|███       | 151/500 [00:13<00:47,  7.28it/s]"
     ]
    },
    {
     "name": "stdout",
     "output_type": "stream",
     "text": [
      ">best! 150, 19370022341925\n"
     ]
    },
    {
     "name": "stderr",
     "output_type": "stream",
     "text": [
      " 70%|███████   | 351/500 [00:28<00:12, 12.24it/s]\n"
     ]
    },
    {
     "name": "stdout",
     "output_type": "stream",
     "text": [
      "stop\n",
      "index_5\n",
      "48600025693142\n"
     ]
    },
    {
     "name": "stderr",
     "output_type": "stream",
     "text": [
      "  1%|          | 5/500 [00:00<00:53,  9.31it/s]"
     ]
    },
    {
     "name": "stdout",
     "output_type": "stream",
     "text": [
      ">best! 4, 42000017086987\n"
     ]
    },
    {
     "name": "stderr",
     "output_type": "stream",
     "text": [
      "  2%|▏         | 8/500 [00:00<00:48, 10.12it/s]"
     ]
    },
    {
     "name": "stdout",
     "output_type": "stream",
     "text": [
      ">best! 6, 40800022940655\n"
     ]
    },
    {
     "name": "stderr",
     "output_type": "stream",
     "text": [
      "  7%|▋         | 34/500 [00:02<00:24, 18.76it/s]"
     ]
    },
    {
     "name": "stdout",
     "output_type": "stream",
     "text": [
      ">best! 31, 34800021055289\n"
     ]
    },
    {
     "name": "stderr",
     "output_type": "stream",
     "text": [
      " 15%|█▌        | 76/500 [00:05<00:42,  9.87it/s]"
     ]
    },
    {
     "name": "stdout",
     "output_type": "stream",
     "text": [
      ">best! 75, 26400021591533\n"
     ]
    },
    {
     "name": "stderr",
     "output_type": "stream",
     "text": [
      " 21%|██        | 106/500 [00:08<00:35, 11.19it/s]"
     ]
    },
    {
     "name": "stdout",
     "output_type": "stream",
     "text": [
      ">best! 104, 24000024988750\n"
     ]
    },
    {
     "name": "stderr",
     "output_type": "stream",
     "text": [
      " 30%|██▉       | 148/500 [00:12<00:25, 13.71it/s]"
     ]
    },
    {
     "name": "stdout",
     "output_type": "stream",
     "text": [
      ">best! 145, 24000022976209\n"
     ]
    },
    {
     "name": "stderr",
     "output_type": "stream",
     "text": [
      " 32%|███▏      | 159/500 [00:14<00:37,  9.13it/s]"
     ]
    },
    {
     "name": "stdout",
     "output_type": "stream",
     "text": [
      ">best! 158, 1410022754655\n"
     ]
    },
    {
     "name": "stderr",
     "output_type": "stream",
     "text": [
      " 72%|███████▏  | 359/500 [00:30<00:12, 11.59it/s]\n"
     ]
    },
    {
     "name": "stdout",
     "output_type": "stream",
     "text": [
      "stop\n",
      "index_6\n",
      "133800024093979\n"
     ]
    },
    {
     "name": "stderr",
     "output_type": "stream",
     "text": [
      "  0%|          | 2/500 [00:00<00:44, 11.18it/s]"
     ]
    },
    {
     "name": "stdout",
     "output_type": "stream",
     "text": [
      ">best! 0, 86251927784692\n",
      ">best! 0, 52185018202220\n",
      ">best! 1, 40305023733575\n",
      ">best! 2, 34490017587625\n"
     ]
    },
    {
     "name": "stderr",
     "output_type": "stream",
     "text": [
      "  4%|▎         | 18/500 [00:01<00:29, 16.53it/s]"
     ]
    },
    {
     "name": "stdout",
     "output_type": "stream",
     "text": [
      ">best! 16, 33600021158356\n"
     ]
    },
    {
     "name": "stderr",
     "output_type": "stream",
     "text": [
      "  6%|▌         | 28/500 [00:01<00:27, 17.32it/s]"
     ]
    },
    {
     "name": "stdout",
     "output_type": "stream",
     "text": [
      ">best! 25, 28200021211330\n",
      ">best! 27, 18600020501572\n"
     ]
    },
    {
     "name": "stderr",
     "output_type": "stream",
     "text": [
      " 27%|██▋       | 135/500 [00:10<00:52,  6.98it/s]"
     ]
    },
    {
     "name": "stdout",
     "output_type": "stream",
     "text": [
      ">best! 135, 19376382\n"
     ]
    },
    {
     "name": "stderr",
     "output_type": "stream",
     "text": [
      " 67%|██████▋   | 336/500 [00:30<00:14, 11.10it/s]\n"
     ]
    },
    {
     "name": "stdout",
     "output_type": "stream",
     "text": [
      "stop\n",
      "index_7\n",
      "125365022791196\n"
     ]
    },
    {
     "name": "stderr",
     "output_type": "stream",
     "text": [
      "  1%|          | 5/500 [00:00<00:10, 48.43it/s]"
     ]
    },
    {
     "name": "stdout",
     "output_type": "stream",
     "text": [
      ">best! 0, 76419478466192\n",
      ">best! 1, 54600019580869\n",
      ">best! 1, 37170020005032\n",
      ">best! 4, 29220017669571\n"
     ]
    },
    {
     "name": "stderr",
     "output_type": "stream",
     "text": [
      "  5%|▌         | 27/500 [00:00<00:07, 60.10it/s]"
     ]
    },
    {
     "name": "stdout",
     "output_type": "stream",
     "text": [
      ">best! 17, 27000025010981\n"
     ]
    },
    {
     "name": "stderr",
     "output_type": "stream",
     "text": [
      "  8%|▊         | 40/500 [00:00<00:07, 60.71it/s]"
     ]
    },
    {
     "name": "stdout",
     "output_type": "stream",
     "text": [
      ">best! 32, 25800022622546\n",
      ">best! 33, 17400025368292\n"
     ]
    },
    {
     "name": "stderr",
     "output_type": "stream",
     "text": [
      " 36%|███▌      | 181/500 [00:03<00:04, 66.04it/s]"
     ]
    },
    {
     "name": "stdout",
     "output_type": "stream",
     "text": [
      ">best! 171, 9000025669589\n"
     ]
    },
    {
     "name": "stderr",
     "output_type": "stream",
     "text": [
      " 64%|██████▍   | 321/500 [00:06<00:03, 54.58it/s]"
     ]
    },
    {
     "name": "stdout",
     "output_type": "stream",
     "text": [
      ">best! 310, 23694196\n"
     ]
    },
    {
     "name": "stderr",
     "output_type": "stream",
     "text": [
      "100%|██████████| 500/500 [00:12<00:00, 39.93it/s]\n"
     ]
    },
    {
     "name": "stdout",
     "output_type": "stream",
     "text": [
      "index_8\n",
      "132410016809138\n"
     ]
    },
    {
     "name": "stderr",
     "output_type": "stream",
     "text": [
      "  0%|          | 1/500 [00:00<00:59,  8.40it/s]"
     ]
    },
    {
     "name": "stdout",
     "output_type": "stream",
     "text": [
      ">best! 0, 120600019028923\n",
      ">best! 0, 115780021070330\n",
      ">best! 0, 91800018894446\n",
      ">best! 0, 88200021234222\n",
      ">best! 0, 59405018898761\n"
     ]
    },
    {
     "name": "stderr",
     "output_type": "stream",
     "text": [
      "  0%|          | 2/500 [00:00<01:37,  5.12it/s]"
     ]
    },
    {
     "name": "stdout",
     "output_type": "stream",
     "text": [
      ">best! 2, 46800020414762\n"
     ]
    },
    {
     "name": "stderr",
     "output_type": "stream",
     "text": [
      "  1%|          | 4/500 [00:00<01:53,  4.35it/s]"
     ]
    },
    {
     "name": "stdout",
     "output_type": "stream",
     "text": [
      ">best! 4, 13800021129490\n"
     ]
    },
    {
     "name": "stderr",
     "output_type": "stream",
     "text": [
      " 18%|█▊        | 88/500 [00:10<00:43,  9.50it/s]"
     ]
    },
    {
     "name": "stdout",
     "output_type": "stream",
     "text": [
      ">best! 86, 10200018730666\n"
     ]
    },
    {
     "name": "stderr",
     "output_type": "stream",
     "text": [
      " 57%|█████▋    | 287/500 [00:42<00:31,  6.77it/s]\n"
     ]
    },
    {
     "name": "stdout",
     "output_type": "stream",
     "text": [
      "stop\n",
      "index_1\n",
      "0\n"
     ]
    },
    {
     "name": "stderr",
     "output_type": "stream",
     "text": [
      " 40%|████      | 201/500 [00:00<00:00, 580.21it/s]\n",
      "/tmp/ipykernel_257810/669356985.py:278: FutureWarning: Setting an item of incompatible dtype is deprecated and will raise an error in a future version of pandas. Value '0:00:00.352358' has dtype incompatible with float64, please explicitly cast to a compatible dtype first.\n",
      "  hyper_parameters.loc[i, 'time'] = elapsed_time\n"
     ]
    },
    {
     "name": "stdout",
     "output_type": "stream",
     "text": [
      "stop\n",
      "index_2\n",
      "0\n"
     ]
    },
    {
     "name": "stderr",
     "output_type": "stream",
     "text": [
      " 40%|████      | 201/500 [00:00<00:01, 228.64it/s]\n"
     ]
    },
    {
     "name": "stdout",
     "output_type": "stream",
     "text": [
      "stop\n",
      "index_3\n",
      "0\n"
     ]
    },
    {
     "name": "stderr",
     "output_type": "stream",
     "text": [
      " 40%|████      | 201/500 [00:02<00:03, 99.21it/s] \n"
     ]
    },
    {
     "name": "stdout",
     "output_type": "stream",
     "text": [
      "stop\n",
      "index_4\n",
      "0\n"
     ]
    },
    {
     "name": "stderr",
     "output_type": "stream",
     "text": [
      " 40%|████      | 201/500 [00:00<00:01, 291.93it/s]\n"
     ]
    },
    {
     "name": "stdout",
     "output_type": "stream",
     "text": [
      "stop\n",
      "index_5\n",
      "0\n"
     ]
    },
    {
     "name": "stderr",
     "output_type": "stream",
     "text": [
      " 40%|████      | 201/500 [00:00<00:01, 287.25it/s]\n"
     ]
    },
    {
     "name": "stdout",
     "output_type": "stream",
     "text": [
      "stop\n",
      "index_6\n",
      "0\n"
     ]
    },
    {
     "name": "stderr",
     "output_type": "stream",
     "text": [
      " 40%|████      | 201/500 [00:00<00:00, 329.14it/s]\n"
     ]
    },
    {
     "name": "stdout",
     "output_type": "stream",
     "text": [
      "stop\n",
      "index_7\n",
      "0\n"
     ]
    },
    {
     "name": "stderr",
     "output_type": "stream",
     "text": [
      " 40%|████      | 201/500 [00:00<00:00, 533.13it/s]\n"
     ]
    },
    {
     "name": "stdout",
     "output_type": "stream",
     "text": [
      "stop\n",
      "index_8\n",
      "0\n"
     ]
    },
    {
     "name": "stderr",
     "output_type": "stream",
     "text": [
      " 40%|████      | 201/500 [00:00<00:01, 218.92it/s]\n"
     ]
    },
    {
     "name": "stdout",
     "output_type": "stream",
     "text": [
      "stop\n",
      "index_1\n",
      "7170324\n"
     ]
    },
    {
     "name": "stderr",
     "output_type": "stream",
     "text": [
      "  2%|▏         | 8/500 [00:00<00:07, 67.90it/s]"
     ]
    },
    {
     "name": "stdout",
     "output_type": "stream",
     "text": [
      ">best! 3, 4578370\n",
      ">best! 5, 1548384\n"
     ]
    },
    {
     "name": "stderr",
     "output_type": "stream",
     "text": [
      " 41%|████      | 206/500 [00:04<00:06, 45.10it/s]\n",
      "/tmp/ipykernel_257810/669356985.py:278: FutureWarning: Setting an item of incompatible dtype is deprecated and will raise an error in a future version of pandas. Value '0:00:04.572614' has dtype incompatible with float64, please explicitly cast to a compatible dtype first.\n",
      "  hyper_parameters.loc[i, 'time'] = elapsed_time\n"
     ]
    },
    {
     "name": "stdout",
     "output_type": "stream",
     "text": [
      "stop\n",
      "index_2\n",
      "14651003298696\n"
     ]
    },
    {
     "name": "stderr",
     "output_type": "stream",
     "text": [
      "  1%|          | 5/500 [00:00<00:11, 43.74it/s]"
     ]
    },
    {
     "name": "stdout",
     "output_type": "stream",
     "text": [
      ">best! 0, 8372003620420\n",
      ">best! 0, 1288001289106\n",
      ">best! 0, 3714178\n",
      ">best! 4, 3365178\n",
      ">best! 9, 3354040\n"
     ]
    },
    {
     "name": "stderr",
     "output_type": "stream",
     "text": [
      "  3%|▎         | 15/500 [00:00<00:11, 43.32it/s]"
     ]
    },
    {
     "name": "stdout",
     "output_type": "stream",
     "text": [
      ">best! 10, 3273454\n",
      ">best! 10, 2880894\n",
      ">best! 15, 2374666\n"
     ]
    },
    {
     "name": "stderr",
     "output_type": "stream",
     "text": [
      "  4%|▍         | 20/500 [00:00<00:17, 27.44it/s]"
     ]
    },
    {
     "name": "stdout",
     "output_type": "stream",
     "text": [
      ">best! 19, 1880108\n"
     ]
    },
    {
     "name": "stderr",
     "output_type": "stream",
     "text": [
      "  8%|▊         | 40/500 [00:01<00:13, 34.36it/s]"
     ]
    },
    {
     "name": "stdout",
     "output_type": "stream",
     "text": [
      ">best! 33, 1797580\n"
     ]
    },
    {
     "name": "stderr",
     "output_type": "stream",
     "text": [
      " 10%|▉         | 49/500 [00:01<00:13, 32.61it/s]"
     ]
    },
    {
     "name": "stdout",
     "output_type": "stream",
     "text": [
      ">best! 46, 1747768\n"
     ]
    },
    {
     "name": "stderr",
     "output_type": "stream",
     "text": [
      " 15%|█▌        | 77/500 [00:02<00:12, 32.85it/s]"
     ]
    },
    {
     "name": "stdout",
     "output_type": "stream",
     "text": [
      ">best! 71, 946276\n"
     ]
    },
    {
     "name": "stderr",
     "output_type": "stream",
     "text": [
      " 54%|█████▍    | 272/500 [00:09<00:07, 29.29it/s]\n"
     ]
    },
    {
     "name": "stdout",
     "output_type": "stream",
     "text": [
      "stop\n",
      "index_3\n",
      "6142503385516\n"
     ]
    },
    {
     "name": "stderr",
     "output_type": "stream",
     "text": [
      "  1%|          | 3/500 [00:00<00:22, 22.54it/s]"
     ]
    },
    {
     "name": "stdout",
     "output_type": "stream",
     "text": [
      ">best! 0, 4168704\n",
      ">best! 0, 2493532\n",
      ">best! 3, 2330140\n"
     ]
    },
    {
     "name": "stderr",
     "output_type": "stream",
     "text": [
      "  4%|▍         | 20/500 [00:01<00:29, 16.34it/s]"
     ]
    },
    {
     "name": "stdout",
     "output_type": "stream",
     "text": [
      ">best! 17, 1317682\n"
     ]
    },
    {
     "name": "stderr",
     "output_type": "stream",
     "text": [
      "  7%|▋         | 37/500 [00:02<00:45, 10.23it/s]"
     ]
    },
    {
     "name": "stdout",
     "output_type": "stream",
     "text": [
      ">best! 36, 1098152\n"
     ]
    },
    {
     "name": "stderr",
     "output_type": "stream",
     "text": [
      " 13%|█▎        | 66/500 [00:04<00:22, 19.61it/s]"
     ]
    },
    {
     "name": "stdout",
     "output_type": "stream",
     "text": [
      ">best! 62, 958140\n"
     ]
    },
    {
     "name": "stderr",
     "output_type": "stream",
     "text": [
      " 53%|█████▎    | 263/500 [00:20<00:18, 12.59it/s]\n"
     ]
    },
    {
     "name": "stdout",
     "output_type": "stream",
     "text": [
      "stop\n",
      "index_4\n",
      "42451502250424\n"
     ]
    },
    {
     "name": "stderr",
     "output_type": "stream",
     "text": [
      "  1%|          | 4/500 [00:00<00:15, 32.09it/s]"
     ]
    },
    {
     "name": "stdout",
     "output_type": "stream",
     "text": [
      ">best! 0, 6825003058104\n",
      ">best! 0, 4117166\n",
      ">best! 0, 2493142\n",
      ">best! 1, 2248054\n"
     ]
    },
    {
     "name": "stderr",
     "output_type": "stream",
     "text": [
      " 11%|█         | 54/500 [00:01<00:11, 38.81it/s]"
     ]
    },
    {
     "name": "stdout",
     "output_type": "stream",
     "text": [
      ">best! 47, 2133120\n",
      ">best! 48, 1673994\n"
     ]
    },
    {
     "name": "stderr",
     "output_type": "stream",
     "text": [
      " 20%|██        | 102/500 [00:02<00:11, 36.00it/s]"
     ]
    },
    {
     "name": "stdout",
     "output_type": "stream",
     "text": [
      ">best! 94, 1237054\n"
     ]
    },
    {
     "name": "stderr",
     "output_type": "stream",
     "text": [
      " 43%|████▎     | 214/500 [00:07<00:05, 48.21it/s]"
     ]
    },
    {
     "name": "stdout",
     "output_type": "stream",
     "text": [
      ">best! 208, 808560\n"
     ]
    },
    {
     "name": "stderr",
     "output_type": "stream",
     "text": [
      " 82%|████████▏ | 409/500 [00:14<00:03, 27.81it/s]\n"
     ]
    },
    {
     "name": "stdout",
     "output_type": "stream",
     "text": [
      "stop\n",
      "index_5\n",
      "2415004075420\n"
     ]
    },
    {
     "name": "stderr",
     "output_type": "stream",
     "text": [
      "  1%|          | 4/500 [00:00<00:12, 38.62it/s]"
     ]
    },
    {
     "name": "stdout",
     "output_type": "stream",
     "text": [
      ">best! 0, 2075501553640\n",
      ">best! 0, 6085012\n",
      ">best! 1, 5514516\n",
      ">best! 1, 3045866\n"
     ]
    },
    {
     "name": "stderr",
     "output_type": "stream",
     "text": [
      "  3%|▎         | 15/500 [00:00<00:17, 27.70it/s]"
     ]
    },
    {
     "name": "stdout",
     "output_type": "stream",
     "text": [
      ">best! 9, 1826152\n",
      ">best! 11, 1784110\n"
     ]
    },
    {
     "name": "stderr",
     "output_type": "stream",
     "text": [
      " 33%|███▎      | 165/500 [00:05<00:06, 49.17it/s]"
     ]
    },
    {
     "name": "stdout",
     "output_type": "stream",
     "text": [
      ">best! 157, 1629726\n",
      ">best! 159, 633574\n"
     ]
    },
    {
     "name": "stderr",
     "output_type": "stream",
     "text": [
      " 72%|███████▏  | 360/500 [00:10<00:04, 33.45it/s]\n"
     ]
    },
    {
     "name": "stdout",
     "output_type": "stream",
     "text": [
      "stop\n",
      "index_6\n",
      "20118002109184\n"
     ]
    },
    {
     "name": "stderr",
     "output_type": "stream",
     "text": [
      "  1%|          | 4/500 [00:00<00:14, 35.27it/s]"
     ]
    },
    {
     "name": "stdout",
     "output_type": "stream",
     "text": [
      ">best! 0, 13195002610776\n",
      ">best! 0, 7567004392084\n",
      ">best! 0, 5460003794116\n",
      ">best! 0, 6506570\n",
      ">best! 0, 5476324\n",
      ">best! 0, 5234270\n",
      ">best! 1, 4362968\n",
      ">best! 3, 3435886\n",
      ">best! 3, 3361674\n",
      ">best! 4, 2625700\n"
     ]
    },
    {
     "name": "stderr",
     "output_type": "stream",
     "text": [
      "  3%|▎         | 15/500 [00:00<00:21, 22.18it/s]"
     ]
    },
    {
     "name": "stdout",
     "output_type": "stream",
     "text": [
      ">best! 13, 2609570\n",
      ">best! 13, 2348578\n"
     ]
    },
    {
     "name": "stderr",
     "output_type": "stream",
     "text": [
      "  5%|▍         | 23/500 [00:00<00:18, 25.88it/s]"
     ]
    },
    {
     "name": "stdout",
     "output_type": "stream",
     "text": [
      ">best! 18, 2252900\n"
     ]
    },
    {
     "name": "stderr",
     "output_type": "stream",
     "text": [
      "  8%|▊         | 42/500 [00:01<00:13, 35.15it/s]"
     ]
    },
    {
     "name": "stdout",
     "output_type": "stream",
     "text": [
      ">best! 36, 1280388\n"
     ]
    },
    {
     "name": "stderr",
     "output_type": "stream",
     "text": [
      " 30%|██▉       | 148/500 [00:04<00:11, 31.24it/s]"
     ]
    },
    {
     "name": "stdout",
     "output_type": "stream",
     "text": [
      ">best! 143, 1102842\n",
      ">best! 147, 974566\n"
     ]
    },
    {
     "name": "stderr",
     "output_type": "stream",
     "text": [
      " 70%|██████▉   | 348/500 [00:12<00:05, 28.65it/s]\n"
     ]
    },
    {
     "name": "stdout",
     "output_type": "stream",
     "text": [
      "stop\n",
      "index_7\n",
      "32931502645896\n"
     ]
    },
    {
     "name": "stderr",
     "output_type": "stream",
     "text": [
      "  3%|▎         | 14/500 [00:00<00:03, 139.43it/s]"
     ]
    },
    {
     "name": "stdout",
     "output_type": "stream",
     "text": [
      ">best! 0, 4830003582628\n",
      ">best! 0, 4860820\n",
      ">best! 0, 4609256\n",
      ">best! 1, 2586382\n",
      ">best! 13, 1577504\n",
      ">best! 16, 1464228\n"
     ]
    },
    {
     "name": "stderr",
     "output_type": "stream",
     "text": [
      " 17%|█▋        | 85/500 [00:00<00:04, 98.34it/s] "
     ]
    },
    {
     "name": "stdout",
     "output_type": "stream",
     "text": [
      ">best! 84, 280506\n"
     ]
    },
    {
     "name": "stderr",
     "output_type": "stream",
     "text": [
      " 57%|█████▋    | 285/500 [00:02<00:02, 106.37it/s]\n"
     ]
    },
    {
     "name": "stdout",
     "output_type": "stream",
     "text": [
      "stop\n",
      "index_8\n",
      "28892503809632\n"
     ]
    },
    {
     "name": "stderr",
     "output_type": "stream",
     "text": [
      "  1%|          | 3/500 [00:00<00:19, 25.99it/s]"
     ]
    },
    {
     "name": "stdout",
     "output_type": "stream",
     "text": [
      ">best! 0, 5544046\n",
      ">best! 0, 1861052\n"
     ]
    },
    {
     "name": "stderr",
     "output_type": "stream",
     "text": [
      "  8%|▊         | 39/500 [00:02<00:40, 11.29it/s]"
     ]
    },
    {
     "name": "stdout",
     "output_type": "stream",
     "text": [
      ">best! 38, 1146728\n"
     ]
    },
    {
     "name": "stderr",
     "output_type": "stream",
     "text": [
      " 48%|████▊     | 239/500 [00:14<00:16, 16.25it/s]\n"
     ]
    },
    {
     "name": "stdout",
     "output_type": "stream",
     "text": [
      "stop\n",
      "index_1\n",
      "278038911163750\n"
     ]
    },
    {
     "name": "stderr",
     "output_type": "stream",
     "text": [
      "  0%|          | 0/500 [00:00<?, ?it/s]"
     ]
    },
    {
     "name": "stdout",
     "output_type": "stream",
     "text": [
      ">best! 0, 262979512660000\n"
     ]
    },
    {
     "name": "stderr",
     "output_type": "stream",
     "text": [
      "  0%|          | 2/500 [00:00<01:39,  5.01it/s]"
     ]
    },
    {
     "name": "stdout",
     "output_type": "stream",
     "text": [
      ">best! 1, 250488410997500\n"
     ]
    },
    {
     "name": "stderr",
     "output_type": "stream",
     "text": [
      "  1%|          | 3/500 [00:00<02:49,  2.92it/s]"
     ]
    },
    {
     "name": "stdout",
     "output_type": "stream",
     "text": [
      ">best! 3, 203613462333115\n"
     ]
    },
    {
     "name": "stderr",
     "output_type": "stream",
     "text": [
      "  2%|▏         | 8/500 [00:02<01:59,  4.11it/s]"
     ]
    },
    {
     "name": "stdout",
     "output_type": "stream",
     "text": [
      ">best! 7, 189270143013340\n"
     ]
    },
    {
     "name": "stderr",
     "output_type": "stream",
     "text": [
      " 11%|█         | 56/500 [00:11<01:10,  6.33it/s]"
     ]
    },
    {
     "name": "stdout",
     "output_type": "stream",
     "text": [
      ">best! 55, 168577546503990\n"
     ]
    },
    {
     "name": "stderr",
     "output_type": "stream",
     "text": [
      " 51%|█████     | 256/500 [01:02<00:59,  4.08it/s]\n",
      "/tmp/ipykernel_257810/669356985.py:278: FutureWarning: Setting an item of incompatible dtype is deprecated and will raise an error in a future version of pandas. Value '0:01:02.818488' has dtype incompatible with float64, please explicitly cast to a compatible dtype first.\n",
      "  hyper_parameters.loc[i, 'time'] = elapsed_time\n"
     ]
    },
    {
     "name": "stdout",
     "output_type": "stream",
     "text": [
      "stop\n",
      "index_2\n",
      "316598562755000\n"
     ]
    },
    {
     "name": "stderr",
     "output_type": "stream",
     "text": [
      "  0%|          | 0/500 [00:00<?, ?it/s]"
     ]
    },
    {
     "name": "stdout",
     "output_type": "stream",
     "text": [
      ">best! 0, 258059560484500\n",
      ">best! 0, 239106703742215\n"
     ]
    },
    {
     "name": "stderr",
     "output_type": "stream",
     "text": [
      "  1%|          | 3/500 [00:01<04:24,  1.88it/s]"
     ]
    },
    {
     "name": "stdout",
     "output_type": "stream",
     "text": [
      ">best! 3, 233319905460445\n"
     ]
    },
    {
     "name": "stderr",
     "output_type": "stream",
     "text": [
      "  1%|          | 4/500 [00:02<03:51,  2.14it/s]"
     ]
    },
    {
     "name": "stdout",
     "output_type": "stream",
     "text": [
      ">best! 4, 231250780990420\n"
     ]
    },
    {
     "name": "stderr",
     "output_type": "stream",
     "text": [
      "  1%|          | 5/500 [00:03<05:19,  1.55it/s]"
     ]
    },
    {
     "name": "stdout",
     "output_type": "stream",
     "text": [
      ">best! 5, 186269931149500\n"
     ]
    },
    {
     "name": "stderr",
     "output_type": "stream",
     "text": [
      "  3%|▎         | 15/500 [00:08<03:31,  2.29it/s]"
     ]
    },
    {
     "name": "stdout",
     "output_type": "stream",
     "text": [
      ">best! 15, 176411370166250\n"
     ]
    },
    {
     "name": "stderr",
     "output_type": "stream",
     "text": [
      "  3%|▎         | 16/500 [00:08<03:43,  2.17it/s]"
     ]
    },
    {
     "name": "stdout",
     "output_type": "stream",
     "text": [
      ">best! 16, 164928082751210\n"
     ]
    },
    {
     "name": "stderr",
     "output_type": "stream",
     "text": [
      " 43%|████▎     | 217/500 [01:49<02:22,  1.98it/s]\n"
     ]
    },
    {
     "name": "stdout",
     "output_type": "stream",
     "text": [
      "stop\n",
      "index_3\n",
      "389794162812000\n"
     ]
    },
    {
     "name": "stderr",
     "output_type": "stream",
     "text": [
      "  0%|          | 0/500 [00:00<?, ?it/s]"
     ]
    },
    {
     "name": "stdout",
     "output_type": "stream",
     "text": [
      ">best! 0, 224477063894795\n",
      ">best! 0, 215360821453500\n"
     ]
    },
    {
     "name": "stderr",
     "output_type": "stream",
     "text": [
      "  1%|          | 4/500 [00:03<06:58,  1.18it/s]"
     ]
    },
    {
     "name": "stdout",
     "output_type": "stream",
     "text": [
      ">best! 4, 202087623144500\n"
     ]
    },
    {
     "name": "stderr",
     "output_type": "stream",
     "text": [
      "  4%|▍         | 21/500 [00:15<06:23,  1.25it/s]"
     ]
    },
    {
     "name": "stdout",
     "output_type": "stream",
     "text": [
      ">best! 21, 178846762398545\n"
     ]
    },
    {
     "name": "stderr",
     "output_type": "stream",
     "text": [
      " 13%|█▎        | 65/500 [01:04<09:34,  1.32s/it]"
     ]
    },
    {
     "name": "stdout",
     "output_type": "stream",
     "text": [
      ">best! 65, 178172340000000\n"
     ]
    },
    {
     "name": "stderr",
     "output_type": "stream",
     "text": [
      " 16%|█▌        | 78/500 [01:19<06:49,  1.03it/s]"
     ]
    },
    {
     "name": "stdout",
     "output_type": "stream",
     "text": [
      ">best! 78, 163440063960810\n"
     ]
    },
    {
     "name": "stderr",
     "output_type": "stream",
     "text": [
      " 29%|██▉       | 146/500 [02:26<05:28,  1.08it/s]"
     ]
    },
    {
     "name": "stdout",
     "output_type": "stream",
     "text": [
      ">best! 146, 138316301662500\n"
     ]
    },
    {
     "name": "stderr",
     "output_type": "stream",
     "text": [
      " 69%|██████▉   | 347/500 [05:52<02:35,  1.02s/it]\n"
     ]
    },
    {
     "name": "stdout",
     "output_type": "stream",
     "text": [
      "stop\n",
      "index_4\n",
      "282921050498750\n"
     ]
    },
    {
     "name": "stderr",
     "output_type": "stream",
     "text": [
      "  0%|          | 0/500 [00:00<?, ?it/s]"
     ]
    },
    {
     "name": "stdout",
     "output_type": "stream",
     "text": [
      ">best! 0, 240255865717530\n"
     ]
    },
    {
     "name": "stderr",
     "output_type": "stream",
     "text": [
      "  0%|          | 2/500 [00:01<04:51,  1.71it/s]"
     ]
    },
    {
     "name": "stdout",
     "output_type": "stream",
     "text": [
      ">best! 2, 228624925051185\n",
      ">best! 2, 227097661486940\n"
     ]
    },
    {
     "name": "stderr",
     "output_type": "stream",
     "text": [
      "  1%|▏         | 7/500 [00:03<03:28,  2.37it/s]"
     ]
    },
    {
     "name": "stdout",
     "output_type": "stream",
     "text": [
      ">best! 7, 213642905304765\n"
     ]
    },
    {
     "name": "stderr",
     "output_type": "stream",
     "text": [
      "  2%|▏         | 9/500 [00:04<03:36,  2.27it/s]"
     ]
    },
    {
     "name": "stdout",
     "output_type": "stream",
     "text": [
      ">best! 9, 211550901100835\n"
     ]
    },
    {
     "name": "stderr",
     "output_type": "stream",
     "text": [
      "  6%|▌         | 28/500 [00:14<04:18,  1.83it/s]"
     ]
    },
    {
     "name": "stdout",
     "output_type": "stream",
     "text": [
      ">best! 28, 196417303786225\n"
     ]
    },
    {
     "name": "stderr",
     "output_type": "stream",
     "text": [
      "  9%|▉         | 45/500 [00:21<03:36,  2.10it/s]"
     ]
    },
    {
     "name": "stdout",
     "output_type": "stream",
     "text": [
      ">best! 45, 191402462907000\n"
     ]
    },
    {
     "name": "stderr",
     "output_type": "stream",
     "text": [
      " 20%|█▉        | 99/500 [00:48<02:58,  2.24it/s]"
     ]
    },
    {
     "name": "stdout",
     "output_type": "stream",
     "text": [
      ">best! 99, 175078930166250\n"
     ]
    },
    {
     "name": "stderr",
     "output_type": "stream",
     "text": [
      " 23%|██▎       | 115/500 [00:57<04:15,  1.51it/s]"
     ]
    },
    {
     "name": "stdout",
     "output_type": "stream",
     "text": [
      ">best! 115, 168605585768035\n"
     ]
    },
    {
     "name": "stderr",
     "output_type": "stream",
     "text": [
      " 63%|██████▎   | 316/500 [02:31<01:28,  2.09it/s]\n"
     ]
    },
    {
     "name": "stdout",
     "output_type": "stream",
     "text": [
      "stop\n",
      "index_5\n",
      "331691080969000\n"
     ]
    },
    {
     "name": "stderr",
     "output_type": "stream",
     "text": [
      "  0%|          | 0/500 [00:00<?, ?it/s]"
     ]
    },
    {
     "name": "stdout",
     "output_type": "stream",
     "text": [
      ">best! 0, 302998211662500\n",
      ">best! 0, 287207354251250\n",
      ">best! 0, 210630090000000\n"
     ]
    },
    {
     "name": "stderr",
     "output_type": "stream",
     "text": [
      "  0%|          | 2/500 [00:00<04:02,  2.05it/s]"
     ]
    },
    {
     "name": "stdout",
     "output_type": "stream",
     "text": [
      ">best! 2, 209182272755000\n"
     ]
    },
    {
     "name": "stderr",
     "output_type": "stream",
     "text": [
      "  3%|▎         | 15/500 [00:06<03:33,  2.27it/s]"
     ]
    },
    {
     "name": "stdout",
     "output_type": "stream",
     "text": [
      ">best! 15, 205886990997500\n"
     ]
    },
    {
     "name": "stderr",
     "output_type": "stream",
     "text": [
      "  4%|▎         | 18/500 [00:07<03:13,  2.49it/s]"
     ]
    },
    {
     "name": "stdout",
     "output_type": "stream",
     "text": [
      ">best! 18, 177431063975540\n"
     ]
    },
    {
     "name": "stderr",
     "output_type": "stream",
     "text": [
      " 32%|███▏      | 162/500 [01:11<02:16,  2.48it/s]"
     ]
    },
    {
     "name": "stdout",
     "output_type": "stream",
     "text": [
      ">best! 162, 173272009700345\n"
     ]
    },
    {
     "name": "stderr",
     "output_type": "stream",
     "text": [
      " 70%|███████   | 352/500 [02:36<01:06,  2.22it/s]"
     ]
    },
    {
     "name": "stdout",
     "output_type": "stream",
     "text": [
      ">best! 352, 169316642905830\n"
     ]
    },
    {
     "name": "stderr",
     "output_type": "stream",
     "text": [
      " 75%|███████▌  | 376/500 [02:46<00:58,  2.12it/s]"
     ]
    },
    {
     "name": "stdout",
     "output_type": "stream",
     "text": [
      ">best! 376, 162007220997500\n"
     ]
    },
    {
     "name": "stderr",
     "output_type": "stream",
     "text": [
      "100%|██████████| 500/500 [03:46<00:00,  2.21it/s]\n"
     ]
    },
    {
     "name": "stdout",
     "output_type": "stream",
     "text": [
      "index_6\n",
      "263310280000000\n"
     ]
    },
    {
     "name": "stderr",
     "output_type": "stream",
     "text": [
      "  0%|          | 0/500 [00:00<?, ?it/s]"
     ]
    },
    {
     "name": "stdout",
     "output_type": "stream",
     "text": [
      ">best! 0, 256365082970675\n"
     ]
    },
    {
     "name": "stderr",
     "output_type": "stream",
     "text": [
      "  0%|          | 2/500 [00:01<05:05,  1.63it/s]"
     ]
    },
    {
     "name": "stdout",
     "output_type": "stream",
     "text": [
      ">best! 2, 238599484175250\n"
     ]
    },
    {
     "name": "stderr",
     "output_type": "stream",
     "text": [
      "  1%|          | 3/500 [00:02<06:14,  1.33it/s]"
     ]
    },
    {
     "name": "stdout",
     "output_type": "stream",
     "text": [
      ">best! 3, 227739402796390\n"
     ]
    },
    {
     "name": "stderr",
     "output_type": "stream",
     "text": [
      "  1%|          | 4/500 [00:03<07:07,  1.16it/s]"
     ]
    },
    {
     "name": "stdout",
     "output_type": "stream",
     "text": [
      ">best! 4, 204635513477000\n"
     ]
    },
    {
     "name": "stderr",
     "output_type": "stream",
     "text": [
      "  3%|▎         | 14/500 [00:08<04:47,  1.69it/s]"
     ]
    },
    {
     "name": "stdout",
     "output_type": "stream",
     "text": [
      ">best! 14, 195365684938820\n"
     ]
    },
    {
     "name": "stderr",
     "output_type": "stream",
     "text": [
      "  4%|▍         | 19/500 [00:10<03:51,  2.08it/s]"
     ]
    },
    {
     "name": "stdout",
     "output_type": "stream",
     "text": [
      ">best! 19, 186570405027530\n"
     ]
    },
    {
     "name": "stderr",
     "output_type": "stream",
     "text": [
      "  9%|▊         | 43/500 [00:21<04:14,  1.80it/s]"
     ]
    },
    {
     "name": "stdout",
     "output_type": "stream",
     "text": [
      ">best! 43, 173489321938000\n"
     ]
    },
    {
     "name": "stderr",
     "output_type": "stream",
     "text": [
      " 35%|███▌      | 175/500 [01:26<02:13,  2.44it/s]"
     ]
    },
    {
     "name": "stdout",
     "output_type": "stream",
     "text": [
      ">best! 175, 149841841163750\n"
     ]
    },
    {
     "name": "stderr",
     "output_type": "stream",
     "text": [
      " 75%|███████▌  | 376/500 [02:56<00:58,  2.13it/s]\n"
     ]
    },
    {
     "name": "stdout",
     "output_type": "stream",
     "text": [
      "stop\n",
      "index_7\n",
      "385019451377500\n"
     ]
    },
    {
     "name": "stderr",
     "output_type": "stream",
     "text": [
      "  0%|          | 1/500 [00:00<01:15,  6.57it/s]"
     ]
    },
    {
     "name": "stdout",
     "output_type": "stream",
     "text": [
      ">best! 0, 366846610000000\n",
      ">best! 0, 341431842180250\n",
      ">best! 0, 284434990000000\n",
      ">best! 0, 210507701563525\n"
     ]
    },
    {
     "name": "stderr",
     "output_type": "stream",
     "text": [
      "  3%|▎         | 17/500 [00:01<00:40, 11.90it/s]"
     ]
    },
    {
     "name": "stdout",
     "output_type": "stream",
     "text": [
      ">best! 16, 201402163302025\n"
     ]
    },
    {
     "name": "stderr",
     "output_type": "stream",
     "text": [
      "  7%|▋         | 35/500 [00:03<00:40, 11.51it/s]"
     ]
    },
    {
     "name": "stdout",
     "output_type": "stream",
     "text": [
      ">best! 34, 197999063588960\n",
      ">best! 36, 158789445103920\n"
     ]
    },
    {
     "name": "stderr",
     "output_type": "stream",
     "text": [
      " 47%|████▋     | 237/500 [00:23<00:25, 10.16it/s]\n"
     ]
    },
    {
     "name": "stdout",
     "output_type": "stream",
     "text": [
      "stop\n",
      "index_8\n",
      "362324750000000\n"
     ]
    },
    {
     "name": "stderr",
     "output_type": "stream",
     "text": [
      "  0%|          | 0/500 [00:00<?, ?it/s]"
     ]
    },
    {
     "name": "stdout",
     "output_type": "stream",
     "text": [
      ">best! 0, 323075040484500\n",
      ">best! 0, 216813544094010\n",
      ">best! 0, 188147122254795\n"
     ]
    },
    {
     "name": "stderr",
     "output_type": "stream",
     "text": [
      "  1%|          | 3/500 [00:03<08:39,  1.04s/it]"
     ]
    },
    {
     "name": "stdout",
     "output_type": "stream",
     "text": [
      ">best! 3, 186110622068470\n"
     ]
    },
    {
     "name": "stderr",
     "output_type": "stream",
     "text": [
      "  1%|          | 4/500 [00:04<08:11,  1.01it/s]"
     ]
    },
    {
     "name": "stdout",
     "output_type": "stream",
     "text": [
      ">best! 4, 177767941034235\n"
     ]
    },
    {
     "name": "stderr",
     "output_type": "stream",
     "text": [
      "  2%|▏         | 11/500 [00:10<06:34,  1.24it/s]"
     ]
    },
    {
     "name": "stdout",
     "output_type": "stream",
     "text": [
      ">best! 11, 177097984797675\n"
     ]
    },
    {
     "name": "stderr",
     "output_type": "stream",
     "text": [
      " 42%|████▏     | 212/500 [03:04<04:10,  1.15it/s]\n"
     ]
    },
    {
     "name": "stdout",
     "output_type": "stream",
     "text": [
      "stop\n",
      "index_1\n",
      "81992620000000\n"
     ]
    },
    {
     "name": "stderr",
     "output_type": "stream",
     "text": [
      "  0%|          | 0/500 [00:00<?, ?it/s]"
     ]
    },
    {
     "name": "stdout",
     "output_type": "stream",
     "text": [
      ">best! 0, 73456680000000\n"
     ]
    },
    {
     "name": "stderr",
     "output_type": "stream",
     "text": [
      "  2%|▏         | 8/500 [00:00<00:43, 11.41it/s]"
     ]
    },
    {
     "name": "stdout",
     "output_type": "stream",
     "text": [
      ">best! 6, 72398120000000\n"
     ]
    },
    {
     "name": "stderr",
     "output_type": "stream",
     "text": [
      "  3%|▎         | 16/500 [00:01<00:45, 10.57it/s]"
     ]
    },
    {
     "name": "stdout",
     "output_type": "stream",
     "text": [
      ">best! 14, 69032860000000\n"
     ]
    },
    {
     "name": "stderr",
     "output_type": "stream",
     "text": [
      "  5%|▍         | 24/500 [00:02<00:44, 10.81it/s]"
     ]
    },
    {
     "name": "stdout",
     "output_type": "stream",
     "text": [
      ">best! 22, 67821040000000\n",
      ">best! 24, 65705260000000\n"
     ]
    },
    {
     "name": "stderr",
     "output_type": "stream",
     "text": [
      "  6%|▌         | 28/500 [00:02<00:42, 11.05it/s]"
     ]
    },
    {
     "name": "stdout",
     "output_type": "stream",
     "text": [
      ">best! 27, 58744820000000\n"
     ]
    },
    {
     "name": "stderr",
     "output_type": "stream",
     "text": [
      " 46%|████▌     | 228/500 [00:21<00:26, 10.43it/s]\n",
      "/tmp/ipykernel_257810/669356985.py:278: FutureWarning: Setting an item of incompatible dtype is deprecated and will raise an error in a future version of pandas. Value '0:00:21.868504' has dtype incompatible with float64, please explicitly cast to a compatible dtype first.\n",
      "  hyper_parameters.loc[i, 'time'] = elapsed_time\n"
     ]
    },
    {
     "name": "stdout",
     "output_type": "stream",
     "text": [
      "stop\n",
      "index_2\n",
      "92216980000000\n"
     ]
    },
    {
     "name": "stderr",
     "output_type": "stream",
     "text": [
      "  0%|          | 0/500 [00:00<?, ?it/s]"
     ]
    },
    {
     "name": "stdout",
     "output_type": "stream",
     "text": [
      ">best! 0, 87072320000000\n",
      ">best! 0, 76946620000000\n",
      ">best! 0, 73621640000000\n"
     ]
    },
    {
     "name": "stderr",
     "output_type": "stream",
     "text": [
      "  1%|          | 4/500 [00:00<01:38,  5.04it/s]"
     ]
    },
    {
     "name": "stdout",
     "output_type": "stream",
     "text": [
      ">best! 3, 65679300000000\n"
     ]
    },
    {
     "name": "stderr",
     "output_type": "stream",
     "text": [
      "  2%|▏         | 8/500 [00:01<01:28,  5.57it/s]"
     ]
    },
    {
     "name": "stdout",
     "output_type": "stream",
     "text": [
      ">best! 7, 62771200000000\n"
     ]
    },
    {
     "name": "stderr",
     "output_type": "stream",
     "text": [
      "  7%|▋         | 34/500 [00:06<01:19,  5.83it/s]"
     ]
    },
    {
     "name": "stdout",
     "output_type": "stream",
     "text": [
      ">best! 33, 61542500000000\n",
      ">best! 34, 49330880000000\n"
     ]
    },
    {
     "name": "stderr",
     "output_type": "stream",
     "text": [
      " 47%|████▋     | 235/500 [00:47<00:53,  4.95it/s]\n"
     ]
    },
    {
     "name": "stdout",
     "output_type": "stream",
     "text": [
      "stop\n",
      "index_3\n",
      "99873580000000\n"
     ]
    },
    {
     "name": "stderr",
     "output_type": "stream",
     "text": [
      "  0%|          | 0/500 [00:00<?, ?it/s]"
     ]
    },
    {
     "name": "stdout",
     "output_type": "stream",
     "text": [
      ">best! 0, 72239680000000\n",
      ">best! 0, 69674480000000\n",
      ">best! 0, 66636520000000\n"
     ]
    },
    {
     "name": "stderr",
     "output_type": "stream",
     "text": [
      "  1%|          | 5/500 [00:01<03:08,  2.63it/s]"
     ]
    },
    {
     "name": "stdout",
     "output_type": "stream",
     "text": [
      ">best! 5, 49793280000000\n"
     ]
    },
    {
     "name": "stderr",
     "output_type": "stream",
     "text": [
      " 41%|████      | 206/500 [01:11<01:41,  2.89it/s]\n"
     ]
    },
    {
     "name": "stdout",
     "output_type": "stream",
     "text": [
      "stop\n",
      "index_4\n",
      "95503020000000\n"
     ]
    },
    {
     "name": "stderr",
     "output_type": "stream",
     "text": [
      "  0%|          | 1/500 [00:00<01:22,  6.04it/s]"
     ]
    },
    {
     "name": "stdout",
     "output_type": "stream",
     "text": [
      ">best! 0, 92606620000000\n",
      ">best! 0, 86909980000000\n",
      ">best! 1, 86517720000000\n",
      ">best! 1, 61620440000000\n"
     ]
    },
    {
     "name": "stderr",
     "output_type": "stream",
     "text": [
      " 22%|██▏       | 111/500 [00:19<01:33,  4.17it/s]"
     ]
    },
    {
     "name": "stdout",
     "output_type": "stream",
     "text": [
      ">best! 110, 60903500000000\n"
     ]
    },
    {
     "name": "stderr",
     "output_type": "stream",
     "text": [
      " 23%|██▎       | 114/500 [00:19<01:14,  5.15it/s]"
     ]
    },
    {
     "name": "stdout",
     "output_type": "stream",
     "text": [
      ">best! 113, 60784000000000\n"
     ]
    },
    {
     "name": "stderr",
     "output_type": "stream",
     "text": [
      " 38%|███▊      | 191/500 [00:34<00:50,  6.11it/s]"
     ]
    },
    {
     "name": "stdout",
     "output_type": "stream",
     "text": [
      ">best! 190, 59522820000000\n"
     ]
    },
    {
     "name": "stderr",
     "output_type": "stream",
     "text": [
      " 69%|██████▉   | 344/500 [01:01<00:23,  6.55it/s]"
     ]
    },
    {
     "name": "stdout",
     "output_type": "stream",
     "text": [
      ">best! 343, 58152560000000\n"
     ]
    },
    {
     "name": "stderr",
     "output_type": "stream",
     "text": [
      "100%|██████████| 500/500 [01:31<00:00,  5.48it/s]\n"
     ]
    },
    {
     "name": "stdout",
     "output_type": "stream",
     "text": [
      "index_5\n",
      "140342560000000\n"
     ]
    },
    {
     "name": "stderr",
     "output_type": "stream",
     "text": [
      "  0%|          | 0/500 [00:00<?, ?it/s]"
     ]
    },
    {
     "name": "stdout",
     "output_type": "stream",
     "text": [
      ">best! 0, 112606040000000\n",
      ">best! 0, 87889260000000\n",
      ">best! 0, 86525520000000\n"
     ]
    },
    {
     "name": "stderr",
     "output_type": "stream",
     "text": [
      "  0%|          | 2/500 [00:00<01:29,  5.58it/s]"
     ]
    },
    {
     "name": "stdout",
     "output_type": "stream",
     "text": [
      ">best! 1, 73021580000000\n",
      ">best! 1, 68158760000000\n"
     ]
    },
    {
     "name": "stderr",
     "output_type": "stream",
     "text": [
      "  1%|          | 6/500 [00:01<01:52,  4.39it/s]"
     ]
    },
    {
     "name": "stdout",
     "output_type": "stream",
     "text": [
      ">best! 5, 59848840000000\n"
     ]
    },
    {
     "name": "stderr",
     "output_type": "stream",
     "text": [
      " 26%|██▌       | 129/500 [00:23<01:16,  4.83it/s]"
     ]
    },
    {
     "name": "stdout",
     "output_type": "stream",
     "text": [
      ">best! 128, 57204420000000\n"
     ]
    },
    {
     "name": "stderr",
     "output_type": "stream",
     "text": [
      " 51%|█████     | 254/500 [00:46<00:42,  5.73it/s]"
     ]
    },
    {
     "name": "stdout",
     "output_type": "stream",
     "text": [
      ">best! 253, 54808080000000\n"
     ]
    },
    {
     "name": "stderr",
     "output_type": "stream",
     "text": [
      " 91%|█████████ | 454/500 [01:18<00:07,  5.76it/s]\n"
     ]
    },
    {
     "name": "stdout",
     "output_type": "stream",
     "text": [
      "stop\n",
      "index_6\n",
      "121041920000000\n"
     ]
    },
    {
     "name": "stderr",
     "output_type": "stream",
     "text": [
      "  0%|          | 1/500 [00:00<01:30,  5.53it/s]"
     ]
    },
    {
     "name": "stdout",
     "output_type": "stream",
     "text": [
      ">best! 0, 109912260000000\n",
      ">best! 0, 103792160000000\n",
      ">best! 0, 101399720000000\n",
      ">best! 0, 93083280000000\n",
      ">best! 0, 67136580000000\n"
     ]
    },
    {
     "name": "stderr",
     "output_type": "stream",
     "text": [
      "  5%|▍         | 24/500 [00:03<01:01,  7.75it/s]"
     ]
    },
    {
     "name": "stdout",
     "output_type": "stream",
     "text": [
      ">best! 23, 64133660000000\n"
     ]
    },
    {
     "name": "stderr",
     "output_type": "stream",
     "text": [
      " 11%|█         | 56/500 [00:09<01:14,  5.95it/s]"
     ]
    },
    {
     "name": "stdout",
     "output_type": "stream",
     "text": [
      ">best! 55, 61368460000000\n"
     ]
    },
    {
     "name": "stderr",
     "output_type": "stream",
     "text": [
      " 16%|█▋        | 82/500 [00:14<01:35,  4.37it/s]"
     ]
    },
    {
     "name": "stdout",
     "output_type": "stream",
     "text": [
      ">best! 82, 59456580000000\n"
     ]
    },
    {
     "name": "stderr",
     "output_type": "stream",
     "text": [
      " 25%|██▌       | 126/500 [00:22<00:51,  7.33it/s]"
     ]
    },
    {
     "name": "stdout",
     "output_type": "stream",
     "text": [
      ">best! 125, 58963040000000\n"
     ]
    },
    {
     "name": "stderr",
     "output_type": "stream",
     "text": [
      " 35%|███▍      | 173/500 [00:31<01:00,  5.41it/s]"
     ]
    },
    {
     "name": "stdout",
     "output_type": "stream",
     "text": [
      ">best! 173, 53272860000000\n"
     ]
    },
    {
     "name": "stderr",
     "output_type": "stream",
     "text": [
      " 75%|███████▍  | 374/500 [01:04<00:21,  5.82it/s]\n"
     ]
    },
    {
     "name": "stdout",
     "output_type": "stream",
     "text": [
      "stop\n",
      "index_7\n",
      "109166740000000\n"
     ]
    },
    {
     "name": "stderr",
     "output_type": "stream",
     "text": [
      "  1%|          | 3/500 [00:00<00:19, 25.94it/s]"
     ]
    },
    {
     "name": "stdout",
     "output_type": "stream",
     "text": [
      ">best! 0, 80492440000000\n",
      ">best! 0, 75703660000000\n",
      ">best! 3, 75293240000000\n",
      ">best! 4, 72191600000000\n",
      ">best! 5, 70836940000000\n"
     ]
    },
    {
     "name": "stderr",
     "output_type": "stream",
     "text": [
      "  3%|▎         | 15/500 [00:00<00:14, 32.87it/s]"
     ]
    },
    {
     "name": "stdout",
     "output_type": "stream",
     "text": [
      ">best! 8, 67336580000000\n"
     ]
    },
    {
     "name": "stderr",
     "output_type": "stream",
     "text": [
      "  5%|▍         | 23/500 [00:00<00:15, 31.00it/s]"
     ]
    },
    {
     "name": "stdout",
     "output_type": "stream",
     "text": [
      ">best! 18, 62891980000000\n"
     ]
    },
    {
     "name": "stderr",
     "output_type": "stream",
     "text": [
      " 11%|█         | 55/500 [00:01<00:14, 31.01it/s]"
     ]
    },
    {
     "name": "stdout",
     "output_type": "stream",
     "text": [
      ">best! 49, 61425620000000\n"
     ]
    },
    {
     "name": "stderr",
     "output_type": "stream",
     "text": [
      " 14%|█▍        | 71/500 [00:02<00:14, 30.34it/s]"
     ]
    },
    {
     "name": "stdout",
     "output_type": "stream",
     "text": [
      ">best! 64, 54489860000000\n"
     ]
    },
    {
     "name": "stderr",
     "output_type": "stream",
     "text": [
      " 53%|█████▎    | 265/500 [00:09<00:08, 27.92it/s]\n"
     ]
    },
    {
     "name": "stdout",
     "output_type": "stream",
     "text": [
      "stop\n",
      "index_8\n",
      "105236460000000\n"
     ]
    },
    {
     "name": "stderr",
     "output_type": "stream",
     "text": [
      "  0%|          | 0/500 [00:00<?, ?it/s]"
     ]
    },
    {
     "name": "stdout",
     "output_type": "stream",
     "text": [
      ">best! 0, 77793480000000\n",
      ">best! 0, 71851320000000\n"
     ]
    },
    {
     "name": "stderr",
     "output_type": "stream",
     "text": [
      "  0%|          | 2/500 [00:00<02:42,  3.06it/s]"
     ]
    },
    {
     "name": "stdout",
     "output_type": "stream",
     "text": [
      ">best! 2, 71321400000000\n"
     ]
    },
    {
     "name": "stderr",
     "output_type": "stream",
     "text": [
      "  4%|▍         | 20/500 [00:06<01:59,  4.01it/s]"
     ]
    },
    {
     "name": "stdout",
     "output_type": "stream",
     "text": [
      ">best! 20, 68428900000000\n"
     ]
    },
    {
     "name": "stderr",
     "output_type": "stream",
     "text": [
      "  6%|▌         | 28/500 [00:09<02:16,  3.46it/s]"
     ]
    },
    {
     "name": "stdout",
     "output_type": "stream",
     "text": [
      ">best! 28, 66222200000000\n"
     ]
    },
    {
     "name": "stderr",
     "output_type": "stream",
     "text": [
      " 16%|█▌        | 79/500 [00:32<03:19,  2.11it/s]"
     ]
    },
    {
     "name": "stdout",
     "output_type": "stream",
     "text": [
      ">best! 79, 65689660000000\n"
     ]
    },
    {
     "name": "stderr",
     "output_type": "stream",
     "text": [
      " 20%|█▉        | 98/500 [00:37<01:43,  3.89it/s]"
     ]
    },
    {
     "name": "stdout",
     "output_type": "stream",
     "text": [
      ">best! 98, 61733420000000\n",
      ">best! 98, 56430320000000\n"
     ]
    },
    {
     "name": "stderr",
     "output_type": "stream",
     "text": [
      " 40%|████      | 200/500 [01:21<01:58,  2.54it/s]"
     ]
    },
    {
     "name": "stdout",
     "output_type": "stream",
     "text": [
      ">best! 200, 52516920000000\n"
     ]
    },
    {
     "name": "stderr",
     "output_type": "stream",
     "text": [
      " 75%|███████▌  | 377/500 [02:24<00:37,  3.27it/s]"
     ]
    },
    {
     "name": "stdout",
     "output_type": "stream",
     "text": [
      ">best! 377, 50014060000000\n"
     ]
    },
    {
     "name": "stderr",
     "output_type": "stream",
     "text": [
      "100%|██████████| 500/500 [03:15<00:00,  2.56it/s]\n"
     ]
    },
    {
     "name": "stdout",
     "output_type": "stream",
     "text": [
      "index_1\n",
      "2312500\n"
     ]
    },
    {
     "name": "stderr",
     "output_type": "stream",
     "text": [
      "  1%|          | 4/500 [00:00<00:13, 36.04it/s]"
     ]
    },
    {
     "name": "stdout",
     "output_type": "stream",
     "text": [
      ">best! 0, 2109000\n",
      ">best! 0, 1739000\n",
      ">best! 0, 980500\n",
      ">best! 0, 296000\n",
      ">best! 4, 37000\n"
     ]
    },
    {
     "name": "stderr",
     "output_type": "stream",
     "text": [
      "  5%|▌         | 25/500 [00:00<00:18, 25.35it/s]"
     ]
    },
    {
     "name": "stdout",
     "output_type": "stream",
     "text": [
      ">best! 23, 0\n"
     ]
    },
    {
     "name": "stderr",
     "output_type": "stream",
     "text": [
      " 45%|████▍     | 224/500 [00:09<00:11, 23.39it/s]\n",
      "/tmp/ipykernel_257810/669356985.py:278: FutureWarning: Setting an item of incompatible dtype is deprecated and will raise an error in a future version of pandas. Value '0:00:09.583025' has dtype incompatible with float64, please explicitly cast to a compatible dtype first.\n",
      "  hyper_parameters.loc[i, 'time'] = elapsed_time\n"
     ]
    },
    {
     "name": "stdout",
     "output_type": "stream",
     "text": [
      "stop\n",
      "index_2\n",
      "610500\n"
     ]
    },
    {
     "name": "stderr",
     "output_type": "stream",
     "text": [
      "  1%|          | 3/500 [00:00<00:19, 24.92it/s]"
     ]
    },
    {
     "name": "stdout",
     "output_type": "stream",
     "text": [
      ">best! 0, 55500\n"
     ]
    },
    {
     "name": "stderr",
     "output_type": "stream",
     "text": [
      "  2%|▏         | 11/500 [00:00<00:40, 12.13it/s]"
     ]
    },
    {
     "name": "stdout",
     "output_type": "stream",
     "text": [
      ">best! 10, 0\n"
     ]
    },
    {
     "name": "stderr",
     "output_type": "stream",
     "text": [
      " 42%|████▏     | 211/500 [00:12<00:16, 17.30it/s]\n"
     ]
    },
    {
     "name": "stdout",
     "output_type": "stream",
     "text": [
      "stop\n",
      "index_3\n",
      "2682500\n"
     ]
    },
    {
     "name": "stderr",
     "output_type": "stream",
     "text": [
      "  0%|          | 1/500 [00:00<01:01,  8.11it/s]"
     ]
    },
    {
     "name": "stdout",
     "output_type": "stream",
     "text": [
      ">best! 0, 2146000\n",
      ">best! 0, 1239500\n",
      ">best! 0, 647500\n",
      ">best! 0, 296000\n",
      ">best! 0, 277500\n",
      ">best! 0, 259000\n",
      ">best! 1, 0\n"
     ]
    },
    {
     "name": "stderr",
     "output_type": "stream",
     "text": [
      " 40%|████      | 202/500 [00:30<00:45,  6.60it/s]\n"
     ]
    },
    {
     "name": "stdout",
     "output_type": "stream",
     "text": [
      "stop\n",
      "index_4\n",
      "2627000\n"
     ]
    },
    {
     "name": "stderr",
     "output_type": "stream",
     "text": [
      "  1%|          | 3/500 [00:00<00:23, 21.27it/s]"
     ]
    },
    {
     "name": "stdout",
     "output_type": "stream",
     "text": [
      ">best! 0, 721500\n",
      ">best! 0, 55500\n",
      ">best! 1, 0\n"
     ]
    },
    {
     "name": "stderr",
     "output_type": "stream",
     "text": [
      " 40%|████      | 202/500 [00:15<00:23, 12.82it/s]\n"
     ]
    },
    {
     "name": "stdout",
     "output_type": "stream",
     "text": [
      "stop\n",
      "index_5\n",
      "1369000\n"
     ]
    },
    {
     "name": "stderr",
     "output_type": "stream",
     "text": [
      "  0%|          | 2/500 [00:00<00:32, 15.28it/s]"
     ]
    },
    {
     "name": "stdout",
     "output_type": "stream",
     "text": [
      ">best! 0, 1091500\n",
      ">best! 0, 129500\n",
      ">best! 2, 0\n"
     ]
    },
    {
     "name": "stderr",
     "output_type": "stream",
     "text": [
      " 41%|████      | 203/500 [00:16<00:23, 12.63it/s]\n"
     ]
    },
    {
     "name": "stdout",
     "output_type": "stream",
     "text": [
      "stop\n",
      "index_6\n",
      "1831500\n"
     ]
    },
    {
     "name": "stderr",
     "output_type": "stream",
     "text": [
      "  0%|          | 2/500 [00:00<00:27, 18.06it/s]"
     ]
    },
    {
     "name": "stdout",
     "output_type": "stream",
     "text": [
      ">best! 0, 1406000\n",
      ">best! 0, 1369000\n",
      ">best! 0, 203500\n",
      ">best! 0, 74000\n",
      ">best! 3, 0\n"
     ]
    },
    {
     "name": "stderr",
     "output_type": "stream",
     "text": [
      " 41%|████      | 204/500 [00:13<00:19, 15.22it/s]\n"
     ]
    },
    {
     "name": "stdout",
     "output_type": "stream",
     "text": [
      "stop\n",
      "index_7\n",
      "1406000\n"
     ]
    },
    {
     "name": "stderr",
     "output_type": "stream",
     "text": [
      "  2%|▏         | 9/500 [00:00<00:05, 84.82it/s]"
     ]
    },
    {
     "name": "stdout",
     "output_type": "stream",
     "text": [
      ">best! 0, 629000\n",
      ">best! 0, 0\n"
     ]
    },
    {
     "name": "stderr",
     "output_type": "stream",
     "text": [
      " 40%|████      | 201/500 [00:05<00:07, 37.59it/s]\n"
     ]
    },
    {
     "name": "stdout",
     "output_type": "stream",
     "text": [
      "stop\n",
      "index_8\n",
      "3515000000000\n"
     ]
    },
    {
     "name": "stderr",
     "output_type": "stream",
     "text": [
      "  0%|          | 1/500 [00:00<00:50,  9.95it/s]"
     ]
    },
    {
     "name": "stdout",
     "output_type": "stream",
     "text": [
      ">best! 0, 3163500\n",
      ">best! 0, 2608500\n",
      ">best! 0, 1572500\n",
      ">best! 0, 555000\n",
      ">best! 0, 55500\n"
     ]
    },
    {
     "name": "stderr",
     "output_type": "stream",
     "text": [
      "  1%|▏         | 7/500 [00:01<01:22,  6.01it/s]"
     ]
    },
    {
     "name": "stdout",
     "output_type": "stream",
     "text": [
      ">best! 6, 37000\n"
     ]
    },
    {
     "name": "stderr",
     "output_type": "stream",
     "text": [
      "  2%|▏         | 12/500 [00:01<00:54,  8.96it/s]"
     ]
    },
    {
     "name": "stdout",
     "output_type": "stream",
     "text": [
      ">best! 11, 0\n"
     ]
    },
    {
     "name": "stderr",
     "output_type": "stream",
     "text": [
      " 42%|████▏     | 212/500 [00:20<00:27, 10.29it/s]\n"
     ]
    },
    {
     "name": "stdout",
     "output_type": "stream",
     "text": [
      "stop\n",
      "index_1\n",
      "7752000\n"
     ]
    },
    {
     "name": "stderr",
     "output_type": "stream",
     "text": [
      "  1%|          | 5/500 [00:00<00:10, 47.66it/s]"
     ]
    },
    {
     "name": "stdout",
     "output_type": "stream",
     "text": [
      ">best! 0, 6056250\n",
      ">best! 0, 5814000\n",
      ">best! 0, 5571750\n",
      ">best! 0, 5087250\n",
      ">best! 1, 2180250\n",
      ">best! 8, 242250\n"
     ]
    },
    {
     "name": "stderr",
     "output_type": "stream",
     "text": [
      "  6%|▌         | 30/500 [00:00<00:07, 59.80it/s]"
     ]
    },
    {
     "name": "stdout",
     "output_type": "stream",
     "text": [
      ">best! 20, 0\n"
     ]
    },
    {
     "name": "stderr",
     "output_type": "stream",
     "text": [
      " 44%|████▍     | 221/500 [00:05<00:06, 41.95it/s]\n",
      "/tmp/ipykernel_257810/669356985.py:278: FutureWarning: Setting an item of incompatible dtype is deprecated and will raise an error in a future version of pandas. Value '0:00:05.274903' has dtype incompatible with float64, please explicitly cast to a compatible dtype first.\n",
      "  hyper_parameters.loc[i, 'time'] = elapsed_time\n"
     ]
    },
    {
     "name": "stdout",
     "output_type": "stream",
     "text": [
      "stop\n",
      "index_2\n",
      "1453500\n"
     ]
    },
    {
     "name": "stderr",
     "output_type": "stream",
     "text": [
      "  1%|          | 3/500 [00:00<00:21, 22.92it/s]"
     ]
    },
    {
     "name": "stdout",
     "output_type": "stream",
     "text": [
      ">best! 2, 726750\n",
      ">best! 2, 242250\n"
     ]
    },
    {
     "name": "stderr",
     "output_type": "stream",
     "text": [
      " 22%|██▏       | 112/500 [00:07<00:26, 14.45it/s]"
     ]
    },
    {
     "name": "stdout",
     "output_type": "stream",
     "text": [
      ">best! 110, 0\n"
     ]
    },
    {
     "name": "stderr",
     "output_type": "stream",
     "text": [
      " 62%|██████▏   | 311/500 [00:18<00:10, 17.27it/s]\n"
     ]
    },
    {
     "name": "stdout",
     "output_type": "stream",
     "text": [
      "stop\n",
      "index_3\n",
      "7752000\n"
     ]
    },
    {
     "name": "stderr",
     "output_type": "stream",
     "text": [
      "  0%|          | 2/500 [00:00<00:36, 13.60it/s]"
     ]
    },
    {
     "name": "stdout",
     "output_type": "stream",
     "text": [
      ">best! 0, 5571750\n",
      ">best! 0, 4360500\n",
      ">best! 0, 3391500\n",
      ">best! 0, 2907000\n",
      ">best! 0, 2664750\n",
      ">best! 1, 2422500\n",
      ">best! 2, 2180250\n"
     ]
    },
    {
     "name": "stderr",
     "output_type": "stream",
     "text": [
      "  1%|          | 6/500 [00:00<00:34, 14.42it/s]"
     ]
    },
    {
     "name": "stdout",
     "output_type": "stream",
     "text": [
      ">best! 4, 726750\n"
     ]
    },
    {
     "name": "stderr",
     "output_type": "stream",
     "text": [
      "  4%|▎         | 18/500 [00:01<00:52,  9.25it/s]"
     ]
    },
    {
     "name": "stdout",
     "output_type": "stream",
     "text": [
      ">best! 18, 484500\n"
     ]
    },
    {
     "name": "stderr",
     "output_type": "stream",
     "text": [
      "  7%|▋         | 34/500 [00:03<00:37, 12.58it/s]"
     ]
    },
    {
     "name": "stdout",
     "output_type": "stream",
     "text": [
      ">best! 31, 242250\n"
     ]
    },
    {
     "name": "stderr",
     "output_type": "stream",
     "text": [
      " 17%|█▋        | 83/500 [00:08<00:40, 10.38it/s]"
     ]
    },
    {
     "name": "stdout",
     "output_type": "stream",
     "text": [
      ">best! 81, 0\n"
     ]
    },
    {
     "name": "stderr",
     "output_type": "stream",
     "text": [
      " 56%|█████▋    | 282/500 [00:25<00:19, 10.97it/s]\n"
     ]
    },
    {
     "name": "stdout",
     "output_type": "stream",
     "text": [
      "stop\n",
      "index_4\n",
      "3633750\n"
     ]
    },
    {
     "name": "stderr",
     "output_type": "stream",
     "text": [
      "  1%|          | 3/500 [00:00<00:21, 23.14it/s]"
     ]
    },
    {
     "name": "stdout",
     "output_type": "stream",
     "text": [
      ">best! 0, 3391500\n",
      ">best! 0, 3149250\n",
      ">best! 0, 1695750\n",
      ">best! 3, 484500\n"
     ]
    },
    {
     "name": "stderr",
     "output_type": "stream",
     "text": [
      "  2%|▏         | 12/500 [00:00<00:23, 20.85it/s]"
     ]
    },
    {
     "name": "stdout",
     "output_type": "stream",
     "text": [
      ">best! 12, 0\n"
     ]
    },
    {
     "name": "stderr",
     "output_type": "stream",
     "text": [
      " 43%|████▎     | 213/500 [00:11<00:14, 19.30it/s]\n"
     ]
    },
    {
     "name": "stdout",
     "output_type": "stream",
     "text": [
      "stop\n",
      "index_5\n",
      "6540750\n"
     ]
    },
    {
     "name": "stderr",
     "output_type": "stream",
     "text": [
      "  1%|          | 3/500 [00:00<00:20, 24.26it/s]"
     ]
    },
    {
     "name": "stdout",
     "output_type": "stream",
     "text": [
      ">best! 0, 2664750\n",
      ">best! 0, 2422500\n",
      ">best! 0, 2180250\n",
      ">best! 1, 1938000\n",
      ">best! 5, 1453500\n"
     ]
    },
    {
     "name": "stderr",
     "output_type": "stream",
     "text": [
      "  3%|▎         | 14/500 [00:00<00:22, 21.97it/s]"
     ]
    },
    {
     "name": "stdout",
     "output_type": "stream",
     "text": [
      ">best! 12, 1211250\n"
     ]
    },
    {
     "name": "stderr",
     "output_type": "stream",
     "text": [
      "  6%|▌         | 28/500 [00:01<00:19, 24.33it/s]"
     ]
    },
    {
     "name": "stdout",
     "output_type": "stream",
     "text": [
      ">best! 24, 726750\n",
      ">best! 24, 484500\n"
     ]
    },
    {
     "name": "stderr",
     "output_type": "stream",
     "text": [
      " 15%|█▌        | 77/500 [00:03<00:21, 19.36it/s]"
     ]
    },
    {
     "name": "stdout",
     "output_type": "stream",
     "text": [
      ">best! 72, 242250\n"
     ]
    },
    {
     "name": "stderr",
     "output_type": "stream",
     "text": [
      " 54%|█████▍    | 269/500 [00:10<00:06, 37.14it/s]"
     ]
    },
    {
     "name": "stdout",
     "output_type": "stream",
     "text": [
      ">best! 265, 0\n"
     ]
    },
    {
     "name": "stderr",
     "output_type": "stream",
     "text": [
      " 93%|█████████▎| 466/500 [00:20<00:01, 22.57it/s]\n"
     ]
    },
    {
     "name": "stdout",
     "output_type": "stream",
     "text": [
      "stop\n",
      "index_6\n",
      "5087250\n"
     ]
    },
    {
     "name": "stderr",
     "output_type": "stream",
     "text": [
      "  1%|          | 4/500 [00:00<00:17, 28.56it/s]"
     ]
    },
    {
     "name": "stdout",
     "output_type": "stream",
     "text": [
      ">best! 0, 3391500\n",
      ">best! 0, 2180250\n",
      ">best! 2, 242250\n"
     ]
    },
    {
     "name": "stderr",
     "output_type": "stream",
     "text": [
      "  8%|▊         | 39/500 [00:02<00:26, 17.57it/s]"
     ]
    },
    {
     "name": "stdout",
     "output_type": "stream",
     "text": [
      ">best! 34, 0\n"
     ]
    },
    {
     "name": "stderr",
     "output_type": "stream",
     "text": [
      " 47%|████▋     | 235/500 [00:10<00:12, 21.93it/s]\n"
     ]
    },
    {
     "name": "stdout",
     "output_type": "stream",
     "text": [
      "stop\n",
      "index_7\n",
      "4360500\n"
     ]
    },
    {
     "name": "stderr",
     "output_type": "stream",
     "text": [
      "  2%|▏         | 11/500 [00:00<00:04, 102.46it/s]"
     ]
    },
    {
     "name": "stdout",
     "output_type": "stream",
     "text": [
      ">best! 0, 3633750\n",
      ">best! 1, 3149250\n",
      ">best! 1, 969000\n",
      ">best! 2, 484500\n",
      ">best! 8, 242250\n"
     ]
    },
    {
     "name": "stderr",
     "output_type": "stream",
     "text": [
      "  7%|▋         | 33/500 [00:00<00:06, 69.66it/s] "
     ]
    },
    {
     "name": "stdout",
     "output_type": "stream",
     "text": [
      ">best! 25, 0\n"
     ]
    },
    {
     "name": "stderr",
     "output_type": "stream",
     "text": [
      " 45%|████▌     | 226/500 [00:03<00:03, 70.21it/s]\n"
     ]
    },
    {
     "name": "stdout",
     "output_type": "stream",
     "text": [
      "stop\n",
      "index_8\n",
      "6298500\n"
     ]
    },
    {
     "name": "stderr",
     "output_type": "stream",
     "text": [
      "  0%|          | 2/500 [00:00<00:31, 15.79it/s]"
     ]
    },
    {
     "name": "stdout",
     "output_type": "stream",
     "text": [
      ">best! 0, 2180250\n",
      ">best! 0, 1938000\n",
      ">best! 2, 1695750\n"
     ]
    },
    {
     "name": "stderr",
     "output_type": "stream",
     "text": [
      "  2%|▏         | 11/500 [00:01<01:04,  7.57it/s]"
     ]
    },
    {
     "name": "stdout",
     "output_type": "stream",
     "text": [
      ">best! 10, 1211250\n"
     ]
    },
    {
     "name": "stderr",
     "output_type": "stream",
     "text": [
      "  3%|▎         | 16/500 [00:01<01:00,  8.02it/s]"
     ]
    },
    {
     "name": "stdout",
     "output_type": "stream",
     "text": [
      ">best! 15, 0\n"
     ]
    },
    {
     "name": "stderr",
     "output_type": "stream",
     "text": [
      " 43%|████▎     | 216/500 [00:20<00:27, 10.39it/s]\n"
     ]
    },
    {
     "name": "stdout",
     "output_type": "stream",
     "text": [
      "stop\n",
      "index_1\n",
      "134002840000000\n"
     ]
    },
    {
     "name": "stderr",
     "output_type": "stream",
     "text": [
      "  0%|          | 2/500 [00:00<00:28, 17.22it/s]"
     ]
    },
    {
     "name": "stdout",
     "output_type": "stream",
     "text": [
      ">best! 0, 48604080000000\n",
      ">best! 0, 31067240000000\n"
     ]
    },
    {
     "name": "stderr",
     "output_type": "stream",
     "text": [
      "  2%|▏         | 10/500 [00:00<00:32, 14.93it/s]"
     ]
    },
    {
     "name": "stdout",
     "output_type": "stream",
     "text": [
      ">best! 8, 26209480000000\n"
     ]
    },
    {
     "name": "stderr",
     "output_type": "stream",
     "text": [
      "  4%|▎         | 18/500 [00:01<00:25, 18.60it/s]"
     ]
    },
    {
     "name": "stdout",
     "output_type": "stream",
     "text": [
      ">best! 14, 21836080000000\n"
     ]
    },
    {
     "name": "stderr",
     "output_type": "stream",
     "text": [
      " 13%|█▎        | 64/500 [00:05<00:23, 18.80it/s]"
     ]
    },
    {
     "name": "stdout",
     "output_type": "stream",
     "text": [
      ">best! 62, 20805120648230\n"
     ]
    },
    {
     "name": "stderr",
     "output_type": "stream",
     "text": [
      " 22%|██▏       | 108/500 [00:08<00:27, 14.15it/s]"
     ]
    },
    {
     "name": "stdout",
     "output_type": "stream",
     "text": [
      ">best! 106, 19145620000000\n"
     ]
    },
    {
     "name": "stderr",
     "output_type": "stream",
     "text": [
      " 26%|██▌       | 130/500 [00:10<00:41,  8.90it/s]"
     ]
    },
    {
     "name": "stdout",
     "output_type": "stream",
     "text": [
      ">best! 129, 18181140000000\n"
     ]
    },
    {
     "name": "stderr",
     "output_type": "stream",
     "text": [
      " 66%|██████▌   | 330/500 [00:28<00:14, 11.55it/s]\n",
      "/tmp/ipykernel_257810/669356985.py:278: FutureWarning: Setting an item of incompatible dtype is deprecated and will raise an error in a future version of pandas. Value '0:00:28.572295' has dtype incompatible with float64, please explicitly cast to a compatible dtype first.\n",
      "  hyper_parameters.loc[i, 'time'] = elapsed_time\n"
     ]
    },
    {
     "name": "stdout",
     "output_type": "stream",
     "text": [
      "stop\n",
      "index_2\n",
      "81534900000000\n"
     ]
    },
    {
     "name": "stderr",
     "output_type": "stream",
     "text": [
      "  0%|          | 2/500 [00:00<00:48, 10.33it/s]"
     ]
    },
    {
     "name": "stdout",
     "output_type": "stream",
     "text": [
      ">best! 0, 61193640000000\n",
      ">best! 0, 41052120000000\n",
      ">best! 0, 32578520000000\n",
      ">best! 2, 18251460000000\n"
     ]
    },
    {
     "name": "stderr",
     "output_type": "stream",
     "text": [
      " 10%|█         | 50/500 [00:07<01:50,  4.08it/s]"
     ]
    },
    {
     "name": "stdout",
     "output_type": "stream",
     "text": [
      ">best! 50, 15482800000000\n"
     ]
    },
    {
     "name": "stderr",
     "output_type": "stream",
     "text": [
      " 50%|█████     | 251/500 [00:37<00:37,  6.66it/s]\n"
     ]
    },
    {
     "name": "stdout",
     "output_type": "stream",
     "text": [
      "stop\n",
      "index_3\n",
      "120483360000000\n"
     ]
    },
    {
     "name": "stderr",
     "output_type": "stream",
     "text": [
      "  0%|          | 0/500 [00:00<?, ?it/s]"
     ]
    },
    {
     "name": "stdout",
     "output_type": "stream",
     "text": [
      ">best! 0, 77880060000000\n",
      ">best! 0, 25139521304270\n"
     ]
    },
    {
     "name": "stderr",
     "output_type": "stream",
     "text": [
      "  0%|          | 2/500 [00:00<03:14,  2.56it/s]"
     ]
    },
    {
     "name": "stdout",
     "output_type": "stream",
     "text": [
      ">best! 2, 22511600000000\n"
     ]
    },
    {
     "name": "stderr",
     "output_type": "stream",
     "text": [
      "  3%|▎         | 16/500 [00:03<01:34,  5.14it/s]"
     ]
    },
    {
     "name": "stdout",
     "output_type": "stream",
     "text": [
      ">best! 15, 21238560140580\n"
     ]
    },
    {
     "name": "stderr",
     "output_type": "stream",
     "text": [
      "  5%|▌         | 27/500 [00:06<02:29,  3.16it/s]"
     ]
    },
    {
     "name": "stdout",
     "output_type": "stream",
     "text": [
      ">best! 27, 16615200945010\n"
     ]
    },
    {
     "name": "stderr",
     "output_type": "stream",
     "text": [
      " 16%|█▌        | 78/500 [00:22<01:29,  4.73it/s]"
     ]
    },
    {
     "name": "stdout",
     "output_type": "stream",
     "text": [
      ">best! 77, 12858721702580\n"
     ]
    },
    {
     "name": "stderr",
     "output_type": "stream",
     "text": [
      " 56%|█████▌    | 278/500 [01:21<01:05,  3.40it/s]\n"
     ]
    },
    {
     "name": "stdout",
     "output_type": "stream",
     "text": [
      "stop\n",
      "index_4\n",
      "91778420000000\n"
     ]
    },
    {
     "name": "stderr",
     "output_type": "stream",
     "text": [
      "  0%|          | 1/500 [00:00<01:04,  7.76it/s]"
     ]
    },
    {
     "name": "stdout",
     "output_type": "stream",
     "text": [
      ">best! 0, 38436020000000\n",
      ">best! 0, 32180140000000\n"
     ]
    },
    {
     "name": "stderr",
     "output_type": "stream",
     "text": [
      "  2%|▏         | 9/500 [00:02<02:22,  3.44it/s]"
     ]
    },
    {
     "name": "stdout",
     "output_type": "stream",
     "text": [
      ">best! 9, 15603840492030\n"
     ]
    },
    {
     "name": "stderr",
     "output_type": "stream",
     "text": [
      " 12%|█▏        | 58/500 [00:11<01:20,  5.52it/s]"
     ]
    },
    {
     "name": "stdout",
     "output_type": "stream",
     "text": [
      ">best! 58, 15443900000000\n"
     ]
    },
    {
     "name": "stderr",
     "output_type": "stream",
     "text": [
      " 52%|█████▏    | 259/500 [00:39<00:36,  6.59it/s]\n"
     ]
    },
    {
     "name": "stdout",
     "output_type": "stream",
     "text": [
      "stop\n",
      "index_5\n",
      "51388600000000\n"
     ]
    },
    {
     "name": "stderr",
     "output_type": "stream",
     "text": [
      "  1%|          | 3/500 [00:00<00:54,  9.17it/s]"
     ]
    },
    {
     "name": "stdout",
     "output_type": "stream",
     "text": [
      ">best! 2, 47850960000000\n",
      ">best! 3, 43860080000000\n"
     ]
    },
    {
     "name": "stderr",
     "output_type": "stream",
     "text": [
      "  1%|          | 5/500 [00:00<01:12,  6.86it/s]"
     ]
    },
    {
     "name": "stdout",
     "output_type": "stream",
     "text": [
      ">best! 4, 40201100000000\n",
      ">best! 4, 31793580000000\n"
     ]
    },
    {
     "name": "stderr",
     "output_type": "stream",
     "text": [
      "  1%|▏         | 7/500 [00:00<01:09,  7.11it/s]"
     ]
    },
    {
     "name": "stdout",
     "output_type": "stream",
     "text": [
      ">best! 6, 28064580000000\n"
     ]
    },
    {
     "name": "stderr",
     "output_type": "stream",
     "text": [
      "  2%|▏         | 10/500 [00:01<01:18,  6.21it/s]"
     ]
    },
    {
     "name": "stdout",
     "output_type": "stream",
     "text": [
      ">best! 9, 25455960000000\n"
     ]
    },
    {
     "name": "stderr",
     "output_type": "stream",
     "text": [
      "  2%|▏         | 12/500 [00:01<01:11,  6.83it/s]"
     ]
    },
    {
     "name": "stdout",
     "output_type": "stream",
     "text": [
      ">best! 11, 23261280898150\n"
     ]
    },
    {
     "name": "stderr",
     "output_type": "stream",
     "text": [
      "  3%|▎         | 15/500 [00:02<01:14,  6.53it/s]"
     ]
    },
    {
     "name": "stdout",
     "output_type": "stream",
     "text": [
      ">best! 14, 21383040406120\n"
     ]
    },
    {
     "name": "stderr",
     "output_type": "stream",
     "text": [
      " 12%|█▏        | 61/500 [00:07<00:53,  8.27it/s]"
     ]
    },
    {
     "name": "stdout",
     "output_type": "stream",
     "text": [
      ">best! 59, 17193121897830\n"
     ]
    },
    {
     "name": "stderr",
     "output_type": "stream",
     "text": [
      " 22%|██▏       | 112/500 [00:14<01:19,  4.88it/s]"
     ]
    },
    {
     "name": "stdout",
     "output_type": "stream",
     "text": [
      ">best! 112, 16787060000000\n"
     ]
    },
    {
     "name": "stderr",
     "output_type": "stream",
     "text": [
      " 39%|███▉      | 195/500 [00:31<00:47,  6.39it/s]"
     ]
    },
    {
     "name": "stdout",
     "output_type": "stream",
     "text": [
      ">best! 194, 15143120000000\n"
     ]
    },
    {
     "name": "stderr",
     "output_type": "stream",
     "text": [
      " 57%|█████▋    | 287/500 [00:47<00:25,  8.51it/s]"
     ]
    },
    {
     "name": "stdout",
     "output_type": "stream",
     "text": [
      ">best! 286, 13147680468600\n"
     ]
    },
    {
     "name": "stderr",
     "output_type": "stream",
     "text": [
      " 97%|█████████▋| 487/500 [01:12<00:01,  6.67it/s]\n"
     ]
    },
    {
     "name": "stdout",
     "output_type": "stream",
     "text": [
      "stop\n",
      "index_6\n",
      "43727620000000\n"
     ]
    },
    {
     "name": "stderr",
     "output_type": "stream",
     "text": [
      "  0%|          | 1/500 [00:00<01:28,  5.62it/s]"
     ]
    },
    {
     "name": "stdout",
     "output_type": "stream",
     "text": [
      ">best! 0, 33187860000000\n"
     ]
    },
    {
     "name": "stderr",
     "output_type": "stream",
     "text": [
      "  1%|          | 3/500 [00:00<01:05,  7.62it/s]"
     ]
    },
    {
     "name": "stdout",
     "output_type": "stream",
     "text": [
      ">best! 2, 23839200054670\n"
     ]
    },
    {
     "name": "stderr",
     "output_type": "stream",
     "text": [
      " 10%|█         | 50/500 [00:06<01:20,  5.62it/s]"
     ]
    },
    {
     "name": "stdout",
     "output_type": "stream",
     "text": [
      ">best! 50, 21746460000000\n"
     ]
    },
    {
     "name": "stderr",
     "output_type": "stream",
     "text": [
      " 11%|█         | 55/500 [00:07<01:26,  5.12it/s]"
     ]
    },
    {
     "name": "stdout",
     "output_type": "stream",
     "text": [
      ">best! 54, 20660840000000\n"
     ]
    },
    {
     "name": "stderr",
     "output_type": "stream",
     "text": [
      " 14%|█▎        | 68/500 [00:09<01:39,  4.35it/s]"
     ]
    },
    {
     "name": "stdout",
     "output_type": "stream",
     "text": [
      ">best! 68, 19938241546380\n",
      ">best! 68, 17626560616990\n"
     ]
    },
    {
     "name": "stderr",
     "output_type": "stream",
     "text": [
      " 34%|███▍      | 169/500 [00:27<00:32, 10.18it/s]"
     ]
    },
    {
     "name": "stdout",
     "output_type": "stream",
     "text": [
      ">best! 167, 9883240000000\n"
     ]
    },
    {
     "name": "stderr",
     "output_type": "stream",
     "text": [
      " 74%|███████▎  | 368/500 [01:05<00:23,  5.65it/s]\n"
     ]
    },
    {
     "name": "stdout",
     "output_type": "stream",
     "text": [
      "stop\n",
      "index_7\n",
      "52388940000000\n"
     ]
    },
    {
     "name": "stderr",
     "output_type": "stream",
     "text": [
      "  0%|          | 2/500 [00:00<00:27, 17.87it/s]"
     ]
    },
    {
     "name": "stdout",
     "output_type": "stream",
     "text": [
      ">best! 0, 45730240000000\n",
      ">best! 0, 39954680000000\n",
      ">best! 1, 15603840374880\n"
     ]
    },
    {
     "name": "stderr",
     "output_type": "stream",
     "text": [
      " 40%|████      | 202/500 [00:06<00:09, 29.80it/s]\n"
     ]
    },
    {
     "name": "stdout",
     "output_type": "stream",
     "text": [
      "stop\n",
      "index_8\n",
      "54391460000000\n"
     ]
    },
    {
     "name": "stderr",
     "output_type": "stream",
     "text": [
      "  0%|          | 1/500 [00:00<01:31,  5.48it/s]"
     ]
    },
    {
     "name": "stdout",
     "output_type": "stream",
     "text": [
      ">best! 0, 43562740000000\n",
      ">best! 0, 32363520164010\n",
      ">best! 1, 23023140000000\n"
     ]
    },
    {
     "name": "stderr",
     "output_type": "stream",
     "text": [
      "  1%|          | 4/500 [00:00<01:30,  5.51it/s]"
     ]
    },
    {
     "name": "stdout",
     "output_type": "stream",
     "text": [
      ">best! 3, 22972321116830\n"
     ]
    },
    {
     "name": "stderr",
     "output_type": "stream",
     "text": [
      "  2%|▏         | 10/500 [00:03<02:46,  2.95it/s]"
     ]
    },
    {
     "name": "stdout",
     "output_type": "stream",
     "text": [
      ">best! 10, 22152320000000\n"
     ]
    },
    {
     "name": "stderr",
     "output_type": "stream",
     "text": [
      "  8%|▊         | 42/500 [00:10<01:39,  4.60it/s]"
     ]
    },
    {
     "name": "stdout",
     "output_type": "stream",
     "text": [
      ">best! 42, 13292160585750\n"
     ]
    },
    {
     "name": "stderr",
     "output_type": "stream",
     "text": [
      " 14%|█▍        | 71/500 [00:17<01:36,  4.43it/s]"
     ]
    },
    {
     "name": "stdout",
     "output_type": "stream",
     "text": [
      ">best! 70, 12644020000000\n"
     ]
    },
    {
     "name": "stderr",
     "output_type": "stream",
     "text": [
      " 54%|█████▍    | 271/500 [01:09<00:58,  3.92it/s]\n"
     ]
    },
    {
     "name": "stdout",
     "output_type": "stream",
     "text": [
      "stop\n",
      "index_1\n",
      "8461273\n"
     ]
    },
    {
     "name": "stderr",
     "output_type": "stream",
     "text": [
      "  0%|          | 0/500 [00:00<?, ?it/s]"
     ]
    },
    {
     "name": "stdout",
     "output_type": "stream",
     "text": [
      ">best! 0, 7793937\n",
      ">best! 0, 6856958\n",
      ">best! 0, 6343287\n"
     ]
    },
    {
     "name": "stderr",
     "output_type": "stream",
     "text": [
      "  1%|          | 4/500 [00:01<04:02,  2.05it/s]"
     ]
    },
    {
     "name": "stdout",
     "output_type": "stream",
     "text": [
      ">best! 4, 3824876\n"
     ]
    },
    {
     "name": "stderr",
     "output_type": "stream",
     "text": [
      "  4%|▍         | 20/500 [00:08<03:25,  2.34it/s]"
     ]
    },
    {
     "name": "stdout",
     "output_type": "stream",
     "text": [
      ">best! 20, 3576914\n"
     ]
    },
    {
     "name": "stderr",
     "output_type": "stream",
     "text": [
      " 15%|█▍        | 74/500 [00:30<02:53,  2.45it/s]"
     ]
    },
    {
     "name": "stdout",
     "output_type": "stream",
     "text": [
      ">best! 74, 1820431\n"
     ]
    },
    {
     "name": "stderr",
     "output_type": "stream",
     "text": [
      " 21%|██        | 104/500 [00:42<03:04,  2.15it/s]"
     ]
    },
    {
     "name": "stdout",
     "output_type": "stream",
     "text": [
      ">best! 104, 1315834\n"
     ]
    },
    {
     "name": "stderr",
     "output_type": "stream",
     "text": [
      " 61%|██████    | 305/500 [01:55<01:13,  2.64it/s]\n",
      "/tmp/ipykernel_257810/669356985.py:278: FutureWarning: Setting an item of incompatible dtype is deprecated and will raise an error in a future version of pandas. Value '0:01:55.549576' has dtype incompatible with float64, please explicitly cast to a compatible dtype first.\n",
      "  hyper_parameters.loc[i, 'time'] = elapsed_time\n"
     ]
    },
    {
     "name": "stdout",
     "output_type": "stream",
     "text": [
      "stop\n",
      "index_2\n",
      "30185956115190\n"
     ]
    },
    {
     "name": "stderr",
     "output_type": "stream",
     "text": [
      "  0%|          | 0/500 [00:00<?, ?it/s]"
     ]
    },
    {
     "name": "stdout",
     "output_type": "stream",
     "text": [
      ">best! 0, 13253934\n",
      ">best! 0, 8941991\n"
     ]
    },
    {
     "name": "stderr",
     "output_type": "stream",
     "text": [
      "  0%|          | 1/500 [00:00<04:20,  1.92it/s]"
     ]
    },
    {
     "name": "stdout",
     "output_type": "stream",
     "text": [
      ">best! 1, 8461626\n",
      ">best! 1, 6504020\n"
     ]
    },
    {
     "name": "stderr",
     "output_type": "stream",
     "text": [
      "  1%|          | 3/500 [00:01<04:20,  1.91it/s]"
     ]
    },
    {
     "name": "stdout",
     "output_type": "stream",
     "text": [
      ">best! 3, 3848012\n"
     ]
    },
    {
     "name": "stderr",
     "output_type": "stream",
     "text": [
      "  2%|▏         | 8/500 [00:04<05:17,  1.55it/s]"
     ]
    },
    {
     "name": "stdout",
     "output_type": "stream",
     "text": [
      ">best! 8, 3809771\n"
     ]
    },
    {
     "name": "stderr",
     "output_type": "stream",
     "text": [
      "  2%|▏         | 12/500 [00:07<05:55,  1.37it/s]"
     ]
    },
    {
     "name": "stdout",
     "output_type": "stream",
     "text": [
      ">best! 12, 3104693\n"
     ]
    },
    {
     "name": "stderr",
     "output_type": "stream",
     "text": [
      "  5%|▌         | 25/500 [00:18<07:41,  1.03it/s]"
     ]
    },
    {
     "name": "stdout",
     "output_type": "stream",
     "text": [
      ">best! 25, 3089877\n"
     ]
    },
    {
     "name": "stderr",
     "output_type": "stream",
     "text": [
      "  5%|▌         | 27/500 [00:19<06:50,  1.15it/s]"
     ]
    },
    {
     "name": "stdout",
     "output_type": "stream",
     "text": [
      ">best! 27, 2957449\n"
     ]
    },
    {
     "name": "stderr",
     "output_type": "stream",
     "text": [
      "  6%|▌         | 29/500 [00:22<08:18,  1.06s/it]"
     ]
    },
    {
     "name": "stdout",
     "output_type": "stream",
     "text": [
      ">best! 29, 2167375\n"
     ]
    },
    {
     "name": "stderr",
     "output_type": "stream",
     "text": [
      " 18%|█▊        | 90/500 [01:07<05:37,  1.21it/s]"
     ]
    },
    {
     "name": "stdout",
     "output_type": "stream",
     "text": [
      ">best! 90, 1807284\n"
     ]
    },
    {
     "name": "stderr",
     "output_type": "stream",
     "text": [
      " 22%|██▏       | 111/500 [01:21<03:59,  1.63it/s]"
     ]
    },
    {
     "name": "stdout",
     "output_type": "stream",
     "text": [
      ">best! 111, 1753803\n"
     ]
    },
    {
     "name": "stderr",
     "output_type": "stream",
     "text": [
      " 27%|██▋       | 134/500 [01:40<04:10,  1.46it/s]"
     ]
    },
    {
     "name": "stdout",
     "output_type": "stream",
     "text": [
      ">best! 134, 1574240\n"
     ]
    },
    {
     "name": "stderr",
     "output_type": "stream",
     "text": [
      " 46%|████▌     | 230/500 [03:00<03:47,  1.19it/s]"
     ]
    },
    {
     "name": "stdout",
     "output_type": "stream",
     "text": [
      ">best! 230, 1463715\n"
     ]
    },
    {
     "name": "stderr",
     "output_type": "stream",
     "text": [
      " 49%|████▉     | 247/500 [03:12<03:49,  1.10it/s]"
     ]
    },
    {
     "name": "stdout",
     "output_type": "stream",
     "text": [
      ">best! 247, 542225\n"
     ]
    },
    {
     "name": "stderr",
     "output_type": "stream",
     "text": [
      " 90%|████████▉ | 448/500 [06:02<00:42,  1.23it/s]\n"
     ]
    },
    {
     "name": "stdout",
     "output_type": "stream",
     "text": [
      "stop\n",
      "index_3\n",
      "10035281\n"
     ]
    },
    {
     "name": "stderr",
     "output_type": "stream",
     "text": [
      "  0%|          | 0/500 [00:00<?, ?it/s]"
     ]
    },
    {
     "name": "stdout",
     "output_type": "stream",
     "text": [
      ">best! 0, 9642988\n",
      ">best! 0, 4749231\n",
      ">best! 0, 3860438\n"
     ]
    },
    {
     "name": "stderr",
     "output_type": "stream",
     "text": [
      "  1%|          | 5/500 [00:07<11:28,  1.39s/it]"
     ]
    },
    {
     "name": "stdout",
     "output_type": "stream",
     "text": [
      ">best! 5, 3405572\n"
     ]
    },
    {
     "name": "stderr",
     "output_type": "stream",
     "text": [
      "  1%|▏         | 7/500 [00:10<11:47,  1.44s/it]"
     ]
    },
    {
     "name": "stdout",
     "output_type": "stream",
     "text": [
      ">best! 7, 2864012\n"
     ]
    },
    {
     "name": "stderr",
     "output_type": "stream",
     "text": [
      "  2%|▏         | 10/500 [00:14<11:05,  1.36s/it]"
     ]
    },
    {
     "name": "stdout",
     "output_type": "stream",
     "text": [
      ">best! 10, 1933526\n"
     ]
    },
    {
     "name": "stderr",
     "output_type": "stream",
     "text": [
      "  7%|▋         | 34/500 [00:49<10:17,  1.32s/it]"
     ]
    },
    {
     "name": "stdout",
     "output_type": "stream",
     "text": [
      ">best! 34, 966536\n"
     ]
    },
    {
     "name": "stderr",
     "output_type": "stream",
     "text": [
      " 47%|████▋     | 235/500 [05:57<06:42,  1.52s/it]\n"
     ]
    },
    {
     "name": "stdout",
     "output_type": "stream",
     "text": [
      "stop\n",
      "index_4\n",
      "3538697\n"
     ]
    },
    {
     "name": "stderr",
     "output_type": "stream",
     "text": [
      "  5%|▌         | 26/500 [00:22<08:14,  1.04s/it]"
     ]
    },
    {
     "name": "stdout",
     "output_type": "stream",
     "text": [
      ">best! 26, 1314279\n"
     ]
    },
    {
     "name": "stderr",
     "output_type": "stream",
     "text": [
      " 16%|█▋        | 82/500 [01:08<05:04,  1.37it/s]"
     ]
    },
    {
     "name": "stdout",
     "output_type": "stream",
     "text": [
      ">best! 82, 1129548\n"
     ]
    },
    {
     "name": "stderr",
     "output_type": "stream",
     "text": [
      " 57%|█████▋    | 283/500 [03:55<03:00,  1.20it/s]\n"
     ]
    },
    {
     "name": "stdout",
     "output_type": "stream",
     "text": [
      "stop\n",
      "index_5\n",
      "24181220965890\n"
     ]
    },
    {
     "name": "stderr",
     "output_type": "stream",
     "text": [
      "  0%|          | 0/500 [00:00<?, ?it/s]"
     ]
    },
    {
     "name": "stdout",
     "output_type": "stream",
     "text": [
      ">best! 0, 23045184056390\n",
      ">best! 0, 9903350\n",
      ">best! 0, 6459293\n"
     ]
    },
    {
     "name": "stderr",
     "output_type": "stream",
     "text": [
      "  0%|          | 2/500 [00:01<06:44,  1.23it/s]"
     ]
    },
    {
     "name": "stdout",
     "output_type": "stream",
     "text": [
      ">best! 2, 4501641\n"
     ]
    },
    {
     "name": "stderr",
     "output_type": "stream",
     "text": [
      "  1%|          | 5/500 [00:03<05:11,  1.59it/s]"
     ]
    },
    {
     "name": "stdout",
     "output_type": "stream",
     "text": [
      ">best! 5, 4405578\n"
     ]
    },
    {
     "name": "stderr",
     "output_type": "stream",
     "text": [
      "  1%|          | 6/500 [00:04<06:02,  1.36it/s]"
     ]
    },
    {
     "name": "stdout",
     "output_type": "stream",
     "text": [
      ">best! 6, 3792786\n"
     ]
    },
    {
     "name": "stderr",
     "output_type": "stream",
     "text": [
      "  2%|▏         | 10/500 [00:07<05:05,  1.60it/s]"
     ]
    },
    {
     "name": "stdout",
     "output_type": "stream",
     "text": [
      ">best! 10, 3415557\n"
     ]
    },
    {
     "name": "stderr",
     "output_type": "stream",
     "text": [
      "  3%|▎         | 16/500 [00:12<07:35,  1.06it/s]"
     ]
    },
    {
     "name": "stdout",
     "output_type": "stream",
     "text": [
      ">best! 16, 3326834\n"
     ]
    },
    {
     "name": "stderr",
     "output_type": "stream",
     "text": [
      "  4%|▍         | 21/500 [00:18<09:49,  1.23s/it]"
     ]
    },
    {
     "name": "stdout",
     "output_type": "stream",
     "text": [
      ">best! 21, 3296118\n"
     ]
    },
    {
     "name": "stderr",
     "output_type": "stream",
     "text": [
      "  7%|▋         | 34/500 [00:27<05:01,  1.55it/s]"
     ]
    },
    {
     "name": "stdout",
     "output_type": "stream",
     "text": [
      ">best! 34, 2254598\n"
     ]
    },
    {
     "name": "stderr",
     "output_type": "stream",
     "text": [
      " 13%|█▎        | 65/500 [00:54<06:22,  1.14it/s]"
     ]
    },
    {
     "name": "stdout",
     "output_type": "stream",
     "text": [
      ">best! 65, 1415619\n"
     ]
    },
    {
     "name": "stderr",
     "output_type": "stream",
     "text": [
      " 53%|█████▎    | 266/500 [03:16<02:53,  1.35it/s]\n"
     ]
    },
    {
     "name": "stdout",
     "output_type": "stream",
     "text": [
      "stop\n",
      "index_6\n",
      "22882899654580\n"
     ]
    },
    {
     "name": "stderr",
     "output_type": "stream",
     "text": [
      "  0%|          | 0/500 [00:00<?, ?it/s]"
     ]
    },
    {
     "name": "stdout",
     "output_type": "stream",
     "text": [
      ">best! 0, 15973842\n",
      ">best! 0, 9895101\n",
      ">best! 0, 7676446\n",
      ">best! 0, 4465111\n"
     ]
    },
    {
     "name": "stderr",
     "output_type": "stream",
     "text": [
      "  1%|          | 4/500 [00:02<05:33,  1.49it/s]"
     ]
    },
    {
     "name": "stdout",
     "output_type": "stream",
     "text": [
      ">best! 4, 4275671\n",
      ">best! 4, 3089616\n"
     ]
    },
    {
     "name": "stderr",
     "output_type": "stream",
     "text": [
      "  3%|▎         | 13/500 [00:08<05:18,  1.53it/s]"
     ]
    },
    {
     "name": "stdout",
     "output_type": "stream",
     "text": [
      ">best! 13, 2354782\n"
     ]
    },
    {
     "name": "stderr",
     "output_type": "stream",
     "text": [
      "  7%|▋         | 34/500 [00:23<05:56,  1.31it/s]"
     ]
    },
    {
     "name": "stdout",
     "output_type": "stream",
     "text": [
      ">best! 34, 1647484\n"
     ]
    },
    {
     "name": "stderr",
     "output_type": "stream",
     "text": [
      " 22%|██▏       | 109/500 [01:15<04:13,  1.54it/s]"
     ]
    },
    {
     "name": "stdout",
     "output_type": "stream",
     "text": [
      ">best! 109, 1510984\n"
     ]
    },
    {
     "name": "stderr",
     "output_type": "stream",
     "text": [
      " 29%|██▉       | 146/500 [01:41<03:56,  1.50it/s]"
     ]
    },
    {
     "name": "stdout",
     "output_type": "stream",
     "text": [
      ">best! 146, 1425071\n"
     ]
    },
    {
     "name": "stderr",
     "output_type": "stream",
     "text": [
      " 59%|█████▉    | 296/500 [03:26<02:24,  1.41it/s]"
     ]
    },
    {
     "name": "stdout",
     "output_type": "stream",
     "text": [
      ">best! 296, 1203410\n"
     ]
    },
    {
     "name": "stderr",
     "output_type": "stream",
     "text": [
      " 65%|██████▌   | 325/500 [03:47<02:05,  1.40it/s]"
     ]
    },
    {
     "name": "stdout",
     "output_type": "stream",
     "text": [
      ">best! 325, 1023926\n"
     ]
    },
    {
     "name": "stderr",
     "output_type": "stream",
     "text": [
      "100%|██████████| 500/500 [05:49<00:00,  1.43it/s]\n"
     ]
    },
    {
     "name": "stdout",
     "output_type": "stream",
     "text": [
      "index_7\n",
      "13920285\n"
     ]
    },
    {
     "name": "stderr",
     "output_type": "stream",
     "text": [
      "  0%|          | 1/500 [00:00<01:08,  7.27it/s]"
     ]
    },
    {
     "name": "stdout",
     "output_type": "stream",
     "text": [
      ">best! 0, 7482799\n",
      ">best! 0, 1435246\n"
     ]
    },
    {
     "name": "stderr",
     "output_type": "stream",
     "text": [
      " 40%|████      | 201/500 [00:23<00:35,  8.39it/s]\n"
     ]
    },
    {
     "name": "stdout",
     "output_type": "stream",
     "text": [
      "stop\n",
      "index_8\n",
      "3732681520600\n"
     ]
    },
    {
     "name": "stderr",
     "output_type": "stream",
     "text": [
      "  0%|          | 0/500 [00:00<?, ?it/s]"
     ]
    },
    {
     "name": "stdout",
     "output_type": "stream",
     "text": [
      ">best! 0, 11958778\n",
      ">best! 0, 10804860\n"
     ]
    },
    {
     "name": "stderr",
     "output_type": "stream",
     "text": [
      "  0%|          | 1/500 [00:01<12:28,  1.50s/it]"
     ]
    },
    {
     "name": "stdout",
     "output_type": "stream",
     "text": [
      ">best! 1, 7099249\n"
     ]
    },
    {
     "name": "stderr",
     "output_type": "stream",
     "text": [
      "  0%|          | 2/500 [00:02<11:47,  1.42s/it]"
     ]
    },
    {
     "name": "stdout",
     "output_type": "stream",
     "text": [
      ">best! 2, 6982908\n"
     ]
    },
    {
     "name": "stderr",
     "output_type": "stream",
     "text": [
      "  1%|          | 3/500 [00:04<11:54,  1.44s/it]"
     ]
    },
    {
     "name": "stdout",
     "output_type": "stream",
     "text": [
      ">best! 3, 6117224\n"
     ]
    },
    {
     "name": "stderr",
     "output_type": "stream",
     "text": [
      "  1%|          | 5/500 [00:06<11:08,  1.35s/it]"
     ]
    },
    {
     "name": "stdout",
     "output_type": "stream",
     "text": [
      ">best! 5, 3236801\n"
     ]
    },
    {
     "name": "stderr",
     "output_type": "stream",
     "text": [
      "  2%|▏         | 10/500 [00:13<10:40,  1.31s/it]"
     ]
    },
    {
     "name": "stdout",
     "output_type": "stream",
     "text": [
      ">best! 10, 3074885\n"
     ]
    },
    {
     "name": "stderr",
     "output_type": "stream",
     "text": [
      "  5%|▌         | 26/500 [00:34<10:36,  1.34s/it]"
     ]
    },
    {
     "name": "stdout",
     "output_type": "stream",
     "text": [
      ">best! 26, 2661636\n"
     ]
    },
    {
     "name": "stderr",
     "output_type": "stream",
     "text": [
      " 14%|█▍        | 70/500 [01:37<11:04,  1.55s/it]"
     ]
    },
    {
     "name": "stdout",
     "output_type": "stream",
     "text": [
      ">best! 70, 2165284\n"
     ]
    },
    {
     "name": "stderr",
     "output_type": "stream",
     "text": [
      " 36%|███▌      | 180/500 [03:44<05:04,  1.05it/s]"
     ]
    },
    {
     "name": "stdout",
     "output_type": "stream",
     "text": [
      ">best! 180, 1694296\n"
     ]
    },
    {
     "name": "stderr",
     "output_type": "stream",
     "text": [
      " 44%|████▍     | 220/500 [04:25<04:35,  1.02it/s]"
     ]
    },
    {
     "name": "stdout",
     "output_type": "stream",
     "text": [
      ">best! 220, 987182\n"
     ]
    },
    {
     "name": "stderr",
     "output_type": "stream",
     "text": [
      " 84%|████████▍ | 421/500 [09:00<01:41,  1.28s/it]\n"
     ]
    },
    {
     "name": "stdout",
     "output_type": "stream",
     "text": [
      "stop\n",
      "index_1\n",
      "60952260000000\n"
     ]
    },
    {
     "name": "stderr",
     "output_type": "stream",
     "text": [
      "  0%|          | 2/500 [00:00<00:25, 19.73it/s]"
     ]
    },
    {
     "name": "stdout",
     "output_type": "stream",
     "text": [
      ">best! 0, 57835840000000\n",
      ">best! 1, 49639480000000\n",
      ">best! 1, 42008620000000\n",
      ">best! 1, 39412320000000\n",
      ">best! 2, 24995040609180\n"
     ]
    },
    {
     "name": "stderr",
     "output_type": "stream",
     "text": [
      "  5%|▌         | 26/500 [00:02<01:04,  7.31it/s]"
     ]
    },
    {
     "name": "stdout",
     "output_type": "stream",
     "text": [
      ">best! 25, 16904160156200\n"
     ]
    },
    {
     "name": "stderr",
     "output_type": "stream",
     "text": [
      " 43%|████▎     | 215/500 [00:20<00:41,  6.88it/s]"
     ]
    },
    {
     "name": "stdout",
     "output_type": "stream",
     "text": [
      ">best! 214, 13870080031240\n"
     ]
    },
    {
     "name": "stderr",
     "output_type": "stream",
     "text": [
      " 72%|███████▏  | 359/500 [00:34<00:12, 11.54it/s]"
     ]
    },
    {
     "name": "stdout",
     "output_type": "stream",
     "text": [
      ">best! 358, 12569760663850\n"
     ]
    },
    {
     "name": "stderr",
     "output_type": "stream",
     "text": [
      "100%|██████████| 500/500 [00:47<00:00, 10.56it/s]\n",
      "/tmp/ipykernel_257810/669356985.py:278: FutureWarning: Setting an item of incompatible dtype is deprecated and will raise an error in a future version of pandas. Value '0:00:47.372777' has dtype incompatible with float64, please explicitly cast to a compatible dtype first.\n",
      "  hyper_parameters.loc[i, 'time'] = elapsed_time\n"
     ]
    },
    {
     "name": "stdout",
     "output_type": "stream",
     "text": [
      "index_2\n",
      "68218600000000\n"
     ]
    },
    {
     "name": "stderr",
     "output_type": "stream",
     "text": [
      "  0%|          | 1/500 [00:00<01:17,  6.40it/s]"
     ]
    },
    {
     "name": "stdout",
     "output_type": "stream",
     "text": [
      ">best! 0, 37209560000000\n",
      ">best! 0, 32476780000000\n",
      ">best! 1, 30196320148390\n",
      ">best! 1, 29618400671660\n",
      ">best! 1, 29184960570130\n"
     ]
    },
    {
     "name": "stderr",
     "output_type": "stream",
     "text": [
      "  1%|          | 6/500 [00:01<01:27,  5.65it/s]"
     ]
    },
    {
     "name": "stdout",
     "output_type": "stream",
     "text": [
      ">best! 6, 18310160000000\n"
     ]
    },
    {
     "name": "stderr",
     "output_type": "stream",
     "text": [
      "  8%|▊         | 42/500 [00:08<01:23,  5.50it/s]"
     ]
    },
    {
     "name": "stdout",
     "output_type": "stream",
     "text": [
      ">best! 42, 17095720000000\n"
     ]
    },
    {
     "name": "stderr",
     "output_type": "stream",
     "text": [
      "  9%|▉         | 47/500 [00:09<01:09,  6.55it/s]"
     ]
    },
    {
     "name": "stdout",
     "output_type": "stream",
     "text": [
      ">best! 45, 15748320413930\n"
     ]
    },
    {
     "name": "stderr",
     "output_type": "stream",
     "text": [
      " 25%|██▍       | 124/500 [00:22<00:59,  6.27it/s]"
     ]
    },
    {
     "name": "stdout",
     "output_type": "stream",
     "text": [
      ">best! 123, 15459360007810\n"
     ]
    },
    {
     "name": "stderr",
     "output_type": "stream",
     "text": [
      " 25%|██▌       | 127/500 [00:23<01:26,  4.31it/s]"
     ]
    },
    {
     "name": "stdout",
     "output_type": "stream",
     "text": [
      ">best! 127, 10484700000000\n"
     ]
    },
    {
     "name": "stderr",
     "output_type": "stream",
     "text": [
      " 66%|██████▌   | 328/500 [01:03<00:33,  5.17it/s]\n"
     ]
    },
    {
     "name": "stdout",
     "output_type": "stream",
     "text": [
      "stop\n",
      "index_3\n",
      "41239540000000\n"
     ]
    },
    {
     "name": "stderr",
     "output_type": "stream",
     "text": [
      "  0%|          | 0/500 [00:00<?, ?it/s]"
     ]
    },
    {
     "name": "stdout",
     "output_type": "stream",
     "text": [
      ">best! 0, 31008740000000\n"
     ]
    },
    {
     "name": "stderr",
     "output_type": "stream",
     "text": [
      "  0%|          | 1/500 [00:00<01:54,  4.34it/s]"
     ]
    },
    {
     "name": "stdout",
     "output_type": "stream",
     "text": [
      ">best! 1, 26690000000000\n",
      ">best! 1, 15459361686960\n"
     ]
    },
    {
     "name": "stderr",
     "output_type": "stream",
     "text": [
      " 21%|██        | 103/500 [00:28<02:07,  3.12it/s]"
     ]
    },
    {
     "name": "stdout",
     "output_type": "stream",
     "text": [
      ">best! 103, 13175160000000\n"
     ]
    },
    {
     "name": "stderr",
     "output_type": "stream",
     "text": [
      " 49%|████▉     | 246/500 [01:20<01:18,  3.24it/s]"
     ]
    },
    {
     "name": "stdout",
     "output_type": "stream",
     "text": [
      ">best! 246, 11855240000000\n"
     ]
    },
    {
     "name": "stderr",
     "output_type": "stream",
     "text": [
      " 62%|██████▏   | 309/500 [01:39<00:50,  3.76it/s]"
     ]
    },
    {
     "name": "stdout",
     "output_type": "stream",
     "text": [
      ">best! 309, 10836000624800\n"
     ]
    },
    {
     "name": "stderr",
     "output_type": "stream",
     "text": [
      " 78%|███████▊  | 391/500 [02:09<00:22,  4.77it/s]"
     ]
    },
    {
     "name": "stdout",
     "output_type": "stream",
     "text": [
      ">best! 390, 7946400085910\n"
     ]
    },
    {
     "name": "stderr",
     "output_type": "stream",
     "text": [
      "100%|██████████| 500/500 [02:53<00:00,  2.88it/s]\n"
     ]
    },
    {
     "name": "stdout",
     "output_type": "stream",
     "text": [
      "index_4\n",
      "48112140000000\n"
     ]
    },
    {
     "name": "stderr",
     "output_type": "stream",
     "text": [
      "  0%|          | 1/500 [00:00<00:58,  8.47it/s]"
     ]
    },
    {
     "name": "stdout",
     "output_type": "stream",
     "text": [
      ">best! 0, 47835200000000\n",
      ">best! 0, 36022500000000\n",
      ">best! 1, 34819680601370\n"
     ]
    },
    {
     "name": "stderr",
     "output_type": "stream",
     "text": [
      "  2%|▏         | 8/500 [00:01<01:47,  4.56it/s]"
     ]
    },
    {
     "name": "stdout",
     "output_type": "stream",
     "text": [
      ">best! 7, 27451200164010\n"
     ]
    },
    {
     "name": "stderr",
     "output_type": "stream",
     "text": [
      "  5%|▍         | 24/500 [00:04<01:17,  6.16it/s]"
     ]
    },
    {
     "name": "stdout",
     "output_type": "stream",
     "text": [
      ">best! 22, 26728900000000\n"
     ]
    },
    {
     "name": "stderr",
     "output_type": "stream",
     "text": [
      "  6%|▌         | 28/500 [00:05<01:16,  6.19it/s]"
     ]
    },
    {
     "name": "stdout",
     "output_type": "stream",
     "text": [
      ">best! 27, 25061620000000\n"
     ]
    },
    {
     "name": "stderr",
     "output_type": "stream",
     "text": [
      "  7%|▋         | 37/500 [00:06<01:16,  6.04it/s]"
     ]
    },
    {
     "name": "stdout",
     "output_type": "stream",
     "text": [
      ">best! 36, 24706080210870\n"
     ]
    },
    {
     "name": "stderr",
     "output_type": "stream",
     "text": [
      " 17%|█▋        | 83/500 [00:16<01:33,  4.48it/s]"
     ]
    },
    {
     "name": "stdout",
     "output_type": "stream",
     "text": [
      ">best! 82, 22546860000000\n"
     ]
    },
    {
     "name": "stderr",
     "output_type": "stream",
     "text": [
      " 18%|█▊        | 89/500 [00:18<01:29,  4.57it/s]"
     ]
    },
    {
     "name": "stdout",
     "output_type": "stream",
     "text": [
      ">best! 89, 16326240320210\n"
     ]
    },
    {
     "name": "stderr",
     "output_type": "stream",
     "text": [
      " 29%|██▉       | 146/500 [00:25<00:56,  6.21it/s]"
     ]
    },
    {
     "name": "stdout",
     "output_type": "stream",
     "text": [
      ">best! 146, 12425280734140\n"
     ]
    },
    {
     "name": "stderr",
     "output_type": "stream",
     "text": [
      " 69%|██████▉   | 347/500 [01:04<00:28,  5.40it/s]\n"
     ]
    },
    {
     "name": "stdout",
     "output_type": "stream",
     "text": [
      "stop\n",
      "index_5\n",
      "89360560000000\n"
     ]
    },
    {
     "name": "stderr",
     "output_type": "stream",
     "text": [
      "  0%|          | 0/500 [00:00<?, ?it/s]"
     ]
    },
    {
     "name": "stdout",
     "output_type": "stream",
     "text": [
      ">best! 0, 65532780000000\n",
      ">best! 0, 47924520000000\n"
     ]
    },
    {
     "name": "stderr",
     "output_type": "stream",
     "text": [
      "  0%|          | 1/500 [00:00<02:25,  3.44it/s]"
     ]
    },
    {
     "name": "stdout",
     "output_type": "stream",
     "text": [
      ">best! 1, 46980140000000\n"
     ]
    },
    {
     "name": "stderr",
     "output_type": "stream",
     "text": [
      "  1%|          | 3/500 [00:00<02:01,  4.10it/s]"
     ]
    },
    {
     "name": "stdout",
     "output_type": "stream",
     "text": [
      ">best! 2, 34015640000000\n"
     ]
    },
    {
     "name": "stderr",
     "output_type": "stream",
     "text": [
      "  1%|          | 5/500 [00:01<01:26,  5.74it/s]"
     ]
    },
    {
     "name": "stdout",
     "output_type": "stream",
     "text": [
      ">best! 4, 29595060000000\n"
     ]
    },
    {
     "name": "stderr",
     "output_type": "stream",
     "text": [
      "  2%|▏         | 8/500 [00:01<01:26,  5.71it/s]"
     ]
    },
    {
     "name": "stdout",
     "output_type": "stream",
     "text": [
      ">best! 7, 26174320000000\n"
     ]
    },
    {
     "name": "stderr",
     "output_type": "stream",
     "text": [
      "  8%|▊         | 38/500 [00:07<01:13,  6.25it/s]"
     ]
    },
    {
     "name": "stdout",
     "output_type": "stream",
     "text": [
      ">best! 37, 25147700000000\n",
      ">best! 37, 21672001077780\n"
     ]
    },
    {
     "name": "stderr",
     "output_type": "stream",
     "text": [
      " 20%|█▉        | 99/500 [00:19<01:43,  3.89it/s]"
     ]
    },
    {
     "name": "stdout",
     "output_type": "stream",
     "text": [
      ">best! 98, 19750820000000\n"
     ]
    },
    {
     "name": "stderr",
     "output_type": "stream",
     "text": [
      " 25%|██▍       | 124/500 [00:24<00:53,  7.09it/s]"
     ]
    },
    {
     "name": "stdout",
     "output_type": "stream",
     "text": [
      ">best! 123, 13292160023430\n"
     ]
    },
    {
     "name": "stderr",
     "output_type": "stream",
     "text": [
      " 65%|██████▍   | 324/500 [01:03<00:34,  5.08it/s]\n"
     ]
    },
    {
     "name": "stdout",
     "output_type": "stream",
     "text": [
      "stop\n",
      "index_6\n",
      "46538520000000\n"
     ]
    },
    {
     "name": "stderr",
     "output_type": "stream",
     "text": [
      "  0%|          | 1/500 [00:00<00:51,  9.73it/s]"
     ]
    },
    {
     "name": "stdout",
     "output_type": "stream",
     "text": [
      ">best! 0, 43626380000000\n",
      ">best! 1, 26728801046540\n"
     ]
    },
    {
     "name": "stderr",
     "output_type": "stream",
     "text": [
      "  1%|▏         | 7/500 [00:00<00:49,  9.91it/s]"
     ]
    },
    {
     "name": "stdout",
     "output_type": "stream",
     "text": [
      ">best! 6, 26439840835670\n"
     ]
    },
    {
     "name": "stderr",
     "output_type": "stream",
     "text": [
      "  3%|▎         | 13/500 [00:01<00:50,  9.71it/s]"
     ]
    },
    {
     "name": "stdout",
     "output_type": "stream",
     "text": [
      ">best! 11, 23983680585750\n"
     ]
    },
    {
     "name": "stderr",
     "output_type": "stream",
     "text": [
      "  5%|▌         | 25/500 [00:03<01:35,  4.99it/s]"
     ]
    },
    {
     "name": "stdout",
     "output_type": "stream",
     "text": [
      ">best! 24, 20508480000000\n"
     ]
    },
    {
     "name": "stderr",
     "output_type": "stream",
     "text": [
      " 10%|▉         | 48/500 [00:08<01:15,  5.96it/s]"
     ]
    },
    {
     "name": "stdout",
     "output_type": "stream",
     "text": [
      ">best! 47, 17915520382690\n"
     ]
    },
    {
     "name": "stderr",
     "output_type": "stream",
     "text": [
      " 17%|█▋        | 85/500 [00:14<01:09,  6.01it/s]"
     ]
    },
    {
     "name": "stdout",
     "output_type": "stream",
     "text": [
      ">best! 84, 16127200000000\n"
     ]
    },
    {
     "name": "stderr",
     "output_type": "stream",
     "text": [
      " 57%|█████▋    | 285/500 [00:53<00:40,  5.30it/s]\n"
     ]
    },
    {
     "name": "stdout",
     "output_type": "stream",
     "text": [
      "stop\n",
      "index_7\n",
      "73611240000000\n"
     ]
    },
    {
     "name": "stderr",
     "output_type": "stream",
     "text": [
      "  0%|          | 2/500 [00:00<00:27, 18.36it/s]"
     ]
    },
    {
     "name": "stdout",
     "output_type": "stream",
     "text": [
      ">best! 0, 55137600000000\n",
      ">best! 1, 29755100000000\n",
      ">best! 2, 16759681233980\n"
     ]
    },
    {
     "name": "stderr",
     "output_type": "stream",
     "text": [
      "  4%|▍         | 20/500 [00:00<00:17, 27.50it/s]"
     ]
    },
    {
     "name": "stdout",
     "output_type": "stream",
     "text": [
      ">best! 13, 7368480695090\n"
     ]
    },
    {
     "name": "stderr",
     "output_type": "stream",
     "text": [
      " 43%|████▎     | 214/500 [00:08<00:11, 24.12it/s]\n"
     ]
    },
    {
     "name": "stdout",
     "output_type": "stream",
     "text": [
      "stop\n",
      "index_8\n",
      "100833480000000\n"
     ]
    },
    {
     "name": "stderr",
     "output_type": "stream",
     "text": [
      "  0%|          | 0/500 [00:00<?, ?it/s]"
     ]
    },
    {
     "name": "stdout",
     "output_type": "stream",
     "text": [
      ">best! 0, 100423880000000\n",
      ">best! 0, 90957820000000\n",
      ">best! 0, 68504520000000\n",
      ">best! 0, 44317160000000\n",
      ">best! 0, 42415280000000\n"
     ]
    },
    {
     "name": "stderr",
     "output_type": "stream",
     "text": [
      "  0%|          | 1/500 [00:00<02:20,  3.55it/s]"
     ]
    },
    {
     "name": "stdout",
     "output_type": "stream",
     "text": [
      ">best! 1, 36299940000000\n",
      ">best! 1, 33031460000000\n"
     ]
    },
    {
     "name": "stderr",
     "output_type": "stream",
     "text": [
      "  0%|          | 2/500 [00:00<02:19,  3.56it/s]"
     ]
    },
    {
     "name": "stdout",
     "output_type": "stream",
     "text": [
      ">best! 2, 26150880484220\n"
     ]
    },
    {
     "name": "stderr",
     "output_type": "stream",
     "text": [
      "  1%|          | 5/500 [00:01<02:45,  2.99it/s]"
     ]
    },
    {
     "name": "stdout",
     "output_type": "stream",
     "text": [
      ">best! 5, 22613140000000\n"
     ]
    },
    {
     "name": "stderr",
     "output_type": "stream",
     "text": [
      "  2%|▏         | 9/500 [00:03<02:47,  2.92it/s]"
     ]
    },
    {
     "name": "stdout",
     "output_type": "stream",
     "text": [
      ">best! 8, 20660640273350\n"
     ]
    },
    {
     "name": "stderr",
     "output_type": "stream",
     "text": [
      "  6%|▌         | 29/500 [00:08<02:36,  3.01it/s]"
     ]
    },
    {
     "name": "stdout",
     "output_type": "stream",
     "text": [
      ">best! 28, 19793760687280\n"
     ]
    },
    {
     "name": "stderr",
     "output_type": "stream",
     "text": [
      " 16%|█▌        | 79/500 [00:27<02:03,  3.40it/s]"
     ]
    },
    {
     "name": "stdout",
     "output_type": "stream",
     "text": [
      ">best! 79, 14096700000000\n"
     ]
    },
    {
     "name": "stderr",
     "output_type": "stream",
     "text": [
      " 37%|███▋      | 183/500 [01:05<02:35,  2.03it/s]"
     ]
    },
    {
     "name": "stdout",
     "output_type": "stream",
     "text": [
      ">best! 183, 11847362054030\n"
     ]
    },
    {
     "name": "stderr",
     "output_type": "stream",
     "text": [
      " 72%|███████▏  | 361/500 [02:07<00:38,  3.63it/s]"
     ]
    },
    {
     "name": "stdout",
     "output_type": "stream",
     "text": [
      ">best! 361, 10304960000000\n"
     ]
    },
    {
     "name": "stderr",
     "output_type": "stream",
     "text": [
      "100%|██████████| 500/500 [02:41<00:00,  3.10it/s]\n"
     ]
    }
   ],
   "source": [
    "import pickle\n",
    "\n",
    "# 적합한 하이퍼 파라미터 찾는 과정\n",
    "temp0 = [dataset_for_ga[i] for i in random_ls]\n",
    "\n",
    "hyper_parameters_ls, log_list_ls = list(), list()\n",
    "\n",
    "# 유전 알고리즘\n",
    "def ga_get_gt(dataset_for_ga):\n",
    "    for data in dataset_for_ga:\n",
    "        global T, I, J, cit, pit, dit, mijt\n",
    "        T, I, J, cit, pit, dit, mijt = ga_preprocess(data)\n",
    "\n",
    "        hyper_parameters = set_hyper_parameters()\n",
    "        hyper_parameters, log_list = find_hyper_parameters(hyper_parameters)\n",
    "\n",
    "        hyper_parameters_ls.append(hyper_parameters)\n",
    "        log_list_ls.append(log_list)\n",
    "        with open('hyper_parameters_ls_n5.pkl', 'wb') as f:\n",
    "            pickle.dump(hyper_parameters_ls, f)\n",
    "\n",
    "    return hyper_parameters_ls, log_list_ls\n",
    "\n",
    "hyper_parameters_ls, log_list_ls = ga_get_gt(temp0)"
   ]
  },
  {
   "cell_type": "code",
   "execution_count": 50,
   "id": "7207753c",
   "metadata": {},
   "outputs": [
    {
     "data": {
      "text/html": [
       "<div>\n",
       "<style scoped>\n",
       "    .dataframe tbody tr th:only-of-type {\n",
       "        vertical-align: middle;\n",
       "    }\n",
       "\n",
       "    .dataframe tbody tr th {\n",
       "        vertical-align: top;\n",
       "    }\n",
       "\n",
       "    .dataframe thead th {\n",
       "        text-align: right;\n",
       "    }\n",
       "</style>\n",
       "<table border=\"1\" class=\"dataframe\">\n",
       "  <thead>\n",
       "    <tr style=\"text-align: right;\">\n",
       "      <th></th>\n",
       "      <th>index</th>\n",
       "      <th>n_iter</th>\n",
       "      <th>n_pop</th>\n",
       "      <th>r_cross</th>\n",
       "      <th>r_mut</th>\n",
       "      <th>68</th>\n",
       "      <th>6</th>\n",
       "      <th>77</th>\n",
       "      <th>91</th>\n",
       "      <th>29</th>\n",
       "      <th>10</th>\n",
       "      <th>58</th>\n",
       "      <th>109</th>\n",
       "      <th>0</th>\n",
       "      <th>111</th>\n",
       "    </tr>\n",
       "  </thead>\n",
       "  <tbody>\n",
       "    <tr>\n",
       "      <th>0</th>\n",
       "      <td>index_1</td>\n",
       "      <td>500</td>\n",
       "      <td>10</td>\n",
       "      <td>0.4</td>\n",
       "      <td>0.4</td>\n",
       "      <td>2.304075e+07</td>\n",
       "      <td>0.0</td>\n",
       "      <td>1548384.0</td>\n",
       "      <td>1.685775e+14</td>\n",
       "      <td>5.874482e+13</td>\n",
       "      <td>0.0</td>\n",
       "      <td>0.0</td>\n",
       "      <td>1.818114e+13</td>\n",
       "      <td>1315834.0</td>\n",
       "      <td>1.256976e+13</td>\n",
       "    </tr>\n",
       "    <tr>\n",
       "      <th>1</th>\n",
       "      <td>index_2</td>\n",
       "      <td>500</td>\n",
       "      <td>20</td>\n",
       "      <td>0.4</td>\n",
       "      <td>0.4</td>\n",
       "      <td>3.760016e+12</td>\n",
       "      <td>0.0</td>\n",
       "      <td>946276.0</td>\n",
       "      <td>1.649281e+14</td>\n",
       "      <td>4.933088e+13</td>\n",
       "      <td>0.0</td>\n",
       "      <td>0.0</td>\n",
       "      <td>1.548280e+13</td>\n",
       "      <td>542225.0</td>\n",
       "      <td>1.048470e+13</td>\n",
       "    </tr>\n",
       "    <tr>\n",
       "      <th>2</th>\n",
       "      <td>index_3</td>\n",
       "      <td>500</td>\n",
       "      <td>40</td>\n",
       "      <td>0.4</td>\n",
       "      <td>0.4</td>\n",
       "      <td>4.200021e+12</td>\n",
       "      <td>0.0</td>\n",
       "      <td>958140.0</td>\n",
       "      <td>1.383163e+14</td>\n",
       "      <td>4.979328e+13</td>\n",
       "      <td>0.0</td>\n",
       "      <td>0.0</td>\n",
       "      <td>1.285872e+13</td>\n",
       "      <td>966536.0</td>\n",
       "      <td>7.946400e+12</td>\n",
       "    </tr>\n",
       "    <tr>\n",
       "      <th>3</th>\n",
       "      <td>index_4</td>\n",
       "      <td>500</td>\n",
       "      <td>20</td>\n",
       "      <td>0.1</td>\n",
       "      <td>0.4</td>\n",
       "      <td>1.937002e+13</td>\n",
       "      <td>0.0</td>\n",
       "      <td>808560.0</td>\n",
       "      <td>1.686056e+14</td>\n",
       "      <td>5.815256e+13</td>\n",
       "      <td>0.0</td>\n",
       "      <td>0.0</td>\n",
       "      <td>1.544390e+13</td>\n",
       "      <td>1129548.0</td>\n",
       "      <td>1.242528e+13</td>\n",
       "    </tr>\n",
       "    <tr>\n",
       "      <th>4</th>\n",
       "      <td>index_5</td>\n",
       "      <td>500</td>\n",
       "      <td>20</td>\n",
       "      <td>0.2</td>\n",
       "      <td>0.4</td>\n",
       "      <td>1.410023e+12</td>\n",
       "      <td>0.0</td>\n",
       "      <td>633574.0</td>\n",
       "      <td>1.620072e+14</td>\n",
       "      <td>5.480808e+13</td>\n",
       "      <td>0.0</td>\n",
       "      <td>0.0</td>\n",
       "      <td>1.314768e+13</td>\n",
       "      <td>1415619.0</td>\n",
       "      <td>1.329216e+13</td>\n",
       "    </tr>\n",
       "    <tr>\n",
       "      <th>5</th>\n",
       "      <td>index_6</td>\n",
       "      <td>500</td>\n",
       "      <td>20</td>\n",
       "      <td>0.3</td>\n",
       "      <td>0.4</td>\n",
       "      <td>1.937638e+07</td>\n",
       "      <td>0.0</td>\n",
       "      <td>974566.0</td>\n",
       "      <td>1.498418e+14</td>\n",
       "      <td>5.327286e+13</td>\n",
       "      <td>0.0</td>\n",
       "      <td>0.0</td>\n",
       "      <td>9.883240e+12</td>\n",
       "      <td>1023926.0</td>\n",
       "      <td>1.612720e+13</td>\n",
       "    </tr>\n",
       "    <tr>\n",
       "      <th>6</th>\n",
       "      <td>index_7</td>\n",
       "      <td>500</td>\n",
       "      <td>20</td>\n",
       "      <td>0.4</td>\n",
       "      <td>0.1</td>\n",
       "      <td>2.369420e+07</td>\n",
       "      <td>0.0</td>\n",
       "      <td>280506.0</td>\n",
       "      <td>1.587894e+14</td>\n",
       "      <td>5.448986e+13</td>\n",
       "      <td>0.0</td>\n",
       "      <td>0.0</td>\n",
       "      <td>1.560384e+13</td>\n",
       "      <td>1435246.0</td>\n",
       "      <td>7.368481e+12</td>\n",
       "    </tr>\n",
       "    <tr>\n",
       "      <th>7</th>\n",
       "      <td>index_8</td>\n",
       "      <td>500</td>\n",
       "      <td>20</td>\n",
       "      <td>0.4</td>\n",
       "      <td>0.6</td>\n",
       "      <td>1.020002e+13</td>\n",
       "      <td>0.0</td>\n",
       "      <td>1146728.0</td>\n",
       "      <td>1.770980e+14</td>\n",
       "      <td>5.001406e+13</td>\n",
       "      <td>0.0</td>\n",
       "      <td>0.0</td>\n",
       "      <td>1.264402e+13</td>\n",
       "      <td>987182.0</td>\n",
       "      <td>1.030496e+13</td>\n",
       "    </tr>\n",
       "  </tbody>\n",
       "</table>\n",
       "</div>"
      ],
      "text/plain": [
       "     index  n_iter  n_pop  r_cross  r_mut            68    6         77  \\\n",
       "0  index_1     500     10      0.4    0.4  2.304075e+07  0.0  1548384.0   \n",
       "1  index_2     500     20      0.4    0.4  3.760016e+12  0.0   946276.0   \n",
       "2  index_3     500     40      0.4    0.4  4.200021e+12  0.0   958140.0   \n",
       "3  index_4     500     20      0.1    0.4  1.937002e+13  0.0   808560.0   \n",
       "4  index_5     500     20      0.2    0.4  1.410023e+12  0.0   633574.0   \n",
       "5  index_6     500     20      0.3    0.4  1.937638e+07  0.0   974566.0   \n",
       "6  index_7     500     20      0.4    0.1  2.369420e+07  0.0   280506.0   \n",
       "7  index_8     500     20      0.4    0.6  1.020002e+13  0.0  1146728.0   \n",
       "\n",
       "             91            29   10   58           109          0           111  \n",
       "0  1.685775e+14  5.874482e+13  0.0  0.0  1.818114e+13  1315834.0  1.256976e+13  \n",
       "1  1.649281e+14  4.933088e+13  0.0  0.0  1.548280e+13   542225.0  1.048470e+13  \n",
       "2  1.383163e+14  4.979328e+13  0.0  0.0  1.285872e+13   966536.0  7.946400e+12  \n",
       "3  1.686056e+14  5.815256e+13  0.0  0.0  1.544390e+13  1129548.0  1.242528e+13  \n",
       "4  1.620072e+14  5.480808e+13  0.0  0.0  1.314768e+13  1415619.0  1.329216e+13  \n",
       "5  1.498418e+14  5.327286e+13  0.0  0.0  9.883240e+12  1023926.0  1.612720e+13  \n",
       "6  1.587894e+14  5.448986e+13  0.0  0.0  1.560384e+13  1435246.0  7.368481e+12  \n",
       "7  1.770980e+14  5.001406e+13  0.0  0.0  1.264402e+13   987182.0  1.030496e+13  "
      ]
     },
     "execution_count": 50,
     "metadata": {},
     "output_type": "execute_result"
    }
   ],
   "source": [
    "hyper_parameters_df = hyper_parameters_ls[0][['index', 'n_iter', 'n_pop', 'r_cross', 'r_mut']]\n",
    "\n",
    "for hyper_parameters in hyper_parameters_ls:\n",
    "    temp = hyper_parameters[['objective']]\n",
    "    hyper_parameters_df = pd.concat([hyper_parameters_df, temp], axis=1)\n",
    "\n",
    "hyper_parameters_df.columns = ['index', 'n_iter', 'n_pop', 'r_cross', 'r_mut'] + list(random_ls)\n",
    "\n",
    "hyper_parameters_df"
   ]
  },
  {
   "cell_type": "code",
   "execution_count": 51,
   "id": "1749ac14",
   "metadata": {},
   "outputs": [
    {
     "name": "stdout",
     "output_type": "stream",
     "text": [
      "13753982\n"
     ]
    },
    {
     "name": "stderr",
     "output_type": "stream",
     "text": [
      "  0%|          | 0/500 [00:00<?, ?it/s]"
     ]
    },
    {
     "name": "stdout",
     "output_type": "stream",
     "text": [
      ">best! 0, 9841645\n",
      ">best! 0, 6045195\n",
      ">best! 0, 4035126\n"
     ]
    },
    {
     "name": "stderr",
     "output_type": "stream",
     "text": [
      "  0%|          | 1/500 [00:00<01:53,  4.39it/s]"
     ]
    },
    {
     "name": "stdout",
     "output_type": "stream",
     "text": [
      ">best! 1, 4016487\n"
     ]
    },
    {
     "name": "stderr",
     "output_type": "stream",
     "text": [
      "  1%|          | 3/500 [00:00<02:01,  4.09it/s]"
     ]
    },
    {
     "name": "stdout",
     "output_type": "stream",
     "text": [
      ">best! 3, 3863759\n"
     ]
    },
    {
     "name": "stderr",
     "output_type": "stream",
     "text": [
      "  3%|▎         | 14/500 [00:02<00:57,  8.44it/s]"
     ]
    },
    {
     "name": "stdout",
     "output_type": "stream",
     "text": [
      ">best! 13, 1958135\n"
     ]
    },
    {
     "name": "stderr",
     "output_type": "stream",
     "text": [
      " 14%|█▍        | 71/500 [00:11<00:52,  8.10it/s]"
     ]
    },
    {
     "name": "stdout",
     "output_type": "stream",
     "text": [
      ">best! 70, 1792473\n"
     ]
    },
    {
     "name": "stderr",
     "output_type": "stream",
     "text": [
      " 54%|█████▍    | 271/500 [00:47<00:40,  5.68it/s]\n"
     ]
    },
    {
     "name": "stdout",
     "output_type": "stream",
     "text": [
      "stop\n",
      "1번째 log 저장 완료. 총 123개\n",
      "39772301166869\n"
     ]
    },
    {
     "name": "stderr",
     "output_type": "stream",
     "text": [
      "  0%|          | 0/500 [00:00<?, ?it/s]"
     ]
    },
    {
     "name": "stdout",
     "output_type": "stream",
     "text": [
      ">best! 0, 35978058918000\n",
      ">best! 0, 20174360768106\n",
      ">best! 0, 9941178\n"
     ]
    },
    {
     "name": "stderr",
     "output_type": "stream",
     "text": [
      "  3%|▎         | 16/500 [00:01<01:10,  6.88it/s]"
     ]
    },
    {
     "name": "stdout",
     "output_type": "stream",
     "text": [
      ">best! 15, 9651663\n"
     ]
    },
    {
     "name": "stderr",
     "output_type": "stream",
     "text": [
      "  7%|▋         | 36/500 [00:03<00:41, 11.12it/s]"
     ]
    },
    {
     "name": "stdout",
     "output_type": "stream",
     "text": [
      ">best! 33, 7503479\n"
     ]
    },
    {
     "name": "stderr",
     "output_type": "stream",
     "text": [
      " 13%|█▎        | 63/500 [00:06<00:41, 10.49it/s]"
     ]
    },
    {
     "name": "stdout",
     "output_type": "stream",
     "text": [
      ">best! 61, 5974510\n"
     ]
    },
    {
     "name": "stderr",
     "output_type": "stream",
     "text": [
      " 16%|█▌        | 79/500 [00:08<00:31, 13.40it/s]"
     ]
    },
    {
     "name": "stdout",
     "output_type": "stream",
     "text": [
      ">best! 78, 5767290\n"
     ]
    },
    {
     "name": "stderr",
     "output_type": "stream",
     "text": [
      " 18%|█▊        | 91/500 [00:08<00:30, 13.21it/s]"
     ]
    },
    {
     "name": "stdout",
     "output_type": "stream",
     "text": [
      ">best! 89, 3383401\n"
     ]
    },
    {
     "name": "stderr",
     "output_type": "stream",
     "text": [
      " 20%|█▉        | 99/500 [00:09<00:34, 11.79it/s]"
     ]
    },
    {
     "name": "stdout",
     "output_type": "stream",
     "text": [
      ">best! 96, 1532972\n"
     ]
    },
    {
     "name": "stderr",
     "output_type": "stream",
     "text": [
      " 59%|█████▉    | 297/500 [00:28<00:19, 10.47it/s]\n"
     ]
    },
    {
     "name": "stdout",
     "output_type": "stream",
     "text": [
      "stop\n",
      "2번째 log 저장 완료. 총 123개\n",
      "72051253367000\n"
     ]
    },
    {
     "name": "stderr",
     "output_type": "stream",
     "text": [
      "  0%|          | 0/500 [00:00<?, ?it/s]"
     ]
    },
    {
     "name": "stdout",
     "output_type": "stream",
     "text": [
      ">best! 0, 35161015869500\n",
      ">best! 0, 34008195323500\n",
      ">best! 0, 20174355050500\n",
      ">best! 0, 20174352775500\n"
     ]
    },
    {
     "name": "stderr",
     "output_type": "stream",
     "text": [
      "  0%|          | 2/500 [00:00<00:38, 12.81it/s]"
     ]
    },
    {
     "name": "stdout",
     "output_type": "stream",
     "text": [
      ">best! 2, 5187698190000\n",
      ">best! 2, 3458463731000\n"
     ]
    },
    {
     "name": "stderr",
     "output_type": "stream",
     "text": [
      "  1%|          | 4/500 [00:00<00:37, 13.12it/s]"
     ]
    },
    {
     "name": "stdout",
     "output_type": "stream",
     "text": [
      ">best! 3, 7504551\n",
      ">best! 3, 6451923\n"
     ]
    },
    {
     "name": "stderr",
     "output_type": "stream",
     "text": [
      "  2%|▏         | 8/500 [00:00<00:40, 12.25it/s]"
     ]
    },
    {
     "name": "stdout",
     "output_type": "stream",
     "text": [
      ">best! 8, 6236564\n"
     ]
    },
    {
     "name": "stderr",
     "output_type": "stream",
     "text": [
      "  3%|▎         | 16/500 [00:01<00:50,  9.49it/s]"
     ]
    },
    {
     "name": "stdout",
     "output_type": "stream",
     "text": [
      ">best! 14, 5563256\n",
      ">best! 15, 5290256\n"
     ]
    },
    {
     "name": "stderr",
     "output_type": "stream",
     "text": [
      "  8%|▊         | 40/500 [00:03<00:41, 10.96it/s]"
     ]
    },
    {
     "name": "stdout",
     "output_type": "stream",
     "text": [
      ">best! 38, 4631923\n"
     ]
    },
    {
     "name": "stderr",
     "output_type": "stream",
     "text": [
      " 14%|█▎        | 68/500 [00:06<00:33, 12.80it/s]"
     ]
    },
    {
     "name": "stdout",
     "output_type": "stream",
     "text": [
      ">best! 66, 1865500\n"
     ]
    },
    {
     "name": "stderr",
     "output_type": "stream",
     "text": [
      " 53%|█████▎    | 267/500 [00:23<00:20, 11.30it/s]\n"
     ]
    },
    {
     "name": "stdout",
     "output_type": "stream",
     "text": [
      "stop\n",
      "3번째 log 저장 완료. 총 123개\n",
      "76662534322500\n"
     ]
    },
    {
     "name": "stderr",
     "output_type": "stream",
     "text": [
      "  0%|          | 0/500 [00:00<?, ?it/s]"
     ]
    },
    {
     "name": "stdout",
     "output_type": "stream",
     "text": [
      ">best! 0, 63981517780500\n",
      ">best! 0, 51876908918000\n",
      ">best! 0, 7349897\n",
      ">best! 1, 4085923\n"
     ]
    },
    {
     "name": "stderr",
     "output_type": "stream",
     "text": [
      " 11%|█         | 54/500 [00:03<00:26, 16.53it/s]"
     ]
    },
    {
     "name": "stdout",
     "output_type": "stream",
     "text": [
      ">best! 51, 3885769\n"
     ]
    },
    {
     "name": "stderr",
     "output_type": "stream",
     "text": [
      " 15%|█▍        | 73/500 [00:04<00:28, 15.10it/s]"
     ]
    },
    {
     "name": "stdout",
     "output_type": "stream",
     "text": [
      ">best! 70, 1231564\n"
     ]
    },
    {
     "name": "stderr",
     "output_type": "stream",
     "text": [
      " 54%|█████▍    | 271/500 [00:17<00:14, 15.27it/s]\n"
     ]
    },
    {
     "name": "stdout",
     "output_type": "stream",
     "text": [
      "stop\n",
      "4번째 log 저장 완료. 총 123개\n",
      "44959987280000\n"
     ]
    },
    {
     "name": "stderr",
     "output_type": "stream",
     "text": [
      "  1%|          | 4/500 [00:00<00:13, 37.78it/s]"
     ]
    },
    {
     "name": "stdout",
     "output_type": "stream",
     "text": [
      ">best! 0, 39195885505500\n",
      ">best! 0, 21903588781500\n",
      ">best! 0, 20174356552000\n",
      ">best! 0, 12104614459000\n",
      ">best! 0, 2882058281000\n",
      ">best! 1, 9033282\n",
      ">best! 4, 5532846\n",
      ">best! 4, 4428705\n"
     ]
    },
    {
     "name": "stderr",
     "output_type": "stream",
     "text": [
      "  2%|▏         | 9/500 [00:00<00:11, 42.66it/s]"
     ]
    },
    {
     "name": "stdout",
     "output_type": "stream",
     "text": [
      ">best! 6, 4189064\n"
     ]
    },
    {
     "name": "stderr",
     "output_type": "stream",
     "text": [
      "  5%|▌         | 25/500 [00:00<00:10, 44.23it/s]"
     ]
    },
    {
     "name": "stdout",
     "output_type": "stream",
     "text": [
      ">best! 17, 2302461\n"
     ]
    },
    {
     "name": "stderr",
     "output_type": "stream",
     "text": [
      " 33%|███▎      | 164/500 [00:03<00:06, 49.30it/s]"
     ]
    },
    {
     "name": "stdout",
     "output_type": "stream",
     "text": [
      ">best! 157, 1707897\n"
     ]
    },
    {
     "name": "stderr",
     "output_type": "stream",
     "text": [
      " 64%|██████▍   | 321/500 [00:08<00:05, 33.84it/s]"
     ]
    },
    {
     "name": "stdout",
     "output_type": "stream",
     "text": [
      ">best! 315, 1037423\n"
     ]
    },
    {
     "name": "stderr",
     "output_type": "stream",
     "text": [
      "100%|██████████| 500/500 [00:13<00:00, 36.23it/s]\n"
     ]
    },
    {
     "name": "stdout",
     "output_type": "stream",
     "text": [
      "5번째 log 저장 완료. 총 123개\n",
      "200014270000000\n"
     ]
    },
    {
     "name": "stderr",
     "output_type": "stream",
     "text": [
      "  1%|          | 6/500 [00:00<00:08, 56.02it/s]"
     ]
    },
    {
     "name": "stdout",
     "output_type": "stream",
     "text": [
      ">best! 0, 173499410000000\n",
      ">best! 0, 172346590000000\n",
      ">best! 0, 156783520000000\n",
      ">best! 1, 155054290000000\n",
      ">best! 1, 151595830000000\n",
      ">best! 2, 144678910000000\n",
      ">best! 5, 134879940000000\n",
      ">best! 6, 104330210000000\n"
     ]
    },
    {
     "name": "stderr",
     "output_type": "stream",
     "text": [
      "  7%|▋         | 35/500 [00:00<00:07, 65.80it/s]"
     ]
    },
    {
     "name": "stdout",
     "output_type": "stream",
     "text": [
      ">best! 23, 102600980000000\n",
      ">best! 28, 83579450000000\n",
      ">best! 30, 80697400000000\n"
     ]
    },
    {
     "name": "stderr",
     "output_type": "stream",
     "text": [
      " 17%|█▋        | 84/500 [00:01<00:07, 58.51it/s]"
     ]
    },
    {
     "name": "stdout",
     "output_type": "stream",
     "text": [
      ">best! 74, 77815350000000\n",
      ">best! 75, 63981510000000\n"
     ]
    },
    {
     "name": "stderr",
     "output_type": "stream",
     "text": [
      " 22%|██▏       | 112/500 [00:01<00:06, 63.04it/s]"
     ]
    },
    {
     "name": "stdout",
     "output_type": "stream",
     "text": [
      ">best! 105, 61675870000000\n",
      ">best! 114, 51876900000000\n"
     ]
    },
    {
     "name": "stderr",
     "output_type": "stream",
     "text": [
      " 27%|██▋       | 133/500 [00:02<00:06, 55.97it/s]"
     ]
    },
    {
     "name": "stdout",
     "output_type": "stream",
     "text": [
      ">best! 127, 51300490000000\n"
     ]
    },
    {
     "name": "stderr",
     "output_type": "stream",
     "text": [
      " 66%|██████▌   | 328/500 [00:07<00:03, 46.12it/s]\n"
     ]
    },
    {
     "name": "stdout",
     "output_type": "stream",
     "text": [
      "stop\n",
      "6번째 log 저장 완료. 총 123개\n",
      "0\n"
     ]
    },
    {
     "name": "stderr",
     "output_type": "stream",
     "text": [
      " 40%|████      | 201/500 [00:00<00:00, 547.36it/s]\n"
     ]
    },
    {
     "name": "stdout",
     "output_type": "stream",
     "text": [
      "stop\n",
      "7번째 log 저장 완료. 총 123개\n",
      "1665000\n"
     ]
    },
    {
     "name": "stderr",
     "output_type": "stream",
     "text": [
      "  4%|▍         | 20/500 [00:00<00:02, 195.49it/s]"
     ]
    },
    {
     "name": "stdout",
     "output_type": "stream",
     "text": [
      ">best! 0, 277500\n",
      ">best! 1, 129500\n",
      ">best! 2, 92500\n",
      ">best! 3, 74000\n",
      ">best! 4, 55500\n",
      ">best! 6, 0\n"
     ]
    },
    {
     "name": "stderr",
     "output_type": "stream",
     "text": [
      " 41%|████▏     | 207/500 [00:01<00:02, 128.36it/s]\n"
     ]
    },
    {
     "name": "stdout",
     "output_type": "stream",
     "text": [
      "stop\n",
      "8번째 log 저장 완료. 총 123개\n",
      "2109000\n"
     ]
    },
    {
     "name": "stderr",
     "output_type": "stream",
     "text": [
      "  2%|▏         | 9/500 [00:00<00:05, 89.46it/s]"
     ]
    },
    {
     "name": "stdout",
     "output_type": "stream",
     "text": [
      ">best! 0, 1387500\n",
      ">best! 0, 370000\n",
      ">best! 0, 277500\n",
      ">best! 2, 55500\n",
      ">best! 4, 18500\n"
     ]
    },
    {
     "name": "stderr",
     "output_type": "stream",
     "text": [
      "  9%|▉         | 45/500 [00:00<00:04, 98.55it/s] "
     ]
    },
    {
     "name": "stdout",
     "output_type": "stream",
     "text": [
      ">best! 31, 0\n"
     ]
    },
    {
     "name": "stderr",
     "output_type": "stream",
     "text": [
      " 46%|████▋     | 232/500 [00:02<00:03, 83.10it/s] \n"
     ]
    },
    {
     "name": "stdout",
     "output_type": "stream",
     "text": [
      "stop\n",
      "9번째 log 저장 완료. 총 123개\n",
      "3848000\n"
     ]
    },
    {
     "name": "stderr",
     "output_type": "stream",
     "text": [
      "  0%|          | 0/500 [00:00<?, ?it/s]"
     ]
    },
    {
     "name": "stdout",
     "output_type": "stream",
     "text": [
      ">best! 0, 2220000\n",
      ">best! 0, 1406000\n",
      ">best! 0, 999000\n",
      ">best! 0, 462500\n",
      ">best! 1, 407000\n",
      ">best! 1, 55500\n",
      ">best! 2, 37000\n"
     ]
    },
    {
     "name": "stderr",
     "output_type": "stream",
     "text": [
      "  3%|▎         | 13/500 [00:00<00:07, 61.34it/s]"
     ]
    },
    {
     "name": "stdout",
     "output_type": "stream",
     "text": [
      ">best! 10, 0\n"
     ]
    },
    {
     "name": "stderr",
     "output_type": "stream",
     "text": [
      " 42%|████▏     | 211/500 [00:03<00:04, 69.92it/s]\n"
     ]
    },
    {
     "name": "stdout",
     "output_type": "stream",
     "text": [
      "stop\n",
      "10번째 log 저장 완료. 총 123개\n",
      "3515000\n"
     ]
    },
    {
     "name": "stderr",
     "output_type": "stream",
     "text": [
      "  2%|▏         | 8/500 [00:00<00:06, 79.94it/s]"
     ]
    },
    {
     "name": "stdout",
     "output_type": "stream",
     "text": [
      ">best! 0, 111000\n",
      ">best! 4, 37000\n",
      ">best! 13, 18500\n"
     ]
    },
    {
     "name": "stderr",
     "output_type": "stream",
     "text": [
      "  5%|▍         | 23/500 [00:00<00:07, 65.79it/s]"
     ]
    },
    {
     "name": "stdout",
     "output_type": "stream",
     "text": [
      ">best! 22, 0\n"
     ]
    },
    {
     "name": "stderr",
     "output_type": "stream",
     "text": [
      " 45%|████▍     | 223/500 [00:03<00:04, 60.28it/s]\n"
     ]
    },
    {
     "name": "stdout",
     "output_type": "stream",
     "text": [
      "stop\n",
      "11번째 log 저장 완료. 총 123개\n",
      "106925001202500\n"
     ]
    },
    {
     "name": "stderr",
     "output_type": "stream",
     "text": [
      "  0%|          | 2/500 [00:00<00:25, 19.42it/s]"
     ]
    },
    {
     "name": "stdout",
     "output_type": "stream",
     "text": [
      ">best! 0, 81672502460500\n",
      ">best! 0, 68477501110000\n",
      ">best! 0, 67112500351500\n",
      ">best! 1, 49140000203500\n"
     ]
    },
    {
     "name": "stderr",
     "output_type": "stream",
     "text": [
      "  3%|▎         | 15/500 [00:00<00:18, 25.89it/s]"
     ]
    },
    {
     "name": "stdout",
     "output_type": "stream",
     "text": [
      ">best! 12, 39357501276500\n"
     ]
    },
    {
     "name": "stderr",
     "output_type": "stream",
     "text": [
      "  5%|▍         | 24/500 [00:01<00:19, 23.90it/s]"
     ]
    },
    {
     "name": "stdout",
     "output_type": "stream",
     "text": [
      ">best! 21, 34352502146000\n"
     ]
    },
    {
     "name": "stderr",
     "output_type": "stream",
     "text": [
      " 10%|█         | 52/500 [00:02<00:17, 25.20it/s]"
     ]
    },
    {
     "name": "stdout",
     "output_type": "stream",
     "text": [
      ">best! 46, 34352501739000\n"
     ]
    },
    {
     "name": "stderr",
     "output_type": "stream",
     "text": [
      " 15%|█▍        | 73/500 [00:02<00:15, 27.82it/s]"
     ]
    },
    {
     "name": "stdout",
     "output_type": "stream",
     "text": [
      ">best! 70, 33215001924000\n",
      ">best! 75, 26477500000000\n"
     ]
    },
    {
     "name": "stderr",
     "output_type": "stream",
     "text": [
      " 38%|███▊      | 188/500 [00:06<00:08, 36.32it/s]"
     ]
    },
    {
     "name": "stdout",
     "output_type": "stream",
     "text": [
      ">best! 183, 25637500000000\n"
     ]
    },
    {
     "name": "stderr",
     "output_type": "stream",
     "text": [
      " 57%|█████▋    | 284/500 [00:09<00:06, 34.55it/s]"
     ]
    },
    {
     "name": "stdout",
     "output_type": "stream",
     "text": [
      ">best! 278, 22067503200500\n"
     ]
    },
    {
     "name": "stderr",
     "output_type": "stream",
     "text": [
      " 96%|█████████▌| 479/500 [00:15<00:00, 31.67it/s]\n"
     ]
    },
    {
     "name": "stdout",
     "output_type": "stream",
     "text": [
      "stop\n",
      "12번째 log 저장 완료. 총 123개\n",
      "113977500000000\n"
     ]
    },
    {
     "name": "stderr",
     "output_type": "stream",
     "text": [
      "  1%|          | 3/500 [00:00<00:16, 29.31it/s]"
     ]
    },
    {
     "name": "stdout",
     "output_type": "stream",
     "text": [
      ">best! 0, 103512500000000\n",
      ">best! 0, 95777500000000\n",
      ">best! 0, 83037500000000\n",
      ">best! 0, 79852500000000\n",
      ">best! 1, 47547500000000\n",
      ">best! 6, 32987500000000\n"
     ]
    },
    {
     "name": "stderr",
     "output_type": "stream",
     "text": [
      "  2%|▏         | 12/500 [00:00<00:12, 38.80it/s]"
     ]
    },
    {
     "name": "stdout",
     "output_type": "stream",
     "text": [
      ">best! 11, 27755000000000\n"
     ]
    },
    {
     "name": "stderr",
     "output_type": "stream",
     "text": [
      " 30%|███       | 151/500 [00:03<00:07, 49.81it/s]"
     ]
    },
    {
     "name": "stdout",
     "output_type": "stream",
     "text": [
      ">best! 143, 27527500000000\n",
      ">best! 147, 27072500000000\n"
     ]
    },
    {
     "name": "stderr",
     "output_type": "stream",
     "text": [
      " 66%|██████▋   | 332/500 [00:07<00:03, 50.29it/s]"
     ]
    },
    {
     "name": "stdout",
     "output_type": "stream",
     "text": [
      ">best! 327, 22750\n"
     ]
    },
    {
     "name": "stderr",
     "output_type": "stream",
     "text": [
      "100%|██████████| 500/500 [00:10<00:00, 48.70it/s]\n"
     ]
    },
    {
     "name": "stdout",
     "output_type": "stream",
     "text": [
      "13번째 log 저장 완료. 총 123개\n",
      "105560000000000\n"
     ]
    },
    {
     "name": "stderr",
     "output_type": "stream",
     "text": [
      "  1%|          | 4/500 [00:00<00:15, 31.10it/s]"
     ]
    },
    {
     "name": "stdout",
     "output_type": "stream",
     "text": [
      ">best! 0, 85085000000000\n",
      ">best! 0, 78942500000000\n",
      ">best! 0, 34580000000000\n",
      ">best! 6, 20930000000000\n"
     ]
    },
    {
     "name": "stderr",
     "output_type": "stream",
     "text": [
      " 24%|██▎       | 118/500 [00:03<00:12, 31.59it/s]"
     ]
    },
    {
     "name": "stdout",
     "output_type": "stream",
     "text": [
      ">best! 112, 17517500000000\n"
     ]
    },
    {
     "name": "stderr",
     "output_type": "stream",
     "text": [
      " 63%|██████▎   | 313/500 [00:10<00:06, 30.29it/s]\n"
     ]
    },
    {
     "name": "stdout",
     "output_type": "stream",
     "text": [
      "stop\n",
      "14번째 log 저장 완료. 총 123개\n",
      "116707500000000\n"
     ]
    },
    {
     "name": "stderr",
     "output_type": "stream",
     "text": [
      "  1%|          | 5/500 [00:00<00:10, 45.53it/s]"
     ]
    },
    {
     "name": "stdout",
     "output_type": "stream",
     "text": [
      ">best! 0, 113295000000000\n",
      ">best! 0, 107835000000000\n",
      ">best! 0, 51870000000000\n",
      ">best! 1, 32077500000000\n"
     ]
    },
    {
     "name": "stderr",
     "output_type": "stream",
     "text": [
      "  3%|▎         | 15/500 [00:00<00:11, 43.26it/s]"
     ]
    },
    {
     "name": "stdout",
     "output_type": "stream",
     "text": [
      ">best! 9, 29802500000000\n"
     ]
    },
    {
     "name": "stderr",
     "output_type": "stream",
     "text": [
      " 19%|█▉        | 97/500 [00:02<00:08, 49.21it/s]"
     ]
    },
    {
     "name": "stdout",
     "output_type": "stream",
     "text": [
      ">best! 91, 29575000000000\n",
      ">best! 91, 24115000000000\n",
      ">best! 98, 9100000000000\n"
     ]
    },
    {
     "name": "stderr",
     "output_type": "stream",
     "text": [
      " 45%|████▌     | 227/500 [00:04<00:05, 53.70it/s]"
     ]
    },
    {
     "name": "stdout",
     "output_type": "stream",
     "text": [
      ">best! 221, 250250\n"
     ]
    },
    {
     "name": "stderr",
     "output_type": "stream",
     "text": [
      " 84%|████████▍ | 422/500 [00:08<00:01, 49.03it/s]\n"
     ]
    },
    {
     "name": "stdout",
     "output_type": "stream",
     "text": [
      "stop\n",
      "15번째 log 저장 완료. 총 123개\n",
      "131495006592740\n"
     ]
    },
    {
     "name": "stderr",
     "output_type": "stream",
     "text": [
      "  1%|          | 4/500 [00:00<00:15, 32.63it/s]"
     ]
    },
    {
     "name": "stdout",
     "output_type": "stream",
     "text": [
      ">best! 0, 93502503553230\n",
      ">best! 0, 74392502397360\n",
      ">best! 0, 57330001241490\n",
      ">best! 1, 35717506378690\n",
      ">best! 2, 32532502268930\n",
      ">best! 2, 21385008133900\n"
     ]
    },
    {
     "name": "stderr",
     "output_type": "stream",
     "text": [
      " 27%|██▋       | 136/500 [00:04<00:10, 34.23it/s]"
     ]
    },
    {
     "name": "stdout",
     "output_type": "stream",
     "text": [
      ">best! 129, 16152501284300\n"
     ]
    },
    {
     "name": "stderr",
     "output_type": "stream",
     "text": [
      " 34%|███▍      | 172/500 [00:05<00:10, 32.58it/s]"
     ]
    },
    {
     "name": "stdout",
     "output_type": "stream",
     "text": [
      ">best! 169, 12285005736540\n"
     ]
    },
    {
     "name": "stderr",
     "output_type": "stream",
     "text": [
      " 57%|█████▋    | 286/500 [00:09<00:07, 29.78it/s]"
     ]
    },
    {
     "name": "stdout",
     "output_type": "stream",
     "text": [
      ">best! 282, 7507504323810\n"
     ]
    },
    {
     "name": "stderr",
     "output_type": "stream",
     "text": [
      " 97%|█████████▋| 483/500 [00:16<00:00, 29.19it/s]\n"
     ]
    },
    {
     "name": "stdout",
     "output_type": "stream",
     "text": [
      "stop\n",
      "16번째 log 저장 완료. 총 123개\n",
      "47519105571750\n"
     ]
    },
    {
     "name": "stderr",
     "output_type": "stream",
     "text": [
      "  1%|          | 3/500 [00:00<00:16, 29.44it/s]"
     ]
    },
    {
     "name": "stdout",
     "output_type": "stream",
     "text": [
      ">best! 0, 7767630\n",
      ">best! 0, 6984480\n",
      ">best! 0, 4488930\n",
      ">best! 1, 2724210\n",
      ">best! 4, 2707560\n"
     ]
    },
    {
     "name": "stderr",
     "output_type": "stream",
     "text": [
      "  2%|▏         | 10/500 [00:00<00:16, 30.30it/s]"
     ]
    },
    {
     "name": "stdout",
     "output_type": "stream",
     "text": [
      ">best! 7, 1582950\n",
      ">best! 11, 1510920\n"
     ]
    },
    {
     "name": "stderr",
     "output_type": "stream",
     "text": [
      " 10%|█         | 50/500 [00:01<00:14, 31.62it/s]"
     ]
    },
    {
     "name": "stdout",
     "output_type": "stream",
     "text": [
      ">best! 45, 1254060\n"
     ]
    },
    {
     "name": "stderr",
     "output_type": "stream",
     "text": [
      " 16%|█▋        | 82/500 [00:02<00:13, 30.31it/s]"
     ]
    },
    {
     "name": "stdout",
     "output_type": "stream",
     "text": [
      ">best! 77, 1225860\n"
     ]
    },
    {
     "name": "stderr",
     "output_type": "stream",
     "text": [
      " 25%|██▌       | 126/500 [00:04<00:12, 30.93it/s]"
     ]
    },
    {
     "name": "stdout",
     "output_type": "stream",
     "text": [
      ">best! 123, 1026420\n"
     ]
    },
    {
     "name": "stderr",
     "output_type": "stream",
     "text": [
      " 42%|████▏     | 212/500 [00:07<00:13, 21.73it/s]"
     ]
    },
    {
     "name": "stdout",
     "output_type": "stream",
     "text": [
      ">best! 209, 327870\n"
     ]
    },
    {
     "name": "stderr",
     "output_type": "stream",
     "text": [
      " 82%|████████▏ | 410/500 [00:15<00:03, 27.33it/s]\n"
     ]
    },
    {
     "name": "stdout",
     "output_type": "stream",
     "text": [
      "stop\n",
      "17번째 log 저장 완료. 총 123개\n",
      "7553580\n"
     ]
    },
    {
     "name": "stderr",
     "output_type": "stream",
     "text": [
      "  1%|          | 3/500 [00:00<00:17, 28.60it/s]"
     ]
    },
    {
     "name": "stdout",
     "output_type": "stream",
     "text": [
      ">best! 0, 6427950\n",
      ">best! 0, 5491230\n",
      ">best! 0, 5101860\n",
      ">best! 1, 4632990\n",
      ">best! 2, 4221540\n",
      ">best! 3, 3650400\n",
      ">best! 4, 3281760\n",
      ">best! 5, 3080280\n"
     ]
    },
    {
     "name": "stderr",
     "output_type": "stream",
     "text": [
      "  4%|▎         | 18/500 [00:00<00:16, 30.03it/s]"
     ]
    },
    {
     "name": "stdout",
     "output_type": "stream",
     "text": [
      ">best! 14, 2950830\n",
      ">best! 15, 2610390\n",
      ">best! 18, 1938000\n"
     ]
    },
    {
     "name": "stderr",
     "output_type": "stream",
     "text": [
      "  5%|▌         | 26/500 [00:00<00:16, 28.36it/s]"
     ]
    },
    {
     "name": "stdout",
     "output_type": "stream",
     "text": [
      ">best! 24, 1768800\n"
     ]
    },
    {
     "name": "stderr",
     "output_type": "stream",
     "text": [
      "  7%|▋         | 35/500 [00:01<00:18, 24.57it/s]"
     ]
    },
    {
     "name": "stdout",
     "output_type": "stream",
     "text": [
      ">best! 33, 171240\n"
     ]
    },
    {
     "name": "stderr",
     "output_type": "stream",
     "text": [
      " 47%|████▋     | 234/500 [00:09<00:11, 24.06it/s]\n"
     ]
    },
    {
     "name": "stdout",
     "output_type": "stream",
     "text": [
      "stop\n",
      "18번째 log 저장 완료. 총 123개\n",
      "7313370\n"
     ]
    },
    {
     "name": "stderr",
     "output_type": "stream",
     "text": [
      "  1%|          | 4/500 [00:00<00:14, 33.43it/s]"
     ]
    },
    {
     "name": "stdout",
     "output_type": "stream",
     "text": [
      ">best! 0, 5545590\n",
      ">best! 0, 4949310\n",
      ">best! 1, 1925430\n"
     ]
    },
    {
     "name": "stderr",
     "output_type": "stream",
     "text": [
      "  2%|▏         | 12/500 [00:00<00:15, 30.97it/s]"
     ]
    },
    {
     "name": "stdout",
     "output_type": "stream",
     "text": [
      ">best! 8, 770580\n"
     ]
    },
    {
     "name": "stderr",
     "output_type": "stream",
     "text": [
      " 38%|███▊      | 191/500 [00:06<00:10, 28.49it/s]"
     ]
    },
    {
     "name": "stdout",
     "output_type": "stream",
     "text": [
      ">best! 185, 513720\n"
     ]
    },
    {
     "name": "stderr",
     "output_type": "stream",
     "text": [
      " 77%|███████▋  | 386/500 [00:12<00:03, 30.62it/s]\n"
     ]
    },
    {
     "name": "stdout",
     "output_type": "stream",
     "text": [
      "stop\n",
      "19번째 log 저장 완료. 총 123개\n",
      "5137202907000\n"
     ]
    },
    {
     "name": "stderr",
     "output_type": "stream",
     "text": [
      "  1%|          | 3/500 [00:00<00:18, 26.22it/s]"
     ]
    },
    {
     "name": "stdout",
     "output_type": "stream",
     "text": [
      ">best! 0, 9823530\n",
      ">best! 0, 9453870\n",
      ">best! 0, 9438240\n",
      ">best! 0, 6986520\n",
      ">best! 0, 4745790\n",
      ">best! 0, 3320490\n",
      ">best! 3, 2552970\n"
     ]
    },
    {
     "name": "stderr",
     "output_type": "stream",
     "text": [
      "  4%|▍         | 21/500 [00:00<00:22, 21.32it/s]"
     ]
    },
    {
     "name": "stdout",
     "output_type": "stream",
     "text": [
      ">best! 16, 2237670\n"
     ]
    },
    {
     "name": "stderr",
     "output_type": "stream",
     "text": [
      "  6%|▌         | 30/500 [00:01<00:19, 24.54it/s]"
     ]
    },
    {
     "name": "stdout",
     "output_type": "stream",
     "text": [
      ">best! 26, 1738560\n"
     ]
    },
    {
     "name": "stderr",
     "output_type": "stream",
     "text": [
      "  8%|▊         | 40/500 [00:01<00:16, 27.31it/s]"
     ]
    },
    {
     "name": "stdout",
     "output_type": "stream",
     "text": [
      ">best! 37, 1725990\n",
      ">best! 37, 1526550\n",
      ">best! 43, 1183050\n"
     ]
    },
    {
     "name": "stderr",
     "output_type": "stream",
     "text": [
      " 34%|███▍      | 170/500 [00:05<00:09, 35.89it/s]"
     ]
    },
    {
     "name": "stdout",
     "output_type": "stream",
     "text": [
      ">best! 163, 1041030\n"
     ]
    },
    {
     "name": "stderr",
     "output_type": "stream",
     "text": [
      " 36%|███▌      | 178/500 [00:05<00:09, 34.25it/s]"
     ]
    },
    {
     "name": "stdout",
     "output_type": "stream",
     "text": [
      ">best! 172, 470910\n"
     ]
    },
    {
     "name": "stderr",
     "output_type": "stream",
     "text": [
      " 75%|███████▍  | 373/500 [00:12<00:04, 30.39it/s]\n"
     ]
    },
    {
     "name": "stdout",
     "output_type": "stream",
     "text": [
      "stop\n",
      "20번째 log 저장 완료. 총 123개\n",
      "9809650\n"
     ]
    },
    {
     "name": "stderr",
     "output_type": "stream",
     "text": [
      "  1%|          | 3/500 [00:00<00:18, 26.63it/s]"
     ]
    },
    {
     "name": "stdout",
     "output_type": "stream",
     "text": [
      ">best! 0, 9454500\n",
      ">best! 0, 8144550\n",
      ">best! 0, 6411260\n",
      ">best! 0, 6011400\n",
      ">best! 0, 6004370\n",
      ">best! 0, 4287390\n",
      ">best! 2, 1467560\n"
     ]
    },
    {
     "name": "stderr",
     "output_type": "stream",
     "text": [
      "  6%|▌         | 28/500 [00:00<00:12, 36.74it/s]"
     ]
    },
    {
     "name": "stdout",
     "output_type": "stream",
     "text": [
      ">best! 23, 1218280\n"
     ]
    },
    {
     "name": "stderr",
     "output_type": "stream",
     "text": [
      " 16%|█▌        | 80/500 [00:02<00:09, 43.82it/s]"
     ]
    },
    {
     "name": "stdout",
     "output_type": "stream",
     "text": [
      ">best! 74, 1215890\n",
      ">best! 74, 1070090\n"
     ]
    },
    {
     "name": "stderr",
     "output_type": "stream",
     "text": [
      " 23%|██▎       | 115/500 [00:02<00:08, 42.79it/s]"
     ]
    },
    {
     "name": "stdout",
     "output_type": "stream",
     "text": [
      ">best! 108, 1060670\n"
     ]
    },
    {
     "name": "stderr",
     "output_type": "stream",
     "text": [
      " 32%|███▏      | 160/500 [00:03<00:08, 41.58it/s]"
     ]
    },
    {
     "name": "stdout",
     "output_type": "stream",
     "text": [
      ">best! 152, 423340\n"
     ]
    },
    {
     "name": "stderr",
     "output_type": "stream",
     "text": [
      " 49%|████▉     | 245/500 [00:05<00:05, 44.50it/s]"
     ]
    },
    {
     "name": "stdout",
     "output_type": "stream",
     "text": [
      ">best! 236, 0\n"
     ]
    },
    {
     "name": "stderr",
     "output_type": "stream",
     "text": [
      " 87%|████████▋ | 437/500 [00:10<00:01, 41.95it/s]\n"
     ]
    },
    {
     "name": "stdout",
     "output_type": "stream",
     "text": [
      "stop\n",
      "21번째 log 저장 완료. 총 123개\n",
      "3595930\n"
     ]
    },
    {
     "name": "stderr",
     "output_type": "stream",
     "text": [
      "  1%|          | 4/500 [00:00<00:12, 38.47it/s]"
     ]
    },
    {
     "name": "stdout",
     "output_type": "stream",
     "text": [
      ">best! 0, 1034800\n",
      ">best! 0, 232830\n",
      ">best! 3, 0\n"
     ]
    },
    {
     "name": "stderr",
     "output_type": "stream",
     "text": [
      " 41%|████      | 204/500 [00:04<00:06, 42.70it/s]\n"
     ]
    },
    {
     "name": "stdout",
     "output_type": "stream",
     "text": [
      "stop\n",
      "22번째 log 저장 완료. 총 123개\n",
      "6493370\n"
     ]
    },
    {
     "name": "stderr",
     "output_type": "stream",
     "text": [
      "  1%|          | 5/500 [00:00<00:11, 43.73it/s]"
     ]
    },
    {
     "name": "stdout",
     "output_type": "stream",
     "text": [
      ">best! 0, 3854630\n",
      ">best! 0, 3207880\n",
      ">best! 0, 3000920\n",
      ">best! 0, 1578070\n",
      ">best! 1, 206960\n",
      ">best! 8, 181090\n"
     ]
    },
    {
     "name": "stderr",
     "output_type": "stream",
     "text": [
      "  7%|▋         | 35/500 [00:00<00:10, 45.48it/s]"
     ]
    },
    {
     "name": "stdout",
     "output_type": "stream",
     "text": [
      ">best! 27, 25870\n"
     ]
    },
    {
     "name": "stderr",
     "output_type": "stream",
     "text": [
      " 23%|██▎       | 114/500 [00:02<00:08, 44.48it/s]"
     ]
    },
    {
     "name": "stdout",
     "output_type": "stream",
     "text": [
      ">best! 110, 0\n"
     ]
    },
    {
     "name": "stderr",
     "output_type": "stream",
     "text": [
      " 62%|██████▏   | 311/500 [00:07<00:04, 41.58it/s]\n"
     ]
    },
    {
     "name": "stdout",
     "output_type": "stream",
     "text": [
      "stop\n",
      "23번째 log 저장 완료. 총 123개\n",
      "6881420\n"
     ]
    },
    {
     "name": "stderr",
     "output_type": "stream",
     "text": [
      "  2%|▏         | 9/500 [00:00<00:05, 82.77it/s]"
     ]
    },
    {
     "name": "stdout",
     "output_type": "stream",
     "text": [
      ">best! 0, 5536180\n",
      ">best! 0, 3337230\n",
      ">best! 0, 2095470\n",
      ">best! 0, 569140\n",
      ">best! 2, 77610\n",
      ">best! 16, 25870\n"
     ]
    },
    {
     "name": "stderr",
     "output_type": "stream",
     "text": [
      " 22%|██▏       | 108/500 [00:01<00:04, 85.29it/s]"
     ]
    },
    {
     "name": "stdout",
     "output_type": "stream",
     "text": [
      ">best! 96, 0\n"
     ]
    },
    {
     "name": "stderr",
     "output_type": "stream",
     "text": [
      " 59%|█████▉    | 297/500 [00:03<00:02, 84.66it/s]\n"
     ]
    },
    {
     "name": "stdout",
     "output_type": "stream",
     "text": [
      "stop\n",
      "24번째 log 저장 완료. 총 123개\n",
      "3595930\n"
     ]
    },
    {
     "name": "stderr",
     "output_type": "stream",
     "text": [
      "  1%|▏         | 7/500 [00:00<00:07, 66.74it/s]"
     ]
    },
    {
     "name": "stdout",
     "output_type": "stream",
     "text": [
      ">best! 0, 2587000\n",
      ">best! 0, 2457650\n",
      ">best! 0, 491530\n",
      ">best! 0, 206960\n",
      ">best! 1, 25870\n",
      ">best! 4, 0\n"
     ]
    },
    {
     "name": "stderr",
     "output_type": "stream",
     "text": [
      " 41%|████      | 205/500 [00:02<00:03, 79.86it/s]\n"
     ]
    },
    {
     "name": "stdout",
     "output_type": "stream",
     "text": [
      "stop\n",
      "25번째 log 저장 완료. 총 123개\n",
      "34164480000000\n"
     ]
    },
    {
     "name": "stderr",
     "output_type": "stream",
     "text": [
      "  2%|▏         | 10/500 [00:00<00:05, 96.48it/s]"
     ]
    },
    {
     "name": "stdout",
     "output_type": "stream",
     "text": [
      ">best! 0, 28292460000000\n",
      ">best! 1, 27402760000000\n",
      ">best! 2, 25445420000000\n",
      ">best! 3, 24555720000000\n",
      ">best! 8, 22598380000000\n",
      ">best! 10, 20996920000000\n",
      ">best! 10, 20818980000000\n",
      ">best! 15, 19217520000000\n"
     ]
    },
    {
     "name": "stderr",
     "output_type": "stream",
     "text": [
      "  9%|▉         | 45/500 [00:00<00:04, 109.34it/s]"
     ]
    },
    {
     "name": "stdout",
     "output_type": "stream",
     "text": [
      ">best! 31, 16014600000000\n"
     ]
    },
    {
     "name": "stderr",
     "output_type": "stream",
     "text": [
      " 26%|██▌       | 130/500 [00:01<00:03, 121.40it/s]"
     ]
    },
    {
     "name": "stdout",
     "output_type": "stream",
     "text": [
      ">best! 111, 12989620000000\n"
     ]
    },
    {
     "name": "stderr",
     "output_type": "stream",
     "text": [
      " 62%|██████▏   | 312/500 [00:02<00:01, 111.03it/s]\n"
     ]
    },
    {
     "name": "stdout",
     "output_type": "stream",
     "text": [
      "stop\n",
      "26번째 log 저장 완료. 총 123개\n",
      "96894060000000\n"
     ]
    },
    {
     "name": "stderr",
     "output_type": "stream",
     "text": [
      "  0%|          | 0/500 [00:00<?, ?it/s]"
     ]
    },
    {
     "name": "stdout",
     "output_type": "stream",
     "text": [
      ">best! 0, 89514120000000\n",
      ">best! 0, 88429600000000\n",
      ">best! 0, 75330900000000\n",
      ">best! 1, 68319820000000\n",
      ">best! 2, 59650120000000\n"
     ]
    },
    {
     "name": "stderr",
     "output_type": "stream",
     "text": [
      "  8%|▊         | 42/500 [00:00<00:04, 99.34it/s]"
     ]
    },
    {
     "name": "stdout",
     "output_type": "stream",
     "text": [
      ">best! 21, 53500160000000\n"
     ]
    },
    {
     "name": "stderr",
     "output_type": "stream",
     "text": [
      " 22%|██▏       | 112/500 [00:01<00:04, 91.58it/s]"
     ]
    },
    {
     "name": "stdout",
     "output_type": "stream",
     "text": [
      ">best! 97, 48572380000000\n"
     ]
    },
    {
     "name": "stderr",
     "output_type": "stream",
     "text": [
      " 60%|█████▉    | 298/500 [00:03<00:02, 95.68it/s] \n"
     ]
    },
    {
     "name": "stdout",
     "output_type": "stream",
     "text": [
      "stop\n",
      "27번째 log 저장 완료. 총 123개\n",
      "106684660000000\n"
     ]
    },
    {
     "name": "stderr",
     "output_type": "stream",
     "text": [
      "  1%|          | 6/500 [00:00<00:09, 53.31it/s]"
     ]
    },
    {
     "name": "stdout",
     "output_type": "stream",
     "text": [
      ">best! 0, 90098580000000\n",
      ">best! 1, 85718940000000\n",
      ">best! 1, 74486660000000\n",
      ">best! 3, 62159440000000\n"
     ]
    },
    {
     "name": "stderr",
     "output_type": "stream",
     "text": [
      "  8%|▊         | 42/500 [00:00<00:08, 52.29it/s]"
     ]
    },
    {
     "name": "stdout",
     "output_type": "stream",
     "text": [
      ">best! 35, 61951640000000\n"
     ]
    },
    {
     "name": "stderr",
     "output_type": "stream",
     "text": [
      " 20%|██        | 102/500 [00:01<00:07, 52.81it/s]"
     ]
    },
    {
     "name": "stdout",
     "output_type": "stream",
     "text": [
      ">best! 91, 61726960000000\n",
      ">best! 101, 60999600000000\n"
     ]
    },
    {
     "name": "stderr",
     "output_type": "stream",
     "text": [
      " 24%|██▍       | 120/500 [00:02<00:07, 51.81it/s]"
     ]
    },
    {
     "name": "stdout",
     "output_type": "stream",
     "text": [
      ">best! 110, 50620640000000\n"
     ]
    },
    {
     "name": "stderr",
     "output_type": "stream",
     "text": [
      " 62%|██████▏   | 311/500 [00:05<00:03, 52.10it/s]\n"
     ]
    },
    {
     "name": "stdout",
     "output_type": "stream",
     "text": [
      "stop\n",
      "28번째 log 저장 완료. 총 123개\n",
      "110149920000000\n"
     ]
    },
    {
     "name": "stderr",
     "output_type": "stream",
     "text": [
      "  1%|          | 3/500 [00:00<00:20, 24.40it/s]"
     ]
    },
    {
     "name": "stdout",
     "output_type": "stream",
     "text": [
      ">best! 0, 94467860000000\n",
      ">best! 0, 93249580000000\n",
      ">best! 0, 90606440000000\n",
      ">best! 0, 80231380000000\n",
      ">best! 1, 75932240000000\n",
      ">best! 4, 66654680000000\n"
     ]
    },
    {
     "name": "stderr",
     "output_type": "stream",
     "text": [
      "  4%|▍         | 20/500 [00:00<00:17, 26.91it/s]"
     ]
    },
    {
     "name": "stdout",
     "output_type": "stream",
     "text": [
      ">best! 14, 65672780000000\n",
      ">best! 19, 60830740000000\n"
     ]
    },
    {
     "name": "stderr",
     "output_type": "stream",
     "text": [
      " 16%|█▋        | 82/500 [00:03<00:15, 27.06it/s]"
     ]
    },
    {
     "name": "stdout",
     "output_type": "stream",
     "text": [
      ">best! 80, 60024160000000\n"
     ]
    },
    {
     "name": "stderr",
     "output_type": "stream",
     "text": [
      " 19%|█▉        | 96/500 [00:03<00:14, 28.41it/s]"
     ]
    },
    {
     "name": "stdout",
     "output_type": "stream",
     "text": [
      ">best! 91, 59634520000000\n"
     ]
    },
    {
     "name": "stderr",
     "output_type": "stream",
     "text": [
      " 25%|██▌       | 127/500 [00:04<00:13, 27.18it/s]"
     ]
    },
    {
     "name": "stdout",
     "output_type": "stream",
     "text": [
      ">best! 124, 55606860000000\n"
     ]
    },
    {
     "name": "stderr",
     "output_type": "stream",
     "text": [
      " 65%|██████▌   | 325/500 [00:11<00:06, 27.20it/s]\n"
     ]
    },
    {
     "name": "stdout",
     "output_type": "stream",
     "text": [
      "stop\n",
      "29번째 log 저장 완료. 총 123개\n",
      "89067320000000\n"
     ]
    },
    {
     "name": "stderr",
     "output_type": "stream",
     "text": [
      "  1%|          | 4/500 [00:00<00:13, 37.16it/s]"
     ]
    },
    {
     "name": "stdout",
     "output_type": "stream",
     "text": [
      ">best! 0, 88006200000000\n",
      ">best! 0, 84217480000000\n",
      ">best! 0, 83770680000000\n",
      ">best! 0, 82209500000000\n",
      ">best! 1, 77668800000000\n",
      ">best! 2, 76705060000000\n",
      ">best! 3, 66515740000000\n"
     ]
    },
    {
     "name": "stderr",
     "output_type": "stream",
     "text": [
      "  4%|▍         | 20/500 [00:00<00:15, 30.94it/s]"
     ]
    },
    {
     "name": "stdout",
     "output_type": "stream",
     "text": [
      ">best! 16, 65154560000000\n"
     ]
    },
    {
     "name": "stderr",
     "output_type": "stream",
     "text": [
      "  7%|▋         | 37/500 [00:01<00:13, 34.98it/s]"
     ]
    },
    {
     "name": "stdout",
     "output_type": "stream",
     "text": [
      ">best! 33, 64125860000000\n",
      ">best! 35, 62449080000000\n"
     ]
    },
    {
     "name": "stderr",
     "output_type": "stream",
     "text": [
      " 15%|█▌        | 75/500 [00:02<00:10, 40.94it/s]"
     ]
    },
    {
     "name": "stdout",
     "output_type": "stream",
     "text": [
      ">best! 67, 55504240000000\n"
     ]
    },
    {
     "name": "stderr",
     "output_type": "stream",
     "text": [
      " 40%|████      | 200/500 [00:05<00:07, 41.09it/s]"
     ]
    },
    {
     "name": "stdout",
     "output_type": "stream",
     "text": [
      ">best! 192, 53562500000000\n"
     ]
    },
    {
     "name": "stderr",
     "output_type": "stream",
     "text": [
      " 79%|███████▊  | 393/500 [00:09<00:02, 40.80it/s]\n"
     ]
    },
    {
     "name": "stdout",
     "output_type": "stream",
     "text": [
      "stop\n",
      "30번째 log 저장 완료. 총 123개\n",
      "48836000000000\n"
     ]
    },
    {
     "name": "stderr",
     "output_type": "stream",
     "text": [
      "  1%|          | 6/500 [00:00<00:08, 55.56it/s]"
     ]
    },
    {
     "name": "stdout",
     "output_type": "stream",
     "text": [
      ">best! 0, 41266420000000\n",
      ">best! 1, 39068800000000\n",
      ">best! 3, 37847900000000\n",
      ">best! 8, 37115360000000\n",
      ">best! 9, 36871180000000\n"
     ]
    },
    {
     "name": "stderr",
     "output_type": "stream",
     "text": [
      "  3%|▎         | 13/500 [00:00<00:08, 59.87it/s]"
     ]
    },
    {
     "name": "stdout",
     "output_type": "stream",
     "text": [
      ">best! 13, 35650280000000\n",
      ">best! 16, 19534400000000\n"
     ]
    },
    {
     "name": "stderr",
     "output_type": "stream",
     "text": [
      " 29%|██▉       | 144/500 [00:02<00:06, 51.61it/s]"
     ]
    },
    {
     "name": "stdout",
     "output_type": "stream",
     "text": [
      ">best! 132, 19290220000000\n"
     ]
    },
    {
     "name": "stderr",
     "output_type": "stream",
     "text": [
      " 67%|██████▋   | 333/500 [00:05<00:02, 56.74it/s]\n"
     ]
    },
    {
     "name": "stdout",
     "output_type": "stream",
     "text": [
      "stop\n",
      "31번째 log 저장 완료. 총 123개\n",
      "0\n"
     ]
    },
    {
     "name": "stderr",
     "output_type": "stream",
     "text": [
      " 40%|████      | 201/500 [00:01<00:02, 127.00it/s]\n"
     ]
    },
    {
     "name": "stdout",
     "output_type": "stream",
     "text": [
      "stop\n",
      "32번째 log 저장 완료. 총 123개\n",
      "0\n"
     ]
    },
    {
     "name": "stderr",
     "output_type": "stream",
     "text": [
      " 40%|████      | 201/500 [00:00<00:00, 303.53it/s]\n"
     ]
    },
    {
     "name": "stdout",
     "output_type": "stream",
     "text": [
      "stop\n",
      "33번째 log 저장 완료. 총 123개\n",
      "0\n"
     ]
    },
    {
     "name": "stderr",
     "output_type": "stream",
     "text": [
      " 40%|████      | 201/500 [00:00<00:01, 236.90it/s]\n"
     ]
    },
    {
     "name": "stdout",
     "output_type": "stream",
     "text": [
      "stop\n",
      "34번째 log 저장 완료. 총 123개\n",
      "0\n"
     ]
    },
    {
     "name": "stderr",
     "output_type": "stream",
     "text": [
      " 40%|████      | 201/500 [00:00<00:01, 259.57it/s]\n"
     ]
    },
    {
     "name": "stdout",
     "output_type": "stream",
     "text": [
      "stop\n",
      "35번째 log 저장 완료. 총 123개\n",
      "8069700000000\n"
     ]
    },
    {
     "name": "stderr",
     "output_type": "stream",
     "text": [
      "  2%|▏         | 12/500 [00:00<00:04, 115.70it/s]"
     ]
    },
    {
     "name": "stdout",
     "output_type": "stream",
     "text": [
      ">best! 0, 6993740000000\n",
      ">best! 0, 5917780000000\n",
      ">best! 0, 2151920000000\n",
      ">best! 11, 1613940000000\n",
      ">best! 15, 1075960000000\n"
     ]
    },
    {
     "name": "stderr",
     "output_type": "stream",
     "text": [
      " 18%|█▊        | 91/500 [00:00<00:03, 124.35it/s]"
     ]
    },
    {
     "name": "stdout",
     "output_type": "stream",
     "text": [
      ">best! 75, 537980000000\n",
      ">best! 78, 0\n"
     ]
    },
    {
     "name": "stderr",
     "output_type": "stream",
     "text": [
      " 56%|█████▌    | 279/500 [00:02<00:01, 124.59it/s]\n"
     ]
    },
    {
     "name": "stdout",
     "output_type": "stream",
     "text": [
      "stop\n",
      "36번째 log 저장 완료. 총 123개\n",
      "6993740000000\n"
     ]
    },
    {
     "name": "stderr",
     "output_type": "stream",
     "text": [
      "  1%|▏         | 7/500 [00:00<00:08, 59.78it/s]"
     ]
    },
    {
     "name": "stdout",
     "output_type": "stream",
     "text": [
      ">best! 0, 6455760000000\n",
      ">best! 0, 4303840000000\n",
      ">best! 0, 3765860000000\n",
      ">best! 1, 3227880000000\n",
      ">best! 6, 2151920000000\n",
      ">best! 8, 1613940000000\n",
      ">best! 11, 1075960000000\n"
     ]
    },
    {
     "name": "stderr",
     "output_type": "stream",
     "text": [
      " 13%|█▎        | 67/500 [00:00<00:04, 87.38it/s]"
     ]
    },
    {
     "name": "stdout",
     "output_type": "stream",
     "text": [
      ">best! 52, 537980000000\n",
      ">best! 57, 0\n"
     ]
    },
    {
     "name": "stderr",
     "output_type": "stream",
     "text": [
      " 52%|█████▏    | 258/500 [00:02<00:02, 87.34it/s] \n"
     ]
    },
    {
     "name": "stdout",
     "output_type": "stream",
     "text": [
      "stop\n",
      "37번째 log 저장 완료. 총 123개\n",
      "9683640000000\n"
     ]
    },
    {
     "name": "stderr",
     "output_type": "stream",
     "text": [
      "  1%|▏         | 7/500 [00:00<00:07, 66.33it/s]"
     ]
    },
    {
     "name": "stdout",
     "output_type": "stream",
     "text": [
      ">best! 0, 7531720000000\n",
      ">best! 0, 5379800000000\n",
      ">best! 0, 4303840000000\n",
      ">best! 0, 2689900000000\n",
      ">best! 10, 2151920000000\n"
     ]
    },
    {
     "name": "stderr",
     "output_type": "stream",
     "text": [
      "  5%|▍         | 23/500 [00:00<00:06, 69.74it/s]"
     ]
    },
    {
     "name": "stdout",
     "output_type": "stream",
     "text": [
      ">best! 17, 1613940000000\n"
     ]
    },
    {
     "name": "stderr",
     "output_type": "stream",
     "text": [
      " 11%|█         | 55/500 [00:00<00:05, 74.27it/s]"
     ]
    },
    {
     "name": "stdout",
     "output_type": "stream",
     "text": [
      ">best! 40, 0\n"
     ]
    },
    {
     "name": "stderr",
     "output_type": "stream",
     "text": [
      " 48%|████▊     | 241/500 [00:03<00:03, 72.66it/s]\n"
     ]
    },
    {
     "name": "stdout",
     "output_type": "stream",
     "text": [
      "stop\n",
      "38번째 log 저장 완료. 총 123개\n",
      "9145660000000\n"
     ]
    },
    {
     "name": "stderr",
     "output_type": "stream",
     "text": [
      "  2%|▏         | 8/500 [00:00<00:06, 71.65it/s]"
     ]
    },
    {
     "name": "stdout",
     "output_type": "stream",
     "text": [
      ">best! 0, 6455760000000\n",
      ">best! 0, 4841820000000\n",
      ">best! 0, 2689900000000\n",
      ">best! 3, 1613940000000\n",
      ">best! 9, 1075960000000\n"
     ]
    },
    {
     "name": "stderr",
     "output_type": "stream",
     "text": [
      " 10%|▉         | 49/500 [00:00<00:05, 77.75it/s]"
     ]
    },
    {
     "name": "stdout",
     "output_type": "stream",
     "text": [
      ">best! 35, 0\n"
     ]
    },
    {
     "name": "stderr",
     "output_type": "stream",
     "text": [
      " 47%|████▋     | 236/500 [00:03<00:03, 75.63it/s]\n"
     ]
    },
    {
     "name": "stdout",
     "output_type": "stream",
     "text": [
      "stop\n",
      "39번째 log 저장 완료. 총 123개\n",
      "7543820000000\n"
     ]
    },
    {
     "name": "stderr",
     "output_type": "stream",
     "text": [
      "  2%|▏         | 12/500 [00:00<00:04, 113.43it/s]"
     ]
    },
    {
     "name": "stdout",
     "output_type": "stream",
     "text": [
      ">best! 0, 6426840000000\n",
      ">best! 1, 6274860000000\n",
      ">best! 3, 4660920000000\n",
      ">best! 4, 4122940000000\n",
      ">best! 5, 3350940000000\n",
      ">best! 22, 3005960000000\n"
     ]
    },
    {
     "name": "stderr",
     "output_type": "stream",
     "text": [
      " 47%|████▋     | 234/500 [00:01<00:02, 130.38it/s]"
     ]
    },
    {
     "name": "stdout",
     "output_type": "stream",
     "text": [
      ">best! 209, 2660980000000\n"
     ]
    },
    {
     "name": "stderr",
     "output_type": "stream",
     "text": [
      " 53%|█████▎    | 263/500 [00:01<00:01, 118.59it/s]"
     ]
    },
    {
     "name": "stdout",
     "output_type": "stream",
     "text": [
      ">best! 245, 2509000053798\n"
     ]
    },
    {
     "name": "stderr",
     "output_type": "stream",
     "text": [
      " 80%|████████  | 400/500 [00:02<00:00, 137.49it/s]"
     ]
    },
    {
     "name": "stdout",
     "output_type": "stream",
     "text": [
      ">best! 384, 1930000053798\n"
     ]
    },
    {
     "name": "stderr",
     "output_type": "stream",
     "text": [
      "100%|██████████| 500/500 [00:03<00:00, 144.44it/s]\n"
     ]
    },
    {
     "name": "stdout",
     "output_type": "stream",
     "text": [
      "40번째 log 저장 완료. 총 123개\n",
      "1930000000000\n"
     ]
    },
    {
     "name": "stderr",
     "output_type": "stream",
     "text": [
      "  1%|          | 5/500 [00:00<00:09, 49.90it/s]"
     ]
    },
    {
     "name": "stdout",
     "output_type": "stream",
     "text": [
      ">best! 4, 1737000000000\n",
      ">best! 5, 1158000000000\n"
     ]
    },
    {
     "name": "stderr",
     "output_type": "stream",
     "text": [
      " 17%|█▋        | 86/500 [00:01<00:06, 61.45it/s]"
     ]
    },
    {
     "name": "stdout",
     "output_type": "stream",
     "text": [
      ">best! 78, 965000000000\n"
     ]
    },
    {
     "name": "stderr",
     "output_type": "stream",
     "text": [
      " 37%|███▋      | 185/500 [00:02<00:04, 65.91it/s]"
     ]
    },
    {
     "name": "stdout",
     "output_type": "stream",
     "text": [
      ">best! 176, 772000000000\n"
     ]
    },
    {
     "name": "stderr",
     "output_type": "stream",
     "text": [
      " 75%|███████▌  | 377/500 [00:05<00:01, 63.45it/s]\n"
     ]
    },
    {
     "name": "stdout",
     "output_type": "stream",
     "text": [
      "stop\n",
      "41번째 log 저장 완료. 총 123개\n",
      "60805120000000\n"
     ]
    },
    {
     "name": "stderr",
     "output_type": "stream",
     "text": [
      "  1%|          | 6/500 [00:00<00:08, 57.10it/s]"
     ]
    },
    {
     "name": "stdout",
     "output_type": "stream",
     "text": [
      ">best! 1, 41077720000000\n",
      ">best! 2, 39289540000000\n",
      ">best! 3, 32196600000000\n",
      ">best! 3, 26375740000000\n"
     ]
    },
    {
     "name": "stderr",
     "output_type": "stream",
     "text": [
      "  3%|▎         | 13/500 [00:00<00:08, 60.33it/s]"
     ]
    },
    {
     "name": "stdout",
     "output_type": "stream",
     "text": [
      ">best! 9, 20629500000000\n",
      ">best! 13, 3281000512778\n"
     ]
    },
    {
     "name": "stderr",
     "output_type": "stream",
     "text": [
      "  5%|▌         | 26/500 [00:00<00:09, 52.34it/s]"
     ]
    },
    {
     "name": "stdout",
     "output_type": "stream",
     "text": [
      ">best! 20, 2509000659286\n"
     ]
    },
    {
     "name": "stderr",
     "output_type": "stream",
     "text": [
      "  9%|▉         | 46/500 [00:00<00:07, 56.90it/s]"
     ]
    },
    {
     "name": "stdout",
     "output_type": "stream",
     "text": [
      ">best! 37, 2509000097672\n",
      ">best! 44, 2316000561614\n"
     ]
    },
    {
     "name": "stderr",
     "output_type": "stream",
     "text": [
      " 25%|██▌       | 127/500 [00:02<00:06, 56.62it/s]"
     ]
    },
    {
     "name": "stdout",
     "output_type": "stream",
     "text": [
      ">best! 120, 2123001929022\n"
     ]
    },
    {
     "name": "stderr",
     "output_type": "stream",
     "text": [
      " 64%|██████▍   | 321/500 [00:05<00:03, 54.87it/s]\n"
     ]
    },
    {
     "name": "stdout",
     "output_type": "stream",
     "text": [
      "stop\n",
      "42번째 log 저장 완료. 총 123개\n",
      "109692300000000\n"
     ]
    },
    {
     "name": "stderr",
     "output_type": "stream",
     "text": [
      "  2%|▏         | 8/500 [00:00<00:06, 76.75it/s]"
     ]
    },
    {
     "name": "stdout",
     "output_type": "stream",
     "text": [
      ">best! 0, 11878480000000\n",
      ">best! 1, 3088000170926\n"
     ]
    },
    {
     "name": "stderr",
     "output_type": "stream",
     "text": [
      "  7%|▋         | 33/500 [00:00<00:05, 80.63it/s]"
     ]
    },
    {
     "name": "stdout",
     "output_type": "stream",
     "text": [
      ">best! 18, 2123001416244\n"
     ]
    },
    {
     "name": "stderr",
     "output_type": "stream",
     "text": [
      " 24%|██▍       | 120/500 [00:01<00:04, 82.08it/s]"
     ]
    },
    {
     "name": "stdout",
     "output_type": "stream",
     "text": [
      ">best! 106, 2123001318572\n",
      ">best! 108, 2123000512778\n"
     ]
    },
    {
     "name": "stderr",
     "output_type": "stream",
     "text": [
      " 29%|██▉       | 146/500 [00:01<00:04, 75.11it/s]"
     ]
    },
    {
     "name": "stdout",
     "output_type": "stream",
     "text": [
      ">best! 134, 1930001587170\n"
     ]
    },
    {
     "name": "stderr",
     "output_type": "stream",
     "text": [
      " 39%|███▉      | 195/500 [00:02<00:04, 75.32it/s]"
     ]
    },
    {
     "name": "stdout",
     "output_type": "stream",
     "text": [
      ">best! 181, 1839360000000\n"
     ]
    },
    {
     "name": "stderr",
     "output_type": "stream",
     "text": [
      " 68%|██████▊   | 342/500 [00:04<00:01, 81.88it/s]"
     ]
    },
    {
     "name": "stdout",
     "output_type": "stream",
     "text": [
      ">best! 332, 1351000903466\n"
     ]
    },
    {
     "name": "stderr",
     "output_type": "stream",
     "text": [
      "100%|██████████| 500/500 [00:06<00:00, 76.19it/s]\n"
     ]
    },
    {
     "name": "stdout",
     "output_type": "stream",
     "text": [
      "43번째 log 저장 완료. 총 123개\n",
      "98704201793350\n"
     ]
    },
    {
     "name": "stderr",
     "output_type": "stream",
     "text": [
      "  1%|          | 4/500 [00:00<00:13, 37.96it/s]"
     ]
    },
    {
     "name": "stdout",
     "output_type": "stream",
     "text": [
      ">best! 0, 97006660800110\n",
      ">best! 0, 77807081986480\n",
      ">best! 0, 54558802372740\n",
      ">best! 0, 39663821296730\n",
      ">best! 1, 31708240358670\n",
      ">best! 1, 30345520689750\n",
      ">best! 2, 5571101342990\n"
     ]
    },
    {
     "name": "stderr",
     "output_type": "stream",
     "text": [
      "  7%|▋         | 34/500 [00:00<00:11, 40.54it/s]"
     ]
    },
    {
     "name": "stdout",
     "output_type": "stream",
     "text": [
      ">best! 27, 2316002031484\n"
     ]
    },
    {
     "name": "stderr",
     "output_type": "stream",
     "text": [
      " 18%|█▊        | 89/500 [00:02<00:09, 43.17it/s]"
     ]
    },
    {
     "name": "stdout",
     "output_type": "stream",
     "text": [
      ">best! 80, 2316001088996\n"
     ]
    },
    {
     "name": "stderr",
     "output_type": "stream",
     "text": [
      " 54%|█████▍    | 269/500 [00:06<00:05, 44.73it/s]"
     ]
    },
    {
     "name": "stdout",
     "output_type": "stream",
     "text": [
      ">best! 263, 2316000784250\n"
     ]
    },
    {
     "name": "stderr",
     "output_type": "stream",
     "text": [
      " 90%|████████▉ | 449/500 [00:10<00:01, 35.24it/s]"
     ]
    },
    {
     "name": "stdout",
     "output_type": "stream",
     "text": [
      ">best! 444, 1737002510030\n"
     ]
    },
    {
     "name": "stderr",
     "output_type": "stream",
     "text": [
      "100%|██████████| 500/500 [00:12<00:00, 41.11it/s]\n"
     ]
    },
    {
     "name": "stdout",
     "output_type": "stream",
     "text": [
      "44번째 log 저장 완료. 총 123개\n",
      "90102423475300\n"
     ]
    },
    {
     "name": "stderr",
     "output_type": "stream",
     "text": [
      "  2%|▏         | 10/500 [00:00<00:05, 95.28it/s]"
     ]
    },
    {
     "name": "stdout",
     "output_type": "stream",
     "text": [
      ">best! 0, 51766164485800\n",
      ">best! 0, 44684944533770\n",
      ">best! 1, 40045523371940\n",
      ">best! 1, 30034142782500\n",
      ">best! 2, 732544894380\n"
     ]
    },
    {
     "name": "stderr",
     "output_type": "stream",
     "text": [
      "  8%|▊         | 42/500 [00:00<00:04, 100.62it/s]"
     ]
    },
    {
     "name": "stdout",
     "output_type": "stream",
     "text": [
      ">best! 23, 8400970\n"
     ]
    },
    {
     "name": "stderr",
     "output_type": "stream",
     "text": [
      " 13%|█▎        | 64/500 [00:00<00:04, 89.70it/s] "
     ]
    },
    {
     "name": "stdout",
     "output_type": "stream",
     "text": [
      ">best! 50, 4744132\n",
      ">best! 59, 2852268\n"
     ]
    },
    {
     "name": "stderr",
     "output_type": "stream",
     "text": [
      " 21%|██        | 105/500 [00:01<00:04, 96.96it/s]"
     ]
    },
    {
     "name": "stdout",
     "output_type": "stream",
     "text": [
      ">best! 88, 2726536\n"
     ]
    },
    {
     "name": "stderr",
     "output_type": "stream",
     "text": [
      " 29%|██▉       | 144/500 [00:01<00:04, 83.85it/s]"
     ]
    },
    {
     "name": "stdout",
     "output_type": "stream",
     "text": [
      ">best! 132, 2308812\n"
     ]
    },
    {
     "name": "stderr",
     "output_type": "stream",
     "text": [
      " 58%|█████▊    | 288/500 [00:02<00:02, 104.39it/s]"
     ]
    },
    {
     "name": "stdout",
     "output_type": "stream",
     "text": [
      ">best! 272, 2167456\n"
     ]
    },
    {
     "name": "stderr",
     "output_type": "stream",
     "text": [
      " 62%|██████▏   | 309/500 [00:03<00:01, 97.64it/s] "
     ]
    },
    {
     "name": "stdout",
     "output_type": "stream",
     "text": [
      ">best! 293, 1793780\n"
     ]
    },
    {
     "name": "stderr",
     "output_type": "stream",
     "text": [
      " 99%|█████████▉| 494/500 [00:05<00:00, 95.22it/s] \n"
     ]
    },
    {
     "name": "stdout",
     "output_type": "stream",
     "text": [
      "stop\n",
      "45번째 log 저장 완료. 총 123개\n",
      "150414881910710\n"
     ]
    },
    {
     "name": "stderr",
     "output_type": "stream",
     "text": [
      "  1%|          | 3/500 [00:00<00:16, 29.35it/s]"
     ]
    },
    {
     "name": "stdout",
     "output_type": "stream",
     "text": [
      ">best! 0, 116962224159710\n",
      ">best! 0, 17092606459800\n",
      ">best! 2, 12232862759000\n"
     ]
    },
    {
     "name": "stderr",
     "output_type": "stream",
     "text": [
      "  2%|▏         | 12/500 [00:00<00:13, 37.22it/s]"
     ]
    },
    {
     "name": "stdout",
     "output_type": "stream",
     "text": [
      ">best! 8, 3229930\n"
     ]
    },
    {
     "name": "stderr",
     "output_type": "stream",
     "text": [
      " 11%|█         | 56/500 [00:01<00:07, 56.60it/s]"
     ]
    },
    {
     "name": "stdout",
     "output_type": "stream",
     "text": [
      ">best! 45, 2411298\n"
     ]
    },
    {
     "name": "stderr",
     "output_type": "stream",
     "text": [
      " 49%|████▉     | 246/500 [00:04<00:04, 52.91it/s]\n"
     ]
    },
    {
     "name": "stdout",
     "output_type": "stream",
     "text": [
      "stop\n",
      "46번째 log 저장 완료. 총 123개\n",
      "2539250\n"
     ]
    },
    {
     "name": "stderr",
     "output_type": "stream",
     "text": [
      "  2%|▏         | 9/500 [00:00<00:05, 88.27it/s]"
     ]
    },
    {
     "name": "stdout",
     "output_type": "stream",
     "text": [
      ">best! 0, 1825930\n",
      ">best! 0, 743890\n",
      ">best! 12, 579390\n",
      ">best! 16, 459810\n"
     ]
    },
    {
     "name": "stderr",
     "output_type": "stream",
     "text": [
      " 12%|█▏        | 61/500 [00:00<00:05, 77.40it/s]"
     ]
    },
    {
     "name": "stdout",
     "output_type": "stream",
     "text": [
      ">best! 47, 314720\n"
     ]
    },
    {
     "name": "stderr",
     "output_type": "stream",
     "text": [
      " 33%|███▎      | 164/500 [00:01<00:03, 98.41it/s]"
     ]
    },
    {
     "name": "stdout",
     "output_type": "stream",
     "text": [
      ">best! 150, 223770\n",
      ">best! 157, 204360\n"
     ]
    },
    {
     "name": "stderr",
     "output_type": "stream",
     "text": [
      " 67%|██████▋   | 336/500 [00:03<00:01, 94.07it/s]"
     ]
    },
    {
     "name": "stdout",
     "output_type": "stream",
     "text": [
      ">best! 323, 161450\n"
     ]
    },
    {
     "name": "stderr",
     "output_type": "stream",
     "text": [
      " 78%|███████▊  | 389/500 [00:04<00:01, 98.72it/s]"
     ]
    },
    {
     "name": "stdout",
     "output_type": "stream",
     "text": [
      ">best! 370, 125680\n"
     ]
    },
    {
     "name": "stderr",
     "output_type": "stream",
     "text": [
      " 92%|█████████▏| 459/500 [00:05<00:00, 94.07it/s]"
     ]
    },
    {
     "name": "stdout",
     "output_type": "stream",
     "text": [
      ">best! 441, 70500\n"
     ]
    },
    {
     "name": "stderr",
     "output_type": "stream",
     "text": [
      "100%|██████████| 500/500 [00:05<00:00, 89.54it/s]\n"
     ]
    },
    {
     "name": "stdout",
     "output_type": "stream",
     "text": [
      "47번째 log 저장 완료. 총 123개\n",
      "3416930\n"
     ]
    },
    {
     "name": "stderr",
     "output_type": "stream",
     "text": [
      "  2%|▏         | 11/500 [00:00<00:04, 106.44it/s]"
     ]
    },
    {
     "name": "stdout",
     "output_type": "stream",
     "text": [
      ">best! 0, 2869290\n",
      ">best! 0, 2065090\n",
      ">best! 1, 901180\n",
      ">best! 8, 283040\n"
     ]
    },
    {
     "name": "stderr",
     "output_type": "stream",
     "text": [
      " 18%|█▊        | 92/500 [00:00<00:03, 105.19it/s]"
     ]
    },
    {
     "name": "stdout",
     "output_type": "stream",
     "text": [
      ">best! 74, 193130\n"
     ]
    },
    {
     "name": "stderr",
     "output_type": "stream",
     "text": [
      " 25%|██▌       | 126/500 [00:01<00:03, 105.60it/s]"
     ]
    },
    {
     "name": "stdout",
     "output_type": "stream",
     "text": [
      ">best! 113, 192090\n"
     ]
    },
    {
     "name": "stderr",
     "output_type": "stream",
     "text": [
      " 52%|█████▏    | 260/500 [00:02<00:02, 114.49it/s]"
     ]
    },
    {
     "name": "stdout",
     "output_type": "stream",
     "text": [
      ">best! 242, 23500\n"
     ]
    },
    {
     "name": "stderr",
     "output_type": "stream",
     "text": [
      " 89%|████████▊ | 443/500 [00:04<00:00, 108.39it/s]\n"
     ]
    },
    {
     "name": "stdout",
     "output_type": "stream",
     "text": [
      "stop\n",
      "48번째 log 저장 완료. 총 123개\n",
      "84130000000000\n"
     ]
    },
    {
     "name": "stderr",
     "output_type": "stream",
     "text": [
      "  2%|▏         | 9/500 [00:00<00:05, 87.82it/s]"
     ]
    },
    {
     "name": "stdout",
     "output_type": "stream",
     "text": [
      ">best! 0, 2585000000000\n",
      ">best! 3, 658000\n",
      ">best! 4, 564000\n",
      ">best! 5, 117500\n",
      ">best! 13, 70500\n",
      ">best! 14, 23500\n"
     ]
    },
    {
     "name": "stderr",
     "output_type": "stream",
     "text": [
      " 19%|█▉        | 97/500 [00:01<00:04, 94.04it/s]"
     ]
    },
    {
     "name": "stdout",
     "output_type": "stream",
     "text": [
      ">best! 86, 0\n"
     ]
    },
    {
     "name": "stderr",
     "output_type": "stream",
     "text": [
      " 57%|█████▋    | 287/500 [00:03<00:02, 90.77it/s]\n"
     ]
    },
    {
     "name": "stdout",
     "output_type": "stream",
     "text": [
      "stop\n",
      "49번째 log 저장 완료. 총 123개\n",
      "0\n"
     ]
    },
    {
     "name": "stderr",
     "output_type": "stream",
     "text": [
      " 40%|████      | 201/500 [00:02<00:03, 89.25it/s]\n"
     ]
    },
    {
     "name": "stdout",
     "output_type": "stream",
     "text": [
      "stop\n",
      "50번째 log 저장 완료. 총 123개\n",
      "0\n"
     ]
    },
    {
     "name": "stderr",
     "output_type": "stream",
     "text": [
      " 40%|████      | 201/500 [00:02<00:03, 83.38it/s]\n"
     ]
    },
    {
     "name": "stdout",
     "output_type": "stream",
     "text": [
      "stop\n",
      "51번째 log 저장 완료. 총 123개\n",
      "0\n"
     ]
    },
    {
     "name": "stderr",
     "output_type": "stream",
     "text": [
      " 40%|████      | 201/500 [00:02<00:03, 75.52it/s]\n"
     ]
    },
    {
     "name": "stdout",
     "output_type": "stream",
     "text": [
      "stop\n",
      "52번째 log 저장 완료. 총 123개\n",
      "4750000000000\n"
     ]
    },
    {
     "name": "stderr",
     "output_type": "stream",
     "text": [
      "  1%|▏         | 7/500 [00:00<00:07, 66.84it/s]"
     ]
    },
    {
     "name": "stdout",
     "output_type": "stream",
     "text": [
      ">best! 0, 137500\n",
      ">best! 1, 100000\n",
      ">best! 3, 50000\n",
      ">best! 3, 0\n"
     ]
    },
    {
     "name": "stderr",
     "output_type": "stream",
     "text": [
      " 41%|████      | 204/500 [00:02<00:03, 78.19it/s]\n"
     ]
    },
    {
     "name": "stdout",
     "output_type": "stream",
     "text": [
      "stop\n",
      "53번째 log 저장 완료. 총 123개\n",
      "3071202100000\n"
     ]
    },
    {
     "name": "stderr",
     "output_type": "stream",
     "text": [
      "  2%|▏         | 9/500 [00:00<00:05, 89.92it/s]"
     ]
    },
    {
     "name": "stdout",
     "output_type": "stream",
     "text": [
      ">best! 0, 2170360\n",
      ">best! 0, 2072280\n",
      ">best! 0, 1656120\n",
      ">best! 0, 992340\n",
      ">best! 13, 616060\n"
     ]
    },
    {
     "name": "stderr",
     "output_type": "stream",
     "text": [
      " 11%|█         | 56/500 [00:00<00:05, 86.67it/s]"
     ]
    },
    {
     "name": "stdout",
     "output_type": "stream",
     "text": [
      ">best! 44, 281480\n"
     ]
    },
    {
     "name": "stderr",
     "output_type": "stream",
     "text": [
      " 18%|█▊        | 91/500 [00:01<00:05, 77.83it/s]"
     ]
    },
    {
     "name": "stdout",
     "output_type": "stream",
     "text": [
      ">best! 81, 279200\n"
     ]
    },
    {
     "name": "stderr",
     "output_type": "stream",
     "text": [
      " 27%|██▋       | 135/500 [00:01<00:04, 82.06it/s]"
     ]
    },
    {
     "name": "stdout",
     "output_type": "stream",
     "text": [
      ">best! 120, 241060\n"
     ]
    },
    {
     "name": "stderr",
     "output_type": "stream",
     "text": [
      " 56%|█████▌    | 281/500 [00:03<00:02, 83.43it/s]"
     ]
    },
    {
     "name": "stdout",
     "output_type": "stream",
     "text": [
      ">best! 266, 204380\n"
     ]
    },
    {
     "name": "stderr",
     "output_type": "stream",
     "text": [
      " 71%|███████   | 356/500 [00:04<00:01, 73.50it/s]"
     ]
    },
    {
     "name": "stdout",
     "output_type": "stream",
     "text": [
      ">best! 341, 76460\n"
     ]
    },
    {
     "name": "stderr",
     "output_type": "stream",
     "text": [
      "100%|██████████| 500/500 [00:06<00:00, 82.96it/s]\n"
     ]
    },
    {
     "name": "stdout",
     "output_type": "stream",
     "text": [
      "54번째 log 저장 완료. 총 123개\n",
      "54039600000000\n"
     ]
    },
    {
     "name": "stderr",
     "output_type": "stream",
     "text": [
      "  1%|          | 5/500 [00:00<00:11, 43.07it/s]"
     ]
    },
    {
     "name": "stdout",
     "output_type": "stream",
     "text": [
      ">best! 0, 31871600000000\n",
      ">best! 0, 2686140\n",
      ">best! 0, 824820\n",
      ">best! 1, 508760\n"
     ]
    },
    {
     "name": "stderr",
     "output_type": "stream",
     "text": [
      " 10%|█         | 51/500 [00:01<00:08, 55.51it/s]"
     ]
    },
    {
     "name": "stdout",
     "output_type": "stream",
     "text": [
      ">best! 42, 229380\n"
     ]
    },
    {
     "name": "stderr",
     "output_type": "stream",
     "text": [
      " 19%|█▊        | 93/500 [00:01<00:08, 49.77it/s]"
     ]
    },
    {
     "name": "stdout",
     "output_type": "stream",
     "text": [
      ">best! 89, 129380\n"
     ]
    },
    {
     "name": "stderr",
     "output_type": "stream",
     "text": [
      " 21%|██        | 104/500 [00:02<00:08, 44.52it/s]"
     ]
    },
    {
     "name": "stdout",
     "output_type": "stream",
     "text": [
      ">best! 99, 94800\n"
     ]
    },
    {
     "name": "stderr",
     "output_type": "stream",
     "text": [
      " 42%|████▏     | 212/500 [00:04<00:05, 55.41it/s]"
     ]
    },
    {
     "name": "stdout",
     "output_type": "stream",
     "text": [
      ">best! 204, 75000\n"
     ]
    },
    {
     "name": "stderr",
     "output_type": "stream",
     "text": [
      " 81%|████████  | 405/500 [00:07<00:01, 51.77it/s]\n"
     ]
    },
    {
     "name": "stdout",
     "output_type": "stream",
     "text": [
      "stop\n",
      "55번째 log 저장 완료. 총 123개\n",
      "84437600000000\n"
     ]
    },
    {
     "name": "stderr",
     "output_type": "stream",
     "text": [
      "  1%|          | 6/500 [00:00<00:08, 57.39it/s]"
     ]
    },
    {
     "name": "stdout",
     "output_type": "stream",
     "text": [
      ">best! 0, 27125003168920\n",
      ">best! 0, 5444400075000\n",
      ">best! 1, 897540\n"
     ]
    },
    {
     "name": "stderr",
     "output_type": "stream",
     "text": [
      "  2%|▏         | 12/500 [00:00<00:08, 56.80it/s]"
     ]
    },
    {
     "name": "stdout",
     "output_type": "stream",
     "text": [
      ">best! 10, 781480\n"
     ]
    },
    {
     "name": "stderr",
     "output_type": "stream",
     "text": [
      "  4%|▎         | 18/500 [00:00<00:11, 43.67it/s]"
     ]
    },
    {
     "name": "stdout",
     "output_type": "stream",
     "text": [
      ">best! 15, 641520\n"
     ]
    },
    {
     "name": "stderr",
     "output_type": "stream",
     "text": [
      "  8%|▊         | 42/500 [00:00<00:08, 52.78it/s]"
     ]
    },
    {
     "name": "stdout",
     "output_type": "stream",
     "text": [
      ">best! 30, 528380\n"
     ]
    },
    {
     "name": "stderr",
     "output_type": "stream",
     "text": [
      " 17%|█▋        | 87/500 [00:01<00:08, 51.12it/s]"
     ]
    },
    {
     "name": "stdout",
     "output_type": "stream",
     "text": [
      ">best! 76, 332120\n"
     ]
    },
    {
     "name": "stderr",
     "output_type": "stream",
     "text": [
      " 27%|██▋       | 134/500 [00:02<00:06, 61.00it/s]"
     ]
    },
    {
     "name": "stdout",
     "output_type": "stream",
     "text": [
      ">best! 122, 310220\n"
     ]
    },
    {
     "name": "stderr",
     "output_type": "stream",
     "text": [
      " 36%|███▌      | 181/500 [00:03<00:05, 61.27it/s]"
     ]
    },
    {
     "name": "stdout",
     "output_type": "stream",
     "text": [
      ">best! 170, 239600\n",
      ">best! 175, 214600\n"
     ]
    },
    {
     "name": "stderr",
     "output_type": "stream",
     "text": [
      " 43%|████▎     | 213/500 [00:03<00:05, 53.60it/s]"
     ]
    },
    {
     "name": "stdout",
     "output_type": "stream",
     "text": [
      ">best! 205, 202920\n"
     ]
    },
    {
     "name": "stderr",
     "output_type": "stream",
     "text": [
      " 46%|████▋     | 232/500 [00:04<00:04, 55.13it/s]"
     ]
    },
    {
     "name": "stdout",
     "output_type": "stream",
     "text": [
      ">best! 225, 188140\n"
     ]
    },
    {
     "name": "stderr",
     "output_type": "stream",
     "text": [
      " 53%|█████▎    | 264/500 [00:04<00:04, 57.34it/s]"
     ]
    },
    {
     "name": "stdout",
     "output_type": "stream",
     "text": [
      ">best! 255, 113960\n"
     ]
    },
    {
     "name": "stderr",
     "output_type": "stream",
     "text": [
      " 91%|█████████ | 456/500 [00:07<00:00, 57.11it/s]\n"
     ]
    },
    {
     "name": "stdout",
     "output_type": "stream",
     "text": [
      "stop\n",
      "56번째 log 저장 완료. 총 123개\n",
      "117294600000000\n"
     ]
    },
    {
     "name": "stderr",
     "output_type": "stream",
     "text": [
      "  1%|          | 5/500 [00:00<00:11, 43.74it/s]"
     ]
    },
    {
     "name": "stdout",
     "output_type": "stream",
     "text": [
      ">best! 0, 115600400000000\n",
      ">best! 0, 76171200000000\n",
      ">best! 0, 18750000711960\n",
      ">best! 0, 10125000628200\n",
      ">best! 1, 10125000488600\n",
      ">best! 2, 1250000335040\n",
      ">best! 4, 3326760\n",
      ">best! 5, 521080\n",
      ">best! 6, 424820\n"
     ]
    },
    {
     "name": "stderr",
     "output_type": "stream",
     "text": [
      "  5%|▍         | 24/500 [00:00<00:12, 36.67it/s]"
     ]
    },
    {
     "name": "stdout",
     "output_type": "stream",
     "text": [
      ">best! 18, 377740\n"
     ]
    },
    {
     "name": "stderr",
     "output_type": "stream",
     "text": [
      " 10%|▉         | 49/500 [00:01<00:10, 42.67it/s]"
     ]
    },
    {
     "name": "stdout",
     "output_type": "stream",
     "text": [
      ">best! 43, 162500\n"
     ]
    },
    {
     "name": "stderr",
     "output_type": "stream",
     "text": [
      " 49%|████▉     | 244/500 [00:05<00:05, 43.72it/s]\n"
     ]
    },
    {
     "name": "stdout",
     "output_type": "stream",
     "text": [
      "stop\n",
      "57번째 log 저장 완료. 총 123개\n",
      "544440\n"
     ]
    },
    {
     "name": "stderr",
     "output_type": "stream",
     "text": [
      "  2%|▏         | 8/500 [00:00<00:06, 71.65it/s]"
     ]
    },
    {
     "name": "stdout",
     "output_type": "stream",
     "text": [
      ">best! 0, 251280\n",
      ">best! 1, 55840\n",
      ">best! 2, 0\n"
     ]
    },
    {
     "name": "stderr",
     "output_type": "stream",
     "text": [
      " 41%|████      | 203/500 [00:03<00:04, 61.13it/s]\n"
     ]
    },
    {
     "name": "stdout",
     "output_type": "stream",
     "text": [
      "stop\n",
      "58번째 log 저장 완료. 총 123개\n",
      "5329500\n"
     ]
    },
    {
     "name": "stderr",
     "output_type": "stream",
     "text": [
      "  3%|▎         | 16/500 [00:00<00:03, 153.18it/s]"
     ]
    },
    {
     "name": "stdout",
     "output_type": "stream",
     "text": [
      ">best! 0, 4845000\n",
      ">best! 0, 4602750\n",
      ">best! 0, 3876000\n",
      ">best! 1, 3391500\n",
      ">best! 1, 484500\n",
      ">best! 21, 242250\n",
      ">best! 28, 0\n"
     ]
    },
    {
     "name": "stderr",
     "output_type": "stream",
     "text": [
      " 46%|████▌     | 229/500 [00:01<00:01, 141.60it/s]\n"
     ]
    },
    {
     "name": "stdout",
     "output_type": "stream",
     "text": [
      "stop\n",
      "59번째 log 저장 완료. 총 123개\n",
      "7752000\n"
     ]
    },
    {
     "name": "stderr",
     "output_type": "stream",
     "text": [
      "  2%|▏         | 11/500 [00:00<00:04, 102.09it/s]"
     ]
    },
    {
     "name": "stdout",
     "output_type": "stream",
     "text": [
      ">best! 0, 2422500\n",
      ">best! 1, 1211250\n",
      ">best! 4, 484500\n",
      ">best! 15, 242250\n"
     ]
    },
    {
     "name": "stderr",
     "output_type": "stream",
     "text": [
      " 16%|█▌        | 78/500 [00:00<00:04, 105.08it/s]"
     ]
    },
    {
     "name": "stdout",
     "output_type": "stream",
     "text": [
      ">best! 66, 0\n"
     ]
    },
    {
     "name": "stderr",
     "output_type": "stream",
     "text": [
      " 53%|█████▎    | 267/500 [00:02<00:02, 99.63it/s] \n"
     ]
    },
    {
     "name": "stdout",
     "output_type": "stream",
     "text": [
      "stop\n",
      "60번째 log 저장 완료. 총 123개\n",
      "7752000\n"
     ]
    },
    {
     "name": "stderr",
     "output_type": "stream",
     "text": [
      "  3%|▎         | 16/500 [00:00<00:03, 146.51it/s]"
     ]
    },
    {
     "name": "stdout",
     "output_type": "stream",
     "text": [
      ">best! 0, 4845000\n",
      ">best! 0, 4360500\n",
      ">best! 0, 3391500\n",
      ">best! 1, 2422500\n",
      ">best! 1, 969000\n",
      ">best! 6, 484500\n",
      ">best! 7, 242250\n"
     ]
    },
    {
     "name": "stderr",
     "output_type": "stream",
     "text": [
      " 15%|█▍        | 74/500 [00:00<00:02, 182.23it/s]"
     ]
    },
    {
     "name": "stdout",
     "output_type": "stream",
     "text": [
      ">best! 41, 0\n"
     ]
    },
    {
     "name": "stderr",
     "output_type": "stream",
     "text": [
      " 48%|████▊     | 242/500 [00:01<00:01, 196.12it/s]\n"
     ]
    },
    {
     "name": "stdout",
     "output_type": "stream",
     "text": [
      "stop\n",
      "61번째 log 저장 완료. 총 123개\n",
      "3391500\n"
     ]
    },
    {
     "name": "stderr",
     "output_type": "stream",
     "text": [
      "  2%|▏         | 8/500 [00:00<00:06, 76.85it/s]"
     ]
    },
    {
     "name": "stdout",
     "output_type": "stream",
     "text": [
      ">best! 0, 2907000\n",
      ">best! 0, 1695750\n",
      ">best! 3, 969000\n",
      ">best! 4, 726750\n"
     ]
    },
    {
     "name": "stderr",
     "output_type": "stream",
     "text": [
      "  3%|▎         | 16/500 [00:00<00:06, 76.22it/s]"
     ]
    },
    {
     "name": "stdout",
     "output_type": "stream",
     "text": [
      ">best! 13, 0\n"
     ]
    },
    {
     "name": "stderr",
     "output_type": "stream",
     "text": [
      " 43%|████▎     | 214/500 [00:02<00:03, 80.67it/s]\n"
     ]
    },
    {
     "name": "stdout",
     "output_type": "stream",
     "text": [
      "stop\n",
      "62번째 log 저장 완료. 총 123개\n",
      "7752000\n"
     ]
    },
    {
     "name": "stderr",
     "output_type": "stream",
     "text": [
      "  3%|▎         | 17/500 [00:00<00:02, 166.11it/s]"
     ]
    },
    {
     "name": "stdout",
     "output_type": "stream",
     "text": [
      ">best! 0, 3149250\n",
      ">best! 0, 2180250\n",
      ">best! 3, 1695750\n",
      ">best! 5, 242250\n"
     ]
    },
    {
     "name": "stderr",
     "output_type": "stream",
     "text": [
      " 13%|█▎        | 63/500 [00:00<00:03, 135.72it/s]"
     ]
    },
    {
     "name": "stdout",
     "output_type": "stream",
     "text": [
      ">best! 36, 0\n"
     ]
    },
    {
     "name": "stderr",
     "output_type": "stream",
     "text": [
      " 47%|████▋     | 237/500 [00:01<00:01, 134.02it/s]\n"
     ]
    },
    {
     "name": "stdout",
     "output_type": "stream",
     "text": [
      "stop\n",
      "63번째 log 저장 완료. 총 123개\n",
      "0\n"
     ]
    },
    {
     "name": "stderr",
     "output_type": "stream",
     "text": [
      " 40%|████      | 201/500 [00:01<00:02, 149.48it/s]\n"
     ]
    },
    {
     "name": "stdout",
     "output_type": "stream",
     "text": [
      "stop\n",
      "64번째 log 저장 완료. 총 123개\n",
      "3482705\n"
     ]
    },
    {
     "name": "stderr",
     "output_type": "stream",
     "text": [
      "  2%|▏         | 12/500 [00:00<00:04, 119.86it/s]"
     ]
    },
    {
     "name": "stdout",
     "output_type": "stream",
     "text": [
      ">best! 0, 2007677\n",
      ">best! 0, 1638920\n",
      ">best! 0, 1597947\n",
      ">best! 0, 409730\n",
      ">best! 3, 204865\n",
      ">best! 6, 81946\n"
     ]
    },
    {
     "name": "stderr",
     "output_type": "stream",
     "text": [
      "  9%|▉         | 46/500 [00:00<00:05, 84.90it/s] "
     ]
    },
    {
     "name": "stdout",
     "output_type": "stream",
     "text": [
      ">best! 31, 0\n"
     ]
    },
    {
     "name": "stderr",
     "output_type": "stream",
     "text": [
      " 46%|████▋     | 232/500 [00:02<00:02, 105.91it/s]\n"
     ]
    },
    {
     "name": "stdout",
     "output_type": "stream",
     "text": [
      "stop\n",
      "65번째 log 저장 완료. 총 123개\n",
      "5449409\n"
     ]
    },
    {
     "name": "stderr",
     "output_type": "stream",
     "text": [
      "  2%|▏         | 12/500 [00:00<00:04, 113.66it/s]"
     ]
    },
    {
     "name": "stdout",
     "output_type": "stream",
     "text": [
      ">best! 0, 4384111\n",
      ">best! 0, 3769516\n",
      ">best! 0, 3687570\n",
      ">best! 0, 450703\n",
      ">best! 1, 368757\n",
      ">best! 2, 245838\n",
      ">best! 3, 204865\n",
      ">best! 8, 122919\n",
      ">best! 8, 81946\n"
     ]
    },
    {
     "name": "stderr",
     "output_type": "stream",
     "text": [
      "  7%|▋         | 35/500 [00:00<00:04, 103.51it/s]"
     ]
    },
    {
     "name": "stdout",
     "output_type": "stream",
     "text": [
      ">best! 23, 40973\n",
      ">best! 33, 0\n"
     ]
    },
    {
     "name": "stderr",
     "output_type": "stream",
     "text": [
      " 47%|████▋     | 234/500 [00:02<00:02, 110.40it/s]\n"
     ]
    },
    {
     "name": "stdout",
     "output_type": "stream",
     "text": [
      "stop\n",
      "66번째 log 저장 완료. 총 123개\n",
      "22944896727192\n"
     ]
    },
    {
     "name": "stderr",
     "output_type": "stream",
     "text": [
      "  2%|▏         | 11/500 [00:00<00:04, 106.12it/s]"
     ]
    },
    {
     "name": "stdout",
     "output_type": "stream",
     "text": [
      ">best! 0, 5326506727192\n",
      ">best! 0, 24266224\n",
      ">best! 0, 21285600\n",
      ">best! 0, 16959357\n",
      ">best! 0, 14929392\n",
      ">best! 1, 13504668\n",
      ">best! 2, 12750617\n",
      ">best! 11, 12441160\n"
     ]
    },
    {
     "name": "stderr",
     "output_type": "stream",
     "text": [
      "  4%|▍         | 22/500 [00:00<00:04, 107.06it/s]"
     ]
    },
    {
     "name": "stdout",
     "output_type": "stream",
     "text": [
      ">best! 17, 12255338\n",
      ">best! 19, 11385909\n"
     ]
    },
    {
     "name": "stderr",
     "output_type": "stream",
     "text": [
      "  7%|▋         | 37/500 [00:00<00:03, 122.90it/s]"
     ]
    },
    {
     "name": "stdout",
     "output_type": "stream",
     "text": [
      ">best! 37, 10674621\n"
     ]
    },
    {
     "name": "stderr",
     "output_type": "stream",
     "text": [
      " 13%|█▎        | 64/500 [00:00<00:03, 126.80it/s]"
     ]
    },
    {
     "name": "stdout",
     "output_type": "stream",
     "text": [
      ">best! 53, 9268963\n"
     ]
    },
    {
     "name": "stderr",
     "output_type": "stream",
     "text": [
      " 50%|█████     | 251/500 [00:01<00:01, 163.89it/s]"
     ]
    },
    {
     "name": "stdout",
     "output_type": "stream",
     "text": [
      ">best! 217, 7470805\n"
     ]
    },
    {
     "name": "stderr",
     "output_type": "stream",
     "text": [
      " 84%|████████▎ | 418/500 [00:02<00:00, 150.47it/s]\n"
     ]
    },
    {
     "name": "stdout",
     "output_type": "stream",
     "text": [
      "stop\n",
      "67번째 log 저장 완료. 총 123개\n",
      "21153820\n"
     ]
    },
    {
     "name": "stderr",
     "output_type": "stream",
     "text": [
      "  2%|▏         | 12/500 [00:00<00:04, 116.20it/s]"
     ]
    },
    {
     "name": "stdout",
     "output_type": "stream",
     "text": [
      ">best! 0, 19613958\n",
      ">best! 1, 18812612\n",
      ">best! 2, 15611332\n",
      ">best! 15, 15555493\n",
      ">best! 17, 15106863\n"
     ]
    },
    {
     "name": "stderr",
     "output_type": "stream",
     "text": [
      " 14%|█▍        | 70/500 [00:00<00:03, 110.50it/s]"
     ]
    },
    {
     "name": "stdout",
     "output_type": "stream",
     "text": [
      ">best! 52, 13827611\n"
     ]
    },
    {
     "name": "stderr",
     "output_type": "stream",
     "text": [
      " 44%|████▍     | 222/500 [00:02<00:02, 106.14it/s]"
     ]
    },
    {
     "name": "stdout",
     "output_type": "stream",
     "text": [
      ">best! 205, 13184402\n"
     ]
    },
    {
     "name": "stderr",
     "output_type": "stream",
     "text": [
      " 75%|███████▌  | 376/500 [00:03<00:01, 112.51it/s]"
     ]
    },
    {
     "name": "stdout",
     "output_type": "stream",
     "text": [
      ">best! 354, 12726483\n"
     ]
    },
    {
     "name": "stderr",
     "output_type": "stream",
     "text": [
      "100%|██████████| 500/500 [00:04<00:00, 109.63it/s]\n"
     ]
    },
    {
     "name": "stdout",
     "output_type": "stream",
     "text": [
      "68번째 log 저장 완료. 총 123개\n",
      "153840017669571\n"
     ]
    },
    {
     "name": "stderr",
     "output_type": "stream",
     "text": [
      "  2%|▏         | 9/500 [00:00<00:05, 85.80it/s]"
     ]
    },
    {
     "name": "stdout",
     "output_type": "stream",
     "text": [
      ">best! 0, 79175023241899\n",
      ">best! 0, 78000017271895\n",
      ">best! 1, 70100017546652\n",
      ">best! 1, 20400024239182\n",
      ">best! 4, 12600019307328\n"
     ]
    },
    {
     "name": "stderr",
     "output_type": "stream",
     "text": [
      " 41%|████      | 205/500 [00:02<00:03, 85.02it/s]\n"
     ]
    },
    {
     "name": "stdout",
     "output_type": "stream",
     "text": [
      "stop\n",
      "69번째 log 저장 완료. 총 123개\n",
      "133800018278192\n"
     ]
    },
    {
     "name": "stderr",
     "output_type": "stream",
     "text": [
      "  5%|▍         | 23/500 [00:00<00:02, 225.02it/s]"
     ]
    },
    {
     "name": "stdout",
     "output_type": "stream",
     "text": [
      ">best! 0, 64800016797692\n",
      ">best! 0, 63220016727192\n",
      ">best! 0, 61200017972692\n",
      ">best! 1, 47400017690692\n",
      ">best! 2, 39165016727192\n",
      ">best! 6, 31255016727192\n",
      ">best! 14, 26400017884626\n",
      ">best! 18, 18000019030192\n"
     ]
    },
    {
     "name": "stderr",
     "output_type": "stream",
     "text": [
      " 19%|█▉        | 95/500 [00:00<00:01, 234.28it/s]"
     ]
    },
    {
     "name": "stdout",
     "output_type": "stream",
     "text": [
      ">best! 48, 4230017387192\n"
     ]
    },
    {
     "name": "stderr",
     "output_type": "stream",
     "text": [
      " 34%|███▎      | 168/500 [00:00<00:01, 238.48it/s]"
     ]
    },
    {
     "name": "stdout",
     "output_type": "stream",
     "text": [
      ">best! 140, 3940016727192\n"
     ]
    },
    {
     "name": "stderr",
     "output_type": "stream",
     "text": [
      " 53%|█████▎    | 264/500 [00:01<00:01, 232.11it/s]"
     ]
    },
    {
     "name": "stdout",
     "output_type": "stream",
     "text": [
      ">best! 218, 18492192\n"
     ]
    },
    {
     "name": "stderr",
     "output_type": "stream",
     "text": [
      " 84%|████████▍ | 419/500 [00:01<00:00, 230.85it/s]\n"
     ]
    },
    {
     "name": "stdout",
     "output_type": "stream",
     "text": [
      "stop\n",
      "70번째 log 저장 완료. 총 123개\n",
      "164225016727192\n"
     ]
    },
    {
     "name": "stderr",
     "output_type": "stream",
     "text": [
      "  5%|▍         | 23/500 [00:00<00:02, 226.71it/s]"
     ]
    },
    {
     "name": "stdout",
     "output_type": "stream",
     "text": [
      ">best! 0, 93000018654192\n",
      ">best! 0, 79180016727192\n",
      ">best! 1, 72895016727192\n",
      ">best! 1, 57950016727192\n",
      ">best! 8, 37800016750692\n",
      ">best! 22, 33600017347300\n",
      ">best! 25, 22200018818692\n"
     ]
    },
    {
     "name": "stderr",
     "output_type": "stream",
     "text": [
      "  9%|▉         | 46/500 [00:00<00:01, 228.28it/s]"
     ]
    },
    {
     "name": "stdout",
     "output_type": "stream",
     "text": [
      ">best! 35, 21600017596692\n"
     ]
    },
    {
     "name": "stderr",
     "output_type": "stream",
     "text": [
      " 14%|█▍        | 69/500 [00:00<00:02, 185.16it/s]"
     ]
    },
    {
     "name": "stdout",
     "output_type": "stream",
     "text": [
      ">best! 71, 16580016727192\n"
     ]
    },
    {
     "name": "stderr",
     "output_type": "stream",
     "text": [
      " 38%|███▊      | 188/500 [00:00<00:01, 230.41it/s]"
     ]
    },
    {
     "name": "stdout",
     "output_type": "stream",
     "text": [
      ">best! 145, 19204192\n"
     ]
    },
    {
     "name": "stderr",
     "output_type": "stream",
     "text": [
      " 47%|████▋     | 235/500 [00:01<00:01, 213.00it/s]"
     ]
    },
    {
     "name": "stdout",
     "output_type": "stream",
     "text": [
      ">best! 200, 17575692\n"
     ]
    },
    {
     "name": "stderr",
     "output_type": "stream",
     "text": [
      " 81%|████████  | 404/500 [00:01<00:00, 235.43it/s]"
     ]
    },
    {
     "name": "stdout",
     "output_type": "stream",
     "text": [
      ">best! 376, 17001192\n"
     ]
    },
    {
     "name": "stderr",
     "output_type": "stream",
     "text": [
      "100%|██████████| 500/500 [00:02<00:00, 218.01it/s]\n"
     ]
    },
    {
     "name": "stdout",
     "output_type": "stream",
     "text": [
      "71번째 log 저장 완료. 총 123개\n",
      "142200000540500\n"
     ]
    },
    {
     "name": "stderr",
     "output_type": "stream",
     "text": [
      "  3%|▎         | 13/500 [00:00<00:03, 125.91it/s]"
     ]
    },
    {
     "name": "stdout",
     "output_type": "stream",
     "text": [
      ">best! 0, 105000002397000\n",
      ">best! 0, 66000003478000\n",
      ">best! 0, 59400002514500\n",
      ">best! 0, 56400000916500\n",
      ">best! 0, 55200002608500\n",
      ">best! 0, 18600001081000\n",
      ">best! 8, 4200002021000\n"
     ]
    },
    {
     "name": "stderr",
     "output_type": "stream",
     "text": [
      "  8%|▊         | 42/500 [00:00<00:03, 130.31it/s]"
     ]
    },
    {
     "name": "stdout",
     "output_type": "stream",
     "text": [
      ">best! 24, 3600001903500\n",
      ">best! 24, 1800003713000\n"
     ]
    },
    {
     "name": "stderr",
     "output_type": "stream",
     "text": [
      " 18%|█▊        | 90/500 [00:00<00:02, 145.62it/s]"
     ]
    },
    {
     "name": "stdout",
     "output_type": "stream",
     "text": [
      ">best! 71, 600001668500\n",
      ">best! 72, 2282000\n"
     ]
    },
    {
     "name": "stderr",
     "output_type": "stream",
     "text": [
      " 55%|█████▍    | 273/500 [00:02<00:01, 131.26it/s]\n"
     ]
    },
    {
     "name": "stdout",
     "output_type": "stream",
     "text": [
      "stop\n",
      "72번째 log 저장 완료. 총 123개\n",
      "48000000000000\n"
     ]
    },
    {
     "name": "stderr",
     "output_type": "stream",
     "text": [
      "  4%|▎         | 18/500 [00:00<00:02, 178.92it/s]"
     ]
    },
    {
     "name": "stdout",
     "output_type": "stream",
     "text": [
      ">best! 0, 3600000000000\n",
      ">best! 2, 120000\n",
      ">best! 25, 0\n"
     ]
    },
    {
     "name": "stderr",
     "output_type": "stream",
     "text": [
      " 45%|████▌     | 226/500 [00:01<00:01, 173.66it/s]\n"
     ]
    },
    {
     "name": "stdout",
     "output_type": "stream",
     "text": [
      "stop\n",
      "73번째 log 저장 완료. 총 123개\n",
      "0\n"
     ]
    },
    {
     "name": "stderr",
     "output_type": "stream",
     "text": [
      " 40%|████      | 201/500 [00:02<00:03, 88.76it/s]\n"
     ]
    },
    {
     "name": "stdout",
     "output_type": "stream",
     "text": [
      "stop\n",
      "74번째 log 저장 완료. 총 123개\n",
      "0\n"
     ]
    },
    {
     "name": "stderr",
     "output_type": "stream",
     "text": [
      " 40%|████      | 201/500 [00:02<00:03, 94.27it/s]\n"
     ]
    },
    {
     "name": "stdout",
     "output_type": "stream",
     "text": [
      "stop\n",
      "75번째 log 저장 완료. 총 123개\n",
      "161966000000000\n"
     ]
    },
    {
     "name": "stderr",
     "output_type": "stream",
     "text": [
      "  2%|▏         | 12/500 [00:00<00:04, 119.75it/s]"
     ]
    },
    {
     "name": "stdout",
     "output_type": "stream",
     "text": [
      ">best! 0, 151662000000000\n",
      ">best! 0, 146349000000000\n",
      ">best! 0, 104972000000000\n",
      ">best! 0, 87745000000000\n",
      ">best! 1, 87584000000000\n",
      ">best! 2, 75670000000000\n",
      ">best! 5, 69069000000000\n",
      ">best! 8, 46368000000000\n",
      ">best! 15, 40733000000000\n"
     ]
    },
    {
     "name": "stderr",
     "output_type": "stream",
     "text": [
      " 42%|████▏     | 211/500 [00:01<00:02, 129.91it/s]"
     ]
    },
    {
     "name": "stdout",
     "output_type": "stream",
     "text": [
      ">best! 185, 23828000000000\n"
     ]
    },
    {
     "name": "stderr",
     "output_type": "stream",
     "text": [
      " 77%|███████▋  | 386/500 [00:03<00:00, 121.38it/s]\n"
     ]
    },
    {
     "name": "stdout",
     "output_type": "stream",
     "text": [
      "stop\n",
      "76번째 log 저장 완료. 총 123개\n",
      "28336002222176\n"
     ]
    },
    {
     "name": "stderr",
     "output_type": "stream",
     "text": [
      "  2%|▏         | 8/500 [00:00<00:07, 69.50it/s]"
     ]
    },
    {
     "name": "stdout",
     "output_type": "stream",
     "text": [
      ">best! 4, 25921001572472\n",
      ">best! 4, 19481001468896\n",
      ">best! 8, 5313002834216\n",
      ">best! 9, 322003483920\n"
     ]
    },
    {
     "name": "stderr",
     "output_type": "stream",
     "text": [
      " 35%|███▌      | 176/500 [00:02<00:03, 81.07it/s]"
     ]
    },
    {
     "name": "stdout",
     "output_type": "stream",
     "text": [
      ">best! 166, 161002269256\n"
     ]
    },
    {
     "name": "stderr",
     "output_type": "stream",
     "text": [
      " 47%|████▋     | 235/500 [00:03<00:03, 75.31it/s]"
     ]
    },
    {
     "name": "stdout",
     "output_type": "stream",
     "text": [
      ">best! 227, 998148\n"
     ]
    },
    {
     "name": "stderr",
     "output_type": "stream",
     "text": [
      " 60%|██████    | 302/500 [00:04<00:02, 80.16it/s]"
     ]
    },
    {
     "name": "stdout",
     "output_type": "stream",
     "text": [
      ">best! 292, 267308\n"
     ]
    },
    {
     "name": "stderr",
     "output_type": "stream",
     "text": [
      " 99%|█████████▊| 493/500 [00:06<00:00, 74.98it/s]\n"
     ]
    },
    {
     "name": "stdout",
     "output_type": "stream",
     "text": [
      "stop\n",
      "77번째 log 저장 완료. 총 123개\n",
      "12558002029116\n"
     ]
    },
    {
     "name": "stderr",
     "output_type": "stream",
     "text": [
      "  3%|▎         | 16/500 [00:00<00:03, 152.92it/s]"
     ]
    },
    {
     "name": "stdout",
     "output_type": "stream",
     "text": [
      ">best! 0, 7675503483920\n",
      ">best! 0, 5556448\n",
      ">best! 0, 5414870\n",
      ">best! 0, 5055770\n",
      ">best! 0, 4286628\n",
      ">best! 5, 2718758\n"
     ]
    },
    {
     "name": "stderr",
     "output_type": "stream",
     "text": [
      "  9%|▉         | 45/500 [00:00<00:04, 112.96it/s]"
     ]
    },
    {
     "name": "stdout",
     "output_type": "stream",
     "text": [
      ">best! 28, 2695372\n",
      ">best! 35, 2613746\n",
      ">best! 47, 1680678\n"
     ]
    },
    {
     "name": "stderr",
     "output_type": "stream",
     "text": [
      " 29%|██▉       | 146/500 [00:00<00:01, 186.18it/s]"
     ]
    },
    {
     "name": "stdout",
     "output_type": "stream",
     "text": [
      ">best! 124, 1391078\n",
      ">best! 163, 976744\n"
     ]
    },
    {
     "name": "stderr",
     "output_type": "stream",
     "text": [
      " 73%|███████▎  | 364/500 [00:01<00:00, 191.05it/s]\n"
     ]
    },
    {
     "name": "stdout",
     "output_type": "stream",
     "text": [
      "stop\n",
      "78번째 log 저장 완료. 총 123개\n",
      "24633029574228\n"
     ]
    },
    {
     "name": "stderr",
     "output_type": "stream",
     "text": [
      "  2%|▏         | 8/500 [00:00<00:06, 75.80it/s]"
     ]
    },
    {
     "name": "stdout",
     "output_type": "stream",
     "text": [
      ">best! 0, 17290028088576\n",
      ">best! 0, 455024265884\n",
      ">best! 0, 29058286\n",
      ">best! 1, 28909630\n",
      ">best! 2, 26296548\n",
      ">best! 3, 25095500\n",
      ">best! 15, 24835974"
     ]
    },
    {
     "name": "stderr",
     "output_type": "stream",
     "text": [
      "  5%|▍         | 24/500 [00:00<00:06, 72.03it/s]"
     ]
    },
    {
     "name": "stdout",
     "output_type": "stream",
     "text": [
      "\n"
     ]
    },
    {
     "name": "stderr",
     "output_type": "stream",
     "text": [
      " 16%|█▌        | 80/500 [00:01<00:05, 70.86it/s]"
     ]
    },
    {
     "name": "stdout",
     "output_type": "stream",
     "text": [
      ">best! 69, 24175784\n"
     ]
    },
    {
     "name": "stderr",
     "output_type": "stream",
     "text": [
      " 22%|██▏       | 111/500 [00:01<00:05, 69.32it/s]"
     ]
    },
    {
     "name": "stdout",
     "output_type": "stream",
     "text": [
      ">best! 100, 22918064\n"
     ]
    },
    {
     "name": "stderr",
     "output_type": "stream",
     "text": [
      " 60%|██████    | 301/500 [00:04<00:02, 68.31it/s]\n"
     ]
    },
    {
     "name": "stdout",
     "output_type": "stream",
     "text": [
      "stop\n",
      "79번째 log 저장 완료. 총 123개\n",
      "24787026582988\n"
     ]
    },
    {
     "name": "stderr",
     "output_type": "stream",
     "text": [
      "  1%|▏         | 7/500 [00:00<00:07, 62.07it/s]"
     ]
    },
    {
     "name": "stdout",
     "output_type": "stream",
     "text": [
      ">best! 0, 27562146\n",
      ">best! 7, 26117120\n"
     ]
    },
    {
     "name": "stderr",
     "output_type": "stream",
     "text": [
      "  7%|▋         | 35/500 [00:00<00:07, 62.72it/s]"
     ]
    },
    {
     "name": "stdout",
     "output_type": "stream",
     "text": [
      ">best! 23, 24805804\n"
     ]
    },
    {
     "name": "stderr",
     "output_type": "stream",
     "text": [
      " 28%|██▊       | 140/500 [00:02<00:04, 72.43it/s]"
     ]
    },
    {
     "name": "stdout",
     "output_type": "stream",
     "text": [
      ">best! 128, 24186378\n"
     ]
    },
    {
     "name": "stderr",
     "output_type": "stream",
     "text": [
      " 38%|███▊      | 188/500 [00:03<00:04, 72.09it/s]"
     ]
    },
    {
     "name": "stdout",
     "output_type": "stream",
     "text": [
      ">best! 178, 20306048\n"
     ]
    },
    {
     "name": "stderr",
     "output_type": "stream",
     "text": [
      " 76%|███████▌  | 379/500 [00:05<00:01, 65.70it/s]\n"
     ]
    },
    {
     "name": "stdout",
     "output_type": "stream",
     "text": [
      "stop\n",
      "80번째 log 저장 완료. 총 123개\n",
      "28437527451208\n"
     ]
    },
    {
     "name": "stderr",
     "output_type": "stream",
     "text": [
      "  2%|▏         | 8/500 [00:00<00:06, 79.41it/s]"
     ]
    },
    {
     "name": "stdout",
     "output_type": "stream",
     "text": [
      ">best! 0, 15470028373976\n",
      ">best! 0, 25580520\n",
      ">best! 4, 22477312\n"
     ]
    },
    {
     "name": "stderr",
     "output_type": "stream",
     "text": [
      " 14%|█▍        | 70/500 [00:00<00:05, 85.06it/s]"
     ]
    },
    {
     "name": "stdout",
     "output_type": "stream",
     "text": [
      ">best! 52, 22045040\n"
     ]
    },
    {
     "name": "stderr",
     "output_type": "stream",
     "text": [
      " 26%|██▌       | 131/500 [00:01<00:04, 78.14it/s]"
     ]
    },
    {
     "name": "stdout",
     "output_type": "stream",
     "text": [
      ">best! 116, 21512746\n"
     ]
    },
    {
     "name": "stderr",
     "output_type": "stream",
     "text": [
      " 63%|██████▎   | 317/500 [00:04<00:02, 71.39it/s]\n"
     ]
    },
    {
     "name": "stdout",
     "output_type": "stream",
     "text": [
      "stop\n",
      "81번째 log 저장 완료. 총 123개\n",
      "162662526414962\n"
     ]
    },
    {
     "name": "stderr",
     "output_type": "stream",
     "text": [
      "  1%|          | 6/500 [00:00<00:08, 59.92it/s]"
     ]
    },
    {
     "name": "stdout",
     "output_type": "stream",
     "text": [
      ">best! 0, 90454485021880\n",
      ">best! 0, 83265029487937\n",
      ">best! 0, 45272526373989\n",
      ">best! 0, 39812528188258\n"
     ]
    },
    {
     "name": "stderr",
     "output_type": "stream",
     "text": [
      "  3%|▎         | 13/500 [00:00<00:07, 62.22it/s]"
     ]
    },
    {
     "name": "stdout",
     "output_type": "stream",
     "text": [
      ">best! 9, 27072529365018\n"
     ]
    },
    {
     "name": "stderr",
     "output_type": "stream",
     "text": [
      "  9%|▉         | 44/500 [00:00<00:06, 70.96it/s]"
     ]
    },
    {
     "name": "stdout",
     "output_type": "stream",
     "text": [
      ">best! 33, 16607528750423\n"
     ]
    },
    {
     "name": "stderr",
     "output_type": "stream",
     "text": [
      " 47%|████▋     | 234/500 [00:03<00:03, 72.52it/s]\n"
     ]
    },
    {
     "name": "stdout",
     "output_type": "stream",
     "text": [
      "stop\n",
      "82번째 log 저장 완료. 총 123개\n",
      "26373989\n"
     ]
    },
    {
     "name": "stderr",
     "output_type": "stream",
     "text": [
      "  8%|▊         | 38/500 [00:00<00:01, 374.01it/s]"
     ]
    },
    {
     "name": "stdout",
     "output_type": "stream",
     "text": [
      ">best! 0, 25472583\n",
      ">best! 0, 25063824\n",
      ">best! 5, 23927066\n",
      ">best! 6, 23189552\n",
      ">best! 9, 22656903\n",
      ">best! 10, 22413007\n",
      ">best! 11, 17732570\n"
     ]
    },
    {
     "name": "stderr",
     "output_type": "stream",
     "text": [
      " 42%|████▏     | 212/500 [00:00<00:00, 380.88it/s]\n"
     ]
    },
    {
     "name": "stdout",
     "output_type": "stream",
     "text": [
      "stop\n",
      "83번째 log 저장 완료. 총 123개\n",
      "4916760\n"
     ]
    },
    {
     "name": "stderr",
     "output_type": "stream",
     "text": [
      "  3%|▎         | 14/500 [00:00<00:03, 136.60it/s]"
     ]
    },
    {
     "name": "stdout",
     "output_type": "stream",
     "text": [
      ">best! 0, 40973\n",
      ">best! 4, 0\n"
     ]
    },
    {
     "name": "stderr",
     "output_type": "stream",
     "text": [
      " 41%|████      | 205/500 [00:01<00:02, 127.79it/s]\n"
     ]
    },
    {
     "name": "stdout",
     "output_type": "stream",
     "text": [
      "stop\n",
      "84번째 log 저장 완료. 총 123개\n",
      "4261192\n"
     ]
    },
    {
     "name": "stderr",
     "output_type": "stream",
     "text": [
      "  3%|▎         | 16/500 [00:00<00:03, 150.66it/s]"
     ]
    },
    {
     "name": "stdout",
     "output_type": "stream",
     "text": [
      ">best! 0, 983352\n",
      ">best! 0, 163892\n",
      ">best! 2, 40973\n",
      ">best! 11, 0\n"
     ]
    },
    {
     "name": "stderr",
     "output_type": "stream",
     "text": [
      " 42%|████▏     | 212/500 [00:01<00:02, 143.72it/s]\n"
     ]
    },
    {
     "name": "stdout",
     "output_type": "stream",
     "text": [
      "stop\n",
      "85번째 log 저장 완료. 총 123개\n",
      "1516001\n"
     ]
    },
    {
     "name": "stderr",
     "output_type": "stream",
     "text": [
      "  3%|▎         | 16/500 [00:00<00:03, 153.89it/s]"
     ]
    },
    {
     "name": "stdout",
     "output_type": "stream",
     "text": [
      ">best! 1, 1352109\n",
      ">best! 1, 1188217\n",
      ">best! 1, 1147244\n",
      ">best! 1, 778487\n",
      ">best! 2, 40973\n",
      ">best! 6, 0\n"
     ]
    },
    {
     "name": "stderr",
     "output_type": "stream",
     "text": [
      " 41%|████▏     | 207/500 [00:01<00:02, 137.40it/s]\n"
     ]
    },
    {
     "name": "stdout",
     "output_type": "stream",
     "text": [
      "stop\n",
      "86번째 log 저장 완료. 총 123개\n",
      "0\n"
     ]
    },
    {
     "name": "stderr",
     "output_type": "stream",
     "text": [
      " 40%|████      | 201/500 [00:00<00:00, 308.33it/s]\n"
     ]
    },
    {
     "name": "stdout",
     "output_type": "stream",
     "text": [
      "stop\n",
      "87번째 log 저장 완료. 총 123개\n",
      "332500\n"
     ]
    },
    {
     "name": "stderr",
     "output_type": "stream",
     "text": [
      "  2%|▏         | 10/500 [00:00<00:05, 96.77it/s]"
     ]
    },
    {
     "name": "stdout",
     "output_type": "stream",
     "text": [
      ">best! 2, 166250\n",
      ">best! 4, 0\n"
     ]
    },
    {
     "name": "stderr",
     "output_type": "stream",
     "text": [
      " 41%|████      | 205/500 [00:01<00:02, 146.06it/s]\n"
     ]
    },
    {
     "name": "stdout",
     "output_type": "stream",
     "text": [
      "stop\n",
      "88번째 log 저장 완료. 총 123개\n",
      "2043950\n"
     ]
    },
    {
     "name": "stderr",
     "output_type": "stream",
     "text": [
      "  2%|▏         | 9/500 [00:00<00:05, 86.07it/s]"
     ]
    },
    {
     "name": "stdout",
     "output_type": "stream",
     "text": [
      ">best! 1, 354505\n",
      ">best! 2, 66015\n"
     ]
    },
    {
     "name": "stderr",
     "output_type": "stream",
     "text": [
      " 31%|███       | 155/500 [00:01<00:03, 89.52it/s]"
     ]
    },
    {
     "name": "stdout",
     "output_type": "stream",
     "text": [
      ">best! 139, 44010\n"
     ]
    },
    {
     "name": "stderr",
     "output_type": "stream",
     "text": [
      " 67%|██████▋   | 333/500 [00:03<00:02, 81.23it/s]"
     ]
    },
    {
     "name": "stdout",
     "output_type": "stream",
     "text": [
      ">best! 318, 22005\n"
     ]
    },
    {
     "name": "stderr",
     "output_type": "stream",
     "text": [
      "100%|██████████| 500/500 [00:05<00:00, 87.89it/s]\n"
     ]
    },
    {
     "name": "stdout",
     "output_type": "stream",
     "text": [
      "89번째 log 저장 완료. 총 123개\n",
      "182583900831250\n"
     ]
    },
    {
     "name": "stderr",
     "output_type": "stream",
     "text": [
      "  1%|          | 3/500 [00:00<00:17, 29.09it/s]"
     ]
    },
    {
     "name": "stdout",
     "output_type": "stream",
     "text": [
      ">best! 0, 149037503190725\n",
      ">best! 0, 136164900000000\n",
      ">best! 0, 113400005298265\n"
     ]
    },
    {
     "name": "stderr",
     "output_type": "stream",
     "text": [
      "  1%|          | 6/500 [00:00<00:17, 28.09it/s]"
     ]
    },
    {
     "name": "stdout",
     "output_type": "stream",
     "text": [
      ">best! 5, 102202500665000\n"
     ]
    },
    {
     "name": "stderr",
     "output_type": "stream",
     "text": [
      "  4%|▍         | 22/500 [00:00<00:13, 34.27it/s]"
     ]
    },
    {
     "name": "stdout",
     "output_type": "stream",
     "text": [
      ">best! 16, 88200000464530\n",
      ">best! 22, 82675001342305\n"
     ]
    },
    {
     "name": "stderr",
     "output_type": "stream",
     "text": [
      " 24%|██▎       | 118/500 [00:03<00:11, 33.78it/s]"
     ]
    },
    {
     "name": "stdout",
     "output_type": "stream",
     "text": [
      ">best! 113, 75481200498750\n"
     ]
    },
    {
     "name": "stderr",
     "output_type": "stream",
     "text": [
      " 39%|███▉      | 194/500 [00:05<00:09, 32.28it/s]"
     ]
    },
    {
     "name": "stdout",
     "output_type": "stream",
     "text": [
      ">best! 188, 52200002814125\n"
     ]
    },
    {
     "name": "stderr",
     "output_type": "stream",
     "text": [
      " 78%|███████▊  | 389/500 [00:11<00:03, 34.00it/s]\n"
     ]
    },
    {
     "name": "stdout",
     "output_type": "stream",
     "text": [
      "stop\n",
      "90번째 log 저장 완료. 총 123개\n",
      "168683700983250\n"
     ]
    },
    {
     "name": "stderr",
     "output_type": "stream",
     "text": [
      "  0%|          | 0/500 [00:00<?, ?it/s]"
     ]
    },
    {
     "name": "stdout",
     "output_type": "stream",
     "text": [
      ">best! 0, 144489600332500\n",
      ">best! 0, 136845003300660\n",
      ">best! 2, 97312505315420\n"
     ]
    },
    {
     "name": "stderr",
     "output_type": "stream",
     "text": [
      "  8%|▊         | 39/500 [00:02<00:24, 18.74it/s]"
     ]
    },
    {
     "name": "stdout",
     "output_type": "stream",
     "text": [
      ">best! 37, 57661653557750\n"
     ]
    },
    {
     "name": "stderr",
     "output_type": "stream",
     "text": [
      " 48%|████▊     | 238/500 [00:11<00:12, 20.32it/s]\n"
     ]
    },
    {
     "name": "stdout",
     "output_type": "stream",
     "text": [
      "stop\n",
      "91번째 log 저장 완료. 총 123개\n",
      "312865723785445\n"
     ]
    },
    {
     "name": "stderr",
     "output_type": "stream",
     "text": [
      "  0%|          | 2/500 [00:00<00:25, 19.79it/s]"
     ]
    },
    {
     "name": "stdout",
     "output_type": "stream",
     "text": [
      ">best! 0, 268696633149250\n",
      ">best! 0, 262917702375000\n",
      ">best! 0, 250137323101750\n",
      ">best! 1, 244679144911880\n",
      ">best! 3, 240062232645750\n"
     ]
    },
    {
     "name": "stderr",
     "output_type": "stream",
     "text": [
      "  2%|▏         | 8/500 [00:00<00:31, 15.66it/s]"
     ]
    },
    {
     "name": "stdout",
     "output_type": "stream",
     "text": [
      ">best! 6, 210048360969000\n"
     ]
    },
    {
     "name": "stderr",
     "output_type": "stream",
     "text": [
      "  3%|▎         | 16/500 [00:00<00:28, 16.87it/s]"
     ]
    },
    {
     "name": "stdout",
     "output_type": "stream",
     "text": [
      ">best! 13, 188966584160505\n"
     ]
    },
    {
     "name": "stderr",
     "output_type": "stream",
     "text": [
      " 26%|██▌       | 128/500 [00:07<00:19, 19.53it/s]"
     ]
    },
    {
     "name": "stdout",
     "output_type": "stream",
     "text": [
      ">best! 125, 183402691122440\n"
     ]
    },
    {
     "name": "stderr",
     "output_type": "stream",
     "text": [
      " 26%|██▋       | 132/500 [00:07<00:20, 17.79it/s]"
     ]
    },
    {
     "name": "stdout",
     "output_type": "stream",
     "text": [
      ">best! 130, 178884901995000\n"
     ]
    },
    {
     "name": "stderr",
     "output_type": "stream",
     "text": [
      " 30%|███       | 151/500 [00:08<00:18, 19.02it/s]"
     ]
    },
    {
     "name": "stdout",
     "output_type": "stream",
     "text": [
      ">best! 148, 175358284224870\n"
     ]
    },
    {
     "name": "stderr",
     "output_type": "stream",
     "text": [
      " 62%|██████▏   | 309/500 [00:16<00:10, 19.10it/s]"
     ]
    },
    {
     "name": "stdout",
     "output_type": "stream",
     "text": [
      ">best! 306, 165284321496250\n"
     ]
    },
    {
     "name": "stderr",
     "output_type": "stream",
     "text": [
      "100%|██████████| 500/500 [00:27<00:00, 18.42it/s]\n"
     ]
    },
    {
     "name": "stdout",
     "output_type": "stream",
     "text": [
      "92번째 log 저장 완료. 총 123개\n",
      "370254780484500\n"
     ]
    },
    {
     "name": "stderr",
     "output_type": "stream",
     "text": [
      "  0%|          | 2/500 [00:00<00:27, 17.81it/s]"
     ]
    },
    {
     "name": "stdout",
     "output_type": "stream",
     "text": [
      ">best! 0, 328583600484500\n",
      ">best! 0, 317543900308070\n",
      ">best! 0, 305805700132030\n",
      ">best! 1, 207265483740850\n"
     ]
    },
    {
     "name": "stderr",
     "output_type": "stream",
     "text": [
      "  3%|▎         | 14/500 [00:00<00:26, 18.29it/s]"
     ]
    },
    {
     "name": "stdout",
     "output_type": "stream",
     "text": [
      ">best! 12, 201588944578015\n"
     ]
    },
    {
     "name": "stderr",
     "output_type": "stream",
     "text": [
      " 43%|████▎     | 213/500 [00:11<00:15, 18.27it/s]\n"
     ]
    },
    {
     "name": "stdout",
     "output_type": "stream",
     "text": [
      "stop\n",
      "93번째 log 저장 완료. 총 123개\n",
      "277909480969000\n"
     ]
    },
    {
     "name": "stderr",
     "output_type": "stream",
     "text": [
      "  1%|          | 5/500 [00:00<00:10, 46.72it/s]"
     ]
    },
    {
     "name": "stdout",
     "output_type": "stream",
     "text": [
      ">best! 0, 198900960000000\n",
      ">best! 0, 188599320000000\n",
      ">best! 0, 188582700000000\n",
      ">best! 0, 181904323391500\n",
      ">best! 2, 176999920000000\n",
      ">best! 2, 174869120000000\n",
      ">best! 3, 151151920242250\n",
      ">best! 3, 146866241453500\n",
      ">best! 4, 116010742422500\n"
     ]
    },
    {
     "name": "stderr",
     "output_type": "stream",
     "text": [
      " 16%|█▌        | 80/500 [00:01<00:09, 44.89it/s]"
     ]
    },
    {
     "name": "stdout",
     "output_type": "stream",
     "text": [
      ">best! 73, 95588560242250\n"
     ]
    },
    {
     "name": "stderr",
     "output_type": "stream",
     "text": [
      " 20%|██        | 100/500 [00:02<00:08, 44.75it/s]"
     ]
    },
    {
     "name": "stdout",
     "output_type": "stream",
     "text": [
      ">best! 95, 76800000933116\n"
     ]
    },
    {
     "name": "stderr",
     "output_type": "stream",
     "text": [
      " 59%|█████▉    | 296/500 [00:06<00:04, 44.80it/s]\n"
     ]
    },
    {
     "name": "stdout",
     "output_type": "stream",
     "text": [
      "stop\n",
      "94번째 log 저장 완료. 총 123개\n",
      "72201080000000\n"
     ]
    },
    {
     "name": "stderr",
     "output_type": "stream",
     "text": [
      "  4%|▎         | 18/500 [00:00<00:02, 172.94it/s]"
     ]
    },
    {
     "name": "stdout",
     "output_type": "stream",
     "text": [
      ">best! 0, 56065100000000\n",
      ">best! 0, 35686860000000\n",
      ">best! 0, 16192542734816\n",
      ">best! 1, 15871701460366\n",
      ">best! 1, 7267501578858\n",
      ">best! 20, 6761722189900\n",
      ">best! 20, 3332448\n"
     ]
    },
    {
     "name": "stderr",
     "output_type": "stream",
     "text": [
      " 18%|█▊        | 88/500 [00:00<00:02, 148.26it/s]"
     ]
    },
    {
     "name": "stdout",
     "output_type": "stream",
     "text": [
      ">best! 63, 2292992\n",
      ">best! 82, 1953830\n",
      ">best! 88, 1642072\n"
     ]
    },
    {
     "name": "stderr",
     "output_type": "stream",
     "text": [
      " 58%|█████▊    | 289/500 [00:01<00:01, 157.58it/s]\n"
     ]
    },
    {
     "name": "stdout",
     "output_type": "stream",
     "text": [
      "stop\n",
      "95번째 log 저장 완료. 총 123개\n",
      "90131124629949\n"
     ]
    },
    {
     "name": "stderr",
     "output_type": "stream",
     "text": [
      "  6%|▌         | 30/500 [00:00<00:01, 298.76it/s]"
     ]
    },
    {
     "name": "stdout",
     "output_type": "stream",
     "text": [
      ">best! 0, 11566105499476\n",
      ">best! 5, 10142588156918\n",
      ">best! 5, 3380865616190\n",
      ">best! 6, 6911953\n",
      ">best! 8, 3376625\n"
     ]
    },
    {
     "name": "stderr",
     "output_type": "stream",
     "text": [
      " 33%|███▎      | 166/500 [00:00<00:01, 333.59it/s]"
     ]
    },
    {
     "name": "stdout",
     "output_type": "stream",
     "text": [
      ">best! 97, 2648750\n",
      ">best! 108, 2481864\n"
     ]
    },
    {
     "name": "stderr",
     "output_type": "stream",
     "text": [
      " 58%|█████▊    | 292/500 [00:00<00:00, 292.83it/s]"
     ]
    },
    {
     "name": "stdout",
     "output_type": "stream",
     "text": [
      ">best! 260, 2475580\n"
     ]
    },
    {
     "name": "stderr",
     "output_type": "stream",
     "text": [
      " 92%|█████████▏| 461/500 [00:01<00:00, 301.88it/s]\n"
     ]
    },
    {
     "name": "stdout",
     "output_type": "stream",
     "text": [
      "stop\n",
      "96번째 log 저장 완료. 총 123개\n",
      "93254825285517\n"
     ]
    },
    {
     "name": "stderr",
     "output_type": "stream",
     "text": [
      "  2%|▏         | 9/500 [00:00<00:05, 87.56it/s]"
     ]
    },
    {
     "name": "stdout",
     "output_type": "stream",
     "text": [
      ">best! 0, 90170068522384\n",
      ">best! 0, 77402568153627\n",
      ">best! 0, 74386668522384\n",
      ">best! 0, 66675523441732\n",
      ">best! 1, 59398147293194\n",
      ">best! 1, 47412546104977\n",
      ">best! 1, 29545784537233\n",
      ">best! 3, 28648346590850\n",
      ">best! 10, 18486740000000\n",
      ">best! 15, 16888702335461\n"
     ]
    },
    {
     "name": "stderr",
     "output_type": "stream",
     "text": [
      "  5%|▌         | 27/500 [00:00<00:05, 86.11it/s]"
     ]
    },
    {
     "name": "stdout",
     "output_type": "stream",
     "text": [
      ">best! 20, 732544959372\n",
      ">best! 23, 3159840\n"
     ]
    },
    {
     "name": "stderr",
     "output_type": "stream",
     "text": [
      " 45%|████▍     | 224/500 [00:02<00:03, 87.00it/s]\n"
     ]
    },
    {
     "name": "stdout",
     "output_type": "stream",
     "text": [
      "stop\n",
      "97번째 log 저장 완료. 총 123개\n",
      "110288924916760\n"
     ]
    },
    {
     "name": "stderr",
     "output_type": "stream",
     "text": [
      "  1%|          | 6/500 [00:00<00:09, 52.42it/s]"
     ]
    },
    {
     "name": "stdout",
     "output_type": "stream",
     "text": [
      ">best! 0, 107065282909083\n",
      ">best! 0, 97082426965410\n",
      ">best! 0, 87298347088329\n",
      ">best! 0, 58976028522384\n",
      ">best! 0, 51689561475028\n",
      ">best! 2, 36741326965410\n",
      ">best! 6, 31178445654274\n"
     ]
    },
    {
     "name": "stderr",
     "output_type": "stream",
     "text": [
      "  4%|▎         | 18/500 [00:00<00:09, 51.52it/s]"
     ]
    },
    {
     "name": "stdout",
     "output_type": "stream",
     "text": [
      ">best! 12, 26513068112654\n"
     ]
    },
    {
     "name": "stderr",
     "output_type": "stream",
     "text": [
      " 10%|█         | 52/500 [00:00<00:07, 57.60it/s]"
     ]
    },
    {
     "name": "stdout",
     "output_type": "stream",
     "text": [
      ">best! 38, 26249387866816\n"
     ]
    },
    {
     "name": "stderr",
     "output_type": "stream",
     "text": [
      " 19%|█▉        | 94/500 [00:01<00:06, 64.36it/s]"
     ]
    },
    {
     "name": "stdout",
     "output_type": "stream",
     "text": [
      ">best! 87, 22242506350815\n"
     ]
    },
    {
     "name": "stderr",
     "output_type": "stream",
     "text": [
      " 23%|██▎       | 115/500 [00:01<00:06, 62.01it/s]"
     ]
    },
    {
     "name": "stdout",
     "output_type": "stream",
     "text": [
      ">best! 103, 11968727088329\n"
     ]
    },
    {
     "name": "stderr",
     "output_type": "stream",
     "text": [
      " 61%|██████    | 304/500 [00:05<00:03, 58.15it/s]\n"
     ]
    },
    {
     "name": "stdout",
     "output_type": "stream",
     "text": [
      "stop\n",
      "98번째 log 저장 완료. 총 123개\n",
      "120287444548003\n"
     ]
    },
    {
     "name": "stderr",
     "output_type": "stream",
     "text": [
      "  2%|▏         | 8/500 [00:00<00:06, 72.34it/s]"
     ]
    },
    {
     "name": "stdout",
     "output_type": "stream",
     "text": [
      ">best! 0, 110500741802812\n",
      ">best! 0, 89859702294488\n",
      ">best! 1, 69752487580005\n",
      ">best! 3, 68328962212542\n",
      ">best! 9, 57652566637626\n",
      ">best! 15, 50001142048650\n"
     ]
    },
    {
     "name": "stderr",
     "output_type": "stream",
     "text": [
      " 12%|█▏        | 61/500 [00:00<00:06, 65.56it/s]"
     ]
    },
    {
     "name": "stdout",
     "output_type": "stream",
     "text": [
      ">best! 52, 42349724998706\n"
     ]
    },
    {
     "name": "stderr",
     "output_type": "stream",
     "text": [
      " 49%|████▉     | 245/500 [00:03<00:03, 69.37it/s]"
     ]
    },
    {
     "name": "stdout",
     "output_type": "stream",
     "text": [
      ">best! 236, 41460023810489\n"
     ]
    },
    {
     "name": "stderr",
     "output_type": "stream",
     "text": [
      " 63%|██████▎   | 315/500 [00:04<00:02, 70.36it/s]"
     ]
    },
    {
     "name": "stdout",
     "output_type": "stream",
     "text": [
      ">best! 307, 27580707416113\n"
     ]
    },
    {
     "name": "stderr",
     "output_type": "stream",
     "text": [
      "100%|██████████| 500/500 [00:07<00:00, 67.61it/s]\n"
     ]
    },
    {
     "name": "stdout",
     "output_type": "stream",
     "text": [
      "99번째 log 저장 완료. 총 123개\n",
      "4670922\n"
     ]
    },
    {
     "name": "stderr",
     "output_type": "stream",
     "text": [
      "  1%|          | 4/500 [00:00<00:14, 33.33it/s]"
     ]
    },
    {
     "name": "stdout",
     "output_type": "stream",
     "text": [
      ">best! 0, 3933408\n",
      ">best! 0, 2909083\n",
      ">best! 0, 983352\n",
      ">best! 1, 778487\n",
      ">best! 2, 737514\n",
      ">best! 4, 245838\n",
      ">best! 5, 163892\n",
      ">best! 6, 81946\n"
     ]
    },
    {
     "name": "stderr",
     "output_type": "stream",
     "text": [
      "  2%|▏         | 12/500 [00:00<00:13, 36.12it/s]"
     ]
    },
    {
     "name": "stdout",
     "output_type": "stream",
     "text": [
      ">best! 11, 0\n"
     ]
    },
    {
     "name": "stderr",
     "output_type": "stream",
     "text": [
      " 42%|████▏     | 212/500 [00:05<00:07, 38.68it/s]\n"
     ]
    },
    {
     "name": "stdout",
     "output_type": "stream",
     "text": [
      "stop\n",
      "100번째 log 저장 완료. 총 123개\n",
      "0\n"
     ]
    },
    {
     "name": "stderr",
     "output_type": "stream",
     "text": [
      " 40%|████      | 201/500 [00:01<00:02, 121.04it/s]\n"
     ]
    },
    {
     "name": "stdout",
     "output_type": "stream",
     "text": [
      "stop\n",
      "101번째 log 저장 완료. 총 123개\n",
      "0\n"
     ]
    },
    {
     "name": "stderr",
     "output_type": "stream",
     "text": [
      " 40%|████      | 201/500 [00:00<00:01, 228.27it/s]\n"
     ]
    },
    {
     "name": "stdout",
     "output_type": "stream",
     "text": [
      "stop\n",
      "102번째 log 저장 완료. 총 123개\n",
      "25021880\n"
     ]
    },
    {
     "name": "stderr",
     "output_type": "stream",
     "text": [
      "  5%|▍         | 24/500 [00:00<00:02, 235.57it/s]"
     ]
    },
    {
     "name": "stdout",
     "output_type": "stream",
     "text": [
      ">best! 0, 21653550\n",
      ">best! 3, 17804030\n"
     ]
    },
    {
     "name": "stderr",
     "output_type": "stream",
     "text": [
      " 20%|█▉        | 98/500 [00:00<00:01, 244.00it/s]"
     ]
    },
    {
     "name": "stdout",
     "output_type": "stream",
     "text": [
      ">best! 67, 17322840\n"
     ]
    },
    {
     "name": "stderr",
     "output_type": "stream",
     "text": [
      " 54%|█████▎    | 268/500 [00:01<00:00, 237.40it/s]\n"
     ]
    },
    {
     "name": "stdout",
     "output_type": "stream",
     "text": [
      "stop\n",
      "103번째 log 저장 완료. 총 123개\n",
      "25021880\n"
     ]
    },
    {
     "name": "stderr",
     "output_type": "stream",
     "text": [
      "  8%|▊         | 39/500 [00:00<00:01, 382.57it/s]"
     ]
    },
    {
     "name": "stdout",
     "output_type": "stream",
     "text": [
      ">best! 0, 21653550\n",
      ">best! 0, 21172360\n",
      ">best! 4, 18285220\n",
      ">best! 23, 17322840\n"
     ]
    },
    {
     "name": "stderr",
     "output_type": "stream",
     "text": [
      " 45%|████▍     | 224/500 [00:00<00:00, 393.16it/s]\n"
     ]
    },
    {
     "name": "stdout",
     "output_type": "stream",
     "text": [
      "stop\n",
      "104번째 log 저장 완료. 총 123개\n",
      "23426090\n"
     ]
    },
    {
     "name": "stderr",
     "output_type": "stream",
     "text": [
      "  4%|▍         | 19/500 [00:00<00:02, 187.02it/s]"
     ]
    },
    {
     "name": "stdout",
     "output_type": "stream",
     "text": [
      ">best! 0, 21889040\n",
      ">best! 1, 19309920\n",
      ">best! 3, 18378700\n",
      ">best! 7, 18039520\n",
      ">best! 10, 17914880\n",
      ">best! 11, 17883720\n",
      ">best! 12, 17354000\n"
     ]
    },
    {
     "name": "stderr",
     "output_type": "stream",
     "text": [
      " 33%|███▎      | 163/500 [00:01<00:01, 169.87it/s]"
     ]
    },
    {
     "name": "stdout",
     "output_type": "stream",
     "text": [
      ">best! 138, 17322840\n"
     ]
    },
    {
     "name": "stderr",
     "output_type": "stream",
     "text": [
      " 68%|██████▊   | 339/500 [00:02<00:00, 168.29it/s]\n"
     ]
    },
    {
     "name": "stdout",
     "output_type": "stream",
     "text": [
      "stop\n",
      "105번째 log 저장 완료. 총 123개\n",
      "25364640\n"
     ]
    },
    {
     "name": "stderr",
     "output_type": "stream",
     "text": [
      "  4%|▎         | 18/500 [00:00<00:02, 175.21it/s]"
     ]
    },
    {
     "name": "stdout",
     "output_type": "stream",
     "text": [
      ">best! 0, 25240000\n",
      ">best! 0, 21546280\n",
      ">best! 2, 21328160\n",
      ">best! 2, 21265840\n",
      ">best! 2, 21234680\n",
      ">best! 3, 21203520\n",
      ">best! 5, 20846970\n",
      ">best! 6, 19264970\n",
      ">best! 12, 17928670\n"
     ]
    },
    {
     "name": "stderr",
     "output_type": "stream",
     "text": [
      "  7%|▋         | 36/500 [00:00<00:02, 170.44it/s]"
     ]
    },
    {
     "name": "stdout",
     "output_type": "stream",
     "text": [
      ">best! 31, 17883720\n"
     ]
    },
    {
     "name": "stderr",
     "output_type": "stream",
     "text": [
      " 11%|█         | 54/500 [00:00<00:02, 167.78it/s]"
     ]
    },
    {
     "name": "stdout",
     "output_type": "stream",
     "text": [
      ">best! 36, 17354000\n"
     ]
    },
    {
     "name": "stderr",
     "output_type": "stream",
     "text": [
      " 47%|████▋     | 237/500 [00:01<00:01, 170.58it/s]\n"
     ]
    },
    {
     "name": "stdout",
     "output_type": "stream",
     "text": [
      "stop\n",
      "106번째 log 저장 완료. 총 123개\n",
      "25832040\n"
     ]
    },
    {
     "name": "stderr",
     "output_type": "stream",
     "text": [
      "  2%|▏         | 9/500 [00:00<00:05, 88.89it/s]"
     ]
    },
    {
     "name": "stdout",
     "output_type": "stream",
     "text": [
      ">best! 0, 18333750\n",
      ">best! 16, 17634440\n"
     ]
    },
    {
     "name": "stderr",
     "output_type": "stream",
     "text": [
      " 23%|██▎       | 117/500 [00:01<00:04, 86.20it/s]"
     ]
    },
    {
     "name": "stdout",
     "output_type": "stream",
     "text": [
      ">best! 104, 17478640\n"
     ]
    },
    {
     "name": "stderr",
     "output_type": "stream",
     "text": [
      " 61%|██████    | 305/500 [00:03<00:02, 89.59it/s]\n"
     ]
    },
    {
     "name": "stdout",
     "output_type": "stream",
     "text": [
      "stop\n",
      "107번째 log 저장 완료. 총 123개\n",
      "59525760405080\n"
     ]
    },
    {
     "name": "stderr",
     "output_type": "stream",
     "text": [
      "  0%|          | 0/500 [00:00<?, ?it/s]"
     ]
    },
    {
     "name": "stdout",
     "output_type": "stream",
     "text": [
      ">best! 0, 22105440716680\n",
      ">best! 0, 15892800685520\n",
      ">best! 1, 7946400623200\n",
      ">best! 6, 7801920436240\n"
     ]
    },
    {
     "name": "stderr",
     "output_type": "stream",
     "text": [
      " 13%|█▎        | 65/500 [00:00<00:04, 87.19it/s]"
     ]
    },
    {
     "name": "stdout",
     "output_type": "stream",
     "text": [
      ">best! 52, 7224000685520\n"
     ]
    },
    {
     "name": "stderr",
     "output_type": "stream",
     "text": [
      " 18%|█▊        | 92/500 [00:01<00:05, 80.61it/s]"
     ]
    },
    {
     "name": "stdout",
     "output_type": "stream",
     "text": [
      ">best! 81, 4189920747840\n"
     ]
    },
    {
     "name": "stderr",
     "output_type": "stream",
     "text": [
      " 56%|█████▋    | 282/500 [00:03<00:02, 88.23it/s]\n"
     ]
    },
    {
     "name": "stdout",
     "output_type": "stream",
     "text": [
      "stop\n",
      "108번째 log 저장 완료. 총 123개\n",
      "38287200124640\n"
     ]
    },
    {
     "name": "stderr",
     "output_type": "stream",
     "text": [
      "  2%|▏         | 9/500 [00:00<00:05, 83.57it/s]"
     ]
    },
    {
     "name": "stdout",
     "output_type": "stream",
     "text": [
      ">best! 0, 29907360062320\n",
      ">best! 0, 22683360529720\n",
      ">best! 0, 20227200685520\n",
      ">best! 1, 16470720280440\n",
      ">best! 2, 11558400373920\n",
      ">best! 5, 10691520000000\n"
     ]
    },
    {
     "name": "stderr",
     "output_type": "stream",
     "text": [
      "  9%|▉         | 47/500 [00:00<00:04, 91.43it/s]"
     ]
    },
    {
     "name": "stdout",
     "output_type": "stream",
     "text": [
      ">best! 34, 8524320498560\n"
     ]
    },
    {
     "name": "stderr",
     "output_type": "stream",
     "text": [
      " 17%|█▋        | 87/500 [00:00<00:04, 92.83it/s]"
     ]
    },
    {
     "name": "stdout",
     "output_type": "stream",
     "text": [
      ">best! 72, 7657440810160\n"
     ]
    },
    {
     "name": "stderr",
     "output_type": "stream",
     "text": [
      " 25%|██▌       | 126/500 [00:01<00:04, 79.19it/s]"
     ]
    },
    {
     "name": "stdout",
     "output_type": "stream",
     "text": [
      ">best! 115, 6935040685520\n"
     ]
    },
    {
     "name": "stderr",
     "output_type": "stream",
     "text": [
      " 29%|██▊       | 143/500 [00:01<00:05, 71.17it/s]"
     ]
    },
    {
     "name": "stdout",
     "output_type": "stream",
     "text": [
      ">best! 133, 5201280218120\n"
     ]
    },
    {
     "name": "stderr",
     "output_type": "stream",
     "text": [
      " 59%|█████▊    | 293/500 [00:03<00:02, 96.32it/s]"
     ]
    },
    {
     "name": "stdout",
     "output_type": "stream",
     "text": [
      ">best! 279, 4623360186960\n"
     ]
    },
    {
     "name": "stderr",
     "output_type": "stream",
     "text": [
      " 96%|█████████▌| 480/500 [00:05<00:00, 89.73it/s] \n"
     ]
    },
    {
     "name": "stdout",
     "output_type": "stream",
     "text": [
      "stop\n",
      "109번째 log 저장 완료. 총 123개\n",
      "110943640000000\n"
     ]
    },
    {
     "name": "stderr",
     "output_type": "stream",
     "text": [
      "  1%|          | 6/500 [00:00<00:08, 56.03it/s]"
     ]
    },
    {
     "name": "stdout",
     "output_type": "stream",
     "text": [
      ">best! 0, 54614140000000\n",
      ">best! 0, 34991740000000\n",
      ">best! 1, 33211100000000\n",
      ">best! 2, 30051840031240\n",
      ">best! 4, 16326240640420\n"
     ]
    },
    {
     "name": "stderr",
     "output_type": "stream",
     "text": [
      "  4%|▎         | 18/500 [00:00<00:09, 50.72it/s]"
     ]
    },
    {
     "name": "stdout",
     "output_type": "stream",
     "text": [
      ">best! 14, 16037281233980\n"
     ]
    },
    {
     "name": "stderr",
     "output_type": "stream",
     "text": [
      " 31%|███       | 154/500 [00:02<00:06, 54.25it/s]"
     ]
    },
    {
     "name": "stdout",
     "output_type": "stream",
     "text": [
      ">best! 147, 14303520015620\n"
     ]
    },
    {
     "name": "stderr",
     "output_type": "stream",
     "text": [
      " 36%|███▌      | 178/500 [00:03<00:06, 52.17it/s]"
     ]
    },
    {
     "name": "stdout",
     "output_type": "stream",
     "text": [
      ">best! 169, 11702880671660\n"
     ]
    },
    {
     "name": "stderr",
     "output_type": "stream",
     "text": [
      " 74%|███████▍  | 370/500 [00:07<00:02, 50.71it/s]\n"
     ]
    },
    {
     "name": "stdout",
     "output_type": "stream",
     "text": [
      "stop\n",
      "110번째 log 저장 완료. 총 123개\n",
      "108682380000000\n"
     ]
    },
    {
     "name": "stderr",
     "output_type": "stream",
     "text": [
      "  2%|▏         | 8/500 [00:00<00:06, 70.66it/s]"
     ]
    },
    {
     "name": "stdout",
     "output_type": "stream",
     "text": [
      ">best! 0, 85491020000000\n",
      ">best! 0, 60608240000000\n",
      ">best! 0, 59456040000000\n",
      ">best! 0, 58944500000000\n",
      ">best! 0, 48909200000000\n",
      ">best! 1, 45077760413930\n",
      ">best! 2, 30485280538890\n",
      ">best! 3, 20516162686640\n",
      ">best! 10, 12737880000000\n"
     ]
    },
    {
     "name": "stderr",
     "output_type": "stream",
     "text": [
      " 38%|███▊      | 191/500 [00:01<00:03, 97.15it/s] "
     ]
    },
    {
     "name": "stdout",
     "output_type": "stream",
     "text": [
      ">best! 177, 11386640000000\n"
     ]
    },
    {
     "name": "stderr",
     "output_type": "stream",
     "text": [
      " 76%|███████▌  | 378/500 [00:03<00:01, 99.12it/s] \n"
     ]
    },
    {
     "name": "stdout",
     "output_type": "stream",
     "text": [
      "stop\n",
      "111번째 log 저장 완료. 총 123개\n",
      "88489540000000\n"
     ]
    },
    {
     "name": "stderr",
     "output_type": "stream",
     "text": [
      "  1%|          | 6/500 [00:00<00:08, 56.72it/s]"
     ]
    },
    {
     "name": "stdout",
     "output_type": "stream",
     "text": [
      ">best! 0, 45109380000000\n",
      ">best! 0, 37853760976250\n",
      ">best! 1, 36182640000000\n",
      ">best! 4, 31930080171820\n",
      ">best! 10, 15170400320210\n"
     ]
    },
    {
     "name": "stderr",
     "output_type": "stream",
     "text": [
      " 26%|██▋       | 132/500 [00:02<00:06, 54.38it/s]"
     ]
    },
    {
     "name": "stdout",
     "output_type": "stream",
     "text": [
      ">best! 122, 14159042054030\n"
     ]
    },
    {
     "name": "stderr",
     "output_type": "stream",
     "text": [
      " 44%|████▍     | 222/500 [00:04<00:05, 54.10it/s]"
     ]
    },
    {
     "name": "stdout",
     "output_type": "stream",
     "text": [
      ">best! 214, 14014561686960\n"
     ]
    },
    {
     "name": "stderr",
     "output_type": "stream",
     "text": [
      " 70%|██████▉   | 348/500 [00:06<00:02, 55.26it/s]"
     ]
    },
    {
     "name": "stdout",
     "output_type": "stream",
     "text": [
      ">best! 341, 12425280288970\n"
     ]
    },
    {
     "name": "stderr",
     "output_type": "stream",
     "text": [
      " 85%|████████▌ | 426/500 [00:07<00:01, 56.54it/s]"
     ]
    },
    {
     "name": "stdout",
     "output_type": "stream",
     "text": [
      ">best! 418, 11960820000000\n"
     ]
    },
    {
     "name": "stderr",
     "output_type": "stream",
     "text": [
      "100%|██████████| 500/500 [00:09<00:00, 54.15it/s]\n"
     ]
    },
    {
     "name": "stdout",
     "output_type": "stream",
     "text": [
      "112번째 log 저장 완료. 총 123개\n",
      "35145000000000\n"
     ]
    },
    {
     "name": "stderr",
     "output_type": "stream",
     "text": [
      "  2%|▏         | 9/500 [00:00<00:06, 79.89it/s]"
     ]
    },
    {
     "name": "stdout",
     "output_type": "stream",
     "text": [
      ">best! 0, 23273800000000\n",
      ">best! 0, 21555600000000\n",
      ">best! 0, 20696500000000\n",
      ">best! 1, 406120\n",
      ">best! 1, 54670\n"
     ]
    },
    {
     "name": "stderr",
     "output_type": "stream",
     "text": [
      "  8%|▊         | 38/500 [00:00<00:05, 88.31it/s]"
     ]
    },
    {
     "name": "stdout",
     "output_type": "stream",
     "text": [
      ">best! 23, 0\n"
     ]
    },
    {
     "name": "stderr",
     "output_type": "stream",
     "text": [
      " 45%|████▍     | 224/500 [00:02<00:03, 84.93it/s]\n"
     ]
    },
    {
     "name": "stdout",
     "output_type": "stream",
     "text": [
      "stop\n",
      "113번째 log 저장 완료. 총 123개\n",
      "38190900000000\n"
     ]
    },
    {
     "name": "stderr",
     "output_type": "stream",
     "text": [
      "  2%|▏         | 8/500 [00:00<00:06, 72.16it/s]"
     ]
    },
    {
     "name": "stdout",
     "output_type": "stream",
     "text": [
      ">best! 0, 17338200000000\n",
      ">best! 0, 5857500000000\n",
      ">best! 2, 5388900000000\n",
      ">best! 6, 4451700000000\n",
      ">best! 6, 3983100000000\n",
      ">best! 6, 265540\n",
      ">best! 11, 132770\n"
     ]
    },
    {
     "name": "stderr",
     "output_type": "stream",
     "text": [
      " 22%|██▏       | 112/500 [00:01<00:04, 92.39it/s]"
     ]
    },
    {
     "name": "stdout",
     "output_type": "stream",
     "text": [
      ">best! 94, 31240\n"
     ]
    },
    {
     "name": "stderr",
     "output_type": "stream",
     "text": [
      " 42%|████▏     | 210/500 [00:02<00:03, 90.35it/s]"
     ]
    },
    {
     "name": "stdout",
     "output_type": "stream",
     "text": [
      ">best! 199, 0\n"
     ]
    },
    {
     "name": "stderr",
     "output_type": "stream",
     "text": [
      " 80%|████████  | 400/500 [00:04<00:01, 89.13it/s]\n"
     ]
    },
    {
     "name": "stdout",
     "output_type": "stream",
     "text": [
      "stop\n",
      "114번째 log 저장 완료. 총 123개\n",
      "0\n"
     ]
    },
    {
     "name": "stderr",
     "output_type": "stream",
     "text": [
      " 40%|████      | 201/500 [00:02<00:03, 80.28it/s]\n"
     ]
    },
    {
     "name": "stdout",
     "output_type": "stream",
     "text": [
      "stop\n",
      "115번째 log 저장 완료. 총 123개\n",
      "28900000000000\n"
     ]
    },
    {
     "name": "stderr",
     "output_type": "stream",
     "text": [
      "  2%|▏         | 8/500 [00:00<00:06, 79.74it/s]"
     ]
    },
    {
     "name": "stdout",
     "output_type": "stream",
     "text": [
      ">best! 0, 18700000000000\n",
      ">best! 0, 17340000000000\n",
      ">best! 2, 12580000000000\n",
      ">best! 10, 11560000000000\n"
     ]
    },
    {
     "name": "stderr",
     "output_type": "stream",
     "text": [
      "  6%|▋         | 32/500 [00:00<00:06, 69.32it/s]"
     ]
    },
    {
     "name": "stdout",
     "output_type": "stream",
     "text": [
      ">best! 21, 8160000000000\n"
     ]
    },
    {
     "name": "stderr",
     "output_type": "stream",
     "text": [
      " 15%|█▌        | 77/500 [00:01<00:06, 70.29it/s]"
     ]
    },
    {
     "name": "stdout",
     "output_type": "stream",
     "text": [
      ">best! 64, 7140000000000\n",
      ">best! 67, 6800000000000\n"
     ]
    },
    {
     "name": "stderr",
     "output_type": "stream",
     "text": [
      " 54%|█████▎    | 268/500 [00:03<00:03, 73.39it/s]\n"
     ]
    },
    {
     "name": "stdout",
     "output_type": "stream",
     "text": [
      "stop\n",
      "116번째 log 저장 완료. 총 123개\n",
      "70720000000000\n"
     ]
    },
    {
     "name": "stderr",
     "output_type": "stream",
     "text": [
      "  1%|          | 4/500 [00:00<00:12, 38.84it/s]"
     ]
    },
    {
     "name": "stdout",
     "output_type": "stream",
     "text": [
      ">best! 0, 66980000000000\n",
      ">best! 0, 63580000000000\n",
      ">best! 0, 56440000000000\n",
      ">best! 0, 47940000000000\n",
      ">best! 2, 42500000000000\n",
      ">best! 2, 42160000000000\n",
      ">best! 5, 41480000000000\n",
      ">best! 8, 38760000000000\n"
     ]
    },
    {
     "name": "stderr",
     "output_type": "stream",
     "text": [
      "  2%|▏         | 10/500 [00:00<00:11, 42.38it/s]"
     ]
    },
    {
     "name": "stdout",
     "output_type": "stream",
     "text": [
      ">best! 12, 37060000000000\n",
      ">best! 12, 32980000000000\n"
     ]
    },
    {
     "name": "stderr",
     "output_type": "stream",
     "text": [
      "  9%|▉         | 47/500 [00:01<00:08, 55.34it/s]"
     ]
    },
    {
     "name": "stdout",
     "output_type": "stream",
     "text": [
      ">best! 38, 30260000000000\n"
     ]
    },
    {
     "name": "stderr",
     "output_type": "stream",
     "text": [
      " 37%|███▋      | 184/500 [00:03<00:04, 69.25it/s]"
     ]
    },
    {
     "name": "stdout",
     "output_type": "stream",
     "text": [
      ">best! 171, 24140000000000\n"
     ]
    },
    {
     "name": "stderr",
     "output_type": "stream",
     "text": [
      " 71%|███████   | 356/500 [00:05<00:02, 62.73it/s]"
     ]
    },
    {
     "name": "stdout",
     "output_type": "stream",
     "text": [
      ">best! 344, 22780000000000\n"
     ]
    },
    {
     "name": "stderr",
     "output_type": "stream",
     "text": [
      "100%|██████████| 500/500 [00:07<00:00, 62.86it/s]\n"
     ]
    },
    {
     "name": "stdout",
     "output_type": "stream",
     "text": [
      "117번째 log 저장 완료. 총 123개\n",
      "117048200000000\n"
     ]
    },
    {
     "name": "stderr",
     "output_type": "stream",
     "text": [
      "  1%|          | 4/500 [00:00<00:13, 38.13it/s]"
     ]
    },
    {
     "name": "stdout",
     "output_type": "stream",
     "text": [
      ">best! 0, 108180350000000\n",
      ">best! 0, 103010030000000\n",
      ">best! 0, 96969170000000\n",
      ">best! 1, 82664100000000\n",
      ">best! 2, 73214420000000\n"
     ]
    },
    {
     "name": "stderr",
     "output_type": "stream",
     "text": [
      " 15%|█▍        | 74/500 [00:01<00:11, 36.45it/s]"
     ]
    },
    {
     "name": "stdout",
     "output_type": "stream",
     "text": [
      ">best! 69, 69143240000000\n"
     ]
    },
    {
     "name": "stderr",
     "output_type": "stream",
     "text": [
      " 37%|███▋      | 186/500 [00:04<00:07, 39.35it/s]"
     ]
    },
    {
     "name": "stdout",
     "output_type": "stream",
     "text": [
      ">best! 181, 61187010000000\n"
     ]
    },
    {
     "name": "stderr",
     "output_type": "stream",
     "text": [
      " 76%|███████▋  | 382/500 [00:10<00:03, 37.97it/s]\n"
     ]
    },
    {
     "name": "stdout",
     "output_type": "stream",
     "text": [
      "stop\n",
      "118번째 log 저장 완료. 총 123개\n",
      "104057880000000\n"
     ]
    },
    {
     "name": "stderr",
     "output_type": "stream",
     "text": [
      "  1%|          | 3/500 [00:00<00:19, 25.29it/s]"
     ]
    },
    {
     "name": "stdout",
     "output_type": "stream",
     "text": [
      ">best! 0, 89080240000000\n",
      ">best! 1, 78471310000000\n",
      ">best! 2, 74750340000000\n"
     ]
    },
    {
     "name": "stderr",
     "output_type": "stream",
     "text": [
      " 11%|█         | 54/500 [00:01<00:14, 30.59it/s]"
     ]
    },
    {
     "name": "stdout",
     "output_type": "stream",
     "text": [
      ">best! 51, 72686900000000\n"
     ]
    },
    {
     "name": "stderr",
     "output_type": "stream",
     "text": [
      " 20%|██        | 102/500 [00:03<00:10, 38.13it/s]"
     ]
    },
    {
     "name": "stdout",
     "output_type": "stream",
     "text": [
      ">best! 97, 58370230000000\n"
     ]
    },
    {
     "name": "stderr",
     "output_type": "stream",
     "text": [
      " 60%|█████▉    | 298/500 [00:08<00:05, 34.64it/s]\n"
     ]
    },
    {
     "name": "stdout",
     "output_type": "stream",
     "text": [
      "stop\n",
      "119번째 log 저장 완료. 총 123개\n",
      "142095413876000\n"
     ]
    },
    {
     "name": "stderr",
     "output_type": "stream",
     "text": [
      "  1%|          | 4/500 [00:00<00:14, 34.82it/s]"
     ]
    },
    {
     "name": "stdout",
     "output_type": "stream",
     "text": [
      ">best! 0, 96410783876000\n",
      ">best! 0, 84041741211250\n"
     ]
    },
    {
     "name": "stderr",
     "output_type": "stream",
     "text": [
      "  3%|▎         | 16/500 [00:00<00:16, 30.22it/s]"
     ]
    },
    {
     "name": "stdout",
     "output_type": "stream",
     "text": [
      ">best! 12, 79485512907000\n",
      ">best! 18, 74432396783000\n"
     ]
    },
    {
     "name": "stderr",
     "output_type": "stream",
     "text": [
      " 16%|█▌        | 78/500 [00:02<00:10, 40.74it/s]"
     ]
    },
    {
     "name": "stdout",
     "output_type": "stream",
     "text": [
      ">best! 73, 69543355571750\n"
     ]
    },
    {
     "name": "stderr",
     "output_type": "stream",
     "text": [
      " 31%|███       | 154/500 [00:04<00:08, 39.38it/s]"
     ]
    },
    {
     "name": "stdout",
     "output_type": "stream",
     "text": [
      ">best! 148, 66147762422500\n"
     ]
    },
    {
     "name": "stderr",
     "output_type": "stream",
     "text": [
      " 70%|██████▉   | 349/500 [00:08<00:03, 39.04it/s]\n"
     ]
    },
    {
     "name": "stdout",
     "output_type": "stream",
     "text": [
      "stop\n",
      "120번째 log 저장 완료. 총 123개\n",
      "84925510969000\n"
     ]
    },
    {
     "name": "stderr",
     "output_type": "stream",
     "text": [
      "  0%|          | 0/500 [00:00<?, ?it/s]"
     ]
    },
    {
     "name": "stdout",
     "output_type": "stream",
     "text": [
      ">best! 0, 80514332180250\n",
      ">best! 0, 69253253633750\n",
      ">best! 0, 66160995329500\n",
      ">best! 0, 64390676056250\n",
      ">best! 0, 51649372907000\n"
     ]
    },
    {
     "name": "stderr",
     "output_type": "stream",
     "text": [
      "  4%|▍         | 21/500 [00:00<00:19, 24.45it/s]"
     ]
    },
    {
     "name": "stdout",
     "output_type": "stream",
     "text": [
      ">best! 16, 46852701938000\n"
     ]
    },
    {
     "name": "stderr",
     "output_type": "stream",
     "text": [
      "  5%|▍         | 24/500 [00:01<00:20, 23.65it/s]"
     ]
    },
    {
     "name": "stdout",
     "output_type": "stream",
     "text": [
      ">best! 21, 40335616783000\n",
      ">best! 26, 37965824602750\n"
     ]
    },
    {
     "name": "stderr",
     "output_type": "stream",
     "text": [
      " 45%|████▌     | 227/500 [00:08<00:10, 26.02it/s]\n"
     ]
    },
    {
     "name": "stdout",
     "output_type": "stream",
     "text": [
      "stop\n",
      "121번째 log 저장 완료. 총 123개\n",
      "143669416783000\n"
     ]
    },
    {
     "name": "stderr",
     "output_type": "stream",
     "text": [
      "  0%|          | 0/500 [00:00<?, ?it/s]"
     ]
    },
    {
     "name": "stdout",
     "output_type": "stream",
     "text": [
      ">best! 0, 113162226783000\n",
      ">best! 0, 102082385087250\n",
      ">best! 0, 88599723633750\n",
      ">best! 0, 81847934845000\n"
     ]
    },
    {
     "name": "stderr",
     "output_type": "stream",
     "text": [
      "  0%|          | 1/500 [00:00<00:53,  9.28it/s]"
     ]
    },
    {
     "name": "stdout",
     "output_type": "stream",
     "text": [
      ">best! 2, 62980186298500\n"
     ]
    },
    {
     "name": "stderr",
     "output_type": "stream",
     "text": [
      "  1%|          | 5/500 [00:00<00:33, 14.70it/s]"
     ]
    },
    {
     "name": "stdout",
     "output_type": "stream",
     "text": [
      ">best! 5, 57807403633750\n"
     ]
    },
    {
     "name": "stderr",
     "output_type": "stream",
     "text": [
      "  2%|▏         | 11/500 [00:00<00:38, 12.81it/s]"
     ]
    },
    {
     "name": "stdout",
     "output_type": "stream",
     "text": [
      ">best! 9, 54069064054930\n"
     ]
    },
    {
     "name": "stderr",
     "output_type": "stream",
     "text": [
      "  5%|▍         | 23/500 [00:01<00:31, 15.06it/s]"
     ]
    },
    {
     "name": "stdout",
     "output_type": "stream",
     "text": [
      ">best! 20, 48189373876000\n"
     ]
    },
    {
     "name": "stderr",
     "output_type": "stream",
     "text": [
      " 19%|█▊        | 93/500 [00:05<00:26, 15.35it/s]"
     ]
    },
    {
     "name": "stdout",
     "output_type": "stream",
     "text": [
      ">best! 91, 40447014516140\n"
     ]
    },
    {
     "name": "stderr",
     "output_type": "stream",
     "text": [
      " 58%|█████▊    | 292/500 [00:18<00:13, 15.93it/s]\n"
     ]
    },
    {
     "name": "stdout",
     "output_type": "stream",
     "text": [
      "stop\n",
      "122번째 log 저장 완료. 총 123개\n",
      "71305302422500\n"
     ]
    },
    {
     "name": "stderr",
     "output_type": "stream",
     "text": [
      "  1%|          | 4/500 [00:00<00:15, 31.52it/s]"
     ]
    },
    {
     "name": "stdout",
     "output_type": "stream",
     "text": [
      ">best! 0, 25851106783000\n",
      ">best! 0, 10543506783000\n",
      ">best! 2, 3430550\n"
     ]
    },
    {
     "name": "stderr",
     "output_type": "stream",
     "text": [
      "  2%|▏         | 12/500 [00:00<00:15, 30.79it/s]"
     ]
    },
    {
     "name": "stdout",
     "output_type": "stream",
     "text": [
      ">best! 7, 500120\n"
     ]
    },
    {
     "name": "stderr",
     "output_type": "stream",
     "text": [
      " 42%|████▏     | 208/500 [00:06<00:09, 31.07it/s]"
     ]
    },
    {
     "name": "stdout",
     "output_type": "stream",
     "text": [
      "stop\n",
      "123번째 log 저장 완료. 총 123개\n"
     ]
    },
    {
     "name": "stderr",
     "output_type": "stream",
     "text": [
      "\n"
     ]
    }
   ],
   "source": [
    "import pickle\n",
    "\n",
    "# 저장된 피클 불러오기기\n",
    "# with open('log.pkl', 'rb') as f:\n",
    "#     loaded_data = pickle.load(f)\n",
    "\n",
    "# best_ls, score_ls, log_ls, log_detail_ls = loaded_data\n",
    "\n",
    "# 데이터 설정정\n",
    "# temp = [dataset_for_ga[i] for i in range(10)]\n",
    "\n",
    "best_ls, score_ls, log_ls, log_detail_ls, gt_ls = list(), list(), list(), list(), list()\n",
    "\n",
    "# 유전 알고리즘\n",
    "def ga_get_gt(dataset_for_ga):\n",
    "    data_len = len(dataset_for_ga)\n",
    "    \n",
    "    for i, data in enumerate(dataset_for_ga):\n",
    "        global T, I, J, cit, pit, dit, mijt\n",
    "        T, I, J, cit, pit, dit, mijt = ga_preprocess(data)\n",
    "\n",
    "        # 입력 데이터 생성\n",
    "        xijt = generation_xijt()\n",
    "        global xijt_keys, mijt_keys\n",
    "        xijt_keys = list(xijt.keys())\n",
    "        mijt_keys = list(mijt.keys())\n",
    "\n",
    "        # 유전 알고리즘 하이퍼파라미터 설정 - index 07 적용\n",
    "        n_iter = 500       # 반복할 세대 수\n",
    "        n_pop = 20         # 세대당 염색체 수\n",
    "        r_cross = 0.4      # 교차율\n",
    "        r_mut = 0.1        # 변이율\n",
    "\n",
    "        # 유전 알고리즘 실행\n",
    "        best, score, log, log_detail = genetic_algorithm(mijt, n_iter, n_pop, r_cross, r_mut)\n",
    "\n",
    "        best_ls.append(best)\n",
    "        score_ls.append(score)\n",
    "        log_ls.append(log)\n",
    "        log_detail_ls.append(log_detail)\n",
    "\n",
    "        with open('log_n5.pkl', 'wb') as f:\n",
    "            pickle.dump([best_ls, score_ls, log_ls, log_detail_ls], f)\n",
    "        print(f'{i+1}번째 log 저장 완료. 총 {data_len}개')\n",
    "\n",
    "        # 해 솔루션 저장용 딕셔너리 초기화\n",
    "        solution_ = dict()\n",
    "\n",
    "        # xijt 디코딩\n",
    "        xijt = decode(mijt, xijt)\n",
    "\n",
    "        # best 해를 기반으로 해를 계산\n",
    "        for i in I:\n",
    "            for j in J:\n",
    "                for t in T:\n",
    "                    solution_[(i, j, t)] = round(best[i, j, t] * dit[i, t])\n",
    "\n",
    "        # 딕셔너리를 DataFrame으로 변환\n",
    "        sol = pd.DataFrame.from_dict(solution_, orient='index').reset_index()\n",
    "        sol.columns = ['(item, machine, time)', 'qty']\n",
    "\n",
    "        gt_ls.append(sol[sol['qty'] > 0])\n",
    "\n",
    "        with open('gt_n5.pkl', 'wb') as f:\n",
    "            pickle.dump(gt_ls, f)\n",
    "\n",
    "        # print('{}번째 gt 저장 완료. 총 {}개'.format(i + 1, data_len))\n",
    "\n",
    "        # print('------------------------')\n",
    "        # print()\n",
    "    # return gt_ls\n",
    "\n",
    "ga_get_gt(dataset_for_ga)"
   ]
  },
  {
   "cell_type": "code",
   "execution_count": 241,
   "id": "9dc3919c-8486-41e1-b8f9-24f0ddaa3dfb",
   "metadata": {},
   "outputs": [],
   "source": [
    "import pickle\n",
    "\n",
    "hyper_parameters_ls_refac = [] # 이 변수는 원래 find_hyper_parameters 관련이었으므로, 여기서는 사용 안 함\n",
    "log_ls_refac = []              # GA 실행 로그 (best_score 변화) 저장용\n",
    "log_detail_ls_refac = []       # GA 상세 로그 (best_solution 변화 포함) 저장용\n",
    "best_solutions_dict_ls_refac = [] # 각 샘플의 best_solution (딕셔너리) 저장용\n",
    "best_scores_ls_refac = []      # 각 샘플의 best_score 저장용\n",
    "gt_ls_refactored = []          # 최종 GT DataFrame 저장용\n",
    "\n",
    "\n",
    "def generate_ground_truth_with_refactored_ga(dataset_for_ga_input, fixed_hyperparams):\n",
    "    \"\"\"\n",
    "    리팩토링된 GeneticAlgorithm 클래스를 사용하여 전체 데이터셋에 대해\n",
    "    GA를 실행하고 Ground Truth 생산 계획(DataFrame 리스트)을 생성합니다.\n",
    "    \"\"\"\n",
    "    # 전역 리스트를 사용하지 않고 함수 내에서 결과를 만들어서 반환하는 것이 더 좋은 패턴이지만,\n",
    "    # 오리지널 코드의 구조를 최대한 따르기 위해 외부 리스트에 append 하는 방식을 유지해볼 수 있음.\n",
    "    # (하지만, 여기서는 함수가 결과를 반환하도록 수정하는 것을 추천)\n",
    "    \n",
    "    # 이 함수 내에서 사용할 임시 리스트들\n",
    "    current_run_best_solutions = []\n",
    "    current_run_best_scores = []\n",
    "    current_run_logs = []\n",
    "    current_run_log_details = []\n",
    "    current_run_gt_dataframes = []\n",
    "\n",
    "    data_len = len(dataset_for_ga_input)\n",
    "    print(f\"\\n--- 리팩토링된 GA로 Ground Truth 생성 시작 (총 {data_len}개 샘플) ---\")\n",
    "\n",
    "    for i, data_sample_df in enumerate(dataset_for_ga_input):\n",
    "        print(f\"  샘플 {i + 1}/{data_len} 처리 중...\")\n",
    "\n",
    "        # 1. 데이터 전처리 (ga_util 사용)\n",
    "        #    T_set, I_set, J_set 등은 GA 인스턴스 생성 시점에 전달됨.\n",
    "        T_set, I_set, J_set, cit_data, pit_data, dit_data, mijt_data = \\\n",
    "            ga_util.preprocess_ga_inputs_dense(data_sample_df.copy()) # 또는 _sparse 버전\n",
    "\n",
    "        # 2. GeneticAlgorithm 인스턴스 생성 (고정된 하이퍼파라미터 사용)\n",
    "        #    xijt_keys, mijt_keys는 클래스 __init__에서 자동 생성되도록 None 전달\n",
    "        ga_instance = GeneticAlgorithm(\n",
    "            T_set=T_set, I_set=I_set, J_set=J_set,\n",
    "            cit_data=cit_data, pit_data=pit_data, dit_data=dit_data, mijt_data=mijt_data,\n",
    "            n_pop=fixed_hyperparams['n_pop'],\n",
    "            n_iter=fixed_hyperparams['n_iter'],\n",
    "            r_cross=fixed_hyperparams['r_cross'],\n",
    "            r_mut=fixed_hyperparams['r_mut'],\n",
    "            # __init__에 추가했던 다른 하이퍼파라미터들도 여기서 전달 가능\n",
    "            max_machine_work_time=fixed_hyperparams.get('max_machine_work_time', 600),\n",
    "            overproduction_penalty_factor=fixed_hyperparams.get('overproduction_penalty_factor', 10000000),\n",
    "            gene_swap_prob=fixed_hyperparams.get('gene_swap_prob', 0.5),\n",
    "            xijt_keys_list=None \n",
    "        )\n",
    "\n",
    "        # 3. GA 실행\n",
    "        #    solve() 메소드는 best_solution(dict), best_score, log, log_detail을 반환\n",
    "        best_solution_dict, best_score, log, log_detail = ga_instance.solve()\n",
    "\n",
    "        # 결과 저장 (함수 스코프 내의 리스트에)\n",
    "        current_run_best_solutions.append(best_solution_dict)\n",
    "        current_run_best_scores.append(int(best_score))\n",
    "        current_run_logs.append(log)\n",
    "        current_run_log_details.append(log_detail)\n",
    "\n",
    "        # 로그 파일 저장 (오리지널 코드와 유사하게 매번 저장하거나, 루프 후 한 번에 저장)\n",
    "        # 여기서는 루프 후 한 번에 저장하는 것을 가정하고, 이 부분은 주석 처리 또는 삭제\n",
    "        # with open('log_n5_refactored.pkl', 'wb') as f:\n",
    "        #     pickle.dump([current_run_best_solutions, current_run_best_scores, \n",
    "        #                  current_run_logs, current_run_log_details], f)\n",
    "        # print(f\"  샘플 {i + 1} 로그 임시 저장됨 (log_n5_refactored.pkl).\")\n",
    "\n",
    "\n",
    "        # 4. best_solution_dict (생산 비율 딕셔너리)를 GT DataFrame (실제 생산량)으로 변환\n",
    "        #    이 로직은 이전 `run_refactored_ga_on_samples` 함수에서 사용했던 것과 동일\n",
    "        if best_solution_dict:\n",
    "            processed_gt_rows = []\n",
    "            # dit_data는 현재 data_sample_df에 대한 전처리 결과 사용\n",
    "            for (item_k, machine_k, time_k), ratio_val in best_solution_dict.items():\n",
    "                # best_solution_dict의 값(ratio_val)은 생산 비율이라고 가정\n",
    "                demand_for_item_time = dit_data.get((item_k, time_k), 0) \n",
    "                actual_qty = round(ratio_val * demand_for_item_time)\n",
    "                if actual_qty > 0: # 실제 생산량이 0보다 큰 경우만 GT에 포함\n",
    "                   processed_gt_rows.append({\n",
    "                       'item': item_k, \n",
    "                       'machine': machine_k, \n",
    "                       'time': time_k, \n",
    "                       'qty': actual_qty\n",
    "                   })\n",
    "            \n",
    "            if processed_gt_rows:\n",
    "                gt_df = pd.DataFrame(processed_gt_rows)\n",
    "                # 컬럼 순서 및 정렬 (오리지널 코드 참고 또는 필요에 맞게)\n",
    "                gt_df = gt_df[['item', 'machine', 'time', 'qty']].sort_values(\n",
    "                    by=['time', 'item', 'machine', 'qty'] # 정렬 기준은 원래 코드와 동일하게\n",
    "                ).reset_index(drop=True)\n",
    "                current_run_gt_dataframes.append(gt_df)\n",
    "            else:\n",
    "                current_run_gt_dataframes.append(pd.DataFrame(columns=['item', 'machine', 'time', 'qty']))\n",
    "        else:\n",
    "            # best_solution_dict가 None인 경우 (GA가 해를 못 찾았거나 하는 예외 상황)\n",
    "            current_run_gt_dataframes.append(pd.DataFrame(columns=['item', 'machine', 'time', 'qty']))\n",
    "        print(f\"  샘플 {i + 1} 완료. Best Score: {best_score}\")\n",
    "\n",
    "    # 모든 샘플 처리 후 최종 결과 저장 (선택 사항, 오리지널 코드 방식)\n",
    "    # 로그 저장\n",
    "    # with open('log_n5_refactored_final.pkl', 'wb') as f:\n",
    "    #     pickle.dump([current_run_best_solutions, current_run_best_scores, \n",
    "    #                  current_run_logs, current_run_log_details], f)\n",
    "    # print(\"\\n최종 로그 저장 완료 (log_n5_refactored_final.pkl).\")\n",
    "\n",
    "    # GT 리스트 저장\n",
    "    with open('gt_n5_refactored_final.pkl', 'wb') as f: # 파일 이름 변경\n",
    "        pickle.dump(current_run_gt_dataframes, f)\n",
    "    print(\"최종 GT 리스트 저장 완료 (gt_n5_refactored_final.pkl).\")\n",
    "\n",
    "    # 이 함수가 결과를 직접 반환하도록 수정 (더 좋은 패턴)\n",
    "    return current_run_best_scores, current_run_gt_dataframes, current_run_logs, current_run_log_details\n"
   ]
  },
  {
   "cell_type": "code",
   "execution_count": 242,
   "id": "67fbd6c4-da41-48a8-848f-9df09f562310",
   "metadata": {},
   "outputs": [
    {
     "name": "stdout",
     "output_type": "stream",
     "text": [
      "\n",
      "--- 리팩토링된 GA로 Ground Truth 생성 시작 (총 123개 샘플) ---\n",
      "  샘플 1/123 처리 중...\n",
      "  [solve] 세대 0: 초기 모집단 생성됨 (크기: 20)\n",
      "  [solve] 세대 0: 단일 염색체 크기: 625)\n",
      "세대 255에서 조기 종료: 200 세대 동안 개선 없음.\n",
      "  샘플 1 완료. Best Score: 1476384.0\n",
      "  샘플 2/123 처리 중...\n",
      "  [solve] 세대 0: 초기 모집단 생성됨 (크기: 20)\n",
      "  [solve] 세대 0: 단일 염색체 크기: 540)\n",
      "세대 477에서 조기 종료: 200 세대 동안 개선 없음.\n",
      "  샘플 2 완료. Best Score: 2076004.0\n",
      "  샘플 3/123 처리 중...\n",
      "  [solve] 세대 0: 초기 모집단 생성됨 (크기: 20)\n",
      "  [solve] 세대 0: 단일 염색체 크기: 500)\n",
      "세대 256에서 조기 종료: 200 세대 동안 개선 없음.\n",
      "  샘플 3 완료. Best Score: 318500.0\n",
      "  샘플 4/123 처리 중...\n",
      "  [solve] 세대 0: 초기 모집단 생성됨 (크기: 20)\n",
      "  [solve] 세대 0: 단일 염색체 크기: 420)\n",
      "세대 316에서 조기 종료: 200 세대 동안 개선 없음.\n",
      "  샘플 4 완료. Best Score: 2062705.0\n",
      "  샘플 5/123 처리 중...\n",
      "  [solve] 세대 0: 초기 모집단 생성됨 (크기: 20)\n",
      "  [solve] 세대 0: 단일 염색체 크기: 240)\n",
      "세대 330에서 조기 종료: 200 세대 동안 개선 없음.\n",
      "  샘플 5 완료. Best Score: 627923.0\n",
      "  샘플 6/123 처리 중...\n",
      "  [solve] 세대 0: 초기 모집단 생성됨 (크기: 20)\n",
      "  [solve] 세대 0: 단일 염색체 크기: 210)\n",
      "  샘플 6 완료. Best Score: 38043060000000.0\n",
      "  샘플 7/123 처리 중...\n",
      "  [solve] 세대 0: 초기 모집단 생성됨 (크기: 20)\n",
      "  [solve] 세대 0: 단일 염색체 크기: 20)\n",
      "세대 201에서 조기 종료: 200 세대 동안 개선 없음.\n",
      "  샘플 7 완료. Best Score: 0.0\n",
      "  샘플 8/123 처리 중...\n",
      "  [solve] 세대 0: 초기 모집단 생성됨 (크기: 20)\n",
      "  [solve] 세대 0: 단일 염색체 크기: 75)\n",
      "세대 226에서 조기 종료: 200 세대 동안 개선 없음.\n",
      "  샘플 8 완료. Best Score: 0\n",
      "  샘플 9/123 처리 중...\n",
      "  [solve] 세대 0: 초기 모집단 생성됨 (크기: 20)\n",
      "  [solve] 세대 0: 단일 염색체 크기: 120)\n",
      "세대 221에서 조기 종료: 200 세대 동안 개선 없음.\n",
      "  샘플 9 완료. Best Score: 0.0\n",
      "  샘플 10/123 처리 중...\n",
      "  [solve] 세대 0: 초기 모집단 생성됨 (크기: 20)\n",
      "  [solve] 세대 0: 단일 염색체 크기: 144)\n",
      "세대 216에서 조기 종료: 200 세대 동안 개선 없음.\n",
      "  샘플 10 완료. Best Score: 0.0\n",
      "  샘플 11/123 처리 중...\n",
      "  [solve] 세대 0: 초기 모집단 생성됨 (크기: 20)\n",
      "  [solve] 세대 0: 단일 염색체 크기: 180)\n",
      "세대 215에서 조기 종료: 200 세대 동안 개선 없음.\n",
      "  샘플 11 완료. Best Score: 0.0\n",
      "  샘플 12/123 처리 중...\n",
      "  [solve] 세대 0: 초기 모집단 생성됨 (크기: 20)\n",
      "  [solve] 세대 0: 단일 염색체 크기: 360)\n",
      "세대 207에서 조기 종료: 200 세대 동안 개선 없음.\n",
      "  샘플 12 완료. Best Score: 21157503774000.0\n",
      "  샘플 13/123 처리 중...\n",
      "  [solve] 세대 0: 초기 모집단 생성됨 (크기: 20)\n",
      "  [solve] 세대 0: 단일 염색체 크기: 285)\n",
      "세대 384에서 조기 종료: 200 세대 동안 개선 없음.\n",
      "  샘플 13 완료. Best Score: 227500000000.0\n",
      "  샘플 14/123 처리 중...\n",
      "  [solve] 세대 0: 초기 모집단 생성됨 (크기: 20)\n",
      "  [solve] 세대 0: 단일 염색체 크기: 380)\n",
      "세대 478에서 조기 종료: 200 세대 동안 개선 없음.\n",
      "  샘플 14 완료. Best Score: 8417500000000.0\n",
      "  샘플 15/123 처리 중...\n",
      "  [solve] 세대 0: 초기 모집단 생성됨 (크기: 20)\n",
      "  [solve] 세대 0: 단일 염색체 크기: 270)\n",
      "  샘플 15 완료. Best Score: 15242500000000.0\n",
      "  샘플 16/123 처리 중...\n",
      "  [solve] 세대 0: 초기 모집단 생성됨 (크기: 20)\n",
      "  [solve] 세대 0: 단일 염색체 크기: 345)\n",
      "세대 357에서 조기 종료: 200 세대 동안 개선 없음.\n",
      "  샘플 16 완료. Best Score: 4095008048280.0\n",
      "  샘플 17/123 처리 중...\n",
      "  [solve] 세대 0: 초기 모집단 생성됨 (크기: 20)\n",
      "  [solve] 세대 0: 단일 염색체 크기: 400)\n",
      "세대 322에서 조기 종료: 200 세대 동안 개선 없음.\n",
      "  샘플 17 완료. Best Score: 42810.0\n",
      "  샘플 18/123 처리 중...\n",
      "  [solve] 세대 0: 초기 모집단 생성됨 (크기: 20)\n",
      "  [solve] 세대 0: 단일 염색체 크기: 400)\n",
      "세대 437에서 조기 종료: 200 세대 동안 개선 없음.\n",
      "  샘플 18 완료. Best Score: 128430.0\n",
      "  샘플 19/123 처리 중...\n",
      "  [solve] 세대 0: 초기 모집단 생성됨 (크기: 20)\n",
      "  [solve] 세대 0: 단일 염색체 크기: 360)\n",
      "세대 232에서 조기 종료: 200 세대 동안 개선 없음.\n",
      "  샘플 19 완료. Best Score: 171240.0\n",
      "  샘플 20/123 처리 중...\n",
      "  [solve] 세대 0: 초기 모집단 생성됨 (크기: 20)\n",
      "  [solve] 세대 0: 단일 염색체 크기: 360)\n",
      "세대 327에서 조기 종료: 200 세대 동안 개선 없음.\n",
      "  샘플 20 완료. Best Score: 484500.0\n",
      "  샘플 21/123 처리 중...\n",
      "  [solve] 세대 0: 초기 모집단 생성됨 (크기: 20)\n",
      "  [solve] 세대 0: 단일 염색체 크기: 315)\n",
      "세대 406에서 조기 종료: 200 세대 동안 개선 없음.\n",
      "  샘플 21 완료. Best Score: 439790.0\n",
      "  샘플 22/123 처리 중...\n",
      "  [solve] 세대 0: 초기 모집단 생성됨 (크기: 20)\n",
      "  [solve] 세대 0: 단일 염색체 크기: 300)\n",
      "세대 206에서 조기 종료: 200 세대 동안 개선 없음.\n",
      "  샘플 22 완료. Best Score: 0.0\n",
      "  샘플 23/123 처리 중...\n",
      "  [solve] 세대 0: 초기 모집단 생성됨 (크기: 20)\n",
      "  [solve] 세대 0: 단일 염색체 크기: 300)\n",
      "세대 237에서 조기 종료: 200 세대 동안 개선 없음.\n",
      "  샘플 23 완료. Best Score: 0.0\n",
      "  샘플 24/123 처리 중...\n",
      "  [solve] 세대 0: 초기 모집단 생성됨 (크기: 20)\n",
      "  [solve] 세대 0: 단일 염색체 크기: 200)\n",
      "세대 265에서 조기 종료: 200 세대 동안 개선 없음.\n",
      "  샘플 24 완료. Best Score: 0.0\n",
      "  샘플 25/123 처리 중...\n",
      "  [solve] 세대 0: 초기 모집단 생성됨 (크기: 20)\n",
      "  [solve] 세대 0: 단일 염색체 크기: 200)\n",
      "세대 216에서 조기 종료: 200 세대 동안 개선 없음.\n",
      "  샘플 25 완료. Best Score: 0.0\n",
      "  샘플 26/123 처리 중...\n",
      "  [solve] 세대 0: 초기 모집단 생성됨 (크기: 20)\n",
      "  [solve] 세대 0: 단일 염색체 크기: 160)\n",
      "세대 315에서 조기 종료: 200 세대 동안 개선 없음.\n",
      "  샘플 26 완료. Best Score: 12811680000000.0\n",
      "  샘플 27/123 처리 중...\n",
      "  [solve] 세대 0: 초기 모집단 생성됨 (크기: 20)\n",
      "  [solve] 세대 0: 단일 염색체 크기: 170)\n",
      "세대 259에서 조기 종료: 200 세대 동안 개선 없음.\n",
      "  샘플 27 완료. Best Score: 56736840000000.0\n",
      "  샘플 28/123 처리 중...\n",
      "  [solve] 세대 0: 초기 모집단 생성됨 (크기: 20)\n",
      "  [solve] 세대 0: 단일 염색체 크기: 270)\n",
      "세대 439에서 조기 종료: 200 세대 동안 개선 없음.\n",
      "  샘플 28 완료. Best Score: 56978400000000.0\n",
      "  샘플 29/123 처리 중...\n",
      "  [solve] 세대 0: 초기 모집단 생성됨 (크기: 20)\n",
      "  [solve] 세대 0: 단일 염색체 크기: 380)\n",
      "세대 202에서 조기 종료: 200 세대 동안 개선 없음.\n",
      "  샘플 29 완료. Best Score: 54487240000000.0\n",
      "  샘플 30/123 처리 중...\n",
      "  [solve] 세대 0: 초기 모집단 생성됨 (크기: 20)\n",
      "  [solve] 세대 0: 단일 염색체 크기: 300)\n",
      "세대 262에서 조기 종료: 200 세대 동안 개선 없음.\n",
      "  샘플 30 완료. Best Score: 54145680000000.0\n",
      "  샘플 31/123 처리 중...\n",
      "  [solve] 세대 0: 초기 모집단 생성됨 (크기: 20)\n",
      "  [solve] 세대 0: 단일 염색체 크기: 240)\n",
      "세대 480에서 조기 종료: 200 세대 동안 개선 없음.\n",
      "  샘플 31 완료. Best Score: 16115880000000.0\n",
      "  샘플 32/123 처리 중...\n",
      "  [solve] 세대 0: 초기 모집단 생성됨 (크기: 20)\n",
      "  [solve] 세대 0: 단일 염색체 크기: 144)\n",
      "세대 201에서 조기 종료: 200 세대 동안 개선 없음.\n",
      "  샘플 32 완료. Best Score: 0.0\n",
      "  샘플 33/123 처리 중...\n",
      "  [solve] 세대 0: 초기 모집단 생성됨 (크기: 20)\n",
      "  [solve] 세대 0: 단일 염색체 크기: 72)\n",
      "세대 201에서 조기 종료: 200 세대 동안 개선 없음.\n",
      "  샘플 33 완료. Best Score: 0.0\n",
      "  샘플 34/123 처리 중...\n",
      "  [solve] 세대 0: 초기 모집단 생성됨 (크기: 20)\n",
      "  [solve] 세대 0: 단일 염색체 크기: 90)\n",
      "세대 201에서 조기 종료: 200 세대 동안 개선 없음.\n",
      "  샘플 34 완료. Best Score: 0.0\n",
      "  샘플 35/123 처리 중...\n",
      "  [solve] 세대 0: 초기 모집단 생성됨 (크기: 20)\n",
      "  [solve] 세대 0: 단일 염색체 크기: 90)\n",
      "세대 201에서 조기 종료: 200 세대 동안 개선 없음.\n",
      "  샘플 35 완료. Best Score: 0.0\n",
      "  샘플 36/123 처리 중...\n",
      "  [solve] 세대 0: 초기 모집단 생성됨 (크기: 20)\n",
      "  [solve] 세대 0: 단일 염색체 크기: 150)\n",
      "세대 204에서 조기 종료: 200 세대 동안 개선 없음.\n",
      "  샘플 36 완료. Best Score: 0.0\n",
      "  샘플 37/123 처리 중...\n",
      "  [solve] 세대 0: 초기 모집단 생성됨 (크기: 20)\n",
      "  [solve] 세대 0: 단일 염색체 크기: 180)\n",
      "세대 225에서 조기 종료: 200 세대 동안 개선 없음.\n",
      "  샘플 37 완료. Best Score: 537980000000.0\n",
      "  샘플 38/123 처리 중...\n",
      "  [solve] 세대 0: 초기 모집단 생성됨 (크기: 20)\n",
      "  [solve] 세대 0: 단일 염색체 크기: 220)\n",
      "세대 323에서 조기 종료: 200 세대 동안 개선 없음.\n",
      "  샘플 38 완료. Best Score: 0.0\n",
      "  샘플 39/123 처리 중...\n",
      "  [solve] 세대 0: 초기 모집단 생성됨 (크기: 20)\n",
      "  [solve] 세대 0: 단일 염색체 크기: 220)\n",
      "세대 366에서 조기 종료: 200 세대 동안 개선 없음.\n",
      "  샘플 39 완료. Best Score: 0.0\n",
      "  샘플 40/123 처리 중...\n",
      "  [solve] 세대 0: 초기 모집단 생성됨 (크기: 20)\n",
      "  [solve] 세대 0: 단일 염색체 크기: 120)\n",
      "세대 319에서 조기 종료: 200 세대 동안 개선 없음.\n",
      "  샘플 40 완료. Best Score: 1930000053798.0\n",
      "  샘플 41/123 처리 중...\n",
      "  [solve] 세대 0: 초기 모집단 생성됨 (크기: 20)\n",
      "  [solve] 세대 0: 단일 염색체 크기: 240)\n",
      "세대 267에서 조기 종료: 200 세대 동안 개선 없음.\n",
      "  샘플 41 완료. Best Score: 965000000000.0\n",
      "  샘플 42/123 처리 중...\n",
      "  [solve] 세대 0: 초기 모집단 생성됨 (크기: 20)\n",
      "  [solve] 세대 0: 단일 염색체 크기: 240)\n",
      "세대 223에서 조기 종료: 200 세대 동안 개선 없음.\n",
      "  샘플 42 완료. Best Score: 2123000512778.0\n",
      "  샘플 43/123 처리 중...\n",
      "  [solve] 세대 0: 초기 모집단 생성됨 (크기: 20)\n",
      "  [solve] 세대 0: 단일 염색체 크기: 200)\n",
      "세대 389에서 조기 종료: 200 세대 동안 개선 없음.\n",
      "  샘플 43 완료. Best Score: 1737000170926.0\n",
      "  샘플 44/123 처리 중...\n",
      "  [solve] 세대 0: 초기 모집단 생성됨 (크기: 20)\n",
      "  [solve] 세대 0: 단일 염색체 크기: 300)\n",
      "세대 359에서 조기 종료: 200 세대 동안 개선 없음.\n",
      "  샘플 44 완료. Best Score: 1737002226168.0\n",
      "  샘플 45/123 처리 중...\n",
      "  [solve] 세대 0: 초기 모집단 생성됨 (크기: 20)\n",
      "  [solve] 세대 0: 단일 염색체 크기: 170)\n",
      "세대 286에서 조기 종료: 200 세대 동안 개선 없음.\n",
      "  샘플 45 완료. Best Score: 1339396.0\n",
      "  샘플 46/123 처리 중...\n",
      "  [solve] 세대 0: 초기 모집단 생성됨 (크기: 20)\n",
      "  [solve] 세대 0: 단일 염색체 크기: 255)\n",
      "세대 239에서 조기 종료: 200 세대 동안 개선 없음.\n",
      "  샘플 46 완료. Best Score: 3230890.0\n",
      "  샘플 47/123 처리 중...\n",
      "  [solve] 세대 0: 초기 모집단 생성됨 (크기: 20)\n",
      "  [solve] 세대 0: 단일 염색체 크기: 180)\n",
      "세대 251에서 조기 종료: 200 세대 동안 개선 없음.\n",
      "  샘플 47 완료. Best Score: 141000.0\n",
      "  샘플 48/123 처리 중...\n",
      "  [solve] 세대 0: 초기 모집단 생성됨 (크기: 20)\n",
      "  [solve] 세대 0: 단일 염색체 크기: 160)\n",
      "세대 444에서 조기 종료: 200 세대 동안 개선 없음.\n",
      "  샘플 48 완료. Best Score: 161450.0\n",
      "  샘플 49/123 처리 중...\n",
      "  [solve] 세대 0: 초기 모집단 생성됨 (크기: 20)\n",
      "  [solve] 세대 0: 단일 염색체 크기: 180)\n",
      "세대 233에서 조기 종료: 200 세대 동안 개선 없음.\n",
      "  샘플 49 완료. Best Score: 0.0\n",
      "  샘플 50/123 처리 중...\n",
      "  [solve] 세대 0: 초기 모집단 생성됨 (크기: 20)\n",
      "  [solve] 세대 0: 단일 염색체 크기: 190)\n",
      "세대 201에서 조기 종료: 200 세대 동안 개선 없음.\n",
      "  샘플 50 완료. Best Score: 0.0\n",
      "  샘플 51/123 처리 중...\n",
      "  [solve] 세대 0: 초기 모집단 생성됨 (크기: 20)\n",
      "  [solve] 세대 0: 단일 염색체 크기: 190)\n",
      "세대 201에서 조기 종료: 200 세대 동안 개선 없음.\n",
      "  샘플 51 완료. Best Score: 0.0\n",
      "  샘플 52/123 처리 중...\n",
      "  [solve] 세대 0: 초기 모집단 생성됨 (크기: 20)\n",
      "  [solve] 세대 0: 단일 염색체 크기: 190)\n",
      "세대 201에서 조기 종료: 200 세대 동안 개선 없음.\n",
      "  샘플 52 완료. Best Score: 0.0\n",
      "  샘플 53/123 처리 중...\n",
      "  [solve] 세대 0: 초기 모집단 생성됨 (크기: 20)\n",
      "  [solve] 세대 0: 단일 염색체 크기: 190)\n",
      "세대 208에서 조기 종료: 200 세대 동안 개선 없음.\n",
      "  샘플 53 완료. Best Score: 0.0\n",
      "  샘플 54/123 처리 중...\n",
      "  [solve] 세대 0: 초기 모집단 생성됨 (크기: 20)\n",
      "  [solve] 세대 0: 단일 염색체 크기: 180)\n",
      "  샘플 54 완료. Best Score: 94800.0\n",
      "  샘플 55/123 처리 중...\n",
      "  [solve] 세대 0: 초기 모집단 생성됨 (크기: 20)\n",
      "  [solve] 세대 0: 단일 염색체 크기: 255)\n",
      "세대 257에서 조기 종료: 200 세대 동안 개선 없음.\n",
      "  샘플 55 완료. Best Score: 37500.0\n",
      "  샘플 56/123 처리 중...\n",
      "  [solve] 세대 0: 초기 모집단 생성됨 (크기: 20)\n",
      "  [solve] 세대 0: 단일 염색체 크기: 255)\n",
      "  샘플 56 완료. Best Score: 157300.0\n",
      "  샘플 57/123 처리 중...\n",
      "  [solve] 세대 0: 초기 모집단 생성됨 (크기: 20)\n",
      "  [solve] 세대 0: 단일 염색체 크기: 320)\n",
      "세대 323에서 조기 종료: 200 세대 동안 개선 없음.\n",
      "  샘플 57 완료. Best Score: 163140.0\n",
      "  샘플 58/123 처리 중...\n",
      "  [solve] 세대 0: 초기 모집단 생성됨 (크기: 20)\n",
      "  [solve] 세대 0: 단일 염색체 크기: 255)\n",
      "세대 271에서 조기 종료: 200 세대 동안 개선 없음.\n",
      "  샘플 58 완료. Best Score: 0.0\n",
      "  샘플 59/123 처리 중...\n",
      "  [solve] 세대 0: 초기 모집단 생성됨 (크기: 20)\n",
      "  [solve] 세대 0: 단일 염색체 크기: 150)\n",
      "세대 213에서 조기 종료: 200 세대 동안 개선 없음.\n",
      "  샘플 59 완료. Best Score: 0.0\n",
      "  샘플 60/123 처리 중...\n",
      "  [solve] 세대 0: 초기 모집단 생성됨 (크기: 20)\n",
      "  [solve] 세대 0: 단일 염색체 크기: 195)\n",
      "세대 204에서 조기 종료: 200 세대 동안 개선 없음.\n",
      "  샘플 60 완료. Best Score: 0.0\n",
      "  샘플 61/123 처리 중...\n",
      "  [solve] 세대 0: 초기 모집단 생성됨 (크기: 20)\n",
      "  [solve] 세대 0: 단일 염색체 크기: 120)\n",
      "세대 204에서 조기 종료: 200 세대 동안 개선 없음.\n",
      "  샘플 61 완료. Best Score: 0.0\n",
      "  샘플 62/123 처리 중...\n",
      "  [solve] 세대 0: 초기 모집단 생성됨 (크기: 20)\n",
      "  [solve] 세대 0: 단일 염색체 크기: 225)\n",
      "세대 303에서 조기 종료: 200 세대 동안 개선 없음.\n",
      "  샘플 62 완료. Best Score: 0.0\n",
      "  샘플 63/123 처리 중...\n",
      "  [solve] 세대 0: 초기 모집단 생성됨 (크기: 20)\n",
      "  [solve] 세대 0: 단일 염색체 크기: 140)\n",
      "세대 204에서 조기 종료: 200 세대 동안 개선 없음.\n",
      "  샘플 63 완료. Best Score: 0.0\n",
      "  샘플 64/123 처리 중...\n",
      "  [solve] 세대 0: 초기 모집단 생성됨 (크기: 20)\n",
      "  [solve] 세대 0: 단일 염색체 크기: 130)\n",
      "세대 201에서 조기 종료: 200 세대 동안 개선 없음.\n",
      "  샘플 64 완료. Best Score: 0.0\n",
      "  샘플 65/123 처리 중...\n",
      "  [solve] 세대 0: 초기 모집단 생성됨 (크기: 20)\n",
      "  [solve] 세대 0: 단일 염색체 크기: 180)\n",
      "세대 229에서 조기 종료: 200 세대 동안 개선 없음.\n",
      "  샘플 65 완료. Best Score: 0.0\n",
      "  샘플 66/123 처리 중...\n",
      "  [solve] 세대 0: 초기 모집단 생성됨 (크기: 20)\n",
      "  [solve] 세대 0: 단일 염색체 크기: 180)\n",
      "세대 206에서 조기 종료: 200 세대 동안 개선 없음.\n",
      "  샘플 66 완료. Best Score: 0.0\n",
      "  샘플 67/123 처리 중...\n",
      "  [solve] 세대 0: 초기 모집단 생성됨 (크기: 20)\n",
      "  [solve] 세대 0: 단일 염색체 크기: 140)\n",
      "세대 288에서 조기 종료: 200 세대 동안 개선 없음.\n",
      "  샘플 67 완료. Best Score: 7779904.0\n",
      "  샘플 68/123 처리 중...\n",
      "  [solve] 세대 0: 초기 모집단 생성됨 (크기: 20)\n",
      "  [solve] 세대 0: 단일 염색체 크기: 180)\n",
      "세대 238에서 조기 종료: 200 세대 동안 개선 없음.\n",
      "  샘플 68 완료. Best Score: 14541103.0\n",
      "  샘플 69/123 처리 중...\n",
      "  [solve] 세대 0: 초기 모집단 생성됨 (크기: 20)\n",
      "  [solve] 세대 0: 단일 염색체 크기: 210)\n",
      "세대 327에서 조기 종료: 200 세대 동안 개선 없음.\n",
      "  샘플 69 완료. Best Score: 5400023390750.0\n",
      "  샘플 70/123 처리 중...\n",
      "  [solve] 세대 0: 초기 모집단 생성됨 (크기: 20)\n",
      "  [solve] 세대 0: 단일 염색체 크기: 105)\n",
      "  샘플 70 완료. Best Score: 15770872.0\n",
      "  샘플 71/123 처리 중...\n",
      "  [solve] 세대 0: 초기 모집단 생성됨 (크기: 20)\n",
      "  [solve] 세대 0: 단일 염색체 크기: 105)\n",
      "세대 207에서 조기 종료: 200 세대 동안 개선 없음.\n",
      "  샘플 71 완료. Best Score: 1800017667192.0\n",
      "  샘플 72/123 처리 중...\n",
      "  [solve] 세대 0: 초기 모집단 생성됨 (크기: 20)\n",
      "  [solve] 세대 0: 단일 염색체 크기: 125)\n",
      "세대 354에서 조기 종료: 200 세대 동안 개선 없음.\n",
      "  샘플 72 완료. Best Score: 443500.0\n",
      "  샘플 73/123 처리 중...\n",
      "  [solve] 세대 0: 초기 모집단 생성됨 (크기: 20)\n",
      "  [solve] 세대 0: 단일 염색체 크기: 125)\n",
      "세대 229에서 조기 종료: 200 세대 동안 개선 없음.\n",
      "  샘플 73 완료. Best Score: 0\n",
      "  샘플 74/123 처리 중...\n",
      "  [solve] 세대 0: 초기 모집단 생성됨 (크기: 20)\n",
      "  [solve] 세대 0: 단일 염색체 크기: 180)\n",
      "세대 201에서 조기 종료: 200 세대 동안 개선 없음.\n",
      "  샘플 74 완료. Best Score: 0.0\n",
      "  샘플 75/123 처리 중...\n",
      "  [solve] 세대 0: 초기 모집단 생성됨 (크기: 20)\n",
      "  [solve] 세대 0: 단일 염색체 크기: 180)\n",
      "세대 201에서 조기 종료: 200 세대 동안 개선 없음.\n",
      "  샘플 75 완료. Best Score: 0.0\n",
      "  샘플 76/123 처리 중...\n",
      "  [solve] 세대 0: 초기 모집단 생성됨 (크기: 20)\n",
      "  [solve] 세대 0: 단일 염색체 크기: 144)\n",
      "세대 244에서 조기 종료: 200 세대 동안 개선 없음.\n",
      "  샘플 76 완료. Best Score: 39767000000000.0\n",
      "  샘플 77/123 처리 중...\n",
      "  [solve] 세대 0: 초기 모집단 생성됨 (크기: 20)\n",
      "  [solve] 세대 0: 단일 염색체 크기: 200)\n",
      "세대 460에서 조기 종료: 200 세대 동안 개선 없음.\n",
      "  샘플 77 완료. Best Score: 629360.0\n",
      "  샘플 78/123 처리 중...\n",
      "  [solve] 세대 0: 초기 모집단 생성됨 (크기: 20)\n",
      "  [solve] 세대 0: 단일 염색체 크기: 100)\n",
      "세대 212에서 조기 종료: 200 세대 동안 개선 없음.\n",
      "  샘플 78 완료. Best Score: 1004234\n",
      "  샘플 79/123 처리 중...\n",
      "  [solve] 세대 0: 초기 모집단 생성됨 (크기: 20)\n",
      "  [solve] 세대 0: 단일 염색체 크기: 220)\n",
      "세대 257에서 조기 종료: 200 세대 동안 개선 없음.\n",
      "  샘플 79 완료. Best Score: 21720588\n",
      "  샘플 80/123 처리 중...\n",
      "  [solve] 세대 0: 초기 모집단 생성됨 (크기: 20)\n",
      "  [solve] 세대 0: 단일 염색체 크기: 220)\n",
      "세대 299에서 조기 종료: 200 세대 동안 개선 없음.\n",
      "  샘플 80 완료. Best Score: 21985438.0\n",
      "  샘플 81/123 처리 중...\n",
      "  [solve] 세대 0: 초기 모집단 생성됨 (크기: 20)\n",
      "  [solve] 세대 0: 단일 염색체 크기: 220)\n",
      "세대 252에서 조기 종료: 200 세대 동안 개선 없음.\n",
      "  샘플 81 완료. Best Score: 21262128.0\n",
      "  샘플 82/123 처리 중...\n",
      "  [solve] 세대 0: 초기 모집단 생성됨 (크기: 20)\n",
      "  [solve] 세대 0: 단일 염색체 크기: 240)\n",
      "세대 419에서 조기 종료: 200 세대 동안 개선 없음.\n",
      "  샘플 82 완료. Best Score: 2730025595502.0\n",
      "  샘플 83/123 처리 중...\n",
      "  [solve] 세대 0: 초기 모집단 생성됨 (크기: 20)\n",
      "  [solve] 세대 0: 단일 염색체 크기: 70)\n",
      "세대 345에서 조기 종료: 200 세대 동안 개선 없음.\n",
      "  샘플 83 완료. Best Score: 18930302\n",
      "  샘플 84/123 처리 중...\n",
      "  [solve] 세대 0: 초기 모집단 생성됨 (크기: 20)\n",
      "  [solve] 세대 0: 단일 염색체 크기: 160)\n",
      "세대 215에서 조기 종료: 200 세대 동안 개선 없음.\n",
      "  샘플 84 완료. Best Score: 0.0\n",
      "  샘플 85/123 처리 중...\n",
      "  [solve] 세대 0: 초기 모집단 생성됨 (크기: 20)\n",
      "  [solve] 세대 0: 단일 염색체 크기: 150)\n",
      "세대 208에서 조기 종료: 200 세대 동안 개선 없음.\n",
      "  샘플 85 완료. Best Score: 0.0\n",
      "  샘플 86/123 처리 중...\n",
      "  [solve] 세대 0: 초기 모집단 생성됨 (크기: 20)\n",
      "  [solve] 세대 0: 단일 염색체 크기: 150)\n",
      "세대 219에서 조기 종료: 200 세대 동안 개선 없음.\n",
      "  샘플 86 완료. Best Score: 0.0\n",
      "  샘플 87/123 처리 중...\n",
      "  [solve] 세대 0: 초기 모집단 생성됨 (크기: 20)\n",
      "  [solve] 세대 0: 단일 염색체 크기: 70)\n",
      "세대 201에서 조기 종료: 200 세대 동안 개선 없음.\n",
      "  샘플 87 완료. Best Score: 0.0\n",
      "  샘플 88/123 처리 중...\n",
      "  [solve] 세대 0: 초기 모집단 생성됨 (크기: 20)\n",
      "  [solve] 세대 0: 단일 염색체 크기: 120)\n",
      "세대 204에서 조기 종료: 200 세대 동안 개선 없음.\n",
      "  샘플 88 완료. Best Score: 0.0\n",
      "  샘플 89/123 처리 중...\n",
      "  [solve] 세대 0: 초기 모집단 생성됨 (크기: 20)\n",
      "  [solve] 세대 0: 단일 염색체 크기: 210)\n",
      "세대 229에서 조기 종료: 200 세대 동안 개선 없음.\n",
      "  샘플 89 완료. Best Score: 154035\n",
      "  샘플 90/123 처리 중...\n",
      "  [solve] 세대 0: 초기 모집단 생성됨 (크기: 20)\n",
      "  [solve] 세대 0: 단일 염색체 크기: 390)\n",
      "세대 224에서 조기 종료: 200 세대 동안 개선 없음.\n",
      "  샘플 90 완료. Best Score: 59262500132030.0\n",
      "  샘플 91/123 처리 중...\n",
      "  [solve] 세대 0: 초기 모집단 생성됨 (크기: 20)\n",
      "  [solve] 세대 0: 단일 염색체 크기: 520)\n",
      "세대 247에서 조기 종료: 200 세대 동안 개선 없음.\n",
      "  샘플 91 완료. Best Score: 58800004423395.0\n",
      "  샘플 92/123 처리 중...\n",
      "  [solve] 세대 0: 초기 모집단 생성됨 (크기: 20)\n",
      "  [solve] 세대 0: 단일 염색체 크기: 520)\n",
      "세대 230에서 조기 종료: 200 세대 동안 개선 없음.\n",
      "  샘플 92 완료. Best Score: 139498183237850.0\n",
      "  샘플 93/123 처리 중...\n",
      "  [solve] 세대 0: 초기 모집단 생성됨 (크기: 20)\n",
      "  [solve] 세대 0: 단일 염색체 크기: 500)\n",
      "세대 236에서 조기 종료: 200 세대 동안 개선 없음.\n",
      "  샘플 93 완료. Best Score: 198418420726750.0\n",
      "  샘플 94/123 처리 중...\n",
      "  [solve] 세대 0: 초기 모집단 생성됨 (크기: 20)\n",
      "  [solve] 세대 0: 단일 염색체 크기: 300)\n",
      "세대 258에서 조기 종료: 200 세대 동안 개선 없음.\n",
      "  샘플 94 완료. Best Score: 104066024244200.0\n",
      "  샘플 95/123 처리 중...\n",
      "  [solve] 세대 0: 초기 모집단 생성됨 (크기: 20)\n",
      "  [solve] 세대 0: 단일 염색체 크기: 120)\n",
      "세대 380에서 조기 종료: 200 세대 동안 개선 없음.\n",
      "  샘플 95 완료. Best Score: 499530\n",
      "  샘플 96/123 처리 중...\n",
      "  [solve] 세대 0: 초기 모집단 생성됨 (크기: 20)\n",
      "  [solve] 세대 0: 단일 염색체 크기: 72)\n",
      "세대 257에서 조기 종료: 200 세대 동안 개선 없음.\n",
      "  샘플 96 완료. Best Score: 1608202\n",
      "  샘플 97/123 처리 중...\n",
      "  [solve] 세대 0: 초기 모집단 생성됨 (크기: 20)\n",
      "  [solve] 세대 0: 단일 염색체 크기: 192)\n",
      "  샘플 97 완료. Best Score: 2728178.0\n",
      "  샘플 98/123 처리 중...\n",
      "  [solve] 세대 0: 초기 모집단 생성됨 (크기: 20)\n",
      "  [solve] 세대 0: 단일 염색체 크기: 240)\n",
      "세대 314에서 조기 종료: 200 세대 동안 개선 없음.\n",
      "  샘플 98 완료. Best Score: 11210229010744.0\n",
      "  샘플 99/123 처리 중...\n",
      "  [solve] 세대 0: 초기 모집단 생성됨 (크기: 20)\n",
      "  [solve] 세대 0: 단일 염색체 크기: 240)\n",
      "세대 275에서 조기 종료: 200 세대 동안 개선 없음.\n",
      "  샘플 99 완료. Best Score: 23666028522384.0\n",
      "  샘플 100/123 처리 중...\n",
      "  [solve] 세대 0: 초기 모집단 생성됨 (크기: 20)\n",
      "  [solve] 세대 0: 단일 염색체 크기: 345)\n",
      "세대 205에서 조기 종료: 200 세대 동안 개선 없음.\n",
      "  샘플 100 완료. Best Score: 0.0\n",
      "  샘플 101/123 처리 중...\n",
      "  [solve] 세대 0: 초기 모집단 생성됨 (크기: 20)\n",
      "  [solve] 세대 0: 단일 염색체 크기: 160)\n",
      "세대 201에서 조기 종료: 200 세대 동안 개선 없음.\n",
      "  샘플 101 완료. Best Score: 0.0\n",
      "  샘플 102/123 처리 중...\n",
      "  [solve] 세대 0: 초기 모집단 생성됨 (크기: 20)\n",
      "  [solve] 세대 0: 단일 염색체 크기: 100)\n",
      "세대 201에서 조기 종료: 200 세대 동안 개선 없음.\n",
      "  샘플 102 완료. Best Score: 0.0\n",
      "  샘플 103/123 처리 중...\n",
      "  [solve] 세대 0: 초기 모집단 생성됨 (크기: 20)\n",
      "  [solve] 세대 0: 단일 염색체 크기: 100)\n",
      "세대 206에서 조기 종료: 200 세대 동안 개선 없음.\n",
      "  샘플 103 완료. Best Score: 17322840.0\n",
      "  샘플 104/123 처리 중...\n",
      "  [solve] 세대 0: 초기 모집단 생성됨 (크기: 20)\n",
      "  [solve] 세대 0: 단일 염색체 크기: 65)\n",
      "세대 208에서 조기 종료: 200 세대 동안 개선 없음.\n",
      "  샘플 104 완료. Best Score: 17322840.0\n",
      "  샘플 105/123 처리 중...\n",
      "  [solve] 세대 0: 초기 모집단 생성됨 (크기: 20)\n",
      "  [solve] 세대 0: 단일 염색체 크기: 130)\n",
      "세대 369에서 조기 종료: 200 세대 동안 개선 없음.\n",
      "  샘플 105 완료. Best Score: 17322840.0\n",
      "  샘플 106/123 처리 중...\n",
      "  [solve] 세대 0: 초기 모집단 생성됨 (크기: 20)\n",
      "  [solve] 세대 0: 단일 염색체 크기: 130)\n",
      "세대 390에서 조기 종료: 200 세대 동안 개선 없음.\n",
      "  샘플 106 완료. Best Score: 17354000.0\n",
      "  샘플 107/123 처리 중...\n",
      "  [solve] 세대 0: 초기 모집단 생성됨 (크기: 20)\n",
      "  [solve] 세대 0: 단일 염색체 크기: 210)\n",
      "세대 346에서 조기 종료: 200 세대 동안 개선 없음.\n",
      "  샘플 107 완료. Best Score: 17354000.0\n",
      "  샘플 108/123 처리 중...\n",
      "  [solve] 세대 0: 초기 모집단 생성됨 (크기: 20)\n",
      "  [solve] 세대 0: 단일 염색체 크기: 195)\n",
      "세대 456에서 조기 종료: 200 세대 동안 개선 없음.\n",
      "  샘플 108 완료. Best Score: 3178560218120.0\n",
      "  샘플 109/123 처리 중...\n",
      "  [solve] 세대 0: 초기 모집단 생성됨 (크기: 20)\n",
      "  [solve] 세대 0: 단일 염색체 크기: 180)\n",
      "세대 345에서 조기 종료: 200 세대 동안 개선 없음.\n",
      "  샘플 109 완료. Best Score: 3900960155800.0\n",
      "  샘플 110/123 처리 중...\n",
      "  [solve] 세대 0: 초기 모집단 생성됨 (크기: 20)\n",
      "  [solve] 세대 0: 단일 염색체 크기: 270)\n",
      "세대 372에서 조기 종료: 200 세대 동안 개선 없음.\n",
      "  샘플 110 완료. Best Score: 10980481155880.0\n",
      "  샘플 111/123 처리 중...\n",
      "  [solve] 세대 0: 초기 모집단 생성됨 (크기: 20)\n",
      "  [solve] 세대 0: 단일 염색체 크기: 180)\n",
      "세대 202에서 조기 종료: 200 세대 동안 개선 없음.\n",
      "  샘플 111 완료. Best Score: 8981200000000.0\n",
      "  샘플 112/123 처리 중...\n",
      "  [solve] 세대 0: 초기 모집단 생성됨 (크기: 20)\n",
      "  [solve] 세대 0: 단일 염색체 크기: 270)\n",
      "세대 430에서 조기 종료: 200 세대 동안 개선 없음.\n",
      "  샘플 112 완료. Best Score: 10547040827860.0\n",
      "  샘플 113/123 처리 중...\n",
      "  [solve] 세대 0: 초기 모집단 생성됨 (크기: 20)\n",
      "  [solve] 세대 0: 단일 염색체 크기: 210)\n",
      "세대 464에서 조기 종료: 200 세대 동안 개선 없음.\n",
      "  샘플 113 완료. Best Score: 0.0\n",
      "  샘플 114/123 처리 중...\n",
      "  [solve] 세대 0: 초기 모집단 생성됨 (크기: 20)\n",
      "  [solve] 세대 0: 단일 염색체 크기: 210)\n",
      "  샘플 114 완료. Best Score: 7810.0\n",
      "  샘플 115/123 처리 중...\n",
      "  [solve] 세대 0: 초기 모집단 생성됨 (크기: 20)\n",
      "  [solve] 세대 0: 단일 염색체 크기: 195)\n",
      "세대 201에서 조기 종료: 200 세대 동안 개선 없음.\n",
      "  샘플 115 완료. Best Score: 0.0\n",
      "  샘플 116/123 처리 중...\n",
      "  [solve] 세대 0: 초기 모집단 생성됨 (크기: 20)\n",
      "  [solve] 세대 0: 단일 염색체 크기: 225)\n",
      "세대 424에서 조기 종료: 200 세대 동안 개선 없음.\n",
      "  샘플 116 완료. Best Score: 7480000000000.0\n",
      "  샘플 117/123 처리 중...\n",
      "  [solve] 세대 0: 초기 모집단 생성됨 (크기: 20)\n",
      "  [solve] 세대 0: 단일 염색체 크기: 240)\n",
      "  샘플 117 완료. Best Score: 24820000000000.0\n",
      "  샘플 118/123 처리 중...\n",
      "  [solve] 세대 0: 초기 모집단 생성됨 (크기: 20)\n",
      "  [solve] 세대 0: 단일 염색체 크기: 336)\n",
      "세대 453에서 조기 종료: 200 세대 동안 개선 없음.\n",
      "  샘플 118 완료. Best Score: 64629480000000.0\n",
      "  샘플 119/123 처리 중...\n",
      "  [solve] 세대 0: 초기 모집단 생성됨 (크기: 20)\n",
      "  [solve] 세대 0: 단일 염색체 크기: 336)\n",
      "세대 415에서 조기 종료: 200 세대 동안 개선 없음.\n",
      "  샘플 119 완료. Best Score: 61770230000000.0\n",
      "  샘플 120/123 처리 중...\n",
      "  [solve] 세대 0: 초기 모집단 생성됨 (크기: 20)\n",
      "  [solve] 세대 0: 단일 염색체 크기: 336)\n",
      "세대 433에서 조기 종료: 200 세대 동안 개선 없음.\n",
      "  샘플 120 완료. Best Score: 60527434602750.0\n",
      "  샘플 121/123 처리 중...\n",
      "  [solve] 세대 0: 초기 모집단 생성됨 (크기: 20)\n",
      "  [solve] 세대 0: 단일 염색체 크기: 440)\n",
      "세대 228에서 조기 종료: 200 세대 동안 개선 없음.\n",
      "  샘플 121 완료. Best Score: 45161524118250.0\n",
      "  샘플 122/123 처리 중...\n",
      "  [solve] 세대 0: 초기 모집단 생성됨 (크기: 20)\n",
      "  [solve] 세대 0: 단일 염색체 크기: 575)\n",
      "세대 468에서 조기 종료: 200 세대 동안 개선 없음.\n",
      "  샘플 122 완료. Best Score: 39806573876000.0\n",
      "  샘플 123/123 처리 중...\n",
      "  [solve] 세대 0: 초기 모집단 생성됨 (크기: 20)\n",
      "  [solve] 세대 0: 단일 염색체 크기: 400)\n",
      "세대 240에서 조기 종료: 200 세대 동안 개선 없음.\n",
      "  샘플 123 완료. Best Score: 1804950\n",
      "최종 GT 리스트 저장 완료 (gt_n5_refactored_final.pkl).\n",
      "\n",
      "--- 리팩토링된 GA 최종 실행 요약 ---\n",
      "처리된 샘플 수: 123\n"
     ]
    }
   ],
   "source": [
    "if 'dataset_for_ga' in globals() and dataset_for_ga: # dataset_for_ga는 전체 데이터셋\n",
    "    # dataset_for_ga 전체 또는 일부(temp0)를 사용\n",
    "    # 예시: dataset_to_process_now = temp0_test_samples # 축소 실행 시\n",
    "    dataset_to_process_now = dataset_for_ga # 전체 실행 시\n",
    "\n",
    "    final_scores, final_gt_list, final_logs, _ = \\\n",
    "        generate_ground_truth_with_refactored_ga(dataset_to_process_now, ga_fixed_hyperparams)\n",
    "    best_scores_ls_refac = final_scores\n",
    "    print(\"\\n--- 리팩토링된 GA 최종 실행 요약 ---\")\n",
    "    print(f\"처리된 샘플 수: {len(final_scores)}\")\n",
    "    # print(f\"평균 Best Score: {np.mean(final_scores) if final_scores else 'N/A'}\")\n",
    "    # print(f\"첫 번째 샘플의 GT (상위 3개):\")\n",
    "    # if final_gt_list and not final_gt_list[0].empty:\n",
    "    #     print(final_gt_list[0].head(3))\n",
    "\n",
    "else:\n",
    "    print(\"dataset_for_ga가 준비되지 않아 실행할 수 없습니다.\")\n"
   ]
  },
  {
   "cell_type": "code",
   "execution_count": 108,
   "id": "bd94e9fd",
   "metadata": {},
   "outputs": [
    {
     "data": {
      "text/html": [
       "<div>\n",
       "<style scoped>\n",
       "    .dataframe tbody tr th:only-of-type {\n",
       "        vertical-align: middle;\n",
       "    }\n",
       "\n",
       "    .dataframe tbody tr th {\n",
       "        vertical-align: top;\n",
       "    }\n",
       "\n",
       "    .dataframe thead th {\n",
       "        text-align: right;\n",
       "    }\n",
       "</style>\n",
       "<table border=\"1\" class=\"dataframe\">\n",
       "  <thead>\n",
       "    <tr style=\"text-align: right;\">\n",
       "      <th></th>\n",
       "      <th>(item, machine, time)</th>\n",
       "      <th>qty</th>\n",
       "    </tr>\n",
       "  </thead>\n",
       "  <tbody>\n",
       "    <tr>\n",
       "      <th>1</th>\n",
       "      <td>(item15, machine30, date133)</td>\n",
       "      <td>9</td>\n",
       "    </tr>\n",
       "    <tr>\n",
       "      <th>21</th>\n",
       "      <td>(item15, machine04, date133)</td>\n",
       "      <td>35</td>\n",
       "    </tr>\n",
       "    <tr>\n",
       "      <th>41</th>\n",
       "      <td>(item15, machine14, date133)</td>\n",
       "      <td>17</td>\n",
       "    </tr>\n",
       "    <tr>\n",
       "      <th>56</th>\n",
       "      <td>(item15, machine10, date133)</td>\n",
       "      <td>45</td>\n",
       "    </tr>\n",
       "    <tr>\n",
       "      <th>61</th>\n",
       "      <td>(item15, machine33, date133)</td>\n",
       "      <td>131</td>\n",
       "    </tr>\n",
       "    <tr>\n",
       "      <th>106</th>\n",
       "      <td>(item15, machine07, date133)</td>\n",
       "      <td>47</td>\n",
       "    </tr>\n",
       "    <tr>\n",
       "      <th>173</th>\n",
       "      <td>(item87, machine21, date169)</td>\n",
       "      <td>16</td>\n",
       "    </tr>\n",
       "    <tr>\n",
       "      <th>188</th>\n",
       "      <td>(item87, machine33, date169)</td>\n",
       "      <td>29</td>\n",
       "    </tr>\n",
       "    <tr>\n",
       "      <th>208</th>\n",
       "      <td>(item87, machine32, date169)</td>\n",
       "      <td>54</td>\n",
       "    </tr>\n",
       "    <tr>\n",
       "      <th>228</th>\n",
       "      <td>(item87, machine03, date169)</td>\n",
       "      <td>83</td>\n",
       "    </tr>\n",
       "    <tr>\n",
       "      <th>250</th>\n",
       "      <td>(item96, machine30, date150)</td>\n",
       "      <td>11</td>\n",
       "    </tr>\n",
       "    <tr>\n",
       "      <th>255</th>\n",
       "      <td>(item96, machine23, date150)</td>\n",
       "      <td>5</td>\n",
       "    </tr>\n",
       "    <tr>\n",
       "      <th>265</th>\n",
       "      <td>(item96, machine28, date150)</td>\n",
       "      <td>5</td>\n",
       "    </tr>\n",
       "    <tr>\n",
       "      <th>275</th>\n",
       "      <td>(item96, machine12, date150)</td>\n",
       "      <td>8</td>\n",
       "    </tr>\n",
       "    <tr>\n",
       "      <th>285</th>\n",
       "      <td>(item96, machine22, date150)</td>\n",
       "      <td>18</td>\n",
       "    </tr>\n",
       "    <tr>\n",
       "      <th>290</th>\n",
       "      <td>(item96, machine14, date150)</td>\n",
       "      <td>11</td>\n",
       "    </tr>\n",
       "    <tr>\n",
       "      <th>295</th>\n",
       "      <td>(item96, machine21, date150)</td>\n",
       "      <td>8</td>\n",
       "    </tr>\n",
       "    <tr>\n",
       "      <th>305</th>\n",
       "      <td>(item96, machine10, date150)</td>\n",
       "      <td>1</td>\n",
       "    </tr>\n",
       "    <tr>\n",
       "      <th>325</th>\n",
       "      <td>(item96, machine09, date150)</td>\n",
       "      <td>4</td>\n",
       "    </tr>\n",
       "    <tr>\n",
       "      <th>335</th>\n",
       "      <td>(item96, machine08, date150)</td>\n",
       "      <td>9</td>\n",
       "    </tr>\n",
       "    <tr>\n",
       "      <th>360</th>\n",
       "      <td>(item96, machine34, date150)</td>\n",
       "      <td>7</td>\n",
       "    </tr>\n",
       "    <tr>\n",
       "      <th>365</th>\n",
       "      <td>(item96, machine29, date150)</td>\n",
       "      <td>5</td>\n",
       "    </tr>\n",
       "    <tr>\n",
       "      <th>370</th>\n",
       "      <td>(item96, machine35, date150)</td>\n",
       "      <td>4</td>\n",
       "    </tr>\n",
       "    <tr>\n",
       "      <th>392</th>\n",
       "      <td>(item91, machine28, date154)</td>\n",
       "      <td>3</td>\n",
       "    </tr>\n",
       "    <tr>\n",
       "      <th>417</th>\n",
       "      <td>(item91, machine14, date154)</td>\n",
       "      <td>1</td>\n",
       "    </tr>\n",
       "    <tr>\n",
       "      <th>432</th>\n",
       "      <td>(item91, machine10, date154)</td>\n",
       "      <td>1</td>\n",
       "    </tr>\n",
       "    <tr>\n",
       "      <th>462</th>\n",
       "      <td>(item91, machine08, date154)</td>\n",
       "      <td>2</td>\n",
       "    </tr>\n",
       "    <tr>\n",
       "      <th>487</th>\n",
       "      <td>(item91, machine34, date154)</td>\n",
       "      <td>4</td>\n",
       "    </tr>\n",
       "    <tr>\n",
       "      <th>492</th>\n",
       "      <td>(item91, machine29, date154)</td>\n",
       "      <td>2</td>\n",
       "    </tr>\n",
       "    <tr>\n",
       "      <th>497</th>\n",
       "      <td>(item91, machine35, date154)</td>\n",
       "      <td>1</td>\n",
       "    </tr>\n",
       "    <tr>\n",
       "      <th>519</th>\n",
       "      <td>(item16, machine28, date144)</td>\n",
       "      <td>39</td>\n",
       "    </tr>\n",
       "    <tr>\n",
       "      <th>544</th>\n",
       "      <td>(item16, machine14, date144)</td>\n",
       "      <td>196</td>\n",
       "    </tr>\n",
       "    <tr>\n",
       "      <th>549</th>\n",
       "      <td>(item16, machine21, date144)</td>\n",
       "      <td>18</td>\n",
       "    </tr>\n",
       "    <tr>\n",
       "      <th>559</th>\n",
       "      <td>(item16, machine10, date144)</td>\n",
       "      <td>113</td>\n",
       "    </tr>\n",
       "  </tbody>\n",
       "</table>\n",
       "</div>"
      ],
      "text/plain": [
       "            (item, machine, time)  qty\n",
       "1    (item15, machine30, date133)    9\n",
       "21   (item15, machine04, date133)   35\n",
       "41   (item15, machine14, date133)   17\n",
       "56   (item15, machine10, date133)   45\n",
       "61   (item15, machine33, date133)  131\n",
       "106  (item15, machine07, date133)   47\n",
       "173  (item87, machine21, date169)   16\n",
       "188  (item87, machine33, date169)   29\n",
       "208  (item87, machine32, date169)   54\n",
       "228  (item87, machine03, date169)   83\n",
       "250  (item96, machine30, date150)   11\n",
       "255  (item96, machine23, date150)    5\n",
       "265  (item96, machine28, date150)    5\n",
       "275  (item96, machine12, date150)    8\n",
       "285  (item96, machine22, date150)   18\n",
       "290  (item96, machine14, date150)   11\n",
       "295  (item96, machine21, date150)    8\n",
       "305  (item96, machine10, date150)    1\n",
       "325  (item96, machine09, date150)    4\n",
       "335  (item96, machine08, date150)    9\n",
       "360  (item96, machine34, date150)    7\n",
       "365  (item96, machine29, date150)    5\n",
       "370  (item96, machine35, date150)    4\n",
       "392  (item91, machine28, date154)    3\n",
       "417  (item91, machine14, date154)    1\n",
       "432  (item91, machine10, date154)    1\n",
       "462  (item91, machine08, date154)    2\n",
       "487  (item91, machine34, date154)    4\n",
       "492  (item91, machine29, date154)    2\n",
       "497  (item91, machine35, date154)    1\n",
       "519  (item16, machine28, date144)   39\n",
       "544  (item16, machine14, date144)  196\n",
       "549  (item16, machine21, date144)   18\n",
       "559  (item16, machine10, date144)  113"
      ]
     },
     "execution_count": 108,
     "metadata": {},
     "output_type": "execute_result"
    }
   ],
   "source": [
    "with open('gt_n5.pkl', 'rb') as f:\n",
    "    gt_ls = pickle.load(f)\n",
    "\n",
    "gt_ls[0]"
   ]
  },
  {
   "cell_type": "code",
   "execution_count": 243,
   "id": "092dc5da-6dd1-4887-9645-4fd89225bd9d",
   "metadata": {},
   "outputs": [
    {
     "data": {
      "text/html": [
       "<div>\n",
       "<style scoped>\n",
       "    .dataframe tbody tr th:only-of-type {\n",
       "        vertical-align: middle;\n",
       "    }\n",
       "\n",
       "    .dataframe tbody tr th {\n",
       "        vertical-align: top;\n",
       "    }\n",
       "\n",
       "    .dataframe thead th {\n",
       "        text-align: right;\n",
       "    }\n",
       "</style>\n",
       "<table border=\"1\" class=\"dataframe\">\n",
       "  <thead>\n",
       "    <tr style=\"text-align: right;\">\n",
       "      <th></th>\n",
       "      <th>item</th>\n",
       "      <th>machine</th>\n",
       "      <th>time</th>\n",
       "      <th>qty</th>\n",
       "    </tr>\n",
       "  </thead>\n",
       "  <tbody>\n",
       "    <tr>\n",
       "      <th>0</th>\n",
       "      <td>item15</td>\n",
       "      <td>machine04</td>\n",
       "      <td>date133</td>\n",
       "      <td>23</td>\n",
       "    </tr>\n",
       "    <tr>\n",
       "      <th>1</th>\n",
       "      <td>item15</td>\n",
       "      <td>machine05</td>\n",
       "      <td>date133</td>\n",
       "      <td>89</td>\n",
       "    </tr>\n",
       "    <tr>\n",
       "      <th>2</th>\n",
       "      <td>item15</td>\n",
       "      <td>machine07</td>\n",
       "      <td>date133</td>\n",
       "      <td>198</td>\n",
       "    </tr>\n",
       "    <tr>\n",
       "      <th>3</th>\n",
       "      <td>item15</td>\n",
       "      <td>machine08</td>\n",
       "      <td>date133</td>\n",
       "      <td>35</td>\n",
       "    </tr>\n",
       "    <tr>\n",
       "      <th>4</th>\n",
       "      <td>item15</td>\n",
       "      <td>machine09</td>\n",
       "      <td>date133</td>\n",
       "      <td>303</td>\n",
       "    </tr>\n",
       "    <tr>\n",
       "      <th>...</th>\n",
       "      <td>...</td>\n",
       "      <td>...</td>\n",
       "      <td>...</td>\n",
       "      <td>...</td>\n",
       "    </tr>\n",
       "    <tr>\n",
       "      <th>58</th>\n",
       "      <td>item87</td>\n",
       "      <td>machine19</td>\n",
       "      <td>date169</td>\n",
       "      <td>114</td>\n",
       "    </tr>\n",
       "    <tr>\n",
       "      <th>59</th>\n",
       "      <td>item87</td>\n",
       "      <td>machine20</td>\n",
       "      <td>date169</td>\n",
       "      <td>18</td>\n",
       "    </tr>\n",
       "    <tr>\n",
       "      <th>60</th>\n",
       "      <td>item87</td>\n",
       "      <td>machine21</td>\n",
       "      <td>date169</td>\n",
       "      <td>23</td>\n",
       "    </tr>\n",
       "    <tr>\n",
       "      <th>61</th>\n",
       "      <td>item87</td>\n",
       "      <td>machine32</td>\n",
       "      <td>date169</td>\n",
       "      <td>173</td>\n",
       "    </tr>\n",
       "    <tr>\n",
       "      <th>62</th>\n",
       "      <td>item87</td>\n",
       "      <td>machine33</td>\n",
       "      <td>date169</td>\n",
       "      <td>13</td>\n",
       "    </tr>\n",
       "  </tbody>\n",
       "</table>\n",
       "<p>63 rows × 4 columns</p>\n",
       "</div>"
      ],
      "text/plain": [
       "      item    machine     time  qty\n",
       "0   item15  machine04  date133   23\n",
       "1   item15  machine05  date133   89\n",
       "2   item15  machine07  date133  198\n",
       "3   item15  machine08  date133   35\n",
       "4   item15  machine09  date133  303\n",
       "..     ...        ...      ...  ...\n",
       "58  item87  machine19  date169  114\n",
       "59  item87  machine20  date169   18\n",
       "60  item87  machine21  date169   23\n",
       "61  item87  machine32  date169  173\n",
       "62  item87  machine33  date169   13\n",
       "\n",
       "[63 rows x 4 columns]"
      ]
     },
     "execution_count": 243,
     "metadata": {},
     "output_type": "execute_result"
    }
   ],
   "source": [
    "with open('gt_n5_refactored_final.pkl', 'rb') as f:\n",
    "    refactored_gt_ls = pickle.load(f)\n",
    "\n",
    "refactored_gt_ls[0]"
   ]
  },
  {
   "cell_type": "code",
   "execution_count": 109,
   "id": "11a00556",
   "metadata": {},
   "outputs": [
    {
     "data": {
      "text/html": [
       "<div>\n",
       "<style scoped>\n",
       "    .dataframe tbody tr th:only-of-type {\n",
       "        vertical-align: middle;\n",
       "    }\n",
       "\n",
       "    .dataframe tbody tr th {\n",
       "        vertical-align: top;\n",
       "    }\n",
       "\n",
       "    .dataframe thead th {\n",
       "        text-align: right;\n",
       "    }\n",
       "</style>\n",
       "<table border=\"1\" class=\"dataframe\">\n",
       "  <thead>\n",
       "    <tr style=\"text-align: right;\">\n",
       "      <th></th>\n",
       "      <th>item</th>\n",
       "      <th>machine</th>\n",
       "      <th>time</th>\n",
       "      <th>qty</th>\n",
       "    </tr>\n",
       "  </thead>\n",
       "  <tbody>\n",
       "    <tr>\n",
       "      <th>21</th>\n",
       "      <td>item15</td>\n",
       "      <td>machine04</td>\n",
       "      <td>date133</td>\n",
       "      <td>35</td>\n",
       "    </tr>\n",
       "    <tr>\n",
       "      <th>106</th>\n",
       "      <td>item15</td>\n",
       "      <td>machine07</td>\n",
       "      <td>date133</td>\n",
       "      <td>47</td>\n",
       "    </tr>\n",
       "    <tr>\n",
       "      <th>56</th>\n",
       "      <td>item15</td>\n",
       "      <td>machine10</td>\n",
       "      <td>date133</td>\n",
       "      <td>45</td>\n",
       "    </tr>\n",
       "    <tr>\n",
       "      <th>41</th>\n",
       "      <td>item15</td>\n",
       "      <td>machine14</td>\n",
       "      <td>date133</td>\n",
       "      <td>17</td>\n",
       "    </tr>\n",
       "    <tr>\n",
       "      <th>1</th>\n",
       "      <td>item15</td>\n",
       "      <td>machine30</td>\n",
       "      <td>date133</td>\n",
       "      <td>9</td>\n",
       "    </tr>\n",
       "    <tr>\n",
       "      <th>61</th>\n",
       "      <td>item15</td>\n",
       "      <td>machine33</td>\n",
       "      <td>date133</td>\n",
       "      <td>131</td>\n",
       "    </tr>\n",
       "    <tr>\n",
       "      <th>559</th>\n",
       "      <td>item16</td>\n",
       "      <td>machine10</td>\n",
       "      <td>date144</td>\n",
       "      <td>113</td>\n",
       "    </tr>\n",
       "    <tr>\n",
       "      <th>544</th>\n",
       "      <td>item16</td>\n",
       "      <td>machine14</td>\n",
       "      <td>date144</td>\n",
       "      <td>196</td>\n",
       "    </tr>\n",
       "    <tr>\n",
       "      <th>549</th>\n",
       "      <td>item16</td>\n",
       "      <td>machine21</td>\n",
       "      <td>date144</td>\n",
       "      <td>18</td>\n",
       "    </tr>\n",
       "    <tr>\n",
       "      <th>519</th>\n",
       "      <td>item16</td>\n",
       "      <td>machine28</td>\n",
       "      <td>date144</td>\n",
       "      <td>39</td>\n",
       "    </tr>\n",
       "    <tr>\n",
       "      <th>335</th>\n",
       "      <td>item96</td>\n",
       "      <td>machine08</td>\n",
       "      <td>date150</td>\n",
       "      <td>9</td>\n",
       "    </tr>\n",
       "    <tr>\n",
       "      <th>325</th>\n",
       "      <td>item96</td>\n",
       "      <td>machine09</td>\n",
       "      <td>date150</td>\n",
       "      <td>4</td>\n",
       "    </tr>\n",
       "    <tr>\n",
       "      <th>305</th>\n",
       "      <td>item96</td>\n",
       "      <td>machine10</td>\n",
       "      <td>date150</td>\n",
       "      <td>1</td>\n",
       "    </tr>\n",
       "    <tr>\n",
       "      <th>275</th>\n",
       "      <td>item96</td>\n",
       "      <td>machine12</td>\n",
       "      <td>date150</td>\n",
       "      <td>8</td>\n",
       "    </tr>\n",
       "    <tr>\n",
       "      <th>290</th>\n",
       "      <td>item96</td>\n",
       "      <td>machine14</td>\n",
       "      <td>date150</td>\n",
       "      <td>11</td>\n",
       "    </tr>\n",
       "    <tr>\n",
       "      <th>295</th>\n",
       "      <td>item96</td>\n",
       "      <td>machine21</td>\n",
       "      <td>date150</td>\n",
       "      <td>8</td>\n",
       "    </tr>\n",
       "    <tr>\n",
       "      <th>285</th>\n",
       "      <td>item96</td>\n",
       "      <td>machine22</td>\n",
       "      <td>date150</td>\n",
       "      <td>18</td>\n",
       "    </tr>\n",
       "    <tr>\n",
       "      <th>255</th>\n",
       "      <td>item96</td>\n",
       "      <td>machine23</td>\n",
       "      <td>date150</td>\n",
       "      <td>5</td>\n",
       "    </tr>\n",
       "    <tr>\n",
       "      <th>265</th>\n",
       "      <td>item96</td>\n",
       "      <td>machine28</td>\n",
       "      <td>date150</td>\n",
       "      <td>5</td>\n",
       "    </tr>\n",
       "    <tr>\n",
       "      <th>365</th>\n",
       "      <td>item96</td>\n",
       "      <td>machine29</td>\n",
       "      <td>date150</td>\n",
       "      <td>5</td>\n",
       "    </tr>\n",
       "    <tr>\n",
       "      <th>250</th>\n",
       "      <td>item96</td>\n",
       "      <td>machine30</td>\n",
       "      <td>date150</td>\n",
       "      <td>11</td>\n",
       "    </tr>\n",
       "    <tr>\n",
       "      <th>360</th>\n",
       "      <td>item96</td>\n",
       "      <td>machine34</td>\n",
       "      <td>date150</td>\n",
       "      <td>7</td>\n",
       "    </tr>\n",
       "    <tr>\n",
       "      <th>370</th>\n",
       "      <td>item96</td>\n",
       "      <td>machine35</td>\n",
       "      <td>date150</td>\n",
       "      <td>4</td>\n",
       "    </tr>\n",
       "    <tr>\n",
       "      <th>462</th>\n",
       "      <td>item91</td>\n",
       "      <td>machine08</td>\n",
       "      <td>date154</td>\n",
       "      <td>2</td>\n",
       "    </tr>\n",
       "    <tr>\n",
       "      <th>432</th>\n",
       "      <td>item91</td>\n",
       "      <td>machine10</td>\n",
       "      <td>date154</td>\n",
       "      <td>1</td>\n",
       "    </tr>\n",
       "    <tr>\n",
       "      <th>417</th>\n",
       "      <td>item91</td>\n",
       "      <td>machine14</td>\n",
       "      <td>date154</td>\n",
       "      <td>1</td>\n",
       "    </tr>\n",
       "    <tr>\n",
       "      <th>392</th>\n",
       "      <td>item91</td>\n",
       "      <td>machine28</td>\n",
       "      <td>date154</td>\n",
       "      <td>3</td>\n",
       "    </tr>\n",
       "    <tr>\n",
       "      <th>492</th>\n",
       "      <td>item91</td>\n",
       "      <td>machine29</td>\n",
       "      <td>date154</td>\n",
       "      <td>2</td>\n",
       "    </tr>\n",
       "    <tr>\n",
       "      <th>487</th>\n",
       "      <td>item91</td>\n",
       "      <td>machine34</td>\n",
       "      <td>date154</td>\n",
       "      <td>4</td>\n",
       "    </tr>\n",
       "    <tr>\n",
       "      <th>497</th>\n",
       "      <td>item91</td>\n",
       "      <td>machine35</td>\n",
       "      <td>date154</td>\n",
       "      <td>1</td>\n",
       "    </tr>\n",
       "    <tr>\n",
       "      <th>228</th>\n",
       "      <td>item87</td>\n",
       "      <td>machine03</td>\n",
       "      <td>date169</td>\n",
       "      <td>83</td>\n",
       "    </tr>\n",
       "    <tr>\n",
       "      <th>173</th>\n",
       "      <td>item87</td>\n",
       "      <td>machine21</td>\n",
       "      <td>date169</td>\n",
       "      <td>16</td>\n",
       "    </tr>\n",
       "    <tr>\n",
       "      <th>208</th>\n",
       "      <td>item87</td>\n",
       "      <td>machine32</td>\n",
       "      <td>date169</td>\n",
       "      <td>54</td>\n",
       "    </tr>\n",
       "    <tr>\n",
       "      <th>188</th>\n",
       "      <td>item87</td>\n",
       "      <td>machine33</td>\n",
       "      <td>date169</td>\n",
       "      <td>29</td>\n",
       "    </tr>\n",
       "  </tbody>\n",
       "</table>\n",
       "</div>"
      ],
      "text/plain": [
       "       item    machine     time  qty\n",
       "21   item15  machine04  date133   35\n",
       "106  item15  machine07  date133   47\n",
       "56   item15  machine10  date133   45\n",
       "41   item15  machine14  date133   17\n",
       "1    item15  machine30  date133    9\n",
       "61   item15  machine33  date133  131\n",
       "559  item16  machine10  date144  113\n",
       "544  item16  machine14  date144  196\n",
       "549  item16  machine21  date144   18\n",
       "519  item16  machine28  date144   39\n",
       "335  item96  machine08  date150    9\n",
       "325  item96  machine09  date150    4\n",
       "305  item96  machine10  date150    1\n",
       "275  item96  machine12  date150    8\n",
       "290  item96  machine14  date150   11\n",
       "295  item96  machine21  date150    8\n",
       "285  item96  machine22  date150   18\n",
       "255  item96  machine23  date150    5\n",
       "265  item96  machine28  date150    5\n",
       "365  item96  machine29  date150    5\n",
       "250  item96  machine30  date150   11\n",
       "360  item96  machine34  date150    7\n",
       "370  item96  machine35  date150    4\n",
       "462  item91  machine08  date154    2\n",
       "432  item91  machine10  date154    1\n",
       "417  item91  machine14  date154    1\n",
       "392  item91  machine28  date154    3\n",
       "492  item91  machine29  date154    2\n",
       "487  item91  machine34  date154    4\n",
       "497  item91  machine35  date154    1\n",
       "228  item87  machine03  date169   83\n",
       "173  item87  machine21  date169   16\n",
       "208  item87  machine32  date169   54\n",
       "188  item87  machine33  date169   29"
      ]
     },
     "execution_count": 109,
     "metadata": {},
     "output_type": "execute_result"
    }
   ],
   "source": [
    "# GT 결과값 데이테프레임화\n",
    "for idx, gt in enumerate(gt_ls):\n",
    "    gt[['item', 'machine', 'time']] = pd.DataFrame(gt['(item, machine, time)'].tolist(), index=gt.index)\n",
    "    gt = gt.drop(columns='(item, machine, time)')\n",
    "    gt = gt[['item', 'machine', 'time', 'qty']].sort_values(['time', 'item', 'machine', 'qty'])\n",
    "    gt_ls[idx] = gt\n",
    "\n",
    "gt_ls[0]"
   ]
  },
  {
   "cell_type": "code",
   "execution_count": 244,
   "id": "be353294-1f86-4418-bdc0-67ed77a95629",
   "metadata": {},
   "outputs": [
    {
     "data": {
      "text/html": [
       "<div>\n",
       "<style scoped>\n",
       "    .dataframe tbody tr th:only-of-type {\n",
       "        vertical-align: middle;\n",
       "    }\n",
       "\n",
       "    .dataframe tbody tr th {\n",
       "        vertical-align: top;\n",
       "    }\n",
       "\n",
       "    .dataframe thead th {\n",
       "        text-align: right;\n",
       "    }\n",
       "</style>\n",
       "<table border=\"1\" class=\"dataframe\">\n",
       "  <thead>\n",
       "    <tr style=\"text-align: right;\">\n",
       "      <th></th>\n",
       "      <th>item</th>\n",
       "      <th>machine</th>\n",
       "      <th>time</th>\n",
       "      <th>qty</th>\n",
       "    </tr>\n",
       "  </thead>\n",
       "  <tbody>\n",
       "    <tr>\n",
       "      <th>0</th>\n",
       "      <td>item15</td>\n",
       "      <td>machine04</td>\n",
       "      <td>date133</td>\n",
       "      <td>23</td>\n",
       "    </tr>\n",
       "    <tr>\n",
       "      <th>1</th>\n",
       "      <td>item15</td>\n",
       "      <td>machine05</td>\n",
       "      <td>date133</td>\n",
       "      <td>89</td>\n",
       "    </tr>\n",
       "    <tr>\n",
       "      <th>2</th>\n",
       "      <td>item15</td>\n",
       "      <td>machine07</td>\n",
       "      <td>date133</td>\n",
       "      <td>198</td>\n",
       "    </tr>\n",
       "    <tr>\n",
       "      <th>3</th>\n",
       "      <td>item15</td>\n",
       "      <td>machine08</td>\n",
       "      <td>date133</td>\n",
       "      <td>35</td>\n",
       "    </tr>\n",
       "    <tr>\n",
       "      <th>4</th>\n",
       "      <td>item15</td>\n",
       "      <td>machine09</td>\n",
       "      <td>date133</td>\n",
       "      <td>303</td>\n",
       "    </tr>\n",
       "    <tr>\n",
       "      <th>...</th>\n",
       "      <td>...</td>\n",
       "      <td>...</td>\n",
       "      <td>...</td>\n",
       "      <td>...</td>\n",
       "    </tr>\n",
       "    <tr>\n",
       "      <th>58</th>\n",
       "      <td>item87</td>\n",
       "      <td>machine19</td>\n",
       "      <td>date169</td>\n",
       "      <td>114</td>\n",
       "    </tr>\n",
       "    <tr>\n",
       "      <th>59</th>\n",
       "      <td>item87</td>\n",
       "      <td>machine20</td>\n",
       "      <td>date169</td>\n",
       "      <td>18</td>\n",
       "    </tr>\n",
       "    <tr>\n",
       "      <th>60</th>\n",
       "      <td>item87</td>\n",
       "      <td>machine21</td>\n",
       "      <td>date169</td>\n",
       "      <td>23</td>\n",
       "    </tr>\n",
       "    <tr>\n",
       "      <th>61</th>\n",
       "      <td>item87</td>\n",
       "      <td>machine32</td>\n",
       "      <td>date169</td>\n",
       "      <td>173</td>\n",
       "    </tr>\n",
       "    <tr>\n",
       "      <th>62</th>\n",
       "      <td>item87</td>\n",
       "      <td>machine33</td>\n",
       "      <td>date169</td>\n",
       "      <td>13</td>\n",
       "    </tr>\n",
       "  </tbody>\n",
       "</table>\n",
       "<p>63 rows × 4 columns</p>\n",
       "</div>"
      ],
      "text/plain": [
       "      item    machine     time  qty\n",
       "0   item15  machine04  date133   23\n",
       "1   item15  machine05  date133   89\n",
       "2   item15  machine07  date133  198\n",
       "3   item15  machine08  date133   35\n",
       "4   item15  machine09  date133  303\n",
       "..     ...        ...      ...  ...\n",
       "58  item87  machine19  date169  114\n",
       "59  item87  machine20  date169   18\n",
       "60  item87  machine21  date169   23\n",
       "61  item87  machine32  date169  173\n",
       "62  item87  machine33  date169   13\n",
       "\n",
       "[63 rows x 4 columns]"
      ]
     },
     "execution_count": 244,
     "metadata": {},
     "output_type": "execute_result"
    }
   ],
   "source": [
    "# GT 결과값 데이테프레임화\n",
    "# for idx, gt in enumerate(refactored_gt_ls):\n",
    "#     gt[['item', 'machine', 'time']] = pd.DataFrame(gt['(item, machine, time)'].tolist(), index=gt.index)\n",
    "#     gt = gt.drop(columns='(item, machine, time)')\n",
    "#     gt = gt[['item', 'machine', 'time', 'qty']].sort_values(['time', 'item', 'machine', 'qty'])\n",
    "#     refactored_gt_ls[idx] = gt\n",
    "\n",
    "refactored_gt_ls[0]"
   ]
  },
  {
   "cell_type": "code",
   "execution_count": 207,
   "id": "a522808e",
   "metadata": {},
   "outputs": [],
   "source": [
    "# gt 전처리\n",
    "# for idx, gt in enumerate(gt_ls):\n",
    "#     gt['machine'] =   gt['machine'].apply(lambda x: str(int(x)).zfill(4))\n",
    "#     gt['item'] =  gt['item'].apply(change_item_name)\n",
    "#     gt['time'] =  gt['time'].apply(change_time_name)\n",
    "#     gt['machine'] = gt['machine'].apply(change_machine_name)\n",
    "#     gt_ls[idx] = gt\n",
    "\n",
    "# gt_ls[0]"
   ]
  },
  {
   "cell_type": "code",
   "execution_count": 208,
   "id": "0bd21cb7",
   "metadata": {},
   "outputs": [
    {
     "data": {
      "text/plain": [
       "\"• item15, right? 318? You can do it by May 13th, 2021, and the unit price is 25,870 won. Oh, and the inspection product.\\n• Oh, I just got the item16 drawing, and it says it's due on May 24th, 2021. I need to do 383 of them, and it costs 16,229 won, and it's an inspection item.\\n• There, I need to do 19 drawings for item96. It's until May 30th, 2021. It's 8,333 won. And nothing special.\\n• Hey, look quickly. item91 4 I have to do it by June 3rd, 2021. What should I do? The unit price is 36,533 won and there's nothing special about it.\\n• item87, right? Doing 196? You can do it until June 18th, 2021, and the unit price is 45,500 won. Oh, and the inspection product\""
      ]
     },
     "execution_count": 208,
     "metadata": {},
     "output_type": "execute_result"
    }
   ],
   "source": [
    "# order 정보 묶기\n",
    "def combine_order_nl(data):\n",
    "    combined_data = '\\n'.join(f'• {text}' for text in data['nl_order'])\n",
    "\n",
    "    return combined_data\n",
    "\n",
    "combine_order_nl(dataset_for_nl[0])"
   ]
  },
  {
   "cell_type": "code",
   "execution_count": 209,
   "id": "e101e701",
   "metadata": {},
   "outputs": [
    {
     "data": {
      "text/plain": [
       "\"• item15, right? 318? You can do it by May 13th, 2021, and the unit price is 25,870 won. Oh, and the inspection product.\\n• Oh, I just got the item16 drawing, and it says it's due on May 24th, 2021. I need to do 383 of them, and it costs 16,229 won, and it's an inspection item.\\n• There, I need to do 19 drawings for item96. It's until May 30th, 2021. It's 8,333 won. And nothing special.\\n• Hey, look quickly. item91 4 I have to do it by June 3rd, 2021. What should I do? The unit price is 36,533 won and there's nothing special about it.\\n• item87, right? Doing 196? You can do it until June 18th, 2021, and the unit price is 45,500 won. Oh, and the inspection product\""
      ]
     },
     "execution_count": 209,
     "metadata": {},
     "output_type": "execute_result"
    }
   ],
   "source": [
    "order_nl_for_dataset = [combine_order_nl(data) for data in dataset_for_nl]\n",
    "order_nl_for_dataset[0]"
   ]
  },
  {
   "cell_type": "code",
   "execution_count": 210,
   "id": "52f15460",
   "metadata": {},
   "outputs": [
    {
     "data": {
      "text/html": [
       "<div>\n",
       "<style scoped>\n",
       "    .dataframe tbody tr th:only-of-type {\n",
       "        vertical-align: middle;\n",
       "    }\n",
       "\n",
       "    .dataframe tbody tr th {\n",
       "        vertical-align: top;\n",
       "    }\n",
       "\n",
       "    .dataframe thead th {\n",
       "        text-align: right;\n",
       "    }\n",
       "</style>\n",
       "<table border=\"1\" class=\"dataframe\">\n",
       "  <thead>\n",
       "    <tr style=\"text-align: right;\">\n",
       "      <th></th>\n",
       "      <th>time</th>\n",
       "      <th>item</th>\n",
       "      <th>cost</th>\n",
       "      <th>urgent</th>\n",
       "      <th>qty</th>\n",
       "    </tr>\n",
       "  </thead>\n",
       "  <tbody>\n",
       "    <tr>\n",
       "      <th>0</th>\n",
       "      <td>date133</td>\n",
       "      <td>item15</td>\n",
       "      <td>25870</td>\n",
       "      <td>1</td>\n",
       "      <td>318</td>\n",
       "    </tr>\n",
       "    <tr>\n",
       "      <th>1</th>\n",
       "      <td>date144</td>\n",
       "      <td>item16</td>\n",
       "      <td>16229</td>\n",
       "      <td>1</td>\n",
       "      <td>383</td>\n",
       "    </tr>\n",
       "    <tr>\n",
       "      <th>2</th>\n",
       "      <td>date150</td>\n",
       "      <td>item96</td>\n",
       "      <td>8333</td>\n",
       "      <td>0</td>\n",
       "      <td>19</td>\n",
       "    </tr>\n",
       "    <tr>\n",
       "      <th>3</th>\n",
       "      <td>date154</td>\n",
       "      <td>item91</td>\n",
       "      <td>36533</td>\n",
       "      <td>0</td>\n",
       "      <td>4</td>\n",
       "    </tr>\n",
       "    <tr>\n",
       "      <th>4</th>\n",
       "      <td>date169</td>\n",
       "      <td>item87</td>\n",
       "      <td>45500</td>\n",
       "      <td>1</td>\n",
       "      <td>196</td>\n",
       "    </tr>\n",
       "  </tbody>\n",
       "</table>\n",
       "</div>"
      ],
      "text/plain": [
       "      time    item   cost  urgent  qty\n",
       "0  date133  item15  25870       1  318\n",
       "1  date144  item16  16229       1  383\n",
       "2  date150  item96   8333       0   19\n",
       "3  date154  item91  36533       0    4\n",
       "4  date169  item87  45500       1  196"
      ]
     },
     "execution_count": 210,
     "metadata": {},
     "output_type": "execute_result"
    }
   ],
   "source": [
    "dataset_for_order[0]"
   ]
  },
  {
   "cell_type": "code",
   "execution_count": 211,
   "id": "902e0cda",
   "metadata": {},
   "outputs": [
    {
     "data": {
      "text/html": [
       "<div>\n",
       "<style scoped>\n",
       "    .dataframe tbody tr th:only-of-type {\n",
       "        vertical-align: middle;\n",
       "    }\n",
       "\n",
       "    .dataframe tbody tr th {\n",
       "        vertical-align: top;\n",
       "    }\n",
       "\n",
       "    .dataframe thead th {\n",
       "        text-align: right;\n",
       "    }\n",
       "</style>\n",
       "<table border=\"1\" class=\"dataframe\">\n",
       "  <thead>\n",
       "    <tr style=\"text-align: right;\">\n",
       "      <th></th>\n",
       "      <th>time</th>\n",
       "      <th>item</th>\n",
       "      <th>cost</th>\n",
       "      <th>urgent</th>\n",
       "      <th>qty</th>\n",
       "      <th>machine</th>\n",
       "      <th>capacity</th>\n",
       "    </tr>\n",
       "  </thead>\n",
       "  <tbody>\n",
       "    <tr>\n",
       "      <th>0</th>\n",
       "      <td>date133</td>\n",
       "      <td>item15</td>\n",
       "      <td>25870</td>\n",
       "      <td>1</td>\n",
       "      <td>318</td>\n",
       "      <td>machine04</td>\n",
       "      <td>12.84</td>\n",
       "    </tr>\n",
       "    <tr>\n",
       "      <th>1</th>\n",
       "      <td>date133</td>\n",
       "      <td>item15</td>\n",
       "      <td>25870</td>\n",
       "      <td>1</td>\n",
       "      <td>318</td>\n",
       "      <td>machine05</td>\n",
       "      <td>10.42</td>\n",
       "    </tr>\n",
       "    <tr>\n",
       "      <th>2</th>\n",
       "      <td>date133</td>\n",
       "      <td>item15</td>\n",
       "      <td>25870</td>\n",
       "      <td>1</td>\n",
       "      <td>318</td>\n",
       "      <td>machine07</td>\n",
       "      <td>8.69</td>\n",
       "    </tr>\n",
       "    <tr>\n",
       "      <th>3</th>\n",
       "      <td>date133</td>\n",
       "      <td>item15</td>\n",
       "      <td>25870</td>\n",
       "      <td>1</td>\n",
       "      <td>318</td>\n",
       "      <td>machine08</td>\n",
       "      <td>9.12</td>\n",
       "    </tr>\n",
       "    <tr>\n",
       "      <th>4</th>\n",
       "      <td>date133</td>\n",
       "      <td>item15</td>\n",
       "      <td>25870</td>\n",
       "      <td>1</td>\n",
       "      <td>318</td>\n",
       "      <td>machine09</td>\n",
       "      <td>10.33</td>\n",
       "    </tr>\n",
       "    <tr>\n",
       "      <th>...</th>\n",
       "      <td>...</td>\n",
       "      <td>...</td>\n",
       "      <td>...</td>\n",
       "      <td>...</td>\n",
       "      <td>...</td>\n",
       "      <td>...</td>\n",
       "      <td>...</td>\n",
       "    </tr>\n",
       "    <tr>\n",
       "      <th>58</th>\n",
       "      <td>date169</td>\n",
       "      <td>item87</td>\n",
       "      <td>45500</td>\n",
       "      <td>1</td>\n",
       "      <td>196</td>\n",
       "      <td>machine19</td>\n",
       "      <td>10.00</td>\n",
       "    </tr>\n",
       "    <tr>\n",
       "      <th>59</th>\n",
       "      <td>date169</td>\n",
       "      <td>item87</td>\n",
       "      <td>45500</td>\n",
       "      <td>1</td>\n",
       "      <td>196</td>\n",
       "      <td>machine20</td>\n",
       "      <td>11.37</td>\n",
       "    </tr>\n",
       "    <tr>\n",
       "      <th>60</th>\n",
       "      <td>date169</td>\n",
       "      <td>item87</td>\n",
       "      <td>45500</td>\n",
       "      <td>1</td>\n",
       "      <td>196</td>\n",
       "      <td>machine21</td>\n",
       "      <td>7.85</td>\n",
       "    </tr>\n",
       "    <tr>\n",
       "      <th>61</th>\n",
       "      <td>date169</td>\n",
       "      <td>item87</td>\n",
       "      <td>45500</td>\n",
       "      <td>1</td>\n",
       "      <td>196</td>\n",
       "      <td>machine32</td>\n",
       "      <td>5.49</td>\n",
       "    </tr>\n",
       "    <tr>\n",
       "      <th>62</th>\n",
       "      <td>date169</td>\n",
       "      <td>item87</td>\n",
       "      <td>45500</td>\n",
       "      <td>1</td>\n",
       "      <td>196</td>\n",
       "      <td>machine33</td>\n",
       "      <td>6.90</td>\n",
       "    </tr>\n",
       "  </tbody>\n",
       "</table>\n",
       "<p>63 rows × 7 columns</p>\n",
       "</div>"
      ],
      "text/plain": [
       "       time    item   cost  urgent  qty    machine  capacity\n",
       "0   date133  item15  25870       1  318  machine04     12.84\n",
       "1   date133  item15  25870       1  318  machine05     10.42\n",
       "2   date133  item15  25870       1  318  machine07      8.69\n",
       "3   date133  item15  25870       1  318  machine08      9.12\n",
       "4   date133  item15  25870       1  318  machine09     10.33\n",
       "..      ...     ...    ...     ...  ...        ...       ...\n",
       "58  date169  item87  45500       1  196  machine19     10.00\n",
       "59  date169  item87  45500       1  196  machine20     11.37\n",
       "60  date169  item87  45500       1  196  machine21      7.85\n",
       "61  date169  item87  45500       1  196  machine32      5.49\n",
       "62  date169  item87  45500       1  196  machine33      6.90\n",
       "\n",
       "[63 rows x 7 columns]"
      ]
     },
     "execution_count": 211,
     "metadata": {},
     "output_type": "execute_result"
    }
   ],
   "source": [
    "dataset_for_ga[0]"
   ]
  },
  {
   "cell_type": "code",
   "execution_count": 212,
   "id": "b4ec2f0b",
   "metadata": {},
   "outputs": [
    {
     "data": {
      "text/plain": [
       "'• date133 item15 25870 1 318 machine04 12.84\\n• date133 item15 25870 1 318 machine05 10.42\\n• date133 item15 25870 1 318 machine07 8.69\\n• date133 item15 25870 1 318 machine08 9.12\\n• date133 item15 25870 1 318 machine09 10.33\\n• date133 item15 25870 1 318 machine10 8.99\\n• date133 item15 25870 1 318 machine12 12.32\\n• date133 item15 25870 1 318 machine14 11.23\\n• date133 item15 25870 1 318 machine20 4.0\\n• date133 item15 25870 1 318 machine21 9.87\\n• date133 item15 25870 1 318 machine23 11.77\\n• date133 item15 25870 1 318 machine28 9.54\\n• date133 item15 25870 1 318 machine29 13.05\\n• date133 item15 25870 1 318 machine30 9.0\\n• date133 item15 25870 1 318 machine31 9.0\\n• date133 item15 25870 1 318 machine33 4.4\\n• date133 item15 25870 1 318 machine34 12.47\\n• date133 item15 25870 1 318 machine35 9.4\\n• date144 item16 16229 1 383 machine07 4.85\\n• date144 item16 16229 1 383 machine08 3.83\\n• date144 item16 16229 1 383 machine09 5.37\\n• date144 item16 16229 1 383 machine10 3.09\\n• date144 item16 16229 1 383 machine14 2.73\\n• date144 item16 16229 1 383 machine21 3.94\\n• date144 item16 16229 1 383 machine22 5.47\\n• date144 item16 16229 1 383 machine23 6.25\\n• date144 item16 16229 1 383 machine28 3.37\\n• date144 item16 16229 1 383 machine29 3.86\\n• date144 item16 16229 1 383 machine30 3.8\\n• date144 item16 16229 1 383 machine31 4.53\\n• date144 item16 16229 1 383 machine35 3.85\\n• date150 item96 8333 0 19 machine08 4.89\\n• date150 item96 8333 0 19 machine09 5.92\\n• date150 item96 8333 0 19 machine10 4.91\\n• date150 item96 8333 0 19 machine12 3.5\\n• date150 item96 8333 0 19 machine14 1.03\\n• date150 item96 8333 0 19 machine21 4.6\\n• date150 item96 8333 0 19 machine22 4.54\\n• date150 item96 8333 0 19 machine23 3.83\\n• date150 item96 8333 0 19 machine28 4.64\\n• date150 item96 8333 0 19 machine29 7.12\\n• date150 item96 8333 0 19 machine30 1.32\\n• date150 item96 8333 0 19 machine34 3.0\\n• date150 item96 8333 0 19 machine35 1.83\\n• date154 item91 36533 0 4 machine08 4.42\\n• date154 item91 36533 0 4 machine09 4.03\\n• date154 item91 36533 0 4 machine10 5.32\\n• date154 item91 36533 0 4 machine14 4.0\\n• date154 item91 36533 0 4 machine21 4.8\\n• date154 item91 36533 0 4 machine28 4.33\\n• date154 item91 36533 0 4 machine29 5.32\\n• date154 item91 36533 0 4 machine34 5.25\\n• date154 item91 36533 0 4 machine35 4.5\\n• date169 item87 45500 1 196 machine01 5.88\\n• date169 item87 45500 1 196 machine03 6.5\\n• date169 item87 45500 1 196 machine05 11.64\\n• date169 item87 45500 1 196 machine17 12.0\\n• date169 item87 45500 1 196 machine18 11.82\\n• date169 item87 45500 1 196 machine19 10.0\\n• date169 item87 45500 1 196 machine20 11.37\\n• date169 item87 45500 1 196 machine21 7.85\\n• date169 item87 45500 1 196 machine32 5.49\\n• date169 item87 45500 1 196 machine33 6.9'"
      ]
     },
     "execution_count": 212,
     "metadata": {},
     "output_type": "execute_result"
    }
   ],
   "source": [
    "# order machine join 정보 묶기\n",
    "def combine_order_machine_join(data):\n",
    "    combined_data = list()\n",
    "    for _, row in data.iterrows():\n",
    "        combined_data.append(f\"• {row['time']} {row['item']} {row['cost']} {row['urgent']} {row['qty']} {row['machine']} {row['capacity']}\")\n",
    "\n",
    "    combined_data = \"\\n\".join(combined_data)\n",
    "        \n",
    "    return combined_data\n",
    "\n",
    "combine_order_machine_join(dataset_for_ga[0])"
   ]
  },
  {
   "cell_type": "code",
   "execution_count": 213,
   "id": "49532931",
   "metadata": {},
   "outputs": [
    {
     "name": "stdout",
     "output_type": "stream",
     "text": [
      "• date133 item15 25870 1 318 machine04 12.84\n",
      "• date133 item15 25870 1 318 machine05 10.42\n",
      "• date133 item15 25870 1 318 machine07 8.69\n",
      "• date133 item15 25870 1 318 machine08 9.12\n",
      "• date133 item15 25870 1 318 machine09 10.33\n",
      "• date133 item15 25870 1 318 machine10 8.99\n",
      "• date133 item15 25870 1 318 machine12 12.32\n",
      "• date133 item15 25870 1 318 machine14 11.23\n",
      "• date133 item15 25870 1 318 machine20 4.0\n",
      "• date133 item15 25870 1 318 machine21 9.87\n",
      "• date133 item15 25870 1 318 machine23 11.77\n",
      "• date133 item15 25870 1 318 machine28 9.54\n",
      "• date133 item15 25870 1 318 machine29 13.05\n",
      "• date133 item15 25870 1 318 machine30 9.0\n",
      "• date133 item15 25870 1 318 machine31 9.0\n",
      "• date133 item15 25870 1 318 machine33 4.4\n",
      "• date133 item15 25870 1 318 machine34 12.47\n",
      "• date133 item15 25870 1 318 machine35 9.4\n",
      "• date144 item16 16229 1 383 machine07 4.85\n",
      "• date144 item16 16229 1 383 machine08 3.83\n",
      "• date144 item16 16229 1 383 machine09 5.37\n",
      "• date144 item16 16229 1 383 machine10 3.09\n",
      "• date144 item16 16229 1 383 machine14 2.73\n",
      "• date144 item16 16229 1 383 machine21 3.94\n",
      "• date144 item16 16229 1 383 machine22 5.47\n",
      "• date144 item16 16229 1 383 machine23 6.25\n",
      "• date144 item16 16229 1 383 machine28 3.37\n",
      "• date144 item16 16229 1 383 machine29 3.86\n",
      "• date144 item16 16229 1 383 machine30 3.8\n",
      "• date144 item16 16229 1 383 machine31 4.53\n",
      "• date144 item16 16229 1 383 machine35 3.85\n",
      "• date150 item96 8333 0 19 machine08 4.89\n",
      "• date150 item96 8333 0 19 machine09 5.92\n",
      "• date150 item96 8333 0 19 machine10 4.91\n",
      "• date150 item96 8333 0 19 machine12 3.5\n",
      "• date150 item96 8333 0 19 machine14 1.03\n",
      "• date150 item96 8333 0 19 machine21 4.6\n",
      "• date150 item96 8333 0 19 machine22 4.54\n",
      "• date150 item96 8333 0 19 machine23 3.83\n",
      "• date150 item96 8333 0 19 machine28 4.64\n",
      "• date150 item96 8333 0 19 machine29 7.12\n",
      "• date150 item96 8333 0 19 machine30 1.32\n",
      "• date150 item96 8333 0 19 machine34 3.0\n",
      "• date150 item96 8333 0 19 machine35 1.83\n",
      "• date154 item91 36533 0 4 machine08 4.42\n",
      "• date154 item91 36533 0 4 machine09 4.03\n",
      "• date154 item91 36533 0 4 machine10 5.32\n",
      "• date154 item91 36533 0 4 machine14 4.0\n",
      "• date154 item91 36533 0 4 machine21 4.8\n",
      "• date154 item91 36533 0 4 machine28 4.33\n",
      "• date154 item91 36533 0 4 machine29 5.32\n",
      "• date154 item91 36533 0 4 machine34 5.25\n",
      "• date154 item91 36533 0 4 machine35 4.5\n",
      "• date169 item87 45500 1 196 machine01 5.88\n",
      "• date169 item87 45500 1 196 machine03 6.5\n",
      "• date169 item87 45500 1 196 machine05 11.64\n",
      "• date169 item87 45500 1 196 machine17 12.0\n",
      "• date169 item87 45500 1 196 machine18 11.82\n",
      "• date169 item87 45500 1 196 machine19 10.0\n",
      "• date169 item87 45500 1 196 machine20 11.37\n",
      "• date169 item87 45500 1 196 machine21 7.85\n",
      "• date169 item87 45500 1 196 machine32 5.49\n",
      "• date169 item87 45500 1 196 machine33 6.9\n"
     ]
    }
   ],
   "source": [
    "order_machine_join = [combine_order_machine_join(data) for data in dataset_for_ga]\n",
    "print(order_machine_join[0])"
   ]
  },
  {
   "cell_type": "code",
   "execution_count": 214,
   "id": "a18b435a",
   "metadata": {},
   "outputs": [
    {
     "name": "stdout",
     "output_type": "stream",
     "text": [
      "• date133 item15 25870 1 318\n",
      "• date144 item16 16229 1 383\n",
      "• date150 item96 8333 0 19\n",
      "• date154 item91 36533 0 4\n",
      "• date169 item87 45500 1 196\n"
     ]
    }
   ],
   "source": [
    "def combine_order(data):\n",
    "    combined_data = list()\n",
    "    for _, row in data.iterrows():\n",
    "        combined_data.append(f\"• {row['time']} {row['item']} {row['cost']} {row['urgent']} {row['qty']}\")\n",
    "\n",
    "    combined_data = \"\\n\".join(combined_data)\n",
    "        \n",
    "    return combined_data\n",
    "\n",
    "print(combine_order(dataset_for_order[0]))"
   ]
  },
  {
   "cell_type": "code",
   "execution_count": 215,
   "id": "acc37d40",
   "metadata": {},
   "outputs": [
    {
     "data": {
      "text/plain": [
       "'• date133 item15 25870 1 318\\n• date133 item15 25870 1 318\\n• date133 item15 25870 1 318\\n• date133 item15 25870 1 318\\n• date133 item15 25870 1 318\\n• date133 item15 25870 1 318\\n• date133 item15 25870 1 318\\n• date133 item15 25870 1 318\\n• date133 item15 25870 1 318\\n• date133 item15 25870 1 318\\n• date133 item15 25870 1 318\\n• date133 item15 25870 1 318\\n• date133 item15 25870 1 318\\n• date133 item15 25870 1 318\\n• date133 item15 25870 1 318\\n• date133 item15 25870 1 318\\n• date133 item15 25870 1 318\\n• date133 item15 25870 1 318\\n• date144 item16 16229 1 383\\n• date144 item16 16229 1 383\\n• date144 item16 16229 1 383\\n• date144 item16 16229 1 383\\n• date144 item16 16229 1 383\\n• date144 item16 16229 1 383\\n• date144 item16 16229 1 383\\n• date144 item16 16229 1 383\\n• date144 item16 16229 1 383\\n• date144 item16 16229 1 383\\n• date144 item16 16229 1 383\\n• date144 item16 16229 1 383\\n• date144 item16 16229 1 383\\n• date150 item96 8333 0 19\\n• date150 item96 8333 0 19\\n• date150 item96 8333 0 19\\n• date150 item96 8333 0 19\\n• date150 item96 8333 0 19\\n• date150 item96 8333 0 19\\n• date150 item96 8333 0 19\\n• date150 item96 8333 0 19\\n• date150 item96 8333 0 19\\n• date150 item96 8333 0 19\\n• date150 item96 8333 0 19\\n• date150 item96 8333 0 19\\n• date150 item96 8333 0 19\\n• date154 item91 36533 0 4\\n• date154 item91 36533 0 4\\n• date154 item91 36533 0 4\\n• date154 item91 36533 0 4\\n• date154 item91 36533 0 4\\n• date154 item91 36533 0 4\\n• date154 item91 36533 0 4\\n• date154 item91 36533 0 4\\n• date154 item91 36533 0 4\\n• date169 item87 45500 1 196\\n• date169 item87 45500 1 196\\n• date169 item87 45500 1 196\\n• date169 item87 45500 1 196\\n• date169 item87 45500 1 196\\n• date169 item87 45500 1 196\\n• date169 item87 45500 1 196\\n• date169 item87 45500 1 196\\n• date169 item87 45500 1 196\\n• date169 item87 45500 1 196'"
      ]
     },
     "execution_count": 215,
     "metadata": {},
     "output_type": "execute_result"
    }
   ],
   "source": [
    "order_for_dataset = [combine_order(data) for data in dataset_for_ga]\n",
    "order_for_dataset[0]"
   ]
  },
  {
   "cell_type": "code",
   "execution_count": 216,
   "id": "dd69b154",
   "metadata": {},
   "outputs": [
    {
     "name": "stdout",
     "output_type": "stream",
     "text": [
      "• item96 machine35 1.83\n",
      "• item91 machine10 5.32\n",
      "• item15 machine35 9.4\n",
      "• item96 machine29 7.12\n",
      "• item87 machine05 11.64\n",
      "• item15 machine07 8.69\n",
      "• item16 machine08 3.83\n",
      "• item96 machine09 5.92\n",
      "• item91 machine28 4.33\n",
      "• item15 machine21 9.87\n",
      "• item15 machine30 9.0\n",
      "• item16 machine14 2.73\n",
      "• item15 machine33 4.4\n",
      "• item87 machine33 6.9\n",
      "• item16 machine29 3.86\n",
      "• item16 machine09 5.37\n",
      "• item96 machine12 3.5\n",
      "• item15 machine14 11.23\n",
      "• item87 machine20 11.37\n",
      "• item15 machine31 9.0\n",
      "• item15 machine08 9.12\n",
      "• item96 machine22 4.54\n",
      "• item91 machine09 4.03\n",
      "• item16 machine07 4.85\n",
      "• item87 machine03 6.5\n",
      "• item15 machine28 9.54\n",
      "• item16 machine28 3.37\n",
      "• item87 machine19 10.0\n",
      "• item15 machine12 12.32\n",
      "• item91 machine35 4.5\n",
      "• item15 machine29 13.05\n",
      "• item87 machine32 5.49\n",
      "• item16 machine31 4.53\n",
      "• item16 machine35 3.85\n",
      "• item15 machine20 4.0\n",
      "• item91 machine21 4.8\n",
      "• item91 machine08 4.42\n",
      "• item96 machine28 4.64\n",
      "• item96 machine30 1.32\n",
      "• item87 machine01 5.88\n",
      "• item96 machine21 4.6\n",
      "• item91 machine34 5.25\n",
      "• item96 machine23 3.83\n",
      "• item16 machine22 5.47\n",
      "• item96 machine34 3.0\n",
      "• item91 machine29 5.32\n",
      "• item87 machine17 12.0\n",
      "• item87 machine18 11.82\n",
      "• item16 machine23 6.25\n",
      "• item16 machine10 3.09\n",
      "• item15 machine05 10.42\n",
      "• item96 machine14 1.03\n",
      "• item15 machine09 10.33\n",
      "• item15 machine10 8.99\n",
      "• item15 machine04 12.84\n",
      "• item16 machine30 3.8\n",
      "• item15 machine34 12.47\n",
      "• item96 machine08 4.89\n",
      "• item91 machine14 4.0\n",
      "• item87 machine21 7.85\n",
      "• item16 machine21 3.94\n",
      "• item96 machine10 4.91\n",
      "• item15 machine23 11.77\n"
     ]
    }
   ],
   "source": [
    "def combine_machine(data):\n",
    "    combined_data = list()\n",
    "    for _, row in data.iterrows():\n",
    "        combined_data.append(f\"• {row['item']} {row['machine']} {row['capacity']}\")\n",
    "\n",
    "    combined_data = list(set(combined_data))\n",
    "    combined_data = \"\\n\".join(combined_data)\n",
    "        \n",
    "    return combined_data\n",
    "\n",
    "print(combine_machine(dataset_for_ga[0]))"
   ]
  },
  {
   "cell_type": "code",
   "execution_count": 217,
   "id": "a8595e43",
   "metadata": {},
   "outputs": [
    {
     "data": {
      "text/plain": [
       "'• item96 machine35 1.83\\n• item91 machine10 5.32\\n• item15 machine35 9.4\\n• item96 machine29 7.12\\n• item87 machine05 11.64\\n• item15 machine07 8.69\\n• item16 machine08 3.83\\n• item96 machine09 5.92\\n• item91 machine28 4.33\\n• item15 machine21 9.87\\n• item15 machine30 9.0\\n• item16 machine14 2.73\\n• item15 machine33 4.4\\n• item87 machine33 6.9\\n• item16 machine29 3.86\\n• item16 machine09 5.37\\n• item96 machine12 3.5\\n• item15 machine14 11.23\\n• item87 machine20 11.37\\n• item15 machine31 9.0\\n• item15 machine08 9.12\\n• item96 machine22 4.54\\n• item91 machine09 4.03\\n• item16 machine07 4.85\\n• item87 machine03 6.5\\n• item15 machine28 9.54\\n• item16 machine28 3.37\\n• item87 machine19 10.0\\n• item15 machine12 12.32\\n• item91 machine35 4.5\\n• item15 machine29 13.05\\n• item87 machine32 5.49\\n• item16 machine31 4.53\\n• item16 machine35 3.85\\n• item15 machine20 4.0\\n• item91 machine21 4.8\\n• item91 machine08 4.42\\n• item96 machine28 4.64\\n• item96 machine30 1.32\\n• item87 machine01 5.88\\n• item96 machine21 4.6\\n• item91 machine34 5.25\\n• item96 machine23 3.83\\n• item16 machine22 5.47\\n• item96 machine34 3.0\\n• item91 machine29 5.32\\n• item87 machine17 12.0\\n• item87 machine18 11.82\\n• item16 machine23 6.25\\n• item16 machine10 3.09\\n• item15 machine05 10.42\\n• item96 machine14 1.03\\n• item15 machine09 10.33\\n• item15 machine10 8.99\\n• item15 machine04 12.84\\n• item16 machine30 3.8\\n• item15 machine34 12.47\\n• item96 machine08 4.89\\n• item91 machine14 4.0\\n• item87 machine21 7.85\\n• item16 machine21 3.94\\n• item96 machine10 4.91\\n• item15 machine23 11.77'"
      ]
     },
     "execution_count": 217,
     "metadata": {},
     "output_type": "execute_result"
    }
   ],
   "source": [
    "machine_for_dataset = [combine_machine(data) for data in dataset_for_ga]\n",
    "machine_for_dataset[0]"
   ]
  },
  {
   "cell_type": "code",
   "execution_count": 218,
   "id": "1f6f4ed4",
   "metadata": {},
   "outputs": [
    {
     "name": "stdout",
     "output_type": "stream",
     "text": [
      "• item15 machine04 date133 149\n",
      "• item15 machine05 date133 27\n",
      "• item15 machine07 date133 139\n",
      "• item15 machine08 date133 25\n",
      "• item15 machine09 date133 3\n",
      "• item15 machine10 date133 7\n",
      "• item15 machine12 date133 31\n",
      "• item15 machine14 date133 302\n",
      "• item15 machine20 date133 106\n",
      "• item15 machine21 date133 207\n",
      "• item15 machine23 date133 144\n",
      "• item15 machine28 date133 207\n",
      "• item15 machine29 date133 258\n",
      "• item15 machine30 date133 43\n",
      "• item15 machine31 date133 42\n",
      "• item15 machine33 date133 8\n",
      "• item15 machine34 date133 309\n",
      "• item15 machine35 date133 156\n",
      "• item16 machine07 date144 111\n",
      "• item16 machine08 date144 364\n",
      "• item16 machine09 date144 65\n",
      "• item16 machine10 date144 55\n",
      "• item16 machine14 date144 45\n",
      "• item16 machine21 date144 268\n",
      "• item16 machine22 date144 137\n",
      "• item16 machine23 date144 272\n",
      "• item16 machine28 date144 281\n",
      "• item16 machine29 date144 51\n",
      "• item16 machine30 date144 288\n",
      "• item16 machine31 date144 374\n",
      "• item16 machine35 date144 2\n",
      "• item96 machine08 date150 16\n",
      "• item96 machine09 date150 1\n",
      "• item96 machine10 date150 14\n",
      "• item96 machine12 date150 14\n",
      "• item96 machine14 date150 12\n",
      "• item96 machine21 date150 18\n",
      "• item96 machine22 date150 6\n",
      "• item96 machine23 date150 19\n",
      "• item96 machine28 date150 2\n",
      "• item96 machine29 date150 11\n",
      "• item96 machine30 date150 1\n",
      "• item96 machine34 date150 10\n",
      "• item96 machine35 date150 14\n",
      "• item91 machine08 date154 2\n",
      "• item91 machine09 date154 3\n",
      "• item91 machine10 date154 2\n",
      "• item91 machine14 date154 2\n",
      "• item91 machine21 date154 3\n",
      "• item91 machine28 date154 2\n",
      "• item91 machine34 date154 1\n",
      "• item91 machine35 date154 4\n",
      "• item87 machine01 date169 41\n",
      "• item87 machine03 date169 8\n",
      "• item87 machine05 date169 113\n",
      "• item87 machine17 date169 38\n",
      "• item87 machine18 date169 43\n",
      "• item87 machine19 date169 106\n",
      "• item87 machine20 date169 188\n",
      "• item87 machine21 date169 24\n",
      "• item87 machine32 date169 40\n",
      "• item87 machine33 date169 177\n"
     ]
    }
   ],
   "source": [
    "# gt 정보 텍스트화\n",
    "def combine_gt(data):\n",
    "    combined_data = list()\n",
    "    for _, row in data.iterrows():\n",
    "        combined_data.append(f\"• {row['item']} {row['machine']} {row['time']} {row['qty']}\")\n",
    "\n",
    "    combined_data = \"\\n\".join(combined_data)\n",
    "        \n",
    "    return combined_data\n",
    "\n",
    "print(combine_gt(gt_ls[0]))"
   ]
  },
  {
   "cell_type": "code",
   "execution_count": 219,
   "id": "036c7bf7-9a52-41c4-9d7d-ae13cf6dd526",
   "metadata": {},
   "outputs": [
    {
     "name": "stdout",
     "output_type": "stream",
     "text": [
      "• item15 machine04 date133 149\n",
      "• item15 machine05 date133 27\n",
      "• item15 machine07 date133 139\n",
      "• item15 machine08 date133 25\n",
      "• item15 machine09 date133 3\n",
      "• item15 machine10 date133 7\n",
      "• item15 machine12 date133 31\n",
      "• item15 machine14 date133 302\n",
      "• item15 machine20 date133 106\n",
      "• item15 machine21 date133 207\n",
      "• item15 machine23 date133 144\n",
      "• item15 machine28 date133 207\n",
      "• item15 machine29 date133 258\n",
      "• item15 machine30 date133 43\n",
      "• item15 machine31 date133 42\n",
      "• item15 machine33 date133 8\n",
      "• item15 machine34 date133 309\n",
      "• item15 machine35 date133 156\n",
      "• item16 machine07 date144 111\n",
      "• item16 machine08 date144 364\n",
      "• item16 machine09 date144 65\n",
      "• item16 machine10 date144 55\n",
      "• item16 machine14 date144 45\n",
      "• item16 machine21 date144 268\n",
      "• item16 machine22 date144 137\n",
      "• item16 machine23 date144 272\n",
      "• item16 machine28 date144 281\n",
      "• item16 machine29 date144 51\n",
      "• item16 machine30 date144 288\n",
      "• item16 machine31 date144 374\n",
      "• item16 machine35 date144 2\n",
      "• item96 machine08 date150 16\n",
      "• item96 machine09 date150 1\n",
      "• item96 machine10 date150 14\n",
      "• item96 machine12 date150 14\n",
      "• item96 machine14 date150 12\n",
      "• item96 machine21 date150 18\n",
      "• item96 machine22 date150 6\n",
      "• item96 machine23 date150 19\n",
      "• item96 machine28 date150 2\n",
      "• item96 machine29 date150 11\n",
      "• item96 machine30 date150 1\n",
      "• item96 machine34 date150 10\n",
      "• item96 machine35 date150 14\n",
      "• item91 machine08 date154 2\n",
      "• item91 machine09 date154 3\n",
      "• item91 machine10 date154 2\n",
      "• item91 machine14 date154 2\n",
      "• item91 machine21 date154 3\n",
      "• item91 machine28 date154 2\n",
      "• item91 machine34 date154 1\n",
      "• item91 machine35 date154 4\n",
      "• item87 machine01 date169 41\n",
      "• item87 machine03 date169 8\n",
      "• item87 machine05 date169 113\n",
      "• item87 machine17 date169 38\n",
      "• item87 machine18 date169 43\n",
      "• item87 machine19 date169 106\n",
      "• item87 machine20 date169 188\n",
      "• item87 machine21 date169 24\n",
      "• item87 machine32 date169 40\n",
      "• item87 machine33 date169 177\n"
     ]
    }
   ],
   "source": [
    "# gt 정보 텍스트화\n",
    "def combine_gt(data):\n",
    "    combined_data = list()\n",
    "    for _, row in data.iterrows():\n",
    "        combined_data.append(f\"• {row['item']} {row['machine']} {row['time']} {row['qty']}\")\n",
    "\n",
    "    combined_data = \"\\n\".join(combined_data)\n",
    "        \n",
    "    return combined_data\n",
    "\n",
    "print(combine_gt(refactored_gt_ls[0]))"
   ]
  },
  {
   "cell_type": "code",
   "execution_count": 220,
   "id": "bc038455",
   "metadata": {},
   "outputs": [
    {
     "data": {
      "text/plain": [
       "'• item15 machine04 date133 149\\n• item15 machine05 date133 27\\n• item15 machine07 date133 139\\n• item15 machine08 date133 25\\n• item15 machine09 date133 3\\n• item15 machine10 date133 7\\n• item15 machine12 date133 31\\n• item15 machine14 date133 302\\n• item15 machine20 date133 106\\n• item15 machine21 date133 207\\n• item15 machine23 date133 144\\n• item15 machine28 date133 207\\n• item15 machine29 date133 258\\n• item15 machine30 date133 43\\n• item15 machine31 date133 42\\n• item15 machine33 date133 8\\n• item15 machine34 date133 309\\n• item15 machine35 date133 156\\n• item16 machine07 date144 111\\n• item16 machine08 date144 364\\n• item16 machine09 date144 65\\n• item16 machine10 date144 55\\n• item16 machine14 date144 45\\n• item16 machine21 date144 268\\n• item16 machine22 date144 137\\n• item16 machine23 date144 272\\n• item16 machine28 date144 281\\n• item16 machine29 date144 51\\n• item16 machine30 date144 288\\n• item16 machine31 date144 374\\n• item16 machine35 date144 2\\n• item96 machine08 date150 16\\n• item96 machine09 date150 1\\n• item96 machine10 date150 14\\n• item96 machine12 date150 14\\n• item96 machine14 date150 12\\n• item96 machine21 date150 18\\n• item96 machine22 date150 6\\n• item96 machine23 date150 19\\n• item96 machine28 date150 2\\n• item96 machine29 date150 11\\n• item96 machine30 date150 1\\n• item96 machine34 date150 10\\n• item96 machine35 date150 14\\n• item91 machine08 date154 2\\n• item91 machine09 date154 3\\n• item91 machine10 date154 2\\n• item91 machine14 date154 2\\n• item91 machine21 date154 3\\n• item91 machine28 date154 2\\n• item91 machine34 date154 1\\n• item91 machine35 date154 4\\n• item87 machine01 date169 41\\n• item87 machine03 date169 8\\n• item87 machine05 date169 113\\n• item87 machine17 date169 38\\n• item87 machine18 date169 43\\n• item87 machine19 date169 106\\n• item87 machine20 date169 188\\n• item87 machine21 date169 24\\n• item87 machine32 date169 40\\n• item87 machine33 date169 177'"
      ]
     },
     "execution_count": 220,
     "metadata": {},
     "output_type": "execute_result"
    }
   ],
   "source": [
    "gt_for_dataset = [combine_gt(data) for data in gt_ls]\n",
    "gt_for_dataset[0]"
   ]
  },
  {
   "cell_type": "code",
   "execution_count": 221,
   "id": "319a0431-a40e-45cd-936f-eca80caae7ff",
   "metadata": {},
   "outputs": [
    {
     "data": {
      "text/plain": [
       "'• item15 machine04 date133 149\\n• item15 machine05 date133 27\\n• item15 machine07 date133 139\\n• item15 machine08 date133 25\\n• item15 machine09 date133 3\\n• item15 machine10 date133 7\\n• item15 machine12 date133 31\\n• item15 machine14 date133 302\\n• item15 machine20 date133 106\\n• item15 machine21 date133 207\\n• item15 machine23 date133 144\\n• item15 machine28 date133 207\\n• item15 machine29 date133 258\\n• item15 machine30 date133 43\\n• item15 machine31 date133 42\\n• item15 machine33 date133 8\\n• item15 machine34 date133 309\\n• item15 machine35 date133 156\\n• item16 machine07 date144 111\\n• item16 machine08 date144 364\\n• item16 machine09 date144 65\\n• item16 machine10 date144 55\\n• item16 machine14 date144 45\\n• item16 machine21 date144 268\\n• item16 machine22 date144 137\\n• item16 machine23 date144 272\\n• item16 machine28 date144 281\\n• item16 machine29 date144 51\\n• item16 machine30 date144 288\\n• item16 machine31 date144 374\\n• item16 machine35 date144 2\\n• item96 machine08 date150 16\\n• item96 machine09 date150 1\\n• item96 machine10 date150 14\\n• item96 machine12 date150 14\\n• item96 machine14 date150 12\\n• item96 machine21 date150 18\\n• item96 machine22 date150 6\\n• item96 machine23 date150 19\\n• item96 machine28 date150 2\\n• item96 machine29 date150 11\\n• item96 machine30 date150 1\\n• item96 machine34 date150 10\\n• item96 machine35 date150 14\\n• item91 machine08 date154 2\\n• item91 machine09 date154 3\\n• item91 machine10 date154 2\\n• item91 machine14 date154 2\\n• item91 machine21 date154 3\\n• item91 machine28 date154 2\\n• item91 machine34 date154 1\\n• item91 machine35 date154 4\\n• item87 machine01 date169 41\\n• item87 machine03 date169 8\\n• item87 machine05 date169 113\\n• item87 machine17 date169 38\\n• item87 machine18 date169 43\\n• item87 machine19 date169 106\\n• item87 machine20 date169 188\\n• item87 machine21 date169 24\\n• item87 machine32 date169 40\\n• item87 machine33 date169 177'"
      ]
     },
     "execution_count": 221,
     "metadata": {},
     "output_type": "execute_result"
    }
   ],
   "source": [
    "refactored_gt_for_dataset = [combine_gt(data) for data in refactored_gt_ls]\n",
    "refactored_gt_for_dataset[0]"
   ]
  },
  {
   "cell_type": "code",
   "execution_count": 222,
   "id": "e2c2927a",
   "metadata": {},
   "outputs": [
    {
     "data": {
      "text/html": [
       "<div>\n",
       "<style scoped>\n",
       "    .dataframe tbody tr th:only-of-type {\n",
       "        vertical-align: middle;\n",
       "    }\n",
       "\n",
       "    .dataframe tbody tr th {\n",
       "        vertical-align: top;\n",
       "    }\n",
       "\n",
       "    .dataframe thead th {\n",
       "        text-align: right;\n",
       "    }\n",
       "</style>\n",
       "<table border=\"1\" class=\"dataframe\">\n",
       "  <thead>\n",
       "    <tr style=\"text-align: right;\">\n",
       "      <th></th>\n",
       "      <th>order</th>\n",
       "      <th>nl</th>\n",
       "      <th>machine</th>\n",
       "      <th>gt</th>\n",
       "      <th>objective</th>\n",
       "    </tr>\n",
       "  </thead>\n",
       "  <tbody>\n",
       "  </tbody>\n",
       "</table>\n",
       "</div>"
      ],
      "text/plain": [
       "Empty DataFrame\n",
       "Columns: [order, nl, machine, gt, objective]\n",
       "Index: []"
      ]
     },
     "execution_count": 222,
     "metadata": {},
     "output_type": "execute_result"
    }
   ],
   "source": [
    "dataset = pd.DataFrame(columns=['order', 'nl', 'machine', 'gt', 'objective'])\n",
    "dataset"
   ]
  },
  {
   "cell_type": "code",
   "execution_count": 223,
   "id": "9570450b-5dcc-44b5-b7ad-970cbd6fd97b",
   "metadata": {},
   "outputs": [
    {
     "data": {
      "text/html": [
       "<div>\n",
       "<style scoped>\n",
       "    .dataframe tbody tr th:only-of-type {\n",
       "        vertical-align: middle;\n",
       "    }\n",
       "\n",
       "    .dataframe tbody tr th {\n",
       "        vertical-align: top;\n",
       "    }\n",
       "\n",
       "    .dataframe thead th {\n",
       "        text-align: right;\n",
       "    }\n",
       "</style>\n",
       "<table border=\"1\" class=\"dataframe\">\n",
       "  <thead>\n",
       "    <tr style=\"text-align: right;\">\n",
       "      <th></th>\n",
       "      <th>order</th>\n",
       "      <th>nl</th>\n",
       "      <th>machine</th>\n",
       "      <th>gt</th>\n",
       "      <th>objective</th>\n",
       "    </tr>\n",
       "  </thead>\n",
       "  <tbody>\n",
       "  </tbody>\n",
       "</table>\n",
       "</div>"
      ],
      "text/plain": [
       "Empty DataFrame\n",
       "Columns: [order, nl, machine, gt, objective]\n",
       "Index: []"
      ]
     },
     "execution_count": 223,
     "metadata": {},
     "output_type": "execute_result"
    }
   ],
   "source": [
    "refactored_dataset = pd.DataFrame(columns=['order', 'nl', 'machine', 'gt', 'objective'])\n",
    "refactored_dataset"
   ]
  },
  {
   "cell_type": "code",
   "execution_count": 224,
   "id": "2a575a1d",
   "metadata": {},
   "outputs": [
    {
     "ename": "NameError",
     "evalue": "name 'score_ls' is not defined",
     "output_type": "error",
     "traceback": [
      "\u001b[0;31m---------------------------------------------------------------------------\u001b[0m",
      "\u001b[0;31mNameError\u001b[0m                                 Traceback (most recent call last)",
      "Cell \u001b[0;32mIn[224], line 5\u001b[0m\n\u001b[1;32m      3\u001b[0m dataset[\u001b[38;5;124m'\u001b[39m\u001b[38;5;124mmachine\u001b[39m\u001b[38;5;124m'\u001b[39m] \u001b[38;5;241m=\u001b[39m machine_for_dataset\n\u001b[1;32m      4\u001b[0m dataset[\u001b[38;5;124m'\u001b[39m\u001b[38;5;124mgt\u001b[39m\u001b[38;5;124m'\u001b[39m] \u001b[38;5;241m=\u001b[39m gt_for_dataset\n\u001b[0;32m----> 5\u001b[0m dataset[\u001b[38;5;124m'\u001b[39m\u001b[38;5;124mobjective\u001b[39m\u001b[38;5;124m'\u001b[39m] \u001b[38;5;241m=\u001b[39m \u001b[43mscore_ls\u001b[49m\n\u001b[1;32m      6\u001b[0m dataset\u001b[38;5;241m.\u001b[39mhead()\n",
      "\u001b[0;31mNameError\u001b[0m: name 'score_ls' is not defined"
     ]
    }
   ],
   "source": [
    "dataset['order'] = order_for_dataset\n",
    "dataset['nl'] = order_nl_for_dataset\n",
    "dataset['machine'] = machine_for_dataset\n",
    "dataset['gt'] = gt_for_dataset\n",
    "dataset['objective'] = score_ls\n",
    "dataset.head()"
   ]
  },
  {
   "cell_type": "code",
   "execution_count": 231,
   "id": "6db49b64-4862-4df1-ad7c-8b4df3eeb859",
   "metadata": {},
   "outputs": [
    {
     "name": "stdout",
     "output_type": "stream",
     "text": [
      "best_scores_ls_refac의 길이: 123\n"
     ]
    }
   ],
   "source": [
    "print(f\"best_scores_ls_refac의 길이: {len(best_scores_ls_refac)}\")"
   ]
  },
  {
   "cell_type": "code",
   "execution_count": 245,
   "id": "235167d9-544a-41cb-ac7e-185a2ff5e169",
   "metadata": {},
   "outputs": [
    {
     "data": {
      "text/html": [
       "<div>\n",
       "<style scoped>\n",
       "    .dataframe tbody tr th:only-of-type {\n",
       "        vertical-align: middle;\n",
       "    }\n",
       "\n",
       "    .dataframe tbody tr th {\n",
       "        vertical-align: top;\n",
       "    }\n",
       "\n",
       "    .dataframe thead th {\n",
       "        text-align: right;\n",
       "    }\n",
       "</style>\n",
       "<table border=\"1\" class=\"dataframe\">\n",
       "  <thead>\n",
       "    <tr style=\"text-align: right;\">\n",
       "      <th></th>\n",
       "      <th>order</th>\n",
       "      <th>nl</th>\n",
       "      <th>machine</th>\n",
       "      <th>gt</th>\n",
       "      <th>objective</th>\n",
       "      <th>nl_machine</th>\n",
       "      <th>nl_machine_gt</th>\n",
       "      <th>order_machine</th>\n",
       "      <th>order_machine_gt</th>\n",
       "      <th>order_machine_join</th>\n",
       "      <th>order_machine_join_gt</th>\n",
       "    </tr>\n",
       "  </thead>\n",
       "  <tbody>\n",
       "    <tr>\n",
       "      <th>0</th>\n",
       "      <td>• date133 item15 25870 1 318\\n• date133 item15...</td>\n",
       "      <td>• item15, right? 318? You can do it by May 13t...</td>\n",
       "      <td>• item96 machine35 1.83\\n• item91 machine10 5....</td>\n",
       "      <td>• item15 machine04 date133 149\\n• item15 machi...</td>\n",
       "      <td>1476384</td>\n",
       "      <td>Order information\\n• item15, right? 318? You c...</td>\n",
       "      <td>Order information\\n• item15, right? 318? You c...</td>\n",
       "      <td>Order information\\n• date133 item15 25870 1 31...</td>\n",
       "      <td>Order information\\n• date133 item15 25870 1 31...</td>\n",
       "      <td>• date133 item15 25870 1 318 machine04 12.84\\n...</td>\n",
       "      <td>Order and machine information\\n• date133 item1...</td>\n",
       "    </tr>\n",
       "    <tr>\n",
       "      <th>1</th>\n",
       "      <td>• date144 item16 16229 1 383\\n• date144 item16...</td>\n",
       "      <td>• Oh, I just got the item16 drawing, and it sa...</td>\n",
       "      <td>• item96 machine35 1.83\\n• item91 machine10 5....</td>\n",
       "      <td>• item16 machine07 date144 67\\n• item16 machin...</td>\n",
       "      <td>2076004</td>\n",
       "      <td>Order information\\n• Oh, I just got the item16...</td>\n",
       "      <td>Order information\\n• Oh, I just got the item16...</td>\n",
       "      <td>Order information\\n• date144 item16 16229 1 38...</td>\n",
       "      <td>Order information\\n• date144 item16 16229 1 38...</td>\n",
       "      <td>• date144 item16 16229 1 383 machine07 4.85\\n•...</td>\n",
       "      <td>Order and machine information\\n• date144 item1...</td>\n",
       "    </tr>\n",
       "    <tr>\n",
       "      <th>2</th>\n",
       "      <td>• date041 item05 2990 0 500\\n• date150 item96 ...</td>\n",
       "      <td>• There, I need to do 19 drawings for item96. ...</td>\n",
       "      <td>• item96 machine35 1.83\\n• item91 machine10 5....</td>\n",
       "      <td>• item05 machine10 date041 445\\n• item96 machi...</td>\n",
       "      <td>318500</td>\n",
       "      <td>Order information\\n• There, I need to do 19 dr...</td>\n",
       "      <td>Order information\\n• There, I need to do 19 dr...</td>\n",
       "      <td>Order information\\n• date041 item05 2990 0 500...</td>\n",
       "      <td>Order information\\n• date041 item05 2990 0 500...</td>\n",
       "      <td>• date041 item05 2990 0 500 machine10 4.6\\n• d...</td>\n",
       "      <td>Order and machine information\\n• date041 item0...</td>\n",
       "    </tr>\n",
       "    <tr>\n",
       "      <th>3</th>\n",
       "      <td>• date041 item05 2990 0 500\\n• date049 item95 ...</td>\n",
       "      <td>• Hey, look quickly. item91 4 I have to do it ...</td>\n",
       "      <td>• item91 machine10 5.32\\n• item87 machine05 11...</td>\n",
       "      <td>• item05 machine10 date041 500\\n• item95 machi...</td>\n",
       "      <td>2062705</td>\n",
       "      <td>Order information\\n• Hey, look quickly. item91...</td>\n",
       "      <td>Order information\\n• Hey, look quickly. item91...</td>\n",
       "      <td>Order information\\n• date041 item05 2990 0 500...</td>\n",
       "      <td>Order information\\n• date041 item05 2990 0 500...</td>\n",
       "      <td>• date041 item05 2990 0 500 machine10 4.6\\n• d...</td>\n",
       "      <td>Order and machine information\\n• date041 item0...</td>\n",
       "    </tr>\n",
       "    <tr>\n",
       "      <th>4</th>\n",
       "      <td>• date041 item05 2990 0 500\\n• date049 item95 ...</td>\n",
       "      <td>• item87, right? Doing 196? You can do it unti...</td>\n",
       "      <td>• item87 machine05 11.64\\n• item20 machine17 7...</td>\n",
       "      <td>• item05 machine10 date041 455\\n• item95 machi...</td>\n",
       "      <td>627923</td>\n",
       "      <td>Order information\\n• item87, right? Doing 196?...</td>\n",
       "      <td>Order information\\n• item87, right? Doing 196?...</td>\n",
       "      <td>Order information\\n• date041 item05 2990 0 500...</td>\n",
       "      <td>Order information\\n• date041 item05 2990 0 500...</td>\n",
       "      <td>• date041 item05 2990 0 500 machine10 4.6\\n• d...</td>\n",
       "      <td>Order and machine information\\n• date041 item0...</td>\n",
       "    </tr>\n",
       "  </tbody>\n",
       "</table>\n",
       "</div>"
      ],
      "text/plain": [
       "                                               order  \\\n",
       "0  • date133 item15 25870 1 318\\n• date133 item15...   \n",
       "1  • date144 item16 16229 1 383\\n• date144 item16...   \n",
       "2  • date041 item05 2990 0 500\\n• date150 item96 ...   \n",
       "3  • date041 item05 2990 0 500\\n• date049 item95 ...   \n",
       "4  • date041 item05 2990 0 500\\n• date049 item95 ...   \n",
       "\n",
       "                                                  nl  \\\n",
       "0  • item15, right? 318? You can do it by May 13t...   \n",
       "1  • Oh, I just got the item16 drawing, and it sa...   \n",
       "2  • There, I need to do 19 drawings for item96. ...   \n",
       "3  • Hey, look quickly. item91 4 I have to do it ...   \n",
       "4  • item87, right? Doing 196? You can do it unti...   \n",
       "\n",
       "                                             machine  \\\n",
       "0  • item96 machine35 1.83\\n• item91 machine10 5....   \n",
       "1  • item96 machine35 1.83\\n• item91 machine10 5....   \n",
       "2  • item96 machine35 1.83\\n• item91 machine10 5....   \n",
       "3  • item91 machine10 5.32\\n• item87 machine05 11...   \n",
       "4  • item87 machine05 11.64\\n• item20 machine17 7...   \n",
       "\n",
       "                                                  gt  objective  \\\n",
       "0  • item15 machine04 date133 149\\n• item15 machi...    1476384   \n",
       "1  • item16 machine07 date144 67\\n• item16 machin...    2076004   \n",
       "2  • item05 machine10 date041 445\\n• item96 machi...     318500   \n",
       "3  • item05 machine10 date041 500\\n• item95 machi...    2062705   \n",
       "4  • item05 machine10 date041 455\\n• item95 machi...     627923   \n",
       "\n",
       "                                          nl_machine  \\\n",
       "0  Order information\\n• item15, right? 318? You c...   \n",
       "1  Order information\\n• Oh, I just got the item16...   \n",
       "2  Order information\\n• There, I need to do 19 dr...   \n",
       "3  Order information\\n• Hey, look quickly. item91...   \n",
       "4  Order information\\n• item87, right? Doing 196?...   \n",
       "\n",
       "                                       nl_machine_gt  \\\n",
       "0  Order information\\n• item15, right? 318? You c...   \n",
       "1  Order information\\n• Oh, I just got the item16...   \n",
       "2  Order information\\n• There, I need to do 19 dr...   \n",
       "3  Order information\\n• Hey, look quickly. item91...   \n",
       "4  Order information\\n• item87, right? Doing 196?...   \n",
       "\n",
       "                                       order_machine  \\\n",
       "0  Order information\\n• date133 item15 25870 1 31...   \n",
       "1  Order information\\n• date144 item16 16229 1 38...   \n",
       "2  Order information\\n• date041 item05 2990 0 500...   \n",
       "3  Order information\\n• date041 item05 2990 0 500...   \n",
       "4  Order information\\n• date041 item05 2990 0 500...   \n",
       "\n",
       "                                    order_machine_gt  \\\n",
       "0  Order information\\n• date133 item15 25870 1 31...   \n",
       "1  Order information\\n• date144 item16 16229 1 38...   \n",
       "2  Order information\\n• date041 item05 2990 0 500...   \n",
       "3  Order information\\n• date041 item05 2990 0 500...   \n",
       "4  Order information\\n• date041 item05 2990 0 500...   \n",
       "\n",
       "                                  order_machine_join  \\\n",
       "0  • date133 item15 25870 1 318 machine04 12.84\\n...   \n",
       "1  • date144 item16 16229 1 383 machine07 4.85\\n•...   \n",
       "2  • date041 item05 2990 0 500 machine10 4.6\\n• d...   \n",
       "3  • date041 item05 2990 0 500 machine10 4.6\\n• d...   \n",
       "4  • date041 item05 2990 0 500 machine10 4.6\\n• d...   \n",
       "\n",
       "                               order_machine_join_gt  \n",
       "0  Order and machine information\\n• date133 item1...  \n",
       "1  Order and machine information\\n• date144 item1...  \n",
       "2  Order and machine information\\n• date041 item0...  \n",
       "3  Order and machine information\\n• date041 item0...  \n",
       "4  Order and machine information\\n• date041 item0...  "
      ]
     },
     "execution_count": 245,
     "metadata": {},
     "output_type": "execute_result"
    }
   ],
   "source": [
    "refactored_dataset['order'] = order_for_dataset\n",
    "refactored_dataset['nl'] = order_nl_for_dataset\n",
    "refactored_dataset['machine'] = machine_for_dataset\n",
    "refactored_dataset['gt'] = refactored_gt_for_dataset\n",
    "refactored_dataset['objective'] = best_scores_ls_refac\n",
    "refactored_dataset.head()"
   ]
  },
  {
   "cell_type": "code",
   "execution_count": null,
   "id": "744d650d-c8d6-4f22-b931-c95bdfcf112a",
   "metadata": {},
   "outputs": [],
   "source": []
  },
  {
   "cell_type": "code",
   "execution_count": 125,
   "id": "b0bec50d",
   "metadata": {},
   "outputs": [
    {
     "data": {
      "text/html": [
       "<div>\n",
       "<style scoped>\n",
       "    .dataframe tbody tr th:only-of-type {\n",
       "        vertical-align: middle;\n",
       "    }\n",
       "\n",
       "    .dataframe tbody tr th {\n",
       "        vertical-align: top;\n",
       "    }\n",
       "\n",
       "    .dataframe thead th {\n",
       "        text-align: right;\n",
       "    }\n",
       "</style>\n",
       "<table border=\"1\" class=\"dataframe\">\n",
       "  <thead>\n",
       "    <tr style=\"text-align: right;\">\n",
       "      <th></th>\n",
       "      <th>order</th>\n",
       "      <th>nl</th>\n",
       "      <th>machine</th>\n",
       "      <th>gt</th>\n",
       "      <th>objective</th>\n",
       "      <th>nl_machine</th>\n",
       "      <th>nl_machine_gt</th>\n",
       "      <th>order_machine</th>\n",
       "      <th>order_machine_gt</th>\n",
       "      <th>order_machine_join</th>\n",
       "      <th>order_machine_join_gt</th>\n",
       "    </tr>\n",
       "  </thead>\n",
       "  <tbody>\n",
       "    <tr>\n",
       "      <th>0</th>\n",
       "      <td>• date133 item15 25870 1 318\\n• date133 item15...</td>\n",
       "      <td>• item15, right? 318? You can do it by May 13t...</td>\n",
       "      <td>• item15 machine14 11.23\\n• item16 machine09 5...</td>\n",
       "      <td>• item15 machine04 date133 35\\n• item15 machin...</td>\n",
       "      <td>1792473</td>\n",
       "      <td>Order information\\n• item15, right? 318? You c...</td>\n",
       "      <td>Order information\\n• item15, right? 318? You c...</td>\n",
       "      <td>Order information\\n• date133 item15 25870 1 31...</td>\n",
       "      <td>Order information\\n• date133 item15 25870 1 31...</td>\n",
       "      <td>• date133 item15 25870 1 318 machine04 12.84\\n...</td>\n",
       "      <td>Order and machine information\\n• date133 item1...</td>\n",
       "    </tr>\n",
       "    <tr>\n",
       "      <th>1</th>\n",
       "      <td>• date144 item16 16229 1 383\\n• date144 item16...</td>\n",
       "      <td>• Oh, I just got the item16 drawing, and it sa...</td>\n",
       "      <td>• item16 machine09 5.37\\n• item20 machine14 8....</td>\n",
       "      <td>• item16 machine07 date144 1\\n• item16 machine...</td>\n",
       "      <td>1532972</td>\n",
       "      <td>Order information\\n• Oh, I just got the item16...</td>\n",
       "      <td>Order information\\n• Oh, I just got the item16...</td>\n",
       "      <td>Order information\\n• date144 item16 16229 1 38...</td>\n",
       "      <td>Order information\\n• date144 item16 16229 1 38...</td>\n",
       "      <td>• date144 item16 16229 1 383 machine07 4.85\\n•...</td>\n",
       "      <td>Order and machine information\\n• date144 item1...</td>\n",
       "    </tr>\n",
       "    <tr>\n",
       "      <th>2</th>\n",
       "      <td>• date041 item05 2990 0 500\\n• date150 item96 ...</td>\n",
       "      <td>• There, I need to do 19 drawings for item96. ...</td>\n",
       "      <td>• item20 machine14 8.65\\n• item96 machine29 7....</td>\n",
       "      <td>• item05 machine10 date041 102\\n• item96 machi...</td>\n",
       "      <td>1865500</td>\n",
       "      <td>Order information\\n• There, I need to do 19 dr...</td>\n",
       "      <td>Order information\\n• There, I need to do 19 dr...</td>\n",
       "      <td>Order information\\n• date041 item05 2990 0 500...</td>\n",
       "      <td>Order information\\n• date041 item05 2990 0 500...</td>\n",
       "      <td>• date041 item05 2990 0 500 machine10 4.6\\n• d...</td>\n",
       "      <td>Order and machine information\\n• date041 item0...</td>\n",
       "    </tr>\n",
       "    <tr>\n",
       "      <th>3</th>\n",
       "      <td>• date041 item05 2990 0 500\\n• date049 item95 ...</td>\n",
       "      <td>• Hey, look quickly. item91 4 I have to do it ...</td>\n",
       "      <td>• item20 machine14 8.65\\n• item95 machine19 20...</td>\n",
       "      <td>• item95 machine19 date049 2\\n• item91 machine...</td>\n",
       "      <td>1231564</td>\n",
       "      <td>Order information\\n• Hey, look quickly. item91...</td>\n",
       "      <td>Order information\\n• Hey, look quickly. item91...</td>\n",
       "      <td>Order information\\n• date041 item05 2990 0 500...</td>\n",
       "      <td>Order information\\n• date041 item05 2990 0 500...</td>\n",
       "      <td>• date041 item05 2990 0 500 machine10 4.6\\n• d...</td>\n",
       "      <td>Order and machine information\\n• date041 item0...</td>\n",
       "    </tr>\n",
       "    <tr>\n",
       "      <th>4</th>\n",
       "      <td>• date041 item05 2990 0 500\\n• date049 item95 ...</td>\n",
       "      <td>• item87, right? Doing 196? You can do it unti...</td>\n",
       "      <td>• item20 machine14 8.65\\n• item95 machine19 20...</td>\n",
       "      <td>• item05 machine10 date041 36\\n• item05 machin...</td>\n",
       "      <td>1037423</td>\n",
       "      <td>Order information\\n• item87, right? Doing 196?...</td>\n",
       "      <td>Order information\\n• item87, right? Doing 196?...</td>\n",
       "      <td>Order information\\n• date041 item05 2990 0 500...</td>\n",
       "      <td>Order information\\n• date041 item05 2990 0 500...</td>\n",
       "      <td>• date041 item05 2990 0 500 machine10 4.6\\n• d...</td>\n",
       "      <td>Order and machine information\\n• date041 item0...</td>\n",
       "    </tr>\n",
       "  </tbody>\n",
       "</table>\n",
       "</div>"
      ],
      "text/plain": [
       "                                               order  \\\n",
       "0  • date133 item15 25870 1 318\\n• date133 item15...   \n",
       "1  • date144 item16 16229 1 383\\n• date144 item16...   \n",
       "2  • date041 item05 2990 0 500\\n• date150 item96 ...   \n",
       "3  • date041 item05 2990 0 500\\n• date049 item95 ...   \n",
       "4  • date041 item05 2990 0 500\\n• date049 item95 ...   \n",
       "\n",
       "                                                  nl  \\\n",
       "0  • item15, right? 318? You can do it by May 13t...   \n",
       "1  • Oh, I just got the item16 drawing, and it sa...   \n",
       "2  • There, I need to do 19 drawings for item96. ...   \n",
       "3  • Hey, look quickly. item91 4 I have to do it ...   \n",
       "4  • item87, right? Doing 196? You can do it unti...   \n",
       "\n",
       "                                             machine  \\\n",
       "0  • item15 machine14 11.23\\n• item16 machine09 5...   \n",
       "1  • item16 machine09 5.37\\n• item20 machine14 8....   \n",
       "2  • item20 machine14 8.65\\n• item96 machine29 7....   \n",
       "3  • item20 machine14 8.65\\n• item95 machine19 20...   \n",
       "4  • item20 machine14 8.65\\n• item95 machine19 20...   \n",
       "\n",
       "                                                  gt  objective  \\\n",
       "0  • item15 machine04 date133 35\\n• item15 machin...    1792473   \n",
       "1  • item16 machine07 date144 1\\n• item16 machine...    1532972   \n",
       "2  • item05 machine10 date041 102\\n• item96 machi...    1865500   \n",
       "3  • item95 machine19 date049 2\\n• item91 machine...    1231564   \n",
       "4  • item05 machine10 date041 36\\n• item05 machin...    1037423   \n",
       "\n",
       "                                          nl_machine  \\\n",
       "0  Order information\\n• item15, right? 318? You c...   \n",
       "1  Order information\\n• Oh, I just got the item16...   \n",
       "2  Order information\\n• There, I need to do 19 dr...   \n",
       "3  Order information\\n• Hey, look quickly. item91...   \n",
       "4  Order information\\n• item87, right? Doing 196?...   \n",
       "\n",
       "                                       nl_machine_gt  \\\n",
       "0  Order information\\n• item15, right? 318? You c...   \n",
       "1  Order information\\n• Oh, I just got the item16...   \n",
       "2  Order information\\n• There, I need to do 19 dr...   \n",
       "3  Order information\\n• Hey, look quickly. item91...   \n",
       "4  Order information\\n• item87, right? Doing 196?...   \n",
       "\n",
       "                                       order_machine  \\\n",
       "0  Order information\\n• date133 item15 25870 1 31...   \n",
       "1  Order information\\n• date144 item16 16229 1 38...   \n",
       "2  Order information\\n• date041 item05 2990 0 500...   \n",
       "3  Order information\\n• date041 item05 2990 0 500...   \n",
       "4  Order information\\n• date041 item05 2990 0 500...   \n",
       "\n",
       "                                    order_machine_gt  \\\n",
       "0  Order information\\n• date133 item15 25870 1 31...   \n",
       "1  Order information\\n• date144 item16 16229 1 38...   \n",
       "2  Order information\\n• date041 item05 2990 0 500...   \n",
       "3  Order information\\n• date041 item05 2990 0 500...   \n",
       "4  Order information\\n• date041 item05 2990 0 500...   \n",
       "\n",
       "                                  order_machine_join  \\\n",
       "0  • date133 item15 25870 1 318 machine04 12.84\\n...   \n",
       "1  • date144 item16 16229 1 383 machine07 4.85\\n•...   \n",
       "2  • date041 item05 2990 0 500 machine10 4.6\\n• d...   \n",
       "3  • date041 item05 2990 0 500 machine10 4.6\\n• d...   \n",
       "4  • date041 item05 2990 0 500 machine10 4.6\\n• d...   \n",
       "\n",
       "                               order_machine_join_gt  \n",
       "0  Order and machine information\\n• date133 item1...  \n",
       "1  Order and machine information\\n• date144 item1...  \n",
       "2  Order and machine information\\n• date041 item0...  \n",
       "3  Order and machine information\\n• date041 item0...  \n",
       "4  Order and machine information\\n• date041 item0...  "
      ]
     },
     "execution_count": 125,
     "metadata": {},
     "output_type": "execute_result"
    }
   ],
   "source": [
    "dataset['nl_machine'] = (\n",
    "    \"Order information\\n\" + dataset['nl'] + \"\\n\\n\" +\n",
    "    \"Machine information\\n\" + dataset['machine']\n",
    ")\n",
    "\n",
    "dataset['nl_machine_gt'] = (\n",
    "    \"Order information\\n\" + dataset['nl'] + \"\\n\\n\" +\n",
    "    \"Machine information\\n\" + dataset['machine'] + \"\\n\\n\" +\n",
    "    \"Schedule result\\n\" + dataset['gt']\n",
    ")\n",
    "\n",
    "dataset['order_machine'] = (\n",
    "    \"Order information\\n\" + dataset['order'] + \"\\n\\n\" +\n",
    "    \"Machine information\\n\" + dataset['machine']\n",
    ")\n",
    "\n",
    "dataset['order_machine_gt'] = (\n",
    "    \"Order information\\n\" + dataset['order'] + \"\\n\\n\" +\n",
    "    \"Machine information\\n\" + dataset['machine'] + \"\\n\\n\" +\n",
    "    \"Schedule result\\n\" + dataset['gt']\n",
    ")\n",
    "\n",
    "dataset['order_machine_join'] = order_machine_join\n",
    "\n",
    "dataset['order_machine_join_gt'] = (\n",
    "    \"Order and machine information\\n\" + dataset['order_machine_join'] + \"\\n\\n\" +\n",
    "    \"Schedule result\\n\" + dataset['gt']\n",
    ")\n",
    "\n",
    "dataset.head()"
   ]
  },
  {
   "cell_type": "code",
   "execution_count": 234,
   "id": "fc0a1279-273d-4103-879a-0de35cdcabfa",
   "metadata": {},
   "outputs": [
    {
     "data": {
      "text/html": [
       "<div>\n",
       "<style scoped>\n",
       "    .dataframe tbody tr th:only-of-type {\n",
       "        vertical-align: middle;\n",
       "    }\n",
       "\n",
       "    .dataframe tbody tr th {\n",
       "        vertical-align: top;\n",
       "    }\n",
       "\n",
       "    .dataframe thead th {\n",
       "        text-align: right;\n",
       "    }\n",
       "</style>\n",
       "<table border=\"1\" class=\"dataframe\">\n",
       "  <thead>\n",
       "    <tr style=\"text-align: right;\">\n",
       "      <th></th>\n",
       "      <th>order</th>\n",
       "      <th>nl</th>\n",
       "      <th>machine</th>\n",
       "      <th>gt</th>\n",
       "      <th>objective</th>\n",
       "      <th>nl_machine</th>\n",
       "      <th>nl_machine_gt</th>\n",
       "      <th>order_machine</th>\n",
       "      <th>order_machine_gt</th>\n",
       "      <th>order_machine_join</th>\n",
       "      <th>order_machine_join_gt</th>\n",
       "    </tr>\n",
       "  </thead>\n",
       "  <tbody>\n",
       "    <tr>\n",
       "      <th>0</th>\n",
       "      <td>• date133 item15 25870 1 318\\n• date133 item15...</td>\n",
       "      <td>• item15, right? 318? You can do it by May 13t...</td>\n",
       "      <td>• item96 machine35 1.83\\n• item91 machine10 5....</td>\n",
       "      <td>• item15 machine04 date133 149\\n• item15 machi...</td>\n",
       "      <td>340059.0</td>\n",
       "      <td>Order information\\n• item15, right? 318? You c...</td>\n",
       "      <td>Order information\\n• item15, right? 318? You c...</td>\n",
       "      <td>Order information\\n• date133 item15 25870 1 31...</td>\n",
       "      <td>Order information\\n• date133 item15 25870 1 31...</td>\n",
       "      <td>• date133 item15 25870 1 318 machine04 12.84\\n...</td>\n",
       "      <td>Order and machine information\\n• date133 item1...</td>\n",
       "    </tr>\n",
       "    <tr>\n",
       "      <th>1</th>\n",
       "      <td>• date144 item16 16229 1 383\\n• date144 item16...</td>\n",
       "      <td>• Oh, I just got the item16 drawing, and it sa...</td>\n",
       "      <td>• item96 machine35 1.83\\n• item91 machine10 5....</td>\n",
       "      <td>• item16 machine07 date144 67\\n• item16 machin...</td>\n",
       "      <td>3303782.0</td>\n",
       "      <td>Order information\\n• Oh, I just got the item16...</td>\n",
       "      <td>Order information\\n• Oh, I just got the item16...</td>\n",
       "      <td>Order information\\n• date144 item16 16229 1 38...</td>\n",
       "      <td>Order information\\n• date144 item16 16229 1 38...</td>\n",
       "      <td>• date144 item16 16229 1 383 machine07 4.85\\n•...</td>\n",
       "      <td>Order and machine information\\n• date144 item1...</td>\n",
       "    </tr>\n",
       "    <tr>\n",
       "      <th>2</th>\n",
       "      <td>• date041 item05 2990 0 500\\n• date150 item96 ...</td>\n",
       "      <td>• There, I need to do 19 drawings for item96. ...</td>\n",
       "      <td>• item96 machine35 1.83\\n• item91 machine10 5....</td>\n",
       "      <td>• item05 machine10 date041 445\\n• item96 machi...</td>\n",
       "      <td>1559256.0</td>\n",
       "      <td>Order information\\n• There, I need to do 19 dr...</td>\n",
       "      <td>Order information\\n• There, I need to do 19 dr...</td>\n",
       "      <td>Order information\\n• date041 item05 2990 0 500...</td>\n",
       "      <td>Order information\\n• date041 item05 2990 0 500...</td>\n",
       "      <td>• date041 item05 2990 0 500 machine10 4.6\\n• d...</td>\n",
       "      <td>Order and machine information\\n• date041 item0...</td>\n",
       "    </tr>\n",
       "    <tr>\n",
       "      <th>3</th>\n",
       "      <td>• date041 item05 2990 0 500\\n• date049 item95 ...</td>\n",
       "      <td>• Hey, look quickly. item91 4 I have to do it ...</td>\n",
       "      <td>• item91 machine10 5.32\\n• item87 machine05 11...</td>\n",
       "      <td>• item05 machine10 date041 500\\n• item95 machi...</td>\n",
       "      <td>1362051.0</td>\n",
       "      <td>Order information\\n• Hey, look quickly. item91...</td>\n",
       "      <td>Order information\\n• Hey, look quickly. item91...</td>\n",
       "      <td>Order information\\n• date041 item05 2990 0 500...</td>\n",
       "      <td>Order information\\n• date041 item05 2990 0 500...</td>\n",
       "      <td>• date041 item05 2990 0 500 machine10 4.6\\n• d...</td>\n",
       "      <td>Order and machine information\\n• date041 item0...</td>\n",
       "    </tr>\n",
       "    <tr>\n",
       "      <th>4</th>\n",
       "      <td>• date041 item05 2990 0 500\\n• date049 item95 ...</td>\n",
       "      <td>• item87, right? Doing 196? You can do it unti...</td>\n",
       "      <td>• item87 machine05 11.64\\n• item20 machine17 7...</td>\n",
       "      <td>• item05 machine10 date041 455\\n• item95 machi...</td>\n",
       "      <td>2554128.0</td>\n",
       "      <td>Order information\\n• item87, right? Doing 196?...</td>\n",
       "      <td>Order information\\n• item87, right? Doing 196?...</td>\n",
       "      <td>Order information\\n• date041 item05 2990 0 500...</td>\n",
       "      <td>Order information\\n• date041 item05 2990 0 500...</td>\n",
       "      <td>• date041 item05 2990 0 500 machine10 4.6\\n• d...</td>\n",
       "      <td>Order and machine information\\n• date041 item0...</td>\n",
       "    </tr>\n",
       "  </tbody>\n",
       "</table>\n",
       "</div>"
      ],
      "text/plain": [
       "                                               order  \\\n",
       "0  • date133 item15 25870 1 318\\n• date133 item15...   \n",
       "1  • date144 item16 16229 1 383\\n• date144 item16...   \n",
       "2  • date041 item05 2990 0 500\\n• date150 item96 ...   \n",
       "3  • date041 item05 2990 0 500\\n• date049 item95 ...   \n",
       "4  • date041 item05 2990 0 500\\n• date049 item95 ...   \n",
       "\n",
       "                                                  nl  \\\n",
       "0  • item15, right? 318? You can do it by May 13t...   \n",
       "1  • Oh, I just got the item16 drawing, and it sa...   \n",
       "2  • There, I need to do 19 drawings for item96. ...   \n",
       "3  • Hey, look quickly. item91 4 I have to do it ...   \n",
       "4  • item87, right? Doing 196? You can do it unti...   \n",
       "\n",
       "                                             machine  \\\n",
       "0  • item96 machine35 1.83\\n• item91 machine10 5....   \n",
       "1  • item96 machine35 1.83\\n• item91 machine10 5....   \n",
       "2  • item96 machine35 1.83\\n• item91 machine10 5....   \n",
       "3  • item91 machine10 5.32\\n• item87 machine05 11...   \n",
       "4  • item87 machine05 11.64\\n• item20 machine17 7...   \n",
       "\n",
       "                                                  gt  objective  \\\n",
       "0  • item15 machine04 date133 149\\n• item15 machi...   340059.0   \n",
       "1  • item16 machine07 date144 67\\n• item16 machin...  3303782.0   \n",
       "2  • item05 machine10 date041 445\\n• item96 machi...  1559256.0   \n",
       "3  • item05 machine10 date041 500\\n• item95 machi...  1362051.0   \n",
       "4  • item05 machine10 date041 455\\n• item95 machi...  2554128.0   \n",
       "\n",
       "                                          nl_machine  \\\n",
       "0  Order information\\n• item15, right? 318? You c...   \n",
       "1  Order information\\n• Oh, I just got the item16...   \n",
       "2  Order information\\n• There, I need to do 19 dr...   \n",
       "3  Order information\\n• Hey, look quickly. item91...   \n",
       "4  Order information\\n• item87, right? Doing 196?...   \n",
       "\n",
       "                                       nl_machine_gt  \\\n",
       "0  Order information\\n• item15, right? 318? You c...   \n",
       "1  Order information\\n• Oh, I just got the item16...   \n",
       "2  Order information\\n• There, I need to do 19 dr...   \n",
       "3  Order information\\n• Hey, look quickly. item91...   \n",
       "4  Order information\\n• item87, right? Doing 196?...   \n",
       "\n",
       "                                       order_machine  \\\n",
       "0  Order information\\n• date133 item15 25870 1 31...   \n",
       "1  Order information\\n• date144 item16 16229 1 38...   \n",
       "2  Order information\\n• date041 item05 2990 0 500...   \n",
       "3  Order information\\n• date041 item05 2990 0 500...   \n",
       "4  Order information\\n• date041 item05 2990 0 500...   \n",
       "\n",
       "                                    order_machine_gt  \\\n",
       "0  Order information\\n• date133 item15 25870 1 31...   \n",
       "1  Order information\\n• date144 item16 16229 1 38...   \n",
       "2  Order information\\n• date041 item05 2990 0 500...   \n",
       "3  Order information\\n• date041 item05 2990 0 500...   \n",
       "4  Order information\\n• date041 item05 2990 0 500...   \n",
       "\n",
       "                                  order_machine_join  \\\n",
       "0  • date133 item15 25870 1 318 machine04 12.84\\n...   \n",
       "1  • date144 item16 16229 1 383 machine07 4.85\\n•...   \n",
       "2  • date041 item05 2990 0 500 machine10 4.6\\n• d...   \n",
       "3  • date041 item05 2990 0 500 machine10 4.6\\n• d...   \n",
       "4  • date041 item05 2990 0 500 machine10 4.6\\n• d...   \n",
       "\n",
       "                               order_machine_join_gt  \n",
       "0  Order and machine information\\n• date133 item1...  \n",
       "1  Order and machine information\\n• date144 item1...  \n",
       "2  Order and machine information\\n• date041 item0...  \n",
       "3  Order and machine information\\n• date041 item0...  \n",
       "4  Order and machine information\\n• date041 item0...  "
      ]
     },
     "execution_count": 234,
     "metadata": {},
     "output_type": "execute_result"
    }
   ],
   "source": [
    "refactored_dataset['nl_machine'] = (\n",
    "    \"Order information\\n\" + refactored_dataset['nl'] + \"\\n\\n\" +\n",
    "    \"Machine information\\n\" + refactored_dataset['machine']\n",
    ")\n",
    "\n",
    "refactored_dataset['nl_machine_gt'] = (\n",
    "    \"Order information\\n\" + refactored_dataset['nl'] + \"\\n\\n\" +\n",
    "    \"Machine information\\n\" + refactored_dataset['machine'] + \"\\n\\n\" +\n",
    "    \"Schedule result\\n\" + dataset['gt']\n",
    ")\n",
    "\n",
    "refactored_dataset['order_machine'] = (\n",
    "    \"Order information\\n\" + refactored_dataset['order'] + \"\\n\\n\" +\n",
    "    \"Machine information\\n\" + refactored_dataset['machine']\n",
    ")\n",
    "\n",
    "refactored_dataset['order_machine_gt'] = (\n",
    "    \"Order information\\n\" + refactored_dataset['order'] + \"\\n\\n\" +\n",
    "    \"Machine information\\n\" + refactored_dataset['machine'] + \"\\n\\n\" +\n",
    "    \"Schedule result\\n\" + refactored_dataset['gt']\n",
    ")\n",
    "\n",
    "refactored_dataset['order_machine_join'] = order_machine_join\n",
    "\n",
    "refactored_dataset['order_machine_join_gt'] = (\n",
    "    \"Order and machine information\\n\" + refactored_dataset['order_machine_join'] + \"\\n\\n\" +\n",
    "    \"Schedule result\\n\" + refactored_dataset['gt']\n",
    ")\n",
    "\n",
    "refactored_dataset.head()"
   ]
  },
  {
   "cell_type": "code",
   "execution_count": 126,
   "id": "6b285726",
   "metadata": {},
   "outputs": [
    {
     "name": "stdout",
     "output_type": "stream",
     "text": [
      "Order information\n",
      "• date133 item15 25870 1 318\n",
      "• date133 item15 25870 1 318\n",
      "• date133 item15 25870 1 318\n",
      "• date133 item15 25870 1 318\n",
      "• date133 item15 25870 1 318\n",
      "• date133 item15 25870 1 318\n",
      "• date133 item15 25870 1 318\n",
      "• date133 item15 25870 1 318\n",
      "• date133 item15 25870 1 318\n",
      "• date133 item15 25870 1 318\n",
      "• date133 item15 25870 1 318\n",
      "• date133 item15 25870 1 318\n",
      "• date133 item15 25870 1 318\n",
      "• date133 item15 25870 1 318\n",
      "• date133 item15 25870 1 318\n",
      "• date133 item15 25870 1 318\n",
      "• date133 item15 25870 1 318\n",
      "• date133 item15 25870 1 318\n",
      "• date144 item16 16229 1 383\n",
      "• date144 item16 16229 1 383\n",
      "• date144 item16 16229 1 383\n",
      "• date144 item16 16229 1 383\n",
      "• date144 item16 16229 1 383\n",
      "• date144 item16 16229 1 383\n",
      "• date144 item16 16229 1 383\n",
      "• date144 item16 16229 1 383\n",
      "• date144 item16 16229 1 383\n",
      "• date144 item16 16229 1 383\n",
      "• date144 item16 16229 1 383\n",
      "• date144 item16 16229 1 383\n",
      "• date144 item16 16229 1 383\n",
      "• date150 item96 8333 0 19\n",
      "• date150 item96 8333 0 19\n",
      "• date150 item96 8333 0 19\n",
      "• date150 item96 8333 0 19\n",
      "• date150 item96 8333 0 19\n",
      "• date150 item96 8333 0 19\n",
      "• date150 item96 8333 0 19\n",
      "• date150 item96 8333 0 19\n",
      "• date150 item96 8333 0 19\n",
      "• date150 item96 8333 0 19\n",
      "• date150 item96 8333 0 19\n",
      "• date150 item96 8333 0 19\n",
      "• date150 item96 8333 0 19\n",
      "• date154 item91 36533 0 4\n",
      "• date154 item91 36533 0 4\n",
      "• date154 item91 36533 0 4\n",
      "• date154 item91 36533 0 4\n",
      "• date154 item91 36533 0 4\n",
      "• date154 item91 36533 0 4\n",
      "• date154 item91 36533 0 4\n",
      "• date154 item91 36533 0 4\n",
      "• date154 item91 36533 0 4\n",
      "• date169 item87 45500 1 196\n",
      "• date169 item87 45500 1 196\n",
      "• date169 item87 45500 1 196\n",
      "• date169 item87 45500 1 196\n",
      "• date169 item87 45500 1 196\n",
      "• date169 item87 45500 1 196\n",
      "• date169 item87 45500 1 196\n",
      "• date169 item87 45500 1 196\n",
      "• date169 item87 45500 1 196\n",
      "• date169 item87 45500 1 196\n",
      "\n",
      "Machine information\n",
      "• item15 machine14 11.23\n",
      "• item16 machine09 5.37\n",
      "• item16 machine29 3.86\n",
      "• item16 machine23 6.25\n",
      "• item96 machine29 7.12\n",
      "• item87 machine17 12.0\n",
      "• item15 machine12 12.32\n",
      "• item16 machine31 4.53\n",
      "• item96 machine09 5.92\n",
      "• item16 machine30 3.8\n",
      "• item91 machine28 4.33\n",
      "• item96 machine08 4.89\n",
      "• item15 machine21 9.87\n",
      "• item96 machine21 4.6\n",
      "• item16 machine07 4.85\n",
      "• item87 machine33 6.9\n",
      "• item87 machine19 10.0\n",
      "• item15 machine30 9.0\n",
      "• item96 machine22 4.54\n",
      "• item91 machine10 5.32\n",
      "• item15 machine35 9.4\n",
      "• item15 machine09 10.33\n",
      "• item15 machine10 8.99\n",
      "• item96 machine14 1.03\n",
      "• item91 machine29 5.32\n",
      "• item87 machine03 6.5\n",
      "• item91 machine09 4.03\n",
      "• item15 machine28 9.54\n",
      "• item91 machine34 5.25\n",
      "• item15 machine07 8.69\n",
      "• item91 machine21 4.8\n",
      "• item96 machine35 1.83\n",
      "• item15 machine05 10.42\n",
      "• item15 machine33 4.4\n",
      "• item16 machine14 2.73\n",
      "• item16 machine10 3.09\n",
      "• item16 machine08 3.83\n",
      "• item96 machine12 3.5\n",
      "• item91 machine35 4.5\n",
      "• item91 machine14 4.0\n",
      "• item15 machine29 13.05\n",
      "• item15 machine08 9.12\n",
      "• item96 machine34 3.0\n",
      "• item96 machine23 3.83\n",
      "• item87 machine32 5.49\n",
      "• item96 machine30 1.32\n",
      "• item16 machine21 3.94\n",
      "• item87 machine01 5.88\n",
      "• item96 machine28 4.64\n",
      "• item91 machine08 4.42\n",
      "• item87 machine05 11.64\n",
      "• item15 machine04 12.84\n",
      "• item15 machine34 12.47\n",
      "• item87 machine18 11.82\n",
      "• item87 machine21 7.85\n",
      "• item16 machine22 5.47\n",
      "• item16 machine28 3.37\n",
      "• item15 machine31 9.0\n",
      "• item96 machine10 4.91\n",
      "• item15 machine20 4.0\n",
      "• item15 machine23 11.77\n",
      "• item16 machine35 3.85\n",
      "• item87 machine20 11.37\n",
      "\n",
      "Schedule result\n",
      "• item15 machine04 date133 35\n",
      "• item15 machine07 date133 47\n",
      "• item15 machine10 date133 45\n",
      "• item15 machine14 date133 17\n",
      "• item15 machine30 date133 9\n",
      "• item15 machine33 date133 131\n",
      "• item16 machine10 date144 113\n",
      "• item16 machine14 date144 196\n",
      "• item16 machine21 date144 18\n",
      "• item16 machine28 date144 39\n",
      "• item96 machine08 date150 9\n",
      "• item96 machine09 date150 4\n",
      "• item96 machine10 date150 1\n",
      "• item96 machine12 date150 8\n",
      "• item96 machine14 date150 11\n",
      "• item96 machine21 date150 8\n",
      "• item96 machine22 date150 18\n",
      "• item96 machine23 date150 5\n",
      "• item96 machine28 date150 5\n",
      "• item96 machine29 date150 5\n",
      "• item96 machine30 date150 11\n",
      "• item96 machine34 date150 7\n",
      "• item96 machine35 date150 4\n",
      "• item91 machine08 date154 2\n",
      "• item91 machine10 date154 1\n",
      "• item91 machine14 date154 1\n",
      "• item91 machine28 date154 3\n",
      "• item91 machine29 date154 2\n",
      "• item91 machine34 date154 4\n",
      "• item91 machine35 date154 1\n",
      "• item87 machine03 date169 83\n",
      "• item87 machine21 date169 16\n",
      "• item87 machine32 date169 54\n",
      "• item87 machine33 date169 29\n"
     ]
    }
   ],
   "source": [
    "print(dataset.iloc[0, -3])"
   ]
  },
  {
   "cell_type": "code",
   "execution_count": 235,
   "id": "e7b7c9ea-a275-471b-999e-0a0dbe29b74a",
   "metadata": {},
   "outputs": [
    {
     "name": "stdout",
     "output_type": "stream",
     "text": [
      "Order information\n",
      "• date133 item15 25870 1 318\n",
      "• date133 item15 25870 1 318\n",
      "• date133 item15 25870 1 318\n",
      "• date133 item15 25870 1 318\n",
      "• date133 item15 25870 1 318\n",
      "• date133 item15 25870 1 318\n",
      "• date133 item15 25870 1 318\n",
      "• date133 item15 25870 1 318\n",
      "• date133 item15 25870 1 318\n",
      "• date133 item15 25870 1 318\n",
      "• date133 item15 25870 1 318\n",
      "• date133 item15 25870 1 318\n",
      "• date133 item15 25870 1 318\n",
      "• date133 item15 25870 1 318\n",
      "• date133 item15 25870 1 318\n",
      "• date133 item15 25870 1 318\n",
      "• date133 item15 25870 1 318\n",
      "• date133 item15 25870 1 318\n",
      "• date144 item16 16229 1 383\n",
      "• date144 item16 16229 1 383\n",
      "• date144 item16 16229 1 383\n",
      "• date144 item16 16229 1 383\n",
      "• date144 item16 16229 1 383\n",
      "• date144 item16 16229 1 383\n",
      "• date144 item16 16229 1 383\n",
      "• date144 item16 16229 1 383\n",
      "• date144 item16 16229 1 383\n",
      "• date144 item16 16229 1 383\n",
      "• date144 item16 16229 1 383\n",
      "• date144 item16 16229 1 383\n",
      "• date144 item16 16229 1 383\n",
      "• date150 item96 8333 0 19\n",
      "• date150 item96 8333 0 19\n",
      "• date150 item96 8333 0 19\n",
      "• date150 item96 8333 0 19\n",
      "• date150 item96 8333 0 19\n",
      "• date150 item96 8333 0 19\n",
      "• date150 item96 8333 0 19\n",
      "• date150 item96 8333 0 19\n",
      "• date150 item96 8333 0 19\n",
      "• date150 item96 8333 0 19\n",
      "• date150 item96 8333 0 19\n",
      "• date150 item96 8333 0 19\n",
      "• date150 item96 8333 0 19\n",
      "• date154 item91 36533 0 4\n",
      "• date154 item91 36533 0 4\n",
      "• date154 item91 36533 0 4\n",
      "• date154 item91 36533 0 4\n",
      "• date154 item91 36533 0 4\n",
      "• date154 item91 36533 0 4\n",
      "• date154 item91 36533 0 4\n",
      "• date154 item91 36533 0 4\n",
      "• date154 item91 36533 0 4\n",
      "• date169 item87 45500 1 196\n",
      "• date169 item87 45500 1 196\n",
      "• date169 item87 45500 1 196\n",
      "• date169 item87 45500 1 196\n",
      "• date169 item87 45500 1 196\n",
      "• date169 item87 45500 1 196\n",
      "• date169 item87 45500 1 196\n",
      "• date169 item87 45500 1 196\n",
      "• date169 item87 45500 1 196\n",
      "• date169 item87 45500 1 196\n",
      "\n",
      "Machine information\n",
      "• item96 machine35 1.83\n",
      "• item91 machine10 5.32\n",
      "• item15 machine35 9.4\n",
      "• item96 machine29 7.12\n",
      "• item87 machine05 11.64\n",
      "• item15 machine07 8.69\n",
      "• item16 machine08 3.83\n",
      "• item96 machine09 5.92\n",
      "• item91 machine28 4.33\n",
      "• item15 machine21 9.87\n",
      "• item15 machine30 9.0\n",
      "• item16 machine14 2.73\n",
      "• item15 machine33 4.4\n",
      "• item87 machine33 6.9\n",
      "• item16 machine29 3.86\n",
      "• item16 machine09 5.37\n",
      "• item96 machine12 3.5\n",
      "• item15 machine14 11.23\n",
      "• item87 machine20 11.37\n",
      "• item15 machine31 9.0\n",
      "• item15 machine08 9.12\n",
      "• item96 machine22 4.54\n",
      "• item91 machine09 4.03\n",
      "• item16 machine07 4.85\n",
      "• item87 machine03 6.5\n",
      "• item15 machine28 9.54\n",
      "• item16 machine28 3.37\n",
      "• item87 machine19 10.0\n",
      "• item15 machine12 12.32\n",
      "• item91 machine35 4.5\n",
      "• item15 machine29 13.05\n",
      "• item87 machine32 5.49\n",
      "• item16 machine31 4.53\n",
      "• item16 machine35 3.85\n",
      "• item15 machine20 4.0\n",
      "• item91 machine21 4.8\n",
      "• item91 machine08 4.42\n",
      "• item96 machine28 4.64\n",
      "• item96 machine30 1.32\n",
      "• item87 machine01 5.88\n",
      "• item96 machine21 4.6\n",
      "• item91 machine34 5.25\n",
      "• item96 machine23 3.83\n",
      "• item16 machine22 5.47\n",
      "• item96 machine34 3.0\n",
      "• item91 machine29 5.32\n",
      "• item87 machine17 12.0\n",
      "• item87 machine18 11.82\n",
      "• item16 machine23 6.25\n",
      "• item16 machine10 3.09\n",
      "• item15 machine05 10.42\n",
      "• item96 machine14 1.03\n",
      "• item15 machine09 10.33\n",
      "• item15 machine10 8.99\n",
      "• item15 machine04 12.84\n",
      "• item16 machine30 3.8\n",
      "• item15 machine34 12.47\n",
      "• item96 machine08 4.89\n",
      "• item91 machine14 4.0\n",
      "• item87 machine21 7.85\n",
      "• item16 machine21 3.94\n",
      "• item96 machine10 4.91\n",
      "• item15 machine23 11.77\n",
      "\n",
      "Schedule result\n",
      "• item15 machine04 date133 149\n",
      "• item15 machine05 date133 27\n",
      "• item15 machine07 date133 139\n",
      "• item15 machine08 date133 25\n",
      "• item15 machine09 date133 3\n",
      "• item15 machine10 date133 7\n",
      "• item15 machine12 date133 31\n",
      "• item15 machine14 date133 302\n",
      "• item15 machine20 date133 106\n",
      "• item15 machine21 date133 207\n",
      "• item15 machine23 date133 144\n",
      "• item15 machine28 date133 207\n",
      "• item15 machine29 date133 258\n",
      "• item15 machine30 date133 43\n",
      "• item15 machine31 date133 42\n",
      "• item15 machine33 date133 8\n",
      "• item15 machine34 date133 309\n",
      "• item15 machine35 date133 156\n",
      "• item16 machine07 date144 111\n",
      "• item16 machine08 date144 364\n",
      "• item16 machine09 date144 65\n",
      "• item16 machine10 date144 55\n",
      "• item16 machine14 date144 45\n",
      "• item16 machine21 date144 268\n",
      "• item16 machine22 date144 137\n",
      "• item16 machine23 date144 272\n",
      "• item16 machine28 date144 281\n",
      "• item16 machine29 date144 51\n",
      "• item16 machine30 date144 288\n",
      "• item16 machine31 date144 374\n",
      "• item16 machine35 date144 2\n",
      "• item96 machine08 date150 16\n",
      "• item96 machine09 date150 1\n",
      "• item96 machine10 date150 14\n",
      "• item96 machine12 date150 14\n",
      "• item96 machine14 date150 12\n",
      "• item96 machine21 date150 18\n",
      "• item96 machine22 date150 6\n",
      "• item96 machine23 date150 19\n",
      "• item96 machine28 date150 2\n",
      "• item96 machine29 date150 11\n",
      "• item96 machine30 date150 1\n",
      "• item96 machine34 date150 10\n",
      "• item96 machine35 date150 14\n",
      "• item91 machine08 date154 2\n",
      "• item91 machine09 date154 3\n",
      "• item91 machine10 date154 2\n",
      "• item91 machine14 date154 2\n",
      "• item91 machine21 date154 3\n",
      "• item91 machine28 date154 2\n",
      "• item91 machine34 date154 1\n",
      "• item91 machine35 date154 4\n",
      "• item87 machine01 date169 41\n",
      "• item87 machine03 date169 8\n",
      "• item87 machine05 date169 113\n",
      "• item87 machine17 date169 38\n",
      "• item87 machine18 date169 43\n",
      "• item87 machine19 date169 106\n",
      "• item87 machine20 date169 188\n",
      "• item87 machine21 date169 24\n",
      "• item87 machine32 date169 40\n",
      "• item87 machine33 date169 177\n"
     ]
    }
   ],
   "source": [
    "print(refactored_dataset.iloc[0, -3])"
   ]
  },
  {
   "cell_type": "code",
   "execution_count": 127,
   "id": "ef858ad0",
   "metadata": {},
   "outputs": [],
   "source": [
    "dataset.to_csv('./dataset_n5_20250526.csv')"
   ]
  },
  {
   "cell_type": "code",
   "execution_count": 246,
   "id": "2dafae24",
   "metadata": {},
   "outputs": [],
   "source": [
    "refactored_dataset.to_csv('./refactored_dataset_n5_20250526.csv')"
   ]
  },
  {
   "cell_type": "code",
   "execution_count": 247,
   "id": "42434833-c4be-4eca-a7a9-7750bb216867",
   "metadata": {},
   "outputs": [
    {
     "name": "stdout",
     "output_type": "stream",
     "text": [
      "CSV 파일 로드 성공!\n",
      "\n",
      "두 데이터셋 모두 123개의 샘플 결과를 포함하고 있습니다. 'objective' 값 비교를 시작합니다...\n",
      "\n",
      "--- 목적 함수 값 비교 (상위 10개 샘플) ---\n",
      "   objective_original  objective_refactored  \\\n",
      "0             1792473               1476384   \n",
      "1             1532972               2076004   \n",
      "2             1865500                318500   \n",
      "3             1231564               2062705   \n",
      "4             1037423                627923   \n",
      "5      51300490000000        38043060000000   \n",
      "6                   0                     0   \n",
      "7                   0                     0   \n",
      "8                   0                     0   \n",
      "9                   0                     0   \n",
      "\n",
      "                                 gt_original_preview  \\\n",
      "0  • item15 machine04 date133 35\\n• item15 machin...   \n",
      "1  • item16 machine07 date144 1\\n• item16 machine...   \n",
      "2  • item05 machine10 date041 102\\n• item96 machi...   \n",
      "3  • item95 machine19 date049 2\\n• item91 machine...   \n",
      "4  • item05 machine10 date041 36\\n• item05 machin...   \n",
      "5  • item05 machine10 date041 42\\n• item95 machin...   \n",
      "6  • item95 machine10 date049 1\\n• item05 machine...   \n",
      "7  • item05 machine10 date100 25\\n• item05 machin...   \n",
      "8  • item51 machine08 date133 85\\n• item51 machin...   \n",
      "9  • item51 machine08 date133 129\\n• item51 machi...   \n",
      "\n",
      "                               gt_refactored_preview  score_difference  \n",
      "0  • item15 machine04 date133 149\\n• item15 machi...           -316089  \n",
      "1  • item16 machine07 date144 67\\n• item16 machin...            543032  \n",
      "2  • item05 machine10 date041 445\\n• item96 machi...          -1547000  \n",
      "3  • item05 machine10 date041 500\\n• item95 machi...            831141  \n",
      "4  • item05 machine10 date041 455\\n• item95 machi...           -409500  \n",
      "5  • item05 machine10 date041 164\\n• item95 machi...   -13257430000000  \n",
      "6  • item05 machine10 date041 147\\n• item95 machi...                 0  \n",
      "7  • item95 machine19 date049 1\\n• item05 machine...                 0  \n",
      "8  • item05 machine10 date069 408\\n• item05 machi...                 0  \n",
      "9  • item05 machine10 date100 135\\n• item05 machi...                 0  \n",
      "\n",
      "--- 'objective' 값에 대한 기술 통계 ---\n",
      "\n",
      "[오리지널 GA Objective]\n",
      "count    1.230000e+02\n",
      "mean     1.081813e+13\n",
      "std      2.833540e+13\n",
      "min      0.000000e+00\n",
      "25%      0.000000e+00\n",
      "50%      9.767440e+05\n",
      "75%      4.406640e+12\n",
      "max      2.015889e+14\n",
      "Name: objective, dtype: float64\n",
      "\n",
      "[리팩토링된 GA Objective]\n",
      "count    1.230000e+02\n",
      "mean     1.084464e+13\n",
      "std      2.801943e+13\n",
      "min      0.000000e+00\n",
      "25%      0.000000e+00\n",
      "50%      1.004234e+06\n",
      "75%      3.539760e+12\n",
      "max      1.984184e+14\n",
      "Name: objective, dtype: float64\n",
      "\n",
      "--- 점수 차이 (Refactored - Original)에 대한 기술 통계 ---\n",
      "count    1.230000e+02\n",
      "mean     2.651305e+10\n",
      "std      4.731708e+12\n",
      "min     -2.578614e+13\n",
      "25%     -3.292845e+05\n",
      "50%      0.000000e+00\n",
      "75%      5.692000e+04\n",
      "max      2.726602e+13\n",
      "Name: score_difference, dtype: float64\n",
      "\n",
      "--- 최종 성능 비교 요약 ---\n",
      "리팩토링된 GA가 더 좋은 (낮은) 점수를 찾은 횟수: 38 / 123\n",
      "오리지널 GA가 더 좋은 (낮은) 점수를 찾은 횟수  : 37 / 123\n",
      "두 GA의 점수가 동일(또는 매우 근접)한 횟수    : 50 / 123\n"
     ]
    }
   ],
   "source": [
    "import pandas as pd\n",
    "import numpy as np # np.isclose 같은 함수를 사용할 수 있음\n",
    "\n",
    "# 1. 데이터 로드\n",
    "try:\n",
    "    df_original = pd.read_csv(\"./dataset_n5_20250526.csv\")\n",
    "    df_refactored = pd.read_csv(\"./refactored_dataset_n5_20250526.csv\")\n",
    "    print(\"CSV 파일 로드 성공!\")\n",
    "except FileNotFoundError:\n",
    "    print(\"오류: CSV 파일 중 하나 또는 모두를 찾을 수 없습니다. 파일 경로와 이름을 확인해주세요.\")\n",
    "    # 이 경우 아래 코드는 실행되지 않도록 처리 필요 (예: sys.exit() 또는 함수화)\n",
    "\n",
    "# 2. 두 DataFrame의 길이 확인 (동일한 샘플 개수에 대한 결과인지 확인)\n",
    "if len(df_original) != len(df_refactored):\n",
    "    print(\"\\n!! 경고: 두 CSV 파일의 행 개수가 다릅니다 !!\")\n",
    "    print(f\"  오리지널 데이터셋 행 개수: {len(df_original)}\")\n",
    "    print(f\"  리팩토링된 데이터셋 행 개수: {len(df_refactored)}\")\n",
    "    print(\"  결과 비교를 위해서는 동일한 수의 샘플에 대한 결과여야 합니다.\")\n",
    "else:\n",
    "    print(f\"\\n두 데이터셋 모두 {len(df_original)}개의 샘플 결과를 포함하고 있습니다. 'objective' 값 비교를 시작합니다...\")\n",
    "\n",
    "    # 3. 'objective' 컬럼 비교를 위한 새로운 DataFrame 생성\n",
    "    #    'gt' 컬럼도 참고용으로 포함 (문자열이 길 수 있으니 주의)\n",
    "    comparison_df = pd.DataFrame({\n",
    "        'objective_original': df_original['objective'],\n",
    "        'objective_refactored': df_refactored['objective'],\n",
    "        'gt_original_preview': df_original['gt'].str[:100] + '...', # GT 문자열이 너무 길면 일부만 표시\n",
    "        'gt_refactored_preview': df_refactored['gt'].str[:100] + '...'\n",
    "    })\n",
    "    \n",
    "    # 점수 차이 계산 (리팩토링 - 오리지널, 작을수록 리팩토링이 좋은 것)\n",
    "    comparison_df['score_difference'] = comparison_df['objective_refactored'] - comparison_df['objective_original']\n",
    "    \n",
    "    print(\"\\n--- 목적 함수 값 비교 (상위 10개 샘플) ---\")\n",
    "    print(comparison_df.head(10))\n",
    "    \n",
    "    print(\"\\n--- 'objective' 값에 대한 기술 통계 ---\")\n",
    "    print(\"\\n[오리지널 GA Objective]\")\n",
    "    print(df_original['objective'].describe())\n",
    "    print(\"\\n[리팩토링된 GA Objective]\")\n",
    "    print(df_refactored['objective'].describe())\n",
    "    \n",
    "    print(\"\\n--- 점수 차이 (Refactored - Original)에 대한 기술 통계 ---\")\n",
    "    print(comparison_df['score_difference'].describe())\n",
    "    \n",
    "    # 4. 어떤 버전이 더 좋은 점수를 얻었는지 요약\n",
    "    #    (부동소수점 비교 시 np.isclose 사용 고려, 여기서는 단순 비교)\n",
    "    refactored_better_count = (comparison_df['objective_refactored'] < comparison_df['objective_original']).sum()\n",
    "    original_better_count = (comparison_df['objective_original'] < comparison_df['objective_refactored']).sum()\n",
    "    # 점수가 같은 경우 (부동소수점 오차 감안)\n",
    "    scores_equal_count = np.isclose(comparison_df['objective_original'], comparison_df['objective_refactored']).sum()\n",
    "\n",
    "    print(\"\\n--- 최종 성능 비교 요약 ---\")\n",
    "    print(f\"리팩토링된 GA가 더 좋은 (낮은) 점수를 찾은 횟수: {refactored_better_count} / {len(comparison_df)}\")\n",
    "    print(f\"오리지널 GA가 더 좋은 (낮은) 점수를 찾은 횟수  : {original_better_count} / {len(comparison_df)}\")\n",
    "    print(f\"두 GA의 점수가 동일(또는 매우 근접)한 횟수    : {scores_equal_count} / {len(comparison_df)}\")\n",
    "\n",
    "    # 5. (선택 사항) 시각화로 비교\n",
    "    # import matplotlib.pyplot as plt\n",
    "    # plt.figure(figsize=(12, 6))\n",
    "    # plt.subplot(1, 2, 1)\n",
    "    # comparison_df['objective_original'].plot(kind='hist', bins=30, alpha=0.7, label='Original')\n",
    "    # comparison_df['objective_refactored'].plot(kind='hist', bins=30, alpha=0.7, label='Refactored')\n",
    "    # plt.title('Objective Score Distribution')\n",
    "    # plt.xlabel('Objective Score')\n",
    "    # plt.legend()\n",
    "\n",
    "    # plt.subplot(1, 2, 2)\n",
    "    # plt.scatter(comparison_df['objective_original'], comparison_df['objective_refactored'], alpha=0.5)\n",
    "    # plt.plot([comparison_df['objective_original'].min(), comparison_df['objective_original'].max()], \n",
    "    #          [comparison_df['objective_original'].min(), comparison_df['objective_original'].max()], \n",
    "    #          'r--', lw=2, label='y=x line') # 기준선\n",
    "    # plt.title('Original vs Refactored Scores')\n",
    "    # plt.xlabel('Original Objective Score')\n",
    "    # plt.ylabel('Refactored Objective Score')\n",
    "    # plt.grid(True)\n",
    "    # plt.legend()\n",
    "    # plt.tight_layout()\n",
    "    # plt.show()"
   ]
  },
  {
   "cell_type": "code",
   "execution_count": null,
   "id": "75a270b3-16ff-477c-9ee4-603affbef941",
   "metadata": {},
   "outputs": [],
   "source": []
  }
 ],
 "metadata": {
  "kernelspec": {
   "display_name": "Python (aidall_3_9_7)",
   "language": "python",
   "name": "aidall_3_9_7"
  },
  "language_info": {
   "codemirror_mode": {
    "name": "ipython",
    "version": 3
   },
   "file_extension": ".py",
   "mimetype": "text/x-python",
   "name": "python",
   "nbconvert_exporter": "python",
   "pygments_lexer": "ipython3",
   "version": "3.9.7"
  }
 },
 "nbformat": 4,
 "nbformat_minor": 5
}
