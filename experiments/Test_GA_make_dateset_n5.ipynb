{
 "cells": [
  {
   "cell_type": "code",
   "execution_count": 1,
   "id": "18db631d",
   "metadata": {},
   "outputs": [],
   "source": [
    "# !pip install pandas\t\n",
    "# !pip install numpy\n",
    "# !pip install tqdm\t\n",
    "# !pip install matplotlib"
   ]
  },
  {
   "cell_type": "code",
   "execution_count": 1,
   "id": "c99df847",
   "metadata": {},
   "outputs": [],
   "source": [
    "# 라이브러리\n",
    "import random\n",
    "import datetime\n",
    "import pandas as pd\n",
    "import numpy as np\n",
    "import matplotlib.pyplot as plt\n",
    "from tqdm import tqdm\n",
    "from numpy.random import randint, rand"
   ]
  },
  {
   "cell_type": "code",
   "execution_count": 2,
   "id": "92011789",
   "metadata": {},
   "outputs": [],
   "source": [
    "# 데이터 불러오기\n",
    "machine_info = pd.read_csv(\"./data/machine_info.csv\")\n",
    "order_info = pd.read_csv(\"./data/order_info.csv\")\n",
    "order_info_nl = pd.read_csv(\"./data/order_info_nl.csv\", header=None)\n",
    "order_info_nl_eng = pd.read_csv(\"./data/order_info_nl_eng.csv\")"
   ]
  },
  {
   "cell_type": "code",
   "execution_count": 3,
   "id": "46be5b2a",
   "metadata": {},
   "outputs": [],
   "source": [
    "order_info_nl.columns = ['영업납기', '중산도면', '단가', '수량', '선급', '자연어주문']"
   ]
  },
  {
   "cell_type": "code",
   "execution_count": 4,
   "id": "a8a6ce63",
   "metadata": {},
   "outputs": [],
   "source": [
    "# 전처리 (1): column name 변경\n",
    "order_info = order_info.rename(columns={\n",
    "    '영업납기': 'time',\n",
    "    '중산도면': 'item',\n",
    "    '단가': 'cost',\n",
    "    '수량': 'qty',\n",
    "    '선급': 'urgent'\n",
    "})\n",
    "\n",
    "machine_info = machine_info.rename(columns={\n",
    "    'JSDWG': 'item',\n",
    "    'MCNO': 'machine',\n",
    "    'AVG_CT': 'capacity'\n",
    "})\n",
    "\n",
    "order_info_nl = order_info_nl.rename(columns={\n",
    "    '영업납기': 'time',\n",
    "    '중산도면': 'item',\n",
    "    '단가': 'cost',\n",
    "    '수량': 'qty',\n",
    "    '선급': 'urgent',\n",
    "    '자연어주문': 'nl_order'\n",
    "})\n",
    "\n",
    "order_info_nl_eng.columns = ['nl_order']"
   ]
  },
  {
   "cell_type": "code",
   "execution_count": 5,
   "id": "dc21eb80",
   "metadata": {},
   "outputs": [],
   "source": [
    "# 머신인포 dropna, 4자리 숫자 문자열로 변환\n",
    "machine_info.dropna(inplace=True)\n",
    "machine_info['machine'] = machine_info['machine'].apply(lambda x: str(int(x)).zfill(4))"
   ]
  },
  {
   "cell_type": "code",
   "execution_count": 6,
   "id": "7fe49952",
   "metadata": {},
   "outputs": [],
   "source": [
    "# 아이템 -> item01\n",
    "# qty -> 그대로\n",
    "# 날짜 -> 일수(날짜 - 2021-01-01) date001(1~365) / 자연어는 수정X\n",
    "# 선급 -> 일단 자연어 그대로\n",
    "# cost -> 일단 그대로\n",
    "# machine -> machine01\n",
    "# capacity -> 일단 그대로"
   ]
  },
  {
   "cell_type": "code",
   "execution_count": 7,
   "id": "632988a1",
   "metadata": {},
   "outputs": [
    {
     "data": {
      "text/plain": [
       "'item87'"
      ]
     },
     "execution_count": 7,
     "metadata": {},
     "output_type": "execute_result"
    }
   ],
   "source": [
    "# 아이템 -> item01\n",
    "unique_items = sorted(order_info['item'].unique(), reverse=True)\n",
    "\n",
    "items_mapping = {\n",
    "        item: f\"item{str(i+1).zfill(2)}\"\n",
    "        for i, item in enumerate(unique_items)\n",
    "    }\n",
    "\n",
    "def change_item_name(target):\n",
    "    result = str(target)\n",
    "    for k, v in items_mapping.items():\n",
    "        result = result.replace(k, v)\n",
    "\n",
    "    return result\n",
    "\n",
    "change_item_name('057791')"
   ]
  },
  {
   "cell_type": "code",
   "execution_count": 8,
   "id": "5ccd8d06",
   "metadata": {},
   "outputs": [
    {
     "data": {
      "text/html": [
       "<div>\n",
       "<style scoped>\n",
       "    .dataframe tbody tr th:only-of-type {\n",
       "        vertical-align: middle;\n",
       "    }\n",
       "\n",
       "    .dataframe tbody tr th {\n",
       "        vertical-align: top;\n",
       "    }\n",
       "\n",
       "    .dataframe thead th {\n",
       "        text-align: right;\n",
       "    }\n",
       "</style>\n",
       "<table border=\"1\" class=\"dataframe\">\n",
       "  <thead>\n",
       "    <tr style=\"text-align: right;\">\n",
       "      <th></th>\n",
       "      <th>item</th>\n",
       "      <th>machine</th>\n",
       "      <th>capacity</th>\n",
       "    </tr>\n",
       "  </thead>\n",
       "  <tbody>\n",
       "    <tr>\n",
       "      <th>897</th>\n",
       "      <td>item96</td>\n",
       "      <td>0408</td>\n",
       "      <td>4.89</td>\n",
       "    </tr>\n",
       "    <tr>\n",
       "      <th>898</th>\n",
       "      <td>item96</td>\n",
       "      <td>0409</td>\n",
       "      <td>5.92</td>\n",
       "    </tr>\n",
       "    <tr>\n",
       "      <th>899</th>\n",
       "      <td>item96</td>\n",
       "      <td>0410</td>\n",
       "      <td>4.91</td>\n",
       "    </tr>\n",
       "    <tr>\n",
       "      <th>900</th>\n",
       "      <td>item96</td>\n",
       "      <td>0412</td>\n",
       "      <td>3.50</td>\n",
       "    </tr>\n",
       "    <tr>\n",
       "      <th>901</th>\n",
       "      <td>item96</td>\n",
       "      <td>0416</td>\n",
       "      <td>1.03</td>\n",
       "    </tr>\n",
       "  </tbody>\n",
       "</table>\n",
       "</div>"
      ],
      "text/plain": [
       "       item machine  capacity\n",
       "897  item96    0408      4.89\n",
       "898  item96    0409      5.92\n",
       "899  item96    0410      4.91\n",
       "900  item96    0412      3.50\n",
       "901  item96    0416      1.03"
      ]
     },
     "execution_count": 8,
     "metadata": {},
     "output_type": "execute_result"
    }
   ],
   "source": [
    "machine_info['item'] = machine_info['item'].apply(change_item_name)\n",
    "cond = machine_info['item'].isin(items_mapping.values())\n",
    "machine_info[cond].head()"
   ]
  },
  {
   "cell_type": "code",
   "execution_count": 9,
   "id": "e3650860",
   "metadata": {},
   "outputs": [
    {
     "data": {
      "text/html": [
       "<div>\n",
       "<style scoped>\n",
       "    .dataframe tbody tr th:only-of-type {\n",
       "        vertical-align: middle;\n",
       "    }\n",
       "\n",
       "    .dataframe tbody tr th {\n",
       "        vertical-align: top;\n",
       "    }\n",
       "\n",
       "    .dataframe thead th {\n",
       "        text-align: right;\n",
       "    }\n",
       "</style>\n",
       "<table border=\"1\" class=\"dataframe\">\n",
       "  <thead>\n",
       "    <tr style=\"text-align: right;\">\n",
       "      <th></th>\n",
       "      <th>time</th>\n",
       "      <th>item</th>\n",
       "      <th>cost</th>\n",
       "      <th>qty</th>\n",
       "      <th>urgent</th>\n",
       "    </tr>\n",
       "  </thead>\n",
       "  <tbody>\n",
       "    <tr>\n",
       "      <th>0</th>\n",
       "      <td>2021-05-13</td>\n",
       "      <td>item15</td>\n",
       "      <td>25870</td>\n",
       "      <td>318</td>\n",
       "      <td>검사품</td>\n",
       "    </tr>\n",
       "    <tr>\n",
       "      <th>1</th>\n",
       "      <td>2021-05-24</td>\n",
       "      <td>item16</td>\n",
       "      <td>16229</td>\n",
       "      <td>383</td>\n",
       "      <td>검사품</td>\n",
       "    </tr>\n",
       "    <tr>\n",
       "      <th>2</th>\n",
       "      <td>2021-05-30</td>\n",
       "      <td>item96</td>\n",
       "      <td>8333</td>\n",
       "      <td>19</td>\n",
       "      <td>NaN</td>\n",
       "    </tr>\n",
       "    <tr>\n",
       "      <th>3</th>\n",
       "      <td>2021-06-03</td>\n",
       "      <td>item91</td>\n",
       "      <td>36533</td>\n",
       "      <td>4</td>\n",
       "      <td>NaN</td>\n",
       "    </tr>\n",
       "    <tr>\n",
       "      <th>4</th>\n",
       "      <td>2021-06-18</td>\n",
       "      <td>item87</td>\n",
       "      <td>45500</td>\n",
       "      <td>196</td>\n",
       "      <td>검사품</td>\n",
       "    </tr>\n",
       "  </tbody>\n",
       "</table>\n",
       "</div>"
      ],
      "text/plain": [
       "         time    item   cost  qty urgent\n",
       "0  2021-05-13  item15  25870  318    검사품\n",
       "1  2021-05-24  item16  16229  383    검사품\n",
       "2  2021-05-30  item96   8333   19    NaN\n",
       "3  2021-06-03  item91  36533    4    NaN\n",
       "4  2021-06-18  item87  45500  196    검사품"
      ]
     },
     "execution_count": 9,
     "metadata": {},
     "output_type": "execute_result"
    }
   ],
   "source": [
    "order_info['item'] = order_info['item'].apply(change_item_name)\n",
    "order_info.head()"
   ]
  },
  {
   "cell_type": "code",
   "execution_count": 10,
   "id": "203b831e",
   "metadata": {},
   "outputs": [
    {
     "data": {
      "text/html": [
       "<div>\n",
       "<style scoped>\n",
       "    .dataframe tbody tr th:only-of-type {\n",
       "        vertical-align: middle;\n",
       "    }\n",
       "\n",
       "    .dataframe tbody tr th {\n",
       "        vertical-align: top;\n",
       "    }\n",
       "\n",
       "    .dataframe thead th {\n",
       "        text-align: right;\n",
       "    }\n",
       "</style>\n",
       "<table border=\"1\" class=\"dataframe\">\n",
       "  <thead>\n",
       "    <tr style=\"text-align: right;\">\n",
       "      <th></th>\n",
       "      <th>time</th>\n",
       "      <th>item</th>\n",
       "      <th>cost</th>\n",
       "      <th>qty</th>\n",
       "      <th>urgent</th>\n",
       "      <th>nl_order</th>\n",
       "    </tr>\n",
       "  </thead>\n",
       "  <tbody>\n",
       "    <tr>\n",
       "      <th>0</th>\n",
       "      <td>2021-05-13</td>\n",
       "      <td>item15</td>\n",
       "      <td>25870</td>\n",
       "      <td>318</td>\n",
       "      <td>검사품</td>\n",
       "      <td>item15 맞지? 318개 하는거? 21년 5월 13일까지 하면 되구 단가가 25...</td>\n",
       "    </tr>\n",
       "    <tr>\n",
       "      <th>1</th>\n",
       "      <td>2021-05-24</td>\n",
       "      <td>item16</td>\n",
       "      <td>16229</td>\n",
       "      <td>383</td>\n",
       "      <td>검사품</td>\n",
       "      <td>헐 방금 item16 도면 왔는데 21년 5월 24일까지래. 383개 해야되구 16...</td>\n",
       "    </tr>\n",
       "    <tr>\n",
       "      <th>2</th>\n",
       "      <td>2021-05-30</td>\n",
       "      <td>item96</td>\n",
       "      <td>8333</td>\n",
       "      <td>19</td>\n",
       "      <td>NaN</td>\n",
       "      <td>저기 item96 도면 19개 해야돼. 21년 5월 30일까지구 8,333원. 그리...</td>\n",
       "    </tr>\n",
       "    <tr>\n",
       "      <th>3</th>\n",
       "      <td>2021-06-03</td>\n",
       "      <td>item91</td>\n",
       "      <td>36533</td>\n",
       "      <td>4</td>\n",
       "      <td>NaN</td>\n",
       "      <td>어우 빨리 봐봐. item91 4개 21년 6월 3일까지 해야되는데 어떡하지? 단가...</td>\n",
       "    </tr>\n",
       "    <tr>\n",
       "      <th>4</th>\n",
       "      <td>2021-06-18</td>\n",
       "      <td>item87</td>\n",
       "      <td>45500</td>\n",
       "      <td>196</td>\n",
       "      <td>검사품</td>\n",
       "      <td>item87 맞지? 196개 하는거? 21년 6월 18일까지 하면 되구 단가가 45...</td>\n",
       "    </tr>\n",
       "  </tbody>\n",
       "</table>\n",
       "</div>"
      ],
      "text/plain": [
       "         time    item   cost  qty urgent  \\\n",
       "0  2021-05-13  item15  25870  318    검사품   \n",
       "1  2021-05-24  item16  16229  383    검사품   \n",
       "2  2021-05-30  item96   8333   19    NaN   \n",
       "3  2021-06-03  item91  36533    4    NaN   \n",
       "4  2021-06-18  item87  45500  196    검사품   \n",
       "\n",
       "                                            nl_order  \n",
       "0  item15 맞지? 318개 하는거? 21년 5월 13일까지 하면 되구 단가가 25...  \n",
       "1  헐 방금 item16 도면 왔는데 21년 5월 24일까지래. 383개 해야되구 16...  \n",
       "2  저기 item96 도면 19개 해야돼. 21년 5월 30일까지구 8,333원. 그리...  \n",
       "3  어우 빨리 봐봐. item91 4개 21년 6월 3일까지 해야되는데 어떡하지? 단가...  \n",
       "4  item87 맞지? 196개 하는거? 21년 6월 18일까지 하면 되구 단가가 45...  "
      ]
     },
     "execution_count": 10,
     "metadata": {},
     "output_type": "execute_result"
    }
   ],
   "source": [
    "order_info_nl['item'] = order_info_nl['item'].apply(change_item_name)\n",
    "order_info_nl['nl_order'] = order_info_nl['nl_order'].apply(change_item_name)\n",
    "order_info_nl.head()"
   ]
  },
  {
   "cell_type": "code",
   "execution_count": 11,
   "id": "8dbe7c89",
   "metadata": {},
   "outputs": [
    {
     "data": {
      "text/html": [
       "<div>\n",
       "<style scoped>\n",
       "    .dataframe tbody tr th:only-of-type {\n",
       "        vertical-align: middle;\n",
       "    }\n",
       "\n",
       "    .dataframe tbody tr th {\n",
       "        vertical-align: top;\n",
       "    }\n",
       "\n",
       "    .dataframe thead th {\n",
       "        text-align: right;\n",
       "    }\n",
       "</style>\n",
       "<table border=\"1\" class=\"dataframe\">\n",
       "  <thead>\n",
       "    <tr style=\"text-align: right;\">\n",
       "      <th></th>\n",
       "      <th>nl_order</th>\n",
       "    </tr>\n",
       "  </thead>\n",
       "  <tbody>\n",
       "    <tr>\n",
       "      <th>0</th>\n",
       "      <td>item15, right? 318? You can do it by May 13th,...</td>\n",
       "    </tr>\n",
       "    <tr>\n",
       "      <th>1</th>\n",
       "      <td>Oh, I just got the item16 drawing, and it says...</td>\n",
       "    </tr>\n",
       "    <tr>\n",
       "      <th>2</th>\n",
       "      <td>There, I need to do 19 drawings for item96. It...</td>\n",
       "    </tr>\n",
       "    <tr>\n",
       "      <th>3</th>\n",
       "      <td>Hey, look quickly. item91 4 I have to do it by...</td>\n",
       "    </tr>\n",
       "    <tr>\n",
       "      <th>4</th>\n",
       "      <td>item87, right? Doing 196? You can do it until ...</td>\n",
       "    </tr>\n",
       "  </tbody>\n",
       "</table>\n",
       "</div>"
      ],
      "text/plain": [
       "                                            nl_order\n",
       "0  item15, right? 318? You can do it by May 13th,...\n",
       "1  Oh, I just got the item16 drawing, and it says...\n",
       "2  There, I need to do 19 drawings for item96. It...\n",
       "3  Hey, look quickly. item91 4 I have to do it by...\n",
       "4  item87, right? Doing 196? You can do it until ..."
      ]
     },
     "execution_count": 11,
     "metadata": {},
     "output_type": "execute_result"
    }
   ],
   "source": [
    "order_info_nl_eng['nl_order'] = order_info_nl_eng['nl_order'].apply(change_item_name)\n",
    "order_info_nl_eng.head()"
   ]
  },
  {
   "cell_type": "code",
   "execution_count": 12,
   "id": "8e9b554d",
   "metadata": {},
   "outputs": [
    {
     "data": {
      "text/plain": [
       "('date001', 'date365')"
      ]
     },
     "execution_count": 12,
     "metadata": {},
     "output_type": "execute_result"
    }
   ],
   "source": [
    "# 날짜 -> 일수(날짜 - 2021-01-01) (1~365)\n",
    "def change_time_name(target):\n",
    "    time = pd.to_datetime(target)\n",
    "    base_date = pd.to_datetime('2021-01-01')\n",
    "\n",
    "    return f'date{str((time-base_date).days+1).zfill(3)}'\n",
    "\n",
    "change_time_name('2021-01-01'), change_time_name('2021-12-31')"
   ]
  },
  {
   "cell_type": "code",
   "execution_count": 13,
   "id": "667335f3",
   "metadata": {},
   "outputs": [
    {
     "data": {
      "text/html": [
       "<div>\n",
       "<style scoped>\n",
       "    .dataframe tbody tr th:only-of-type {\n",
       "        vertical-align: middle;\n",
       "    }\n",
       "\n",
       "    .dataframe tbody tr th {\n",
       "        vertical-align: top;\n",
       "    }\n",
       "\n",
       "    .dataframe thead th {\n",
       "        text-align: right;\n",
       "    }\n",
       "</style>\n",
       "<table border=\"1\" class=\"dataframe\">\n",
       "  <thead>\n",
       "    <tr style=\"text-align: right;\">\n",
       "      <th></th>\n",
       "      <th>time</th>\n",
       "      <th>item</th>\n",
       "      <th>cost</th>\n",
       "      <th>qty</th>\n",
       "      <th>urgent</th>\n",
       "    </tr>\n",
       "  </thead>\n",
       "  <tbody>\n",
       "    <tr>\n",
       "      <th>0</th>\n",
       "      <td>date133</td>\n",
       "      <td>item15</td>\n",
       "      <td>25870</td>\n",
       "      <td>318</td>\n",
       "      <td>검사품</td>\n",
       "    </tr>\n",
       "    <tr>\n",
       "      <th>1</th>\n",
       "      <td>date144</td>\n",
       "      <td>item16</td>\n",
       "      <td>16229</td>\n",
       "      <td>383</td>\n",
       "      <td>검사품</td>\n",
       "    </tr>\n",
       "    <tr>\n",
       "      <th>2</th>\n",
       "      <td>date150</td>\n",
       "      <td>item96</td>\n",
       "      <td>8333</td>\n",
       "      <td>19</td>\n",
       "      <td>NaN</td>\n",
       "    </tr>\n",
       "    <tr>\n",
       "      <th>3</th>\n",
       "      <td>date154</td>\n",
       "      <td>item91</td>\n",
       "      <td>36533</td>\n",
       "      <td>4</td>\n",
       "      <td>NaN</td>\n",
       "    </tr>\n",
       "    <tr>\n",
       "      <th>4</th>\n",
       "      <td>date169</td>\n",
       "      <td>item87</td>\n",
       "      <td>45500</td>\n",
       "      <td>196</td>\n",
       "      <td>검사품</td>\n",
       "    </tr>\n",
       "  </tbody>\n",
       "</table>\n",
       "</div>"
      ],
      "text/plain": [
       "      time    item   cost  qty urgent\n",
       "0  date133  item15  25870  318    검사품\n",
       "1  date144  item16  16229  383    검사품\n",
       "2  date150  item96   8333   19    NaN\n",
       "3  date154  item91  36533    4    NaN\n",
       "4  date169  item87  45500  196    검사품"
      ]
     },
     "execution_count": 13,
     "metadata": {},
     "output_type": "execute_result"
    }
   ],
   "source": [
    "order_info['time'] = order_info['time'].apply(change_time_name)\n",
    "order_info.head()"
   ]
  },
  {
   "cell_type": "code",
   "execution_count": 14,
   "id": "a27c502e",
   "metadata": {},
   "outputs": [
    {
     "data": {
      "text/html": [
       "<div>\n",
       "<style scoped>\n",
       "    .dataframe tbody tr th:only-of-type {\n",
       "        vertical-align: middle;\n",
       "    }\n",
       "\n",
       "    .dataframe tbody tr th {\n",
       "        vertical-align: top;\n",
       "    }\n",
       "\n",
       "    .dataframe thead th {\n",
       "        text-align: right;\n",
       "    }\n",
       "</style>\n",
       "<table border=\"1\" class=\"dataframe\">\n",
       "  <thead>\n",
       "    <tr style=\"text-align: right;\">\n",
       "      <th></th>\n",
       "      <th>time</th>\n",
       "      <th>item</th>\n",
       "      <th>cost</th>\n",
       "      <th>qty</th>\n",
       "      <th>urgent</th>\n",
       "      <th>nl_order</th>\n",
       "    </tr>\n",
       "  </thead>\n",
       "  <tbody>\n",
       "    <tr>\n",
       "      <th>0</th>\n",
       "      <td>date133</td>\n",
       "      <td>item15</td>\n",
       "      <td>25870</td>\n",
       "      <td>318</td>\n",
       "      <td>검사품</td>\n",
       "      <td>item15 맞지? 318개 하는거? 21년 5월 13일까지 하면 되구 단가가 25...</td>\n",
       "    </tr>\n",
       "    <tr>\n",
       "      <th>1</th>\n",
       "      <td>date144</td>\n",
       "      <td>item16</td>\n",
       "      <td>16229</td>\n",
       "      <td>383</td>\n",
       "      <td>검사품</td>\n",
       "      <td>헐 방금 item16 도면 왔는데 21년 5월 24일까지래. 383개 해야되구 16...</td>\n",
       "    </tr>\n",
       "    <tr>\n",
       "      <th>2</th>\n",
       "      <td>date150</td>\n",
       "      <td>item96</td>\n",
       "      <td>8333</td>\n",
       "      <td>19</td>\n",
       "      <td>NaN</td>\n",
       "      <td>저기 item96 도면 19개 해야돼. 21년 5월 30일까지구 8,333원. 그리...</td>\n",
       "    </tr>\n",
       "    <tr>\n",
       "      <th>3</th>\n",
       "      <td>date154</td>\n",
       "      <td>item91</td>\n",
       "      <td>36533</td>\n",
       "      <td>4</td>\n",
       "      <td>NaN</td>\n",
       "      <td>어우 빨리 봐봐. item91 4개 21년 6월 3일까지 해야되는데 어떡하지? 단가...</td>\n",
       "    </tr>\n",
       "    <tr>\n",
       "      <th>4</th>\n",
       "      <td>date169</td>\n",
       "      <td>item87</td>\n",
       "      <td>45500</td>\n",
       "      <td>196</td>\n",
       "      <td>검사품</td>\n",
       "      <td>item87 맞지? 196개 하는거? 21년 6월 18일까지 하면 되구 단가가 45...</td>\n",
       "    </tr>\n",
       "  </tbody>\n",
       "</table>\n",
       "</div>"
      ],
      "text/plain": [
       "      time    item   cost  qty urgent  \\\n",
       "0  date133  item15  25870  318    검사품   \n",
       "1  date144  item16  16229  383    검사품   \n",
       "2  date150  item96   8333   19    NaN   \n",
       "3  date154  item91  36533    4    NaN   \n",
       "4  date169  item87  45500  196    검사품   \n",
       "\n",
       "                                            nl_order  \n",
       "0  item15 맞지? 318개 하는거? 21년 5월 13일까지 하면 되구 단가가 25...  \n",
       "1  헐 방금 item16 도면 왔는데 21년 5월 24일까지래. 383개 해야되구 16...  \n",
       "2  저기 item96 도면 19개 해야돼. 21년 5월 30일까지구 8,333원. 그리...  \n",
       "3  어우 빨리 봐봐. item91 4개 21년 6월 3일까지 해야되는데 어떡하지? 단가...  \n",
       "4  item87 맞지? 196개 하는거? 21년 6월 18일까지 하면 되구 단가가 45...  "
      ]
     },
     "execution_count": 14,
     "metadata": {},
     "output_type": "execute_result"
    }
   ],
   "source": [
    "order_info_nl['time'] = order_info_nl['time'].apply(change_time_name)\n",
    "order_info_nl.head()"
   ]
  },
  {
   "cell_type": "code",
   "execution_count": 15,
   "id": "644c40a1",
   "metadata": {},
   "outputs": [
    {
     "data": {
      "text/plain": [
       "'machine19'"
      ]
     },
     "execution_count": 15,
     "metadata": {},
     "output_type": "execute_result"
    }
   ],
   "source": [
    "# machine -> machine01\n",
    "unique_machines = sorted(machine_info['machine'].dropna().unique())\n",
    "\n",
    "machines_mapping = {\n",
    "        machine: f\"machine{str(i+1).zfill(2)}\"\n",
    "        for i, machine in enumerate(unique_machines)\n",
    "    }\n",
    "\n",
    "def change_machine_name(target):\n",
    "    result = str(target)\n",
    "    for k, v in machines_mapping.items():\n",
    "        result = result.replace(k, v)\n",
    "\n",
    "    return result\n",
    "\n",
    "change_machine_name('0421')"
   ]
  },
  {
   "cell_type": "code",
   "execution_count": 16,
   "id": "1189d74b",
   "metadata": {},
   "outputs": [
    {
     "data": {
      "text/html": [
       "<div>\n",
       "<style scoped>\n",
       "    .dataframe tbody tr th:only-of-type {\n",
       "        vertical-align: middle;\n",
       "    }\n",
       "\n",
       "    .dataframe tbody tr th {\n",
       "        vertical-align: top;\n",
       "    }\n",
       "\n",
       "    .dataframe thead th {\n",
       "        text-align: right;\n",
       "    }\n",
       "</style>\n",
       "<table border=\"1\" class=\"dataframe\">\n",
       "  <thead>\n",
       "    <tr style=\"text-align: right;\">\n",
       "      <th></th>\n",
       "      <th>item</th>\n",
       "      <th>machine</th>\n",
       "      <th>capacity</th>\n",
       "    </tr>\n",
       "  </thead>\n",
       "  <tbody>\n",
       "    <tr>\n",
       "      <th>0</th>\n",
       "      <td>050060</td>\n",
       "      <td>machine28</td>\n",
       "      <td>1.08</td>\n",
       "    </tr>\n",
       "    <tr>\n",
       "      <th>1</th>\n",
       "      <td>050093</td>\n",
       "      <td>machine04</td>\n",
       "      <td>7.13</td>\n",
       "    </tr>\n",
       "    <tr>\n",
       "      <th>2</th>\n",
       "      <td>050093</td>\n",
       "      <td>machine08</td>\n",
       "      <td>4.67</td>\n",
       "    </tr>\n",
       "    <tr>\n",
       "      <th>3</th>\n",
       "      <td>050093</td>\n",
       "      <td>machine10</td>\n",
       "      <td>4.50</td>\n",
       "    </tr>\n",
       "    <tr>\n",
       "      <th>4</th>\n",
       "      <td>050093</td>\n",
       "      <td>machine14</td>\n",
       "      <td>3.92</td>\n",
       "    </tr>\n",
       "  </tbody>\n",
       "</table>\n",
       "</div>"
      ],
      "text/plain": [
       "     item    machine  capacity\n",
       "0  050060  machine28      1.08\n",
       "1  050093  machine04      7.13\n",
       "2  050093  machine08      4.67\n",
       "3  050093  machine10      4.50\n",
       "4  050093  machine14      3.92"
      ]
     },
     "execution_count": 16,
     "metadata": {},
     "output_type": "execute_result"
    }
   ],
   "source": [
    "machine_info['machine'] = machine_info['machine'].apply(change_machine_name)\n",
    "machine_info.head()"
   ]
  },
  {
   "cell_type": "code",
   "execution_count": 17,
   "id": "d02562cd",
   "metadata": {},
   "outputs": [],
   "source": [
    "# 전처리 - order\n",
    "def preprocess_order(df):\n",
    "    # 긴급 생산 요건이 있는 경우 1, 그렇지 않은 경우는 0\n",
    "    df['urgent'] = df['urgent'].fillna(0)\n",
    "\n",
    "    for i in range(len(df)):\n",
    "        if df.loc[i, 'urgent'] != 0:\n",
    "            df.loc[i, 'urgent'] = 1\n",
    "\n",
    "    df.dropna(axis=0, inplace=True)\n",
    "\n",
    "    # 같은 종류의 order 묶기\n",
    "    df = df.groupby(['time','item','cost','urgent']).sum().reset_index()\n",
    "    \n",
    "    return df\n",
    "\n",
    "# 전처리 - machine\n",
    "def preprocess_machine(df):\n",
    "    df.dropna(axis=0, inplace=True)\n",
    "\n",
    "    return df"
   ]
  },
  {
   "cell_type": "code",
   "execution_count": 18,
   "id": "3a21d937",
   "metadata": {},
   "outputs": [],
   "source": [
    "# 슬라이딩 윈도우 함수 정의\n",
    "def create_shifted_dataset(df, window_size=5):\n",
    "    datasets = []\n",
    "    for i in range(len(df) - window_size + 1):\n",
    "        window = df.iloc[i:i+window_size].reset_index(drop=True)\n",
    "        datasets.append(window)\n",
    "    return datasets"
   ]
  },
  {
   "cell_type": "code",
   "execution_count": 24,
   "id": "8597f668",
   "metadata": {},
   "outputs": [],
   "source": [
    "machine_info = preprocess_machine(machine_info)\n",
    "\n",
    "def make_dataset(order_info_nl, machine_info, window_size=5):\n",
    "    dataset = create_shifted_dataset(order_info_nl, window_size=window_size)\n",
    "    dataset_for_ga = list()\n",
    "    dataset_for_nl = list()\n",
    "    dataset_for_order = list()\n",
    "\n",
    "    for data in dataset:\n",
    "        order = data.iloc[:, :5]\n",
    "        nl = data.iloc[:, 5:]\n",
    "\n",
    "        order = preprocess_order(order)\n",
    "        dataset_for_order.append(order)\n",
    "        order = pd.merge(order, machine_info, on='item', how='inner')\n",
    "\n",
    "        dataset_for_ga.append(order)\n",
    "        dataset_for_nl.append(nl)\n",
    "\n",
    "    return dataset_for_ga, dataset_for_nl, dataset_for_order\n",
    "\n",
    "# raw_order_info_nl_eng = order_info_nl_eng.copy()\n",
    "order_info_nl_eng = pd.concat([order_info, order_info_nl_eng], axis=1)\n",
    "dataset_for_ga, dataset_for_nl, dataset_for_order = make_dataset(order_info_nl_eng, machine_info)"
   ]
  },
  {
   "cell_type": "code",
   "execution_count": 26,
   "id": "642bb6bc-2bfd-4fed-a35e-fe9cba92123a",
   "metadata": {},
   "outputs": [
    {
     "name": "stdout",
     "output_type": "stream",
     "text": [
      "테스트용 데이터 샘플 10개 준비 완료 (temp0).\n"
     ]
    }
   ],
   "source": [
    "# 노트북 셀 (dataset_for_ga가 생성된 이후)\n",
    "\n",
    "if 'dataset_for_ga' in globals() and dataset_for_ga:\n",
    "    rng = np.random.RandomState(seed=20250526) # 시드 고정 (결과 비교를 위해)\n",
    "    # TODO: random_ls를 만들 때 dataset_for_ga의 실제 길이로 size를 제한해야 할 수 있음\n",
    "    #       (만약 dataset_for_ga 길이가 10보다 작다면 에러 발생 가능)\n",
    "    #       여기서는 dataset_for_ga 길이가 충분히 크다고 가정.\n",
    "    #       또는, 테스트를 위해 실제 샘플 개수를 줄여도 좋음 (예: size=1 또는 2)\n",
    "    num_samples_to_test = min(10, len(dataset_for_ga)) # 실제 샘플 수 제한\n",
    "    random_ls = rng.choice(a=len(dataset_for_ga), size=num_samples_to_test, replace=False)\n",
    "    temp0 = [dataset_for_ga[i] for i in random_ls]\n",
    "    print(f\"테스트용 데이터 샘플 {len(temp0)}개 준비 완료 (temp0).\")\n",
    "else:\n",
    "    print(\"오류: dataset_for_ga가 준비되지 않았습니다.\")\n",
    "    temp0 = []"
   ]
  },
  {
   "cell_type": "code",
   "execution_count": 27,
   "id": "ac81f011-569d-402a-87f9-c4e837f59498",
   "metadata": {},
   "outputs": [],
   "source": [
    "def ga_preprocess_sorted(dataset):\n",
    "    T = sorted(list(set(dataset['time'])))\n",
    "    I = sorted(list(set(dataset['item'])))\n",
    "    J = sorted(list(set(dataset['machine'])))\n",
    "\n",
    "    # cit = 날짜 t에, item i가 미생산 될 때 발생하는 비용\n",
    "    cit = dict()\n",
    "    for i in I:\n",
    "        for t in T:\n",
    "            temp_dataset = dataset[(dataset['item'] == i) & (dataset['time'] == t)]\n",
    "            if len(temp_dataset) != 0:\n",
    "                value = list(set(temp_dataset['cost']))[0]\n",
    "                cit[i, t] = value\n",
    "            else:\n",
    "                cit[i, t] = 0\n",
    "\n",
    "    # pit = 날짜 t에, item i가 긴급 생산이 필요한 경우 1, 그렇지 않으면 0\n",
    "    pit = dict()\n",
    "    for i in I:\n",
    "        for t in T:\n",
    "            temp_dataset = dataset[(dataset['item'] == i) & (dataset['time'] == t)]\n",
    "            if len(temp_dataset) != 0:\n",
    "                value = list(set(temp_dataset['urgent']))[0]\n",
    "                pit[i, t] = value\n",
    "            else:\n",
    "                pit[i, t] = 0\n",
    "\n",
    "    # dit = 날짜 t에 item i마다 생산되어야 하는 요구량\n",
    "    dit = dict()\n",
    "    for i in I:\n",
    "        for t in T:\n",
    "            temp_dataset = dataset[(dataset['item'] == i) & (dataset['time'] == t)]\n",
    "            if len(temp_dataset) != 0:\n",
    "                value = list(set(temp_dataset['qty']))[0]\n",
    "                dit[i, t] = value\n",
    "            else:\n",
    "                dit[i, t] = 0\n",
    "\n",
    "    # mijt= 날짜 t에 NC machine j가 item i를 생산할 수 있는 능력\n",
    "    mijt = dict()\n",
    "    for i in I:\n",
    "        for j in J:\n",
    "            temp_dataset = dataset[\n",
    "                (dataset['item'] == i) &\n",
    "                (dataset['machine'] == j)\n",
    "            ]\n",
    "\n",
    "            if len(temp_dataset) != 0:\n",
    "                value = list(set(temp_dataset['capacity']))[0]\n",
    "                for t in T:\n",
    "                    mijt[i, j, t] = value\n",
    "            else:\n",
    "                for t in T:\n",
    "                    mijt[i, j, t] = 0\n",
    "\n",
    "    return T, I, J, cit, pit, dit, mijt\n"
   ]
  },
  {
   "cell_type": "code",
   "execution_count": 28,
   "id": "049ae75a",
   "metadata": {},
   "outputs": [],
   "source": [
    "def ga_preprocess(dataset):\n",
    "    T = list(set(dataset['time']))\n",
    "    I = list(set(dataset['item']))\n",
    "    J = list(set(dataset['machine']))\n",
    "\n",
    "    # cit = 날짜 t에, item i가 미생산 될 때 발생하는 비용\n",
    "    cit = dict()\n",
    "    for i in I:\n",
    "        for t in T:\n",
    "            temp_dataset = dataset[(dataset['item'] == i) & (dataset['time'] == t)]\n",
    "            if len(temp_dataset) != 0:\n",
    "                value = list(set(temp_dataset['cost']))[0]\n",
    "                cit[i, t] = value\n",
    "            else:\n",
    "                cit[i, t] = 0\n",
    "\n",
    "    # pit = 날짜 t에, item i가 긴급 생산이 필요한 경우 1, 그렇지 않으면 0\n",
    "    pit = dict()\n",
    "    for i in I:\n",
    "        for t in T:\n",
    "            temp_dataset = dataset[(dataset['item'] == i) & (dataset['time'] == t)]\n",
    "            if len(temp_dataset) != 0:\n",
    "                value = list(set(temp_dataset['urgent']))[0]\n",
    "                pit[i, t] = value\n",
    "            else:\n",
    "                pit[i, t] = 0\n",
    "\n",
    "    # dit = 날짜 t에 item i마다 생산되어야 하는 요구량\n",
    "    dit = dict()\n",
    "    for i in I:\n",
    "        for t in T:\n",
    "            temp_dataset = dataset[(dataset['item'] == i) & (dataset['time'] == t)]\n",
    "            if len(temp_dataset) != 0:\n",
    "                value = list(set(temp_dataset['qty']))[0]\n",
    "                dit[i, t] = value\n",
    "            else:\n",
    "                dit[i, t] = 0\n",
    "\n",
    "    # mijt= 날짜 t에 NC machine j가 item i를 생산할 수 있는 능력\n",
    "    mijt = dict()\n",
    "    for i in I:\n",
    "        for j in J:\n",
    "            temp_dataset = dataset[\n",
    "                (dataset['item'] == i) &\n",
    "                (dataset['machine'] == j)\n",
    "            ]\n",
    "\n",
    "            if len(temp_dataset) != 0:\n",
    "                value = list(set(temp_dataset['capacity']))[0]\n",
    "                for t in T:\n",
    "                    mijt[i, j, t] = value\n",
    "            else:\n",
    "                for t in T:\n",
    "                    mijt[i, j, t] = 0\n",
    "\n",
    "    return T, I, J, cit, pit, dit, mijt\n",
    "\n",
    "# 머신 j가 시간 t에 아이템 i를 만들수 없을 경우 0으로 처리하기 위함함\n",
    "def decode(mijt, xijt):\n",
    "    for j in J:\n",
    "        for t in T:\n",
    "            for i in I:\n",
    "                if mijt[i, j, t] == 0:\n",
    "                    xijt[i, j, t] = 0\n",
    "    return xijt\n",
    "\n",
    "# 목적함수를 최적화하기 위한 xijt 조합을 임의로 생성하는 함수\n",
    "def generation_xijt():\n",
    "    xijt = {}\n",
    "\n",
    "    for i in I:\n",
    "        for j in J:\n",
    "            for t in T:\n",
    "                if dit[i, t] > 0:\n",
    "                    xijt[i, j, t] = random.uniform(0, 1)\n",
    "                else:\n",
    "                    xijt[i, j, t] = 0\n",
    "\n",
    "    xijt = decode(mijt, xijt)\n",
    "    return xijt\n",
    "\n",
    "def dict2list(xijt):\n",
    "    return list(xijt.values())\n",
    "\n",
    "def list2dict(bitstring, type='xijt'):\n",
    "    if type == 'xijt':\n",
    "        _keys = xijt_keys\n",
    "    elif type == 'mijt':\n",
    "        _keys = mijt_keys\n",
    "\n",
    "    xijt = {}\n",
    "    for idx, value in enumerate(bitstring):\n",
    "        xijt[_keys[idx]] = value\n",
    "\n",
    "    return xijt\n",
    "\n",
    "# 제약조건 확인\n",
    "# 기계 하루 총 생산시간은 600분\n",
    "# j기계로 600분 안에 아이템 i를 생산할 수 없다면 아이템 생산하지 않도록 하기 위함.\n",
    "def constraint_check(xijt):\n",
    "    for j in J:\n",
    "        for t in T:\n",
    "            check_value = sum(mijt[i, j, t] * round(xijt[i, j, t] * dit[i, t]) for i in I) <= 600\n",
    "\n",
    "            if check_value is False:\n",
    "                for i in I:\n",
    "                    xijt[i, j, t] = 0\n",
    "\n",
    "    return xijt\n",
    "\n",
    "# 목적 함수\n",
    "def objective(xijt):\n",
    "    uit = {}\n",
    "    xijt = constraint_check(xijt)\n",
    "\n",
    "    for i in I:\n",
    "        for t in T:\n",
    "            u = dit[i, t] - sum(round(xijt[i, j, t] * dit[i, t]) for j in J)\n",
    "            if u >= 0:\n",
    "                uit[i, t] = u\n",
    "            else:\n",
    "                uit[i, t] = abs(u) * 10_000_000\n",
    "\n",
    "    objective = sum(uit[i, t] * cit[i, t] * pit[i, t] for i in I for t in T)\n",
    "    return objective\n",
    "\n",
    "# Tournament selection\n",
    "def selection(pop, scores, n_pop):\n",
    "    # n_pop은 한 세대를 구성하는 염색체 수이며, 하이퍼파라미터 값\n",
    "    k = round(n_pop * 0.5)\n",
    "    selection_ix = randint(len(pop))\n",
    "    \n",
    "    for ix in randint(0, len(pop), k - 1):\n",
    "        if scores[ix] < scores[selection_ix]:\n",
    "            selection_ix = ix\n",
    "            \n",
    "    return pop[selection_ix]\n",
    "\n",
    "def crossover(p1, p2, r_cross):\n",
    "    p1 = dict2list(p1)\n",
    "    p2 = dict2list(p2)\n",
    "    c1, c2 = p1.copy(), p2.copy()\n",
    "\n",
    "    if rand() < r_cross:\n",
    "        base_bitstring = dict2list(mijt)\n",
    "\n",
    "        # crossover (1): 유효 인덱스 추출\n",
    "        valid_index = []\n",
    "        for i in range(len(base_bitstring)):\n",
    "            if base_bitstring[i] > 0:\n",
    "                valid_index.append(i)\n",
    "\n",
    "        n = round(r_cross * len(valid_index))\n",
    "        pt_0 = random.sample(valid_index, n)\n",
    "        pt_1 = list(set(valid_index) - set(pt_0))\n",
    "\n",
    "        # crossover (2): 교차 적용\n",
    "        for i in pt_0:\n",
    "            c1[i] = p2[i]\n",
    "            c2[i] = p1[i]\n",
    "\n",
    "        for i in pt_1:\n",
    "            c1[i] = p2[i]\n",
    "            c2[i] = p1[i]\n",
    "\n",
    "    return [c1, c2]\n",
    "\n",
    "def mutation(bitstring, r_mut):\n",
    "    for i in range(len(bitstring)):\n",
    "        if rand() < r_mut:\n",
    "            base_bitstring = dict2list(mijt)\n",
    "\n",
    "            # mutation (1): 유효 인덱스 찾기\n",
    "            valid_index = []\n",
    "            for j in range(len(base_bitstring)):\n",
    "                if base_bitstring[j] > 0:\n",
    "                    valid_index.append(j)\n",
    "\n",
    "            n = round(r_mut * len(valid_index))\n",
    "\n",
    "            # mutation (2): 무작위 인덱스에서 값 변경\n",
    "            pt_0 = random.sample(valid_index, n)\n",
    "            for idx in pt_0:\n",
    "                bitstring[idx] = random.uniform(0, 1)\n",
    "\n",
    "def genetic_algorithm(bounds, n_iter, n_pop, r_cross, r_mut):\n",
    "    # Utility\n",
    "    log = []\n",
    "    log_detail = []\n",
    "    best_gen = 0\n",
    "\n",
    "    # GA algorithm 초기화\n",
    "    pop = [generation_xijt() for _ in range(n_pop)]\n",
    "    best = decode(mijt, pop[0])\n",
    "    best_eval = objective(best)\n",
    "    print(best_eval)\n",
    "\n",
    "    for gen in tqdm(range(n_iter)):\n",
    "        # 현재 세대 해를 디코딩\n",
    "        decoded = [decode(mijt, p) for p in pop]\n",
    "\n",
    "        # 목적함수 값 계산\n",
    "        scores = [objective(d) for d in decoded]\n",
    "\n",
    "        # 가장 좋은 해 갱신\n",
    "        for i in range(n_pop):\n",
    "            if scores[i] < best_eval:\n",
    "                best, best_eval = pop[i], scores[i]\n",
    "                print(f'>best! {gen}, {scores[i]}')\n",
    "                best_gen = gen\n",
    "            else:\n",
    "                # stop rule: 개선 없이 100세대 이상일 경우 중단\n",
    "                if gen - best_gen > 200:\n",
    "                    print('stop')\n",
    "                    return [best, best_eval, log, log_detail]\n",
    "\n",
    "        # 부모 해 집합 선택\n",
    "        selected = [selection(pop, scores, n_pop) for _ in range(n_pop)]\n",
    "        log_detail.append([gen, objective(selected[0])])\n",
    "\n",
    "        # 자식 세대 생성\n",
    "        children = []\n",
    "        for i in range(0, n_pop, 2):\n",
    "            p1, p2 = selected[i], selected[i + 1]\n",
    "            for c in crossover(p1, p2, r_cross):\n",
    "                mutation(c, r_mut)\n",
    "                children.append(list2dict(c))\n",
    "\n",
    "        pop = children\n",
    "        log.append([gen, best_eval])\n",
    "\n",
    "    return [best, best_eval, log, log_detail]\n",
    "\n",
    "def set_hyper_parameters():\n",
    "    # 하이퍼파라미터 설정\n",
    "    hyper_parameters = pd.DataFrame({\n",
    "        'index':    ['index_1', 'index_2', 'index_3', 'index_4',\n",
    "                    'index_5', 'index_6', 'index_7', 'index_8'],\n",
    "        'n_iter':   [500, 500, 500, 500, 500, 500, 500, 500],\n",
    "        'n_pop':    [10, 20, 40, 20, 20, 20, 20, 20],\n",
    "        'r_cross':  [0.4, 0.4, 0.4, 0.1, 0.2, 0.3, 0.4, 0.4],\n",
    "        'r_mut':    [0.4, 0.4, 0.4, 0.4, 0.4, 0.4, 0.1, 0.6]\n",
    "    })\n",
    "\n",
    "    # 결과 기록용 열 추가\n",
    "    hyper_parameters['objective'] = np.nan\n",
    "    hyper_parameters['time'] = np.nan\n",
    "\n",
    "    return hyper_parameters\n",
    "\n",
    "def find_hyper_parameters(hyper_parameters):\n",
    "    log_list = []\n",
    "\n",
    "    for i in range(len(hyper_parameters)):\n",
    "        parameter = hyper_parameters.iloc[i]\n",
    "        index_nm = parameter['index']\n",
    "        print(f'{index_nm}')\n",
    "\n",
    "        start = datetime.datetime.now()\n",
    "\n",
    "        # 초기 해 및 키 정의\n",
    "        xijt = generation_xijt()\n",
    "        global xijt_keys, mijt_keys\n",
    "        xijt_keys = list(xijt.keys())\n",
    "        mijt_keys = list(mijt.keys())\n",
    "\n",
    "        # 하이퍼파라미터 설정\n",
    "        n_iter = parameter['n_iter']\n",
    "        n_pop = parameter['n_pop']\n",
    "        r_cross = parameter['r_cross']\n",
    "        r_mut = parameter['r_mut']\n",
    "\n",
    "        # 유전 알고리즘 실행\n",
    "        best, score, log, log_detail = genetic_algorithm(mijt, n_iter, n_pop, r_cross, r_mut)\n",
    "\n",
    "        # 실행 시간 및 결과 기록\n",
    "        elapsed_time = datetime.datetime.now() - start\n",
    "        hyper_parameters.loc[i, 'time'] = elapsed_time\n",
    "        hyper_parameters.loc[i, 'objective'] = score\n",
    "\n",
    "        log_list.append(log)\n",
    "\n",
    "    # 결과 출력\n",
    "    return hyper_parameters, log_list\n"
   ]
  },
  {
   "cell_type": "code",
   "execution_count": 29,
   "id": "69918310",
   "metadata": {},
   "outputs": [
    {
     "data": {
      "text/plain": [
       "array([ 68,   6,  77,  91,  29,  10,  58, 109,   0, 111])"
      ]
     },
     "execution_count": 29,
     "metadata": {},
     "output_type": "execute_result"
    }
   ],
   "source": [
    "rng = np.random.RandomState(seed=20250526)\n",
    "random_ls = rng.choice(a=len(dataset_for_ga), size=(10, ))\n",
    "random_ls"
   ]
  },
  {
   "cell_type": "code",
   "execution_count": 30,
   "id": "448e999f",
   "metadata": {},
   "outputs": [
    {
     "name": "stdout",
     "output_type": "stream",
     "text": [
      "index_1\n",
      "57215020209897\n"
     ]
    },
    {
     "name": "stderr",
     "output_type": "stream",
     "text": [
      "  3%|██▏                                                                           | 14/500 [00:00<00:10, 45.84it/s]"
     ]
    },
    {
     "name": "stdout",
     "output_type": "stream",
     "text": [
      ">best! 6, 56400020104557\n",
      ">best! 8, 41250019841140\n"
     ]
    },
    {
     "name": "stderr",
     "output_type": "stream",
     "text": [
      "  8%|██████                                                                        | 39/500 [00:00<00:09, 48.40it/s]"
     ]
    },
    {
     "name": "stdout",
     "output_type": "stream",
     "text": [
      ">best! 29, 29975019554329\n"
     ]
    },
    {
     "name": "stderr",
     "output_type": "stream",
     "text": [
      " 14%|██████████▊                                                                   | 69/500 [00:01<00:08, 48.81it/s]"
     ]
    },
    {
     "name": "stdout",
     "output_type": "stream",
     "text": [
      ">best! 59, 13800021258938\n"
     ]
    },
    {
     "name": "stderr",
     "output_type": "stream",
     "text": [
      " 40%|██████████████████████████████▍                                              | 198/500 [00:04<00:06, 49.53it/s]"
     ]
    },
    {
     "name": "stdout",
     "output_type": "stream",
     "text": [
      ">best! 191, 20765937\n"
     ]
    },
    {
     "name": "stderr",
     "output_type": "stream",
     "text": [
      " 78%|████████████████████████████████████████████████████████████▎                | 392/500 [00:07<00:02, 49.20it/s]\n"
     ]
    },
    {
     "name": "stdout",
     "output_type": "stream",
     "text": [
      "stop\n",
      "index_2\n",
      "78286386727192\n"
     ]
    },
    {
     "name": "stderr",
     "output_type": "stream",
     "text": [
      "  1%|▍                                                                              | 3/500 [00:00<00:20, 24.25it/s]"
     ]
    },
    {
     "name": "stdout",
     "output_type": "stream",
     "text": [
      ">best! 0, 72029207808192\n",
      ">best! 0, 66690020373789\n",
      ">best! 0, 39000020438262\n",
      ">best! 4, 25200021731978\n"
     ]
    },
    {
     "name": "stderr",
     "output_type": "stream",
     "text": [
      "  2%|█▊                                                                            | 12/500 [00:00<00:19, 24.78it/s]"
     ]
    },
    {
     "name": "stdout",
     "output_type": "stream",
     "text": [
      ">best! 8, 19800020513018\n"
     ]
    },
    {
     "name": "stderr",
     "output_type": "stream",
     "text": [
      "  4%|███▎                                                                          | 21/500 [00:00<00:19, 24.75it/s]"
     ]
    },
    {
     "name": "stdout",
     "output_type": "stream",
     "text": [
      ">best! 17, 15970018816815\n"
     ]
    },
    {
     "name": "stderr",
     "output_type": "stream",
     "text": [
      "  7%|█████▏                                                                        | 33/500 [00:01<00:18, 24.79it/s]"
     ]
    },
    {
     "name": "stdout",
     "output_type": "stream",
     "text": [
      ">best! 30, 8400018463760\n"
     ]
    },
    {
     "name": "stderr",
     "output_type": "stream",
     "text": [
      " 46%|███████████████████████████████████▌                                         | 231/500 [00:09<00:10, 24.79it/s]\n"
     ]
    },
    {
     "name": "stdout",
     "output_type": "stream",
     "text": [
      "stop\n",
      "index_3\n",
      "101770020865465\n"
     ]
    },
    {
     "name": "stderr",
     "output_type": "stream",
     "text": [
      "  0%|▎                                                                              | 2/500 [00:00<00:40, 12.36it/s]"
     ]
    },
    {
     "name": "stdout",
     "output_type": "stream",
     "text": [
      ">best! 0, 87000025149602\n",
      ">best! 0, 40550297620192\n",
      ">best! 1, 40200020903451\n",
      ">best! 2, 22800020421397\n"
     ]
    },
    {
     "name": "stderr",
     "output_type": "stream",
     "text": [
      "  2%|█▊                                                                            | 12/500 [00:00<00:39, 12.38it/s]"
     ]
    },
    {
     "name": "stdout",
     "output_type": "stream",
     "text": [
      ">best! 10, 9058399218192\n"
     ]
    },
    {
     "name": "stderr",
     "output_type": "stream",
     "text": [
      "  4%|███▍                                                                          | 22/500 [00:01<00:38, 12.42it/s]"
     ]
    },
    {
     "name": "stdout",
     "output_type": "stream",
     "text": [
      ">best! 20, 21442275\n"
     ]
    },
    {
     "name": "stderr",
     "output_type": "stream",
     "text": [
      " 44%|██████████████████████████████████                                           | 221/500 [00:17<00:22, 12.44it/s]\n"
     ]
    },
    {
     "name": "stdout",
     "output_type": "stream",
     "text": [
      "stop\n",
      "index_4\n",
      "125825018243193\n"
     ]
    },
    {
     "name": "stderr",
     "output_type": "stream",
     "text": [
      "  1%|▍                                                                              | 3/500 [00:00<00:19, 25.16it/s]"
     ]
    },
    {
     "name": "stdout",
     "output_type": "stream",
     "text": [
      ">best! 0, 124175018775842\n",
      ">best! 0, 118695020005032\n",
      ">best! 0, 102600022362632\n",
      ">best! 0, 75550018816815\n",
      ">best! 1, 57630019554329\n",
      ">best! 1, 53925020578654\n",
      ">best! 2, 38676786944626\n"
     ]
    },
    {
     "name": "stderr",
     "output_type": "stream",
     "text": [
      "  2%|█▊                                                                            | 12/500 [00:00<00:19, 24.82it/s]"
     ]
    },
    {
     "name": "stdout",
     "output_type": "stream",
     "text": [
      ">best! 8, 35507856727192\n"
     ]
    },
    {
     "name": "stderr",
     "output_type": "stream",
     "text": [
      "  8%|██████                                                                        | 39/500 [00:01<00:18, 24.83it/s]"
     ]
    },
    {
     "name": "stdout",
     "output_type": "stream",
     "text": [
      ">best! 33, 21000023346182\n"
     ]
    },
    {
     "name": "stderr",
     "output_type": "stream",
     "text": [
      " 10%|███████▉                                                                      | 51/500 [00:02<00:17, 25.07it/s]"
     ]
    },
    {
     "name": "stdout",
     "output_type": "stream",
     "text": [
      ">best! 46, 19045024225251\n"
     ]
    },
    {
     "name": "stderr",
     "output_type": "stream",
     "text": [
      " 29%|██████████████████████▏                                                      | 144/500 [00:05<00:14, 24.89it/s]"
     ]
    },
    {
     "name": "stdout",
     "output_type": "stream",
     "text": [
      ">best! 140, 12000019971355\n"
     ]
    },
    {
     "name": "stderr",
     "output_type": "stream",
     "text": [
      " 57%|███████████████████████████████████████████▉                                 | 285/500 [00:11<00:08, 24.60it/s]"
     ]
    },
    {
     "name": "stdout",
     "output_type": "stream",
     "text": [
      ">best! 281, 7200023520357\n"
     ]
    },
    {
     "name": "stderr",
     "output_type": "stream",
     "text": [
      " 96%|██████████████████████████████████████████████████████████████████████████▏  | 482/500 [00:19<00:00, 24.58it/s]\n"
     ]
    },
    {
     "name": "stdout",
     "output_type": "stream",
     "text": [
      "stop\n",
      "index_5\n",
      "129000022978086\n"
     ]
    },
    {
     "name": "stderr",
     "output_type": "stream",
     "text": [
      "  1%|▍                                                                              | 3/500 [00:00<00:20, 24.16it/s]"
     ]
    },
    {
     "name": "stdout",
     "output_type": "stream",
     "text": [
      ">best! 0, 102780021658318\n",
      ">best! 0, 61433536750692\n",
      ">best! 0, 47400023812534\n",
      ">best! 1, 24600019625437\n"
     ]
    },
    {
     "name": "stderr",
     "output_type": "stream",
     "text": [
      "  3%|██▎                                                                           | 15/500 [00:00<00:19, 24.83it/s]"
     ]
    },
    {
     "name": "stdout",
     "output_type": "stream",
     "text": [
      ">best! 10, 7800024844710\n"
     ]
    },
    {
     "name": "stderr",
     "output_type": "stream",
     "text": [
      " 42%|████████████████████████████████▍                                            | 211/500 [00:08<00:11, 24.70it/s]\n"
     ]
    },
    {
     "name": "stdout",
     "output_type": "stream",
     "text": [
      "stop\n",
      "index_6\n",
      "112873686727192\n"
     ]
    },
    {
     "name": "stderr",
     "output_type": "stream",
     "text": [
      "  1%|▍                                                                              | 3/500 [00:00<00:19, 24.93it/s]"
     ]
    },
    {
     "name": "stdout",
     "output_type": "stream",
     "text": [
      ">best! 0, 64592456727192\n",
      ">best! 2, 57135019718221\n",
      ">best! 2, 24835020578654\n",
      ">best! 3, 13800022134465\n"
     ]
    },
    {
     "name": "stderr",
     "output_type": "stream",
     "text": [
      " 29%|██████████████████████▏                                                      | 144/500 [00:05<00:14, 24.73it/s]"
     ]
    },
    {
     "name": "stdout",
     "output_type": "stream",
     "text": [
      ">best! 139, 11985021265032\n"
     ]
    },
    {
     "name": "stderr",
     "output_type": "stream",
     "text": [
      " 34%|██████████████████████████▎                                                  | 171/500 [00:07<00:13, 23.56it/s]"
     ]
    },
    {
     "name": "stdout",
     "output_type": "stream",
     "text": [
      ">best! 165, 9600018881896\n"
     ]
    },
    {
     "name": "stderr",
     "output_type": "stream",
     "text": [
      " 73%|████████████████████████████████████████████████████████▎                    | 366/500 [00:15<00:05, 24.24it/s]\n"
     ]
    },
    {
     "name": "stdout",
     "output_type": "stream",
     "text": [
      "stop\n",
      "index_7\n",
      "161480020660600\n"
     ]
    },
    {
     "name": "stderr",
     "output_type": "stream",
     "text": [
      "  2%|█▋                                                                           | 11/500 [00:00<00:04, 103.28it/s]"
     ]
    },
    {
     "name": "stdout",
     "output_type": "stream",
     "text": [
      ">best! 0, 145360024921792\n",
      ">best! 0, 61038936566832\n",
      ">best! 5, 56400020485870\n",
      ">best! 7, 41400019780923\n",
      ">best! 16, 34005016850111\n",
      ">best! 16, 29640020005032\n"
     ]
    },
    {
     "name": "stderr",
     "output_type": "stream",
     "text": [
      "  4%|███▍                                                                         | 22/500 [00:00<00:04, 102.88it/s]"
     ]
    },
    {
     "name": "stdout",
     "output_type": "stream",
     "text": [
      ">best! 24, 21600021026423\n"
     ]
    },
    {
     "name": "stderr",
     "output_type": "stream",
     "text": [
      " 20%|███████████████▏                                                             | 99/500 [00:00<00:03, 104.09it/s]"
     ]
    },
    {
     "name": "stdout",
     "output_type": "stream",
     "text": [
      ">best! 84, 19435017382760\n"
     ]
    },
    {
     "name": "stderr",
     "output_type": "stream",
     "text": [
      " 29%|█████████████████████▋                                                      | 143/500 [00:01<00:03, 102.51it/s]"
     ]
    },
    {
     "name": "stdout",
     "output_type": "stream",
     "text": [
      ">best! 128, 17077857761468\n"
     ]
    },
    {
     "name": "stderr",
     "output_type": "stream",
     "text": [
      " 46%|███████████████████████████████████▍                                         | 230/500 [00:02<00:02, 98.02it/s]"
     ]
    },
    {
     "name": "stdout",
     "output_type": "stream",
     "text": [
      ">best! 216, 15600019761626\n"
     ]
    },
    {
     "name": "stderr",
     "output_type": "stream",
     "text": [
      " 65%|█████████████████████████████████████████████████▍                          | 325/500 [00:03<00:01, 101.49it/s]"
     ]
    },
    {
     "name": "stdout",
     "output_type": "stream",
     "text": [
      ">best! 311, 7200020842018\n"
     ]
    },
    {
     "name": "stderr",
     "output_type": "stream",
     "text": [
      " 83%|███████████████████████████████████████████████████████████████▌             | 413/500 [00:04<00:00, 99.96it/s]"
     ]
    },
    {
     "name": "stdout",
     "output_type": "stream",
     "text": [
      ">best! 395, 20593586\n"
     ]
    },
    {
     "name": "stderr",
     "output_type": "stream",
     "text": [
      "100%|████████████████████████████████████████████████████████████████████████████| 500/500 [00:04<00:00, 100.79it/s]\n"
     ]
    },
    {
     "name": "stdout",
     "output_type": "stream",
     "text": [
      "index_8\n",
      "148490022258547\n"
     ]
    },
    {
     "name": "stderr",
     "output_type": "stream",
     "text": [
      "  0%|▎                                                                              | 2/500 [00:00<00:38, 12.86it/s]"
     ]
    },
    {
     "name": "stdout",
     "output_type": "stream",
     "text": [
      ">best! 0, 77400023770953\n",
      ">best! 0, 73800020036991\n",
      ">best! 0, 63000022344141\n",
      ">best! 1, 53725017833463\n"
     ]
    },
    {
     "name": "stderr",
     "output_type": "stream",
     "text": [
      "  1%|▉                                                                              | 6/500 [00:00<00:38, 12.70it/s]"
     ]
    },
    {
     "name": "stdout",
     "output_type": "stream",
     "text": [
      ">best! 4, 43660018448058\n",
      ">best! 6, 40800023495588\n"
     ]
    },
    {
     "name": "stderr",
     "output_type": "stream",
     "text": [
      "  2%|█▊                                                                            | 12/500 [00:00<00:37, 12.97it/s]"
     ]
    },
    {
     "name": "stdout",
     "output_type": "stream",
     "text": [
      ">best! 11, 27000021713289\n"
     ]
    },
    {
     "name": "stderr",
     "output_type": "stream",
     "text": [
      "  5%|████                                                                          | 26/500 [00:01<00:35, 13.43it/s]"
     ]
    },
    {
     "name": "stdout",
     "output_type": "stream",
     "text": [
      ">best! 25, 21290018570977\n"
     ]
    },
    {
     "name": "stderr",
     "output_type": "stream",
     "text": [
      " 12%|█████████▋                                                                    | 62/500 [00:04<00:32, 13.46it/s]"
     ]
    },
    {
     "name": "stdout",
     "output_type": "stream",
     "text": [
      ">best! 61, 11400021886248\n"
     ]
    },
    {
     "name": "stderr",
     "output_type": "stream",
     "text": [
      " 14%|██████████▌                                                                   | 68/500 [00:05<00:31, 13.50it/s]"
     ]
    },
    {
     "name": "stdout",
     "output_type": "stream",
     "text": [
      ">best! 67, 20885978\n"
     ]
    },
    {
     "name": "stderr",
     "output_type": "stream",
     "text": [
      " 54%|█████████████████████████████████████████▎                                   | 268/500 [00:20<00:17, 13.38it/s]\n"
     ]
    },
    {
     "name": "stdout",
     "output_type": "stream",
     "text": [
      "stop\n",
      "index_1\n",
      "0\n"
     ]
    },
    {
     "name": "stderr",
     "output_type": "stream",
     "text": [
      " 40%|██████████████████████████████▏                                            | 201/500 [00:00<00:00, 1256.49it/s]\n"
     ]
    },
    {
     "name": "stdout",
     "output_type": "stream",
     "text": [
      "stop\n",
      "index_2\n",
      "0\n"
     ]
    },
    {
     "name": "stderr",
     "output_type": "stream",
     "text": [
      " 40%|██████████████████████████████▌                                             | 201/500 [00:00<00:00, 640.46it/s]\n"
     ]
    },
    {
     "name": "stdout",
     "output_type": "stream",
     "text": [
      "stop\n",
      "index_3\n",
      "0\n"
     ]
    },
    {
     "name": "stderr",
     "output_type": "stream",
     "text": [
      " 40%|██████████████████████████████▌                                             | 201/500 [00:00<00:00, 320.96it/s]\n"
     ]
    },
    {
     "name": "stdout",
     "output_type": "stream",
     "text": [
      "stop\n",
      "index_4\n",
      "0\n"
     ]
    },
    {
     "name": "stderr",
     "output_type": "stream",
     "text": [
      " 40%|██████████████████████████████▌                                             | 201/500 [00:00<00:00, 648.51it/s]\n"
     ]
    },
    {
     "name": "stdout",
     "output_type": "stream",
     "text": [
      "stop\n",
      "index_5\n",
      "0\n"
     ]
    },
    {
     "name": "stderr",
     "output_type": "stream",
     "text": [
      " 40%|██████████████████████████████▌                                             | 201/500 [00:00<00:00, 646.51it/s]\n"
     ]
    },
    {
     "name": "stdout",
     "output_type": "stream",
     "text": [
      "stop\n",
      "index_6\n",
      "0\n"
     ]
    },
    {
     "name": "stderr",
     "output_type": "stream",
     "text": [
      " 40%|██████████████████████████████▌                                             | 201/500 [00:00<00:00, 644.50it/s]\n"
     ]
    },
    {
     "name": "stdout",
     "output_type": "stream",
     "text": [
      "stop\n",
      "index_7\n",
      "0\n"
     ]
    },
    {
     "name": "stderr",
     "output_type": "stream",
     "text": [
      " 40%|██████████████████████████████▏                                            | 201/500 [00:00<00:00, 1182.32it/s]\n"
     ]
    },
    {
     "name": "stdout",
     "output_type": "stream",
     "text": [
      "stop\n",
      "index_8\n",
      "0\n"
     ]
    },
    {
     "name": "stderr",
     "output_type": "stream",
     "text": [
      " 40%|██████████████████████████████▌                                             | 201/500 [00:00<00:00, 443.66it/s]\n"
     ]
    },
    {
     "name": "stdout",
     "output_type": "stream",
     "text": [
      "stop\n",
      "index_1\n",
      "36172502244376\n"
     ]
    },
    {
     "name": "stderr",
     "output_type": "stream",
     "text": [
      "  3%|██▏                                                                          | 14/500 [00:00<00:03, 136.22it/s]"
     ]
    },
    {
     "name": "stdout",
     "output_type": "stream",
     "text": [
      ">best! 0, 805004499514\n",
      ">best! 0, 4816866\n",
      ">best! 3, 3983082\n",
      ">best! 3, 3030734\n"
     ]
    },
    {
     "name": "stderr",
     "output_type": "stream",
     "text": [
      " 17%|████████████▉                                                                | 84/500 [00:00<00:03, 134.19it/s]"
     ]
    },
    {
     "name": "stdout",
     "output_type": "stream",
     "text": [
      ">best! 58, 2684746\n",
      ">best! 77, 2457360\n",
      ">best! 78, 2386348\n",
      ">best! 81, 2208452\n"
     ]
    },
    {
     "name": "stderr",
     "output_type": "stream",
     "text": [
      " 31%|███████████████████████▍                                                    | 154/500 [00:01<00:02, 135.67it/s]"
     ]
    },
    {
     "name": "stdout",
     "output_type": "stream",
     "text": [
      ">best! 117, 2197452\n",
      ">best! 146, 1714448\n"
     ]
    },
    {
     "name": "stderr",
     "output_type": "stream",
     "text": [
      " 42%|███████████████████████████████▉                                            | 210/500 [00:01<00:02, 135.85it/s]"
     ]
    },
    {
     "name": "stdout",
     "output_type": "stream",
     "text": [
      ">best! 182, 1461800\n"
     ]
    },
    {
     "name": "stderr",
     "output_type": "stream",
     "text": [
      " 76%|█████████████████████████████████████████████████████████▍                  | 378/500 [00:02<00:00, 134.94it/s]"
     ]
    },
    {
     "name": "stdout",
     "output_type": "stream",
     "text": [
      ">best! 361, 1445756\n",
      ">best! 365, 1415374\n"
     ]
    },
    {
     "name": "stderr",
     "output_type": "stream",
     "text": [
      " 92%|██████████████████████████████████████████████████████████████████████▏     | 462/500 [00:03<00:00, 134.88it/s]"
     ]
    },
    {
     "name": "stdout",
     "output_type": "stream",
     "text": [
      ">best! 440, 1031482\n"
     ]
    },
    {
     "name": "stderr",
     "output_type": "stream",
     "text": [
      "100%|████████████████████████████████████████████████████████████████████████████| 500/500 [00:03<00:00, 135.30it/s]\n"
     ]
    },
    {
     "name": "stdout",
     "output_type": "stream",
     "text": [
      "index_2\n",
      "37138502966040\n"
     ]
    },
    {
     "name": "stderr",
     "output_type": "stream",
     "text": [
      "  1%|█                                                                              | 7/500 [00:00<00:07, 68.01it/s]"
     ]
    },
    {
     "name": "stdout",
     "output_type": "stream",
     "text": [
      ">best! 0, 15830503483920\n",
      ">best! 0, 7962502572768\n",
      ">best! 0, 3059002324108\n",
      ">best! 0, 4517792\n",
      ">best! 0, 3583390\n",
      ">best! 1, 3546206\n",
      ">best! 3, 3139004\n",
      ">best! 4, 2819930\n",
      ">best! 10, 2285144\n",
      ">best! 11, 2100604\n"
     ]
    },
    {
     "name": "stderr",
     "output_type": "stream",
     "text": [
      "  8%|██████▌                                                                       | 42/500 [00:00<00:06, 68.13it/s]"
     ]
    },
    {
     "name": "stdout",
     "output_type": "stream",
     "text": [
      ">best! 29, 969988\n"
     ]
    },
    {
     "name": "stderr",
     "output_type": "stream",
     "text": [
      " 46%|███████████████████████████████████▍                                         | 230/500 [00:03<00:03, 68.00it/s]\n"
     ]
    },
    {
     "name": "stdout",
     "output_type": "stream",
     "text": [
      "stop\n",
      "index_3\n",
      "65247001826704\n"
     ]
    },
    {
     "name": "stderr",
     "output_type": "stream",
     "text": [
      "  1%|▋                                                                              | 4/500 [00:00<00:14, 34.05it/s]"
     ]
    },
    {
     "name": "stdout",
     "output_type": "stream",
     "text": [
      ">best! 0, 4826520\n",
      ">best! 0, 4200020\n",
      ">best! 1, 2235616\n",
      ">best! 6, 1608146\n"
     ]
    },
    {
     "name": "stderr",
     "output_type": "stream",
     "text": [
      "  3%|██▍                                                                           | 16/500 [00:00<00:14, 33.86it/s]"
     ]
    },
    {
     "name": "stdout",
     "output_type": "stream",
     "text": [
      ">best! 11, 1573530\n"
     ]
    },
    {
     "name": "stderr",
     "output_type": "stream",
     "text": [
      "  9%|██████▊                                                                       | 44/500 [00:01<00:13, 34.18it/s]"
     ]
    },
    {
     "name": "stdout",
     "output_type": "stream",
     "text": [
      ">best! 37, 1445392\n"
     ]
    },
    {
     "name": "stderr",
     "output_type": "stream",
     "text": [
      " 36%|███████████████████████████▋                                                 | 180/500 [00:05<00:10, 31.93it/s]"
     ]
    },
    {
     "name": "stdout",
     "output_type": "stream",
     "text": [
      ">best! 177, 859800\n"
     ]
    },
    {
     "name": "stderr",
     "output_type": "stream",
     "text": [
      " 55%|██████████████████████████████████████████▌                                  | 276/500 [00:08<00:06, 32.09it/s]"
     ]
    },
    {
     "name": "stdout",
     "output_type": "stream",
     "text": [
      ">best! 271, 662196\n"
     ]
    },
    {
     "name": "stderr",
     "output_type": "stream",
     "text": [
      " 94%|████████████████████████████████████████████████████████████████████████▋    | 472/500 [00:14<00:00, 33.41it/s]\n"
     ]
    },
    {
     "name": "stdout",
     "output_type": "stream",
     "text": [
      "stop\n",
      "index_4\n",
      "55268501308824\n"
     ]
    },
    {
     "name": "stderr",
     "output_type": "stream",
     "text": [
      "  1%|█                                                                              | 7/500 [00:00<00:07, 65.59it/s]"
     ]
    },
    {
     "name": "stdout",
     "output_type": "stream",
     "text": [
      ">best! 0, 45920002918960\n",
      ">best! 0, 2219310\n"
     ]
    },
    {
     "name": "stderr",
     "output_type": "stream",
     "text": [
      " 10%|███████▋                                                                      | 49/500 [00:00<00:06, 66.93it/s]"
     ]
    },
    {
     "name": "stdout",
     "output_type": "stream",
     "text": [
      ">best! 37, 2038640\n"
     ]
    },
    {
     "name": "stderr",
     "output_type": "stream",
     "text": [
      " 32%|████████████████████████▊                                                    | 161/500 [00:02<00:05, 63.43it/s]"
     ]
    },
    {
     "name": "stdout",
     "output_type": "stream",
     "text": [
      ">best! 150, 1768328\n"
     ]
    },
    {
     "name": "stderr",
     "output_type": "stream",
     "text": [
      " 48%|████████████████████████████████████▋                                        | 238/500 [00:03<00:03, 65.60it/s]"
     ]
    },
    {
     "name": "stdout",
     "output_type": "stream",
     "text": [
      ">best! 227, 1595274\n"
     ]
    },
    {
     "name": "stderr",
     "output_type": "stream",
     "text": [
      " 53%|████████████████████████████████████████▉                                    | 266/500 [00:04<00:03, 67.26it/s]"
     ]
    },
    {
     "name": "stdout",
     "output_type": "stream",
     "text": [
      ">best! 256, 960716\n"
     ]
    },
    {
     "name": "stderr",
     "output_type": "stream",
     "text": [
      " 74%|█████████████████████████████████████████████████████████▏                   | 371/500 [00:05<00:01, 68.82it/s]"
     ]
    },
    {
     "name": "stdout",
     "output_type": "stream",
     "text": [
      ">best! 359, 748646\n"
     ]
    },
    {
     "name": "stderr",
     "output_type": "stream",
     "text": [
      "100%|█████████████████████████████████████████████████████████████████████████████| 500/500 [00:07<00:00, 66.80it/s]\n"
     ]
    },
    {
     "name": "stdout",
     "output_type": "stream",
     "text": [
      "index_5\n",
      "19337503068448\n"
     ]
    },
    {
     "name": "stderr",
     "output_type": "stream",
     "text": [
      "  1%|█                                                                              | 7/500 [00:00<00:07, 67.98it/s]"
     ]
    },
    {
     "name": "stdout",
     "output_type": "stream",
     "text": [
      ">best! 0, 4777501453192\n",
      ">best! 0, 5510770\n",
      ">best! 1, 5166354\n",
      ">best! 1, 4355448\n",
      ">best! 2, 2702342\n",
      ">best! 4, 1635262\n"
     ]
    },
    {
     "name": "stderr",
     "output_type": "stream",
     "text": [
      "  3%|██▏                                                                           | 14/500 [00:00<00:07, 67.82it/s]"
     ]
    },
    {
     "name": "stdout",
     "output_type": "stream",
     "text": [
      ">best! 15, 859266\n"
     ]
    },
    {
     "name": "stderr",
     "output_type": "stream",
     "text": [
      " 43%|█████████████████████████████████▎                                           | 216/500 [00:03<00:04, 68.21it/s]\n"
     ]
    },
    {
     "name": "stdout",
     "output_type": "stream",
     "text": [
      "stop\n",
      "index_6\n",
      "58996001581888\n"
     ]
    },
    {
     "name": "stderr",
     "output_type": "stream",
     "text": [
      "  1%|█                                                                              | 7/500 [00:00<00:07, 68.30it/s]"
     ]
    },
    {
     "name": "stdout",
     "output_type": "stream",
     "text": [
      ">best! 0, 28073502532904\n",
      ">best! 0, 9597001845536\n",
      ">best! 0, 4822274\n",
      ">best! 1, 3407562\n",
      ">best! 1, 2605642\n",
      ">best! 4, 2501702\n",
      ">best! 11, 1749440\n"
     ]
    },
    {
     "name": "stderr",
     "output_type": "stream",
     "text": [
      "  7%|█████▍                                                                        | 35/500 [00:00<00:06, 68.28it/s]"
     ]
    },
    {
     "name": "stdout",
     "output_type": "stream",
     "text": [
      ">best! 26, 927030\n"
     ]
    },
    {
     "name": "stderr",
     "output_type": "stream",
     "text": [
      " 45%|██████████████████████████████████▉                                          | 227/500 [00:03<00:03, 68.30it/s]\n"
     ]
    },
    {
     "name": "stdout",
     "output_type": "stream",
     "text": [
      "stop\n",
      "index_7\n",
      "56269502391664\n"
     ]
    },
    {
     "name": "stderr",
     "output_type": "stream",
     "text": [
      " 11%|████████▎                                                                    | 54/500 [00:00<00:01, 262.72it/s]"
     ]
    },
    {
     "name": "stdout",
     "output_type": "stream",
     "text": [
      ">best! 0, 25963002495240\n",
      ">best! 0, 2254004172356\n",
      ">best! 0, 1127003119728\n",
      ">best! 0, 3395094\n",
      ">best! 9, 2999572\n",
      ">best! 17, 1869902\n"
     ]
    },
    {
     "name": "stderr",
     "output_type": "stream",
     "text": [
      " 32%|████████████████████████▌                                                   | 162/500 [00:00<00:01, 262.76it/s]"
     ]
    },
    {
     "name": "stdout",
     "output_type": "stream",
     "text": [
      ">best! 122, 1550522\n",
      ">best! 151, 1192706\n"
     ]
    },
    {
     "name": "stderr",
     "output_type": "stream",
     "text": [
      " 70%|█████████████████████████████████████████████████████▎                      | 351/500 [00:01<00:00, 262.21it/s]"
     ]
    },
    {
     "name": "stdout",
     "output_type": "stream",
     "text": [
      ">best! 299, 1105894\n"
     ]
    },
    {
     "name": "stderr",
     "output_type": "stream",
     "text": [
      "100%|████████████████████████████████████████████████████████████████████████████| 500/500 [00:01<00:00, 261.83it/s]\n"
     ]
    },
    {
     "name": "stdout",
     "output_type": "stream",
     "text": [
      "index_8\n",
      "14812002429008\n"
     ]
    },
    {
     "name": "stderr",
     "output_type": "stream",
     "text": [
      "  1%|▋                                                                              | 4/500 [00:00<00:13, 37.61it/s]"
     ]
    },
    {
     "name": "stdout",
     "output_type": "stream",
     "text": [
      ">best! 0, 5884220\n",
      ">best! 0, 5519528\n",
      ">best! 0, 3915280\n",
      ">best! 1, 3645636\n",
      ">best! 5, 1709438\n"
     ]
    },
    {
     "name": "stderr",
     "output_type": "stream",
     "text": [
      " 14%|███████████▏                                                                  | 72/500 [00:01<00:11, 36.78it/s]"
     ]
    },
    {
     "name": "stdout",
     "output_type": "stream",
     "text": [
      ">best! 64, 1059302\n"
     ]
    },
    {
     "name": "stderr",
     "output_type": "stream",
     "text": [
      " 38%|████████████████████████████▉                                                | 188/500 [00:05<00:08, 37.26it/s]"
     ]
    },
    {
     "name": "stdout",
     "output_type": "stream",
     "text": [
      ">best! 181, 810276\n"
     ]
    },
    {
     "name": "stderr",
     "output_type": "stream",
     "text": [
      " 76%|██████████████████████████████████████████████████████████▊                  | 382/500 [00:10<00:03, 37.20it/s]\n"
     ]
    },
    {
     "name": "stdout",
     "output_type": "stream",
     "text": [
      "stop\n",
      "index_1\n",
      "437256460000000\n"
     ]
    },
    {
     "name": "stderr",
     "output_type": "stream",
     "text": [
      "  0%|▏                                                                              | 1/500 [00:00<01:00,  8.29it/s]"
     ]
    },
    {
     "name": "stdout",
     "output_type": "stream",
     "text": [
      ">best! 0, 346103385127165\n",
      ">best! 0, 299646323448500\n",
      ">best! 0, 288397870000000\n",
      ">best! 1, 237597022161250\n"
     ]
    },
    {
     "name": "stderr",
     "output_type": "stream",
     "text": [
      "  4%|███                                                                           | 20/500 [00:02<00:58,  8.16it/s]"
     ]
    },
    {
     "name": "stdout",
     "output_type": "stream",
     "text": [
      ">best! 18, 229008271634000\n"
     ]
    },
    {
     "name": "stderr",
     "output_type": "stream",
     "text": [
      "  6%|████▌                                                                         | 29/500 [00:03<00:56,  8.35it/s]"
     ]
    },
    {
     "name": "stdout",
     "output_type": "stream",
     "text": [
      ">best! 27, 189918048325960\n"
     ]
    },
    {
     "name": "stderr",
     "output_type": "stream",
     "text": [
      " 12%|█████████                                                                     | 58/500 [00:06<00:53,  8.23it/s]"
     ]
    },
    {
     "name": "stdout",
     "output_type": "stream",
     "text": [
      ">best! 56, 187559846764280\n"
     ]
    },
    {
     "name": "stderr",
     "output_type": "stream",
     "text": [
      " 27%|█████████████████████                                                        | 137/500 [00:16<00:43,  8.36it/s]"
     ]
    },
    {
     "name": "stdout",
     "output_type": "stream",
     "text": [
      ">best! 135, 172219202816640\n"
     ]
    },
    {
     "name": "stderr",
     "output_type": "stream",
     "text": [
      " 63%|████████████████████████████████████████████████▏                            | 313/500 [00:38<00:22,  8.33it/s]"
     ]
    },
    {
     "name": "stdout",
     "output_type": "stream",
     "text": [
      ">best! 311, 170646910000000\n"
     ]
    },
    {
     "name": "stderr",
     "output_type": "stream",
     "text": [
      " 93%|███████████████████████████████████████████████████████████████████████▉     | 467/500 [00:56<00:03,  8.26it/s]"
     ]
    },
    {
     "name": "stdout",
     "output_type": "stream",
     "text": [
      ">best! 465, 166860022831000\n"
     ]
    },
    {
     "name": "stderr",
     "output_type": "stream",
     "text": [
      "100%|█████████████████████████████████████████████████████████████████████████████| 500/500 [01:00<00:00,  8.25it/s]\n"
     ]
    },
    {
     "name": "stdout",
     "output_type": "stream",
     "text": [
      "index_2\n",
      "435488031695750\n"
     ]
    },
    {
     "name": "stderr",
     "output_type": "stream",
     "text": [
      "  0%|                                                                                       | 0/500 [00:00<?, ?it/s]"
     ]
    },
    {
     "name": "stdout",
     "output_type": "stream",
     "text": [
      ">best! 0, 325292582465250\n",
      ">best! 0, 320487900726750\n",
      ">best! 0, 266563330242250\n",
      ">best! 0, 248228343947250\n"
     ]
    },
    {
     "name": "stderr",
     "output_type": "stream",
     "text": [
      "  0%|▏                                                                              | 1/500 [00:00<01:58,  4.21it/s]"
     ]
    },
    {
     "name": "stdout",
     "output_type": "stream",
     "text": [
      ">best! 1, 227359400831250\n"
     ]
    },
    {
     "name": "stderr",
     "output_type": "stream",
     "text": [
      "  2%|█▌                                                                            | 10/500 [00:02<01:56,  4.19it/s]"
     ]
    },
    {
     "name": "stdout",
     "output_type": "stream",
     "text": [
      ">best! 10, 214908982816835\n"
     ]
    },
    {
     "name": "stderr",
     "output_type": "stream",
     "text": [
      "  3%|██▏                                                                           | 14/500 [00:03<01:56,  4.16it/s]"
     ]
    },
    {
     "name": "stdout",
     "output_type": "stream",
     "text": [
      ">best! 13, 201027565975570\n"
     ]
    },
    {
     "name": "stderr",
     "output_type": "stream",
     "text": [
      " 11%|████████▍                                                                     | 54/500 [00:12<01:46,  4.18it/s]"
     ]
    },
    {
     "name": "stdout",
     "output_type": "stream",
     "text": [
      ">best! 53, 185205885491370\n"
     ]
    },
    {
     "name": "stderr",
     "output_type": "stream",
     "text": [
      " 15%|███████████▊                                                                  | 76/500 [00:18<01:41,  4.17it/s]"
     ]
    },
    {
     "name": "stdout",
     "output_type": "stream",
     "text": [
      ">best! 75, 183171744556205\n"
     ]
    },
    {
     "name": "stderr",
     "output_type": "stream",
     "text": [
      " 31%|███████████████████████▊                                                     | 155/500 [00:37<01:22,  4.20it/s]"
     ]
    },
    {
     "name": "stdout",
     "output_type": "stream",
     "text": [
      ">best! 155, 170846952541250\n"
     ]
    },
    {
     "name": "stderr",
     "output_type": "stream",
     "text": [
      " 54%|█████████████████████████████████████████▌                                   | 270/500 [01:04<00:55,  4.17it/s]"
     ]
    },
    {
     "name": "stdout",
     "output_type": "stream",
     "text": [
      ">best! 269, 163987602774580\n"
     ]
    },
    {
     "name": "stderr",
     "output_type": "stream",
     "text": [
      " 68%|████████████████████████████████████████████████████▌                        | 341/500 [01:21<00:38,  4.17it/s]"
     ]
    },
    {
     "name": "stdout",
     "output_type": "stream",
     "text": [
      ">best! 340, 147221205724805\n"
     ]
    },
    {
     "name": "stderr",
     "output_type": "stream",
     "text": [
      " 77%|███████████████████████████████████████████████████████████▌                 | 387/500 [01:32<00:27,  4.18it/s]"
     ]
    },
    {
     "name": "stdout",
     "output_type": "stream",
     "text": [
      ">best! 386, 131929127797735\n"
     ]
    },
    {
     "name": "stderr",
     "output_type": "stream",
     "text": [
      "100%|█████████████████████████████████████████████████████████████████████████████| 500/500 [01:59<00:00,  4.17it/s]\n"
     ]
    },
    {
     "name": "stdout",
     "output_type": "stream",
     "text": [
      "index_3\n",
      "400986191662500\n"
     ]
    },
    {
     "name": "stderr",
     "output_type": "stream",
     "text": [
      "  0%|                                                                                       | 0/500 [00:00<?, ?it/s]"
     ]
    },
    {
     "name": "stdout",
     "output_type": "stream",
     "text": [
      ">best! 0, 373025600000000\n",
      ">best! 0, 260293123857000\n",
      ">best! 0, 252066192888000\n",
      ">best! 0, 236011604294000\n",
      ">best! 0, 228083064666230\n"
     ]
    },
    {
     "name": "stderr",
     "output_type": "stream",
     "text": [
      "  1%|▊                                                                              | 5/500 [00:02<03:59,  2.07it/s]"
     ]
    },
    {
     "name": "stdout",
     "output_type": "stream",
     "text": [
      ">best! 5, 190667590000000\n",
      ">best! 5, 176642106825250\n"
     ]
    },
    {
     "name": "stderr",
     "output_type": "stream",
     "text": [
      " 21%|████████████████▍                                                            | 107/500 [00:51<03:08,  2.09it/s]"
     ]
    },
    {
     "name": "stdout",
     "output_type": "stream",
     "text": [
      ">best! 107, 166440401814500\n"
     ]
    },
    {
     "name": "stderr",
     "output_type": "stream",
     "text": [
      " 44%|█████████████████████████████████▉                                           | 220/500 [01:45<02:14,  2.09it/s]"
     ]
    },
    {
     "name": "stdout",
     "output_type": "stream",
     "text": [
      ">best! 220, 152557332327500\n"
     ]
    },
    {
     "name": "stderr",
     "output_type": "stream",
     "text": [
      " 66%|██████████████████████████████████████████████████▋                          | 329/500 [02:37<01:22,  2.08it/s]"
     ]
    },
    {
     "name": "stdout",
     "output_type": "stream",
     "text": [
      ">best! 329, 150487261634000\n"
     ]
    },
    {
     "name": "stderr",
     "output_type": "stream",
     "text": [
      "100%|█████████████████████████████████████████████████████████████████████████████| 500/500 [03:59<00:00,  2.09it/s]\n"
     ]
    },
    {
     "name": "stdout",
     "output_type": "stream",
     "text": [
      "index_4\n",
      "340716020000000\n"
     ]
    },
    {
     "name": "stderr",
     "output_type": "stream",
     "text": [
      "  0%|                                                                                       | 0/500 [00:00<?, ?it/s]"
     ]
    },
    {
     "name": "stdout",
     "output_type": "stream",
     "text": [
      ">best! 0, 281847870408500\n",
      ">best! 0, 260623360841040\n",
      ">best! 0, 260157460831250\n"
     ]
    },
    {
     "name": "stderr",
     "output_type": "stream",
     "text": [
      "  1%|▍                                                                              | 3/500 [00:00<01:58,  4.18it/s]"
     ]
    },
    {
     "name": "stdout",
     "output_type": "stream",
     "text": [
      ">best! 2, 241417342797750\n",
      ">best! 3, 235067692284750\n"
     ]
    },
    {
     "name": "stderr",
     "output_type": "stream",
     "text": [
      "  1%|█                                                                              | 7/500 [00:01<01:58,  4.18it/s]"
     ]
    },
    {
     "name": "stdout",
     "output_type": "stream",
     "text": [
      ">best! 6, 204184100817000\n"
     ]
    },
    {
     "name": "stderr",
     "output_type": "stream",
     "text": [
      "  6%|████▋                                                                         | 30/500 [00:07<01:52,  4.16it/s]"
     ]
    },
    {
     "name": "stdout",
     "output_type": "stream",
     "text": [
      ">best! 29, 180768620166250\n"
     ]
    },
    {
     "name": "stderr",
     "output_type": "stream",
     "text": [
      " 24%|██████████████████▊                                                          | 122/500 [00:29<01:30,  4.18it/s]"
     ]
    },
    {
     "name": "stdout",
     "output_type": "stream",
     "text": [
      ">best! 121, 154030724551070\n"
     ]
    },
    {
     "name": "stderr",
     "output_type": "stream",
     "text": [
      " 64%|█████████████████████████████████████████████████▌                           | 322/500 [01:17<00:42,  4.17it/s]\n"
     ]
    },
    {
     "name": "stdout",
     "output_type": "stream",
     "text": [
      "stop\n",
      "index_5\n",
      "280329372042500\n"
     ]
    },
    {
     "name": "stderr",
     "output_type": "stream",
     "text": [
      "  0%|                                                                                       | 0/500 [00:00<?, ?it/s]"
     ]
    },
    {
     "name": "stdout",
     "output_type": "stream",
     "text": [
      ">best! 0, 235406380000000\n",
      ">best! 0, 223797661163750\n"
     ]
    },
    {
     "name": "stderr",
     "output_type": "stream",
     "text": [
      "  0%|▏                                                                              | 1/500 [00:00<01:59,  4.17it/s]"
     ]
    },
    {
     "name": "stdout",
     "output_type": "stream",
     "text": [
      ">best! 1, 207054003426000\n"
     ]
    },
    {
     "name": "stderr",
     "output_type": "stream",
     "text": [
      "  2%|█▌                                                                            | 10/500 [00:02<01:57,  4.16it/s]"
     ]
    },
    {
     "name": "stdout",
     "output_type": "stream",
     "text": [
      ">best! 9, 183806407398635\n"
     ]
    },
    {
     "name": "stderr",
     "output_type": "stream",
     "text": [
      "  3%|██                                                                            | 13/500 [00:03<01:56,  4.18it/s]"
     ]
    },
    {
     "name": "stdout",
     "output_type": "stream",
     "text": [
      ">best! 12, 167680526141930\n"
     ]
    },
    {
     "name": "stderr",
     "output_type": "stream",
     "text": [
      " 43%|████████████████████████████████▊                                            | 213/500 [00:51<01:08,  4.17it/s]\n"
     ]
    },
    {
     "name": "stdout",
     "output_type": "stream",
     "text": [
      "stop\n",
      "index_6\n",
      "429090470000000\n"
     ]
    },
    {
     "name": "stderr",
     "output_type": "stream",
     "text": [
      "  0%|                                                                                       | 0/500 [00:00<?, ?it/s]"
     ]
    },
    {
     "name": "stdout",
     "output_type": "stream",
     "text": [
      ">best! 0, 356859462512750\n",
      ">best! 0, 270545801330000\n",
      ">best! 0, 268441535353250\n",
      ">best! 0, 266226905595500\n"
     ]
    },
    {
     "name": "stderr",
     "output_type": "stream",
     "text": [
      "  0%|▏                                                                              | 1/500 [00:00<01:59,  4.18it/s]"
     ]
    },
    {
     "name": "stdout",
     "output_type": "stream",
     "text": [
      ">best! 1, 233620686590470\n",
      ">best! 1, 224250064105340\n"
     ]
    },
    {
     "name": "stderr",
     "output_type": "stream",
     "text": [
      "  1%|▍                                                                              | 3/500 [00:00<01:59,  4.16it/s]"
     ]
    },
    {
     "name": "stdout",
     "output_type": "stream",
     "text": [
      ">best! 2, 216242104560380\n"
     ]
    },
    {
     "name": "stderr",
     "output_type": "stream",
     "text": [
      "  1%|▋                                                                              | 4/500 [00:00<01:59,  4.16it/s]"
     ]
    },
    {
     "name": "stdout",
     "output_type": "stream",
     "text": [
      ">best! 4, 212259165721690\n",
      ">best! 4, 193129244745535\n"
     ]
    },
    {
     "name": "stderr",
     "output_type": "stream",
     "text": [
      "  3%|██▍                                                                           | 16/500 [00:03<01:55,  4.19it/s]"
     ]
    },
    {
     "name": "stdout",
     "output_type": "stream",
     "text": [
      ">best! 16, 147095807592610\n"
     ]
    },
    {
     "name": "stderr",
     "output_type": "stream",
     "text": [
      " 43%|█████████████████████████████████▍                                           | 217/500 [00:52<01:07,  4.17it/s]\n"
     ]
    },
    {
     "name": "stdout",
     "output_type": "stream",
     "text": [
      "stop\n",
      "index_7\n",
      "339377741377500\n"
     ]
    },
    {
     "name": "stderr",
     "output_type": "stream",
     "text": [
      "  1%|▍                                                                              | 3/500 [00:00<00:20, 23.81it/s]"
     ]
    },
    {
     "name": "stdout",
     "output_type": "stream",
     "text": [
      ">best! 0, 316078103762960\n",
      ">best! 0, 234618181144260\n",
      ">best! 2, 220396941452525\n"
     ]
    },
    {
     "name": "stderr",
     "output_type": "stream",
     "text": [
      "  1%|▉                                                                              | 6/500 [00:00<00:20, 24.01it/s]"
     ]
    },
    {
     "name": "stdout",
     "output_type": "stream",
     "text": [
      ">best! 5, 195169062812000\n"
     ]
    },
    {
     "name": "stderr",
     "output_type": "stream",
     "text": [
      "  7%|█████▏                                                                        | 33/500 [00:01<00:19, 23.98it/s]"
     ]
    },
    {
     "name": "stdout",
     "output_type": "stream",
     "text": [
      ">best! 30, 182766490000000\n"
     ]
    },
    {
     "name": "stderr",
     "output_type": "stream",
     "text": [
      "  9%|███████                                                                       | 45/500 [00:01<00:19, 23.72it/s]"
     ]
    },
    {
     "name": "stdout",
     "output_type": "stream",
     "text": [
      ">best! 40, 173451222883240\n"
     ]
    },
    {
     "name": "stderr",
     "output_type": "stream",
     "text": [
      " 32%|████████████████████████▍                                                    | 159/500 [00:06<00:14, 23.82it/s]"
     ]
    },
    {
     "name": "stdout",
     "output_type": "stream",
     "text": [
      ">best! 154, 172169362619960\n"
     ]
    },
    {
     "name": "stderr",
     "output_type": "stream",
     "text": [
      " 50%|██████████████████████████████████████▎                                      | 249/500 [00:10<00:10, 23.93it/s]"
     ]
    },
    {
     "name": "stdout",
     "output_type": "stream",
     "text": [
      ">best! 245, 171618823575095\n"
     ]
    },
    {
     "name": "stderr",
     "output_type": "stream",
     "text": [
      " 53%|█████████████████████████████████████████                                    | 267/500 [00:11<00:09, 23.77it/s]"
     ]
    },
    {
     "name": "stdout",
     "output_type": "stream",
     "text": [
      ">best! 262, 169225961914435\n"
     ]
    },
    {
     "name": "stderr",
     "output_type": "stream",
     "text": [
      " 87%|██████████████████████████████████████████████████████████████████▉          | 435/500 [00:18<00:02, 23.76it/s]"
     ]
    },
    {
     "name": "stdout",
     "output_type": "stream",
     "text": [
      ">best! 431, 164599185523840\n"
     ]
    },
    {
     "name": "stderr",
     "output_type": "stream",
     "text": [
      "100%|█████████████████████████████████████████████████████████████████████████████| 500/500 [00:21<00:00, 23.79it/s]\n"
     ]
    },
    {
     "name": "stdout",
     "output_type": "stream",
     "text": [
      "index_8\n",
      "294819860000000\n"
     ]
    },
    {
     "name": "stderr",
     "output_type": "stream",
     "text": [
      "  0%|                                                                                       | 0/500 [00:00<?, ?it/s]"
     ]
    },
    {
     "name": "stdout",
     "output_type": "stream",
     "text": [
      ">best! 0, 262340030166250\n"
     ]
    },
    {
     "name": "stderr",
     "output_type": "stream",
     "text": [
      "  0%|▎                                                                              | 2/500 [00:00<03:44,  2.21it/s]"
     ]
    },
    {
     "name": "stdout",
     "output_type": "stream",
     "text": [
      ">best! 2, 251747581452330\n"
     ]
    },
    {
     "name": "stderr",
     "output_type": "stream",
     "text": [
      "  1%|▍                                                                              | 3/500 [00:01<03:45,  2.21it/s]"
     ]
    },
    {
     "name": "stdout",
     "output_type": "stream",
     "text": [
      ">best! 3, 250407264185710\n"
     ]
    },
    {
     "name": "stderr",
     "output_type": "stream",
     "text": [
      "  1%|▋                                                                              | 4/500 [00:01<03:44,  2.21it/s]"
     ]
    },
    {
     "name": "stdout",
     "output_type": "stream",
     "text": [
      ">best! 4, 239111901662500\n"
     ]
    },
    {
     "name": "stderr",
     "output_type": "stream",
     "text": [
      "  1%|▊                                                                              | 5/500 [00:02<03:42,  2.22it/s]"
     ]
    },
    {
     "name": "stdout",
     "output_type": "stream",
     "text": [
      ">best! 5, 225181341156475\n"
     ]
    },
    {
     "name": "stderr",
     "output_type": "stream",
     "text": [
      "  3%|██▏                                                                           | 14/500 [00:06<03:39,  2.22it/s]"
     ]
    },
    {
     "name": "stdout",
     "output_type": "stream",
     "text": [
      ">best! 14, 222739993040000\n"
     ]
    },
    {
     "name": "stderr",
     "output_type": "stream",
     "text": [
      "  4%|██▊                                                                           | 18/500 [00:08<03:37,  2.21it/s]"
     ]
    },
    {
     "name": "stdout",
     "output_type": "stream",
     "text": [
      ">best! 18, 210471170969000\n"
     ]
    },
    {
     "name": "stderr",
     "output_type": "stream",
     "text": [
      "  4%|██▉                                                                           | 19/500 [00:08<03:45,  2.13it/s]\n"
     ]
    },
    {
     "ename": "KeyboardInterrupt",
     "evalue": "",
     "output_type": "error",
     "traceback": [
      "\u001b[0;31m---------------------------------------------------------------------------\u001b[0m",
      "\u001b[0;31mKeyboardInterrupt\u001b[0m                         Traceback (most recent call last)",
      "Cell \u001b[0;32mIn[30], line 24\u001b[0m\n\u001b[1;32m     20\u001b[0m             pickle\u001b[38;5;241m.\u001b[39mdump(hyper_parameters_ls, f)\n\u001b[1;32m     22\u001b[0m     \u001b[38;5;28;01mreturn\u001b[39;00m hyper_parameters_ls, log_list_ls\n\u001b[0;32m---> 24\u001b[0m hyper_parameters_ls, log_list_ls \u001b[38;5;241m=\u001b[39m \u001b[43mga_get_gt\u001b[49m\u001b[43m(\u001b[49m\u001b[43mtemp0\u001b[49m\u001b[43m)\u001b[49m\n",
      "Cell \u001b[0;32mIn[30], line 15\u001b[0m, in \u001b[0;36mga_get_gt\u001b[0;34m(dataset_for_ga)\u001b[0m\n\u001b[1;32m     12\u001b[0m T, I, J, cit, pit, dit, mijt \u001b[38;5;241m=\u001b[39m ga_preprocess(data)\n\u001b[1;32m     14\u001b[0m hyper_parameters \u001b[38;5;241m=\u001b[39m set_hyper_parameters()\n\u001b[0;32m---> 15\u001b[0m hyper_parameters, log_list \u001b[38;5;241m=\u001b[39m \u001b[43mfind_hyper_parameters\u001b[49m\u001b[43m(\u001b[49m\u001b[43mhyper_parameters\u001b[49m\u001b[43m)\u001b[49m\n\u001b[1;32m     17\u001b[0m hyper_parameters_ls\u001b[38;5;241m.\u001b[39mappend(hyper_parameters)\n\u001b[1;32m     18\u001b[0m log_list_ls\u001b[38;5;241m.\u001b[39mappend(log_list)\n",
      "Cell \u001b[0;32mIn[28], line 274\u001b[0m, in \u001b[0;36mfind_hyper_parameters\u001b[0;34m(hyper_parameters)\u001b[0m\n\u001b[1;32m    271\u001b[0m r_mut \u001b[38;5;241m=\u001b[39m parameter[\u001b[38;5;124m'\u001b[39m\u001b[38;5;124mr_mut\u001b[39m\u001b[38;5;124m'\u001b[39m]\n\u001b[1;32m    273\u001b[0m \u001b[38;5;66;03m# 유전 알고리즘 실행\u001b[39;00m\n\u001b[0;32m--> 274\u001b[0m best, score, log, log_detail \u001b[38;5;241m=\u001b[39m \u001b[43mgenetic_algorithm\u001b[49m\u001b[43m(\u001b[49m\u001b[43mmijt\u001b[49m\u001b[43m,\u001b[49m\u001b[43m \u001b[49m\u001b[43mn_iter\u001b[49m\u001b[43m,\u001b[49m\u001b[43m \u001b[49m\u001b[43mn_pop\u001b[49m\u001b[43m,\u001b[49m\u001b[43m \u001b[49m\u001b[43mr_cross\u001b[49m\u001b[43m,\u001b[49m\u001b[43m \u001b[49m\u001b[43mr_mut\u001b[49m\u001b[43m)\u001b[49m\n\u001b[1;32m    276\u001b[0m \u001b[38;5;66;03m# 실행 시간 및 결과 기록\u001b[39;00m\n\u001b[1;32m    277\u001b[0m elapsed_time \u001b[38;5;241m=\u001b[39m datetime\u001b[38;5;241m.\u001b[39mdatetime\u001b[38;5;241m.\u001b[39mnow() \u001b[38;5;241m-\u001b[39m start\n",
      "Cell \u001b[0;32mIn[28], line 226\u001b[0m, in \u001b[0;36mgenetic_algorithm\u001b[0;34m(bounds, n_iter, n_pop, r_cross, r_mut)\u001b[0m\n\u001b[1;32m    224\u001b[0m     p1, p2 \u001b[38;5;241m=\u001b[39m selected[i], selected[i \u001b[38;5;241m+\u001b[39m \u001b[38;5;241m1\u001b[39m]\n\u001b[1;32m    225\u001b[0m     \u001b[38;5;28;01mfor\u001b[39;00m c \u001b[38;5;129;01min\u001b[39;00m crossover(p1, p2, r_cross):\n\u001b[0;32m--> 226\u001b[0m         \u001b[43mmutation\u001b[49m\u001b[43m(\u001b[49m\u001b[43mc\u001b[49m\u001b[43m,\u001b[49m\u001b[43m \u001b[49m\u001b[43mr_mut\u001b[49m\u001b[43m)\u001b[49m\n\u001b[1;32m    227\u001b[0m         children\u001b[38;5;241m.\u001b[39mappend(list2dict(c))\n\u001b[1;32m    229\u001b[0m pop \u001b[38;5;241m=\u001b[39m children\n",
      "Cell \u001b[0;32mIn[28], line 182\u001b[0m, in \u001b[0;36mmutation\u001b[0;34m(bitstring, r_mut)\u001b[0m\n\u001b[1;32m    179\u001b[0m n \u001b[38;5;241m=\u001b[39m \u001b[38;5;28mround\u001b[39m(r_mut \u001b[38;5;241m*\u001b[39m \u001b[38;5;28mlen\u001b[39m(valid_index))\n\u001b[1;32m    181\u001b[0m \u001b[38;5;66;03m# mutation (2): 무작위 인덱스에서 값 변경\u001b[39;00m\n\u001b[0;32m--> 182\u001b[0m pt_0 \u001b[38;5;241m=\u001b[39m \u001b[43mrandom\u001b[49m\u001b[38;5;241;43m.\u001b[39;49m\u001b[43msample\u001b[49m\u001b[43m(\u001b[49m\u001b[43mvalid_index\u001b[49m\u001b[43m,\u001b[49m\u001b[43m \u001b[49m\u001b[43mn\u001b[49m\u001b[43m)\u001b[49m\n\u001b[1;32m    183\u001b[0m \u001b[38;5;28;01mfor\u001b[39;00m idx \u001b[38;5;129;01min\u001b[39;00m pt_0:\n\u001b[1;32m    184\u001b[0m     bitstring[idx] \u001b[38;5;241m=\u001b[39m random\u001b[38;5;241m.\u001b[39muniform(\u001b[38;5;241m0\u001b[39m, \u001b[38;5;241m1\u001b[39m)\n",
      "File \u001b[0;32m~/.pyenv/versions/3.9.7/lib/python3.9/random.py:459\u001b[0m, in \u001b[0;36mRandom.sample\u001b[0;34m(self, population, k, counts)\u001b[0m\n\u001b[1;32m    457\u001b[0m pool \u001b[38;5;241m=\u001b[39m \u001b[38;5;28mlist\u001b[39m(population)\n\u001b[1;32m    458\u001b[0m \u001b[38;5;28;01mfor\u001b[39;00m i \u001b[38;5;129;01min\u001b[39;00m \u001b[38;5;28mrange\u001b[39m(k):\n\u001b[0;32m--> 459\u001b[0m     j \u001b[38;5;241m=\u001b[39m \u001b[43mrandbelow\u001b[49m\u001b[43m(\u001b[49m\u001b[43mn\u001b[49m\u001b[43m \u001b[49m\u001b[38;5;241;43m-\u001b[39;49m\u001b[43m \u001b[49m\u001b[43mi\u001b[49m\u001b[43m)\u001b[49m\n\u001b[1;32m    460\u001b[0m     result[i] \u001b[38;5;241m=\u001b[39m pool[j]\n\u001b[1;32m    461\u001b[0m     pool[j] \u001b[38;5;241m=\u001b[39m pool[n \u001b[38;5;241m-\u001b[39m i \u001b[38;5;241m-\u001b[39m \u001b[38;5;241m1\u001b[39m]  \u001b[38;5;66;03m# move non-selected item into vacancy\u001b[39;00m\n",
      "File \u001b[0;32m~/.pyenv/versions/3.9.7/lib/python3.9/random.py:242\u001b[0m, in \u001b[0;36mRandom._randbelow_with_getrandbits\u001b[0;34m(self, n)\u001b[0m\n\u001b[1;32m    240\u001b[0m \u001b[38;5;28;01mif\u001b[39;00m \u001b[38;5;129;01mnot\u001b[39;00m n:\n\u001b[1;32m    241\u001b[0m     \u001b[38;5;28;01mreturn\u001b[39;00m \u001b[38;5;241m0\u001b[39m\n\u001b[0;32m--> 242\u001b[0m getrandbits \u001b[38;5;241m=\u001b[39m \u001b[38;5;28;43mself\u001b[39;49m\u001b[38;5;241;43m.\u001b[39;49m\u001b[43mgetrandbits\u001b[49m\n\u001b[1;32m    243\u001b[0m k \u001b[38;5;241m=\u001b[39m n\u001b[38;5;241m.\u001b[39mbit_length()  \u001b[38;5;66;03m# don't use (n-1) here because n can be 1\u001b[39;00m\n\u001b[1;32m    244\u001b[0m r \u001b[38;5;241m=\u001b[39m getrandbits(k)  \u001b[38;5;66;03m# 0 <= r < 2**k\u001b[39;00m\n",
      "\u001b[0;31mKeyboardInterrupt\u001b[0m: "
     ]
    }
   ],
   "source": [
    "import pickle\n",
    "\n",
    "# 적합한 하이퍼 파라미터 찾는 과정\n",
    "temp0 = [dataset_for_ga[i] for i in random_ls]\n",
    "\n",
    "hyper_parameters_ls, log_list_ls = list(), list()\n",
    "\n",
    "# 유전 알고리즘\n",
    "def ga_get_gt(dataset_for_ga):\n",
    "    for data in dataset_for_ga:\n",
    "        global T, I, J, cit, pit, dit, mijt\n",
    "        T, I, J, cit, pit, dit, mijt = ga_preprocess(data)\n",
    "\n",
    "        hyper_parameters = set_hyper_parameters()\n",
    "        hyper_parameters, log_list = find_hyper_parameters(hyper_parameters)\n",
    "\n",
    "        hyper_parameters_ls.append(hyper_parameters)\n",
    "        log_list_ls.append(log_list)\n",
    "        with open('hyper_parameters_ls_n5.pkl', 'wb') as f:\n",
    "            pickle.dump(hyper_parameters_ls, f)\n",
    "\n",
    "    return hyper_parameters_ls, log_list_ls\n",
    "\n",
    "hyper_parameters_ls, log_list_ls = ga_get_gt(temp0)"
   ]
  },
  {
   "cell_type": "code",
   "execution_count": 50,
   "id": "7207753c",
   "metadata": {},
   "outputs": [
    {
     "data": {
      "text/html": [
       "<div>\n",
       "<style scoped>\n",
       "    .dataframe tbody tr th:only-of-type {\n",
       "        vertical-align: middle;\n",
       "    }\n",
       "\n",
       "    .dataframe tbody tr th {\n",
       "        vertical-align: top;\n",
       "    }\n",
       "\n",
       "    .dataframe thead th {\n",
       "        text-align: right;\n",
       "    }\n",
       "</style>\n",
       "<table border=\"1\" class=\"dataframe\">\n",
       "  <thead>\n",
       "    <tr style=\"text-align: right;\">\n",
       "      <th></th>\n",
       "      <th>index</th>\n",
       "      <th>n_iter</th>\n",
       "      <th>n_pop</th>\n",
       "      <th>r_cross</th>\n",
       "      <th>r_mut</th>\n",
       "      <th>68</th>\n",
       "      <th>6</th>\n",
       "      <th>77</th>\n",
       "      <th>91</th>\n",
       "      <th>29</th>\n",
       "      <th>10</th>\n",
       "      <th>58</th>\n",
       "      <th>109</th>\n",
       "      <th>0</th>\n",
       "      <th>111</th>\n",
       "    </tr>\n",
       "  </thead>\n",
       "  <tbody>\n",
       "    <tr>\n",
       "      <th>0</th>\n",
       "      <td>index_1</td>\n",
       "      <td>500</td>\n",
       "      <td>10</td>\n",
       "      <td>0.4</td>\n",
       "      <td>0.4</td>\n",
       "      <td>2.304075e+07</td>\n",
       "      <td>0.0</td>\n",
       "      <td>1548384.0</td>\n",
       "      <td>1.685775e+14</td>\n",
       "      <td>5.874482e+13</td>\n",
       "      <td>0.0</td>\n",
       "      <td>0.0</td>\n",
       "      <td>1.818114e+13</td>\n",
       "      <td>1315834.0</td>\n",
       "      <td>1.256976e+13</td>\n",
       "    </tr>\n",
       "    <tr>\n",
       "      <th>1</th>\n",
       "      <td>index_2</td>\n",
       "      <td>500</td>\n",
       "      <td>20</td>\n",
       "      <td>0.4</td>\n",
       "      <td>0.4</td>\n",
       "      <td>3.760016e+12</td>\n",
       "      <td>0.0</td>\n",
       "      <td>946276.0</td>\n",
       "      <td>1.649281e+14</td>\n",
       "      <td>4.933088e+13</td>\n",
       "      <td>0.0</td>\n",
       "      <td>0.0</td>\n",
       "      <td>1.548280e+13</td>\n",
       "      <td>542225.0</td>\n",
       "      <td>1.048470e+13</td>\n",
       "    </tr>\n",
       "    <tr>\n",
       "      <th>2</th>\n",
       "      <td>index_3</td>\n",
       "      <td>500</td>\n",
       "      <td>40</td>\n",
       "      <td>0.4</td>\n",
       "      <td>0.4</td>\n",
       "      <td>4.200021e+12</td>\n",
       "      <td>0.0</td>\n",
       "      <td>958140.0</td>\n",
       "      <td>1.383163e+14</td>\n",
       "      <td>4.979328e+13</td>\n",
       "      <td>0.0</td>\n",
       "      <td>0.0</td>\n",
       "      <td>1.285872e+13</td>\n",
       "      <td>966536.0</td>\n",
       "      <td>7.946400e+12</td>\n",
       "    </tr>\n",
       "    <tr>\n",
       "      <th>3</th>\n",
       "      <td>index_4</td>\n",
       "      <td>500</td>\n",
       "      <td>20</td>\n",
       "      <td>0.1</td>\n",
       "      <td>0.4</td>\n",
       "      <td>1.937002e+13</td>\n",
       "      <td>0.0</td>\n",
       "      <td>808560.0</td>\n",
       "      <td>1.686056e+14</td>\n",
       "      <td>5.815256e+13</td>\n",
       "      <td>0.0</td>\n",
       "      <td>0.0</td>\n",
       "      <td>1.544390e+13</td>\n",
       "      <td>1129548.0</td>\n",
       "      <td>1.242528e+13</td>\n",
       "    </tr>\n",
       "    <tr>\n",
       "      <th>4</th>\n",
       "      <td>index_5</td>\n",
       "      <td>500</td>\n",
       "      <td>20</td>\n",
       "      <td>0.2</td>\n",
       "      <td>0.4</td>\n",
       "      <td>1.410023e+12</td>\n",
       "      <td>0.0</td>\n",
       "      <td>633574.0</td>\n",
       "      <td>1.620072e+14</td>\n",
       "      <td>5.480808e+13</td>\n",
       "      <td>0.0</td>\n",
       "      <td>0.0</td>\n",
       "      <td>1.314768e+13</td>\n",
       "      <td>1415619.0</td>\n",
       "      <td>1.329216e+13</td>\n",
       "    </tr>\n",
       "    <tr>\n",
       "      <th>5</th>\n",
       "      <td>index_6</td>\n",
       "      <td>500</td>\n",
       "      <td>20</td>\n",
       "      <td>0.3</td>\n",
       "      <td>0.4</td>\n",
       "      <td>1.937638e+07</td>\n",
       "      <td>0.0</td>\n",
       "      <td>974566.0</td>\n",
       "      <td>1.498418e+14</td>\n",
       "      <td>5.327286e+13</td>\n",
       "      <td>0.0</td>\n",
       "      <td>0.0</td>\n",
       "      <td>9.883240e+12</td>\n",
       "      <td>1023926.0</td>\n",
       "      <td>1.612720e+13</td>\n",
       "    </tr>\n",
       "    <tr>\n",
       "      <th>6</th>\n",
       "      <td>index_7</td>\n",
       "      <td>500</td>\n",
       "      <td>20</td>\n",
       "      <td>0.4</td>\n",
       "      <td>0.1</td>\n",
       "      <td>2.369420e+07</td>\n",
       "      <td>0.0</td>\n",
       "      <td>280506.0</td>\n",
       "      <td>1.587894e+14</td>\n",
       "      <td>5.448986e+13</td>\n",
       "      <td>0.0</td>\n",
       "      <td>0.0</td>\n",
       "      <td>1.560384e+13</td>\n",
       "      <td>1435246.0</td>\n",
       "      <td>7.368481e+12</td>\n",
       "    </tr>\n",
       "    <tr>\n",
       "      <th>7</th>\n",
       "      <td>index_8</td>\n",
       "      <td>500</td>\n",
       "      <td>20</td>\n",
       "      <td>0.4</td>\n",
       "      <td>0.6</td>\n",
       "      <td>1.020002e+13</td>\n",
       "      <td>0.0</td>\n",
       "      <td>1146728.0</td>\n",
       "      <td>1.770980e+14</td>\n",
       "      <td>5.001406e+13</td>\n",
       "      <td>0.0</td>\n",
       "      <td>0.0</td>\n",
       "      <td>1.264402e+13</td>\n",
       "      <td>987182.0</td>\n",
       "      <td>1.030496e+13</td>\n",
       "    </tr>\n",
       "  </tbody>\n",
       "</table>\n",
       "</div>"
      ],
      "text/plain": [
       "     index  n_iter  n_pop  r_cross  r_mut            68    6         77  \\\n",
       "0  index_1     500     10      0.4    0.4  2.304075e+07  0.0  1548384.0   \n",
       "1  index_2     500     20      0.4    0.4  3.760016e+12  0.0   946276.0   \n",
       "2  index_3     500     40      0.4    0.4  4.200021e+12  0.0   958140.0   \n",
       "3  index_4     500     20      0.1    0.4  1.937002e+13  0.0   808560.0   \n",
       "4  index_5     500     20      0.2    0.4  1.410023e+12  0.0   633574.0   \n",
       "5  index_6     500     20      0.3    0.4  1.937638e+07  0.0   974566.0   \n",
       "6  index_7     500     20      0.4    0.1  2.369420e+07  0.0   280506.0   \n",
       "7  index_8     500     20      0.4    0.6  1.020002e+13  0.0  1146728.0   \n",
       "\n",
       "             91            29   10   58           109          0           111  \n",
       "0  1.685775e+14  5.874482e+13  0.0  0.0  1.818114e+13  1315834.0  1.256976e+13  \n",
       "1  1.649281e+14  4.933088e+13  0.0  0.0  1.548280e+13   542225.0  1.048470e+13  \n",
       "2  1.383163e+14  4.979328e+13  0.0  0.0  1.285872e+13   966536.0  7.946400e+12  \n",
       "3  1.686056e+14  5.815256e+13  0.0  0.0  1.544390e+13  1129548.0  1.242528e+13  \n",
       "4  1.620072e+14  5.480808e+13  0.0  0.0  1.314768e+13  1415619.0  1.329216e+13  \n",
       "5  1.498418e+14  5.327286e+13  0.0  0.0  9.883240e+12  1023926.0  1.612720e+13  \n",
       "6  1.587894e+14  5.448986e+13  0.0  0.0  1.560384e+13  1435246.0  7.368481e+12  \n",
       "7  1.770980e+14  5.001406e+13  0.0  0.0  1.264402e+13   987182.0  1.030496e+13  "
      ]
     },
     "execution_count": 50,
     "metadata": {},
     "output_type": "execute_result"
    }
   ],
   "source": [
    "hyper_parameters_df = hyper_parameters_ls[0][['index', 'n_iter', 'n_pop', 'r_cross', 'r_mut']]\n",
    "\n",
    "for hyper_parameters in hyper_parameters_ls:\n",
    "    temp = hyper_parameters[['objective']]\n",
    "    hyper_parameters_df = pd.concat([hyper_parameters_df, temp], axis=1)\n",
    "\n",
    "hyper_parameters_df.columns = ['index', 'n_iter', 'n_pop', 'r_cross', 'r_mut'] + list(random_ls)\n",
    "\n",
    "hyper_parameters_df"
   ]
  },
  {
   "cell_type": "code",
   "execution_count": 31,
   "id": "1749ac14",
   "metadata": {},
   "outputs": [
    {
     "name": "stdout",
     "output_type": "stream",
     "text": [
      "31159690513360\n"
     ]
    },
    {
     "name": "stderr",
     "output_type": "stream",
     "text": [
      "  0%|▎                                                                              | 2/500 [00:00<00:31, 15.95it/s]"
     ]
    },
    {
     "name": "stdout",
     "output_type": "stream",
     "text": [
      ">best! 0, 6653672\n",
      ">best! 1, 6285361\n",
      ">best! 2, 5082676\n",
      ">best! 3, 4919956\n"
     ]
    },
    {
     "name": "stderr",
     "output_type": "stream",
     "text": [
      "  2%|█▎                                                                             | 8/500 [00:00<00:31, 15.84it/s]"
     ]
    },
    {
     "name": "stdout",
     "output_type": "stream",
     "text": [
      ">best! 5, 4442480\n",
      ">best! 7, 2768916\n"
     ]
    },
    {
     "name": "stderr",
     "output_type": "stream",
     "text": [
      "  4%|███                                                                           | 20/500 [00:01<00:30, 15.96it/s]"
     ]
    },
    {
     "name": "stdout",
     "output_type": "stream",
     "text": [
      ">best! 16, 2664474\n",
      ">best! 20, 2483490\n"
     ]
    },
    {
     "name": "stderr",
     "output_type": "stream",
     "text": [
      "  5%|███▋                                                                          | 24/500 [00:01<00:29, 15.90it/s]"
     ]
    },
    {
     "name": "stdout",
     "output_type": "stream",
     "text": [
      ">best! 21, 2398625\n"
     ]
    },
    {
     "name": "stderr",
     "output_type": "stream",
     "text": [
      "  8%|██████▌                                                                       | 42/500 [00:02<00:28, 16.03it/s]"
     ]
    },
    {
     "name": "stdout",
     "output_type": "stream",
     "text": [
      ">best! 40, 1980552\n"
     ]
    },
    {
     "name": "stderr",
     "output_type": "stream",
     "text": [
      " 14%|███████████▏                                                                  | 72/500 [00:04<00:26, 16.14it/s]"
     ]
    },
    {
     "name": "stdout",
     "output_type": "stream",
     "text": [
      ">best! 68, 1399470\n"
     ]
    },
    {
     "name": "stderr",
     "output_type": "stream",
     "text": [
      " 54%|█████████████████████████████████████████▍                                   | 269/500 [00:16<00:14, 15.99it/s]\n"
     ]
    },
    {
     "name": "stdout",
     "output_type": "stream",
     "text": [
      "stop\n",
      "1번째 log 저장 완료. 총 123개\n",
      "138338410514816\n"
     ]
    },
    {
     "name": "stderr",
     "output_type": "stream",
     "text": [
      "  1%|▍                                                                              | 3/500 [00:00<00:21, 22.71it/s]"
     ]
    },
    {
     "name": "stdout",
     "output_type": "stream",
     "text": [
      ">best! 0, 130570843503500\n",
      ">best! 0, 21903589421346\n",
      ">best! 0, 14405177\n",
      ">best! 0, 11651407\n",
      ">best! 1, 9567664\n"
     ]
    },
    {
     "name": "stderr",
     "output_type": "stream",
     "text": [
      "  4%|██▊                                                                           | 18/500 [00:00<00:21, 22.65it/s]"
     ]
    },
    {
     "name": "stdout",
     "output_type": "stream",
     "text": [
      ">best! 15, 8909843\n"
     ]
    },
    {
     "name": "stderr",
     "output_type": "stream",
     "text": [
      "  5%|███▋                                                                          | 24/500 [00:01<00:21, 22.61it/s]"
     ]
    },
    {
     "name": "stdout",
     "output_type": "stream",
     "text": [
      ">best! 20, 7475441\n"
     ]
    },
    {
     "name": "stderr",
     "output_type": "stream",
     "text": [
      "  6%|████▋                                                                         | 30/500 [00:01<00:20, 22.75it/s]"
     ]
    },
    {
     "name": "stdout",
     "output_type": "stream",
     "text": [
      ">best! 26, 6197628\n",
      ">best! 28, 3733599\n"
     ]
    },
    {
     "name": "stderr",
     "output_type": "stream",
     "text": [
      "  9%|███████                                                                       | 45/500 [00:01<00:20, 22.49it/s]"
     ]
    },
    {
     "name": "stdout",
     "output_type": "stream",
     "text": [
      ">best! 41, 1050968\n"
     ]
    },
    {
     "name": "stderr",
     "output_type": "stream",
     "text": [
      " 48%|█████████████████████████████████████▎                                       | 242/500 [00:10<00:11, 22.62it/s]\n"
     ]
    },
    {
     "name": "stdout",
     "output_type": "stream",
     "text": [
      "stop\n",
      "2번째 log 저장 완료. 총 123개\n",
      "74933303640000\n"
     ]
    },
    {
     "name": "stderr",
     "output_type": "stream",
     "text": [
      "  1%|▍                                                                              | 3/500 [00:00<00:18, 26.88it/s]"
     ]
    },
    {
     "name": "stdout",
     "output_type": "stream",
     "text": [
      ">best! 0, 9798978918000\n",
      ">best! 0, 9097166\n"
     ]
    },
    {
     "name": "stderr",
     "output_type": "stream",
     "text": [
      "  1%|▉                                                                              | 6/500 [00:00<00:18, 27.05it/s]"
     ]
    },
    {
     "name": "stdout",
     "output_type": "stream",
     "text": [
      ">best! 6, 8896897\n"
     ]
    },
    {
     "name": "stderr",
     "output_type": "stream",
     "text": [
      "  2%|█▍                                                                             | 9/500 [00:00<00:18, 26.98it/s]"
     ]
    },
    {
     "name": "stdout",
     "output_type": "stream",
     "text": [
      ">best! 10, 7877628\n",
      ">best! 11, 6709833\n"
     ]
    },
    {
     "name": "stderr",
     "output_type": "stream",
     "text": [
      "  3%|██▎                                                                           | 15/500 [00:00<00:17, 27.35it/s]"
     ]
    },
    {
     "name": "stdout",
     "output_type": "stream",
     "text": [
      ">best! 13, 5496538\n",
      ">best! 15, 5335641\n"
     ]
    },
    {
     "name": "stderr",
     "output_type": "stream",
     "text": [
      "  4%|██▊                                                                           | 18/500 [00:00<00:17, 27.08it/s]"
     ]
    },
    {
     "name": "stdout",
     "output_type": "stream",
     "text": [
      ">best! 17, 5196307\n"
     ]
    },
    {
     "name": "stderr",
     "output_type": "stream",
     "text": [
      "  4%|███▎                                                                          | 21/500 [00:00<00:17, 27.05it/s]"
     ]
    },
    {
     "name": "stdout",
     "output_type": "stream",
     "text": [
      ">best! 21, 3731000\n"
     ]
    },
    {
     "name": "stderr",
     "output_type": "stream",
     "text": [
      "  7%|█████▏                                                                        | 33/500 [00:01<00:17, 27.16it/s]"
     ]
    },
    {
     "name": "stdout",
     "output_type": "stream",
     "text": [
      ">best! 29, 57641\n"
     ]
    },
    {
     "name": "stderr",
     "output_type": "stream",
     "text": [
      " 46%|███████████████████████████████████▍                                         | 230/500 [00:08<00:09, 27.18it/s]\n"
     ]
    },
    {
     "name": "stdout",
     "output_type": "stream",
     "text": [
      "stop\n",
      "3번째 log 저장 완료. 총 123개\n",
      "19021535778500\n"
     ]
    },
    {
     "name": "stderr",
     "output_type": "stream",
     "text": [
      "  1%|▋                                                                              | 4/500 [00:00<00:13, 37.31it/s]"
     ]
    },
    {
     "name": "stdout",
     "output_type": "stream",
     "text": [
      ">best! 1, 2305646961500\n",
      ">best! 1, 7610641\n",
      ">best! 3, 6473141\n"
     ]
    },
    {
     "name": "stderr",
     "output_type": "stream",
     "text": [
      "  2%|█▎                                                                             | 8/500 [00:00<00:13, 37.63it/s]"
     ]
    },
    {
     "name": "stdout",
     "output_type": "stream",
     "text": [
      ">best! 7, 6245641\n",
      ">best! 8, 5987846\n"
     ]
    },
    {
     "name": "stderr",
     "output_type": "stream",
     "text": [
      "  2%|█▊                                                                            | 12/500 [00:00<00:12, 37.81it/s]"
     ]
    },
    {
     "name": "stdout",
     "output_type": "stream",
     "text": [
      ">best! 11, 2690628\n"
     ]
    },
    {
     "name": "stderr",
     "output_type": "stream",
     "text": [
      " 14%|███████████▏                                                                  | 72/500 [00:01<00:11, 37.51it/s]"
     ]
    },
    {
     "name": "stdout",
     "output_type": "stream",
     "text": [
      ">best! 66, 1983846\n"
     ]
    },
    {
     "name": "stderr",
     "output_type": "stream",
     "text": [
      " 53%|█████████████████████████████████████████                                    | 267/500 [00:07<00:06, 37.48it/s]\n"
     ]
    },
    {
     "name": "stdout",
     "output_type": "stream",
     "text": [
      "stop\n",
      "4번째 log 저장 완료. 총 123개\n",
      "129692257371000\n"
     ]
    },
    {
     "name": "stderr",
     "output_type": "stream",
     "text": [
      "  2%|█▍                                                                             | 9/500 [00:00<00:05, 87.20it/s]"
     ]
    },
    {
     "name": "stdout",
     "output_type": "stream",
     "text": [
      ">best! 0, 64557927007000\n",
      ">best! 0, 26514866142500\n",
      ">best! 0, 14986666916000\n",
      ">best! 0, 10544089\n",
      ">best! 1, 9494410\n",
      ">best! 2, 5545102\n",
      ">best! 6, 3218474\n"
     ]
    },
    {
     "name": "stderr",
     "output_type": "stream",
     "text": [
      "  4%|██▊                                                                           | 18/500 [00:00<00:05, 87.51it/s]"
     ]
    },
    {
     "name": "stdout",
     "output_type": "stream",
     "text": [
      ">best! 24, 1895910\n"
     ]
    },
    {
     "name": "stderr",
     "output_type": "stream",
     "text": [
      " 18%|██████████████                                                                | 90/500 [00:01<00:04, 87.68it/s]"
     ]
    },
    {
     "name": "stdout",
     "output_type": "stream",
     "text": [
      ">best! 79, 1180051\n"
     ]
    },
    {
     "name": "stderr",
     "output_type": "stream",
     "text": [
      " 43%|█████████████████████████████████▎                                           | 216/500 [00:02<00:03, 87.90it/s]"
     ]
    },
    {
     "name": "stdout",
     "output_type": "stream",
     "text": [
      ">best! 198, 549064\n"
     ]
    },
    {
     "name": "stderr",
     "output_type": "stream",
     "text": [
      " 80%|█████████████████████████████████████████████████████████████▍               | 399/500 [00:04<00:01, 88.04it/s]\n"
     ]
    },
    {
     "name": "stdout",
     "output_type": "stream",
     "text": [
      "stop\n",
      "5번째 log 저장 완료. 총 123개\n",
      "187333250000000\n"
     ]
    },
    {
     "name": "stderr",
     "output_type": "stream",
     "text": [
      "  2%|█▋                                                                           | 11/500 [00:00<00:04, 109.38it/s]"
     ]
    },
    {
     "name": "stdout",
     "output_type": "stream",
     "text": [
      ">best! 0, 164276850000000\n",
      ">best! 0, 117587640000000\n",
      ">best! 2, 85308680000000\n"
     ]
    },
    {
     "name": "stderr",
     "output_type": "stream",
     "text": [
      "  9%|██████▊                                                                      | 44/500 [00:00<00:04, 109.18it/s]"
     ]
    },
    {
     "name": "stdout",
     "output_type": "stream",
     "text": [
      ">best! 26, 58217410000000\n"
     ]
    },
    {
     "name": "stderr",
     "output_type": "stream",
     "text": [
      " 27%|████████████████████▌                                                       | 135/500 [00:01<00:03, 109.67it/s]"
     ]
    },
    {
     "name": "stdout",
     "output_type": "stream",
     "text": [
      ">best! 115, 32278960000000\n"
     ]
    },
    {
     "name": "stderr",
     "output_type": "stream",
     "text": [
      " 63%|████████████████████████████████████████████████                            | 316/500 [00:02<00:01, 109.75it/s]\n"
     ]
    },
    {
     "name": "stdout",
     "output_type": "stream",
     "text": [
      "stop\n",
      "6번째 log 저장 완료. 총 123개\n",
      "0\n"
     ]
    },
    {
     "name": "stderr",
     "output_type": "stream",
     "text": [
      " 40%|██████████████████████████████▏                                            | 201/500 [00:00<00:00, 1324.12it/s]\n"
     ]
    },
    {
     "name": "stdout",
     "output_type": "stream",
     "text": [
      "stop\n",
      "7번째 log 저장 완료. 총 123개\n",
      "0\n"
     ]
    },
    {
     "name": "stderr",
     "output_type": "stream",
     "text": [
      " 40%|██████████████████████████████▌                                             | 201/500 [00:00<00:00, 418.30it/s]\n"
     ]
    },
    {
     "name": "stdout",
     "output_type": "stream",
     "text": [
      "stop\n",
      "8번째 log 저장 완료. 총 123개\n",
      "3015500\n"
     ]
    },
    {
     "name": "stderr",
     "output_type": "stream",
     "text": [
      "  5%|███▋                                                                         | 24/500 [00:00<00:02, 237.05it/s]"
     ]
    },
    {
     "name": "stdout",
     "output_type": "stream",
     "text": [
      ">best! 0, 259000\n",
      ">best! 0, 111000\n",
      ">best! 5, 74000\n",
      ">best! 9, 0\n"
     ]
    },
    {
     "name": "stderr",
     "output_type": "stream",
     "text": [
      " 42%|███████████████████████████████▉                                            | 210/500 [00:00<00:01, 236.94it/s]\n"
     ]
    },
    {
     "name": "stdout",
     "output_type": "stream",
     "text": [
      "stop\n",
      "9번째 log 저장 완료. 총 123개\n",
      "1646500\n"
     ]
    },
    {
     "name": "stderr",
     "output_type": "stream",
     "text": [
      "  4%|███                                                                          | 20/500 [00:00<00:02, 195.77it/s]"
     ]
    },
    {
     "name": "stdout",
     "output_type": "stream",
     "text": [
      ">best! 0, 1332000\n",
      ">best! 0, 18500\n",
      ">best! 27, 0\n"
     ]
    },
    {
     "name": "stderr",
     "output_type": "stream",
     "text": [
      " 46%|██████████████████████████████████▋                                         | 228/500 [00:01<00:01, 192.82it/s]\n"
     ]
    },
    {
     "name": "stdout",
     "output_type": "stream",
     "text": [
      "stop\n",
      "10번째 log 저장 완료. 총 123개\n",
      "2571500\n"
     ]
    },
    {
     "name": "stderr",
     "output_type": "stream",
     "text": [
      "  3%|██▍                                                                          | 16/500 [00:00<00:03, 150.83it/s]"
     ]
    },
    {
     "name": "stdout",
     "output_type": "stream",
     "text": [
      ">best! 0, 721500\n",
      ">best! 0, 92500\n",
      ">best! 4, 74000\n",
      ">best! 7, 18500\n",
      ">best! 9, 0\n"
     ]
    },
    {
     "name": "stderr",
     "output_type": "stream",
     "text": [
      " 42%|███████████████████████████████▉                                            | 210/500 [00:01<00:01, 149.82it/s]\n"
     ]
    },
    {
     "name": "stdout",
     "output_type": "stream",
     "text": [
      "stop\n",
      "11번째 log 저장 완료. 총 123개\n",
      "103057501091500\n"
     ]
    },
    {
     "name": "stderr",
     "output_type": "stream",
     "text": [
      "  1%|▊                                                                              | 5/500 [00:00<00:09, 49.85it/s]"
     ]
    },
    {
     "name": "stdout",
     "output_type": "stream",
     "text": [
      ">best! 0, 73255001591000\n",
      ">best! 1, 56192501665000\n",
      ">best! 1, 51870001776000\n",
      ">best! 2, 48912500610500\n"
     ]
    },
    {
     "name": "stderr",
     "output_type": "stream",
     "text": [
      "  2%|█▌                                                                            | 10/500 [00:00<00:09, 49.24it/s]"
     ]
    },
    {
     "name": "stdout",
     "output_type": "stream",
     "text": [
      ">best! 9, 38447503848000\n",
      ">best! 10, 36627503700000\n"
     ]
    },
    {
     "name": "stderr",
     "output_type": "stream",
     "text": [
      " 11%|████████▌                                                                     | 55/500 [00:01<00:08, 49.97it/s]"
     ]
    },
    {
     "name": "stdout",
     "output_type": "stream",
     "text": [
      ">best! 46, 29802503848000\n"
     ]
    },
    {
     "name": "stderr",
     "output_type": "stream",
     "text": [
      " 17%|█████████████▍                                                                | 86/500 [00:01<00:08, 49.79it/s]"
     ]
    },
    {
     "name": "stdout",
     "output_type": "stream",
     "text": [
      ">best! 77, 22977502405000\n"
     ]
    },
    {
     "name": "stderr",
     "output_type": "stream",
     "text": [
      " 42%|████████████████████████████████▎                                            | 210/500 [00:04<00:05, 49.67it/s]"
     ]
    },
    {
     "name": "stdout",
     "output_type": "stream",
     "text": [
      ">best! 201, 15470000740000\n"
     ]
    },
    {
     "name": "stderr",
     "output_type": "stream",
     "text": [
      " 80%|█████████████████████████████████████████████████████████████▉               | 402/500 [00:08<00:01, 49.73it/s]\n"
     ]
    },
    {
     "name": "stdout",
     "output_type": "stream",
     "text": [
      "stop\n",
      "12번째 log 저장 완료. 총 123개\n",
      "113522500000000\n"
     ]
    },
    {
     "name": "stderr",
     "output_type": "stream",
     "text": [
      "  2%|█▎                                                                             | 8/500 [00:00<00:06, 71.89it/s]"
     ]
    },
    {
     "name": "stdout",
     "output_type": "stream",
     "text": [
      ">best! 0, 112157500000000\n",
      ">best! 0, 89635000000000\n",
      ">best! 0, 89407500000000\n",
      ">best! 0, 87815000000000\n",
      ">best! 0, 68932500000000\n",
      ">best! 0, 65065000000000\n",
      ">best! 2, 50277500000000\n",
      ">best! 6, 38447500000000\n"
     ]
    },
    {
     "name": "stderr",
     "output_type": "stream",
     "text": [
      "  8%|██████▏                                                                       | 40/500 [00:00<00:06, 71.64it/s]"
     ]
    },
    {
     "name": "stdout",
     "output_type": "stream",
     "text": [
      ">best! 24, 24570000000000\n",
      ">best! 35, 22977500000000\n"
     ]
    },
    {
     "name": "stderr",
     "output_type": "stream",
     "text": [
      " 37%|████████████████████████████▎                                                | 184/500 [00:02<00:04, 70.77it/s]"
     ]
    },
    {
     "name": "stdout",
     "output_type": "stream",
     "text": [
      ">best! 169, 20475000000000\n"
     ]
    },
    {
     "name": "stderr",
     "output_type": "stream",
     "text": [
      " 51%|███████████████████████████████████████▍                                     | 256/500 [00:03<00:03, 70.79it/s]"
     ]
    },
    {
     "name": "stdout",
     "output_type": "stream",
     "text": [
      ">best! 244, 15925000000000\n"
     ]
    },
    {
     "name": "stderr",
     "output_type": "stream",
     "text": [
      " 89%|████████████████████████████████████████████████████████████████████▌        | 445/500 [00:06<00:00, 70.96it/s]\n"
     ]
    },
    {
     "name": "stdout",
     "output_type": "stream",
     "text": [
      "stop\n",
      "13번째 log 저장 완료. 총 123개\n",
      "82810000000000\n"
     ]
    },
    {
     "name": "stderr",
     "output_type": "stream",
     "text": [
      "  1%|▊                                                                              | 5/500 [00:00<00:11, 43.47it/s]"
     ]
    },
    {
     "name": "stdout",
     "output_type": "stream",
     "text": [
      ">best! 0, 79170000000000\n",
      ">best! 1, 42770000000000\n"
     ]
    },
    {
     "name": "stderr",
     "output_type": "stream",
     "text": [
      "  6%|████▋                                                                         | 30/500 [00:00<00:10, 43.22it/s]"
     ]
    },
    {
     "name": "stdout",
     "output_type": "stream",
     "text": [
      ">best! 21, 37082500000000\n"
     ]
    },
    {
     "name": "stderr",
     "output_type": "stream",
     "text": [
      " 14%|██████████▉                                                                   | 70/500 [00:01<00:09, 43.05it/s]"
     ]
    },
    {
     "name": "stdout",
     "output_type": "stream",
     "text": [
      ">best! 60, 36855000000000\n",
      ">best! 61, 32305000000000\n"
     ]
    },
    {
     "name": "stderr",
     "output_type": "stream",
     "text": [
      " 19%|██████████████▊                                                               | 95/500 [00:02<00:09, 43.06it/s]"
     ]
    },
    {
     "name": "stdout",
     "output_type": "stream",
     "text": [
      ">best! 86, 30712500000000\n"
     ]
    },
    {
     "name": "stderr",
     "output_type": "stream",
     "text": [
      " 26%|████████████████████                                                         | 130/500 [00:03<00:08, 42.94it/s]"
     ]
    },
    {
     "name": "stdout",
     "output_type": "stream",
     "text": [
      ">best! 122, 24342500000000\n"
     ]
    },
    {
     "name": "stderr",
     "output_type": "stream",
     "text": [
      " 29%|██████████████████████▎                                                      | 145/500 [00:03<00:08, 42.99it/s]"
     ]
    },
    {
     "name": "stdout",
     "output_type": "stream",
     "text": [
      ">best! 139, 18200000000000\n"
     ]
    },
    {
     "name": "stderr",
     "output_type": "stream",
     "text": [
      " 56%|███████████████████████████████████████████                                  | 280/500 [00:06<00:05, 43.14it/s]"
     ]
    },
    {
     "name": "stdout",
     "output_type": "stream",
     "text": [
      ">best! 274, 7962500000000\n"
     ]
    },
    {
     "name": "stderr",
     "output_type": "stream",
     "text": [
      " 95%|█████████████████████████████████████████████████████████████████████████▏   | 475/500 [00:11<00:00, 42.90it/s]\n"
     ]
    },
    {
     "name": "stdout",
     "output_type": "stream",
     "text": [
      "stop\n",
      "14번째 log 저장 완료. 총 123개\n",
      "111247500000000\n"
     ]
    },
    {
     "name": "stderr",
     "output_type": "stream",
     "text": [
      "  3%|██▍                                                                           | 16/500 [00:00<00:06, 71.62it/s]"
     ]
    },
    {
     "name": "stdout",
     "output_type": "stream",
     "text": [
      ">best! 0, 105560000000000\n",
      ">best! 0, 49140000000000\n",
      ">best! 16, 47547500000000\n"
     ]
    },
    {
     "name": "stderr",
     "output_type": "stream",
     "text": [
      "  6%|████▉                                                                         | 32/500 [00:00<00:06, 71.58it/s]"
     ]
    },
    {
     "name": "stdout",
     "output_type": "stream",
     "text": [
      ">best! 24, 40495000000000\n",
      ">best! 28, 35262500000000\n",
      ">best! 39, 16835000000000\n"
     ]
    },
    {
     "name": "stderr",
     "output_type": "stream",
     "text": [
      " 48%|████████████████████████████████████▉                                        | 240/500 [00:03<00:03, 70.91it/s]\n"
     ]
    },
    {
     "name": "stdout",
     "output_type": "stream",
     "text": [
      "stop\n",
      "15번째 log 저장 완료. 총 123개\n",
      "86450007149270\n"
     ]
    },
    {
     "name": "stderr",
     "output_type": "stream",
     "text": [
      "  1%|▊                                                                              | 5/500 [00:00<00:10, 47.48it/s]"
     ]
    },
    {
     "name": "stdout",
     "output_type": "stream",
     "text": [
      ">best! 0, 85767503467610\n",
      ">best! 1, 61197506378690\n",
      ">best! 1, 53462503381990\n",
      ">best! 2, 52780004066950\n",
      ">best! 3, 39130004880340\n"
     ]
    },
    {
     "name": "stderr",
     "output_type": "stream",
     "text": [
      "  5%|███▉                                                                          | 25/500 [00:00<00:09, 47.84it/s]"
     ]
    },
    {
     "name": "stdout",
     "output_type": "stream",
     "text": [
      ">best! 17, 35035006892410\n",
      ">best! 18, 31395003296370\n",
      ">best! 22, 27982503039510\n"
     ]
    },
    {
     "name": "stderr",
     "output_type": "stream",
     "text": [
      " 10%|███████▊                                                                      | 50/500 [00:01<00:09, 47.48it/s]"
     ]
    },
    {
     "name": "stdout",
     "output_type": "stream",
     "text": [
      ">best! 42, 21157505479680\n"
     ]
    },
    {
     "name": "stderr",
     "output_type": "stream",
     "text": [
      " 28%|█████████████████████▌                                                       | 140/500 [00:02<00:07, 47.28it/s]"
     ]
    },
    {
     "name": "stdout",
     "output_type": "stream",
     "text": [
      ">best! 131, 7735000214050\n"
     ]
    },
    {
     "name": "stderr",
     "output_type": "stream",
     "text": [
      " 66%|███████████████████████████████████████████████████▏                         | 332/500 [00:07<00:03, 47.33it/s]\n"
     ]
    },
    {
     "name": "stdout",
     "output_type": "stream",
     "text": [
      "stop\n",
      "16번째 log 저장 완료. 총 123개\n",
      "67639803149250\n"
     ]
    },
    {
     "name": "stderr",
     "output_type": "stream",
     "text": [
      "  1%|▋                                                                              | 4/500 [00:00<00:12, 38.56it/s]"
     ]
    },
    {
     "name": "stdout",
     "output_type": "stream",
     "text": [
      ">best! 0, 12180120\n",
      ">best! 0, 9924780\n",
      ">best! 0, 8238540\n",
      ">best! 0, 7717350\n",
      ">best! 0, 7658910\n",
      ">best! 0, 5163360\n",
      ">best! 1, 4876260\n",
      ">best! 1, 4761420\n",
      ">best! 2, 4745790\n",
      ">best! 2, 2368140\n",
      ">best! 3, 1169460\n"
     ]
    },
    {
     "name": "stderr",
     "output_type": "stream",
     "text": [
      "  5%|███▋                                                                          | 24/500 [00:00<00:12, 38.56it/s]"
     ]
    },
    {
     "name": "stdout",
     "output_type": "stream",
     "text": [
      ">best! 18, 713160\n"
     ]
    },
    {
     "name": "stderr",
     "output_type": "stream",
     "text": [
      " 19%|███████████████▏                                                              | 97/500 [00:02<00:10, 39.29it/s]"
     ]
    },
    {
     "name": "stdout",
     "output_type": "stream",
     "text": [
      ">best! 89, 327870\n"
     ]
    },
    {
     "name": "stderr",
     "output_type": "stream",
     "text": [
      " 58%|████████████████████████████████████████████▋                                | 290/500 [00:07<00:05, 39.01it/s]\n"
     ]
    },
    {
     "name": "stdout",
     "output_type": "stream",
     "text": [
      "stop\n",
      "17번째 log 저장 완료. 총 123개\n",
      "9822510\n"
     ]
    },
    {
     "name": "stderr",
     "output_type": "stream",
     "text": [
      "  1%|▋                                                                              | 4/500 [00:00<00:12, 39.46it/s]"
     ]
    },
    {
     "name": "stdout",
     "output_type": "stream",
     "text": [
      ">best! 0, 5087250\n",
      ">best! 0, 4363560\n",
      ">best! 0, 2180250\n",
      ">best! 2, 2038230\n"
     ]
    },
    {
     "name": "stderr",
     "output_type": "stream",
     "text": [
      "  4%|███▎                                                                          | 21/500 [00:00<00:12, 39.63it/s]"
     ]
    },
    {
     "name": "stdout",
     "output_type": "stream",
     "text": [
      ">best! 15, 1667550\n"
     ]
    },
    {
     "name": "stderr",
     "output_type": "stream",
     "text": [
      "  7%|█████▎                                                                        | 34/500 [00:00<00:11, 39.69it/s]"
     ]
    },
    {
     "name": "stdout",
     "output_type": "stream",
     "text": [
      ">best! 25, 983610\n"
     ]
    },
    {
     "name": "stderr",
     "output_type": "stream",
     "text": [
      " 13%|█████████▉                                                                    | 64/500 [00:01<00:10, 39.65it/s]"
     ]
    },
    {
     "name": "stdout",
     "output_type": "stream",
     "text": [
      ">best! 57, 642150\n"
     ]
    },
    {
     "name": "stderr",
     "output_type": "stream",
     "text": [
      " 17%|█████████████                                                                 | 84/500 [00:02<00:10, 39.60it/s]"
     ]
    },
    {
     "name": "stdout",
     "output_type": "stream",
     "text": [
      ">best! 76, 299670\n"
     ]
    },
    {
     "name": "stderr",
     "output_type": "stream",
     "text": [
      " 55%|██████████████████████████████████████████▋                                  | 277/500 [00:06<00:05, 39.70it/s]\n"
     ]
    },
    {
     "name": "stdout",
     "output_type": "stream",
     "text": [
      "stop\n",
      "18번째 log 저장 완료. 총 123개\n",
      "6344370\n"
     ]
    },
    {
     "name": "stderr",
     "output_type": "stream",
     "text": [
      "  1%|▊                                                                              | 5/500 [00:00<00:10, 45.15it/s]"
     ]
    },
    {
     "name": "stdout",
     "output_type": "stream",
     "text": [
      ">best! 0, 5573790\n",
      ">best! 0, 3681660\n",
      ">best! 0, 2610390\n",
      ">best! 1, 2537340\n",
      ">best! 5, 2380710\n",
      ">best! 5, 299670\n"
     ]
    },
    {
     "name": "stderr",
     "output_type": "stream",
     "text": [
      " 29%|██████████████████████▎                                                      | 145/500 [00:03<00:07, 45.57it/s]"
     ]
    },
    {
     "name": "stdout",
     "output_type": "stream",
     "text": [
      ">best! 139, 128430\n"
     ]
    },
    {
     "name": "stderr",
     "output_type": "stream",
     "text": [
      " 68%|████████████████████████████████████████████████████▎                        | 340/500 [00:07<00:03, 45.69it/s]\n"
     ]
    },
    {
     "name": "stdout",
     "output_type": "stream",
     "text": [
      "stop\n",
      "19번째 log 저장 완료. 총 123개\n",
      "3024900\n"
     ]
    },
    {
     "name": "stderr",
     "output_type": "stream",
     "text": [
      "  1%|▊                                                                              | 5/500 [00:00<00:10, 45.36it/s]"
     ]
    },
    {
     "name": "stdout",
     "output_type": "stream",
     "text": [
      ">best! 2, 2439150\n",
      ">best! 3, 698550\n"
     ]
    },
    {
     "name": "stderr",
     "output_type": "stream",
     "text": [
      " 15%|███████████▋                                                                  | 75/500 [00:01<00:09, 46.01it/s]"
     ]
    },
    {
     "name": "stdout",
     "output_type": "stream",
     "text": [
      ">best! 67, 285060\n"
     ]
    },
    {
     "name": "stderr",
     "output_type": "stream",
     "text": [
      " 54%|█████████████████████████████████████████▎                                   | 268/500 [00:05<00:05, 45.79it/s]\n"
     ]
    },
    {
     "name": "stdout",
     "output_type": "stream",
     "text": [
      "stop\n",
      "20번째 log 저장 완료. 총 123개\n",
      "9045360\n"
     ]
    },
    {
     "name": "stderr",
     "output_type": "stream",
     "text": [
      "  1%|▉                                                                              | 6/500 [00:00<00:08, 55.47it/s]"
     ]
    },
    {
     "name": "stdout",
     "output_type": "stream",
     "text": [
      ">best! 0, 7869540\n",
      ">best! 0, 6740400\n",
      ">best! 0, 3664260\n",
      ">best! 2, 2636490\n",
      ">best! 3, 1655680\n"
     ]
    },
    {
     "name": "stderr",
     "output_type": "stream",
     "text": [
      " 10%|███████▍                                                                      | 48/500 [00:00<00:08, 55.63it/s]"
     ]
    },
    {
     "name": "stdout",
     "output_type": "stream",
     "text": [
      ">best! 38, 1244150\n"
     ]
    },
    {
     "name": "stderr",
     "output_type": "stream",
     "text": [
      " 18%|██████████████                                                                | 90/500 [00:01<00:07, 55.10it/s]"
     ]
    },
    {
     "name": "stdout",
     "output_type": "stream",
     "text": [
      ">best! 83, 879580\n"
     ]
    },
    {
     "name": "stderr",
     "output_type": "stream",
     "text": [
      " 48%|████████████████████████████████████▉                                        | 240/500 [00:04<00:04, 54.68it/s]"
     ]
    },
    {
     "name": "stdout",
     "output_type": "stream",
     "text": [
      ">best! 231, 630300\n"
     ]
    },
    {
     "name": "stderr",
     "output_type": "stream",
     "text": [
      " 77%|███████████████████████████████████████████████████████████▏                 | 384/500 [00:06<00:02, 54.76it/s]"
     ]
    },
    {
     "name": "stdout",
     "output_type": "stream",
     "text": [
      ">best! 374, 319860\n"
     ]
    },
    {
     "name": "stderr",
     "output_type": "stream",
     "text": [
      "100%|█████████████████████████████████████████████████████████████████████████████| 500/500 [00:09<00:00, 55.10it/s]\n"
     ]
    },
    {
     "name": "stdout",
     "output_type": "stream",
     "text": [
      "21번째 log 저장 완료. 총 123개\n",
      "2121340\n"
     ]
    },
    {
     "name": "stderr",
     "output_type": "stream",
     "text": [
      "  1%|▉                                                                              | 6/500 [00:00<00:08, 56.43it/s]"
     ]
    },
    {
     "name": "stdout",
     "output_type": "stream",
     "text": [
      ">best! 1, 1552200\n",
      ">best! 1, 1138280\n",
      ">best! 1, 801970\n",
      ">best! 3, 465660\n",
      ">best! 7, 362180\n",
      ">best! 8, 206960\n"
     ]
    },
    {
     "name": "stderr",
     "output_type": "stream",
     "text": [
      "  6%|████▋                                                                         | 30/500 [00:00<00:08, 56.46it/s]"
     ]
    },
    {
     "name": "stdout",
     "output_type": "stream",
     "text": [
      ">best! 23, 0\n"
     ]
    },
    {
     "name": "stderr",
     "output_type": "stream",
     "text": [
      " 45%|██████████████████████████████████▍                                          | 224/500 [00:03<00:04, 56.90it/s]\n"
     ]
    },
    {
     "name": "stdout",
     "output_type": "stream",
     "text": [
      "stop\n",
      "22번째 log 저장 완료. 총 123개\n",
      "3492450\n"
     ]
    },
    {
     "name": "stderr",
     "output_type": "stream",
     "text": [
      "  1%|▉                                                                              | 6/500 [00:00<00:08, 57.77it/s]"
     ]
    },
    {
     "name": "stdout",
     "output_type": "stream",
     "text": [
      ">best! 0, 3052660\n",
      ">best! 0, 439790\n"
     ]
    },
    {
     "name": "stderr",
     "output_type": "stream",
     "text": [
      "  2%|█▊                                                                            | 12/500 [00:00<00:08, 57.63it/s]"
     ]
    },
    {
     "name": "stdout",
     "output_type": "stream",
     "text": [
      ">best! 12, 155220\n",
      ">best! 13, 51740\n"
     ]
    },
    {
     "name": "stderr",
     "output_type": "stream",
     "text": [
      " 10%|███████▍                                                                      | 48/500 [00:00<00:07, 58.12it/s]"
     ]
    },
    {
     "name": "stdout",
     "output_type": "stream",
     "text": [
      ">best! 39, 25870\n"
     ]
    },
    {
     "name": "stderr",
     "output_type": "stream",
     "text": [
      " 20%|███████████████▋                                                             | 102/500 [00:01<00:06, 58.38it/s]"
     ]
    },
    {
     "name": "stdout",
     "output_type": "stream",
     "text": [
      ">best! 90, 0\n"
     ]
    },
    {
     "name": "stderr",
     "output_type": "stream",
     "text": [
      " 58%|████████████████████████████████████████████▊                                | 291/500 [00:04<00:03, 58.40it/s]\n"
     ]
    },
    {
     "name": "stdout",
     "output_type": "stream",
     "text": [
      "stop\n",
      "23번째 log 저장 완료. 총 123개\n",
      "5174000000000\n"
     ]
    },
    {
     "name": "stderr",
     "output_type": "stream",
     "text": [
      "  2%|█▊                                                                           | 12/500 [00:00<00:04, 115.48it/s]"
     ]
    },
    {
     "name": "stdout",
     "output_type": "stream",
     "text": [
      ">best! 0, 5018780\n",
      ">best! 0, 3983980\n",
      ">best! 0, 3570060\n",
      ">best! 0, 2793960\n",
      ">best! 0, 1940250\n",
      ">best! 0, 724360\n",
      ">best! 1, 491530\n",
      ">best! 2, 103480\n",
      ">best! 20, 77610\n",
      ">best! 20, 0\n"
     ]
    },
    {
     "name": "stderr",
     "output_type": "stream",
     "text": [
      " 44%|█████████████████████████████████▌                                          | 221/500 [00:01<00:02, 113.73it/s]\n"
     ]
    },
    {
     "name": "stdout",
     "output_type": "stream",
     "text": [
      "stop\n",
      "24번째 log 저장 완료. 총 123개\n",
      "77610\n"
     ]
    },
    {
     "name": "stderr",
     "output_type": "stream",
     "text": [
      " 10%|███████▍                                                                     | 48/500 [00:00<00:03, 117.46it/s]"
     ]
    },
    {
     "name": "stdout",
     "output_type": "stream",
     "text": [
      ">best! 29, 0\n"
     ]
    },
    {
     "name": "stderr",
     "output_type": "stream",
     "text": [
      " 46%|██████████████████████████████████▉                                         | 230/500 [00:01<00:02, 117.02it/s]\n"
     ]
    },
    {
     "name": "stdout",
     "output_type": "stream",
     "text": [
      "stop\n",
      "25번째 log 저장 완료. 총 123개\n",
      "57296680000000\n"
     ]
    },
    {
     "name": "stderr",
     "output_type": "stream",
     "text": [
      "  6%|████▉                                                                        | 32/500 [00:00<00:02, 157.96it/s]"
     ]
    },
    {
     "name": "stdout",
     "output_type": "stream",
     "text": [
      ">best! 0, 35410060000000\n",
      ">best! 0, 30249800000000\n",
      ">best! 0, 30071860000000\n",
      ">best! 0, 27758640000000\n",
      ">best! 3, 23310140000000\n",
      ">best! 6, 22420440000000\n",
      ">best! 15, 19395460000000\n",
      ">best! 23, 17260180000000\n"
     ]
    },
    {
     "name": "stderr",
     "output_type": "stream",
     "text": [
      " 29%|█████████████████████▉                                                      | 144/500 [00:00<00:02, 155.97it/s]"
     ]
    },
    {
     "name": "stdout",
     "output_type": "stream",
     "text": [
      ">best! 98, 12633740000000\n"
     ]
    },
    {
     "name": "stderr",
     "output_type": "stream",
     "text": [
      " 60%|█████████████████████████████████████████████▍                              | 299/500 [00:01<00:01, 156.51it/s]\n"
     ]
    },
    {
     "name": "stdout",
     "output_type": "stream",
     "text": [
      "stop\n",
      "26번째 log 저장 완료. 총 123개\n",
      "85205900000000\n"
     ]
    },
    {
     "name": "stderr",
     "output_type": "stream",
     "text": [
      "  6%|████▌                                                                        | 30/500 [00:00<00:03, 142.40it/s]"
     ]
    },
    {
     "name": "stdout",
     "output_type": "stream",
     "text": [
      ">best! 0, 83475860000000\n",
      ">best! 0, 77010300000000\n",
      ">best! 1, 71437000000000\n",
      ">best! 8, 70071920000000\n",
      ">best! 15, 69827740000000\n",
      ">best! 16, 68440600000000\n",
      ">best! 19, 63321900000000\n",
      ">best! 21, 45737040000000\n"
     ]
    },
    {
     "name": "stderr",
     "output_type": "stream",
     "text": [
      " 44%|█████████████████████████████████▋                                          | 222/500 [00:01<00:01, 142.25it/s]\n"
     ]
    },
    {
     "name": "stdout",
     "output_type": "stream",
     "text": [
      "stop\n",
      "27번째 log 저장 완료. 총 123개\n",
      "120395120000000\n"
     ]
    },
    {
     "name": "stderr",
     "output_type": "stream",
     "text": [
      "  1%|█                                                                              | 7/500 [00:00<00:07, 69.78it/s]"
     ]
    },
    {
     "name": "stdout",
     "output_type": "stream",
     "text": [
      ">best! 0, 115032240000000\n",
      ">best! 0, 104225980000000\n",
      ">best! 0, 103729820000000\n",
      ">best! 0, 103712940000000\n",
      ">best! 0, 99389120000000\n",
      ">best! 0, 80887260000000\n",
      ">best! 0, 76021880000000\n",
      ">best! 1, 72942360000000\n",
      ">best! 3, 68576980000000\n"
     ]
    },
    {
     "name": "stderr",
     "output_type": "stream",
     "text": [
      "  8%|█████▉                                                                        | 38/500 [00:00<00:06, 69.48it/s]"
     ]
    },
    {
     "name": "stdout",
     "output_type": "stream",
     "text": [
      ">best! 23, 64666200000000\n"
     ]
    },
    {
     "name": "stderr",
     "output_type": "stream",
     "text": [
      " 12%|█████████▏                                                                    | 59/500 [00:00<00:06, 69.08it/s]"
     ]
    },
    {
     "name": "stdout",
     "output_type": "stream",
     "text": [
      ">best! 50, 61202220000000\n"
     ]
    },
    {
     "name": "stderr",
     "output_type": "stream",
     "text": [
      " 23%|██████████████████                                                           | 117/500 [00:01<00:05, 69.67it/s]"
     ]
    },
    {
     "name": "stdout",
     "output_type": "stream",
     "text": [
      ">best! 104, 56642020000000\n"
     ]
    },
    {
     "name": "stderr",
     "output_type": "stream",
     "text": [
      " 57%|████████████████████████████████████████████                                 | 286/500 [00:04<00:03, 69.60it/s]"
     ]
    },
    {
     "name": "stdout",
     "output_type": "stream",
     "text": [
      ">best! 274, 55363960000000\n"
     ]
    },
    {
     "name": "stderr",
     "output_type": "stream",
     "text": [
      " 95%|█████████████████████████████████████████████████████████████████████████▏   | 475/500 [00:06<00:00, 69.46it/s]\n"
     ]
    },
    {
     "name": "stdout",
     "output_type": "stream",
     "text": [
      "stop\n",
      "28번째 log 저장 완료. 총 123개\n",
      "83053740000000\n"
     ]
    },
    {
     "name": "stderr",
     "output_type": "stream",
     "text": [
      "  1%|▋                                                                              | 4/500 [00:00<00:13, 37.51it/s]"
     ]
    },
    {
     "name": "stdout",
     "output_type": "stream",
     "text": [
      ">best! 0, 81486040000000\n",
      ">best! 1, 70404400000000\n",
      ">best! 2, 64332380000000\n"
     ]
    },
    {
     "name": "stderr",
     "output_type": "stream",
     "text": [
      "  4%|███                                                                           | 20/500 [00:00<00:12, 37.66it/s]"
     ]
    },
    {
     "name": "stdout",
     "output_type": "stream",
     "text": [
      ">best! 15, 58244760000000\n"
     ]
    },
    {
     "name": "stderr",
     "output_type": "stream",
     "text": [
      " 43%|█████████████████████████████████▎                                           | 216/500 [00:05<00:07, 37.08it/s]\n"
     ]
    },
    {
     "name": "stdout",
     "output_type": "stream",
     "text": [
      "stop\n",
      "29번째 log 저장 완료. 총 123개\n",
      "99900880000000\n"
     ]
    },
    {
     "name": "stderr",
     "output_type": "stream",
     "text": [
      "  1%|▉                                                                              | 6/500 [00:00<00:09, 54.71it/s]"
     ]
    },
    {
     "name": "stdout",
     "output_type": "stream",
     "text": [
      ">best! 0, 85918940000000\n",
      ">best! 0, 83586280000000\n",
      ">best! 0, 75332180000000\n",
      ">best! 2, 73833340000000\n",
      ">best! 4, 70836940000000\n",
      ">best! 7, 65697460000000\n"
     ]
    },
    {
     "name": "stderr",
     "output_type": "stream",
     "text": [
      "  6%|████▋                                                                         | 30/500 [00:00<00:08, 55.88it/s]"
     ]
    },
    {
     "name": "stdout",
     "output_type": "stream",
     "text": [
      ">best! 23, 63892100000000\n"
     ]
    },
    {
     "name": "stderr",
     "output_type": "stream",
     "text": [
      " 13%|██████████▎                                                                   | 66/500 [00:01<00:07, 55.68it/s]"
     ]
    },
    {
     "name": "stdout",
     "output_type": "stream",
     "text": [
      ">best! 56, 62807580000000\n"
     ]
    },
    {
     "name": "stderr",
     "output_type": "stream",
     "text": [
      " 19%|██████████████▉                                                               | 96/500 [00:01<00:07, 55.21it/s]"
     ]
    },
    {
     "name": "stdout",
     "output_type": "stream",
     "text": [
      ">best! 88, 59494240000000\n"
     ]
    },
    {
     "name": "stderr",
     "output_type": "stream",
     "text": [
      " 29%|██████████████████████▏                                                      | 144/500 [00:02<00:06, 55.76it/s]"
     ]
    },
    {
     "name": "stdout",
     "output_type": "stream",
     "text": [
      ">best! 135, 51225880000000\n"
     ]
    },
    {
     "name": "stderr",
     "output_type": "stream",
     "text": [
      " 67%|███████████████████████████████████████████████████▋                         | 336/500 [00:06<00:02, 55.36it/s]\n"
     ]
    },
    {
     "name": "stdout",
     "output_type": "stream",
     "text": [
      "stop\n",
      "30번째 log 저장 완료. 총 123개\n",
      "64951880000000\n"
     ]
    },
    {
     "name": "stderr",
     "output_type": "stream",
     "text": [
      "  2%|█▍                                                                             | 9/500 [00:00<00:05, 82.85it/s]"
     ]
    },
    {
     "name": "stdout",
     "output_type": "stream",
     "text": [
      ">best! 0, 62021720000000\n",
      ">best! 0, 60068280000000\n",
      ">best! 0, 48347640000000\n",
      ">best! 0, 45905840000000\n",
      ">best! 0, 37359540000000\n",
      ">best! 0, 36871180000000\n",
      ">best! 1, 32231760000000\n",
      ">best! 5, 23929640000000\n"
     ]
    },
    {
     "name": "stderr",
     "output_type": "stream",
     "text": [
      " 18%|██████████████                                                                | 90/500 [00:01<00:04, 82.80it/s]"
     ]
    },
    {
     "name": "stdout",
     "output_type": "stream",
     "text": [
      ">best! 78, 21732020000000\n"
     ]
    },
    {
     "name": "stderr",
     "output_type": "stream",
     "text": [
      " 32%|████████████████████████▉                                                    | 162/500 [00:01<00:04, 82.81it/s]"
     ]
    },
    {
     "name": "stdout",
     "output_type": "stream",
     "text": [
      ">best! 148, 21243660000000\n"
     ]
    },
    {
     "name": "stderr",
     "output_type": "stream",
     "text": [
      " 70%|█████████████████████████████████████████████████████▋                       | 349/500 [00:04<00:01, 82.66it/s]\n"
     ]
    },
    {
     "name": "stdout",
     "output_type": "stream",
     "text": [
      "stop\n",
      "31번째 log 저장 완료. 총 123개\n",
      "0\n"
     ]
    },
    {
     "name": "stderr",
     "output_type": "stream",
     "text": [
      " 40%|██████████████████████████████▌                                             | 201/500 [00:01<00:01, 174.64it/s]\n"
     ]
    },
    {
     "name": "stdout",
     "output_type": "stream",
     "text": [
      "stop\n",
      "32번째 log 저장 완료. 총 123개\n",
      "0\n"
     ]
    },
    {
     "name": "stderr",
     "output_type": "stream",
     "text": [
      " 40%|██████████████████████████████▌                                             | 201/500 [00:00<00:00, 434.27it/s]\n"
     ]
    },
    {
     "name": "stdout",
     "output_type": "stream",
     "text": [
      "stop\n",
      "33번째 log 저장 완료. 총 123개\n",
      "0\n"
     ]
    },
    {
     "name": "stderr",
     "output_type": "stream",
     "text": [
      " 40%|██████████████████████████████▌                                             | 201/500 [00:00<00:00, 335.98it/s]\n"
     ]
    },
    {
     "name": "stdout",
     "output_type": "stream",
     "text": [
      "stop\n",
      "34번째 log 저장 완료. 총 123개\n",
      "0\n"
     ]
    },
    {
     "name": "stderr",
     "output_type": "stream",
     "text": [
      " 40%|██████████████████████████████▌                                             | 201/500 [00:00<00:00, 338.00it/s]\n"
     ]
    },
    {
     "name": "stdout",
     "output_type": "stream",
     "text": [
      "stop\n",
      "35번째 log 저장 완료. 총 123개\n",
      "9145660000000\n"
     ]
    },
    {
     "name": "stderr",
     "output_type": "stream",
     "text": [
      "  7%|█████▏                                                                       | 34/500 [00:00<00:02, 166.51it/s]"
     ]
    },
    {
     "name": "stdout",
     "output_type": "stream",
     "text": [
      ">best! 0, 8069700000000\n",
      ">best! 0, 3227880000000\n",
      ">best! 2, 2689900000000\n",
      ">best! 4, 1613940000000\n",
      ">best! 6, 1075960000000\n",
      ">best! 20, 0\n"
     ]
    },
    {
     "name": "stderr",
     "output_type": "stream",
     "text": [
      " 44%|█████████████████████████████████▌                                          | 221/500 [00:01<00:01, 164.87it/s]\n"
     ]
    },
    {
     "name": "stdout",
     "output_type": "stream",
     "text": [
      "stop\n",
      "36번째 log 저장 완료. 총 123개\n",
      "10759600000000\n"
     ]
    },
    {
     "name": "stderr",
     "output_type": "stream",
     "text": [
      "  3%|██▏                                                                          | 14/500 [00:00<00:03, 130.60it/s]"
     ]
    },
    {
     "name": "stdout",
     "output_type": "stream",
     "text": [
      ">best! 0, 1075960000000\n"
     ]
    },
    {
     "name": "stderr",
     "output_type": "stream",
     "text": [
      "  6%|████▎                                                                        | 28/500 [00:00<00:03, 128.93it/s]"
     ]
    },
    {
     "name": "stdout",
     "output_type": "stream",
     "text": [
      ">best! 32, 537980000000\n"
     ]
    },
    {
     "name": "stderr",
     "output_type": "stream",
     "text": [
      " 11%|████████▍                                                                    | 55/500 [00:00<00:03, 130.51it/s]"
     ]
    },
    {
     "name": "stdout",
     "output_type": "stream",
     "text": [
      ">best! 61, 0"
     ]
    },
    {
     "name": "stderr",
     "output_type": "stream",
     "text": [
      " 17%|████████████▊                                                                | 83/500 [00:00<00:03, 131.09it/s]"
     ]
    },
    {
     "name": "stdout",
     "output_type": "stream",
     "text": [
      "\n"
     ]
    },
    {
     "name": "stderr",
     "output_type": "stream",
     "text": [
      " 52%|███████████████████████████████████████▊                                    | 262/500 [00:01<00:01, 131.10it/s]\n"
     ]
    },
    {
     "name": "stdout",
     "output_type": "stream",
     "text": [
      "stop\n",
      "37번째 log 저장 완료. 총 123개\n",
      "9145660000000\n"
     ]
    },
    {
     "name": "stderr",
     "output_type": "stream",
     "text": [
      "  2%|█▋                                                                           | 11/500 [00:00<00:04, 103.38it/s]"
     ]
    },
    {
     "name": "stdout",
     "output_type": "stream",
     "text": [
      ">best! 0, 8069700000000\n",
      ">best! 0, 6993740000000\n",
      ">best! 0, 4841820000000\n",
      ">best! 1, 2689900000000\n",
      ">best! 4, 1613940000000\n"
     ]
    },
    {
     "name": "stderr",
     "output_type": "stream",
     "text": [
      " 11%|████████▍                                                                    | 55/500 [00:00<00:04, 103.36it/s]"
     ]
    },
    {
     "name": "stdout",
     "output_type": "stream",
     "text": [
      ">best! 40, 0\n"
     ]
    },
    {
     "name": "stderr",
     "output_type": "stream",
     "text": [
      " 48%|████████████████████████████████████▋                                       | 241/500 [00:02<00:02, 103.28it/s]\n"
     ]
    },
    {
     "name": "stdout",
     "output_type": "stream",
     "text": [
      "stop\n",
      "38번째 log 저장 완료. 총 123개\n",
      "8069700000000\n"
     ]
    },
    {
     "name": "stderr",
     "output_type": "stream",
     "text": [
      "  2%|█▋                                                                           | 11/500 [00:00<00:04, 101.70it/s]"
     ]
    },
    {
     "name": "stdout",
     "output_type": "stream",
     "text": [
      ">best! 0, 5379800000000\n",
      ">best! 0, 4841820000000\n",
      ">best! 0, 3765860000000\n",
      ">best! 1, 2151920000000\n"
     ]
    },
    {
     "name": "stderr",
     "output_type": "stream",
     "text": [
      " 11%|████████▍                                                                    | 55/500 [00:00<00:04, 103.29it/s]"
     ]
    },
    {
     "name": "stdout",
     "output_type": "stream",
     "text": [
      ">best! 37, 1075960000000\n"
     ]
    },
    {
     "name": "stderr",
     "output_type": "stream",
     "text": [
      " 22%|████████████████▋                                                           | 110/500 [00:01<00:03, 103.46it/s]"
     ]
    },
    {
     "name": "stdout",
     "output_type": "stream",
     "text": [
      ">best! 89, 537980000000\n"
     ]
    },
    {
     "name": "stderr",
     "output_type": "stream",
     "text": [
      " 33%|█████████████████████████                                                   | 165/500 [00:01<00:03, 103.59it/s]"
     ]
    },
    {
     "name": "stdout",
     "output_type": "stream",
     "text": [
      ">best! 148, 0\n"
     ]
    },
    {
     "name": "stderr",
     "output_type": "stream",
     "text": [
      " 70%|█████████████████████████████████████████████████████                       | 349/500 [00:03<00:01, 103.31it/s]\n"
     ]
    },
    {
     "name": "stdout",
     "output_type": "stream",
     "text": [
      "stop\n",
      "39번째 log 저장 완료. 총 123개\n",
      "10578700000000\n"
     ]
    },
    {
     "name": "stderr",
     "output_type": "stream",
     "text": [
      "  9%|███████                                                                      | 46/500 [00:00<00:02, 225.39it/s]"
     ]
    },
    {
     "name": "stdout",
     "output_type": "stream",
     "text": [
      ">best! 0, 5929880000000\n",
      ">best! 2, 5239920000000\n",
      ">best! 7, 4619900000000\n",
      ">best! 14, 4356960000000\n",
      ">best! 18, 3391960000000\n",
      ">best! 44, 2964940000000\n"
     ]
    },
    {
     "name": "stderr",
     "output_type": "stream",
     "text": [
      " 14%|██████████▋                                                                  | 69/500 [00:00<00:01, 225.88it/s]"
     ]
    },
    {
     "name": "stdout",
     "output_type": "stream",
     "text": [
      ">best! 55, 2660980000000\n"
     ]
    },
    {
     "name": "stderr",
     "output_type": "stream",
     "text": [
      " 51%|██████████████████████████████████████▉                                     | 256/500 [00:01<00:01, 226.38it/s]\n"
     ]
    },
    {
     "name": "stdout",
     "output_type": "stream",
     "text": [
      "stop\n",
      "40번째 log 저장 완료. 총 123개\n",
      "2895000000000\n"
     ]
    },
    {
     "name": "stderr",
     "output_type": "stream",
     "text": [
      "  2%|█▍                                                                             | 9/500 [00:00<00:05, 85.08it/s]"
     ]
    },
    {
     "name": "stdout",
     "output_type": "stream",
     "text": [
      ">best! 0, 2702000000000\n",
      ">best! 0, 2316000000000\n",
      ">best! 1, 2123000000000\n",
      ">best! 1, 1737000000000\n",
      ">best! 2, 1351000000000\n",
      ">best! 10, 1158000000000\n"
     ]
    },
    {
     "name": "stderr",
     "output_type": "stream",
     "text": [
      " 13%|█████████▊                                                                    | 63/500 [00:00<00:05, 85.19it/s]"
     ]
    },
    {
     "name": "stdout",
     "output_type": "stream",
     "text": [
      ">best! 48, 965000000000\n"
     ]
    },
    {
     "name": "stderr",
     "output_type": "stream",
     "text": [
      " 31%|███████████████████████▌                                                     | 153/500 [00:01<00:04, 84.88it/s]"
     ]
    },
    {
     "name": "stdout",
     "output_type": "stream",
     "text": [
      ">best! 139, 772000000000\n",
      ">best! 141, 579000000000\n"
     ]
    },
    {
     "name": "stderr",
     "output_type": "stream",
     "text": [
      " 68%|████████████████████████████████████████████████████▋                        | 342/500 [00:04<00:01, 85.05it/s]\n"
     ]
    },
    {
     "name": "stdout",
     "output_type": "stream",
     "text": [
      "stop\n",
      "41번째 log 저장 완료. 총 123개\n",
      "89913720000000\n"
     ]
    },
    {
     "name": "stderr",
     "output_type": "stream",
     "text": [
      "  2%|█▍                                                                             | 9/500 [00:00<00:05, 81.98it/s]"
     ]
    },
    {
     "name": "stdout",
     "output_type": "stream",
     "text": [
      ">best! 0, 87227740000000\n",
      ">best! 0, 27068820000000\n",
      ">best! 1, 17892340000000\n"
     ]
    },
    {
     "name": "stderr",
     "output_type": "stream",
     "text": [
      "  7%|█████▌                                                                        | 36/500 [00:00<00:05, 83.08it/s]"
     ]
    },
    {
     "name": "stdout",
     "output_type": "stream",
     "text": [
      ">best! 20, 1930001318572\n"
     ]
    },
    {
     "name": "stderr",
     "output_type": "stream",
     "text": [
      " 44%|██████████████████████████████████                                           | 221/500 [00:02<00:03, 83.20it/s]\n"
     ]
    },
    {
     "name": "stdout",
     "output_type": "stream",
     "text": [
      "stop\n",
      "42번째 log 저장 완료. 총 123개\n",
      "108624940000000\n"
     ]
    },
    {
     "name": "stderr",
     "output_type": "stream",
     "text": [
      "  2%|█▋                                                                           | 11/500 [00:00<00:04, 107.13it/s]"
     ]
    },
    {
     "name": "stdout",
     "output_type": "stream",
     "text": [
      ">best! 0, 40703440000000\n",
      ">best! 1, 14666820000000\n",
      ">best! 9, 11441300000000\n",
      ">best! 9, 9885580000000\n",
      ">best! 10, 2702000879048\n"
     ]
    },
    {
     "name": "stderr",
     "output_type": "stream",
     "text": [
      "  4%|███▍                                                                         | 22/500 [00:00<00:04, 106.38it/s]"
     ]
    },
    {
     "name": "stdout",
     "output_type": "stream",
     "text": [
      ">best! 24, 2316000781376\n"
     ]
    },
    {
     "name": "stderr",
     "output_type": "stream",
     "text": [
      " 15%|███████████▊                                                                 | 77/500 [00:00<00:03, 106.99it/s]"
     ]
    },
    {
     "name": "stdout",
     "output_type": "stream",
     "text": [
      ">best! 56, 1737000439524\n"
     ]
    },
    {
     "name": "stderr",
     "output_type": "stream",
     "text": [
      " 24%|██████████████████▍                                                         | 121/500 [00:01<00:03, 107.04it/s]"
     ]
    },
    {
     "name": "stdout",
     "output_type": "stream",
     "text": [
      ">best! 109, 1544000244180\n"
     ]
    },
    {
     "name": "stderr",
     "output_type": "stream",
     "text": [
      " 62%|███████████████████████████████████████████████                             | 310/500 [00:02<00:01, 106.78it/s]\n"
     ]
    },
    {
     "name": "stdout",
     "output_type": "stream",
     "text": [
      "stop\n",
      "43번째 log 저장 완료. 총 123개\n",
      "136441700000000\n"
     ]
    },
    {
     "name": "stderr",
     "output_type": "stream",
     "text": [
      "  1%|▉                                                                              | 6/500 [00:00<00:08, 55.69it/s]"
     ]
    },
    {
     "name": "stdout",
     "output_type": "stream",
     "text": [
      ">best! 0, 84553480441440\n",
      ">best! 0, 82234580000000\n",
      ">best! 0, 80890780634570\n",
      ">best! 0, 26560700000000\n",
      ">best! 1, 19357420000000\n",
      ">best! 2, 5041440827700\n"
     ]
    },
    {
     "name": "stderr",
     "output_type": "stream",
     "text": [
      "  8%|██████▌                                                                       | 42/500 [00:00<00:08, 56.03it/s]"
     ]
    },
    {
     "name": "stdout",
     "output_type": "stream",
     "text": [
      ">best! 32, 3088001828540\n"
     ]
    },
    {
     "name": "stderr",
     "output_type": "stream",
     "text": [
      " 24%|██████████████████▍                                                          | 120/500 [00:02<00:06, 56.48it/s]"
     ]
    },
    {
     "name": "stdout",
     "output_type": "stream",
     "text": [
      ">best! 112, 2895000415106\n"
     ]
    },
    {
     "name": "stderr",
     "output_type": "stream",
     "text": [
      " 28%|█████████████████████▎                                                       | 138/500 [00:02<00:06, 56.37it/s]"
     ]
    },
    {
     "name": "stdout",
     "output_type": "stream",
     "text": [
      ">best! 131, 2123002012452\n"
     ]
    },
    {
     "name": "stderr",
     "output_type": "stream",
     "text": [
      " 61%|███████████████████████████████████████████████                              | 306/500 [00:05<00:03, 55.86it/s]"
     ]
    },
    {
     "name": "stdout",
     "output_type": "stream",
     "text": [
      ">best! 295, 1930000748400\n"
     ]
    },
    {
     "name": "stderr",
     "output_type": "stream",
     "text": [
      " 99%|████████████████████████████████████████████████████████████████████████████▍| 496/500 [00:08<00:00, 56.12it/s]\n"
     ]
    },
    {
     "name": "stdout",
     "output_type": "stream",
     "text": [
      "stop\n",
      "44번째 log 저장 완료. 총 123개\n",
      "41459162317560\n"
     ]
    },
    {
     "name": "stderr",
     "output_type": "stream",
     "text": [
      "  3%|██▏                                                                          | 14/500 [00:00<00:03, 134.93it/s]"
     ]
    },
    {
     "name": "stdout",
     "output_type": "stream",
     "text": [
      ">best! 0, 40930442234790\n",
      ">best! 0, 38336263725620\n",
      ">best! 0, 17825141091260\n",
      ">best! 6, 16646462207200\n",
      ">best! 7, 2930163688670\n",
      ">best! 11, 6174314\n"
     ]
    },
    {
     "name": "stderr",
     "output_type": "stream",
     "text": [
      " 11%|████████▌                                                                    | 56/500 [00:00<00:03, 133.44it/s]"
     ]
    },
    {
     "name": "stdout",
     "output_type": "stream",
     "text": [
      ">best! 37, 4353534\n",
      ">best! 44, 2018834\n",
      ">best! 54, 1683786\n"
     ]
    },
    {
     "name": "stderr",
     "output_type": "stream",
     "text": [
      " 28%|█████████████████████▎                                                      | 140/500 [00:01<00:02, 134.75it/s]"
     ]
    },
    {
     "name": "stdout",
     "output_type": "stream",
     "text": [
      ">best! 117, 1660380\n"
     ]
    },
    {
     "name": "stderr",
     "output_type": "stream",
     "text": [
      " 64%|████████████████████████████████████████████████▎                           | 318/500 [00:02<00:01, 134.12it/s]\n"
     ]
    },
    {
     "name": "stdout",
     "output_type": "stream",
     "text": [
      "stop\n",
      "45번째 log 저장 완료. 총 123개\n",
      "95230204918920\n"
     ]
    },
    {
     "name": "stderr",
     "output_type": "stream",
     "text": [
      "  2%|█▎                                                                             | 8/500 [00:00<00:06, 77.64it/s]"
     ]
    },
    {
     "name": "stdout",
     "output_type": "stream",
     "text": [
      ">best! 0, 80015320000000\n",
      ">best! 0, 17825145148860\n",
      ">best! 6, 6104505613800\n",
      ">best! 8, 5127784697300\n"
     ]
    },
    {
     "name": "stderr",
     "output_type": "stream",
     "text": [
      " 10%|███████▍                                                                      | 48/500 [00:00<00:05, 78.14it/s]"
     ]
    },
    {
     "name": "stdout",
     "output_type": "stream",
     "text": [
      ">best! 35, 4997620\n",
      ">best! 49, 2679158\n"
     ]
    },
    {
     "name": "stderr",
     "output_type": "stream",
     "text": [
      " 40%|██████████████████████████████▉                                              | 201/500 [00:02<00:03, 78.08it/s]"
     ]
    },
    {
     "name": "stdout",
     "output_type": "stream",
     "text": [
      ">best! 191, 2166382\n"
     ]
    },
    {
     "name": "stderr",
     "output_type": "stream",
     "text": [
      " 47%|███████████████████████████████████▉                                         | 233/500 [00:02<00:03, 78.08it/s]"
     ]
    },
    {
     "name": "stdout",
     "output_type": "stream",
     "text": [
      ">best! 217, 1627148\n"
     ]
    },
    {
     "name": "stderr",
     "output_type": "stream",
     "text": [
      " 84%|████████████████████████████████████████████████████████████████▎            | 418/500 [00:05<00:01, 77.91it/s]\n"
     ]
    },
    {
     "name": "stdout",
     "output_type": "stream",
     "text": [
      "stop\n",
      "46번째 log 저장 완료. 총 123개\n",
      "19975002869360\n"
     ]
    },
    {
     "name": "stderr",
     "output_type": "stream",
     "text": [
      "  3%|██▏                                                                          | 14/500 [00:00<00:03, 133.34it/s]"
     ]
    },
    {
     "name": "stdout",
     "output_type": "stream",
     "text": [
      ">best! 0, 3760001931300\n",
      ">best! 0, 5912020\n",
      ">best! 0, 4595120\n",
      ">best! 0, 2577030\n",
      ">best! 0, 2563790\n",
      ">best! 0, 1966930\n",
      ">best! 0, 1369240\n",
      ">best! 2, 1192470\n",
      ">best! 6, 866520\n",
      ">best! 14, 352500\n"
     ]
    },
    {
     "name": "stderr",
     "output_type": "stream",
     "text": [
      "  6%|████▎                                                                        | 28/500 [00:00<00:03, 132.30it/s]"
     ]
    },
    {
     "name": "stdout",
     "output_type": "stream",
     "text": [
      ">best! 34, 145090\n",
      ">best! 35, 121590\n"
     ]
    },
    {
     "name": "stderr",
     "output_type": "stream",
     "text": [
      " 47%|███████████████████████████████████▊                                        | 236/500 [00:01<00:02, 130.45it/s]\n"
     ]
    },
    {
     "name": "stdout",
     "output_type": "stream",
     "text": [
      "stop\n",
      "47번째 log 저장 완료. 총 123개\n",
      "7070800\n"
     ]
    },
    {
     "name": "stderr",
     "output_type": "stream",
     "text": [
      "  3%|██▍                                                                          | 16/500 [00:00<00:03, 156.04it/s]"
     ]
    },
    {
     "name": "stdout",
     "output_type": "stream",
     "text": [
      ">best! 0, 2747700\n",
      ">best! 0, 1274200\n",
      ">best! 1, 1133130\n",
      ">best! 10, 570170\n",
      ">best! 24, 497590\n",
      ">best! 30, 392360\n"
     ]
    },
    {
     "name": "stderr",
     "output_type": "stream",
     "text": [
      " 16%|████████████▎                                                                | 80/500 [00:00<00:02, 153.04it/s]"
     ]
    },
    {
     "name": "stdout",
     "output_type": "stream",
     "text": [
      ">best! 49, 267720\n"
     ]
    },
    {
     "name": "stderr",
     "output_type": "stream",
     "text": [
      " 32%|████████████████████████▎                                                   | 160/500 [00:01<00:02, 154.02it/s]"
     ]
    },
    {
     "name": "stdout",
     "output_type": "stream",
     "text": [
      ">best! 141, 78680\n"
     ]
    },
    {
     "name": "stderr",
     "output_type": "stream",
     "text": [
      " 68%|███████████████████████████████████████████████████▉                        | 342/500 [00:02<00:01, 153.44it/s]\n"
     ]
    },
    {
     "name": "stdout",
     "output_type": "stream",
     "text": [
      "stop\n",
      "48번째 log 저장 완료. 총 123개\n",
      "75905000000000\n"
     ]
    },
    {
     "name": "stderr",
     "output_type": "stream",
     "text": [
      "  3%|██                                                                           | 13/500 [00:00<00:03, 129.12it/s]"
     ]
    },
    {
     "name": "stdout",
     "output_type": "stream",
     "text": [
      ">best! 0, 43475000000000\n",
      ">best! 0, 13630000000000\n",
      ">best! 1, 10810000000000\n",
      ">best! 2, 10575000000000\n",
      ">best! 2, 9635000000000\n",
      ">best! 4, 5170000000000\n",
      ">best! 4, 4230000000000\n",
      ">best! 5, 423000\n",
      ">best! 7, 376000\n",
      ">best! 9, 141000\n",
      ">best! 10, 0\n"
     ]
    },
    {
     "name": "stderr",
     "output_type": "stream",
     "text": [
      " 42%|████████████████████████████████                                            | 211/500 [00:01<00:02, 128.74it/s]\n"
     ]
    },
    {
     "name": "stdout",
     "output_type": "stream",
     "text": [
      "stop\n",
      "49번째 log 저장 완료. 총 123개\n",
      "0\n"
     ]
    },
    {
     "name": "stderr",
     "output_type": "stream",
     "text": [
      " 40%|██████████████████████████████▌                                             | 201/500 [00:01<00:02, 120.27it/s]\n"
     ]
    },
    {
     "name": "stdout",
     "output_type": "stream",
     "text": [
      "stop\n",
      "50번째 log 저장 완료. 총 123개\n",
      "0\n"
     ]
    },
    {
     "name": "stderr",
     "output_type": "stream",
     "text": [
      " 40%|██████████████████████████████▌                                             | 201/500 [00:01<00:02, 114.09it/s]\n"
     ]
    },
    {
     "name": "stdout",
     "output_type": "stream",
     "text": [
      "stop\n",
      "51번째 log 저장 완료. 총 123개\n",
      "0\n"
     ]
    },
    {
     "name": "stderr",
     "output_type": "stream",
     "text": [
      " 40%|██████████████████████████████▌                                             | 201/500 [00:01<00:02, 109.19it/s]\n"
     ]
    },
    {
     "name": "stdout",
     "output_type": "stream",
     "text": [
      "stop\n",
      "52번째 log 저장 완료. 총 123개\n",
      "500000\n"
     ]
    },
    {
     "name": "stderr",
     "output_type": "stream",
     "text": [
      "  2%|█▊                                                                           | 12/500 [00:00<00:04, 112.31it/s]"
     ]
    },
    {
     "name": "stdout",
     "output_type": "stream",
     "text": [
      ">best! 0, 212500\n",
      ">best! 1, 125000\n",
      ">best! 2, 37500\n",
      ">best! 5, 0\n"
     ]
    },
    {
     "name": "stderr",
     "output_type": "stream",
     "text": [
      " 41%|███████████████████████████████▎                                            | 206/500 [00:01<00:02, 112.48it/s]\n"
     ]
    },
    {
     "name": "stdout",
     "output_type": "stream",
     "text": [
      "stop\n",
      "53번째 log 저장 완료. 총 123개\n",
      "78455201262500\n"
     ]
    },
    {
     "name": "stderr",
     "output_type": "stream",
     "text": [
      "  3%|██                                                                           | 13/500 [00:00<00:04, 120.90it/s]"
     ]
    },
    {
     "name": "stdout",
     "output_type": "stream",
     "text": [
      ">best! 0, 33364401275000\n",
      ">best! 0, 30432802337500\n",
      ">best! 0, 21358802925000\n",
      ">best! 0, 12125000516520\n",
      ">best! 1, 4758420\n",
      ">best! 1, 4626960\n",
      ">best! 2, 4228480\n",
      ">best! 2, 1461780\n",
      ">best! 3, 164600\n"
     ]
    },
    {
     "name": "stderr",
     "output_type": "stream",
     "text": [
      " 17%|█████████████▏                                                               | 86/500 [00:00<00:03, 118.90it/s]"
     ]
    },
    {
     "name": "stdout",
     "output_type": "stream",
     "text": [
      ">best! 62, 158760\n"
     ]
    },
    {
     "name": "stderr",
     "output_type": "stream",
     "text": [
      " 22%|████████████████▊                                                           | 111/500 [00:00<00:03, 118.82it/s]"
     ]
    },
    {
     "name": "stdout",
     "output_type": "stream",
     "text": [
      ">best! 99, 38960\n"
     ]
    },
    {
     "name": "stderr",
     "output_type": "stream",
     "text": [
      " 60%|█████████████████████████████████████████████▌                              | 300/500 [00:02<00:01, 118.92it/s]\n"
     ]
    },
    {
     "name": "stdout",
     "output_type": "stream",
     "text": [
      "stop\n",
      "54번째 log 저장 완료. 총 123개\n",
      "8250000418800\n"
     ]
    },
    {
     "name": "stderr",
     "output_type": "stream",
     "text": [
      "  2%|█▎                                                                             | 8/500 [00:00<00:06, 73.62it/s]"
     ]
    },
    {
     "name": "stdout",
     "output_type": "stream",
     "text": [
      ">best! 0, 1875002680320\n",
      ">best! 0, 3938900\n",
      ">best! 0, 1667620\n",
      ">best! 5, 1069260\n",
      ">best! 7, 895260\n"
     ]
    },
    {
     "name": "stderr",
     "output_type": "stream",
     "text": [
      "  8%|██████▏                                                                       | 40/500 [00:00<00:06, 73.31it/s]"
     ]
    },
    {
     "name": "stdout",
     "output_type": "stream",
     "text": [
      ">best! 27, 597720\n"
     ]
    },
    {
     "name": "stderr",
     "output_type": "stream",
     "text": [
      " 14%|███████████▏                                                                  | 72/500 [00:00<00:05, 73.45it/s]"
     ]
    },
    {
     "name": "stdout",
     "output_type": "stream",
     "text": [
      ">best! 57, 593980\n",
      ">best! 60, 383760\n",
      ">best! 73, 160220\n"
     ]
    },
    {
     "name": "stderr",
     "output_type": "stream",
     "text": [
      " 55%|██████████████████████████████████████████▏                                  | 274/500 [00:03<00:03, 73.39it/s]\n"
     ]
    },
    {
     "name": "stdout",
     "output_type": "stream",
     "text": [
      "stop\n",
      "55번째 log 저장 완료. 총 123개\n",
      "61263200000000\n"
     ]
    },
    {
     "name": "stderr",
     "output_type": "stream",
     "text": [
      "  3%|██▍                                                                           | 16/500 [00:00<00:06, 78.80it/s]"
     ]
    },
    {
     "name": "stdout",
     "output_type": "stream",
     "text": [
      ">best! 0, 14955400000000\n",
      ">best! 1, 3333220\n",
      ">best! 2, 1859320\n",
      ">best! 3, 914420\n",
      ">best! 5, 570440\n",
      ">best! 6, 449820\n",
      ">best! 10, 391700\n",
      ">best! 13, 355020\n",
      ">best! 17, 195440\n"
     ]
    },
    {
     "name": "stderr",
     "output_type": "stream",
     "text": [
      " 27%|████████████████████▍                                                        | 133/500 [00:01<00:04, 79.62it/s]"
     ]
    },
    {
     "name": "stdout",
     "output_type": "stream",
     "text": [
      ">best! 117, 110220\n"
     ]
    },
    {
     "name": "stderr",
     "output_type": "stream",
     "text": [
      " 64%|████████████████████████████████████████████████▉                            | 318/500 [00:04<00:02, 79.32it/s]\n"
     ]
    },
    {
     "name": "stdout",
     "output_type": "stream",
     "text": [
      "stop\n",
      "56번째 log 저장 완료. 총 123개\n",
      "50421800000000\n"
     ]
    },
    {
     "name": "stderr",
     "output_type": "stream",
     "text": [
      "  1%|▉                                                                              | 6/500 [00:00<00:08, 58.96it/s]"
     ]
    },
    {
     "name": "stdout",
     "output_type": "stream",
     "text": [
      ">best! 0, 46100800000000\n",
      ">best! 0, 31855000000000\n",
      ">best! 0, 31750002359240\n",
      ">best! 0, 23625000111680\n",
      ">best! 2, 18482800000000\n",
      ">best! 3, 6750000600280\n",
      ">best! 5, 968160\n"
     ]
    },
    {
     "name": "stderr",
     "output_type": "stream",
     "text": [
      "  2%|█▊                                                                            | 12/500 [00:00<00:08, 58.65it/s]"
     ]
    },
    {
     "name": "stdout",
     "output_type": "stream",
     "text": [
      ">best! 15, 260220"
     ]
    },
    {
     "name": "stderr",
     "output_type": "stream",
     "text": [
      "  5%|███▋                                                                          | 24/500 [00:00<00:08, 58.37it/s]"
     ]
    },
    {
     "name": "stdout",
     "output_type": "stream",
     "text": [
      "\n"
     ]
    },
    {
     "name": "stderr",
     "output_type": "stream",
     "text": [
      " 39%|█████████████████████████████▋                                               | 193/500 [00:03<00:05, 58.71it/s]"
     ]
    },
    {
     "name": "stdout",
     "output_type": "stream",
     "text": [
      ">best! 185, 249180\n"
     ]
    },
    {
     "name": "stderr",
     "output_type": "stream",
     "text": [
      " 74%|████████████████████████████████████████████████████████▊                    | 369/500 [00:06<00:02, 59.27it/s]"
     ]
    },
    {
     "name": "stdout",
     "output_type": "stream",
     "text": [
      ">best! 362, 129380\n"
     ]
    },
    {
     "name": "stderr",
     "output_type": "stream",
     "text": [
      "100%|█████████████████████████████████████████████████████████████████████████████| 500/500 [00:08<00:00, 58.93it/s]\n"
     ]
    },
    {
     "name": "stdout",
     "output_type": "stream",
     "text": [
      "57번째 log 저장 완료. 총 123개\n",
      "24011200000000\n"
     ]
    },
    {
     "name": "stderr",
     "output_type": "stream",
     "text": [
      "  2%|█▍                                                                             | 9/500 [00:00<00:05, 89.14it/s]"
     ]
    },
    {
     "name": "stdout",
     "output_type": "stream",
     "text": [
      ">best! 0, 3071200000000\n",
      ">best! 0, 2987440\n",
      ">best! 0, 390880\n",
      ">best! 2, 307120\n",
      ">best! 3, 237320\n",
      ">best! 8, 209400\n",
      ">best! 9, 27920\n"
     ]
    },
    {
     "name": "stderr",
     "output_type": "stream",
     "text": [
      "  9%|███████                                                                       | 45/500 [00:00<00:05, 89.09it/s]"
     ]
    },
    {
     "name": "stdout",
     "output_type": "stream",
     "text": [
      ">best! 27, 0\n"
     ]
    },
    {
     "name": "stderr",
     "output_type": "stream",
     "text": [
      " 46%|███████████████████████████████████                                          | 228/500 [00:02<00:03, 89.62it/s]\n"
     ]
    },
    {
     "name": "stdout",
     "output_type": "stream",
     "text": [
      "stop\n",
      "58번째 log 저장 완료. 총 123개\n",
      "3391500\n"
     ]
    },
    {
     "name": "stderr",
     "output_type": "stream",
     "text": [
      "  8%|██████▏                                                                      | 40/500 [00:00<00:02, 192.81it/s]"
     ]
    },
    {
     "name": "stdout",
     "output_type": "stream",
     "text": [
      ">best! 0, 2907000\n",
      ">best! 0, 2664750\n",
      ">best! 1, 1938000\n",
      ">best! 2, 1453500\n",
      ">best! 2, 969000\n",
      ">best! 6, 0\n"
     ]
    },
    {
     "name": "stderr",
     "output_type": "stream",
     "text": [
      " 41%|███████████████████████████████▍                                            | 207/500 [00:01<00:01, 191.95it/s]\n"
     ]
    },
    {
     "name": "stdout",
     "output_type": "stream",
     "text": [
      "stop\n",
      "59번째 log 저장 완료. 총 123개\n",
      "2180250\n"
     ]
    },
    {
     "name": "stderr",
     "output_type": "stream",
     "text": [
      "  6%|████▌                                                                        | 30/500 [00:00<00:03, 140.89it/s]"
     ]
    },
    {
     "name": "stdout",
     "output_type": "stream",
     "text": [
      ">best! 1, 969000\n",
      ">best! 5, 242250\n",
      ">best! 37, 0\n"
     ]
    },
    {
     "name": "stderr",
     "output_type": "stream",
     "text": [
      " 48%|████████████████████████████████████▏                                       | 238/500 [00:01<00:01, 141.03it/s]\n"
     ]
    },
    {
     "name": "stdout",
     "output_type": "stream",
     "text": [
      "stop\n",
      "60번째 log 저장 완료. 총 123개\n",
      "5329500\n"
     ]
    },
    {
     "name": "stderr",
     "output_type": "stream",
     "text": [
      "  5%|████▏                                                                        | 27/500 [00:00<00:01, 262.47it/s]"
     ]
    },
    {
     "name": "stdout",
     "output_type": "stream",
     "text": [
      ">best! 0, 1938000\n",
      ">best! 2, 1453500\n",
      ">best! 2, 1211250\n",
      ">best! 6, 484500\n",
      ">best! 12, 0\n"
     ]
    },
    {
     "name": "stderr",
     "output_type": "stream",
     "text": [
      " 43%|████████████████████████████████▍                                           | 213/500 [00:00<00:01, 260.56it/s]\n"
     ]
    },
    {
     "name": "stdout",
     "output_type": "stream",
     "text": [
      "stop\n",
      "61번째 log 저장 완료. 총 123개\n",
      "5571750\n"
     ]
    },
    {
     "name": "stderr",
     "output_type": "stream",
     "text": [
      "  2%|█▋                                                                           | 11/500 [00:00<00:04, 104.96it/s]"
     ]
    },
    {
     "name": "stdout",
     "output_type": "stream",
     "text": [
      ">best! 0, 4602750\n",
      ">best! 0, 3149250\n",
      ">best! 0, 1453500\n",
      ">best! 5, 726750\n",
      ">best! 16, 484500\n"
     ]
    },
    {
     "name": "stderr",
     "output_type": "stream",
     "text": [
      "  9%|██████▊                                                                      | 44/500 [00:00<00:04, 105.18it/s]"
     ]
    },
    {
     "name": "stdout",
     "output_type": "stream",
     "text": [
      ">best! 27, 242250\n"
     ]
    },
    {
     "name": "stderr",
     "output_type": "stream",
     "text": [
      " 24%|██████████████████▍                                                         | 121/500 [00:01<00:03, 104.62it/s]"
     ]
    },
    {
     "name": "stdout",
     "output_type": "stream",
     "text": [
      ">best! 109, 0\n"
     ]
    },
    {
     "name": "stderr",
     "output_type": "stream",
     "text": [
      " 62%|███████████████████████████████████████████████                             | 310/500 [00:02<00:01, 104.80it/s]\n"
     ]
    },
    {
     "name": "stdout",
     "output_type": "stream",
     "text": [
      "stop\n",
      "62번째 log 저장 완료. 총 123개\n",
      "6298500\n"
     ]
    },
    {
     "name": "stderr",
     "output_type": "stream",
     "text": [
      "  4%|███▍                                                                         | 22/500 [00:00<00:02, 210.06it/s]"
     ]
    },
    {
     "name": "stdout",
     "output_type": "stream",
     "text": [
      ">best! 0, 1695750\n",
      ">best! 3, 726750\n",
      ">best! 14, 242250\n",
      ">best! 30, 0\n"
     ]
    },
    {
     "name": "stderr",
     "output_type": "stream",
     "text": [
      " 46%|███████████████████████████████████                                         | 231/500 [00:01<00:01, 208.73it/s]\n"
     ]
    },
    {
     "name": "stdout",
     "output_type": "stream",
     "text": [
      "stop\n",
      "63번째 log 저장 완료. 총 123개\n",
      "0\n"
     ]
    },
    {
     "name": "stderr",
     "output_type": "stream",
     "text": [
      " 40%|██████████████████████████████▌                                             | 201/500 [00:00<00:01, 227.43it/s]\n"
     ]
    },
    {
     "name": "stdout",
     "output_type": "stream",
     "text": [
      "stop\n",
      "64번째 log 저장 완료. 총 123개\n",
      "1270163\n"
     ]
    },
    {
     "name": "stderr",
     "output_type": "stream",
     "text": [
      "  3%|██▍                                                                          | 16/500 [00:00<00:03, 151.90it/s]"
     ]
    },
    {
     "name": "stdout",
     "output_type": "stream",
     "text": [
      ">best! 0, 1188217\n",
      ">best! 0, 163892\n",
      ">best! 1, 40973\n",
      ">best! 5, 0\n"
     ]
    },
    {
     "name": "stderr",
     "output_type": "stream",
     "text": [
      " 41%|███████████████████████████████▎                                            | 206/500 [00:01<00:01, 151.68it/s]\n"
     ]
    },
    {
     "name": "stdout",
     "output_type": "stream",
     "text": [
      "stop\n",
      "65번째 log 저장 완료. 총 123개\n",
      "20486500000000\n"
     ]
    },
    {
     "name": "stderr",
     "output_type": "stream",
     "text": [
      "  6%|████▉                                                                        | 32/500 [00:00<00:03, 151.34it/s]"
     ]
    },
    {
     "name": "stdout",
     "output_type": "stream",
     "text": [
      ">best! 0, 12701630000000\n",
      ">best! 0, 7293194\n",
      ">best! 0, 3810489\n",
      ">best! 0, 2991029\n",
      ">best! 0, 1516001\n",
      ">best! 0, 819460\n",
      ">best! 2, 573622\n",
      ">best! 6, 122919\n",
      ">best! 13, 81946\n",
      ">best! 19, 40973\n"
     ]
    },
    {
     "name": "stderr",
     "output_type": "stream",
     "text": [
      " 22%|█████████████████                                                           | 112/500 [00:00<00:02, 151.07it/s]"
     ]
    },
    {
     "name": "stdout",
     "output_type": "stream",
     "text": [
      ">best! 72, 0\n"
     ]
    },
    {
     "name": "stderr",
     "output_type": "stream",
     "text": [
      " 55%|█████████████████████████████████████████▍                                  | 273/500 [00:01<00:01, 150.78it/s]\n"
     ]
    },
    {
     "name": "stdout",
     "output_type": "stream",
     "text": [
      "stop\n",
      "66번째 log 저장 완료. 총 123개\n",
      "15556205\n"
     ]
    },
    {
     "name": "stderr",
     "output_type": "stream",
     "text": [
      "  9%|██████▌                                                                      | 43/500 [00:00<00:02, 209.60it/s]"
     ]
    },
    {
     "name": "stdout",
     "output_type": "stream",
     "text": [
      ">best! 0, 10351872\n"
     ]
    },
    {
     "name": "stderr",
     "output_type": "stream",
     "text": [
      " 21%|████████████████                                                            | 106/500 [00:00<00:01, 208.79it/s]"
     ]
    },
    {
     "name": "stdout",
     "output_type": "stream",
     "text": [
      ">best! 71, 10107108\n"
     ]
    },
    {
     "name": "stderr",
     "output_type": "stream",
     "text": [
      " 54%|█████████████████████████████████████████▎                                  | 272/500 [00:01<00:01, 208.71it/s]\n"
     ]
    },
    {
     "name": "stdout",
     "output_type": "stream",
     "text": [
      "stop\n",
      "67번째 log 저장 완료. 총 123개\n",
      "62980020721332\n"
     ]
    },
    {
     "name": "stderr",
     "output_type": "stream",
     "text": [
      "  6%|████▌                                                                        | 30/500 [00:00<00:03, 143.93it/s]"
     ]
    },
    {
     "name": "stdout",
     "output_type": "stream",
     "text": [
      ">best! 0, 4916781074692\n",
      ">best! 0, 20177383\n",
      ">best! 1, 18566774\n",
      ">best! 1, 16731209\n",
      ">best! 2, 16657289\n",
      ">best! 4, 16530017\n",
      ">best! 16, 14675006\n"
     ]
    },
    {
     "name": "stderr",
     "output_type": "stream",
     "text": [
      " 43%|████████████████████████████████▉                                           | 217/500 [00:01<00:01, 143.49it/s]\n"
     ]
    },
    {
     "name": "stdout",
     "output_type": "stream",
     "text": [
      "stop\n",
      "68번째 log 저장 완료. 총 123개\n",
      "88265024184278\n"
     ]
    },
    {
     "name": "stderr",
     "output_type": "stream",
     "text": [
      "  2%|█▋                                                                           | 11/500 [00:00<00:04, 108.75it/s]"
     ]
    },
    {
     "name": "stdout",
     "output_type": "stream",
     "text": [
      ">best! 1, 74235019308491\n",
      ">best! 1, 73330017792490\n",
      ">best! 2, 63135019870611\n",
      ">best! 2, 56400020883546\n",
      ">best! 3, 34800019983356\n",
      ">best! 10, 27000020086978\n"
     ]
    },
    {
     "name": "stderr",
     "output_type": "stream",
     "text": [
      " 15%|███████████▊                                                                 | 77/500 [00:00<00:03, 108.51it/s]"
     ]
    },
    {
     "name": "stdout",
     "output_type": "stream",
     "text": [
      ">best! 59, 19800023320250\n",
      ">best! 62, 9530022135628\n",
      ">best! 73, 9000019146476\n"
     ]
    },
    {
     "name": "stderr",
     "output_type": "stream",
     "text": [
      " 37%|████████████████████████████▍                                               | 187/500 [00:01<00:02, 107.53it/s]"
     ]
    },
    {
     "name": "stdout",
     "output_type": "stream",
     "text": [
      ">best! 165, 5375021234222\n"
     ]
    },
    {
     "name": "stderr",
     "output_type": "stream",
     "text": [
      " 48%|████████████████████████████████████▊                                       | 242/500 [00:02<00:02, 108.54it/s]"
     ]
    },
    {
     "name": "stdout",
     "output_type": "stream",
     "text": [
      ">best! 220, 1200021271045\n"
     ]
    },
    {
     "name": "stderr",
     "output_type": "stream",
     "text": [
      " 84%|███████████████████████████████████████████████████████████████▉            | 421/500 [00:03<00:00, 108.12it/s]\n"
     ]
    },
    {
     "name": "stdout",
     "output_type": "stream",
     "text": [
      "stop\n",
      "69번째 log 저장 완료. 총 123개\n",
      "50400016906872\n"
     ]
    },
    {
     "name": "stderr",
     "output_type": "stream",
     "text": [
      " 12%|█████████▏                                                                   | 60/500 [00:00<00:01, 294.92it/s]"
     ]
    },
    {
     "name": "stdout",
     "output_type": "stream",
     "text": [
      ">best! 3, 41360016727192\n",
      ">best! 4, 40200014818684\n",
      ">best! 9, 38775016727192\n",
      ">best! 10, 27000016938692\n",
      ">best! 13, 15000018278192\n",
      ">best! 19, 13200018090192\n",
      ">best! 49, 835016727192\n"
     ]
    },
    {
     "name": "stderr",
     "output_type": "stream",
     "text": [
      " 18%|█████████████▊                                                               | 90/500 [00:00<00:01, 294.46it/s]"
     ]
    },
    {
     "name": "stdout",
     "output_type": "stream",
     "text": [
      ">best! 65, 17291192\n"
     ]
    },
    {
     "name": "stderr",
     "output_type": "stream",
     "text": [
      " 53%|████████████████████████████████████████▍                                   | 266/500 [00:00<00:00, 294.92it/s]\n"
     ]
    },
    {
     "name": "stdout",
     "output_type": "stream",
     "text": [
      "stop\n",
      "70번째 log 저장 완료. 총 123개\n",
      "116750016236590\n"
     ]
    },
    {
     "name": "stderr",
     "output_type": "stream",
     "text": [
      " 12%|█████████▏                                                                   | 60/500 [00:00<00:01, 296.76it/s]"
     ]
    },
    {
     "name": "stdout",
     "output_type": "stream",
     "text": [
      ">best! 0, 97200018654192\n",
      ">best! 0, 61200017267692\n",
      ">best! 1, 18600016170368\n",
      ">best! 7, 10200017526192\n",
      ">best! 18, 9000018113692\n",
      ">best! 36, 19115192\n"
     ]
    },
    {
     "name": "stderr",
     "output_type": "stream",
     "text": [
      " 42%|███████████████████████████████▉                                            | 210/500 [00:00<00:00, 296.00it/s]"
     ]
    },
    {
     "name": "stdout",
     "output_type": "stream",
     "text": [
      ">best! 169, 16985692\n"
     ]
    },
    {
     "name": "stderr",
     "output_type": "stream",
     "text": [
      " 74%|████████████████████████████████████████████████████████▏                   | 370/500 [00:01<00:00, 296.08it/s]\n"
     ]
    },
    {
     "name": "stdout",
     "output_type": "stream",
     "text": [
      "stop\n",
      "71번째 log 저장 완료. 총 123개\n",
      "146400002232500\n"
     ]
    },
    {
     "name": "stderr",
     "output_type": "stream",
     "text": [
      "  9%|███████                                                                      | 46/500 [00:00<00:02, 224.79it/s]"
     ]
    },
    {
     "name": "stdout",
     "output_type": "stream",
     "text": [
      ">best! 0, 107400002091500\n",
      ">best! 0, 101400003854000\n",
      ">best! 0, 79800000611000\n",
      ">best! 0, 64200003689500\n",
      ">best! 0, 27600002256000\n",
      ">best! 1, 23400004089000\n",
      ">best! 1, 18000001151500\n",
      ">best! 2, 3600001175000\n",
      ">best! 32, 600001222000\n"
     ]
    },
    {
     "name": "stderr",
     "output_type": "stream",
     "text": [
      " 14%|██████████▋                                                                  | 69/500 [00:00<00:01, 225.74it/s]"
     ]
    },
    {
     "name": "stdout",
     "output_type": "stream",
     "text": [
      ">best! 64, 4979000\n"
     ]
    },
    {
     "name": "stderr",
     "output_type": "stream",
     "text": [
      " 23%|█████████████████▍                                                          | 115/500 [00:00<00:01, 224.97it/s]"
     ]
    },
    {
     "name": "stdout",
     "output_type": "stream",
     "text": [
      ">best! 100, 1816500\n"
     ]
    },
    {
     "name": "stderr",
     "output_type": "stream",
     "text": [
      " 60%|█████████████████████████████████████████████▊                              | 301/500 [00:01<00:00, 224.32it/s]\n"
     ]
    },
    {
     "name": "stdout",
     "output_type": "stream",
     "text": [
      "stop\n",
      "72번째 log 저장 완료. 총 123개\n",
      "26400000000000\n"
     ]
    },
    {
     "name": "stderr",
     "output_type": "stream",
     "text": [
      "  9%|███████                                                                      | 46/500 [00:00<00:02, 221.14it/s]"
     ]
    },
    {
     "name": "stdout",
     "output_type": "stream",
     "text": [
      ">best! 0, 600000\n",
      ">best! 3, 540000\n",
      ">best! 5, 480000\n",
      ">best! 6, 180000\n",
      ">best! 20, 0\n"
     ]
    },
    {
     "name": "stderr",
     "output_type": "stream",
     "text": [
      " 44%|█████████████████████████████████▌                                          | 221/500 [00:01<00:01, 220.28it/s]\n"
     ]
    },
    {
     "name": "stdout",
     "output_type": "stream",
     "text": [
      "stop\n",
      "73번째 log 저장 완료. 총 123개\n",
      "0\n"
     ]
    },
    {
     "name": "stderr",
     "output_type": "stream",
     "text": [
      " 40%|██████████████████████████████▌                                             | 201/500 [00:01<00:02, 124.38it/s]\n"
     ]
    },
    {
     "name": "stdout",
     "output_type": "stream",
     "text": [
      "stop\n",
      "74번째 log 저장 완료. 총 123개\n",
      "0\n"
     ]
    },
    {
     "name": "stderr",
     "output_type": "stream",
     "text": [
      " 40%|██████████████████████████████▌                                             | 201/500 [00:01<00:02, 120.51it/s]\n"
     ]
    },
    {
     "name": "stdout",
     "output_type": "stream",
     "text": [
      "stop\n",
      "75번째 log 저장 완료. 총 123개\n",
      "121394000000000\n"
     ]
    },
    {
     "name": "stderr",
     "output_type": "stream",
     "text": [
      "  6%|████▉                                                                        | 32/500 [00:00<00:02, 157.69it/s]"
     ]
    },
    {
     "name": "stdout",
     "output_type": "stream",
     "text": [
      ">best! 0, 101591000000000\n",
      ">best! 0, 91287000000000\n",
      ">best! 1, 88067000000000\n",
      ">best! 2, 86135000000000\n",
      ">best! 3, 80017000000000\n",
      ">best! 3, 72611000000000\n",
      ">best! 4, 61180000000000\n"
     ]
    },
    {
     "name": "stderr",
     "output_type": "stream",
     "text": [
      " 10%|███████▍                                                                     | 48/500 [00:00<00:02, 157.98it/s]"
     ]
    },
    {
     "name": "stdout",
     "output_type": "stream",
     "text": [
      ">best! 46, 39123000000000\n"
     ]
    },
    {
     "name": "stderr",
     "output_type": "stream",
     "text": [
      " 51%|██████████████████████████████████████▉                                     | 256/500 [00:01<00:01, 157.46it/s]"
     ]
    },
    {
     "name": "stdout",
     "output_type": "stream",
     "text": [
      ">best! 229, 29302000000000\n"
     ]
    },
    {
     "name": "stderr",
     "output_type": "stream",
     "text": [
      " 86%|█████████████████████████████████████████████████████████████████▎          | 430/500 [00:02<00:00, 158.16it/s]\n"
     ]
    },
    {
     "name": "stdout",
     "output_type": "stream",
     "text": [
      "stop\n",
      "76번째 log 저장 완료. 총 123개\n",
      "42665000508464\n"
     ]
    },
    {
     "name": "stderr",
     "output_type": "stream",
     "text": [
      "  2%|█▌                                                                            | 10/500 [00:00<00:04, 98.36it/s]"
     ]
    },
    {
     "name": "stdout",
     "output_type": "stream",
     "text": [
      ">best! 0, 32683003418008\n",
      ">best! 0, 8211002382248\n",
      ">best! 10, 4347002457576\n"
     ]
    },
    {
     "name": "stderr",
     "output_type": "stream",
     "text": [
      "  8%|██████▌                                                                       | 42/500 [00:00<00:04, 99.64it/s]"
     ]
    },
    {
     "name": "stdout",
     "output_type": "stream",
     "text": [
      ">best! 24, 3703000668536\n"
     ]
    },
    {
     "name": "stderr",
     "output_type": "stream",
     "text": [
      " 17%|█████████████▏                                                               | 86/500 [00:00<00:04, 100.77it/s]"
     ]
    },
    {
     "name": "stdout",
     "output_type": "stream",
     "text": [
      ">best! 73, 1610002118600\n"
     ]
    },
    {
     "name": "stderr",
     "output_type": "stream",
     "text": [
      " 46%|██████████████████████████████████▊                                         | 229/500 [00:02<00:02, 100.59it/s]"
     ]
    },
    {
     "name": "stdout",
     "output_type": "stream",
     "text": [
      ">best! 214, 1862908\n"
     ]
    },
    {
     "name": "stderr",
     "output_type": "stream",
     "text": [
      " 83%|███████████████████████████████████████████████████████████████             | 415/500 [00:04<00:00, 100.46it/s]\n"
     ]
    },
    {
     "name": "stdout",
     "output_type": "stream",
     "text": [
      "stop\n",
      "77번째 log 저장 완료. 총 123개\n",
      "4136670\n"
     ]
    },
    {
     "name": "stderr",
     "output_type": "stream",
     "text": [
      " 11%|████████▌                                                                    | 56/500 [00:00<00:01, 276.46it/s]"
     ]
    },
    {
     "name": "stdout",
     "output_type": "stream",
     "text": [
      ">best! 0, 4096770\n",
      ">best! 0, 3504344\n",
      ">best! 6, 3104600\n",
      ">best! 16, 2510034\n",
      ">best! 36, 1835828\n",
      ">best! 46, 1029662\n"
     ]
    },
    {
     "name": "stderr",
     "output_type": "stream",
     "text": [
      " 49%|█████████████████████████████████████▌                                      | 247/500 [00:00<00:00, 275.29it/s]\n"
     ]
    },
    {
     "name": "stdout",
     "output_type": "stream",
     "text": [
      "stop\n",
      "78번째 log 저장 완료. 총 123개\n",
      "31391527827848\n"
     ]
    },
    {
     "name": "stderr",
     "output_type": "stream",
     "text": [
      "  2%|█▌                                                                            | 10/500 [00:00<00:05, 95.68it/s]"
     ]
    },
    {
     "name": "stdout",
     "output_type": "stream",
     "text": [
      ">best! 0, 25875528505800\n",
      ">best! 0, 14490029438550\n",
      ">best! 0, 30114674\n",
      ">best! 0, 28731018\n",
      ">best! 0, 25817822\n"
     ]
    },
    {
     "name": "stderr",
     "output_type": "stream",
     "text": [
      " 22%|████████████████▉                                                            | 110/500 [00:01<00:04, 94.42it/s]"
     ]
    },
    {
     "name": "stdout",
     "output_type": "stream",
     "text": [
      ">best! 91, 25626480\n"
     ]
    },
    {
     "name": "stderr",
     "output_type": "stream",
     "text": [
      " 40%|██████████████████████████████▊                                              | 200/500 [00:02<00:03, 93.69it/s]"
     ]
    },
    {
     "name": "stdout",
     "output_type": "stream",
     "text": [
      ">best! 183, 23760080\n"
     ]
    },
    {
     "name": "stderr",
     "output_type": "stream",
     "text": [
      " 48%|████████████████████████████████████▉                                        | 240/500 [00:02<00:02, 93.99it/s]"
     ]
    },
    {
     "name": "stdout",
     "output_type": "stream",
     "text": [
      ">best! 228, 23553258\n"
     ]
    },
    {
     "name": "stderr",
     "output_type": "stream",
     "text": [
      " 70%|█████████████████████████████████████████████████████▉                       | 350/500 [00:03<00:01, 94.69it/s]"
     ]
    },
    {
     "name": "stdout",
     "output_type": "stream",
     "text": [
      ">best! 335, 22043268\n"
     ]
    },
    {
     "name": "stderr",
     "output_type": "stream",
     "text": [
      "100%|█████████████████████████████████████████████████████████████████████████████| 500/500 [00:05<00:00, 94.11it/s]\n"
     ]
    },
    {
     "name": "stdout",
     "output_type": "stream",
     "text": [
      "79번째 log 저장 완료. 총 123개\n",
      "3703028256052\n"
     ]
    },
    {
     "name": "stderr",
     "output_type": "stream",
     "text": [
      "  2%|█▌                                                                            | 10/500 [00:00<00:05, 97.43it/s]"
     ]
    },
    {
     "name": "stdout",
     "output_type": "stream",
     "text": [
      ">best! 1, 682528757112\n",
      ">best! 6, 28515012\n",
      ">best! 10, 28485294\n",
      ">best! 13, 28194098\n",
      ">best! 16, 27592940\n",
      ">best! 16, 25670442\n"
     ]
    },
    {
     "name": "stderr",
     "output_type": "stream",
     "text": [
      "  8%|██████▏                                                                       | 40/500 [00:00<00:04, 97.07it/s]"
     ]
    },
    {
     "name": "stdout",
     "output_type": "stream",
     "text": [
      ">best! 28, 24520212\n",
      ">best! 39, 23286098\n"
     ]
    },
    {
     "name": "stderr",
     "output_type": "stream",
     "text": [
      " 14%|██████████▉                                                                   | 70/500 [00:00<00:04, 97.24it/s]"
     ]
    },
    {
     "name": "stdout",
     "output_type": "stream",
     "text": [
      ">best! 52, 23204992\n",
      ">best! 69, 22528958\n"
     ]
    },
    {
     "name": "stderr",
     "output_type": "stream",
     "text": [
      " 54%|█████████████████████████████████████████▌                                   | 270/500 [00:02<00:02, 97.65it/s]\n"
     ]
    },
    {
     "name": "stdout",
     "output_type": "stream",
     "text": [
      "stop\n",
      "80번째 log 저장 완료. 총 123개\n",
      "23660022700674\n"
     ]
    },
    {
     "name": "stderr",
     "output_type": "stream",
     "text": [
      "  2%|█▋                                                                           | 11/500 [00:00<00:04, 107.11it/s]"
     ]
    },
    {
     "name": "stdout",
     "output_type": "stream",
     "text": [
      ">best! 0, 9100027196002\n",
      ">best! 0, 4322526358952\n",
      ">best! 0, 29268240\n",
      ">best! 1, 26262390\n",
      ">best! 6, 25203512\n"
     ]
    },
    {
     "name": "stderr",
     "output_type": "stream",
     "text": [
      "  9%|██████▊                                                                      | 44/500 [00:00<00:04, 106.31it/s]"
     ]
    },
    {
     "name": "stdout",
     "output_type": "stream",
     "text": [
      ">best! 29, 23586040\n"
     ]
    },
    {
     "name": "stderr",
     "output_type": "stream",
     "text": [
      " 15%|███████████▊                                                                 | 77/500 [00:00<00:03, 107.20it/s]"
     ]
    },
    {
     "name": "stdout",
     "output_type": "stream",
     "text": [
      ">best! 58, 22050758\n"
     ]
    },
    {
     "name": "stderr",
     "output_type": "stream",
     "text": [
      " 52%|███████████████████████████████████████▎                                    | 259/500 [00:02<00:02, 106.24it/s]\n"
     ]
    },
    {
     "name": "stdout",
     "output_type": "stream",
     "text": [
      "stop\n",
      "81번째 log 저장 완료. 총 123개\n",
      "96005027070530\n"
     ]
    },
    {
     "name": "stderr",
     "output_type": "stream",
     "text": [
      "  2%|█▌                                                                            | 10/500 [00:00<00:05, 97.50it/s]"
     ]
    },
    {
     "name": "stdout",
     "output_type": "stream",
     "text": [
      ">best! 0, 60515024643608\n",
      ">best! 1, 55965027029557\n",
      ">best! 7, 25707522565442\n",
      ">best! 8, 24570027644152\n"
     ]
    },
    {
     "name": "stderr",
     "output_type": "stream",
     "text": [
      " 18%|██████████████                                                                | 90/500 [00:00<00:04, 96.39it/s]"
     ]
    },
    {
     "name": "stdout",
     "output_type": "stream",
     "text": [
      ">best! 75, 17972527789014\n"
     ]
    },
    {
     "name": "stderr",
     "output_type": "stream",
     "text": [
      " 55%|██████████████████████████████████████████▌                                  | 276/500 [00:02<00:02, 96.83it/s]\n"
     ]
    },
    {
     "name": "stdout",
     "output_type": "stream",
     "text": [
      "stop\n",
      "82번째 log 저장 완료. 총 123개\n",
      "26947611\n"
     ]
    },
    {
     "name": "stderr",
     "output_type": "stream",
     "text": [
      " 10%|███████▍                                                                     | 48/500 [00:00<00:00, 478.53it/s]"
     ]
    },
    {
     "name": "stdout",
     "output_type": "stream",
     "text": [
      ">best! 0, 26333016\n",
      ">best! 0, 25923286\n",
      ">best! 0, 24418742\n",
      ">best! 1, 23558309\n",
      ">best! 3, 23383931\n",
      ">best! 3, 23128578\n",
      ">best! 3, 22751277\n",
      ">best! 4, 22104253\n",
      ">best! 6, 21694523\n",
      ">best! 8, 21653550\n",
      ">best! 9, 21388682\n",
      ">best! 17, 20671169\n",
      ">best! 25, 20251924\n",
      ">best! 45, 19883167\n",
      ">best! 66, 19658301\n",
      ">best! 67, 19084679\n"
     ]
    },
    {
     "name": "stderr",
     "output_type": "stream",
     "text": [
      " 59%|████████████████████████████████████████████▌                               | 293/500 [00:00<00:00, 482.48it/s]"
     ]
    },
    {
     "name": "stdout",
     "output_type": "stream",
     "text": [
      ">best! 243, 17926949\n"
     ]
    },
    {
     "name": "stderr",
     "output_type": "stream",
     "text": [
      " 88%|██████████████████████████████████████████████████████████████████▉         | 440/500 [00:00<00:00, 481.60it/s]"
     ]
    },
    {
     "name": "stdout",
     "output_type": "stream",
     "text": [
      ">best! 382, 17896462\n"
     ]
    },
    {
     "name": "stderr",
     "output_type": "stream",
     "text": [
      "100%|████████████████████████████████████████████████████████████████████████████| 500/500 [00:01<00:00, 480.83it/s]\n"
     ]
    },
    {
     "name": "stdout",
     "output_type": "stream",
     "text": [
      "83번째 log 저장 완료. 총 123개\n",
      "5531355\n"
     ]
    },
    {
     "name": "stderr",
     "output_type": "stream",
     "text": [
      "  4%|██▉                                                                          | 19/500 [00:00<00:02, 181.60it/s]"
     ]
    },
    {
     "name": "stdout",
     "output_type": "stream",
     "text": [
      ">best! 0, 3072975\n",
      ">best! 0, 532649\n",
      ">best! 0, 81946\n",
      ">best! 34, 0\n"
     ]
    },
    {
     "name": "stderr",
     "output_type": "stream",
     "text": [
      " 47%|███████████████████████████████████▋                                        | 235/500 [00:01<00:01, 178.95it/s]\n"
     ]
    },
    {
     "name": "stdout",
     "output_type": "stream",
     "text": [
      "stop\n",
      "84번째 log 저장 완료. 총 123개\n",
      "49167600000000\n"
     ]
    },
    {
     "name": "stderr",
     "output_type": "stream",
     "text": [
      "  4%|███▏                                                                         | 21/500 [00:00<00:02, 201.24it/s]"
     ]
    },
    {
     "name": "stdout",
     "output_type": "stream",
     "text": [
      ">best! 0, 6924437\n",
      ">best! 0, 6023031\n",
      ">best! 0, 1925731\n",
      ">best! 0, 1434055\n",
      ">best! 1, 286811\n",
      ">best! 2, 81946\n",
      ">best! 2, 40973\n",
      ">best! 11, 0\n"
     ]
    },
    {
     "name": "stderr",
     "output_type": "stream",
     "text": [
      " 42%|████████████████████████████████▏                                           | 212/500 [00:01<00:01, 200.38it/s]\n"
     ]
    },
    {
     "name": "stdout",
     "output_type": "stream",
     "text": [
      "stop\n",
      "85번째 log 저장 완료. 총 123개\n",
      "5900112\n"
     ]
    },
    {
     "name": "stderr",
     "output_type": "stream",
     "text": [
      "  8%|██████▏                                                                      | 40/500 [00:00<00:02, 195.76it/s]"
     ]
    },
    {
     "name": "stdout",
     "output_type": "stream",
     "text": [
      ">best! 0, 4875787\n",
      ">best! 0, 4302165\n",
      ">best! 0, 1516001\n",
      ">best! 0, 450703\n",
      ">best! 0, 286811\n",
      ">best! 6, 0\n"
     ]
    },
    {
     "name": "stderr",
     "output_type": "stream",
     "text": [
      " 41%|███████████████████████████████▍                                            | 207/500 [00:01<00:01, 194.70it/s]\n"
     ]
    },
    {
     "name": "stdout",
     "output_type": "stream",
     "text": [
      "stop\n",
      "86번째 log 저장 완료. 총 123개\n",
      "0\n"
     ]
    },
    {
     "name": "stderr",
     "output_type": "stream",
     "text": [
      " 40%|██████████████████████████████▌                                             | 201/500 [00:00<00:00, 478.04it/s]\n"
     ]
    },
    {
     "name": "stdout",
     "output_type": "stream",
     "text": [
      "stop\n",
      "87번째 log 저장 완료. 총 123개\n",
      "26600000000000\n"
     ]
    },
    {
     "name": "stderr",
     "output_type": "stream",
     "text": [
      " 11%|████████▏                                                                    | 53/500 [00:00<00:01, 260.07it/s]"
     ]
    },
    {
     "name": "stdout",
     "output_type": "stream",
     "text": [
      ">best! 0, 997500\n",
      ">best! 0, 332500\n",
      ">best! 1, 0\n"
     ]
    },
    {
     "name": "stderr",
     "output_type": "stream",
     "text": [
      " 40%|██████████████████████████████▋                                             | 202/500 [00:00<00:01, 260.73it/s]\n"
     ]
    },
    {
     "name": "stdout",
     "output_type": "stream",
     "text": [
      "stop\n",
      "88번째 log 저장 완료. 총 123개\n",
      "107432900000000\n"
     ]
    },
    {
     "name": "stderr",
     "output_type": "stream",
     "text": [
      "  2%|█▊                                                                           | 12/500 [00:00<00:04, 119.95it/s]"
     ]
    },
    {
     "name": "stdout",
     "output_type": "stream",
     "text": [
      ">best! 0, 55916050000000\n",
      ">best! 0, 11637500880200\n",
      ">best! 0, 4721285\n",
      ">best! 0, 3068395\n",
      ">best! 1, 2259060\n",
      ">best! 1, 2031735\n",
      ">best! 1, 1867910\n",
      ">best! 3, 836190\n",
      ">best! 6, 462105\n"
     ]
    },
    {
     "name": "stderr",
     "output_type": "stream",
     "text": [
      " 15%|███████████▋                                                                 | 76/500 [00:00<00:03, 119.79it/s]"
     ]
    },
    {
     "name": "stdout",
     "output_type": "stream",
     "text": [
      ">best! 52, 352080\n"
     ]
    },
    {
     "name": "stderr",
     "output_type": "stream",
     "text": [
      " 36%|███████████████████████████                                                 | 178/500 [00:01<00:02, 120.14it/s]"
     ]
    },
    {
     "name": "stdout",
     "output_type": "stream",
     "text": [
      ">best! 160, 210260\n"
     ]
    },
    {
     "name": "stderr",
     "output_type": "stream",
     "text": [
      " 41%|███████████████████████████████                                             | 204/500 [00:01<00:02, 119.97it/s]"
     ]
    },
    {
     "name": "stdout",
     "output_type": "stream",
     "text": [
      ">best! 187, 188255\n",
      ">best! 192, 66015\n"
     ]
    },
    {
     "name": "stderr",
     "output_type": "stream",
     "text": [
      " 79%|███████████████████████████████████████████████████████████▋                | 393/500 [00:03<00:00, 120.16it/s]\n"
     ]
    },
    {
     "name": "stdout",
     "output_type": "stream",
     "text": [
      "stop\n",
      "89번째 log 저장 완료. 총 123개\n",
      "197637502112480\n"
     ]
    },
    {
     "name": "stderr",
     "output_type": "stream",
     "text": [
      "  1%|▊                                                                              | 5/500 [00:00<00:11, 44.72it/s]"
     ]
    },
    {
     "name": "stdout",
     "output_type": "stream",
     "text": [
      ">best! 0, 127200002699160\n",
      ">best! 1, 125037500572130\n",
      ">best! 3, 112921700000000\n",
      ">best! 3, 76200004205200\n"
     ]
    },
    {
     "name": "stderr",
     "output_type": "stream",
     "text": [
      " 20%|███████████████▍                                                             | 100/500 [00:02<00:09, 43.89it/s]"
     ]
    },
    {
     "name": "stdout",
     "output_type": "stream",
     "text": [
      ">best! 94, 75925001760400\n",
      ">best! 102, 72600002391180\n"
     ]
    },
    {
     "name": "stderr",
     "output_type": "stream",
     "text": [
      " 26%|████████████████████                                                         | 130/500 [00:02<00:08, 44.29it/s]"
     ]
    },
    {
     "name": "stdout",
     "output_type": "stream",
     "text": [
      ">best! 124, 67200004618445\n",
      ">best! 129, 54000002503540\n"
     ]
    },
    {
     "name": "stderr",
     "output_type": "stream",
     "text": [
      " 66%|██████████████████████████████████████████████████▊                          | 330/500 [00:07<00:03, 44.20it/s]\n"
     ]
    },
    {
     "name": "stdout",
     "output_type": "stream",
     "text": [
      "stop\n",
      "90번째 log 저장 완료. 총 123개\n",
      "217996350997500\n"
     ]
    },
    {
     "name": "stderr",
     "output_type": "stream",
     "text": [
      "  1%|▍                                                                              | 3/500 [00:00<00:18, 26.88it/s]"
     ]
    },
    {
     "name": "stdout",
     "output_type": "stream",
     "text": [
      ">best! 0, 199402503694235\n",
      ">best! 0, 175326200484500\n",
      ">best! 0, 146127302527000\n",
      ">best! 0, 129475005502615\n",
      ">best! 1, 98500000088020\n"
     ]
    },
    {
     "name": "stderr",
     "output_type": "stream",
     "text": [
      "  1%|▉                                                                              | 6/500 [00:00<00:18, 26.62it/s]"
     ]
    },
    {
     "name": "stdout",
     "output_type": "stream",
     "text": [
      ">best! 8, 96787502795025"
     ]
    },
    {
     "name": "stderr",
     "output_type": "stream",
     "text": [
      "  2%|█▊                                                                            | 12/500 [00:00<00:18, 26.72it/s]"
     ]
    },
    {
     "name": "stdout",
     "output_type": "stream",
     "text": [
      "\n"
     ]
    },
    {
     "name": "stderr",
     "output_type": "stream",
     "text": [
      "  5%|████▏                                                                         | 27/500 [00:01<00:17, 26.96it/s]"
     ]
    },
    {
     "name": "stdout",
     "output_type": "stream",
     "text": [
      ">best! 21, 80500003192870\n"
     ]
    },
    {
     "name": "stderr",
     "output_type": "stream",
     "text": [
      " 19%|██████████████▉                                                               | 96/500 [00:03<00:15, 26.88it/s]"
     ]
    },
    {
     "name": "stdout",
     "output_type": "stream",
     "text": [
      ">best! 93, 76021051496250\n"
     ]
    },
    {
     "name": "stderr",
     "output_type": "stream",
     "text": [
      " 28%|█████████████████████▋                                                       | 141/500 [00:05<00:13, 27.07it/s]"
     ]
    },
    {
     "name": "stdout",
     "output_type": "stream",
     "text": [
      ">best! 135, 69000000520755\n"
     ]
    },
    {
     "name": "stderr",
     "output_type": "stream",
     "text": [
      " 67%|███████████████████████████████████████████████████▋                         | 336/500 [00:12<00:06, 26.77it/s]\n"
     ]
    },
    {
     "name": "stdout",
     "output_type": "stream",
     "text": [
      "stop\n",
      "91번째 log 저장 완료. 총 123개\n",
      "265906010969000\n"
     ]
    },
    {
     "name": "stderr",
     "output_type": "stream",
     "text": [
      "  1%|▍                                                                              | 3/500 [00:00<00:20, 24.57it/s]"
     ]
    },
    {
     "name": "stdout",
     "output_type": "stream",
     "text": [
      ">best! 2, 265901134978000\n",
      ">best! 2, 259203161662500\n",
      ">best! 3, 254198227552385\n",
      ">best! 3, 226577842223000\n"
     ]
    },
    {
     "name": "stderr",
     "output_type": "stream",
     "text": [
      "  1%|▉                                                                              | 6/500 [00:00<00:20, 24.66it/s]"
     ]
    },
    {
     "name": "stdout",
     "output_type": "stream",
     "text": [
      ">best! 6, 207474801608790\n"
     ]
    },
    {
     "name": "stderr",
     "output_type": "stream",
     "text": [
      "  5%|███▋                                                                          | 24/500 [00:00<00:19, 24.38it/s]"
     ]
    },
    {
     "name": "stdout",
     "output_type": "stream",
     "text": [
      ">best! 19, 199463004878720\n"
     ]
    },
    {
     "name": "stderr",
     "output_type": "stream",
     "text": [
      " 13%|█████████▊                                                                    | 63/500 [00:02<00:18, 23.93it/s]"
     ]
    },
    {
     "name": "stdout",
     "output_type": "stream",
     "text": [
      ">best! 57, 191041362873750\n"
     ]
    },
    {
     "name": "stderr",
     "output_type": "stream",
     "text": [
      " 15%|███████████▋                                                                  | 75/500 [00:03<00:17, 24.20it/s]"
     ]
    },
    {
     "name": "stdout",
     "output_type": "stream",
     "text": [
      ">best! 70, 161469340332500\n"
     ]
    },
    {
     "name": "stderr",
     "output_type": "stream",
     "text": [
      " 54%|█████████████████████████████████████████▋                                   | 271/500 [00:11<00:09, 24.27it/s]\n"
     ]
    },
    {
     "name": "stdout",
     "output_type": "stream",
     "text": [
      "stop\n",
      "92번째 log 저장 완료. 총 123개\n",
      "426152751695750\n"
     ]
    },
    {
     "name": "stderr",
     "output_type": "stream",
     "text": [
      "  1%|▍                                                                              | 3/500 [00:00<00:21, 23.47it/s]"
     ]
    },
    {
     "name": "stdout",
     "output_type": "stream",
     "text": [
      ">best! 0, 360396401034235\n",
      ">best! 0, 341970390000000\n",
      ">best! 0, 328645940000000\n",
      ">best! 1, 321859903476790\n",
      ">best! 1, 305479866645510\n",
      ">best! 2, 219836123148860\n"
     ]
    },
    {
     "name": "stderr",
     "output_type": "stream",
     "text": [
      "  8%|██████                                                                        | 39/500 [00:01<00:19, 23.97it/s]"
     ]
    },
    {
     "name": "stdout",
     "output_type": "stream",
     "text": [
      ">best! 34, 177521140000000\n"
     ]
    },
    {
     "name": "stderr",
     "output_type": "stream",
     "text": [
      " 47%|████████████████████████████████████▏                                        | 235/500 [00:09<00:11, 23.81it/s]\n"
     ]
    },
    {
     "name": "stdout",
     "output_type": "stream",
     "text": [
      "stop\n",
      "93번째 log 저장 완료. 총 123개\n",
      "302864620484500\n"
     ]
    },
    {
     "name": "stderr",
     "output_type": "stream",
     "text": [
      "  1%|▉                                                                              | 6/500 [00:00<00:08, 55.31it/s]"
     ]
    },
    {
     "name": "stdout",
     "output_type": "stream",
     "text": [
      ">best! 0, 254870221453500\n",
      ">best! 0, 231160560000000\n",
      ">best! 0, 179422300484500\n",
      ">best! 1, 161918081453500\n"
     ]
    },
    {
     "name": "stderr",
     "output_type": "stream",
     "text": [
      "  2%|█▊                                                                            | 12/500 [00:00<00:08, 55.26it/s]"
     ]
    },
    {
     "name": "stdout",
     "output_type": "stream",
     "text": [
      ">best! 12, 159959063149250\n",
      ">best! 14, 144005680388758\n"
     ]
    },
    {
     "name": "stderr",
     "output_type": "stream",
     "text": [
      "  8%|██████▌                                                                       | 42/500 [00:00<00:08, 56.15it/s]"
     ]
    },
    {
     "name": "stdout",
     "output_type": "stream",
     "text": [
      ">best! 30, 143884661453500\n",
      ">best! 38, 143165943166620\n"
     ]
    },
    {
     "name": "stderr",
     "output_type": "stream",
     "text": [
      " 13%|██████████▎                                                                   | 66/500 [00:01<00:07, 56.52it/s]"
     ]
    },
    {
     "name": "stdout",
     "output_type": "stream",
     "text": [
      ">best! 57, 140531342180250\n",
      ">best! 60, 138415860000000\n",
      ">best! 62, 121165720000000\n"
     ]
    },
    {
     "name": "stderr",
     "output_type": "stream",
     "text": [
      " 23%|█████████████████▌                                                           | 114/500 [00:02<00:06, 56.76it/s]"
     ]
    },
    {
     "name": "stdout",
     "output_type": "stream",
     "text": [
      ">best! 102, 121037280726750\n"
     ]
    },
    {
     "name": "stderr",
     "output_type": "stream",
     "text": [
      " 31%|████████████████████████                                                     | 156/500 [00:02<00:06, 56.87it/s]"
     ]
    },
    {
     "name": "stdout",
     "output_type": "stream",
     "text": [
      ">best! 147, 119894020000000\n"
     ]
    },
    {
     "name": "stderr",
     "output_type": "stream",
     "text": [
      " 44%|██████████████████████████████████▏                                          | 222/500 [00:03<00:04, 56.84it/s]"
     ]
    },
    {
     "name": "stdout",
     "output_type": "stream",
     "text": [
      ">best! 215, 71612281453500\n"
     ]
    },
    {
     "name": "stderr",
     "output_type": "stream",
     "text": [
      " 83%|████████████████████████████████████████████████████████████████             | 416/500 [00:07<00:01, 56.81it/s]\n"
     ]
    },
    {
     "name": "stdout",
     "output_type": "stream",
     "text": [
      "stop\n",
      "94번째 log 저장 완료. 총 123개\n",
      "38155760242250\n"
     ]
    },
    {
     "name": "stderr",
     "output_type": "stream",
     "text": [
      "  4%|███▍                                                                         | 22/500 [00:00<00:02, 214.11it/s]"
     ]
    },
    {
     "name": "stdout",
     "output_type": "stream",
     "text": [
      ">best! 0, 3679902\n"
     ]
    },
    {
     "name": "stderr",
     "output_type": "stream",
     "text": [
      "  9%|██████▊                                                                      | 44/500 [00:00<00:02, 213.06it/s]"
     ]
    },
    {
     "name": "stdout",
     "output_type": "stream",
     "text": [
      ">best! 51, 1780436\n"
     ]
    },
    {
     "name": "stderr",
     "output_type": "stream",
     "text": [
      " 18%|█████████████▌                                                               | 88/500 [00:00<00:01, 211.35it/s]"
     ]
    },
    {
     "name": "stdout",
     "output_type": "stream",
     "text": [
      ">best! 105, 1643706\n"
     ]
    },
    {
     "name": "stderr",
     "output_type": "stream",
     "text": [
      " 35%|██████████████████████████▊                                                 | 176/500 [00:00<00:01, 211.61it/s]"
     ]
    },
    {
     "name": "stdout",
     "output_type": "stream",
     "text": [
      ">best! 133, 1189858\n",
      ">best! 153, 935436\n"
     ]
    },
    {
     "name": "stderr",
     "output_type": "stream",
     "text": [
      " 71%|█████████████████████████████████████████████████████▊                      | 354/500 [00:01<00:00, 211.97it/s]\n"
     ]
    },
    {
     "name": "stdout",
     "output_type": "stream",
     "text": [
      "stop\n",
      "95번째 log 저장 완료. 총 123개\n",
      "59050066924437\n"
     ]
    },
    {
     "name": "stderr",
     "output_type": "stream",
     "text": [
      " 17%|████████████▉                                                                | 84/500 [00:00<00:01, 414.69it/s]"
     ]
    },
    {
     "name": "stdout",
     "output_type": "stream",
     "text": [
      ">best! 0, 55940687211248\n",
      ">best! 0, 10988108183362\n",
      ">best! 0, 10255568010339\n",
      ">best! 4, 5694082252686\n",
      ">best! 5, 4092622261378\n",
      ">best! 9, 4352982\n",
      ">best! 20, 1891325\n"
     ]
    },
    {
     "name": "stderr",
     "output_type": "stream",
     "text": [
      " 44%|█████████████████████████████████▌                                          | 221/500 [00:00<00:00, 417.18it/s]\n"
     ]
    },
    {
     "name": "stdout",
     "output_type": "stream",
     "text": [
      "stop\n",
      "96번째 log 저장 완료. 총 123개\n",
      "57770724875787\n"
     ]
    },
    {
     "name": "stderr",
     "output_type": "stream",
     "text": [
      "  2%|█▊                                                                           | 12/500 [00:00<00:04, 112.63it/s]"
     ]
    },
    {
     "name": "stdout",
     "output_type": "stream",
     "text": [
      ">best! 0, 47151488317519\n",
      ">best! 0, 37556988522384\n",
      ">best! 0, 27494965367463\n",
      ">best! 0, 15124907007614\n",
      ">best! 19, 6321764\n"
     ]
    },
    {
     "name": "stderr",
     "output_type": "stream",
     "text": [
      " 44%|█████████████████████████████████▍                                          | 220/500 [00:01<00:02, 111.92it/s]\n"
     ]
    },
    {
     "name": "stdout",
     "output_type": "stream",
     "text": [
      "stop\n",
      "97번째 log 저장 완료. 총 123개\n",
      "129263547620978\n"
     ]
    },
    {
     "name": "stderr",
     "output_type": "stream",
     "text": [
      "  2%|█▍                                                                             | 9/500 [00:00<00:05, 82.27it/s]"
     ]
    },
    {
     "name": "stdout",
     "output_type": "stream",
     "text": [
      ">best! 0, 90012902991029\n",
      ">best! 0, 77538880614595\n",
      ">best! 1, 58486388522384\n",
      ">best! 2, 45446123523678\n",
      ">best! 4, 43527725285517\n"
     ]
    },
    {
     "name": "stderr",
     "output_type": "stream",
     "text": [
      "  4%|██▊                                                                           | 18/500 [00:00<00:05, 82.24it/s]"
     ]
    },
    {
     "name": "stdout",
     "output_type": "stream",
     "text": [
      ">best! 21, 42866605162598\n"
     ]
    },
    {
     "name": "stderr",
     "output_type": "stream",
     "text": [
      "  7%|█████▌                                                                        | 36/500 [00:00<00:05, 82.63it/s]"
     ]
    },
    {
     "name": "stdout",
     "output_type": "stream",
     "text": [
      ">best! 44, 28528844425084"
     ]
    },
    {
     "name": "stderr",
     "output_type": "stream",
     "text": [
      " 11%|████████▍                                                                     | 54/500 [00:00<00:05, 81.84it/s]"
     ]
    },
    {
     "name": "stdout",
     "output_type": "stream",
     "text": [
      "\n"
     ]
    },
    {
     "name": "stderr",
     "output_type": "stream",
     "text": [
      " 31%|███████████████████████▌                                                     | 153/500 [00:01<00:04, 83.28it/s]"
     ]
    },
    {
     "name": "stdout",
     "output_type": "stream",
     "text": [
      ">best! 137, 27836524495324\n",
      ">best! 141, 21172241270163\n"
     ]
    },
    {
     "name": "stderr",
     "output_type": "stream",
     "text": [
      " 52%|████████████████████████████████████████▏                                    | 261/500 [00:03<00:02, 83.49it/s]"
     ]
    },
    {
     "name": "stdout",
     "output_type": "stream",
     "text": [
      ">best! 245, 15124903273268\n"
     ]
    },
    {
     "name": "stderr",
     "output_type": "stream",
     "text": [
      " 90%|█████████████████████████████████████████████████████████████████████▎       | 450/500 [00:05<00:00, 83.14it/s]"
     ]
    },
    {
     "name": "stdout",
     "output_type": "stream",
     "text": [
      ">best! 434, 4626448001316\n"
     ]
    },
    {
     "name": "stderr",
     "output_type": "stream",
     "text": [
      "100%|█████████████████████████████████████████████████████████████████████████████| 500/500 [00:06<00:00, 82.96it/s]\n"
     ]
    },
    {
     "name": "stdout",
     "output_type": "stream",
     "text": [
      "98번째 log 저장 완료. 총 123개\n",
      "138081445449409\n"
     ]
    },
    {
     "name": "stderr",
     "output_type": "stream",
     "text": [
      "  2%|█▍                                                                             | 9/500 [00:00<00:05, 89.96it/s]"
     ]
    },
    {
     "name": "stdout",
     "output_type": "stream",
     "text": [
      ">best! 0, 125803586227896\n",
      ">best! 0, 99824347825843\n",
      ">best! 0, 92172928522384\n",
      ">best! 0, 89147944302165\n",
      ">best! 1, 78115662950056\n",
      ">best! 1, 59965788071681\n",
      ">best! 13, 54271705039679\n"
     ]
    },
    {
     "name": "stderr",
     "output_type": "stream",
     "text": [
      " 18%|█████████████▋                                                                | 88/500 [00:00<00:04, 90.41it/s]"
     ]
    },
    {
     "name": "stdout",
     "output_type": "stream",
     "text": [
      ">best! 77, 52314366883464\n"
     ]
    },
    {
     "name": "stderr",
     "output_type": "stream",
     "text": [
      " 34%|█████████████████████████▊                                                   | 168/500 [00:01<00:03, 90.33it/s]"
     ]
    },
    {
     "name": "stdout",
     "output_type": "stream",
     "text": [
      ">best! 152, 49289386391788\n",
      ">best! 155, 44662944179246\n"
     ]
    },
    {
     "name": "stderr",
     "output_type": "stream",
     "text": [
      " 71%|██████████████████████████████████████████████████████▊                      | 356/500 [00:03<00:01, 90.32it/s]\n"
     ]
    },
    {
     "name": "stdout",
     "output_type": "stream",
     "text": [
      "stop\n",
      "99번째 log 저장 완료. 총 123개\n",
      "3236867\n"
     ]
    },
    {
     "name": "stderr",
     "output_type": "stream",
     "text": [
      "  1%|▉                                                                              | 6/500 [00:00<00:09, 53.69it/s]"
     ]
    },
    {
     "name": "stdout",
     "output_type": "stream",
     "text": [
      ">best! 0, 737514\n",
      ">best! 0, 573622\n",
      ">best! 0, 368757\n",
      ">best! 2, 40973\n",
      ">best! 10, 0\n"
     ]
    },
    {
     "name": "stderr",
     "output_type": "stream",
     "text": [
      " 42%|████████████████████████████████▍                                            | 211/500 [00:03<00:05, 53.29it/s]\n"
     ]
    },
    {
     "name": "stdout",
     "output_type": "stream",
     "text": [
      "stop\n",
      "100번째 log 저장 완료. 총 123개\n",
      "0\n"
     ]
    },
    {
     "name": "stderr",
     "output_type": "stream",
     "text": [
      " 40%|██████████████████████████████▌                                             | 201/500 [00:01<00:01, 156.27it/s]\n"
     ]
    },
    {
     "name": "stdout",
     "output_type": "stream",
     "text": [
      "stop\n",
      "101번째 log 저장 완료. 총 123개\n",
      "0\n"
     ]
    },
    {
     "name": "stderr",
     "output_type": "stream",
     "text": [
      " 40%|██████████████████████████████▌                                             | 201/500 [00:00<00:01, 293.98it/s]\n"
     ]
    },
    {
     "name": "stdout",
     "output_type": "stream",
     "text": [
      "stop\n",
      "102번째 log 저장 완료. 총 123개\n",
      "21172360\n"
     ]
    },
    {
     "name": "stderr",
     "output_type": "stream",
     "text": [
      "  6%|████▊                                                                        | 31/500 [00:00<00:01, 307.16it/s]"
     ]
    },
    {
     "name": "stdout",
     "output_type": "stream",
     "text": [
      ">best! 0, 20209980\n",
      ">best! 2, 17804030\n",
      ">best! 10, 17322840\n"
     ]
    },
    {
     "name": "stderr",
     "output_type": "stream",
     "text": [
      " 42%|████████████████████████████████                                            | 211/500 [00:00<00:00, 305.22it/s]\n"
     ]
    },
    {
     "name": "stdout",
     "output_type": "stream",
     "text": [
      "stop\n",
      "103번째 log 저장 완료. 총 123개\n",
      "25021880\n"
     ]
    },
    {
     "name": "stderr",
     "output_type": "stream",
     "text": [
      " 10%|███████▊                                                                     | 51/500 [00:00<00:00, 505.20it/s]"
     ]
    },
    {
     "name": "stdout",
     "output_type": "stream",
     "text": [
      ">best! 0, 22134740\n",
      ">best! 0, 21653550\n",
      ">best! 0, 18285220\n",
      ">best! 12, 17804030\n",
      ">best! 14, 17322840\n"
     ]
    },
    {
     "name": "stderr",
     "output_type": "stream",
     "text": [
      " 43%|████████████████████████████████▋                                           | 215/500 [00:00<00:00, 506.30it/s]\n"
     ]
    },
    {
     "name": "stdout",
     "output_type": "stream",
     "text": [
      "stop\n",
      "104번째 log 저장 완료. 총 123개\n",
      "24651540\n"
     ]
    },
    {
     "name": "stderr",
     "output_type": "stream",
     "text": [
      "  9%|███████                                                                      | 46/500 [00:00<00:02, 223.66it/s]"
     ]
    },
    {
     "name": "stdout",
     "output_type": "stream",
     "text": [
      ">best! 0, 23751480\n",
      ">best! 0, 22228220\n",
      ">best! 0, 19451930\n",
      ">best! 1, 19015690\n",
      ">best! 7, 18396070\n",
      ">best! 8, 18333750\n",
      ">best! 9, 18271430\n",
      ">best! 13, 17790240\n",
      ">best! 16, 17478640\n"
     ]
    },
    {
     "name": "stderr",
     "output_type": "stream",
     "text": [
      " 41%|███████████████████████████████▍                                            | 207/500 [00:00<00:01, 225.82it/s]"
     ]
    },
    {
     "name": "stdout",
     "output_type": "stream",
     "text": [
      ">best! 144, 17447480\n",
      ">best! 150, 17354000\n",
      ">best! 153, 17322840\n"
     ]
    },
    {
     "name": "stderr",
     "output_type": "stream",
     "text": [
      " 71%|█████████████████████████████████████████████████████▊                      | 354/500 [00:01<00:00, 224.89it/s]\n"
     ]
    },
    {
     "name": "stdout",
     "output_type": "stream",
     "text": [
      "stop\n",
      "105번째 log 저장 완료. 총 123개\n",
      "25832040\n"
     ]
    },
    {
     "name": "stderr",
     "output_type": "stream",
     "text": [
      "  9%|███████                                                                      | 46/500 [00:00<00:01, 227.50it/s]"
     ]
    },
    {
     "name": "stdout",
     "output_type": "stream",
     "text": [
      ">best! 0, 22726780\n",
      ">best! 0, 20802020\n",
      ">best! 1, 20026600\n",
      ">best! 2, 19590360\n",
      ">best! 2, 19046850\n",
      ">best! 9, 17385160\n"
     ]
    },
    {
     "name": "stderr",
     "output_type": "stream",
     "text": [
      " 28%|████████████████████▉                                                       | 138/500 [00:00<00:01, 228.56it/s]"
     ]
    },
    {
     "name": "stdout",
     "output_type": "stream",
     "text": [
      ">best! 81, 17354000\n"
     ]
    },
    {
     "name": "stderr",
     "output_type": "stream",
     "text": [
      " 56%|██████████████████████████████████████████▊                                 | 282/500 [00:01<00:00, 228.14it/s]\n"
     ]
    },
    {
     "name": "stdout",
     "output_type": "stream",
     "text": [
      "stop\n",
      "106번째 log 저장 완료. 총 123개\n",
      "25240000\n"
     ]
    },
    {
     "name": "stderr",
     "output_type": "stream",
     "text": [
      "  2%|█▊                                                                           | 12/500 [00:00<00:04, 118.23it/s]"
     ]
    },
    {
     "name": "stdout",
     "output_type": "stream",
     "text": [
      ">best! 0, 25208840\n",
      ">best! 0, 25146520\n",
      ">best! 0, 23844960\n",
      ">best! 0, 23145650\n",
      ">best! 1, 22370230\n",
      ">best! 1, 21203520\n",
      ">best! 2, 19791110\n",
      ">best! 11, 19638890\n",
      ">best! 11, 18877260\n",
      ">best! 12, 18690300\n",
      ">best! 13, 17727920\n"
     ]
    },
    {
     "name": "stderr",
     "output_type": "stream",
     "text": [
      "  7%|█████▋                                                                       | 37/500 [00:00<00:03, 118.75it/s]"
     ]
    },
    {
     "name": "stdout",
     "output_type": "stream",
     "text": [
      ">best! 25, 17540960\n"
     ]
    },
    {
     "name": "stderr",
     "output_type": "stream",
     "text": [
      " 30%|██████████████████████▋                                                     | 149/500 [00:01<00:02, 119.70it/s]"
     ]
    },
    {
     "name": "stdout",
     "output_type": "stream",
     "text": [
      ">best! 125, 17478640\n"
     ]
    },
    {
     "name": "stderr",
     "output_type": "stream",
     "text": [
      " 44%|█████████████████████████████████▌                                          | 221/500 [00:01<00:02, 118.76it/s]"
     ]
    },
    {
     "name": "stdout",
     "output_type": "stream",
     "text": [
      ">best! 197, 17354000\n"
     ]
    },
    {
     "name": "stderr",
     "output_type": "stream",
     "text": [
      " 80%|████████████████████████████████████████████████████████████▍               | 398/500 [00:03<00:00, 119.00it/s]\n"
     ]
    },
    {
     "name": "stdout",
     "output_type": "stream",
     "text": [
      "stop\n",
      "107번째 log 저장 완료. 총 123개\n",
      "31063200436240\n"
     ]
    },
    {
     "name": "stderr",
     "output_type": "stream",
     "text": [
      "  2%|█▊                                                                           | 12/500 [00:00<00:04, 119.58it/s]"
     ]
    },
    {
     "name": "stdout",
     "output_type": "stream",
     "text": [
      ">best! 0, 21238560031160\n",
      ">best! 0, 18926880529720\n",
      ">best! 0, 18926880498560\n",
      ">best! 2, 15459360716680\n",
      ">best! 3, 8524320654360\n",
      ">best! 20, 2889600623200\n"
     ]
    },
    {
     "name": "stderr",
     "output_type": "stream",
     "text": [
      " 44%|█████████████████████████████████▌                                          | 221/500 [00:01<00:02, 120.21it/s]\n"
     ]
    },
    {
     "name": "stdout",
     "output_type": "stream",
     "text": [
      "stop\n",
      "108번째 log 저장 완료. 총 123개\n",
      "34675200623200\n"
     ]
    },
    {
     "name": "stderr",
     "output_type": "stream",
     "text": [
      "  5%|████▏                                                                        | 27/500 [00:00<00:03, 129.75it/s]"
     ]
    },
    {
     "name": "stdout",
     "output_type": "stream",
     "text": [
      ">best! 0, 29473920093480\n",
      ">best! 0, 21383040592040\n",
      ">best! 1, 19504800093480\n",
      ">best! 1, 10691520592040\n",
      ">best! 22, 9969120218120\n"
     ]
    },
    {
     "name": "stderr",
     "output_type": "stream",
     "text": [
      " 11%|████████▍                                                                    | 55/500 [00:00<00:03, 132.17it/s]"
     ]
    },
    {
     "name": "stdout",
     "output_type": "stream",
     "text": [
      ">best! 36, 6068160031160\n"
     ]
    },
    {
     "name": "stderr",
     "output_type": "stream",
     "text": [
      " 22%|████████████████▊                                                           | 111/500 [00:00<00:02, 132.00it/s]"
     ]
    },
    {
     "name": "stdout",
     "output_type": "stream",
     "text": [
      ">best! 89, 5345760436240\n",
      ">best! 108, 4189920000000\n"
     ]
    },
    {
     "name": "stderr",
     "output_type": "stream",
     "text": [
      " 62%|██████████████████████████████████████████████▉                             | 309/500 [00:02<00:01, 131.62it/s]\n"
     ]
    },
    {
     "name": "stdout",
     "output_type": "stream",
     "text": [
      "stop\n",
      "109번째 log 저장 완료. 총 123개\n",
      "135580400000000\n"
     ]
    },
    {
     "name": "stderr",
     "output_type": "stream",
     "text": [
      "  3%|██▏                                                                           | 14/500 [00:00<00:07, 68.50it/s]"
     ]
    },
    {
     "name": "stdout",
     "output_type": "stream",
     "text": [
      ">best! 0, 43652860000000\n",
      ">best! 1, 43414520000000\n",
      ">best! 1, 42602900000000\n",
      ">best! 2, 40153920000000\n",
      ">best! 5, 36576880000000\n",
      ">best! 6, 35394360000000\n",
      ">best! 8, 32219040265540\n",
      ">best! 10, 23116800281160\n",
      ">best! 11, 14565500000000\n"
     ]
    },
    {
     "name": "stderr",
     "output_type": "stream",
     "text": [
      " 42%|████████████████████████████████▋                                            | 212/500 [00:03<00:04, 68.62it/s]\n"
     ]
    },
    {
     "name": "stdout",
     "output_type": "stream",
     "text": [
      "stop\n",
      "110번째 log 저장 완료. 총 123개\n",
      "93347500000000\n"
     ]
    },
    {
     "name": "stderr",
     "output_type": "stream",
     "text": [
      "  3%|██▏                                                                          | 14/500 [00:00<00:03, 130.97it/s]"
     ]
    },
    {
     "name": "stdout",
     "output_type": "stream",
     "text": [
      ">best! 0, 79231800000000\n",
      ">best! 0, 52790660000000\n",
      ">best! 0, 49748300000000\n",
      ">best! 0, 45706800000000\n",
      ">best! 1, 43809360000000\n",
      ">best! 1, 36135860000000\n",
      ">best! 1, 32586300000000\n",
      ">best! 1, 32547100000000\n",
      ">best! 3, 31207680570130\n",
      ">best! 3, 29040480476410\n",
      ">best! 7, 25428480148390\n",
      ">best! 8, 17482080570130\n"
     ]
    },
    {
     "name": "stderr",
     "output_type": "stream",
     "text": [
      " 25%|███████████████████▏                                                        | 126/500 [00:00<00:02, 132.25it/s]"
     ]
    },
    {
     "name": "stdout",
     "output_type": "stream",
     "text": [
      ">best! 99, 17482080296780\n",
      ">best! 117, 15119680000000\n",
      ">best! 121, 11124960991870\n"
     ]
    },
    {
     "name": "stderr",
     "output_type": "stream",
     "text": [
      " 59%|████████████████████████████████████████████▋                               | 294/500 [00:02<00:01, 132.76it/s]"
     ]
    },
    {
     "name": "stdout",
     "output_type": "stream",
     "text": [
      ">best! 267, 10402560203060\n"
     ]
    },
    {
     "name": "stderr",
     "output_type": "stream",
     "text": [
      " 84%|███████████████████████████████████████████████████████████████▊            | 420/500 [00:03<00:00, 132.12it/s]"
     ]
    },
    {
     "name": "stdout",
     "output_type": "stream",
     "text": [
      ">best! 401, 9102240968440\n"
     ]
    },
    {
     "name": "stderr",
     "output_type": "stream",
     "text": [
      "100%|████████████████████████████████████████████████████████████████████████████| 500/500 [00:03<00:00, 132.23it/s]\n"
     ]
    },
    {
     "name": "stdout",
     "output_type": "stream",
     "text": [
      "111번째 log 저장 완료. 총 123개\n",
      "62205300000000\n"
     ]
    },
    {
     "name": "stderr",
     "output_type": "stream",
     "text": [
      "  2%|█▎                                                                             | 8/500 [00:00<00:06, 72.00it/s]"
     ]
    },
    {
     "name": "stdout",
     "output_type": "stream",
     "text": [
      ">best! 0, 51861440000000\n",
      ">best! 0, 47932900000000\n",
      ">best! 0, 29403900000000\n",
      ">best! 2, 27904240000000\n",
      ">best! 7, 26885000000000\n",
      ">best! 8, 25717440999680\n",
      ">best! 10, 20660640468600\n"
     ]
    },
    {
     "name": "stderr",
     "output_type": "stream",
     "text": [
      " 11%|████████▋                                                                     | 56/500 [00:00<00:06, 71.12it/s]"
     ]
    },
    {
     "name": "stdout",
     "output_type": "stream",
     "text": [
      ">best! 45, 19161180000000\n"
     ]
    },
    {
     "name": "stderr",
     "output_type": "stream",
     "text": [
      " 21%|████████████████                                                             | 104/500 [00:01<00:05, 71.20it/s]"
     ]
    },
    {
     "name": "stdout",
     "output_type": "stream",
     "text": [
      ">best! 93, 16021720000000\n",
      ">best! 109, 12569760413930\n"
     ]
    },
    {
     "name": "stderr",
     "output_type": "stream",
     "text": [
      " 26%|███████████████████▋                                                         | 128/500 [00:01<00:05, 70.93it/s]"
     ]
    },
    {
     "name": "stdout",
     "output_type": "stream",
     "text": [
      ">best! 114, 10086320000000\n"
     ]
    },
    {
     "name": "stderr",
     "output_type": "stream",
     "text": [
      " 63%|████████████████████████████████████████████████▌                            | 315/500 [00:04<00:02, 70.87it/s]\n"
     ]
    },
    {
     "name": "stdout",
     "output_type": "stream",
     "text": [
      "stop\n",
      "112번째 log 저장 완료. 총 123개\n",
      "34129700000000\n"
     ]
    },
    {
     "name": "stderr",
     "output_type": "stream",
     "text": [
      "  2%|█▊                                                                           | 12/500 [00:00<00:04, 114.20it/s]"
     ]
    },
    {
     "name": "stdout",
     "output_type": "stream",
     "text": [
      ">best! 0, 32099100000000\n",
      ">best! 0, 32021000000000\n",
      ">best! 0, 25538700000000\n",
      ">best! 0, 7966200000000\n",
      ">best! 0, 1210550\n",
      ">best! 0, 15620\n"
     ]
    },
    {
     "name": "stderr",
     "output_type": "stream",
     "text": [
      " 22%|████████████████▍                                                           | 108/500 [00:00<00:03, 113.09it/s]"
     ]
    },
    {
     "name": "stdout",
     "output_type": "stream",
     "text": [
      ">best! 88, 0\n"
     ]
    },
    {
     "name": "stderr",
     "output_type": "stream",
     "text": [
      " 58%|███████████████████████████████████████████▉                                | 289/500 [00:02<00:01, 113.27it/s]\n"
     ]
    },
    {
     "name": "stdout",
     "output_type": "stream",
     "text": [
      "stop\n",
      "113번째 log 저장 완료. 총 123개\n",
      "82629800000000\n"
     ]
    },
    {
     "name": "stderr",
     "output_type": "stream",
     "text": [
      "  3%|██                                                                           | 13/500 [00:00<00:03, 122.14it/s]"
     ]
    },
    {
     "name": "stdout",
     "output_type": "stream",
     "text": [
      ">best! 0, 58965500000000\n",
      ">best! 0, 47328600000000\n",
      ">best! 0, 29834200000000\n",
      ">best! 0, 19446900000000\n",
      ">best! 1, 16479100000000\n",
      ">best! 1, 2436720\n",
      ">best! 2, 234300\n"
     ]
    },
    {
     "name": "stderr",
     "output_type": "stream",
     "text": [
      " 13%|██████████                                                                   | 65/500 [00:00<00:03, 121.72it/s]"
     ]
    },
    {
     "name": "stdout",
     "output_type": "stream",
     "text": [
      ">best! 45, 109340\n",
      ">best! 59, 62480\n"
     ]
    },
    {
     "name": "stderr",
     "output_type": "stream",
     "text": [
      " 34%|█████████████████████████▋                                                  | 169/500 [00:01<00:02, 121.35it/s]"
     ]
    },
    {
     "name": "stdout",
     "output_type": "stream",
     "text": [
      ">best! 150, 15620\n"
     ]
    },
    {
     "name": "stderr",
     "output_type": "stream",
     "text": [
      " 70%|█████████████████████████████████████████████████████▎                      | 351/500 [00:02<00:01, 121.05it/s]\n"
     ]
    },
    {
     "name": "stdout",
     "output_type": "stream",
     "text": [
      "stop\n",
      "114번째 log 저장 완료. 총 123개\n",
      "0\n"
     ]
    },
    {
     "name": "stderr",
     "output_type": "stream",
     "text": [
      " 40%|██████████████████████████████▌                                             | 201/500 [00:01<00:02, 132.09it/s]\n"
     ]
    },
    {
     "name": "stdout",
     "output_type": "stream",
     "text": [
      "stop\n",
      "115번째 log 저장 완료. 총 123개\n",
      "29920000000000\n"
     ]
    },
    {
     "name": "stderr",
     "output_type": "stream",
     "text": [
      "  2%|█▌                                                                            | 10/500 [00:00<00:04, 98.15it/s]"
     ]
    },
    {
     "name": "stdout",
     "output_type": "stream",
     "text": [
      ">best! 0, 28900000000000\n",
      ">best! 0, 26180000000000\n",
      ">best! 0, 25500000000000\n",
      ">best! 1, 23460000000000\n",
      ">best! 1, 16660000000000\n",
      ">best! 5, 16320000000000\n",
      ">best! 8, 14620000000000\n",
      ">best! 8, 10540000000000\n"
     ]
    },
    {
     "name": "stderr",
     "output_type": "stream",
     "text": [
      "  4%|███                                                                           | 20/500 [00:00<00:04, 98.93it/s]"
     ]
    },
    {
     "name": "stdout",
     "output_type": "stream",
     "text": [
      ">best! 26, 10200000000000\n"
     ]
    },
    {
     "name": "stderr",
     "output_type": "stream",
     "text": [
      "  8%|██████▏                                                                       | 40/500 [00:00<00:04, 98.40it/s]"
     ]
    },
    {
     "name": "stdout",
     "output_type": "stream",
     "text": [
      ">best! 27, 9520000000000\n"
     ]
    },
    {
     "name": "stderr",
     "output_type": "stream",
     "text": [
      " 19%|██████████████▌                                                               | 93/500 [00:00<00:04, 99.30it/s]"
     ]
    },
    {
     "name": "stdout",
     "output_type": "stream",
     "text": [
      ">best! 79, 8500000000000\n"
     ]
    },
    {
     "name": "stderr",
     "output_type": "stream",
     "text": [
      " 59%|█████████████████████████████████████████████▎                               | 294/500 [00:02<00:02, 99.21it/s]"
     ]
    },
    {
     "name": "stdout",
     "output_type": "stream",
     "text": [
      ">best! 277, 2720000000000\n"
     ]
    },
    {
     "name": "stderr",
     "output_type": "stream",
     "text": [
      " 96%|█████████████████████████████████████████████████████████████████████████▌   | 478/500 [00:04<00:00, 99.24it/s]\n"
     ]
    },
    {
     "name": "stdout",
     "output_type": "stream",
     "text": [
      "stop\n",
      "116번째 log 저장 완료. 총 123개\n",
      "63240000000000\n"
     ]
    },
    {
     "name": "stderr",
     "output_type": "stream",
     "text": [
      "  2%|█▍                                                                             | 9/500 [00:00<00:05, 87.97it/s]"
     ]
    },
    {
     "name": "stdout",
     "output_type": "stream",
     "text": [
      ">best! 0, 50320000000000\n",
      ">best! 0, 37400000000000\n",
      ">best! 10, 33660000000000\n"
     ]
    },
    {
     "name": "stderr",
     "output_type": "stream",
     "text": [
      " 18%|██████████████                                                                | 90/500 [00:01<00:04, 88.28it/s]"
     ]
    },
    {
     "name": "stdout",
     "output_type": "stream",
     "text": [
      ">best! 75, 27880000000000\n"
     ]
    },
    {
     "name": "stderr",
     "output_type": "stream",
     "text": [
      " 34%|██████████████████████████▍                                                  | 172/500 [00:01<00:03, 88.31it/s]"
     ]
    },
    {
     "name": "stdout",
     "output_type": "stream",
     "text": [
      ">best! 161, 21420000000000\n"
     ]
    },
    {
     "name": "stderr",
     "output_type": "stream",
     "text": [
      " 72%|███████████████████████████████████████████████████████▋                     | 362/500 [00:04<00:01, 88.23it/s]\n"
     ]
    },
    {
     "name": "stdout",
     "output_type": "stream",
     "text": [
      "stop\n",
      "117번째 log 저장 완료. 총 123개\n",
      "145238960000000\n"
     ]
    },
    {
     "name": "stderr",
     "output_type": "stream",
     "text": [
      "  1%|▊                                                                              | 5/500 [00:00<00:09, 49.61it/s]"
     ]
    },
    {
     "name": "stdout",
     "output_type": "stream",
     "text": [
      ">best! 0, 117719380000000\n",
      ">best! 0, 106880460000000\n",
      ">best! 0, 90809480000000\n",
      ">best! 6, 87484210000000\n"
     ]
    },
    {
     "name": "stderr",
     "output_type": "stream",
     "text": [
      "  5%|████                                                                          | 26/500 [00:00<00:09, 49.63it/s]"
     ]
    },
    {
     "name": "stdout",
     "output_type": "stream",
     "text": [
      ">best! 16, 83081850000000\n",
      ">best! 18, 82878080000000\n",
      ">best! 21, 82797550000000\n",
      ">best! 27, 80613890000000\n"
     ]
    },
    {
     "name": "stderr",
     "output_type": "stream",
     "text": [
      " 10%|████████                                                                      | 52/500 [00:01<00:09, 49.22it/s]"
     ]
    },
    {
     "name": "stdout",
     "output_type": "stream",
     "text": [
      ">best! 45, 63455610000000\n"
     ]
    },
    {
     "name": "stderr",
     "output_type": "stream",
     "text": [
      " 49%|█████████████████████████████████████▉                                       | 246/500 [00:05<00:05, 49.17it/s]\n"
     ]
    },
    {
     "name": "stdout",
     "output_type": "stream",
     "text": [
      "stop\n",
      "118번째 log 저장 완료. 총 123개\n",
      "144443150000000\n"
     ]
    },
    {
     "name": "stderr",
     "output_type": "stream",
     "text": [
      "  1%|▊                                                                              | 5/500 [00:00<00:10, 48.34it/s]"
     ]
    },
    {
     "name": "stdout",
     "output_type": "stream",
     "text": [
      ">best! 0, 125529170000000\n",
      ">best! 0, 110966260000000\n",
      ">best! 0, 106933140000000\n",
      ">best! 0, 106531640000000\n",
      ">best! 1, 98875720000000\n",
      ">best! 1, 82179050000000\n",
      ">best! 1, 81941630000000\n",
      ">best! 4, 72471530000000\n",
      ">best! 7, 71918940000000\n"
     ]
    },
    {
     "name": "stderr",
     "output_type": "stream",
     "text": [
      " 14%|██████████▉                                                                   | 70/500 [00:01<00:08, 47.92it/s]"
     ]
    },
    {
     "name": "stdout",
     "output_type": "stream",
     "text": [
      ">best! 60, 71658080000000\n"
     ]
    },
    {
     "name": "stderr",
     "output_type": "stream",
     "text": [
      " 23%|█████████████████▋                                                           | 115/500 [00:02<00:07, 48.17it/s]"
     ]
    },
    {
     "name": "stdout",
     "output_type": "stream",
     "text": [
      ">best! 105, 71555500000000\n"
     ]
    },
    {
     "name": "stderr",
     "output_type": "stream",
     "text": [
      " 36%|███████████████████████████▋                                                 | 180/500 [00:03<00:06, 48.12it/s]"
     ]
    },
    {
     "name": "stdout",
     "output_type": "stream",
     "text": [
      ">best! 172, 71452920000000\n"
     ]
    },
    {
     "name": "stderr",
     "output_type": "stream",
     "text": [
      " 75%|█████████████████████████████████████████████████████████▍                   | 373/500 [00:07<00:02, 48.22it/s]\n"
     ]
    },
    {
     "name": "stdout",
     "output_type": "stream",
     "text": [
      "stop\n",
      "119번째 log 저장 완료. 총 123개\n",
      "149774773149250\n"
     ]
    },
    {
     "name": "stderr",
     "output_type": "stream",
     "text": [
      "  1%|▉                                                                              | 6/500 [00:00<00:09, 51.42it/s]"
     ]
    },
    {
     "name": "stdout",
     "output_type": "stream",
     "text": [
      ">best! 0, 133982296783000\n",
      ">best! 0, 126604873633750\n",
      ">best! 0, 111044013876000\n",
      ">best! 0, 107585292664750\n",
      ">best! 0, 101311426056250\n",
      ">best! 0, 100775084602750\n",
      ">best! 0, 98963685571750\n",
      ">best! 2, 91763575087250\n",
      ">best! 3, 85176161938000\n"
     ]
    },
    {
     "name": "stderr",
     "output_type": "stream",
     "text": [
      "  2%|█▊                                                                            | 12/500 [00:00<00:09, 51.15it/s]"
     ]
    },
    {
     "name": "stdout",
     "output_type": "stream",
     "text": [
      ">best! 11, 82489814845000\n",
      ">best! 14, 81302711695750\n"
     ]
    },
    {
     "name": "stderr",
     "output_type": "stream",
     "text": [
      "  8%|██████▌                                                                       | 42/500 [00:00<00:08, 51.24it/s]"
     ]
    },
    {
     "name": "stdout",
     "output_type": "stream",
     "text": [
      ">best! 34, 75993142664750\n",
      ">best! 41, 74181744360500\n"
     ]
    },
    {
     "name": "stderr",
     "output_type": "stream",
     "text": [
      " 13%|██████████▎                                                                   | 66/500 [00:01<00:08, 50.99it/s]"
     ]
    },
    {
     "name": "stdout",
     "output_type": "stream",
     "text": [
      ">best! 56, 70377224845000\n"
     ]
    },
    {
     "name": "stderr",
     "output_type": "stream",
     "text": [
      " 32%|████████████████████████▉                                                    | 162/500 [00:03<00:06, 51.53it/s]"
     ]
    },
    {
     "name": "stdout",
     "output_type": "stream",
     "text": [
      ">best! 154, 66199054845000\n"
     ]
    },
    {
     "name": "stderr",
     "output_type": "stream",
     "text": [
      " 71%|██████████████████████████████████████████████████████▋                      | 355/500 [00:06<00:02, 51.54it/s]\n"
     ]
    },
    {
     "name": "stdout",
     "output_type": "stream",
     "text": [
      "stop\n",
      "120번째 log 저장 완료. 총 123개\n",
      "100307674118250\n"
     ]
    },
    {
     "name": "stderr",
     "output_type": "stream",
     "text": [
      "  1%|▋                                                                              | 4/500 [00:00<00:13, 35.65it/s]"
     ]
    },
    {
     "name": "stdout",
     "output_type": "stream",
     "text": [
      ">best! 0, 82945626056250\n",
      ">best! 0, 66789706540750\n",
      ">best! 2, 58020024602750\n"
     ]
    },
    {
     "name": "stderr",
     "output_type": "stream",
     "text": [
      "  2%|█▎                                                                             | 8/500 [00:00<00:13, 35.50it/s]"
     ]
    },
    {
     "name": "stdout",
     "output_type": "stream",
     "text": [
      ">best! 7, 53781740969000\n"
     ]
    },
    {
     "name": "stderr",
     "output_type": "stream",
     "text": [
      "  8%|██████▏                                                                       | 40/500 [00:01<00:13, 35.04it/s]"
     ]
    },
    {
     "name": "stdout",
     "output_type": "stream",
     "text": [
      ">best! 32, 52105184845000\n"
     ]
    },
    {
     "name": "stderr",
     "output_type": "stream",
     "text": [
      " 17%|█████████████                                                                 | 84/500 [00:02<00:11, 35.51it/s]"
     ]
    },
    {
     "name": "stdout",
     "output_type": "stream",
     "text": [
      ">best! 76, 38184216298500\n"
     ]
    },
    {
     "name": "stderr",
     "output_type": "stream",
     "text": [
      " 55%|██████████████████████████████████████████▋                                  | 277/500 [00:07<00:06, 35.28it/s]\n"
     ]
    },
    {
     "name": "stdout",
     "output_type": "stream",
     "text": [
      "stop\n",
      "121번째 log 저장 완료. 총 123개\n",
      "77963656056250\n"
     ]
    },
    {
     "name": "stderr",
     "output_type": "stream",
     "text": [
      "  1%|▍                                                                              | 3/500 [00:00<00:23, 21.05it/s]"
     ]
    },
    {
     "name": "stdout",
     "output_type": "stream",
     "text": [
      ">best! 1, 70110843876000\n",
      ">best! 3, 67008833149250\n"
     ]
    },
    {
     "name": "stderr",
     "output_type": "stream",
     "text": [
      "  2%|█▍                                                                             | 9/500 [00:00<00:23, 21.17it/s]"
     ]
    },
    {
     "name": "stdout",
     "output_type": "stream",
     "text": [
      ">best! 6, 58423112907000\n"
     ]
    },
    {
     "name": "stderr",
     "output_type": "stream",
     "text": [
      "  5%|████▏                                                                         | 27/500 [00:01<00:21, 21.76it/s]"
     ]
    },
    {
     "name": "stdout",
     "output_type": "stream",
     "text": [
      ">best! 23, 56693183633750\n",
      ">best! 26, 51554227353130\n"
     ]
    },
    {
     "name": "stderr",
     "output_type": "stream",
     "text": [
      "  9%|███████                                                                       | 45/500 [00:02<00:20, 21.70it/s]"
     ]
    },
    {
     "name": "stdout",
     "output_type": "stream",
     "text": [
      ">best! 41, 50296807235980\n"
     ]
    },
    {
     "name": "stderr",
     "output_type": "stream",
     "text": [
      " 33%|█████████████████████████▍                                                   | 165/500 [00:07<00:15, 21.67it/s]"
     ]
    },
    {
     "name": "stdout",
     "output_type": "stream",
     "text": [
      ">best! 163, 45057556806430\n"
     ]
    },
    {
     "name": "stderr",
     "output_type": "stream",
     "text": [
      " 64%|████████████████████████████████████████████████▉                            | 318/500 [00:14<00:08, 21.63it/s]"
     ]
    },
    {
     "name": "stdout",
     "output_type": "stream",
     "text": [
      ">best! 314, 42767822907000\n"
     ]
    },
    {
     "name": "stderr",
     "output_type": "stream",
     "text": [
      "100%|█████████████████████████████████████████████████████████████████████████████| 500/500 [00:23<00:00, 21.67it/s]\n"
     ]
    },
    {
     "name": "stdout",
     "output_type": "stream",
     "text": [
      "122번째 log 저장 완료. 총 123개\n",
      "64588705329500\n"
     ]
    },
    {
     "name": "stderr",
     "output_type": "stream",
     "text": [
      "  1%|▊                                                                              | 5/500 [00:00<00:11, 42.93it/s]"
     ]
    },
    {
     "name": "stdout",
     "output_type": "stream",
     "text": [
      ">best! 0, 40924405814000\n",
      ">best! 0, 40924404845000\n",
      ">best! 0, 23195704602750\n",
      ">best! 1, 15463802907000\n",
      ">best! 1, 8278603876000\n"
     ]
    },
    {
     "name": "stderr",
     "output_type": "stream",
     "text": [
      "  4%|███                                                                           | 20/500 [00:00<00:11, 42.21it/s]"
     ]
    },
    {
     "name": "stdout",
     "output_type": "stream",
     "text": [
      ">best! 12, 4266500\n"
     ]
    },
    {
     "name": "stderr",
     "output_type": "stream",
     "text": [
      " 10%|███████▊                                                                      | 50/500 [00:01<00:10, 42.14it/s]"
     ]
    },
    {
     "name": "stdout",
     "output_type": "stream",
     "text": [
      ">best! 43, 2016100\n"
     ]
    },
    {
     "name": "stderr",
     "output_type": "stream",
     "text": [
      " 49%|█████████████████████████████████████▌                                       | 244/500 [00:05<00:05, 42.67it/s]"
     ]
    },
    {
     "name": "stdout",
     "output_type": "stream",
     "text": [
      "stop\n",
      "123번째 log 저장 완료. 총 123개\n"
     ]
    },
    {
     "name": "stderr",
     "output_type": "stream",
     "text": [
      "\n"
     ]
    }
   ],
   "source": [
    "import pickle\n",
    "\n",
    "# 저장된 피클 불러오기기\n",
    "# with open('log.pkl', 'rb') as f:\n",
    "#     loaded_data = pickle.load(f)\n",
    "\n",
    "# best_ls, score_ls, log_ls, log_detail_ls = loaded_data\n",
    "\n",
    "# 데이터 설정정\n",
    "# temp = [dataset_for_ga[i] for i in range(10)]\n",
    "\n",
    "best_ls, score_ls, log_ls, log_detail_ls, gt_ls = list(), list(), list(), list(), list()\n",
    "\n",
    "# 유전 알고리즘\n",
    "def ga_get_gt(dataset_for_ga):\n",
    "    data_len = len(dataset_for_ga)\n",
    "    \n",
    "    for i, data in enumerate(dataset_for_ga):\n",
    "        global T, I, J, cit, pit, dit, mijt\n",
    "        T, I, J, cit, pit, dit, mijt = ga_preprocess(data)\n",
    "\n",
    "        # 입력 데이터 생성\n",
    "        xijt = generation_xijt()\n",
    "        global xijt_keys, mijt_keys\n",
    "        xijt_keys = list(xijt.keys())\n",
    "        mijt_keys = list(mijt.keys())\n",
    "\n",
    "        # 유전 알고리즘 하이퍼파라미터 설정 - index 07 적용\n",
    "        n_iter = 500       # 반복할 세대 수\n",
    "        n_pop = 20         # 세대당 염색체 수\n",
    "        r_cross = 0.4      # 교차율\n",
    "        r_mut = 0.1        # 변이율\n",
    "\n",
    "        # 유전 알고리즘 실행\n",
    "        best, score, log, log_detail = genetic_algorithm(mijt, n_iter, n_pop, r_cross, r_mut)\n",
    "\n",
    "        best_ls.append(best)\n",
    "        score_ls.append(score)\n",
    "        log_ls.append(log)\n",
    "        log_detail_ls.append(log_detail)\n",
    "\n",
    "        with open('log_n5.pkl', 'wb') as f:\n",
    "            pickle.dump([best_ls, score_ls, log_ls, log_detail_ls], f)\n",
    "        print(f'{i+1}번째 log 저장 완료. 총 {data_len}개')\n",
    "\n",
    "        # 해 솔루션 저장용 딕셔너리 초기화\n",
    "        solution_ = dict()\n",
    "\n",
    "        # xijt 디코딩\n",
    "        xijt = decode(mijt, xijt)\n",
    "\n",
    "        # best 해를 기반으로 해를 계산\n",
    "        for i in I:\n",
    "            for j in J:\n",
    "                for t in T:\n",
    "                    solution_[(i, j, t)] = round(best[i, j, t] * dit[i, t])\n",
    "\n",
    "        # 딕셔너리를 DataFrame으로 변환\n",
    "        sol = pd.DataFrame.from_dict(solution_, orient='index').reset_index()\n",
    "        sol.columns = ['(item, machine, time)', 'qty']\n",
    "\n",
    "        gt_ls.append(sol[sol['qty'] > 0])\n",
    "\n",
    "        with open('gt_n5_k010k.pkl', 'wb') as f:\n",
    "            pickle.dump(gt_ls, f)\n",
    "\n",
    "        # print('{}번째 gt 저장 완료. 총 {}개'.format(i + 1, data_len))\n",
    "\n",
    "        # print('------------------------')\n",
    "        # print()\n",
    "    # return gt_ls\n",
    "\n",
    "ga_get_gt(dataset_for_ga)"
   ]
  },
  {
   "cell_type": "code",
   "execution_count": 50,
   "id": "bd94e9fd",
   "metadata": {},
   "outputs": [
    {
     "data": {
      "text/html": [
       "<div>\n",
       "<style scoped>\n",
       "    .dataframe tbody tr th:only-of-type {\n",
       "        vertical-align: middle;\n",
       "    }\n",
       "\n",
       "    .dataframe tbody tr th {\n",
       "        vertical-align: top;\n",
       "    }\n",
       "\n",
       "    .dataframe thead th {\n",
       "        text-align: right;\n",
       "    }\n",
       "</style>\n",
       "<table border=\"1\" class=\"dataframe\">\n",
       "  <thead>\n",
       "    <tr style=\"text-align: right;\">\n",
       "      <th></th>\n",
       "      <th>(item, machine, time)</th>\n",
       "      <th>qty</th>\n",
       "    </tr>\n",
       "  </thead>\n",
       "  <tbody>\n",
       "    <tr>\n",
       "      <th>23</th>\n",
       "      <td>(item16, machine07, date144)</td>\n",
       "      <td>3</td>\n",
       "    </tr>\n",
       "    <tr>\n",
       "      <th>47</th>\n",
       "      <td>(item16, machine10, date144)</td>\n",
       "      <td>136</td>\n",
       "    </tr>\n",
       "    <tr>\n",
       "      <th>67</th>\n",
       "      <td>(item16, machine23, date144)</td>\n",
       "      <td>16</td>\n",
       "    </tr>\n",
       "    <tr>\n",
       "      <th>83</th>\n",
       "      <td>(item16, machine30, date144)</td>\n",
       "      <td>53</td>\n",
       "    </tr>\n",
       "    <tr>\n",
       "      <th>87</th>\n",
       "      <td>(item16, machine08, date144)</td>\n",
       "      <td>128</td>\n",
       "    </tr>\n",
       "    <tr>\n",
       "      <th>120</th>\n",
       "      <td>(item87, machine05, date169)</td>\n",
       "      <td>30</td>\n",
       "    </tr>\n",
       "    <tr>\n",
       "      <th>140</th>\n",
       "      <td>(item87, machine01, date169)</td>\n",
       "      <td>92</td>\n",
       "    </tr>\n",
       "    <tr>\n",
       "      <th>196</th>\n",
       "      <td>(item87, machine21, date169)</td>\n",
       "      <td>74</td>\n",
       "    </tr>\n",
       "    <tr>\n",
       "      <th>233</th>\n",
       "      <td>(item91, machine35, date154)</td>\n",
       "      <td>2</td>\n",
       "    </tr>\n",
       "    <tr>\n",
       "      <th>253</th>\n",
       "      <td>(item91, machine09, date154)</td>\n",
       "      <td>3</td>\n",
       "    </tr>\n",
       "    <tr>\n",
       "      <th>261</th>\n",
       "      <td>(item91, machine10, date154)</td>\n",
       "      <td>3</td>\n",
       "    </tr>\n",
       "    <tr>\n",
       "      <th>265</th>\n",
       "      <td>(item91, machine28, date154)</td>\n",
       "      <td>2</td>\n",
       "    </tr>\n",
       "    <tr>\n",
       "      <th>269</th>\n",
       "      <td>(item91, machine34, date154)</td>\n",
       "      <td>1</td>\n",
       "    </tr>\n",
       "    <tr>\n",
       "      <th>301</th>\n",
       "      <td>(item91, machine08, date154)</td>\n",
       "      <td>3</td>\n",
       "    </tr>\n",
       "    <tr>\n",
       "      <th>305</th>\n",
       "      <td>(item91, machine21, date154)</td>\n",
       "      <td>1</td>\n",
       "    </tr>\n",
       "    <tr>\n",
       "      <th>332</th>\n",
       "      <td>(item20, machine16, date169)</td>\n",
       "      <td>8</td>\n",
       "    </tr>\n",
       "    <tr>\n",
       "      <th>336</th>\n",
       "      <td>(item20, machine05, date169)</td>\n",
       "      <td>3</td>\n",
       "    </tr>\n",
       "    <tr>\n",
       "      <th>348</th>\n",
       "      <td>(item20, machine06, date169)</td>\n",
       "      <td>18</td>\n",
       "    </tr>\n",
       "    <tr>\n",
       "      <th>356</th>\n",
       "      <td>(item20, machine01, date169)</td>\n",
       "      <td>9</td>\n",
       "    </tr>\n",
       "    <tr>\n",
       "      <th>424</th>\n",
       "      <td>(item20, machine14, date169)</td>\n",
       "      <td>42</td>\n",
       "    </tr>\n",
       "    <tr>\n",
       "      <th>450</th>\n",
       "      <td>(item96, machine35, date150)</td>\n",
       "      <td>13</td>\n",
       "    </tr>\n",
       "    <tr>\n",
       "      <th>470</th>\n",
       "      <td>(item96, machine09, date150)</td>\n",
       "      <td>18</td>\n",
       "    </tr>\n",
       "    <tr>\n",
       "      <th>474</th>\n",
       "      <td>(item96, machine29, date150)</td>\n",
       "      <td>14</td>\n",
       "    </tr>\n",
       "    <tr>\n",
       "      <th>482</th>\n",
       "      <td>(item96, machine28, date150)</td>\n",
       "      <td>14</td>\n",
       "    </tr>\n",
       "    <tr>\n",
       "      <th>486</th>\n",
       "      <td>(item96, machine34, date150)</td>\n",
       "      <td>1</td>\n",
       "    </tr>\n",
       "    <tr>\n",
       "      <th>494</th>\n",
       "      <td>(item96, machine22, date150)</td>\n",
       "      <td>14</td>\n",
       "    </tr>\n",
       "    <tr>\n",
       "      <th>498</th>\n",
       "      <td>(item96, machine23, date150)</td>\n",
       "      <td>10</td>\n",
       "    </tr>\n",
       "    <tr>\n",
       "      <th>514</th>\n",
       "      <td>(item96, machine30, date150)</td>\n",
       "      <td>12</td>\n",
       "    </tr>\n",
       "    <tr>\n",
       "      <th>518</th>\n",
       "      <td>(item96, machine08, date150)</td>\n",
       "      <td>4</td>\n",
       "    </tr>\n",
       "    <tr>\n",
       "      <th>522</th>\n",
       "      <td>(item96, machine21, date150)</td>\n",
       "      <td>9</td>\n",
       "    </tr>\n",
       "    <tr>\n",
       "      <th>534</th>\n",
       "      <td>(item96, machine14, date150)</td>\n",
       "      <td>6</td>\n",
       "    </tr>\n",
       "    <tr>\n",
       "      <th>538</th>\n",
       "      <td>(item96, machine12, date150)</td>\n",
       "      <td>13</td>\n",
       "    </tr>\n",
       "  </tbody>\n",
       "</table>\n",
       "</div>"
      ],
      "text/plain": [
       "            (item, machine, time)  qty\n",
       "23   (item16, machine07, date144)    3\n",
       "47   (item16, machine10, date144)  136\n",
       "67   (item16, machine23, date144)   16\n",
       "83   (item16, machine30, date144)   53\n",
       "87   (item16, machine08, date144)  128\n",
       "120  (item87, machine05, date169)   30\n",
       "140  (item87, machine01, date169)   92\n",
       "196  (item87, machine21, date169)   74\n",
       "233  (item91, machine35, date154)    2\n",
       "253  (item91, machine09, date154)    3\n",
       "261  (item91, machine10, date154)    3\n",
       "265  (item91, machine28, date154)    2\n",
       "269  (item91, machine34, date154)    1\n",
       "301  (item91, machine08, date154)    3\n",
       "305  (item91, machine21, date154)    1\n",
       "332  (item20, machine16, date169)    8\n",
       "336  (item20, machine05, date169)    3\n",
       "348  (item20, machine06, date169)   18\n",
       "356  (item20, machine01, date169)    9\n",
       "424  (item20, machine14, date169)   42\n",
       "450  (item96, machine35, date150)   13\n",
       "470  (item96, machine09, date150)   18\n",
       "474  (item96, machine29, date150)   14\n",
       "482  (item96, machine28, date150)   14\n",
       "486  (item96, machine34, date150)    1\n",
       "494  (item96, machine22, date150)   14\n",
       "498  (item96, machine23, date150)   10\n",
       "514  (item96, machine30, date150)   12\n",
       "518  (item96, machine08, date150)    4\n",
       "522  (item96, machine21, date150)    9\n",
       "534  (item96, machine14, date150)    6\n",
       "538  (item96, machine12, date150)   13"
      ]
     },
     "execution_count": 50,
     "metadata": {},
     "output_type": "execute_result"
    }
   ],
   "source": [
    "with open('gt_n5_k010k.pkl', 'rb') as f:\n",
    "    gt_ls = pickle.load(f)\n",
    "gt_ls[1]"
   ]
  },
  {
   "cell_type": "code",
   "execution_count": 33,
   "id": "11a00556",
   "metadata": {},
   "outputs": [
    {
     "data": {
      "text/html": [
       "<div>\n",
       "<style scoped>\n",
       "    .dataframe tbody tr th:only-of-type {\n",
       "        vertical-align: middle;\n",
       "    }\n",
       "\n",
       "    .dataframe tbody tr th {\n",
       "        vertical-align: top;\n",
       "    }\n",
       "\n",
       "    .dataframe thead th {\n",
       "        text-align: right;\n",
       "    }\n",
       "</style>\n",
       "<table border=\"1\" class=\"dataframe\">\n",
       "  <thead>\n",
       "    <tr style=\"text-align: right;\">\n",
       "      <th></th>\n",
       "      <th>item</th>\n",
       "      <th>machine</th>\n",
       "      <th>time</th>\n",
       "      <th>qty</th>\n",
       "    </tr>\n",
       "  </thead>\n",
       "  <tbody>\n",
       "    <tr>\n",
       "      <th>608</th>\n",
       "      <td>item15</td>\n",
       "      <td>machine20</td>\n",
       "      <td>date133</td>\n",
       "      <td>133</td>\n",
       "    </tr>\n",
       "    <tr>\n",
       "      <th>598</th>\n",
       "      <td>item15</td>\n",
       "      <td>machine21</td>\n",
       "      <td>date133</td>\n",
       "      <td>57</td>\n",
       "    </tr>\n",
       "    <tr>\n",
       "      <th>553</th>\n",
       "      <td>item15</td>\n",
       "      <td>machine28</td>\n",
       "      <td>date133</td>\n",
       "      <td>52</td>\n",
       "    </tr>\n",
       "    <tr>\n",
       "      <th>558</th>\n",
       "      <td>item15</td>\n",
       "      <td>machine34</td>\n",
       "      <td>date133</td>\n",
       "      <td>46</td>\n",
       "    </tr>\n",
       "    <tr>\n",
       "      <th>91</th>\n",
       "      <td>item16</td>\n",
       "      <td>machine08</td>\n",
       "      <td>date144</td>\n",
       "      <td>88</td>\n",
       "    </tr>\n",
       "    <tr>\n",
       "      <th>46</th>\n",
       "      <td>item16</td>\n",
       "      <td>machine10</td>\n",
       "      <td>date144</td>\n",
       "      <td>164</td>\n",
       "    </tr>\n",
       "    <tr>\n",
       "      <th>66</th>\n",
       "      <td>item16</td>\n",
       "      <td>machine23</td>\n",
       "      <td>date144</td>\n",
       "      <td>32</td>\n",
       "    </tr>\n",
       "    <tr>\n",
       "      <th>86</th>\n",
       "      <td>item16</td>\n",
       "      <td>machine30</td>\n",
       "      <td>date144</td>\n",
       "      <td>69</td>\n",
       "    </tr>\n",
       "    <tr>\n",
       "      <th>465</th>\n",
       "      <td>item96</td>\n",
       "      <td>machine08</td>\n",
       "      <td>date150</td>\n",
       "      <td>9</td>\n",
       "    </tr>\n",
       "    <tr>\n",
       "      <th>410</th>\n",
       "      <td>item96</td>\n",
       "      <td>machine09</td>\n",
       "      <td>date150</td>\n",
       "      <td>16</td>\n",
       "    </tr>\n",
       "    <tr>\n",
       "      <th>420</th>\n",
       "      <td>item96</td>\n",
       "      <td>machine10</td>\n",
       "      <td>date150</td>\n",
       "      <td>14</td>\n",
       "    </tr>\n",
       "    <tr>\n",
       "      <th>495</th>\n",
       "      <td>item96</td>\n",
       "      <td>machine12</td>\n",
       "      <td>date150</td>\n",
       "      <td>8</td>\n",
       "    </tr>\n",
       "    <tr>\n",
       "      <th>490</th>\n",
       "      <td>item96</td>\n",
       "      <td>machine14</td>\n",
       "      <td>date150</td>\n",
       "      <td>16</td>\n",
       "    </tr>\n",
       "    <tr>\n",
       "      <th>470</th>\n",
       "      <td>item96</td>\n",
       "      <td>machine21</td>\n",
       "      <td>date150</td>\n",
       "      <td>11</td>\n",
       "    </tr>\n",
       "    <tr>\n",
       "      <th>445</th>\n",
       "      <td>item96</td>\n",
       "      <td>machine22</td>\n",
       "      <td>date150</td>\n",
       "      <td>11</td>\n",
       "    </tr>\n",
       "    <tr>\n",
       "      <th>440</th>\n",
       "      <td>item96</td>\n",
       "      <td>machine23</td>\n",
       "      <td>date150</td>\n",
       "      <td>7</td>\n",
       "    </tr>\n",
       "    <tr>\n",
       "      <th>425</th>\n",
       "      <td>item96</td>\n",
       "      <td>machine28</td>\n",
       "      <td>date150</td>\n",
       "      <td>3</td>\n",
       "    </tr>\n",
       "    <tr>\n",
       "      <th>415</th>\n",
       "      <td>item96</td>\n",
       "      <td>machine29</td>\n",
       "      <td>date150</td>\n",
       "      <td>5</td>\n",
       "    </tr>\n",
       "    <tr>\n",
       "      <th>460</th>\n",
       "      <td>item96</td>\n",
       "      <td>machine30</td>\n",
       "      <td>date150</td>\n",
       "      <td>4</td>\n",
       "    </tr>\n",
       "    <tr>\n",
       "      <th>430</th>\n",
       "      <td>item96</td>\n",
       "      <td>machine34</td>\n",
       "      <td>date150</td>\n",
       "      <td>10</td>\n",
       "    </tr>\n",
       "    <tr>\n",
       "      <th>390</th>\n",
       "      <td>item96</td>\n",
       "      <td>machine35</td>\n",
       "      <td>date150</td>\n",
       "      <td>17</td>\n",
       "    </tr>\n",
       "    <tr>\n",
       "      <th>297</th>\n",
       "      <td>item91</td>\n",
       "      <td>machine10</td>\n",
       "      <td>date154</td>\n",
       "      <td>3</td>\n",
       "    </tr>\n",
       "    <tr>\n",
       "      <th>367</th>\n",
       "      <td>item91</td>\n",
       "      <td>machine14</td>\n",
       "      <td>date154</td>\n",
       "      <td>1</td>\n",
       "    </tr>\n",
       "    <tr>\n",
       "      <th>347</th>\n",
       "      <td>item91</td>\n",
       "      <td>machine21</td>\n",
       "      <td>date154</td>\n",
       "      <td>1</td>\n",
       "    </tr>\n",
       "    <tr>\n",
       "      <th>302</th>\n",
       "      <td>item91</td>\n",
       "      <td>machine28</td>\n",
       "      <td>date154</td>\n",
       "      <td>1</td>\n",
       "    </tr>\n",
       "    <tr>\n",
       "      <th>292</th>\n",
       "      <td>item91</td>\n",
       "      <td>machine29</td>\n",
       "      <td>date154</td>\n",
       "      <td>3</td>\n",
       "    </tr>\n",
       "    <tr>\n",
       "      <th>267</th>\n",
       "      <td>item91</td>\n",
       "      <td>machine35</td>\n",
       "      <td>date154</td>\n",
       "      <td>2</td>\n",
       "    </tr>\n",
       "    <tr>\n",
       "      <th>159</th>\n",
       "      <td>item87</td>\n",
       "      <td>machine01</td>\n",
       "      <td>date169</td>\n",
       "      <td>83</td>\n",
       "    </tr>\n",
       "    <tr>\n",
       "      <th>129</th>\n",
       "      <td>item87</td>\n",
       "      <td>machine03</td>\n",
       "      <td>date169</td>\n",
       "      <td>64</td>\n",
       "    </tr>\n",
       "    <tr>\n",
       "      <th>204</th>\n",
       "      <td>item87</td>\n",
       "      <td>machine18</td>\n",
       "      <td>date169</td>\n",
       "      <td>46</td>\n",
       "    </tr>\n",
       "  </tbody>\n",
       "</table>\n",
       "</div>"
      ],
      "text/plain": [
       "       item    machine     time  qty\n",
       "608  item15  machine20  date133  133\n",
       "598  item15  machine21  date133   57\n",
       "553  item15  machine28  date133   52\n",
       "558  item15  machine34  date133   46\n",
       "91   item16  machine08  date144   88\n",
       "46   item16  machine10  date144  164\n",
       "66   item16  machine23  date144   32\n",
       "86   item16  machine30  date144   69\n",
       "465  item96  machine08  date150    9\n",
       "410  item96  machine09  date150   16\n",
       "420  item96  machine10  date150   14\n",
       "495  item96  machine12  date150    8\n",
       "490  item96  machine14  date150   16\n",
       "470  item96  machine21  date150   11\n",
       "445  item96  machine22  date150   11\n",
       "440  item96  machine23  date150    7\n",
       "425  item96  machine28  date150    3\n",
       "415  item96  machine29  date150    5\n",
       "460  item96  machine30  date150    4\n",
       "430  item96  machine34  date150   10\n",
       "390  item96  machine35  date150   17\n",
       "297  item91  machine10  date154    3\n",
       "367  item91  machine14  date154    1\n",
       "347  item91  machine21  date154    1\n",
       "302  item91  machine28  date154    1\n",
       "292  item91  machine29  date154    3\n",
       "267  item91  machine35  date154    2\n",
       "159  item87  machine01  date169   83\n",
       "129  item87  machine03  date169   64\n",
       "204  item87  machine18  date169   46"
      ]
     },
     "execution_count": 33,
     "metadata": {},
     "output_type": "execute_result"
    }
   ],
   "source": [
    "# GT 결과값 데이테프레임화\n",
    "for idx, gt in enumerate(gt_ls):\n",
    "    gt[['item', 'machine', 'time']] = pd.DataFrame(gt['(item, machine, time)'].tolist(), index=gt.index)\n",
    "    gt = gt.drop(columns='(item, machine, time)')\n",
    "    gt = gt[['item', 'machine', 'time', 'qty']].sort_values(['time', 'item', 'machine', 'qty'])\n",
    "    gt_ls[idx] = gt\n",
    "\n",
    "gt_ls[0]"
   ]
  },
  {
   "cell_type": "code",
   "execution_count": 110,
   "id": "a522808e",
   "metadata": {},
   "outputs": [],
   "source": [
    "# gt 전처리\n",
    "# for idx, gt in enumerate(gt_ls):\n",
    "#     gt['machine'] =   gt['machine'].apply(lambda x: str(int(x)).zfill(4))\n",
    "#     gt['item'] =  gt['item'].apply(change_item_name)\n",
    "#     gt['time'] =  gt['time'].apply(change_time_name)\n",
    "#     gt['machine'] = gt['machine'].apply(change_machine_name)\n",
    "#     gt_ls[idx] = gt\n",
    "\n",
    "# gt_ls[0]"
   ]
  },
  {
   "cell_type": "code",
   "execution_count": 111,
   "id": "0bd21cb7",
   "metadata": {},
   "outputs": [
    {
     "data": {
      "text/plain": [
       "\"• item15, right? 318? You can do it by May 13th, 2021, and the unit price is 25,870 won. Oh, and the inspection product.\\n• Oh, I just got the item16 drawing, and it says it's due on May 24th, 2021. I need to do 383 of them, and it costs 16,229 won, and it's an inspection item.\\n• There, I need to do 19 drawings for item96. It's until May 30th, 2021. It's 8,333 won. And nothing special.\\n• Hey, look quickly. item91 4 I have to do it by June 3rd, 2021. What should I do? The unit price is 36,533 won and there's nothing special about it.\\n• item87, right? Doing 196? You can do it until June 18th, 2021, and the unit price is 45,500 won. Oh, and the inspection product\""
      ]
     },
     "execution_count": 111,
     "metadata": {},
     "output_type": "execute_result"
    }
   ],
   "source": [
    "# order 정보 묶기\n",
    "def combine_order_nl(data):\n",
    "    combined_data = '\\n'.join(f'• {text}' for text in data['nl_order'])\n",
    "\n",
    "    return combined_data\n",
    "\n",
    "combine_order_nl(dataset_for_nl[0])"
   ]
  },
  {
   "cell_type": "code",
   "execution_count": 112,
   "id": "e101e701",
   "metadata": {},
   "outputs": [
    {
     "data": {
      "text/plain": [
       "\"• item15, right? 318? You can do it by May 13th, 2021, and the unit price is 25,870 won. Oh, and the inspection product.\\n• Oh, I just got the item16 drawing, and it says it's due on May 24th, 2021. I need to do 383 of them, and it costs 16,229 won, and it's an inspection item.\\n• There, I need to do 19 drawings for item96. It's until May 30th, 2021. It's 8,333 won. And nothing special.\\n• Hey, look quickly. item91 4 I have to do it by June 3rd, 2021. What should I do? The unit price is 36,533 won and there's nothing special about it.\\n• item87, right? Doing 196? You can do it until June 18th, 2021, and the unit price is 45,500 won. Oh, and the inspection product\""
      ]
     },
     "execution_count": 112,
     "metadata": {},
     "output_type": "execute_result"
    }
   ],
   "source": [
    "order_nl_for_dataset = [combine_order_nl(data) for data in dataset_for_nl]\n",
    "order_nl_for_dataset[0]"
   ]
  },
  {
   "cell_type": "code",
   "execution_count": 113,
   "id": "52f15460",
   "metadata": {},
   "outputs": [
    {
     "data": {
      "text/html": [
       "<div>\n",
       "<style scoped>\n",
       "    .dataframe tbody tr th:only-of-type {\n",
       "        vertical-align: middle;\n",
       "    }\n",
       "\n",
       "    .dataframe tbody tr th {\n",
       "        vertical-align: top;\n",
       "    }\n",
       "\n",
       "    .dataframe thead th {\n",
       "        text-align: right;\n",
       "    }\n",
       "</style>\n",
       "<table border=\"1\" class=\"dataframe\">\n",
       "  <thead>\n",
       "    <tr style=\"text-align: right;\">\n",
       "      <th></th>\n",
       "      <th>time</th>\n",
       "      <th>item</th>\n",
       "      <th>cost</th>\n",
       "      <th>urgent</th>\n",
       "      <th>qty</th>\n",
       "    </tr>\n",
       "  </thead>\n",
       "  <tbody>\n",
       "    <tr>\n",
       "      <th>0</th>\n",
       "      <td>date133</td>\n",
       "      <td>item15</td>\n",
       "      <td>25870</td>\n",
       "      <td>1</td>\n",
       "      <td>318</td>\n",
       "    </tr>\n",
       "    <tr>\n",
       "      <th>1</th>\n",
       "      <td>date144</td>\n",
       "      <td>item16</td>\n",
       "      <td>16229</td>\n",
       "      <td>1</td>\n",
       "      <td>383</td>\n",
       "    </tr>\n",
       "    <tr>\n",
       "      <th>2</th>\n",
       "      <td>date150</td>\n",
       "      <td>item96</td>\n",
       "      <td>8333</td>\n",
       "      <td>0</td>\n",
       "      <td>19</td>\n",
       "    </tr>\n",
       "    <tr>\n",
       "      <th>3</th>\n",
       "      <td>date154</td>\n",
       "      <td>item91</td>\n",
       "      <td>36533</td>\n",
       "      <td>0</td>\n",
       "      <td>4</td>\n",
       "    </tr>\n",
       "    <tr>\n",
       "      <th>4</th>\n",
       "      <td>date169</td>\n",
       "      <td>item87</td>\n",
       "      <td>45500</td>\n",
       "      <td>1</td>\n",
       "      <td>196</td>\n",
       "    </tr>\n",
       "  </tbody>\n",
       "</table>\n",
       "</div>"
      ],
      "text/plain": [
       "      time    item   cost  urgent  qty\n",
       "0  date133  item15  25870       1  318\n",
       "1  date144  item16  16229       1  383\n",
       "2  date150  item96   8333       0   19\n",
       "3  date154  item91  36533       0    4\n",
       "4  date169  item87  45500       1  196"
      ]
     },
     "execution_count": 113,
     "metadata": {},
     "output_type": "execute_result"
    }
   ],
   "source": [
    "dataset_for_order[0]"
   ]
  },
  {
   "cell_type": "code",
   "execution_count": 114,
   "id": "902e0cda",
   "metadata": {},
   "outputs": [
    {
     "data": {
      "text/html": [
       "<div>\n",
       "<style scoped>\n",
       "    .dataframe tbody tr th:only-of-type {\n",
       "        vertical-align: middle;\n",
       "    }\n",
       "\n",
       "    .dataframe tbody tr th {\n",
       "        vertical-align: top;\n",
       "    }\n",
       "\n",
       "    .dataframe thead th {\n",
       "        text-align: right;\n",
       "    }\n",
       "</style>\n",
       "<table border=\"1\" class=\"dataframe\">\n",
       "  <thead>\n",
       "    <tr style=\"text-align: right;\">\n",
       "      <th></th>\n",
       "      <th>time</th>\n",
       "      <th>item</th>\n",
       "      <th>cost</th>\n",
       "      <th>urgent</th>\n",
       "      <th>qty</th>\n",
       "      <th>machine</th>\n",
       "      <th>capacity</th>\n",
       "    </tr>\n",
       "  </thead>\n",
       "  <tbody>\n",
       "    <tr>\n",
       "      <th>0</th>\n",
       "      <td>date133</td>\n",
       "      <td>item15</td>\n",
       "      <td>25870</td>\n",
       "      <td>1</td>\n",
       "      <td>318</td>\n",
       "      <td>machine04</td>\n",
       "      <td>12.84</td>\n",
       "    </tr>\n",
       "    <tr>\n",
       "      <th>1</th>\n",
       "      <td>date133</td>\n",
       "      <td>item15</td>\n",
       "      <td>25870</td>\n",
       "      <td>1</td>\n",
       "      <td>318</td>\n",
       "      <td>machine05</td>\n",
       "      <td>10.42</td>\n",
       "    </tr>\n",
       "    <tr>\n",
       "      <th>2</th>\n",
       "      <td>date133</td>\n",
       "      <td>item15</td>\n",
       "      <td>25870</td>\n",
       "      <td>1</td>\n",
       "      <td>318</td>\n",
       "      <td>machine07</td>\n",
       "      <td>8.69</td>\n",
       "    </tr>\n",
       "    <tr>\n",
       "      <th>3</th>\n",
       "      <td>date133</td>\n",
       "      <td>item15</td>\n",
       "      <td>25870</td>\n",
       "      <td>1</td>\n",
       "      <td>318</td>\n",
       "      <td>machine08</td>\n",
       "      <td>9.12</td>\n",
       "    </tr>\n",
       "    <tr>\n",
       "      <th>4</th>\n",
       "      <td>date133</td>\n",
       "      <td>item15</td>\n",
       "      <td>25870</td>\n",
       "      <td>1</td>\n",
       "      <td>318</td>\n",
       "      <td>machine09</td>\n",
       "      <td>10.33</td>\n",
       "    </tr>\n",
       "    <tr>\n",
       "      <th>...</th>\n",
       "      <td>...</td>\n",
       "      <td>...</td>\n",
       "      <td>...</td>\n",
       "      <td>...</td>\n",
       "      <td>...</td>\n",
       "      <td>...</td>\n",
       "      <td>...</td>\n",
       "    </tr>\n",
       "    <tr>\n",
       "      <th>58</th>\n",
       "      <td>date169</td>\n",
       "      <td>item87</td>\n",
       "      <td>45500</td>\n",
       "      <td>1</td>\n",
       "      <td>196</td>\n",
       "      <td>machine19</td>\n",
       "      <td>10.00</td>\n",
       "    </tr>\n",
       "    <tr>\n",
       "      <th>59</th>\n",
       "      <td>date169</td>\n",
       "      <td>item87</td>\n",
       "      <td>45500</td>\n",
       "      <td>1</td>\n",
       "      <td>196</td>\n",
       "      <td>machine20</td>\n",
       "      <td>11.37</td>\n",
       "    </tr>\n",
       "    <tr>\n",
       "      <th>60</th>\n",
       "      <td>date169</td>\n",
       "      <td>item87</td>\n",
       "      <td>45500</td>\n",
       "      <td>1</td>\n",
       "      <td>196</td>\n",
       "      <td>machine21</td>\n",
       "      <td>7.85</td>\n",
       "    </tr>\n",
       "    <tr>\n",
       "      <th>61</th>\n",
       "      <td>date169</td>\n",
       "      <td>item87</td>\n",
       "      <td>45500</td>\n",
       "      <td>1</td>\n",
       "      <td>196</td>\n",
       "      <td>machine32</td>\n",
       "      <td>5.49</td>\n",
       "    </tr>\n",
       "    <tr>\n",
       "      <th>62</th>\n",
       "      <td>date169</td>\n",
       "      <td>item87</td>\n",
       "      <td>45500</td>\n",
       "      <td>1</td>\n",
       "      <td>196</td>\n",
       "      <td>machine33</td>\n",
       "      <td>6.90</td>\n",
       "    </tr>\n",
       "  </tbody>\n",
       "</table>\n",
       "<p>63 rows × 7 columns</p>\n",
       "</div>"
      ],
      "text/plain": [
       "       time    item   cost  urgent  qty    machine  capacity\n",
       "0   date133  item15  25870       1  318  machine04     12.84\n",
       "1   date133  item15  25870       1  318  machine05     10.42\n",
       "2   date133  item15  25870       1  318  machine07      8.69\n",
       "3   date133  item15  25870       1  318  machine08      9.12\n",
       "4   date133  item15  25870       1  318  machine09     10.33\n",
       "..      ...     ...    ...     ...  ...        ...       ...\n",
       "58  date169  item87  45500       1  196  machine19     10.00\n",
       "59  date169  item87  45500       1  196  machine20     11.37\n",
       "60  date169  item87  45500       1  196  machine21      7.85\n",
       "61  date169  item87  45500       1  196  machine32      5.49\n",
       "62  date169  item87  45500       1  196  machine33      6.90\n",
       "\n",
       "[63 rows x 7 columns]"
      ]
     },
     "execution_count": 114,
     "metadata": {},
     "output_type": "execute_result"
    }
   ],
   "source": [
    "dataset_for_ga[0]"
   ]
  },
  {
   "cell_type": "code",
   "execution_count": 115,
   "id": "b4ec2f0b",
   "metadata": {},
   "outputs": [
    {
     "data": {
      "text/plain": [
       "'• date133 item15 25870 1 318 machine04 12.84\\n• date133 item15 25870 1 318 machine05 10.42\\n• date133 item15 25870 1 318 machine07 8.69\\n• date133 item15 25870 1 318 machine08 9.12\\n• date133 item15 25870 1 318 machine09 10.33\\n• date133 item15 25870 1 318 machine10 8.99\\n• date133 item15 25870 1 318 machine12 12.32\\n• date133 item15 25870 1 318 machine14 11.23\\n• date133 item15 25870 1 318 machine20 4.0\\n• date133 item15 25870 1 318 machine21 9.87\\n• date133 item15 25870 1 318 machine23 11.77\\n• date133 item15 25870 1 318 machine28 9.54\\n• date133 item15 25870 1 318 machine29 13.05\\n• date133 item15 25870 1 318 machine30 9.0\\n• date133 item15 25870 1 318 machine31 9.0\\n• date133 item15 25870 1 318 machine33 4.4\\n• date133 item15 25870 1 318 machine34 12.47\\n• date133 item15 25870 1 318 machine35 9.4\\n• date144 item16 16229 1 383 machine07 4.85\\n• date144 item16 16229 1 383 machine08 3.83\\n• date144 item16 16229 1 383 machine09 5.37\\n• date144 item16 16229 1 383 machine10 3.09\\n• date144 item16 16229 1 383 machine14 2.73\\n• date144 item16 16229 1 383 machine21 3.94\\n• date144 item16 16229 1 383 machine22 5.47\\n• date144 item16 16229 1 383 machine23 6.25\\n• date144 item16 16229 1 383 machine28 3.37\\n• date144 item16 16229 1 383 machine29 3.86\\n• date144 item16 16229 1 383 machine30 3.8\\n• date144 item16 16229 1 383 machine31 4.53\\n• date144 item16 16229 1 383 machine35 3.85\\n• date150 item96 8333 0 19 machine08 4.89\\n• date150 item96 8333 0 19 machine09 5.92\\n• date150 item96 8333 0 19 machine10 4.91\\n• date150 item96 8333 0 19 machine12 3.5\\n• date150 item96 8333 0 19 machine14 1.03\\n• date150 item96 8333 0 19 machine21 4.6\\n• date150 item96 8333 0 19 machine22 4.54\\n• date150 item96 8333 0 19 machine23 3.83\\n• date150 item96 8333 0 19 machine28 4.64\\n• date150 item96 8333 0 19 machine29 7.12\\n• date150 item96 8333 0 19 machine30 1.32\\n• date150 item96 8333 0 19 machine34 3.0\\n• date150 item96 8333 0 19 machine35 1.83\\n• date154 item91 36533 0 4 machine08 4.42\\n• date154 item91 36533 0 4 machine09 4.03\\n• date154 item91 36533 0 4 machine10 5.32\\n• date154 item91 36533 0 4 machine14 4.0\\n• date154 item91 36533 0 4 machine21 4.8\\n• date154 item91 36533 0 4 machine28 4.33\\n• date154 item91 36533 0 4 machine29 5.32\\n• date154 item91 36533 0 4 machine34 5.25\\n• date154 item91 36533 0 4 machine35 4.5\\n• date169 item87 45500 1 196 machine01 5.88\\n• date169 item87 45500 1 196 machine03 6.5\\n• date169 item87 45500 1 196 machine05 11.64\\n• date169 item87 45500 1 196 machine17 12.0\\n• date169 item87 45500 1 196 machine18 11.82\\n• date169 item87 45500 1 196 machine19 10.0\\n• date169 item87 45500 1 196 machine20 11.37\\n• date169 item87 45500 1 196 machine21 7.85\\n• date169 item87 45500 1 196 machine32 5.49\\n• date169 item87 45500 1 196 machine33 6.9'"
      ]
     },
     "execution_count": 115,
     "metadata": {},
     "output_type": "execute_result"
    }
   ],
   "source": [
    "# order machine join 정보 묶기\n",
    "def combine_order_machine_join(data):\n",
    "    combined_data = list()\n",
    "    for _, row in data.iterrows():\n",
    "        combined_data.append(f\"• {row['time']} {row['item']} {row['cost']} {row['urgent']} {row['qty']} {row['machine']} {row['capacity']}\")\n",
    "\n",
    "    combined_data = \"\\n\".join(combined_data)\n",
    "        \n",
    "    return combined_data\n",
    "\n",
    "combine_order_machine_join(dataset_for_ga[0])"
   ]
  },
  {
   "cell_type": "code",
   "execution_count": 116,
   "id": "49532931",
   "metadata": {},
   "outputs": [
    {
     "name": "stdout",
     "output_type": "stream",
     "text": [
      "• date133 item15 25870 1 318 machine04 12.84\n",
      "• date133 item15 25870 1 318 machine05 10.42\n",
      "• date133 item15 25870 1 318 machine07 8.69\n",
      "• date133 item15 25870 1 318 machine08 9.12\n",
      "• date133 item15 25870 1 318 machine09 10.33\n",
      "• date133 item15 25870 1 318 machine10 8.99\n",
      "• date133 item15 25870 1 318 machine12 12.32\n",
      "• date133 item15 25870 1 318 machine14 11.23\n",
      "• date133 item15 25870 1 318 machine20 4.0\n",
      "• date133 item15 25870 1 318 machine21 9.87\n",
      "• date133 item15 25870 1 318 machine23 11.77\n",
      "• date133 item15 25870 1 318 machine28 9.54\n",
      "• date133 item15 25870 1 318 machine29 13.05\n",
      "• date133 item15 25870 1 318 machine30 9.0\n",
      "• date133 item15 25870 1 318 machine31 9.0\n",
      "• date133 item15 25870 1 318 machine33 4.4\n",
      "• date133 item15 25870 1 318 machine34 12.47\n",
      "• date133 item15 25870 1 318 machine35 9.4\n",
      "• date144 item16 16229 1 383 machine07 4.85\n",
      "• date144 item16 16229 1 383 machine08 3.83\n",
      "• date144 item16 16229 1 383 machine09 5.37\n",
      "• date144 item16 16229 1 383 machine10 3.09\n",
      "• date144 item16 16229 1 383 machine14 2.73\n",
      "• date144 item16 16229 1 383 machine21 3.94\n",
      "• date144 item16 16229 1 383 machine22 5.47\n",
      "• date144 item16 16229 1 383 machine23 6.25\n",
      "• date144 item16 16229 1 383 machine28 3.37\n",
      "• date144 item16 16229 1 383 machine29 3.86\n",
      "• date144 item16 16229 1 383 machine30 3.8\n",
      "• date144 item16 16229 1 383 machine31 4.53\n",
      "• date144 item16 16229 1 383 machine35 3.85\n",
      "• date150 item96 8333 0 19 machine08 4.89\n",
      "• date150 item96 8333 0 19 machine09 5.92\n",
      "• date150 item96 8333 0 19 machine10 4.91\n",
      "• date150 item96 8333 0 19 machine12 3.5\n",
      "• date150 item96 8333 0 19 machine14 1.03\n",
      "• date150 item96 8333 0 19 machine21 4.6\n",
      "• date150 item96 8333 0 19 machine22 4.54\n",
      "• date150 item96 8333 0 19 machine23 3.83\n",
      "• date150 item96 8333 0 19 machine28 4.64\n",
      "• date150 item96 8333 0 19 machine29 7.12\n",
      "• date150 item96 8333 0 19 machine30 1.32\n",
      "• date150 item96 8333 0 19 machine34 3.0\n",
      "• date150 item96 8333 0 19 machine35 1.83\n",
      "• date154 item91 36533 0 4 machine08 4.42\n",
      "• date154 item91 36533 0 4 machine09 4.03\n",
      "• date154 item91 36533 0 4 machine10 5.32\n",
      "• date154 item91 36533 0 4 machine14 4.0\n",
      "• date154 item91 36533 0 4 machine21 4.8\n",
      "• date154 item91 36533 0 4 machine28 4.33\n",
      "• date154 item91 36533 0 4 machine29 5.32\n",
      "• date154 item91 36533 0 4 machine34 5.25\n",
      "• date154 item91 36533 0 4 machine35 4.5\n",
      "• date169 item87 45500 1 196 machine01 5.88\n",
      "• date169 item87 45500 1 196 machine03 6.5\n",
      "• date169 item87 45500 1 196 machine05 11.64\n",
      "• date169 item87 45500 1 196 machine17 12.0\n",
      "• date169 item87 45500 1 196 machine18 11.82\n",
      "• date169 item87 45500 1 196 machine19 10.0\n",
      "• date169 item87 45500 1 196 machine20 11.37\n",
      "• date169 item87 45500 1 196 machine21 7.85\n",
      "• date169 item87 45500 1 196 machine32 5.49\n",
      "• date169 item87 45500 1 196 machine33 6.9\n"
     ]
    }
   ],
   "source": [
    "order_machine_join = [combine_order_machine_join(data) for data in dataset_for_ga]\n",
    "print(order_machine_join[0])"
   ]
  },
  {
   "cell_type": "code",
   "execution_count": 117,
   "id": "a18b435a",
   "metadata": {},
   "outputs": [
    {
     "name": "stdout",
     "output_type": "stream",
     "text": [
      "• date133 item15 25870 1 318\n",
      "• date144 item16 16229 1 383\n",
      "• date150 item96 8333 0 19\n",
      "• date154 item91 36533 0 4\n",
      "• date169 item87 45500 1 196\n"
     ]
    }
   ],
   "source": [
    "def combine_order(data):\n",
    "    combined_data = list()\n",
    "    for _, row in data.iterrows():\n",
    "        combined_data.append(f\"• {row['time']} {row['item']} {row['cost']} {row['urgent']} {row['qty']}\")\n",
    "\n",
    "    combined_data = \"\\n\".join(combined_data)\n",
    "        \n",
    "    return combined_data\n",
    "\n",
    "print(combine_order(dataset_for_order[0]))"
   ]
  },
  {
   "cell_type": "code",
   "execution_count": 118,
   "id": "acc37d40",
   "metadata": {},
   "outputs": [
    {
     "data": {
      "text/plain": [
       "'• date133 item15 25870 1 318\\n• date133 item15 25870 1 318\\n• date133 item15 25870 1 318\\n• date133 item15 25870 1 318\\n• date133 item15 25870 1 318\\n• date133 item15 25870 1 318\\n• date133 item15 25870 1 318\\n• date133 item15 25870 1 318\\n• date133 item15 25870 1 318\\n• date133 item15 25870 1 318\\n• date133 item15 25870 1 318\\n• date133 item15 25870 1 318\\n• date133 item15 25870 1 318\\n• date133 item15 25870 1 318\\n• date133 item15 25870 1 318\\n• date133 item15 25870 1 318\\n• date133 item15 25870 1 318\\n• date133 item15 25870 1 318\\n• date144 item16 16229 1 383\\n• date144 item16 16229 1 383\\n• date144 item16 16229 1 383\\n• date144 item16 16229 1 383\\n• date144 item16 16229 1 383\\n• date144 item16 16229 1 383\\n• date144 item16 16229 1 383\\n• date144 item16 16229 1 383\\n• date144 item16 16229 1 383\\n• date144 item16 16229 1 383\\n• date144 item16 16229 1 383\\n• date144 item16 16229 1 383\\n• date144 item16 16229 1 383\\n• date150 item96 8333 0 19\\n• date150 item96 8333 0 19\\n• date150 item96 8333 0 19\\n• date150 item96 8333 0 19\\n• date150 item96 8333 0 19\\n• date150 item96 8333 0 19\\n• date150 item96 8333 0 19\\n• date150 item96 8333 0 19\\n• date150 item96 8333 0 19\\n• date150 item96 8333 0 19\\n• date150 item96 8333 0 19\\n• date150 item96 8333 0 19\\n• date150 item96 8333 0 19\\n• date154 item91 36533 0 4\\n• date154 item91 36533 0 4\\n• date154 item91 36533 0 4\\n• date154 item91 36533 0 4\\n• date154 item91 36533 0 4\\n• date154 item91 36533 0 4\\n• date154 item91 36533 0 4\\n• date154 item91 36533 0 4\\n• date154 item91 36533 0 4\\n• date169 item87 45500 1 196\\n• date169 item87 45500 1 196\\n• date169 item87 45500 1 196\\n• date169 item87 45500 1 196\\n• date169 item87 45500 1 196\\n• date169 item87 45500 1 196\\n• date169 item87 45500 1 196\\n• date169 item87 45500 1 196\\n• date169 item87 45500 1 196\\n• date169 item87 45500 1 196'"
      ]
     },
     "execution_count": 118,
     "metadata": {},
     "output_type": "execute_result"
    }
   ],
   "source": [
    "order_for_dataset = [combine_order(data) for data in dataset_for_ga]\n",
    "order_for_dataset[0]"
   ]
  },
  {
   "cell_type": "code",
   "execution_count": 119,
   "id": "dd69b154",
   "metadata": {},
   "outputs": [
    {
     "name": "stdout",
     "output_type": "stream",
     "text": [
      "• item15 machine14 11.23\n",
      "• item16 machine09 5.37\n",
      "• item16 machine29 3.86\n",
      "• item16 machine23 6.25\n",
      "• item96 machine29 7.12\n",
      "• item87 machine17 12.0\n",
      "• item15 machine12 12.32\n",
      "• item16 machine31 4.53\n",
      "• item96 machine09 5.92\n",
      "• item16 machine30 3.8\n",
      "• item91 machine28 4.33\n",
      "• item96 machine08 4.89\n",
      "• item15 machine21 9.87\n",
      "• item96 machine21 4.6\n",
      "• item16 machine07 4.85\n",
      "• item87 machine33 6.9\n",
      "• item87 machine19 10.0\n",
      "• item15 machine30 9.0\n",
      "• item96 machine22 4.54\n",
      "• item91 machine10 5.32\n",
      "• item15 machine35 9.4\n",
      "• item15 machine09 10.33\n",
      "• item15 machine10 8.99\n",
      "• item96 machine14 1.03\n",
      "• item91 machine29 5.32\n",
      "• item87 machine03 6.5\n",
      "• item91 machine09 4.03\n",
      "• item15 machine28 9.54\n",
      "• item91 machine34 5.25\n",
      "• item15 machine07 8.69\n",
      "• item91 machine21 4.8\n",
      "• item96 machine35 1.83\n",
      "• item15 machine05 10.42\n",
      "• item15 machine33 4.4\n",
      "• item16 machine14 2.73\n",
      "• item16 machine10 3.09\n",
      "• item16 machine08 3.83\n",
      "• item96 machine12 3.5\n",
      "• item91 machine35 4.5\n",
      "• item91 machine14 4.0\n",
      "• item15 machine29 13.05\n",
      "• item15 machine08 9.12\n",
      "• item96 machine34 3.0\n",
      "• item96 machine23 3.83\n",
      "• item87 machine32 5.49\n",
      "• item96 machine30 1.32\n",
      "• item16 machine21 3.94\n",
      "• item87 machine01 5.88\n",
      "• item96 machine28 4.64\n",
      "• item91 machine08 4.42\n",
      "• item87 machine05 11.64\n",
      "• item15 machine04 12.84\n",
      "• item15 machine34 12.47\n",
      "• item87 machine18 11.82\n",
      "• item87 machine21 7.85\n",
      "• item16 machine22 5.47\n",
      "• item16 machine28 3.37\n",
      "• item15 machine31 9.0\n",
      "• item96 machine10 4.91\n",
      "• item15 machine20 4.0\n",
      "• item15 machine23 11.77\n",
      "• item16 machine35 3.85\n",
      "• item87 machine20 11.37\n"
     ]
    }
   ],
   "source": [
    "def combine_machine(data):\n",
    "    combined_data = list()\n",
    "    for _, row in data.iterrows():\n",
    "        combined_data.append(f\"• {row['item']} {row['machine']} {row['capacity']}\")\n",
    "\n",
    "    combined_data = list(set(combined_data))\n",
    "    combined_data = \"\\n\".join(combined_data)\n",
    "        \n",
    "    return combined_data\n",
    "\n",
    "print(combine_machine(dataset_for_ga[0]))"
   ]
  },
  {
   "cell_type": "code",
   "execution_count": 120,
   "id": "a8595e43",
   "metadata": {},
   "outputs": [
    {
     "data": {
      "text/plain": [
       "'• item15 machine14 11.23\\n• item16 machine09 5.37\\n• item16 machine29 3.86\\n• item16 machine23 6.25\\n• item96 machine29 7.12\\n• item87 machine17 12.0\\n• item15 machine12 12.32\\n• item16 machine31 4.53\\n• item96 machine09 5.92\\n• item16 machine30 3.8\\n• item91 machine28 4.33\\n• item96 machine08 4.89\\n• item15 machine21 9.87\\n• item96 machine21 4.6\\n• item16 machine07 4.85\\n• item87 machine33 6.9\\n• item87 machine19 10.0\\n• item15 machine30 9.0\\n• item96 machine22 4.54\\n• item91 machine10 5.32\\n• item15 machine35 9.4\\n• item15 machine09 10.33\\n• item15 machine10 8.99\\n• item96 machine14 1.03\\n• item91 machine29 5.32\\n• item87 machine03 6.5\\n• item91 machine09 4.03\\n• item15 machine28 9.54\\n• item91 machine34 5.25\\n• item15 machine07 8.69\\n• item91 machine21 4.8\\n• item96 machine35 1.83\\n• item15 machine05 10.42\\n• item15 machine33 4.4\\n• item16 machine14 2.73\\n• item16 machine10 3.09\\n• item16 machine08 3.83\\n• item96 machine12 3.5\\n• item91 machine35 4.5\\n• item91 machine14 4.0\\n• item15 machine29 13.05\\n• item15 machine08 9.12\\n• item96 machine34 3.0\\n• item96 machine23 3.83\\n• item87 machine32 5.49\\n• item96 machine30 1.32\\n• item16 machine21 3.94\\n• item87 machine01 5.88\\n• item96 machine28 4.64\\n• item91 machine08 4.42\\n• item87 machine05 11.64\\n• item15 machine04 12.84\\n• item15 machine34 12.47\\n• item87 machine18 11.82\\n• item87 machine21 7.85\\n• item16 machine22 5.47\\n• item16 machine28 3.37\\n• item15 machine31 9.0\\n• item96 machine10 4.91\\n• item15 machine20 4.0\\n• item15 machine23 11.77\\n• item16 machine35 3.85\\n• item87 machine20 11.37'"
      ]
     },
     "execution_count": 120,
     "metadata": {},
     "output_type": "execute_result"
    }
   ],
   "source": [
    "machine_for_dataset = [combine_machine(data) for data in dataset_for_ga]\n",
    "machine_for_dataset[0]"
   ]
  },
  {
   "cell_type": "code",
   "execution_count": 121,
   "id": "1f6f4ed4",
   "metadata": {},
   "outputs": [
    {
     "name": "stdout",
     "output_type": "stream",
     "text": [
      "• item15 machine04 date133 35\n",
      "• item15 machine07 date133 47\n",
      "• item15 machine10 date133 45\n",
      "• item15 machine14 date133 17\n",
      "• item15 machine30 date133 9\n",
      "• item15 machine33 date133 131\n",
      "• item16 machine10 date144 113\n",
      "• item16 machine14 date144 196\n",
      "• item16 machine21 date144 18\n",
      "• item16 machine28 date144 39\n",
      "• item96 machine08 date150 9\n",
      "• item96 machine09 date150 4\n",
      "• item96 machine10 date150 1\n",
      "• item96 machine12 date150 8\n",
      "• item96 machine14 date150 11\n",
      "• item96 machine21 date150 8\n",
      "• item96 machine22 date150 18\n",
      "• item96 machine23 date150 5\n",
      "• item96 machine28 date150 5\n",
      "• item96 machine29 date150 5\n",
      "• item96 machine30 date150 11\n",
      "• item96 machine34 date150 7\n",
      "• item96 machine35 date150 4\n",
      "• item91 machine08 date154 2\n",
      "• item91 machine10 date154 1\n",
      "• item91 machine14 date154 1\n",
      "• item91 machine28 date154 3\n",
      "• item91 machine29 date154 2\n",
      "• item91 machine34 date154 4\n",
      "• item91 machine35 date154 1\n",
      "• item87 machine03 date169 83\n",
      "• item87 machine21 date169 16\n",
      "• item87 machine32 date169 54\n",
      "• item87 machine33 date169 29\n"
     ]
    }
   ],
   "source": [
    "# gt 정보 텍스트화\n",
    "def combine_gt(data):\n",
    "    combined_data = list()\n",
    "    for _, row in data.iterrows():\n",
    "        combined_data.append(f\"• {row['item']} {row['machine']} {row['time']} {row['qty']}\")\n",
    "\n",
    "    combined_data = \"\\n\".join(combined_data)\n",
    "        \n",
    "    return combined_data\n",
    "\n",
    "print(combine_gt(gt_ls[0]))"
   ]
  },
  {
   "cell_type": "code",
   "execution_count": 122,
   "id": "bc038455",
   "metadata": {},
   "outputs": [
    {
     "data": {
      "text/plain": [
       "'• item15 machine04 date133 35\\n• item15 machine07 date133 47\\n• item15 machine10 date133 45\\n• item15 machine14 date133 17\\n• item15 machine30 date133 9\\n• item15 machine33 date133 131\\n• item16 machine10 date144 113\\n• item16 machine14 date144 196\\n• item16 machine21 date144 18\\n• item16 machine28 date144 39\\n• item96 machine08 date150 9\\n• item96 machine09 date150 4\\n• item96 machine10 date150 1\\n• item96 machine12 date150 8\\n• item96 machine14 date150 11\\n• item96 machine21 date150 8\\n• item96 machine22 date150 18\\n• item96 machine23 date150 5\\n• item96 machine28 date150 5\\n• item96 machine29 date150 5\\n• item96 machine30 date150 11\\n• item96 machine34 date150 7\\n• item96 machine35 date150 4\\n• item91 machine08 date154 2\\n• item91 machine10 date154 1\\n• item91 machine14 date154 1\\n• item91 machine28 date154 3\\n• item91 machine29 date154 2\\n• item91 machine34 date154 4\\n• item91 machine35 date154 1\\n• item87 machine03 date169 83\\n• item87 machine21 date169 16\\n• item87 machine32 date169 54\\n• item87 machine33 date169 29'"
      ]
     },
     "execution_count": 122,
     "metadata": {},
     "output_type": "execute_result"
    }
   ],
   "source": [
    "gt_for_dataset = [combine_gt(data) for data in gt_ls]\n",
    "gt_for_dataset[0]"
   ]
  },
  {
   "cell_type": "code",
   "execution_count": 123,
   "id": "e2c2927a",
   "metadata": {},
   "outputs": [
    {
     "data": {
      "text/html": [
       "<div>\n",
       "<style scoped>\n",
       "    .dataframe tbody tr th:only-of-type {\n",
       "        vertical-align: middle;\n",
       "    }\n",
       "\n",
       "    .dataframe tbody tr th {\n",
       "        vertical-align: top;\n",
       "    }\n",
       "\n",
       "    .dataframe thead th {\n",
       "        text-align: right;\n",
       "    }\n",
       "</style>\n",
       "<table border=\"1\" class=\"dataframe\">\n",
       "  <thead>\n",
       "    <tr style=\"text-align: right;\">\n",
       "      <th></th>\n",
       "      <th>order</th>\n",
       "      <th>nl</th>\n",
       "      <th>machine</th>\n",
       "      <th>gt</th>\n",
       "      <th>objective</th>\n",
       "    </tr>\n",
       "  </thead>\n",
       "  <tbody>\n",
       "  </tbody>\n",
       "</table>\n",
       "</div>"
      ],
      "text/plain": [
       "Empty DataFrame\n",
       "Columns: [order, nl, machine, gt, objective]\n",
       "Index: []"
      ]
     },
     "execution_count": 123,
     "metadata": {},
     "output_type": "execute_result"
    }
   ],
   "source": [
    "dataset = pd.DataFrame(columns=['order', 'nl', 'machine', 'gt', 'objective'])\n",
    "dataset"
   ]
  },
  {
   "cell_type": "code",
   "execution_count": 124,
   "id": "2a575a1d",
   "metadata": {},
   "outputs": [
    {
     "data": {
      "text/html": [
       "<div>\n",
       "<style scoped>\n",
       "    .dataframe tbody tr th:only-of-type {\n",
       "        vertical-align: middle;\n",
       "    }\n",
       "\n",
       "    .dataframe tbody tr th {\n",
       "        vertical-align: top;\n",
       "    }\n",
       "\n",
       "    .dataframe thead th {\n",
       "        text-align: right;\n",
       "    }\n",
       "</style>\n",
       "<table border=\"1\" class=\"dataframe\">\n",
       "  <thead>\n",
       "    <tr style=\"text-align: right;\">\n",
       "      <th></th>\n",
       "      <th>order</th>\n",
       "      <th>nl</th>\n",
       "      <th>machine</th>\n",
       "      <th>gt</th>\n",
       "      <th>objective</th>\n",
       "    </tr>\n",
       "  </thead>\n",
       "  <tbody>\n",
       "    <tr>\n",
       "      <th>0</th>\n",
       "      <td>• date133 item15 25870 1 318\\n• date133 item15...</td>\n",
       "      <td>• item15, right? 318? You can do it by May 13t...</td>\n",
       "      <td>• item15 machine14 11.23\\n• item16 machine09 5...</td>\n",
       "      <td>• item15 machine04 date133 35\\n• item15 machin...</td>\n",
       "      <td>1792473</td>\n",
       "    </tr>\n",
       "    <tr>\n",
       "      <th>1</th>\n",
       "      <td>• date144 item16 16229 1 383\\n• date144 item16...</td>\n",
       "      <td>• Oh, I just got the item16 drawing, and it sa...</td>\n",
       "      <td>• item16 machine09 5.37\\n• item20 machine14 8....</td>\n",
       "      <td>• item16 machine07 date144 1\\n• item16 machine...</td>\n",
       "      <td>1532972</td>\n",
       "    </tr>\n",
       "    <tr>\n",
       "      <th>2</th>\n",
       "      <td>• date041 item05 2990 0 500\\n• date150 item96 ...</td>\n",
       "      <td>• There, I need to do 19 drawings for item96. ...</td>\n",
       "      <td>• item20 machine14 8.65\\n• item96 machine29 7....</td>\n",
       "      <td>• item05 machine10 date041 102\\n• item96 machi...</td>\n",
       "      <td>1865500</td>\n",
       "    </tr>\n",
       "    <tr>\n",
       "      <th>3</th>\n",
       "      <td>• date041 item05 2990 0 500\\n• date049 item95 ...</td>\n",
       "      <td>• Hey, look quickly. item91 4 I have to do it ...</td>\n",
       "      <td>• item20 machine14 8.65\\n• item95 machine19 20...</td>\n",
       "      <td>• item95 machine19 date049 2\\n• item91 machine...</td>\n",
       "      <td>1231564</td>\n",
       "    </tr>\n",
       "    <tr>\n",
       "      <th>4</th>\n",
       "      <td>• date041 item05 2990 0 500\\n• date049 item95 ...</td>\n",
       "      <td>• item87, right? Doing 196? You can do it unti...</td>\n",
       "      <td>• item20 machine14 8.65\\n• item95 machine19 20...</td>\n",
       "      <td>• item05 machine10 date041 36\\n• item05 machin...</td>\n",
       "      <td>1037423</td>\n",
       "    </tr>\n",
       "  </tbody>\n",
       "</table>\n",
       "</div>"
      ],
      "text/plain": [
       "                                               order  \\\n",
       "0  • date133 item15 25870 1 318\\n• date133 item15...   \n",
       "1  • date144 item16 16229 1 383\\n• date144 item16...   \n",
       "2  • date041 item05 2990 0 500\\n• date150 item96 ...   \n",
       "3  • date041 item05 2990 0 500\\n• date049 item95 ...   \n",
       "4  • date041 item05 2990 0 500\\n• date049 item95 ...   \n",
       "\n",
       "                                                  nl  \\\n",
       "0  • item15, right? 318? You can do it by May 13t...   \n",
       "1  • Oh, I just got the item16 drawing, and it sa...   \n",
       "2  • There, I need to do 19 drawings for item96. ...   \n",
       "3  • Hey, look quickly. item91 4 I have to do it ...   \n",
       "4  • item87, right? Doing 196? You can do it unti...   \n",
       "\n",
       "                                             machine  \\\n",
       "0  • item15 machine14 11.23\\n• item16 machine09 5...   \n",
       "1  • item16 machine09 5.37\\n• item20 machine14 8....   \n",
       "2  • item20 machine14 8.65\\n• item96 machine29 7....   \n",
       "3  • item20 machine14 8.65\\n• item95 machine19 20...   \n",
       "4  • item20 machine14 8.65\\n• item95 machine19 20...   \n",
       "\n",
       "                                                  gt  objective  \n",
       "0  • item15 machine04 date133 35\\n• item15 machin...    1792473  \n",
       "1  • item16 machine07 date144 1\\n• item16 machine...    1532972  \n",
       "2  • item05 machine10 date041 102\\n• item96 machi...    1865500  \n",
       "3  • item95 machine19 date049 2\\n• item91 machine...    1231564  \n",
       "4  • item05 machine10 date041 36\\n• item05 machin...    1037423  "
      ]
     },
     "execution_count": 124,
     "metadata": {},
     "output_type": "execute_result"
    }
   ],
   "source": [
    "dataset['order'] = order_for_dataset\n",
    "dataset['nl'] = order_nl_for_dataset\n",
    "dataset['machine'] = machine_for_dataset\n",
    "dataset['gt'] = gt_for_dataset\n",
    "dataset['objective'] = score_ls\n",
    "dataset.head()"
   ]
  },
  {
   "cell_type": "code",
   "execution_count": 125,
   "id": "b0bec50d",
   "metadata": {},
   "outputs": [
    {
     "data": {
      "text/html": [
       "<div>\n",
       "<style scoped>\n",
       "    .dataframe tbody tr th:only-of-type {\n",
       "        vertical-align: middle;\n",
       "    }\n",
       "\n",
       "    .dataframe tbody tr th {\n",
       "        vertical-align: top;\n",
       "    }\n",
       "\n",
       "    .dataframe thead th {\n",
       "        text-align: right;\n",
       "    }\n",
       "</style>\n",
       "<table border=\"1\" class=\"dataframe\">\n",
       "  <thead>\n",
       "    <tr style=\"text-align: right;\">\n",
       "      <th></th>\n",
       "      <th>order</th>\n",
       "      <th>nl</th>\n",
       "      <th>machine</th>\n",
       "      <th>gt</th>\n",
       "      <th>objective</th>\n",
       "      <th>nl_machine</th>\n",
       "      <th>nl_machine_gt</th>\n",
       "      <th>order_machine</th>\n",
       "      <th>order_machine_gt</th>\n",
       "      <th>order_machine_join</th>\n",
       "      <th>order_machine_join_gt</th>\n",
       "    </tr>\n",
       "  </thead>\n",
       "  <tbody>\n",
       "    <tr>\n",
       "      <th>0</th>\n",
       "      <td>• date133 item15 25870 1 318\\n• date133 item15...</td>\n",
       "      <td>• item15, right? 318? You can do it by May 13t...</td>\n",
       "      <td>• item15 machine14 11.23\\n• item16 machine09 5...</td>\n",
       "      <td>• item15 machine04 date133 35\\n• item15 machin...</td>\n",
       "      <td>1792473</td>\n",
       "      <td>Order information\\n• item15, right? 318? You c...</td>\n",
       "      <td>Order information\\n• item15, right? 318? You c...</td>\n",
       "      <td>Order information\\n• date133 item15 25870 1 31...</td>\n",
       "      <td>Order information\\n• date133 item15 25870 1 31...</td>\n",
       "      <td>• date133 item15 25870 1 318 machine04 12.84\\n...</td>\n",
       "      <td>Order and machine information\\n• date133 item1...</td>\n",
       "    </tr>\n",
       "    <tr>\n",
       "      <th>1</th>\n",
       "      <td>• date144 item16 16229 1 383\\n• date144 item16...</td>\n",
       "      <td>• Oh, I just got the item16 drawing, and it sa...</td>\n",
       "      <td>• item16 machine09 5.37\\n• item20 machine14 8....</td>\n",
       "      <td>• item16 machine07 date144 1\\n• item16 machine...</td>\n",
       "      <td>1532972</td>\n",
       "      <td>Order information\\n• Oh, I just got the item16...</td>\n",
       "      <td>Order information\\n• Oh, I just got the item16...</td>\n",
       "      <td>Order information\\n• date144 item16 16229 1 38...</td>\n",
       "      <td>Order information\\n• date144 item16 16229 1 38...</td>\n",
       "      <td>• date144 item16 16229 1 383 machine07 4.85\\n•...</td>\n",
       "      <td>Order and machine information\\n• date144 item1...</td>\n",
       "    </tr>\n",
       "    <tr>\n",
       "      <th>2</th>\n",
       "      <td>• date041 item05 2990 0 500\\n• date150 item96 ...</td>\n",
       "      <td>• There, I need to do 19 drawings for item96. ...</td>\n",
       "      <td>• item20 machine14 8.65\\n• item96 machine29 7....</td>\n",
       "      <td>• item05 machine10 date041 102\\n• item96 machi...</td>\n",
       "      <td>1865500</td>\n",
       "      <td>Order information\\n• There, I need to do 19 dr...</td>\n",
       "      <td>Order information\\n• There, I need to do 19 dr...</td>\n",
       "      <td>Order information\\n• date041 item05 2990 0 500...</td>\n",
       "      <td>Order information\\n• date041 item05 2990 0 500...</td>\n",
       "      <td>• date041 item05 2990 0 500 machine10 4.6\\n• d...</td>\n",
       "      <td>Order and machine information\\n• date041 item0...</td>\n",
       "    </tr>\n",
       "    <tr>\n",
       "      <th>3</th>\n",
       "      <td>• date041 item05 2990 0 500\\n• date049 item95 ...</td>\n",
       "      <td>• Hey, look quickly. item91 4 I have to do it ...</td>\n",
       "      <td>• item20 machine14 8.65\\n• item95 machine19 20...</td>\n",
       "      <td>• item95 machine19 date049 2\\n• item91 machine...</td>\n",
       "      <td>1231564</td>\n",
       "      <td>Order information\\n• Hey, look quickly. item91...</td>\n",
       "      <td>Order information\\n• Hey, look quickly. item91...</td>\n",
       "      <td>Order information\\n• date041 item05 2990 0 500...</td>\n",
       "      <td>Order information\\n• date041 item05 2990 0 500...</td>\n",
       "      <td>• date041 item05 2990 0 500 machine10 4.6\\n• d...</td>\n",
       "      <td>Order and machine information\\n• date041 item0...</td>\n",
       "    </tr>\n",
       "    <tr>\n",
       "      <th>4</th>\n",
       "      <td>• date041 item05 2990 0 500\\n• date049 item95 ...</td>\n",
       "      <td>• item87, right? Doing 196? You can do it unti...</td>\n",
       "      <td>• item20 machine14 8.65\\n• item95 machine19 20...</td>\n",
       "      <td>• item05 machine10 date041 36\\n• item05 machin...</td>\n",
       "      <td>1037423</td>\n",
       "      <td>Order information\\n• item87, right? Doing 196?...</td>\n",
       "      <td>Order information\\n• item87, right? Doing 196?...</td>\n",
       "      <td>Order information\\n• date041 item05 2990 0 500...</td>\n",
       "      <td>Order information\\n• date041 item05 2990 0 500...</td>\n",
       "      <td>• date041 item05 2990 0 500 machine10 4.6\\n• d...</td>\n",
       "      <td>Order and machine information\\n• date041 item0...</td>\n",
       "    </tr>\n",
       "  </tbody>\n",
       "</table>\n",
       "</div>"
      ],
      "text/plain": [
       "                                               order  \\\n",
       "0  • date133 item15 25870 1 318\\n• date133 item15...   \n",
       "1  • date144 item16 16229 1 383\\n• date144 item16...   \n",
       "2  • date041 item05 2990 0 500\\n• date150 item96 ...   \n",
       "3  • date041 item05 2990 0 500\\n• date049 item95 ...   \n",
       "4  • date041 item05 2990 0 500\\n• date049 item95 ...   \n",
       "\n",
       "                                                  nl  \\\n",
       "0  • item15, right? 318? You can do it by May 13t...   \n",
       "1  • Oh, I just got the item16 drawing, and it sa...   \n",
       "2  • There, I need to do 19 drawings for item96. ...   \n",
       "3  • Hey, look quickly. item91 4 I have to do it ...   \n",
       "4  • item87, right? Doing 196? You can do it unti...   \n",
       "\n",
       "                                             machine  \\\n",
       "0  • item15 machine14 11.23\\n• item16 machine09 5...   \n",
       "1  • item16 machine09 5.37\\n• item20 machine14 8....   \n",
       "2  • item20 machine14 8.65\\n• item96 machine29 7....   \n",
       "3  • item20 machine14 8.65\\n• item95 machine19 20...   \n",
       "4  • item20 machine14 8.65\\n• item95 machine19 20...   \n",
       "\n",
       "                                                  gt  objective  \\\n",
       "0  • item15 machine04 date133 35\\n• item15 machin...    1792473   \n",
       "1  • item16 machine07 date144 1\\n• item16 machine...    1532972   \n",
       "2  • item05 machine10 date041 102\\n• item96 machi...    1865500   \n",
       "3  • item95 machine19 date049 2\\n• item91 machine...    1231564   \n",
       "4  • item05 machine10 date041 36\\n• item05 machin...    1037423   \n",
       "\n",
       "                                          nl_machine  \\\n",
       "0  Order information\\n• item15, right? 318? You c...   \n",
       "1  Order information\\n• Oh, I just got the item16...   \n",
       "2  Order information\\n• There, I need to do 19 dr...   \n",
       "3  Order information\\n• Hey, look quickly. item91...   \n",
       "4  Order information\\n• item87, right? Doing 196?...   \n",
       "\n",
       "                                       nl_machine_gt  \\\n",
       "0  Order information\\n• item15, right? 318? You c...   \n",
       "1  Order information\\n• Oh, I just got the item16...   \n",
       "2  Order information\\n• There, I need to do 19 dr...   \n",
       "3  Order information\\n• Hey, look quickly. item91...   \n",
       "4  Order information\\n• item87, right? Doing 196?...   \n",
       "\n",
       "                                       order_machine  \\\n",
       "0  Order information\\n• date133 item15 25870 1 31...   \n",
       "1  Order information\\n• date144 item16 16229 1 38...   \n",
       "2  Order information\\n• date041 item05 2990 0 500...   \n",
       "3  Order information\\n• date041 item05 2990 0 500...   \n",
       "4  Order information\\n• date041 item05 2990 0 500...   \n",
       "\n",
       "                                    order_machine_gt  \\\n",
       "0  Order information\\n• date133 item15 25870 1 31...   \n",
       "1  Order information\\n• date144 item16 16229 1 38...   \n",
       "2  Order information\\n• date041 item05 2990 0 500...   \n",
       "3  Order information\\n• date041 item05 2990 0 500...   \n",
       "4  Order information\\n• date041 item05 2990 0 500...   \n",
       "\n",
       "                                  order_machine_join  \\\n",
       "0  • date133 item15 25870 1 318 machine04 12.84\\n...   \n",
       "1  • date144 item16 16229 1 383 machine07 4.85\\n•...   \n",
       "2  • date041 item05 2990 0 500 machine10 4.6\\n• d...   \n",
       "3  • date041 item05 2990 0 500 machine10 4.6\\n• d...   \n",
       "4  • date041 item05 2990 0 500 machine10 4.6\\n• d...   \n",
       "\n",
       "                               order_machine_join_gt  \n",
       "0  Order and machine information\\n• date133 item1...  \n",
       "1  Order and machine information\\n• date144 item1...  \n",
       "2  Order and machine information\\n• date041 item0...  \n",
       "3  Order and machine information\\n• date041 item0...  \n",
       "4  Order and machine information\\n• date041 item0...  "
      ]
     },
     "execution_count": 125,
     "metadata": {},
     "output_type": "execute_result"
    }
   ],
   "source": [
    "dataset['nl_machine'] = (\n",
    "    \"Order information\\n\" + dataset['nl'] + \"\\n\\n\" +\n",
    "    \"Machine information\\n\" + dataset['machine']\n",
    ")\n",
    "\n",
    "dataset['nl_machine_gt'] = (\n",
    "    \"Order information\\n\" + dataset['nl'] + \"\\n\\n\" +\n",
    "    \"Machine information\\n\" + dataset['machine'] + \"\\n\\n\" +\n",
    "    \"Schedule result\\n\" + dataset['gt']\n",
    ")\n",
    "\n",
    "dataset['order_machine'] = (\n",
    "    \"Order information\\n\" + dataset['order'] + \"\\n\\n\" +\n",
    "    \"Machine information\\n\" + dataset['machine']\n",
    ")\n",
    "\n",
    "dataset['order_machine_gt'] = (\n",
    "    \"Order information\\n\" + dataset['order'] + \"\\n\\n\" +\n",
    "    \"Machine information\\n\" + dataset['machine'] + \"\\n\\n\" +\n",
    "    \"Schedule result\\n\" + dataset['gt']\n",
    ")\n",
    "\n",
    "dataset['order_machine_join'] = order_machine_join\n",
    "\n",
    "dataset['order_machine_join_gt'] = (\n",
    "    \"Order and machine information\\n\" + dataset['order_machine_join'] + \"\\n\\n\" +\n",
    "    \"Schedule result\\n\" + dataset['gt']\n",
    ")\n",
    "\n",
    "dataset.head()"
   ]
  },
  {
   "cell_type": "code",
   "execution_count": 126,
   "id": "6b285726",
   "metadata": {},
   "outputs": [
    {
     "name": "stdout",
     "output_type": "stream",
     "text": [
      "Order information\n",
      "• date133 item15 25870 1 318\n",
      "• date133 item15 25870 1 318\n",
      "• date133 item15 25870 1 318\n",
      "• date133 item15 25870 1 318\n",
      "• date133 item15 25870 1 318\n",
      "• date133 item15 25870 1 318\n",
      "• date133 item15 25870 1 318\n",
      "• date133 item15 25870 1 318\n",
      "• date133 item15 25870 1 318\n",
      "• date133 item15 25870 1 318\n",
      "• date133 item15 25870 1 318\n",
      "• date133 item15 25870 1 318\n",
      "• date133 item15 25870 1 318\n",
      "• date133 item15 25870 1 318\n",
      "• date133 item15 25870 1 318\n",
      "• date133 item15 25870 1 318\n",
      "• date133 item15 25870 1 318\n",
      "• date133 item15 25870 1 318\n",
      "• date144 item16 16229 1 383\n",
      "• date144 item16 16229 1 383\n",
      "• date144 item16 16229 1 383\n",
      "• date144 item16 16229 1 383\n",
      "• date144 item16 16229 1 383\n",
      "• date144 item16 16229 1 383\n",
      "• date144 item16 16229 1 383\n",
      "• date144 item16 16229 1 383\n",
      "• date144 item16 16229 1 383\n",
      "• date144 item16 16229 1 383\n",
      "• date144 item16 16229 1 383\n",
      "• date144 item16 16229 1 383\n",
      "• date144 item16 16229 1 383\n",
      "• date150 item96 8333 0 19\n",
      "• date150 item96 8333 0 19\n",
      "• date150 item96 8333 0 19\n",
      "• date150 item96 8333 0 19\n",
      "• date150 item96 8333 0 19\n",
      "• date150 item96 8333 0 19\n",
      "• date150 item96 8333 0 19\n",
      "• date150 item96 8333 0 19\n",
      "• date150 item96 8333 0 19\n",
      "• date150 item96 8333 0 19\n",
      "• date150 item96 8333 0 19\n",
      "• date150 item96 8333 0 19\n",
      "• date150 item96 8333 0 19\n",
      "• date154 item91 36533 0 4\n",
      "• date154 item91 36533 0 4\n",
      "• date154 item91 36533 0 4\n",
      "• date154 item91 36533 0 4\n",
      "• date154 item91 36533 0 4\n",
      "• date154 item91 36533 0 4\n",
      "• date154 item91 36533 0 4\n",
      "• date154 item91 36533 0 4\n",
      "• date154 item91 36533 0 4\n",
      "• date169 item87 45500 1 196\n",
      "• date169 item87 45500 1 196\n",
      "• date169 item87 45500 1 196\n",
      "• date169 item87 45500 1 196\n",
      "• date169 item87 45500 1 196\n",
      "• date169 item87 45500 1 196\n",
      "• date169 item87 45500 1 196\n",
      "• date169 item87 45500 1 196\n",
      "• date169 item87 45500 1 196\n",
      "• date169 item87 45500 1 196\n",
      "\n",
      "Machine information\n",
      "• item15 machine14 11.23\n",
      "• item16 machine09 5.37\n",
      "• item16 machine29 3.86\n",
      "• item16 machine23 6.25\n",
      "• item96 machine29 7.12\n",
      "• item87 machine17 12.0\n",
      "• item15 machine12 12.32\n",
      "• item16 machine31 4.53\n",
      "• item96 machine09 5.92\n",
      "• item16 machine30 3.8\n",
      "• item91 machine28 4.33\n",
      "• item96 machine08 4.89\n",
      "• item15 machine21 9.87\n",
      "• item96 machine21 4.6\n",
      "• item16 machine07 4.85\n",
      "• item87 machine33 6.9\n",
      "• item87 machine19 10.0\n",
      "• item15 machine30 9.0\n",
      "• item96 machine22 4.54\n",
      "• item91 machine10 5.32\n",
      "• item15 machine35 9.4\n",
      "• item15 machine09 10.33\n",
      "• item15 machine10 8.99\n",
      "• item96 machine14 1.03\n",
      "• item91 machine29 5.32\n",
      "• item87 machine03 6.5\n",
      "• item91 machine09 4.03\n",
      "• item15 machine28 9.54\n",
      "• item91 machine34 5.25\n",
      "• item15 machine07 8.69\n",
      "• item91 machine21 4.8\n",
      "• item96 machine35 1.83\n",
      "• item15 machine05 10.42\n",
      "• item15 machine33 4.4\n",
      "• item16 machine14 2.73\n",
      "• item16 machine10 3.09\n",
      "• item16 machine08 3.83\n",
      "• item96 machine12 3.5\n",
      "• item91 machine35 4.5\n",
      "• item91 machine14 4.0\n",
      "• item15 machine29 13.05\n",
      "• item15 machine08 9.12\n",
      "• item96 machine34 3.0\n",
      "• item96 machine23 3.83\n",
      "• item87 machine32 5.49\n",
      "• item96 machine30 1.32\n",
      "• item16 machine21 3.94\n",
      "• item87 machine01 5.88\n",
      "• item96 machine28 4.64\n",
      "• item91 machine08 4.42\n",
      "• item87 machine05 11.64\n",
      "• item15 machine04 12.84\n",
      "• item15 machine34 12.47\n",
      "• item87 machine18 11.82\n",
      "• item87 machine21 7.85\n",
      "• item16 machine22 5.47\n",
      "• item16 machine28 3.37\n",
      "• item15 machine31 9.0\n",
      "• item96 machine10 4.91\n",
      "• item15 machine20 4.0\n",
      "• item15 machine23 11.77\n",
      "• item16 machine35 3.85\n",
      "• item87 machine20 11.37\n",
      "\n",
      "Schedule result\n",
      "• item15 machine04 date133 35\n",
      "• item15 machine07 date133 47\n",
      "• item15 machine10 date133 45\n",
      "• item15 machine14 date133 17\n",
      "• item15 machine30 date133 9\n",
      "• item15 machine33 date133 131\n",
      "• item16 machine10 date144 113\n",
      "• item16 machine14 date144 196\n",
      "• item16 machine21 date144 18\n",
      "• item16 machine28 date144 39\n",
      "• item96 machine08 date150 9\n",
      "• item96 machine09 date150 4\n",
      "• item96 machine10 date150 1\n",
      "• item96 machine12 date150 8\n",
      "• item96 machine14 date150 11\n",
      "• item96 machine21 date150 8\n",
      "• item96 machine22 date150 18\n",
      "• item96 machine23 date150 5\n",
      "• item96 machine28 date150 5\n",
      "• item96 machine29 date150 5\n",
      "• item96 machine30 date150 11\n",
      "• item96 machine34 date150 7\n",
      "• item96 machine35 date150 4\n",
      "• item91 machine08 date154 2\n",
      "• item91 machine10 date154 1\n",
      "• item91 machine14 date154 1\n",
      "• item91 machine28 date154 3\n",
      "• item91 machine29 date154 2\n",
      "• item91 machine34 date154 4\n",
      "• item91 machine35 date154 1\n",
      "• item87 machine03 date169 83\n",
      "• item87 machine21 date169 16\n",
      "• item87 machine32 date169 54\n",
      "• item87 machine33 date169 29\n"
     ]
    }
   ],
   "source": [
    "print(dataset.iloc[0, -3])"
   ]
  },
  {
   "cell_type": "code",
   "execution_count": 127,
   "id": "ef858ad0",
   "metadata": {},
   "outputs": [],
   "source": [
    "dataset.to_csv('./dataset_n5_20250526.csv')"
   ]
  },
  {
   "cell_type": "code",
   "execution_count": null,
   "id": "2dafae24",
   "metadata": {},
   "outputs": [],
   "source": []
  }
 ],
 "metadata": {
  "kernelspec": {
   "display_name": "Python (aidall_3_9_7)",
   "language": "python",
   "name": "aidall_3_9_7"
  },
  "language_info": {
   "codemirror_mode": {
    "name": "ipython",
    "version": 3
   },
   "file_extension": ".py",
   "mimetype": "text/x-python",
   "name": "python",
   "nbconvert_exporter": "python",
   "pygments_lexer": "ipython3",
   "version": "3.9.7"
  }
 },
 "nbformat": 4,
 "nbformat_minor": 5
}
